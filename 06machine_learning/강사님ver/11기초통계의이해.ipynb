{
 "cells": [
  {
   "cell_type": "code",
   "execution_count": 1,
   "id": "b70049be",
   "metadata": {},
   "outputs": [],
   "source": [
    "import pandas as pd\n",
    "import numpy as np\n",
    "import matplotlib.pyplot as plt\n",
    "import seaborn as sns\n",
    "import math"
   ]
  },
  {
   "cell_type": "markdown",
   "id": "a3c2f0d8",
   "metadata": {},
   "source": [
    "# 기초 통계 개념정리"
   ]
  },
  {
   "cell_type": "markdown",
   "id": "c31e8bc6",
   "metadata": {},
   "source": [
    "## 1) 대푯값: 데이터의 중심을 나타내는 값\n",
    "* 평균(mean) \n",
    "* 중앙값(median)\n",
    "* 최빈값(mode)"
   ]
  },
  {
   "cell_type": "markdown",
   "id": "bf0dda17",
   "metadata": {},
   "source": [
    "### (1) 평균(mean) $ \\mu $\n",
    "* 모든 값의 총합을 값의 개수로 나눈 값\n",
    "* 극단적인 값(이상값/아웃라이어)이 있는 경우 평균에 영향을 미친다.\n",
    "* 모집단의 평균 $ \\mu $ : \n",
    "* 표본집단의 평균 $ \\bar{x} $\n",
    "<br>\n",
    "$$ 모평균: \\mu = {\\sum_{i=1}^N x_i \\over n}  $$\n",
    "$$ 표본평균: \\bar{x} = {\\sum_{i=1}^N x_i \\over n}  $$"
   ]
  },
  {
   "cell_type": "code",
   "execution_count": 3,
   "id": "50a30358",
   "metadata": {},
   "outputs": [],
   "source": [
    "a = pd.DataFrame([2,3,3,4,4,5,7,7,7,8], columns=['표본'])"
   ]
  },
  {
   "cell_type": "code",
   "execution_count": 4,
   "id": "8578ea03",
   "metadata": {},
   "outputs": [
    {
     "data": {
      "text/plain": [
       "표본    5.0\n",
       "dtype: float64"
      ]
     },
     "execution_count": 4,
     "metadata": {},
     "output_type": "execute_result"
    }
   ],
   "source": [
    "# 평균\n",
    "a.mean()"
   ]
  },
  {
   "cell_type": "markdown",
   "id": "95ec0dd1",
   "metadata": {},
   "source": [
    "### (2) 중앙값(median)\n",
    "* 모든 데이터를 큰 순서대로 나열할 때 가운데 있는 값\n",
    "* 데이터의 개수가 홀수일 때는 정중앙의 값\n",
    "* 데이터의 개수가 짝수일 때는 정중앙 2개 수의 평균값\n",
    "* 이상치가 있어도 영향을 받지 않는다"
   ]
  },
  {
   "cell_type": "code",
   "execution_count": 5,
   "id": "cf23431c",
   "metadata": {},
   "outputs": [
    {
     "data": {
      "text/html": [
       "<div>\n",
       "<style scoped>\n",
       "    .dataframe tbody tr th:only-of-type {\n",
       "        vertical-align: middle;\n",
       "    }\n",
       "\n",
       "    .dataframe tbody tr th {\n",
       "        vertical-align: top;\n",
       "    }\n",
       "\n",
       "    .dataframe thead th {\n",
       "        text-align: right;\n",
       "    }\n",
       "</style>\n",
       "<table border=\"1\" class=\"dataframe\">\n",
       "  <thead>\n",
       "    <tr style=\"text-align: right;\">\n",
       "      <th></th>\n",
       "      <th>0</th>\n",
       "      <th>1</th>\n",
       "      <th>2</th>\n",
       "      <th>3</th>\n",
       "      <th>4</th>\n",
       "      <th>5</th>\n",
       "      <th>6</th>\n",
       "      <th>7</th>\n",
       "      <th>8</th>\n",
       "      <th>9</th>\n",
       "    </tr>\n",
       "  </thead>\n",
       "  <tbody>\n",
       "    <tr>\n",
       "      <th>표본</th>\n",
       "      <td>2</td>\n",
       "      <td>3</td>\n",
       "      <td>3</td>\n",
       "      <td>4</td>\n",
       "      <td>4</td>\n",
       "      <td>5</td>\n",
       "      <td>7</td>\n",
       "      <td>7</td>\n",
       "      <td>7</td>\n",
       "      <td>8</td>\n",
       "    </tr>\n",
       "  </tbody>\n",
       "</table>\n",
       "</div>"
      ],
      "text/plain": [
       "    0  1  2  3  4  5  6  7  8  9\n",
       "표본  2  3  3  4  4  5  7  7  7  8"
      ]
     },
     "execution_count": 5,
     "metadata": {},
     "output_type": "execute_result"
    }
   ],
   "source": [
    "a.T"
   ]
  },
  {
   "cell_type": "code",
   "execution_count": 6,
   "id": "e74a4596",
   "metadata": {},
   "outputs": [
    {
     "data": {
      "text/plain": [
       "표본    4.5\n",
       "dtype: float64"
      ]
     },
     "execution_count": 6,
     "metadata": {},
     "output_type": "execute_result"
    }
   ],
   "source": [
    "# 중앙값\n",
    "a.median()"
   ]
  },
  {
   "cell_type": "code",
   "execution_count": 7,
   "id": "3e5a85e7",
   "metadata": {},
   "outputs": [],
   "source": [
    "b = a.copy()"
   ]
  },
  {
   "cell_type": "code",
   "execution_count": 8,
   "id": "f00ab8fd",
   "metadata": {},
   "outputs": [
    {
     "data": {
      "text/html": [
       "<div>\n",
       "<style scoped>\n",
       "    .dataframe tbody tr th:only-of-type {\n",
       "        vertical-align: middle;\n",
       "    }\n",
       "\n",
       "    .dataframe tbody tr th {\n",
       "        vertical-align: top;\n",
       "    }\n",
       "\n",
       "    .dataframe thead th {\n",
       "        text-align: right;\n",
       "    }\n",
       "</style>\n",
       "<table border=\"1\" class=\"dataframe\">\n",
       "  <thead>\n",
       "    <tr style=\"text-align: right;\">\n",
       "      <th></th>\n",
       "      <th>표본</th>\n",
       "    </tr>\n",
       "  </thead>\n",
       "  <tbody>\n",
       "    <tr>\n",
       "      <th>1</th>\n",
       "      <td>3</td>\n",
       "    </tr>\n",
       "    <tr>\n",
       "      <th>2</th>\n",
       "      <td>3</td>\n",
       "    </tr>\n",
       "    <tr>\n",
       "      <th>3</th>\n",
       "      <td>4</td>\n",
       "    </tr>\n",
       "    <tr>\n",
       "      <th>4</th>\n",
       "      <td>4</td>\n",
       "    </tr>\n",
       "    <tr>\n",
       "      <th>5</th>\n",
       "      <td>5</td>\n",
       "    </tr>\n",
       "    <tr>\n",
       "      <th>6</th>\n",
       "      <td>7</td>\n",
       "    </tr>\n",
       "    <tr>\n",
       "      <th>7</th>\n",
       "      <td>7</td>\n",
       "    </tr>\n",
       "    <tr>\n",
       "      <th>8</th>\n",
       "      <td>7</td>\n",
       "    </tr>\n",
       "    <tr>\n",
       "      <th>9</th>\n",
       "      <td>8</td>\n",
       "    </tr>\n",
       "  </tbody>\n",
       "</table>\n",
       "</div>"
      ],
      "text/plain": [
       "   표본\n",
       "1   3\n",
       "2   3\n",
       "3   4\n",
       "4   4\n",
       "5   5\n",
       "6   7\n",
       "7   7\n",
       "8   7\n",
       "9   8"
      ]
     },
     "execution_count": 8,
     "metadata": {},
     "output_type": "execute_result"
    }
   ],
   "source": [
    "b.drop(0, inplace=True)\n",
    "b"
   ]
  },
  {
   "cell_type": "code",
   "execution_count": 9,
   "id": "bd720ddc",
   "metadata": {},
   "outputs": [
    {
     "data": {
      "text/html": [
       "<div>\n",
       "<style scoped>\n",
       "    .dataframe tbody tr th:only-of-type {\n",
       "        vertical-align: middle;\n",
       "    }\n",
       "\n",
       "    .dataframe tbody tr th {\n",
       "        vertical-align: top;\n",
       "    }\n",
       "\n",
       "    .dataframe thead th {\n",
       "        text-align: right;\n",
       "    }\n",
       "</style>\n",
       "<table border=\"1\" class=\"dataframe\">\n",
       "  <thead>\n",
       "    <tr style=\"text-align: right;\">\n",
       "      <th></th>\n",
       "      <th>1</th>\n",
       "      <th>2</th>\n",
       "      <th>3</th>\n",
       "      <th>4</th>\n",
       "      <th>5</th>\n",
       "      <th>6</th>\n",
       "      <th>7</th>\n",
       "      <th>8</th>\n",
       "      <th>9</th>\n",
       "    </tr>\n",
       "  </thead>\n",
       "  <tbody>\n",
       "    <tr>\n",
       "      <th>표본</th>\n",
       "      <td>3</td>\n",
       "      <td>3</td>\n",
       "      <td>4</td>\n",
       "      <td>4</td>\n",
       "      <td>5</td>\n",
       "      <td>7</td>\n",
       "      <td>7</td>\n",
       "      <td>7</td>\n",
       "      <td>8</td>\n",
       "    </tr>\n",
       "  </tbody>\n",
       "</table>\n",
       "</div>"
      ],
      "text/plain": [
       "    1  2  3  4  5  6  7  8  9\n",
       "표본  3  3  4  4  5  7  7  7  8"
      ]
     },
     "execution_count": 9,
     "metadata": {},
     "output_type": "execute_result"
    }
   ],
   "source": [
    "b.T"
   ]
  },
  {
   "cell_type": "code",
   "execution_count": 10,
   "id": "419fd25e",
   "metadata": {},
   "outputs": [
    {
     "data": {
      "text/plain": [
       "표본    5.0\n",
       "dtype: float64"
      ]
     },
     "execution_count": 10,
     "metadata": {},
     "output_type": "execute_result"
    }
   ],
   "source": [
    "b.median()"
   ]
  },
  {
   "cell_type": "markdown",
   "id": "f14d6166",
   "metadata": {},
   "source": [
    "### (3) 최빈값(mode)\n",
    "* 표본에서 가장 많이 등장하는 값\n",
    "* 최빈값도 극단값에 영향을 받지 않음"
   ]
  },
  {
   "cell_type": "code",
   "execution_count": 11,
   "id": "a2aa2a4c",
   "metadata": {},
   "outputs": [
    {
     "data": {
      "text/html": [
       "<div>\n",
       "<style scoped>\n",
       "    .dataframe tbody tr th:only-of-type {\n",
       "        vertical-align: middle;\n",
       "    }\n",
       "\n",
       "    .dataframe tbody tr th {\n",
       "        vertical-align: top;\n",
       "    }\n",
       "\n",
       "    .dataframe thead th {\n",
       "        text-align: right;\n",
       "    }\n",
       "</style>\n",
       "<table border=\"1\" class=\"dataframe\">\n",
       "  <thead>\n",
       "    <tr style=\"text-align: right;\">\n",
       "      <th></th>\n",
       "      <th>표본</th>\n",
       "    </tr>\n",
       "  </thead>\n",
       "  <tbody>\n",
       "    <tr>\n",
       "      <th>0</th>\n",
       "      <td>7</td>\n",
       "    </tr>\n",
       "  </tbody>\n",
       "</table>\n",
       "</div>"
      ],
      "text/plain": [
       "   표본\n",
       "0   7"
      ]
     },
     "execution_count": 11,
     "metadata": {},
     "output_type": "execute_result"
    }
   ],
   "source": [
    "a.mode()"
   ]
  },
  {
   "cell_type": "markdown",
   "id": "59db2dd9",
   "metadata": {},
   "source": [
    "### (4) 산술평균 / 기하평균\n",
    "* 산술평균(덧셈의 평균): 모든 데이터의 합계 / 데이터 수\n",
    "* 기하평균(곱셈의 평균): 모든 데이터의 곱의 n 제곱근 - 증가율의 평균을 계산할 때 사용"
   ]
  },
  {
   "cell_type": "code",
   "execution_count": 12,
   "id": "90b1baf0",
   "metadata": {},
   "outputs": [
    {
     "data": {
      "text/html": [
       "<div>\n",
       "<style scoped>\n",
       "    .dataframe tbody tr th:only-of-type {\n",
       "        vertical-align: middle;\n",
       "    }\n",
       "\n",
       "    .dataframe tbody tr th {\n",
       "        vertical-align: top;\n",
       "    }\n",
       "\n",
       "    .dataframe thead th {\n",
       "        text-align: right;\n",
       "    }\n",
       "</style>\n",
       "<table border=\"1\" class=\"dataframe\">\n",
       "  <thead>\n",
       "    <tr style=\"text-align: right;\">\n",
       "      <th></th>\n",
       "      <th>0</th>\n",
       "      <th>1</th>\n",
       "      <th>2</th>\n",
       "      <th>3</th>\n",
       "      <th>4</th>\n",
       "      <th>5</th>\n",
       "      <th>6</th>\n",
       "      <th>7</th>\n",
       "      <th>8</th>\n",
       "      <th>9</th>\n",
       "    </tr>\n",
       "  </thead>\n",
       "  <tbody>\n",
       "    <tr>\n",
       "      <th>표본</th>\n",
       "      <td>2</td>\n",
       "      <td>3</td>\n",
       "      <td>3</td>\n",
       "      <td>4</td>\n",
       "      <td>4</td>\n",
       "      <td>5</td>\n",
       "      <td>7</td>\n",
       "      <td>7</td>\n",
       "      <td>7</td>\n",
       "      <td>8</td>\n",
       "    </tr>\n",
       "  </tbody>\n",
       "</table>\n",
       "</div>"
      ],
      "text/plain": [
       "    0  1  2  3  4  5  6  7  8  9\n",
       "표본  2  3  3  4  4  5  7  7  7  8"
      ]
     },
     "execution_count": 12,
     "metadata": {},
     "output_type": "execute_result"
    }
   ],
   "source": [
    "a.T"
   ]
  },
  {
   "cell_type": "code",
   "execution_count": 13,
   "id": "eb539ab6",
   "metadata": {},
   "outputs": [
    {
     "name": "stdout",
     "output_type": "stream",
     "text": [
      "표본    5.0\n",
      "dtype: float64\n",
      "a의 산술평균: 5.0\n"
     ]
    }
   ],
   "source": [
    "# 산술평균\n",
    "# (2+3+3+4+4+5+7+7+7+8) /10\n",
    "print(a.mean())\n",
    "print(\"a의 산술평균:\", (2+3+3+4+4+5+7+7+7+8) /10)"
   ]
  },
  {
   "cell_type": "code",
   "execution_count": 14,
   "id": "ad2e91dc",
   "metadata": {},
   "outputs": [
    {
     "data": {
      "text/plain": [
       "4.567459024554638"
      ]
     },
     "execution_count": 14,
     "metadata": {},
     "output_type": "execute_result"
    }
   ],
   "source": [
    "# 기하평균\n",
    "math.pow((2*3*3*4*4*5*7*7*7*8), 1/10)"
   ]
  },
  {
   "cell_type": "code",
   "execution_count": 15,
   "id": "ec3f8da6",
   "metadata": {},
   "outputs": [
    {
     "name": "stdout",
     "output_type": "stream",
     "text": [
      "기하평균: 4.567459024554637\n"
     ]
    }
   ],
   "source": [
    "from scipy.stats import gmean\n",
    "geometric_mean = gmean(a['표본'])\n",
    "print(\"기하평균:\", geometric_mean)"
   ]
  },
  {
   "cell_type": "markdown",
   "id": "8c9bfd3a",
   "metadata": {},
   "source": [
    "2020년에 7%, 2021년에 35%, 2022년에 40%, 2023년에 69%의 매출 증가가 있었다면 4년간 평균 매출 증가율은?"
   ]
  },
  {
   "cell_type": "code",
   "execution_count": 16,
   "id": "1ed7d0cf",
   "metadata": {},
   "outputs": [
    {
     "name": "stdout",
     "output_type": "stream",
     "text": [
      "산술평균: 37.75\n",
      "기하평균: 28.67601451933219\n"
     ]
    }
   ],
   "source": [
    "print('산술평균:', pd.Series([7, 35, 40, 69]).mean())\n",
    "print('기하평균:', gmean([7, 35, 40, 69]))"
   ]
  },
  {
   "cell_type": "markdown",
   "id": "b904731f",
   "metadata": {},
   "source": [
    "## 2) 도수 분포표와 히스토그램\n",
    "### (1) 도수분포표\n",
    "* 주어진 데이터를 일정한 범위로 나누고 그 범위에 출현하는 데이터 개수를 조사해 나타낸 표\n",
    "* 데이터의 구간 폭을 '계급'(class), 각 계급에 속하는 데이터 개수를 '도수'라고 한다.\n",
    "* 각 계급의 중앙값을 '계급값'이라 한다.\n",
    "* 도수분포표에서 도수가 큰 것을 '출현 횟수가 많다'고 하고\n",
    "* 가장 도수가 큰 계급의 계급값을 '최빈값'이라고 한다."
   ]
  },
  {
   "cell_type": "code",
   "execution_count": 17,
   "id": "5829c01e",
   "metadata": {},
   "outputs": [],
   "source": [
    "# 타이타닉 데이터 로딩\n",
    "data = pd.read_csv(\"https://raw.githubusercontent.com/haram4th/ablearn/main/Taitanic_train.csv\")"
   ]
  },
  {
   "cell_type": "code",
   "execution_count": 18,
   "id": "4af63614",
   "metadata": {},
   "outputs": [
    {
     "data": {
      "text/html": [
       "<div>\n",
       "<style scoped>\n",
       "    .dataframe tbody tr th:only-of-type {\n",
       "        vertical-align: middle;\n",
       "    }\n",
       "\n",
       "    .dataframe tbody tr th {\n",
       "        vertical-align: top;\n",
       "    }\n",
       "\n",
       "    .dataframe thead th {\n",
       "        text-align: right;\n",
       "    }\n",
       "</style>\n",
       "<table border=\"1\" class=\"dataframe\">\n",
       "  <thead>\n",
       "    <tr style=\"text-align: right;\">\n",
       "      <th></th>\n",
       "      <th>Age</th>\n",
       "    </tr>\n",
       "  </thead>\n",
       "  <tbody>\n",
       "    <tr>\n",
       "      <th>0</th>\n",
       "      <td>22.0</td>\n",
       "    </tr>\n",
       "    <tr>\n",
       "      <th>1</th>\n",
       "      <td>38.0</td>\n",
       "    </tr>\n",
       "    <tr>\n",
       "      <th>2</th>\n",
       "      <td>26.0</td>\n",
       "    </tr>\n",
       "    <tr>\n",
       "      <th>3</th>\n",
       "      <td>35.0</td>\n",
       "    </tr>\n",
       "    <tr>\n",
       "      <th>4</th>\n",
       "      <td>35.0</td>\n",
       "    </tr>\n",
       "    <tr>\n",
       "      <th>...</th>\n",
       "      <td>...</td>\n",
       "    </tr>\n",
       "    <tr>\n",
       "      <th>886</th>\n",
       "      <td>27.0</td>\n",
       "    </tr>\n",
       "    <tr>\n",
       "      <th>887</th>\n",
       "      <td>19.0</td>\n",
       "    </tr>\n",
       "    <tr>\n",
       "      <th>888</th>\n",
       "      <td>NaN</td>\n",
       "    </tr>\n",
       "    <tr>\n",
       "      <th>889</th>\n",
       "      <td>26.0</td>\n",
       "    </tr>\n",
       "    <tr>\n",
       "      <th>890</th>\n",
       "      <td>32.0</td>\n",
       "    </tr>\n",
       "  </tbody>\n",
       "</table>\n",
       "<p>891 rows × 1 columns</p>\n",
       "</div>"
      ],
      "text/plain": [
       "      Age\n",
       "0    22.0\n",
       "1    38.0\n",
       "2    26.0\n",
       "3    35.0\n",
       "4    35.0\n",
       "..    ...\n",
       "886  27.0\n",
       "887  19.0\n",
       "888   NaN\n",
       "889  26.0\n",
       "890  32.0\n",
       "\n",
       "[891 rows x 1 columns]"
      ]
     },
     "execution_count": 18,
     "metadata": {},
     "output_type": "execute_result"
    }
   ],
   "source": [
    "# 나이  컬럼만 가져오기\n",
    "ages = data[['Age']]\n",
    "ages"
   ]
  },
  {
   "cell_type": "code",
   "execution_count": 20,
   "id": "9cf78be9",
   "metadata": {},
   "outputs": [
    {
     "data": {
      "text/plain": [
       "Age  \n",
       "24.00    30\n",
       "22.00    27\n",
       "18.00    26\n",
       "30.00    25\n",
       "28.00    25\n",
       "         ..\n",
       "20.50     1\n",
       "14.50     1\n",
       "12.00     1\n",
       "0.92      1\n",
       "80.00     1\n",
       "Name: count, Length: 88, dtype: int64"
      ]
     },
     "execution_count": 20,
     "metadata": {},
     "output_type": "execute_result"
    }
   ],
   "source": [
    "# value_counts로 도수분포표 만들기\n",
    "ages.value_counts()"
   ]
  },
  {
   "cell_type": "code",
   "execution_count": 21,
   "id": "63214bf2",
   "metadata": {},
   "outputs": [
    {
     "data": {
      "text/html": [
       "<div>\n",
       "<style scoped>\n",
       "    .dataframe tbody tr th:only-of-type {\n",
       "        vertical-align: middle;\n",
       "    }\n",
       "\n",
       "    .dataframe tbody tr th {\n",
       "        vertical-align: top;\n",
       "    }\n",
       "\n",
       "    .dataframe thead th {\n",
       "        text-align: right;\n",
       "    }\n",
       "</style>\n",
       "<table border=\"1\" class=\"dataframe\">\n",
       "  <thead>\n",
       "    <tr style=\"text-align: right;\">\n",
       "      <th></th>\n",
       "      <th>Age</th>\n",
       "    </tr>\n",
       "  </thead>\n",
       "  <tbody>\n",
       "    <tr>\n",
       "      <th>count</th>\n",
       "      <td>714.000000</td>\n",
       "    </tr>\n",
       "    <tr>\n",
       "      <th>mean</th>\n",
       "      <td>29.699118</td>\n",
       "    </tr>\n",
       "    <tr>\n",
       "      <th>std</th>\n",
       "      <td>14.526497</td>\n",
       "    </tr>\n",
       "    <tr>\n",
       "      <th>min</th>\n",
       "      <td>0.420000</td>\n",
       "    </tr>\n",
       "    <tr>\n",
       "      <th>25%</th>\n",
       "      <td>20.125000</td>\n",
       "    </tr>\n",
       "    <tr>\n",
       "      <th>50%</th>\n",
       "      <td>28.000000</td>\n",
       "    </tr>\n",
       "    <tr>\n",
       "      <th>75%</th>\n",
       "      <td>38.000000</td>\n",
       "    </tr>\n",
       "    <tr>\n",
       "      <th>max</th>\n",
       "      <td>80.000000</td>\n",
       "    </tr>\n",
       "  </tbody>\n",
       "</table>\n",
       "</div>"
      ],
      "text/plain": [
       "              Age\n",
       "count  714.000000\n",
       "mean    29.699118\n",
       "std     14.526497\n",
       "min      0.420000\n",
       "25%     20.125000\n",
       "50%     28.000000\n",
       "75%     38.000000\n",
       "max     80.000000"
      ]
     },
     "execution_count": 21,
     "metadata": {},
     "output_type": "execute_result"
    }
   ],
   "source": [
    "ages.describe()"
   ]
  },
  {
   "cell_type": "code",
   "execution_count": 22,
   "id": "7a8177c7",
   "metadata": {},
   "outputs": [
    {
     "name": "stdout",
     "output_type": "stream",
     "text": [
      "under10s     62\n",
      "10s         102\n",
      "20s         220\n",
      "30s         167\n",
      "40s          89\n",
      "50s          48\n",
      "60s          19\n",
      "70s           6\n",
      "80s           1\n",
      "Name: count, dtype: int64\n"
     ]
    },
    {
     "data": {
      "text/plain": [
       "<Axes: >"
      ]
     },
     "execution_count": 22,
     "metadata": {},
     "output_type": "execute_result"
    },
    {
     "data": {
      "image/png": "[encoded data removed]",
      "text/plain": [
       "<Figure size 640x480 with 1 Axes>"
      ]
     },
     "metadata": {},
     "output_type": "display_data"
    }
   ],
   "source": [
    "# 계급 구간을 10단위로 계급을 나누어 도수분포표 만들고\n",
    "# 도수분포표를 시각화한 히스토그램 그려보기\n",
    "# 도수분포표(Frequency Distribution Table)\n",
    "bins = (0, 10, 20, 30, 40, 50, 60, 70, 80, 90)\n",
    "labels = ('under10s', '10s', '20s', '30s', '40s', '50s', '60s', '70s', '80s')\n",
    "fdt = pd.cut(ages['Age'].values, bins=bins, labels=labels, right=False)\n",
    "print(fdt.value_counts()) # age 컬럼의 도수분포표\n",
    "fdt.value_counts().plot(kind='bar')"
   ]
  },
  {
   "cell_type": "code",
   "execution_count": 23,
   "id": "8c2471a5",
   "metadata": {},
   "outputs": [
    {
     "data": {
      "text/plain": [
       "<Axes: xlabel='Age', ylabel='Count'>"
      ]
     },
     "execution_count": 23,
     "metadata": {},
     "output_type": "execute_result"
    },
    {
     "data": {
      "image/png": "[encoded data removed]",
      "text/plain": [
       "<Figure size 640x480 with 1 Axes>"
      ]
     },
     "metadata": {},
     "output_type": "display_data"
    }
   ],
   "source": [
    "sns.histplot(ages['Age'], bins=bins)"
   ]
  },
  {
   "cell_type": "markdown",
   "id": "70cf3403",
   "metadata": {},
   "source": [
    "### (2) 상대도수분포표(Relative Freqeuncy Distribution Table)\n",
    "* 상대도수: 계급의 도수 / 전체 도수의 합계, 어떤 계급의 도수가 전체 도수에서 몇 %를 차지하는지 나타내는 값\n",
    "* 상대도수분포표: 모든 계급의 상대도수를 구해서 더한 것"
   ]
  },
  {
   "cell_type": "code",
   "execution_count": 24,
   "id": "0d5fab5a",
   "metadata": {},
   "outputs": [
    {
     "data": {
      "text/plain": [
       "under10s     62\n",
       "10s         102\n",
       "20s         220\n",
       "30s         167\n",
       "40s          89\n",
       "50s          48\n",
       "60s          19\n",
       "70s           6\n",
       "80s           1\n",
       "Name: count, dtype: int64"
      ]
     },
     "execution_count": 24,
     "metadata": {},
     "output_type": "execute_result"
    }
   ],
   "source": [
    "fdt.value_counts()"
   ]
  },
  {
   "cell_type": "code",
   "execution_count": 25,
   "id": "f601d762",
   "metadata": {
    "scrolled": true
   },
   "outputs": [
    {
     "data": {
      "text/html": [
       "<div>\n",
       "<style scoped>\n",
       "    .dataframe tbody tr th:only-of-type {\n",
       "        vertical-align: middle;\n",
       "    }\n",
       "\n",
       "    .dataframe tbody tr th {\n",
       "        vertical-align: top;\n",
       "    }\n",
       "\n",
       "    .dataframe thead th {\n",
       "        text-align: right;\n",
       "    }\n",
       "</style>\n",
       "<table border=\"1\" class=\"dataframe\">\n",
       "  <thead>\n",
       "    <tr style=\"text-align: right;\">\n",
       "      <th></th>\n",
       "      <th>count</th>\n",
       "    </tr>\n",
       "  </thead>\n",
       "  <tbody>\n",
       "    <tr>\n",
       "      <th>under10s</th>\n",
       "      <td>62</td>\n",
       "    </tr>\n",
       "    <tr>\n",
       "      <th>10s</th>\n",
       "      <td>102</td>\n",
       "    </tr>\n",
       "    <tr>\n",
       "      <th>20s</th>\n",
       "      <td>220</td>\n",
       "    </tr>\n",
       "    <tr>\n",
       "      <th>30s</th>\n",
       "      <td>167</td>\n",
       "    </tr>\n",
       "    <tr>\n",
       "      <th>40s</th>\n",
       "      <td>89</td>\n",
       "    </tr>\n",
       "    <tr>\n",
       "      <th>50s</th>\n",
       "      <td>48</td>\n",
       "    </tr>\n",
       "    <tr>\n",
       "      <th>60s</th>\n",
       "      <td>19</td>\n",
       "    </tr>\n",
       "    <tr>\n",
       "      <th>70s</th>\n",
       "      <td>6</td>\n",
       "    </tr>\n",
       "    <tr>\n",
       "      <th>80s</th>\n",
       "      <td>1</td>\n",
       "    </tr>\n",
       "  </tbody>\n",
       "</table>\n",
       "</div>"
      ],
      "text/plain": [
       "          count\n",
       "under10s     62\n",
       "10s         102\n",
       "20s         220\n",
       "30s         167\n",
       "40s          89\n",
       "50s          48\n",
       "60s          19\n",
       "70s           6\n",
       "80s           1"
      ]
     },
     "execution_count": 25,
     "metadata": {},
     "output_type": "execute_result"
    }
   ],
   "source": [
    "fdt_df = pd.DataFrame(fdt.value_counts())\n",
    "fdt_df"
   ]
  },
  {
   "cell_type": "code",
   "execution_count": null,
   "id": "64032afc",
   "metadata": {},
   "outputs": [],
   "source": [
    "# 상대도수분표표 만들기 \n",
    "# 상대도수: 계급의 도수 / 전체 도수의 합계"
   ]
  },
  {
   "cell_type": "code",
   "execution_count": 26,
   "id": "2b4d96af",
   "metadata": {},
   "outputs": [],
   "source": [
    "fdt_df['rfdt'] = round(fdt_df['count'] / fdt_df['count'].sum(), 3) * 100"
   ]
  },
  {
   "cell_type": "code",
   "execution_count": 27,
   "id": "b2aa4a4c",
   "metadata": {},
   "outputs": [
    {
     "data": {
      "text/html": [
       "<div>\n",
       "<style scoped>\n",
       "    .dataframe tbody tr th:only-of-type {\n",
       "        vertical-align: middle;\n",
       "    }\n",
       "\n",
       "    .dataframe tbody tr th {\n",
       "        vertical-align: top;\n",
       "    }\n",
       "\n",
       "    .dataframe thead th {\n",
       "        text-align: right;\n",
       "    }\n",
       "</style>\n",
       "<table border=\"1\" class=\"dataframe\">\n",
       "  <thead>\n",
       "    <tr style=\"text-align: right;\">\n",
       "      <th></th>\n",
       "      <th>count</th>\n",
       "      <th>rfdt</th>\n",
       "    </tr>\n",
       "  </thead>\n",
       "  <tbody>\n",
       "    <tr>\n",
       "      <th>under10s</th>\n",
       "      <td>62</td>\n",
       "      <td>8.7</td>\n",
       "    </tr>\n",
       "    <tr>\n",
       "      <th>10s</th>\n",
       "      <td>102</td>\n",
       "      <td>14.3</td>\n",
       "    </tr>\n",
       "    <tr>\n",
       "      <th>20s</th>\n",
       "      <td>220</td>\n",
       "      <td>30.8</td>\n",
       "    </tr>\n",
       "    <tr>\n",
       "      <th>30s</th>\n",
       "      <td>167</td>\n",
       "      <td>23.4</td>\n",
       "    </tr>\n",
       "    <tr>\n",
       "      <th>40s</th>\n",
       "      <td>89</td>\n",
       "      <td>12.5</td>\n",
       "    </tr>\n",
       "    <tr>\n",
       "      <th>50s</th>\n",
       "      <td>48</td>\n",
       "      <td>6.7</td>\n",
       "    </tr>\n",
       "    <tr>\n",
       "      <th>60s</th>\n",
       "      <td>19</td>\n",
       "      <td>2.7</td>\n",
       "    </tr>\n",
       "    <tr>\n",
       "      <th>70s</th>\n",
       "      <td>6</td>\n",
       "      <td>0.8</td>\n",
       "    </tr>\n",
       "    <tr>\n",
       "      <th>80s</th>\n",
       "      <td>1</td>\n",
       "      <td>0.1</td>\n",
       "    </tr>\n",
       "  </tbody>\n",
       "</table>\n",
       "</div>"
      ],
      "text/plain": [
       "          count  rfdt\n",
       "under10s     62   8.7\n",
       "10s         102  14.3\n",
       "20s         220  30.8\n",
       "30s         167  23.4\n",
       "40s          89  12.5\n",
       "50s          48   6.7\n",
       "60s          19   2.7\n",
       "70s           6   0.8\n",
       "80s           1   0.1"
      ]
     },
     "execution_count": 27,
     "metadata": {},
     "output_type": "execute_result"
    }
   ],
   "source": [
    "fdt_df"
   ]
  },
  {
   "cell_type": "code",
   "execution_count": 51,
   "id": "55acdeaa",
   "metadata": {},
   "outputs": [
    {
     "data": {
      "text/plain": [
       "<Axes: >"
      ]
     },
     "execution_count": 51,
     "metadata": {},
     "output_type": "execute_result"
    },
    {
     "data": {
      "image/png": "[encoded data removed]",
      "text/plain": [
       "<Figure size 640x480 with 1 Axes>"
      ]
     },
     "metadata": {},
     "output_type": "display_data"
    }
   ],
   "source": [
    "fdt_df['rfdt'].plot(kind='bar')"
   ]
  },
  {
   "cell_type": "code",
   "execution_count": 28,
   "id": "3658777c",
   "metadata": {},
   "outputs": [
    {
     "data": {
      "text/plain": [
       "<Axes: xlabel='Age', ylabel='Probability'>"
      ]
     },
     "execution_count": 28,
     "metadata": {},
     "output_type": "execute_result"
    },
    {
     "data": {
      "image/png": "[encoded data removed]",
      "text/plain": [
       "<Figure size 640x480 with 1 Axes>"
      ]
     },
     "metadata": {},
     "output_type": "display_data"
    }
   ],
   "source": [
    "sns.histplot(ages['Age'], bins=bins, stat='probability', kde=False)"
   ]
  },
  {
   "cell_type": "markdown",
   "id": "188777fa",
   "metadata": {},
   "source": [
    "### 구간화가 필요한 데이터에서 계급의 개수를 몇개로 해야할지? \n",
    "* 스터지스 공식: 도수분포표나 히스토그램을 만들 때 계급의 수가 적당한지 판단하는 기준이 되는 공식\n",
    "* 전체 데이터 개수를 $ 2^n $ 이라 하고, 그때 계급 수를 $ n + 1 $ 한다."
   ]
  },
  {
   "cell_type": "code",
   "execution_count": 29,
   "id": "1c76b0c1",
   "metadata": {},
   "outputs": [
    {
     "data": {
      "text/plain": [
       "891"
      ]
     },
     "execution_count": 29,
     "metadata": {},
     "output_type": "execute_result"
    }
   ],
   "source": [
    "len(ages['Age'])"
   ]
  },
  {
   "cell_type": "code",
   "execution_count": 30,
   "id": "947efea1",
   "metadata": {},
   "outputs": [
    {
     "name": "stdout",
     "output_type": "stream",
     "text": [
      "11\n"
     ]
    }
   ],
   "source": [
    "# 891은 2의 몇 승? = n , n + 1\n",
    "n = math.log(891, 2)\n",
    "print(round(n+1))"
   ]
  },
  {
   "cell_type": "markdown",
   "id": "1977df94",
   "metadata": {},
   "source": [
    "## 3) 편차(deviation)\n",
    "* 데이터와 평균이 떨어진 거리, 데이터와 평균 값 과의 차이\n",
    "* 데이터 - 평균값"
   ]
  },
  {
   "cell_type": "code",
   "execution_count": 31,
   "id": "121c5989",
   "metadata": {},
   "outputs": [
    {
     "data": {
      "text/html": [
       "<div>\n",
       "<style scoped>\n",
       "    .dataframe tbody tr th:only-of-type {\n",
       "        vertical-align: middle;\n",
       "    }\n",
       "\n",
       "    .dataframe tbody tr th {\n",
       "        vertical-align: top;\n",
       "    }\n",
       "\n",
       "    .dataframe thead th {\n",
       "        text-align: right;\n",
       "    }\n",
       "</style>\n",
       "<table border=\"1\" class=\"dataframe\">\n",
       "  <thead>\n",
       "    <tr style=\"text-align: right;\">\n",
       "      <th></th>\n",
       "      <th>표본</th>\n",
       "      <th>평균</th>\n",
       "    </tr>\n",
       "  </thead>\n",
       "  <tbody>\n",
       "    <tr>\n",
       "      <th>0</th>\n",
       "      <td>2</td>\n",
       "      <td>5.0</td>\n",
       "    </tr>\n",
       "    <tr>\n",
       "      <th>1</th>\n",
       "      <td>3</td>\n",
       "      <td>5.0</td>\n",
       "    </tr>\n",
       "    <tr>\n",
       "      <th>2</th>\n",
       "      <td>3</td>\n",
       "      <td>5.0</td>\n",
       "    </tr>\n",
       "    <tr>\n",
       "      <th>3</th>\n",
       "      <td>4</td>\n",
       "      <td>5.0</td>\n",
       "    </tr>\n",
       "    <tr>\n",
       "      <th>4</th>\n",
       "      <td>4</td>\n",
       "      <td>5.0</td>\n",
       "    </tr>\n",
       "    <tr>\n",
       "      <th>5</th>\n",
       "      <td>5</td>\n",
       "      <td>5.0</td>\n",
       "    </tr>\n",
       "    <tr>\n",
       "      <th>6</th>\n",
       "      <td>7</td>\n",
       "      <td>5.0</td>\n",
       "    </tr>\n",
       "    <tr>\n",
       "      <th>7</th>\n",
       "      <td>7</td>\n",
       "      <td>5.0</td>\n",
       "    </tr>\n",
       "    <tr>\n",
       "      <th>8</th>\n",
       "      <td>7</td>\n",
       "      <td>5.0</td>\n",
       "    </tr>\n",
       "    <tr>\n",
       "      <th>9</th>\n",
       "      <td>8</td>\n",
       "      <td>5.0</td>\n",
       "    </tr>\n",
       "  </tbody>\n",
       "</table>\n",
       "</div>"
      ],
      "text/plain": [
       "   표본   평균\n",
       "0   2  5.0\n",
       "1   3  5.0\n",
       "2   3  5.0\n",
       "3   4  5.0\n",
       "4   4  5.0\n",
       "5   5  5.0\n",
       "6   7  5.0\n",
       "7   7  5.0\n",
       "8   7  5.0\n",
       "9   8  5.0"
      ]
     },
     "execution_count": 31,
     "metadata": {},
     "output_type": "execute_result"
    }
   ],
   "source": [
    "a['평균'] = a['표본'].mean()\n",
    "a"
   ]
  },
  {
   "cell_type": "code",
   "execution_count": 32,
   "id": "04f15564",
   "metadata": {},
   "outputs": [
    {
     "data": {
      "text/html": [
       "<div>\n",
       "<style scoped>\n",
       "    .dataframe tbody tr th:only-of-type {\n",
       "        vertical-align: middle;\n",
       "    }\n",
       "\n",
       "    .dataframe tbody tr th {\n",
       "        vertical-align: top;\n",
       "    }\n",
       "\n",
       "    .dataframe thead th {\n",
       "        text-align: right;\n",
       "    }\n",
       "</style>\n",
       "<table border=\"1\" class=\"dataframe\">\n",
       "  <thead>\n",
       "    <tr style=\"text-align: right;\">\n",
       "      <th></th>\n",
       "      <th>표본</th>\n",
       "      <th>평균</th>\n",
       "      <th>편차</th>\n",
       "    </tr>\n",
       "  </thead>\n",
       "  <tbody>\n",
       "    <tr>\n",
       "      <th>0</th>\n",
       "      <td>2</td>\n",
       "      <td>5.0</td>\n",
       "      <td>-3.0</td>\n",
       "    </tr>\n",
       "    <tr>\n",
       "      <th>1</th>\n",
       "      <td>3</td>\n",
       "      <td>5.0</td>\n",
       "      <td>-2.0</td>\n",
       "    </tr>\n",
       "    <tr>\n",
       "      <th>2</th>\n",
       "      <td>3</td>\n",
       "      <td>5.0</td>\n",
       "      <td>-2.0</td>\n",
       "    </tr>\n",
       "    <tr>\n",
       "      <th>3</th>\n",
       "      <td>4</td>\n",
       "      <td>5.0</td>\n",
       "      <td>-1.0</td>\n",
       "    </tr>\n",
       "    <tr>\n",
       "      <th>4</th>\n",
       "      <td>4</td>\n",
       "      <td>5.0</td>\n",
       "      <td>-1.0</td>\n",
       "    </tr>\n",
       "    <tr>\n",
       "      <th>5</th>\n",
       "      <td>5</td>\n",
       "      <td>5.0</td>\n",
       "      <td>0.0</td>\n",
       "    </tr>\n",
       "    <tr>\n",
       "      <th>6</th>\n",
       "      <td>7</td>\n",
       "      <td>5.0</td>\n",
       "      <td>2.0</td>\n",
       "    </tr>\n",
       "    <tr>\n",
       "      <th>7</th>\n",
       "      <td>7</td>\n",
       "      <td>5.0</td>\n",
       "      <td>2.0</td>\n",
       "    </tr>\n",
       "    <tr>\n",
       "      <th>8</th>\n",
       "      <td>7</td>\n",
       "      <td>5.0</td>\n",
       "      <td>2.0</td>\n",
       "    </tr>\n",
       "    <tr>\n",
       "      <th>9</th>\n",
       "      <td>8</td>\n",
       "      <td>5.0</td>\n",
       "      <td>3.0</td>\n",
       "    </tr>\n",
       "  </tbody>\n",
       "</table>\n",
       "</div>"
      ],
      "text/plain": [
       "   표본   평균   편차\n",
       "0   2  5.0 -3.0\n",
       "1   3  5.0 -2.0\n",
       "2   3  5.0 -2.0\n",
       "3   4  5.0 -1.0\n",
       "4   4  5.0 -1.0\n",
       "5   5  5.0  0.0\n",
       "6   7  5.0  2.0\n",
       "7   7  5.0  2.0\n",
       "8   7  5.0  2.0\n",
       "9   8  5.0  3.0"
      ]
     },
     "execution_count": 32,
     "metadata": {},
     "output_type": "execute_result"
    }
   ],
   "source": [
    "a['편차'] = a['표본'] - a['평균']\n",
    "a"
   ]
  },
  {
   "cell_type": "markdown",
   "id": "42981881",
   "metadata": {},
   "source": [
    "## 4) 분산(variance): 편차 제곱의 합 / 데이터 수\n",
    "* 모분산: $ \\sigma^2 $<br>\n",
    "$ \\sigma^2 = {\\sum(x_i-\\mu)^2 \\over N}  $ <br>\n",
    "<br><br>\n",
    "* 표본분산: $ s^2 $ <br>\n",
    "$ s^2 = {\\sum(x_i-\\bar{x})^2 \\over n-1}  $ <br>"
   ]
  },
  {
   "cell_type": "code",
   "execution_count": 33,
   "id": "3af3661e",
   "metadata": {},
   "outputs": [],
   "source": [
    "# 분산: 편차제곱의 합 / 데이터수\n",
    "a['편차제곱'] = a['편차'] ** 2"
   ]
  },
  {
   "cell_type": "code",
   "execution_count": 34,
   "id": "bb995c89",
   "metadata": {},
   "outputs": [
    {
     "data": {
      "text/html": [
       "<div>\n",
       "<style scoped>\n",
       "    .dataframe tbody tr th:only-of-type {\n",
       "        vertical-align: middle;\n",
       "    }\n",
       "\n",
       "    .dataframe tbody tr th {\n",
       "        vertical-align: top;\n",
       "    }\n",
       "\n",
       "    .dataframe thead th {\n",
       "        text-align: right;\n",
       "    }\n",
       "</style>\n",
       "<table border=\"1\" class=\"dataframe\">\n",
       "  <thead>\n",
       "    <tr style=\"text-align: right;\">\n",
       "      <th></th>\n",
       "      <th>표본</th>\n",
       "      <th>평균</th>\n",
       "      <th>편차</th>\n",
       "      <th>편차제곱</th>\n",
       "      <th>모분산</th>\n",
       "    </tr>\n",
       "  </thead>\n",
       "  <tbody>\n",
       "    <tr>\n",
       "      <th>0</th>\n",
       "      <td>2</td>\n",
       "      <td>5.0</td>\n",
       "      <td>-3.0</td>\n",
       "      <td>9.0</td>\n",
       "      <td>4.0</td>\n",
       "    </tr>\n",
       "    <tr>\n",
       "      <th>1</th>\n",
       "      <td>3</td>\n",
       "      <td>5.0</td>\n",
       "      <td>-2.0</td>\n",
       "      <td>4.0</td>\n",
       "      <td>4.0</td>\n",
       "    </tr>\n",
       "    <tr>\n",
       "      <th>2</th>\n",
       "      <td>3</td>\n",
       "      <td>5.0</td>\n",
       "      <td>-2.0</td>\n",
       "      <td>4.0</td>\n",
       "      <td>4.0</td>\n",
       "    </tr>\n",
       "    <tr>\n",
       "      <th>3</th>\n",
       "      <td>4</td>\n",
       "      <td>5.0</td>\n",
       "      <td>-1.0</td>\n",
       "      <td>1.0</td>\n",
       "      <td>4.0</td>\n",
       "    </tr>\n",
       "    <tr>\n",
       "      <th>4</th>\n",
       "      <td>4</td>\n",
       "      <td>5.0</td>\n",
       "      <td>-1.0</td>\n",
       "      <td>1.0</td>\n",
       "      <td>4.0</td>\n",
       "    </tr>\n",
       "    <tr>\n",
       "      <th>5</th>\n",
       "      <td>5</td>\n",
       "      <td>5.0</td>\n",
       "      <td>0.0</td>\n",
       "      <td>0.0</td>\n",
       "      <td>4.0</td>\n",
       "    </tr>\n",
       "    <tr>\n",
       "      <th>6</th>\n",
       "      <td>7</td>\n",
       "      <td>5.0</td>\n",
       "      <td>2.0</td>\n",
       "      <td>4.0</td>\n",
       "      <td>4.0</td>\n",
       "    </tr>\n",
       "    <tr>\n",
       "      <th>7</th>\n",
       "      <td>7</td>\n",
       "      <td>5.0</td>\n",
       "      <td>2.0</td>\n",
       "      <td>4.0</td>\n",
       "      <td>4.0</td>\n",
       "    </tr>\n",
       "    <tr>\n",
       "      <th>8</th>\n",
       "      <td>7</td>\n",
       "      <td>5.0</td>\n",
       "      <td>2.0</td>\n",
       "      <td>4.0</td>\n",
       "      <td>4.0</td>\n",
       "    </tr>\n",
       "    <tr>\n",
       "      <th>9</th>\n",
       "      <td>8</td>\n",
       "      <td>5.0</td>\n",
       "      <td>3.0</td>\n",
       "      <td>9.0</td>\n",
       "      <td>4.0</td>\n",
       "    </tr>\n",
       "  </tbody>\n",
       "</table>\n",
       "</div>"
      ],
      "text/plain": [
       "   표본   평균   편차  편차제곱  모분산\n",
       "0   2  5.0 -3.0   9.0  4.0\n",
       "1   3  5.0 -2.0   4.0  4.0\n",
       "2   3  5.0 -2.0   4.0  4.0\n",
       "3   4  5.0 -1.0   1.0  4.0\n",
       "4   4  5.0 -1.0   1.0  4.0\n",
       "5   5  5.0  0.0   0.0  4.0\n",
       "6   7  5.0  2.0   4.0  4.0\n",
       "7   7  5.0  2.0   4.0  4.0\n",
       "8   7  5.0  2.0   4.0  4.0\n",
       "9   8  5.0  3.0   9.0  4.0"
      ]
     },
     "execution_count": 34,
     "metadata": {},
     "output_type": "execute_result"
    }
   ],
   "source": [
    "a['모분산'] = a['편차제곱'].sum() / len(a['편차제곱'])\n",
    "a"
   ]
  },
  {
   "cell_type": "code",
   "execution_count": 35,
   "id": "0058ea63",
   "metadata": {},
   "outputs": [
    {
     "data": {
      "text/plain": [
       "4.444444444444445"
      ]
     },
     "execution_count": 35,
     "metadata": {},
     "output_type": "execute_result"
    }
   ],
   "source": [
    "# 분산함수 .var() 표본분산을 구해주는 함수\n",
    "a['표본'].var()"
   ]
  },
  {
   "cell_type": "code",
   "execution_count": 39,
   "id": "0234cc4a",
   "metadata": {},
   "outputs": [
    {
     "data": {
      "text/html": [
       "<div>\n",
       "<style scoped>\n",
       "    .dataframe tbody tr th:only-of-type {\n",
       "        vertical-align: middle;\n",
       "    }\n",
       "\n",
       "    .dataframe tbody tr th {\n",
       "        vertical-align: top;\n",
       "    }\n",
       "\n",
       "    .dataframe thead th {\n",
       "        text-align: right;\n",
       "    }\n",
       "</style>\n",
       "<table border=\"1\" class=\"dataframe\">\n",
       "  <thead>\n",
       "    <tr style=\"text-align: right;\">\n",
       "      <th></th>\n",
       "      <th>표본</th>\n",
       "      <th>평균</th>\n",
       "      <th>편차</th>\n",
       "      <th>편차제곱</th>\n",
       "      <th>모분산</th>\n",
       "      <th>표본분산</th>\n",
       "    </tr>\n",
       "  </thead>\n",
       "  <tbody>\n",
       "    <tr>\n",
       "      <th>0</th>\n",
       "      <td>2</td>\n",
       "      <td>5.0</td>\n",
       "      <td>-3.0</td>\n",
       "      <td>9.0</td>\n",
       "      <td>4.0</td>\n",
       "      <td>4.444444</td>\n",
       "    </tr>\n",
       "    <tr>\n",
       "      <th>1</th>\n",
       "      <td>3</td>\n",
       "      <td>5.0</td>\n",
       "      <td>-2.0</td>\n",
       "      <td>4.0</td>\n",
       "      <td>4.0</td>\n",
       "      <td>4.444444</td>\n",
       "    </tr>\n",
       "    <tr>\n",
       "      <th>2</th>\n",
       "      <td>3</td>\n",
       "      <td>5.0</td>\n",
       "      <td>-2.0</td>\n",
       "      <td>4.0</td>\n",
       "      <td>4.0</td>\n",
       "      <td>4.444444</td>\n",
       "    </tr>\n",
       "    <tr>\n",
       "      <th>3</th>\n",
       "      <td>4</td>\n",
       "      <td>5.0</td>\n",
       "      <td>-1.0</td>\n",
       "      <td>1.0</td>\n",
       "      <td>4.0</td>\n",
       "      <td>4.444444</td>\n",
       "    </tr>\n",
       "    <tr>\n",
       "      <th>4</th>\n",
       "      <td>4</td>\n",
       "      <td>5.0</td>\n",
       "      <td>-1.0</td>\n",
       "      <td>1.0</td>\n",
       "      <td>4.0</td>\n",
       "      <td>4.444444</td>\n",
       "    </tr>\n",
       "    <tr>\n",
       "      <th>5</th>\n",
       "      <td>5</td>\n",
       "      <td>5.0</td>\n",
       "      <td>0.0</td>\n",
       "      <td>0.0</td>\n",
       "      <td>4.0</td>\n",
       "      <td>4.444444</td>\n",
       "    </tr>\n",
       "    <tr>\n",
       "      <th>6</th>\n",
       "      <td>7</td>\n",
       "      <td>5.0</td>\n",
       "      <td>2.0</td>\n",
       "      <td>4.0</td>\n",
       "      <td>4.0</td>\n",
       "      <td>4.444444</td>\n",
       "    </tr>\n",
       "    <tr>\n",
       "      <th>7</th>\n",
       "      <td>7</td>\n",
       "      <td>5.0</td>\n",
       "      <td>2.0</td>\n",
       "      <td>4.0</td>\n",
       "      <td>4.0</td>\n",
       "      <td>4.444444</td>\n",
       "    </tr>\n",
       "    <tr>\n",
       "      <th>8</th>\n",
       "      <td>7</td>\n",
       "      <td>5.0</td>\n",
       "      <td>2.0</td>\n",
       "      <td>4.0</td>\n",
       "      <td>4.0</td>\n",
       "      <td>4.444444</td>\n",
       "    </tr>\n",
       "    <tr>\n",
       "      <th>9</th>\n",
       "      <td>8</td>\n",
       "      <td>5.0</td>\n",
       "      <td>3.0</td>\n",
       "      <td>9.0</td>\n",
       "      <td>4.0</td>\n",
       "      <td>4.444444</td>\n",
       "    </tr>\n",
       "  </tbody>\n",
       "</table>\n",
       "</div>"
      ],
      "text/plain": [
       "   표본   평균   편차  편차제곱  모분산      표본분산\n",
       "0   2  5.0 -3.0   9.0  4.0  4.444444\n",
       "1   3  5.0 -2.0   4.0  4.0  4.444444\n",
       "2   3  5.0 -2.0   4.0  4.0  4.444444\n",
       "3   4  5.0 -1.0   1.0  4.0  4.444444\n",
       "4   4  5.0 -1.0   1.0  4.0  4.444444\n",
       "5   5  5.0  0.0   0.0  4.0  4.444444\n",
       "6   7  5.0  2.0   4.0  4.0  4.444444\n",
       "7   7  5.0  2.0   4.0  4.0  4.444444\n",
       "8   7  5.0  2.0   4.0  4.0  4.444444\n",
       "9   8  5.0  3.0   9.0  4.0  4.444444"
      ]
     },
     "execution_count": 39,
     "metadata": {},
     "output_type": "execute_result"
    }
   ],
   "source": [
    "a['표본분산'] = a['편차제곱'].sum() / (len(a['편차제곱']) -1)\n",
    "a"
   ]
  },
  {
   "cell_type": "markdown",
   "id": "f31e95bf",
   "metadata": {},
   "source": [
    "## 5) 표준편차(Standard Diviation): 분산의 제곱근 \n",
    "* 모집단의 표준편차 $ \\sigma $<br>\n",
    "$ \\sigma = \\sqrt{\\sum(x_i-\\mu)^2 \\over N}  $ <br>\n",
    "<br><br>\n",
    "\n",
    "* 표본집단의 표준편차 $ s $ <br>\n",
    "$ s = \\sqrt{\\sum(x_i-\\bar{x})^2 \\over n-1}  $ <br>"
   ]
  },
  {
   "cell_type": "code",
   "execution_count": 41,
   "id": "e9c0a5ad",
   "metadata": {},
   "outputs": [
    {
     "data": {
      "text/html": [
       "<div>\n",
       "<style scoped>\n",
       "    .dataframe tbody tr th:only-of-type {\n",
       "        vertical-align: middle;\n",
       "    }\n",
       "\n",
       "    .dataframe tbody tr th {\n",
       "        vertical-align: top;\n",
       "    }\n",
       "\n",
       "    .dataframe thead th {\n",
       "        text-align: right;\n",
       "    }\n",
       "</style>\n",
       "<table border=\"1\" class=\"dataframe\">\n",
       "  <thead>\n",
       "    <tr style=\"text-align: right;\">\n",
       "      <th></th>\n",
       "      <th>표본</th>\n",
       "      <th>평균</th>\n",
       "      <th>편차</th>\n",
       "      <th>편차제곱</th>\n",
       "      <th>모분산</th>\n",
       "      <th>표본분산</th>\n",
       "      <th>표준편차</th>\n",
       "    </tr>\n",
       "  </thead>\n",
       "  <tbody>\n",
       "    <tr>\n",
       "      <th>0</th>\n",
       "      <td>2</td>\n",
       "      <td>5.0</td>\n",
       "      <td>-3.0</td>\n",
       "      <td>9.0</td>\n",
       "      <td>4.0</td>\n",
       "      <td>4.444444</td>\n",
       "      <td>2.0</td>\n",
       "    </tr>\n",
       "    <tr>\n",
       "      <th>1</th>\n",
       "      <td>3</td>\n",
       "      <td>5.0</td>\n",
       "      <td>-2.0</td>\n",
       "      <td>4.0</td>\n",
       "      <td>4.0</td>\n",
       "      <td>4.444444</td>\n",
       "      <td>2.0</td>\n",
       "    </tr>\n",
       "    <tr>\n",
       "      <th>2</th>\n",
       "      <td>3</td>\n",
       "      <td>5.0</td>\n",
       "      <td>-2.0</td>\n",
       "      <td>4.0</td>\n",
       "      <td>4.0</td>\n",
       "      <td>4.444444</td>\n",
       "      <td>2.0</td>\n",
       "    </tr>\n",
       "    <tr>\n",
       "      <th>3</th>\n",
       "      <td>4</td>\n",
       "      <td>5.0</td>\n",
       "      <td>-1.0</td>\n",
       "      <td>1.0</td>\n",
       "      <td>4.0</td>\n",
       "      <td>4.444444</td>\n",
       "      <td>2.0</td>\n",
       "    </tr>\n",
       "    <tr>\n",
       "      <th>4</th>\n",
       "      <td>4</td>\n",
       "      <td>5.0</td>\n",
       "      <td>-1.0</td>\n",
       "      <td>1.0</td>\n",
       "      <td>4.0</td>\n",
       "      <td>4.444444</td>\n",
       "      <td>2.0</td>\n",
       "    </tr>\n",
       "    <tr>\n",
       "      <th>5</th>\n",
       "      <td>5</td>\n",
       "      <td>5.0</td>\n",
       "      <td>0.0</td>\n",
       "      <td>0.0</td>\n",
       "      <td>4.0</td>\n",
       "      <td>4.444444</td>\n",
       "      <td>2.0</td>\n",
       "    </tr>\n",
       "    <tr>\n",
       "      <th>6</th>\n",
       "      <td>7</td>\n",
       "      <td>5.0</td>\n",
       "      <td>2.0</td>\n",
       "      <td>4.0</td>\n",
       "      <td>4.0</td>\n",
       "      <td>4.444444</td>\n",
       "      <td>2.0</td>\n",
       "    </tr>\n",
       "    <tr>\n",
       "      <th>7</th>\n",
       "      <td>7</td>\n",
       "      <td>5.0</td>\n",
       "      <td>2.0</td>\n",
       "      <td>4.0</td>\n",
       "      <td>4.0</td>\n",
       "      <td>4.444444</td>\n",
       "      <td>2.0</td>\n",
       "    </tr>\n",
       "    <tr>\n",
       "      <th>8</th>\n",
       "      <td>7</td>\n",
       "      <td>5.0</td>\n",
       "      <td>2.0</td>\n",
       "      <td>4.0</td>\n",
       "      <td>4.0</td>\n",
       "      <td>4.444444</td>\n",
       "      <td>2.0</td>\n",
       "    </tr>\n",
       "    <tr>\n",
       "      <th>9</th>\n",
       "      <td>8</td>\n",
       "      <td>5.0</td>\n",
       "      <td>3.0</td>\n",
       "      <td>9.0</td>\n",
       "      <td>4.0</td>\n",
       "      <td>4.444444</td>\n",
       "      <td>2.0</td>\n",
       "    </tr>\n",
       "  </tbody>\n",
       "</table>\n",
       "</div>"
      ],
      "text/plain": [
       "   표본   평균   편차  편차제곱  모분산      표본분산  표준편차\n",
       "0   2  5.0 -3.0   9.0  4.0  4.444444   2.0\n",
       "1   3  5.0 -2.0   4.0  4.0  4.444444   2.0\n",
       "2   3  5.0 -2.0   4.0  4.0  4.444444   2.0\n",
       "3   4  5.0 -1.0   1.0  4.0  4.444444   2.0\n",
       "4   4  5.0 -1.0   1.0  4.0  4.444444   2.0\n",
       "5   5  5.0  0.0   0.0  4.0  4.444444   2.0\n",
       "6   7  5.0  2.0   4.0  4.0  4.444444   2.0\n",
       "7   7  5.0  2.0   4.0  4.0  4.444444   2.0\n",
       "8   7  5.0  2.0   4.0  4.0  4.444444   2.0\n",
       "9   8  5.0  3.0   9.0  4.0  4.444444   2.0"
      ]
     },
     "execution_count": 41,
     "metadata": {},
     "output_type": "execute_result"
    }
   ],
   "source": [
    "a['표준편차'] = a['모분산'].apply(math.sqrt)\n",
    "a"
   ]
  },
  {
   "cell_type": "code",
   "execution_count": 42,
   "id": "1286450d",
   "metadata": {},
   "outputs": [
    {
     "data": {
      "text/plain": [
       "2.1081851067789197"
      ]
     },
     "execution_count": 42,
     "metadata": {},
     "output_type": "execute_result"
    }
   ],
   "source": [
    "# 표준편차를 구하는 함수 .std() 표본의 표준편차\n",
    "a['표본'].std()"
   ]
  },
  {
   "cell_type": "code",
   "execution_count": 43,
   "id": "5aaf73f6",
   "metadata": {},
   "outputs": [
    {
     "data": {
      "text/html": [
       "<div>\n",
       "<style scoped>\n",
       "    .dataframe tbody tr th:only-of-type {\n",
       "        vertical-align: middle;\n",
       "    }\n",
       "\n",
       "    .dataframe tbody tr th {\n",
       "        vertical-align: top;\n",
       "    }\n",
       "\n",
       "    .dataframe thead th {\n",
       "        text-align: right;\n",
       "    }\n",
       "</style>\n",
       "<table border=\"1\" class=\"dataframe\">\n",
       "  <thead>\n",
       "    <tr style=\"text-align: right;\">\n",
       "      <th></th>\n",
       "      <th>표본</th>\n",
       "      <th>평균</th>\n",
       "      <th>편차</th>\n",
       "      <th>편차제곱</th>\n",
       "      <th>모분산</th>\n",
       "      <th>표본분산</th>\n",
       "      <th>표준편차</th>\n",
       "      <th>표본표준편차</th>\n",
       "    </tr>\n",
       "  </thead>\n",
       "  <tbody>\n",
       "    <tr>\n",
       "      <th>0</th>\n",
       "      <td>2</td>\n",
       "      <td>5.0</td>\n",
       "      <td>-3.0</td>\n",
       "      <td>9.0</td>\n",
       "      <td>4.0</td>\n",
       "      <td>4.444444</td>\n",
       "      <td>2.0</td>\n",
       "      <td>2.108185</td>\n",
       "    </tr>\n",
       "    <tr>\n",
       "      <th>1</th>\n",
       "      <td>3</td>\n",
       "      <td>5.0</td>\n",
       "      <td>-2.0</td>\n",
       "      <td>4.0</td>\n",
       "      <td>4.0</td>\n",
       "      <td>4.444444</td>\n",
       "      <td>2.0</td>\n",
       "      <td>2.108185</td>\n",
       "    </tr>\n",
       "    <tr>\n",
       "      <th>2</th>\n",
       "      <td>3</td>\n",
       "      <td>5.0</td>\n",
       "      <td>-2.0</td>\n",
       "      <td>4.0</td>\n",
       "      <td>4.0</td>\n",
       "      <td>4.444444</td>\n",
       "      <td>2.0</td>\n",
       "      <td>2.108185</td>\n",
       "    </tr>\n",
       "    <tr>\n",
       "      <th>3</th>\n",
       "      <td>4</td>\n",
       "      <td>5.0</td>\n",
       "      <td>-1.0</td>\n",
       "      <td>1.0</td>\n",
       "      <td>4.0</td>\n",
       "      <td>4.444444</td>\n",
       "      <td>2.0</td>\n",
       "      <td>2.108185</td>\n",
       "    </tr>\n",
       "    <tr>\n",
       "      <th>4</th>\n",
       "      <td>4</td>\n",
       "      <td>5.0</td>\n",
       "      <td>-1.0</td>\n",
       "      <td>1.0</td>\n",
       "      <td>4.0</td>\n",
       "      <td>4.444444</td>\n",
       "      <td>2.0</td>\n",
       "      <td>2.108185</td>\n",
       "    </tr>\n",
       "    <tr>\n",
       "      <th>5</th>\n",
       "      <td>5</td>\n",
       "      <td>5.0</td>\n",
       "      <td>0.0</td>\n",
       "      <td>0.0</td>\n",
       "      <td>4.0</td>\n",
       "      <td>4.444444</td>\n",
       "      <td>2.0</td>\n",
       "      <td>2.108185</td>\n",
       "    </tr>\n",
       "    <tr>\n",
       "      <th>6</th>\n",
       "      <td>7</td>\n",
       "      <td>5.0</td>\n",
       "      <td>2.0</td>\n",
       "      <td>4.0</td>\n",
       "      <td>4.0</td>\n",
       "      <td>4.444444</td>\n",
       "      <td>2.0</td>\n",
       "      <td>2.108185</td>\n",
       "    </tr>\n",
       "    <tr>\n",
       "      <th>7</th>\n",
       "      <td>7</td>\n",
       "      <td>5.0</td>\n",
       "      <td>2.0</td>\n",
       "      <td>4.0</td>\n",
       "      <td>4.0</td>\n",
       "      <td>4.444444</td>\n",
       "      <td>2.0</td>\n",
       "      <td>2.108185</td>\n",
       "    </tr>\n",
       "    <tr>\n",
       "      <th>8</th>\n",
       "      <td>7</td>\n",
       "      <td>5.0</td>\n",
       "      <td>2.0</td>\n",
       "      <td>4.0</td>\n",
       "      <td>4.0</td>\n",
       "      <td>4.444444</td>\n",
       "      <td>2.0</td>\n",
       "      <td>2.108185</td>\n",
       "    </tr>\n",
       "    <tr>\n",
       "      <th>9</th>\n",
       "      <td>8</td>\n",
       "      <td>5.0</td>\n",
       "      <td>3.0</td>\n",
       "      <td>9.0</td>\n",
       "      <td>4.0</td>\n",
       "      <td>4.444444</td>\n",
       "      <td>2.0</td>\n",
       "      <td>2.108185</td>\n",
       "    </tr>\n",
       "  </tbody>\n",
       "</table>\n",
       "</div>"
      ],
      "text/plain": [
       "   표본   평균   편차  편차제곱  모분산      표본분산  표준편차    표본표준편차\n",
       "0   2  5.0 -3.0   9.0  4.0  4.444444   2.0  2.108185\n",
       "1   3  5.0 -2.0   4.0  4.0  4.444444   2.0  2.108185\n",
       "2   3  5.0 -2.0   4.0  4.0  4.444444   2.0  2.108185\n",
       "3   4  5.0 -1.0   1.0  4.0  4.444444   2.0  2.108185\n",
       "4   4  5.0 -1.0   1.0  4.0  4.444444   2.0  2.108185\n",
       "5   5  5.0  0.0   0.0  4.0  4.444444   2.0  2.108185\n",
       "6   7  5.0  2.0   4.0  4.0  4.444444   2.0  2.108185\n",
       "7   7  5.0  2.0   4.0  4.0  4.444444   2.0  2.108185\n",
       "8   7  5.0  2.0   4.0  4.0  4.444444   2.0  2.108185\n",
       "9   8  5.0  3.0   9.0  4.0  4.444444   2.0  2.108185"
      ]
     },
     "execution_count": 43,
     "metadata": {},
     "output_type": "execute_result"
    }
   ],
   "source": [
    "a['표본표준편차'] = a['표본분산'].apply(math.sqrt)\n",
    "a"
   ]
  },
  {
   "cell_type": "code",
   "execution_count": 44,
   "id": "eb12f28c",
   "metadata": {},
   "outputs": [
    {
     "data": {
      "text/plain": [
       "count    10.000000\n",
       "mean      5.000000\n",
       "std       2.108185\n",
       "min       2.000000\n",
       "25%       3.250000\n",
       "50%       4.500000\n",
       "75%       7.000000\n",
       "max       8.000000\n",
       "Name: 표본, dtype: float64"
      ]
     },
     "execution_count": 44,
     "metadata": {},
     "output_type": "execute_result"
    }
   ],
   "source": [
    "a['표본'].describe()"
   ]
  },
  {
   "cell_type": "markdown",
   "id": "c1a07975",
   "metadata": {},
   "source": [
    "## 6) 표준점수(standard score), z-점수(z-score)\n",
    "* 데이터 포인트(값)가 평균으로부터 얼마나 떨어져 있는지를 나타내는 지표\n",
    "* 이는 데이터 포인트가 평균에서 몇 표준편차 떨어져 있는지를 나타내며,\n",
    "* 데이터의 상대적인 위치를 이해하는데 유용하다.\n",
    "\n",
    "* 모집단 표준점수(Z-score) z<br>\n",
    "$ Z = {x_i-\\mu \\over \\sigma}  $ <br><br><br>\n",
    "\n",
    "* 표본집단의 표준점수(Z-score) z<br>\n",
    "$ Z = {x_i-\\bar{x} \\over s}  $ <br><br><br>\n"
   ]
  },
  {
   "cell_type": "markdown",
   "id": "f4ff927c",
   "metadata": {},
   "source": [
    "# 자유도(degrees fo freedom)란?\n",
    "* 데이터의 독립적인 정보의 수\n",
    "* [2,3,4,5,6] 의 평균? \n",
    "* 통계는 표본을 추출해서 계산\n",
    "* 모평균 4.0\n",
    "* 표본평균 4.0\n",
    "* 평균값을 유지하기 위해서 마지막 데이터 포인트는 고정되어야하고 \n",
    "* 고정된 포인트 이외의 값들은 자유롭게 변할 수 있다.\n",
    "* n-1"
   ]
  },
  {
   "cell_type": "code",
   "execution_count": 45,
   "id": "d584d4ce",
   "metadata": {},
   "outputs": [
    {
     "data": {
      "text/plain": [
       "4.0"
      ]
     },
     "execution_count": 45,
     "metadata": {},
     "output_type": "execute_result"
    }
   ],
   "source": [
    "pd.Series([2,3,4,5,6]).mean()"
   ]
  },
  {
   "cell_type": "code",
   "execution_count": 46,
   "id": "91175997",
   "metadata": {},
   "outputs": [
    {
     "data": {
      "text/plain": [
       "4.0"
      ]
     },
     "execution_count": 46,
     "metadata": {},
     "output_type": "execute_result"
    }
   ],
   "source": [
    "# [2,3,4,5,6] 전체 = 모집단\n",
    "(2 + 3 + 4 + 5 + 6) / 5"
   ]
  },
  {
   "cell_type": "code",
   "execution_count": null,
   "id": "438aeb64",
   "metadata": {},
   "outputs": [],
   "source": [
    "# 표본 [4,2,5,7,x] 의 평균 = 4.0"
   ]
  },
  {
   "cell_type": "code",
   "execution_count": 47,
   "id": "b515dce0",
   "metadata": {},
   "outputs": [
    {
     "data": {
      "text/plain": [
       "4.0"
      ]
     },
     "execution_count": 47,
     "metadata": {},
     "output_type": "execute_result"
    }
   ],
   "source": [
    "sum([4,2,5,7,2]) / 5 "
   ]
  },
  {
   "cell_type": "markdown",
   "id": "638ee4e2",
   "metadata": {},
   "source": [
    "# 가설검정 t-test\n",
    "* t-test는 두 집단의 평균을 비교하여 차이가 있는지 확인하는 통계적 방법"
   ]
  },
  {
   "cell_type": "markdown",
   "id": "ecdd7fc2",
   "metadata": {},
   "source": [
    "### 1) 일 표본 단측 t-검정 ( 한 쪽으로 방향성을 갖는 경우)\n",
    "* 모수에 대한 검정을 할 때 모수 값이 ~보다 크다, 혹은 ~보다 작다와 같이 한쪽으로의 방향성을 갖는 경우 수행되는 검정 방법\n",
    "* OO공장에서 생산되는 지우개의 평균 중량은 50g 이하다(귀무가설)\n",
    "* OO공장에서 생산되는 지우개의 평균 중량은 50g 초과다 (대립가설)"
   ]
  },
  {
   "cell_type": "code",
   "execution_count": 79,
   "id": "411927c2",
   "metadata": {},
   "outputs": [],
   "source": [
    "# 통계와 회귀분석에 특화되어 있는 라이브러리\n",
    "# !pip install statsmodels"
   ]
  },
  {
   "cell_type": "code",
   "execution_count": 52,
   "id": "eb94b159",
   "metadata": {},
   "outputs": [],
   "source": [
    "import statsmodels.stats.weightstats as stests\n",
    "from scipy import stats"
   ]
  },
  {
   "cell_type": "code",
   "execution_count": 56,
   "id": "a9a05bd0",
   "metadata": {},
   "outputs": [
    {
     "name": "stdout",
     "output_type": "stream",
     "text": [
      "[49.25713462 51.99434798 51.90129185 50.3277067  51.98676537 51.7702605\n",
      " 50.66967986 51.56558389 51.73536215 51.30936035]\n",
      "지우개의 평균:  51.251749326529065\n"
     ]
    }
   ],
   "source": [
    "# 일 표본 단측 t-검정을 위해 지우개 10개의 표본 추출\n",
    "weights = np.random.uniform(49, 52, 10)\n",
    "print(weights)\n",
    "print(\"지우개의 평균: \", weights.mean())"
   ]
  },
  {
   "cell_type": "code",
   "execution_count": 57,
   "id": "adcb55f0",
   "metadata": {},
   "outputs": [
    {
     "name": "stdout",
     "output_type": "stream",
     "text": [
      "T-통계량: 4.3984097824795505, P-value: 0.0008621778152214367\n"
     ]
    }
   ],
   "source": [
    "# 일 표본 단측 t-test \n",
    "t_stat, p_value = stats.ttest_1samp(weights, 50, alternative='greater')\n",
    "print(f\"T-통계량: {t_stat}, P-value: {p_value}\")"
   ]
  },
  {
   "cell_type": "markdown",
   "id": "9a6152b1",
   "metadata": {},
   "source": [
    "* p-value가 0.016이므로 유의수준 0.05보다 작기 때문에 귀무가설은 기각, 대립가설 채택\n",
    "* 00공장에서 생산되는 지우개의 평균 중량은 50 초과다(대립가설) 채택"
   ]
  },
  {
   "cell_type": "markdown",
   "id": "a4b4db2e",
   "metadata": {},
   "source": [
    "### 2) 일 표본 양측 t-test(방향성이 없는 경우)\n",
    "* 단측 검정과 달리 모수 값이 ~이다, ~이 아니다와 같이 방향성이 없는 경우 수행되는 검정 방법\n",
    "* 대한민국 남성의 평균 몸무게는 70kg이다(귀무가설)\n",
    "* 대한민국 남성의 평균 몸무게는 70kg이 아니다(대립가설)"
   ]
  },
  {
   "cell_type": "code",
   "execution_count": 61,
   "id": "2a9e582f",
   "metadata": {},
   "outputs": [
    {
     "name": "stdout",
     "output_type": "stream",
     "text": [
      "100\n",
      "몸무게 평균 82.07908677449534\n"
     ]
    }
   ],
   "source": [
    "# 일 표본 양측 t-test를 위한 40kg-100kg 사이 남성 100명의 표본을 추출\n",
    "weights = np.random.uniform(40, 120, 100)\n",
    "print(len(weights))\n",
    "print(\"몸무게 평균\", weights.mean())"
   ]
  },
  {
   "cell_type": "code",
   "execution_count": 62,
   "id": "6617b471",
   "metadata": {},
   "outputs": [
    {
     "name": "stdout",
     "output_type": "stream",
     "text": [
      "T-통계량: 4.744206454553334, P-value: 7.047377236045255e-06\n"
     ]
    }
   ],
   "source": [
    "# 일 표본 양측 t-test\n",
    "t_stat, p_value = stats.ttest_1samp(weights, 70, alternative='two-sided')\n",
    "print(f\"T-통계량: {t_stat}, P-value: {p_value}\")"
   ]
  },
  {
   "cell_type": "markdown",
   "id": "e808e0de",
   "metadata": {},
   "source": [
    "### 3) 독립 이 표본 t-test (independent sample t-test)\n",
    "* 서로 독립적인 두 개의 집단에 대하여 모수(모평균)의 값이 같은 값을 갖는지 통계적으로 검정하는 방법\n",
    "* 여기서 독립이란 두 모집단에서 각각 추출된 두 표본이 서로 관계가 없다는 것을 의미\n",
    "* 두 모집단의 분산이 같음을 의미하는 등분산성을 만족해야 한다.\n",
    "* 따라서 이 표본 t검정을 수행하기 전에 등분산 검정(F검정)을 먼저 수행해야 한다."
   ]
  },
  {
   "cell_type": "markdown",
   "id": "6d7cb3df",
   "metadata": {},
   "source": [
    "### 4) 이 표본 단측 t검정 (~보다 크다 / 작다)\n",
    "* 두 집단에 대해서 모수 비교를 할 때 A가 B보다 크다/작다를 비교하는 검정\n",
    "* A회사의 급여가 B회사의 급여보다 같거나 많다(귀무가설)"
   ]
  },
  {
   "cell_type": "code",
   "execution_count": 63,
   "id": "f27b3112",
   "metadata": {},
   "outputs": [
    {
     "name": "stdout",
     "output_type": "stream",
     "text": [
      "salaryA의 평균 315.55566500345583\n",
      "salaryB의 평균 302.5760836059098\n",
      "T-통계량: 1.9562077566351075, P-value: 0.9740764350954898\n"
     ]
    }
   ],
   "source": [
    "# 랜덤하게 급여 생성 salaryA 250-380사이 값 100개, salaryB 200-400사이의 값 100\n",
    "salaryA = np.random.uniform(250, 380, 100)\n",
    "salaryB = np.random.uniform(200, 400, 100)\n",
    "print(\"salaryA의 평균\", salaryA.mean())\n",
    "print(\"salaryB의 평균\", salaryB.mean())\n",
    "\n",
    "t_stat, p_value = stats.ttest_ind(salaryA, salaryB, alternative='less')\n",
    "\n",
    "print(f\"T-통계량: {t_stat}, P-value: {p_value}\")"
   ]
  },
  {
   "cell_type": "markdown",
   "id": "eb47a714",
   "metadata": {},
   "source": [
    "### 5) 이 표본 양측 t검정 (A는 B와 같다/다르다)\n",
    "* K와 L의 달리기 속도는 같다(귀무가설)"
   ]
  },
  {
   "cell_type": "code",
   "execution_count": 64,
   "id": "1f1bb24a",
   "metadata": {},
   "outputs": [
    {
     "name": "stdout",
     "output_type": "stream",
     "text": [
      "T-통계량: 12.577727722773414, P-value: 4.773919032391286e-27\n"
     ]
    }
   ],
   "source": [
    "# 랜덤한 속도 생성(speedk: 30에서 40사이의 값 100개, speedL: 25에서 35 사이의 값 100개)\n",
    "speedk = np.random.uniform(30, 40, 100)\n",
    "speedL = np.random.uniform(25, 35, 100)\n",
    "\n",
    "t_stat, p_value = stats.ttest_ind(speedk, speedL)\n",
    "print(f\"T-통계량: {t_stat}, P-value: {p_value}\")"
   ]
  },
  {
   "cell_type": "markdown",
   "id": "5b22a4ad",
   "metadata": {},
   "source": [
    "### 6) 대응 표본 t검정(paired t-test) A/B test\n",
    "* 실험 전후 비교\n",
    "* 동일한 대상에 대해 두 가지 관측치가 있는 경우 이를 비교하여 차이가 있는지 검정할 때 사용\n",
    "* 두 집단에 신약 투여 후 전후 수치 비교, 새로운 정책이 시행된 후 부동산 가격의 전후 변화 등\n",
    "* 새로운 운동법이 체중감량의 효과과 있는지 검증하기 위해 새로운 운동법을 실시한 집단도 실시하지 않은 집단의 체중을 비교\n",
    "* 새로운 운동법으로 체중 감량의 효과는 없다(운동 전 무게와 운동후 무게 >= 0) (귀무가설)"
   ]
  },
  {
   "cell_type": "code",
   "execution_count": 65,
   "id": "c9fce9be",
   "metadata": {},
   "outputs": [
    {
     "name": "stdout",
     "output_type": "stream",
     "text": [
      "T-통계량: 16.68601931662862, P-value: 7.897067185344727e-31\n"
     ]
    }
   ],
   "source": [
    "# 대응 표본 t검정을 위한 표본 추출\n",
    "before = np.random.uniform(60, 80, 100)\n",
    "after = before + np.random.normal(-3, 2, 100)\n",
    "\n",
    "#대응표본 t검정\n",
    "t_stat, p_value = stats.ttest_rel(before, after, alternative='greater')\n",
    "print(f\"T-통계량: {t_stat}, P-value: {p_value}\")"
   ]
  },
  {
   "cell_type": "markdown",
   "id": "9ebc4507",
   "metadata": {},
   "source": [
    "# 분산분석(ANOVA)\n",
    "* 3개 이상의 모집단이 있을 경우 집단사이의 평균을 비교\n",
    "* 분산분석의 귀무가설($ H_0 $) \"모든 집간 간 평균은 같다\" 이다.\n",
    "* 1) 분산분석을 수행하기 위해서는 아래의 세 가지 가정 사항을 필요로 한다.\n",
    "  * 정규성: 각 집단의 표본들은 정규분포를 따라야 한다.\n",
    "  * 등분산성: 각 집단은 동일한 분산을 가져야 한다.\n",
    "  * 독립성: 각 집단은 서로에게 영향을 주지 않는다.\n",
    "* 2) 분산 분석\n",
    "  * 분산분석의 독립변수는 범주형 데이터여야 하고, 종속변수는 연속형이어야 한다.\n",
    "  * 분산분석에는 '(집간 간 분산)/(집단 내 분산)'으로 계산되는 F-value가 사용된다.\n",
    "  * F-value가 커지면 p-value가 작아진다.\n",
    "  * 평균을 비교하는 분산분석에 '분산'의 개념을 사용하는 이유는 집단 단 평균의 분산이 클 수록 각 집단의 평균은 서로 멀리 떨어져 있기 때문에 집단 간 차이를 비교하기 쉬워진다."
   ]
  },
  {
   "cell_type": "markdown",
   "id": "c497a064",
   "metadata": {},
   "source": [
    "### 1) 일원분산분석(one-way Anova)\n",
    "* 셋 이상의 집단 간 평균을 비교하는 상황에서 하나의 집단에 속하는 독립변수와 종속변수가 모두 한 개 일 때 사용\n",
    "* 예) 연령 대 별(청소년, 성인, 노인)유튜브 시청 시간의 차이\n",
    "  * 독립변수는 연령별 집단(청소년, 성인, 노인), 종속변수(유튜브 시청 시간)\n",
    "  * 셋 이상의 집단이지만 독립변수는 '연령별 집단' 하나"
   ]
  },
  {
   "cell_type": "markdown",
   "id": "8f7a0080",
   "metadata": {},
   "source": [
    "* 일원 분산분석 \n",
    "* 신형 휴대폰 A, B, C의 속도 차이가 있는지 여부\n",
    "* 귀무가설($ H_0 $): A, B, C라는 세 대의 신형 휴대폰 간의 속도 차이는 없다.\n",
    "* 대립가설($ H_1 $): A, B, C라는 세 대의 신형 휴대폰 간의 속도 차이가 있다."
   ]
  },
  {
   "cell_type": "code",
   "execution_count": 66,
   "id": "71c77a2c",
   "metadata": {},
   "outputs": [],
   "source": [
    "import statsmodels.api as sm\n",
    "from statsmodels.formula.api import ols"
   ]
  },
  {
   "cell_type": "code",
   "execution_count": 68,
   "id": "87dc6d5c",
   "metadata": {},
   "outputs": [
    {
     "name": "stdout",
     "output_type": "stream",
     "text": [
      "phone_speed [88.7203376  92.87973416 90.0690844  88.62207957 85.59136998 91.14735283\n",
      " 85.93968028 97.29432502 99.09156901 84.58603797 94.79312595 88.22237299\n",
      " 89.20111403 98.13991596 76.77590145 77.17823249 75.50545994 95.81549614\n",
      " 94.45391877 96.75030371 99.46545856 94.97896411 86.53698406 94.51322941\n",
      " 77.95686065 90.99802553 78.58383219 98.61672293 88.04620804 85.3665485\n",
      " 81.6138903  94.35584224 86.40375831 89.21084872 75.46974501 90.44088743\n",
      " 90.30239307 90.42334992 98.59370196 92.04550748 83.98769751 85.92579884\n",
      " 92.4407799  76.50563679 91.66916789]\n",
      "telecom ['A' 'B' 'C' 'A' 'B' 'C' 'A' 'B' 'C' 'A' 'B' 'C' 'A' 'B' 'C' 'A' 'B' 'C'\n",
      " 'A' 'B' 'C' 'A' 'B' 'C' 'A' 'B' 'C' 'A' 'B' 'C' 'A' 'B' 'C' 'A' 'B' 'C'\n",
      " 'A' 'B' 'C' 'A' 'B' 'C' 'A' 'B' 'C']\n"
     ]
    }
   ],
   "source": [
    "# 분산분석을 위한 데이터 생성\n",
    "np.random.seed(0)\n",
    "phone_speed = np.random.uniform(75, 100, 45)\n",
    "telecom = np.tile(['A', 'B', 'C'], 15)\n",
    "print(\"phone_speed\", phone_speed)\n",
    "print(\"telecom\", telecom)"
   ]
  },
  {
   "cell_type": "code",
   "execution_count": 69,
   "id": "d6a23b90",
   "metadata": {},
   "outputs": [
    {
     "data": {
      "text/html": [
       "<div>\n",
       "<style scoped>\n",
       "    .dataframe tbody tr th:only-of-type {\n",
       "        vertical-align: middle;\n",
       "    }\n",
       "\n",
       "    .dataframe tbody tr th {\n",
       "        vertical-align: top;\n",
       "    }\n",
       "\n",
       "    .dataframe thead th {\n",
       "        text-align: right;\n",
       "    }\n",
       "</style>\n",
       "<table border=\"1\" class=\"dataframe\">\n",
       "  <thead>\n",
       "    <tr style=\"text-align: right;\">\n",
       "      <th></th>\n",
       "      <th>phone_speed</th>\n",
       "      <th>telecom</th>\n",
       "    </tr>\n",
       "  </thead>\n",
       "  <tbody>\n",
       "    <tr>\n",
       "      <th>0</th>\n",
       "      <td>88.720338</td>\n",
       "      <td>A</td>\n",
       "    </tr>\n",
       "    <tr>\n",
       "      <th>1</th>\n",
       "      <td>92.879734</td>\n",
       "      <td>B</td>\n",
       "    </tr>\n",
       "    <tr>\n",
       "      <th>2</th>\n",
       "      <td>90.069084</td>\n",
       "      <td>C</td>\n",
       "    </tr>\n",
       "    <tr>\n",
       "      <th>3</th>\n",
       "      <td>88.622080</td>\n",
       "      <td>A</td>\n",
       "    </tr>\n",
       "    <tr>\n",
       "      <th>4</th>\n",
       "      <td>85.591370</td>\n",
       "      <td>B</td>\n",
       "    </tr>\n",
       "    <tr>\n",
       "      <th>5</th>\n",
       "      <td>91.147353</td>\n",
       "      <td>C</td>\n",
       "    </tr>\n",
       "    <tr>\n",
       "      <th>6</th>\n",
       "      <td>85.939680</td>\n",
       "      <td>A</td>\n",
       "    </tr>\n",
       "    <tr>\n",
       "      <th>7</th>\n",
       "      <td>97.294325</td>\n",
       "      <td>B</td>\n",
       "    </tr>\n",
       "    <tr>\n",
       "      <th>8</th>\n",
       "      <td>99.091569</td>\n",
       "      <td>C</td>\n",
       "    </tr>\n",
       "    <tr>\n",
       "      <th>9</th>\n",
       "      <td>84.586038</td>\n",
       "      <td>A</td>\n",
       "    </tr>\n",
       "    <tr>\n",
       "      <th>10</th>\n",
       "      <td>94.793126</td>\n",
       "      <td>B</td>\n",
       "    </tr>\n",
       "    <tr>\n",
       "      <th>11</th>\n",
       "      <td>88.222373</td>\n",
       "      <td>C</td>\n",
       "    </tr>\n",
       "    <tr>\n",
       "      <th>12</th>\n",
       "      <td>89.201114</td>\n",
       "      <td>A</td>\n",
       "    </tr>\n",
       "    <tr>\n",
       "      <th>13</th>\n",
       "      <td>98.139916</td>\n",
       "      <td>B</td>\n",
       "    </tr>\n",
       "    <tr>\n",
       "      <th>14</th>\n",
       "      <td>76.775901</td>\n",
       "      <td>C</td>\n",
       "    </tr>\n",
       "    <tr>\n",
       "      <th>15</th>\n",
       "      <td>77.178232</td>\n",
       "      <td>A</td>\n",
       "    </tr>\n",
       "    <tr>\n",
       "      <th>16</th>\n",
       "      <td>75.505460</td>\n",
       "      <td>B</td>\n",
       "    </tr>\n",
       "    <tr>\n",
       "      <th>17</th>\n",
       "      <td>95.815496</td>\n",
       "      <td>C</td>\n",
       "    </tr>\n",
       "    <tr>\n",
       "      <th>18</th>\n",
       "      <td>94.453919</td>\n",
       "      <td>A</td>\n",
       "    </tr>\n",
       "    <tr>\n",
       "      <th>19</th>\n",
       "      <td>96.750304</td>\n",
       "      <td>B</td>\n",
       "    </tr>\n",
       "    <tr>\n",
       "      <th>20</th>\n",
       "      <td>99.465459</td>\n",
       "      <td>C</td>\n",
       "    </tr>\n",
       "    <tr>\n",
       "      <th>21</th>\n",
       "      <td>94.978964</td>\n",
       "      <td>A</td>\n",
       "    </tr>\n",
       "    <tr>\n",
       "      <th>22</th>\n",
       "      <td>86.536984</td>\n",
       "      <td>B</td>\n",
       "    </tr>\n",
       "    <tr>\n",
       "      <th>23</th>\n",
       "      <td>94.513229</td>\n",
       "      <td>C</td>\n",
       "    </tr>\n",
       "    <tr>\n",
       "      <th>24</th>\n",
       "      <td>77.956861</td>\n",
       "      <td>A</td>\n",
       "    </tr>\n",
       "    <tr>\n",
       "      <th>25</th>\n",
       "      <td>90.998026</td>\n",
       "      <td>B</td>\n",
       "    </tr>\n",
       "    <tr>\n",
       "      <th>26</th>\n",
       "      <td>78.583832</td>\n",
       "      <td>C</td>\n",
       "    </tr>\n",
       "    <tr>\n",
       "      <th>27</th>\n",
       "      <td>98.616723</td>\n",
       "      <td>A</td>\n",
       "    </tr>\n",
       "    <tr>\n",
       "      <th>28</th>\n",
       "      <td>88.046208</td>\n",
       "      <td>B</td>\n",
       "    </tr>\n",
       "    <tr>\n",
       "      <th>29</th>\n",
       "      <td>85.366548</td>\n",
       "      <td>C</td>\n",
       "    </tr>\n",
       "    <tr>\n",
       "      <th>30</th>\n",
       "      <td>81.613890</td>\n",
       "      <td>A</td>\n",
       "    </tr>\n",
       "    <tr>\n",
       "      <th>31</th>\n",
       "      <td>94.355842</td>\n",
       "      <td>B</td>\n",
       "    </tr>\n",
       "    <tr>\n",
       "      <th>32</th>\n",
       "      <td>86.403758</td>\n",
       "      <td>C</td>\n",
       "    </tr>\n",
       "    <tr>\n",
       "      <th>33</th>\n",
       "      <td>89.210849</td>\n",
       "      <td>A</td>\n",
       "    </tr>\n",
       "    <tr>\n",
       "      <th>34</th>\n",
       "      <td>75.469745</td>\n",
       "      <td>B</td>\n",
       "    </tr>\n",
       "    <tr>\n",
       "      <th>35</th>\n",
       "      <td>90.440887</td>\n",
       "      <td>C</td>\n",
       "    </tr>\n",
       "    <tr>\n",
       "      <th>36</th>\n",
       "      <td>90.302393</td>\n",
       "      <td>A</td>\n",
       "    </tr>\n",
       "    <tr>\n",
       "      <th>37</th>\n",
       "      <td>90.423350</td>\n",
       "      <td>B</td>\n",
       "    </tr>\n",
       "    <tr>\n",
       "      <th>38</th>\n",
       "      <td>98.593702</td>\n",
       "      <td>C</td>\n",
       "    </tr>\n",
       "    <tr>\n",
       "      <th>39</th>\n",
       "      <td>92.045507</td>\n",
       "      <td>A</td>\n",
       "    </tr>\n",
       "    <tr>\n",
       "      <th>40</th>\n",
       "      <td>83.987698</td>\n",
       "      <td>B</td>\n",
       "    </tr>\n",
       "    <tr>\n",
       "      <th>41</th>\n",
       "      <td>85.925799</td>\n",
       "      <td>C</td>\n",
       "    </tr>\n",
       "    <tr>\n",
       "      <th>42</th>\n",
       "      <td>92.440780</td>\n",
       "      <td>A</td>\n",
       "    </tr>\n",
       "    <tr>\n",
       "      <th>43</th>\n",
       "      <td>76.505637</td>\n",
       "      <td>B</td>\n",
       "    </tr>\n",
       "    <tr>\n",
       "      <th>44</th>\n",
       "      <td>91.669168</td>\n",
       "      <td>C</td>\n",
       "    </tr>\n",
       "  </tbody>\n",
       "</table>\n",
       "</div>"
      ],
      "text/plain": [
       "    phone_speed telecom\n",
       "0     88.720338       A\n",
       "1     92.879734       B\n",
       "2     90.069084       C\n",
       "3     88.622080       A\n",
       "4     85.591370       B\n",
       "5     91.147353       C\n",
       "6     85.939680       A\n",
       "7     97.294325       B\n",
       "8     99.091569       C\n",
       "9     84.586038       A\n",
       "10    94.793126       B\n",
       "11    88.222373       C\n",
       "12    89.201114       A\n",
       "13    98.139916       B\n",
       "14    76.775901       C\n",
       "15    77.178232       A\n",
       "16    75.505460       B\n",
       "17    95.815496       C\n",
       "18    94.453919       A\n",
       "19    96.750304       B\n",
       "20    99.465459       C\n",
       "21    94.978964       A\n",
       "22    86.536984       B\n",
       "23    94.513229       C\n",
       "24    77.956861       A\n",
       "25    90.998026       B\n",
       "26    78.583832       C\n",
       "27    98.616723       A\n",
       "28    88.046208       B\n",
       "29    85.366548       C\n",
       "30    81.613890       A\n",
       "31    94.355842       B\n",
       "32    86.403758       C\n",
       "33    89.210849       A\n",
       "34    75.469745       B\n",
       "35    90.440887       C\n",
       "36    90.302393       A\n",
       "37    90.423350       B\n",
       "38    98.593702       C\n",
       "39    92.045507       A\n",
       "40    83.987698       B\n",
       "41    85.925799       C\n",
       "42    92.440780       A\n",
       "43    76.505637       B\n",
       "44    91.669168       C"
      ]
     },
     "execution_count": 69,
     "metadata": {},
     "output_type": "execute_result"
    }
   ],
   "source": [
    "phone_data = pd.DataFrame(dict(phone_speed=phone_speed, telecom=telecom))\n",
    "phone_data"
   ]
  },
  {
   "cell_type": "code",
   "execution_count": 75,
   "id": "a71b2b8d",
   "metadata": {},
   "outputs": [
    {
     "name": "stdout",
     "output_type": "stream",
     "text": [
      "                 sum_sq    df       F    PR(>F)\n",
      "C(telecom)    28.992635   2.0  0.2983  0.743638\n",
      "Residual    2041.048907  42.0     NaN       NaN\n"
     ]
    }
   ],
   "source": [
    "# 분산 분석 수행\n",
    "model = ols('phone_speed ~ C(telecom)', data=phone_data).fit()\n",
    "# print(model.summary())\n",
    "anova_table = sm.stats.anova_lm(model, typ=2)\n",
    "print(anova_table)"
   ]
  },
  {
   "cell_type": "code",
   "execution_count": null,
   "id": "57ceb228",
   "metadata": {},
   "outputs": [],
   "source": []
  },
  {
   "cell_type": "code",
   "execution_count": null,
   "id": "956fe4bc",
   "metadata": {},
   "outputs": [],
   "source": []
  }
 ],
 "metadata": {
  "kernelspec": {
   "display_name": "Python 3 (ipykernel)",
   "language": "python",
   "name": "python3"
  },
  "language_info": {
   "codemirror_mode": {
    "name": "ipython",
    "version": 3
   },
   "file_extension": ".py",
   "mimetype": "text/x-python",
   "name": "python",
   "nbconvert_exporter": "python",
   "pygments_lexer": "ipython3",
   "version": "3.10.14"
  }
 },
 "nbformat": 4,
 "nbformat_minor": 5
}
