{
 "cells": [
  {
   "cell_type": "markdown",
   "id": "2559d455",
   "metadata": {},
   "source": [
    "# numpy란?\n",
    "* Numerical Python 과학적, 산업적 연산을 위한 파이썬 패키지\n",
    "* 다차원 배열, 행렬 연산에 주로 사용"
   ]
  },
  {
   "cell_type": "code",
   "execution_count": null,
   "id": "8e5b2c6b",
   "metadata": {},
   "outputs": [],
   "source": [
    "# !pip install numpy\n",
    "# !conda install numpy"
   ]
  },
  {
   "cell_type": "markdown",
   "id": "297cfd99",
   "metadata": {},
   "source": [
    "# 차원"
   ]
  },
  {
   "cell_type": "markdown",
   "id": "1c9b68e3",
   "metadata": {},
   "source": [
    "* 0차원 = 점 . 스칼라 a = 10"
   ]
  },
  {
   "cell_type": "markdown",
   "id": "c3dadc8d",
   "metadata": {},
   "source": [
    "* 1차원 = 선 -------------------  벡터  [1,2,3,4,5]<br>\n",
    "[1]<br>\n",
    "[2]<br>\n",
    "[3]<br>\n",
    "[4]<br>\n",
    "[5]<br>\n",
    "* 벡터는 방향을 가진 데이터"
   ]
  },
  {
   "cell_type": "markdown",
   "id": "ee5fe76c",
   "metadata": {},
   "source": [
    "* 2차원 = 면 matrix, dataframe"
   ]
  },
  {
   "cell_type": "markdown",
   "id": "0a453e75",
   "metadata": {},
   "source": [
    "* 3차원 = 공간, 입체"
   ]
  },
  {
   "cell_type": "markdown",
   "id": "271f1a6e",
   "metadata": {},
   "source": [
    "* 4차원 = ? 3차원 요소가 2개 이상"
   ]
  },
  {
   "cell_type": "code",
   "execution_count": 1,
   "id": "786858ec",
   "metadata": {},
   "outputs": [],
   "source": [
    "import numpy as np"
   ]
  },
  {
   "cell_type": "code",
   "execution_count": 2,
   "id": "a97b0873",
   "metadata": {
    "scrolled": true
   },
   "outputs": [],
   "source": [
    "a = np.array([1,2,3,4,5])"
   ]
  },
  {
   "cell_type": "code",
   "execution_count": 5,
   "id": "c78af662",
   "metadata": {},
   "outputs": [],
   "source": [
    "a2 = [1,2,3,4,5]"
   ]
  },
  {
   "cell_type": "code",
   "execution_count": 6,
   "id": "16dc63a9",
   "metadata": {
    "scrolled": true
   },
   "outputs": [
    {
     "name": "stdout",
     "output_type": "stream",
     "text": [
      "[1 2 3 4 5]\n",
      "[1, 2, 3, 4, 5]\n"
     ]
    }
   ],
   "source": [
    "print(a)\n",
    "print(a2)"
   ]
  },
  {
   "cell_type": "code",
   "execution_count": 11,
   "id": "cce4bd2f",
   "metadata": {},
   "outputs": [],
   "source": [
    "b = 32"
   ]
  },
  {
   "cell_type": "code",
   "execution_count": 7,
   "id": "be3c923a",
   "metadata": {
    "scrolled": true
   },
   "outputs": [
    {
     "data": {
      "text/plain": [
       "1"
      ]
     },
     "execution_count": 7,
     "metadata": {},
     "output_type": "execute_result"
    }
   ],
   "source": [
    "a.ndim"
   ]
  },
  {
   "cell_type": "code",
   "execution_count": 8,
   "id": "3f329e8c",
   "metadata": {},
   "outputs": [
    {
     "data": {
      "text/plain": [
       "(5,)"
      ]
     },
     "execution_count": 8,
     "metadata": {},
     "output_type": "execute_result"
    }
   ],
   "source": [
    "# 방향이 없는 벡터\n",
    "a.shape"
   ]
  },
  {
   "cell_type": "code",
   "execution_count": 11,
   "id": "d4fa064f",
   "metadata": {},
   "outputs": [
    {
     "data": {
      "text/plain": [
       "array([[1, 2, 3, 4, 5],\n",
       "       [1, 2, 3, 4, 5]])"
      ]
     },
     "execution_count": 11,
     "metadata": {},
     "output_type": "execute_result"
    }
   ],
   "source": [
    "c = np.array([[1,2,3,4,5],[1,2,3,4,5]])\n",
    "c"
   ]
  },
  {
   "cell_type": "code",
   "execution_count": 12,
   "id": "14052027",
   "metadata": {
    "scrolled": true
   },
   "outputs": [
    {
     "data": {
      "text/plain": [
       "2"
      ]
     },
     "execution_count": 12,
     "metadata": {},
     "output_type": "execute_result"
    }
   ],
   "source": [
    "c.ndim"
   ]
  },
  {
   "cell_type": "code",
   "execution_count": 13,
   "id": "397df207",
   "metadata": {},
   "outputs": [
    {
     "data": {
      "text/plain": [
       "(2, 5)"
      ]
     },
     "execution_count": 13,
     "metadata": {},
     "output_type": "execute_result"
    }
   ],
   "source": [
    "c.shape"
   ]
  },
  {
   "cell_type": "code",
   "execution_count": 15,
   "id": "b926105e",
   "metadata": {},
   "outputs": [
    {
     "data": {
      "text/plain": [
       "array([[[1, 2, 3, 4, 5],\n",
       "        [1, 2, 3, 4, 5]],\n",
       "\n",
       "       [[1, 2, 3, 4, 5],\n",
       "        [1, 2, 3, 4, 5]]])"
      ]
     },
     "execution_count": 15,
     "metadata": {},
     "output_type": "execute_result"
    }
   ],
   "source": [
    "# 3차원 데이터\n",
    "d = np.array([[[1,2,3,4,5],[1,2,3,4,5]], [[1,2,3,4,5],[1,2,3,4,5]]])\n",
    "d"
   ]
  },
  {
   "cell_type": "code",
   "execution_count": 16,
   "id": "f6cb5a3d",
   "metadata": {},
   "outputs": [
    {
     "data": {
      "text/plain": [
       "3"
      ]
     },
     "execution_count": 16,
     "metadata": {},
     "output_type": "execute_result"
    }
   ],
   "source": [
    "d.ndim"
   ]
  },
  {
   "cell_type": "code",
   "execution_count": 17,
   "id": "37c6dd5d",
   "metadata": {},
   "outputs": [
    {
     "data": {
      "text/plain": [
       "(2, 2, 5)"
      ]
     },
     "execution_count": 17,
     "metadata": {},
     "output_type": "execute_result"
    }
   ],
   "source": [
    "d.shape"
   ]
  },
  {
   "cell_type": "code",
   "execution_count": 18,
   "id": "7adeedd2",
   "metadata": {},
   "outputs": [
    {
     "data": {
      "text/plain": [
       "array([[[[1, 2, 3, 4, 5],\n",
       "         [1, 2, 3, 4, 5]],\n",
       "\n",
       "        [[1, 2, 3, 4, 5],\n",
       "         [1, 2, 3, 4, 5]]],\n",
       "\n",
       "\n",
       "       [[[1, 2, 3, 4, 5],\n",
       "         [1, 2, 3, 4, 5]],\n",
       "\n",
       "        [[1, 2, 3, 4, 5],\n",
       "         [1, 2, 3, 4, 5]]]])"
      ]
     },
     "execution_count": 18,
     "metadata": {},
     "output_type": "execute_result"
    }
   ],
   "source": [
    "e = np.array([[[[1,2,3,4,5],[1,2,3,4,5]], [[1,2,3,4,5],[1,2,3,4,5]]], [[[1,2,3,4,5],[1,2,3,4,5]], [[1,2,3,4,5],[1,2,3,4,5]]]])\n",
    "e"
   ]
  },
  {
   "cell_type": "code",
   "execution_count": 19,
   "id": "fe7f87cd",
   "metadata": {},
   "outputs": [
    {
     "data": {
      "text/plain": [
       "4"
      ]
     },
     "execution_count": 19,
     "metadata": {},
     "output_type": "execute_result"
    }
   ],
   "source": [
    "e.ndim"
   ]
  },
  {
   "cell_type": "code",
   "execution_count": 28,
   "id": "e6430ac6",
   "metadata": {},
   "outputs": [
    {
     "data": {
      "text/plain": [
       "(2, 2, 2, 5)"
      ]
     },
     "execution_count": 28,
     "metadata": {},
     "output_type": "execute_result"
    }
   ],
   "source": [
    "e.shape"
   ]
  },
  {
   "cell_type": "code",
   "execution_count": 20,
   "id": "2b9fab11",
   "metadata": {},
   "outputs": [
    {
     "data": {
      "text/plain": [
       "array([[[[[1, 2, 3, 4, 5],\n",
       "          [1, 2, 3, 4, 5]],\n",
       "\n",
       "         [[1, 2, 3, 4, 5],\n",
       "          [1, 2, 3, 4, 5]]],\n",
       "\n",
       "\n",
       "        [[[1, 2, 3, 4, 5],\n",
       "          [1, 2, 3, 4, 5]],\n",
       "\n",
       "         [[1, 2, 3, 4, 5],\n",
       "          [1, 2, 3, 4, 5]]]],\n",
       "\n",
       "\n",
       "\n",
       "       [[[[1, 2, 3, 4, 5],\n",
       "          [1, 2, 3, 4, 5]],\n",
       "\n",
       "         [[1, 2, 3, 4, 5],\n",
       "          [1, 2, 3, 4, 5]]],\n",
       "\n",
       "\n",
       "        [[[1, 2, 3, 4, 5],\n",
       "          [1, 2, 3, 4, 5]],\n",
       "\n",
       "         [[1, 2, 3, 4, 5],\n",
       "          [1, 2, 3, 4, 5]]]]])"
      ]
     },
     "execution_count": 20,
     "metadata": {},
     "output_type": "execute_result"
    }
   ],
   "source": [
    "f = np.array([[[[[1,2,3,4,5],[1,2,3,4,5]], [[1,2,3,4,5],[1,2,3,4,5]]], [[[1,2,3,4,5],[1,2,3,4,5]], [[1,2,3,4,5],[1,2,3,4,5]]]], [[[[1,2,3,4,5],[1,2,3,4,5]], [[1,2,3,4,5],[1,2,3,4,5]]], [[[1,2,3,4,5],[1,2,3,4,5]], [[1,2,3,4,5],[1,2,3,4,5]]]]])\n",
    "f"
   ]
  },
  {
   "cell_type": "code",
   "execution_count": 23,
   "id": "df9b1af0",
   "metadata": {},
   "outputs": [
    {
     "data": {
      "text/plain": [
       "5"
      ]
     },
     "execution_count": 23,
     "metadata": {},
     "output_type": "execute_result"
    }
   ],
   "source": [
    "f.ndim"
   ]
  },
  {
   "cell_type": "code",
   "execution_count": 29,
   "id": "162ff777",
   "metadata": {},
   "outputs": [
    {
     "data": {
      "text/plain": [
       "(2, 2, 2, 2, 5)"
      ]
     },
     "execution_count": 29,
     "metadata": {},
     "output_type": "execute_result"
    }
   ],
   "source": [
    "f.shape"
   ]
  },
  {
   "cell_type": "markdown",
   "id": "b3011202",
   "metadata": {},
   "source": [
    "# numpy를 사용하는 이유: 행렬 연산이 쉽고 빠르기 때문\n"
   ]
  },
  {
   "cell_type": "markdown",
   "id": "4068d82c",
   "metadata": {},
   "source": [
    "* 스칼라 연산"
   ]
  },
  {
   "cell_type": "code",
   "execution_count": 21,
   "id": "74042063",
   "metadata": {},
   "outputs": [],
   "source": [
    "a = 10"
   ]
  },
  {
   "cell_type": "code",
   "execution_count": 22,
   "id": "c9ecef61",
   "metadata": {},
   "outputs": [
    {
     "data": {
      "text/plain": [
       "11"
      ]
     },
     "execution_count": 22,
     "metadata": {},
     "output_type": "execute_result"
    }
   ],
   "source": [
    "scalar = a + 1\n",
    "scalar"
   ]
  },
  {
   "cell_type": "markdown",
   "id": "dd6d4a18",
   "metadata": {},
   "source": [
    "* 벡터연산"
   ]
  },
  {
   "cell_type": "code",
   "execution_count": 32,
   "id": "c348d23d",
   "metadata": {},
   "outputs": [
    {
     "data": {
      "text/plain": [
       "array([1, 2, 3, 4, 5])"
      ]
     },
     "execution_count": 32,
     "metadata": {},
     "output_type": "execute_result"
    }
   ],
   "source": [
    "b = np.array([1,2,3,4,5])\n",
    "b"
   ]
  },
  {
   "cell_type": "code",
   "execution_count": 23,
   "id": "d4735233",
   "metadata": {},
   "outputs": [],
   "source": [
    "c = [5,6,7,8,9]"
   ]
  },
  {
   "cell_type": "code",
   "execution_count": 39,
   "id": "46a58e9a",
   "metadata": {},
   "outputs": [
    {
     "ename": "TypeError",
     "evalue": "can only concatenate list (not \"int\") to list",
     "output_type": "error",
     "traceback": [
      "\u001b[1;31m---------------------------------------------------------------------------\u001b[0m",
      "\u001b[1;31mTypeError\u001b[0m                                 Traceback (most recent call last)",
      "Cell \u001b[1;32mIn[39], line 1\u001b[0m\n\u001b[1;32m----> 1\u001b[0m \u001b[43mc\u001b[49m\u001b[43m \u001b[49m\u001b[38;5;241;43m+\u001b[39;49m\u001b[43m \u001b[49m\u001b[38;5;241;43m5\u001b[39;49m\n",
      "\u001b[1;31mTypeError\u001b[0m: can only concatenate list (not \"int\") to list"
     ]
    }
   ],
   "source": [
    "c + 5"
   ]
  },
  {
   "cell_type": "code",
   "execution_count": 25,
   "id": "e0cb3a68",
   "metadata": {},
   "outputs": [
    {
     "data": {
      "text/plain": [
       "[8, 9, 10, 11, 12]"
      ]
     },
     "execution_count": 25,
     "metadata": {},
     "output_type": "execute_result"
    }
   ],
   "source": [
    "hap = []\n",
    "for num in c:\n",
    "    hap.append(num + 3) \n",
    "hap"
   ]
  },
  {
   "cell_type": "code",
   "execution_count": 26,
   "id": "f2dcfc01",
   "metadata": {},
   "outputs": [
    {
     "data": {
      "text/plain": [
       "[8, 9, 10, 11, 12]"
      ]
     },
     "execution_count": 26,
     "metadata": {},
     "output_type": "execute_result"
    }
   ],
   "source": [
    "hap = [num + 3 for num in c]\n",
    "hap"
   ]
  },
  {
   "cell_type": "code",
   "execution_count": 36,
   "id": "eaa952f5",
   "metadata": {},
   "outputs": [
    {
     "data": {
      "text/plain": [
       "array([4, 5, 6, 7, 8])"
      ]
     },
     "execution_count": 36,
     "metadata": {},
     "output_type": "execute_result"
    }
   ],
   "source": [
    "b + 3"
   ]
  },
  {
   "cell_type": "code",
   "execution_count": 37,
   "id": "a892e6af",
   "metadata": {},
   "outputs": [
    {
     "data": {
      "text/plain": [
       "array([ 8, 16, 24, 32, 40])"
      ]
     },
     "execution_count": 37,
     "metadata": {},
     "output_type": "execute_result"
    }
   ],
   "source": [
    "b * 8"
   ]
  },
  {
   "cell_type": "markdown",
   "id": "260e2c32",
   "metadata": {},
   "source": [
    "* 2차원 연산 + 5 하기"
   ]
  },
  {
   "cell_type": "code",
   "execution_count": 30,
   "id": "15eeee42",
   "metadata": {},
   "outputs": [
    {
     "data": {
      "text/plain": [
       "[[1, 2, 3], [1, 2, 3], [1, 2, 3]]"
      ]
     },
     "execution_count": 30,
     "metadata": {},
     "output_type": "execute_result"
    }
   ],
   "source": [
    "d = [[1,2,3],[1,2,3],[1,2,3]]\n",
    "d"
   ]
  },
  {
   "cell_type": "code",
   "execution_count": 31,
   "id": "d570a76e",
   "metadata": {},
   "outputs": [
    {
     "data": {
      "text/plain": [
       "[[6, 7, 8], [6, 7, 8], [6, 7, 8]]"
      ]
     },
     "execution_count": 31,
     "metadata": {},
     "output_type": "execute_result"
    }
   ],
   "source": [
    "hap = []\n",
    "for i in d:\n",
    "    temp = []\n",
    "    for j in i:\n",
    "        temp.append(j+5)\n",
    "    hap.append(temp)\n",
    "hap"
   ]
  },
  {
   "cell_type": "code",
   "execution_count": 32,
   "id": "5f05ecd4",
   "metadata": {},
   "outputs": [
    {
     "data": {
      "text/plain": [
       "array([[1, 2, 3],\n",
       "       [1, 2, 3],\n",
       "       [1, 2, 3]])"
      ]
     },
     "execution_count": 32,
     "metadata": {},
     "output_type": "execute_result"
    }
   ],
   "source": [
    "d2 = np.array([[1,2,3],[1,2,3],[1,2,3]])\n",
    "d2"
   ]
  },
  {
   "cell_type": "code",
   "execution_count": 29,
   "id": "91ec2c3f",
   "metadata": {},
   "outputs": [
    {
     "data": {
      "text/plain": [
       "2"
      ]
     },
     "execution_count": 29,
     "metadata": {},
     "output_type": "execute_result"
    }
   ],
   "source": [
    "d2.ndim"
   ]
  },
  {
   "cell_type": "code",
   "execution_count": 33,
   "id": "9075fcf1",
   "metadata": {
    "scrolled": true
   },
   "outputs": [
    {
     "data": {
      "text/plain": [
       "array([[6, 7, 8],\n",
       "       [6, 7, 8],\n",
       "       [6, 7, 8]])"
      ]
     },
     "execution_count": 33,
     "metadata": {},
     "output_type": "execute_result"
    }
   ],
   "source": [
    "d2 + 5"
   ]
  },
  {
   "cell_type": "markdown",
   "id": "a4bd42dc",
   "metadata": {},
   "source": [
    "# numpy에서 자주 사용하는 매서드\n",
    "* .ndim: 몇 차원인지 보는 것\n",
    "* .shape: 몇 차원, 몇 행 몇 열로 되어있는지 구조 확인\n",
    "* .size: 배열 안에 있는 요소의 총 갯수가 몇 개인지\n",
    "* .dtype: 데이터 타입이 무엇인지\n",
    "* .itemsize: 1개 자료의 크기는 몇 인지"
   ]
  },
  {
   "cell_type": "code",
   "execution_count": 34,
   "id": "030bb534",
   "metadata": {},
   "outputs": [
    {
     "data": {
      "text/plain": [
       "2"
      ]
     },
     "execution_count": 34,
     "metadata": {},
     "output_type": "execute_result"
    }
   ],
   "source": [
    "d2.ndim"
   ]
  },
  {
   "cell_type": "code",
   "execution_count": 35,
   "id": "72c11dd1",
   "metadata": {},
   "outputs": [
    {
     "data": {
      "text/plain": [
       "(3, 3)"
      ]
     },
     "execution_count": 35,
     "metadata": {},
     "output_type": "execute_result"
    }
   ],
   "source": [
    "d2.shape"
   ]
  },
  {
   "cell_type": "code",
   "execution_count": 36,
   "id": "6f7bd576",
   "metadata": {},
   "outputs": [
    {
     "data": {
      "text/plain": [
       "9"
      ]
     },
     "execution_count": 36,
     "metadata": {},
     "output_type": "execute_result"
    }
   ],
   "source": [
    "d2.size"
   ]
  },
  {
   "cell_type": "code",
   "execution_count": 37,
   "id": "6f13fea3",
   "metadata": {},
   "outputs": [
    {
     "data": {
      "text/plain": [
       "dtype('int64')"
      ]
     },
     "execution_count": 37,
     "metadata": {},
     "output_type": "execute_result"
    }
   ],
   "source": [
    "d2.dtype"
   ]
  },
  {
   "cell_type": "code",
   "execution_count": 38,
   "id": "c253822a",
   "metadata": {},
   "outputs": [
    {
     "data": {
      "text/plain": [
       "8"
      ]
     },
     "execution_count": 38,
     "metadata": {},
     "output_type": "execute_result"
    }
   ],
   "source": [
    "# item 한 개의 byte 수\n",
    "d2.itemsize"
   ]
  },
  {
   "cell_type": "code",
   "execution_count": 39,
   "id": "bf666ec9",
   "metadata": {},
   "outputs": [
    {
     "data": {
      "text/plain": [
       "array([[0.5, 1. , 1.5],\n",
       "       [0.5, 1. , 1.5],\n",
       "       [0.5, 1. , 1.5]])"
      ]
     },
     "execution_count": 39,
     "metadata": {},
     "output_type": "execute_result"
    }
   ],
   "source": [
    "d3 = d2 / 2\n",
    "d3"
   ]
  },
  {
   "cell_type": "code",
   "execution_count": 40,
   "id": "12e40c06",
   "metadata": {},
   "outputs": [
    {
     "data": {
      "text/plain": [
       "dtype('float64')"
      ]
     },
     "execution_count": 40,
     "metadata": {},
     "output_type": "execute_result"
    }
   ],
   "source": [
    "d3.dtype"
   ]
  },
  {
   "cell_type": "markdown",
   "id": "7b200449",
   "metadata": {},
   "source": [
    "# ndarray 만들기\n",
    "* np.array(리스트/튜플)\n",
    "* 자료형은 반드시 1가지만 넣는다."
   ]
  },
  {
   "cell_type": "code",
   "execution_count": 41,
   "id": "04665b1b",
   "metadata": {},
   "outputs": [
    {
     "data": {
      "text/plain": [
       "dtype('int64')"
      ]
     },
     "execution_count": 41,
     "metadata": {},
     "output_type": "execute_result"
    }
   ],
   "source": [
    "e = np.array([1,2,3,4,5])\n",
    "e.dtype"
   ]
  },
  {
   "cell_type": "code",
   "execution_count": 43,
   "id": "ae6d6db6",
   "metadata": {},
   "outputs": [
    {
     "name": "stdout",
     "output_type": "stream",
     "text": [
      "float64\n",
      "[1.  2.  3.  4.  5.3]\n"
     ]
    }
   ],
   "source": [
    "e2 = np.array([1,2,3,4,5.3])\n",
    "print(e2.dtype)\n",
    "print(e2)"
   ]
  },
  {
   "cell_type": "code",
   "execution_count": 44,
   "id": "342f9d7f",
   "metadata": {},
   "outputs": [
    {
     "name": "stdout",
     "output_type": "stream",
     "text": [
      "<U32\n",
      "<class 'numpy.ndarray'>\n",
      "['1' '2' '3' '4' '5.3']\n"
     ]
    }
   ],
   "source": [
    "e3 = np.array([1,2,'3',4,5.3])\n",
    "print(e3.dtype)\n",
    "print(type(e3))\n",
    "print(e3)"
   ]
  },
  {
   "cell_type": "code",
   "execution_count": 45,
   "id": "c16911c8",
   "metadata": {},
   "outputs": [
    {
     "name": "stdout",
     "output_type": "stream",
     "text": [
      "<class 'numpy.str_'>\n",
      "<class 'numpy.str_'>\n",
      "<class 'numpy.str_'>\n",
      "<class 'numpy.str_'>\n",
      "<class 'numpy.str_'>\n"
     ]
    }
   ],
   "source": [
    "for i in e3:\n",
    "    print(type(i))"
   ]
  },
  {
   "cell_type": "markdown",
   "id": "1940e04b",
   "metadata": {},
   "source": [
    "* np.arange(시작, 끝+1, step)"
   ]
  },
  {
   "cell_type": "code",
   "execution_count": 77,
   "id": "c0c3f983",
   "metadata": {},
   "outputs": [
    {
     "data": {
      "text/plain": [
       "array([  1,   2,   3,   4,   5,   6,   7,   8,   9,  10,  11,  12,  13,\n",
       "        14,  15,  16,  17,  18,  19,  20,  21,  22,  23,  24,  25,  26,\n",
       "        27,  28,  29,  30,  31,  32,  33,  34,  35,  36,  37,  38,  39,\n",
       "        40,  41,  42,  43,  44,  45,  46,  47,  48,  49,  50,  51,  52,\n",
       "        53,  54,  55,  56,  57,  58,  59,  60,  61,  62,  63,  64,  65,\n",
       "        66,  67,  68,  69,  70,  71,  72,  73,  74,  75,  76,  77,  78,\n",
       "        79,  80,  81,  82,  83,  84,  85,  86,  87,  88,  89,  90,  91,\n",
       "        92,  93,  94,  95,  96,  97,  98,  99, 100])"
      ]
     },
     "execution_count": 77,
     "metadata": {},
     "output_type": "execute_result"
    }
   ],
   "source": [
    "np.arange(1,101)"
   ]
  },
  {
   "cell_type": "code",
   "execution_count": 78,
   "id": "ded83bb8",
   "metadata": {},
   "outputs": [
    {
     "data": {
      "text/plain": [
       "array([ 3,  6,  9, 12, 15, 18, 21, 24, 27, 30, 33, 36, 39, 42, 45, 48, 51,\n",
       "       54, 57, 60, 63, 66, 69, 72, 75, 78, 81, 84, 87, 90, 93, 96, 99])"
      ]
     },
     "execution_count": 78,
     "metadata": {},
     "output_type": "execute_result"
    }
   ],
   "source": [
    "np.arange(3,101,3)"
   ]
  },
  {
   "cell_type": "markdown",
   "id": "1fa10b78",
   "metadata": {},
   "source": [
    "* .reshape(행, 열)  벡터를 원하는 크기의 matrix또는 다차원 배열로 변환"
   ]
  },
  {
   "cell_type": "code",
   "execution_count": 46,
   "id": "77e9761d",
   "metadata": {},
   "outputs": [
    {
     "name": "stdout",
     "output_type": "stream",
     "text": [
      "[ 0  1  2  3  4  5  6  7  8  9 10 11 12 13 14 15 16 17 18 19 20 21 22 23]\n",
      "1\n",
      "(24,)\n"
     ]
    }
   ],
   "source": [
    "a = np.arange(24)\n",
    "print(a)\n",
    "print(a.ndim)\n",
    "print(a.shape)"
   ]
  },
  {
   "cell_type": "code",
   "execution_count": 47,
   "id": "3aa0de11",
   "metadata": {},
   "outputs": [
    {
     "name": "stdout",
     "output_type": "stream",
     "text": [
      "[[ 0  1  2  3  4  5  6  7]\n",
      " [ 8  9 10 11 12 13 14 15]\n",
      " [16 17 18 19 20 21 22 23]]\n",
      "2\n",
      "(3, 8)\n"
     ]
    }
   ],
   "source": [
    "b = a.reshape(3,8)\n",
    "print(b)\n",
    "print(b.ndim)\n",
    "print(b.shape)"
   ]
  },
  {
   "cell_type": "code",
   "execution_count": 49,
   "id": "efef8735",
   "metadata": {},
   "outputs": [
    {
     "name": "stdout",
     "output_type": "stream",
     "text": [
      "[[[[ 0  1]\n",
      "   [ 2  3]]\n",
      "\n",
      "  [[ 4  5]\n",
      "   [ 6  7]]]\n",
      "\n",
      "\n",
      " [[[ 8  9]\n",
      "   [10 11]]\n",
      "\n",
      "  [[12 13]\n",
      "   [14 15]]]\n",
      "\n",
      "\n",
      " [[[16 17]\n",
      "   [18 19]]\n",
      "\n",
      "  [[20 21]\n",
      "   [22 23]]]]\n",
      "4\n",
      "(3, 2, 2, 2)\n"
     ]
    }
   ],
   "source": [
    "c = a.reshape(3,2,2,2)\n",
    "print(c)\n",
    "print(c.ndim)\n",
    "print(c.shape)"
   ]
  },
  {
   "cell_type": "code",
   "execution_count": 50,
   "id": "7117921d",
   "metadata": {},
   "outputs": [
    {
     "name": "stdout",
     "output_type": "stream",
     "text": [
      "[ 0  1  2  3  4  5  6  7  8  9 10 11 12 13 14 15 16 17 18 19 20 21 22 23]\n",
      "1\n",
      "(24,)\n"
     ]
    }
   ],
   "source": [
    "d = c.reshape(24,)\n",
    "print(d)\n",
    "print(d.ndim)\n",
    "print(d.shape)"
   ]
  },
  {
   "cell_type": "markdown",
   "id": "8e855826",
   "metadata": {},
   "source": [
    "* flatten() 다차원 데이터를 1차원 배열로 바꿔주는 함수"
   ]
  },
  {
   "cell_type": "code",
   "execution_count": 51,
   "id": "53b12a4f",
   "metadata": {
    "scrolled": true
   },
   "outputs": [
    {
     "data": {
      "text/plain": [
       "array([ 0,  1,  2,  3,  4,  5,  6,  7,  8,  9, 10, 11, 12, 13, 14, 15, 16,\n",
       "       17, 18, 19, 20, 21, 22, 23])"
      ]
     },
     "execution_count": 51,
     "metadata": {},
     "output_type": "execute_result"
    }
   ],
   "source": [
    "c.flatten()"
   ]
  },
  {
   "cell_type": "markdown",
   "id": "8417d27d",
   "metadata": {},
   "source": [
    "* np.flip(데이터) 행렬의 순서를 뒤집을 때"
   ]
  },
  {
   "cell_type": "code",
   "execution_count": 52,
   "id": "da840204",
   "metadata": {},
   "outputs": [
    {
     "data": {
      "text/plain": [
       "array([[[[23, 22],\n",
       "         [21, 20]],\n",
       "\n",
       "        [[19, 18],\n",
       "         [17, 16]]],\n",
       "\n",
       "\n",
       "       [[[15, 14],\n",
       "         [13, 12]],\n",
       "\n",
       "        [[11, 10],\n",
       "         [ 9,  8]]],\n",
       "\n",
       "\n",
       "       [[[ 7,  6],\n",
       "         [ 5,  4]],\n",
       "\n",
       "        [[ 3,  2],\n",
       "         [ 1,  0]]]])"
      ]
     },
     "execution_count": 52,
     "metadata": {},
     "output_type": "execute_result"
    }
   ],
   "source": [
    "np.flip(c)"
   ]
  },
  {
   "cell_type": "code",
   "execution_count": 98,
   "id": "15b985c6",
   "metadata": {},
   "outputs": [
    {
     "data": {
      "text/plain": [
       "array([[[[16, 17],\n",
       "         [18, 19]],\n",
       "\n",
       "        [[20, 21],\n",
       "         [22, 23]]],\n",
       "\n",
       "\n",
       "       [[[ 8,  9],\n",
       "         [10, 11]],\n",
       "\n",
       "        [[12, 13],\n",
       "         [14, 15]]],\n",
       "\n",
       "\n",
       "       [[[ 0,  1],\n",
       "         [ 2,  3]],\n",
       "\n",
       "        [[ 4,  5],\n",
       "         [ 6,  7]]]])"
      ]
     },
     "execution_count": 98,
     "metadata": {},
     "output_type": "execute_result"
    }
   ],
   "source": [
    "c[::-1]"
   ]
  },
  {
   "cell_type": "markdown",
   "id": "c9d419ac",
   "metadata": {},
   "source": [
    "정해진 숫자 범위 안에서 균등하게 구간을 나눌 때\n",
    "* np.linspace(시작, 끝, 구간 수)"
   ]
  },
  {
   "cell_type": "code",
   "execution_count": 99,
   "id": "79ab2111",
   "metadata": {},
   "outputs": [
    {
     "data": {
      "text/plain": [
       "array([0.        , 0.00819672, 0.01639344, 0.02459016, 0.03278689,\n",
       "       0.04098361, 0.04918033, 0.05737705, 0.06557377, 0.07377049,\n",
       "       0.08196721, 0.09016393, 0.09836066, 0.10655738, 0.1147541 ,\n",
       "       0.12295082, 0.13114754, 0.13934426, 0.14754098, 0.1557377 ,\n",
       "       0.16393443, 0.17213115, 0.18032787, 0.18852459, 0.19672131,\n",
       "       0.20491803, 0.21311475, 0.22131148, 0.2295082 , 0.23770492,\n",
       "       0.24590164, 0.25409836, 0.26229508, 0.2704918 , 0.27868852,\n",
       "       0.28688525, 0.29508197, 0.30327869, 0.31147541, 0.31967213,\n",
       "       0.32786885, 0.33606557, 0.3442623 , 0.35245902, 0.36065574,\n",
       "       0.36885246, 0.37704918, 0.3852459 , 0.39344262, 0.40163934,\n",
       "       0.40983607, 0.41803279, 0.42622951, 0.43442623, 0.44262295,\n",
       "       0.45081967, 0.45901639, 0.46721311, 0.47540984, 0.48360656,\n",
       "       0.49180328, 0.5       , 0.50819672, 0.51639344, 0.52459016,\n",
       "       0.53278689, 0.54098361, 0.54918033, 0.55737705, 0.56557377,\n",
       "       0.57377049, 0.58196721, 0.59016393, 0.59836066, 0.60655738,\n",
       "       0.6147541 , 0.62295082, 0.63114754, 0.63934426, 0.64754098,\n",
       "       0.6557377 , 0.66393443, 0.67213115, 0.68032787, 0.68852459,\n",
       "       0.69672131, 0.70491803, 0.71311475, 0.72131148, 0.7295082 ,\n",
       "       0.73770492, 0.74590164, 0.75409836, 0.76229508, 0.7704918 ,\n",
       "       0.77868852, 0.78688525, 0.79508197, 0.80327869, 0.81147541,\n",
       "       0.81967213, 0.82786885, 0.83606557, 0.8442623 , 0.85245902,\n",
       "       0.86065574, 0.86885246, 0.87704918, 0.8852459 , 0.89344262,\n",
       "       0.90163934, 0.90983607, 0.91803279, 0.92622951, 0.93442623,\n",
       "       0.94262295, 0.95081967, 0.95901639, 0.96721311, 0.97540984,\n",
       "       0.98360656, 0.99180328, 1.        ])"
      ]
     },
     "execution_count": 99,
     "metadata": {},
     "output_type": "execute_result"
    }
   ],
   "source": [
    "np.linspace(0, 1, 123)"
   ]
  },
  {
   "cell_type": "code",
   "execution_count": 53,
   "id": "fd3fa118",
   "metadata": {},
   "outputs": [
    {
     "data": {
      "text/plain": [
       "array([ 5. ,  7. , 11. ,  1. ,  3. ,  2. , 54. ,  0.5,  0.6])"
      ]
     },
     "execution_count": 53,
     "metadata": {},
     "output_type": "execute_result"
    }
   ],
   "source": [
    "f = np.array([5,7,11,1,3,2,54,0.5,0.6])\n",
    "f"
   ]
  },
  {
   "cell_type": "code",
   "execution_count": 54,
   "id": "36da2ce9",
   "metadata": {},
   "outputs": [],
   "source": [
    "f.sort()"
   ]
  },
  {
   "cell_type": "code",
   "execution_count": 55,
   "id": "82c324a9",
   "metadata": {},
   "outputs": [
    {
     "data": {
      "text/plain": [
       "array([ 0.5,  0.6,  1. ,  2. ,  3. ,  5. ,  7. , 11. , 54. ])"
      ]
     },
     "execution_count": 55,
     "metadata": {},
     "output_type": "execute_result"
    }
   ],
   "source": [
    "f"
   ]
  },
  {
   "cell_type": "code",
   "execution_count": 56,
   "id": "fd354260",
   "metadata": {},
   "outputs": [
    {
     "data": {
      "text/plain": [
       "[np.float64(54.0),\n",
       " np.float64(11.0),\n",
       " np.float64(7.0),\n",
       " np.float64(5.0),\n",
       " np.float64(3.0),\n",
       " np.float64(2.0),\n",
       " np.float64(1.0),\n",
       " np.float64(0.6),\n",
       " np.float64(0.5)]"
      ]
     },
     "execution_count": 56,
     "metadata": {},
     "output_type": "execute_result"
    }
   ],
   "source": [
    "sorted(f, reverse=True)"
   ]
  },
  {
   "cell_type": "code",
   "execution_count": 57,
   "id": "12883f2d",
   "metadata": {},
   "outputs": [
    {
     "data": {
      "text/plain": [
       "array([ 0.5,  0.6,  1. ,  2. ,  3. ,  5. ,  7. , 11. , 54. ])"
      ]
     },
     "execution_count": 57,
     "metadata": {},
     "output_type": "execute_result"
    }
   ],
   "source": [
    "f"
   ]
  },
  {
   "cell_type": "markdown",
   "id": "983495eb",
   "metadata": {},
   "source": [
    "# argsort() 자료중 값이 작은 것에서 큰 순으로 원래 인덱스 출력"
   ]
  },
  {
   "cell_type": "code",
   "execution_count": 59,
   "id": "c226aaec",
   "metadata": {},
   "outputs": [
    {
     "name": "stdout",
     "output_type": "stream",
     "text": [
      "[ 5.   0.5 -7.  42.  10.   0. ]\n",
      "[2 5 1 0 4 3]\n",
      "[42.  10.   5.   0.5  0.  -7. ]\n"
     ]
    }
   ],
   "source": [
    "g = np.array([5, 0.5, -7, 42, 10, 0])\n",
    "print(g)\n",
    "s = g.argsort()\n",
    "print(s)\n",
    "print(g[s[::-1]])\n"
   ]
  },
  {
   "cell_type": "markdown",
   "id": "2d0b8b5a",
   "metadata": {},
   "source": [
    "# 배열 합치기\n",
    "np.concatenate()"
   ]
  },
  {
   "cell_type": "code",
   "execution_count": 60,
   "id": "5c7c3dcf",
   "metadata": {},
   "outputs": [
    {
     "name": "stdout",
     "output_type": "stream",
     "text": [
      "[[1 2]\n",
      " [3 4]]\n",
      "(2, 2)\n",
      "[[5 6]\n",
      " [7 8]]\n",
      "(2, 2)\n"
     ]
    }
   ],
   "source": [
    "a = np.array([[1,2],[3,4]])\n",
    "b = np.array([[5,6],[7,8]])\n",
    "print(a)\n",
    "print(a.shape)\n",
    "print(b)\n",
    "print(b.shape)"
   ]
  },
  {
   "cell_type": "markdown",
   "id": "c9262576",
   "metadata": {},
   "source": [
    "* np.concatenate((a,b)) 의 기본 병합 방향은 행방향, axis = 0\n",
    "* 행방향으로 합칠 때는 두 행렬의 열의 길이가 같아야 합쳐짐"
   ]
  },
  {
   "cell_type": "code",
   "execution_count": 61,
   "id": "718b5a63",
   "metadata": {},
   "outputs": [
    {
     "name": "stdout",
     "output_type": "stream",
     "text": [
      "(4, 2)\n"
     ]
    },
    {
     "data": {
      "text/plain": [
       "array([[1, 2],\n",
       "       [3, 4],\n",
       "       [5, 6],\n",
       "       [7, 8]])"
      ]
     },
     "execution_count": 61,
     "metadata": {},
     "output_type": "execute_result"
    }
   ],
   "source": [
    "concat_row = np.concatenate((a,b))\n",
    "print(concat_row.shape)\n",
    "concat_row"
   ]
  },
  {
   "cell_type": "markdown",
   "id": "15f7b68d",
   "metadata": {},
   "source": [
    "* axis=1은 열방향으로 붙음\n",
    "* 두 행렬의 행 길이가 같아야 붙음"
   ]
  },
  {
   "cell_type": "code",
   "execution_count": 62,
   "id": "ffb6441c",
   "metadata": {},
   "outputs": [
    {
     "name": "stdout",
     "output_type": "stream",
     "text": [
      "(2, 4)\n",
      "[[1 2 5 6]\n",
      " [3 4 7 8]]\n"
     ]
    }
   ],
   "source": [
    "concat_col = np.concatenate((a,b), axis=1)\n",
    "print(concat_col.shape)\n",
    "print(concat_col)"
   ]
  },
  {
   "cell_type": "markdown",
   "id": "22aa8c42",
   "metadata": {},
   "source": [
    "# 합치는 방향의 모양이 일치하지 않으면 합치기 X"
   ]
  },
  {
   "cell_type": "code",
   "execution_count": 63,
   "id": "a00009d7",
   "metadata": {},
   "outputs": [
    {
     "name": "stdout",
     "output_type": "stream",
     "text": [
      "[[1 2]\n",
      " [3 4]]\n",
      "(2, 2)\n",
      "2\n",
      "[[5 6]]\n",
      "(1, 2)\n",
      "2\n"
     ]
    }
   ],
   "source": [
    "c = np.array([[1,2],[3,4]])\n",
    "d = np.array([[5,6]])\n",
    "print(c)\n",
    "print(c.shape)\n",
    "print(c.ndim)\n",
    "print(d)\n",
    "print(d.shape)\n",
    "print(d.ndim)"
   ]
  },
  {
   "cell_type": "code",
   "execution_count": 64,
   "id": "fb36a78c",
   "metadata": {},
   "outputs": [
    {
     "name": "stdout",
     "output_type": "stream",
     "text": [
      "(3, 2)\n",
      "[[1 2]\n",
      " [3 4]\n",
      " [5 6]]\n"
     ]
    }
   ],
   "source": [
    "concat_row2 = np.concatenate((c,d), axis=0)\n",
    "print(concat_row2.shape)\n",
    "print(concat_row2)"
   ]
  },
  {
   "cell_type": "code",
   "execution_count": 65,
   "id": "ab0cacfd",
   "metadata": {},
   "outputs": [
    {
     "ename": "ValueError",
     "evalue": "all the input array dimensions except for the concatenation axis must match exactly, but along dimension 1, the array at index 0 has size 2 and the array at index 1 has size 1",
     "output_type": "error",
     "traceback": [
      "\u001b[1;31m---------------------------------------------------------------------------\u001b[0m",
      "\u001b[1;31mValueError\u001b[0m                                Traceback (most recent call last)",
      "Cell \u001b[1;32mIn[65], line 1\u001b[0m\n\u001b[1;32m----> 1\u001b[0m concat_row2 \u001b[38;5;241m=\u001b[39m \u001b[43mnp\u001b[49m\u001b[38;5;241;43m.\u001b[39;49m\u001b[43mconcatenate\u001b[49m\u001b[43m(\u001b[49m\u001b[43m(\u001b[49m\u001b[43mc\u001b[49m\u001b[43m,\u001b[49m\u001b[43md\u001b[49m\u001b[38;5;241;43m.\u001b[39;49m\u001b[43mT\u001b[49m\u001b[43m)\u001b[49m\u001b[43m,\u001b[49m\u001b[43m \u001b[49m\u001b[43maxis\u001b[49m\u001b[38;5;241;43m=\u001b[39;49m\u001b[38;5;241;43m0\u001b[39;49m\u001b[43m)\u001b[49m\n\u001b[0;32m      2\u001b[0m \u001b[38;5;28mprint\u001b[39m(concat_row2\u001b[38;5;241m.\u001b[39mshape)\n\u001b[0;32m      3\u001b[0m \u001b[38;5;28mprint\u001b[39m(concat_row2)\n",
      "\u001b[1;31mValueError\u001b[0m: all the input array dimensions except for the concatenation axis must match exactly, but along dimension 1, the array at index 0 has size 2 and the array at index 1 has size 1"
     ]
    }
   ],
   "source": [
    "concat_row2 = np.concatenate((c,d.T), axis=0)\n",
    "print(concat_row2.shape)\n",
    "print(concat_row2)"
   ]
  },
  {
   "cell_type": "code",
   "execution_count": 67,
   "id": "fb40ed3d",
   "metadata": {},
   "outputs": [
    {
     "ename": "ValueError",
     "evalue": "all the input array dimensions except for the concatenation axis must match exactly, but along dimension 0, the array at index 0 has size 2 and the array at index 1 has size 1",
     "output_type": "error",
     "traceback": [
      "\u001b[1;31m---------------------------------------------------------------------------\u001b[0m",
      "\u001b[1;31mValueError\u001b[0m                                Traceback (most recent call last)",
      "Cell \u001b[1;32mIn[67], line 1\u001b[0m\n\u001b[1;32m----> 1\u001b[0m concat_col2 \u001b[38;5;241m=\u001b[39m \u001b[43mnp\u001b[49m\u001b[38;5;241;43m.\u001b[39;49m\u001b[43mconcatenate\u001b[49m\u001b[43m(\u001b[49m\u001b[43m(\u001b[49m\u001b[43mc\u001b[49m\u001b[43m,\u001b[49m\u001b[43md\u001b[49m\u001b[43m)\u001b[49m\u001b[43m,\u001b[49m\u001b[43m \u001b[49m\u001b[43maxis\u001b[49m\u001b[38;5;241;43m=\u001b[39;49m\u001b[38;5;241;43m1\u001b[39;49m\u001b[43m)\u001b[49m\n\u001b[0;32m      2\u001b[0m \u001b[38;5;28mprint\u001b[39m(concat_col2\u001b[38;5;241m.\u001b[39mshape)\n\u001b[0;32m      3\u001b[0m \u001b[38;5;28mprint\u001b[39m(concat_col2)\n",
      "\u001b[1;31mValueError\u001b[0m: all the input array dimensions except for the concatenation axis must match exactly, but along dimension 0, the array at index 0 has size 2 and the array at index 1 has size 1"
     ]
    }
   ],
   "source": [
    "concat_col2 = np.concatenate((c,d), axis=1)\n",
    "print(concat_col2.shape)\n",
    "print(concat_col2)"
   ]
  },
  {
   "cell_type": "code",
   "execution_count": 68,
   "id": "394a6669",
   "metadata": {},
   "outputs": [
    {
     "name": "stdout",
     "output_type": "stream",
     "text": [
      "(2, 3)\n",
      "[[1 2 5]\n",
      " [3 4 6]]\n"
     ]
    }
   ],
   "source": [
    "concat_col2 = np.concatenate((c,d.T), axis=1)\n",
    "print(concat_col2.shape)\n",
    "print(concat_col2)"
   ]
  },
  {
   "cell_type": "code",
   "execution_count": null,
   "id": "b7e24798",
   "metadata": {},
   "outputs": [],
   "source": []
  },
  {
   "cell_type": "markdown",
   "id": "5648d83a",
   "metadata": {},
   "source": [
    "## 벡터와 매트릭스는 합칠 수 없다."
   ]
  },
  {
   "cell_type": "code",
   "execution_count": 69,
   "id": "214f7d61",
   "metadata": {},
   "outputs": [
    {
     "name": "stdout",
     "output_type": "stream",
     "text": [
      "[[1 2]\n",
      " [3 4]]\n",
      "(2, 2)\n",
      "2\n",
      "[5 6]\n",
      "(2,)\n",
      "1\n"
     ]
    }
   ],
   "source": [
    "e = np.array([[1,2],[3,4]])\n",
    "f = np.array([5,6])\n",
    "print(e)\n",
    "print(e.shape)\n",
    "print(e.ndim)\n",
    "print(f)\n",
    "print(f.shape)\n",
    "print(f.ndim)"
   ]
  },
  {
   "cell_type": "code",
   "execution_count": 70,
   "id": "c58afa78",
   "metadata": {
    "scrolled": true
   },
   "outputs": [
    {
     "ename": "ValueError",
     "evalue": "all the input arrays must have same number of dimensions, but the array at index 0 has 2 dimension(s) and the array at index 1 has 1 dimension(s)",
     "output_type": "error",
     "traceback": [
      "\u001b[1;31m---------------------------------------------------------------------------\u001b[0m",
      "\u001b[1;31mValueError\u001b[0m                                Traceback (most recent call last)",
      "Cell \u001b[1;32mIn[70], line 1\u001b[0m\n\u001b[1;32m----> 1\u001b[0m concat_row3 \u001b[38;5;241m=\u001b[39m \u001b[43mnp\u001b[49m\u001b[38;5;241;43m.\u001b[39;49m\u001b[43mconcatenate\u001b[49m\u001b[43m(\u001b[49m\u001b[43m(\u001b[49m\u001b[43me\u001b[49m\u001b[43m,\u001b[49m\u001b[43mf\u001b[49m\u001b[43m)\u001b[49m\u001b[43m,\u001b[49m\u001b[43m \u001b[49m\u001b[43maxis\u001b[49m\u001b[38;5;241;43m=\u001b[39;49m\u001b[38;5;241;43m0\u001b[39;49m\u001b[43m)\u001b[49m\n\u001b[0;32m      2\u001b[0m \u001b[38;5;28mprint\u001b[39m(concat_row3\u001b[38;5;241m.\u001b[39mshape)\n\u001b[0;32m      3\u001b[0m \u001b[38;5;28mprint\u001b[39m(concat_row3)\n",
      "\u001b[1;31mValueError\u001b[0m: all the input arrays must have same number of dimensions, but the array at index 0 has 2 dimension(s) and the array at index 1 has 1 dimension(s)"
     ]
    }
   ],
   "source": [
    "concat_row3 = np.concatenate((e,f), axis=0)\n",
    "print(concat_row3.shape)\n",
    "print(concat_row3)"
   ]
  },
  {
   "cell_type": "code",
   "execution_count": 71,
   "id": "247650c1",
   "metadata": {},
   "outputs": [
    {
     "ename": "ValueError",
     "evalue": "all the input arrays must have same number of dimensions, but the array at index 0 has 2 dimension(s) and the array at index 1 has 1 dimension(s)",
     "output_type": "error",
     "traceback": [
      "\u001b[1;31m---------------------------------------------------------------------------\u001b[0m",
      "\u001b[1;31mValueError\u001b[0m                                Traceback (most recent call last)",
      "Cell \u001b[1;32mIn[71], line 1\u001b[0m\n\u001b[1;32m----> 1\u001b[0m concat_col3 \u001b[38;5;241m=\u001b[39m \u001b[43mnp\u001b[49m\u001b[38;5;241;43m.\u001b[39;49m\u001b[43mconcatenate\u001b[49m\u001b[43m(\u001b[49m\u001b[43m(\u001b[49m\u001b[43me\u001b[49m\u001b[43m,\u001b[49m\u001b[43mf\u001b[49m\u001b[43m)\u001b[49m\u001b[43m,\u001b[49m\u001b[43m \u001b[49m\u001b[43maxis\u001b[49m\u001b[38;5;241;43m=\u001b[39;49m\u001b[38;5;241;43m1\u001b[39;49m\u001b[43m)\u001b[49m\n\u001b[0;32m      2\u001b[0m \u001b[38;5;28mprint\u001b[39m(concat_col3\u001b[38;5;241m.\u001b[39mshape)\n\u001b[0;32m      3\u001b[0m \u001b[38;5;28mprint\u001b[39m(concat_col3)\n",
      "\u001b[1;31mValueError\u001b[0m: all the input arrays must have same number of dimensions, but the array at index 0 has 2 dimension(s) and the array at index 1 has 1 dimension(s)"
     ]
    }
   ],
   "source": [
    "concat_col3 = np.concatenate((e,f), axis=1)\n",
    "print(concat_col3.shape)\n",
    "print(concat_col3)"
   ]
  },
  {
   "cell_type": "code",
   "execution_count": 72,
   "id": "0a7a1a36",
   "metadata": {},
   "outputs": [
    {
     "name": "stdout",
     "output_type": "stream",
     "text": [
      "[[1 2]\n",
      " [3 4]]\n",
      "(2, 2)\n",
      "2\n",
      "[[5 6 7]]\n",
      "(1, 3)\n",
      "2\n"
     ]
    }
   ],
   "source": [
    "g = np.array([[1,2],[3,4]])\n",
    "h = np.array([[5,6,7]])\n",
    "print(g)\n",
    "print(g.shape)\n",
    "print(g.ndim)\n",
    "print(h)\n",
    "print(h.shape)\n",
    "print(h.ndim)"
   ]
  },
  {
   "cell_type": "code",
   "execution_count": 73,
   "id": "b4196e93",
   "metadata": {
    "scrolled": true
   },
   "outputs": [
    {
     "ename": "ValueError",
     "evalue": "all the input array dimensions except for the concatenation axis must match exactly, but along dimension 1, the array at index 0 has size 2 and the array at index 1 has size 3",
     "output_type": "error",
     "traceback": [
      "\u001b[1;31m---------------------------------------------------------------------------\u001b[0m",
      "\u001b[1;31mValueError\u001b[0m                                Traceback (most recent call last)",
      "Cell \u001b[1;32mIn[73], line 1\u001b[0m\n\u001b[1;32m----> 1\u001b[0m concat_row4 \u001b[38;5;241m=\u001b[39m \u001b[43mnp\u001b[49m\u001b[38;5;241;43m.\u001b[39;49m\u001b[43mconcatenate\u001b[49m\u001b[43m(\u001b[49m\u001b[43m(\u001b[49m\u001b[43mg\u001b[49m\u001b[43m,\u001b[49m\u001b[43mh\u001b[49m\u001b[43m)\u001b[49m\u001b[43m,\u001b[49m\u001b[43m \u001b[49m\u001b[43maxis\u001b[49m\u001b[38;5;241;43m=\u001b[39;49m\u001b[38;5;241;43m0\u001b[39;49m\u001b[43m)\u001b[49m\n\u001b[0;32m      2\u001b[0m \u001b[38;5;28mprint\u001b[39m(concat_row4\u001b[38;5;241m.\u001b[39mshape)\n\u001b[0;32m      3\u001b[0m \u001b[38;5;28mprint\u001b[39m(concat_row4)\n",
      "\u001b[1;31mValueError\u001b[0m: all the input array dimensions except for the concatenation axis must match exactly, but along dimension 1, the array at index 0 has size 2 and the array at index 1 has size 3"
     ]
    }
   ],
   "source": [
    "concat_row4 = np.concatenate((g,h), axis=0)\n",
    "print(concat_row4.shape)\n",
    "print(concat_row4)"
   ]
  },
  {
   "cell_type": "code",
   "execution_count": 74,
   "id": "66041cc6",
   "metadata": {},
   "outputs": [
    {
     "ename": "ValueError",
     "evalue": "all the input array dimensions except for the concatenation axis must match exactly, but along dimension 0, the array at index 0 has size 2 and the array at index 1 has size 1",
     "output_type": "error",
     "traceback": [
      "\u001b[1;31m---------------------------------------------------------------------------\u001b[0m",
      "\u001b[1;31mValueError\u001b[0m                                Traceback (most recent call last)",
      "Cell \u001b[1;32mIn[74], line 1\u001b[0m\n\u001b[1;32m----> 1\u001b[0m concat_col4 \u001b[38;5;241m=\u001b[39m \u001b[43mnp\u001b[49m\u001b[38;5;241;43m.\u001b[39;49m\u001b[43mconcatenate\u001b[49m\u001b[43m(\u001b[49m\u001b[43m(\u001b[49m\u001b[43mg\u001b[49m\u001b[43m,\u001b[49m\u001b[43mh\u001b[49m\u001b[43m)\u001b[49m\u001b[43m,\u001b[49m\u001b[43m \u001b[49m\u001b[43maxis\u001b[49m\u001b[38;5;241;43m=\u001b[39;49m\u001b[38;5;241;43m1\u001b[39;49m\u001b[43m)\u001b[49m\n\u001b[0;32m      2\u001b[0m \u001b[38;5;28mprint\u001b[39m(concat_col4\u001b[38;5;241m.\u001b[39mshape)\n\u001b[0;32m      3\u001b[0m \u001b[38;5;28mprint\u001b[39m(concat_col4)\n",
      "\u001b[1;31mValueError\u001b[0m: all the input array dimensions except for the concatenation axis must match exactly, but along dimension 0, the array at index 0 has size 2 and the array at index 1 has size 1"
     ]
    }
   ],
   "source": [
    "concat_col4 = np.concatenate((g,h), axis=1)\n",
    "print(concat_col4.shape)\n",
    "print(concat_col4)"
   ]
  },
  {
   "cell_type": "markdown",
   "id": "40254b45",
   "metadata": {},
   "source": [
    "# 전치 행렬 만들기\n",
    "* .T\n",
    "* .transpose()\n",
    "* .reshape()"
   ]
  },
  {
   "cell_type": "code",
   "execution_count": 75,
   "id": "3ba2ceeb",
   "metadata": {},
   "outputs": [
    {
     "name": "stdout",
     "output_type": "stream",
     "text": [
      "[[5 6 7]]\n",
      "(1, 3)\n"
     ]
    }
   ],
   "source": [
    "print(h)\n",
    "print(h.shape)"
   ]
  },
  {
   "cell_type": "code",
   "execution_count": 76,
   "id": "a8b012ef",
   "metadata": {},
   "outputs": [
    {
     "name": "stdout",
     "output_type": "stream",
     "text": [
      "[[5]\n",
      " [6]\n",
      " [7]]\n",
      "(3, 1)\n"
     ]
    }
   ],
   "source": [
    "h2 = h.T\n",
    "print(h2)\n",
    "print(h2.shape)"
   ]
  },
  {
   "cell_type": "code",
   "execution_count": 77,
   "id": "cfbe19b3",
   "metadata": {},
   "outputs": [
    {
     "name": "stdout",
     "output_type": "stream",
     "text": [
      "[[5]\n",
      " [6]\n",
      " [7]]\n",
      "(3, 1)\n"
     ]
    }
   ],
   "source": [
    "h3 = h.transpose()\n",
    "print(h3)\n",
    "print(h3.shape)"
   ]
  },
  {
   "cell_type": "code",
   "execution_count": 78,
   "id": "5cc142b2",
   "metadata": {},
   "outputs": [
    {
     "name": "stdout",
     "output_type": "stream",
     "text": [
      "[[5]\n",
      " [6]\n",
      " [7]]\n",
      "(3, 1)\n"
     ]
    }
   ],
   "source": [
    "h4 = h.reshape(3,1)\n",
    "print(h4)\n",
    "print(h4.shape)"
   ]
  },
  {
   "cell_type": "code",
   "execution_count": 79,
   "id": "2ab440f2",
   "metadata": {},
   "outputs": [
    {
     "name": "stdout",
     "output_type": "stream",
     "text": [
      "[[0 1]\n",
      " [2 3]\n",
      " [4 5]]\n",
      "(3, 2)\n",
      "2\n"
     ]
    }
   ],
   "source": [
    "i = np.arange(6).reshape(3,2)\n",
    "print(i)\n",
    "print(i.shape)\n",
    "print(i.ndim)"
   ]
  },
  {
   "cell_type": "code",
   "execution_count": 80,
   "id": "889d013e",
   "metadata": {},
   "outputs": [
    {
     "name": "stdout",
     "output_type": "stream",
     "text": [
      "[[0 2 4]\n",
      " [1 3 5]]\n",
      "(2, 3)\n"
     ]
    }
   ],
   "source": [
    "i2 = i.T\n",
    "print(i2)\n",
    "print(i2.shape)"
   ]
  },
  {
   "cell_type": "code",
   "execution_count": 81,
   "id": "274a2cf0",
   "metadata": {},
   "outputs": [
    {
     "name": "stdout",
     "output_type": "stream",
     "text": [
      "[[0 2 4]\n",
      " [1 3 5]]\n",
      "(2, 3)\n"
     ]
    }
   ],
   "source": [
    "i3 = i.transpose()\n",
    "print(i3)\n",
    "print(i3.shape)"
   ]
  },
  {
   "cell_type": "code",
   "execution_count": 82,
   "id": "48648d48",
   "metadata": {
    "scrolled": true
   },
   "outputs": [
    {
     "name": "stdout",
     "output_type": "stream",
     "text": [
      "[[0 1 2]\n",
      " [3 4 5]]\n",
      "(2, 3)\n"
     ]
    }
   ],
   "source": [
    "i4 = i.reshape(2,3)\n",
    "print(i4)\n",
    "print(i4.shape)"
   ]
  },
  {
   "cell_type": "markdown",
   "id": "27a23461",
   "metadata": {},
   "source": [
    "# 브로드 캐스팅\n",
    "* 벡터와 스칼라, 또는 매트릭스와 벡터를 연산할 때 자동으로 행렬 크기를 맞춰 주는 것"
   ]
  },
  {
   "cell_type": "code",
   "execution_count": 83,
   "id": "fb26332e",
   "metadata": {},
   "outputs": [
    {
     "name": "stdout",
     "output_type": "stream",
     "text": [
      "(3, 5)\n",
      "[[ 1  2  3  4  5]\n",
      " [ 6  7  8  9 10]\n",
      " [11 12 13 14 15]]\n"
     ]
    }
   ],
   "source": [
    "a = np.arange(1,16).reshape(3,5)\n",
    "print(a.shape)\n",
    "print(a)"
   ]
  },
  {
   "cell_type": "code",
   "execution_count": 85,
   "id": "7890153a",
   "metadata": {},
   "outputs": [
    {
     "data": {
      "text/plain": [
       "array([[11, 12, 13, 14, 15],\n",
       "       [16, 17, 18, 19, 20],\n",
       "       [21, 22, 23, 24, 25]])"
      ]
     },
     "execution_count": 85,
     "metadata": {},
     "output_type": "execute_result"
    }
   ],
   "source": [
    "a + 10"
   ]
  },
  {
   "cell_type": "code",
   "execution_count": 89,
   "id": "4bce89a8",
   "metadata": {},
   "outputs": [
    {
     "name": "stdout",
     "output_type": "stream",
     "text": [
      "(3, 5)\n",
      "(5,)\n"
     ]
    },
    {
     "data": {
      "text/plain": [
       "array([[11, 22, 33, 44, 55],\n",
       "       [16, 27, 38, 49, 60],\n",
       "       [21, 32, 43, 54, 65]])"
      ]
     },
     "execution_count": 89,
     "metadata": {},
     "output_type": "execute_result"
    }
   ],
   "source": [
    "b = np.array([10,20,30,40, 50])\n",
    "print(a.shape)\n",
    "print(b.shape)\n",
    "a + b"
   ]
  },
  {
   "cell_type": "code",
   "execution_count": 181,
   "id": "28a74821",
   "metadata": {
    "scrolled": false
   },
   "outputs": [
    {
     "name": "stdout",
     "output_type": "stream",
     "text": [
      "(3, 5)\n",
      "(5,)\n"
     ]
    }
   ],
   "source": [
    "b = np.array([1,2,3,4,5])\n",
    "print(a.shape)\n",
    "print(b.shape)\n",
    "c =  a + b"
   ]
  },
  {
   "cell_type": "code",
   "execution_count": 187,
   "id": "8e61cc81",
   "metadata": {},
   "outputs": [
    {
     "data": {
      "text/plain": [
       "array([16, 14, 12])"
      ]
     },
     "execution_count": 187,
     "metadata": {},
     "output_type": "execute_result"
    }
   ],
   "source": [
    "c[2][:3][::-1]"
   ]
  }
 ],
 "metadata": {
  "kernelspec": {
   "display_name": "Python 3 (ipykernel)",
   "language": "python",
   "name": "python3"
  },
  "language_info": {
   "codemirror_mode": {
    "name": "ipython",
    "version": 3
   },
   "file_extension": ".py",
   "mimetype": "text/x-python",
   "name": "python",
   "nbconvert_exporter": "python",
   "pygments_lexer": "ipython3",
   "version": "3.10.14"
  }
 },
 "nbformat": 4,
 "nbformat_minor": 5
}
