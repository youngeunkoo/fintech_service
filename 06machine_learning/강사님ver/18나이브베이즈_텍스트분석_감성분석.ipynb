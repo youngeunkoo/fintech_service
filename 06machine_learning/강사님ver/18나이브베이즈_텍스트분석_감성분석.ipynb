{
 "cells": [
  {
   "cell_type": "code",
   "execution_count": 1,
   "id": "2bda6efa-7bdb-40f4-92b0-dc032ec3f546",
   "metadata": {},
   "outputs": [],
   "source": [
    "import pandas as pd\n",
    "import numpy as np\n",
    "import matplotlib.pyplot as plt\n",
    "import seaborn as sns"
   ]
  },
  {
   "cell_type": "code",
   "execution_count": 2,
   "id": "895d0c13-42db-44cb-a179-28970f1bba7e",
   "metadata": {},
   "outputs": [],
   "source": [
    "data = pd.read_csv(\"https://raw.githubusercontent.com/haram4th/ablearn/main/yelp.csv\", index_col=0)\n",
    "data"
   ]
  },
  {
   "cell_type": "code",
   "execution_count": 3,
   "id": "a1e60736-54b6-4a42-8a1e-b1a844485b54",
   "metadata": {},
   "outputs": [],
   "source": [
    "data.info()"
   ]
  },
  {
   "cell_type": "code",
   "execution_count": 4,
   "id": "5effb2ca",
   "metadata": {},
   "outputs": [],
   "source": [
    "data['business_id'].nunique()"
   ]
  },
  {
   "cell_type": "code",
   "execution_count": 5,
   "id": "6a7d57ee",
   "metadata": {},
   "outputs": [],
   "source": [
    "data['stars'].value_counts()"
   ]
  },
  {
   "cell_type": "code",
   "execution_count": 6,
   "id": "49ca4a9e",
   "metadata": {
    "scrolled": true
   },
   "outputs": [],
   "source": [
    "data['useful'].value_counts()"
   ]
  },
  {
   "cell_type": "code",
   "execution_count": 7,
   "id": "0ec96c8e",
   "metadata": {},
   "outputs": [],
   "source": [
    "data[data['useful'] >500]"
   ]
  },
  {
   "cell_type": "code",
   "execution_count": 8,
   "id": "27051975",
   "metadata": {},
   "outputs": [],
   "source": [
    "data[data['useful'] > 60]['stars'].value_counts()"
   ]
  },
  {
   "cell_type": "code",
   "execution_count": 9,
   "id": "13f42d07",
   "metadata": {},
   "outputs": [],
   "source": [
    "data['funny'].value_counts()"
   ]
  },
  {
   "cell_type": "code",
   "execution_count": 10,
   "id": "0988e51a-f3fc-4a8c-8301-f090e42f3222",
   "metadata": {},
   "outputs": [],
   "source": [
    "data['cool'].value_counts()"
   ]
  },
  {
   "cell_type": "code",
   "execution_count": 11,
   "id": "217c79d8-1c36-466c-ba80-44eb385ee50a",
   "metadata": {},
   "outputs": [],
   "source": [
    "data['text_len'] = data['text'].apply(len)"
   ]
  },
  {
   "cell_type": "code",
   "execution_count": 12,
   "id": "ffe33a27",
   "metadata": {},
   "outputs": [],
   "source": [
    "data"
   ]
  },
  {
   "cell_type": "code",
   "execution_count": 13,
   "id": "19d9871b",
   "metadata": {
    "scrolled": true
   },
   "outputs": [],
   "source": [
    "for content in data['text'][5000:5500]:\n",
    "    print(content)"
   ]
  },
  {
   "cell_type": "code",
   "execution_count": 14,
   "id": "43f37b43",
   "metadata": {},
   "outputs": [],
   "source": [
    "import string"
   ]
  },
  {
   "cell_type": "code",
   "execution_count": 15,
   "id": "d7400f13",
   "metadata": {},
   "outputs": [],
   "source": [
    "string.punctuation"
   ]
  },
  {
   "cell_type": "code",
   "execution_count": 16,
   "id": "c06fcd39",
   "metadata": {},
   "outputs": [],
   "source": [
    "def remove_punc(x):\n",
    "    cleaned = []\n",
    "    for i in x:\n",
    "        if i not in string.punctuation:\n",
    "            cleaned.append(i)\n",
    "    cleaned = \"\".join(cleaned)\n",
    "    cleaned = cleaned.replace(\"   \", \" \").replace(\"  \", \" \").replace(\"\\n\", \"\").replace(\"\\t\", \"\").replace(\"\\r\", \"\")\n",
    "\n",
    "    return cleaned\n",
    "            "
   ]
  },
  {
   "cell_type": "code",
   "execution_count": 17,
   "id": "c833f515",
   "metadata": {},
   "outputs": [],
   "source": [
    "# test = '''DO NOT USE THIS SERVICE!!!!!!!!!!!!!! We have no idea how to take care of pools (this is our first) and so we trusted Scott and his company to take care of us. BAD IDEA. This has been our pool service for a year and we were on vacation and came home to find the pool level very low. We contacted Scott from Sky Blue and asked him what could be causing the low pool level and he replied rudely that \" they dont manage water levels, thats all up to you.\" We asked him about our autofill feature and he said \"theres no such thing\". We knew he was full of s*&t right there because we may be ignorant on pool management but we do know that we have an autofill feature. We immediately hung up the phone and contacted a second opinion (a friend that works for corporate casino pool management) We have just found out that we are going to have to shell out over $1000 dollars to fix the incompetence of Sky Blue. Valves were turned the wrong way, the skimmer was shut off, and our pool lights are no longer working most likely because the ph levels in the pool were too acidic and water ate through. Also our filters pressures were through the roof. Most likely due to not being cleaned (the filters were only a year old so we know its not because they are old.)They are supposed to be cleaned every 3 months. There were multiple leaks. Also our salt cell system was mismanaged and has to be replaced. These are just SOME of the things found wrong.  We just assumed everything was fine with the pool. Never did Sky Blue let us know our filter system was about to explode or anything else for that matter! UGH!!! Good pool cleaning guys are hard to come by, especially in Vegas.Very sad. Its all good though, because I believe in Karma and Sky Blue has theirs coming :).'''"
   ]
  },
  {
   "cell_type": "code",
   "execution_count": 18,
   "id": "5449e1ea",
   "metadata": {},
   "outputs": [],
   "source": [
    "# remove_punc(test)"
   ]
  },
  {
   "cell_type": "code",
   "execution_count": 19,
   "id": "ed8ff261",
   "metadata": {},
   "outputs": [],
   "source": [
    "data['text'] = data['text'].apply(remove_punc)"
   ]
  },
  {
   "cell_type": "code",
   "execution_count": 20,
   "id": "7d60d547",
   "metadata": {},
   "outputs": [],
   "source": [
    "data.head()"
   ]
  },
  {
   "cell_type": "code",
   "execution_count": 21,
   "id": "7b15e45d",
   "metadata": {},
   "outputs": [],
   "source": [
    "data['text'][:10]"
   ]
  },
  {
   "cell_type": "code",
   "execution_count": 22,
   "id": "4257a0e5",
   "metadata": {},
   "outputs": [],
   "source": [
    "sns.histplot(data['text_len'])"
   ]
  },
  {
   "cell_type": "code",
   "execution_count": 23,
   "id": "52c4eba4",
   "metadata": {},
   "outputs": [],
   "source": [
    "data[data['text_len'] > 4000]['stars'].value_counts()"
   ]
  },
  {
   "cell_type": "code",
   "execution_count": 24,
   "id": "20fc9d40",
   "metadata": {},
   "outputs": [],
   "source": [
    "data[data['text_len'] > 4500]['stars'].value_counts()"
   ]
  },
  {
   "cell_type": "code",
   "execution_count": 25,
   "id": "a150ad95",
   "metadata": {},
   "outputs": [],
   "source": [
    "data[data['text_len'] < 1000]['stars'].value_counts()"
   ]
  },
  {
   "cell_type": "code",
   "execution_count": 26,
   "id": "4d023a0b",
   "metadata": {},
   "outputs": [],
   "source": [
    "y"
   ]
  },
  {
   "cell_type": "markdown",
   "id": "cc079f10",
   "metadata": {},
   "source": [
    "# 상투적인 단어 제거하기\n",
    "* nltk 라이브러리로 상투적인 언어(stopwords)제거하기"
   ]
  },
  {
   "cell_type": "code",
   "execution_count": null,
   "id": "b9d68d38",
   "metadata": {},
   "outputs": [],
   "source": [
    "# !pip install nltk"
   ]
  },
  {
   "cell_type": "code",
   "execution_count": null,
   "id": "74c65b6a",
   "metadata": {
    "scrolled": true
   },
   "outputs": [],
   "source": [
    "from nltk.corpus import stopwords"
   ]
  },
  {
   "cell_type": "code",
   "execution_count": null,
   "id": "b47c7cc5",
   "metadata": {},
   "outputs": [],
   "source": [
    "import nltk\n",
    "nltk.download('stopwords')"
   ]
  },
  {
   "cell_type": "code",
   "execution_count": null,
   "id": "825836d8",
   "metadata": {},
   "outputs": [],
   "source": [
    "print(stopwords.words('english'))"
   ]
  },
  {
   "cell_type": "code",
   "execution_count": null,
   "id": "78e37b54",
   "metadata": {},
   "outputs": [],
   "source": [
    "data['text'].iloc[0]"
   ]
  },
  {
   "cell_type": "code",
   "execution_count": null,
   "id": "ce491d98",
   "metadata": {
    "scrolled": true
   },
   "outputs": [],
   "source": [
    "for i in data['text'].iloc[0].split():\n",
    "    if i not in stopwords.words('english'):\n",
    "        print(i)"
   ]
  },
  {
   "cell_type": "code",
   "execution_count": null,
   "id": "870d4924",
   "metadata": {},
   "outputs": [],
   "source": [
    "stopwords2 = stopwords.words('english')"
   ]
  },
  {
   "cell_type": "code",
   "execution_count": null,
   "id": "73bbd5ed",
   "metadata": {},
   "outputs": [],
   "source": [
    "stopwords2.extend(['they', 'non', 'also'])"
   ]
  },
  {
   "cell_type": "code",
   "execution_count": null,
   "id": "7b0f6476",
   "metadata": {},
   "outputs": [],
   "source": [
    "stopwords2.extend(['they'])"
   ]
  },
  {
   "cell_type": "code",
   "execution_count": null,
   "id": "e13cb4b4",
   "metadata": {},
   "outputs": [],
   "source": [
    "stopwords2"
   ]
  },
  {
   "cell_type": "code",
   "execution_count": null,
   "id": "ad4cf297",
   "metadata": {},
   "outputs": [],
   "source": [
    "def remove_stopwords(x):\n",
    "    cleaned = []\n",
    "    x = x.lower()\n",
    "    for i in x.split():\n",
    "        if i not in stopwords2:\n",
    "            cleaned.append(i)\n",
    "    cleaned = \" \".join(cleaned)\n",
    "    \n",
    "    return cleaned"
   ]
  },
  {
   "cell_type": "code",
   "execution_count": null,
   "id": "3f41e194",
   "metadata": {
    "scrolled": true
   },
   "outputs": [],
   "source": [
    "data['text'] = data['text'].apply(remove_stopwords)\n",
    "data['text'][:10]"
   ]
  },
  {
   "cell_type": "code",
   "execution_count": null,
   "id": "e406d3f6",
   "metadata": {},
   "outputs": [],
   "source": [
    "X = data[['text']]\n",
    "y = data['stars']"
   ]
  },
  {
   "cell_type": "code",
   "execution_count": null,
   "id": "54c142dd",
   "metadata": {
    "scrolled": true
   },
   "outputs": [],
   "source": [
    "X"
   ]
  },
  {
   "cell_type": "code",
   "execution_count": null,
   "id": "1b581982",
   "metadata": {},
   "outputs": [],
   "source": [
    "y"
   ]
  },
  {
   "cell_type": "markdown",
   "id": "57d72389",
   "metadata": {},
   "source": [
    "# 자주 등장하는 단어 빈도 분석"
   ]
  },
  {
   "cell_type": "code",
   "execution_count": null,
   "id": "349a6a0f",
   "metadata": {},
   "outputs": [],
   "source": [
    "whole_words = []\n",
    "for words in data['text']:\n",
    "    for word in words.split():\n",
    "        whole_words.append(word)"
   ]
  },
  {
   "cell_type": "code",
   "execution_count": null,
   "id": "91cadfcd",
   "metadata": {},
   "outputs": [],
   "source": [
    "len(whole_words)"
   ]
  },
  {
   "cell_type": "code",
   "execution_count": null,
   "id": "242d774f",
   "metadata": {
    "scrolled": true
   },
   "outputs": [],
   "source": [
    "stopwords2.extend(['place', 'get'])"
   ]
  },
  {
   "cell_type": "code",
   "execution_count": null,
   "id": "739c1fb1",
   "metadata": {},
   "outputs": [],
   "source": [
    "result = []\n",
    "for i in whole_words:\n",
    "    if i not in stopwords2:\n",
    "        result.append(i)"
   ]
  },
  {
   "cell_type": "code",
   "execution_count": null,
   "id": "ef9cd48b",
   "metadata": {},
   "outputs": [],
   "source": [
    "from nltk.probability import FreqDist"
   ]
  },
  {
   "cell_type": "code",
   "execution_count": null,
   "id": "278bd3ab",
   "metadata": {},
   "outputs": [],
   "source": [
    "FreqDist(result)"
   ]
  },
  {
   "cell_type": "code",
   "execution_count": null,
   "id": "22febc77",
   "metadata": {},
   "outputs": [],
   "source": [
    "plt.figure(figsize=(20,10))\n",
    "FreqDist(result).plot(50)"
   ]
  },
  {
   "cell_type": "code",
   "execution_count": null,
   "id": "79188ccf",
   "metadata": {},
   "outputs": [],
   "source": [
    "result2 = \" \".join(result)\n",
    "print(len(result2))"
   ]
  },
  {
   "cell_type": "markdown",
   "id": "1150237e",
   "metadata": {},
   "source": [
    "# Word Could 만들기"
   ]
  },
  {
   "cell_type": "code",
   "execution_count": null,
   "id": "ea64d725",
   "metadata": {},
   "outputs": [],
   "source": [
    "# !pip install wordcloud"
   ]
  },
  {
   "cell_type": "code",
   "execution_count": null,
   "id": "3f5e2d91",
   "metadata": {
    "scrolled": true
   },
   "outputs": [],
   "source": [
    "from wordcloud import WordCloud"
   ]
  },
  {
   "cell_type": "code",
   "execution_count": null,
   "id": "b1eff825",
   "metadata": {},
   "outputs": [],
   "source": [
    "wc = WordCloud().generate(result2)\n",
    "plt.figure(figsize=(10,5))\n",
    "plt.imshow(wc)\n",
    "plt.axis('off')"
   ]
  },
  {
   "cell_type": "markdown",
   "id": "c9e73399",
   "metadata": {},
   "source": [
    "# 평점 1점과 5점으로 데이터를 나누고 각각 word cloud 만들기"
   ]
  },
  {
   "cell_type": "code",
   "execution_count": null,
   "id": "89041174",
   "metadata": {},
   "outputs": [],
   "source": [
    "data2 = pd.concat([X, y], axis=1)\n",
    "data2"
   ]
  },
  {
   "cell_type": "code",
   "execution_count": null,
   "id": "5bffa737",
   "metadata": {},
   "outputs": [],
   "source": [
    "good = data2.loc[data2['stars'] == 5, 'text'] \n",
    "good.head()"
   ]
  },
  {
   "cell_type": "code",
   "execution_count": null,
   "id": "d82be141",
   "metadata": {},
   "outputs": [],
   "source": [
    "bad = data2.loc[data2['stars'] == 1, 'text'] \n",
    "bad.head()"
   ]
  },
  {
   "cell_type": "code",
   "execution_count": null,
   "id": "23c4e6fb",
   "metadata": {},
   "outputs": [],
   "source": [
    "good_text = \" \".join(list(good))\n",
    "len(good_text)"
   ]
  },
  {
   "cell_type": "code",
   "execution_count": null,
   "id": "e03ac5a0",
   "metadata": {},
   "outputs": [],
   "source": [
    "bad_text = \" \".join(list(bad))\n",
    "len(bad_text)"
   ]
  },
  {
   "cell_type": "code",
   "execution_count": null,
   "id": "215a879e",
   "metadata": {},
   "outputs": [],
   "source": [
    "wc = WordCloud(stopwords= ['place', 'get', 'great', 'good'], max_words=2000, random_state=200).generate(good_text)\n",
    "plt.figure(figsize=(10,5))\n",
    "plt.imshow(wc)\n",
    "plt.axis('off')"
   ]
  },
  {
   "cell_type": "code",
   "execution_count": null,
   "id": "3f11bb9c",
   "metadata": {},
   "outputs": [],
   "source": [
    "wc = WordCloud(stopwords= ['place', 'get']).generate(bad_text)\n",
    "plt.figure(figsize=(10,5))\n",
    "plt.imshow(wc)\n",
    "plt.axis('off')"
   ]
  },
  {
   "cell_type": "code",
   "execution_count": null,
   "id": "e4bda991",
   "metadata": {},
   "outputs": [],
   "source": [
    "X"
   ]
  },
  {
   "cell_type": "code",
   "execution_count": null,
   "id": "d58a5c91",
   "metadata": {},
   "outputs": [],
   "source": []
  },
  {
   "cell_type": "code",
   "execution_count": null,
   "id": "04478382",
   "metadata": {},
   "outputs": [],
   "source": [
    "y"
   ]
  },
  {
   "cell_type": "markdown",
   "id": "a2fbebb6",
   "metadata": {},
   "source": [
    "# 나이브 베이즈를 이용해서 감성분석 하기"
   ]
  },
  {
   "cell_type": "markdown",
   "id": "3d5b0f8d",
   "metadata": {},
   "source": [
    "## text를 벡터화 하기  CountVectorizer\n",
    "* 단어의 빈도를 세고 숫자로 변형"
   ]
  },
  {
   "cell_type": "code",
   "execution_count": null,
   "id": "4e23d6e1",
   "metadata": {},
   "outputs": [],
   "source": [
    "from sklearn.feature_extraction.text import CountVectorizer"
   ]
  },
  {
   "cell_type": "code",
   "execution_count": null,
   "id": "6fc9ea04",
   "metadata": {},
   "outputs": [],
   "source": [
    "cv = CountVectorizer()\n",
    "X_vec = cv.fit_transform(X['text'])\n",
    "X_vec"
   ]
  },
  {
   "cell_type": "code",
   "execution_count": null,
   "id": "7c5f3615",
   "metadata": {},
   "outputs": [],
   "source": [
    "for i in X_vec[:1]:\n",
    "    print(i)"
   ]
  },
  {
   "cell_type": "code",
   "execution_count": null,
   "id": "ecf2b1d9",
   "metadata": {},
   "outputs": [],
   "source": [
    "from sklearn.model_selection import train_test_split"
   ]
  },
  {
   "cell_type": "code",
   "execution_count": null,
   "id": "d3bf4fc6",
   "metadata": {},
   "outputs": [],
   "source": [
    "X_train, X_valid, y_train, y_valid = train_test_split(X_vec, y, test_size=0.4, random_state=7)\n",
    "X_valid, X_test, y_valid, y_test = train_test_split(X_valid, y_valid, test_size=0.5, random_state=7)"
   ]
  },
  {
   "cell_type": "code",
   "execution_count": null,
   "id": "61380a9a",
   "metadata": {},
   "outputs": [],
   "source": [
    "y.value_counts()"
   ]
  },
  {
   "cell_type": "code",
   "execution_count": null,
   "id": "a395a82e",
   "metadata": {},
   "outputs": [],
   "source": [
    "from sklearn.naive_bayes import MultinomialNB\n",
    "from sklearn.metrics import accuracy_score, classification_report"
   ]
  },
  {
   "cell_type": "code",
   "execution_count": null,
   "id": "e32862c8",
   "metadata": {},
   "outputs": [],
   "source": [
    "mnb = MultinomialNB()\n",
    "mnb.fit(X_train, y_train)\n",
    "pred = mnb.predict(X_valid)\n",
    "print(accuracy_score(y_valid, pred))\n",
    "print(classification_report(y_valid, pred))"
   ]
  },
  {
   "cell_type": "code",
   "execution_count": null,
   "id": "d8143015",
   "metadata": {},
   "outputs": [],
   "source": [
    "test_pred = mnb.predict(X_test)\n",
    "print(accuracy_score(y_test, test_pred))\n",
    "print(classification_report(y_test, test_pred))"
   ]
  },
  {
   "cell_type": "code",
   "execution_count": null,
   "id": "10ba56d9",
   "metadata": {},
   "outputs": [],
   "source": [
    "# !pip install xgboost"
   ]
  },
  {
   "cell_type": "code",
   "execution_count": null,
   "id": "ea7d591d",
   "metadata": {},
   "outputs": [],
   "source": [
    "from sklearn.ensemble import RandomForestClassifier"
   ]
  },
  {
   "cell_type": "code",
   "execution_count": null,
   "id": "8cfcf79b",
   "metadata": {},
   "outputs": [],
   "source": [
    "rfc = RandomForestClassifier(n_estimators=500, max_depth=5, n_jobs= -1 , random_state=7)\n",
    "rfc.fit(X_train, y_train)\n",
    "pred = rfc.predict(X_valid)\n",
    "print(accuracy_score(y_valid, pred))\n",
    "print(classification_report(y_valid, pred))"
   ]
  },
  {
   "cell_type": "code",
   "execution_count": null,
   "id": "e7096dfd",
   "metadata": {},
   "outputs": [],
   "source": []
  },
  {
   "cell_type": "code",
   "execution_count": null,
   "id": "1b32d60b",
   "metadata": {},
   "outputs": [],
   "source": []
  },
  {
   "cell_type": "code",
   "execution_count": null,
   "id": "a3021ab3",
   "metadata": {},
   "outputs": [],
   "source": []
  },
  {
   "cell_type": "code",
   "execution_count": null,
   "id": "908fdbf1",
   "metadata": {},
   "outputs": [],
   "source": []
  },
  {
   "cell_type": "code",
   "execution_count": null,
   "id": "f0eaa35c",
   "metadata": {},
   "outputs": [],
   "source": []
  }
 ],
 "metadata": {
  "kernelspec": {
   "display_name": "Python 3 (ipykernel)",
   "language": "python",
   "name": "python3"
  },
  "language_info": {
   "codemirror_mode": {
    "name": "ipython",
    "version": 3
   },
   "file_extension": ".py",
   "mimetype": "text/x-python",
   "name": "python",
   "nbconvert_exporter": "python",
   "pygments_lexer": "ipython3",
   "version": "3.10.15"
  }
 },
 "nbformat": 4,
 "nbformat_minor": 5
}
