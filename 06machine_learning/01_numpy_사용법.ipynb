{
 "cells": [
  {
   "cell_type": "markdown",
   "id": "c223d023",
   "metadata": {},
   "source": [
    "## NumPy란?\n",
    "NumPy는 Python에서 과학 연산을 위한 가장 기본적인 패키지 중 하나입니다. NumPy는 \"Numeric Python\"의 약자이며 대규모 다차원 배열과 행렬 연산에 필요한 다양한 함수와 메소드를 제공합니다. NumPy는 데이터 분석, 데이터 처리, 선형 대수, 머신 러닝 등 다양한 분야에서 널리 사용되고 있습니다.\n",
    "\n",
    "NumPy의 설치\n",
    "NumPy를 사용하기 위해서는 먼저 NumPy 패키지를 설치해야 합니다. 아래의 명령어를 사용하여 NumPy를 설치할 수 있습니다.\n",
    "\n",
    "pip install numpy\n",
    "NumPy 배열 생성\n",
    "NumPy에서 가장 기본적인 데이터 구조는 배열입니다. NumPy 배열은 동일한 타입의 데이터를 담는 다차원 배열입니다. NumPy 배열은 ndarray 클래스를 사용하여 생성할 수 있습니다. NumPy 배열을 생성하는 방법은 다음과 같습니다."
   ]
  },
  {
   "cell_type": "code",
   "execution_count": null,
   "id": "0c43636d",
   "metadata": {},
   "outputs": [],
   "source": []
  },
  {
   "cell_type": "markdown",
   "id": "f10c3d6f",
   "metadata": {},
   "source": [
    "# * numpy 란?\n",
    "- Numerical Python 과학적, 산업적 연산을 위한 파이썬 패키지\n",
    "- 다차원 배열, 행렬 연산에 주로 사용"
   ]
  },
  {
   "cell_type": "markdown",
   "id": "0492b5ad",
   "metadata": {},
   "source": [
    "- 1차원이 모이면 2차원이 되고\n",
    "- 2차원이 모이면 3차원이 되고\n",
    "- 3차원이 모이면 4차원이 되고\n",
    "- 4차원이 모이면 5차원이 되고 "
   ]
  },
  {
   "cell_type": "code",
   "execution_count": 1,
   "id": "94074a3c",
   "metadata": {},
   "outputs": [],
   "source": [
    "# !pip install numpy\n",
    "# !conda install numpy"
   ]
  },
  {
   "cell_type": "markdown",
   "id": "7dc44951",
   "metadata": {},
   "source": [
    "## * 차원? \n",
    "- 0차원 = 점 하나 , 스칼라 \n",
    "- 1차원 = 선, 벡터([1,2,3,4,5]), 벡터는 방향을 가진 데이터\n",
    "- 2차원 = 면 \n",
    "- 3차원 = 공간, 입체\n",
    "- 다차원 = 3차원 요소가 2개 이상"
   ]
  },
  {
   "cell_type": "code",
   "execution_count": 2,
   "id": "7bb502ec",
   "metadata": {},
   "outputs": [],
   "source": [
    "import numpy as np"
   ]
  },
  {
   "cell_type": "code",
   "execution_count": 3,
   "id": "2d8bf503",
   "metadata": {},
   "outputs": [],
   "source": [
    "a = np.array([1,2,3,4,5])"
   ]
  },
  {
   "cell_type": "code",
   "execution_count": 4,
   "id": "99abe63b",
   "metadata": {},
   "outputs": [
    {
     "data": {
      "text/plain": [
       "array([1, 2, 3, 4, 5])"
      ]
     },
     "execution_count": 4,
     "metadata": {},
     "output_type": "execute_result"
    }
   ],
   "source": [
    "a"
   ]
  },
  {
   "cell_type": "code",
   "execution_count": 6,
   "id": "c865c3ea",
   "metadata": {},
   "outputs": [],
   "source": [
    "b = 32"
   ]
  },
  {
   "cell_type": "code",
   "execution_count": 12,
   "id": "72924f4a",
   "metadata": {},
   "outputs": [
    {
     "data": {
      "text/plain": [
       "1"
      ]
     },
     "execution_count": 12,
     "metadata": {},
     "output_type": "execute_result"
    }
   ],
   "source": [
    "a.ndim\n",
    "\n",
    "# 출력 : 1\n",
    "# 뜻 : 1차원 데이터라는 뜻"
   ]
  },
  {
   "cell_type": "code",
   "execution_count": 7,
   "id": "a7feb52e",
   "metadata": {},
   "outputs": [
    {
     "ename": "AttributeError",
     "evalue": "'int' object has no attribute 'ndim'",
     "output_type": "error",
     "traceback": [
      "\u001b[1;31m---------------------------------------------------------------------------\u001b[0m",
      "\u001b[1;31mAttributeError\u001b[0m                            Traceback (most recent call last)",
      "Cell \u001b[1;32mIn[7], line 1\u001b[0m\n\u001b[1;32m----> 1\u001b[0m \u001b[43mb\u001b[49m\u001b[38;5;241;43m.\u001b[39;49m\u001b[43mndim\u001b[49m\n",
      "\u001b[1;31mAttributeError\u001b[0m: 'int' object has no attribute 'ndim'"
     ]
    }
   ],
   "source": [
    "b.ndim"
   ]
  },
  {
   "cell_type": "code",
   "execution_count": 9,
   "id": "1cc1db7d",
   "metadata": {},
   "outputs": [
    {
     "data": {
      "text/plain": [
       "array([[[1, 2, 3, 4, 5],\n",
       "        [1, 2, 3, 4, 5]],\n",
       "\n",
       "       [[1, 2, 3, 4, 5],\n",
       "        [1, 2, 3, 4, 5]]])"
      ]
     },
     "execution_count": 9,
     "metadata": {},
     "output_type": "execute_result"
    }
   ],
   "source": [
    "c = np.array([[[1,2,3,4,5],[1,2,3,4,5]],[[1,2,3,4,5],[1,2,3,4,5]]])\n",
    "c"
   ]
  },
  {
   "cell_type": "code",
   "execution_count": 13,
   "id": "9f292b54",
   "metadata": {},
   "outputs": [
    {
     "data": {
      "text/plain": [
       "3"
      ]
     },
     "execution_count": 13,
     "metadata": {},
     "output_type": "execute_result"
    }
   ],
   "source": [
    "c.ndim\n",
    "\n",
    "# 출력 : 3 \n",
    "# 뜻 : 3차원 데이터라는 뜻"
   ]
  },
  {
   "cell_type": "code",
   "execution_count": 18,
   "id": "0b6ec479",
   "metadata": {},
   "outputs": [
    {
     "data": {
      "text/plain": [
       "(2, 2, 5)"
      ]
     },
     "execution_count": 18,
     "metadata": {},
     "output_type": "execute_result"
    }
   ],
   "source": [
    "c.shape\n",
    "\n",
    "# 2 행 5 열 짜리가 2개 있는 것 : 그래서 3차원이다. \n",
    "# 오른쪽 끝에 두자리가 매트릭스다. 행렬\n",
    "# 차원이 증가하면 앞이 증가한다. "
   ]
  },
  {
   "cell_type": "code",
   "execution_count": 20,
   "id": "1ce3a630",
   "metadata": {},
   "outputs": [
    {
     "data": {
      "text/plain": [
       "array([[[[1, 2, 3, 4, 5],\n",
       "         [1, 2, 3, 4, 5]],\n",
       "\n",
       "        [[1, 2, 3, 4, 5],\n",
       "         [1, 2, 3, 4, 5]],\n",
       "\n",
       "        [[1, 2, 3, 4, 5],\n",
       "         [1, 2, 3, 4, 5]]]])"
      ]
     },
     "execution_count": 20,
     "metadata": {},
     "output_type": "execute_result"
    }
   ],
   "source": [
    "d = np.array([[[[1,2,3,4,5],[1,2,3,4,5]],[[1,2,3,4,5],[1,2,3,4,5]],[[1,2,3,4,5],[1,2,3,4,5]]]])\n",
    "d"
   ]
  },
  {
   "cell_type": "code",
   "execution_count": 22,
   "id": "00391fb6",
   "metadata": {},
   "outputs": [
    {
     "data": {
      "text/plain": [
       "4"
      ]
     },
     "execution_count": 22,
     "metadata": {},
     "output_type": "execute_result"
    }
   ],
   "source": [
    "d.ndim\n",
    "\n",
    "# 출력 : 4\n",
    "# 뜻 : 4차원 데이터라는 뜻"
   ]
  },
  {
   "cell_type": "code",
   "execution_count": 24,
   "id": "9bb2726c",
   "metadata": {},
   "outputs": [
    {
     "data": {
      "text/plain": [
       "(1, 3, 2, 5)"
      ]
     },
     "execution_count": 24,
     "metadata": {},
     "output_type": "execute_result"
    }
   ],
   "source": [
    "d.shape\n",
    "\n",
    "# 2행 5열짜리가 3개 있음"
   ]
  },
  {
   "cell_type": "markdown",
   "id": "987758ae",
   "metadata": {},
   "source": [
    "## * numpy 를 사용하는 이유 : 행렬 연산이 쉽고 빠르기 때문"
   ]
  },
  {
   "cell_type": "code",
   "execution_count": 25,
   "id": "d4b99415",
   "metadata": {},
   "outputs": [],
   "source": [
    "a = 10"
   ]
  },
  {
   "cell_type": "code",
   "execution_count": 26,
   "id": "8a5bc3e0",
   "metadata": {},
   "outputs": [
    {
     "data": {
      "text/plain": [
       "11"
      ]
     },
     "execution_count": 26,
     "metadata": {},
     "output_type": "execute_result"
    }
   ],
   "source": [
    "scalar = a + 1 \n",
    "scalar"
   ]
  },
  {
   "cell_type": "markdown",
   "id": "222e5615",
   "metadata": {},
   "source": [
    "## 벡터 연산"
   ]
  },
  {
   "cell_type": "code",
   "execution_count": 27,
   "id": "89a81691",
   "metadata": {},
   "outputs": [
    {
     "data": {
      "text/plain": [
       "array([1, 2, 3, 4, 5])"
      ]
     },
     "execution_count": 27,
     "metadata": {},
     "output_type": "execute_result"
    }
   ],
   "source": [
    "b = np.array([1,2,3,4,5])\n",
    "b"
   ]
  },
  {
   "cell_type": "code",
   "execution_count": 32,
   "id": "17b4faa2",
   "metadata": {},
   "outputs": [],
   "source": [
    "c = [5,6,7,8,9]"
   ]
  },
  {
   "cell_type": "code",
   "execution_count": 36,
   "id": "b7241470",
   "metadata": {},
   "outputs": [
    {
     "data": {
      "text/plain": [
       "[8, 9, 10, 11, 12]"
      ]
     },
     "execution_count": 36,
     "metadata": {},
     "output_type": "execute_result"
    }
   ],
   "source": [
    "hap = []\n",
    "temp = 0\n",
    "\n",
    "for num in c:\n",
    "    hap.append(num + 3) \n",
    "hap\n",
    "\n",
    "\n",
    "# 반복문이 필수임\n",
    "# 행렬에 +3 을 더하는 것임"
   ]
  },
  {
   "cell_type": "markdown",
   "id": "608d832c",
   "metadata": {},
   "source": [
    "## 2차원 연산"
   ]
  },
  {
   "cell_type": "code",
   "execution_count": 55,
   "id": "053b736e",
   "metadata": {},
   "outputs": [
    {
     "data": {
      "text/plain": [
       "[[1, 2, 3], [1, 2, 3], [1, 2, 3]]"
      ]
     },
     "execution_count": 55,
     "metadata": {},
     "output_type": "execute_result"
    }
   ],
   "source": [
    "# 방법 1\n",
    "# 매우 귀찮은 방법\n",
    "\n",
    "d1 = [[1,2,3],[1,2,3],[1,2,3]]\n",
    "d1"
   ]
  },
  {
   "cell_type": "code",
   "execution_count": 56,
   "id": "94b1ce3a",
   "metadata": {},
   "outputs": [
    {
     "ename": "TypeError",
     "evalue": "can only concatenate list (not \"int\") to list",
     "output_type": "error",
     "traceback": [
      "\u001b[1;31m---------------------------------------------------------------------------\u001b[0m",
      "\u001b[1;31mTypeError\u001b[0m                                 Traceback (most recent call last)",
      "Cell \u001b[1;32mIn[56], line 1\u001b[0m\n\u001b[1;32m----> 1\u001b[0m \u001b[43md\u001b[49m\u001b[43m \u001b[49m\u001b[38;5;241;43m+\u001b[39;49m\u001b[43m \u001b[49m\u001b[38;5;241;43m5\u001b[39;49m\n\u001b[0;32m      3\u001b[0m \u001b[38;5;66;03m# 이렇게 계산이 안됨\u001b[39;00m\n",
      "\u001b[1;31mTypeError\u001b[0m: can only concatenate list (not \"int\") to list"
     ]
    }
   ],
   "source": [
    "d + 5\n",
    "\n",
    "# 이렇게 계산이 안됨"
   ]
  },
  {
   "cell_type": "code",
   "execution_count": 57,
   "id": "c69e0612",
   "metadata": {},
   "outputs": [
    {
     "name": "stdout",
     "output_type": "stream",
     "text": [
      "1\n",
      "2\n",
      "3\n",
      "1\n",
      "2\n",
      "3\n",
      "1\n",
      "2\n",
      "3\n"
     ]
    }
   ],
   "source": [
    "for i in d:\n",
    "    for j in i:\n",
    "        print(j)"
   ]
  },
  {
   "cell_type": "code",
   "execution_count": 58,
   "id": "8bd546ac",
   "metadata": {},
   "outputs": [
    {
     "name": "stdout",
     "output_type": "stream",
     "text": [
      "6\n",
      "7\n",
      "8\n",
      "6\n",
      "7\n",
      "8\n",
      "6\n",
      "7\n",
      "8\n"
     ]
    }
   ],
   "source": [
    "for i in d:\n",
    "    for j in i:\n",
    "        print(j+5)"
   ]
  },
  {
   "cell_type": "code",
   "execution_count": 59,
   "id": "512d907e",
   "metadata": {},
   "outputs": [
    {
     "data": {
      "text/plain": [
       "[[6, 7, 8], [6, 7, 8], [6, 7, 8]]"
      ]
     },
     "execution_count": 59,
     "metadata": {},
     "output_type": "execute_result"
    }
   ],
   "source": [
    "hap = []\n",
    "\n",
    "for i in d:\n",
    "    temp = []\n",
    "    for j in i:\n",
    "        temp.append(j+5)\n",
    "    hap.append(temp)\n",
    "hap"
   ]
  },
  {
   "cell_type": "code",
   "execution_count": null,
   "id": "adc8e57f",
   "metadata": {},
   "outputs": [],
   "source": []
  },
  {
   "cell_type": "code",
   "execution_count": 60,
   "id": "b949f08d",
   "metadata": {},
   "outputs": [
    {
     "data": {
      "text/plain": [
       "array([[1, 2, 3],\n",
       "       [1, 2, 3],\n",
       "       [1, 2, 3]])"
      ]
     },
     "execution_count": 60,
     "metadata": {},
     "output_type": "execute_result"
    }
   ],
   "source": [
    "# 방법 2\n",
    "# numpy 를 이용하면 행렬 연산이 쉽고 간편하게 할 수 있다. \n",
    "\n",
    "d2 = np.array([[1,2,3],[1,2,3],[1,2,3]])\n",
    "d2"
   ]
  },
  {
   "cell_type": "code",
   "execution_count": 61,
   "id": "b32ca414",
   "metadata": {},
   "outputs": [
    {
     "data": {
      "text/plain": [
       "array([[6, 7, 8],\n",
       "       [6, 7, 8],\n",
       "       [6, 7, 8]])"
      ]
     },
     "execution_count": 61,
     "metadata": {},
     "output_type": "execute_result"
    }
   ],
   "source": [
    "d2 + 5 "
   ]
  },
  {
   "cell_type": "markdown",
   "id": "be37d79d",
   "metadata": {},
   "source": [
    "# numpy 에서 자주 사용하는 메서드 \n",
    "\n",
    "- .ndim : 몇 차원인지 보는 것\n",
    "- .shape : 몇 차원, 몇 행 몇 열로 되어있는지 구조 확인\n",
    "- .size : 배열 안에 있는 요소의 총 갯수가 몇개인지\n",
    "- .dtype : 데이터 타입이 무엇인지\n",
    "- .itemsize : 1개 자료의 크기는 몇 인지 "
   ]
  },
  {
   "cell_type": "code",
   "execution_count": 62,
   "id": "c23c0244",
   "metadata": {},
   "outputs": [
    {
     "data": {
      "text/plain": [
       "(3, 3)"
      ]
     },
     "execution_count": 62,
     "metadata": {},
     "output_type": "execute_result"
    }
   ],
   "source": [
    "d2.shape"
   ]
  },
  {
   "cell_type": "code",
   "execution_count": 63,
   "id": "16ad3d35",
   "metadata": {},
   "outputs": [
    {
     "data": {
      "text/plain": [
       "dtype('int64')"
      ]
     },
     "execution_count": 63,
     "metadata": {},
     "output_type": "execute_result"
    }
   ],
   "source": [
    "d2.dtype"
   ]
  },
  {
   "cell_type": "code",
   "execution_count": 64,
   "id": "e3d9aa06",
   "metadata": {},
   "outputs": [
    {
     "data": {
      "text/plain": [
       "8"
      ]
     },
     "execution_count": 64,
     "metadata": {},
     "output_type": "execute_result"
    }
   ],
   "source": [
    "d2.itemsize"
   ]
  },
  {
   "cell_type": "code",
   "execution_count": 66,
   "id": "c99c5f53",
   "metadata": {},
   "outputs": [
    {
     "data": {
      "text/plain": [
       "array([[0.5, 1. , 1.5],\n",
       "       [0.5, 1. , 1.5],\n",
       "       [0.5, 1. , 1.5]])"
      ]
     },
     "execution_count": 66,
     "metadata": {},
     "output_type": "execute_result"
    }
   ],
   "source": [
    "d3 = d2 / 2\n",
    "d3\n",
    "\n",
    "# 파이썬은 나누기 하면 int 에서 float 으로 datatype이 바뀜"
   ]
  },
  {
   "cell_type": "code",
   "execution_count": 67,
   "id": "6053a828",
   "metadata": {},
   "outputs": [
    {
     "data": {
      "text/plain": [
       "dtype('float64')"
      ]
     },
     "execution_count": 67,
     "metadata": {},
     "output_type": "execute_result"
    }
   ],
   "source": [
    "d3.dtype"
   ]
  },
  {
   "cell_type": "markdown",
   "id": "418e191b",
   "metadata": {},
   "source": [
    "## -------------------------------------------------------------------------------------------"
   ]
  },
  {
   "cell_type": "markdown",
   "id": "28831009",
   "metadata": {},
   "source": [
    "# ndarray 만들기\n",
    "- np.array(리스트/튜플)  : 무조건 리스트나 튜플로 넣어야 함!\n",
    "- 자료형은 반드시 1가지만 넣는다. <br><br>\n",
    "1, 2, 3, 4, 5    --> 같은 자료형 int   <br>\n",
    "1, 2, 3, 4.7, 5     --> 4.7 은 float  <br>\n",
    "1, '2', 3, 4.8, 5    --> '2'는 문자열str, 4.8은 float, 나머지는 int 이면 다 str 문자열로 통일됨 \n",
    "<br><br>\n",
    "* 전체 데이터 형태가 변할 수 있음"
   ]
  },
  {
   "cell_type": "code",
   "execution_count": 68,
   "id": "06c1c18c",
   "metadata": {},
   "outputs": [
    {
     "ename": "TypeError",
     "evalue": "array() takes from 1 to 2 positional arguments but 5 were given",
     "output_type": "error",
     "traceback": [
      "\u001b[1;31m---------------------------------------------------------------------------\u001b[0m",
      "\u001b[1;31mTypeError\u001b[0m                                 Traceback (most recent call last)",
      "Cell \u001b[1;32mIn[68], line 1\u001b[0m\n\u001b[1;32m----> 1\u001b[0m \u001b[43mnp\u001b[49m\u001b[38;5;241;43m.\u001b[39;49m\u001b[43marray\u001b[49m\u001b[43m(\u001b[49m\u001b[38;5;241;43m1\u001b[39;49m\u001b[43m,\u001b[49m\u001b[38;5;241;43m2\u001b[39;49m\u001b[43m,\u001b[49m\u001b[38;5;241;43m3\u001b[39;49m\u001b[43m,\u001b[49m\u001b[38;5;241;43m4\u001b[39;49m\u001b[43m,\u001b[49m\u001b[38;5;241;43m5\u001b[39;49m\u001b[43m)\u001b[49m\n\u001b[0;32m      3\u001b[0m \u001b[38;5;66;03m# 에러남\u001b[39;00m\n",
      "\u001b[1;31mTypeError\u001b[0m: array() takes from 1 to 2 positional arguments but 5 were given"
     ]
    }
   ],
   "source": [
    "np.array(1,2,3,4,5)\n",
    "\n",
    "# 에러남"
   ]
  },
  {
   "cell_type": "code",
   "execution_count": 73,
   "id": "21df0eb9",
   "metadata": {},
   "outputs": [
    {
     "data": {
      "text/plain": [
       "array([1, 2, 3, 4, 5])"
      ]
     },
     "execution_count": 73,
     "metadata": {},
     "output_type": "execute_result"
    }
   ],
   "source": [
    "e1 = np.array([1,2,3,4,5])\n",
    "e1"
   ]
  },
  {
   "cell_type": "code",
   "execution_count": 74,
   "id": "e0d481f8",
   "metadata": {},
   "outputs": [
    {
     "data": {
      "text/plain": [
       "array([1. , 2. , 3. , 4. , 5.3])"
      ]
     },
     "execution_count": 74,
     "metadata": {},
     "output_type": "execute_result"
    }
   ],
   "source": [
    "e2 = np.array([1,2,3,4,5.3])\n",
    "e2\n",
    "\n",
    "# 마지막에 5.3 을 넣었음. "
   ]
  },
  {
   "cell_type": "code",
   "execution_count": 75,
   "id": "00d6635e",
   "metadata": {},
   "outputs": [
    {
     "data": {
      "text/plain": [
       "dtype('int64')"
      ]
     },
     "execution_count": 75,
     "metadata": {},
     "output_type": "execute_result"
    }
   ],
   "source": [
    "e1.dtype"
   ]
  },
  {
   "cell_type": "code",
   "execution_count": 76,
   "id": "d24ed5bc",
   "metadata": {},
   "outputs": [
    {
     "data": {
      "text/plain": [
       "dtype('float64')"
      ]
     },
     "execution_count": 76,
     "metadata": {},
     "output_type": "execute_result"
    }
   ],
   "source": [
    "e2.dtype"
   ]
  },
  {
   "cell_type": "code",
   "execution_count": 79,
   "id": "27691a89",
   "metadata": {},
   "outputs": [
    {
     "data": {
      "text/plain": [
       "array(['1', '2', '3', '4', '5.3'], dtype='<U32')"
      ]
     },
     "execution_count": 79,
     "metadata": {},
     "output_type": "execute_result"
    }
   ],
   "source": [
    "e3 = np.array([1,2, '3', 4, 5.3])\n",
    "e3\n",
    "\n",
    "# 문자열str 과 float, int 가 섞여있음\n",
    "# 문자열이 되어버림"
   ]
  },
  {
   "cell_type": "code",
   "execution_count": 80,
   "id": "b224b348",
   "metadata": {},
   "outputs": [
    {
     "data": {
      "text/plain": [
       "dtype('<U32')"
      ]
     },
     "execution_count": 80,
     "metadata": {},
     "output_type": "execute_result"
    }
   ],
   "source": [
    "e3.dtype\n",
    "\n",
    "# U32 = 문자열이라는 뜻?"
   ]
  },
  {
   "cell_type": "code",
   "execution_count": 82,
   "id": "ca448695",
   "metadata": {},
   "outputs": [
    {
     "name": "stdout",
     "output_type": "stream",
     "text": [
      "<class 'numpy.str_'>\n",
      "<class 'numpy.str_'>\n",
      "<class 'numpy.str_'>\n",
      "<class 'numpy.str_'>\n",
      "<class 'numpy.str_'>\n"
     ]
    }
   ],
   "source": [
    "for i in e3:\n",
    "    print(type(i))\n",
    "    \n",
    "    \n",
    "# numpy.str_ : 문자열"
   ]
  },
  {
   "cell_type": "markdown",
   "id": "191784bf",
   "metadata": {},
   "source": [
    "## np.arange(시작, 끝+1, step) "
   ]
  },
  {
   "cell_type": "code",
   "execution_count": 83,
   "id": "427db3c9",
   "metadata": {},
   "outputs": [
    {
     "data": {
      "text/plain": [
       "array([  1,   2,   3,   4,   5,   6,   7,   8,   9,  10,  11,  12,  13,\n",
       "        14,  15,  16,  17,  18,  19,  20,  21,  22,  23,  24,  25,  26,\n",
       "        27,  28,  29,  30,  31,  32,  33,  34,  35,  36,  37,  38,  39,\n",
       "        40,  41,  42,  43,  44,  45,  46,  47,  48,  49,  50,  51,  52,\n",
       "        53,  54,  55,  56,  57,  58,  59,  60,  61,  62,  63,  64,  65,\n",
       "        66,  67,  68,  69,  70,  71,  72,  73,  74,  75,  76,  77,  78,\n",
       "        79,  80,  81,  82,  83,  84,  85,  86,  87,  88,  89,  90,  91,\n",
       "        92,  93,  94,  95,  96,  97,  98,  99, 100])"
      ]
     },
     "execution_count": 83,
     "metadata": {},
     "output_type": "execute_result"
    }
   ],
   "source": [
    "np.arange(1,101)"
   ]
  },
  {
   "cell_type": "code",
   "execution_count": 85,
   "id": "c7f27f4f",
   "metadata": {},
   "outputs": [
    {
     "data": {
      "text/plain": [
       "array([  1,   4,   7,  10,  13,  16,  19,  22,  25,  28,  31,  34,  37,\n",
       "        40,  43,  46,  49,  52,  55,  58,  61,  64,  67,  70,  73,  76,\n",
       "        79,  82,  85,  88,  91,  94,  97, 100])"
      ]
     },
     "execution_count": 85,
     "metadata": {},
     "output_type": "execute_result"
    }
   ],
   "source": [
    "np.arange(1,101,3)"
   ]
  },
  {
   "cell_type": "code",
   "execution_count": 86,
   "id": "3f4b609c",
   "metadata": {},
   "outputs": [
    {
     "data": {
      "text/plain": [
       "array([ 3,  6,  9, 12, 15, 18, 21, 24, 27, 30, 33, 36, 39, 42, 45, 48, 51,\n",
       "       54, 57, 60, 63, 66, 69, 72, 75, 78, 81, 84, 87, 90, 93, 96, 99])"
      ]
     },
     "execution_count": 86,
     "metadata": {},
     "output_type": "execute_result"
    }
   ],
   "source": [
    "np.arange(3,101,3)"
   ]
  },
  {
   "cell_type": "markdown",
   "id": "b4bfc500",
   "metadata": {},
   "source": [
    "## reshape(행, 열) \n",
    "* 벡터를 원하는 크기의 matrix로 변환 , 차원도 바꿀 수 있음 "
   ]
  },
  {
   "cell_type": "code",
   "execution_count": 87,
   "id": "5a7d3a23",
   "metadata": {},
   "outputs": [
    {
     "name": "stdout",
     "output_type": "stream",
     "text": [
      "[ 0  1  2  3  4  5  6  7  8  9 10 11 12 13 14 15 16 17 18 19 20 21 22 23]\n",
      "1\n",
      "(24,)\n"
     ]
    }
   ],
   "source": [
    "a = np.arange(24)\n",
    "print(a)\n",
    "print(a.ndim)\n",
    "print(a.shape)"
   ]
  },
  {
   "cell_type": "code",
   "execution_count": 88,
   "id": "b5bc5b2d",
   "metadata": {},
   "outputs": [
    {
     "data": {
      "text/plain": [
       "array([[ 0,  1,  2,  3,  4,  5,  6,  7],\n",
       "       [ 8,  9, 10, 11, 12, 13, 14, 15],\n",
       "       [16, 17, 18, 19, 20, 21, 22, 23]])"
      ]
     },
     "execution_count": 88,
     "metadata": {},
     "output_type": "execute_result"
    }
   ],
   "source": [
    "b = a.reshape(3,8)\n",
    "b"
   ]
  },
  {
   "cell_type": "code",
   "execution_count": 89,
   "id": "70a6f6a5",
   "metadata": {},
   "outputs": [
    {
     "data": {
      "text/plain": [
       "array([[ 0,  1,  2],\n",
       "       [ 3,  4,  5],\n",
       "       [ 6,  7,  8],\n",
       "       [ 9, 10, 11],\n",
       "       [12, 13, 14],\n",
       "       [15, 16, 17],\n",
       "       [18, 19, 20],\n",
       "       [21, 22, 23]])"
      ]
     },
     "execution_count": 89,
     "metadata": {},
     "output_type": "execute_result"
    }
   ],
   "source": [
    "c = a.reshape(8,3)\n",
    "c"
   ]
  },
  {
   "cell_type": "code",
   "execution_count": 91,
   "id": "f96b403d",
   "metadata": {},
   "outputs": [
    {
     "data": {
      "text/plain": [
       "array([[[[ 0,  1],\n",
       "         [ 2,  3]],\n",
       "\n",
       "        [[ 4,  5],\n",
       "         [ 6,  7]]],\n",
       "\n",
       "\n",
       "       [[[ 8,  9],\n",
       "         [10, 11]],\n",
       "\n",
       "        [[12, 13],\n",
       "         [14, 15]]],\n",
       "\n",
       "\n",
       "       [[[16, 17],\n",
       "         [18, 19]],\n",
       "\n",
       "        [[20, 21],\n",
       "         [22, 23]]]])"
      ]
     },
     "execution_count": 91,
     "metadata": {},
     "output_type": "execute_result"
    }
   ],
   "source": [
    "d = a.reshape(3,2,2,2)\n",
    "d"
   ]
  },
  {
   "cell_type": "code",
   "execution_count": 94,
   "id": "331d80dd",
   "metadata": {},
   "outputs": [
    {
     "data": {
      "text/plain": [
       "array([ 0,  1,  2,  3,  4,  5,  6,  7,  8,  9, 10, 11, 12, 13, 14, 15, 16,\n",
       "       17, 18, 19, 20, 21, 22, 23])"
      ]
     },
     "execution_count": 94,
     "metadata": {},
     "output_type": "execute_result"
    }
   ],
   "source": [
    "e = a.reshape(24, )\n",
    "e"
   ]
  },
  {
   "cell_type": "code",
   "execution_count": 95,
   "id": "12aaa65a",
   "metadata": {},
   "outputs": [
    {
     "name": "stdout",
     "output_type": "stream",
     "text": [
      "1\n",
      "(24,)\n"
     ]
    }
   ],
   "source": [
    "print(e.ndim)\n",
    "print(e.shape)"
   ]
  },
  {
   "cell_type": "markdown",
   "id": "f9b67867",
   "metadata": {},
   "source": [
    "## flatten( ) : 다차원 데이터를 1차원 배열로 바꿔주는 함수 "
   ]
  },
  {
   "cell_type": "code",
   "execution_count": 96,
   "id": "848f4719",
   "metadata": {},
   "outputs": [
    {
     "data": {
      "text/plain": [
       "array([[[[ 0,  1],\n",
       "         [ 2,  3]],\n",
       "\n",
       "        [[ 4,  5],\n",
       "         [ 6,  7]]],\n",
       "\n",
       "\n",
       "       [[[ 8,  9],\n",
       "         [10, 11]],\n",
       "\n",
       "        [[12, 13],\n",
       "         [14, 15]]],\n",
       "\n",
       "\n",
       "       [[[16, 17],\n",
       "         [18, 19]],\n",
       "\n",
       "        [[20, 21],\n",
       "         [22, 23]]]])"
      ]
     },
     "execution_count": 96,
     "metadata": {},
     "output_type": "execute_result"
    }
   ],
   "source": [
    "d = a.reshape(3,2,2,2)\n",
    "d"
   ]
  },
  {
   "cell_type": "code",
   "execution_count": 100,
   "id": "f82aaa20",
   "metadata": {},
   "outputs": [
    {
     "data": {
      "text/plain": [
       "array([ 0,  1,  2,  3,  4,  5,  6,  7,  8,  9, 10, 11, 12, 13, 14, 15, 16,\n",
       "       17, 18, 19, 20, 21, 22, 23])"
      ]
     },
     "execution_count": 100,
     "metadata": {},
     "output_type": "execute_result"
    }
   ],
   "source": [
    "d.flatten()\n",
    "\n",
    "# 다차원을 1차원 배열로 펼치기\n",
    "# 괄호가 있음"
   ]
  },
  {
   "cell_type": "markdown",
   "id": "c62a0b20",
   "metadata": {},
   "source": [
    "## .flip( ) : 행렬의 순서를 뒤집을 때"
   ]
  },
  {
   "cell_type": "code",
   "execution_count": 101,
   "id": "b248f547",
   "metadata": {},
   "outputs": [
    {
     "data": {
      "text/plain": [
       "array([[[[ 0,  1],\n",
       "         [ 2,  3]],\n",
       "\n",
       "        [[ 4,  5],\n",
       "         [ 6,  7]]],\n",
       "\n",
       "\n",
       "       [[[ 8,  9],\n",
       "         [10, 11]],\n",
       "\n",
       "        [[12, 13],\n",
       "         [14, 15]]],\n",
       "\n",
       "\n",
       "       [[[16, 17],\n",
       "         [18, 19]],\n",
       "\n",
       "        [[20, 21],\n",
       "         [22, 23]]]])"
      ]
     },
     "execution_count": 101,
     "metadata": {},
     "output_type": "execute_result"
    }
   ],
   "source": [
    "d"
   ]
  },
  {
   "cell_type": "code",
   "execution_count": 102,
   "id": "67615147",
   "metadata": {},
   "outputs": [
    {
     "data": {
      "text/plain": [
       "array([[[[16, 17],\n",
       "         [18, 19]],\n",
       "\n",
       "        [[20, 21],\n",
       "         [22, 23]]],\n",
       "\n",
       "\n",
       "       [[[ 8,  9],\n",
       "         [10, 11]],\n",
       "\n",
       "        [[12, 13],\n",
       "         [14, 15]]],\n",
       "\n",
       "\n",
       "       [[[ 0,  1],\n",
       "         [ 2,  3]],\n",
       "\n",
       "        [[ 4,  5],\n",
       "         [ 6,  7]]]])"
      ]
     },
     "execution_count": 102,
     "metadata": {},
     "output_type": "execute_result"
    }
   ],
   "source": [
    "d[::-1]"
   ]
  },
  {
   "cell_type": "code",
   "execution_count": 103,
   "id": "9cdbe2bf",
   "metadata": {},
   "outputs": [
    {
     "data": {
      "text/plain": [
       "array([[[[23, 22],\n",
       "         [21, 20]],\n",
       "\n",
       "        [[19, 18],\n",
       "         [17, 16]]],\n",
       "\n",
       "\n",
       "       [[[15, 14],\n",
       "         [13, 12]],\n",
       "\n",
       "        [[11, 10],\n",
       "         [ 9,  8]]],\n",
       "\n",
       "\n",
       "       [[[ 7,  6],\n",
       "         [ 5,  4]],\n",
       "\n",
       "        [[ 3,  2],\n",
       "         [ 1,  0]]]])"
      ]
     },
     "execution_count": 103,
     "metadata": {},
     "output_type": "execute_result"
    }
   ],
   "source": [
    "np.flip(d)"
   ]
  },
  {
   "cell_type": "markdown",
   "id": "4b24637c",
   "metadata": {},
   "source": [
    "## 정해진 숫자 범위 내에서 균등하게 구간을 나눌 때\n",
    "\n",
    "* np.linspace(시작, 끝, 구간 수)"
   ]
  },
  {
   "cell_type": "code",
   "execution_count": 104,
   "id": "5adbbe5e",
   "metadata": {},
   "outputs": [
    {
     "data": {
      "text/plain": [
       "array([0.        , 0.00819672, 0.01639344, 0.02459016, 0.03278689,\n",
       "       0.04098361, 0.04918033, 0.05737705, 0.06557377, 0.07377049,\n",
       "       0.08196721, 0.09016393, 0.09836066, 0.10655738, 0.1147541 ,\n",
       "       0.12295082, 0.13114754, 0.13934426, 0.14754098, 0.1557377 ,\n",
       "       0.16393443, 0.17213115, 0.18032787, 0.18852459, 0.19672131,\n",
       "       0.20491803, 0.21311475, 0.22131148, 0.2295082 , 0.23770492,\n",
       "       0.24590164, 0.25409836, 0.26229508, 0.2704918 , 0.27868852,\n",
       "       0.28688525, 0.29508197, 0.30327869, 0.31147541, 0.31967213,\n",
       "       0.32786885, 0.33606557, 0.3442623 , 0.35245902, 0.36065574,\n",
       "       0.36885246, 0.37704918, 0.3852459 , 0.39344262, 0.40163934,\n",
       "       0.40983607, 0.41803279, 0.42622951, 0.43442623, 0.44262295,\n",
       "       0.45081967, 0.45901639, 0.46721311, 0.47540984, 0.48360656,\n",
       "       0.49180328, 0.5       , 0.50819672, 0.51639344, 0.52459016,\n",
       "       0.53278689, 0.54098361, 0.54918033, 0.55737705, 0.56557377,\n",
       "       0.57377049, 0.58196721, 0.59016393, 0.59836066, 0.60655738,\n",
       "       0.6147541 , 0.62295082, 0.63114754, 0.63934426, 0.64754098,\n",
       "       0.6557377 , 0.66393443, 0.67213115, 0.68032787, 0.68852459,\n",
       "       0.69672131, 0.70491803, 0.71311475, 0.72131148, 0.7295082 ,\n",
       "       0.73770492, 0.74590164, 0.75409836, 0.76229508, 0.7704918 ,\n",
       "       0.77868852, 0.78688525, 0.79508197, 0.80327869, 0.81147541,\n",
       "       0.81967213, 0.82786885, 0.83606557, 0.8442623 , 0.85245902,\n",
       "       0.86065574, 0.86885246, 0.87704918, 0.8852459 , 0.89344262,\n",
       "       0.90163934, 0.90983607, 0.91803279, 0.92622951, 0.93442623,\n",
       "       0.94262295, 0.95081967, 0.95901639, 0.96721311, 0.97540984,\n",
       "       0.98360656, 0.99180328, 1.        ])"
      ]
     },
     "execution_count": 104,
     "metadata": {},
     "output_type": "execute_result"
    }
   ],
   "source": [
    "np.linspace(0, 1, 123)"
   ]
  },
  {
   "cell_type": "code",
   "execution_count": 106,
   "id": "f469b38f",
   "metadata": {},
   "outputs": [
    {
     "data": {
      "text/plain": [
       "array([ 5. ,  7. , 11. ,  1. ,  3. ,  2. , 54. ,  0.5,  0.8])"
      ]
     },
     "execution_count": 106,
     "metadata": {},
     "output_type": "execute_result"
    }
   ],
   "source": [
    "f = np.array([5, 7, 11, 1, 3, 2, 54, 0.5, 0.8])\n",
    "f\n",
    "\n",
    "# 정렬이 되어있지 않음"
   ]
  },
  {
   "cell_type": "code",
   "execution_count": 111,
   "id": "7f59aed6",
   "metadata": {},
   "outputs": [],
   "source": [
    "f.sort()\n",
    "\n",
    "# 바로 저장되는거 \n",
    "# 리스크 있다."
   ]
  },
  {
   "cell_type": "code",
   "execution_count": 110,
   "id": "6a50f890",
   "metadata": {},
   "outputs": [
    {
     "data": {
      "text/plain": [
       "[np.float64(0.5),\n",
       " np.float64(0.8),\n",
       " np.float64(1.0),\n",
       " np.float64(2.0),\n",
       " np.float64(3.0),\n",
       " np.float64(5.0),\n",
       " np.float64(7.0),\n",
       " np.float64(11.0),\n",
       " np.float64(54.0)]"
      ]
     },
     "execution_count": 110,
     "metadata": {},
     "output_type": "execute_result"
    }
   ],
   "source": [
    "sorted(f)\n",
    "\n",
    "# 바로 저장되지 않음. 그래서 이거 사용하는게 나음"
   ]
  },
  {
   "cell_type": "code",
   "execution_count": 109,
   "id": "ae19d6a1",
   "metadata": {},
   "outputs": [
    {
     "data": {
      "text/plain": [
       "array([ 0.5,  0.8,  1. ,  2. ,  3. ,  5. ,  7. , 11. , 54. ])"
      ]
     },
     "execution_count": 109,
     "metadata": {},
     "output_type": "execute_result"
    }
   ],
   "source": [
    "f"
   ]
  },
  {
   "cell_type": "markdown",
   "id": "a27b21b1",
   "metadata": {},
   "source": [
    "## argsort( ) : 자료 중 값이 작은 것에서 큰 순으로 인덱스 출력 "
   ]
  },
  {
   "cell_type": "code",
   "execution_count": 113,
   "id": "e96f1d58",
   "metadata": {},
   "outputs": [
    {
     "data": {
      "text/plain": [
       "array([ 5. ,  0.5, -7. , 42. , 10. ])"
      ]
     },
     "execution_count": 113,
     "metadata": {},
     "output_type": "execute_result"
    }
   ],
   "source": [
    "g = np.array([5, 0.5, -7, 42, 10])\n",
    "g"
   ]
  },
  {
   "cell_type": "code",
   "execution_count": 117,
   "id": "99468ad5",
   "metadata": {},
   "outputs": [
    {
     "data": {
      "text/plain": [
       "array([2, 1, 0, 4, 3])"
      ]
     },
     "execution_count": 117,
     "metadata": {},
     "output_type": "execute_result"
    }
   ],
   "source": [
    "g.argsort()\n",
    "\n",
    "# 인덱스로 출력되는 것임 \n",
    "# 0 : 가장 작은 -7\n",
    "# 1 : 두번째로 작은 0.5 "
   ]
  },
  {
   "cell_type": "markdown",
   "id": "a818a18c",
   "metadata": {},
   "source": [
    "## * 배열합치기 \n",
    "np.concatenate((a, b))"
   ]
  },
  {
   "cell_type": "code",
   "execution_count": 164,
   "id": "13fd91ad",
   "metadata": {},
   "outputs": [
    {
     "name": "stdout",
     "output_type": "stream",
     "text": [
      "[[1 2]\n",
      " [3 4]]\n",
      "(2, 2)\n",
      "\n",
      "[[5 6]\n",
      " [7 8]]\n",
      "(2, 2)\n"
     ]
    }
   ],
   "source": [
    "a = np.array([[1,2],[3,4]])\n",
    "b = np.array([[5,6],[7,8]])\n",
    "print(a)\n",
    "print(a.shape)   # 행렬 모양이 2행 2열이다 \n",
    "print()\n",
    "print(b)\n",
    "print(b.shape)   # 행렬 모양이 2행 2열이다 "
   ]
  },
  {
   "cell_type": "markdown",
   "id": "98626917",
   "metadata": {},
   "source": [
    "* np.concatenate((a,b)) 의 기본 병합 방향은 행방향, axis = 0 \n",
    "* 행방향으로 합칠 때는 두 행렬의 열의 길이가 같아야 합쳐짐 "
   ]
  },
  {
   "cell_type": "code",
   "execution_count": 141,
   "id": "e0d6ba97",
   "metadata": {},
   "outputs": [
    {
     "data": {
      "text/plain": [
       "array([[1, 2],\n",
       "       [3, 4],\n",
       "       [5, 6],\n",
       "       [7, 8]])"
      ]
     },
     "execution_count": 141,
     "metadata": {},
     "output_type": "execute_result"
    }
   ],
   "source": [
    "concat_row = np.concatenate((a, b))\n",
    "concat_row\n",
    "\n",
    "# 기본 병합 방향 : 행방향, axis = 0 이 생략됨"
   ]
  },
  {
   "cell_type": "code",
   "execution_count": 142,
   "id": "88fabb16",
   "metadata": {},
   "outputs": [
    {
     "data": {
      "text/plain": [
       "(4, 2)"
      ]
     },
     "execution_count": 142,
     "metadata": {},
     "output_type": "execute_result"
    }
   ],
   "source": [
    "concat_row.shape\n",
    "\n",
    "# 4행 2열"
   ]
  },
  {
   "cell_type": "markdown",
   "id": "68ecc94f",
   "metadata": {},
   "source": [
    "* axis = 0   : 행방향으로 붙음\n",
    "* axis = 1   : 열방향으로 붙음\n",
    "* 두 행렬의 행 길이가 같아야 붙음"
   ]
  },
  {
   "cell_type": "code",
   "execution_count": 143,
   "id": "e7461e4f",
   "metadata": {},
   "outputs": [
    {
     "data": {
      "text/plain": [
       "array([[1, 2, 5, 6],\n",
       "       [3, 4, 7, 8]])"
      ]
     },
     "execution_count": 143,
     "metadata": {},
     "output_type": "execute_result"
    }
   ],
   "source": [
    "concat_col = np.concatenate((a, b), axis=1)\n",
    "concat_col"
   ]
  },
  {
   "cell_type": "code",
   "execution_count": 144,
   "id": "5181933b",
   "metadata": {},
   "outputs": [
    {
     "data": {
      "text/plain": [
       "(2, 4)"
      ]
     },
     "execution_count": 144,
     "metadata": {},
     "output_type": "execute_result"
    }
   ],
   "source": [
    "concat_col.shape\n",
    "\n",
    "# 2행 4열"
   ]
  },
  {
   "cell_type": "markdown",
   "id": "5f36ce7c",
   "metadata": {},
   "source": [
    "## 합치는 방향의 모양이 일치하지 않으면 합치기 X"
   ]
  },
  {
   "cell_type": "code",
   "execution_count": 163,
   "id": "892888d7",
   "metadata": {},
   "outputs": [
    {
     "name": "stdout",
     "output_type": "stream",
     "text": [
      "[[1 2]\n",
      " [3 4]]\n",
      "(2, 2)\n",
      "2\n",
      "\n",
      "[[5 6]]\n",
      "(1, 2)\n",
      "2\n"
     ]
    }
   ],
   "source": [
    "c = np.array([[1,2],[3,4]])\n",
    "d = np.array([[5,6]])\n",
    "print(c)\n",
    "print(c.shape)   # 행렬 모양이 2행 2열이다 \n",
    "print(c.ndim)\n",
    "print()\n",
    "print(d)\n",
    "print(d.shape)   # 행렬 모양이 1행 2열이다 \n",
    "print(d.ndim)"
   ]
  },
  {
   "cell_type": "code",
   "execution_count": 145,
   "id": "ff238eed",
   "metadata": {},
   "outputs": [
    {
     "data": {
      "text/plain": [
       "array([[1, 2],\n",
       "       [3, 4],\n",
       "       [5, 6]])"
      ]
     },
     "execution_count": 145,
     "metadata": {},
     "output_type": "execute_result"
    }
   ],
   "source": [
    "concat_row2 = np.concatenate((c, d), axis=0)\n",
    "concat_row2"
   ]
  },
  {
   "cell_type": "code",
   "execution_count": 147,
   "id": "6073e7b1",
   "metadata": {},
   "outputs": [
    {
     "data": {
      "text/plain": [
       "(3, 2)"
      ]
     },
     "execution_count": 147,
     "metadata": {},
     "output_type": "execute_result"
    }
   ],
   "source": [
    "concat_row2.shape\n",
    "\n",
    "# 3행 2열"
   ]
  },
  {
   "cell_type": "code",
   "execution_count": 159,
   "id": "02da4282",
   "metadata": {},
   "outputs": [
    {
     "ename": "ValueError",
     "evalue": "all the input array dimensions except for the concatenation axis must match exactly, but along dimension 0, the array at index 0 has size 2 and the array at index 1 has size 1",
     "output_type": "error",
     "traceback": [
      "\u001b[1;31m---------------------------------------------------------------------------\u001b[0m",
      "\u001b[1;31mValueError\u001b[0m                                Traceback (most recent call last)",
      "Cell \u001b[1;32mIn[159], line 1\u001b[0m\n\u001b[1;32m----> 1\u001b[0m concat_col2 \u001b[38;5;241m=\u001b[39m \u001b[43mnp\u001b[49m\u001b[38;5;241;43m.\u001b[39;49m\u001b[43mconcatenate\u001b[49m\u001b[43m(\u001b[49m\u001b[43m(\u001b[49m\u001b[43mc\u001b[49m\u001b[43m,\u001b[49m\u001b[43m \u001b[49m\u001b[43md\u001b[49m\u001b[43m)\u001b[49m\u001b[43m,\u001b[49m\u001b[43m \u001b[49m\u001b[43maxis\u001b[49m\u001b[38;5;241;43m=\u001b[39;49m\u001b[38;5;241;43m1\u001b[39;49m\u001b[43m)\u001b[49m\n\u001b[0;32m      2\u001b[0m \u001b[38;5;28mprint\u001b[39m(concat_col2\u001b[38;5;241m.\u001b[39mshape)\n\u001b[0;32m      3\u001b[0m \u001b[38;5;28mprint\u001b[39m(concat_col2)\n",
      "\u001b[1;31mValueError\u001b[0m: all the input array dimensions except for the concatenation axis must match exactly, but along dimension 0, the array at index 0 has size 2 and the array at index 1 has size 1"
     ]
    }
   ],
   "source": [
    "concat_col2 = np.concatenate((c, d), axis=1)\n",
    "print(concat_col2.shape)\n",
    "print(concat_col2)\n",
    "\n",
    "\n",
    "# 에러가 뜸 \n",
    "# 반드시 정확하게 shape 이 일치해야 하는데, 일치하지 않아서 합쳐지지 않음 "
   ]
  },
  {
   "cell_type": "code",
   "execution_count": 162,
   "id": "714e6db1",
   "metadata": {},
   "outputs": [
    {
     "name": "stdout",
     "output_type": "stream",
     "text": [
      "[[1 2]\n",
      " [3 4]]\n",
      "(2, 2)\n",
      "2\n",
      "\n",
      "[5 6]\n",
      "(2,)\n",
      "1\n"
     ]
    }
   ],
   "source": [
    "e = np.array([[1,2],[3,4]])\n",
    "f = np.array([5,6])\n",
    "print(e)\n",
    "print(e.shape)   # 행렬 모양이 2행 2열이다 \n",
    "print(e.ndim)\n",
    "print()\n",
    "print(f)\n",
    "print(f.shape)   # 벡터\n",
    "print(f.ndim)"
   ]
  },
  {
   "cell_type": "markdown",
   "id": "e7d5aabe",
   "metadata": {},
   "source": [
    "## vector 와 matrix 는 합칠 수 없다. "
   ]
  },
  {
   "cell_type": "code",
   "execution_count": 154,
   "id": "2efbd947",
   "metadata": {},
   "outputs": [
    {
     "ename": "ValueError",
     "evalue": "all the input arrays must have same number of dimensions, but the array at index 0 has 2 dimension(s) and the array at index 1 has 1 dimension(s)",
     "output_type": "error",
     "traceback": [
      "\u001b[1;31m---------------------------------------------------------------------------\u001b[0m",
      "\u001b[1;31mValueError\u001b[0m                                Traceback (most recent call last)",
      "Cell \u001b[1;32mIn[154], line 1\u001b[0m\n\u001b[1;32m----> 1\u001b[0m concat_row3 \u001b[38;5;241m=\u001b[39m \u001b[43mnp\u001b[49m\u001b[38;5;241;43m.\u001b[39;49m\u001b[43mconcatenate\u001b[49m\u001b[43m(\u001b[49m\u001b[43m(\u001b[49m\u001b[43me\u001b[49m\u001b[43m,\u001b[49m\u001b[43m \u001b[49m\u001b[43mf\u001b[49m\u001b[43m)\u001b[49m\u001b[43m,\u001b[49m\u001b[43m \u001b[49m\u001b[43maxis\u001b[49m\u001b[38;5;241;43m=\u001b[39;49m\u001b[38;5;241;43m0\u001b[39;49m\u001b[43m)\u001b[49m\n\u001b[0;32m      2\u001b[0m \u001b[38;5;28mprint\u001b[39m(concat_row3)\n\u001b[0;32m      3\u001b[0m \u001b[38;5;28mprint\u001b[39m(concat_row3\u001b[38;5;241m.\u001b[39mshape)\n",
      "\u001b[1;31mValueError\u001b[0m: all the input arrays must have same number of dimensions, but the array at index 0 has 2 dimension(s) and the array at index 1 has 1 dimension(s)"
     ]
    }
   ],
   "source": [
    "concat_row3 = np.concatenate((e, f), axis=0)\n",
    "print(concat_row3)\n",
    "print(concat_row3.shape)\n",
    "\n",
    "# 에러뜸 \n",
    "# 반드시 차원이 맞아야 한다. 같은 차원! \n",
    "# 벡터와 matrix는 합칠 수 없다. "
   ]
  },
  {
   "cell_type": "code",
   "execution_count": 174,
   "id": "a9a04eb9",
   "metadata": {},
   "outputs": [
    {
     "ename": "ValueError",
     "evalue": "all the input arrays must have same number of dimensions, but the array at index 0 has 2 dimension(s) and the array at index 1 has 1 dimension(s)",
     "output_type": "error",
     "traceback": [
      "\u001b[1;31m---------------------------------------------------------------------------\u001b[0m",
      "\u001b[1;31mValueError\u001b[0m                                Traceback (most recent call last)",
      "Cell \u001b[1;32mIn[174], line 1\u001b[0m\n\u001b[1;32m----> 1\u001b[0m concat_col3 \u001b[38;5;241m=\u001b[39m \u001b[43mnp\u001b[49m\u001b[38;5;241;43m.\u001b[39;49m\u001b[43mconcatenate\u001b[49m\u001b[43m(\u001b[49m\u001b[43m(\u001b[49m\u001b[43me\u001b[49m\u001b[43m,\u001b[49m\u001b[43m \u001b[49m\u001b[43mf\u001b[49m\u001b[43m)\u001b[49m\u001b[43m,\u001b[49m\u001b[43m \u001b[49m\u001b[43maxis\u001b[49m\u001b[38;5;241;43m=\u001b[39;49m\u001b[38;5;241;43m1\u001b[39;49m\u001b[43m)\u001b[49m\n\u001b[0;32m      2\u001b[0m \u001b[38;5;28mprint\u001b[39m(concat_col3)\n\u001b[0;32m      3\u001b[0m \u001b[38;5;28mprint\u001b[39m(concat_col3\u001b[38;5;241m.\u001b[39mshape)\n",
      "\u001b[1;31mValueError\u001b[0m: all the input arrays must have same number of dimensions, but the array at index 0 has 2 dimension(s) and the array at index 1 has 1 dimension(s)"
     ]
    }
   ],
   "source": [
    "concat_col3 = np.concatenate((e, f), axis=1)\n",
    "print(concat_col3)\n",
    "print(concat_col3.shape)\n",
    "\n",
    "# 에러뜸 \n",
    "# 반드시 차원이 맞아야 한다. 같은 차원! \n",
    "# 벡터와 matrix는 합칠 수 없다. "
   ]
  },
  {
   "cell_type": "code",
   "execution_count": null,
   "id": "96d3adfb",
   "metadata": {},
   "outputs": [],
   "source": []
  },
  {
   "cell_type": "code",
   "execution_count": 175,
   "id": "16769338",
   "metadata": {},
   "outputs": [
    {
     "name": "stdout",
     "output_type": "stream",
     "text": [
      "(2, 3)\n",
      "\n",
      "[[1 2 5]\n",
      " [3 4 6]]\n"
     ]
    }
   ],
   "source": [
    "concat_col2 = np.concatenate((c, d.T), axis=1)\n",
    "print(concat_col2.shape)\n",
    "print()\n",
    "print(concat_col2)\n",
    "\n",
    "# 아까 위에서는 오류 뜸\n",
    "# 전치행렬로 만들면 합쳐질 수 있다. "
   ]
  },
  {
   "cell_type": "code",
   "execution_count": 176,
   "id": "39209828",
   "metadata": {},
   "outputs": [
    {
     "name": "stdout",
     "output_type": "stream",
     "text": [
      "[[1 2]\n",
      " [3 4]]\n",
      "(2, 2)\n",
      "2\n",
      "\n",
      "[5 6 7]\n",
      "(3,)\n",
      "1\n"
     ]
    }
   ],
   "source": [
    "g = np.array([[1,2],[3,4]])\n",
    "h = np.array([5,6,7])\n",
    "print(g)\n",
    "print(g.shape)   # 행렬 모양이 2행 2열이다 \n",
    "print(g.ndim)\n",
    "print()\n",
    "print(h)\n",
    "print(h.shape)   # 1행 3열의 matrix\n",
    "print(h.ndim)"
   ]
  },
  {
   "cell_type": "code",
   "execution_count": 177,
   "id": "ec5b7b42",
   "metadata": {},
   "outputs": [
    {
     "ename": "ValueError",
     "evalue": "all the input arrays must have same number of dimensions, but the array at index 0 has 2 dimension(s) and the array at index 1 has 1 dimension(s)",
     "output_type": "error",
     "traceback": [
      "\u001b[1;31m---------------------------------------------------------------------------\u001b[0m",
      "\u001b[1;31mValueError\u001b[0m                                Traceback (most recent call last)",
      "Cell \u001b[1;32mIn[177], line 1\u001b[0m\n\u001b[1;32m----> 1\u001b[0m concat_col4 \u001b[38;5;241m=\u001b[39m \u001b[43mnp\u001b[49m\u001b[38;5;241;43m.\u001b[39;49m\u001b[43mconcatenate\u001b[49m\u001b[43m(\u001b[49m\u001b[43m(\u001b[49m\u001b[43mg\u001b[49m\u001b[43m,\u001b[49m\u001b[43m \u001b[49m\u001b[43mh\u001b[49m\u001b[43m)\u001b[49m\u001b[43m,\u001b[49m\u001b[43m \u001b[49m\u001b[43maxis\u001b[49m\u001b[38;5;241;43m=\u001b[39;49m\u001b[38;5;241;43m1\u001b[39;49m\u001b[43m)\u001b[49m\n\u001b[0;32m      2\u001b[0m \u001b[38;5;28mprint\u001b[39m(concat_col4\u001b[38;5;241m.\u001b[39mshape)\n\u001b[0;32m      3\u001b[0m \u001b[38;5;28mprint\u001b[39m()\n",
      "\u001b[1;31mValueError\u001b[0m: all the input arrays must have same number of dimensions, but the array at index 0 has 2 dimension(s) and the array at index 1 has 1 dimension(s)"
     ]
    }
   ],
   "source": [
    "concat_col4 = np.concatenate((g, h), axis=1)\n",
    "print(concat_col4.shape)\n",
    "print()\n",
    "print(concat_col4)\n",
    "\n",
    "# 에러뜸 \n",
    "# 행렬의 형태가 붙일 수 없기 때문에 안됨"
   ]
  },
  {
   "cell_type": "code",
   "execution_count": 178,
   "id": "8b09110c",
   "metadata": {},
   "outputs": [
    {
     "ename": "ValueError",
     "evalue": "all the input arrays must have same number of dimensions, but the array at index 0 has 2 dimension(s) and the array at index 1 has 1 dimension(s)",
     "output_type": "error",
     "traceback": [
      "\u001b[1;31m---------------------------------------------------------------------------\u001b[0m",
      "\u001b[1;31mValueError\u001b[0m                                Traceback (most recent call last)",
      "Cell \u001b[1;32mIn[178], line 1\u001b[0m\n\u001b[1;32m----> 1\u001b[0m concat_row4 \u001b[38;5;241m=\u001b[39m \u001b[43mnp\u001b[49m\u001b[38;5;241;43m.\u001b[39;49m\u001b[43mconcatenate\u001b[49m\u001b[43m(\u001b[49m\u001b[43m(\u001b[49m\u001b[43mg\u001b[49m\u001b[43m,\u001b[49m\u001b[43m \u001b[49m\u001b[43mh\u001b[49m\u001b[43m)\u001b[49m\u001b[43m,\u001b[49m\u001b[43m \u001b[49m\u001b[43maxis\u001b[49m\u001b[38;5;241;43m=\u001b[39;49m\u001b[38;5;241;43m0\u001b[39;49m\u001b[43m)\u001b[49m\n\u001b[0;32m      2\u001b[0m \u001b[38;5;28mprint\u001b[39m(concat_row4)\n\u001b[0;32m      3\u001b[0m \u001b[38;5;28mprint\u001b[39m(concat_row4\u001b[38;5;241m.\u001b[39mshape)\n",
      "\u001b[1;31mValueError\u001b[0m: all the input arrays must have same number of dimensions, but the array at index 0 has 2 dimension(s) and the array at index 1 has 1 dimension(s)"
     ]
    }
   ],
   "source": [
    "concat_row4 = np.concatenate((g, h), axis=0)\n",
    "print(concat_row4)\n",
    "print(concat_row4.shape)\n",
    "\n",
    "# 에러뜸 \n",
    "# 행렬의 형태가 같아야 하는데, 같지 않아서 붙일 수 없음 "
   ]
  },
  {
   "cell_type": "code",
   "execution_count": null,
   "id": "313cc1c2",
   "metadata": {},
   "outputs": [],
   "source": []
  },
  {
   "cell_type": "markdown",
   "id": "8e2ec081",
   "metadata": {},
   "source": [
    "# 전치행렬 만들기 \n",
    "* .T\n",
    "* .transpose()\n",
    "* .reshape()"
   ]
  },
  {
   "cell_type": "code",
   "execution_count": 179,
   "id": "d97bdf40",
   "metadata": {},
   "outputs": [
    {
     "data": {
      "text/plain": [
       "array([5, 6, 7])"
      ]
     },
     "execution_count": 179,
     "metadata": {},
     "output_type": "execute_result"
    }
   ],
   "source": [
    "h"
   ]
  },
  {
   "cell_type": "code",
   "execution_count": 180,
   "id": "01f4455a",
   "metadata": {
    "scrolled": true
   },
   "outputs": [
    {
     "name": "stdout",
     "output_type": "stream",
     "text": [
      "[5 6 7]\n",
      "(3,)\n"
     ]
    }
   ],
   "source": [
    "print(h)\n",
    "print(h.shape)"
   ]
  },
  {
   "cell_type": "code",
   "execution_count": 181,
   "id": "5b6ee972",
   "metadata": {},
   "outputs": [
    {
     "name": "stdout",
     "output_type": "stream",
     "text": [
      "[5 6 7]\n",
      "(3,)\n"
     ]
    }
   ],
   "source": [
    "h2 = h.T\n",
    "print(h2)\n",
    "print(h2.shape)"
   ]
  },
  {
   "cell_type": "code",
   "execution_count": 182,
   "id": "2476b9a2",
   "metadata": {},
   "outputs": [
    {
     "name": "stdout",
     "output_type": "stream",
     "text": [
      "[5 6 7]\n",
      "(3,)\n"
     ]
    }
   ],
   "source": [
    "h3 = h.transpose()\n",
    "print(h3)\n",
    "print(h3.shape)"
   ]
  },
  {
   "cell_type": "code",
   "execution_count": null,
   "id": "2386ddec",
   "metadata": {},
   "outputs": [],
   "source": [
    "# trnanspose 나 .T 를 더 사용하기 "
   ]
  },
  {
   "cell_type": "code",
   "execution_count": null,
   "id": "853751c5",
   "metadata": {},
   "outputs": [],
   "source": []
  },
  {
   "cell_type": "code",
   "execution_count": null,
   "id": "2300c41b",
   "metadata": {},
   "outputs": [],
   "source": []
  },
  {
   "cell_type": "code",
   "execution_count": null,
   "id": "db46f863",
   "metadata": {},
   "outputs": [],
   "source": []
  },
  {
   "cell_type": "code",
   "execution_count": null,
   "id": "50e2f680",
   "metadata": {},
   "outputs": [],
   "source": []
  },
  {
   "cell_type": "code",
   "execution_count": null,
   "id": "d9a9111f",
   "metadata": {},
   "outputs": [],
   "source": []
  },
  {
   "cell_type": "code",
   "execution_count": null,
   "id": "5db10268",
   "metadata": {},
   "outputs": [],
   "source": []
  }
 ],
 "metadata": {
  "kernelspec": {
   "display_name": "Python 3 (ipykernel)",
   "language": "python",
   "name": "python3"
  },
  "language_info": {
   "codemirror_mode": {
    "name": "ipython",
    "version": 3
   },
   "file_extension": ".py",
   "mimetype": "text/x-python",
   "name": "python",
   "nbconvert_exporter": "python",
   "pygments_lexer": "ipython3",
   "version": "3.10.14"
  }
 },
 "nbformat": 4,
 "nbformat_minor": 5
}
