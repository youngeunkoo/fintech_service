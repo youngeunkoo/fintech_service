{
 "cells": [
  {
   "cell_type": "markdown",
   "id": "0593c33c",
   "metadata": {},
   "source": [
    "# < 함수function 만들기 >"
   ]
  },
  {
   "cell_type": "markdown",
   "id": "7cae0345",
   "metadata": {},
   "source": [
    "* print(), split(), input()   =>  함수\n",
    "* 함수의 괄호 안에 값을 넣으면 출력을 해주거나 입력을 받거나 변환을 해줌\n",
    "* 도구, 기능 \n",
    "* function\n",
    "* 자주 사용하는 기능을 미리 만들어서 ** 반복 재사용 ** 할 수 있게 만드는 것\n"
   ]
  },
  {
   "cell_type": "code",
   "execution_count": 1,
   "id": "5b506bbc",
   "metadata": {},
   "outputs": [
    {
     "name": "stdout",
     "output_type": "stream",
     "text": [
      "1\n",
      "2\n",
      "3\n",
      "4\n",
      "5\n"
     ]
    }
   ],
   "source": [
    "L = [1,2,3,4,5]\n",
    "result = []\n",
    "\n",
    "for i in L:\n",
    "    result.append(i*10)\n",
    "    print(i)"
   ]
  },
  {
   "cell_type": "markdown",
   "id": "a163302b",
   "metadata": {},
   "source": [
    "## 1) 함수 만드는 법 \n",
    "<br>\n",
    "def 함수이름(): <br>\n",
    "_____실행코드  <br>\n",
    "______return 리턴 값 <br>"
   ]
  },
  {
   "cell_type": "code",
   "execution_count": 4,
   "id": "e73c078b",
   "metadata": {},
   "outputs": [],
   "source": [
    "# 함수 만들기\n",
    "\n",
    "def hello():\n",
    "    print(\"hello 파이썬 함수 만들기\")"
   ]
  },
  {
   "cell_type": "code",
   "execution_count": 3,
   "id": "538e3578",
   "metadata": {},
   "outputs": [
    {
     "name": "stdout",
     "output_type": "stream",
     "text": [
      "hello 파이썬 함수 만들기\n"
     ]
    }
   ],
   "source": [
    "hello()"
   ]
  },
  {
   "cell_type": "markdown",
   "id": "150f53ed",
   "metadata": {},
   "source": [
    "## 2) 함수 호출 순서\n",
    "* 함수는 호출하기 전에 반드시 먼저 정의되어 있어야 하고 (만들어 놓아야 함)\n",
    "* 함수 정의가 함수 실행보다 위에 있어야 한다. "
   ]
  },
  {
   "cell_type": "code",
   "execution_count": 6,
   "id": "af7ba2de",
   "metadata": {},
   "outputs": [
    {
     "name": "stdout",
     "output_type": "stream",
     "text": [
      "hello 파이썬 함수 만들기!!!\n"
     ]
    }
   ],
   "source": [
    "hello2()"
   ]
  },
  {
   "cell_type": "code",
   "execution_count": 5,
   "id": "543c70ca",
   "metadata": {},
   "outputs": [],
   "source": [
    "def hello2():\n",
    "    print(\"hello 파이썬 함수 만들기!!!\")"
   ]
  },
  {
   "cell_type": "markdown",
   "id": "0a59dd53",
   "metadata": {},
   "source": [
    "= 5번 라인에서 함수 먼저 만들고 6라인 호출해도 출력됨!"
   ]
  },
  {
   "cell_type": "markdown",
   "id": "df4e595b",
   "metadata": {},
   "source": [
    "## 3) 함수의 매개 변수\n",
    "* 함수의 ( )안에 받는 값\n",
    "* () 안에 값을 받아서 함수 내에서 처리할 때 사용\n",
    "* print(\"hello\") ==> hello"
   ]
  },
  {
   "cell_type": "code",
   "execution_count": 8,
   "id": "f2104bef",
   "metadata": {},
   "outputs": [],
   "source": [
    "# 원의 넓이를 구하는 함수 \n",
    "# 반지름 * 반지름 * 3.14\n",
    "\n",
    "def circle(c):\n",
    "    print(\"원의 넓이는: \", c * c * 3.14, \"입니다.\")\n",
    "    return c * c * 3.14\n"
   ]
  },
  {
   "cell_type": "code",
   "execution_count": 9,
   "id": "7b045b93",
   "metadata": {},
   "outputs": [
    {
     "name": "stdout",
     "output_type": "stream",
     "text": [
      "원의 넓이는:  28.26 입니다.\n"
     ]
    },
    {
     "data": {
      "text/plain": [
       "28.26"
      ]
     },
     "execution_count": 9,
     "metadata": {},
     "output_type": "execute_result"
    }
   ],
   "source": [
    "circle(3)"
   ]
  },
  {
   "cell_type": "markdown",
   "id": "fbb08388",
   "metadata": {},
   "source": [
    "### 매개변수 2개짜리 함수 : 덧셈 함수 만들기 "
   ]
  },
  {
   "cell_type": "code",
   "execution_count": 10,
   "id": "02fdc959",
   "metadata": {},
   "outputs": [],
   "source": [
    "def add(a,b) :\n",
    "    return a + b "
   ]
  },
  {
   "cell_type": "code",
   "execution_count": 12,
   "id": "132ee58f",
   "metadata": {},
   "outputs": [
    {
     "data": {
      "text/plain": [
       "13"
      ]
     },
     "execution_count": 12,
     "metadata": {},
     "output_type": "execute_result"
    }
   ],
   "source": [
    "add(10,3)"
   ]
  },
  {
   "cell_type": "markdown",
   "id": "fba85644",
   "metadata": {},
   "source": [
    "### 매개 변수 3개짜리 함수 \n",
    "### a : 시작, b : 끝, c : 증감 <br>"
   ]
  },
  {
   "cell_type": "markdown",
   "id": "b364d118",
   "metadata": {},
   "source": [
    "interval 이라는 이름의 함수를 만드세요. <br>\n",
    "숫자를 입력받아 시작, 끝, 증감이 반영되게 만드세요. <br>\n",
    "interval (1, 10, 2) <br>\n",
    "\n",
    "출력 : <br>\n",
    "1, 3, 5, 7, 9 "
   ]
  },
  {
   "cell_type": "code",
   "execution_count": 18,
   "id": "ca41a1d0",
   "metadata": {},
   "outputs": [],
   "source": [
    "def interval(a, b, c):\n",
    "    print([i for i in range(a, b, c)])"
   ]
  },
  {
   "cell_type": "code",
   "execution_count": 21,
   "id": "b5268d95",
   "metadata": {},
   "outputs": [
    {
     "name": "stdout",
     "output_type": "stream",
     "text": [
      "[1, 3, 5, 7, 9]\n",
      "None\n"
     ]
    }
   ],
   "source": [
    "result = interval(1, 10, 2)\n",
    "\n",
    "print(result)"
   ]
  },
  {
   "cell_type": "markdown",
   "id": "dbaff11c",
   "metadata": {},
   "source": [
    "### 리턴값이 여러개인 함수 "
   ]
  },
  {
   "cell_type": "code",
   "execution_count": 24,
   "id": "b02dc386",
   "metadata": {},
   "outputs": [],
   "source": [
    "def add_sub(a, b):\n",
    "    add = a + b\n",
    "    sub = a - b\n",
    "    return add , sub"
   ]
  },
  {
   "cell_type": "code",
   "execution_count": 34,
   "id": "f1c57c94",
   "metadata": {},
   "outputs": [
    {
     "data": {
      "text/plain": [
       "(10, 4)"
      ]
     },
     "execution_count": 34,
     "metadata": {},
     "output_type": "execute_result"
    }
   ],
   "source": [
    "result = add_sub(7, 3)\n",
    "result\n",
    "\n",
    "# 결과가 튜플로 나옴!"
   ]
  },
  {
   "cell_type": "code",
   "execution_count": 29,
   "id": "5d6b4c81",
   "metadata": {},
   "outputs": [
    {
     "name": "stdout",
     "output_type": "stream",
     "text": [
      "<class 'tuple'>\n"
     ]
    }
   ],
   "source": [
    "print(type(result))"
   ]
  },
  {
   "cell_type": "code",
   "execution_count": 32,
   "id": "749dce7f",
   "metadata": {},
   "outputs": [],
   "source": [
    "a = 1\n",
    "b = 3"
   ]
  },
  {
   "cell_type": "code",
   "execution_count": 33,
   "id": "3545f47f",
   "metadata": {},
   "outputs": [
    {
     "data": {
      "text/plain": [
       "(1, 3)"
      ]
     },
     "execution_count": 33,
     "metadata": {},
     "output_type": "execute_result"
    }
   ],
   "source": [
    "t = a, b\n",
    "t"
   ]
  },
  {
   "cell_type": "code",
   "execution_count": 35,
   "id": "a82cd37b",
   "metadata": {},
   "outputs": [
    {
     "name": "stdout",
     "output_type": "stream",
     "text": [
      "<class 'tuple'> (0, 1)\n",
      "<class 'tuple'> (1, 2)\n",
      "<class 'tuple'> (2, 3)\n",
      "<class 'tuple'> (3, 4)\n",
      "<class 'tuple'> (4, 5)\n",
      "<class 'tuple'> (5, 6)\n",
      "<class 'tuple'> (6, 7)\n",
      "<class 'tuple'> (7, 8)\n",
      "<class 'tuple'> (8, 9)\n",
      "<class 'tuple'> (9, 10)\n"
     ]
    }
   ],
   "source": [
    "for i in enumerate(range(1,11)):\n",
    "    print(type(i), i)"
   ]
  },
  {
   "cell_type": "markdown",
   "id": "d1862dc8",
   "metadata": {},
   "source": [
    "### 정방향 , 역방향 리스트 출력\n",
    " "
   ]
  },
  {
   "cell_type": "code",
   "execution_count": 38,
   "id": "10c3d3ab",
   "metadata": {},
   "outputs": [],
   "source": [
    " \n",
    " def interval2(a, b, c):\n",
    "    asc = [i for i in range(a, b, c)]\n",
    "    desc = [i for i in range(a, b, c)][::-1]\n",
    "    return asc, desc;\n",
    "                                                                              \n",
    "                            "
   ]
  },
  {
   "cell_type": "code",
   "execution_count": 39,
   "id": "7d429598",
   "metadata": {},
   "outputs": [
    {
     "data": {
      "text/plain": [
       "([1, 3, 5, 7, 9], [9, 7, 5, 3, 1])"
      ]
     },
     "execution_count": 39,
     "metadata": {},
     "output_type": "execute_result"
    }
   ],
   "source": [
    "interval2(1, 10, 2)"
   ]
  },
  {
   "cell_type": "markdown",
   "id": "0029cc19",
   "metadata": {},
   "source": [
    "## 4) 중간에 함수를 종료시키기 위한 용도의 return\n",
    "* 반복문에서 break로 반복을 중지시키는 것처럼 함수에서 return이 실행되면 함수는 종료"
   ]
  },
  {
   "cell_type": "markdown",
   "id": "673b2b98",
   "metadata": {},
   "source": [
    "#### 예제 \n",
    "1-10까지 숫자 중에 짝수만 출력하다가 7 이상이 되면 종료하기 "
   ]
  },
  {
   "cell_type": "code",
   "execution_count": 40,
   "id": "5751354e",
   "metadata": {},
   "outputs": [],
   "source": [
    "age = range(1,11)"
   ]
  },
  {
   "cell_type": "code",
   "execution_count": 46,
   "id": "f5e19b9e",
   "metadata": {},
   "outputs": [],
   "source": [
    "def even(age):\n",
    "    for i in age:\n",
    "        if i % 2 == 0:\n",
    "            print(i, end = \" \")\n",
    "        elif i >= 7:\n",
    "            break"
   ]
  },
  {
   "cell_type": "code",
   "execution_count": 45,
   "id": "dfa7d10f",
   "metadata": {},
   "outputs": [
    {
     "name": "stdout",
     "output_type": "stream",
     "text": [
      "2 4 6 "
     ]
    }
   ],
   "source": [
    "even(age)"
   ]
  },
  {
   "cell_type": "code",
   "execution_count": 50,
   "id": "f50a6b05",
   "metadata": {},
   "outputs": [],
   "source": [
    "def even2(age):\n",
    "    for i in age:\n",
    "        if i % 2 == 0:\n",
    "            print(i, end = \" \")\n",
    "        elif i >= 7:\n",
    "            return"
   ]
  },
  {
   "cell_type": "code",
   "execution_count": 49,
   "id": "ab734675",
   "metadata": {},
   "outputs": [
    {
     "name": "stdout",
     "output_type": "stream",
     "text": [
      "2 4 6 "
     ]
    }
   ],
   "source": [
    "even2(age)"
   ]
  },
  {
   "cell_type": "markdown",
   "id": "2a5f5ffc",
   "metadata": {},
   "source": [
    "break랑  return 이 같은 결과를 출력함! 같은용도?"
   ]
  },
  {
   "cell_type": "markdown",
   "id": "d4a59e74",
   "metadata": {},
   "source": [
    "### 예제\n",
    "1-100까지 숫자 중에 홀수만 출력하다 51번째 종료하는 odd 함수를 만들기"
   ]
  },
  {
   "cell_type": "code",
   "execution_count": 51,
   "id": "c2f8132d",
   "metadata": {},
   "outputs": [],
   "source": [
    "num = range(1,101)"
   ]
  },
  {
   "cell_type": "code",
   "execution_count": 60,
   "id": "99bff01f",
   "metadata": {},
   "outputs": [],
   "source": [
    "def odd(num):\n",
    "    for i in num:\n",
    "        if i % 2 == 1:\n",
    "            print(i, end = \"  \")\n",
    "        elif i >= 51:\n",
    "            return"
   ]
  },
  {
   "cell_type": "code",
   "execution_count": 61,
   "id": "81868ee4",
   "metadata": {},
   "outputs": [
    {
     "name": "stdout",
     "output_type": "stream",
     "text": [
      "1  3  5  7  9  11  13  15  17  19  21  23  25  27  29  31  33  35  37  39  41  43  45  47  49  51  "
     ]
    }
   ],
   "source": [
    "odd(range(1,101))"
   ]
  },
  {
   "cell_type": "code",
   "execution_count": 65,
   "id": "cd8264e1",
   "metadata": {},
   "outputs": [
    {
     "name": "stdout",
     "output_type": "stream",
     "text": [
      "1  3  5  7  9  11  13  15  17  19  21  23  25  27  29  31  33  35  37  39  41  43  45  47  49  51  "
     ]
    }
   ],
   "source": [
    "h = list(range(1,101))\n",
    "odd(h)\n",
    "\n",
    "\n",
    "# =>  a = h "
   ]
  },
  {
   "cell_type": "code",
   "execution_count": null,
   "id": "d78cc3c9",
   "metadata": {},
   "outputs": [],
   "source": []
  },
  {
   "cell_type": "markdown",
   "id": "777816e2",
   "metadata": {},
   "source": [
    "## 5) 함수에서 위치 인수와 키워드 인수 사용하기\n",
    "* 위치 인수(positional argument) <br>\n",
    "함수에 인수를 순서대로 넣는 방식, 인수의 위치가 정해져 있음"
   ]
  },
  {
   "cell_type": "code",
   "execution_count": 63,
   "id": "6297c4f9",
   "metadata": {},
   "outputs": [],
   "source": [
    "def print_nums(a, b, c):\n",
    "    print(a, b, c)"
   ]
  },
  {
   "cell_type": "code",
   "execution_count": 66,
   "id": "2c682609",
   "metadata": {},
   "outputs": [
    {
     "name": "stdout",
     "output_type": "stream",
     "text": [
      "10 20 30\n"
     ]
    }
   ],
   "source": [
    "print_nums(10, 20, 30)"
   ]
  },
  {
   "cell_type": "markdown",
   "id": "48fd1309",
   "metadata": {},
   "source": [
    "* 리스트, 튜플과 같은 자료형을 1개의 위치인수(매개변수)로 받을 때, <br>\n",
    "위치인수와 개수가 같으면 * 로 언패킹 가능 "
   ]
  },
  {
   "cell_type": "code",
   "execution_count": 67,
   "id": "bf912c86",
   "metadata": {},
   "outputs": [],
   "source": [
    "p = [10, 20, 30]"
   ]
  },
  {
   "cell_type": "code",
   "execution_count": 70,
   "id": "04f37381",
   "metadata": {},
   "outputs": [
    {
     "name": "stdout",
     "output_type": "stream",
     "text": [
      "10 20 30\n"
     ]
    }
   ],
   "source": [
    "print_nums(p[0], p[1], p[2])"
   ]
  },
  {
   "cell_type": "code",
   "execution_count": 71,
   "id": "cd0ed03a",
   "metadata": {},
   "outputs": [
    {
     "name": "stdout",
     "output_type": "stream",
     "text": [
      "10 20 30\n"
     ]
    }
   ],
   "source": [
    "print_nums(*p)"
   ]
  },
  {
   "cell_type": "code",
   "execution_count": 76,
   "id": "0684af77",
   "metadata": {},
   "outputs": [
    {
     "name": "stdout",
     "output_type": "stream",
     "text": [
      "10 20 30\n"
     ]
    }
   ],
   "source": [
    "# 리스트 언패킹 \n",
    "# 개수가 맞으면 * 로 언패킹 가능\n",
    "\n",
    "print(*p)"
   ]
  },
  {
   "cell_type": "markdown",
   "id": "304e82bc",
   "metadata": {},
   "source": [
    "## 가변인수 \n",
    "- 여러 개의 자료를 한번에 입력 받음\n",
    "- *args  --> *변수명\n",
    "- args : argument\n",
    "- ' * ' 의 뜻 : 리스트를 풀어라 ?\n",
    "- 굳이 args 라고 쓰지 않아도 된다. \n",
    "- 여러 개의 숫자를 입력받아 더하는 함수 (입력 개수가 정해져 있지 X)"
   ]
  },
  {
   "cell_type": "code",
   "execution_count": 77,
   "id": "e0c45cfb",
   "metadata": {},
   "outputs": [
    {
     "name": "stdout",
     "output_type": "stream",
     "text": [
      "a b c d\n"
     ]
    }
   ],
   "source": [
    "print(\"a\", \"b\", \"c\", \"d\")"
   ]
  },
  {
   "cell_type": "code",
   "execution_count": 81,
   "id": "b026a4cc",
   "metadata": {},
   "outputs": [],
   "source": [
    "# 여러개 받아도 다 더할 수 있음!\n",
    "\n",
    "def sum2(*args):\n",
    "    hap = 0\n",
    "    for i in args:\n",
    "        hap += i\n",
    "    return hap "
   ]
  },
  {
   "cell_type": "code",
   "execution_count": 79,
   "id": "7b3e387f",
   "metadata": {},
   "outputs": [
    {
     "data": {
      "text/plain": [
       "25"
      ]
     },
     "execution_count": 79,
     "metadata": {},
     "output_type": "execute_result"
    }
   ],
   "source": [
    "sum2(1, 9, 8, 7)"
   ]
  },
  {
   "cell_type": "code",
   "execution_count": 82,
   "id": "302cf9dc",
   "metadata": {},
   "outputs": [
    {
     "data": {
      "text/plain": [
       "15"
      ]
     },
     "execution_count": 82,
     "metadata": {},
     "output_type": "execute_result"
    }
   ],
   "source": [
    "sum2(1,2,3,4,5)"
   ]
  },
  {
   "cell_type": "markdown",
   "id": "108d602d",
   "metadata": {},
   "source": [
    "**** 가변인수 args는 튜플로 바뀐다.****"
   ]
  },
  {
   "cell_type": "code",
   "execution_count": 83,
   "id": "c82378dd",
   "metadata": {},
   "outputs": [],
   "source": [
    "# args 아니여도 된다. 다른 명칭 넣어도 됨!\n",
    "\n",
    "def sum2(*nums):\n",
    "    hap = 0\n",
    "    for i in nums:\n",
    "        hap += i\n",
    "    return hap "
   ]
  },
  {
   "cell_type": "code",
   "execution_count": 85,
   "id": "259cb13f",
   "metadata": {},
   "outputs": [
    {
     "data": {
      "text/plain": [
       "[1, 1, 2, 2, 3, 2, 5, 3, 7, 8, 5, 7, 4, 7, 9, 4, 1, 5, 7]"
      ]
     },
     "execution_count": 85,
     "metadata": {},
     "output_type": "execute_result"
    }
   ],
   "source": [
    "L1 = [1,1,2,2,3,2,5,3,7,8,5,7,4,7,9,4,1,5,7]\n",
    "L1"
   ]
  },
  {
   "cell_type": "code",
   "execution_count": 111,
   "id": "f910e657",
   "metadata": {},
   "outputs": [],
   "source": [
    "def sum3(*nums):\n",
    "    print(nums)\n",
    "    print(type(nums))\n",
    "    return sum(nums)"
   ]
  },
  {
   "cell_type": "code",
   "execution_count": 88,
   "id": "9ef708c1",
   "metadata": {},
   "outputs": [
    {
     "name": "stdout",
     "output_type": "stream",
     "text": [
      "([1, 1, 2, 2, 3, 2, 5, 3, 7, 8, 5, 7, 4, 7, 9, 4, 1, 5, 7],)\n",
      "<class 'tuple'>\n"
     ]
    },
    {
     "ename": "TypeError",
     "evalue": "unsupported operand type(s) for +: 'int' and 'list'",
     "output_type": "error",
     "traceback": [
      "\u001b[1;31m---------------------------------------------------------------------------\u001b[0m",
      "\u001b[1;31mTypeError\u001b[0m                                 Traceback (most recent call last)",
      "Cell \u001b[1;32mIn[88], line 1\u001b[0m\n\u001b[1;32m----> 1\u001b[0m \u001b[43msum3\u001b[49m\u001b[43m(\u001b[49m\u001b[43mL1\u001b[49m\u001b[43m)\u001b[49m\n",
      "Cell \u001b[1;32mIn[87], line 4\u001b[0m, in \u001b[0;36msum3\u001b[1;34m(*nums)\u001b[0m\n\u001b[0;32m      2\u001b[0m \u001b[38;5;28mprint\u001b[39m(nums)\n\u001b[0;32m      3\u001b[0m \u001b[38;5;28mprint\u001b[39m(\u001b[38;5;28mtype\u001b[39m(nums))\n\u001b[1;32m----> 4\u001b[0m \u001b[38;5;28;01mreturn\u001b[39;00m \u001b[38;5;28;43msum\u001b[39;49m\u001b[43m(\u001b[49m\u001b[43mnums\u001b[49m\u001b[43m)\u001b[49m\n",
      "\u001b[1;31mTypeError\u001b[0m: unsupported operand type(s) for +: 'int' and 'list'"
     ]
    }
   ],
   "source": [
    "sum3(L1)"
   ]
  },
  {
   "cell_type": "markdown",
   "id": "1b2cfbe8",
   "metadata": {},
   "source": [
    "sum3(L1) 가 오류가 난 이유 : <br>\n",
    "\n",
    "리스트를 넣어줬는데 args가 자동으로 튜플로 --> 리스트 (튜플) --> 이렇게 감싸버려서, 안쪽에 숫자가 나와야 하는데 리스트가 나와 계산이 안되고 오류로 출력됨!\n",
    "\n",
    "리스트를 풀어버리면 오류 해결 가능 <br>\n",
    "밑에처럼 \" * \" 을 집어 넣으면 풀려서 출력됨!  ==> 언패킹\n",
    "\n",
    "([1, 1, 2, 2, 3, 2, 5, 3, 7, 8, 5, 7, 4, 7, 9, 4, 1, 5, 7],) --> 튜플로 감싼 모습<br>\n",
    "<class 'tuple'>"
   ]
  },
  {
   "cell_type": "code",
   "execution_count": 89,
   "id": "43efc48f",
   "metadata": {},
   "outputs": [
    {
     "name": "stdout",
     "output_type": "stream",
     "text": [
      "1 1 2 2 3 2 5 3 7 8 5 7 4 7 9 4 1 5 7\n"
     ]
    }
   ],
   "source": [
    "print(*[1, 1, 2, 2, 3, 2, 5, 3, 7, 8, 5, 7, 4, 7, 9, 4, 1, 5, 7])"
   ]
  },
  {
   "cell_type": "code",
   "execution_count": 90,
   "id": "856d72a1",
   "metadata": {},
   "outputs": [],
   "source": [
    "def list_tuple_func(*args):\n",
    "    print(args)\n",
    "    print(type(args))"
   ]
  },
  {
   "cell_type": "code",
   "execution_count": 91,
   "id": "c980daf5",
   "metadata": {},
   "outputs": [
    {
     "name": "stdout",
     "output_type": "stream",
     "text": [
      "(1, 2, 3, 4, 5)\n",
      "<class 'tuple'>\n"
     ]
    }
   ],
   "source": [
    "list_tuple_func(1,2,3,4,5)"
   ]
  },
  {
   "cell_type": "code",
   "execution_count": 92,
   "id": "e9df5119",
   "metadata": {},
   "outputs": [
    {
     "name": "stdout",
     "output_type": "stream",
     "text": [
      "(1.1, 1.2, 1.3, 1.4, 1.5)\n",
      "<class 'tuple'>\n"
     ]
    }
   ],
   "source": [
    "list_tuple_func(1.1, 1.2, 1.3, 1.4, 1.5)"
   ]
  },
  {
   "cell_type": "code",
   "execution_count": 95,
   "id": "effb96d5",
   "metadata": {},
   "outputs": [
    {
     "name": "stdout",
     "output_type": "stream",
     "text": [
      "([1, 2, 3], [4, 5, 6], [7, 8, 9])\n",
      "<class 'tuple'>\n"
     ]
    }
   ],
   "source": [
    "list_tuple_func([1,2,3], [4,5,6], [7,8,9])\n",
    "\n",
    "\n",
    "# 튜플 안에 리스트 3개 \n",
    "# args로 받으면 다 이런 형태로 감싸짐"
   ]
  },
  {
   "cell_type": "code",
   "execution_count": 97,
   "id": "3f9bba42",
   "metadata": {},
   "outputs": [
    {
     "name": "stdout",
     "output_type": "stream",
     "text": [
      "({'a': 1, 'b': 2, 'c': 3},)\n",
      "<class 'tuple'>\n"
     ]
    }
   ],
   "source": [
    "list_tuple_func(dict(a=1, b=2, c=3))\n",
    "\n",
    "# 튜플 안에 딕셔너리 "
   ]
  },
  {
   "cell_type": "markdown",
   "id": "ff696221",
   "metadata": {},
   "source": [
    "## 고정인수 & 가변인수 함께 사용하기 \n",
    "* 고정인수와 가변인수를 함께 사용할때는 반드시 <br>\n",
    "고정인수, 가변인수 --> 순으로 넣고 가변인수는 항상 고정인수 뒤 가장 마지막에 넣는다.  <br><br>\n",
    "\n",
    "#### 1: 고정인수, 2: 가변인수 (순서)\n",
    "def sum(a, *args) :  --> 이렇게 주는 거 가능\n",
    "\n",
    "def sum(*args, a) :  --> 이렇게 주는 거 불가능"
   ]
  },
  {
   "cell_type": "markdown",
   "id": "17fb0423",
   "metadata": {},
   "source": [
    "### 예제\n",
    "\n",
    "정수와 리스트를 입력받아 리스트의 요소에 입력받은 정수를 곱한 값의 리스트를 반환하는 함수 출력하기 \n",
    "<br>\n",
    "정수 : 3   <br>\n",
    "리스트 : [1,2,3,4,5]   <br>\n",
    "<br>\n",
    "실행결과 <br>\n",
    "3, 6, 9, 12, 15"
   ]
  },
  {
   "cell_type": "code",
   "execution_count": 98,
   "id": "88464b84",
   "metadata": {},
   "outputs": [],
   "source": [
    "def muls(a, *args):\n",
    "    result = []\n",
    "    for num in args: \n",
    "        print(a * num, end = \" \")\n",
    "        result.append(a * num)\n",
    "    return result"
   ]
  },
  {
   "cell_type": "code",
   "execution_count": 101,
   "id": "acf9ade2",
   "metadata": {},
   "outputs": [
    {
     "name": "stdout",
     "output_type": "stream",
     "text": [
      "[1, 2, 3, 4, 5, 1, 2, 3, 4, 5, 1, 2, 3, 4, 5] "
     ]
    },
    {
     "data": {
      "text/plain": [
       "[[1, 2, 3, 4, 5, 1, 2, 3, 4, 5, 1, 2, 3, 4, 5]]"
      ]
     },
     "execution_count": 101,
     "metadata": {},
     "output_type": "execute_result"
    }
   ],
   "source": [
    "muls(3, [1,2,3,4,5])"
   ]
  },
  {
   "cell_type": "code",
   "execution_count": 109,
   "id": "9cd6d8cc",
   "metadata": {},
   "outputs": [
    {
     "name": "stdout",
     "output_type": "stream",
     "text": [
      "3 6 9 12 15 "
     ]
    },
    {
     "data": {
      "text/plain": [
       "[3, 6, 9, 12, 15]"
      ]
     },
     "execution_count": 109,
     "metadata": {},
     "output_type": "execute_result"
    }
   ],
   "source": [
    "# 이렇게 * 로 풀어서 해야함 = \" 언패킹 \"\n",
    "\n",
    "muls(3, *[1,2,3,4,5])"
   ]
  },
  {
   "cell_type": "code",
   "execution_count": 106,
   "id": "109b764e",
   "metadata": {},
   "outputs": [
    {
     "name": "stdout",
     "output_type": "stream",
     "text": [
      "3 6 9 12 15 "
     ]
    },
    {
     "data": {
      "text/plain": [
       "[3, 6, 9, 12, 15]"
      ]
     },
     "execution_count": 106,
     "metadata": {},
     "output_type": "execute_result"
    }
   ],
   "source": [
    "# 이렇게 해도 되는 이유, a = 3 고정변수 딱 한개만 사용할 수 있기 때문!\n",
    "# 하지만 리스트인지 뭔지 모를 수 있기 때문에 *[] 이렇게 넣는게 나음\n",
    "\n",
    "muls(3,1,2,3,4,5)"
   ]
  },
  {
   "cell_type": "markdown",
   "id": "194f8832",
   "metadata": {},
   "source": [
    "# ======================================================"
   ]
  },
  {
   "cell_type": "markdown",
   "id": "7a8fa68b",
   "metadata": {},
   "source": [
    "# 키워드 인수 "
   ]
  },
  {
   "cell_type": "markdown",
   "id": "25b907d7",
   "metadata": {},
   "source": [
    "개인정보를 출력하는 함수"
   ]
  },
  {
   "cell_type": "code",
   "execution_count": 1,
   "id": "24515df5",
   "metadata": {},
   "outputs": [],
   "source": [
    "def personal_info(name, age, address):\n",
    "    print('이름: ', name)\n",
    "    print('나이: ', age)\n",
    "    print('주소: ', address)"
   ]
  },
  {
   "cell_type": "code",
   "execution_count": 2,
   "id": "61ae25fd",
   "metadata": {},
   "outputs": [
    {
     "name": "stdout",
     "output_type": "stream",
     "text": [
      "이름:  홍길동\n",
      "나이:  30\n",
      "주소:  서울시 송파구\n"
     ]
    }
   ],
   "source": [
    "personal_info('홍길동', 30, '서울시 송파구')"
   ]
  },
  {
   "cell_type": "code",
   "execution_count": 3,
   "id": "b0d768bd",
   "metadata": {},
   "outputs": [
    {
     "name": "stdout",
     "output_type": "stream",
     "text": [
      "이름:  이강인\n",
      "나이:  24\n",
      "주소:  프랑스\n"
     ]
    }
   ],
   "source": [
    "personal_info('이강인', 24, '프랑스')"
   ]
  },
  {
   "cell_type": "code",
   "execution_count": 4,
   "id": "0a4e521b",
   "metadata": {},
   "outputs": [
    {
     "name": "stdout",
     "output_type": "stream",
     "text": [
      "이름:  24\n",
      "나이:  이강인\n",
      "주소:  프랑스\n"
     ]
    }
   ],
   "source": [
    "personal_info(24, '이강인', '프랑스')"
   ]
  },
  {
   "cell_type": "markdown",
   "id": "9923375a",
   "metadata": {},
   "source": [
    "* 위의 함수는 인수의 순서를 모두 기억해야 하기 때문에 사용하기 어려움\n",
    "* 인수의 순서와 용도를 매번 기억하지 않도록 하기 위해서 키워드 인수(keyword argument) 사용\n",
    "* 예) print(\"python\", sep = \"    \", end = \"\\n\")  sep, end  => 키워드 인수 "
   ]
  },
  {
   "cell_type": "markdown",
   "id": "714f1efb",
   "metadata": {},
   "source": [
    "### dict(key = 'value')"
   ]
  },
  {
   "cell_type": "code",
   "execution_count": 4,
   "id": "b25253b4",
   "metadata": {},
   "outputs": [
    {
     "data": {
      "text/plain": [
       "{'key': 'value'}"
      ]
     },
     "execution_count": 4,
     "metadata": {},
     "output_type": "execute_result"
    }
   ],
   "source": [
    "dict(key = 'value')"
   ]
  },
  {
   "cell_type": "markdown",
   "id": "659dbf93",
   "metadata": {},
   "source": [
    "dict 딕셔너리 할당하는 방식처럼 만들기!  그럼 제대로 잘 들어감 \n",
    "\n",
    "\n",
    "personal_info 함수를 키워드 인수 방식으로 호출"
   ]
  },
  {
   "cell_type": "code",
   "execution_count": 5,
   "id": "4dd5fbbd",
   "metadata": {},
   "outputs": [
    {
     "name": "stdout",
     "output_type": "stream",
     "text": [
      "이름:  홍길동\n",
      "나이:  30\n",
      "주소:  서울시 송파구\n"
     ]
    }
   ],
   "source": [
    "personal_info(name = '홍길동', age = 30, address = \"서울시 송파구\")"
   ]
  },
  {
   "cell_type": "code",
   "execution_count": 5,
   "id": "a3fd4467",
   "metadata": {},
   "outputs": [
    {
     "name": "stdout",
     "output_type": "stream",
     "text": [
      "이름:  김민재\n",
      "나이:  29\n",
      "주소:  독일\n"
     ]
    }
   ],
   "source": [
    "personal_info(age = 29, name = '김민재', address = '독일')"
   ]
  },
  {
   "cell_type": "markdown",
   "id": "dd5b4b2f",
   "metadata": {},
   "source": [
    "<br><br>\n",
    "장점 : 키워드 인수 방식으로 함수를 호출하면 인수 순서나 위치가 바뀌어도 동작함!\n",
    "<br><br>\n",
    "personal_info(age = 30, address = \"서울시 송파구\", name = '홍길동')  <br> \n",
    "이렇게 순서를 바꿔도 결과는 동일하게 출력됨"
   ]
  },
  {
   "cell_type": "code",
   "execution_count": 6,
   "id": "c0ab308c",
   "metadata": {},
   "outputs": [
    {
     "name": "stdout",
     "output_type": "stream",
     "text": [
      "python : hello\t"
     ]
    }
   ],
   "source": [
    "print(\"python\", 'hello', end = \"\\t\", sep = \" : \")"
   ]
  },
  {
   "cell_type": "code",
   "execution_count": 8,
   "id": "16c83b27",
   "metadata": {},
   "outputs": [],
   "source": [
    "def my_print2(end, sep, *args) :\n",
    "    print(args)\n",
    "    pass "
   ]
  },
  {
   "cell_type": "code",
   "execution_count": 11,
   "id": "0dcd13af",
   "metadata": {},
   "outputs": [
    {
     "name": "stdout",
     "output_type": "stream",
     "text": [
      "((3, 4),)\n"
     ]
    }
   ],
   "source": [
    "my_print2(1,2,(3,4))"
   ]
  },
  {
   "cell_type": "markdown",
   "id": "955abedd",
   "metadata": {},
   "source": [
    "## 딕셔너리 언패킹"
   ]
  },
  {
   "cell_type": "code",
   "execution_count": 17,
   "id": "e8fb6869",
   "metadata": {},
   "outputs": [
    {
     "data": {
      "text/plain": [
       "{'name': '홍길동', 'age': 30, 'address': '서울시 송파구'}"
      ]
     },
     "execution_count": 17,
     "metadata": {},
     "output_type": "execute_result"
    }
   ],
   "source": [
    "#  딕셔너리 만들기 \n",
    "\n",
    "p_info = dict(name = '홍길동', age = 30, address = \"서울시 송파구\")\n",
    "p_info"
   ]
  },
  {
   "cell_type": "markdown",
   "id": "3edb14c7",
   "metadata": {},
   "source": [
    "<br>\n",
    "\n",
    "* 딕셔너리 언패킹 \n",
    "* 딕셔너리 앞에 별 두개 ' * * ' 를 붙여서 딕셔너리를 언패킹 해줌\n",
    "\n",
    "#### **{'name' : '홍길동', 'age': 30, 'address': '서울시 송파구'}\n",
    "<br> <br>\n"
   ]
  },
  {
   "cell_type": "code",
   "execution_count": 16,
   "id": "227a7649",
   "metadata": {},
   "outputs": [
    {
     "name": "stdout",
     "output_type": "stream",
     "text": [
      "이름:  홍길동\n",
      "나이:  30\n",
      "주소:  서울시 송파구\n"
     ]
    }
   ],
   "source": [
    "personal_info(**p_info)"
   ]
  },
  {
   "cell_type": "markdown",
   "id": "b90fe0c0",
   "metadata": {},
   "source": []
  },
  {
   "cell_type": "markdown",
   "id": "dc02f165",
   "metadata": {},
   "source": [
    "### 키워드 인수를 사용하는 가변인수 함수 만들기 \n",
    "<br>\n",
    "def  함수이름 (**kwargs):  <br>\n",
    "_____ 코드  <br>\n",
    "_____ return   <br><br>\n",
    "\n",
    "\n",
    "\n",
    "* kwargs : keyword arguments"
   ]
  },
  {
   "cell_type": "code",
   "execution_count": 8,
   "id": "db731e24",
   "metadata": {},
   "outputs": [],
   "source": [
    "def personal_info2(**kwargs):\n",
    "    print(\"kwargs: \", kwargs)\n",
    "    print(\"kwargs type: \", type(kwargs))"
   ]
  },
  {
   "cell_type": "code",
   "execution_count": 9,
   "id": "f7e1c835",
   "metadata": {},
   "outputs": [
    {
     "name": "stdout",
     "output_type": "stream",
     "text": [
      "kwargs:  {'name': '손흥민', 'age': 33, 'address': '서울시 성동구', 'school': '토트넘'}\n",
      "kwargs type:  <class 'dict'>\n"
     ]
    }
   ],
   "source": [
    "personal_info2( name= '손흥민', age = 33, address = '서울시 성동구', school = '토트넘')"
   ]
  },
  {
   "cell_type": "code",
   "execution_count": 10,
   "id": "5186001e",
   "metadata": {},
   "outputs": [
    {
     "data": {
      "text/plain": [
       "{'name': '손흥민', 'age': 33, 'address': '서울시 성동구', 'school': '토트넘'}"
      ]
     },
     "execution_count": 10,
     "metadata": {},
     "output_type": "execute_result"
    }
   ],
   "source": [
    "d = dict(name= '손흥민', age = 33, address = '서울시 성동구', school = '토트넘')\n",
    "d"
   ]
  },
  {
   "cell_type": "code",
   "execution_count": 11,
   "id": "028afab6",
   "metadata": {},
   "outputs": [
    {
     "ename": "TypeError",
     "evalue": "personal_info2() takes 0 positional arguments but 1 was given",
     "output_type": "error",
     "traceback": [
      "\u001b[1;31m---------------------------------------------------------------------------\u001b[0m",
      "\u001b[1;31mTypeError\u001b[0m                                 Traceback (most recent call last)",
      "Cell \u001b[1;32mIn[11], line 1\u001b[0m\n\u001b[1;32m----> 1\u001b[0m \u001b[43mpersonal_info2\u001b[49m\u001b[43m(\u001b[49m\u001b[43md\u001b[49m\u001b[43m)\u001b[49m\n\u001b[0;32m      4\u001b[0m \u001b[38;5;66;03m# 딕셔너리로 묶여있기 때문에 ** 로 풀어서 넣어줘야 함. \u001b[39;00m\n",
      "\u001b[1;31mTypeError\u001b[0m: personal_info2() takes 0 positional arguments but 1 was given"
     ]
    }
   ],
   "source": [
    "personal_info2(d)\n",
    "               \n",
    "    \n",
    "# 딕셔너리로 묶여있기 때문에 ** 로 풀어서 넣어줘야 함. \n",
    "            "
   ]
  },
  {
   "cell_type": "markdown",
   "id": "6ada93e9",
   "metadata": {},
   "source": [
    "\n",
    "personal_info2(d)\n",
    "\n",
    "<br> 만 입력했을 때 오류 : <br>\n",
    "\n",
    "\n",
    "personal_info2() takes 0 positional arguments but 1 was given\n",
    "<br> \n",
    "(**kwargs)  만 넣기 때문에 positional argument 를 "
   ]
  },
  {
   "cell_type": "code",
   "execution_count": 12,
   "id": "dc095e63",
   "metadata": {},
   "outputs": [
    {
     "name": "stdout",
     "output_type": "stream",
     "text": [
      "kwargs:  {'name': '손흥민', 'age': 33, 'address': '서울시 성동구', 'school': '토트넘'}\n",
      "kwargs type:  <class 'dict'>\n"
     ]
    }
   ],
   "source": [
    "personal_info2(**d)\n",
    "\n",
    "\n",
    "\n",
    "# 이렇게 풀어서 넣어야 함!"
   ]
  },
  {
   "cell_type": "code",
   "execution_count": 15,
   "id": "86056a17",
   "metadata": {},
   "outputs": [
    {
     "data": {
      "text/plain": [
       "{'name': '손흥민', 'age': 33, 'address': '서울시 성동구', 'school': '토트넘'}"
      ]
     },
     "execution_count": 15,
     "metadata": {},
     "output_type": "execute_result"
    }
   ],
   "source": [
    "d = dict(name= '손흥민', age = 33, address = '서울시 성동구', school = '토트넘')\n",
    "d"
   ]
  },
  {
   "cell_type": "code",
   "execution_count": 16,
   "id": "f1817a76",
   "metadata": {},
   "outputs": [],
   "source": [
    "def personal_info3(**kwargs):\n",
    "    print(\"kwargs: \", kwargs)\n",
    "    print(\"kwargs type: \", type(kwargs)) \n",
    "    \n",
    "    for key, value in kwargs.items():\n",
    "        print(key, value)"
   ]
  },
  {
   "cell_type": "code",
   "execution_count": 17,
   "id": "518d9162",
   "metadata": {},
   "outputs": [
    {
     "name": "stdout",
     "output_type": "stream",
     "text": [
      "kwargs:  {'name': '손흥민', 'age': 33, 'address': '서울시 성동구', 'school': '토트넘'}\n",
      "kwargs type:  <class 'dict'>\n",
      "name 손흥민\n",
      "age 33\n",
      "address 서울시 성동구\n",
      "school 토트넘\n"
     ]
    }
   ],
   "source": [
    "personal_info3(**d)\n",
    "\n",
    "# d 가 딕셔너리임"
   ]
  },
  {
   "cell_type": "code",
   "execution_count": null,
   "id": "93e9428d",
   "metadata": {},
   "outputs": [],
   "source": []
  },
  {
   "cell_type": "code",
   "execution_count": 23,
   "id": "18c2cce3",
   "metadata": {},
   "outputs": [],
   "source": [
    "def personal_info4(name, **kwargs):\n",
    "    print(\"name: \", name)\n",
    "    print(\"kwargs: \", kwargs)\n",
    "    print(\"kwargs type: \", type(kwargs))\n",
    "\n",
    "    \n",
    "    # 여기서 name 은 고정인수임. 그래서 꼭 값을 넣어야 함. "
   ]
  },
  {
   "cell_type": "code",
   "execution_count": 20,
   "id": "04cde624",
   "metadata": {},
   "outputs": [
    {
     "name": "stdout",
     "output_type": "stream",
     "text": [
      "name:  손흥민\n",
      "kwargs:  {}\n",
      "kwargs type:  <class 'dict'>\n"
     ]
    }
   ],
   "source": [
    "personal_info4('손흥민')"
   ]
  },
  {
   "cell_type": "code",
   "execution_count": 21,
   "id": "17093a45",
   "metadata": {},
   "outputs": [
    {
     "name": "stdout",
     "output_type": "stream",
     "text": [
      "name:  손흥민\n",
      "kwargs:  {'age': 30, 'address': '서울시 성동구'}\n",
      "kwargs type:  <class 'dict'>\n"
     ]
    }
   ],
   "source": [
    "personal_info4('손흥민', age = 30, address = '서울시 성동구')\n",
    "\n",
    "\n",
    "# 여기서 '손흥민' --> 고정인수 \n"
   ]
  },
  {
   "cell_type": "code",
   "execution_count": 24,
   "id": "83454121",
   "metadata": {},
   "outputs": [
    {
     "ename": "TypeError",
     "evalue": "personal_info4() missing 1 required positional argument: 'name'",
     "output_type": "error",
     "traceback": [
      "\u001b[1;31m---------------------------------------------------------------------------\u001b[0m",
      "\u001b[1;31mTypeError\u001b[0m                                 Traceback (most recent call last)",
      "Cell \u001b[1;32mIn[24], line 1\u001b[0m\n\u001b[1;32m----> 1\u001b[0m \u001b[43mpersonal_info4\u001b[49m\u001b[43m(\u001b[49m\u001b[43mage\u001b[49m\u001b[43m \u001b[49m\u001b[38;5;241;43m=\u001b[39;49m\u001b[43m \u001b[49m\u001b[38;5;241;43m30\u001b[39;49m\u001b[43m,\u001b[49m\u001b[43m \u001b[49m\u001b[43maddress\u001b[49m\u001b[43m \u001b[49m\u001b[38;5;241;43m=\u001b[39;49m\u001b[43m \u001b[49m\u001b[38;5;124;43m'\u001b[39;49m\u001b[38;5;124;43m서울시 성동구\u001b[39;49m\u001b[38;5;124;43m'\u001b[39;49m\u001b[43m)\u001b[49m\\\n\u001b[0;32m      4\u001b[0m \u001b[38;5;66;03m# 고정인수로 name을 설정했는데 넣지 않아서 오류가 난 것임. \u001b[39;00m\n",
      "\u001b[1;31mTypeError\u001b[0m: personal_info4() missing 1 required positional argument: 'name'"
     ]
    }
   ],
   "source": [
    "personal_info4(age = 30, address = '서울시 성동구')\\\n",
    "\n",
    "\n",
    "# 고정인수로 name을 설정했는데 넣지 않아서 오류가 난 것임. "
   ]
  },
  {
   "cell_type": "markdown",
   "id": "6f741f03",
   "metadata": {},
   "source": [
    "* 위 내용이 에러난 이유 : <br>\n",
    "고정인수 ' name '을 넣지 않았기 때문!"
   ]
  },
  {
   "cell_type": "markdown",
   "id": "17a1a7ec",
   "metadata": {},
   "source": [
    "### 가변인수와 가변키워드인수 함께쓰기\n",
    "\n",
    "* def 함수명(*args, **kwargs) : \n",
    "* def 함수명(고정인자, *args, **kwargs) : \n",
    "\n",
    "** 무조건 저 순서로 해야 한다. 아님 오류남"
   ]
  },
  {
   "cell_type": "code",
   "execution_count": 26,
   "id": "8643d057",
   "metadata": {},
   "outputs": [
    {
     "name": "stdout",
     "output_type": "stream",
     "text": [
      "1 !! 2 !! 3"
     ]
    }
   ],
   "source": [
    "def custom_print(*args, **kwargs): \n",
    "    print(*args, **kwargs)\n",
    "    \n",
    "    \n",
    "custom_print(1,2,3, sep = \" !! \", end = \"\")\n"
   ]
  },
  {
   "cell_type": "markdown",
   "id": "55eb3837",
   "metadata": {},
   "source": [
    "1sep  2sep  3sep 이렇게 찍혀 출력된거임"
   ]
  },
  {
   "cell_type": "markdown",
   "id": "9dc59736",
   "metadata": {},
   "source": [
    "함수 내부에서 print(*args, **kwargs)는 받은 위치 인자들을 그대로 출력하는 역할을 합니다. 따라서 custom_print(1, 2, 3, sep=\" !! \", end=\"\")라는 호출에서:\n",
    "<br><br>\n",
    "* 1, 2, 3 : 위치 인자로 각각 1, 2, 3으로 전달됩니다.  <br>\n",
    "* sep=\" !! \" : 키워드 인자로, 출력할 때 숫자들 사이에 구분자로 사용됩니다.  <br>\n",
    "* end=\"  \" : 역시 키워드 인자로, 마지막 숫자 뒤에 아무것도 추가하지 않고 출력을 마칩니다.  <br>"
   ]
  },
  {
   "cell_type": "markdown",
   "id": "4a8f8805",
   "metadata": {},
   "source": []
  },
  {
   "cell_type": "markdown",
   "id": "cd9f4db1",
   "metadata": {},
   "source": [
    "매개변수 = 함수 내에서 사용되는 변수 <br>\n",
    "\n",
    "* 위치인수(positional argument) : 위치가 고정된 매개 변수, 위치인수는 키워드 인수로 사용가능 (변수명 = 값)\n",
    "* 가변인수 : 여러개의 자료를 동시에 받을 수 있는 매개 변수 => 받고나면 튜플로 들어옴 \n",
    "* 키워드 가변인수 : 여러개의 자료를 동시에 받을 수 있는데 key = value 형태로 받는 매개변수 => dict로 들어옴"
   ]
  },
  {
   "cell_type": "markdown",
   "id": "f42dcbcf",
   "metadata": {},
   "source": [
    "매개변수에 초기값 지정하기 <br>\n",
    "- 초기값이 지정된 매개변수는 반드시 가장 마지막에 와야 함!"
   ]
  },
  {
   "cell_type": "code",
   "execution_count": 28,
   "id": "84881cfb",
   "metadata": {},
   "outputs": [],
   "source": [
    "# 매개변수에 초기값 지정하기 \n",
    "# address = \"비공개\"\n",
    "\n",
    "def personal_info5(name, age, address = \"비공개\"):\n",
    "    print('이름: ', name)\n",
    "    print('나이: ', age)\n",
    "    print('주소: ', address)\n",
    "    "
   ]
  },
  {
   "cell_type": "code",
   "execution_count": 29,
   "id": "c1f5e830",
   "metadata": {},
   "outputs": [
    {
     "name": "stdout",
     "output_type": "stream",
     "text": [
      "이름:  이강인\n",
      "나이:  24\n",
      "주소:  서울시 강남구\n"
     ]
    }
   ],
   "source": [
    "personal_info5('이강인', 24, '서울시 강남구')"
   ]
  },
  {
   "cell_type": "code",
   "execution_count": 30,
   "id": "240bfe73",
   "metadata": {},
   "outputs": [
    {
     "name": "stdout",
     "output_type": "stream",
     "text": [
      "이름:  손흥민\n",
      "나이:  33\n",
      "주소:  비공개\n"
     ]
    }
   ],
   "source": [
    "personal_info5('손흥민', 33)"
   ]
  },
  {
   "cell_type": "code",
   "execution_count": 31,
   "id": "74ae3be5",
   "metadata": {},
   "outputs": [
    {
     "ename": "SyntaxError",
     "evalue": "non-default argument follows default argument (3738891772.py, line 1)",
     "output_type": "error",
     "traceback": [
      "\u001b[1;36m  Cell \u001b[1;32mIn[31], line 1\u001b[1;36m\u001b[0m\n\u001b[1;33m    def personal_info5(name, address = \"비공개\", age):\u001b[0m\n\u001b[1;37m                                              ^\u001b[0m\n\u001b[1;31mSyntaxError\u001b[0m\u001b[1;31m:\u001b[0m non-default argument follows default argument\n"
     ]
    }
   ],
   "source": [
    "def personal_info5(name, address = \"비공개\", age):\n",
    "    print('이름: ', name)\n",
    "    print('나이: ', age)\n",
    "    print('주소: ', address)\n",
    "    \n",
    "    # 에러나는 이유\n",
    "    # 초기값이 지정된 매개변수는 반드시 가장 마지막에 와야 함!\n",
    "    # name, age, address = \"비공개\""
   ]
  },
  {
   "cell_type": "markdown",
   "id": "320bc895",
   "metadata": {},
   "source": [
    "매개변수의 종류에 따른 순서 <br>\n",
    "\n",
    "- 위치인수, 위치인수 = 기본값, *args , **kwargs"
   ]
  },
  {
   "cell_type": "code",
   "execution_count": 32,
   "id": "75b04d58",
   "metadata": {},
   "outputs": [
    {
     "ename": "SyntaxError",
     "evalue": "unterminated string literal (detected at line 3) (2362010530.py, line 3)",
     "output_type": "error",
     "traceback": [
      "\u001b[1;36m  Cell \u001b[1;32mIn[32], line 3\u001b[1;36m\u001b[0m\n\u001b[1;33m    print('kwargs': ', kwargs)\u001b[0m\n\u001b[1;37m                    ^\u001b[0m\n\u001b[1;31mSyntaxError\u001b[0m\u001b[1;31m:\u001b[0m unterminated string literal (detected at line 3)\n"
     ]
    }
   ],
   "source": [
    "def personal_info6(*args, **kwargs, address = \"비공개\"):\n",
    "    print('args: ', args)\n",
    "    print('kwargs': ', kwargs)\n",
    "    print('주소: ', address)\n",
    "    \n",
    "    # 에러남"
   ]
  },
  {
   "cell_type": "code",
   "execution_count": 33,
   "id": "ce4f21ed",
   "metadata": {},
   "outputs": [],
   "source": [
    "def personal_info6(*args, address = \"비공개\",  **kwargs):\n",
    "    print('args: ', args)\n",
    "    print('kwargs: ', kwargs)\n",
    "    print('주소: ', address)\n",
    "    \n",
    "    # 에러 x "
   ]
  },
  {
   "cell_type": "code",
   "execution_count": 34,
   "id": "80426eb0",
   "metadata": {},
   "outputs": [],
   "source": [
    "def personal_info6(address = \"비공개\", *args, **kwargs):\n",
    "    print('args: ', args)\n",
    "    print('kwargs: ', kwargs)\n",
    "    print('주소: ', address)\n",
    "    \n",
    "    # 에러 x"
   ]
  },
  {
   "cell_type": "code",
   "execution_count": 35,
   "id": "7c433fd0",
   "metadata": {},
   "outputs": [
    {
     "name": "stdout",
     "output_type": "stream",
     "text": [
      "args:  (2, 3, 4)\n",
      "kwargs:  {'name': '홍길동', 'age': 33}\n",
      "주소:  1\n"
     ]
    }
   ],
   "source": [
    "personal_info6(1,2,3,4, name = \"홍길동\", age = 33)\n",
    "\n",
    "\n",
    "# 제일 앞에 것 '1'을 address로 인식했음."
   ]
  },
  {
   "cell_type": "code",
   "execution_count": null,
   "id": "ac99d4e3",
   "metadata": {},
   "outputs": [],
   "source": []
  },
  {
   "cell_type": "markdown",
   "id": "f7239b2f",
   "metadata": {},
   "source": [
    "## 함수 Doc 스트링 사용하기 \n",
    "* 함수의 기능을 설명하거나 사용법을 함수 내에 적어 놓는 것 = \" 도움말 \" <br><br>\n",
    "def 함수이름(매개변수) : <br>\n",
    "_____ \"\"\" 독스트링으로 설명 적기 \"\"\"  <br>\n",
    "_____ 실행코드   <br>\n",
    "_____ return   <br><br>\n",
    "\n",
    "\n",
    "* 큰따옴표 \" 3개씩 씀\n",
    "* print(함수이름.doc)\n",
    "* help(함수이름)\n",
    "\n",
    "* 함수 실행시에는 뜨지 않음. "
   ]
  },
  {
   "cell_type": "code",
   "execution_count": 36,
   "id": "f871e1ba",
   "metadata": {},
   "outputs": [
    {
     "name": "stdout",
     "output_type": "stream",
     "text": [
      "\n"
     ]
    }
   ],
   "source": [
    "print()"
   ]
  },
  {
   "cell_type": "code",
   "execution_count": 40,
   "id": "f60a6632",
   "metadata": {},
   "outputs": [],
   "source": [
    "def add(a, b):\n",
    "    \"\"\"\n",
    "    이 함수는 a와 b를 더한 뒤 결과를 반환하는 함수입니다. \n",
    "    \"\"\"\n",
    "    return a + b "
   ]
  },
  {
   "cell_type": "code",
   "execution_count": 41,
   "id": "bbd9cc57",
   "metadata": {},
   "outputs": [
    {
     "data": {
      "text/plain": [
       "15"
      ]
     },
     "execution_count": 41,
     "metadata": {},
     "output_type": "execute_result"
    }
   ],
   "source": [
    "add(10, 5)"
   ]
  },
  {
   "cell_type": "code",
   "execution_count": 42,
   "id": "7af82a06",
   "metadata": {
    "scrolled": true
   },
   "outputs": [
    {
     "ename": "TypeError",
     "evalue": "add() missing 2 required positional arguments: 'a' and 'b'",
     "output_type": "error",
     "traceback": [
      "\u001b[1;31m---------------------------------------------------------------------------\u001b[0m",
      "\u001b[1;31mTypeError\u001b[0m                                 Traceback (most recent call last)",
      "Cell \u001b[1;32mIn[42], line 1\u001b[0m\n\u001b[1;32m----> 1\u001b[0m \u001b[43madd\u001b[49m\u001b[43m(\u001b[49m\u001b[43m)\u001b[49m\n\u001b[0;32m      3\u001b[0m \u001b[38;5;66;03m# 이렇게 함수를 쓰고, shift + tab 키 누르면, \u001b[39;00m\n\u001b[0;32m      4\u001b[0m \u001b[38;5;66;03m# \"이 함수는 a와 b를 더한 뒤 결과를 반환하는 함수입니다.\"\u001b[39;00m\n\u001b[0;32m      5\u001b[0m \u001b[38;5;66;03m# 라는 말이 뜸\u001b[39;00m\n",
      "\u001b[1;31mTypeError\u001b[0m: add() missing 2 required positional arguments: 'a' and 'b'"
     ]
    }
   ],
   "source": [
    "add()\n",
    "\n",
    "# 이렇게 함수를 쓰고, shift + tab 키 누르면, \n",
    "# \"이 함수는 a와 b를 더한 뒤 결과를 반환하는 함수입니다.\"\n",
    "# 라는 말이 뜸"
   ]
  },
  {
   "cell_type": "markdown",
   "id": "d6356098",
   "metadata": {},
   "source": [
    "### 독스트링 :  shift + Tab  키 "
   ]
  },
  {
   "cell_type": "code",
   "execution_count": 64,
   "id": "7b838094",
   "metadata": {},
   "outputs": [
    {
     "name": "stdout",
     "output_type": "stream",
     "text": [
      "\n",
      "    이 함수는 a와 b를 더한 뒤 결과를 반환하는 함수입니다. \n",
      "    \n"
     ]
    }
   ],
   "source": [
    "print(add.__doc__)\n",
    "\n",
    "# 언더바 2개 "
   ]
  },
  {
   "cell_type": "markdown",
   "id": "5b0e3f0b",
   "metadata": {},
   "source": [
    "# ===================================================="
   ]
  },
  {
   "cell_type": "markdown",
   "id": "0869ec37",
   "metadata": {},
   "source": [
    "## 람다 표현식 (lambda expression) \n",
    "\n",
    "\n",
    "* 파이썬에서 람다 함수는 간단한 함수를 한 줄로 작성할 수 있어 매우 유용하게 사용됩니다. 람다 함수는 함수를 정의할 때 def 키워드를 사용하지 않고, lambda 키워드를 사용하여 작성합니다. 주로 간단한 함수를 정의할 때 사용됩니다.\n",
    "<br><br>\n",
    "* 간단한 함수를 작성하거나 다른 함수의 인수로 함수를 넣을 때 사용\n",
    "* 익명함수(함수명이 없음)\n",
    "* 사용 후 메모리에서 삭제 --> 일회용 종이컵처럼 한번 쓰면 버려짐\n"
   ]
  },
  {
   "cell_type": "code",
   "execution_count": 44,
   "id": "e614c9e2",
   "metadata": {},
   "outputs": [
    {
     "name": "stdout",
     "output_type": "stream",
     "text": [
      "{'__name__': '__main__', '__doc__': 'Automatically created module for IPython interactive environment', '__package__': None, '__loader__': None, '__spec__': None, '__builtin__': <module 'builtins' (built-in)>, '__builtins__': <module 'builtins' (built-in)>, '_ih': ['', \"def personal_info(name, age, address):\\n    print('이름: ', name)\\n    print('나이: ', age)\\n    print('주소: ', address)\", \"personal_info('홍길동', 30, '서울시 송파구')\", \"personal_info('이강인', 24, '프랑스')\", \"personal_info(24, '이강인', '프랑스')\", \"personal_info(age = 29, name = '김민재', address = '독일')\", 'personal_info2(d)\\n               \\n    \\n# 딕셔너리로 묶여있기 때문에 ** 로 풀어서 넣어줘야 함. \\n            ', 'personal_info2(**d)\\n\\n\\n\\n# 이렇게 풀어서 넣어야 함!', 'def personal_info2(**kwargs):\\n    print(\"kwargs: \", kwargs)\\n    print(\"kwargs type: \", type(kwargs))', \"personal_info2( name= '손흥민', age = 33, address = '서울시 성동구', school = '토트넘')\", \"d = dict(name= '손흥민', age = 33, address = '서울시 성동구', school = '토트넘')\\nd\", 'personal_info2(d)\\n               \\n    \\n# 딕셔너리로 묶여있기 때문에 ** 로 풀어서 넣어줘야 함. \\n            ', 'personal_info2(**d)\\n\\n\\n\\n# 이렇게 풀어서 넣어야 함!', 'def personal_info3(**kwargs):\\n    print(\"kwargs: \", kwargs)\\n    print(\"kwargs type: \", type(kwargs))\\n    \\n    for key, value in kwargs.items():\\n        print(key, value)', 'personal_info3(**d)\\n\\n# d 가 딕셔너리임', \"d = dict(name= '손흥민', age = 33, address = '서울시 성동구', school = '토트넘')\\nd\", 'def personal_info3(**kwargs):\\n    print(\"kwargs: \", kwargs)\\n    print(\"kwargs type: \", type(kwargs)) \\n    \\n    for key, value in kwargs.items():\\n        print(key, value)', 'personal_info3(**d)\\n\\n# d 가 딕셔너리임', \"personal_info4('손흥민', age = 30, address = '서울시 성동구')\\n\\n\\n# 여기서 '손흥민' --> 고정인수 \", 'def personal_info4(name, **kwargs):\\n    print(\"name: \", name)\\n    print(\"kwargs: \", kwargs)\\n    print(\"kwargs type: \", type(kwargs))', \"personal_info4('손흥민')\", \"personal_info4('손흥민', age = 30, address = '서울시 성동구')\\n\\n\\n# 여기서 '손흥민' --> 고정인수 \", \"personal_info4(age = 30, address = '서울시 성동구')\", 'def personal_info4(name, **kwargs):\\n    print(\"name: \", name)\\n    print(\"kwargs: \", kwargs)\\n    print(\"kwargs type: \", type(kwargs))\\n\\n    \\n    # 여기서 name 은 고정인수임. 그래서 꼭 값을 넣어야 함. ', \"personal_info4(age = 30, address = '서울시 성동구')\\\\\\n\\n\\n# 고정인수로 name을 설정했는데 넣지 않아서 오류가 난 것임. \", 'def custom_print(*args, **kwargs): \\n    print(*args, **kwargs)\\n    \\n    \\ncustom_print(1,2,3, sep = \" !! \", end = \"\")', 'def custom_print(*args, **kwargs): \\n    print(*args, **kwargs)\\n    \\n    \\ncustom_print(1,2,3, sep = \" !! \", end = \"\")', 'personal_info6(1,2,3,4, name = \"홍길동\", age = 33)\\n\\n\\n# 제일 앞에 것 \\'1\\'을 address로 인식했음.', '# 매개변수에 초기값 지정하기 \\n# address = \"비공개\"\\n\\ndef personal_info5(name, age, address = \"비공개\"):\\n    print(\\'이름: \\', name)\\n    print(\\'나이: \\', age)\\n    print(\\'주소: \\', address)\\n    ', \"personal_info5('이강인', 24, '서울시 강남구')\", \"personal_info5('손흥민', 33)\", 'def personal_info5(name, address = \"비공개\", age):\\n    print(\\'이름: \\', name)\\n    print(\\'나이: \\', age)\\n    print(\\'주소: \\', address)\\n    \\n    # 에러나는 이유\\n    # 초기값이 지정된 매개변수는 반드시 가장 마지막에 와야 함!\\n    # name, age, address = \"비공개\"', 'def personal_info6(*args, **kwargs, address = \"비공개\"):\\n    print(\\'args: \\', args)\\n    print(\\'kwargs\\': \\', kwargs)\\n    print(\\'주소: \\', address)\\n    \\n    # 에러남', 'def personal_info6(*args, address = \"비공개\",  **kwargs):\\n    print(\\'args: \\', args)\\n    print(\\'kwargs: \\', kwargs)\\n    print(\\'주소: \\', address)\\n    \\n    # 에러 x ', 'def personal_info6(address = \"비공개\", *args, **kwargs):\\n    print(\\'args: \\', args)\\n    print(\\'kwargs: \\', kwargs)\\n    print(\\'주소: \\', address)\\n    \\n    # 에러 x', 'personal_info6(1,2,3,4, name = \"홍길동\", age = 33)\\n\\n\\n# 제일 앞에 것 \\'1\\'을 address로 인식했음.', 'print()', 'def add(a, b):\\n    \"\"\"\\n    이 함수는 a와 b를 더한 뒤 결과를 반환하는 함수입니다. \\n    \"\"\"\\n    return a + b ', 'add(10, 5)', 'add()\\n\\n# 이렇게 함수를 쓰고, shift + tab 키 누르면, \\n# \"이 함수는 a와 b를 더한 뒤 결과를 반환하는 함수입니다.\"\\n# 라는 말이 뜸', 'def add(a, b):\\n    \"\"\"\\n    이 함수는 a와 b를 더한 뒤 결과를 반환하는 함수입니다. \\n    \"\"\"\\n    return a + b ', 'add(10, 5)', 'add()\\n\\n# 이렇게 함수를 쓰고, shift + tab 키 누르면, \\n# \"이 함수는 a와 b를 더한 뒤 결과를 반환하는 함수입니다.\"\\n# 라는 말이 뜸', 'print(globals())\\n\\n\\n# 전역변수로 지금까지 우리가 코드 실행했던 내용들 메모리에서 호출함', 'print(globals())\\n\\n\\n# 전역변수로 지금까지 우리가 코드 실행했던 내용들 메모리에서 호출함 '], '_oh': {10: {'name': '손흥민', 'age': 33, 'address': '서울시 성동구', 'school': '토트넘'}, 15: {'name': '손흥민', 'age': 33, 'address': '서울시 성동구', 'school': '토트넘'}, 38: 15, 41: 15}, '_dh': [WindowsPath('C:/Users/5-05/Desktop/fintech_service/04python')], 'In': ['', \"def personal_info(name, age, address):\\n    print('이름: ', name)\\n    print('나이: ', age)\\n    print('주소: ', address)\", \"personal_info('홍길동', 30, '서울시 송파구')\", \"personal_info('이강인', 24, '프랑스')\", \"personal_info(24, '이강인', '프랑스')\", \"personal_info(age = 29, name = '김민재', address = '독일')\", 'personal_info2(d)\\n               \\n    \\n# 딕셔너리로 묶여있기 때문에 ** 로 풀어서 넣어줘야 함. \\n            ', 'personal_info2(**d)\\n\\n\\n\\n# 이렇게 풀어서 넣어야 함!', 'def personal_info2(**kwargs):\\n    print(\"kwargs: \", kwargs)\\n    print(\"kwargs type: \", type(kwargs))', \"personal_info2( name= '손흥민', age = 33, address = '서울시 성동구', school = '토트넘')\", \"d = dict(name= '손흥민', age = 33, address = '서울시 성동구', school = '토트넘')\\nd\", 'personal_info2(d)\\n               \\n    \\n# 딕셔너리로 묶여있기 때문에 ** 로 풀어서 넣어줘야 함. \\n            ', 'personal_info2(**d)\\n\\n\\n\\n# 이렇게 풀어서 넣어야 함!', 'def personal_info3(**kwargs):\\n    print(\"kwargs: \", kwargs)\\n    print(\"kwargs type: \", type(kwargs))\\n    \\n    for key, value in kwargs.items():\\n        print(key, value)', 'personal_info3(**d)\\n\\n# d 가 딕셔너리임', \"d = dict(name= '손흥민', age = 33, address = '서울시 성동구', school = '토트넘')\\nd\", 'def personal_info3(**kwargs):\\n    print(\"kwargs: \", kwargs)\\n    print(\"kwargs type: \", type(kwargs)) \\n    \\n    for key, value in kwargs.items():\\n        print(key, value)', 'personal_info3(**d)\\n\\n# d 가 딕셔너리임', \"personal_info4('손흥민', age = 30, address = '서울시 성동구')\\n\\n\\n# 여기서 '손흥민' --> 고정인수 \", 'def personal_info4(name, **kwargs):\\n    print(\"name: \", name)\\n    print(\"kwargs: \", kwargs)\\n    print(\"kwargs type: \", type(kwargs))', \"personal_info4('손흥민')\", \"personal_info4('손흥민', age = 30, address = '서울시 성동구')\\n\\n\\n# 여기서 '손흥민' --> 고정인수 \", \"personal_info4(age = 30, address = '서울시 성동구')\", 'def personal_info4(name, **kwargs):\\n    print(\"name: \", name)\\n    print(\"kwargs: \", kwargs)\\n    print(\"kwargs type: \", type(kwargs))\\n\\n    \\n    # 여기서 name 은 고정인수임. 그래서 꼭 값을 넣어야 함. ', \"personal_info4(age = 30, address = '서울시 성동구')\\\\\\n\\n\\n# 고정인수로 name을 설정했는데 넣지 않아서 오류가 난 것임. \", 'def custom_print(*args, **kwargs): \\n    print(*args, **kwargs)\\n    \\n    \\ncustom_print(1,2,3, sep = \" !! \", end = \"\")', 'def custom_print(*args, **kwargs): \\n    print(*args, **kwargs)\\n    \\n    \\ncustom_print(1,2,3, sep = \" !! \", end = \"\")', 'personal_info6(1,2,3,4, name = \"홍길동\", age = 33)\\n\\n\\n# 제일 앞에 것 \\'1\\'을 address로 인식했음.', '# 매개변수에 초기값 지정하기 \\n# address = \"비공개\"\\n\\ndef personal_info5(name, age, address = \"비공개\"):\\n    print(\\'이름: \\', name)\\n    print(\\'나이: \\', age)\\n    print(\\'주소: \\', address)\\n    ', \"personal_info5('이강인', 24, '서울시 강남구')\", \"personal_info5('손흥민', 33)\", 'def personal_info5(name, address = \"비공개\", age):\\n    print(\\'이름: \\', name)\\n    print(\\'나이: \\', age)\\n    print(\\'주소: \\', address)\\n    \\n    # 에러나는 이유\\n    # 초기값이 지정된 매개변수는 반드시 가장 마지막에 와야 함!\\n    # name, age, address = \"비공개\"', 'def personal_info6(*args, **kwargs, address = \"비공개\"):\\n    print(\\'args: \\', args)\\n    print(\\'kwargs\\': \\', kwargs)\\n    print(\\'주소: \\', address)\\n    \\n    # 에러남', 'def personal_info6(*args, address = \"비공개\",  **kwargs):\\n    print(\\'args: \\', args)\\n    print(\\'kwargs: \\', kwargs)\\n    print(\\'주소: \\', address)\\n    \\n    # 에러 x ', 'def personal_info6(address = \"비공개\", *args, **kwargs):\\n    print(\\'args: \\', args)\\n    print(\\'kwargs: \\', kwargs)\\n    print(\\'주소: \\', address)\\n    \\n    # 에러 x', 'personal_info6(1,2,3,4, name = \"홍길동\", age = 33)\\n\\n\\n# 제일 앞에 것 \\'1\\'을 address로 인식했음.', 'print()', 'def add(a, b):\\n    \"\"\"\\n    이 함수는 a와 b를 더한 뒤 결과를 반환하는 함수입니다. \\n    \"\"\"\\n    return a + b ', 'add(10, 5)', 'add()\\n\\n# 이렇게 함수를 쓰고, shift + tab 키 누르면, \\n# \"이 함수는 a와 b를 더한 뒤 결과를 반환하는 함수입니다.\"\\n# 라는 말이 뜸', 'def add(a, b):\\n    \"\"\"\\n    이 함수는 a와 b를 더한 뒤 결과를 반환하는 함수입니다. \\n    \"\"\"\\n    return a + b ', 'add(10, 5)', 'add()\\n\\n# 이렇게 함수를 쓰고, shift + tab 키 누르면, \\n# \"이 함수는 a와 b를 더한 뒤 결과를 반환하는 함수입니다.\"\\n# 라는 말이 뜸', 'print(globals())\\n\\n\\n# 전역변수로 지금까지 우리가 코드 실행했던 내용들 메모리에서 호출함', 'print(globals())\\n\\n\\n# 전역변수로 지금까지 우리가 코드 실행했던 내용들 메모리에서 호출함 '], 'Out': {10: {'name': '손흥민', 'age': 33, 'address': '서울시 성동구', 'school': '토트넘'}, 15: {'name': '손흥민', 'age': 33, 'address': '서울시 성동구', 'school': '토트넘'}, 38: 15, 41: 15}, 'get_ipython': <bound method InteractiveShell.get_ipython of <ipykernel.zmqshell.ZMQInteractiveShell object at 0x00000138765535E0>>, 'exit': <IPython.core.autocall.ZMQExitAutocall object at 0x00000138765AC0D0>, 'quit': <IPython.core.autocall.ZMQExitAutocall object at 0x00000138765AC0D0>, 'open': <function open at 0x0000013874F7A5F0>, '_': 15, '__': 15, '___': {'name': '손흥민', 'age': 33, 'address': '서울시 성동구', 'school': '토트넘'}, '_i': 'print(globals())\\n\\n\\n# 전역변수로 지금까지 우리가 코드 실행했던 내용들 메모리에서 호출함', '_ii': 'add()\\n\\n# 이렇게 함수를 쓰고, shift + tab 키 누르면, \\n# \"이 함수는 a와 b를 더한 뒤 결과를 반환하는 함수입니다.\"\\n# 라는 말이 뜸', '_iii': 'add(10, 5)', '_i1': \"def personal_info(name, age, address):\\n    print('이름: ', name)\\n    print('나이: ', age)\\n    print('주소: ', address)\", 'personal_info': <function personal_info at 0x00000138765972E0>, '_i2': \"personal_info('홍길동', 30, '서울시 송파구')\", '_i3': \"personal_info('이강인', 24, '프랑스')\", '_i4': \"personal_info(24, '이강인', '프랑스')\", '_i5': \"personal_info(age = 29, name = '김민재', address = '독일')\", '_i6': 'personal_info2(d)\\n               \\n    \\n# 딕셔너리로 묶여있기 때문에 ** 로 풀어서 넣어줘야 함. \\n            ', '_i7': 'personal_info2(**d)\\n\\n\\n\\n# 이렇게 풀어서 넣어야 함!', '_i8': 'def personal_info2(**kwargs):\\n    print(\"kwargs: \", kwargs)\\n    print(\"kwargs type: \", type(kwargs))', 'personal_info2': <function personal_info2 at 0x000001387674A050>, '_i9': \"personal_info2( name= '손흥민', age = 33, address = '서울시 성동구', school = '토트넘')\", '_i10': \"d = dict(name= '손흥민', age = 33, address = '서울시 성동구', school = '토트넘')\\nd\", 'd': {'name': '손흥민', 'age': 33, 'address': '서울시 성동구', 'school': '토트넘'}, '_10': {'name': '손흥민', 'age': 33, 'address': '서울시 성동구', 'school': '토트넘'}, '_i11': 'personal_info2(d)\\n               \\n    \\n# 딕셔너리로 묶여있기 때문에 ** 로 풀어서 넣어줘야 함. \\n            ', '_i12': 'personal_info2(**d)\\n\\n\\n\\n# 이렇게 풀어서 넣어야 함!', '_i13': 'def personal_info3(**kwargs):\\n    print(\"kwargs: \", kwargs)\\n    print(\"kwargs type: \", type(kwargs))\\n    \\n    for key, value in kwargs.items():\\n        print(key, value)', 'personal_info3': <function personal_info3 at 0x0000013876749AB0>, '_i14': 'personal_info3(**d)\\n\\n# d 가 딕셔너리임', '_i15': \"d = dict(name= '손흥민', age = 33, address = '서울시 성동구', school = '토트넘')\\nd\", '_15': {'name': '손흥민', 'age': 33, 'address': '서울시 성동구', 'school': '토트넘'}, '_i16': 'def personal_info3(**kwargs):\\n    print(\"kwargs: \", kwargs)\\n    print(\"kwargs type: \", type(kwargs)) \\n    \\n    for key, value in kwargs.items():\\n        print(key, value)', '_i17': 'personal_info3(**d)\\n\\n# d 가 딕셔너리임', '_i18': \"personal_info4('손흥민', age = 30, address = '서울시 성동구')\\n\\n\\n# 여기서 '손흥민' --> 고정인수 \", '_i19': 'def personal_info4(name, **kwargs):\\n    print(\"name: \", name)\\n    print(\"kwargs: \", kwargs)\\n    print(\"kwargs type: \", type(kwargs))', 'personal_info4': <function personal_info4 at 0x0000013876597490>, '_i20': \"personal_info4('손흥민')\", '_i21': \"personal_info4('손흥민', age = 30, address = '서울시 성동구')\\n\\n\\n# 여기서 '손흥민' --> 고정인수 \", '_i22': \"personal_info4(age = 30, address = '서울시 성동구')\", '_i23': 'def personal_info4(name, **kwargs):\\n    print(\"name: \", name)\\n    print(\"kwargs: \", kwargs)\\n    print(\"kwargs type: \", type(kwargs))\\n\\n    \\n    # 여기서 name 은 고정인수임. 그래서 꼭 값을 넣어야 함. ', '_i24': \"personal_info4(age = 30, address = '서울시 성동구')\\\\\\n\\n\\n# 고정인수로 name을 설정했는데 넣지 않아서 오류가 난 것임. \", '_i25': 'def custom_print(*args, **kwargs): \\n    print(*args, **kwargs)\\n    \\n    \\ncustom_print(1,2,3, sep = \" !! \", end = \"\")', 'custom_print': <function custom_print at 0x0000013877AE8790>, '_i26': 'def custom_print(*args, **kwargs): \\n    print(*args, **kwargs)\\n    \\n    \\ncustom_print(1,2,3, sep = \" !! \", end = \"\")', '_i27': 'personal_info6(1,2,3,4, name = \"홍길동\", age = 33)\\n\\n\\n# 제일 앞에 것 \\'1\\'을 address로 인식했음.', '_i28': '# 매개변수에 초기값 지정하기 \\n# address = \"비공개\"\\n\\ndef personal_info5(name, age, address = \"비공개\"):\\n    print(\\'이름: \\', name)\\n    print(\\'나이: \\', age)\\n    print(\\'주소: \\', address)\\n    ', 'personal_info5': <function personal_info5 at 0x0000013877AE8940>, '_i29': \"personal_info5('이강인', 24, '서울시 강남구')\", '_i30': \"personal_info5('손흥민', 33)\", '_i31': 'def personal_info5(name, address = \"비공개\", age):\\n    print(\\'이름: \\', name)\\n    print(\\'나이: \\', age)\\n    print(\\'주소: \\', address)\\n    \\n    # 에러나는 이유\\n    # 초기값이 지정된 매개변수는 반드시 가장 마지막에 와야 함!\\n    # name, age, address = \"비공개\"', '_i32': 'def personal_info6(*args, **kwargs, address = \"비공개\"):\\n    print(\\'args: \\', args)\\n    print(\\'kwargs\\': \\', kwargs)\\n    print(\\'주소: \\', address)\\n    \\n    # 에러남', '_i33': 'def personal_info6(*args, address = \"비공개\",  **kwargs):\\n    print(\\'args: \\', args)\\n    print(\\'kwargs: \\', kwargs)\\n    print(\\'주소: \\', address)\\n    \\n    # 에러 x ', 'personal_info6': <function personal_info6 at 0x0000013877AE84C0>, '_i34': 'def personal_info6(address = \"비공개\", *args, **kwargs):\\n    print(\\'args: \\', args)\\n    print(\\'kwargs: \\', kwargs)\\n    print(\\'주소: \\', address)\\n    \\n    # 에러 x', '_i35': 'personal_info6(1,2,3,4, name = \"홍길동\", age = 33)\\n\\n\\n# 제일 앞에 것 \\'1\\'을 address로 인식했음.', '_i36': 'print()', '_i37': 'def add(a, b):\\n    \"\"\"\\n    이 함수는 a와 b를 더한 뒤 결과를 반환하는 함수입니다. \\n    \"\"\"\\n    return a + b ', 'add': <function add at 0x0000013876749000>, '_i38': 'add(10, 5)', '_38': 15, '_i39': 'add()\\n\\n# 이렇게 함수를 쓰고, shift + tab 키 누르면, \\n# \"이 함수는 a와 b를 더한 뒤 결과를 반환하는 함수입니다.\"\\n# 라는 말이 뜸', '_i40': 'def add(a, b):\\n    \"\"\"\\n    이 함수는 a와 b를 더한 뒤 결과를 반환하는 함수입니다. \\n    \"\"\"\\n    return a + b ', '_i41': 'add(10, 5)', '_41': 15, '_i42': 'add()\\n\\n# 이렇게 함수를 쓰고, shift + tab 키 누르면, \\n# \"이 함수는 a와 b를 더한 뒤 결과를 반환하는 함수입니다.\"\\n# 라는 말이 뜸', '_i43': 'print(globals())\\n\\n\\n# 전역변수로 지금까지 우리가 코드 실행했던 내용들 메모리에서 호출함', '_i44': 'print(globals())\\n\\n\\n# 전역변수로 지금까지 우리가 코드 실행했던 내용들 메모리에서 호출함 '}\n"
     ]
    }
   ],
   "source": [
    "print(globals())\n",
    "\n",
    "\n",
    "# 전역변수로 지금까지 우리가 코드 실행했던 내용들 메모리에서 호출함 \n",
    "\n"
   ]
  },
  {
   "cell_type": "code",
   "execution_count": 47,
   "id": "67abf399",
   "metadata": {},
   "outputs": [],
   "source": [
    "# 자료 1개를 입력받아 10을 더해 리턴하는 함수\n",
    "\n",
    "\n",
    "def plus_ten(x):\n",
    "    return x + 10"
   ]
  },
  {
   "cell_type": "code",
   "execution_count": 48,
   "id": "d42ace79",
   "metadata": {},
   "outputs": [
    {
     "data": {
      "text/plain": [
       "15"
      ]
     },
     "execution_count": 48,
     "metadata": {},
     "output_type": "execute_result"
    }
   ],
   "source": [
    "plus_ten(5)"
   ]
  },
  {
   "cell_type": "markdown",
   "id": "44bab5f1",
   "metadata": {},
   "source": [
    "방법1) 람다 함수에 괄호를 씌우고 뒤에 인수를 넣어서 직접 호출"
   ]
  },
  {
   "cell_type": "code",
   "execution_count": 49,
   "id": "693c7d90",
   "metadata": {},
   "outputs": [
    {
     "data": {
      "text/plain": [
       "15"
      ]
     },
     "execution_count": 49,
     "metadata": {},
     "output_type": "execute_result"
    }
   ],
   "source": [
    "# def lambda():\n",
    "\n",
    "(lambda x : x + 10)(5)"
   ]
  },
  {
   "cell_type": "code",
   "execution_count": 50,
   "id": "394df2db",
   "metadata": {},
   "outputs": [
    {
     "data": {
      "text/plain": [
       "16"
      ]
     },
     "execution_count": 50,
     "metadata": {},
     "output_type": "execute_result"
    }
   ],
   "source": [
    "(lambda x : x + 10)(6)"
   ]
  },
  {
   "cell_type": "markdown",
   "id": "f149af86",
   "metadata": {},
   "source": [
    "방법2) 람다 함수를 변수에 넣고 변수에 인수를 넣어서 호출"
   ]
  },
  {
   "cell_type": "code",
   "execution_count": 51,
   "id": "f209d826",
   "metadata": {},
   "outputs": [],
   "source": [
    "plus_five = lambda x : x + 5"
   ]
  },
  {
   "cell_type": "code",
   "execution_count": 52,
   "id": "6472b3e5",
   "metadata": {},
   "outputs": [
    {
     "data": {
      "text/plain": [
       "8"
      ]
     },
     "execution_count": 52,
     "metadata": {},
     "output_type": "execute_result"
    }
   ],
   "source": [
    "plus_five(3)"
   ]
  },
  {
   "cell_type": "markdown",
   "id": "098c959c",
   "metadata": {},
   "source": [
    "map(함수, 리스트자료) "
   ]
  },
  {
   "cell_type": "code",
   "execution_count": 53,
   "id": "b0066572",
   "metadata": {},
   "outputs": [],
   "source": [
    "a, b, c, d = map(int, [\"1\", \"2\", \"4\", \"5\"])"
   ]
  },
  {
   "cell_type": "code",
   "execution_count": 54,
   "id": "b0d10cf8",
   "metadata": {},
   "outputs": [
    {
     "data": {
      "text/plain": [
       "(1, 2, 4, 5)"
      ]
     },
     "execution_count": 54,
     "metadata": {},
     "output_type": "execute_result"
    }
   ],
   "source": [
    "a, b, c, d "
   ]
  },
  {
   "cell_type": "code",
   "execution_count": 55,
   "id": "03854eb9",
   "metadata": {},
   "outputs": [],
   "source": [
    "plus_five = lambda x : x + 5"
   ]
  },
  {
   "cell_type": "code",
   "execution_count": 56,
   "id": "5f671064",
   "metadata": {},
   "outputs": [
    {
     "name": "stdout",
     "output_type": "stream",
     "text": [
      "[6, 7, 8, 9, 10]\n"
     ]
    }
   ],
   "source": [
    "result = map(plus_five, [1,2,3,4,5])\n",
    "print(list(result))\n",
    "\n",
    "# 1+5\n",
    "# 2+5\n",
    "# 3+5\n",
    "# 4+5\n",
    "# 5+5"
   ]
  },
  {
   "cell_type": "code",
   "execution_count": 57,
   "id": "5d34cd87",
   "metadata": {},
   "outputs": [
    {
     "data": {
      "text/plain": [
       "[11, 12, 13, 14, 15]"
      ]
     },
     "execution_count": 57,
     "metadata": {},
     "output_type": "execute_result"
    }
   ],
   "source": [
    "list(map(lambda x : x + 10, [1,2,3,4,5]))"
   ]
  },
  {
   "cell_type": "code",
   "execution_count": 58,
   "id": "3ffaf934",
   "metadata": {},
   "outputs": [
    {
     "name": "stdout",
     "output_type": "stream",
     "text": [
      "[11, 12, 13, 14, 15]\n"
     ]
    }
   ],
   "source": [
    "hap = []\n",
    "\n",
    "for i in [1,2,3,4,5]:\n",
    "    hap.append(i+10)\n",
    "print(hap)\n",
    "\n",
    "# 위 내용 다른 ver."
   ]
  },
  {
   "cell_type": "code",
   "execution_count": null,
   "id": "3cbd68d3",
   "metadata": {},
   "outputs": [],
   "source": []
  },
  {
   "cell_type": "markdown",
   "id": "cce236fb",
   "metadata": {},
   "source": [
    "### 람다 표현식에서 조건부 표현식 사용하기"
   ]
  },
  {
   "cell_type": "code",
   "execution_count": 63,
   "id": "d94baf5a",
   "metadata": {},
   "outputs": [
    {
     "data": {
      "text/plain": [
       "[1, 2, 3, 4, 5, 6, 7, 8, 9, 10]"
      ]
     },
     "execution_count": 63,
     "metadata": {},
     "output_type": "execute_result"
    }
   ],
   "source": [
    "# 3의 배수만 문자열로 바꾸기 \n",
    "\n",
    "a = list(range(1,11))\n",
    "a"
   ]
  },
  {
   "cell_type": "code",
   "execution_count": 60,
   "id": "b6c07086",
   "metadata": {},
   "outputs": [
    {
     "name": "stdout",
     "output_type": "stream",
     "text": [
      "3\n",
      "<class 'str'>\n",
      "6\n",
      "<class 'str'>\n",
      "9\n",
      "<class 'str'>\n"
     ]
    }
   ],
   "source": [
    "a = list(range(1,11))\n",
    "\n",
    "\n",
    "for i in a : \n",
    "    if i % 3 == 0 :\n",
    "        num_str = str(i)\n",
    "        print(num_str)\n",
    "        print(type(num_str))\n",
    "        \n",
    "        \n",
    "        "
   ]
  },
  {
   "cell_type": "code",
   "execution_count": 61,
   "id": "b3e661d1",
   "metadata": {},
   "outputs": [
    {
     "name": "stdout",
     "output_type": "stream",
     "text": [
      "[1, 2, '3', 4, 5, '6', 7, 8, '9', 10]\n"
     ]
    }
   ],
   "source": [
    "a = list(range(1, 11))\n",
    "\n",
    "def tostr3(a):\n",
    "    result = [str(i) if i % 3 == 0 else i for i in a]\n",
    "    return result\n",
    "\n",
    "print(tostr3(a))"
   ]
  },
  {
   "cell_type": "code",
   "execution_count": 62,
   "id": "11ec8c0b",
   "metadata": {},
   "outputs": [
    {
     "name": "stdout",
     "output_type": "stream",
     "text": [
      "[1, 2, '3', 4, 5, '6', 7, 8, '9', 10]\n"
     ]
    }
   ],
   "source": [
    "result = [(lambda x: str(x) if x % 3 == 0 else x)(i) for i in a]\n",
    "\n",
    "\n",
    "print(result)"
   ]
  },
  {
   "cell_type": "code",
   "execution_count": null,
   "id": "8749aebd",
   "metadata": {},
   "outputs": [],
   "source": []
  },
  {
   "cell_type": "code",
   "execution_count": 101,
   "id": "80656308",
   "metadata": {},
   "outputs": [],
   "source": [
    "a = [1,2,3,4,5]\n",
    "b = [2,4,6,8,10]\n",
    "c = [3,6,9,12,15]"
   ]
  },
  {
   "cell_type": "code",
   "execution_count": 104,
   "id": "77aa2814",
   "metadata": {},
   "outputs": [
    {
     "data": {
      "text/plain": [
       "[6, 48, 162, 384, 750]"
      ]
     },
     "execution_count": 104,
     "metadata": {},
     "output_type": "execute_result"
    }
   ],
   "source": [
    "list(map(lambda x, y, z : x * y * z, a, b, c))\n",
    "\n",
    "\n",
    "# 1 x 2 x 3\n",
    "# 2 x 4 x 6\n",
    "# 3 x 6 x 9\n",
    "# 4 x 8 x 12\n",
    "# 5 x 10 x 15"
   ]
  },
  {
   "cell_type": "code",
   "execution_count": 105,
   "id": "3d40d600",
   "metadata": {},
   "outputs": [
    {
     "data": {
      "text/plain": [
       "[6, 48, 162, 384, 750]"
      ]
     },
     "execution_count": 105,
     "metadata": {},
     "output_type": "execute_result"
    }
   ],
   "source": [
    "result = []\n",
    "\n",
    "for x, y, z in zip(a, b, c):\n",
    "    result.append(x * y * z)\n",
    "result"
   ]
  },
  {
   "cell_type": "code",
   "execution_count": null,
   "id": "b9589a89",
   "metadata": {},
   "outputs": [],
   "source": []
  }
 ],
 "metadata": {
  "kernelspec": {
   "display_name": "Python 3 (ipykernel)",
   "language": "python",
   "name": "python3"
  },
  "language_info": {
   "codemirror_mode": {
    "name": "ipython",
    "version": 3
   },
   "file_extension": ".py",
   "mimetype": "text/x-python",
   "name": "python",
   "nbconvert_exporter": "python",
   "pygments_lexer": "ipython3",
   "version": "3.10.14"
  }
 },
 "nbformat": 4,
 "nbformat_minor": 5
}
