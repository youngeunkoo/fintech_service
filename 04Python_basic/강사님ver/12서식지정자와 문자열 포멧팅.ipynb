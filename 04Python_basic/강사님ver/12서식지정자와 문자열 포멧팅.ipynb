{
 "cells": [
  {
   "cell_type": "markdown",
   "id": "85b655aa",
   "metadata": {},
   "source": [
    "# 서식지정자, format 메서드\n",
    "* 서식 지정자나 format method를 사용하는 이유는 문자열로만 입력해야 하는 상황에서 같은 위치의 문자를 여러 번 바꿔야 할 때가 있기 때문\n",
    "* 문자의 자릿수 맞춤, 위치 정렬 등에도 사용"
   ]
  },
  {
   "cell_type": "markdown",
   "id": "13504f17",
   "metadata": {},
   "source": [
    "## 1. 서식지정자 %d, %s, %f, %길이s"
   ]
  },
  {
   "cell_type": "markdown",
   "id": "ec95c528",
   "metadata": {},
   "source": [
    "1) 문자를 입력 할 때 %s"
   ]
  },
  {
   "cell_type": "code",
   "execution_count": 1,
   "id": "88a1aa21",
   "metadata": {},
   "outputs": [
    {
     "name": "stdout",
     "output_type": "stream",
     "text": [
      "이 수업의 이름은 핀테크 서비스 기획자 입니다.\n"
     ]
    }
   ],
   "source": [
    "print('이 수업의 이름은 %s 입니다.' % '핀테크 서비스 기획자')"
   ]
  },
  {
   "cell_type": "code",
   "execution_count": 3,
   "id": "b223427f",
   "metadata": {},
   "outputs": [],
   "source": [
    "subject = ['국어','영어','수학','과학','파이썬','database']"
   ]
  },
  {
   "cell_type": "code",
   "execution_count": 4,
   "id": "6c2c3a57",
   "metadata": {},
   "outputs": [
    {
     "name": "stdout",
     "output_type": "stream",
     "text": [
      "이 수업의 이름은 국어 입니다.\n",
      "이 수업의 이름은 영어 입니다.\n",
      "이 수업의 이름은 수학 입니다.\n",
      "이 수업의 이름은 과학 입니다.\n",
      "이 수업의 이름은 파이썬 입니다.\n",
      "이 수업의 이름은 database 입니다.\n"
     ]
    }
   ],
   "source": [
    "for sub_name in subject:\n",
    "    print('이 수업의 이름은 %s 입니다.' % sub_name)"
   ]
  },
  {
   "cell_type": "markdown",
   "id": "1ca39b89",
   "metadata": {},
   "source": [
    "2) 정수를 입력할 때 %d"
   ]
  },
  {
   "cell_type": "code",
   "execution_count": 11,
   "id": "4c0baa06",
   "metadata": {},
   "outputs": [
    {
     "name": "stdout",
     "output_type": "stream",
     "text": [
      "올해는 20년 입니다.\n"
     ]
    }
   ],
   "source": [
    "print('올해는 %d년 입니다.' % 20.74)"
   ]
  },
  {
   "cell_type": "code",
   "execution_count": 12,
   "id": "b92694e8",
   "metadata": {},
   "outputs": [
    {
     "name": "stdout",
     "output_type": "stream",
     "text": [
      "올해는 2019년 입니다.\n",
      "올해는 2020년 입니다.\n",
      "올해는 2021년 입니다.\n",
      "올해는 2022년 입니다.\n",
      "올해는 2023년 입니다.\n",
      "올해는 2024년 입니다.\n"
     ]
    }
   ],
   "source": [
    "year = [2019, 2020, 2021, 2022, 2023, 2024]\n",
    "for yyyy in year:\n",
    "    print('올해는 %d년 입니다.' % yyyy)"
   ]
  },
  {
   "cell_type": "markdown",
   "id": "d1f4ab5e",
   "metadata": {},
   "source": [
    "3) 실수를 입력할 때 %f 기본 소수점 6자리로 표시"
   ]
  },
  {
   "cell_type": "code",
   "execution_count": 13,
   "id": "3c86bd3f",
   "metadata": {},
   "outputs": [
    {
     "name": "stdout",
     "output_type": "stream",
     "text": [
      "사람의 정상 체온은 약 36.500000 도 입니다\n"
     ]
    }
   ],
   "source": [
    "print('사람의 정상 체온은 약 %f 도 입니다' % 36.5)"
   ]
  },
  {
   "cell_type": "markdown",
   "id": "b3c0cb9f",
   "metadata": {},
   "source": [
    "소수점 자리수 조정하기 %.자리수f"
   ]
  },
  {
   "cell_type": "code",
   "execution_count": 14,
   "id": "46f4a8bc",
   "metadata": {},
   "outputs": [
    {
     "name": "stdout",
     "output_type": "stream",
     "text": [
      "사람의 정상 체온은 약 36.5 도 입니다\n"
     ]
    }
   ],
   "source": [
    "print('사람의 정상 체온은 약 %.1f 도 입니다' % 36.5)"
   ]
  },
  {
   "cell_type": "code",
   "execution_count": 15,
   "id": "8a589b58",
   "metadata": {},
   "outputs": [
    {
     "name": "stdout",
     "output_type": "stream",
     "text": [
      "사람의 정상 체온은 약 36.50 도 입니다\n"
     ]
    }
   ],
   "source": [
    "print('사람의 정상 체온은 약 %.2f 도 입니다' % 36.5)"
   ]
  },
  {
   "cell_type": "markdown",
   "id": "11f47cd1",
   "metadata": {},
   "source": [
    "4) 서식지정자로 문자열 길이 정렬 %길이s"
   ]
  },
  {
   "cell_type": "code",
   "execution_count": 17,
   "id": "3c23626f",
   "metadata": {},
   "outputs": [
    {
     "name": "stdout",
     "output_type": "stream",
     "text": [
      "      10자리\n"
     ]
    }
   ],
   "source": [
    "print('%10s' % '10자리')"
   ]
  },
  {
   "cell_type": "code",
   "execution_count": 18,
   "id": "986b5c0b",
   "metadata": {},
   "outputs": [
    {
     "data": {
      "text/plain": [
       "'      10자리'"
      ]
     },
     "execution_count": 18,
     "metadata": {},
     "output_type": "execute_result"
    }
   ],
   "source": [
    "'%10s' % '10자리'"
   ]
  },
  {
   "cell_type": "markdown",
   "id": "4a361397",
   "metadata": {},
   "source": [
    "숫자 자리수 정렬하기 %자리수d"
   ]
  },
  {
   "cell_type": "code",
   "execution_count": 21,
   "id": "1546f509",
   "metadata": {},
   "outputs": [
    {
     "name": "stdout",
     "output_type": "stream",
     "text": [
      "1500000\n",
      "15000\n"
     ]
    }
   ],
   "source": [
    "print(1500000)\n",
    "print(15000)"
   ]
  },
  {
   "cell_type": "code",
   "execution_count": 2,
   "id": "0bba1d73",
   "metadata": {},
   "outputs": [
    {
     "name": "stdout",
     "output_type": "stream",
     "text": [
      "가격은    1500000 입니다.\n",
      "가격은      15000 입니다.\n",
      "가격은  15.243000 입니다.\n"
     ]
    }
   ],
   "source": [
    "print('가격은 %10d 입니다.' % 1500000)\n",
    "print('가격은 %10d 입니다.' % 15000)\n",
    "print('가격은 %10f 입니다.' % 15.243)"
   ]
  },
  {
   "cell_type": "markdown",
   "id": "24d034c3",
   "metadata": {},
   "source": [
    "5) 여러 항목 동시에 넣기"
   ]
  },
  {
   "cell_type": "code",
   "execution_count": 24,
   "id": "e620c10d",
   "metadata": {},
   "outputs": [
    {
     "name": "stdout",
     "output_type": "stream",
     "text": [
      "오늘은 2024년  7월 16일 입니다.\n"
     ]
    }
   ],
   "source": [
    "print('오늘은 %4d년 %2d월 %2d일 입니다.' % (2024, 7, 16))"
   ]
  },
  {
   "cell_type": "code",
   "execution_count": 4,
   "id": "e4591ba6",
   "metadata": {},
   "outputs": [],
   "source": [
    "company = ['삼성전자','LG전자','현대차','대한항공','하나투어']\n",
    "stock = [71800, 121000, 195000, 31900, 86600]"
   ]
  },
  {
   "cell_type": "code",
   "execution_count": 7,
   "id": "39b60ff2",
   "metadata": {},
   "outputs": [
    {
     "name": "stdout",
     "output_type": "stream",
     "text": [
      "삼성전자 71800\n",
      "LG전자 121000\n",
      "현대차 195000\n",
      "대한항공 31900\n",
      "하나투어 86600\n"
     ]
    }
   ],
   "source": [
    "for com, sto in zip(company, stock):\n",
    "#     print(com[0], com[1])\n",
    "    print(com, sto)\n",
    "#     print(com[1][0], com[1][1])\n",
    "#     print(len(com))"
   ]
  },
  {
   "cell_type": "code",
   "execution_count": 8,
   "id": "478277df",
   "metadata": {},
   "outputs": [
    {
     "name": "stdout",
     "output_type": "stream",
     "text": [
      "삼성전자의 주가는 71800원 입니다.\n",
      "LG전자의 주가는 121000원 입니다.\n",
      "현대차의 주가는 195000원 입니다.\n",
      "대한항공의 주가는 31900원 입니다.\n",
      "하나투어의 주가는 86600원 입니다.\n"
     ]
    }
   ],
   "source": [
    "for com, sto in zip(company, stock):\n",
    "    print(\"%s의 주가는 %d원 입니다.\" % (com, sto))"
   ]
  },
  {
   "cell_type": "markdown",
   "id": "1f0edfe5",
   "metadata": {},
   "source": [
    "## 2. format 메서드 사용하기, f-string 문자열 포메팅\n"
   ]
  },
  {
   "cell_type": "markdown",
   "id": "e6654f9e",
   "metadata": {},
   "source": [
    "1) format 메서드 사용하기<br>\n",
    "'{인덱스}'.format(값)\n"
   ]
  },
  {
   "cell_type": "code",
   "execution_count": 41,
   "id": "b1ba478d",
   "metadata": {},
   "outputs": [
    {
     "name": "stdout",
     "output_type": "stream",
     "text": [
      "삼성전자의 주가는 71.85원 입니다.\n"
     ]
    }
   ],
   "source": [
    "print('{0}의 주가는 {1}원 입니다.'.format('삼성전자', 71.850))"
   ]
  },
  {
   "cell_type": "code",
   "execution_count": 42,
   "id": "ce4bd99d",
   "metadata": {},
   "outputs": [
    {
     "name": "stdout",
     "output_type": "stream",
     "text": [
      "71.85의 주가는 삼성전자원 입니다.\n"
     ]
    }
   ],
   "source": [
    "print('{1}의 주가는 {0}원 입니다.'.format('삼성전자', 71.850))"
   ]
  },
  {
   "cell_type": "code",
   "execution_count": 9,
   "id": "2fac190e",
   "metadata": {},
   "outputs": [
    {
     "name": "stdout",
     "output_type": "stream",
     "text": [
      "삼성전자의 주가는 71.85원 입니다.\n"
     ]
    }
   ],
   "source": [
    "print('{}의 주가는 {}원 입니다.'.format('삼성전자', 71.850))"
   ]
  },
  {
   "cell_type": "code",
   "execution_count": 11,
   "id": "ced1a91e",
   "metadata": {},
   "outputs": [
    {
     "name": "stdout",
     "output_type": "stream",
     "text": [
      "삼성전자의 주가는 71500원 입니다.\n",
      "삼성전자의 상한가는 93000,\n",
      "삼성전자의 하한가는 50200입니다.\n"
     ]
    }
   ],
   "source": [
    "print('{0}의 주가는 {1}원 입니다.\\n{0}의 상한가는 {3},\\n{0}의 하한가는 {2}입니다.'.format('삼성전자', 71500, 50200, 93000))"
   ]
  },
  {
   "cell_type": "markdown",
   "id": "5927a68e",
   "metadata": {},
   "source": [
    "format 메서드에 변수로 값 넣기"
   ]
  },
  {
   "cell_type": "code",
   "execution_count": 45,
   "id": "a0894887",
   "metadata": {},
   "outputs": [],
   "source": [
    "drama = '오징어게임'\n",
    "ranking = 1"
   ]
  },
  {
   "cell_type": "code",
   "execution_count": 46,
   "id": "5368b98d",
   "metadata": {},
   "outputs": [
    {
     "name": "stdout",
     "output_type": "stream",
     "text": [
      "넷플릭스 1위 드라마는 오징어게임입니다.\n"
     ]
    }
   ],
   "source": [
    "print('넷플릭스 {0}위 드라마는 {1}입니다.'.format(ranking, drama))"
   ]
  },
  {
   "cell_type": "code",
   "execution_count": 49,
   "id": "aea6dd81",
   "metadata": {},
   "outputs": [
    {
     "name": "stdout",
     "output_type": "stream",
     "text": [
      "삼성전자의 주가는 71800원 입니다.\n",
      "LG전자의 주가는 121000원 입니다.\n",
      "현대차의 주가는 195000원 입니다.\n",
      "대한항공의 주가는 31900원 입니다.\n",
      "하나투어의 주가는 86600원 입니다.\n"
     ]
    }
   ],
   "source": [
    "for com, sto in zip(company, stock):\n",
    "    print(\"{}의 주가는 {}원 입니다.\".format(com, sto))"
   ]
  },
  {
   "cell_type": "markdown",
   "id": "72443b92",
   "metadata": {},
   "source": [
    "f-string으로 값 넣기 python 3.6부터 사용 가능"
   ]
  },
  {
   "cell_type": "code",
   "execution_count": 50,
   "id": "231c2856",
   "metadata": {},
   "outputs": [
    {
     "name": "stdout",
     "output_type": "stream",
     "text": [
      "삼성전자의 주가는 71800원 입니다.\n",
      "LG전자의 주가는 121000원 입니다.\n",
      "현대차의 주가는 195000원 입니다.\n",
      "대한항공의 주가는 31900원 입니다.\n",
      "하나투어의 주가는 86600원 입니다.\n"
     ]
    }
   ],
   "source": [
    "for com, sto in zip(company, stock):\n",
    "    print(f'{com}의 주가는 {sto}원 입니다.')"
   ]
  },
  {
   "cell_type": "markdown",
   "id": "058184bd",
   "metadata": {},
   "source": [
    "## 3. format 메서드와 f-string으로 문자열 정렬하기, 자리수 지정해 출력하기\n",
    "'{인덱스: <길이}'.foramt(값)<br>\n",
    "f'{값:>길이}'"
   ]
  },
  {
   "cell_type": "markdown",
   "id": "547e3ead",
   "metadata": {},
   "source": [
    "< 10  공간을 10칸 확보하고 글자를 왼쪽정렬"
   ]
  },
  {
   "cell_type": "code",
   "execution_count": 13,
   "id": "aa711f2d",
   "metadata": {},
   "outputs": [
    {
     "name": "stdout",
     "output_type": "stream",
     "text": [
      "삼성전자      \n"
     ]
    }
   ],
   "source": [
    "print('{0:<10}'.format('삼성전자'))"
   ]
  },
  {
   "cell_type": "code",
   "execution_count": 14,
   "id": "c08af4fd",
   "metadata": {},
   "outputs": [
    {
     "data": {
      "text/plain": [
       "'삼성전자      '"
      ]
     },
     "execution_count": 14,
     "metadata": {},
     "output_type": "execute_result"
    }
   ],
   "source": [
    "'{0:<10}'.format('삼성전자')"
   ]
  },
  {
   "cell_type": "code",
   "execution_count": 15,
   "id": "0a9d19d2",
   "metadata": {},
   "outputs": [
    {
     "name": "stdout",
     "output_type": "stream",
     "text": [
      "삼성전자      \n"
     ]
    }
   ],
   "source": [
    "print(f'{\"삼성전자\":<10}')"
   ]
  },
  {
   "cell_type": "code",
   "execution_count": 16,
   "id": "c52b61ec",
   "metadata": {},
   "outputs": [
    {
     "data": {
      "text/plain": [
       "'삼성전자      '"
      ]
     },
     "execution_count": 16,
     "metadata": {},
     "output_type": "execute_result"
    }
   ],
   "source": [
    "f'{\"삼성전자\":<10}'"
   ]
  },
  {
   "cell_type": "markdown",
   "id": "37190318",
   "metadata": {},
   "source": [
    "\\> 10  공간을 10칸 확보하고 오른쪽 정렬"
   ]
  },
  {
   "cell_type": "code",
   "execution_count": 54,
   "id": "35b7bcd9",
   "metadata": {
    "scrolled": true
   },
   "outputs": [
    {
     "name": "stdout",
     "output_type": "stream",
     "text": [
      "      삼성전자\n"
     ]
    }
   ],
   "source": [
    "print('{0:>10}'.format('삼성전자'))"
   ]
  },
  {
   "cell_type": "code",
   "execution_count": 40,
   "id": "33c211d0",
   "metadata": {},
   "outputs": [
    {
     "data": {
      "text/plain": [
       "'      삼성전자'"
      ]
     },
     "execution_count": 40,
     "metadata": {},
     "output_type": "execute_result"
    }
   ],
   "source": [
    "'{0:>10}'.format('삼성전자')"
   ]
  },
  {
   "cell_type": "code",
   "execution_count": 60,
   "id": "4d8101d3",
   "metadata": {},
   "outputs": [
    {
     "name": "stdout",
     "output_type": "stream",
     "text": [
      "      삼성전자\n"
     ]
    }
   ],
   "source": [
    "print(f\"{'삼성전자':>10}\")"
   ]
  },
  {
   "cell_type": "code",
   "execution_count": 17,
   "id": "46323886",
   "metadata": {},
   "outputs": [
    {
     "data": {
      "text/plain": [
       "'      삼성전자'"
      ]
     },
     "execution_count": 17,
     "metadata": {},
     "output_type": "execute_result"
    }
   ],
   "source": [
    "f\"{'삼성전자':>10}\""
   ]
  },
  {
   "cell_type": "markdown",
   "id": "071dbc65",
   "metadata": {},
   "source": [
    "숫자 자리수 맞추고 기본 값 지정하기<br>\n",
    "'{인덱스:채울숫자 길이 서식지정자}'.format(값), 단, 서식 지정자에서 %는 빼고 적는다.<br>\n",
    "f'{값:채울 숫자길이 서식지정자}'"
   ]
  },
  {
   "cell_type": "markdown",
   "id": "10048537",
   "metadata": {},
   "source": [
    "1자리 숫자 앞에 0추가하기"
   ]
  },
  {
   "cell_type": "code",
   "execution_count": 18,
   "id": "37bb9190",
   "metadata": {},
   "outputs": [
    {
     "name": "stdout",
     "output_type": "stream",
     "text": [
      "1월\n"
     ]
    }
   ],
   "source": [
    "print('{0}월'.format(1))"
   ]
  },
  {
   "cell_type": "code",
   "execution_count": 23,
   "id": "e251c6f9",
   "metadata": {},
   "outputs": [
    {
     "name": "stdout",
     "output_type": "stream",
     "text": [
      "01월\n"
     ]
    }
   ],
   "source": [
    "print('{0:02d}월'.format(1))"
   ]
  },
  {
   "cell_type": "code",
   "execution_count": 67,
   "id": "3a91b60c",
   "metadata": {},
   "outputs": [
    {
     "name": "stdout",
     "output_type": "stream",
     "text": [
      "1월\n"
     ]
    }
   ],
   "source": [
    "print(f'{1}월')"
   ]
  },
  {
   "cell_type": "code",
   "execution_count": 27,
   "id": "cb599837",
   "metadata": {},
   "outputs": [
    {
     "name": "stdout",
     "output_type": "stream",
     "text": [
      "01월\n"
     ]
    }
   ],
   "source": [
    "print(f'{1:02d}월')"
   ]
  },
  {
   "cell_type": "code",
   "execution_count": 69,
   "id": "b01ac21a",
   "metadata": {},
   "outputs": [
    {
     "name": "stdout",
     "output_type": "stream",
     "text": [
      "12월\n"
     ]
    }
   ],
   "source": [
    "print(f'{12:02d}월')"
   ]
  },
  {
   "cell_type": "code",
   "execution_count": 71,
   "id": "ee553260",
   "metadata": {},
   "outputs": [
    {
     "name": "stdout",
     "output_type": "stream",
     "text": [
      "0012월\n"
     ]
    }
   ],
   "source": [
    "print(f'{12:04d}월')"
   ]
  },
  {
   "cell_type": "markdown",
   "id": "cf6b02e9",
   "metadata": {},
   "source": [
    "실수의 정수 자리수와 소수점 자리수 지정하기"
   ]
  },
  {
   "cell_type": "code",
   "execution_count": 28,
   "id": "4573052a",
   "metadata": {},
   "outputs": [
    {
     "name": "stdout",
     "output_type": "stream",
     "text": [
      "20.246\n"
     ]
    }
   ],
   "source": [
    "print('{0:2.3f}'.format(20.245678))"
   ]
  },
  {
   "cell_type": "code",
   "execution_count": 81,
   "id": "2c5fb363",
   "metadata": {},
   "outputs": [
    {
     "name": "stdout",
     "output_type": "stream",
     "text": [
      "02.246\n"
     ]
    }
   ],
   "source": [
    "print('{0:06.3f}'.format(2.245678))"
   ]
  },
  {
   "cell_type": "code",
   "execution_count": 82,
   "id": "f0c74ed7",
   "metadata": {},
   "outputs": [
    {
     "name": "stdout",
     "output_type": "stream",
     "text": [
      "20.246\n"
     ]
    }
   ],
   "source": [
    "print(f'{20.245678:2.3f}')"
   ]
  },
  {
   "cell_type": "code",
   "execution_count": 34,
   "id": "6cf9903d",
   "metadata": {},
   "outputs": [
    {
     "name": "stdout",
     "output_type": "stream",
     "text": [
      "4582.2457\n"
     ]
    }
   ],
   "source": [
    "print(f'{4582.245678:07.4f}')"
   ]
  },
  {
   "cell_type": "markdown",
   "id": "f112ca88",
   "metadata": {},
   "source": [
    "1월1일 부터 12월 31일까지 출력하는데 1자리 월, 일에는 01, 02 식으로 0을 붙여서 출력하세요."
   ]
  },
  {
   "cell_type": "code",
   "execution_count": 36,
   "id": "5094c85a",
   "metadata": {},
   "outputs": [
    {
     "name": "stdout",
     "output_type": "stream",
     "text": [
      "01월 01일\n",
      "01월 02일\n",
      "01월 03일\n",
      "01월 04일\n",
      "01월 05일\n",
      "01월 06일\n",
      "01월 07일\n",
      "01월 08일\n",
      "01월 09일\n",
      "01월 10일\n",
      "01월 11일\n",
      "01월 12일\n",
      "01월 13일\n",
      "01월 14일\n",
      "01월 15일\n",
      "01월 16일\n",
      "01월 17일\n",
      "01월 18일\n",
      "01월 19일\n",
      "01월 20일\n",
      "01월 21일\n",
      "01월 22일\n",
      "01월 23일\n",
      "01월 24일\n",
      "01월 25일\n",
      "01월 26일\n",
      "01월 27일\n",
      "01월 28일\n",
      "01월 29일\n",
      "01월 30일\n",
      "01월 31일\n",
      "02월 01일\n",
      "02월 02일\n",
      "02월 03일\n",
      "02월 04일\n",
      "02월 05일\n",
      "02월 06일\n",
      "02월 07일\n",
      "02월 08일\n",
      "02월 09일\n",
      "02월 10일\n",
      "02월 11일\n",
      "02월 12일\n",
      "02월 13일\n",
      "02월 14일\n",
      "02월 15일\n",
      "02월 16일\n",
      "02월 17일\n",
      "02월 18일\n",
      "02월 19일\n",
      "02월 20일\n",
      "02월 21일\n",
      "02월 22일\n",
      "02월 23일\n",
      "02월 24일\n",
      "02월 25일\n",
      "02월 26일\n",
      "02월 27일\n",
      "02월 28일\n",
      "02월 29일\n",
      "02월 30일\n",
      "02월 31일\n",
      "03월 01일\n",
      "03월 02일\n",
      "03월 03일\n",
      "03월 04일\n",
      "03월 05일\n",
      "03월 06일\n",
      "03월 07일\n",
      "03월 08일\n",
      "03월 09일\n",
      "03월 10일\n",
      "03월 11일\n",
      "03월 12일\n",
      "03월 13일\n",
      "03월 14일\n",
      "03월 15일\n",
      "03월 16일\n",
      "03월 17일\n",
      "03월 18일\n",
      "03월 19일\n",
      "03월 20일\n",
      "03월 21일\n",
      "03월 22일\n",
      "03월 23일\n",
      "03월 24일\n",
      "03월 25일\n",
      "03월 26일\n",
      "03월 27일\n",
      "03월 28일\n",
      "03월 29일\n",
      "03월 30일\n",
      "03월 31일\n",
      "04월 01일\n",
      "04월 02일\n",
      "04월 03일\n",
      "04월 04일\n",
      "04월 05일\n",
      "04월 06일\n",
      "04월 07일\n",
      "04월 08일\n",
      "04월 09일\n",
      "04월 10일\n",
      "04월 11일\n",
      "04월 12일\n",
      "04월 13일\n",
      "04월 14일\n",
      "04월 15일\n",
      "04월 16일\n",
      "04월 17일\n",
      "04월 18일\n",
      "04월 19일\n",
      "04월 20일\n",
      "04월 21일\n",
      "04월 22일\n",
      "04월 23일\n",
      "04월 24일\n",
      "04월 25일\n",
      "04월 26일\n",
      "04월 27일\n",
      "04월 28일\n",
      "04월 29일\n",
      "04월 30일\n",
      "04월 31일\n",
      "05월 01일\n",
      "05월 02일\n",
      "05월 03일\n",
      "05월 04일\n",
      "05월 05일\n",
      "05월 06일\n",
      "05월 07일\n",
      "05월 08일\n",
      "05월 09일\n",
      "05월 10일\n",
      "05월 11일\n",
      "05월 12일\n",
      "05월 13일\n",
      "05월 14일\n",
      "05월 15일\n",
      "05월 16일\n",
      "05월 17일\n",
      "05월 18일\n",
      "05월 19일\n",
      "05월 20일\n",
      "05월 21일\n",
      "05월 22일\n",
      "05월 23일\n",
      "05월 24일\n",
      "05월 25일\n",
      "05월 26일\n",
      "05월 27일\n",
      "05월 28일\n",
      "05월 29일\n",
      "05월 30일\n",
      "05월 31일\n",
      "06월 01일\n",
      "06월 02일\n",
      "06월 03일\n",
      "06월 04일\n",
      "06월 05일\n",
      "06월 06일\n",
      "06월 07일\n",
      "06월 08일\n",
      "06월 09일\n",
      "06월 10일\n",
      "06월 11일\n",
      "06월 12일\n",
      "06월 13일\n",
      "06월 14일\n",
      "06월 15일\n",
      "06월 16일\n",
      "06월 17일\n",
      "06월 18일\n",
      "06월 19일\n",
      "06월 20일\n",
      "06월 21일\n",
      "06월 22일\n",
      "06월 23일\n",
      "06월 24일\n",
      "06월 25일\n",
      "06월 26일\n",
      "06월 27일\n",
      "06월 28일\n",
      "06월 29일\n",
      "06월 30일\n",
      "06월 31일\n",
      "07월 01일\n",
      "07월 02일\n",
      "07월 03일\n",
      "07월 04일\n",
      "07월 05일\n",
      "07월 06일\n",
      "07월 07일\n",
      "07월 08일\n",
      "07월 09일\n",
      "07월 10일\n",
      "07월 11일\n",
      "07월 12일\n",
      "07월 13일\n",
      "07월 14일\n",
      "07월 15일\n",
      "07월 16일\n",
      "07월 17일\n",
      "07월 18일\n",
      "07월 19일\n",
      "07월 20일\n",
      "07월 21일\n",
      "07월 22일\n",
      "07월 23일\n",
      "07월 24일\n",
      "07월 25일\n",
      "07월 26일\n",
      "07월 27일\n",
      "07월 28일\n",
      "07월 29일\n",
      "07월 30일\n",
      "07월 31일\n",
      "08월 01일\n",
      "08월 02일\n",
      "08월 03일\n",
      "08월 04일\n",
      "08월 05일\n",
      "08월 06일\n",
      "08월 07일\n",
      "08월 08일\n",
      "08월 09일\n",
      "08월 10일\n",
      "08월 11일\n",
      "08월 12일\n",
      "08월 13일\n",
      "08월 14일\n",
      "08월 15일\n",
      "08월 16일\n",
      "08월 17일\n",
      "08월 18일\n",
      "08월 19일\n",
      "08월 20일\n",
      "08월 21일\n",
      "08월 22일\n",
      "08월 23일\n",
      "08월 24일\n",
      "08월 25일\n",
      "08월 26일\n",
      "08월 27일\n",
      "08월 28일\n",
      "08월 29일\n",
      "08월 30일\n",
      "08월 31일\n",
      "09월 01일\n",
      "09월 02일\n",
      "09월 03일\n",
      "09월 04일\n",
      "09월 05일\n",
      "09월 06일\n",
      "09월 07일\n",
      "09월 08일\n",
      "09월 09일\n",
      "09월 10일\n",
      "09월 11일\n",
      "09월 12일\n",
      "09월 13일\n",
      "09월 14일\n",
      "09월 15일\n",
      "09월 16일\n",
      "09월 17일\n",
      "09월 18일\n",
      "09월 19일\n",
      "09월 20일\n",
      "09월 21일\n",
      "09월 22일\n",
      "09월 23일\n",
      "09월 24일\n",
      "09월 25일\n",
      "09월 26일\n",
      "09월 27일\n",
      "09월 28일\n",
      "09월 29일\n",
      "09월 30일\n",
      "09월 31일\n",
      "10월 01일\n",
      "10월 02일\n",
      "10월 03일\n",
      "10월 04일\n",
      "10월 05일\n",
      "10월 06일\n",
      "10월 07일\n",
      "10월 08일\n",
      "10월 09일\n",
      "10월 10일\n",
      "10월 11일\n",
      "10월 12일\n",
      "10월 13일\n",
      "10월 14일\n",
      "10월 15일\n",
      "10월 16일\n",
      "10월 17일\n",
      "10월 18일\n",
      "10월 19일\n",
      "10월 20일\n",
      "10월 21일\n",
      "10월 22일\n",
      "10월 23일\n",
      "10월 24일\n",
      "10월 25일\n",
      "10월 26일\n",
      "10월 27일\n",
      "10월 28일\n",
      "10월 29일\n",
      "10월 30일\n",
      "10월 31일\n",
      "11월 01일\n",
      "11월 02일\n",
      "11월 03일\n",
      "11월 04일\n",
      "11월 05일\n",
      "11월 06일\n",
      "11월 07일\n",
      "11월 08일\n",
      "11월 09일\n",
      "11월 10일\n",
      "11월 11일\n",
      "11월 12일\n",
      "11월 13일\n",
      "11월 14일\n",
      "11월 15일\n",
      "11월 16일\n",
      "11월 17일\n",
      "11월 18일\n",
      "11월 19일\n",
      "11월 20일\n",
      "11월 21일\n",
      "11월 22일\n",
      "11월 23일\n",
      "11월 24일\n",
      "11월 25일\n",
      "11월 26일\n",
      "11월 27일\n",
      "11월 28일\n",
      "11월 29일\n",
      "11월 30일\n",
      "11월 31일\n",
      "12월 01일\n",
      "12월 02일\n",
      "12월 03일\n",
      "12월 04일\n",
      "12월 05일\n",
      "12월 06일\n",
      "12월 07일\n",
      "12월 08일\n",
      "12월 09일\n",
      "12월 10일\n",
      "12월 11일\n",
      "12월 12일\n",
      "12월 13일\n",
      "12월 14일\n",
      "12월 15일\n",
      "12월 16일\n",
      "12월 17일\n",
      "12월 18일\n",
      "12월 19일\n",
      "12월 20일\n",
      "12월 21일\n",
      "12월 22일\n",
      "12월 23일\n",
      "12월 24일\n",
      "12월 25일\n",
      "12월 26일\n",
      "12월 27일\n",
      "12월 28일\n",
      "12월 29일\n",
      "12월 30일\n",
      "12월 31일\n"
     ]
    }
   ],
   "source": [
    "for i in range(1,13):\n",
    "#     print(f\"{i:02d}\")\n",
    "    for j in range(1,32):\n",
    "        print(\"{0:02d}월 {1:02d}일\".format(i, j))"
   ]
  },
  {
   "cell_type": "code",
   "execution_count": 37,
   "id": "12fcbd1a",
   "metadata": {},
   "outputs": [
    {
     "name": "stdout",
     "output_type": "stream",
     "text": [
      "01월 01일\n",
      "01월 02일\n",
      "01월 03일\n",
      "01월 04일\n",
      "01월 05일\n",
      "01월 06일\n",
      "01월 07일\n",
      "01월 08일\n",
      "01월 09일\n",
      "01월 10일\n",
      "01월 11일\n",
      "01월 12일\n",
      "01월 13일\n",
      "01월 14일\n",
      "01월 15일\n",
      "01월 16일\n",
      "01월 17일\n",
      "01월 18일\n",
      "01월 19일\n",
      "01월 20일\n",
      "01월 21일\n",
      "01월 22일\n",
      "01월 23일\n",
      "01월 24일\n",
      "01월 25일\n",
      "01월 26일\n",
      "01월 27일\n",
      "01월 28일\n",
      "01월 29일\n",
      "01월 30일\n",
      "01월 31일\n",
      "02월 01일\n",
      "02월 02일\n",
      "02월 03일\n",
      "02월 04일\n",
      "02월 05일\n",
      "02월 06일\n",
      "02월 07일\n",
      "02월 08일\n",
      "02월 09일\n",
      "02월 10일\n",
      "02월 11일\n",
      "02월 12일\n",
      "02월 13일\n",
      "02월 14일\n",
      "02월 15일\n",
      "02월 16일\n",
      "02월 17일\n",
      "02월 18일\n",
      "02월 19일\n",
      "02월 20일\n",
      "02월 21일\n",
      "02월 22일\n",
      "02월 23일\n",
      "02월 24일\n",
      "02월 25일\n",
      "02월 26일\n",
      "02월 27일\n",
      "02월 28일\n",
      "02월 29일\n",
      "02월 30일\n",
      "02월 31일\n",
      "03월 01일\n",
      "03월 02일\n",
      "03월 03일\n",
      "03월 04일\n",
      "03월 05일\n",
      "03월 06일\n",
      "03월 07일\n",
      "03월 08일\n",
      "03월 09일\n",
      "03월 10일\n",
      "03월 11일\n",
      "03월 12일\n",
      "03월 13일\n",
      "03월 14일\n",
      "03월 15일\n",
      "03월 16일\n",
      "03월 17일\n",
      "03월 18일\n",
      "03월 19일\n",
      "03월 20일\n",
      "03월 21일\n",
      "03월 22일\n",
      "03월 23일\n",
      "03월 24일\n",
      "03월 25일\n",
      "03월 26일\n",
      "03월 27일\n",
      "03월 28일\n",
      "03월 29일\n",
      "03월 30일\n",
      "03월 31일\n",
      "04월 01일\n",
      "04월 02일\n",
      "04월 03일\n",
      "04월 04일\n",
      "04월 05일\n",
      "04월 06일\n",
      "04월 07일\n",
      "04월 08일\n",
      "04월 09일\n",
      "04월 10일\n",
      "04월 11일\n",
      "04월 12일\n",
      "04월 13일\n",
      "04월 14일\n",
      "04월 15일\n",
      "04월 16일\n",
      "04월 17일\n",
      "04월 18일\n",
      "04월 19일\n",
      "04월 20일\n",
      "04월 21일\n",
      "04월 22일\n",
      "04월 23일\n",
      "04월 24일\n",
      "04월 25일\n",
      "04월 26일\n",
      "04월 27일\n",
      "04월 28일\n",
      "04월 29일\n",
      "04월 30일\n",
      "04월 31일\n",
      "05월 01일\n",
      "05월 02일\n",
      "05월 03일\n",
      "05월 04일\n",
      "05월 05일\n",
      "05월 06일\n",
      "05월 07일\n",
      "05월 08일\n",
      "05월 09일\n",
      "05월 10일\n",
      "05월 11일\n",
      "05월 12일\n",
      "05월 13일\n",
      "05월 14일\n",
      "05월 15일\n",
      "05월 16일\n",
      "05월 17일\n",
      "05월 18일\n",
      "05월 19일\n",
      "05월 20일\n",
      "05월 21일\n",
      "05월 22일\n",
      "05월 23일\n",
      "05월 24일\n",
      "05월 25일\n",
      "05월 26일\n",
      "05월 27일\n",
      "05월 28일\n",
      "05월 29일\n",
      "05월 30일\n",
      "05월 31일\n",
      "06월 01일\n",
      "06월 02일\n",
      "06월 03일\n",
      "06월 04일\n",
      "06월 05일\n",
      "06월 06일\n",
      "06월 07일\n",
      "06월 08일\n",
      "06월 09일\n",
      "06월 10일\n",
      "06월 11일\n",
      "06월 12일\n",
      "06월 13일\n",
      "06월 14일\n",
      "06월 15일\n",
      "06월 16일\n",
      "06월 17일\n",
      "06월 18일\n",
      "06월 19일\n",
      "06월 20일\n",
      "06월 21일\n",
      "06월 22일\n",
      "06월 23일\n",
      "06월 24일\n",
      "06월 25일\n",
      "06월 26일\n",
      "06월 27일\n",
      "06월 28일\n",
      "06월 29일\n",
      "06월 30일\n",
      "06월 31일\n",
      "07월 01일\n",
      "07월 02일\n",
      "07월 03일\n",
      "07월 04일\n",
      "07월 05일\n",
      "07월 06일\n",
      "07월 07일\n",
      "07월 08일\n",
      "07월 09일\n",
      "07월 10일\n",
      "07월 11일\n",
      "07월 12일\n",
      "07월 13일\n",
      "07월 14일\n",
      "07월 15일\n",
      "07월 16일\n",
      "07월 17일\n",
      "07월 18일\n",
      "07월 19일\n",
      "07월 20일\n",
      "07월 21일\n",
      "07월 22일\n",
      "07월 23일\n",
      "07월 24일\n",
      "07월 25일\n",
      "07월 26일\n",
      "07월 27일\n",
      "07월 28일\n",
      "07월 29일\n",
      "07월 30일\n",
      "07월 31일\n",
      "08월 01일\n",
      "08월 02일\n",
      "08월 03일\n",
      "08월 04일\n",
      "08월 05일\n",
      "08월 06일\n",
      "08월 07일\n",
      "08월 08일\n",
      "08월 09일\n",
      "08월 10일\n",
      "08월 11일\n",
      "08월 12일\n",
      "08월 13일\n",
      "08월 14일\n",
      "08월 15일\n",
      "08월 16일\n",
      "08월 17일\n",
      "08월 18일\n",
      "08월 19일\n",
      "08월 20일\n",
      "08월 21일\n",
      "08월 22일\n",
      "08월 23일\n",
      "08월 24일\n",
      "08월 25일\n",
      "08월 26일\n",
      "08월 27일\n",
      "08월 28일\n",
      "08월 29일\n",
      "08월 30일\n",
      "08월 31일\n",
      "09월 01일\n",
      "09월 02일\n",
      "09월 03일\n",
      "09월 04일\n",
      "09월 05일\n",
      "09월 06일\n",
      "09월 07일\n",
      "09월 08일\n",
      "09월 09일\n",
      "09월 10일\n",
      "09월 11일\n",
      "09월 12일\n",
      "09월 13일\n",
      "09월 14일\n",
      "09월 15일\n",
      "09월 16일\n",
      "09월 17일\n",
      "09월 18일\n",
      "09월 19일\n",
      "09월 20일\n",
      "09월 21일\n",
      "09월 22일\n",
      "09월 23일\n",
      "09월 24일\n",
      "09월 25일\n",
      "09월 26일\n",
      "09월 27일\n",
      "09월 28일\n",
      "09월 29일\n",
      "09월 30일\n",
      "09월 31일\n",
      "10월 01일\n",
      "10월 02일\n",
      "10월 03일\n",
      "10월 04일\n",
      "10월 05일\n",
      "10월 06일\n",
      "10월 07일\n",
      "10월 08일\n",
      "10월 09일\n",
      "10월 10일\n",
      "10월 11일\n",
      "10월 12일\n",
      "10월 13일\n",
      "10월 14일\n",
      "10월 15일\n",
      "10월 16일\n",
      "10월 17일\n",
      "10월 18일\n",
      "10월 19일\n",
      "10월 20일\n",
      "10월 21일\n",
      "10월 22일\n",
      "10월 23일\n",
      "10월 24일\n",
      "10월 25일\n",
      "10월 26일\n",
      "10월 27일\n",
      "10월 28일\n",
      "10월 29일\n",
      "10월 30일\n",
      "10월 31일\n",
      "11월 01일\n",
      "11월 02일\n",
      "11월 03일\n",
      "11월 04일\n",
      "11월 05일\n",
      "11월 06일\n",
      "11월 07일\n",
      "11월 08일\n",
      "11월 09일\n",
      "11월 10일\n",
      "11월 11일\n",
      "11월 12일\n",
      "11월 13일\n",
      "11월 14일\n",
      "11월 15일\n",
      "11월 16일\n",
      "11월 17일\n",
      "11월 18일\n",
      "11월 19일\n",
      "11월 20일\n",
      "11월 21일\n",
      "11월 22일\n",
      "11월 23일\n",
      "11월 24일\n",
      "11월 25일\n",
      "11월 26일\n",
      "11월 27일\n",
      "11월 28일\n",
      "11월 29일\n",
      "11월 30일\n",
      "11월 31일\n",
      "12월 01일\n",
      "12월 02일\n",
      "12월 03일\n",
      "12월 04일\n",
      "12월 05일\n",
      "12월 06일\n",
      "12월 07일\n",
      "12월 08일\n",
      "12월 09일\n",
      "12월 10일\n",
      "12월 11일\n",
      "12월 12일\n",
      "12월 13일\n",
      "12월 14일\n",
      "12월 15일\n",
      "12월 16일\n",
      "12월 17일\n",
      "12월 18일\n",
      "12월 19일\n",
      "12월 20일\n",
      "12월 21일\n",
      "12월 22일\n",
      "12월 23일\n",
      "12월 24일\n",
      "12월 25일\n",
      "12월 26일\n",
      "12월 27일\n",
      "12월 28일\n",
      "12월 29일\n",
      "12월 30일\n",
      "12월 31일\n"
     ]
    }
   ],
   "source": [
    "for i in range(1,13):\n",
    "    for j in range(1,32):\n",
    "        print(f\"{i:02d}월 {j:02d}일\")"
   ]
  },
  {
   "cell_type": "markdown",
   "id": "2de08d0d",
   "metadata": {},
   "source": [
    "공백을 원하는 문자로 채우고 자리수 맞추기<br>\n",
    "'{인덱스:원하는 숫자 > < 자리수}'.format(값)"
   ]
  },
  {
   "cell_type": "code",
   "execution_count": 99,
   "id": "c47a20b3",
   "metadata": {},
   "outputs": [
    {
     "data": {
      "text/plain": [
       "'0001'"
      ]
     },
     "execution_count": 99,
     "metadata": {},
     "output_type": "execute_result"
    }
   ],
   "source": [
    "'{0:0>4}'.format(1)"
   ]
  },
  {
   "cell_type": "code",
   "execution_count": 100,
   "id": "7c6d6e60",
   "metadata": {},
   "outputs": [
    {
     "data": {
      "text/plain": [
       "'3331'"
      ]
     },
     "execution_count": 100,
     "metadata": {},
     "output_type": "execute_result"
    }
   ],
   "source": [
    "'{0:3>4}'.format(1)"
   ]
  },
  {
   "cell_type": "code",
   "execution_count": 101,
   "id": "576e7922",
   "metadata": {},
   "outputs": [
    {
     "data": {
      "text/plain": [
       "'1000'"
      ]
     },
     "execution_count": 101,
     "metadata": {},
     "output_type": "execute_result"
    }
   ],
   "source": [
    "'{0:0<4}'.format(1)"
   ]
  },
  {
   "cell_type": "code",
   "execution_count": 102,
   "id": "cbf716ca",
   "metadata": {},
   "outputs": [
    {
     "data": {
      "text/plain": [
       "'1333'"
      ]
     },
     "execution_count": 102,
     "metadata": {},
     "output_type": "execute_result"
    }
   ],
   "source": [
    "'{0:3<4}'.format(1)"
   ]
  },
  {
   "cell_type": "code",
   "execution_count": 103,
   "id": "e8d60202",
   "metadata": {},
   "outputs": [
    {
     "data": {
      "text/plain": [
       "'1$$$'"
      ]
     },
     "execution_count": 103,
     "metadata": {},
     "output_type": "execute_result"
    }
   ],
   "source": [
    "'{0:$<4}'.format(1)"
   ]
  },
  {
   "cell_type": "code",
   "execution_count": 105,
   "id": "6bb83fe7",
   "metadata": {},
   "outputs": [
    {
     "data": {
      "text/plain": [
       "'0001'"
      ]
     },
     "execution_count": 105,
     "metadata": {},
     "output_type": "execute_result"
    }
   ],
   "source": [
    "f'{1:0>4}'"
   ]
  },
  {
   "cell_type": "code",
   "execution_count": 106,
   "id": "25b1b596",
   "metadata": {},
   "outputs": [
    {
     "data": {
      "text/plain": [
       "'1000'"
      ]
     },
     "execution_count": 106,
     "metadata": {},
     "output_type": "execute_result"
    }
   ],
   "source": [
    "f'{1:0<4}'"
   ]
  },
  {
   "cell_type": "code",
   "execution_count": 107,
   "id": "d36fb53e",
   "metadata": {},
   "outputs": [
    {
     "data": {
      "text/plain": [
       "'1$$$'"
      ]
     },
     "execution_count": 107,
     "metadata": {},
     "output_type": "execute_result"
    }
   ],
   "source": [
    "f'{1:$<4}'"
   ]
  },
  {
   "cell_type": "markdown",
   "id": "6e913217",
   "metadata": {},
   "source": [
    ".format f-string으로 url 자동 생성하기 sosok 부분의 값을 01-10까지 변경"
   ]
  },
  {
   "cell_type": "code",
   "execution_count": 108,
   "id": "ec3c0fcd",
   "metadata": {},
   "outputs": [],
   "source": [
    "url = \"https://finance.naver.com/sise/sise_trans_style.naver?sosok=01\""
   ]
  },
  {
   "cell_type": "code",
   "execution_count": 112,
   "id": "e012c4c7",
   "metadata": {},
   "outputs": [
    {
     "name": "stdout",
     "output_type": "stream",
     "text": [
      "https://finance.naver.com/sise/sise_trans_style.naver?sosok=01\n",
      "https://finance.naver.com/sise/sise_trans_style.naver?sosok=02\n",
      "https://finance.naver.com/sise/sise_trans_style.naver?sosok=03\n",
      "https://finance.naver.com/sise/sise_trans_style.naver?sosok=04\n",
      "https://finance.naver.com/sise/sise_trans_style.naver?sosok=05\n",
      "https://finance.naver.com/sise/sise_trans_style.naver?sosok=06\n",
      "https://finance.naver.com/sise/sise_trans_style.naver?sosok=07\n",
      "https://finance.naver.com/sise/sise_trans_style.naver?sosok=08\n",
      "https://finance.naver.com/sise/sise_trans_style.naver?sosok=09\n",
      "https://finance.naver.com/sise/sise_trans_style.naver?sosok=10\n"
     ]
    }
   ],
   "source": [
    "for i in range(1, 11):\n",
    "    print(\"https://finance.naver.com/sise/sise_trans_style.naver?sosok={0:02d}\".format(i))"
   ]
  },
  {
   "cell_type": "code",
   "execution_count": 113,
   "id": "e7c7ff14",
   "metadata": {},
   "outputs": [
    {
     "name": "stdout",
     "output_type": "stream",
     "text": [
      "https://finance.naver.com/sise/sise_trans_style.naver?sosok=01\n",
      "https://finance.naver.com/sise/sise_trans_style.naver?sosok=02\n",
      "https://finance.naver.com/sise/sise_trans_style.naver?sosok=03\n",
      "https://finance.naver.com/sise/sise_trans_style.naver?sosok=04\n",
      "https://finance.naver.com/sise/sise_trans_style.naver?sosok=05\n",
      "https://finance.naver.com/sise/sise_trans_style.naver?sosok=06\n",
      "https://finance.naver.com/sise/sise_trans_style.naver?sosok=07\n",
      "https://finance.naver.com/sise/sise_trans_style.naver?sosok=08\n",
      "https://finance.naver.com/sise/sise_trans_style.naver?sosok=09\n",
      "https://finance.naver.com/sise/sise_trans_style.naver?sosok=10\n"
     ]
    }
   ],
   "source": [
    "for i in range(1, 11):\n",
    "    print(f\"https://finance.naver.com/sise/sise_trans_style.naver?sosok={i:02d}\")"
   ]
  },
  {
   "cell_type": "markdown",
   "id": "fc952f00",
   "metadata": {},
   "source": [
    "파일 이름을 한 번에 바꾸기<br>\n",
    "숫자로 되어 있는 1자리 혹은 2자리수 파일 이름을 앞을 0을 채우는 3자리수 숫자 형태의 문자열로 이름을 변경"
   ]
  },
  {
   "cell_type": "code",
   "execution_count": 42,
   "id": "c68b6154",
   "metadata": {},
   "outputs": [],
   "source": [
    "img_list =['1.jpg', '10.jpg', '11.jpg', '2.jpg', '3.png']"
   ]
  },
  {
   "cell_type": "markdown",
   "id": "ceaf0e7f",
   "metadata": {},
   "source": [
    "img_list2 에 저장<br>\n",
    "['001.jpg', '010.jpg', '011.jpg','002.jpg','003.jpg']"
   ]
  },
  {
   "cell_type": "code",
   "execution_count": 43,
   "id": "a9d37718",
   "metadata": {},
   "outputs": [
    {
     "data": {
      "text/plain": [
       "'0001'"
      ]
     },
     "execution_count": 43,
     "metadata": {},
     "output_type": "execute_result"
    }
   ],
   "source": [
    "# 4자리를 확보하고 1을 가장 오른쪽에 출력하고 왼쪽 나머지 공간을 0을 매꿈\n",
    "f'{1:0>4}'"
   ]
  },
  {
   "cell_type": "code",
   "execution_count": 44,
   "id": "9de7d7c8",
   "metadata": {},
   "outputs": [
    {
     "data": {
      "text/plain": [
       "'001.jpg'"
      ]
     },
     "execution_count": 44,
     "metadata": {},
     "output_type": "execute_result"
    }
   ],
   "source": [
    "f'{img_list[0]:0>7}'"
   ]
  },
  {
   "cell_type": "code",
   "execution_count": 136,
   "id": "f3f5d95a",
   "metadata": {},
   "outputs": [
    {
     "data": {
      "text/plain": [
       "['001.jpg', '010.jpg', '011.jpg', '002.jpg', '003.png']"
      ]
     },
     "execution_count": 136,
     "metadata": {},
     "output_type": "execute_result"
    }
   ],
   "source": [
    "img_list2 = []\n",
    "for img in img_list:\n",
    "    img_list2.append(f'{img:0>7}')\n",
    "img_list2"
   ]
  },
  {
   "cell_type": "code",
   "execution_count": 134,
   "id": "a7cd6d81",
   "metadata": {},
   "outputs": [
    {
     "data": {
      "text/plain": [
       "['001.jpg', '010.jpg', '011.jpg', '002.jpg', '003.png']"
      ]
     },
     "execution_count": 134,
     "metadata": {},
     "output_type": "execute_result"
    }
   ],
   "source": [
    "img_list2 = [f'{img:0>7}' for img in img_list]\n",
    "img_list2"
   ]
  },
  {
   "cell_type": "code",
   "execution_count": 137,
   "id": "54fef04b",
   "metadata": {},
   "outputs": [
    {
     "data": {
      "text/plain": [
       "['001.jpg', '010.jpg', '011.jpg', '002.jpg', '003.png']"
      ]
     },
     "execution_count": 137,
     "metadata": {},
     "output_type": "execute_result"
    }
   ],
   "source": [
    "img_list2 = []\n",
    "for img in img_list:\n",
    "    img_list2.append('{0:0>7}'.format(img))\n",
    "img_list2"
   ]
  },
  {
   "cell_type": "code",
   "execution_count": 138,
   "id": "21151636",
   "metadata": {},
   "outputs": [
    {
     "data": {
      "text/plain": [
       "['001.jpg', '010.jpg', '011.jpg', '002.jpg', '003.png']"
      ]
     },
     "execution_count": 138,
     "metadata": {},
     "output_type": "execute_result"
    }
   ],
   "source": [
    "img_list2 = ['{0:0>7}'.format(img) for img in img_list]\n",
    "img_list2"
   ]
  },
  {
   "cell_type": "code",
   "execution_count": null,
   "id": "42f6837a",
   "metadata": {},
   "outputs": [],
   "source": []
  },
  {
   "cell_type": "code",
   "execution_count": null,
   "id": "84483531",
   "metadata": {},
   "outputs": [],
   "source": []
  },
  {
   "cell_type": "code",
   "execution_count": null,
   "id": "88aadf09",
   "metadata": {},
   "outputs": [],
   "source": []
  },
  {
   "cell_type": "code",
   "execution_count": null,
   "id": "0804d6f2",
   "metadata": {},
   "outputs": [],
   "source": []
  },
  {
   "cell_type": "code",
   "execution_count": null,
   "id": "970c9dc8",
   "metadata": {},
   "outputs": [],
   "source": []
  },
  {
   "cell_type": "code",
   "execution_count": null,
   "id": "15227a61",
   "metadata": {},
   "outputs": [],
   "source": []
  },
  {
   "cell_type": "code",
   "execution_count": null,
   "id": "f82c40ed",
   "metadata": {},
   "outputs": [],
   "source": []
  },
  {
   "cell_type": "code",
   "execution_count": null,
   "id": "0b7d60b7",
   "metadata": {},
   "outputs": [],
   "source": []
  },
  {
   "cell_type": "code",
   "execution_count": null,
   "id": "58b9f969",
   "metadata": {},
   "outputs": [],
   "source": []
  }
 ],
 "metadata": {
  "kernelspec": {
   "display_name": "Python 3 (ipykernel)",
   "language": "python",
   "name": "python3"
  },
  "language_info": {
   "codemirror_mode": {
    "name": "ipython",
    "version": 3
   },
   "file_extension": ".py",
   "mimetype": "text/x-python",
   "name": "python",
   "nbconvert_exporter": "python",
   "pygments_lexer": "ipython3",
   "version": "3.10.14"
  }
 },
 "nbformat": 4,
 "nbformat_minor": 5
}
