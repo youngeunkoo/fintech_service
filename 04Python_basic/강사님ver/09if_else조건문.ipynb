{
 "cells": [
  {
   "cell_type": "markdown",
   "id": "cd43e6bd",
   "metadata": {},
   "source": [
    "# if else 조건문"
   ]
  },
  {
   "cell_type": "markdown",
   "id": "52e943f8",
   "metadata": {},
   "source": [
    "## 1. 조건문이란 특정 조건일 실행하는 문법\n",
    "if 조건식:<br>\n",
    "____조건식이 참일 때 실행할 코드<br>\n",
    "else:<br>\n",
    "____조건식이 거짓일 때 실행할 코드<br>"
   ]
  },
  {
   "cell_type": "code",
   "execution_count": 3,
   "id": "00a9b43e",
   "metadata": {},
   "outputs": [],
   "source": [
    "x = 13"
   ]
  },
  {
   "cell_type": "code",
   "execution_count": 4,
   "id": "bc3c64b0",
   "metadata": {},
   "outputs": [
    {
     "name": "stdout",
     "output_type": "stream",
     "text": [
      "x는 10이 아닌 13 입니다.\n"
     ]
    }
   ],
   "source": [
    "if x == 10:\n",
    "    print('x는', x, '입니다')\n",
    "else:\n",
    "    print('x는 10이 아닌', x, '입니다.')"
   ]
  },
  {
   "cell_type": "code",
   "execution_count": 5,
   "id": "93b275d5",
   "metadata": {},
   "outputs": [],
   "source": [
    "L1 = ['파이썬','조건문',10, 15.3, True, [1,2,3], (4,5,6), {'key':'value'}]"
   ]
  },
  {
   "cell_type": "code",
   "execution_count": 6,
   "id": "12a57fdb",
   "metadata": {},
   "outputs": [
    {
     "data": {
      "text/plain": [
       "True"
      ]
     },
     "execution_count": 6,
     "metadata": {},
     "output_type": "execute_result"
    }
   ],
   "source": [
    "'파이썬' in L1"
   ]
  },
  {
   "cell_type": "code",
   "execution_count": 7,
   "id": "7e90426c",
   "metadata": {
    "scrolled": true
   },
   "outputs": [
    {
     "name": "stdout",
     "output_type": "stream",
     "text": [
      "L1안에 파이썬이 있습니다.\n"
     ]
    }
   ],
   "source": [
    "if '파이썬' in L1:\n",
    "    print('L1안에 파이썬이 있습니다.')"
   ]
  },
  {
   "cell_type": "code",
   "execution_count": 8,
   "id": "9dfea33e",
   "metadata": {},
   "outputs": [
    {
     "name": "stdout",
     "output_type": "stream",
     "text": [
      "L1안에 hello가 없습니다.\n"
     ]
    }
   ],
   "source": [
    "if 'hello' in L1:\n",
    "    print('L1안에 hello가 있습니다.')\n",
    "else:\n",
    "    print('L1안에 hello가 없습니다.')"
   ]
  },
  {
   "cell_type": "markdown",
   "id": "2ed47a5a",
   "metadata": {},
   "source": [
    "* 숫자를 입력받아 홀수인지 짝수인지 판단하는 프로그램"
   ]
  },
  {
   "cell_type": "code",
   "execution_count": 10,
   "id": "7a3d7dbf",
   "metadata": {},
   "outputs": [
    {
     "name": "stdout",
     "output_type": "stream",
     "text": [
      "숫자를 입력하세요: 7\n",
      "입력한 숫자 7 는 홀수 입니다.\n"
     ]
    }
   ],
   "source": [
    "x = input(\"숫자를 입력하세요: \")\n",
    "if int(x) % 2 == 0:\n",
    "    print('입력한 숫자', x, '는 짝수 입니다.')\n",
    "else:\n",
    "    print('입력한 숫자', x, '는 홀수 입니다.')"
   ]
  },
  {
   "cell_type": "markdown",
   "id": "1530f49d",
   "metadata": {},
   "source": [
    "## 2. 다중 조건문 사용하기 elif\n",
    "if 조건식:<br>\n",
    "____조건식이 참일 때 실행할 코드<br>\n",
    "elif 조건식2:<br>\n",
    "____조건식2가 참일 때 실행할 코드<br>\n",
    "elif 조건식3:<br>\n",
    "____조건식3이 참일 때 실행할 코드<br>\n",
    "else:<br>\n",
    "____조건식 1,2,3이 모두 아닐 경우"
   ]
  },
  {
   "cell_type": "markdown",
   "id": "589abd50",
   "metadata": {},
   "source": [
    "점수 학점이 81-100 A, 61-80 B, 41-60 C, 21-40 D, 0-20 F"
   ]
  },
  {
   "cell_type": "markdown",
   "id": "37fdc781",
   "metadata": {},
   "source": [
    "점수를 입력받아서 학점을 출력하는 프로그램"
   ]
  },
  {
   "cell_type": "code",
   "execution_count": 15,
   "id": "464c0a79",
   "metadata": {},
   "outputs": [
    {
     "name": "stdout",
     "output_type": "stream",
     "text": [
      "점수를 입력하세요: -200\n"
     ]
    }
   ],
   "source": [
    "score = int(input(\"점수를 입력하세요: \"))\n",
    "if 0 <= score <= 100:\n",
    "    if 81 <= score <= 100:\n",
    "        print('학점: A')\n",
    "    elif 61 <= score <= 80:\n",
    "        print('학점: B')\n",
    "    elif 41 <= score <= 60:\n",
    "        print('학점: C')\n",
    "    elif 21 <= score <= 40:\n",
    "        print('학점: D')\n",
    "    elif 0 <= score <= 20:\n",
    "        print('학점: F')\n",
    "else:\n",
    "    print(\"점수를 0-100사이로 입력해 주세요.\")\n"
   ]
  },
  {
   "cell_type": "markdown",
   "id": "05c36fdb",
   "metadata": {},
   "source": [
    "국어, 영어, 수학, 과학 점수를 입력해서 평균 80점 이상이면 합격, 미만이면 불합격<br>\n",
    "단, 과목당 60점 미만이 있으면 과락으로 불합격<br>\n",
    "입력 범위는 0-100이며 범위를 벗어나면 '입력범위 초과'를 출력<br>\n",
    "* 1. 입력 점수가 0-100사인인지 체크\n",
    "* 2. 입력된 점수 중 60점 미만이 있는지 체크\n",
    "* 3. 입력된 점수중 60점 이상인 점수들을 더해서 평균을 내고 80점 이상이면 합격, 아니면 불합격"
   ]
  },
  {
   "cell_type": "code",
   "execution_count": 22,
   "id": "d0cd5553",
   "metadata": {},
   "outputs": [
    {
     "name": "stdout",
     "output_type": "stream",
     "text": [
      "국어, 영어, 수학, 과학 점수를 입력해 주세요.90 80 90 80\n",
      "<class 'str'>\n",
      "과락없이 합격입니다. 평균: 85.0\n"
     ]
    }
   ],
   "source": [
    "kor, eng, math, sci= input(\"국어, 영어, 수학, 과학 점수를 입력해 주세요.\").split()\n",
    "print(type(kor))\n",
    "kor = int(kor)\n",
    "eng = int(eng)\n",
    "math = int(math)\n",
    "sci = int(sci)\n",
    "if 0 <= kor <=100 and 0 <= eng <=100 and 0 <= math <=100 and 0 <= sci <=100:\n",
    "    if kor >= 60 and eng >= 60 and math >=60 and sci >= 60:\n",
    "        total = kor + eng + math + sci\n",
    "        mean = total / 4\n",
    "        if mean >= 80:\n",
    "            print('과락없이 합격입니다.', \"평균:\", mean)\n",
    "        else:\n",
    "            print('과락은 없지만 평균 80점 미만으로 불합격 입니다.', '평균:', mean)\n",
    "    else:\n",
    "        print(\"60점 미만인 과목이 있어 과락으로 불합격 입니다.\")\n",
    "else:\n",
    "    print(\"0-100 사이의 점수를 입력해 주세요.\")\n"
   ]
  },
  {
   "cell_type": "markdown",
   "id": "6a67534b",
   "metadata": {},
   "source": [
    "1-50 사이의 숫자를 입력받아서 3의 배수면 3의 배수입니다. 3의 배수가 아닙니다.\n",
    "% 3 == 0 <br>\n",
    "* 입력받기, 숫자로 변환하기\n",
    "* 1- 50 사이의 숫자인가?\n",
    "* 3의 배수인가? % 3 == 0\n",
    "* 출력"
   ]
  },
  {
   "cell_type": "code",
   "execution_count": 30,
   "id": "df745ed4",
   "metadata": {},
   "outputs": [
    {
     "name": "stdout",
     "output_type": "stream",
     "text": [
      "숫자를 입력하세요33\n",
      "3의 배수 입니다.\n"
     ]
    }
   ],
   "source": [
    "num = int(input(\"숫자를 입력하세요\"))\n",
    "if 1 <= num <= 50:\n",
    "    if num % 3 == 0:\n",
    "        print(\"3의 배수 입니다.\")\n",
    "    else:\n",
    "        print(\"3의 배수가 아닙니다.\")    \n",
    "else:\n",
    "    print('1-50 사이의 숫자를 다시 입력하세요')\n",
    "    "
   ]
  },
  {
   "cell_type": "code",
   "execution_count": null,
   "id": "ffc739f6",
   "metadata": {},
   "outputs": [],
   "source": []
  },
  {
   "cell_type": "code",
   "execution_count": null,
   "id": "01b575c3",
   "metadata": {},
   "outputs": [],
   "source": []
  },
  {
   "cell_type": "code",
   "execution_count": null,
   "id": "e178e7d0",
   "metadata": {},
   "outputs": [],
   "source": []
  },
  {
   "cell_type": "code",
   "execution_count": null,
   "id": "53700634",
   "metadata": {},
   "outputs": [],
   "source": []
  }
 ],
 "metadata": {
  "kernelspec": {
   "display_name": "Python 3 (ipykernel)",
   "language": "python",
   "name": "python3"
  },
  "language_info": {
   "codemirror_mode": {
    "name": "ipython",
    "version": 3
   },
   "file_extension": ".py",
   "mimetype": "text/x-python",
   "name": "python",
   "nbconvert_exporter": "python",
   "pygments_lexer": "ipython3",
   "version": "3.10.14"
  }
 },
 "nbformat": 4,
 "nbformat_minor": 5
}
