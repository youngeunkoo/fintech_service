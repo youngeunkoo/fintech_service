{
 "cells": [
  {
   "cell_type": "markdown",
   "id": "84ea3380",
   "metadata": {},
   "source": [
    "# 딕셔너리 dict 사용하기\n",
    "* 딕셔너리형(dictionary) 변수 JSON형이라고도 함.\n",
    "* 웹상에서 가장 많이 사용되는 자료형\n",
    "* 딕셔너리를 잘 이해하면 pandas 도 쉽게 이해 가능\n",
    "* key : value로 이루어진 자료형\n",
    "* key를 호출하면 value가 나온다."
   ]
  },
  {
   "cell_type": "markdown",
   "id": "f7e411cc",
   "metadata": {},
   "source": [
    "## 딕셔너리 만들기: {key : value, key : value}"
   ]
  },
  {
   "cell_type": "code",
   "execution_count": 1,
   "id": "9be92438",
   "metadata": {},
   "outputs": [
    {
     "data": {
      "text/plain": [
       "{'년월': '20240710', '국가': '미국', '방문자수': 1000}"
      ]
     },
     "execution_count": 1,
     "metadata": {},
     "output_type": "execute_result"
    }
   ],
   "source": [
    "d = {'년월' : '20240710', '국가' : '미국', '방문자수' : 1000}\n",
    "d"
   ]
  },
  {
   "cell_type": "code",
   "execution_count": 2,
   "id": "e5a75125",
   "metadata": {},
   "outputs": [
    {
     "data": {
      "text/plain": [
       "'20240710'"
      ]
     },
     "execution_count": 2,
     "metadata": {},
     "output_type": "execute_result"
    }
   ],
   "source": [
    "d['년월']"
   ]
  },
  {
   "cell_type": "code",
   "execution_count": 3,
   "id": "afa22dae",
   "metadata": {},
   "outputs": [
    {
     "data": {
      "text/plain": [
       "1000"
      ]
     },
     "execution_count": 3,
     "metadata": {},
     "output_type": "execute_result"
    }
   ],
   "source": [
    "d['방문자수']"
   ]
  },
  {
   "cell_type": "markdown",
   "id": "d0c80bf8",
   "metadata": {},
   "source": [
    "## 딕셔너리 key의 자료형\n",
    "* 문자열, 정수, 실수, 블린(True, False), tuple\n",
    "* list, dict 는 key가 될 수 없다."
   ]
  },
  {
   "cell_type": "code",
   "execution_count": 4,
   "id": "0eb78eb9",
   "metadata": {},
   "outputs": [
    {
     "data": {
      "text/plain": [
       "{'백': 100, 100: '백', 3.5: [3.6, 3.7], False: 0, (0, '서울'): '종로구'}"
      ]
     },
     "execution_count": 4,
     "metadata": {},
     "output_type": "execute_result"
    }
   ],
   "source": [
    "e = {'백': 100, 100 : '백', 3.5 : [3.6, 3.7], False : 0, (0, '서울') : \"종로구\" }\n",
    "e"
   ]
  },
  {
   "cell_type": "code",
   "execution_count": 5,
   "id": "a8871a97",
   "metadata": {},
   "outputs": [
    {
     "data": {
      "text/plain": [
       "100"
      ]
     },
     "execution_count": 5,
     "metadata": {},
     "output_type": "execute_result"
    }
   ],
   "source": [
    "e['백']"
   ]
  },
  {
   "cell_type": "code",
   "execution_count": 6,
   "id": "79bad846",
   "metadata": {},
   "outputs": [
    {
     "data": {
      "text/plain": [
       "'백'"
      ]
     },
     "execution_count": 6,
     "metadata": {},
     "output_type": "execute_result"
    }
   ],
   "source": [
    "e[100]"
   ]
  },
  {
   "cell_type": "code",
   "execution_count": 7,
   "id": "6a5bef6a",
   "metadata": {},
   "outputs": [
    {
     "data": {
      "text/plain": [
       "[3.6, 3.7]"
      ]
     },
     "execution_count": 7,
     "metadata": {},
     "output_type": "execute_result"
    }
   ],
   "source": [
    "e[3.5]"
   ]
  },
  {
   "cell_type": "code",
   "execution_count": 8,
   "id": "8c2eac04",
   "metadata": {},
   "outputs": [
    {
     "data": {
      "text/plain": [
       "0"
      ]
     },
     "execution_count": 8,
     "metadata": {},
     "output_type": "execute_result"
    }
   ],
   "source": [
    "e[False]"
   ]
  },
  {
   "cell_type": "code",
   "execution_count": 9,
   "id": "e3c11629",
   "metadata": {},
   "outputs": [
    {
     "data": {
      "text/plain": [
       "'종로구'"
      ]
     },
     "execution_count": 9,
     "metadata": {},
     "output_type": "execute_result"
    }
   ],
   "source": [
    "e[(0, '서울')]"
   ]
  },
  {
   "cell_type": "markdown",
   "id": "14434ab0",
   "metadata": {},
   "source": [
    "## 딕셔너리 value의 자료형\n",
    "* value는 모든 자료형이 올 수 있다."
   ]
  },
  {
   "cell_type": "code",
   "execution_count": 10,
   "id": "ae8ffc73",
   "metadata": {},
   "outputs": [
    {
     "data": {
      "text/plain": [
       "{'정수': 100,\n",
       " '실수': 13.5,\n",
       " '문자열': '딕셔너리의 값',\n",
       " '리스트': [1, 2, 3, 4],\n",
       " '튜플': (1, 2, 3, 4),\n",
       " '딕셔너리': {'key': 'value'},\n",
       " '블린': True}"
      ]
     },
     "execution_count": 10,
     "metadata": {},
     "output_type": "execute_result"
    }
   ],
   "source": [
    "f = {'정수': 100, '실수': 13.5, '문자열': '딕셔너리의 값', '리스트': [1,2,3,4],\n",
    "    '튜플': (1,2,3,4), '딕셔너리' : {'key' : 'value'}, '블린' :  True}\n",
    "f"
   ]
  },
  {
   "cell_type": "code",
   "execution_count": 11,
   "id": "67729977",
   "metadata": {},
   "outputs": [
    {
     "data": {
      "text/plain": [
       "3"
      ]
     },
     "execution_count": 11,
     "metadata": {},
     "output_type": "execute_result"
    }
   ],
   "source": [
    "f['리스트'][2]"
   ]
  },
  {
   "cell_type": "code",
   "execution_count": 21,
   "id": "5950da92",
   "metadata": {},
   "outputs": [
    {
     "data": {
      "text/plain": [
       "'value'"
      ]
     },
     "execution_count": 21,
     "metadata": {},
     "output_type": "execute_result"
    }
   ],
   "source": [
    "f['딕셔너리']['key']"
   ]
  },
  {
   "cell_type": "markdown",
   "id": "14ea753f",
   "metadata": {},
   "source": [
    "## 빈 딕셔너리 만들기\n",
    "* {}\n",
    "* dict()"
   ]
  },
  {
   "cell_type": "code",
   "execution_count": 12,
   "id": "f9fbb875",
   "metadata": {},
   "outputs": [
    {
     "data": {
      "text/plain": [
       "{}"
      ]
     },
     "execution_count": 12,
     "metadata": {},
     "output_type": "execute_result"
    }
   ],
   "source": [
    "g = {}\n",
    "g"
   ]
  },
  {
   "cell_type": "code",
   "execution_count": 13,
   "id": "fbf7839b",
   "metadata": {},
   "outputs": [
    {
     "data": {
      "text/plain": [
       "{}"
      ]
     },
     "execution_count": 13,
     "metadata": {},
     "output_type": "execute_result"
    }
   ],
   "source": [
    "h = dict()\n",
    "h"
   ]
  },
  {
   "cell_type": "markdown",
   "id": "e8c7b61e",
   "metadata": {},
   "source": [
    "## 딕셔너리에 자료 추가하기\n",
    "* 변수['key'] = value"
   ]
  },
  {
   "cell_type": "code",
   "execution_count": 14,
   "id": "d8ee5dea",
   "metadata": {},
   "outputs": [
    {
     "data": {
      "text/plain": [
       "{'번호': 0}"
      ]
     },
     "execution_count": 14,
     "metadata": {},
     "output_type": "execute_result"
    }
   ],
   "source": [
    "g['번호'] = 0\n",
    "g"
   ]
  },
  {
   "cell_type": "code",
   "execution_count": 15,
   "id": "3ac85ddb",
   "metadata": {},
   "outputs": [],
   "source": [
    "g['이름'] = '홍길동'"
   ]
  },
  {
   "cell_type": "code",
   "execution_count": 16,
   "id": "f73b1645",
   "metadata": {},
   "outputs": [
    {
     "data": {
      "text/plain": [
       "{'번호': 0, '이름': '홍길동'}"
      ]
     },
     "execution_count": 16,
     "metadata": {},
     "output_type": "execute_result"
    }
   ],
   "source": [
    "g"
   ]
  },
  {
   "cell_type": "markdown",
   "id": "4818d31f",
   "metadata": {},
   "source": [
    "## 딕셔너리의 value 수정하기\n",
    "* g['key'] = 새 value"
   ]
  },
  {
   "cell_type": "code",
   "execution_count": 17,
   "id": "07f2fb6e",
   "metadata": {},
   "outputs": [
    {
     "data": {
      "text/plain": [
       "{'번호': 2, '이름': '홍길동'}"
      ]
     },
     "execution_count": 17,
     "metadata": {},
     "output_type": "execute_result"
    }
   ],
   "source": [
    "g['번호'] = 2\n",
    "g"
   ]
  },
  {
   "cell_type": "code",
   "execution_count": 18,
   "id": "1c233caf",
   "metadata": {},
   "outputs": [
    {
     "data": {
      "text/plain": [
       "{'번호': 2, '이름': '김삼순'}"
      ]
     },
     "execution_count": 18,
     "metadata": {},
     "output_type": "execute_result"
    }
   ],
   "source": [
    "g['이름'] = '김삼순'\n",
    "g"
   ]
  },
  {
   "cell_type": "markdown",
   "id": "5303c1ae",
   "metadata": {},
   "source": [
    "## dict()로 딕셔너리 만들기"
   ]
  },
  {
   "cell_type": "markdown",
   "id": "ceb65f4b",
   "metadata": {},
   "source": [
    "### 1) dict(key1 = value1, key2 = 'value2')\n",
    "* key에 '', \"\"를 사용하지 않는다.\n",
    "* key는 모두 문자로 변환된다.\n",
    "* value가 문자형 자료라면 반드시 \"\",''가 필요하다."
   ]
  },
  {
   "cell_type": "code",
   "execution_count": 19,
   "id": "7975923e",
   "metadata": {},
   "outputs": [
    {
     "data": {
      "text/plain": [
       "{'정수': 100,\n",
       " '실수': 13.5,\n",
       " '문자': '문자열',\n",
       " '리스트': [1, 2, 3],\n",
       " '튜플': (4, 5, 6),\n",
       " '딕셔너리는': {'key': 'value'}}"
      ]
     },
     "execution_count": 19,
     "metadata": {},
     "output_type": "execute_result"
    }
   ],
   "source": [
    "d = dict(정수=100, 실수=13.5, 문자='문자열', 리스트 = [1,2,3], 튜플 = (4,5,6), 딕셔너리는 = {'key':'value'})\n",
    "d"
   ]
  },
  {
   "cell_type": "markdown",
   "id": "67e8798a",
   "metadata": {},
   "source": [
    "### 2) dict([(key1, value1), (key2, value2)]) 형식으로 만들기\n",
    "* 리스트 안에 튜플을 나열해 만듬"
   ]
  },
  {
   "cell_type": "code",
   "execution_count": 21,
   "id": "66361e15",
   "metadata": {},
   "outputs": [
    {
     "data": {
      "text/plain": [
       "{'key1': 100, '실수': 3.14, '리스트': [1, 2, 3], 3.14: 100}"
      ]
     },
     "execution_count": 21,
     "metadata": {},
     "output_type": "execute_result"
    }
   ],
   "source": [
    "d2 = dict([('key1', 100), ('실수', 3.14), ('리스트',[1,2,3]),(3.14, 100)])\n",
    "d2"
   ]
  },
  {
   "cell_type": "code",
   "execution_count": 22,
   "id": "02a6eca3",
   "metadata": {},
   "outputs": [
    {
     "data": {
      "text/plain": [
       "100"
      ]
     },
     "execution_count": 22,
     "metadata": {},
     "output_type": "execute_result"
    }
   ],
   "source": [
    "d2[3.14]"
   ]
  },
  {
   "cell_type": "markdown",
   "id": "0f694adc",
   "metadata": {},
   "source": [
    "### 3) dict(zip([key1, key2], [value1, value2])) 형식으로 만들기\n",
    "* key 묶음 리스트와 value 묶음 리스트를 zip함수로 합친 후 dict로 만듬\n",
    "* key 묶음과 value 묶음은 요소의 개수가 같아야 함"
   ]
  },
  {
   "cell_type": "code",
   "execution_count": 32,
   "id": "61fcecc9",
   "metadata": {},
   "outputs": [
    {
     "data": {
      "text/plain": [
       "{'문자열': '딕셔너리의 값',\n",
       " '리스트': [1, 2, 3, 4],\n",
       " '튜플': (5, 6, 7, 8),\n",
       " '딕셔너리': {'key': 'value'},\n",
       " '블린': True}"
      ]
     },
     "execution_count": 32,
     "metadata": {},
     "output_type": "execute_result"
    }
   ],
   "source": [
    "d3 =  dict(zip(['문자열','리스트','튜플','딕셔너리','블린'],\n",
    "           ['딕셔너리의 값',[1,2,3,4], (5,6,7,8), {'key': 'value'}, True]))\n",
    "d3"
   ]
  },
  {
   "cell_type": "code",
   "execution_count": 31,
   "id": "5dc47237",
   "metadata": {},
   "outputs": [
    {
     "name": "stdout",
     "output_type": "stream",
     "text": [
      "문자열 딕셔너리의 값\n",
      "리스트 [1, 2, 3, 4]\n",
      "튜플 (5, 6, 7, 8)\n",
      "딕셔너리 {'key': 'value'}\n",
      "블린 True\n"
     ]
    }
   ],
   "source": []
  },
  {
   "cell_type": "markdown",
   "id": "09800094",
   "metadata": {},
   "source": [
    "### 딕셔너리에서 값 삭제하기"
   ]
  },
  {
   "cell_type": "code",
   "execution_count": 33,
   "id": "a515d275",
   "metadata": {},
   "outputs": [
    {
     "data": {
      "text/plain": [
       "{'문자열': '딕셔너리의 값',\n",
       " '리스트': [1, 2, 3, 4],\n",
       " '튜플': (5, 6, 7, 8),\n",
       " '딕셔너리': {'key': 'value'},\n",
       " '블린': True}"
      ]
     },
     "execution_count": 33,
     "metadata": {},
     "output_type": "execute_result"
    }
   ],
   "source": [
    "d3"
   ]
  },
  {
   "cell_type": "code",
   "execution_count": 34,
   "id": "b66c758d",
   "metadata": {},
   "outputs": [],
   "source": [
    "d3['믄자열'] = '오타가 난 키값'"
   ]
  },
  {
   "cell_type": "code",
   "execution_count": 35,
   "id": "22c3766d",
   "metadata": {},
   "outputs": [
    {
     "data": {
      "text/plain": [
       "{'문자열': '딕셔너리의 값',\n",
       " '리스트': [1, 2, 3, 4],\n",
       " '튜플': (5, 6, 7, 8),\n",
       " '딕셔너리': {'key': 'value'},\n",
       " '블린': True,\n",
       " '믄자열': '오타가 난 키값'}"
      ]
     },
     "execution_count": 35,
     "metadata": {},
     "output_type": "execute_result"
    }
   ],
   "source": [
    "d3"
   ]
  },
  {
   "cell_type": "markdown",
   "id": "27482730",
   "metadata": {},
   "source": [
    "del 변수명['key'] key와 value가 동시 삭제"
   ]
  },
  {
   "cell_type": "code",
   "execution_count": 36,
   "id": "9a7e6414",
   "metadata": {
    "scrolled": true
   },
   "outputs": [
    {
     "data": {
      "text/plain": [
       "{'문자열': '딕셔너리의 값',\n",
       " '리스트': [1, 2, 3, 4],\n",
       " '튜플': (5, 6, 7, 8),\n",
       " '딕셔너리': {'key': 'value'},\n",
       " '블린': True}"
      ]
     },
     "execution_count": 36,
     "metadata": {},
     "output_type": "execute_result"
    }
   ],
   "source": [
    "del d3['믄자열']\n",
    "d3"
   ]
  },
  {
   "cell_type": "code",
   "execution_count": 38,
   "id": "7a19d3e9",
   "metadata": {},
   "outputs": [
    {
     "data": {
      "text/plain": [
       "2"
      ]
     },
     "execution_count": 38,
     "metadata": {},
     "output_type": "execute_result"
    }
   ],
   "source": [
    "d3['리스트'][1]"
   ]
  },
  {
   "cell_type": "code",
   "execution_count": 39,
   "id": "4d3386e2",
   "metadata": {},
   "outputs": [],
   "source": [
    "del d3['리스트'][1]"
   ]
  },
  {
   "cell_type": "code",
   "execution_count": 40,
   "id": "6ba86a1c",
   "metadata": {},
   "outputs": [
    {
     "data": {
      "text/plain": [
       "[1, 3, 4]"
      ]
     },
     "execution_count": 40,
     "metadata": {},
     "output_type": "execute_result"
    }
   ],
   "source": [
    "d3['리스트']"
   ]
  },
  {
   "cell_type": "code",
   "execution_count": 41,
   "id": "e2c7e462",
   "metadata": {},
   "outputs": [
    {
     "data": {
      "text/plain": [
       "4"
      ]
     },
     "execution_count": 41,
     "metadata": {},
     "output_type": "execute_result"
    }
   ],
   "source": [
    "d3['리스트'].pop()"
   ]
  },
  {
   "cell_type": "code",
   "execution_count": 42,
   "id": "b0aade28",
   "metadata": {},
   "outputs": [
    {
     "data": {
      "text/plain": [
       "{'문자열': '딕셔너리의 값',\n",
       " '리스트': [1, 3],\n",
       " '튜플': (5, 6, 7, 8),\n",
       " '딕셔너리': {'key': 'value'},\n",
       " '블린': True}"
      ]
     },
     "execution_count": 42,
     "metadata": {},
     "output_type": "execute_result"
    }
   ],
   "source": [
    "d3"
   ]
  },
  {
   "cell_type": "code",
   "execution_count": 43,
   "id": "eb85ad42",
   "metadata": {},
   "outputs": [],
   "source": [
    "d3['리스트'].insert(1,2)"
   ]
  },
  {
   "cell_type": "code",
   "execution_count": 44,
   "id": "0d9d3788",
   "metadata": {},
   "outputs": [
    {
     "data": {
      "text/plain": [
       "{'문자열': '딕셔너리의 값',\n",
       " '리스트': [1, 2, 3],\n",
       " '튜플': (5, 6, 7, 8),\n",
       " '딕셔너리': {'key': 'value'},\n",
       " '블린': True}"
      ]
     },
     "execution_count": 44,
     "metadata": {},
     "output_type": "execute_result"
    }
   ],
   "source": [
    "d3"
   ]
  },
  {
   "cell_type": "markdown",
   "id": "9c97e0bd",
   "metadata": {},
   "source": [
    "### 딕셔너리 안에 특정 key가 있는지 확인하기 \n",
    "* in, not in 연산자 사용"
   ]
  },
  {
   "cell_type": "code",
   "execution_count": 50,
   "id": "5e6c0093",
   "metadata": {},
   "outputs": [
    {
     "data": {
      "text/plain": [
       "True"
      ]
     },
     "execution_count": 50,
     "metadata": {},
     "output_type": "execute_result"
    }
   ],
   "source": [
    "'리스트' in d3"
   ]
  },
  {
   "cell_type": "code",
   "execution_count": 51,
   "id": "3889241f",
   "metadata": {},
   "outputs": [
    {
     "data": {
      "text/plain": [
       "True"
      ]
     },
     "execution_count": 51,
     "metadata": {},
     "output_type": "execute_result"
    }
   ],
   "source": [
    "'이름' not in d3"
   ]
  },
  {
   "cell_type": "markdown",
   "id": "b70ffe38",
   "metadata": {},
   "source": [
    "### len() 로 딕셔너리 key 개수 구하기"
   ]
  },
  {
   "cell_type": "code",
   "execution_count": 52,
   "id": "2e02b931",
   "metadata": {},
   "outputs": [
    {
     "data": {
      "text/plain": [
       "5"
      ]
     },
     "execution_count": 52,
     "metadata": {},
     "output_type": "execute_result"
    }
   ],
   "source": [
    "len(d3)"
   ]
  },
  {
   "cell_type": "markdown",
   "id": "d8d5ac52",
   "metadata": {},
   "source": [
    "## 딕셔너리 함수 사용하기"
   ]
  },
  {
   "cell_type": "markdown",
   "id": "e2bc6495",
   "metadata": {},
   "source": [
    "### 1) setdefault(key, value)\n",
    "* 딕셔너리에 key와 value를 추가\n",
    "* key만 지정하면 value는 'None'으로 입력 됨\n",
    "* key가 중복되면 나중에 추가하는 값을 무시함"
   ]
  },
  {
   "cell_type": "code",
   "execution_count": 50,
   "id": "683a0b71",
   "metadata": {},
   "outputs": [
    {
     "data": {
      "text/plain": [
       "{'문자열': '딕셔너리의 값',\n",
       " '리스트': [1, 2, 3],\n",
       " '튜플': (5, 6, 7, 8),\n",
       " '딕셔너리': {'key': 'value'},\n",
       " '블린': True}"
      ]
     },
     "execution_count": 50,
     "metadata": {},
     "output_type": "execute_result"
    }
   ],
   "source": [
    "d3"
   ]
  },
  {
   "cell_type": "code",
   "execution_count": 51,
   "id": "9b20a157",
   "metadata": {},
   "outputs": [
    {
     "data": {
      "text/plain": [
       "{'문자열': '딕셔너리의 값',\n",
       " '리스트': [1, 2, 3],\n",
       " '튜플': (5, 6, 7, 8),\n",
       " '딕셔너리': {'key': 'value'},\n",
       " '블린': True,\n",
       " 'd': None}"
      ]
     },
     "execution_count": 51,
     "metadata": {},
     "output_type": "execute_result"
    }
   ],
   "source": [
    "d3.setdefault('d')\n",
    "d3"
   ]
  },
  {
   "cell_type": "code",
   "execution_count": 52,
   "id": "50914d2f",
   "metadata": {},
   "outputs": [
    {
     "data": {
      "text/plain": [
       "{'문자열': '딕셔너리의 값',\n",
       " '리스트': [1, 2, 3],\n",
       " '튜플': (5, 6, 7, 8),\n",
       " '딕셔너리': {'key': 'value'},\n",
       " '블린': True,\n",
       " 'd': None,\n",
       " 'e': 123}"
      ]
     },
     "execution_count": 52,
     "metadata": {},
     "output_type": "execute_result"
    }
   ],
   "source": [
    "d3.setdefault('e', 123)\n",
    "d3"
   ]
  },
  {
   "cell_type": "markdown",
   "id": "02e70f64",
   "metadata": {},
   "source": [
    "* 딕셔너리는 key를 중복할 수 없다.\n",
    "* 만약 key가 중복되면 나중에 할당한 값으로 변한다."
   ]
  },
  {
   "cell_type": "code",
   "execution_count": 46,
   "id": "65f918e5",
   "metadata": {},
   "outputs": [],
   "source": [
    "a = 1"
   ]
  },
  {
   "cell_type": "code",
   "execution_count": 47,
   "id": "720e8877",
   "metadata": {},
   "outputs": [
    {
     "data": {
      "text/plain": [
       "1"
      ]
     },
     "execution_count": 47,
     "metadata": {},
     "output_type": "execute_result"
    }
   ],
   "source": [
    "a"
   ]
  },
  {
   "cell_type": "code",
   "execution_count": 48,
   "id": "f43915ed",
   "metadata": {},
   "outputs": [],
   "source": [
    "a = 10"
   ]
  },
  {
   "cell_type": "code",
   "execution_count": 49,
   "id": "e93bbf13",
   "metadata": {},
   "outputs": [
    {
     "data": {
      "text/plain": [
       "10"
      ]
     },
     "execution_count": 49,
     "metadata": {},
     "output_type": "execute_result"
    }
   ],
   "source": [
    "a"
   ]
  },
  {
   "cell_type": "code",
   "execution_count": 53,
   "id": "3b961456",
   "metadata": {
    "scrolled": true
   },
   "outputs": [
    {
     "data": {
      "text/plain": [
       "{'문자열': '딕셔너리의 값',\n",
       " '리스트': '리스트지',\n",
       " '튜플': (5, 6, 7, 8),\n",
       " '딕셔너리': {'key': 'value'},\n",
       " '블린': True,\n",
       " 'd': None,\n",
       " 'e': 123}"
      ]
     },
     "execution_count": 53,
     "metadata": {},
     "output_type": "execute_result"
    }
   ],
   "source": [
    "d4 ={'문자열': '딕셔너리의 값', '리스트': [1, 2, 3], '튜플': (5, 6, 7, 8), \n",
    " '딕셔너리': {'key': 'value'}, '블린': True,  'd': None, 'e': 123,\n",
    "    '리스트': '리스트지'}\n",
    "d4"
   ]
  },
  {
   "cell_type": "code",
   "execution_count": 54,
   "id": "2d82fe40",
   "metadata": {},
   "outputs": [],
   "source": [
    "d4['리스트'] = '새로운 값'"
   ]
  },
  {
   "cell_type": "code",
   "execution_count": 55,
   "id": "aec6e014",
   "metadata": {},
   "outputs": [
    {
     "data": {
      "text/plain": [
       "{'문자열': '딕셔너리의 값',\n",
       " '리스트': '새로운 값',\n",
       " '튜플': (5, 6, 7, 8),\n",
       " '딕셔너리': {'key': 'value'},\n",
       " '블린': True,\n",
       " 'd': None,\n",
       " 'e': 123}"
      ]
     },
     "execution_count": 55,
     "metadata": {},
     "output_type": "execute_result"
    }
   ],
   "source": [
    "d4"
   ]
  },
  {
   "cell_type": "markdown",
   "id": "a2354059",
   "metadata": {},
   "source": [
    "* setdefault는 기존에 key가 있는 경우 value를 업데이트 하지 않음."
   ]
  },
  {
   "cell_type": "code",
   "execution_count": 56,
   "id": "200a7281",
   "metadata": {},
   "outputs": [
    {
     "data": {
      "text/plain": [
       "{'문자열': '딕셔너리의 값',\n",
       " '리스트': '새로운 값',\n",
       " '튜플': (5, 6, 7, 8),\n",
       " '딕셔너리': {'key': 'value'},\n",
       " '블린': True,\n",
       " 'd': None,\n",
       " 'e': 123}"
      ]
     },
     "execution_count": 56,
     "metadata": {},
     "output_type": "execute_result"
    }
   ],
   "source": [
    "d4.setdefault('e', 'eeee')\n",
    "d4"
   ]
  },
  {
   "cell_type": "markdown",
   "id": "64b9c79e",
   "metadata": {},
   "source": [
    "### 2) update(key=value) \n",
    "* key는 문자형 key라도 '',\"\"를 사용하지 X\n",
    "* key를 문자형이 아니라 정수, 실수, 튜플로 넣을 경우에는 {key:value} 형식으로 넣는다."
   ]
  },
  {
   "cell_type": "code",
   "execution_count": 57,
   "id": "d5d6a6a5",
   "metadata": {},
   "outputs": [
    {
     "data": {
      "text/plain": [
       "{'문자열': '딕셔너리의 값',\n",
       " '리스트': '새로운 값',\n",
       " '튜플': (5, 6, 7, 8),\n",
       " '딕셔너리': {'key': 'value'},\n",
       " '블린': True,\n",
       " 'd': None,\n",
       " 'e': 'eee'}"
      ]
     },
     "execution_count": 57,
     "metadata": {},
     "output_type": "execute_result"
    }
   ],
   "source": [
    "d4.update(e='eee')\n",
    "d4"
   ]
  },
  {
   "cell_type": "code",
   "execution_count": 58,
   "id": "d69f8db0",
   "metadata": {
    "scrolled": true
   },
   "outputs": [
    {
     "data": {
      "text/plain": [
       "{'문자열': '딕셔너리의 값',\n",
       " '리스트': '새로운 값',\n",
       " '튜플': (5, 6, 7, 8),\n",
       " '딕셔너리': {'key': 'value'},\n",
       " '블린': True,\n",
       " 'd': None,\n",
       " 'e': 'eee',\n",
       " 13: '십삼'}"
      ]
     },
     "execution_count": 58,
     "metadata": {},
     "output_type": "execute_result"
    }
   ],
   "source": [
    "d4.update({13 : '십삼'})\n",
    "d4"
   ]
  },
  {
   "cell_type": "code",
   "execution_count": 59,
   "id": "67a91e22",
   "metadata": {},
   "outputs": [
    {
     "data": {
      "text/plain": [
       "{'문자열': '딕셔너리의 값',\n",
       " '리스트': '새로운 값',\n",
       " '튜플': (5, 6, 7, 8),\n",
       " '딕셔너리': {'key': 'value'},\n",
       " '블린': True,\n",
       " 'd': None,\n",
       " 'e': 'eee',\n",
       " 13: '십삼2'}"
      ]
     },
     "execution_count": 59,
     "metadata": {},
     "output_type": "execute_result"
    }
   ],
   "source": [
    "d4.update({13 : '십삼2'})\n",
    "d4"
   ]
  },
  {
   "cell_type": "code",
   "execution_count": 60,
   "id": "30cedfe9",
   "metadata": {},
   "outputs": [
    {
     "data": {
      "text/plain": [
       "{'문자열': '딕셔너리의 값',\n",
       " '리스트': '새로운 값',\n",
       " '튜플': (5, 6, 7, 8),\n",
       " '딕셔너리': {'key': 'value'},\n",
       " '블린': True,\n",
       " 'd': None,\n",
       " 'e': 'eee',\n",
       " 13: '십삼2',\n",
       " (0, '도시'): '서울시'}"
      ]
     },
     "execution_count": 60,
     "metadata": {},
     "output_type": "execute_result"
    }
   ],
   "source": [
    "d4.update({(0,'도시') : '서울시'})\n",
    "d4"
   ]
  },
  {
   "cell_type": "code",
   "execution_count": 61,
   "id": "30526792",
   "metadata": {},
   "outputs": [
    {
     "data": {
      "text/plain": [
       "{'문자열': '딕셔너리의 값',\n",
       " '리스트': '새로운 값',\n",
       " '튜플': (5, 6, 7, 8),\n",
       " '딕셔너리': {'key': 'value'},\n",
       " '블린': True,\n",
       " 'd': None,\n",
       " 'e': 'eee',\n",
       " 13: '십삼2',\n",
       " (0, '도시'): '서울시',\n",
       " 'a': '십',\n",
       " 'b': '이십',\n",
       " 'c': '삼십'}"
      ]
     },
     "execution_count": 61,
     "metadata": {},
     "output_type": "execute_result"
    }
   ],
   "source": [
    "d4.update([['a', '십'], ['b', '이십'], ['c', '삼십']])\n",
    "d4"
   ]
  },
  {
   "cell_type": "code",
   "execution_count": 62,
   "id": "80d3d0fc",
   "metadata": {},
   "outputs": [
    {
     "data": {
      "text/plain": [
       "{'문자열': '딕셔너리의 값',\n",
       " '리스트': '새로운 값',\n",
       " '튜플': (5, 6, 7, 8),\n",
       " '딕셔너리': {'key': 'value'},\n",
       " '블린': True,\n",
       " 'd': '사십',\n",
       " 'e': '오십',\n",
       " 13: '십삼2',\n",
       " (0, '도시'): '서울시',\n",
       " 'a': '십',\n",
       " 'b': '이십',\n",
       " 'c': '삼십',\n",
       " 'f': '육십'}"
      ]
     },
     "execution_count": 62,
     "metadata": {},
     "output_type": "execute_result"
    }
   ],
   "source": [
    "d4.update((('d', '사십'), ('e', '오십'), ('f', '육십')))\n",
    "d4"
   ]
  },
  {
   "cell_type": "code",
   "execution_count": 63,
   "id": "e4b6e05d",
   "metadata": {},
   "outputs": [],
   "source": [
    "del d4['f']"
   ]
  },
  {
   "cell_type": "code",
   "execution_count": 64,
   "id": "0af197f7",
   "metadata": {},
   "outputs": [
    {
     "data": {
      "text/plain": [
       "{'문자열': '딕셔너리의 값',\n",
       " '리스트': '새로운 값',\n",
       " '튜플': (5, 6, 7, 8),\n",
       " '딕셔너리': {'key': 'value'},\n",
       " '블린': True,\n",
       " 'd': '사십',\n",
       " 'e': '오십',\n",
       " 13: '십삼2',\n",
       " (0, '도시'): '서울시',\n",
       " 'a': '십',\n",
       " 'b': '이십',\n",
       " 'c': '삼십'}"
      ]
     },
     "execution_count": 64,
     "metadata": {},
     "output_type": "execute_result"
    }
   ],
   "source": [
    "d4"
   ]
  },
  {
   "cell_type": "markdown",
   "id": "4c140855",
   "metadata": {},
   "source": [
    "* pop('key')로 삭제하기"
   ]
  },
  {
   "cell_type": "code",
   "execution_count": 65,
   "id": "9e752a48",
   "metadata": {
    "scrolled": true
   },
   "outputs": [
    {
     "data": {
      "text/plain": [
       "'삼십'"
      ]
     },
     "execution_count": 65,
     "metadata": {},
     "output_type": "execute_result"
    }
   ],
   "source": [
    "d4.pop('c')"
   ]
  },
  {
   "cell_type": "code",
   "execution_count": 66,
   "id": "14ccc356",
   "metadata": {},
   "outputs": [
    {
     "data": {
      "text/plain": [
       "{'문자열': '딕셔너리의 값',\n",
       " '리스트': '새로운 값',\n",
       " '튜플': (5, 6, 7, 8),\n",
       " '딕셔너리': {'key': 'value'},\n",
       " '블린': True,\n",
       " 'd': '사십',\n",
       " 'e': '오십',\n",
       " 13: '십삼2',\n",
       " (0, '도시'): '서울시',\n",
       " 'a': '십',\n",
       " 'b': '이십'}"
      ]
     },
     "execution_count": 66,
     "metadata": {},
     "output_type": "execute_result"
    }
   ],
   "source": [
    "d4"
   ]
  },
  {
   "cell_type": "code",
   "execution_count": 69,
   "id": "89c18a9c",
   "metadata": {},
   "outputs": [
    {
     "ename": "KeyError",
     "evalue": "'c'",
     "output_type": "error",
     "traceback": [
      "\u001b[1;31m----------------------------------------------------------\u001b[0m",
      "\u001b[1;31mKeyError\u001b[0m                 Traceback (most recent call last)",
      "Cell \u001b[1;32mIn[69], line 1\u001b[0m\n\u001b[1;32m----> 1\u001b[0m \u001b[38;5;28;01mdel\u001b[39;00m d4[\u001b[38;5;124m'\u001b[39m\u001b[38;5;124mc\u001b[39m\u001b[38;5;124m'\u001b[39m]\n",
      "\u001b[1;31mKeyError\u001b[0m: 'c'"
     ]
    }
   ],
   "source": [
    "del d4['c']"
   ]
  },
  {
   "cell_type": "code",
   "execution_count": 70,
   "id": "9850d059",
   "metadata": {},
   "outputs": [
    {
     "data": {
      "text/plain": [
       "0"
      ]
     },
     "execution_count": 70,
     "metadata": {},
     "output_type": "execute_result"
    }
   ],
   "source": [
    "d4.pop('c',0)"
   ]
  },
  {
   "cell_type": "markdown",
   "id": "c6fd37ae",
   "metadata": {},
   "source": [
    "### 딕셔너리에서 value 가져오는 함수 .get()\n",
    "* .get(key, key가 없을 때 기본 값)"
   ]
  },
  {
   "cell_type": "code",
   "execution_count": 71,
   "id": "448ce94f",
   "metadata": {},
   "outputs": [
    {
     "data": {
      "text/plain": [
       "{'문자열': '딕셔너리의 값',\n",
       " '리스트': '새로운 값',\n",
       " '튜플': (5, 6, 7, 8),\n",
       " '딕셔너리': {'key': 'value'},\n",
       " '블린': True,\n",
       " 'd': '사십',\n",
       " 'e': '오십',\n",
       " 13: '십삼2',\n",
       " (0, '도시'): '서울시',\n",
       " 'a': '십',\n",
       " 'b': '이십'}"
      ]
     },
     "execution_count": 71,
     "metadata": {},
     "output_type": "execute_result"
    }
   ],
   "source": [
    "d4"
   ]
  },
  {
   "cell_type": "code",
   "execution_count": 72,
   "id": "9e062d1a",
   "metadata": {},
   "outputs": [
    {
     "ename": "KeyError",
     "evalue": "'f'",
     "output_type": "error",
     "traceback": [
      "\u001b[1;31m----------------------------------------------------------\u001b[0m",
      "\u001b[1;31mKeyError\u001b[0m                 Traceback (most recent call last)",
      "Cell \u001b[1;32mIn[72], line 1\u001b[0m\n\u001b[1;32m----> 1\u001b[0m \u001b[43md4\u001b[49m\u001b[43m[\u001b[49m\u001b[38;5;124;43m'\u001b[39;49m\u001b[38;5;124;43mf\u001b[39;49m\u001b[38;5;124;43m'\u001b[39;49m\u001b[43m]\u001b[49m\n",
      "\u001b[1;31mKeyError\u001b[0m: 'f'"
     ]
    }
   ],
   "source": [
    "d4['f']"
   ]
  },
  {
   "cell_type": "code",
   "execution_count": 73,
   "id": "0b27f214",
   "metadata": {
    "scrolled": true
   },
   "outputs": [
    {
     "name": "stdout",
     "output_type": "stream",
     "text": [
      "a: 없음\n"
     ]
    }
   ],
   "source": [
    "a = d4.get('f', '없음')\n",
    "print('a:' , a)"
   ]
  },
  {
   "cell_type": "markdown",
   "id": "0adc8e6f",
   "metadata": {},
   "source": [
    "### 딕셔너리에서 key와 value, key, value를 가져오는 함수\n",
    "* items(): dict_items([(key, value),(key, value),(key, value)])\n",
    "* keys(): dict_keys([key1, key2,key3])\n",
    "* values(): dict_values([value1, value2, value3])"
   ]
  },
  {
   "cell_type": "markdown",
   "id": "f9766a96",
   "metadata": {},
   "source": [
    "* items()"
   ]
  },
  {
   "cell_type": "code",
   "execution_count": 74,
   "id": "dc5adf4e",
   "metadata": {},
   "outputs": [
    {
     "data": {
      "text/plain": [
       "{'문자열': '딕셔너리의 값',\n",
       " '리스트': '새로운 값',\n",
       " '튜플': (5, 6, 7, 8),\n",
       " '딕셔너리': {'key': 'value'},\n",
       " '블린': True,\n",
       " 'd': '사십',\n",
       " 'e': '오십',\n",
       " 13: '십삼2',\n",
       " (0, '도시'): '서울시',\n",
       " 'a': '십',\n",
       " 'b': '이십'}"
      ]
     },
     "execution_count": 74,
     "metadata": {},
     "output_type": "execute_result"
    }
   ],
   "source": [
    "d4"
   ]
  },
  {
   "cell_type": "code",
   "execution_count": 77,
   "id": "f0d9ab62",
   "metadata": {
    "scrolled": true
   },
   "outputs": [],
   "source": [
    "d4_items = d4.items()"
   ]
  },
  {
   "cell_type": "code",
   "execution_count": 78,
   "id": "1ef0915d",
   "metadata": {
    "scrolled": false
   },
   "outputs": [
    {
     "name": "stdout",
     "output_type": "stream",
     "text": [
      "<class 'dict_items'>\n"
     ]
    }
   ],
   "source": [
    "print(type(d4_items))"
   ]
  },
  {
   "cell_type": "code",
   "execution_count": 79,
   "id": "b2d4afe5",
   "metadata": {},
   "outputs": [
    {
     "name": "stdout",
     "output_type": "stream",
     "text": [
      "dict_items([('문자열', '딕셔너리의 값'), ('리스트', '새로운 값'), ('튜플', (5, 6, 7, 8)), ('딕셔너리', {'key': 'value'}), ('블린', True), ('d', '사십'), ('e', '오십'), (13, '십삼2'), ((0, '도시'), '서울시'), ('a', '십'), ('b', '이십')])\n"
     ]
    }
   ],
   "source": [
    "print(d4_items)"
   ]
  },
  {
   "cell_type": "code",
   "execution_count": 92,
   "id": "1ad2e687",
   "metadata": {},
   "outputs": [
    {
     "data": {
      "text/plain": [
       "<map at 0x23f0b1f2dd0>"
      ]
     },
     "execution_count": 92,
     "metadata": {},
     "output_type": "execute_result"
    }
   ],
   "source": [
    "map(float, [1,2,3])"
   ]
  },
  {
   "cell_type": "code",
   "execution_count": 91,
   "id": "3efad2a3",
   "metadata": {
    "scrolled": true
   },
   "outputs": [
    {
     "name": "stdout",
     "output_type": "stream",
     "text": [
      "1.0 <class 'float'>\n",
      "2.0 <class 'float'>\n",
      "3.0 <class 'float'>\n"
     ]
    }
   ],
   "source": [
    "for i in map(float, [1,2,3]):\n",
    "    print(i, type(i))"
   ]
  },
  {
   "cell_type": "code",
   "execution_count": 93,
   "id": "832c73ac",
   "metadata": {},
   "outputs": [
    {
     "ename": "TypeError",
     "evalue": "'dict_items' object is not subscriptable",
     "output_type": "error",
     "traceback": [
      "\u001b[1;31m----------------------------------------------------------\u001b[0m",
      "\u001b[1;31mTypeError\u001b[0m                Traceback (most recent call last)",
      "Cell \u001b[1;32mIn[93], line 1\u001b[0m\n\u001b[1;32m----> 1\u001b[0m \u001b[43md4_items\u001b[49m\u001b[43m[\u001b[49m\u001b[38;5;241;43m0\u001b[39;49m\u001b[43m]\u001b[49m\n",
      "\u001b[1;31mTypeError\u001b[0m: 'dict_items' object is not subscriptable"
     ]
    }
   ],
   "source": [
    "d4_items[0]"
   ]
  },
  {
   "cell_type": "code",
   "execution_count": 94,
   "id": "b26cf4be",
   "metadata": {},
   "outputs": [
    {
     "name": "stdout",
     "output_type": "stream",
     "text": [
      "[('문자열', '딕셔너리의 값'), ('리스트', '새로운 값'), ('튜플', (5, 6, 7, 8)), ('딕셔너리', {'key': 'value'}), ('블린', True), ('d', '사십'), ('e', '오십'), (13, '십삼2'), ((0, '도시'), '서울시'), ('a', '십'), ('b', '이십')]\n",
      "<class 'list'>\n"
     ]
    }
   ],
   "source": [
    "d4_items_list = list(d4_items)\n",
    "print(d4_items_list)\n",
    "print(type(d4_items_list))"
   ]
  },
  {
   "cell_type": "code",
   "execution_count": 95,
   "id": "db19a0ee",
   "metadata": {},
   "outputs": [
    {
     "data": {
      "text/plain": [
       "'딕셔너리의 값'"
      ]
     },
     "execution_count": 95,
     "metadata": {},
     "output_type": "execute_result"
    }
   ],
   "source": [
    "d4_items_list[0][1]"
   ]
  },
  {
   "cell_type": "code",
   "execution_count": 97,
   "id": "909b322a",
   "metadata": {
    "scrolled": true
   },
   "outputs": [
    {
     "data": {
      "text/plain": [
       "[('문자열', '딕셔너리의 값'),\n",
       " ('리스트', '새로운 값'),\n",
       " ('튜플', (5, 6, 7, 8)),\n",
       " ('딕셔너리', {'key': 'value'}),\n",
       " ('블린', True)]"
      ]
     },
     "execution_count": 97,
     "metadata": {},
     "output_type": "execute_result"
    }
   ],
   "source": [
    "d4_items_list[:5]"
   ]
  },
  {
   "cell_type": "code",
   "execution_count": 98,
   "id": "c1da938e",
   "metadata": {},
   "outputs": [
    {
     "name": "stdout",
     "output_type": "stream",
     "text": [
      "문자열\n",
      "딕셔너리의 값\n"
     ]
    }
   ],
   "source": [
    "a, b = ('문자열', '딕셔너리의 값')\n",
    "print(a)\n",
    "print(b)"
   ]
  },
  {
   "cell_type": "code",
   "execution_count": 117,
   "id": "db211203",
   "metadata": {},
   "outputs": [
    {
     "name": "stdout",
     "output_type": "stream",
     "text": [
      "문자열 딕셔너리의 값\n",
      "리스트 새로운 값\n",
      "튜플 (5, 6, 7, 8)\n",
      "딕셔너리 {'key': 'value'}\n",
      "블린 True\n",
      "d 사십\n",
      "e 오십\n",
      "13 십삼\n",
      "(0, '도시') 서울시\n",
      "a 십\n",
      "b 이십\n"
     ]
    }
   ],
   "source": [
    "for key, value in d4.items():\n",
    "    print(key, value)"
   ]
  },
  {
   "cell_type": "code",
   "execution_count": 108,
   "id": "6e70d502",
   "metadata": {
    "scrolled": true
   },
   "outputs": [
    {
     "name": "stdout",
     "output_type": "stream",
     "text": [
      "('문자열', '딕셔너리의 값')\n",
      "('리스트', '새로운 값')\n",
      "('튜플', (5, 6, 7, 8))\n",
      "('딕셔너리', {'key': 'value'})\n",
      "('블린', True)\n",
      "('d', '사십')\n",
      "('e', '오십')\n",
      "(13, '십삼')\n",
      "((0, '도시'), '서울시')\n",
      "('a', '십')\n",
      "('b', '이십')\n"
     ]
    }
   ],
   "source": [
    "for i in d4_items:\n",
    "    print(i)"
   ]
  },
  {
   "cell_type": "markdown",
   "id": "e1340e0b",
   "metadata": {},
   "source": [
    "* keys(): key만 출력"
   ]
  },
  {
   "cell_type": "code",
   "execution_count": 99,
   "id": "49c41238",
   "metadata": {},
   "outputs": [
    {
     "data": {
      "text/plain": [
       "dict_keys(['문자열', '리스트', '튜플', '딕셔너리', '블린', 'd', 'e', 13, (0, '도시'), 'a', 'b'])"
      ]
     },
     "execution_count": 99,
     "metadata": {},
     "output_type": "execute_result"
    }
   ],
   "source": [
    "d4.keys()"
   ]
  },
  {
   "cell_type": "code",
   "execution_count": 100,
   "id": "277bb385",
   "metadata": {},
   "outputs": [
    {
     "name": "stdout",
     "output_type": "stream",
     "text": [
      "<class 'dict_keys'>\n"
     ]
    }
   ],
   "source": [
    "print(type(d4.keys()))"
   ]
  },
  {
   "cell_type": "code",
   "execution_count": 101,
   "id": "580e9f83",
   "metadata": {},
   "outputs": [
    {
     "data": {
      "text/plain": [
       "['문자열', '리스트', '튜플', '딕셔너리', '블린', 'd', 'e', 13, (0, '도시'), 'a', 'b']"
      ]
     },
     "execution_count": 101,
     "metadata": {},
     "output_type": "execute_result"
    }
   ],
   "source": [
    "d4_keys = list(d4.keys())\n",
    "d4_keys"
   ]
  },
  {
   "cell_type": "code",
   "execution_count": 102,
   "id": "30462593",
   "metadata": {},
   "outputs": [
    {
     "data": {
      "text/plain": [
       "'문자열'"
      ]
     },
     "execution_count": 102,
     "metadata": {},
     "output_type": "execute_result"
    }
   ],
   "source": [
    "d4_keys[0]"
   ]
  },
  {
   "cell_type": "markdown",
   "id": "33f74cb1",
   "metadata": {},
   "source": [
    "* values: values만 가져옴"
   ]
  },
  {
   "cell_type": "code",
   "execution_count": 123,
   "id": "14040c02",
   "metadata": {},
   "outputs": [
    {
     "data": {
      "text/plain": [
       "dict_values(['딕셔너리의 값', '새로운 값', (5, 6, 7, 8), {'key': 'value'}, True, '사십', '오십', '십삼', '서울시', '십', '이십'])"
      ]
     },
     "execution_count": 123,
     "metadata": {},
     "output_type": "execute_result"
    }
   ],
   "source": [
    "d4.values()"
   ]
  },
  {
   "cell_type": "code",
   "execution_count": 125,
   "id": "b9218de1",
   "metadata": {},
   "outputs": [
    {
     "name": "stdout",
     "output_type": "stream",
     "text": [
      "<class 'dict_values'>\n"
     ]
    }
   ],
   "source": [
    "print(type(d4.values()))"
   ]
  },
  {
   "cell_type": "code",
   "execution_count": 127,
   "id": "66785c8c",
   "metadata": {},
   "outputs": [
    {
     "data": {
      "text/plain": [
       "('딕셔너리의 값',\n",
       " '새로운 값',\n",
       " (5, 6, 7, 8),\n",
       " {'key': 'value'},\n",
       " True,\n",
       " '사십',\n",
       " '오십',\n",
       " '십삼',\n",
       " '서울시',\n",
       " '십',\n",
       " '이십')"
      ]
     },
     "execution_count": 127,
     "metadata": {},
     "output_type": "execute_result"
    }
   ],
   "source": [
    "d4_tuple = tuple(d4.values())\n",
    "d4_tuple"
   ]
  },
  {
   "cell_type": "code",
   "execution_count": 129,
   "id": "c3a8184e",
   "metadata": {},
   "outputs": [
    {
     "data": {
      "text/plain": [
       "('딕셔너리의 값', '새로운 값', (5, 6, 7, 8), {'key': 'value'})"
      ]
     },
     "execution_count": 129,
     "metadata": {},
     "output_type": "execute_result"
    }
   ],
   "source": [
    "d4_tuple[:4]"
   ]
  },
  {
   "cell_type": "code",
   "execution_count": null,
   "id": "8ef8025b",
   "metadata": {},
   "outputs": [],
   "source": []
  },
  {
   "cell_type": "code",
   "execution_count": null,
   "id": "be3c2c6f",
   "metadata": {},
   "outputs": [],
   "source": []
  },
  {
   "cell_type": "code",
   "execution_count": null,
   "id": "1a7c0be2",
   "metadata": {},
   "outputs": [],
   "source": []
  },
  {
   "cell_type": "code",
   "execution_count": null,
   "id": "4e1f43ca",
   "metadata": {},
   "outputs": [],
   "source": []
  },
  {
   "cell_type": "code",
   "execution_count": null,
   "id": "2007fc33",
   "metadata": {},
   "outputs": [],
   "source": []
  },
  {
   "cell_type": "code",
   "execution_count": null,
   "id": "396b05c7",
   "metadata": {},
   "outputs": [],
   "source": []
  },
  {
   "cell_type": "code",
   "execution_count": null,
   "id": "bcd1a704",
   "metadata": {},
   "outputs": [],
   "source": []
  },
  {
   "cell_type": "code",
   "execution_count": null,
   "id": "57f321cc",
   "metadata": {},
   "outputs": [],
   "source": []
  }
 ],
 "metadata": {
  "kernelspec": {
   "display_name": "Python 3 (ipykernel)",
   "language": "python",
   "name": "python3"
  },
  "language_info": {
   "codemirror_mode": {
    "name": "ipython",
    "version": 3
   },
   "file_extension": ".py",
   "mimetype": "text/x-python",
   "name": "python",
   "nbconvert_exporter": "python",
   "pygments_lexer": "ipython3",
   "version": "3.10.14"
  }
 },
 "nbformat": 4,
 "nbformat_minor": 5
}
