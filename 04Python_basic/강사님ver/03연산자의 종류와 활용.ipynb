{
 "cells": [
  {
   "cell_type": "markdown",
   "id": "bccde2ca",
   "metadata": {},
   "source": [
    "# 3. 연산자의 종류와 활용"
   ]
  },
  {
   "cell_type": "markdown",
   "id": "072571a8",
   "metadata": {},
   "source": [
    "## 1) 연산자의 종류\n",
    "* 산술연산자: +,-,*,/,%,//,**\n",
    "* 할당연산자: =, +=, -=, *=, /=,%=\n",
    "* 비교연산자: ==, !=, >, <, >=, <=\n",
    "* 논리연산자: and, or, not\n",
    "* 식별연산자: is, is not\n",
    "* 멤버연산자: in, not in"
   ]
  },
  {
   "cell_type": "markdown",
   "id": "ed2a484e",
   "metadata": {},
   "source": [
    "* 산술연산자: +,-,\\*,/,%,//,\\**"
   ]
  },
  {
   "cell_type": "code",
   "execution_count": 1,
   "id": "6083862e",
   "metadata": {},
   "outputs": [
    {
     "data": {
      "text/plain": [
       "2"
      ]
     },
     "execution_count": 1,
     "metadata": {},
     "output_type": "execute_result"
    }
   ],
   "source": [
    "1 + 1"
   ]
  },
  {
   "cell_type": "code",
   "execution_count": 2,
   "id": "d14cd563",
   "metadata": {},
   "outputs": [
    {
     "data": {
      "text/plain": [
       "2"
      ]
     },
     "execution_count": 2,
     "metadata": {},
     "output_type": "execute_result"
    }
   ],
   "source": [
    "5 - 3"
   ]
  },
  {
   "cell_type": "code",
   "execution_count": 3,
   "id": "376071e9",
   "metadata": {},
   "outputs": [
    {
     "data": {
      "text/plain": [
       "81"
      ]
     },
     "execution_count": 3,
     "metadata": {},
     "output_type": "execute_result"
    }
   ],
   "source": [
    "9 * 9"
   ]
  },
  {
   "cell_type": "code",
   "execution_count": 4,
   "id": "89b9f285",
   "metadata": {},
   "outputs": [
    {
     "data": {
      "text/plain": [
       "199.33333333333334"
      ]
     },
     "execution_count": 4,
     "metadata": {},
     "output_type": "execute_result"
    }
   ],
   "source": [
    "598 / 3"
   ]
  },
  {
   "cell_type": "code",
   "execution_count": 6,
   "id": "052703ff",
   "metadata": {},
   "outputs": [
    {
     "data": {
      "text/plain": [
       "2.0"
      ]
     },
     "execution_count": 6,
     "metadata": {},
     "output_type": "execute_result"
    }
   ],
   "source": [
    "# 정수 / 정수 = 실수\n",
    "4 / 2"
   ]
  },
  {
   "cell_type": "code",
   "execution_count": 7,
   "id": "95758e90",
   "metadata": {},
   "outputs": [
    {
     "name": "stdout",
     "output_type": "stream",
     "text": [
      "<class 'int'> 4\n",
      "<class 'int'> 2\n",
      "<class 'float'> 2.0\n"
     ]
    }
   ],
   "source": [
    "a = 4\n",
    "b = 2\n",
    "c = a / b\n",
    "print(type(a), a)\n",
    "print(type(b), b)\n",
    "print(type(c), c)"
   ]
  },
  {
   "cell_type": "code",
   "execution_count": 8,
   "id": "0e7dba7d",
   "metadata": {},
   "outputs": [
    {
     "data": {
      "text/plain": [
       "0"
      ]
     },
     "execution_count": 8,
     "metadata": {},
     "output_type": "execute_result"
    }
   ],
   "source": [
    "4 % 2 "
   ]
  },
  {
   "cell_type": "code",
   "execution_count": 9,
   "id": "19c2ea66",
   "metadata": {},
   "outputs": [
    {
     "data": {
      "text/plain": [
       "1"
      ]
     },
     "execution_count": 9,
     "metadata": {},
     "output_type": "execute_result"
    }
   ],
   "source": [
    "5 % 2"
   ]
  },
  {
   "cell_type": "code",
   "execution_count": 10,
   "id": "0ac97cc5",
   "metadata": {},
   "outputs": [
    {
     "data": {
      "text/plain": [
       "3"
      ]
     },
     "execution_count": 10,
     "metadata": {},
     "output_type": "execute_result"
    }
   ],
   "source": [
    "6 // 2"
   ]
  },
  {
   "cell_type": "code",
   "execution_count": 11,
   "id": "af45d914",
   "metadata": {},
   "outputs": [
    {
     "data": {
      "text/plain": [
       "2"
      ]
     },
     "execution_count": 11,
     "metadata": {},
     "output_type": "execute_result"
    }
   ],
   "source": [
    "5 // 2"
   ]
  },
  {
   "cell_type": "code",
   "execution_count": 12,
   "id": "e2f457f1",
   "metadata": {},
   "outputs": [
    {
     "data": {
      "text/plain": [
       "9"
      ]
     },
     "execution_count": 12,
     "metadata": {},
     "output_type": "execute_result"
    }
   ],
   "source": [
    "3 ** 2"
   ]
  },
  {
   "cell_type": "markdown",
   "id": "defe0921",
   "metadata": {},
   "source": [
    "* 괄호를 사용해서 연산 우선순위 지정하기"
   ]
  },
  {
   "cell_type": "code",
   "execution_count": 13,
   "id": "510df3c8",
   "metadata": {},
   "outputs": [
    {
     "data": {
      "text/plain": [
       "23"
      ]
     },
     "execution_count": 13,
     "metadata": {},
     "output_type": "execute_result"
    }
   ],
   "source": [
    "3 + 4 * 5"
   ]
  },
  {
   "cell_type": "code",
   "execution_count": 14,
   "id": "7886ae7e",
   "metadata": {},
   "outputs": [
    {
     "data": {
      "text/plain": [
       "35"
      ]
     },
     "execution_count": 14,
     "metadata": {},
     "output_type": "execute_result"
    }
   ],
   "source": [
    "(3 + 4) * 5"
   ]
  },
  {
   "cell_type": "markdown",
   "id": "3fa7a449",
   "metadata": {},
   "source": [
    "## 3의 4제곱에서 100을 뺀 값의 3제곱을 5로 나눈 몫에 1을 더한 값을 구하시오."
   ]
  },
  {
   "cell_type": "code",
   "execution_count": 15,
   "id": "ee95653d",
   "metadata": {},
   "outputs": [
    {
     "data": {
      "text/plain": [
       "-1371"
      ]
     },
     "execution_count": 15,
     "metadata": {},
     "output_type": "execute_result"
    }
   ],
   "source": [
    "((((3 ** 4) - 100) ** 3) // 5) + 1"
   ]
  },
  {
   "cell_type": "markdown",
   "id": "7f040d7c",
   "metadata": {},
   "source": [
    "초를 입력하면 ‘몇 분 몇 초’로 환산해주는 코드를 다음과 같이 출력하도록 작성하세요.\n",
    "* input(\"초를 입력하세요: \")\n",
    "\n",
    "초를 입력하세요:1234<br>\n",
    "1234 초(sec)는 20 분(min) 34 초(sec)입니다"
   ]
  },
  {
   "cell_type": "markdown",
   "id": "946f7324",
   "metadata": {},
   "source": [
    "* int(): 데이터 타입을 int로 형변환\n",
    "* float(): 데이터 타입을 float으로 형변환\n",
    "* str(): 데이터 타입을 str로 형변환\n",
    "* list(): 데이터 타입을 list로 형변환\n",
    "* tuple(): 데이터 타입을 tuple로 형변환\n",
    "* dict(): 데이터 타입을 dict로 형변환"
   ]
  },
  {
   "cell_type": "code",
   "execution_count": 25,
   "id": "40243302",
   "metadata": {},
   "outputs": [
    {
     "name": "stdout",
     "output_type": "stream",
     "text": [
      "초를 입력하세요: 1234\n",
      "1234 <class 'int'>\n",
      "1234 초(sec)는 20 분(minute) 34 초(sec2)입니다.\n"
     ]
    }
   ],
   "source": [
    "sec = int(input(\"초를 입력하세요: \"))\n",
    "print(sec, type(sec))\n",
    "minute = sec // 60\n",
    "sec2 = sec % 60\n",
    "print(sec, \"초(sec)는\", minute, \"분(minute)\", sec2, \"초(sec2)입니다.\")"
   ]
  },
  {
   "cell_type": "markdown",
   "id": "cc2aa285",
   "metadata": {},
   "source": [
    "* 할당연산자: =, +=, -=, *=, /=,%="
   ]
  },
  {
   "cell_type": "markdown",
   "id": "ce158949",
   "metadata": {},
   "source": [
    "= 오른쪽의 자료를 왼쪽 변수에 할당"
   ]
  },
  {
   "cell_type": "code",
   "execution_count": 26,
   "id": "bf2901b7",
   "metadata": {},
   "outputs": [
    {
     "data": {
      "text/plain": [
       "2"
      ]
     },
     "execution_count": 26,
     "metadata": {},
     "output_type": "execute_result"
    }
   ],
   "source": [
    "a = 2\n",
    "a"
   ]
  },
  {
   "cell_type": "markdown",
   "id": "1b3964fa",
   "metadata": {},
   "source": [
    "* += 왼쪽 변수 값에 오른쪽 값을 더해서 왼쪽 변수에 할당"
   ]
  },
  {
   "cell_type": "code",
   "execution_count": 27,
   "id": "db91af5b",
   "metadata": {},
   "outputs": [
    {
     "data": {
      "text/plain": [
       "3"
      ]
     },
     "execution_count": 27,
     "metadata": {},
     "output_type": "execute_result"
    }
   ],
   "source": [
    "# a = a + 1 \n",
    "a += 1\n",
    "a"
   ]
  },
  {
   "cell_type": "code",
   "execution_count": 28,
   "id": "0afecfd2",
   "metadata": {},
   "outputs": [
    {
     "data": {
      "text/plain": [
       "2"
      ]
     },
     "execution_count": 28,
     "metadata": {},
     "output_type": "execute_result"
    }
   ],
   "source": [
    "# a = a - 1\n",
    "a -= 1\n",
    "a"
   ]
  },
  {
   "cell_type": "code",
   "execution_count": 30,
   "id": "bef33893",
   "metadata": {},
   "outputs": [
    {
     "data": {
      "text/plain": [
       "8"
      ]
     },
     "execution_count": 30,
     "metadata": {},
     "output_type": "execute_result"
    }
   ],
   "source": [
    "# a = a * 2\n",
    "a *= 2\n",
    "a"
   ]
  },
  {
   "cell_type": "code",
   "execution_count": 31,
   "id": "e161936d",
   "metadata": {},
   "outputs": [
    {
     "data": {
      "text/plain": [
       "4.0"
      ]
     },
     "execution_count": 31,
     "metadata": {},
     "output_type": "execute_result"
    }
   ],
   "source": [
    "# a = a / 2\n",
    "a /= 2\n",
    "a"
   ]
  },
  {
   "cell_type": "code",
   "execution_count": 32,
   "id": "b58ff159",
   "metadata": {},
   "outputs": [
    {
     "data": {
      "text/plain": [
       "0.0"
      ]
     },
     "execution_count": 32,
     "metadata": {},
     "output_type": "execute_result"
    }
   ],
   "source": [
    "a %= 2\n",
    "a "
   ]
  },
  {
   "cell_type": "code",
   "execution_count": 33,
   "id": "645378e2",
   "metadata": {},
   "outputs": [
    {
     "data": {
      "text/plain": [
       "2.0"
      ]
     },
     "execution_count": 33,
     "metadata": {},
     "output_type": "execute_result"
    }
   ],
   "source": [
    "a += 4\n",
    "a //=2\n",
    "a"
   ]
  },
  {
   "cell_type": "markdown",
   "id": "1ce2c65f",
   "metadata": {},
   "source": [
    "* 비교연산자 ==, !=, >, <, >=, <="
   ]
  },
  {
   "cell_type": "code",
   "execution_count": 34,
   "id": "4857c63e",
   "metadata": {},
   "outputs": [],
   "source": [
    "a = 3\n",
    "b = 3.0\n",
    "c = 5\n",
    "d = \"Python\"\n",
    "e = \"python\"\n",
    "f = True\n",
    "g = False"
   ]
  },
  {
   "cell_type": "markdown",
   "id": "dfcdfe9e",
   "metadata": {},
   "source": [
    "== 같으면 True, 다르면 False"
   ]
  },
  {
   "cell_type": "code",
   "execution_count": 35,
   "id": "809d5e49",
   "metadata": {},
   "outputs": [
    {
     "data": {
      "text/plain": [
       "True"
      ]
     },
     "execution_count": 35,
     "metadata": {},
     "output_type": "execute_result"
    }
   ],
   "source": [
    "a == b"
   ]
  },
  {
   "cell_type": "code",
   "execution_count": 36,
   "id": "9f6b69f9",
   "metadata": {},
   "outputs": [
    {
     "data": {
      "text/plain": [
       "False"
      ]
     },
     "execution_count": 36,
     "metadata": {},
     "output_type": "execute_result"
    }
   ],
   "source": [
    "a == c"
   ]
  },
  {
   "cell_type": "code",
   "execution_count": 37,
   "id": "4a38821d",
   "metadata": {},
   "outputs": [
    {
     "data": {
      "text/plain": [
       "False"
      ]
     },
     "execution_count": 37,
     "metadata": {},
     "output_type": "execute_result"
    }
   ],
   "source": [
    "d == e"
   ]
  },
  {
   "cell_type": "code",
   "execution_count": 38,
   "id": "98aa81a7",
   "metadata": {},
   "outputs": [
    {
     "data": {
      "text/plain": [
       "False"
      ]
     },
     "execution_count": 38,
     "metadata": {},
     "output_type": "execute_result"
    }
   ],
   "source": [
    "f == g"
   ]
  },
  {
   "cell_type": "markdown",
   "id": "47d61db5",
   "metadata": {},
   "source": [
    "!= 다르면 True, 같으면 False"
   ]
  },
  {
   "cell_type": "code",
   "execution_count": 39,
   "id": "3c2a86f9",
   "metadata": {},
   "outputs": [
    {
     "data": {
      "text/plain": [
       "False"
      ]
     },
     "execution_count": 39,
     "metadata": {},
     "output_type": "execute_result"
    }
   ],
   "source": [
    "a != b"
   ]
  },
  {
   "cell_type": "code",
   "execution_count": 40,
   "id": "a827b405",
   "metadata": {},
   "outputs": [
    {
     "data": {
      "text/plain": [
       "True"
      ]
     },
     "execution_count": 40,
     "metadata": {},
     "output_type": "execute_result"
    }
   ],
   "source": [
    "a != c"
   ]
  },
  {
   "cell_type": "code",
   "execution_count": 41,
   "id": "15418d4e",
   "metadata": {},
   "outputs": [
    {
     "data": {
      "text/plain": [
       "True"
      ]
     },
     "execution_count": 41,
     "metadata": {},
     "output_type": "execute_result"
    }
   ],
   "source": [
    "d != e "
   ]
  },
  {
   "cell_type": "code",
   "execution_count": 42,
   "id": "9c1c54e6",
   "metadata": {},
   "outputs": [
    {
     "data": {
      "text/plain": [
       "True"
      ]
     },
     "execution_count": 42,
     "metadata": {},
     "output_type": "execute_result"
    }
   ],
   "source": [
    "f != g "
   ]
  },
  {
   "cell_type": "markdown",
   "id": "c1d43be8",
   "metadata": {},
   "source": [
    "a > b:  a가 b를 초과하냐? <br>\n",
    "a < b:  a가 b 미만이냐?<br>\n",
    "a >= b: a가 b 이상이냐?<br>\n",
    "a <= b: a가 b 이하냐"
   ]
  },
  {
   "cell_type": "code",
   "execution_count": 43,
   "id": "f2c39189",
   "metadata": {},
   "outputs": [
    {
     "name": "stdout",
     "output_type": "stream",
     "text": [
      "3\n",
      "3.0\n"
     ]
    },
    {
     "data": {
      "text/plain": [
       "False"
      ]
     },
     "execution_count": 43,
     "metadata": {},
     "output_type": "execute_result"
    }
   ],
   "source": [
    "print(a)\n",
    "print(b)\n",
    "a > b"
   ]
  },
  {
   "cell_type": "code",
   "execution_count": 44,
   "id": "ea0c9aa1",
   "metadata": {},
   "outputs": [
    {
     "name": "stdout",
     "output_type": "stream",
     "text": [
      "3\n",
      "3.0\n"
     ]
    },
    {
     "data": {
      "text/plain": [
       "False"
      ]
     },
     "execution_count": 44,
     "metadata": {},
     "output_type": "execute_result"
    }
   ],
   "source": [
    "print(a)\n",
    "print(b)\n",
    "a < b"
   ]
  },
  {
   "cell_type": "code",
   "execution_count": 45,
   "id": "5e12ab2e",
   "metadata": {},
   "outputs": [
    {
     "name": "stdout",
     "output_type": "stream",
     "text": [
      "3\n",
      "3.0\n"
     ]
    },
    {
     "data": {
      "text/plain": [
       "True"
      ]
     },
     "execution_count": 45,
     "metadata": {},
     "output_type": "execute_result"
    }
   ],
   "source": [
    "print(a)\n",
    "print(b)\n",
    "a >= b"
   ]
  },
  {
   "cell_type": "code",
   "execution_count": 46,
   "id": "c947286a",
   "metadata": {},
   "outputs": [
    {
     "name": "stdout",
     "output_type": "stream",
     "text": [
      "3\n",
      "3.0\n"
     ]
    },
    {
     "data": {
      "text/plain": [
       "True"
      ]
     },
     "execution_count": 46,
     "metadata": {},
     "output_type": "execute_result"
    }
   ],
   "source": [
    "print(a)\n",
    "print(b)\n",
    "a <= b"
   ]
  },
  {
   "cell_type": "markdown",
   "id": "bace7fd6",
   "metadata": {},
   "source": [
    "논리연산자: and, or, not"
   ]
  },
  {
   "cell_type": "markdown",
   "id": "8a7fb909",
   "metadata": {},
   "source": [
    "and는 두 값 모두가 참이어야 참"
   ]
  },
  {
   "cell_type": "code",
   "execution_count": 47,
   "id": "adcac981",
   "metadata": {},
   "outputs": [
    {
     "data": {
      "text/plain": [
       "True"
      ]
     },
     "execution_count": 47,
     "metadata": {},
     "output_type": "execute_result"
    }
   ],
   "source": [
    "True and True"
   ]
  },
  {
   "cell_type": "code",
   "execution_count": 48,
   "id": "cd40ce49",
   "metadata": {},
   "outputs": [
    {
     "data": {
      "text/plain": [
       "False"
      ]
     },
     "execution_count": 48,
     "metadata": {},
     "output_type": "execute_result"
    }
   ],
   "source": [
    "True and False"
   ]
  },
  {
   "cell_type": "code",
   "execution_count": 49,
   "id": "0728fc66",
   "metadata": {},
   "outputs": [
    {
     "data": {
      "text/plain": [
       "False"
      ]
     },
     "execution_count": 49,
     "metadata": {},
     "output_type": "execute_result"
    }
   ],
   "source": [
    "False and True"
   ]
  },
  {
   "cell_type": "code",
   "execution_count": 50,
   "id": "7beb4f0b",
   "metadata": {},
   "outputs": [
    {
     "data": {
      "text/plain": [
       "False"
      ]
     },
     "execution_count": 50,
     "metadata": {},
     "output_type": "execute_result"
    }
   ],
   "source": [
    "False and False"
   ]
  },
  {
   "cell_type": "markdown",
   "id": "b935e29e",
   "metadata": {},
   "source": [
    "or 두 값중 하나라도 참이면 참, 두 값 모두가 거짓이어야 거짓"
   ]
  },
  {
   "cell_type": "code",
   "execution_count": 51,
   "id": "8664bb7d",
   "metadata": {},
   "outputs": [
    {
     "data": {
      "text/plain": [
       "True"
      ]
     },
     "execution_count": 51,
     "metadata": {},
     "output_type": "execute_result"
    }
   ],
   "source": [
    "True or True"
   ]
  },
  {
   "cell_type": "code",
   "execution_count": 52,
   "id": "cbfaf0b4",
   "metadata": {},
   "outputs": [
    {
     "data": {
      "text/plain": [
       "True"
      ]
     },
     "execution_count": 52,
     "metadata": {},
     "output_type": "execute_result"
    }
   ],
   "source": [
    "True or False"
   ]
  },
  {
   "cell_type": "code",
   "execution_count": 54,
   "id": "2b05e684",
   "metadata": {},
   "outputs": [
    {
     "data": {
      "text/plain": [
       "True"
      ]
     },
     "execution_count": 54,
     "metadata": {},
     "output_type": "execute_result"
    }
   ],
   "source": [
    "False or True"
   ]
  },
  {
   "cell_type": "code",
   "execution_count": 56,
   "id": "c5e36a6b",
   "metadata": {},
   "outputs": [
    {
     "data": {
      "text/plain": [
       "False"
      ]
     },
     "execution_count": 56,
     "metadata": {},
     "output_type": "execute_result"
    }
   ],
   "source": [
    "False or False"
   ]
  },
  {
   "cell_type": "markdown",
   "id": "9372450c",
   "metadata": {},
   "source": [
    "not 값을 반대로 뒤집음. True = False, Flase = True"
   ]
  },
  {
   "cell_type": "code",
   "execution_count": 57,
   "id": "d41f77f7",
   "metadata": {},
   "outputs": [
    {
     "data": {
      "text/plain": [
       "False"
      ]
     },
     "execution_count": 57,
     "metadata": {},
     "output_type": "execute_result"
    }
   ],
   "source": [
    "not True"
   ]
  },
  {
   "cell_type": "code",
   "execution_count": 58,
   "id": "56103ed4",
   "metadata": {},
   "outputs": [
    {
     "data": {
      "text/plain": [
       "True"
      ]
     },
     "execution_count": 58,
     "metadata": {},
     "output_type": "execute_result"
    }
   ],
   "source": [
    "not False"
   ]
  },
  {
   "cell_type": "markdown",
   "id": "300f2962",
   "metadata": {},
   "source": [
    "and, or, not 논리연산자가 식 하나에 들어있으면<br>\n",
    "not, and, or 순으로 판단"
   ]
  },
  {
   "cell_type": "code",
   "execution_count": 59,
   "id": "1e55d956",
   "metadata": {},
   "outputs": [
    {
     "data": {
      "text/plain": [
       "True"
      ]
     },
     "execution_count": 59,
     "metadata": {},
     "output_type": "execute_result"
    }
   ],
   "source": [
    "not True and Flase or not False"
   ]
  },
  {
   "cell_type": "markdown",
   "id": "67f72353",
   "metadata": {},
   "source": [
    "위의 값이 True가 나오는 이유"
   ]
  },
  {
   "cell_type": "code",
   "execution_count": 60,
   "id": "a919c22f",
   "metadata": {},
   "outputs": [
    {
     "data": {
      "text/plain": [
       "False"
      ]
     },
     "execution_count": 60,
     "metadata": {},
     "output_type": "execute_result"
    }
   ],
   "source": [
    "not True and False"
   ]
  },
  {
   "cell_type": "code",
   "execution_count": 61,
   "id": "b261e079",
   "metadata": {},
   "outputs": [
    {
     "data": {
      "text/plain": [
       "True"
      ]
     },
     "execution_count": 61,
     "metadata": {},
     "output_type": "execute_result"
    }
   ],
   "source": [
    "False or not False"
   ]
  },
  {
   "cell_type": "code",
   "execution_count": 63,
   "id": "92d2cf62",
   "metadata": {},
   "outputs": [
    {
     "data": {
      "text/plain": [
       "True"
      ]
     },
     "execution_count": 63,
     "metadata": {},
     "output_type": "execute_result"
    }
   ],
   "source": [
    "10 == 10 and 10 != 5 # True and True"
   ]
  },
  {
   "cell_type": "code",
   "execution_count": 64,
   "id": "ad0bceaf",
   "metadata": {},
   "outputs": [
    {
     "data": {
      "text/plain": [
       "True"
      ]
     },
     "execution_count": 64,
     "metadata": {},
     "output_type": "execute_result"
    }
   ],
   "source": [
    "10 > 5 or 10 < 3 # True or False"
   ]
  },
  {
   "cell_type": "markdown",
   "id": "8b6632df",
   "metadata": {},
   "source": [
    "식별연산자: is, is not 객체(object, datatype)가 같은지 비교<br>\n",
    "a is b: a객체와 b객체가 같은지 비교 같으면 True, 다르면 False<br>\n",
    "javascript의 === 연산자와 동일"
   ]
  },
  {
   "cell_type": "code",
   "execution_count": 66,
   "id": "ed05e1bf",
   "metadata": {},
   "outputs": [
    {
     "name": "stdout",
     "output_type": "stream",
     "text": [
      "3\n",
      "3.0\n",
      "5\n"
     ]
    }
   ],
   "source": [
    "print(a)\n",
    "print(b)\n",
    "print(c)"
   ]
  },
  {
   "cell_type": "code",
   "execution_count": 73,
   "id": "634d1013",
   "metadata": {},
   "outputs": [
    {
     "name": "stdout",
     "output_type": "stream",
     "text": [
      "True\n",
      "False\n"
     ]
    }
   ],
   "source": [
    "print(a == b) # a는 정수 3, b는 실수 3.0 이라 값이 같음\n",
    "print(a is b) # a는 정수 3, b는 실수 3.0 이라 값은 같지만 데이터 타입이 달라서 False"
   ]
  },
  {
   "cell_type": "code",
   "execution_count": 68,
   "id": "6fa40fc6",
   "metadata": {},
   "outputs": [],
   "source": [
    "d = 3"
   ]
  },
  {
   "cell_type": "code",
   "execution_count": 72,
   "id": "4110c1f1",
   "metadata": {},
   "outputs": [
    {
     "name": "stdout",
     "output_type": "stream",
     "text": [
      "3\n",
      "3\n",
      "True\n",
      "True\n"
     ]
    }
   ],
   "source": [
    "print(a)\n",
    "print(d)\n",
    "print(a == d) # a는 정수 3, b도 정수 3 이라 값이 같음\n",
    "print(a is d) # a는 정수 3, b도 정수 3 이라 값도 같고 데이터 타입도 같아서 True"
   ]
  },
  {
   "cell_type": "code",
   "execution_count": 74,
   "id": "9568a87e",
   "metadata": {},
   "outputs": [
    {
     "name": "stdout",
     "output_type": "stream",
     "text": [
      "True\n",
      "True\n"
     ]
    }
   ],
   "source": [
    "print(a == b) # a는 정수 3, b는 실수 3.0 이라 값이 같음\n",
    "print(a is not b) # a는 정수 3, b는 실수 3.0 이라 값은 같지만 데이터 타입이 달라서 True"
   ]
  },
  {
   "cell_type": "markdown",
   "id": "e2ea0ba2",
   "metadata": {},
   "source": [
    "멤버연산자: in, not in <br>\n",
    "리스트, 튜플 같은 객체 내에 해당 값이 있으면 True, 없으면 False"
   ]
  },
  {
   "cell_type": "code",
   "execution_count": 75,
   "id": "8a45d29d",
   "metadata": {},
   "outputs": [],
   "source": [
    "member = [1,2,3,4,5]"
   ]
  },
  {
   "cell_type": "code",
   "execution_count": 76,
   "id": "e17dbec8",
   "metadata": {},
   "outputs": [
    {
     "data": {
      "text/plain": [
       "True"
      ]
     },
     "execution_count": 76,
     "metadata": {},
     "output_type": "execute_result"
    }
   ],
   "source": [
    "3 in member"
   ]
  },
  {
   "cell_type": "code",
   "execution_count": 77,
   "id": "f2529775",
   "metadata": {},
   "outputs": [
    {
     "data": {
      "text/plain": [
       "False"
      ]
     },
     "execution_count": 77,
     "metadata": {},
     "output_type": "execute_result"
    }
   ],
   "source": [
    "3 not in member"
   ]
  },
  {
   "cell_type": "code",
   "execution_count": null,
   "id": "7fa4ed2d",
   "metadata": {},
   "outputs": [],
   "source": []
  }
 ],
 "metadata": {
  "kernelspec": {
   "display_name": "Python 3 (ipykernel)",
   "language": "python",
   "name": "python3"
  },
  "language_info": {
   "codemirror_mode": {
    "name": "ipython",
    "version": 3
   },
   "file_extension": ".py",
   "mimetype": "text/x-python",
   "name": "python",
   "nbconvert_exporter": "python",
   "pygments_lexer": "ipython3",
   "version": "3.10.14"
  }
 },
 "nbformat": 4,
 "nbformat_minor": 5
}
