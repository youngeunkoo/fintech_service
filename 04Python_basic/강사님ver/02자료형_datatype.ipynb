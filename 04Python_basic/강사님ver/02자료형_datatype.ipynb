{
 "cells": [
  {
   "cell_type": "markdown",
   "id": "70de44b9",
   "metadata": {},
   "source": [
    "# 파이썬은 변수에 담는 자료에 따라서 동적으로 자료형 정해짐"
   ]
  },
  {
   "cell_type": "markdown",
   "id": "17a0bb61",
   "metadata": {},
   "source": [
    "## 정수형 변수(int, integer)"
   ]
  },
  {
   "cell_type": "code",
   "execution_count": 1,
   "id": "b897eb57",
   "metadata": {},
   "outputs": [],
   "source": [
    "x = 10"
   ]
  },
  {
   "cell_type": "code",
   "execution_count": 2,
   "id": "625981fe",
   "metadata": {},
   "outputs": [
    {
     "data": {
      "text/plain": [
       "int"
      ]
     },
     "execution_count": 2,
     "metadata": {},
     "output_type": "execute_result"
    }
   ],
   "source": [
    "type(x)"
   ]
  },
  {
   "cell_type": "markdown",
   "id": "6f338d01",
   "metadata": {},
   "source": [
    "## 실수형 변수(float)"
   ]
  },
  {
   "cell_type": "code",
   "execution_count": 3,
   "id": "f5ee8dc6",
   "metadata": {},
   "outputs": [],
   "source": [
    "y = 3.14"
   ]
  },
  {
   "cell_type": "code",
   "execution_count": 4,
   "id": "1d862f6f",
   "metadata": {},
   "outputs": [
    {
     "data": {
      "text/plain": [
       "float"
      ]
     },
     "execution_count": 4,
     "metadata": {},
     "output_type": "execute_result"
    }
   ],
   "source": [
    "type(y)"
   ]
  },
  {
   "cell_type": "markdown",
   "id": "84c00116",
   "metadata": {},
   "source": [
    "## 문자형 변수(str)"
   ]
  },
  {
   "cell_type": "code",
   "execution_count": 5,
   "id": "46e0f2ec",
   "metadata": {},
   "outputs": [],
   "source": [
    "s ='문'"
   ]
  },
  {
   "cell_type": "code",
   "execution_count": 6,
   "id": "f44f1177",
   "metadata": {},
   "outputs": [
    {
     "data": {
      "text/plain": [
       "str"
      ]
     },
     "execution_count": 6,
     "metadata": {},
     "output_type": "execute_result"
    }
   ],
   "source": [
    "type(s)"
   ]
  },
  {
   "cell_type": "code",
   "execution_count": 7,
   "id": "522183ba",
   "metadata": {},
   "outputs": [],
   "source": [
    "s2= \"문자열\""
   ]
  },
  {
   "cell_type": "code",
   "execution_count": 8,
   "id": "3cbcc521",
   "metadata": {},
   "outputs": [
    {
     "data": {
      "text/plain": [
       "str"
      ]
     },
     "execution_count": 8,
     "metadata": {},
     "output_type": "execute_result"
    }
   ],
   "source": [
    "type(s2)"
   ]
  },
  {
   "cell_type": "code",
   "execution_count": 9,
   "id": "f3461e27",
   "metadata": {},
   "outputs": [
    {
     "data": {
      "text/plain": [
       "\"문자열 '문자'\""
      ]
     },
     "execution_count": 9,
     "metadata": {},
     "output_type": "execute_result"
    }
   ],
   "source": [
    "s3 = \"문자열 '문자'\"\n",
    "s3"
   ]
  },
  {
   "cell_type": "code",
   "execution_count": 10,
   "id": "e21b3f3a",
   "metadata": {},
   "outputs": [
    {
     "name": "stdout",
     "output_type": "stream",
     "text": [
      "문자열 \"문자\"\n"
     ]
    }
   ],
   "source": [
    "s4 = '문자열 \"문자\"'\n",
    "print(s4)"
   ]
  },
  {
   "cell_type": "markdown",
   "id": "567a241b",
   "metadata": {},
   "source": [
    "## 문단을 통채로 넣는 법 ''' ''', \"\"\" \"\"\""
   ]
  },
  {
   "cell_type": "code",
   "execution_count": 11,
   "id": "23ceb25f",
   "metadata": {},
   "outputs": [
    {
     "name": "stdout",
     "output_type": "stream",
     "text": [
      "문자형 변수에는 단어 뿐만 아니라\n",
      "  문장도 넣을 수 있다.\n",
      "줄 바꿈도 가능\n"
     ]
    }
   ],
   "source": [
    "s5 = '''문자형 변수에는 단어 뿐만 아니라\n",
    "  문장도 넣을 수 있다.\n",
    "줄 바꿈도 가능'''\n",
    "print(s5)"
   ]
  },
  {
   "cell_type": "code",
   "execution_count": 12,
   "id": "4501a01a",
   "metadata": {},
   "outputs": [
    {
     "name": "stdout",
     "output_type": "stream",
     "text": [
      "문자형 변수에는 단어 뿐만 아니라 문장도 넣을 수 있다. 줄 바꿈도 가능\n"
     ]
    }
   ],
   "source": [
    "s6 =\"문자형 변수에는 단어 뿐만 아니라 \\\n",
    "문장도 넣을 수 있다. \\\n",
    "줄 바꿈도 가능\"\n",
    "print(s6)"
   ]
  },
  {
   "cell_type": "code",
   "execution_count": 13,
   "id": "d4561165",
   "metadata": {},
   "outputs": [
    {
     "name": "stdout",
     "output_type": "stream",
     "text": [
      "문자형 변수에는 단어 뿐만 아니라\n",
      "  '문장도 넣을 수 있다.'\n",
      "줄 바꿈도 가능\n"
     ]
    }
   ],
   "source": [
    "s6 = \"\"\"문자형 변수에는 단어 뿐만 아니라\n",
    "  '문장도 넣을 수 있다.'\n",
    "줄 바꿈도 가능\"\"\"\n",
    "print(s6)"
   ]
  },
  {
   "cell_type": "code",
   "execution_count": 14,
   "id": "86eda8ba",
   "metadata": {},
   "outputs": [
    {
     "data": {
      "text/plain": [
       "\"문자형 변수에는 단어 뿐만 아니라\\n  '문장도 넣을 수 있다.'\\n줄 바꿈도 가능\""
      ]
     },
     "execution_count": 14,
     "metadata": {},
     "output_type": "execute_result"
    }
   ],
   "source": [
    "s6"
   ]
  },
  {
   "cell_type": "code",
   "execution_count": null,
   "id": "1f2994ae",
   "metadata": {},
   "outputs": [],
   "source": [
    "print()"
   ]
  },
  {
   "cell_type": "markdown",
   "id": "30981f44",
   "metadata": {},
   "source": [
    "## 변수의 데이터 타입을 출력하는 함수 type()"
   ]
  },
  {
   "cell_type": "code",
   "execution_count": 15,
   "id": "ca5636f5",
   "metadata": {},
   "outputs": [
    {
     "name": "stdout",
     "output_type": "stream",
     "text": [
      "10\n"
     ]
    },
    {
     "data": {
      "text/plain": [
       "int"
      ]
     },
     "execution_count": 15,
     "metadata": {},
     "output_type": "execute_result"
    }
   ],
   "source": [
    "print(x)\n",
    "type(x)"
   ]
  },
  {
   "cell_type": "code",
   "execution_count": 16,
   "id": "78664c23",
   "metadata": {},
   "outputs": [
    {
     "name": "stdout",
     "output_type": "stream",
     "text": [
      "3.14\n",
      "<class 'float'>\n"
     ]
    }
   ],
   "source": [
    "print(y)\n",
    "print(type(y))"
   ]
  },
  {
   "cell_type": "code",
   "execution_count": 17,
   "id": "33f893ad",
   "metadata": {},
   "outputs": [
    {
     "name": "stdout",
     "output_type": "stream",
     "text": [
      "문\n",
      "<class 'str'>\n"
     ]
    }
   ],
   "source": [
    "print(s)\n",
    "print(type(s))"
   ]
  },
  {
   "cell_type": "code",
   "execution_count": 18,
   "id": "1429293d",
   "metadata": {},
   "outputs": [
    {
     "name": "stdout",
     "output_type": "stream",
     "text": [
      "문자열\n",
      "<class 'str'>\n"
     ]
    }
   ],
   "source": [
    "print(s2)\n",
    "print(type(s2))"
   ]
  },
  {
   "cell_type": "code",
   "execution_count": 19,
   "id": "9b8f7af5",
   "metadata": {},
   "outputs": [
    {
     "name": "stdout",
     "output_type": "stream",
     "text": [
      "문자형 변수에는 단어 뿐만 아니라\n",
      "  '문장도 넣을 수 있다.'\n",
      "줄 바꿈도 가능\n",
      "<class 'str'>\n"
     ]
    }
   ],
   "source": [
    "print(s6)\n",
    "print(type(s6))"
   ]
  },
  {
   "cell_type": "markdown",
   "id": "138223f9",
   "metadata": {},
   "source": [
    "## 리스트(list), 튜플(tuple)\n",
    "* 순서가 있는 자료형\n",
    "* 여러 개의 자료를 넣을 수 있다.\n",
    "* 여러 개의 데이터 타입의 자료를 넣을 수 있다.\n",
    "* 인덱스로 호출이 가능\n",
    "* 슬라이싱으로 부분 출력이 가능\n",
    "* 리스트는 [ ] 안에 자료를 넣어 만듬\n",
    "* 튜플은 ( ) 안에 자료를 넣어 만듬"
   ]
  },
  {
   "cell_type": "code",
   "execution_count": 20,
   "id": "81db05ba",
   "metadata": {},
   "outputs": [],
   "source": [
    "a = 10"
   ]
  },
  {
   "cell_type": "code",
   "execution_count": 21,
   "id": "2e8588e2",
   "metadata": {},
   "outputs": [
    {
     "data": {
      "text/plain": [
       "10"
      ]
     },
     "execution_count": 21,
     "metadata": {},
     "output_type": "execute_result"
    }
   ],
   "source": [
    "a"
   ]
  },
  {
   "cell_type": "code",
   "execution_count": 22,
   "id": "a76053a7",
   "metadata": {},
   "outputs": [],
   "source": [
    "a = 20"
   ]
  },
  {
   "cell_type": "code",
   "execution_count": 23,
   "id": "79534a8c",
   "metadata": {},
   "outputs": [
    {
     "data": {
      "text/plain": [
       "20"
      ]
     },
     "execution_count": 23,
     "metadata": {},
     "output_type": "execute_result"
    }
   ],
   "source": [
    "a"
   ]
  },
  {
   "cell_type": "code",
   "execution_count": 25,
   "id": "87d29b50",
   "metadata": {},
   "outputs": [
    {
     "data": {
      "text/plain": [
       "[1, 3.14, '파이썬', [1, 2, 3, 4], (5, 6, 7, 8)]"
      ]
     },
     "execution_count": 25,
     "metadata": {},
     "output_type": "execute_result"
    }
   ],
   "source": [
    "L = [1, 3.14, \"파이썬\", [1,2,3,4], (5,6,7,8)]\n",
    "L"
   ]
  },
  {
   "cell_type": "code",
   "execution_count": 26,
   "id": "284f7323",
   "metadata": {},
   "outputs": [
    {
     "data": {
      "text/plain": [
       "list"
      ]
     },
     "execution_count": 26,
     "metadata": {},
     "output_type": "execute_result"
    }
   ],
   "source": [
    "type(L)"
   ]
  },
  {
   "cell_type": "markdown",
   "id": "952f1cfc",
   "metadata": {},
   "source": [
    "## 인덱싱: 리스트, 튜플에서 인덱스 번호를 이용해서 자료를 출력\n",
    "* 인덱스는 자료의 순번"
   ]
  },
  {
   "cell_type": "code",
   "execution_count": 29,
   "id": "8b7a1063",
   "metadata": {},
   "outputs": [
    {
     "data": {
      "text/plain": [
       "[1, 2, 3, 4]"
      ]
     },
     "execution_count": 29,
     "metadata": {},
     "output_type": "execute_result"
    }
   ],
   "source": [
    "L[3]"
   ]
  },
  {
   "cell_type": "code",
   "execution_count": 30,
   "id": "03c5a27f",
   "metadata": {},
   "outputs": [
    {
     "data": {
      "text/plain": [
       "3"
      ]
     },
     "execution_count": 30,
     "metadata": {},
     "output_type": "execute_result"
    }
   ],
   "source": [
    "L[3][2]"
   ]
  },
  {
   "cell_type": "code",
   "execution_count": 31,
   "id": "80adb260",
   "metadata": {},
   "outputs": [
    {
     "data": {
      "text/plain": [
       "8"
      ]
     },
     "execution_count": 31,
     "metadata": {},
     "output_type": "execute_result"
    }
   ],
   "source": [
    "L[4][3]"
   ]
  },
  {
   "cell_type": "code",
   "execution_count": 32,
   "id": "cff31de7",
   "metadata": {},
   "outputs": [
    {
     "data": {
      "text/plain": [
       "2"
      ]
     },
     "execution_count": 32,
     "metadata": {},
     "output_type": "execute_result"
    }
   ],
   "source": [
    "L.index(\"파이썬\")"
   ]
  },
  {
   "cell_type": "markdown",
   "id": "d4842c47",
   "metadata": {},
   "source": [
    "## 슬라이싱: 인덱스의 범위 지정해서 여러개의 자료를 가져오는 것\n",
    "* 변수명[시작인덱스:끝 인덱스+1:step]"
   ]
  },
  {
   "cell_type": "code",
   "execution_count": 33,
   "id": "0f0ebf45",
   "metadata": {},
   "outputs": [
    {
     "data": {
      "text/plain": [
       "[1, 3.14]"
      ]
     },
     "execution_count": 33,
     "metadata": {},
     "output_type": "execute_result"
    }
   ],
   "source": [
    "L[0:2]"
   ]
  },
  {
   "cell_type": "code",
   "execution_count": 42,
   "id": "87d369fb",
   "metadata": {},
   "outputs": [
    {
     "data": {
      "text/plain": [
       "[(5, 6, 7, 8), [1, 2, 3, 4], '파이썬', 3.14, 1]"
      ]
     },
     "execution_count": 42,
     "metadata": {},
     "output_type": "execute_result"
    }
   ],
   "source": [
    "L[::-1]"
   ]
  },
  {
   "cell_type": "markdown",
   "id": "c48594f3",
   "metadata": {},
   "source": [
    "## 튜플\n",
    "* 리스트처럼 순서가 있는 자료형\n",
    "* 인덱스가 있어서 인덱스로 자료 출력 가능\n",
    "* 인덱스로 슬라이싱도 가능\n",
    "* 자료의 추가 삭제가 안됨"
   ]
  },
  {
   "cell_type": "code",
   "execution_count": 34,
   "id": "d2912f6b",
   "metadata": {},
   "outputs": [
    {
     "data": {
      "text/plain": [
       "[1, 3.14, '파이썬', [1, 2, 3, 4], (5, 6, 7, 8), 3]"
      ]
     },
     "execution_count": 34,
     "metadata": {},
     "output_type": "execute_result"
    }
   ],
   "source": [
    "L.append(3) \n",
    "L"
   ]
  },
  {
   "cell_type": "code",
   "execution_count": 35,
   "id": "809603d9",
   "metadata": {},
   "outputs": [],
   "source": [
    "del L[5]"
   ]
  },
  {
   "cell_type": "code",
   "execution_count": 36,
   "id": "4363be33",
   "metadata": {},
   "outputs": [
    {
     "data": {
      "text/plain": [
       "[1, 3.14, '파이썬', [1, 2, 3, 4], (5, 6, 7, 8)]"
      ]
     },
     "execution_count": 36,
     "metadata": {},
     "output_type": "execute_result"
    }
   ],
   "source": [
    "L"
   ]
  },
  {
   "cell_type": "code",
   "execution_count": 37,
   "id": "3e530be4",
   "metadata": {},
   "outputs": [
    {
     "data": {
      "text/plain": [
       "(1, 2, '튜플', [3, 4, 5], (5, 6, 7))"
      ]
     },
     "execution_count": 37,
     "metadata": {},
     "output_type": "execute_result"
    }
   ],
   "source": [
    "T = (1,2,'튜플', [3,4,5], (5,6,7))\n",
    "T"
   ]
  },
  {
   "cell_type": "code",
   "execution_count": 38,
   "id": "817b4f64",
   "metadata": {},
   "outputs": [
    {
     "data": {
      "text/plain": [
       "[3, 4, 5]"
      ]
     },
     "execution_count": 38,
     "metadata": {},
     "output_type": "execute_result"
    }
   ],
   "source": [
    "T[3]"
   ]
  },
  {
   "cell_type": "code",
   "execution_count": 39,
   "id": "2a7fe08f",
   "metadata": {},
   "outputs": [
    {
     "data": {
      "text/plain": [
       "7"
      ]
     },
     "execution_count": 39,
     "metadata": {},
     "output_type": "execute_result"
    }
   ],
   "source": [
    "T[4][2]"
   ]
  },
  {
   "cell_type": "code",
   "execution_count": 40,
   "id": "05e8b0bd",
   "metadata": {},
   "outputs": [
    {
     "data": {
      "text/plain": [
       "('튜플', [3, 4, 5])"
      ]
     },
     "execution_count": 40,
     "metadata": {},
     "output_type": "execute_result"
    }
   ],
   "source": [
    "T[2:4]"
   ]
  },
  {
   "cell_type": "code",
   "execution_count": 41,
   "id": "03c33476",
   "metadata": {},
   "outputs": [
    {
     "ename": "AttributeError",
     "evalue": "'tuple' object has no attribute 'append'",
     "output_type": "error",
     "traceback": [
      "\u001b[1;31m---------------------------------------------------------------------------\u001b[0m",
      "\u001b[1;31mAttributeError\u001b[0m                            Traceback (most recent call last)",
      "Cell \u001b[1;32mIn[41], line 1\u001b[0m\n\u001b[1;32m----> 1\u001b[0m \u001b[43mT\u001b[49m\u001b[38;5;241;43m.\u001b[39;49m\u001b[43mappend\u001b[49m(\u001b[38;5;241m3\u001b[39m)\n",
      "\u001b[1;31mAttributeError\u001b[0m: 'tuple' object has no attribute 'append'"
     ]
    }
   ],
   "source": [
    "T.append(3)"
   ]
  },
  {
   "cell_type": "code",
   "execution_count": 42,
   "id": "02b639e1",
   "metadata": {},
   "outputs": [
    {
     "ename": "TypeError",
     "evalue": "'tuple' object doesn't support item deletion",
     "output_type": "error",
     "traceback": [
      "\u001b[1;31m---------------------------------------------------------------------------\u001b[0m",
      "\u001b[1;31mTypeError\u001b[0m                                 Traceback (most recent call last)",
      "Cell \u001b[1;32mIn[42], line 1\u001b[0m\n\u001b[1;32m----> 1\u001b[0m \u001b[38;5;28;01mdel\u001b[39;00m T[\u001b[38;5;241m3\u001b[39m]\n",
      "\u001b[1;31mTypeError\u001b[0m: 'tuple' object doesn't support item deletion"
     ]
    }
   ],
   "source": [
    "del T[3]"
   ]
  },
  {
   "cell_type": "markdown",
   "id": "ef605958",
   "metadata": {},
   "source": [
    "## 딕셔너리형(dict) JSON\n",
    "* {key:value} 형태의 자료형\n",
    "* 순서가 없는 자료형\n",
    "* 반복 불가\n",
    "* key를 호출하면 value가 출력"
   ]
  },
  {
   "cell_type": "code",
   "execution_count": 43,
   "id": "86c2caa9",
   "metadata": {},
   "outputs": [
    {
     "data": {
      "text/plain": [
       "{'년월': '202407', '국가': '미국', '방문자수': 1000}"
      ]
     },
     "execution_count": 43,
     "metadata": {},
     "output_type": "execute_result"
    }
   ],
   "source": [
    "D = {'년월' : '202407', '국가' : '미국', '방문자수' : 1000}\n",
    "D"
   ]
  },
  {
   "cell_type": "code",
   "execution_count": 45,
   "id": "f3d0c6c6",
   "metadata": {},
   "outputs": [
    {
     "data": {
      "text/plain": [
       "{2: [3, 4, 5], 3.14: '원주율'}"
      ]
     },
     "execution_count": 45,
     "metadata": {},
     "output_type": "execute_result"
    }
   ],
   "source": [
    "D2 = {2 : [3,4,5], 3.14: \"원주율\"}\n",
    "D2"
   ]
  },
  {
   "cell_type": "code",
   "execution_count": 46,
   "id": "822bc92e",
   "metadata": {},
   "outputs": [
    {
     "data": {
      "text/plain": [
       "'202407'"
      ]
     },
     "execution_count": 46,
     "metadata": {},
     "output_type": "execute_result"
    }
   ],
   "source": [
    "D['년월']"
   ]
  },
  {
   "cell_type": "code",
   "execution_count": 47,
   "id": "b17d3db0",
   "metadata": {},
   "outputs": [
    {
     "data": {
      "text/plain": [
       "[3, 4, 5]"
      ]
     },
     "execution_count": 47,
     "metadata": {},
     "output_type": "execute_result"
    }
   ],
   "source": [
    "D2[2]"
   ]
  },
  {
   "cell_type": "code",
   "execution_count": 48,
   "id": "1710fe50",
   "metadata": {},
   "outputs": [
    {
     "data": {
      "text/plain": [
       "'원주율'"
      ]
     },
     "execution_count": 48,
     "metadata": {},
     "output_type": "execute_result"
    }
   ],
   "source": [
    "D2[3.14]"
   ]
  },
  {
   "cell_type": "code",
   "execution_count": 49,
   "id": "d6e9f85e",
   "metadata": {},
   "outputs": [
    {
     "data": {
      "text/plain": [
       "{(1, 2): '키가 튜플'}"
      ]
     },
     "execution_count": 49,
     "metadata": {},
     "output_type": "execute_result"
    }
   ],
   "source": [
    "d3 = {(1,2) : \"키가 튜플\"}\n",
    "d3"
   ]
  },
  {
   "cell_type": "code",
   "execution_count": 50,
   "id": "9dc55c75",
   "metadata": {},
   "outputs": [
    {
     "data": {
      "text/plain": [
       "'키가 튜플'"
      ]
     },
     "execution_count": 50,
     "metadata": {},
     "output_type": "execute_result"
    }
   ],
   "source": [
    "d3[(1,2)]"
   ]
  },
  {
   "cell_type": "code",
   "execution_count": 51,
   "id": "65662e2b",
   "metadata": {},
   "outputs": [
    {
     "ename": "TypeError",
     "evalue": "unhashable type: 'list'",
     "output_type": "error",
     "traceback": [
      "\u001b[1;31m---------------------------------------------------------------------------\u001b[0m",
      "\u001b[1;31mTypeError\u001b[0m                                 Traceback (most recent call last)",
      "Cell \u001b[1;32mIn[51], line 1\u001b[0m\n\u001b[1;32m----> 1\u001b[0m d4 \u001b[38;5;241m=\u001b[39m {[\u001b[38;5;241m3\u001b[39m,\u001b[38;5;241m4\u001b[39m] : \u001b[38;5;124m\"\u001b[39m\u001b[38;5;124m키가 튜플\u001b[39m\u001b[38;5;124m\"\u001b[39m}\n\u001b[0;32m      2\u001b[0m d4\n",
      "\u001b[1;31mTypeError\u001b[0m: unhashable type: 'list'"
     ]
    }
   ],
   "source": [
    "# 리스트는 딕셔너리의 key가 될 수 없음 tuple은 가능\n",
    "d4 = {[3,4] : \"키가 튜플\"}\n",
    "d4"
   ]
  },
  {
   "cell_type": "code",
   "execution_count": null,
   "id": "4cbcaf7b",
   "metadata": {},
   "outputs": [],
   "source": []
  },
  {
   "cell_type": "code",
   "execution_count": null,
   "id": "70d178fb",
   "metadata": {},
   "outputs": [],
   "source": []
  }
 ],
 "metadata": {
  "kernelspec": {
   "display_name": "Python 3 (ipykernel)",
   "language": "python",
   "name": "python3"
  },
  "language_info": {
   "codemirror_mode": {
    "name": "ipython",
    "version": 3
   },
   "file_extension": ".py",
   "mimetype": "text/x-python",
   "name": "python",
   "nbconvert_exporter": "python",
   "pygments_lexer": "ipython3",
   "version": "3.10.14"
  }
 },
 "nbformat": 4,
 "nbformat_minor": 5
}
