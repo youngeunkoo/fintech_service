{
 "cells": [
  {
   "cell_type": "markdown",
   "id": "1886b7eb",
   "metadata": {},
   "source": [
    "# 문자열 사용하기, 문자열 함수"
   ]
  },
  {
   "cell_type": "markdown",
   "id": "4e3d0f26",
   "metadata": {},
   "source": [
    "1. 문자열 사용하기의 기본"
   ]
  },
  {
   "cell_type": "markdown",
   "id": "d07543c5",
   "metadata": {},
   "source": [
    "\" 따옴표 안에 문자를 넣어서 문자열을 만든다.<br>\n",
    "' 도 가능"
   ]
  },
  {
   "cell_type": "code",
   "execution_count": 1,
   "id": "88a77a11",
   "metadata": {},
   "outputs": [
    {
     "data": {
      "text/plain": [
       "'hello, world'"
      ]
     },
     "execution_count": 1,
     "metadata": {},
     "output_type": "execute_result"
    }
   ],
   "source": [
    "hello = 'hello, world'\n",
    "hello"
   ]
  },
  {
   "cell_type": "code",
   "execution_count": 2,
   "id": "a1eb0e79",
   "metadata": {},
   "outputs": [
    {
     "data": {
      "text/plain": [
       "'hello, world'"
      ]
     },
     "execution_count": 2,
     "metadata": {},
     "output_type": "execute_result"
    }
   ],
   "source": [
    "hello2 = \"hello, world\"\n",
    "hello2"
   ]
  },
  {
   "cell_type": "code",
   "execution_count": 3,
   "id": "44e7000d",
   "metadata": {},
   "outputs": [
    {
     "data": {
      "text/plain": [
       "\"hello, 'world'\""
      ]
     },
     "execution_count": 3,
     "metadata": {},
     "output_type": "execute_result"
    }
   ],
   "source": [
    "hello3 = \"hello, 'world'\"\n",
    "hello3"
   ]
  },
  {
   "cell_type": "code",
   "execution_count": 4,
   "id": "12f59173",
   "metadata": {},
   "outputs": [
    {
     "data": {
      "text/plain": [
       "'\"hello\", world'"
      ]
     },
     "execution_count": 4,
     "metadata": {},
     "output_type": "execute_result"
    }
   ],
   "source": [
    "hello4 = '\"hello\", world'\n",
    "hello4"
   ]
  },
  {
   "cell_type": "markdown",
   "id": "4733f81b",
   "metadata": {},
   "source": [
    "여러 줄로 된 문자열 사용하기 <br>\n",
    "'''내용'''<br>\n",
    "\"\"\"내용\"\"\""
   ]
  },
  {
   "cell_type": "code",
   "execution_count": 6,
   "id": "5b74e970",
   "metadata": {},
   "outputs": [
    {
     "name": "stdout",
     "output_type": "stream",
     "text": [
      "\n",
      "안녕하세요.\n",
      "python 수업입니다.\n",
      "\n"
     ]
    },
    {
     "data": {
      "text/plain": [
       "'\\n안녕하세요.\\npython 수업입니다.\\n'"
      ]
     },
     "execution_count": 6,
     "metadata": {},
     "output_type": "execute_result"
    }
   ],
   "source": [
    "hello5 = '''\n",
    "안녕하세요.\n",
    "python 수업입니다.\n",
    "'''\n",
    "print(hello5)\n",
    "hello5"
   ]
  },
  {
   "cell_type": "code",
   "execution_count": 7,
   "id": "8d1ed3d0",
   "metadata": {},
   "outputs": [
    {
     "name": "stdout",
     "output_type": "stream",
     "text": [
      "\n",
      "\"안녕하세요.\"\n",
      "'python' 수업입니다.\n",
      "\n"
     ]
    },
    {
     "data": {
      "text/plain": [
       "'\\n\"안녕하세요.\"\\n\\'python\\' 수업입니다.\\n'"
      ]
     },
     "execution_count": 7,
     "metadata": {},
     "output_type": "execute_result"
    }
   ],
   "source": [
    "hello6 = \"\"\"\n",
    "\"안녕하세요.\"\n",
    "'python' 수업입니다.\n",
    "\"\"\"\n",
    "print(hello6)\n",
    "hello6"
   ]
  },
  {
   "cell_type": "markdown",
   "id": "28711c2a",
   "metadata": {},
   "source": [
    "문자열에서 이스케이프문자(\\n, \\t, \\r)<br>\n",
    "\\n: 줄바꿈 new line <br>\n",
    "\\t: 탭 tap 4 ~ 8 칸 공백<br>\n",
    "\\r: 캐리지리턴 현재 줄의 제일 왼쪽 끝으로 커서 이동"
   ]
  },
  {
   "cell_type": "code",
   "execution_count": 9,
   "id": "f8b04b79",
   "metadata": {},
   "outputs": [
    {
     "name": "stdout",
     "output_type": "stream",
     "text": [
      "파이썬에서 줄바꿈은 \\n으로 합니다. \n",
      "\n",
      "\n",
      "3줄 줄바꿈 끝\n"
     ]
    }
   ],
   "source": [
    "h1 = \"파이썬에서 줄바꿈은 \\\\n으로 합니다. \\n\\n\\n3줄 줄바꿈 끝\"\n",
    "print(h1)"
   ]
  },
  {
   "cell_type": "code",
   "execution_count": 11,
   "id": "4eabf384",
   "metadata": {},
   "outputs": [
    {
     "name": "stdout",
     "output_type": "stream",
     "text": [
      "탭으로 공간을 띄우는 것은 \\t \t로 합니다.\n"
     ]
    }
   ],
   "source": [
    "h2 = \"탭으로 공간을 띄우는 것은 \\\\t \\t로 합니다.\"\n",
    "print(h2)"
   ]
  },
  {
   "cell_type": "code",
   "execution_count": 12,
   "id": "73c3f747",
   "metadata": {},
   "outputs": [
    {
     "name": "stdout",
     "output_type": "stream",
     "text": [
      "캐리지 리턴은 \\r입니다. \n",
      "커서가 같은 줄 가장 앞으로 이동하기 때문에 \r",
      "글자가 겹쳐져서 지워졌습니다.\n"
     ]
    }
   ],
   "source": [
    "h3 = \"캐리지 리턴은 \\\\r입니다. \\n커서가 같은 줄 가장 앞으로 이동하기 때문에 \\r글자가 겹쳐져서 지워졌습니다.\"\n",
    "print(h3)"
   ]
  },
  {
   "cell_type": "markdown",
   "id": "e3464599",
   "metadata": {},
   "source": [
    "## 인덱스와 문자열\n",
    "* 문자: 글자 1개\n",
    "* 문자열: 글자가 여러 개, 순서가 있는 자료, 번호, 인덱스"
   ]
  },
  {
   "cell_type": "code",
   "execution_count": 16,
   "id": "584db299",
   "metadata": {},
   "outputs": [
    {
     "name": "stdout",
     "output_type": "stream",
     "text": [
      "문자열은 왼쪽부터 번호를 매길 수 있으며 시작은 0번부터 입니다.\n"
     ]
    }
   ],
   "source": [
    "h4 = \"문자열은 왼쪽부터 번호를 매길 수 있으며 시작은 0번부터 입니다.\"\n",
    "print(h4)"
   ]
  },
  {
   "cell_type": "code",
   "execution_count": 35,
   "id": "95dff7c7",
   "metadata": {},
   "outputs": [
    {
     "data": {
      "text/plain": [
       "'문'"
      ]
     },
     "execution_count": 35,
     "metadata": {},
     "output_type": "execute_result"
    }
   ],
   "source": [
    "h4[0]"
   ]
  },
  {
   "cell_type": "code",
   "execution_count": 20,
   "id": "ba7634e9",
   "metadata": {},
   "outputs": [
    {
     "data": {
      "text/plain": [
       "'문자열은 '"
      ]
     },
     "execution_count": 20,
     "metadata": {},
     "output_type": "execute_result"
    }
   ],
   "source": [
    "h4[0:5]"
   ]
  },
  {
   "cell_type": "code",
   "execution_count": 22,
   "id": "21630a60",
   "metadata": {},
   "outputs": [
    {
     "data": {
      "text/plain": [
       "'번호를 매길 수 있으며'"
      ]
     },
     "execution_count": 22,
     "metadata": {},
     "output_type": "execute_result"
    }
   ],
   "source": [
    "h4[10:22]"
   ]
  },
  {
   "cell_type": "code",
   "execution_count": 24,
   "id": "8d68fc4a",
   "metadata": {},
   "outputs": [
    {
     "data": {
      "text/plain": [
       "'.'"
      ]
     },
     "execution_count": 24,
     "metadata": {},
     "output_type": "execute_result"
    }
   ],
   "source": [
    "h4[-1]"
   ]
  },
  {
   "cell_type": "code",
   "execution_count": 27,
   "id": "3204dae9",
   "metadata": {},
   "outputs": [
    {
     "data": {
      "text/plain": [
       "'다'"
      ]
     },
     "execution_count": 27,
     "metadata": {},
     "output_type": "execute_result"
    }
   ],
   "source": [
    "h4[-2]"
   ]
  },
  {
   "cell_type": "code",
   "execution_count": 26,
   "id": "e1c6784a",
   "metadata": {
    "scrolled": true
   },
   "outputs": [
    {
     "data": {
      "text/plain": [
       "' 입니다.'"
      ]
     },
     "execution_count": 26,
     "metadata": {},
     "output_type": "execute_result"
    }
   ],
   "source": [
    "h4[-5:]"
   ]
  },
  {
   "cell_type": "code",
   "execution_count": 28,
   "id": "8674141a",
   "metadata": {},
   "outputs": [
    {
     "data": {
      "text/plain": [
       "'문자열은 '"
      ]
     },
     "execution_count": 28,
     "metadata": {},
     "output_type": "execute_result"
    }
   ],
   "source": [
    "h4[:5] # 0번부터 4번까지"
   ]
  },
  {
   "cell_type": "code",
   "execution_count": 29,
   "id": "52766c63",
   "metadata": {},
   "outputs": [
    {
     "data": {
      "text/plain": [
       "'부터 번호를 매길 수 있으며 시작은 0번부터 입니다.'"
      ]
     },
     "execution_count": 29,
     "metadata": {},
     "output_type": "execute_result"
    }
   ],
   "source": [
    "h4[7:] # 7번부터 끝까지"
   ]
  },
  {
   "cell_type": "code",
   "execution_count": 30,
   "id": "13fe87aa",
   "metadata": {},
   "outputs": [
    {
     "data": {
      "text/plain": [
       "'문자열은 왼쪽부터 번호를 매길 수 있으며 시작은 0번부터 입니다.'"
      ]
     },
     "execution_count": 30,
     "metadata": {},
     "output_type": "execute_result"
    }
   ],
   "source": [
    "h4[:] "
   ]
  },
  {
   "cell_type": "code",
   "execution_count": 34,
   "id": "86b846a6",
   "metadata": {},
   "outputs": [
    {
     "data": {
      "text/plain": [
       "'문열 쪽터번'"
      ]
     },
     "execution_count": 34,
     "metadata": {},
     "output_type": "execute_result"
    }
   ],
   "source": [
    "h4[0:11:2] # 인덱스 0 ~ 10번까지 가져오는데 2씩 건너뛰어서 가져옴"
   ]
  },
  {
   "cell_type": "code",
   "execution_count": 32,
   "id": "d101c3ef",
   "metadata": {},
   "outputs": [
    {
     "data": {
      "text/plain": [
       "'.다니입 터부번0 은작시 며으있 수 길매 를호번 터부쪽왼 은열자문'"
      ]
     },
     "execution_count": 32,
     "metadata": {},
     "output_type": "execute_result"
    }
   ],
   "source": [
    "h4[::-1] # 전체를 역순으로"
   ]
  },
  {
   "cell_type": "markdown",
   "id": "d5ea310d",
   "metadata": {},
   "source": [
    "## 문자열 함수\n",
    "* .replace()\n",
    "* .split()\n",
    "* .join()\n",
    "* .strip()"
   ]
  },
  {
   "cell_type": "markdown",
   "id": "cadd61a1",
   "metadata": {},
   "source": [
    "1) 문자열 바꾸기 replace(찾을값, 바꿀값)\n",
    "* replace함수는 사용후 결과를 재할당 해야 함."
   ]
  },
  {
   "cell_type": "code",
   "execution_count": 38,
   "id": "065de778",
   "metadata": {},
   "outputs": [
    {
     "data": {
      "text/plain": [
       "'Hello, Python'"
      ]
     },
     "execution_count": 38,
     "metadata": {},
     "output_type": "execute_result"
    }
   ],
   "source": [
    "h5 = \"Hello, Python\"\n",
    "h5"
   ]
  },
  {
   "cell_type": "code",
   "execution_count": 39,
   "id": "322eccc7",
   "metadata": {},
   "outputs": [
    {
     "data": {
      "text/plain": [
       "'Hello, World'"
      ]
     },
     "execution_count": 39,
     "metadata": {},
     "output_type": "execute_result"
    }
   ],
   "source": [
    "h5.replace('Python', 'World')"
   ]
  },
  {
   "cell_type": "code",
   "execution_count": 41,
   "id": "49bbd485",
   "metadata": {},
   "outputs": [
    {
     "data": {
      "text/plain": [
       "'Hello, World'"
      ]
     },
     "execution_count": 41,
     "metadata": {},
     "output_type": "execute_result"
    }
   ],
   "source": [
    "h5 = h5.replace('Python', 'World')\n",
    "h5"
   ]
  },
  {
   "cell_type": "markdown",
   "id": "ddf2b76e",
   "metadata": {},
   "source": [
    "* str.maketrans('찾을문자', '바꿀문자', '추가로 없앨문자)로 변환테이블 생성\n",
    "* translate로 문자를 찾아서 바꿈"
   ]
  },
  {
   "cell_type": "code",
   "execution_count": 42,
   "id": "181390c9",
   "metadata": {},
   "outputs": [],
   "source": [
    "table = str.maketrans('abcdefg','1234567')"
   ]
  },
  {
   "cell_type": "code",
   "execution_count": 44,
   "id": "f4f966bb",
   "metadata": {},
   "outputs": [
    {
     "data": {
      "text/plain": [
       "'H5llo, Worl4'"
      ]
     },
     "execution_count": 44,
     "metadata": {},
     "output_type": "execute_result"
    }
   ],
   "source": [
    "h5.translate(table)"
   ]
  },
  {
   "cell_type": "code",
   "execution_count": 45,
   "id": "40452ddf",
   "metadata": {},
   "outputs": [],
   "source": [
    "table = str.maketrans('abcdefg','1234567', 'lor')"
   ]
  },
  {
   "cell_type": "code",
   "execution_count": 46,
   "id": "d713a14a",
   "metadata": {},
   "outputs": [
    {
     "data": {
      "text/plain": [
       "'H5, W4'"
      ]
     },
     "execution_count": 46,
     "metadata": {},
     "output_type": "execute_result"
    }
   ],
   "source": [
    "h5.translate(table)"
   ]
  },
  {
   "cell_type": "code",
   "execution_count": 48,
   "id": "e7ec3fa6",
   "metadata": {},
   "outputs": [
    {
     "data": {
      "text/plain": [
       "'H5, W4'"
      ]
     },
     "execution_count": 48,
     "metadata": {},
     "output_type": "execute_result"
    }
   ],
   "source": [
    "h5.translate(str.maketrans('abcdefg','1234567', 'lor'))"
   ]
  },
  {
   "cell_type": "code",
   "execution_count": 49,
   "id": "0c169910",
   "metadata": {},
   "outputs": [
    {
     "data": {
      "text/plain": [
       "'He, Wd'"
      ]
     },
     "execution_count": 49,
     "metadata": {},
     "output_type": "execute_result"
    }
   ],
   "source": [
    "h5.translate(str.maketrans('','', 'lor'))"
   ]
  },
  {
   "cell_type": "code",
   "execution_count": 50,
   "id": "7148318d",
   "metadata": {},
   "outputs": [
    {
     "data": {
      "text/plain": [
       "'문자열은 왼쪽부터 번호를 매길 수 있으며 시작은 0번부터 입니다.'"
      ]
     },
     "execution_count": 50,
     "metadata": {},
     "output_type": "execute_result"
    }
   ],
   "source": [
    "h4"
   ]
  },
  {
   "cell_type": "code",
   "execution_count": 53,
   "id": "02723beb",
   "metadata": {},
   "outputs": [
    {
     "data": {
      "text/plain": [
       "'문자열은 왼쪽부터 번호를 매길 수 있으며 시작은 번부터 입니다'"
      ]
     },
     "execution_count": 53,
     "metadata": {},
     "output_type": "execute_result"
    }
   ],
   "source": [
    "h4.translate(str.maketrans('','', '0.'))"
   ]
  },
  {
   "cell_type": "markdown",
   "id": "0d8d39e4",
   "metadata": {},
   "source": [
    "2) 문자열 분리하기 .split()\n",
    "* 공백을 기준으로 문자열을 분리해  **리스트**로 만들어 줌.\n",
    "* 괄호 안에 분리 기준을 지정해서 그 기준에 따라 분리 가능"
   ]
  },
  {
   "cell_type": "code",
   "execution_count": 54,
   "id": "1fd35d64",
   "metadata": {},
   "outputs": [
    {
     "data": {
      "text/plain": [
       "'문자열은 왼쪽부터 번호를 매길 수 있으며 시작은 0번부터 입니다.'"
      ]
     },
     "execution_count": 54,
     "metadata": {},
     "output_type": "execute_result"
    }
   ],
   "source": [
    "h4"
   ]
  },
  {
   "cell_type": "code",
   "execution_count": 57,
   "id": "c21da08c",
   "metadata": {},
   "outputs": [],
   "source": [
    "h4_1 = h4.split()"
   ]
  },
  {
   "cell_type": "code",
   "execution_count": 58,
   "id": "709250e3",
   "metadata": {},
   "outputs": [
    {
     "data": {
      "text/plain": [
       "['문자열은', '왼쪽부터', '번호를', '매길', '수', '있으며', '시작은', '0번부터', '입니다.']"
      ]
     },
     "execution_count": 58,
     "metadata": {},
     "output_type": "execute_result"
    }
   ],
   "source": [
    "h4_1"
   ]
  },
  {
   "cell_type": "code",
   "execution_count": 59,
   "id": "8676730d",
   "metadata": {},
   "outputs": [
    {
     "name": "stdout",
     "output_type": "stream",
     "text": [
      "<class 'list'>\n"
     ]
    }
   ],
   "source": [
    "print(type(h4_1))"
   ]
  },
  {
   "cell_type": "code",
   "execution_count": null,
   "id": "a6a091e4",
   "metadata": {},
   "outputs": [],
   "source": [
    "h4.split()"
   ]
  },
  {
   "cell_type": "code",
   "execution_count": 62,
   "id": "025b5a7c",
   "metadata": {},
   "outputs": [
    {
     "name": "stdout",
     "output_type": "stream",
     "text": [
      "'문자열은', '왼쪽부터', '번호를', '매길', '수', '있으며', '시작은', '0번부터', '입니다.'\n"
     ]
    },
    {
     "data": {
      "text/plain": [
       "str"
      ]
     },
     "execution_count": 62,
     "metadata": {},
     "output_type": "execute_result"
    }
   ],
   "source": [
    "h6 = \"'문자열은', '왼쪽부터', '번호를', '매길', '수', '있으며', '시작은', '0번부터', '입니다.'\"\n",
    "print(h6)\n",
    "type(h6)"
   ]
  },
  {
   "cell_type": "code",
   "execution_count": 71,
   "id": "9b677964",
   "metadata": {},
   "outputs": [
    {
     "data": {
      "text/plain": [
       "[\"'문자열은'\",\n",
       " \"'왼쪽부터'\",\n",
       " \"'번호를'\",\n",
       " \"'매길'\",\n",
       " \"'수'\",\n",
       " \"'있으며'\",\n",
       " \"'시작은'\",\n",
       " \"'0번부터'\",\n",
       " \"'입니다.'\"]"
      ]
     },
     "execution_count": 71,
     "metadata": {},
     "output_type": "execute_result"
    }
   ],
   "source": [
    "h6.split(\", \")"
   ]
  },
  {
   "cell_type": "code",
   "execution_count": 72,
   "id": "a8ac04d9",
   "metadata": {},
   "outputs": [],
   "source": [
    "h7 = \"사과, 배, 포도, 파인애플, 망고, 오렌지\""
   ]
  },
  {
   "cell_type": "code",
   "execution_count": 75,
   "id": "abffd668",
   "metadata": {},
   "outputs": [
    {
     "data": {
      "text/plain": [
       "['사과', '배', '포도', '파인애플', '망고', '오렌지']"
      ]
     },
     "execution_count": 75,
     "metadata": {},
     "output_type": "execute_result"
    }
   ],
   "source": [
    "#h7을 split을 이용해 list로 변환\n",
    "h7_1 = h7.split(\", \")\n",
    "h7_1"
   ]
  },
  {
   "cell_type": "markdown",
   "id": "23ea8d67",
   "metadata": {},
   "source": [
    "3. 리스트를 1개의 문자열로 합치기<br>\n",
    "합칠 기준.join(list)"
   ]
  },
  {
   "cell_type": "code",
   "execution_count": 83,
   "id": "a6a6579b",
   "metadata": {},
   "outputs": [
    {
     "data": {
      "text/plain": [
       "'사과, 배, 포도, 파인애플, 망고, 오렌지'"
      ]
     },
     "execution_count": 83,
     "metadata": {},
     "output_type": "execute_result"
    }
   ],
   "source": [
    "h8 = \", \".join(h7_1)\n",
    "h8"
   ]
  },
  {
   "cell_type": "code",
   "execution_count": 78,
   "id": "3068771a",
   "metadata": {},
   "outputs": [
    {
     "data": {
      "text/plain": [
       "['사과', '배', '포도', '파인애플', '망고', '오렌지']"
      ]
     },
     "execution_count": 78,
     "metadata": {},
     "output_type": "execute_result"
    }
   ],
   "source": []
  },
  {
   "cell_type": "code",
   "execution_count": 84,
   "id": "8101a975",
   "metadata": {},
   "outputs": [],
   "source": [
    "h9 = ['iron man', 'spider-man', 'black widow', 'hulk']"
   ]
  },
  {
   "cell_type": "code",
   "execution_count": 85,
   "id": "58337a58",
   "metadata": {},
   "outputs": [
    {
     "data": {
      "text/plain": [
       "'iron man vs spider-man vs black widow vs hulk'"
      ]
     },
     "execution_count": 85,
     "metadata": {},
     "output_type": "execute_result"
    }
   ],
   "source": [
    "# \" vs \"를 넣어서 리스트를 문자열로 만드세요\n",
    "h9_1 = \" vs \".join(h9)\n",
    "h9_1"
   ]
  },
  {
   "cell_type": "markdown",
   "id": "720024e7",
   "metadata": {},
   "source": [
    "4. 소문자를 대문자로, 대문자를 소문자로 바꾸는 함수\n",
    "* .upper(), .lower()"
   ]
  },
  {
   "cell_type": "code",
   "execution_count": 89,
   "id": "89640358",
   "metadata": {},
   "outputs": [
    {
     "data": {
      "text/plain": [
       "'IRON MAN VS SPIDER-MAN VS BLACK WIDOW VS HULK'"
      ]
     },
     "execution_count": 89,
     "metadata": {},
     "output_type": "execute_result"
    }
   ],
   "source": [
    "h10 = h9_1.upper()\n",
    "h10"
   ]
  },
  {
   "cell_type": "code",
   "execution_count": 91,
   "id": "cef3e1b6",
   "metadata": {},
   "outputs": [
    {
     "data": {
      "text/plain": [
       "'iron man vs spider-man vs black widow vs hulk'"
      ]
     },
     "execution_count": 91,
     "metadata": {},
     "output_type": "execute_result"
    }
   ],
   "source": [
    "h10_1 = h10.lower()\n",
    "h10_1"
   ]
  },
  {
   "cell_type": "markdown",
   "id": "cb551ba6",
   "metadata": {},
   "source": [
    "5. 왼쪽, 오른쪽, 양쪽 공백/특정 문자 삭제하기\n",
    "* .lstrip(): 왼쪽\n",
    "* .rstrip(): 오른쪽\n",
    "* .strip(): 양쪽"
   ]
  },
  {
   "cell_type": "code",
   "execution_count": 92,
   "id": "22e84e91",
   "metadata": {},
   "outputs": [
    {
     "data": {
      "text/plain": [
       "'    공백이 있는 문자열    '"
      ]
     },
     "execution_count": 92,
     "metadata": {},
     "output_type": "execute_result"
    }
   ],
   "source": [
    "h11 = \"    공백이 있는 문자열    \"\n",
    "h11"
   ]
  },
  {
   "cell_type": "code",
   "execution_count": 93,
   "id": "5d2d97cd",
   "metadata": {},
   "outputs": [
    {
     "data": {
      "text/plain": [
       "'공백이 있는 문자열    '"
      ]
     },
     "execution_count": 93,
     "metadata": {},
     "output_type": "execute_result"
    }
   ],
   "source": [
    "h11.lstrip()"
   ]
  },
  {
   "cell_type": "code",
   "execution_count": 95,
   "id": "1af9d3e2",
   "metadata": {},
   "outputs": [
    {
     "data": {
      "text/plain": [
       "'    공백이 있는 문자열'"
      ]
     },
     "execution_count": 95,
     "metadata": {},
     "output_type": "execute_result"
    }
   ],
   "source": [
    "h11.rstrip()"
   ]
  },
  {
   "cell_type": "code",
   "execution_count": 96,
   "id": "88a10737",
   "metadata": {},
   "outputs": [
    {
     "data": {
      "text/plain": [
       "'공백이 있는 문자열'"
      ]
     },
     "execution_count": 96,
     "metadata": {},
     "output_type": "execute_result"
    }
   ],
   "source": [
    "h11.strip()"
   ]
  },
  {
   "cell_type": "code",
   "execution_count": 97,
   "id": "5f047097",
   "metadata": {},
   "outputs": [
    {
     "data": {
      "text/plain": [
       "' ... ,  공백과 특수문자가 같이 있는 문자열 !! ^^ ....   '"
      ]
     },
     "execution_count": 97,
     "metadata": {},
     "output_type": "execute_result"
    }
   ],
   "source": [
    "h12 = \" ... ,  공백과 특수문자가 같이 있는 문자열 !! ^^ ....   \"\n",
    "h12"
   ]
  },
  {
   "cell_type": "code",
   "execution_count": 98,
   "id": "0e82f62c",
   "metadata": {},
   "outputs": [
    {
     "data": {
      "text/plain": [
       "'... ,  공백과 특수문자가 같이 있는 문자열 !! ^^ ....   '"
      ]
     },
     "execution_count": 98,
     "metadata": {},
     "output_type": "execute_result"
    }
   ],
   "source": [
    "h12.lstrip()"
   ]
  },
  {
   "cell_type": "code",
   "execution_count": 99,
   "id": "71a7eb7c",
   "metadata": {},
   "outputs": [
    {
     "data": {
      "text/plain": [
       "' ... ,  공백과 특수문자가 같이 있는 문자열 !! ^^ ....'"
      ]
     },
     "execution_count": 99,
     "metadata": {},
     "output_type": "execute_result"
    }
   ],
   "source": [
    "h12.rstrip()"
   ]
  },
  {
   "cell_type": "code",
   "execution_count": 100,
   "id": "18dc0632",
   "metadata": {
    "scrolled": false
   },
   "outputs": [
    {
     "data": {
      "text/plain": [
       "'... ,  공백과 특수문자가 같이 있는 문자열 !! ^^ ....'"
      ]
     },
     "execution_count": 100,
     "metadata": {},
     "output_type": "execute_result"
    }
   ],
   "source": [
    "h12.strip()"
   ]
  },
  {
   "cell_type": "code",
   "execution_count": 102,
   "id": "6a632987",
   "metadata": {},
   "outputs": [
    {
     "data": {
      "text/plain": [
       "'공백과 특수문자가 같이 있는 문자열 !! ^^ ....   '"
      ]
     },
     "execution_count": 102,
     "metadata": {},
     "output_type": "execute_result"
    }
   ],
   "source": [
    "h12.lstrip(\"., \")"
   ]
  },
  {
   "cell_type": "code",
   "execution_count": 103,
   "id": "d1e26264",
   "metadata": {},
   "outputs": [
    {
     "data": {
      "text/plain": [
       "' ... ,  공백과 특수문자가 같이 있는 문자열'"
      ]
     },
     "execution_count": 103,
     "metadata": {},
     "output_type": "execute_result"
    }
   ],
   "source": [
    "h12.rstrip(\" .^!\")"
   ]
  },
  {
   "cell_type": "code",
   "execution_count": 104,
   "id": "d49492ca",
   "metadata": {
    "scrolled": true
   },
   "outputs": [
    {
     "data": {
      "text/plain": [
       "'공백과 특수문자가 같이 있는 문자열'"
      ]
     },
     "execution_count": 104,
     "metadata": {},
     "output_type": "execute_result"
    }
   ],
   "source": [
    "h12.strip(\" .,!^\")"
   ]
  },
  {
   "cell_type": "code",
   "execution_count": 106,
   "id": "cceff146",
   "metadata": {},
   "outputs": [
    {
     "name": "stdout",
     "output_type": "stream",
     "text": [
      " ... ,  공백과 특수   문자가\n",
      " ^^ 같이 있는 \t문자열 !! ^^ ....   \n"
     ]
    }
   ],
   "source": [
    "h13 = \" ... ,  공백과 특수   문자가\\n ^^ 같이 있는 \\t문자열 !! ^^ ....   \"\n",
    "print(h13)"
   ]
  },
  {
   "cell_type": "markdown",
   "id": "e5f6a0bc",
   "metadata": {},
   "source": [
    "6. 메서드 체이닝(method(함수) chaining)으로 여러함수 동시에 사용하기"
   ]
  },
  {
   "cell_type": "code",
   "execution_count": 114,
   "id": "c4ecb990",
   "metadata": {
    "scrolled": true
   },
   "outputs": [
    {
     "data": {
      "text/plain": [
       "'공백과 특수 문자가 같이 있는 문자열'"
      ]
     },
     "execution_count": 114,
     "metadata": {},
     "output_type": "execute_result"
    }
   ],
   "source": [
    "h13.strip(\" .,!^\").replace(\"^\", \"\").replace(\"\\n\", \"\").replace(\"\\t\", \"\").replace(\"   \", \" \").replace(\"  \", \" \")"
   ]
  },
  {
   "cell_type": "code",
   "execution_count": 129,
   "id": "edbd6fc0",
   "metadata": {},
   "outputs": [
    {
     "data": {
      "text/plain": [
       "'공백과 특수 문자가 같이 있는 문자열'"
      ]
     },
     "execution_count": 129,
     "metadata": {},
     "output_type": "execute_result"
    }
   ],
   "source": [
    "h13.translate(str.maketrans('','', '.,^!\\n\\t')).replace(\"   \", \" \").replace(\"  \", \" \").strip()"
   ]
  },
  {
   "cell_type": "markdown",
   "id": "269ae89b",
   "metadata": {},
   "source": [
    "* string.punctuation을 이용해 특수문자 제거하기"
   ]
  },
  {
   "cell_type": "code",
   "execution_count": 122,
   "id": "127f63e7",
   "metadata": {},
   "outputs": [],
   "source": [
    "import string"
   ]
  },
  {
   "cell_type": "code",
   "execution_count": 124,
   "id": "5d71ca01",
   "metadata": {},
   "outputs": [
    {
     "data": {
      "text/plain": [
       "'!\"#$%&\\'()*+,-./:;<=>?@[\\\\]^_`{|}~'"
      ]
     },
     "execution_count": 124,
     "metadata": {},
     "output_type": "execute_result"
    }
   ],
   "source": [
    "string.punctuation"
   ]
  },
  {
   "cell_type": "code",
   "execution_count": 125,
   "id": "9e72ee25",
   "metadata": {},
   "outputs": [
    {
     "data": {
      "text/plain": [
       "' ... ,  공백과 특수   문자가\\n ^^ 같이 있는 \\t문자열 !! ^^ ....   '"
      ]
     },
     "execution_count": 125,
     "metadata": {},
     "output_type": "execute_result"
    }
   ],
   "source": [
    "h13"
   ]
  },
  {
   "cell_type": "code",
   "execution_count": 127,
   "id": "db577e5c",
   "metadata": {},
   "outputs": [
    {
     "data": {
      "text/plain": [
       "'공백과 특수 문자가 같이 있는 문자열'"
      ]
     },
     "execution_count": 127,
     "metadata": {},
     "output_type": "execute_result"
    }
   ],
   "source": [
    "h13.translate(str.maketrans('','', string.punctuation)).replace(\"\\n\", \"\").replace(\"\\t\", \"\").replace(\"   \", \" \").replace(\"  \", \" \").strip()"
   ]
  },
  {
   "cell_type": "markdown",
   "id": "9609eed1",
   "metadata": {},
   "source": [
    "## 문자열 데이터 전처리 연습문제\n",
    "* 1. split()을 사용해서 ,를 기준으로 나누어 list로 만들기\n",
    "* 2. 각 항목별로 인덱싱해서 변수에 저장하기\n",
    "* 3. 필요한 부분은 join() 함수를 이용해 합치기\n",
    "* 4. 문자열 함수를 이용해 특수문자와 불필요한 공백 없애기"
   ]
  },
  {
   "cell_type": "code",
   "execution_count": 134,
   "id": "f0fc11c5",
   "metadata": {},
   "outputs": [],
   "source": [
    "test1 = '''344,622642,더 호텔 수 (THE HOTEL SOO),family,1박 가족 여행,2018년 5월 21일,8.0,\"위치 : 이순신 광장과는 반대편이라 차량으로 이동해야 합니다. 루프탑에서의\n",
    "바다 경치는 좋습니다.\n",
    "시설 : 깔끔하고 좋습니다. 패밀리룸을 사용 했는데 저녁6시쯤 갔더니 마지막 방이라며 2층을 배정 받았습니다. 창문을 여니 약간 쓰레기 냄새가 났고 바다가 보이지 않습니다.        \n",
    "루프탑 : 바베큐 세트가 저렴 했던거 같고 경치가 좋습니다. 수영장도 있었는데 계절이 아닌지.... \n",
    "    하지만 여름이면 좋을것 같습니다. 주차장은 장소가 넓지 않았던거 같고, 저녁에 나갔다 왔더니 야외 공터에 차를 대라고 하였습니다.    \n",
    "주말 저녁이라 그런지 가격을 제법 비싸게 준거 같은데... 2층이라 마음에 들지 않았습니다. 옆에 조선소 같은게 있어 쫌 보기에 좋지 않았습니다......................................'''"
   ]
  },
  {
   "cell_type": "code",
   "execution_count": 137,
   "id": "4cf2a8cc",
   "metadata": {},
   "outputs": [
    {
     "data": {
      "text/plain": [
       "['344',\n",
       " '622642',\n",
       " '더 호텔 수 (THE HOTEL SOO)',\n",
       " 'family',\n",
       " '1박 가족 여행',\n",
       " '2018년 5월 21일',\n",
       " '8.0',\n",
       " '\"위치 : 이순신 광장과는 반대편이라 차량으로 이동해야 합니다. 루프탑에서의\\n바다 경치는 좋습니다.\\n시설 : 깔끔하고 좋습니다. 패밀리룸을 사용 했는데 저녁6시쯤 갔더니 마지막 방이라며 2층을 배정 받았습니다. 창문을 여니 약간 쓰레기 냄새가 났고 바다가 보이지 않습니다.        \\n루프탑 : 바베큐 세트가 저렴 했던거 같고 경치가 좋습니다. 수영장도 있었는데 계절이 아닌지.... \\n    하지만 여름이면 좋을것 같습니다. 주차장은 장소가 넓지 않았던거 같고',\n",
       " ' 저녁에 나갔다 왔더니 야외 공터에 차를 대라고 하였습니다.    \\n주말 저녁이라 그런지 가격을 제법 비싸게 준거 같은데... 2층이라 마음에 들지 않았습니다. 옆에 조선소 같은게 있어 쫌 보기에 좋지 않았습니다......................................']"
      ]
     },
     "execution_count": 137,
     "metadata": {},
     "output_type": "execute_result"
    }
   ],
   "source": [
    "test1 = test1.split(\",\")\n",
    "test1"
   ]
  },
  {
   "cell_type": "code",
   "execution_count": 173,
   "id": "1ca24b14",
   "metadata": {},
   "outputs": [],
   "source": [
    "review = \",\".join(test1[7:])\n"
   ]
  },
  {
   "cell_type": "code",
   "execution_count": 174,
   "id": "50f8c717",
   "metadata": {},
   "outputs": [],
   "source": [
    "hid = \",\".join(test1[:2])\n",
    "hotel_name_kor = test1[2].split(\"(\")[0].strip()\n",
    "hotel_name_eng = test1[2].split(\"(\")[1].strip(\") \")\n",
    "trip_type = test1[3]\n",
    "trip_type2 = test1[4]\n",
    "trip_date = test1[5]\n",
    "rating = test1[6]\n",
    "review = review.replace(\".\", \"\").replace(\":\", \"\").replace(\"\\n\", \"\").replace(\"   \", \" \").replace(\"  \", \" \").replace(\",\", \"\").replace(\"  \", \" \").replace('\"',\"\")"
   ]
  },
  {
   "cell_type": "code",
   "execution_count": 177,
   "id": "ab7f5f1f",
   "metadata": {},
   "outputs": [
    {
     "name": "stdout",
     "output_type": "stream",
     "text": [
      "hid: 344,622642\n",
      "hotel_name_kor: 더 호텔 수\n",
      "hotel_name_eng: THE HOTEL SOO\n",
      "trip_type: family\n",
      "trip_type2: 1박 가족 여행\n",
      "trip_date: 2018년 5월 21일\n",
      "rating: 8.0\n",
      "review: 위치 이순신 광장과는 반대편이라 차량으로 이동해야 합니다 루프탑에서의바다 경치는 좋습니다시설 깔끔하고 좋습니다 패밀리룸을 사용 했는데 저녁6시쯤 갔더니 마지막 방이라며 2층을 배정 받았습니다 창문을 여니 약간 쓰레기 냄새가 났고 바다가 보이지 않습니다 루프탑 바베큐 세트가 저렴 했던거 같고 경치가 좋습니다 수영장도 있었는데 계절이 아닌지 하지만 여름이면 좋을것 같습니다 주차장은 장소가 넓지 않았던거 같고 저녁에 나갔다 왔더니 야외 공터에 차를 대라고 하였습니다 주말 저녁이라 그런지 가격을 제법 비싸게 준거 같은데 2층이라 마음에 들지 않았습니다 옆에 조선소 같은게 있어 쫌 보기에 좋지 않았습니다\n"
     ]
    }
   ],
   "source": [
    "print(\"hid:\", hid)\n",
    "print(\"hotel_name_kor:\", hotel_name_kor)\n",
    "print(\"hotel_name_eng:\", hotel_name_eng)\n",
    "print(\"trip_type:\", trip_type)\n",
    "print(\"trip_type2:\", trip_type2)\n",
    "print(\"trip_date:\", trip_date)\n",
    "print(\"rating:\", rating)\n",
    "print(\"review:\", review)"
   ]
  },
  {
   "cell_type": "code",
   "execution_count": 132,
   "id": "8d460ba2",
   "metadata": {},
   "outputs": [],
   "source": [
    "test2= \"18062,427535,파크 하얏트 부산 (Park Hyatt Busan),family,2박 가족 여행,2019년 12월 29일,10.0,결혼 1주년 기념으로 아이랑 신랑이랑 다녀왔어요~ 룸컨디션 너무 좋았고 뷰가 최고였습니다! 2박 머물렀는데 청소도 깔끔하게 해주시고 애기가 이불에 살짝 토했는데도 바로 갈아주시고 좋았습니다~ 대신 창가쪽 커튼 한쪽이 떨어져있어서 조금 거슬렸구요... 창가에 침실이 있다보니 암막커튼을 치지 않으면 조금 쌀쌀한 느낌은 있었어요! 아 그리고 아기때문에 침대에 가드를 부탁드렸는데 가드가 너무 별로였습니다... 가드 구실을 못하고 넘 허술하게 매트리스 아래 그냥 끼워진거라 아기가 밤새 두번이나 가드사이에 빠졌습니다... 이점 좀 아쉬워요 ! 그 외에는 다이닝룸 리빙룸, 바까지 모두 이용했는데 서비스 좋았습니다~~!\""
   ]
  },
  {
   "cell_type": "code",
   "execution_count": 182,
   "id": "3bfc7917",
   "metadata": {},
   "outputs": [],
   "source": [
    "test2 = test2.split(\",\")"
   ]
  },
  {
   "cell_type": "code",
   "execution_count": 201,
   "id": "acb35ab6",
   "metadata": {},
   "outputs": [
    {
     "data": {
      "text/plain": [
       "['18062',\n",
       " '427535',\n",
       " '파크 하얏트 부산 (Park Hyatt Busan)',\n",
       " 'family',\n",
       " '2박 가족 여행',\n",
       " '2019년 12월 29일',\n",
       " '10.0',\n",
       " '결혼 1주년 기념으로 아이랑 신랑이랑 다녀왔어요~ 룸컨디션 너무 좋았고 뷰가 최고였습니다! 2박 머물렀는데 청소도 깔끔하게 해주시고 애기가 이불에 살짝 토했는데도 바로 갈아주시고 좋았습니다~ 대신 창가쪽 커튼 한쪽이 떨어져있어서 조금 거슬렸구요... 창가에 침실이 있다보니 암막커튼을 치지 않으면 조금 쌀쌀한 느낌은 있었어요! 아 그리고 아기때문에 침대에 가드를 부탁드렸는데 가드가 너무 별로였습니다... 가드 구실을 못하고 넘 허술하게 매트리스 아래 그냥 끼워진거라 아기가 밤새 두번이나 가드사이에 빠졌습니다... 이점 좀 아쉬워요 ! 그 외에는 다이닝룸 리빙룸',\n",
       " ' 바까지 모두 이용했는데 서비스 좋았습니다~~!']"
      ]
     },
     "execution_count": 201,
     "metadata": {},
     "output_type": "execute_result"
    }
   ],
   "source": [
    "test2"
   ]
  },
  {
   "cell_type": "code",
   "execution_count": 204,
   "id": "edef5636",
   "metadata": {
    "scrolled": true
   },
   "outputs": [
    {
     "data": {
      "text/plain": [
       "'결혼 1주년 기념으로 아이랑 신랑이랑 다녀왔어요~ 룸컨디션 너무 좋았고 뷰가 최고였습니다! 2박 머물렀는데 청소도 깔끔하게 해주시고 애기가 이불에 살짝 토했는데도 바로 갈아주시고 좋았습니다~ 대신 창가쪽 커튼 한쪽이 떨어져있어서 조금 거슬렸구요... 창가에 침실이 있다보니 암막커튼을 치지 않으면 조금 쌀쌀한 느낌은 있었어요! 아 그리고 아기때문에 침대에 가드를 부탁드렸는데 가드가 너무 별로였습니다... 가드 구실을 못하고 넘 허술하게 매트리스 아래 그냥 끼워진거라 아기가 밤새 두번이나 가드사이에 빠졌습니다... 이점 좀 아쉬워요 ! 그 외에는 다이닝룸 리빙룸  바까지 모두 이용했는데 서비스 좋았습니다~~!'"
      ]
     },
     "execution_count": 204,
     "metadata": {},
     "output_type": "execute_result"
    }
   ],
   "source": [
    "test2_review = \" \".join(test2[7:])\n",
    "test2_review"
   ]
  },
  {
   "cell_type": "code",
   "execution_count": 207,
   "id": "e9d8f1e8",
   "metadata": {},
   "outputs": [
    {
     "data": {
      "text/plain": [
       "'결혼 1주년 기념으로 아이랑 신랑이랑 다녀왔어요 룸컨디션 너무 좋았고 뷰가 최고였습니다 2박 머물렀는데 청소도 깔끔하게 해주시고 애기가 이불에 살짝 토했는데도 바로 갈아주시고 좋았습니다 대신 창가쪽 커튼 한쪽이 떨어져있어서 조금 거슬렸구요 창가에 침실이 있다보니 암막커튼을 치지 않으면 조금 쌀쌀한 느낌은 있었어요 아 그리고 아기때문에 침대에 가드를 부탁드렸는데 가드가 너무 별로였습니다 가드 구실을 못하고 넘 허술하게 매트리스 아래 그냥 끼워진거라 아기가 밤새 두번이나 가드사이에 빠졌습니다 이점 좀 아쉬워요 그 외에는 다이닝룸 리빙룸 바까지 모두 이용했는데 서비스 좋았습니다'"
      ]
     },
     "execution_count": 207,
     "metadata": {},
     "output_type": "execute_result"
    }
   ],
   "source": [
    "test2_review.translate(str.maketrans('','', string.punctuation)).replace(\"  \", \" \")"
   ]
  },
  {
   "cell_type": "code",
   "execution_count": 208,
   "id": "d2873e87",
   "metadata": {},
   "outputs": [],
   "source": [
    "test2_hid = \",\".join(test2[:2])\n",
    "test2_hotel_name_kor = test2[2].split(\"(\")[0].strip()\n",
    "test2_hotel_name_eng = test2[2].split(\"(\")[1].strip(\") \")\n",
    "test2_trip_type = test2[3]\n",
    "test2_trip_type2 = test2[4]\n",
    "test2_trip_date = test2[5]\n",
    "test2_rating = test2[6]\n",
    "test2_review = test2_review.translate(str.maketrans('','', string.punctuation)).replace(\"  \", \" \")"
   ]
  },
  {
   "cell_type": "code",
   "execution_count": null,
   "id": "c6bc6b80",
   "metadata": {},
   "outputs": [],
   "source": []
  },
  {
   "cell_type": "code",
   "execution_count": 133,
   "id": "60176f26",
   "metadata": {},
   "outputs": [],
   "source": [
    "test3 = \"\"\"112731,239840,서귀포 칼 호텔 (Seogwipo KAL Hotel),family,3박 가족 여행,2020년 11월 19일,8.0,넓디넓은 정원과 산책로 덕분에 코로나 시대 언택트 여행에 좋았구요. 조용하고 한적하게 잘 쉬었어요.\n",
    "아무래도 서귀포가 제주시쪽보단 사람도 적어서 오히려 편하면서, 주변에 식당이나 까페, 편의점 갈때도 걸어서도 다녀올 입지라 좋습니다.\n",
    "실내 수영장은 생각만큼? 작은 규모라 오히려 사람 없이 잘 놀았어요ㅎㅎ \n",
    "라운지바가 넓고 층고도 높아서 커피나 맥주 먹으며 쉬기에 좋고요.\n",
    "매일 주시는 1.5리터 생수ㅎㅎ별거 아닐수 있지만 매우 감사했구요.\n",
    "다만 층수가 낮은 방이어서 그런가 모기가 있었어요^^;; 그외에는 다 깨끗했구요. \n",
    "매트리스가 오래됐는지 묘하게 불편해서 허리가 아프긴 하더라고요;; 다행히? 세미온돌이라 바닥에서 자는게 오히려 나았고요\n",
    "조식은...최근 후기가 다 별로라길래 하루만 가봤는데 역시;;ㅎ 뭐 저렴하기도 하지만.. 저는 나가서 먹었습니다.\"\"\""
   ]
  },
  {
   "cell_type": "code",
   "execution_count": 211,
   "id": "d2fe6dbb",
   "metadata": {},
   "outputs": [],
   "source": [
    "test3_review = test3.split(\",\")[7:]"
   ]
  },
  {
   "cell_type": "code",
   "execution_count": 214,
   "id": "00bd75f4",
   "metadata": {},
   "outputs": [],
   "source": [
    "test3_review = \" \".join(test3_review)"
   ]
  },
  {
   "cell_type": "code",
   "execution_count": 227,
   "id": "8cd0ed18",
   "metadata": {},
   "outputs": [],
   "source": [
    "test3_review = test3_review.replace(\"\\n\", \" \").replace(\"^\", \" \").replace(\";\", \" \").replace(\"...\", \" \").replace(\"..\", \" \").replace(\"?\", \" \").replace(\"ㅎ\", \" \").replace(\"   \", \" \").replace(\"  \", \" \").replace(\". \", \" \")"
   ]
  },
  {
   "cell_type": "code",
   "execution_count": 228,
   "id": "fa5fd2f9",
   "metadata": {},
   "outputs": [
    {
     "data": {
      "text/plain": [
       "'넓디넓은 정원과 산책로 덕분에 코로나 시대 언택트 여행에 좋았구요 조용하고 한적하게 잘 쉬었어요 아무래도 서귀포가 제주시쪽보단 사람도 적어서 오히려 편하면서 주변에 식당이나 까페 편의점 갈때도 걸어서도 다녀올 입지라 좋습니다 실내 수영장은 생각만큼 작은 규모라 오히려 사람 없이 잘 놀았어요 라운지바가 넓고 층고도 높아서 커피나 맥주 먹으며 쉬기에 좋고요 매일 주시는 1.5리터 생수 별거 아닐수 있지만 매우 감사했구요 다만 층수가 낮은 방이어서 그런가 모기가 있었어요  그외에는 다 깨끗했구요 매트리스가 오래됐는지 묘하게 불편해서 허리가 아프긴 하더라고요 다행히 세미온돌이라 바닥에서 자는게 오히려 나았고요 조식은 최근 후기가 다 별로라길래 하루만 가봤는데 역시 뭐 저렴하기도 하지만 저는 나가서 먹었습니다.'"
      ]
     },
     "execution_count": 228,
     "metadata": {},
     "output_type": "execute_result"
    }
   ],
   "source": [
    "test3_review"
   ]
  },
  {
   "cell_type": "code",
   "execution_count": 229,
   "id": "69ab1089",
   "metadata": {},
   "outputs": [
    {
     "data": {
      "text/plain": [
       "397"
      ]
     },
     "execution_count": 229,
     "metadata": {},
     "output_type": "execute_result"
    }
   ],
   "source": [
    "len(test3_review)"
   ]
  },
  {
   "cell_type": "code",
   "execution_count": null,
   "id": "ceb15a25",
   "metadata": {},
   "outputs": [],
   "source": []
  }
 ],
 "metadata": {
  "kernelspec": {
   "display_name": "Python 3 (ipykernel)",
   "language": "python",
   "name": "python3"
  },
  "language_info": {
   "codemirror_mode": {
    "name": "ipython",
    "version": 3
   },
   "file_extension": ".py",
   "mimetype": "text/x-python",
   "name": "python",
   "nbconvert_exporter": "python",
   "pygments_lexer": "ipython3",
   "version": "3.10.14"
  }
 },
 "nbformat": 4,
 "nbformat_minor": 5
}
