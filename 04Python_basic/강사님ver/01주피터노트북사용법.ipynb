{
 "cells": [
  {
   "cell_type": "markdown",
   "id": "a2c90b3f",
   "metadata": {},
   "source": [
    "# 주피터 노트북 사용법\n",
    "## 셀모드: 셀 왼쪽 빈 공간 클릭 => 파란색으로 활성화\n",
    "* **위에 셀 추가:** a\n",
    "* **아래 셀 추가:** b\n",
    "* **셀 복사:** c\n",
    "* **셀 잘라내기:** x\n",
    "* **셀 붙여넣기:** v\n",
    "* **markdown모드:** m\n",
    "* **coding모드** y\n",
    "\n",
    "\n",
    "## 코딩모드: 셀 안쪽 클릭 => 녹색으로 활성화 셀 왼쪽에 In [ ]:가 있음\n",
    "\n",
    "## 마크다운 모드\n",
    "* **수식 넣기:**  $$ Tex $$\n",
    "$$ (A \\cap B) $$ <br>\n",
    "$$ A \\over B $$"
   ]
  },
  {
   "cell_type": "markdown",
   "id": "6b2d0065",
   "metadata": {},
   "source": [
    "* 링크걸기<br>\n",
    "[네이버링크](https://www.naver.com)\n",
    "* 이미지 넣기\n",
    "![파이썬이미지](data:image/png;base64,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)\n"
   ]
  },
  {
   "cell_type": "markdown",
   "id": "bdc85c30",
   "metadata": {},
   "source": [
    "# 파이썬 기초 문법\n",
    "* 파이썬은 세미콜론(;)을 쓰지 않는다.\n",
    "* 한 줄에 여러 명령을 쓸때 사용. \n",
    "* 파이썬의 주석은 문장앞에 #을 붙인다. ctrl + /\n",
    "* 파이썬은 들여쓰기를 사용해서 코드를 구분해 작성한다.\n",
    "* 들여쓰기는 4칸이 기본(스페이스바 사용) google colab은 2칸\n",
    "* 변수를 만들때 스네이크 표기법을 사용한다. ex) user_name\n",
    "* 클래스를 만들때는 카멜 표기법을 사용한다. ex) UserName, RandomForestClassifirer()"
   ]
  },
  {
   "cell_type": "markdown",
   "id": "f7a9a55f",
   "metadata": {},
   "source": [
    "# print문"
   ]
  },
  {
   "cell_type": "code",
   "execution_count": 1,
   "id": "760e568c",
   "metadata": {},
   "outputs": [
    {
     "name": "stdout",
     "output_type": "stream",
     "text": [
      "Hello, python\n",
      "Hello, python\n"
     ]
    }
   ],
   "source": [
    "print('Hello, python') ; print('Hello, python')"
   ]
  },
  {
   "cell_type": "code",
   "execution_count": 2,
   "id": "73367de7",
   "metadata": {},
   "outputs": [
    {
     "name": "stdout",
     "output_type": "stream",
     "text": [
      "Hello, python Hello, world\n"
     ]
    }
   ],
   "source": [
    "print('Hello, python', 'Hello, world')"
   ]
  },
  {
   "cell_type": "code",
   "execution_count": 3,
   "id": "e15ff1a0",
   "metadata": {},
   "outputs": [
    {
     "name": "stdout",
     "output_type": "stream",
     "text": [
      "Hello, python \n",
      " Hello, world \n",
      " Hello, jupyter\n"
     ]
    }
   ],
   "source": [
    "print('Hello, python', 'Hello, world', 'Hello, jupyter', sep=\" \\n \")"
   ]
  },
  {
   "cell_type": "code",
   "execution_count": 4,
   "id": "f8a2df7f",
   "metadata": {},
   "outputs": [
    {
     "name": "stdout",
     "output_type": "stream",
     "text": [
      "Hello, python\n",
      "Hello, world\n"
     ]
    }
   ],
   "source": [
    "print('Hello, python', sep=\" \", end=\"\\n\")\n",
    "print('Hello, world')"
   ]
  },
  {
   "cell_type": "code",
   "execution_count": 5,
   "id": "ecb11f99",
   "metadata": {},
   "outputs": [
    {
     "name": "stdout",
     "output_type": "stream",
     "text": [
      "Hello, python\r",
      "Hello, world\n"
     ]
    }
   ],
   "source": [
    "print('Hello, python', sep=\" \", end=\"\\r\")\n",
    "print('Hello, world')"
   ]
  },
  {
   "cell_type": "code",
   "execution_count": 6,
   "id": "e903969d",
   "metadata": {},
   "outputs": [
    {
     "name": "stdout",
     "output_type": "stream",
     "text": [
      "19\r"
     ]
    }
   ],
   "source": [
    "import time\n",
    "for i in range(1,20):\n",
    "    time.sleep(0.1)\n",
    "    print(i, end=\"\\r\")"
   ]
  },
  {
   "cell_type": "code",
   "execution_count": 7,
   "id": "e0945b46",
   "metadata": {},
   "outputs": [
    {
     "name": "stdout",
     "output_type": "stream",
     "text": [
      "Hello, python\n",
      "\n",
      "Hello, world\n"
     ]
    }
   ],
   "source": [
    "print('Hello, python', sep=\" \", end=\"\\n\")\n",
    "print()\n",
    "print('Hello, world')"
   ]
  },
  {
   "cell_type": "markdown",
   "id": "48c48443",
   "metadata": {},
   "source": [
    "# 변수\n",
    "* 영문, 숫자를 조합해서 만들수 있다\n",
    "* 문자부터 시작해야 하며 숫자부터 시작하면 안된다\n",
    "* 대소문자를 구분한다\n",
    "* _로 시작할 수 있다. -는 안된다\n",
    "* 특수문사 사용안됨\n",
    "* 파이썬의 키워드(예약어) if, for while, str은 사용할 수 없다\n",
    "* 변수는 스네이크 표기법으로 명명한다. "
   ]
  },
  {
   "cell_type": "code",
   "execution_count": 8,
   "id": "5309315b",
   "metadata": {},
   "outputs": [
    {
     "ename": "SyntaxError",
     "evalue": "invalid syntax (182722112.py, line 1)",
     "output_type": "error",
     "traceback": [
      "\u001b[1;36m  Cell \u001b[1;32mIn[8], line 1\u001b[1;36m\u001b[0m\n\u001b[1;33m    if = 10\u001b[0m\n\u001b[1;37m       ^\u001b[0m\n\u001b[1;31mSyntaxError\u001b[0m\u001b[1;31m:\u001b[0m invalid syntax\n"
     ]
    }
   ],
   "source": [
    "if = 10"
   ]
  },
  {
   "cell_type": "code",
   "execution_count": null,
   "id": "09063988",
   "metadata": {},
   "outputs": [],
   "source": [
    "# str = 10"
   ]
  },
  {
   "cell_type": "code",
   "execution_count": null,
   "id": "1b52a33e",
   "metadata": {},
   "outputs": [],
   "source": [
    "# int = 20"
   ]
  },
  {
   "cell_type": "code",
   "execution_count": null,
   "id": "b6f380e2",
   "metadata": {},
   "outputs": [],
   "source": [
    "# id = 30"
   ]
  },
  {
   "cell_type": "code",
   "execution_count": 9,
   "id": "1b78f5ef",
   "metadata": {},
   "outputs": [
    {
     "data": {
      "text/plain": [
       "20"
      ]
     },
     "execution_count": 9,
     "metadata": {},
     "output_type": "execute_result"
    }
   ],
   "source": [
    "a = int(\"20\")\n",
    "a"
   ]
  },
  {
   "cell_type": "code",
   "execution_count": 10,
   "id": "096505ba",
   "metadata": {},
   "outputs": [
    {
     "data": {
      "text/plain": [
       "1997120275280"
      ]
     },
     "execution_count": 10,
     "metadata": {},
     "output_type": "execute_result"
    }
   ],
   "source": [
    "id(a)"
   ]
  },
  {
   "cell_type": "code",
   "execution_count": 11,
   "id": "740b72a3",
   "metadata": {},
   "outputs": [],
   "source": [
    "a = 10\n",
    "b = 3.14\n",
    "c = \"문자열\""
   ]
  },
  {
   "cell_type": "code",
   "execution_count": 12,
   "id": "639242df",
   "metadata": {},
   "outputs": [
    {
     "data": {
      "text/plain": [
       "10"
      ]
     },
     "execution_count": 12,
     "metadata": {},
     "output_type": "execute_result"
    }
   ],
   "source": [
    "a"
   ]
  },
  {
   "cell_type": "code",
   "execution_count": 13,
   "id": "ace9e621",
   "metadata": {},
   "outputs": [
    {
     "data": {
      "text/plain": [
       "3.14"
      ]
     },
     "execution_count": 13,
     "metadata": {},
     "output_type": "execute_result"
    }
   ],
   "source": [
    "b"
   ]
  },
  {
   "cell_type": "code",
   "execution_count": 14,
   "id": "bd937f26",
   "metadata": {},
   "outputs": [
    {
     "name": "stdout",
     "output_type": "stream",
     "text": [
      "3.14\n"
     ]
    },
    {
     "data": {
      "text/plain": [
       "'문자열'"
      ]
     },
     "execution_count": 14,
     "metadata": {},
     "output_type": "execute_result"
    }
   ],
   "source": [
    "print(b)\n",
    "c"
   ]
  },
  {
   "cell_type": "code",
   "execution_count": 15,
   "id": "0110c617",
   "metadata": {},
   "outputs": [
    {
     "name": "stdout",
     "output_type": "stream",
     "text": [
      "문자열\n"
     ]
    }
   ],
   "source": [
    "print(c)"
   ]
  },
  {
   "cell_type": "code",
   "execution_count": 16,
   "id": "69be9368",
   "metadata": {},
   "outputs": [
    {
     "name": "stdout",
     "output_type": "stream",
     "text": [
      "10\n",
      "10\n"
     ]
    }
   ],
   "source": [
    "a = 10\n",
    "b = '10'\n",
    "print(a)\n",
    "print(b)"
   ]
  },
  {
   "cell_type": "code",
   "execution_count": 17,
   "id": "d60eb9c2",
   "metadata": {},
   "outputs": [
    {
     "name": "stdout",
     "output_type": "stream",
     "text": [
      "<class 'int'>\n",
      "<class 'str'>\n"
     ]
    }
   ],
   "source": [
    "print(type(a))\n",
    "print(type(b))"
   ]
  },
  {
   "cell_type": "code",
   "execution_count": 18,
   "id": "7f94d2b2",
   "metadata": {},
   "outputs": [
    {
     "data": {
      "text/plain": [
       "10"
      ]
     },
     "execution_count": 18,
     "metadata": {},
     "output_type": "execute_result"
    }
   ],
   "source": [
    "a"
   ]
  },
  {
   "cell_type": "code",
   "execution_count": 19,
   "id": "4029f243",
   "metadata": {},
   "outputs": [
    {
     "data": {
      "text/plain": [
       "'10'"
      ]
     },
     "execution_count": 19,
     "metadata": {},
     "output_type": "execute_result"
    }
   ],
   "source": [
    "b"
   ]
  },
  {
   "cell_type": "markdown",
   "id": "b0840d5d",
   "metadata": {},
   "source": [
    "# 키보드 입력받기 input()\n",
    "* input() 함수로 입력받는 모든 값은 문자열로 저장된다.\n",
    "* 반드시 형변환이 필요"
   ]
  },
  {
   "cell_type": "code",
   "execution_count": 20,
   "id": "e8b0240c",
   "metadata": {},
   "outputs": [
    {
     "name": "stdout",
     "output_type": "stream",
     "text": [
      "10\n",
      "20\n",
      "1020\n"
     ]
    }
   ],
   "source": [
    "num =input()\n",
    "num2 = input()\n",
    "print(num+num2)"
   ]
  },
  {
   "cell_type": "code",
   "execution_count": 21,
   "id": "fc845ca0",
   "metadata": {},
   "outputs": [
    {
     "name": "stdout",
     "output_type": "stream",
     "text": [
      "10\n",
      "20\n",
      "30\n"
     ]
    }
   ],
   "source": [
    "num =input()\n",
    "num2 = input()\n",
    "print(int(num)+int(num2))"
   ]
  },
  {
   "cell_type": "code",
   "execution_count": 24,
   "id": "468bbc7d",
   "metadata": {},
   "outputs": [
    {
     "name": "stdout",
     "output_type": "stream",
     "text": [
      "숫자를 3개 공백으로 구분해서 입력해주세요: 10 20 30\n",
      "30\n"
     ]
    }
   ],
   "source": [
    "num, num2, num3 = input(\"숫자를 3개 공백으로 구분해서 입력해주세요: \").split()\n",
    "print(int(num)+int(num2))"
   ]
  },
  {
   "cell_type": "markdown",
   "id": "937e5de7",
   "metadata": {},
   "source": [
    "# 변수 여러 개를 한 번에 만들기\n",
    "* 변수 개수와 데이터 개수는 일치시켜야 함"
   ]
  },
  {
   "cell_type": "code",
   "execution_count": 25,
   "id": "84a706b9",
   "metadata": {},
   "outputs": [],
   "source": [
    "x, y, z = 10, 20, 30"
   ]
  },
  {
   "cell_type": "code",
   "execution_count": 26,
   "id": "5af022c1",
   "metadata": {},
   "outputs": [
    {
     "name": "stdout",
     "output_type": "stream",
     "text": [
      "10 20 30\n"
     ]
    }
   ],
   "source": [
    "print(x, y, z)"
   ]
  },
  {
   "cell_type": "markdown",
   "id": "55e34a13",
   "metadata": {},
   "source": [
    "# 변수 삭제하기 del 변수명"
   ]
  },
  {
   "cell_type": "code",
   "execution_count": 27,
   "id": "af01b82a",
   "metadata": {},
   "outputs": [],
   "source": [
    "del x"
   ]
  },
  {
   "cell_type": "code",
   "execution_count": 28,
   "id": "cee96383",
   "metadata": {
    "scrolled": false
   },
   "outputs": [
    {
     "ename": "NameError",
     "evalue": "name 'x' is not defined",
     "output_type": "error",
     "traceback": [
      "\u001b[1;31m---------------------------------------------------------------------------\u001b[0m",
      "\u001b[1;31mNameError\u001b[0m                                 Traceback (most recent call last)",
      "Cell \u001b[1;32mIn[28], line 1\u001b[0m\n\u001b[1;32m----> 1\u001b[0m \u001b[43mx\u001b[49m\n",
      "\u001b[1;31mNameError\u001b[0m: name 'x' is not defined"
     ]
    }
   ],
   "source": [
    "x"
   ]
  },
  {
   "cell_type": "code",
   "execution_count": null,
   "id": "92df9214",
   "metadata": {
    "scrolled": true
   },
   "outputs": [],
   "source": [
    "x"
   ]
  },
  {
   "cell_type": "markdown",
   "id": "00db01c6",
   "metadata": {},
   "source": []
  },
  {
   "cell_type": "code",
   "execution_count": null,
   "id": "f8d33277",
   "metadata": {},
   "outputs": [],
   "source": []
  },
  {
   "cell_type": "code",
   "execution_count": null,
   "id": "279d26a3",
   "metadata": {},
   "outputs": [],
   "source": []
  },
  {
   "cell_type": "code",
   "execution_count": null,
   "id": "0c9aba21",
   "metadata": {},
   "outputs": [],
   "source": []
  },
  {
   "cell_type": "code",
   "execution_count": null,
   "id": "7f862161",
   "metadata": {},
   "outputs": [],
   "source": []
  }
 ],
 "metadata": {
  "kernelspec": {
   "display_name": "Python 3 (ipykernel)",
   "language": "python",
   "name": "python3"
  },
  "language_info": {
   "codemirror_mode": {
    "name": "ipython",
    "version": 3
   },
   "file_extension": ".py",
   "mimetype": "text/x-python",
   "name": "python",
   "nbconvert_exporter": "python",
   "pygments_lexer": "ipython3",
   "version": "3.10.14"
  }
 },
 "nbformat": 4,
 "nbformat_minor": 5
}
