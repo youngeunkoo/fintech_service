{
 "cells": [
  {
   "cell_type": "markdown",
   "id": "f0d81fae",
   "metadata": {},
   "source": [
    "# 함수 만들기"
   ]
  },
  {
   "cell_type": "markdown",
   "id": "12c93c68",
   "metadata": {},
   "source": [
    "* print(), split(), input()  => 함수\n",
    "* 함수의 괄호 안에 값을 넣으면 출력을 해주거나 입력을 받거나 변환을 해 줌\n",
    "* 도구\n",
    "* function => 기능\n",
    "* 자주 사용하는 기능을 미리 만들어서 **반복 재사용** 할 수 있게 만드는 것"
   ]
  },
  {
   "cell_type": "code",
   "execution_count": 1,
   "id": "45e8f582",
   "metadata": {},
   "outputs": [
    {
     "data": {
      "text/plain": [
       "[10, 20, 30, 40, 50]"
      ]
     },
     "execution_count": 1,
     "metadata": {},
     "output_type": "execute_result"
    }
   ],
   "source": [
    "L = [1,2,3,4,5]\n",
    "result = []\n",
    "for i in L:\n",
    "    result.append(i*10)\n",
    "result"
   ]
  },
  {
   "cell_type": "code",
   "execution_count": 190,
   "id": "3c852314",
   "metadata": {},
   "outputs": [],
   "source": [
    "def mul10(num):\n",
    "    result = []\n",
    "    for i in num:\n",
    "        result.append(i*10)\n",
    "    return result"
   ]
  },
  {
   "cell_type": "code",
   "execution_count": 9,
   "id": "73c93b60",
   "metadata": {},
   "outputs": [],
   "source": [
    "L2 = [6,7,8,9,10]"
   ]
  },
  {
   "cell_type": "code",
   "execution_count": 13,
   "id": "311996e0",
   "metadata": {},
   "outputs": [
    {
     "data": {
      "text/plain": [
       "[10, 20, 30, 40, 50]"
      ]
     },
     "execution_count": 13,
     "metadata": {},
     "output_type": "execute_result"
    }
   ],
   "source": [
    "mul10(L)"
   ]
  },
  {
   "cell_type": "code",
   "execution_count": 12,
   "id": "fb20a924",
   "metadata": {},
   "outputs": [
    {
     "data": {
      "text/plain": [
       "[60, 70, 80, 90, 100]"
      ]
     },
     "execution_count": 12,
     "metadata": {},
     "output_type": "execute_result"
    }
   ],
   "source": [
    "mul10(L2)"
   ]
  },
  {
   "cell_type": "markdown",
   "id": "2d91b949",
   "metadata": {},
   "source": [
    "## 1) 함수 만드는 법\n",
    "def 함수이름():<br>\n",
    "____실행코드<br>\n",
    "____return 리턴 값<br>"
   ]
  },
  {
   "cell_type": "code",
   "execution_count": 15,
   "id": "b5928af5",
   "metadata": {},
   "outputs": [],
   "source": [
    "def hello():\n",
    "    print(\"hello 파이썬 함수 만들기\")"
   ]
  },
  {
   "cell_type": "code",
   "execution_count": 16,
   "id": "e1f60324",
   "metadata": {},
   "outputs": [
    {
     "name": "stdout",
     "output_type": "stream",
     "text": [
      "hello 파이썬 함수 만들기\n"
     ]
    }
   ],
   "source": [
    "hello()"
   ]
  },
  {
   "cell_type": "code",
   "execution_count": 18,
   "id": "a2db9e0e",
   "metadata": {},
   "outputs": [
    {
     "name": "stdout",
     "output_type": "stream",
     "text": [
      "hello\n",
      "\n",
      "world\n"
     ]
    }
   ],
   "source": [
    "print(\"hello\")\n",
    "print()\n",
    "print(\"world\")"
   ]
  },
  {
   "cell_type": "markdown",
   "id": "f4dbd258",
   "metadata": {},
   "source": [
    "## 2) 함수 호출순서\n",
    "* 함수는 호출하기 전에 반드시 먼저 정의되어야 하고(만들어 놓아야 함)\n",
    "* 함수 정의가 함수 실행보다 위에 있어야 한다."
   ]
  },
  {
   "cell_type": "code",
   "execution_count": 4,
   "id": "8c0e8bcd",
   "metadata": {},
   "outputs": [
    {
     "name": "stdout",
     "output_type": "stream",
     "text": [
      "hello2 파이썬 함수 만들기\n"
     ]
    }
   ],
   "source": [
    "hello2()"
   ]
  },
  {
   "cell_type": "code",
   "execution_count": 2,
   "id": "f345067d",
   "metadata": {},
   "outputs": [],
   "source": [
    "def hello2():\n",
    "    print(\"hello2 파이썬 함수 만들기\")"
   ]
  },
  {
   "cell_type": "markdown",
   "id": "1369176d",
   "metadata": {},
   "source": [
    "## 3) 함수의 매개변수\n",
    "* 함수의 ()안에 받는 값\n",
    "* ()안에 값을 받아서 함수 내에서 처리할 때 사용\n",
    "* print(\"hello\")  => hello"
   ]
  },
  {
   "cell_type": "code",
   "execution_count": null,
   "id": "9cd116b4",
   "metadata": {},
   "outputs": [],
   "source": [
    "c = \"hello\""
   ]
  },
  {
   "cell_type": "markdown",
   "id": "e88fa1fe",
   "metadata": {},
   "source": [
    "매개변수 1개짜리 함수"
   ]
  },
  {
   "cell_type": "code",
   "execution_count": 5,
   "id": "c26c5734",
   "metadata": {},
   "outputs": [],
   "source": [
    "# 원의 넓이를 구하는 함수 - 반지름 * 반지름 * 3.14\n",
    "def circle(c):\n",
    "    print(\"원의 넓이는: \", c * c * 3.14, \"입니다.\")\n",
    "    return c * c * 3.14"
   ]
  },
  {
   "cell_type": "code",
   "execution_count": 6,
   "id": "b5616213",
   "metadata": {},
   "outputs": [
    {
     "name": "stdout",
     "output_type": "stream",
     "text": [
      "원의 넓이는:  28.26 입니다.\n",
      "result: 28.26\n"
     ]
    }
   ],
   "source": [
    "result = circle(3)\n",
    "print(\"result:\", result)"
   ]
  },
  {
   "cell_type": "markdown",
   "id": "821e98e6",
   "metadata": {},
   "source": [
    "매개변수 2개짜리 함수 - 덧셈 함수 만들기"
   ]
  },
  {
   "cell_type": "code",
   "execution_count": 7,
   "id": "5a199365",
   "metadata": {},
   "outputs": [],
   "source": [
    "def add(a, b):\n",
    "    return a + b"
   ]
  },
  {
   "cell_type": "code",
   "execution_count": 8,
   "id": "a9b993de",
   "metadata": {},
   "outputs": [
    {
     "name": "stdout",
     "output_type": "stream",
     "text": [
      "result:  13\n"
     ]
    }
   ],
   "source": [
    "result = add(10, 3)\n",
    "print(\"result: \", result)"
   ]
  },
  {
   "cell_type": "code",
   "execution_count": 9,
   "id": "21e959f2",
   "metadata": {},
   "outputs": [
    {
     "data": {
      "text/plain": [
       "1345676768165"
      ]
     },
     "execution_count": 9,
     "metadata": {},
     "output_type": "execute_result"
    }
   ],
   "source": [
    "add(999, 1345676767166)"
   ]
  },
  {
   "cell_type": "markdown",
   "id": "a4b7e47e",
   "metadata": {},
   "source": [
    "매개 변수 3개짜리 함수 - a: 시작, b: 끝, c: 증감<br>\n",
    "num_maker라는 이름의 함수를 만드세요.<br>\n",
    "숫자를 입력받아 시작, 끝, 증감이 반영되게 출력하세요.<br>\n",
    "num_maker(1, 10, 2)<br>\n",
    "1, 3, 5, 7, 9"
   ]
  },
  {
   "cell_type": "code",
   "execution_count": 23,
   "id": "16ca55a8",
   "metadata": {},
   "outputs": [],
   "source": [
    "def num_maker(a, b, c):\n",
    "    result = [i for i in range(a,b,c)]\n",
    "    return result"
   ]
  },
  {
   "cell_type": "code",
   "execution_count": 24,
   "id": "5ee8b624",
   "metadata": {},
   "outputs": [
    {
     "name": "stdout",
     "output_type": "stream",
     "text": [
      "[1, 3, 5, 7, 9]\n",
      "<class 'list'>\n"
     ]
    }
   ],
   "source": [
    "result = num_maker(1, 10, 2)\n",
    "print(result)\n",
    "print(type(result))"
   ]
  },
  {
   "cell_type": "code",
   "execution_count": 25,
   "id": "b40f12a6",
   "metadata": {},
   "outputs": [
    {
     "ename": "TypeError",
     "evalue": "num_maker() missing 1 required positional argument: 'c'",
     "output_type": "error",
     "traceback": [
      "\u001b[1;31m---------------------------------------------------------------------------\u001b[0m",
      "\u001b[1;31mTypeError\u001b[0m                                 Traceback (most recent call last)",
      "Cell \u001b[1;32mIn[25], line 1\u001b[0m\n\u001b[1;32m----> 1\u001b[0m \u001b[43mnum_maker\u001b[49m\u001b[43m(\u001b[49m\u001b[38;5;241;43m2\u001b[39;49m\u001b[43m,\u001b[49m\u001b[43m \u001b[49m\u001b[38;5;241;43m500\u001b[39;49m\u001b[43m)\u001b[49m\n",
      "\u001b[1;31mTypeError\u001b[0m: num_maker() missing 1 required positional argument: 'c'"
     ]
    }
   ],
   "source": [
    "num_maker(2, 500)"
   ]
  },
  {
   "cell_type": "markdown",
   "id": "d85f2b7d",
   "metadata": {},
   "source": [
    "리턴값이 여러 개인 함수"
   ]
  },
  {
   "cell_type": "code",
   "execution_count": 30,
   "id": "846af78f",
   "metadata": {},
   "outputs": [],
   "source": [
    "def add_sub(a, b):\n",
    "    add = a + b\n",
    "    sub = a - b\n",
    "    return add, sub"
   ]
  },
  {
   "cell_type": "code",
   "execution_count": 31,
   "id": "854bbd0b",
   "metadata": {},
   "outputs": [
    {
     "name": "stdout",
     "output_type": "stream",
     "text": [
      "(10, 4)\n",
      "<class 'tuple'>\n"
     ]
    }
   ],
   "source": [
    "result = add_sub(7, 3)\n",
    "print(result)\n",
    "print(type(result))"
   ]
  },
  {
   "cell_type": "code",
   "execution_count": 28,
   "id": "931ec2b9",
   "metadata": {},
   "outputs": [],
   "source": [
    "a = 1\n",
    "b = 3"
   ]
  },
  {
   "cell_type": "code",
   "execution_count": 29,
   "id": "65dbf564",
   "metadata": {},
   "outputs": [
    {
     "data": {
      "text/plain": [
       "(1, 3)"
      ]
     },
     "execution_count": 29,
     "metadata": {},
     "output_type": "execute_result"
    }
   ],
   "source": [
    "t = a, b\n",
    "t"
   ]
  },
  {
   "cell_type": "code",
   "execution_count": 41,
   "id": "b6b53c15",
   "metadata": {},
   "outputs": [
    {
     "name": "stdout",
     "output_type": "stream",
     "text": [
      "<class 'tuple'> (0, 1)\n",
      "<class 'tuple'> (1, 2)\n",
      "<class 'tuple'> (2, 3)\n",
      "<class 'tuple'> (3, 4)\n",
      "<class 'tuple'> (4, 5)\n",
      "<class 'tuple'> (5, 6)\n",
      "<class 'tuple'> (6, 7)\n",
      "<class 'tuple'> (7, 8)\n",
      "<class 'tuple'> (8, 9)\n",
      "<class 'tuple'> (9, 10)\n"
     ]
    }
   ],
   "source": [
    "for i in enumerate(range(1,11)):\n",
    "    print(type(i),i )"
   ]
  },
  {
   "cell_type": "markdown",
   "id": "6cdf3d2c",
   "metadata": {},
   "source": [
    "num_maker2 - 정방향, 역방향 리스트 출력"
   ]
  },
  {
   "cell_type": "code",
   "execution_count": 32,
   "id": "935b62f4",
   "metadata": {},
   "outputs": [],
   "source": [
    "def num_maker2(a, b, c):\n",
    "    asc = [i for i in range(a, b, c)]\n",
    "    desc = [i for i in range(a, b, c)][::-1]\n",
    "    return asc, desc"
   ]
  },
  {
   "cell_type": "code",
   "execution_count": 35,
   "id": "7471be9c",
   "metadata": {},
   "outputs": [
    {
     "name": "stdout",
     "output_type": "stream",
     "text": [
      "result_asc  [1, 3, 5, 7, 9]\n",
      "result_desc [9, 7, 5, 3, 1]\n"
     ]
    }
   ],
   "source": [
    "result= num_maker2(1, 10, 2)\n",
    "print(\"result_asc \", result[0])\n",
    "print(\"result_desc\", result[1])"
   ]
  },
  {
   "cell_type": "markdown",
   "id": "6e92efc0",
   "metadata": {},
   "source": [
    "## 4) 중간에 함수를 종료시키기 위한 용도의 return\n",
    "* 반복문에서 break로 반복을 중지시키는 것처럼 함수에서 return이 실행되면 함수는 종료"
   ]
  },
  {
   "cell_type": "markdown",
   "id": "0dbb30f0",
   "metadata": {},
   "source": [
    "1-10까지 숫자중에 짝수만 출력하다가 7 이상이 되면 종료하기"
   ]
  },
  {
   "cell_type": "code",
   "execution_count": 38,
   "id": "7bf38286",
   "metadata": {},
   "outputs": [],
   "source": [
    "age = range(1,11)"
   ]
  },
  {
   "cell_type": "code",
   "execution_count": 39,
   "id": "e245bc77",
   "metadata": {},
   "outputs": [],
   "source": [
    "def even(age):\n",
    "    for i in age:\n",
    "        if i % 2 == 0:\n",
    "            print(i, end = \" \")\n",
    "        elif i >= 7:\n",
    "            break\n",
    "    "
   ]
  },
  {
   "cell_type": "code",
   "execution_count": 40,
   "id": "9ee21ea4",
   "metadata": {},
   "outputs": [
    {
     "name": "stdout",
     "output_type": "stream",
     "text": [
      "2 4 6 "
     ]
    }
   ],
   "source": [
    "even(age)"
   ]
  },
  {
   "cell_type": "code",
   "execution_count": 41,
   "id": "0c9673ce",
   "metadata": {},
   "outputs": [],
   "source": [
    "def even2(age):\n",
    "    for i in age:\n",
    "        if i % 2 == 0:\n",
    "            print(i, end = \" \")\n",
    "        elif i >= 7:\n",
    "            return"
   ]
  },
  {
   "cell_type": "code",
   "execution_count": 42,
   "id": "2c5a4142",
   "metadata": {},
   "outputs": [
    {
     "name": "stdout",
     "output_type": "stream",
     "text": [
      "2 4 6 "
     ]
    }
   ],
   "source": [
    "even2(age)"
   ]
  },
  {
   "cell_type": "markdown",
   "id": "9ded66e8",
   "metadata": {},
   "source": [
    "1-100까지 숫자중에 홀수만 출력하다가 51번째에 종료하는 odd 함수를 만드세요."
   ]
  },
  {
   "cell_type": "code",
   "execution_count": 91,
   "id": "87b141c1",
   "metadata": {},
   "outputs": [],
   "source": [
    "def odd(a):\n",
    "    print(\"a: \", a)\n",
    "    print(\"a type: \", type(a))\n",
    "    for i in a:\n",
    "        if i % 2 ==1:\n",
    "            print(i, end=\" \")\n",
    "        elif i >= 51:\n",
    "            return"
   ]
  },
  {
   "cell_type": "code",
   "execution_count": 44,
   "id": "466b5e7d",
   "metadata": {
    "scrolled": true
   },
   "outputs": [
    {
     "name": "stdout",
     "output_type": "stream",
     "text": [
      "a:  range(1, 101)\n",
      "1 3 5 7 9 11 13 15 17 19 21 23 25 27 29 31 33 35 37 39 41 43 45 47 49 51 "
     ]
    }
   ],
   "source": [
    "odd(range(1, 101))"
   ]
  },
  {
   "cell_type": "code",
   "execution_count": 92,
   "id": "4e3bf46c",
   "metadata": {},
   "outputs": [
    {
     "name": "stdout",
     "output_type": "stream",
     "text": [
      "<class 'list'>\n",
      "a:  [1, 2, 3, 4, 5, 6, 7, 8, 9, 10, 11, 12, 13, 14, 15, 16, 17, 18, 19, 20, 21, 22, 23, 24, 25, 26, 27, 28, 29, 30, 31, 32, 33, 34, 35, 36, 37, 38, 39, 40, 41, 42, 43, 44, 45, 46, 47, 48, 49, 50, 51, 52, 53, 54, 55, 56, 57, 58, 59, 60, 61, 62, 63, 64, 65, 66, 67, 68, 69, 70, 71, 72, 73, 74, 75, 76, 77, 78, 79, 80, 81, 82, 83, 84, 85, 86, 87, 88, 89, 90, 91, 92, 93, 94, 95, 96, 97, 98, 99, 100]\n",
      "a type:  <class 'list'>\n",
      "1 3 5 7 9 11 13 15 17 19 21 23 25 27 29 31 33 35 37 39 41 43 45 47 49 51 "
     ]
    }
   ],
   "source": [
    "h = list(range(1, 101))\n",
    "print(type(h))\n",
    "odd(h) # =>  a = h"
   ]
  },
  {
   "cell_type": "markdown",
   "id": "81000dd8",
   "metadata": {},
   "source": [
    "## 5) 함수에서 위치 인수와 키워드 인수 사용하기\n",
    "* 위치인수(positional argument) 매개변수\n",
    "* 함수에 인수를 순서대로 넣는 방식\n",
    "* 인수의 위치가 정해져 있음"
   ]
  },
  {
   "cell_type": "code",
   "execution_count": 51,
   "id": "a223abfa",
   "metadata": {},
   "outputs": [],
   "source": [
    "def print_nums(a, b, c):\n",
    "    print(a, b, c)"
   ]
  },
  {
   "cell_type": "code",
   "execution_count": 52,
   "id": "69c9a034",
   "metadata": {},
   "outputs": [
    {
     "name": "stdout",
     "output_type": "stream",
     "text": [
      "10 20 30\n"
     ]
    }
   ],
   "source": [
    "print_nums(10, 20, 30)"
   ]
  },
  {
   "cell_type": "markdown",
   "id": "06cbebd9",
   "metadata": {},
   "source": [
    "리스트, 튜플과 같은 자료형을 1개의 위치인수(매개변수)로 받을 때<br>\n",
    "위치 인수와 개수가 같으면 *로 언패킹 가능"
   ]
  },
  {
   "cell_type": "code",
   "execution_count": 53,
   "id": "5cbbeda7",
   "metadata": {},
   "outputs": [],
   "source": [
    "p = [10, 20, 30]"
   ]
  },
  {
   "cell_type": "code",
   "execution_count": 54,
   "id": "79df54de",
   "metadata": {},
   "outputs": [
    {
     "ename": "TypeError",
     "evalue": "print_nums() missing 2 required positional arguments: 'b' and 'c'",
     "output_type": "error",
     "traceback": [
      "\u001b[1;31m---------------------------------------------------------------------------\u001b[0m",
      "\u001b[1;31mTypeError\u001b[0m                                 Traceback (most recent call last)",
      "Cell \u001b[1;32mIn[54], line 1\u001b[0m\n\u001b[1;32m----> 1\u001b[0m \u001b[43mprint_nums\u001b[49m\u001b[43m(\u001b[49m\u001b[43mp\u001b[49m\u001b[43m)\u001b[49m\n",
      "\u001b[1;31mTypeError\u001b[0m: print_nums() missing 2 required positional arguments: 'b' and 'c'"
     ]
    }
   ],
   "source": [
    "print_nums(p)"
   ]
  },
  {
   "cell_type": "code",
   "execution_count": 55,
   "id": "19732d23",
   "metadata": {},
   "outputs": [
    {
     "name": "stdout",
     "output_type": "stream",
     "text": [
      "10 20 30\n"
     ]
    }
   ],
   "source": [
    "print_nums(p[0], p[1], p[2])"
   ]
  },
  {
   "cell_type": "code",
   "execution_count": 65,
   "id": "81bc15fe",
   "metadata": {},
   "outputs": [
    {
     "name": "stdout",
     "output_type": "stream",
     "text": [
      "10 20 30\n"
     ]
    }
   ],
   "source": [
    "print(*p)"
   ]
  },
  {
   "cell_type": "code",
   "execution_count": 56,
   "id": "a064093d",
   "metadata": {},
   "outputs": [
    {
     "name": "stdout",
     "output_type": "stream",
     "text": [
      "10 20 30\n"
     ]
    }
   ],
   "source": [
    "print_nums(*p)"
   ]
  },
  {
   "cell_type": "markdown",
   "id": "3b7e1779",
   "metadata": {},
   "source": [
    "가변인수\n",
    "* 여러 개의 자료를 한 번에 입력 받음 \n",
    "* *args  => *변수명"
   ]
  },
  {
   "cell_type": "code",
   "execution_count": 59,
   "id": "e0792dc7",
   "metadata": {},
   "outputs": [
    {
     "name": "stdout",
     "output_type": "stream",
     "text": [
      "a b c\n"
     ]
    }
   ],
   "source": [
    "print(\"a\", \"b\", \"c\")"
   ]
  },
  {
   "cell_type": "code",
   "execution_count": 60,
   "id": "ebdccb8e",
   "metadata": {},
   "outputs": [],
   "source": [
    "def my_print(*args):\n",
    "    for i in args:\n",
    "        print(i, end=\" \")"
   ]
  },
  {
   "cell_type": "code",
   "execution_count": 63,
   "id": "b4f7a4ee",
   "metadata": {},
   "outputs": [
    {
     "name": "stdout",
     "output_type": "stream",
     "text": [
      "2 4 5 1 파이썬 "
     ]
    }
   ],
   "source": [
    "my_print(\"2\", \"4\", \"5\", 1, '파이썬')"
   ]
  },
  {
   "cell_type": "markdown",
   "id": "6dfed89f",
   "metadata": {},
   "source": [
    "여러 개의 숫자를 입력받아 더하는 함수(입력 개수가 정해져 있지 X)"
   ]
  },
  {
   "cell_type": "code",
   "execution_count": 70,
   "id": "a7986741",
   "metadata": {},
   "outputs": [],
   "source": [
    "def sum2(*args):\n",
    "    print(\"args:\", args)\n",
    "    print(\"args type:\", type(args))\n",
    "    hap = 0\n",
    "    for i in args:\n",
    "        hap += i\n",
    "    return hap"
   ]
  },
  {
   "cell_type": "code",
   "execution_count": 71,
   "id": "f68611d9",
   "metadata": {
    "scrolled": true
   },
   "outputs": [
    {
     "name": "stdout",
     "output_type": "stream",
     "text": [
      "args: (1, 1, 4, 6, 7, 8, 9, 2, 5, 6, 2, 2, 6, 4, 2, 6, 2, 2)\n",
      "args type: <class 'tuple'>\n"
     ]
    },
    {
     "data": {
      "text/plain": [
       "75"
      ]
     },
     "execution_count": 71,
     "metadata": {},
     "output_type": "execute_result"
    }
   ],
   "source": [
    "sum2(1,1,4,6,7,8,9,2,5,6,2,2,6,4,2,6,2,2)"
   ]
  },
  {
   "cell_type": "code",
   "execution_count": 80,
   "id": "872f9cdc",
   "metadata": {},
   "outputs": [
    {
     "data": {
      "text/plain": [
       "75"
      ]
     },
     "execution_count": 80,
     "metadata": {},
     "output_type": "execute_result"
    }
   ],
   "source": [
    "sum((1, 1, 4, 6, 7, 8, 9, 2, 5, 6, 2, 2, 6, 4, 2, 6, 2, 2))"
   ]
  },
  {
   "cell_type": "code",
   "execution_count": 74,
   "id": "5eed7cf8",
   "metadata": {},
   "outputs": [],
   "source": [
    "def sum3(*nums):\n",
    "    return sum(nums)"
   ]
  },
  {
   "cell_type": "code",
   "execution_count": 75,
   "id": "ca550f74",
   "metadata": {},
   "outputs": [
    {
     "data": {
      "text/plain": [
       "75"
      ]
     },
     "execution_count": 75,
     "metadata": {},
     "output_type": "execute_result"
    }
   ],
   "source": [
    "sum3(1, 1, 4, 6, 7, 8, 9, 2, 5, 6, 2, 2, 6, 4, 2, 6, 2, 2)"
   ]
  },
  {
   "cell_type": "code",
   "execution_count": 78,
   "id": "c4b29d21",
   "metadata": {},
   "outputs": [
    {
     "name": "stdout",
     "output_type": "stream",
     "text": [
      "1 1 4 6 7 8 9 2 5 6 2 2 6 4 2 6 2 2\n"
     ]
    }
   ],
   "source": [
    "print(*[1, 1, 4, 6, 7, 8, 9, 2, 5, 6, 2, 2, 6, 4, 2, 6, 2, 2])"
   ]
  },
  {
   "cell_type": "code",
   "execution_count": 77,
   "id": "cafa952b",
   "metadata": {},
   "outputs": [
    {
     "name": "stdout",
     "output_type": "stream",
     "text": [
      "1 1 4 6 7 8 9 2 5 6 2 2 6 4 2 6 2 2 "
     ]
    }
   ],
   "source": [
    "for i in [1, 1, 4, 6, 7, 8, 9, 2, 5, 6, 2, 2, 6, 4, 2, 6, 2, 2]:\n",
    "    print(i, end=\" \")"
   ]
  },
  {
   "cell_type": "code",
   "execution_count": 80,
   "id": "a77c4723",
   "metadata": {},
   "outputs": [],
   "source": [
    "L1 = [1, 1, 4, 6, 7, 8, 9, 2, 5, 6, 2, 2, 6, 4, 2, 6, 2, 2]"
   ]
  },
  {
   "cell_type": "code",
   "execution_count": 102,
   "id": "40f23d94",
   "metadata": {},
   "outputs": [],
   "source": [
    "def sum3(*nums):\n",
    "    print(type(nums))\n",
    "    print(\"nums: \", nums)\n",
    "    print(\"nums[0]: \", nums[0])\n",
    "    return sum(nums)"
   ]
  },
  {
   "cell_type": "code",
   "execution_count": 103,
   "id": "ce76561b",
   "metadata": {
    "scrolled": false
   },
   "outputs": [
    {
     "name": "stdout",
     "output_type": "stream",
     "text": [
      "<class 'tuple'>\n",
      "nums:  ([1, 1, 4, 6, 7, 8, 9, 2, 5, 6, 2, 2, 6, 4, 2, 6, 2, 2],)\n",
      "nums[0]:  [1, 1, 4, 6, 7, 8, 9, 2, 5, 6, 2, 2, 6, 4, 2, 6, 2, 2]\n"
     ]
    },
    {
     "ename": "TypeError",
     "evalue": "unsupported operand type(s) for +: 'int' and 'list'",
     "output_type": "error",
     "traceback": [
      "\u001b[1;31m---------------------------------------------------------------------------\u001b[0m",
      "\u001b[1;31mTypeError\u001b[0m                                 Traceback (most recent call last)",
      "Cell \u001b[1;32mIn[103], line 1\u001b[0m\n\u001b[1;32m----> 1\u001b[0m \u001b[43msum3\u001b[49m\u001b[43m(\u001b[49m\u001b[43mL1\u001b[49m\u001b[43m)\u001b[49m\n",
      "Cell \u001b[1;32mIn[102], line 5\u001b[0m, in \u001b[0;36msum3\u001b[1;34m(*nums)\u001b[0m\n\u001b[0;32m      3\u001b[0m \u001b[38;5;28mprint\u001b[39m(\u001b[38;5;124m\"\u001b[39m\u001b[38;5;124mnums: \u001b[39m\u001b[38;5;124m\"\u001b[39m, nums)\n\u001b[0;32m      4\u001b[0m \u001b[38;5;28mprint\u001b[39m(\u001b[38;5;124m\"\u001b[39m\u001b[38;5;124mnums[0]: \u001b[39m\u001b[38;5;124m\"\u001b[39m, nums[\u001b[38;5;241m0\u001b[39m])\n\u001b[1;32m----> 5\u001b[0m \u001b[38;5;28;01mreturn\u001b[39;00m \u001b[38;5;28;43msum\u001b[39;49m\u001b[43m(\u001b[49m\u001b[43mnums\u001b[49m\u001b[43m)\u001b[49m\n",
      "\u001b[1;31mTypeError\u001b[0m: unsupported operand type(s) for +: 'int' and 'list'"
     ]
    }
   ],
   "source": [
    "sum3(L1)"
   ]
  },
  {
   "cell_type": "code",
   "execution_count": 104,
   "id": "43226423",
   "metadata": {
    "scrolled": true
   },
   "outputs": [
    {
     "name": "stdout",
     "output_type": "stream",
     "text": [
      "<class 'tuple'>\n",
      "nums:  (1, 1, 4, 6, 7, 8, 9, 2, 5, 6, 2, 2, 6, 4, 2, 6, 2, 2)\n",
      "nums[0]:  1\n"
     ]
    },
    {
     "data": {
      "text/plain": [
       "75"
      ]
     },
     "execution_count": 104,
     "metadata": {},
     "output_type": "execute_result"
    }
   ],
   "source": [
    "# sum3(1, 1, 4, 6, 7, 8, 9, 2, 5, 6, 2, 2, 6, 4, 2, 6, 2, 2)\n",
    "sum3(*L1)"
   ]
  },
  {
   "cell_type": "code",
   "execution_count": 106,
   "id": "ea8d469c",
   "metadata": {},
   "outputs": [],
   "source": [
    "def list_tuple_func(*args):\n",
    "    print(args)\n",
    "    print(type(args))"
   ]
  },
  {
   "cell_type": "code",
   "execution_count": 107,
   "id": "8b08f642",
   "metadata": {},
   "outputs": [
    {
     "name": "stdout",
     "output_type": "stream",
     "text": [
      "(1, 2, 3, 4, 5)\n",
      "<class 'tuple'>\n"
     ]
    }
   ],
   "source": [
    "list_tuple_func(1,2,3,4,5)"
   ]
  },
  {
   "cell_type": "code",
   "execution_count": 108,
   "id": "8d6ae26a",
   "metadata": {},
   "outputs": [
    {
     "name": "stdout",
     "output_type": "stream",
     "text": [
      "(1.1, 2.2, 3.3, 4.4, 5.5)\n",
      "<class 'tuple'>\n"
     ]
    }
   ],
   "source": [
    "list_tuple_func(1.1,2.2,3.3,4.4,5.5)"
   ]
  },
  {
   "cell_type": "code",
   "execution_count": 109,
   "id": "9c14b89b",
   "metadata": {},
   "outputs": [
    {
     "name": "stdout",
     "output_type": "stream",
     "text": [
      "([1, 2, 3], [4, 5, 6], [7, 8, 9])\n",
      "<class 'tuple'>\n"
     ]
    }
   ],
   "source": [
    "list_tuple_func([1,2,3], [4,5,6], [7,8,9])"
   ]
  },
  {
   "cell_type": "code",
   "execution_count": 110,
   "id": "a4d832eb",
   "metadata": {},
   "outputs": [
    {
     "name": "stdout",
     "output_type": "stream",
     "text": [
      "({'a': 1, 'b': 2, 'c': 3},)\n",
      "<class 'tuple'>\n"
     ]
    }
   ],
   "source": [
    "list_tuple_func(dict(a=1, b=2, c=3))"
   ]
  },
  {
   "cell_type": "markdown",
   "id": "044d9ef0",
   "metadata": {},
   "source": [
    "고정인수와 가변인수 함께 사용하기\n",
    "* 고정인수와 가변인수를 함께 사용할 때는 반드시\n",
    "* 고정인수, 가변인수 순으로 넣고 가변인수는 항상 가장 마지막에 넣는다.<br>\n",
    "def sum(a, *args):  O <br>\n",
    "def sum(*args, a):  X  \n"
   ]
  },
  {
   "cell_type": "markdown",
   "id": "fd206014",
   "metadata": {},
   "source": [
    "정수와 리스트를 입력받아 리스트의 요소에 <br>\n",
    "입력받은 정수를 곱한 값의 리스트를 반환하는 함수<br>\n",
    "3, [1,2,3,4,5] => [3,6,9,12,15]"
   ]
  },
  {
   "cell_type": "code",
   "execution_count": 111,
   "id": "c94313b6",
   "metadata": {},
   "outputs": [],
   "source": [
    "def muls(a, *args):\n",
    "    result = []\n",
    "    for num in args:\n",
    "        print(a * num, end=\" \")\n",
    "        result.append(a * num)\n",
    "    return result"
   ]
  },
  {
   "cell_type": "code",
   "execution_count": 112,
   "id": "eae7fb84",
   "metadata": {},
   "outputs": [],
   "source": [
    "L2 =[1,2,3,4,5]"
   ]
  },
  {
   "cell_type": "code",
   "execution_count": 114,
   "id": "07bf3a39",
   "metadata": {
    "scrolled": true
   },
   "outputs": [
    {
     "name": "stdout",
     "output_type": "stream",
     "text": [
      "10 20 30 40 50 "
     ]
    },
    {
     "data": {
      "text/plain": [
       "[10, 20, 30, 40, 50]"
      ]
     },
     "execution_count": 114,
     "metadata": {},
     "output_type": "execute_result"
    }
   ],
   "source": [
    "muls(10, *L2)"
   ]
  },
  {
   "cell_type": "code",
   "execution_count": 102,
   "id": "d021ccb4",
   "metadata": {},
   "outputs": [
    {
     "name": "stdout",
     "output_type": "stream",
     "text": [
      "3 6 9 12 15 "
     ]
    },
    {
     "data": {
      "text/plain": [
       "[3, 6, 9, 12, 15]"
      ]
     },
     "execution_count": 102,
     "metadata": {},
     "output_type": "execute_result"
    }
   ],
   "source": [
    "muls(3,1,2,3,4,5)"
   ]
  },
  {
   "cell_type": "markdown",
   "id": "24f49ae3",
   "metadata": {},
   "source": [
    "가변인수가 앞에 왔기 때문에 에러"
   ]
  },
  {
   "cell_type": "code",
   "execution_count": 115,
   "id": "1c3eff71",
   "metadata": {},
   "outputs": [],
   "source": [
    "def muls2(*args, a):\n",
    "    result = []\n",
    "    for num in args:\n",
    "        print(a * num, end=\" \")\n",
    "        result.append(a * num)\n",
    "    return result"
   ]
  },
  {
   "cell_type": "code",
   "execution_count": 116,
   "id": "23836537",
   "metadata": {},
   "outputs": [
    {
     "ename": "TypeError",
     "evalue": "muls2() missing 1 required keyword-only argument: 'a'",
     "output_type": "error",
     "traceback": [
      "\u001b[1;31m---------------------------------------------------------------------------\u001b[0m",
      "\u001b[1;31mTypeError\u001b[0m                                 Traceback (most recent call last)",
      "Cell \u001b[1;32mIn[116], line 1\u001b[0m\n\u001b[1;32m----> 1\u001b[0m \u001b[43mmuls2\u001b[49m\u001b[43m(\u001b[49m\u001b[38;5;241;43m*\u001b[39;49m\u001b[43mL2\u001b[49m\u001b[43m,\u001b[49m\u001b[43m \u001b[49m\u001b[38;5;241;43m3\u001b[39;49m\u001b[43m)\u001b[49m\n",
      "\u001b[1;31mTypeError\u001b[0m: muls2() missing 1 required keyword-only argument: 'a'"
     ]
    }
   ],
   "source": [
    "muls2(*L2, 3)"
   ]
  },
  {
   "cell_type": "markdown",
   "id": "8f523fa2",
   "metadata": {},
   "source": [
    "키워드 인수"
   ]
  },
  {
   "cell_type": "markdown",
   "id": "2042aa0f",
   "metadata": {},
   "source": [
    "개인 정보를 출력하는 함수"
   ]
  },
  {
   "cell_type": "code",
   "execution_count": 1,
   "id": "4a96c1ef",
   "metadata": {},
   "outputs": [],
   "source": [
    "def personal_info(name, age, address):\n",
    "    print('이름: ', name)\n",
    "    print('나이: ', age)\n",
    "    print('주소: ', address)"
   ]
  },
  {
   "cell_type": "code",
   "execution_count": 2,
   "id": "e5342794",
   "metadata": {},
   "outputs": [
    {
     "name": "stdout",
     "output_type": "stream",
     "text": [
      "이름:  홍길동\n",
      "나이:  30\n",
      "주소:  서울시 강남구\n"
     ]
    }
   ],
   "source": [
    "personal_info('홍길동', 30, '서울시 강남구')"
   ]
  },
  {
   "cell_type": "code",
   "execution_count": 3,
   "id": "337d3edc",
   "metadata": {},
   "outputs": [
    {
     "name": "stdout",
     "output_type": "stream",
     "text": [
      "이름:  30\n",
      "나이:  홍길동\n",
      "주소:  서울시 강남구\n"
     ]
    }
   ],
   "source": [
    "personal_info(30, '홍길동', '서울시 강남구')"
   ]
  },
  {
   "cell_type": "markdown",
   "id": "5ab23eb3",
   "metadata": {},
   "source": [
    "* 위의 함수는 인수의 순서를 모두 기억해야 하기 때문에 사용하기 어려움\n",
    "* 인수의 순서와 용도를 매번 기억하지 않도록 하기 위해서 키워드 인수(keyword argument)사용\n",
    "* 예) print(\"python\", sep=\" \", end=\"\\n\")  sep, end => 키워드 인수"
   ]
  },
  {
   "cell_type": "code",
   "execution_count": 121,
   "id": "0b6937b8",
   "metadata": {},
   "outputs": [
    {
     "data": {
      "text/plain": [
       "{'key': 'value'}"
      ]
     },
     "execution_count": 121,
     "metadata": {},
     "output_type": "execute_result"
    }
   ],
   "source": [
    "dict(key='value')"
   ]
  },
  {
   "cell_type": "markdown",
   "id": "7ecf3623",
   "metadata": {},
   "source": [
    "personal_info 함수를 키워드 인수 방식으로 호출"
   ]
  },
  {
   "cell_type": "code",
   "execution_count": 122,
   "id": "deb7db68",
   "metadata": {},
   "outputs": [
    {
     "name": "stdout",
     "output_type": "stream",
     "text": [
      "이름:  홍길동\n",
      "나이:  30\n",
      "주소:  서울시 강남구\n"
     ]
    }
   ],
   "source": [
    "personal_info(name='홍길동', age=30, address=\"서울시 강남구\")"
   ]
  },
  {
   "cell_type": "markdown",
   "id": "b3c823ab",
   "metadata": {},
   "source": [
    "키워드 인수 방식으로 함수를 호출하면 인수 순서나 위치가 바뀌어도 동작"
   ]
  },
  {
   "cell_type": "code",
   "execution_count": 4,
   "id": "d06b3a77",
   "metadata": {},
   "outputs": [
    {
     "name": "stdout",
     "output_type": "stream",
     "text": [
      "이름:  홍길동\n",
      "나이:  30\n",
      "주소:  서울시 강남구\n"
     ]
    }
   ],
   "source": [
    "personal_info(address=\"서울시 강남구\", name='홍길동', age=30 )"
   ]
  },
  {
   "cell_type": "code",
   "execution_count": 126,
   "id": "02a590ba",
   "metadata": {
    "scrolled": true
   },
   "outputs": [
    {
     "name": "stdout",
     "output_type": "stream",
     "text": [
      "python : hello\t"
     ]
    }
   ],
   "source": [
    "print(\"python\", 'hello', end=\"\\t\", sep=\" : \")"
   ]
  },
  {
   "cell_type": "code",
   "execution_count": 6,
   "id": "b4247e2f",
   "metadata": {},
   "outputs": [
    {
     "data": {
      "text/plain": [
       "{'address': '서울시 강남구', 'name': '홍길동', 'age': 30}"
      ]
     },
     "execution_count": 6,
     "metadata": {},
     "output_type": "execute_result"
    }
   ],
   "source": [
    "p_info = dict(address=\"서울시 강남구\", name='홍길동', age=30)\n",
    "p_info"
   ]
  },
  {
   "cell_type": "code",
   "execution_count": 7,
   "id": "82cc120a",
   "metadata": {},
   "outputs": [
    {
     "ename": "TypeError",
     "evalue": "personal_info() missing 2 required positional arguments: 'age' and 'address'",
     "output_type": "error",
     "traceback": [
      "\u001b[1;31m---------------------------------------------------------------------------\u001b[0m",
      "\u001b[1;31mTypeError\u001b[0m                                 Traceback (most recent call last)",
      "Cell \u001b[1;32mIn[7], line 1\u001b[0m\n\u001b[1;32m----> 1\u001b[0m \u001b[43mpersonal_info\u001b[49m\u001b[43m(\u001b[49m\u001b[43mp_info\u001b[49m\u001b[43m)\u001b[49m\n",
      "\u001b[1;31mTypeError\u001b[0m: personal_info() missing 2 required positional arguments: 'age' and 'address'"
     ]
    }
   ],
   "source": [
    "personal_info(p_info)"
   ]
  },
  {
   "cell_type": "markdown",
   "id": "554b0de6",
   "metadata": {},
   "source": [
    "* 딕셔너리 언패킹\n",
    "* 딕셔너리 앞에 \\**를 붙여서 딕셔너리를 언패킹 해줌\n",
    "* \\**{'address': '서울시 강남구', 'name': '홍길동', 'age': 30}"
   ]
  },
  {
   "cell_type": "code",
   "execution_count": 8,
   "id": "8f48a265",
   "metadata": {
    "scrolled": true
   },
   "outputs": [
    {
     "name": "stdout",
     "output_type": "stream",
     "text": [
      "이름:  홍길동\n",
      "나이:  30\n",
      "주소:  서울시 강남구\n"
     ]
    }
   ],
   "source": [
    "personal_info(**p_info)"
   ]
  },
  {
   "cell_type": "markdown",
   "id": "86757f7c",
   "metadata": {},
   "source": [
    "키워드 인수를 사용하는 가변인수 함수 만들기<br>\n",
    "def 함수이름(**kwargs):    keyword arguments<br>\n",
    "___ 코드<br>\n",
    "___ retuen<br>\n"
   ]
  },
  {
   "cell_type": "code",
   "execution_count": 9,
   "id": "65ce5bd3",
   "metadata": {},
   "outputs": [],
   "source": [
    "def personal_info2(**kwargs):\n",
    "    print(\"kwargs:\", kwargs)\n",
    "    print(\"kwargs type:\", type(kwargs))"
   ]
  },
  {
   "cell_type": "code",
   "execution_count": 11,
   "id": "bcbd743a",
   "metadata": {},
   "outputs": [
    {
     "name": "stdout",
     "output_type": "stream",
     "text": [
      "kwargs: {'name': '홍길동'}\n",
      "kwargs type: <class 'dict'>\n"
     ]
    }
   ],
   "source": [
    "personal_info2(name='홍길동')"
   ]
  },
  {
   "cell_type": "code",
   "execution_count": 12,
   "id": "a1924979",
   "metadata": {},
   "outputs": [
    {
     "name": "stdout",
     "output_type": "stream",
     "text": [
      "kwargs: {'name': '홍길동', 'age': 30, 'address': '서울시 강남구', 'school': '강남 고등학교'}\n",
      "kwargs type: <class 'dict'>\n"
     ]
    }
   ],
   "source": [
    "personal_info2(name='홍길동', age=30, address='서울시 강남구', school=\"강남 고등학교\")"
   ]
  },
  {
   "cell_type": "code",
   "execution_count": 13,
   "id": "d280afce",
   "metadata": {},
   "outputs": [
    {
     "data": {
      "text/plain": [
       "{'name': '홍길동', 'age': 30, 'address': '서울시 강남구', 'school': '강남 고등학교'}"
      ]
     },
     "execution_count": 13,
     "metadata": {},
     "output_type": "execute_result"
    }
   ],
   "source": [
    "d = dict(name='홍길동', age=30, address='서울시 강남구', school=\"강남 고등학교\")\n",
    "d"
   ]
  },
  {
   "cell_type": "code",
   "execution_count": 144,
   "id": "2122a970",
   "metadata": {},
   "outputs": [
    {
     "name": "stdout",
     "output_type": "stream",
     "text": [
      "1 2 3 4 5\n"
     ]
    }
   ],
   "source": [
    "print(*[1,2,3,4,5])"
   ]
  },
  {
   "cell_type": "code",
   "execution_count": null,
   "id": "1bb7e4a2",
   "metadata": {},
   "outputs": [],
   "source": []
  },
  {
   "cell_type": "code",
   "execution_count": 14,
   "id": "12b867de",
   "metadata": {
    "scrolled": true
   },
   "outputs": [
    {
     "ename": "TypeError",
     "evalue": "personal_info2() takes 0 positional arguments but 1 was given",
     "output_type": "error",
     "traceback": [
      "\u001b[1;31m---------------------------------------------------------------------------\u001b[0m",
      "\u001b[1;31mTypeError\u001b[0m                                 Traceback (most recent call last)",
      "Cell \u001b[1;32mIn[14], line 1\u001b[0m\n\u001b[1;32m----> 1\u001b[0m \u001b[43mpersonal_info2\u001b[49m\u001b[43m(\u001b[49m\u001b[43md\u001b[49m\u001b[43m)\u001b[49m\n",
      "\u001b[1;31mTypeError\u001b[0m: personal_info2() takes 0 positional arguments but 1 was given"
     ]
    }
   ],
   "source": [
    "personal_info2(d)"
   ]
  },
  {
   "cell_type": "code",
   "execution_count": 15,
   "id": "d341b979",
   "metadata": {},
   "outputs": [
    {
     "name": "stdout",
     "output_type": "stream",
     "text": [
      "kwargs: {'name': '홍길동', 'age': 30, 'address': '서울시 강남구', 'school': '강남 고등학교'}\n",
      "kwargs type: <class 'dict'>\n"
     ]
    }
   ],
   "source": [
    "personal_info2(**d)"
   ]
  },
  {
   "cell_type": "code",
   "execution_count": 16,
   "id": "3420276f",
   "metadata": {},
   "outputs": [],
   "source": [
    "def personal_info3(**kwargs):\n",
    "    print(\"kwargs:\", kwargs)\n",
    "    print(\"kwargs type:\", type(kwargs))\n",
    "    for key, value in kwargs.items():\n",
    "        print(key, value)"
   ]
  },
  {
   "cell_type": "code",
   "execution_count": 17,
   "id": "34b99600",
   "metadata": {},
   "outputs": [
    {
     "name": "stdout",
     "output_type": "stream",
     "text": [
      "kwargs: {'name': '홍길동', 'age': 30, 'address': '서울시 강남구', 'school': '강남 고등학교'}\n",
      "kwargs type: <class 'dict'>\n",
      "name 홍길동\n",
      "age 30\n",
      "address 서울시 강남구\n",
      "school 강남 고등학교\n"
     ]
    }
   ],
   "source": [
    "personal_info3(**d)"
   ]
  },
  {
   "cell_type": "markdown",
   "id": "67b1ef5b",
   "metadata": {},
   "source": [
    "고정인수와 키워드 가변인수 함께 사용하기\n",
    "* 고정인수, \\**키워드인수 순으로 와야 함"
   ]
  },
  {
   "cell_type": "code",
   "execution_count": 18,
   "id": "1045273a",
   "metadata": {},
   "outputs": [],
   "source": [
    "def personal_info4(name, **kwargs):\n",
    "    print(\"name:\", name)\n",
    "    print(\"kwargs: \", kwargs)"
   ]
  },
  {
   "cell_type": "code",
   "execution_count": 20,
   "id": "60aaca58",
   "metadata": {},
   "outputs": [
    {
     "name": "stdout",
     "output_type": "stream",
     "text": [
      "name: 홍길동\n",
      "kwargs:  {}\n"
     ]
    }
   ],
   "source": [
    "personal_info4('홍길동')"
   ]
  },
  {
   "cell_type": "code",
   "execution_count": 21,
   "id": "2e6e7a73",
   "metadata": {},
   "outputs": [
    {
     "name": "stdout",
     "output_type": "stream",
     "text": [
      "name: 홍길동\n",
      "kwargs:  {'age': 30, 'address': '서울시 강남구'}\n"
     ]
    }
   ],
   "source": [
    "personal_info4('홍길동', age=30, address='서울시 강남구')"
   ]
  },
  {
   "cell_type": "code",
   "execution_count": 22,
   "id": "7e02adb4",
   "metadata": {},
   "outputs": [
    {
     "ename": "TypeError",
     "evalue": "personal_info4() missing 1 required positional argument: 'name'",
     "output_type": "error",
     "traceback": [
      "\u001b[1;31m---------------------------------------------------------------------------\u001b[0m",
      "\u001b[1;31mTypeError\u001b[0m                                 Traceback (most recent call last)",
      "Cell \u001b[1;32mIn[22], line 1\u001b[0m\n\u001b[1;32m----> 1\u001b[0m \u001b[43mpersonal_info4\u001b[49m\u001b[43m(\u001b[49m\u001b[43mage\u001b[49m\u001b[38;5;241;43m=\u001b[39;49m\u001b[38;5;241;43m30\u001b[39;49m\u001b[43m,\u001b[49m\u001b[43m \u001b[49m\u001b[43maddress\u001b[49m\u001b[38;5;241;43m=\u001b[39;49m\u001b[38;5;124;43m'\u001b[39;49m\u001b[38;5;124;43m서울시 강남구\u001b[39;49m\u001b[38;5;124;43m'\u001b[39;49m\u001b[43m)\u001b[49m\n",
      "\u001b[1;31mTypeError\u001b[0m: personal_info4() missing 1 required positional argument: 'name'"
     ]
    }
   ],
   "source": [
    "personal_info4(age=30, address='서울시 강남구')"
   ]
  },
  {
   "cell_type": "code",
   "execution_count": 23,
   "id": "06ad1de0",
   "metadata": {},
   "outputs": [
    {
     "name": "stdout",
     "output_type": "stream",
     "text": [
      "name: 홍길동\n",
      "kwargs:  {'age': 30, 'address': '서울시 강남구'}\n"
     ]
    }
   ],
   "source": [
    "personal_info4(name='홍길동', age=30, address='서울시 강남구')"
   ]
  },
  {
   "cell_type": "code",
   "execution_count": 24,
   "id": "19d38c36",
   "metadata": {},
   "outputs": [
    {
     "data": {
      "text/plain": [
       "{'name': '홍길동', 'age': 30, 'address': '서울시 강남구'}"
      ]
     },
     "execution_count": 24,
     "metadata": {},
     "output_type": "execute_result"
    }
   ],
   "source": [
    "d2 =dict(name='홍길동', age=30, address='서울시 강남구')\n",
    "d2"
   ]
  },
  {
   "cell_type": "code",
   "execution_count": 25,
   "id": "3cc81949",
   "metadata": {},
   "outputs": [
    {
     "name": "stdout",
     "output_type": "stream",
     "text": [
      "name: 홍길동\n",
      "kwargs:  {'age': 30, 'address': '서울시 강남구'}\n"
     ]
    }
   ],
   "source": [
    "personal_info4(**d2)"
   ]
  },
  {
   "cell_type": "markdown",
   "id": "27569e27",
   "metadata": {},
   "source": [
    "가변인수와 가변키워드인수 함께쓰기\n",
    "* def 함수명(*args, **kwargs):\n",
    "* def 함수명(고정인자, *args, **kwargs):"
   ]
  },
  {
   "cell_type": "code",
   "execution_count": 26,
   "id": "134d25eb",
   "metadata": {},
   "outputs": [
    {
     "name": "stdout",
     "output_type": "stream",
     "text": [
      "(1, 2, 3) {'sep': ' !! ', 'end': ''}\n",
      "1 !! 2 !! 3"
     ]
    }
   ],
   "source": [
    "def custom_print(*args, **kwargs):\n",
    "    print(args, kwargs)\n",
    "    print(*args, **kwargs)\n",
    "custom_print(1,2,3, sep=\" !! \", end=\"\")"
   ]
  },
  {
   "cell_type": "code",
   "execution_count": 27,
   "id": "e5fbec52",
   "metadata": {},
   "outputs": [
    {
     "ename": "SyntaxError",
     "evalue": "invalid syntax (7353694.py, line 1)",
     "output_type": "error",
     "traceback": [
      "\u001b[1;36m  Cell \u001b[1;32mIn[27], line 1\u001b[1;36m\u001b[0m\n\u001b[1;33m    def custom_print(**kwargs, *args):\u001b[0m\n\u001b[1;37m                               ^\u001b[0m\n\u001b[1;31mSyntaxError\u001b[0m\u001b[1;31m:\u001b[0m invalid syntax\n"
     ]
    }
   ],
   "source": [
    "def custom_print(**kwargs, *args):\n",
    "    print(args, kwargs)\n",
    "    print(*args, **kwargs)\n",
    "custom_print(sep=\" !! \", end=\"\", 1,2,3, )"
   ]
  },
  {
   "cell_type": "markdown",
   "id": "10e3d203",
   "metadata": {},
   "source": [
    "매개변수 = 함수 내에서 사용되는 변수\n",
    "* 위치인수: 위치가 고정된 매개변수, 위치인수는 키워드 인수로 사용가능 (변수명 = 값)\n",
    "* 가변 인수: 여러 개의 자료를 동시에 받을 수 있는 매개변수 => tuple로 들어옴\n",
    "* 키워드 가변 인수: 여러 개의 자료를 동시에 받을 수 있는데 key=value 형태로 받는 매개변수 => dict로 들어옴"
   ]
  },
  {
   "cell_type": "markdown",
   "id": "28000e22",
   "metadata": {},
   "source": [
    "매개변수에 초기값 지정하기\n",
    "* 초기값이 지정된 매개변수는 반드시 가장 마지막에 와야 함"
   ]
  },
  {
   "cell_type": "code",
   "execution_count": 28,
   "id": "85da72dd",
   "metadata": {},
   "outputs": [],
   "source": [
    "def personal_info5(name, age, address):\n",
    "    print('이름: ', name)\n",
    "    print('나이: ', age)\n",
    "    print('주소: ', address)"
   ]
  },
  {
   "cell_type": "code",
   "execution_count": 29,
   "id": "d43c4108",
   "metadata": {},
   "outputs": [
    {
     "ename": "TypeError",
     "evalue": "personal_info5() missing 1 required positional argument: 'address'",
     "output_type": "error",
     "traceback": [
      "\u001b[1;31m---------------------------------------------------------------------------\u001b[0m",
      "\u001b[1;31mTypeError\u001b[0m                                 Traceback (most recent call last)",
      "Cell \u001b[1;32mIn[29], line 1\u001b[0m\n\u001b[1;32m----> 1\u001b[0m \u001b[43mpersonal_info5\u001b[49m\u001b[43m(\u001b[49m\u001b[38;5;124;43m'\u001b[39;49m\u001b[38;5;124;43m홍길동\u001b[39;49m\u001b[38;5;124;43m'\u001b[39;49m\u001b[43m,\u001b[49m\u001b[43m \u001b[49m\u001b[38;5;241;43m30\u001b[39;49m\u001b[43m)\u001b[49m\n",
      "\u001b[1;31mTypeError\u001b[0m: personal_info5() missing 1 required positional argument: 'address'"
     ]
    }
   ],
   "source": [
    "personal_info5('홍길동', 30)"
   ]
  },
  {
   "cell_type": "code",
   "execution_count": 30,
   "id": "08c1ddb4",
   "metadata": {},
   "outputs": [],
   "source": [
    "def personal_info5(name, age, address=\"비공개\"):\n",
    "    print('이름: ', name)\n",
    "    print('나이: ', age)\n",
    "    print('주소: ', address)"
   ]
  },
  {
   "cell_type": "code",
   "execution_count": 31,
   "id": "b6f61f8e",
   "metadata": {},
   "outputs": [
    {
     "name": "stdout",
     "output_type": "stream",
     "text": [
      "이름:  홍길동\n",
      "나이:  30\n",
      "주소:  서울시 강남구\n"
     ]
    }
   ],
   "source": [
    "personal_info5('홍길동', 30, '서울시 강남구')"
   ]
  },
  {
   "cell_type": "code",
   "execution_count": 32,
   "id": "ca4d7e7f",
   "metadata": {},
   "outputs": [
    {
     "name": "stdout",
     "output_type": "stream",
     "text": [
      "이름:  홍길동\n",
      "나이:  30\n",
      "주소:  비공개\n"
     ]
    }
   ],
   "source": [
    "personal_info5('홍길동', 30)"
   ]
  },
  {
   "cell_type": "code",
   "execution_count": 171,
   "id": "d368f04d",
   "metadata": {},
   "outputs": [
    {
     "name": "stdout",
     "output_type": "stream",
     "text": [
      "4 1 3 5 1\n",
      "4 1 3 5 1\n"
     ]
    }
   ],
   "source": [
    "print(4,1,3,5,1)\n",
    "print(4,1,3,5,1)"
   ]
  },
  {
   "cell_type": "code",
   "execution_count": 33,
   "id": "83fe1c47",
   "metadata": {},
   "outputs": [
    {
     "ename": "SyntaxError",
     "evalue": "non-default argument follows default argument (459688882.py, line 1)",
     "output_type": "error",
     "traceback": [
      "\u001b[1;36m  Cell \u001b[1;32mIn[33], line 1\u001b[1;36m\u001b[0m\n\u001b[1;33m    def personal_info6(name, address=\"비공개\", age):\u001b[0m\n\u001b[1;37m                                            ^\u001b[0m\n\u001b[1;31mSyntaxError\u001b[0m\u001b[1;31m:\u001b[0m non-default argument follows default argument\n"
     ]
    }
   ],
   "source": [
    "def personal_info6(name, address=\"비공개\", age):\n",
    "    print('이름: ', name)\n",
    "    print('나이: ', age)\n",
    "    print('주소: ', address)"
   ]
  },
  {
   "cell_type": "markdown",
   "id": "d1471e8d",
   "metadata": {},
   "source": [
    "매개변수의 종류에 따른 순서\n",
    "* 위치인수, 위치인수=기본값, *args, **kwargs"
   ]
  },
  {
   "cell_type": "code",
   "execution_count": 39,
   "id": "09d19e7b",
   "metadata": {},
   "outputs": [],
   "source": [
    "def personal_info6(address=\"비공개\", *args, **kwargs):\n",
    "    print('args: ', args)\n",
    "    print('kwargs: ', kwargs)\n",
    "    print('주소: ', address)"
   ]
  },
  {
   "cell_type": "code",
   "execution_count": 37,
   "id": "033da687",
   "metadata": {},
   "outputs": [
    {
     "name": "stdout",
     "output_type": "stream",
     "text": [
      "args:  (2, 3, 4)\n",
      "kwargs:  {'name': '홍길동', 'age': 30}\n",
      "주소:  1\n"
     ]
    }
   ],
   "source": [
    "personal_info6(1,2,3,4, name=\"홍길동\", age=30) "
   ]
  },
  {
   "cell_type": "markdown",
   "id": "3c9f0ac8",
   "metadata": {},
   "source": [
    "함수 Doc 스트링 사용하기\n",
    "* 함수의 기능을 설명하거나 사용법을 함수 내에 적어 놓는 것<br>\n",
    "def 함수이름(매개변수):<br>\n",
    "____\"\"\" 독스트링으로 설명 적기 \"\"\"<br>\n",
    "____실행 코드<br>\n",
    "____return\n",
    "* 독스트링은 함수 실행시에는 출력되지 않음\n",
    "* print(함수이름.\\_\\_doc\\_\\_)\n",
    "* help(함수이름)"
   ]
  },
  {
   "cell_type": "code",
   "execution_count": null,
   "id": "eb3eb9a3",
   "metadata": {},
   "outputs": [],
   "source": [
    "print()"
   ]
  },
  {
   "cell_type": "code",
   "execution_count": 40,
   "id": "14fa59d1",
   "metadata": {},
   "outputs": [],
   "source": [
    "def add(a, b):\n",
    "    \"\"\"\n",
    "    이 함수는 a와 b을 더한 뒤 결과를 반환하는 함수입니다.\n",
    "    \"\"\"\n",
    "    return a + b"
   ]
  },
  {
   "cell_type": "code",
   "execution_count": 41,
   "id": "ad88da4b",
   "metadata": {},
   "outputs": [
    {
     "data": {
      "text/plain": [
       "15"
      ]
     },
     "execution_count": 41,
     "metadata": {},
     "output_type": "execute_result"
    }
   ],
   "source": [
    "add(10, 5)"
   ]
  },
  {
   "cell_type": "code",
   "execution_count": null,
   "id": "32f6062b",
   "metadata": {},
   "outputs": [],
   "source": [
    "add()"
   ]
  },
  {
   "cell_type": "code",
   "execution_count": 42,
   "id": "3ad94386",
   "metadata": {},
   "outputs": [
    {
     "name": "stdout",
     "output_type": "stream",
     "text": [
      "Help on function add in module __main__:\n",
      "\n",
      "add(a, b)\n",
      "    이 함수는 a와 b을 더한 뒤 결과를 반환하는 함수입니다.\n",
      "\n"
     ]
    }
   ],
   "source": [
    "help(add)"
   ]
  },
  {
   "cell_type": "code",
   "execution_count": 43,
   "id": "e6e7c7c9",
   "metadata": {},
   "outputs": [
    {
     "name": "stdout",
     "output_type": "stream",
     "text": [
      "Help on built-in function print in module builtins:\n",
      "\n",
      "print(...)\n",
      "    print(value, ..., sep=' ', end='\\n', file=sys.stdout, flush=False)\n",
      "    \n",
      "    Prints the values to a stream, or to sys.stdout by default.\n",
      "    Optional keyword arguments:\n",
      "    file:  a file-like object (stream); defaults to the current sys.stdout.\n",
      "    sep:   string inserted between values, default a space.\n",
      "    end:   string appended after the last value, default a newline.\n",
      "    flush: whether to forcibly flush the stream.\n",
      "\n"
     ]
    }
   ],
   "source": [
    "help(print)"
   ]
  },
  {
   "cell_type": "code",
   "execution_count": 186,
   "id": "4675823d",
   "metadata": {},
   "outputs": [
    {
     "name": "stdout",
     "output_type": "stream",
     "text": [
      "\n",
      "    이 함수는 a와 b을 더한 뒤 결과를 반환하는 함수입니다.\n",
      "    \n"
     ]
    }
   ],
   "source": [
    "print(add.__doc__)"
   ]
  },
  {
   "cell_type": "code",
   "execution_count": 187,
   "id": "a0df5dbc",
   "metadata": {},
   "outputs": [
    {
     "name": "stdout",
     "output_type": "stream",
     "text": [
      "print(value, ..., sep=' ', end='\\n', file=sys.stdout, flush=False)\n",
      "\n",
      "Prints the values to a stream, or to sys.stdout by default.\n",
      "Optional keyword arguments:\n",
      "file:  a file-like object (stream); defaults to the current sys.stdout.\n",
      "sep:   string inserted between values, default a space.\n",
      "end:   string appended after the last value, default a newline.\n",
      "flush: whether to forcibly flush the stream.\n"
     ]
    }
   ],
   "source": [
    "print(print.__doc__)"
   ]
  },
  {
   "cell_type": "code",
   "execution_count": 189,
   "id": "a8e8b8ac",
   "metadata": {},
   "outputs": [
    {
     "data": {
      "text/plain": [
       "['__add__',\n",
       " '__class__',\n",
       " '__class_getitem__',\n",
       " '__contains__',\n",
       " '__delattr__',\n",
       " '__delitem__',\n",
       " '__dir__',\n",
       " '__doc__',\n",
       " '__eq__',\n",
       " '__format__',\n",
       " '__ge__',\n",
       " '__getattribute__',\n",
       " '__getitem__',\n",
       " '__gt__',\n",
       " '__hash__',\n",
       " '__iadd__',\n",
       " '__imul__',\n",
       " '__init__',\n",
       " '__init_subclass__',\n",
       " '__iter__',\n",
       " '__le__',\n",
       " '__len__',\n",
       " '__lt__',\n",
       " '__mul__',\n",
       " '__ne__',\n",
       " '__new__',\n",
       " '__reduce__',\n",
       " '__reduce_ex__',\n",
       " '__repr__',\n",
       " '__reversed__',\n",
       " '__rmul__',\n",
       " '__setattr__',\n",
       " '__setitem__',\n",
       " '__sizeof__',\n",
       " '__str__',\n",
       " '__subclasshook__',\n",
       " 'append',\n",
       " 'clear',\n",
       " 'copy',\n",
       " 'count',\n",
       " 'extend',\n",
       " 'index',\n",
       " 'insert',\n",
       " 'pop',\n",
       " 'remove',\n",
       " 'reverse',\n",
       " 'sort']"
      ]
     },
     "execution_count": 189,
     "metadata": {},
     "output_type": "execute_result"
    }
   ],
   "source": [
    "dir([1,2,3,4])"
   ]
  },
  {
   "cell_type": "code",
   "execution_count": 188,
   "id": "cf608d8b",
   "metadata": {},
   "outputs": [
    {
     "data": {
      "text/plain": [
       "['__add__',\n",
       " '__class__',\n",
       " '__class_getitem__',\n",
       " '__contains__',\n",
       " '__delattr__',\n",
       " '__delitem__',\n",
       " '__dir__',\n",
       " '__doc__',\n",
       " '__eq__',\n",
       " '__format__',\n",
       " '__ge__',\n",
       " '__getattribute__',\n",
       " '__getitem__',\n",
       " '__gt__',\n",
       " '__hash__',\n",
       " '__iadd__',\n",
       " '__imul__',\n",
       " '__init__',\n",
       " '__init_subclass__',\n",
       " '__iter__',\n",
       " '__le__',\n",
       " '__len__',\n",
       " '__lt__',\n",
       " '__mul__',\n",
       " '__ne__',\n",
       " '__new__',\n",
       " '__reduce__',\n",
       " '__reduce_ex__',\n",
       " '__repr__',\n",
       " '__reversed__',\n",
       " '__rmul__',\n",
       " '__setattr__',\n",
       " '__setitem__',\n",
       " '__sizeof__',\n",
       " '__str__',\n",
       " '__subclasshook__',\n",
       " 'append',\n",
       " 'clear',\n",
       " 'copy',\n",
       " 'count',\n",
       " 'extend',\n",
       " 'index',\n",
       " 'insert',\n",
       " 'pop',\n",
       " 'remove',\n",
       " 'reverse',\n",
       " 'sort']"
      ]
     },
     "execution_count": 188,
     "metadata": {},
     "output_type": "execute_result"
    }
   ],
   "source": [
    "dir(list)"
   ]
  },
  {
   "cell_type": "markdown",
   "id": "df5369e2",
   "metadata": {},
   "source": [
    "## 람다 표현식 (lambda expression)\n",
    "* 간단한 함수를 작성하거나 다른 함수의 인수로 함수를 넣을 때 사용\n",
    "* 익명함수(함수명이 없음)\n",
    "* 사용 후 메모리에서 삭제"
   ]
  },
  {
   "cell_type": "code",
   "execution_count": 44,
   "id": "10996fbe",
   "metadata": {},
   "outputs": [],
   "source": [
    "# 자료 1개를 입력받아 10을 더해 리턴하는 함수\n",
    "def plus_ten(x):\n",
    "    return x + 10"
   ]
  },
  {
   "cell_type": "code",
   "execution_count": 45,
   "id": "73712972",
   "metadata": {},
   "outputs": [
    {
     "data": {
      "text/plain": [
       "15"
      ]
     },
     "execution_count": 45,
     "metadata": {},
     "output_type": "execute_result"
    }
   ],
   "source": [
    "plus_ten(5)"
   ]
  },
  {
   "cell_type": "markdown",
   "id": "2f9c8f86",
   "metadata": {},
   "source": [
    "람다 함수에 괄호를 씌우고 뒤에 인수를 넣어서 직접 호출"
   ]
  },
  {
   "cell_type": "code",
   "execution_count": 49,
   "id": "e37d343b",
   "metadata": {
    "scrolled": true
   },
   "outputs": [
    {
     "data": {
      "text/plain": [
       "15"
      ]
     },
     "execution_count": 49,
     "metadata": {},
     "output_type": "execute_result"
    }
   ],
   "source": [
    "# def lambda():\n",
    "(lambda x : x + 10)(5)"
   ]
  },
  {
   "cell_type": "markdown",
   "id": "b4c88017",
   "metadata": {},
   "source": [
    "람다 함수를 변수에 넣고 변수에 인수를 넣어서 호출"
   ]
  },
  {
   "cell_type": "code",
   "execution_count": 51,
   "id": "184b0b05",
   "metadata": {},
   "outputs": [],
   "source": [
    "plus_five = lambda x: x + 5"
   ]
  },
  {
   "cell_type": "code",
   "execution_count": 52,
   "id": "434c5fa9",
   "metadata": {},
   "outputs": [
    {
     "data": {
      "text/plain": [
       "10"
      ]
     },
     "execution_count": 52,
     "metadata": {},
     "output_type": "execute_result"
    }
   ],
   "source": [
    "plus_five(5)"
   ]
  },
  {
   "cell_type": "markdown",
   "id": "54089404",
   "metadata": {},
   "source": [
    "map(함수, 리스트자료)"
   ]
  },
  {
   "cell_type": "code",
   "execution_count": 53,
   "id": "4082d716",
   "metadata": {},
   "outputs": [],
   "source": [
    "a, b, c, d = map(int, [\"1\",\"2\",\"4\",\"5\"])"
   ]
  },
  {
   "cell_type": "code",
   "execution_count": 55,
   "id": "d6aa45b0",
   "metadata": {},
   "outputs": [
    {
     "data": {
      "text/plain": [
       "[1, 2, 4, 5]"
      ]
     },
     "execution_count": 55,
     "metadata": {},
     "output_type": "execute_result"
    }
   ],
   "source": [
    "result = list(map(int, [\"1\",\"2\",\"4\",\"5\"]))\n",
    "result"
   ]
  },
  {
   "cell_type": "code",
   "execution_count": 54,
   "id": "b7a8b8ad",
   "metadata": {},
   "outputs": [
    {
     "name": "stdout",
     "output_type": "stream",
     "text": [
      "1 2 4 5 "
     ]
    }
   ],
   "source": [
    "for i in [\"1\",\"2\",\"4\",\"5\"]:\n",
    "    print(int(i), end=\" \")"
   ]
  },
  {
   "cell_type": "code",
   "execution_count": 206,
   "id": "53f9c5a4",
   "metadata": {},
   "outputs": [
    {
     "name": "stdout",
     "output_type": "stream",
     "text": [
      "1 2 4 5\n",
      "<class 'int'> 2 4 5\n"
     ]
    }
   ],
   "source": [
    "print(a, b, c, d)\n",
    "print(type(a), b, c, d)"
   ]
  },
  {
   "cell_type": "code",
   "execution_count": 56,
   "id": "a533efe9",
   "metadata": {},
   "outputs": [
    {
     "name": "stdout",
     "output_type": "stream",
     "text": [
      "[6, 7, 8, 9, 10]\n"
     ]
    }
   ],
   "source": [
    "# plus_five = lambda x: x + 5\n",
    "# plus_five(값)\n",
    "result = map(plus_five, [1,2,3,4,5])\n",
    "print(list(result))"
   ]
  },
  {
   "cell_type": "code",
   "execution_count": 208,
   "id": "dd15f839",
   "metadata": {},
   "outputs": [
    {
     "data": {
      "text/plain": [
       "[11, 12, 13, 14, 15]"
      ]
     },
     "execution_count": 208,
     "metadata": {},
     "output_type": "execute_result"
    }
   ],
   "source": [
    "list(map(lambda x: x + 10, [1,2,3,4,5]))"
   ]
  },
  {
   "cell_type": "code",
   "execution_count": 211,
   "id": "1283a766",
   "metadata": {},
   "outputs": [
    {
     "data": {
      "text/plain": [
       "[11, 12, 13, 14, 15]"
      ]
     },
     "execution_count": 211,
     "metadata": {},
     "output_type": "execute_result"
    }
   ],
   "source": [
    "x= [1,2,3,4,5]\n",
    "def plus_10(x):\n",
    "    return [i+10 for i in x]\n",
    "\n",
    "plus_10(x)  \n",
    "    "
   ]
  },
  {
   "cell_type": "markdown",
   "id": "9b2577eb",
   "metadata": {},
   "source": [
    "람다표현식에 조건부 표현식 사용하기"
   ]
  },
  {
   "cell_type": "code",
   "execution_count": 57,
   "id": "1165a55f",
   "metadata": {},
   "outputs": [],
   "source": [
    "# 3의 배수만 문자열로 바꾸기 str()\n",
    "a = list(range(1,11))\n",
    "def tostr3(a):\n",
    "    result = []\n",
    "    for i in a:  # [1,2,3,4,5,6,7,8,9,10]\n",
    "        if i % 3 == 0:\n",
    "            result.append(str(i))\n",
    "        else:\n",
    "            result.append(i)\n",
    "    return result"
   ]
  },
  {
   "cell_type": "code",
   "execution_count": 58,
   "id": "b6795782",
   "metadata": {},
   "outputs": [
    {
     "data": {
      "text/plain": [
       "[1, 2, '3', 4, 5, '6', 7, 8, '9', 10]"
      ]
     },
     "execution_count": 58,
     "metadata": {},
     "output_type": "execute_result"
    }
   ],
   "source": [
    "tostr3(a)"
   ]
  },
  {
   "cell_type": "code",
   "execution_count": 218,
   "id": "dc5ab927",
   "metadata": {},
   "outputs": [],
   "source": [
    "# 3의 배수만 문자열로 바꾸기 str()\n",
    "# 조건문 부분을 조건표현식으로 변환\n",
    "a = list(range(1,11))\n",
    "def tostr3(a):\n",
    "    result = []\n",
    "    for i in a:\n",
    "        result.append(str(i)) if i % 3 == 0 else result.append(i)\n",
    "    return result"
   ]
  },
  {
   "cell_type": "code",
   "execution_count": 59,
   "id": "a9caa2f4",
   "metadata": {},
   "outputs": [],
   "source": [
    "# 3의 배수만 문자열로 바꾸기 str()\n",
    "# 조건문 부분을 조건표현식으로 변환\n",
    "# 리스트 표현식으로 변환\n",
    "a = list(range(1,11))\n",
    "def tostr3(a):\n",
    "    return [str(i) if i % 3 == 0 else i for i in a]"
   ]
  },
  {
   "cell_type": "code",
   "execution_count": 60,
   "id": "8d1e1664",
   "metadata": {},
   "outputs": [
    {
     "data": {
      "text/plain": [
       "[1, 2, '3', 4, 5, '6', 7, 8, '9', 10]"
      ]
     },
     "execution_count": 60,
     "metadata": {},
     "output_type": "execute_result"
    }
   ],
   "source": [
    "tostr3(a)"
   ]
  },
  {
   "cell_type": "code",
   "execution_count": 230,
   "id": "86409eae",
   "metadata": {},
   "outputs": [
    {
     "data": {
      "text/plain": [
       "[1, 2, '3', 4, 5, '6', 7, 8, '9', 10]"
      ]
     },
     "execution_count": 230,
     "metadata": {},
     "output_type": "execute_result"
    }
   ],
   "source": [
    "list(map(lambda x: str(x) if x % 3 == 0 else x, a))"
   ]
  },
  {
   "cell_type": "code",
   "execution_count": null,
   "id": "7d045d97",
   "metadata": {},
   "outputs": [],
   "source": [
    "apply(lambda x: str(x) if x % 3 == 0 else x)"
   ]
  },
  {
   "cell_type": "code",
   "execution_count": null,
   "id": "24779dec",
   "metadata": {},
   "outputs": [],
   "source": [
    "apply(lambda x: int(x) if type(x) == 'o' else x)"
   ]
  },
  {
   "cell_type": "code",
   "execution_count": 231,
   "id": "cab8d58b",
   "metadata": {},
   "outputs": [],
   "source": [
    "a = [1,2,3,4,5]\n",
    "b = [2,4,6,8,10]\n",
    "c = [3,6,9,12,15]"
   ]
  },
  {
   "cell_type": "code",
   "execution_count": 232,
   "id": "9586699e",
   "metadata": {},
   "outputs": [
    {
     "data": {
      "text/plain": [
       "[6, 48, 162, 384, 750]"
      ]
     },
     "execution_count": 232,
     "metadata": {},
     "output_type": "execute_result"
    }
   ],
   "source": [
    "list(map(lambda x, y, z: x * y * z, a, b, c))"
   ]
  },
  {
   "cell_type": "code",
   "execution_count": 236,
   "id": "78a4683c",
   "metadata": {},
   "outputs": [
    {
     "data": {
      "text/plain": [
       "[6, 48, 162, 384, 750]"
      ]
     },
     "execution_count": 236,
     "metadata": {},
     "output_type": "execute_result"
    }
   ],
   "source": [
    "result = []\n",
    "for x, y, z in zip(a,b,c):\n",
    "    result.append(x * y * z)\n",
    "result"
   ]
  },
  {
   "cell_type": "code",
   "execution_count": null,
   "id": "70e77c01",
   "metadata": {},
   "outputs": [],
   "source": []
  },
  {
   "cell_type": "code",
   "execution_count": null,
   "id": "eff94b32",
   "metadata": {},
   "outputs": [],
   "source": []
  },
  {
   "cell_type": "code",
   "execution_count": null,
   "id": "dbcc4d8b",
   "metadata": {},
   "outputs": [],
   "source": []
  }
 ],
 "metadata": {
  "kernelspec": {
   "display_name": "Python 3 (ipykernel)",
   "language": "python",
   "name": "python3"
  },
  "language_info": {
   "codemirror_mode": {
    "name": "ipython",
    "version": 3
   },
   "file_extension": ".py",
   "mimetype": "text/x-python",
   "name": "python",
   "nbconvert_exporter": "python",
   "pygments_lexer": "ipython3",
   "version": "3.10.14"
  }
 },
 "nbformat": 4,
 "nbformat_minor": 5
}
