{
 "cells": [
  {
   "cell_type": "markdown",
   "id": "02dfee26",
   "metadata": {},
   "source": [
    "# < 서식지정자, format 메서드 >\n",
    "* 사용 이유 : 문자열로만 입력해야 하는 상황에서 같은 위치의 문자를 여러번 바꿔야 할 때가 있기 때문이다. \n",
    "* 문자의 자릿수 맞춤, 위치 정렬 등에도 사용한다. "
   ]
  },
  {
   "cell_type": "markdown",
   "id": "1608991d",
   "metadata": {},
   "source": [
    "## 1) 서식지정자 : %d,  %s,  %f,  %길이s\n",
    "\n",
    "### 1. 문자를 입력할 때 : %s "
   ]
  },
  {
   "cell_type": "code",
   "execution_count": 1,
   "id": "05dc18f9",
   "metadata": {},
   "outputs": [
    {
     "name": "stdout",
     "output_type": "stream",
     "text": [
      "이 수업의 이름은 <핀테크 서비스 기획자> 입니다.\n"
     ]
    }
   ],
   "source": [
    "print('이 수업의 이름은 %s 입니다.' %  '<핀테크 서비스 기획자>')"
   ]
  },
  {
   "cell_type": "code",
   "execution_count": 2,
   "id": "ac61b2df",
   "metadata": {},
   "outputs": [],
   "source": [
    "subject = ['국어', '영어', '수학', '과학', '파이썬', 'database']"
   ]
  },
  {
   "cell_type": "code",
   "execution_count": 4,
   "id": "0277fff1",
   "metadata": {},
   "outputs": [
    {
     "name": "stdout",
     "output_type": "stream",
     "text": [
      "이 수업의 이름은 국어 입니다.\n",
      "이 수업의 이름은 영어 입니다.\n",
      "이 수업의 이름은 수학 입니다.\n",
      "이 수업의 이름은 과학 입니다.\n",
      "이 수업의 이름은 파이썬 입니다.\n",
      "이 수업의 이름은 database 입니다.\n"
     ]
    }
   ],
   "source": [
    "for sub_name in subject:\n",
    "    print('이 수업의 이름은 %s 입니다.' % sub_name)"
   ]
  },
  {
   "cell_type": "markdown",
   "id": "2af5b905",
   "metadata": {},
   "source": [
    "### 2. 정수를 입력할 때 : %d"
   ]
  },
  {
   "cell_type": "code",
   "execution_count": 5,
   "id": "5fc92066",
   "metadata": {},
   "outputs": [
    {
     "name": "stdout",
     "output_type": "stream",
     "text": [
      "올해는 2024년 입니다.\n"
     ]
    }
   ],
   "source": [
    "print('올해는 %d년 입니다.' % 2024)"
   ]
  },
  {
   "cell_type": "code",
   "execution_count": 7,
   "id": "8bb92de5",
   "metadata": {},
   "outputs": [
    {
     "name": "stdout",
     "output_type": "stream",
     "text": [
      "올해는 20년 입니다.\n"
     ]
    }
   ],
   "source": [
    "print('올해는 %d년 입니다.' % 20.74)\n",
    "\n",
    "# 정수만 출력됨. 실수는 출력 안됨!"
   ]
  },
  {
   "cell_type": "code",
   "execution_count": 9,
   "id": "0fe28165",
   "metadata": {},
   "outputs": [
    {
     "name": "stdout",
     "output_type": "stream",
     "text": [
      "올해는 2019년 입니다.\n",
      "올해는 2020년 입니다.\n",
      "올해는 2021년 입니다.\n",
      "올해는 2022년 입니다.\n",
      "올해는 2023년 입니다.\n",
      "올해는 2024년 입니다.\n"
     ]
    }
   ],
   "source": [
    "year = [2019, 2020, 2021, 2022, 2023, 2024]\n",
    "\n",
    "for this_year in year:\n",
    "    print('올해는 %d년 입니다.' % this_year)"
   ]
  },
  {
   "cell_type": "markdown",
   "id": "293838b2",
   "metadata": {},
   "source": [
    "### 3. 실수를 입력할 때 : %f\n",
    "* 기본 : 소수점 6자리로 표시\n",
    "* 소수점 자리수 조정하기 : %.자리수f    <br>\n",
    "%.1f  - 소수점 1자리 수까지만 표시하겠다.  <br>\n",
    "%.2f - 소수점 2자리 수까지만 표시하겠다."
   ]
  },
  {
   "cell_type": "code",
   "execution_count": 10,
   "id": "26b84402",
   "metadata": {},
   "outputs": [
    {
     "name": "stdout",
     "output_type": "stream",
     "text": [
      "사람의 정상 체온은 약 36.500000 도 입니다\n"
     ]
    }
   ],
   "source": [
    "print('사람의 정상 체온은 약 %f 도 입니다' % 36.5)"
   ]
  },
  {
   "cell_type": "code",
   "execution_count": 11,
   "id": "17e3c564",
   "metadata": {},
   "outputs": [
    {
     "name": "stdout",
     "output_type": "stream",
     "text": [
      "사람의 정상 체온은 약 36.5 도 입니다\n"
     ]
    }
   ],
   "source": [
    "print('사람의 정상 체온은 약 %.1f 도 입니다' % 36.5)"
   ]
  },
  {
   "cell_type": "markdown",
   "id": "990f31b0",
   "metadata": {},
   "source": [
    "### 4. 서식 지정자로 문자열 길이 정렬 : %길이s"
   ]
  },
  {
   "cell_type": "code",
   "execution_count": 12,
   "id": "b98e1a25",
   "metadata": {},
   "outputs": [
    {
     "name": "stdout",
     "output_type": "stream",
     "text": [
      "      10자리\n"
     ]
    }
   ],
   "source": [
    "print('%10s' % '10자리')"
   ]
  },
  {
   "cell_type": "code",
   "execution_count": 18,
   "id": "86a7bc4e",
   "metadata": {},
   "outputs": [
    {
     "data": {
      "text/plain": [
       "'      10자리'"
      ]
     },
     "execution_count": 18,
     "metadata": {},
     "output_type": "execute_result"
    }
   ],
   "source": [
    "'%10s' % '10자리'\n",
    "\n",
    "\n",
    "#  문자를 찍는데 총 10자리를 만들어라.¶\n",
    "#  공백 6글자 + '10자리(4글자)' = 총 10글자"
   ]
  },
  {
   "cell_type": "markdown",
   "id": "b91bafc5",
   "metadata": {},
   "source": [
    "### 5. 숫자 자리수 정렬하기 : %자리수d"
   ]
  },
  {
   "cell_type": "code",
   "execution_count": 14,
   "id": "90846d95",
   "metadata": {},
   "outputs": [
    {
     "name": "stdout",
     "output_type": "stream",
     "text": [
      "   1500000\n",
      "     15000\n"
     ]
    }
   ],
   "source": [
    "print('%10d' % 1500000)\n",
    "print('%10d' % 15000)"
   ]
  },
  {
   "cell_type": "code",
   "execution_count": 16,
   "id": "57254045",
   "metadata": {},
   "outputs": [
    {
     "data": {
      "text/plain": [
       "'   1500000'"
      ]
     },
     "execution_count": 16,
     "metadata": {},
     "output_type": "execute_result"
    }
   ],
   "source": [
    "'%10d' % 1500000"
   ]
  },
  {
   "cell_type": "code",
   "execution_count": 17,
   "id": "70f44053",
   "metadata": {},
   "outputs": [
    {
     "data": {
      "text/plain": [
       "'     15000'"
      ]
     },
     "execution_count": 17,
     "metadata": {},
     "output_type": "execute_result"
    }
   ],
   "source": [
    "'%10d' % 15000"
   ]
  },
  {
   "cell_type": "code",
   "execution_count": 22,
   "id": "e0f1198f",
   "metadata": {},
   "outputs": [
    {
     "name": "stdout",
     "output_type": "stream",
     "text": [
      "가격은 1500000 입니다.\n",
      "가격은    1500000 입니다.\n",
      "가격은         1500000 입니다.\n"
     ]
    }
   ],
   "source": [
    "print('가격은 %5d 입니다.' % 1500000)\n",
    "print('가격은 %10d 입니다.' % 1500000)\n",
    "print('가격은 %15d 입니다.' % 1500000)"
   ]
  },
  {
   "cell_type": "markdown",
   "id": "60761a21",
   "metadata": {},
   "source": [
    "### 6. 여러 항목 동시에 넣기 "
   ]
  },
  {
   "cell_type": "code",
   "execution_count": 26,
   "id": "174035d5",
   "metadata": {},
   "outputs": [
    {
     "name": "stdout",
     "output_type": "stream",
     "text": [
      "오늘은 2024년  7월 16일 입니다.\n"
     ]
    }
   ],
   "source": [
    "print('오늘은 %4d년 %2d월 %2d일 입니다.'  % (2024, 7, 16))"
   ]
  },
  {
   "cell_type": "code",
   "execution_count": 27,
   "id": "158922b6",
   "metadata": {},
   "outputs": [],
   "source": [
    "company = ['삼성전자', 'LG전자', '현대차', '대한항공', '하나투어']\n",
    "stock = [71800, 121000,  195000, 31900, 86600]"
   ]
  },
  {
   "cell_type": "code",
   "execution_count": 33,
   "id": "a74f7326",
   "metadata": {},
   "outputs": [
    {
     "name": "stdout",
     "output_type": "stream",
     "text": [
      "삼성전자의 주가는 71800원 입니다. \n",
      "LG전자의 주가는 121000원 입니다. \n",
      "현대차의 주가는 195000원 입니다. \n",
      "대한항공의 주가는 31900원 입니다. \n",
      "하나투어의 주가는 86600원 입니다. \n"
     ]
    }
   ],
   "source": [
    "#  zip 이라는 함수로 변수에 각각 담아 출력해야 함.  \n",
    "\n",
    "for c , s in zip(company, stock):\n",
    "        print(\"%s의 주가는 %d원 입니다. \" % (c, s))\n",
    "        \n"
   ]
  },
  {
   "cell_type": "code",
   "execution_count": 37,
   "id": "ffc816f2",
   "metadata": {},
   "outputs": [
    {
     "name": "stdout",
     "output_type": "stream",
     "text": [
      "삼성전자 71800\n",
      "LG전자 121000\n",
      "현대차 195000\n",
      "대한항공 31900\n",
      "하나투어 86600\n"
     ]
    }
   ],
   "source": [
    "#  enumerate 라는 함수 사용하여 인덱스로 출력함. \n",
    "\n",
    "for c in enumerate(zip(company, stock)):\n",
    "    print(c[1][0], c[1][1])"
   ]
  },
  {
   "cell_type": "markdown",
   "id": "9e8a1008",
   "metadata": {},
   "source": [
    "# ============================================="
   ]
  },
  {
   "cell_type": "markdown",
   "id": "7bdf07a2",
   "metadata": {},
   "source": [
    "## 2) format  메서드 사용하기, f-string 문자열 포맷팅"
   ]
  },
  {
   "cell_type": "markdown",
   "id": "c91ae7a7",
   "metadata": {},
   "source": [
    "### 1. format 메서드 사용하기 \n",
    "'{인덱스}'.format(값)    <br>"
   ]
  },
  {
   "cell_type": "code",
   "execution_count": 39,
   "id": "c724c01f",
   "metadata": {},
   "outputs": [],
   "source": [
    "company = ['삼성전자', 'LG전자', '현대차', '대한항공', '하나투어']\n",
    "stock = [71800, 121000,  195000, 31900, 86600]"
   ]
  },
  {
   "cell_type": "code",
   "execution_count": 38,
   "id": "27f2ca07",
   "metadata": {},
   "outputs": [
    {
     "name": "stdout",
     "output_type": "stream",
     "text": [
      "삼성전자의 주가는 71800원 입니다.\n"
     ]
    }
   ],
   "source": [
    "print('{0}의 주가는 {1}원 입니다.'.format('삼성전자', 71800))"
   ]
  },
  {
   "cell_type": "code",
   "execution_count": 40,
   "id": "6afeddbf",
   "metadata": {},
   "outputs": [
    {
     "name": "stdout",
     "output_type": "stream",
     "text": [
      "삼성전자의 주가는 71.85원 입니다.\n"
     ]
    }
   ],
   "source": [
    "print('{0}의 주가는 {1}원 입니다.'.format('삼성전자', 71.850))"
   ]
  },
  {
   "cell_type": "code",
   "execution_count": 43,
   "id": "79db8a45",
   "metadata": {},
   "outputs": [
    {
     "name": "stdout",
     "output_type": "stream",
     "text": [
      "71.85의 주가는 삼성전자원 입니다.\n"
     ]
    }
   ],
   "source": [
    "print('{1}의 주가는 {0}원 입니다.'.format('삼성전자', 71.850))\n",
    "\n",
    "# 0은 삼성전자, 1은 71.850 "
   ]
  },
  {
   "cell_type": "code",
   "execution_count": 47,
   "id": "a3f377d1",
   "metadata": {},
   "outputs": [
    {
     "name": "stdout",
     "output_type": "stream",
     "text": [
      "삼성전자의 주가는 71500원 입니다.  삼성전자의 상한가는 93000, 삼성전자의 하한가는 50200입니다\n"
     ]
    }
   ],
   "source": [
    "print('{0}의 주가는 {1}원 입니다.  {0}의 상한가는 {3}, {0}의 하한가는 {2}입니다'. format('삼성전자', 71500, 50200, 93000))\n",
    "\n",
    "# 0 : 삼성전자\n",
    "# 1 : 71500\n",
    "# 2 : 50200\n",
    "# 3 : 93000"
   ]
  },
  {
   "cell_type": "markdown",
   "id": "9b202fa3",
   "metadata": {},
   "source": [
    "### 2. format 메서드애 변수로 값 넣기 "
   ]
  },
  {
   "cell_type": "code",
   "execution_count": 49,
   "id": "c8606e1f",
   "metadata": {},
   "outputs": [],
   "source": [
    "drama = '오징어게임'\n",
    "ranking = 1"
   ]
  },
  {
   "cell_type": "code",
   "execution_count": 51,
   "id": "88cdec8c",
   "metadata": {},
   "outputs": [
    {
     "name": "stdout",
     "output_type": "stream",
     "text": [
      "넷플릭스 1위 드라마는 오징어게임 입니다\n"
     ]
    }
   ],
   "source": [
    "print('넷플릭스 {0}위 드라마는 {1} 입니다'.format(ranking, drama))"
   ]
  },
  {
   "cell_type": "code",
   "execution_count": 52,
   "id": "c43fe7c4",
   "metadata": {},
   "outputs": [],
   "source": [
    "company = ['삼성전자', 'LG전자', '현대차', '대한항공', '하나투어']\n",
    "stock = [71800, 121000,  195000, 31900, 86600]"
   ]
  },
  {
   "cell_type": "code",
   "execution_count": 59,
   "id": "dce7c2b2",
   "metadata": {},
   "outputs": [
    {
     "name": "stdout",
     "output_type": "stream",
     "text": [
      "삼성전자의 주가는 71800원 입니다.\n",
      "LG전자의 주가는 121000원 입니다.\n",
      "현대차의 주가는 195000원 입니다.\n",
      "대한항공의 주가는 31900원 입니다.\n",
      "하나투어의 주가는 86600원 입니다.\n"
     ]
    }
   ],
   "source": [
    "for c , s in zip(company, stock):\n",
    "    print('{0}의 주가는 {1}원 입니다.'.format(c, s))\n",
    "        "
   ]
  },
  {
   "cell_type": "markdown",
   "id": "b9c8b469",
   "metadata": {},
   "source": [
    "### 3. f-string 으로 값 넣기 - python 3.6부터 사용 가능"
   ]
  },
  {
   "cell_type": "code",
   "execution_count": 58,
   "id": "73cd763d",
   "metadata": {},
   "outputs": [
    {
     "name": "stdout",
     "output_type": "stream",
     "text": [
      "삼성전자의 주가는 71800원 입니다.\n",
      "LG전자의 주가는 121000원 입니다.\n",
      "현대차의 주가는 195000원 입니다.\n",
      "대한항공의 주가는 31900원 입니다.\n",
      "하나투어의 주가는 86600원 입니다.\n"
     ]
    }
   ],
   "source": [
    "for c , s in zip(company, stock):\n",
    "    print(f'{c}의 주가는 {s}원 입니다.')"
   ]
  },
  {
   "cell_type": "markdown",
   "id": "f729570c",
   "metadata": {},
   "source": [
    "### 4. format 메서드와 f-string으로 문자열 정렬하기, 자리수 지정해 출력하기\n",
    "\n",
    "'{인덱스: < 길이}'.format(값)   <br>\n",
    "f '{값:< 길이}'"
   ]
  },
  {
   "cell_type": "markdown",
   "id": "6675672f",
   "metadata": {},
   "source": [
    "#### <  :  방향을 나타냄, 정렬"
   ]
  },
  {
   "cell_type": "code",
   "execution_count": 60,
   "id": "b23064b3",
   "metadata": {},
   "outputs": [
    {
     "name": "stdout",
     "output_type": "stream",
     "text": [
      "삼성전자      \n"
     ]
    }
   ],
   "source": [
    "print('{0:<10}'.format('삼성전자'))"
   ]
  },
  {
   "cell_type": "code",
   "execution_count": 62,
   "id": "8d2f4fb4",
   "metadata": {},
   "outputs": [
    {
     "data": {
      "text/plain": [
       "'삼성전자      '"
      ]
     },
     "execution_count": 62,
     "metadata": {},
     "output_type": "execute_result"
    }
   ],
   "source": [
    "'{0:<10}'.format('삼성전자')\n",
    "\n",
    "\n",
    "# 10공간을 10칸 확보하고 왼쪽 정렬"
   ]
  },
  {
   "cell_type": "code",
   "execution_count": 63,
   "id": "a390abee",
   "metadata": {},
   "outputs": [
    {
     "name": "stdout",
     "output_type": "stream",
     "text": [
      "      삼성전자\n"
     ]
    }
   ],
   "source": [
    "print('{0:>10}'.format('삼성전자'))"
   ]
  },
  {
   "cell_type": "code",
   "execution_count": 64,
   "id": "26d50ea4",
   "metadata": {},
   "outputs": [
    {
     "data": {
      "text/plain": [
       "'      삼성전자'"
      ]
     },
     "execution_count": 64,
     "metadata": {},
     "output_type": "execute_result"
    }
   ],
   "source": [
    "'{0:>10}'.format('삼성전자')\n",
    "\n",
    "\n",
    "# 10공간을 10칸 확보하고 오른쪽 정렬"
   ]
  },
  {
   "cell_type": "code",
   "execution_count": 70,
   "id": "56725d1e",
   "metadata": {},
   "outputs": [
    {
     "ename": "ValueError",
     "evalue": "Unknown format code '\\x20' for object of type 'str'",
     "output_type": "error",
     "traceback": [
      "\u001b[1;31m---------------------------------------------------------------------------\u001b[0m",
      "\u001b[1;31mValueError\u001b[0m                                Traceback (most recent call last)",
      "Cell \u001b[1;32mIn[70], line 1\u001b[0m\n\u001b[1;32m----> 1\u001b[0m \u001b[38;5;28mprint\u001b[39m(\u001b[38;5;124mf\u001b[39m\u001b[38;5;124m\"\u001b[39m\u001b[38;5;132;01m{\u001b[39;00m\u001b[38;5;124m'\u001b[39m\u001b[38;5;124m삼성전자\u001b[39m\u001b[38;5;124m'\u001b[39m\u001b[38;5;132;01m:\u001b[39;00m\u001b[38;5;124m< 10 \u001b[39m\u001b[38;5;132;01m}\u001b[39;00m\u001b[38;5;124m\"\u001b[39m)\n",
      "\u001b[1;31mValueError\u001b[0m: Unknown format code '\\x20' for object of type 'str'"
     ]
    }
   ],
   "source": [
    "print(f\"{'삼성전자':< 10 }\")"
   ]
  },
  {
   "cell_type": "markdown",
   "id": "f10f0f7b",
   "metadata": {},
   "source": [
    "숫자 자리수 맞추고 기본 값 지정하기 <br>\n",
    "'{인덱스: 채울 숫자 길이 서식지정자}'.format(값)  <br>단, 서식지정자에서 %는 빼고 적는다  <br><br>\n",
    "f'{값: 채울 숫자길이 서식지정자}'"
   ]
  },
  {
   "cell_type": "markdown",
   "id": "60df1119",
   "metadata": {},
   "source": [
    "1자리 숫자 앞에 0 추가하기 "
   ]
  },
  {
   "cell_type": "markdown",
   "id": "439b578b",
   "metadata": {},
   "source": [
    "* 정수의 경우"
   ]
  },
  {
   "cell_type": "code",
   "execution_count": 69,
   "id": "a66ca6f4",
   "metadata": {
    "scrolled": true
   },
   "outputs": [
    {
     "name": "stdout",
     "output_type": "stream",
     "text": [
      "01\n"
     ]
    }
   ],
   "source": [
    "print('{0:02d}'.format(1))"
   ]
  },
  {
   "cell_type": "code",
   "execution_count": 75,
   "id": "7d32ba0d",
   "metadata": {},
   "outputs": [
    {
     "name": "stdout",
     "output_type": "stream",
     "text": [
      "01 월\n",
      "12 월\n",
      "0012 월\n"
     ]
    }
   ],
   "source": [
    "print(f'{1:02d} 월')\n",
    "print(f'{12:02d} 월')\n",
    "print(f'{12:04d} 월')"
   ]
  },
  {
   "cell_type": "markdown",
   "id": "1492dce3",
   "metadata": {},
   "source": [
    "* 실수 float의 경우 <br>\n",
    "실수의 정수 자리수와 소수점 자리수 지정하기 "
   ]
  },
  {
   "cell_type": "code",
   "execution_count": 116,
   "id": "5150bf41",
   "metadata": {},
   "outputs": [
    {
     "name": "stdout",
     "output_type": "stream",
     "text": [
      "20.000000\n"
     ]
    }
   ],
   "source": [
    "print('{0:03f}'.format(20))"
   ]
  },
  {
   "cell_type": "code",
   "execution_count": 77,
   "id": "adbc9ea2",
   "metadata": {},
   "outputs": [
    {
     "name": "stdout",
     "output_type": "stream",
     "text": [
      "20.234563\n"
     ]
    }
   ],
   "source": [
    "print('{0:02f}'.format(20.234562653))"
   ]
  },
  {
   "cell_type": "markdown",
   "id": "937b2f37",
   "metadata": {},
   "source": [
    "### 예제 <br>\n",
    "1월1일부터 12월 31일까지 출력하는데 1자리 월, 일에는 01, 02 식으로 0을 붙여서 출력하세요. <br><br>\n",
    "\n",
    "x : 1 ~ 12 월   <br>\n",
    "y : 1 ~ 31 일\n"
   ]
  },
  {
   "cell_type": "code",
   "execution_count": 80,
   "id": "dde25ed1",
   "metadata": {},
   "outputs": [
    {
     "name": "stdout",
     "output_type": "stream",
     "text": [
      "01 월 01 일\n",
      "01 월 02 일\n",
      "01 월 03 일\n",
      "01 월 04 일\n",
      "01 월 05 일\n",
      "01 월 06 일\n",
      "01 월 07 일\n",
      "01 월 08 일\n",
      "01 월 09 일\n",
      "01 월 10 일\n",
      "01 월 11 일\n",
      "01 월 12 일\n",
      "01 월 13 일\n",
      "01 월 14 일\n",
      "01 월 15 일\n",
      "01 월 16 일\n",
      "01 월 17 일\n",
      "01 월 18 일\n",
      "01 월 19 일\n",
      "01 월 20 일\n",
      "01 월 21 일\n",
      "01 월 22 일\n",
      "01 월 23 일\n",
      "01 월 24 일\n",
      "01 월 25 일\n",
      "01 월 26 일\n",
      "01 월 27 일\n",
      "01 월 28 일\n",
      "01 월 29 일\n",
      "01 월 30 일\n",
      "02 월 01 일\n",
      "02 월 02 일\n",
      "02 월 03 일\n",
      "02 월 04 일\n",
      "02 월 05 일\n",
      "02 월 06 일\n",
      "02 월 07 일\n",
      "02 월 08 일\n",
      "02 월 09 일\n",
      "02 월 10 일\n",
      "02 월 11 일\n",
      "02 월 12 일\n",
      "02 월 13 일\n",
      "02 월 14 일\n",
      "02 월 15 일\n",
      "02 월 16 일\n",
      "02 월 17 일\n",
      "02 월 18 일\n",
      "02 월 19 일\n",
      "02 월 20 일\n",
      "02 월 21 일\n",
      "02 월 22 일\n",
      "02 월 23 일\n",
      "02 월 24 일\n",
      "02 월 25 일\n",
      "02 월 26 일\n",
      "02 월 27 일\n",
      "02 월 28 일\n",
      "02 월 29 일\n",
      "02 월 30 일\n",
      "03 월 01 일\n",
      "03 월 02 일\n",
      "03 월 03 일\n",
      "03 월 04 일\n",
      "03 월 05 일\n",
      "03 월 06 일\n",
      "03 월 07 일\n",
      "03 월 08 일\n",
      "03 월 09 일\n",
      "03 월 10 일\n",
      "03 월 11 일\n",
      "03 월 12 일\n",
      "03 월 13 일\n",
      "03 월 14 일\n",
      "03 월 15 일\n",
      "03 월 16 일\n",
      "03 월 17 일\n",
      "03 월 18 일\n",
      "03 월 19 일\n",
      "03 월 20 일\n",
      "03 월 21 일\n",
      "03 월 22 일\n",
      "03 월 23 일\n",
      "03 월 24 일\n",
      "03 월 25 일\n",
      "03 월 26 일\n",
      "03 월 27 일\n",
      "03 월 28 일\n",
      "03 월 29 일\n",
      "03 월 30 일\n",
      "04 월 01 일\n",
      "04 월 02 일\n",
      "04 월 03 일\n",
      "04 월 04 일\n",
      "04 월 05 일\n",
      "04 월 06 일\n",
      "04 월 07 일\n",
      "04 월 08 일\n",
      "04 월 09 일\n",
      "04 월 10 일\n",
      "04 월 11 일\n",
      "04 월 12 일\n",
      "04 월 13 일\n",
      "04 월 14 일\n",
      "04 월 15 일\n",
      "04 월 16 일\n",
      "04 월 17 일\n",
      "04 월 18 일\n",
      "04 월 19 일\n",
      "04 월 20 일\n",
      "04 월 21 일\n",
      "04 월 22 일\n",
      "04 월 23 일\n",
      "04 월 24 일\n",
      "04 월 25 일\n",
      "04 월 26 일\n",
      "04 월 27 일\n",
      "04 월 28 일\n",
      "04 월 29 일\n",
      "04 월 30 일\n",
      "05 월 01 일\n",
      "05 월 02 일\n",
      "05 월 03 일\n",
      "05 월 04 일\n",
      "05 월 05 일\n",
      "05 월 06 일\n",
      "05 월 07 일\n",
      "05 월 08 일\n",
      "05 월 09 일\n",
      "05 월 10 일\n",
      "05 월 11 일\n",
      "05 월 12 일\n",
      "05 월 13 일\n",
      "05 월 14 일\n",
      "05 월 15 일\n",
      "05 월 16 일\n",
      "05 월 17 일\n",
      "05 월 18 일\n",
      "05 월 19 일\n",
      "05 월 20 일\n",
      "05 월 21 일\n",
      "05 월 22 일\n",
      "05 월 23 일\n",
      "05 월 24 일\n",
      "05 월 25 일\n",
      "05 월 26 일\n",
      "05 월 27 일\n",
      "05 월 28 일\n",
      "05 월 29 일\n",
      "05 월 30 일\n",
      "06 월 01 일\n",
      "06 월 02 일\n",
      "06 월 03 일\n",
      "06 월 04 일\n",
      "06 월 05 일\n",
      "06 월 06 일\n",
      "06 월 07 일\n",
      "06 월 08 일\n",
      "06 월 09 일\n",
      "06 월 10 일\n",
      "06 월 11 일\n",
      "06 월 12 일\n",
      "06 월 13 일\n",
      "06 월 14 일\n",
      "06 월 15 일\n",
      "06 월 16 일\n",
      "06 월 17 일\n",
      "06 월 18 일\n",
      "06 월 19 일\n",
      "06 월 20 일\n",
      "06 월 21 일\n",
      "06 월 22 일\n",
      "06 월 23 일\n",
      "06 월 24 일\n",
      "06 월 25 일\n",
      "06 월 26 일\n",
      "06 월 27 일\n",
      "06 월 28 일\n",
      "06 월 29 일\n",
      "06 월 30 일\n",
      "07 월 01 일\n",
      "07 월 02 일\n",
      "07 월 03 일\n",
      "07 월 04 일\n",
      "07 월 05 일\n",
      "07 월 06 일\n",
      "07 월 07 일\n",
      "07 월 08 일\n",
      "07 월 09 일\n",
      "07 월 10 일\n",
      "07 월 11 일\n",
      "07 월 12 일\n",
      "07 월 13 일\n",
      "07 월 14 일\n",
      "07 월 15 일\n",
      "07 월 16 일\n",
      "07 월 17 일\n",
      "07 월 18 일\n",
      "07 월 19 일\n",
      "07 월 20 일\n",
      "07 월 21 일\n",
      "07 월 22 일\n",
      "07 월 23 일\n",
      "07 월 24 일\n",
      "07 월 25 일\n",
      "07 월 26 일\n",
      "07 월 27 일\n",
      "07 월 28 일\n",
      "07 월 29 일\n",
      "07 월 30 일\n",
      "08 월 01 일\n",
      "08 월 02 일\n",
      "08 월 03 일\n",
      "08 월 04 일\n",
      "08 월 05 일\n",
      "08 월 06 일\n",
      "08 월 07 일\n",
      "08 월 08 일\n",
      "08 월 09 일\n",
      "08 월 10 일\n",
      "08 월 11 일\n",
      "08 월 12 일\n",
      "08 월 13 일\n",
      "08 월 14 일\n",
      "08 월 15 일\n",
      "08 월 16 일\n",
      "08 월 17 일\n",
      "08 월 18 일\n",
      "08 월 19 일\n",
      "08 월 20 일\n",
      "08 월 21 일\n",
      "08 월 22 일\n",
      "08 월 23 일\n",
      "08 월 24 일\n",
      "08 월 25 일\n",
      "08 월 26 일\n",
      "08 월 27 일\n",
      "08 월 28 일\n",
      "08 월 29 일\n",
      "08 월 30 일\n",
      "09 월 01 일\n",
      "09 월 02 일\n",
      "09 월 03 일\n",
      "09 월 04 일\n",
      "09 월 05 일\n",
      "09 월 06 일\n",
      "09 월 07 일\n",
      "09 월 08 일\n",
      "09 월 09 일\n",
      "09 월 10 일\n",
      "09 월 11 일\n",
      "09 월 12 일\n",
      "09 월 13 일\n",
      "09 월 14 일\n",
      "09 월 15 일\n",
      "09 월 16 일\n",
      "09 월 17 일\n",
      "09 월 18 일\n",
      "09 월 19 일\n",
      "09 월 20 일\n",
      "09 월 21 일\n",
      "09 월 22 일\n",
      "09 월 23 일\n",
      "09 월 24 일\n",
      "09 월 25 일\n",
      "09 월 26 일\n",
      "09 월 27 일\n",
      "09 월 28 일\n",
      "09 월 29 일\n",
      "09 월 30 일\n",
      "10 월 01 일\n",
      "10 월 02 일\n",
      "10 월 03 일\n",
      "10 월 04 일\n",
      "10 월 05 일\n",
      "10 월 06 일\n",
      "10 월 07 일\n",
      "10 월 08 일\n",
      "10 월 09 일\n",
      "10 월 10 일\n",
      "10 월 11 일\n",
      "10 월 12 일\n",
      "10 월 13 일\n",
      "10 월 14 일\n",
      "10 월 15 일\n",
      "10 월 16 일\n",
      "10 월 17 일\n",
      "10 월 18 일\n",
      "10 월 19 일\n",
      "10 월 20 일\n",
      "10 월 21 일\n",
      "10 월 22 일\n",
      "10 월 23 일\n",
      "10 월 24 일\n",
      "10 월 25 일\n",
      "10 월 26 일\n",
      "10 월 27 일\n",
      "10 월 28 일\n",
      "10 월 29 일\n",
      "10 월 30 일\n",
      "11 월 01 일\n",
      "11 월 02 일\n",
      "11 월 03 일\n",
      "11 월 04 일\n",
      "11 월 05 일\n",
      "11 월 06 일\n",
      "11 월 07 일\n",
      "11 월 08 일\n",
      "11 월 09 일\n",
      "11 월 10 일\n",
      "11 월 11 일\n",
      "11 월 12 일\n",
      "11 월 13 일\n",
      "11 월 14 일\n",
      "11 월 15 일\n",
      "11 월 16 일\n",
      "11 월 17 일\n",
      "11 월 18 일\n",
      "11 월 19 일\n",
      "11 월 20 일\n",
      "11 월 21 일\n",
      "11 월 22 일\n",
      "11 월 23 일\n",
      "11 월 24 일\n",
      "11 월 25 일\n",
      "11 월 26 일\n",
      "11 월 27 일\n",
      "11 월 28 일\n",
      "11 월 29 일\n",
      "11 월 30 일\n",
      "12 월 01 일\n",
      "12 월 02 일\n",
      "12 월 03 일\n",
      "12 월 04 일\n",
      "12 월 05 일\n",
      "12 월 06 일\n",
      "12 월 07 일\n",
      "12 월 08 일\n",
      "12 월 09 일\n",
      "12 월 10 일\n",
      "12 월 11 일\n",
      "12 월 12 일\n",
      "12 월 13 일\n",
      "12 월 14 일\n",
      "12 월 15 일\n",
      "12 월 16 일\n",
      "12 월 17 일\n",
      "12 월 18 일\n",
      "12 월 19 일\n",
      "12 월 20 일\n",
      "12 월 21 일\n",
      "12 월 22 일\n",
      "12 월 23 일\n",
      "12 월 24 일\n",
      "12 월 25 일\n",
      "12 월 26 일\n",
      "12 월 27 일\n",
      "12 월 28 일\n",
      "12 월 29 일\n",
      "12 월 30 일\n"
     ]
    }
   ],
   "source": [
    "for x in range(1,13):\n",
    "    for y in range(1,31):\n",
    "        print(f'{x:02d} 월', f'{y:02d} 일')"
   ]
  },
  {
   "cell_type": "markdown",
   "id": "6bf9495b",
   "metadata": {},
   "source": [
    "공백을 원하는 문자로 채우고 자리수 맞추기 <br>\n",
    "'{인덱스: 원하는 숫자 > < 자리수}'.format(값) \n"
   ]
  },
  {
   "cell_type": "code",
   "execution_count": 81,
   "id": "d131581f",
   "metadata": {},
   "outputs": [
    {
     "data": {
      "text/plain": [
       "'0001'"
      ]
     },
     "execution_count": 81,
     "metadata": {},
     "output_type": "execute_result"
    }
   ],
   "source": [
    "'{0:0>4}'.format(1)"
   ]
  },
  {
   "cell_type": "code",
   "execution_count": 82,
   "id": "b4647fc5",
   "metadata": {},
   "outputs": [
    {
     "data": {
      "text/plain": [
       "'3331'"
      ]
     },
     "execution_count": 82,
     "metadata": {},
     "output_type": "execute_result"
    }
   ],
   "source": [
    "'{0:3>4}'.format(1)"
   ]
  },
  {
   "cell_type": "code",
   "execution_count": 83,
   "id": "761f9b10",
   "metadata": {},
   "outputs": [
    {
     "data": {
      "text/plain": [
       "'1333'"
      ]
     },
     "execution_count": 83,
     "metadata": {},
     "output_type": "execute_result"
    }
   ],
   "source": [
    "'{0:3<4}'.format(1)"
   ]
  },
  {
   "cell_type": "code",
   "execution_count": 88,
   "id": "d6e9333f",
   "metadata": {},
   "outputs": [
    {
     "data": {
      "text/plain": [
       "'1$$$'"
      ]
     },
     "execution_count": 88,
     "metadata": {},
     "output_type": "execute_result"
    }
   ],
   "source": [
    "f'{1:$<4}'"
   ]
  },
  {
   "cell_type": "code",
   "execution_count": 86,
   "id": "2408268e",
   "metadata": {},
   "outputs": [
    {
     "data": {
      "text/plain": [
       "'1$$$$$$$'"
      ]
     },
     "execution_count": 86,
     "metadata": {},
     "output_type": "execute_result"
    }
   ],
   "source": [
    "f'{1:$<8}'"
   ]
  },
  {
   "cell_type": "markdown",
   "id": "21d8af12",
   "metadata": {},
   "source": [
    "### 예제\n",
    "url 맨 뒷 두자리 수 1 ~ 10 으로 10개 출력하기"
   ]
  },
  {
   "cell_type": "code",
   "execution_count": 89,
   "id": "f75ab50c",
   "metadata": {},
   "outputs": [],
   "source": [
    "url = \"https://finance.naver.com/sise/sise_trans_style.naver?sosok=01\""
   ]
  },
  {
   "cell_type": "code",
   "execution_count": 93,
   "id": "0f312fa2",
   "metadata": {},
   "outputs": [
    {
     "name": "stdout",
     "output_type": "stream",
     "text": [
      "https://finance.naver.com/sise/sise_trans_style.naver?sosok=01\n",
      "https://finance.naver.com/sise/sise_trans_style.naver?sosok=02\n",
      "https://finance.naver.com/sise/sise_trans_style.naver?sosok=03\n",
      "https://finance.naver.com/sise/sise_trans_style.naver?sosok=04\n",
      "https://finance.naver.com/sise/sise_trans_style.naver?sosok=05\n",
      "https://finance.naver.com/sise/sise_trans_style.naver?sosok=06\n",
      "https://finance.naver.com/sise/sise_trans_style.naver?sosok=07\n",
      "https://finance.naver.com/sise/sise_trans_style.naver?sosok=08\n",
      "https://finance.naver.com/sise/sise_trans_style.naver?sosok=09\n",
      "https://finance.naver.com/sise/sise_trans_style.naver?sosok=10\n"
     ]
    }
   ],
   "source": [
    "for i in range(1,11):\n",
    "    print(\"https://finance.naver.com/sise/sise_trans_style.naver?sosok={0:02d}\".format(i))"
   ]
  },
  {
   "cell_type": "code",
   "execution_count": null,
   "id": "4f7be15d",
   "metadata": {},
   "outputs": [],
   "source": []
  },
  {
   "cell_type": "markdown",
   "id": "f872c158",
   "metadata": {},
   "source": [
    "### 예제\n",
    "파일 이름을 한번에 바꾸기 <br>\n",
    "숫자로 되어 있는 1자리 혹은 2자리수 파일 이름을 앞을 0을 채우는 3자리수 숫자로 이름을 변경 <br>\n",
    "\n",
    "< 실행결과 >\n",
    "<br>\n",
    "001.jpg <br>\n",
    "010.jpg <br>\n",
    "011.jpg <br>\n",
    "002.jpg <br>\n",
    "003.jpg <br>"
   ]
  },
  {
   "cell_type": "code",
   "execution_count": 95,
   "id": "16adadfe",
   "metadata": {},
   "outputs": [
    {
     "data": {
      "text/plain": [
       "['1.jpg', '10.jpg', '11.jpg', '2.jpg', '3.png']"
      ]
     },
     "execution_count": 95,
     "metadata": {},
     "output_type": "execute_result"
    }
   ],
   "source": [
    "img_list = ['1.jpg', '10.jpg', '11.jpg', '2.jpg', '3.png']\n",
    "img_list"
   ]
  },
  {
   "cell_type": "code",
   "execution_count": 98,
   "id": "3218deef",
   "metadata": {},
   "outputs": [
    {
     "name": "stdout",
     "output_type": "stream",
     "text": [
      "<class 'list'>\n"
     ]
    }
   ],
   "source": []
  },
  {
   "cell_type": "code",
   "execution_count": 120,
   "id": "aac0fc75",
   "metadata": {},
   "outputs": [
    {
     "data": {
      "text/plain": [
       "'0001'"
      ]
     },
     "execution_count": 120,
     "metadata": {},
     "output_type": "execute_result"
    }
   ],
   "source": [
    "'{0:0>4}'.format(1)"
   ]
  },
  {
   "cell_type": "code",
   "execution_count": 124,
   "id": "d7a49de8",
   "metadata": {
    "scrolled": true
   },
   "outputs": [
    {
     "name": "stdout",
     "output_type": "stream",
     "text": [
      "001.jpg\n",
      "010.jpg\n",
      "011.jpg\n",
      "002.jpg\n",
      "003.png\n"
     ]
    }
   ],
   "source": [
    "# 방법1 : 내가 사용한 방법\n",
    "\n",
    "for i in img_list :\n",
    "    print('{0:0>7}'.format(i))\n",
    "    \n",
    "# 문자 포함 7자리인데, 0으로 채워라"
   ]
  },
  {
   "cell_type": "code",
   "execution_count": 128,
   "id": "be5d26a0",
   "metadata": {},
   "outputs": [
    {
     "name": "stdout",
     "output_type": "stream",
     "text": [
      "001.jpg\n",
      "010.jpg\n",
      "011.jpg\n",
      "002.jpg\n",
      "003.png\n"
     ]
    }
   ],
   "source": [
    "# 방법2\n",
    "\n",
    "for i in img_list :\n",
    "    print(f'{i:0>7}')"
   ]
  },
  {
   "cell_type": "markdown",
   "id": "e28dc50e",
   "metadata": {},
   "source": [
    "방법1과 방법2는 동일한 결과값을 출력한다. <br> <br>\n",
    "방법1 : '{}'.format(value)   --> .format() 메서드 사용    <br>\n",
    "방법2 : f'{value}'  --> f-string 사용"
   ]
  },
  {
   "cell_type": "code",
   "execution_count": null,
   "id": "28b5ff9e",
   "metadata": {},
   "outputs": [],
   "source": [
    "# 리스트 로 만드는 거 교수님 내용 참고하기 !\n",
    "\n",
    "\n",
    "\n",
    "\n",
    "\n",
    "\n"
   ]
  },
  {
   "cell_type": "code",
   "execution_count": null,
   "id": "73fa76a0",
   "metadata": {},
   "outputs": [],
   "source": []
  },
  {
   "cell_type": "code",
   "execution_count": null,
   "id": "85a5840d",
   "metadata": {},
   "outputs": [],
   "source": []
  },
  {
   "cell_type": "code",
   "execution_count": null,
   "id": "3c6793a7",
   "metadata": {},
   "outputs": [],
   "source": []
  },
  {
   "cell_type": "code",
   "execution_count": null,
   "id": "1e0bf195",
   "metadata": {},
   "outputs": [],
   "source": []
  },
  {
   "cell_type": "code",
   "execution_count": null,
   "id": "e6c3aded",
   "metadata": {},
   "outputs": [],
   "source": []
  },
  {
   "cell_type": "code",
   "execution_count": null,
   "id": "bbba88be",
   "metadata": {},
   "outputs": [],
   "source": []
  },
  {
   "cell_type": "code",
   "execution_count": null,
   "id": "2553d9aa",
   "metadata": {},
   "outputs": [],
   "source": []
  },
  {
   "cell_type": "code",
   "execution_count": null,
   "id": "a75b0b17",
   "metadata": {},
   "outputs": [],
   "source": []
  },
  {
   "cell_type": "code",
   "execution_count": null,
   "id": "a4f39318",
   "metadata": {},
   "outputs": [],
   "source": []
  },
  {
   "cell_type": "code",
   "execution_count": null,
   "id": "7138bb82",
   "metadata": {},
   "outputs": [],
   "source": []
  },
  {
   "cell_type": "code",
   "execution_count": null,
   "id": "122b6bd3",
   "metadata": {},
   "outputs": [],
   "source": []
  },
  {
   "cell_type": "code",
   "execution_count": null,
   "id": "01f7515d",
   "metadata": {},
   "outputs": [],
   "source": []
  },
  {
   "cell_type": "code",
   "execution_count": null,
   "id": "fb28bed0",
   "metadata": {},
   "outputs": [],
   "source": []
  }
 ],
 "metadata": {
  "kernelspec": {
   "display_name": "Python 3 (ipykernel)",
   "language": "python",
   "name": "python3"
  },
  "language_info": {
   "codemirror_mode": {
    "name": "ipython",
    "version": 3
   },
   "file_extension": ".py",
   "mimetype": "text/x-python",
   "name": "python",
   "nbconvert_exporter": "python",
   "pygments_lexer": "ipython3",
   "version": "3.10.14"
  }
 },
 "nbformat": 4,
 "nbformat_minor": 5
}
