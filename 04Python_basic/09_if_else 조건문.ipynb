{
 "cells": [
  {
   "cell_type": "markdown",
   "id": "de421e07",
   "metadata": {},
   "source": [
    "# < if else 조건문 >\n",
    "## 1. 조건문이란? 특정 조건일 때 실행하는 문법\n",
    "if 조건식:    <br>\n",
    "____ 조건식이 참일 때 실행할 코드  <br>\n",
    "else:   <br>\n",
    "____ 조건식이 거짓일 때 실행할 코드 "
   ]
  },
  {
   "cell_type": "code",
   "execution_count": 3,
   "id": "9d5e7ea0",
   "metadata": {},
   "outputs": [],
   "source": [
    "x = 10"
   ]
  },
  {
   "cell_type": "code",
   "execution_count": 4,
   "id": "a62a8b1f",
   "metadata": {},
   "outputs": [
    {
     "name": "stdout",
     "output_type": "stream",
     "text": [
      "x는 10 입니다.\n"
     ]
    }
   ],
   "source": [
    "if x == 10:\n",
    "    print('x는', x , '입니다.')\n",
    "else:\n",
    "    print('x는 0이 아닌', x , '입니다.')"
   ]
  },
  {
   "cell_type": "code",
   "execution_count": 5,
   "id": "9de54345",
   "metadata": {},
   "outputs": [],
   "source": [
    "x = 11"
   ]
  },
  {
   "cell_type": "code",
   "execution_count": 6,
   "id": "e84684ae",
   "metadata": {},
   "outputs": [
    {
     "name": "stdout",
     "output_type": "stream",
     "text": [
      "x는 0이 아닌 11 입니다.\n"
     ]
    }
   ],
   "source": [
    "if x == 10:\n",
    "    print('x는', x , '입니다.')\n",
    "else:\n",
    "    print('x는 0이 아닌', x , '입니다.')"
   ]
  },
  {
   "cell_type": "code",
   "execution_count": null,
   "id": "7a8a77a4",
   "metadata": {},
   "outputs": [],
   "source": []
  },
  {
   "cell_type": "code",
   "execution_count": 7,
   "id": "e888ed46",
   "metadata": {},
   "outputs": [],
   "source": [
    "L1 = ['파이썬', '조건문', 10, 15.3, True, [1,2,3], (4,5,6), {'key':'value'}]"
   ]
  },
  {
   "cell_type": "code",
   "execution_count": 8,
   "id": "1a448639",
   "metadata": {},
   "outputs": [
    {
     "data": {
      "text/plain": [
       "['파이썬', '조건문', 10, 15.3, True, [1, 2, 3], (4, 5, 6), {'key': 'value'}]"
      ]
     },
     "execution_count": 8,
     "metadata": {},
     "output_type": "execute_result"
    }
   ],
   "source": [
    "L1"
   ]
  },
  {
   "cell_type": "code",
   "execution_count": 9,
   "id": "6456ae58",
   "metadata": {},
   "outputs": [
    {
     "name": "stdout",
     "output_type": "stream",
     "text": [
      "L1 안에 파이썬이 있습니다.\n"
     ]
    }
   ],
   "source": [
    "if '파이썬' in L1:\n",
    "    print('L1 안에 파이썬이 있습니다.')\n",
    "else:\n",
    "    print('L1 안에 없습니다.')"
   ]
  },
  {
   "cell_type": "code",
   "execution_count": 10,
   "id": "e2ee5504",
   "metadata": {},
   "outputs": [
    {
     "name": "stdout",
     "output_type": "stream",
     "text": [
      "L1 안에 없습니다.\n"
     ]
    }
   ],
   "source": [
    "if 'hello' in L1:\n",
    "    print('L1 안에 파이썬이 있습니다.')\n",
    "else:\n",
    "    print('L1 안에 없습니다.')"
   ]
  },
  {
   "cell_type": "markdown",
   "id": "87211cb2",
   "metadata": {},
   "source": [
    "### * 예제 : 숫자값을 입력받아 홀수인지 짝수인지 판단하는 프로그램 만들기 "
   ]
  },
  {
   "cell_type": "code",
   "execution_count": 19,
   "id": "c0969a00",
   "metadata": {},
   "outputs": [
    {
     "name": "stdout",
     "output_type": "stream",
     "text": [
      "숫자를 입력하세요: 13\n",
      "입력한 숫자 13 는 홀수입니다.\n"
     ]
    }
   ],
   "source": [
    "x  = int(input(\"숫자를 입력하세요: \"))\n",
    "if x % 2 == 0:\n",
    "    print('입력한 숫자', x, '는 짝수입니다.')\n",
    "else:\n",
    "    print('입력한 숫자', x, '는 홀수입니다.')"
   ]
  },
  {
   "cell_type": "markdown",
   "id": "8ccbd17a",
   "metadata": {},
   "source": [
    "* int 형변환하기 "
   ]
  },
  {
   "cell_type": "code",
   "execution_count": null,
   "id": "7a8dbfb7",
   "metadata": {},
   "outputs": [],
   "source": []
  },
  {
   "cell_type": "markdown",
   "id": "6c9fcbc8",
   "metadata": {},
   "source": [
    "## 2. 다중 조건문 : elfi\n",
    "if 조건식1:    <br>\n",
    "____ 조건식1이 참일 때 실행할 코드  <br>\n",
    "elfi 조건식2:  <br>\n",
    "____ 조건식2가 참일 때 실행할 코드  <br>\n",
    "elfi 조건식3:  <br>\n",
    "____ 조건식3이 참일 때 실행할 코드  <br>\n",
    "else:          <br>\n",
    "____ 조건식 1,2,3이 모두 아닐 때 실행할 코드 "
   ]
  },
  {
   "cell_type": "markdown",
   "id": "dc5db0dd",
   "metadata": {},
   "source": [
    "### * 예제 : 학점 계산 문제\n",
    "\n",
    "점수 - 학점이  <br>\n",
    "81-100점 : A   <br>\n",
    "61-80점 : B   <br>\n",
    "41-60점 : C   <br>\n",
    "21-40점 : D   <br>\n",
    "0-20점 : F"
   ]
  },
  {
   "cell_type": "code",
   "execution_count": 22,
   "id": "7c8d8f92",
   "metadata": {},
   "outputs": [
    {
     "name": "stdout",
     "output_type": "stream",
     "text": [
      "점수를 입력하세요: 85\n",
      "학점: A\n"
     ]
    }
   ],
   "source": [
    "score = int(input(\"점수를 입력하세요: \"))\n",
    "\n",
    "if 81 <= score < 100:\n",
    "    print('학점: A')\n",
    "elif 61 <= score < 80:\n",
    "    print('학점: B')\n",
    "elif 41 <= score < 60:\n",
    "     print('학점: C')\n",
    "elif 21 <= score < 40:\n",
    "     print('학점: D')\n",
    "else:\n",
    "    print('학점: F')"
   ]
  },
  {
   "cell_type": "code",
   "execution_count": null,
   "id": "eb15a9f4",
   "metadata": {},
   "outputs": [],
   "source": []
  },
  {
   "cell_type": "code",
   "execution_count": null,
   "id": "e222974c",
   "metadata": {},
   "outputs": [],
   "source": []
  },
  {
   "cell_type": "code",
   "execution_count": null,
   "id": "6b93a0ac",
   "metadata": {},
   "outputs": [],
   "source": []
  },
  {
   "cell_type": "markdown",
   "id": "8c42ec53",
   "metadata": {},
   "source": [
    "< 예제 ><br>\n",
    "국어, 영어, 수학, 과학 점수를 입력해서 평균 80점 이상이면 합격 <br>\n",
    "미만이면 불합격,  <br>\n",
    "단, 과목당 60점 미만이 있으면 과락으로 불합격  <br>\n",
    "입력 범위는 0-100이며 범위를 벗어나면 '입력범위 초과'를 출력  <br>"
   ]
  },
  {
   "cell_type": "markdown",
   "id": "ba2cf127",
   "metadata": {},
   "source": [
    "* 나의 답변"
   ]
  },
  {
   "cell_type": "code",
   "execution_count": 38,
   "id": "66c7810d",
   "metadata": {},
   "outputs": [
    {
     "name": "stdout",
     "output_type": "stream",
     "text": [
      "국어점수: 70\n",
      "영어점수: 80\n",
      "수학점수: 90\n",
      "과학점수: 60\n",
      "합격\n"
     ]
    }
   ],
   "source": [
    "lan = int(input(\"국어점수: \"))\n",
    "eng = int(input(\"영어점수: \"))\n",
    "math = int(input(\"수학점수: \"))\n",
    "sci = int(input(\"과학점수: \"))\n",
    "\n",
    "if 0 < lan and eng and math and sci < 100:\n",
    "    if lan and eng and math and sci < 60:\n",
    "           print(\"불합격\")\n",
    "    elif 60 <= lan and eng and math and sci:\n",
    "           if (lan + eng + math + sci)/4:\n",
    "                print(\"합격\")\n",
    "else:\n",
    "    print(\"입력범위 초과\")"
   ]
  },
  {
   "cell_type": "markdown",
   "id": "06087995",
   "metadata": {},
   "source": [
    "* 나의 답변의 문제점 : 파이썬에서는 조건문에서 각 변수의 범위를 개별적으로 비교해야 한다. <br>\n",
    "<br>\n",
    "만약, if 0 < lan and eng and math and sci < 100:    <br>\n",
    "이걸 작성하려고 한다면   <br>\n",
    "if 0 < kor <=100  and  0 < eng <=100 and 0 < math <=100 and 0 < sci <=100:   <br>\n",
    "이렇게 개별로 비교할 수 있게 해야 함"
   ]
  },
  {
   "cell_type": "markdown",
   "id": "c6257731",
   "metadata": {},
   "source": [
    "* 실제 답변(강사님 답변)"
   ]
  },
  {
   "cell_type": "code",
   "execution_count": 3,
   "id": "b167cf25",
   "metadata": {},
   "outputs": [
    {
     "name": "stdout",
     "output_type": "stream",
     "text": [
      "국어, 영어, 수학, 과학 점수를 입력해주세요.80 75 99 75\n",
      "과락없이 합격입니다. 평균:  82.25\n"
     ]
    }
   ],
   "source": [
    "kor, eng, math, sci = input(\"국어, 영어, 수학, 과학 점수를 입력해주세요.\").split()\n",
    "kor = int(kor)\n",
    "eng = int(eng)\n",
    "math = int(math)\n",
    "sci = int(sci)\n",
    "# 형변환해서 다시 재할당함\n",
    "\n",
    "if 0 < kor <=100  and  0 < eng <=100 and 0 < math <=100 and 0 < sci <=100:\n",
    "    if kor >= 60 and eng >= 60 and math >= 60 and sci >= 60:\n",
    "        total = kor + eng + math + sci\n",
    "        mean = total/4\n",
    "        if mean >= 80:\n",
    "            print(\"과락없이 합격입니다.\", \"평균: \", mean)\n",
    "        else:\n",
    "            print(\"과락은 없지만 평균 80점 미만으로 불합격입니다.\")\n",
    "    else: \n",
    "        print(\"60점 미만인 과목이 있어 과락입니다.\")\n",
    "else:\n",
    "    print(\"0-100 사이의 점수를 입력해주세요. \")\n"
   ]
  },
  {
   "cell_type": "markdown",
   "id": "c8ef5468",
   "metadata": {},
   "source": []
  },
  {
   "cell_type": "markdown",
   "id": "65c73987",
   "metadata": {},
   "source": []
  },
  {
   "cell_type": "code",
   "execution_count": null,
   "id": "4b0c3d62",
   "metadata": {},
   "outputs": [],
   "source": []
  },
  {
   "cell_type": "markdown",
   "id": "e070979a",
   "metadata": {},
   "source": [
    "예제 : 1 ~ 50 사이의 숫자를 입력받아서 3의 배수면 3의 배수입니다. 3의 배수가 아닙니다. 출력하기"
   ]
  },
  {
   "cell_type": "code",
   "execution_count": 6,
   "id": "d6c3a2da",
   "metadata": {},
   "outputs": [
    {
     "name": "stdout",
     "output_type": "stream",
     "text": [
      "숫자를 입력해주세요: 3\n",
      "3의 배수입니다.\n"
     ]
    }
   ],
   "source": [
    "num = int(input(\"숫자를 입력해주세요: \"))\n",
    "\n",
    "if 1 <= num < 50:\n",
    "    if num % 3 == 0:\n",
    "        print(\"3의 배수입니다.\")\n",
    "    else:\n",
    "        print(\"3의 배수가 아닙니다.\")\n",
    "else: \n",
    "    print(\"입력범위 초과\")"
   ]
  },
  {
   "cell_type": "code",
   "execution_count": null,
   "id": "e721cee7",
   "metadata": {},
   "outputs": [],
   "source": []
  },
  {
   "cell_type": "code",
   "execution_count": null,
   "id": "92d8c4b2",
   "metadata": {},
   "outputs": [],
   "source": []
  },
  {
   "cell_type": "code",
   "execution_count": 13,
   "id": "992402f3",
   "metadata": {},
   "outputs": [
    {
     "name": "stdout",
     "output_type": "stream",
     "text": [
      "숫자를 입력해주세요: 6\n",
      "3의 배수입니다.\n"
     ]
    }
   ],
   "source": [
    "num = int(input(\"숫자를 입력해주세요: \"))\n",
    "\n",
    "if 1 <= num < 50:\n",
    "    if num % 3 == 0:\n",
    "        print(\"3의 배수입니다.\")\n",
    "    elif num % 2 == 0:\n",
    "        print(\"2의 배수입니다.\")\n",
    "    else:\n",
    "        print(\"3의 배수도 2의 배수도 둘다 아닙니다.\")\n",
    "else: \n",
    "    print(\"다시입력하세요\")"
   ]
  },
  {
   "cell_type": "code",
   "execution_count": null,
   "id": "a3590feb",
   "metadata": {},
   "outputs": [],
   "source": []
  },
  {
   "cell_type": "code",
   "execution_count": null,
   "id": "6ab82846",
   "metadata": {},
   "outputs": [],
   "source": []
  },
  {
   "cell_type": "code",
   "execution_count": null,
   "id": "aea4af7d",
   "metadata": {},
   "outputs": [],
   "source": []
  }
 ],
 "metadata": {
  "kernelspec": {
   "display_name": "Python 3 (ipykernel)",
   "language": "python",
   "name": "python3"
  },
  "language_info": {
   "codemirror_mode": {
    "name": "ipython",
    "version": 3
   },
   "file_extension": ".py",
   "mimetype": "text/x-python",
   "name": "python",
   "nbconvert_exporter": "python",
   "pygments_lexer": "ipython3",
   "version": "3.10.14"
  }
 },
 "nbformat": 4,
 "nbformat_minor": 5
}
