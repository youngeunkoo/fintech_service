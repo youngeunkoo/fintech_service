{
 "cells": [
  {
   "cell_type": "markdown",
   "id": "0f29e9d6",
   "metadata": {},
   "source": [
    "마크다운 문법으로 글 작성 가능, \n",
    "실행 후 한칸 내려오는 거 : shift + Enter"
   ]
  },
  {
   "cell_type": "markdown",
   "id": "95d413ff",
   "metadata": {
    "scrolled": true
   },
   "source": [
    "html에서 <h1> 이 파이썬에서는 #\n",
    "<h2> 가 파이썬에서는 ## "
   ]
  },
  {
   "cell_type": "markdown",
   "id": "9cd5da6f",
   "metadata": {},
   "source": [
    "# 주피터 노트북 사용법\n",
    "## 셀모드 : 셀 왼쪽 빈 공간 클릭 => 파란색으로 활성화\n",
    "* ** 위에 셀 추가 : ** a\n",
    "* ** 아래 셀 추가 : ** b\n",
    "* ** 셀 복사 : ** c\n",
    "* ** 셀 잘라내기 : ** x\n",
    "* ** 셀 붙여넣기 : ** v\n",
    "* ** markdown 모드 : ** m\n",
    "* ** coding 모드 : ** y\n",
    "\n",
    "\n",
    "<br>\n",
    "<br>\n",
    "<br>\n",
    "<br>\n",
    "\n",
    "# 코딩모드 : 셀 안쪽 클릭 => 녹색으로 활성화 셀 왼쪽에 In [ ]:가 있음\n",
    "## markdown 모드 \n",
    "* ** 수식 넣기 : ** <br>\n",
    "$ Tex $\n",
    "$$ (A \\cap B) $$ <br>\n",
    "\n"
   ]
  },
  {
   "cell_type": "markdown",
   "id": "be0ddc8d",
   "metadata": {},
   "source": [
    "# 파이썬 기초 문법\n",
    "* 파이썬은 세미콜론(;)을 쓰지 않는다.\n",
    "* 한 줄에 여러 명령을 쓸 때 사용\n",
    "* 파이썬의 주석은 문장 앞에 #을 붙인다 : ctrl + /\n",
    "* 파이썬은 들여쓰기를 사용해서 코드를 구분해 작성한다.\n",
    "* 들여쓰기는 4칸이 기본(스페이스바 사용) { google colab은 2칸 }\n",
    "* 변수를 만들 때 스네이크 표기법을 사용한다.  ex) user_name\n",
    "* 클래스를 만들 때는 카멜 표기법을 사용한다.  ex) UserName --> 앞에도 대문자, 중간도 대문자"
   ]
  },
  {
   "cell_type": "markdown",
   "id": "780b0f6a",
   "metadata": {},
   "source": [
    "* 링크걸기 : \n",
    "[네이버링크] (http://www.naver.com) \n",
    "* 이미지 넣기 1 :\n",
    "![이미지넣기] (이미지 링크 붙이기)\n",
    "* 이미지 넣기 2 : \n",
    "![내컴이미지] 끌어다 넣으면 들어가짐 "
   ]
  },
  {
   "attachments": {
    "google_login.jpg": {
     "image/jpeg": "[encoded data removed]"
    }
   },
   "cell_type": "markdown",
   "id": "b991ec22",
   "metadata": {},
   "source": [
    "![google_login.jpg](attachment:google_login.jpg)"
   ]
  },
  {
   "cell_type": "markdown",
   "id": "a1fd1c43",
   "metadata": {},
   "source": [
    "## print 문\n"
   ]
  },
  {
   "cell_type": "code",
   "execution_count": 2,
   "id": "32177286",
   "metadata": {},
   "outputs": [
    {
     "name": "stdout",
     "output_type": "stream",
     "text": [
      "Hello python\n"
     ]
    }
   ],
   "source": [
    "print('Hello python')"
   ]
  },
  {
   "cell_type": "code",
   "execution_count": 3,
   "id": "45a21c10",
   "metadata": {},
   "outputs": [
    {
     "name": "stdout",
     "output_type": "stream",
     "text": [
      "Hello python, Hello world\n"
     ]
    }
   ],
   "source": [
    "print('Hello python, Hello world')"
   ]
  },
  {
   "cell_type": "code",
   "execution_count": 10,
   "id": "d59794f9",
   "metadata": {},
   "outputs": [
    {
     "name": "stdout",
     "output_type": "stream",
     "text": [
      "Hello python  vs  Hello world\n"
     ]
    }
   ],
   "source": [
    "print('Hello python', 'Hello world', sep = \"  vs  \")"
   ]
  },
  {
   "cell_type": "code",
   "execution_count": 9,
   "id": "dde85a42",
   "metadata": {},
   "outputs": [
    {
     "name": "stdout",
     "output_type": "stream",
     "text": [
      "Hello python Hello world\n"
     ]
    }
   ],
   "source": [
    "print('Hello python', end=\" \")\n",
    "print('Hello world')"
   ]
  },
  {
   "cell_type": "code",
   "execution_count": 1,
   "id": "09387960",
   "metadata": {},
   "outputs": [
    {
     "name": "stdout",
     "output_type": "stream",
     "text": [
      "99\r"
     ]
    }
   ],
   "source": [
    "import time\n",
    "for i in range(1, 100):\n",
    "    time.sleep(0.1)\n",
    "    print(i, end=\"\\r\")"
   ]
  },
  {
   "cell_type": "markdown",
   "id": "877970fb",
   "metadata": {},
   "source": [
    "## 변수 만들기\n",
    "* 영문, 숫자를 조합해서 만들 수 있다.\n",
    "* 문자부터 시작해야 하며 숫자부터 시작하면 안된다\n",
    "* 대소문자를 구분한다\n",
    "* _로 시작할 수 있다. 대신 - dash는 안된다\n",
    "* 특수문자 사용안됨\n",
    "* 파이썬의 키워드(예약어) : if. for, 등 사용할 수 없다. \n",
    "* 변수는 스네이크 표기법으로 명명한다. "
   ]
  },
  {
   "cell_type": "code",
   "execution_count": null,
   "id": "b7182e9b",
   "metadata": {},
   "outputs": [],
   "source": [
    "int = 20 "
   ]
  },
  {
   "cell_type": "code",
   "execution_count": 14,
   "id": "95a8de6d",
   "metadata": {},
   "outputs": [],
   "source": [
    "str = 10"
   ]
  },
  {
   "cell_type": "code",
   "execution_count": 17,
   "id": "af495d2c",
   "metadata": {},
   "outputs": [
    {
     "data": {
      "text/plain": [
       "20"
      ]
     },
     "execution_count": 17,
     "metadata": {},
     "output_type": "execute_result"
    }
   ],
   "source": [
    "a = int(\"20\")\n",
    "a "
   ]
  },
  {
   "cell_type": "code",
   "execution_count": 18,
   "id": "d85ff5ee",
   "metadata": {},
   "outputs": [],
   "source": [
    "a = 10\n",
    "b = 3.14\n",
    "c = \"문자열\""
   ]
  },
  {
   "cell_type": "code",
   "execution_count": 19,
   "id": "e40afd74",
   "metadata": {},
   "outputs": [
    {
     "data": {
      "text/plain": [
       "10"
      ]
     },
     "execution_count": 19,
     "metadata": {},
     "output_type": "execute_result"
    }
   ],
   "source": [
    "a"
   ]
  },
  {
   "cell_type": "code",
   "execution_count": 20,
   "id": "79904c8c",
   "metadata": {},
   "outputs": [
    {
     "data": {
      "text/plain": [
       "3.14"
      ]
     },
     "execution_count": 20,
     "metadata": {},
     "output_type": "execute_result"
    }
   ],
   "source": [
    "b"
   ]
  },
  {
   "cell_type": "code",
   "execution_count": null,
   "id": "e2d1ec72",
   "metadata": {},
   "outputs": [],
   "source": [
    "c"
   ]
  },
  {
   "cell_type": "code",
   "execution_count": null,
   "id": "a1f6ea6a",
   "metadata": {},
   "outputs": [],
   "source": [
    "print (c)"
   ]
  },
  {
   "cell_type": "code",
   "execution_count": null,
   "id": "afda6e7a",
   "metadata": {},
   "outputs": [],
   "source": []
  },
  {
   "cell_type": "code",
   "execution_count": 2,
   "id": "88b87cd1",
   "metadata": {
    "scrolled": true
   },
   "outputs": [
    {
     "name": "stdout",
     "output_type": "stream",
     "text": [
      "10\n",
      "10\n"
     ]
    }
   ],
   "source": [
    "a = 10\n",
    "b = '10'\n",
    "print(a)\n",
    "print(b)"
   ]
  },
  {
   "cell_type": "code",
   "execution_count": 3,
   "id": "8ac2d422",
   "metadata": {},
   "outputs": [
    {
     "data": {
      "text/plain": [
       "10"
      ]
     },
     "execution_count": 3,
     "metadata": {},
     "output_type": "execute_result"
    }
   ],
   "source": [
    "a"
   ]
  },
  {
   "cell_type": "code",
   "execution_count": 4,
   "id": "7de9e219",
   "metadata": {},
   "outputs": [
    {
     "data": {
      "text/plain": [
       "'10'"
      ]
     },
     "execution_count": 4,
     "metadata": {},
     "output_type": "execute_result"
    }
   ],
   "source": [
    "b"
   ]
  },
  {
   "cell_type": "markdown",
   "id": "b1b62fc8",
   "metadata": {},
   "source": [
    "## 키보드 입력받기 input()\n",
    "* input () 함수로 입력받는 모든 값은 문자열로 저장된다\n",
    "* 반드시 형변환이 필요 "
   ]
  },
  {
   "cell_type": "code",
   "execution_count": 13,
   "id": "85245e97",
   "metadata": {},
   "outputs": [
    {
     "name": "stdout",
     "output_type": "stream",
     "text": [
      "\n",
      "\n"
     ]
    },
    {
     "ename": "ValueError",
     "evalue": "invalid literal for int() with base 10: ''",
     "output_type": "error",
     "traceback": [
      "\u001b[1;31m---------------------------------------------------------------------------\u001b[0m",
      "\u001b[1;31mValueError\u001b[0m                                Traceback (most recent call last)",
      "Cell \u001b[1;32mIn[13], line 3\u001b[0m\n\u001b[0;32m      1\u001b[0m num \u001b[38;5;241m=\u001b[39m \u001b[38;5;28minput\u001b[39m()\n\u001b[0;32m      2\u001b[0m num2 \u001b[38;5;241m=\u001b[39m \u001b[38;5;28minput\u001b[39m()\n\u001b[1;32m----> 3\u001b[0m \u001b[38;5;28mprint\u001b[39m(\u001b[38;5;28;43mint\u001b[39;49m\u001b[43m(\u001b[49m\u001b[43mnum\u001b[49m\u001b[43m)\u001b[49m\u001b[38;5;241m+\u001b[39m\u001b[38;5;28mint\u001b[39m(num2))\n",
      "\u001b[1;31mValueError\u001b[0m: invalid literal for int() with base 10: ''"
     ]
    }
   ],
   "source": [
    "num = input()\n",
    "num2 = input()\n",
    "print(int(num)+int(num2))"
   ]
  },
  {
   "cell_type": "code",
   "execution_count": null,
   "id": "8a3b8e37",
   "metadata": {},
   "outputs": [],
   "source": [
    "num, num2 = input().split()\n",
    "print(int(num)+int(num2))"
   ]
  },
  {
   "cell_type": "markdown",
   "id": "093415ab",
   "metadata": {},
   "source": [
    "# 변수 여러개를 한 번에 만들기\n",
    "* 변수 개수와 데이터 개수는 일치시켜야 함"
   ]
  },
  {
   "cell_type": "code",
   "execution_count": 11,
   "id": "648df238",
   "metadata": {},
   "outputs": [],
   "source": [
    "x, y, z = 10, 20, 30 "
   ]
  },
  {
   "cell_type": "code",
   "execution_count": 12,
   "id": "4f58ef71",
   "metadata": {},
   "outputs": [
    {
     "name": "stdout",
     "output_type": "stream",
     "text": [
      "10 20 30\n"
     ]
    }
   ],
   "source": [
    "print(x, y, z)"
   ]
  },
  {
   "cell_type": "markdown",
   "id": "649356ad",
   "metadata": {},
   "source": [
    "# 변수 삭제하기 del 변수명"
   ]
  },
  {
   "cell_type": "code",
   "execution_count": null,
   "id": "5d5b0665",
   "metadata": {},
   "outputs": [],
   "source": [
    "del x"
   ]
  },
  {
   "cell_type": "code",
   "execution_count": null,
   "id": "33a207f5",
   "metadata": {},
   "outputs": [],
   "source": []
  },
  {
   "cell_type": "code",
   "execution_count": null,
   "id": "5d5389d3",
   "metadata": {},
   "outputs": [],
   "source": []
  },
  {
   "cell_type": "code",
   "execution_count": null,
   "id": "60a0956b",
   "metadata": {},
   "outputs": [],
   "source": []
  }
 ],
 "metadata": {
  "kernelspec": {
   "display_name": "Python 3 (ipykernel)",
   "language": "python",
   "name": "python3"
  },
  "language_info": {
   "codemirror_mode": {
    "name": "ipython",
    "version": 3
   },
   "file_extension": ".py",
   "mimetype": "text/x-python",
   "name": "python",
   "nbconvert_exporter": "python",
   "pygments_lexer": "ipython3",
   "version": "3.10.14"
  }
 },
 "nbformat": 4,
 "nbformat_minor": 5
}
