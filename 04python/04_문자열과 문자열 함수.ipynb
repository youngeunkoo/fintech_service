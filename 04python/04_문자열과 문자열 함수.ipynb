{
 "cells": [
  {
   "cell_type": "markdown",
   "id": "d5b71f5d",
   "metadata": {},
   "source": [
    "# 문자열 사용하기, 문자열 함수"
   ]
  },
  {
   "cell_type": "markdown",
   "id": "3849d75d",
   "metadata": {},
   "source": [
    "1. 문자열 사용하기의 기본\n",
    "- \" 따옴표 안에 문자를 넣어서 문자열을 만든다 <br>\n",
    "- ' 도 가능"
   ]
  },
  {
   "cell_type": "code",
   "execution_count": 1,
   "id": "0558f80c",
   "metadata": {},
   "outputs": [
    {
     "data": {
      "text/plain": [
       "'hello, world'"
      ]
     },
     "execution_count": 1,
     "metadata": {},
     "output_type": "execute_result"
    }
   ],
   "source": [
    "hello = 'hello, world'\n",
    "hello"
   ]
  },
  {
   "cell_type": "code",
   "execution_count": 2,
   "id": "0988c29c",
   "metadata": {},
   "outputs": [
    {
     "data": {
      "text/plain": [
       "'hello, world'"
      ]
     },
     "execution_count": 2,
     "metadata": {},
     "output_type": "execute_result"
    }
   ],
   "source": [
    "hello2 = \"hello, world\"\n",
    "hello2"
   ]
  },
  {
   "cell_type": "code",
   "execution_count": 3,
   "id": "3f472906",
   "metadata": {},
   "outputs": [
    {
     "data": {
      "text/plain": [
       "\"hello, 'world'\""
      ]
     },
     "execution_count": 3,
     "metadata": {},
     "output_type": "execute_result"
    }
   ],
   "source": [
    "hello3 = \"hello, 'world'\"\n",
    "hello3"
   ]
  },
  {
   "cell_type": "code",
   "execution_count": 4,
   "id": "5f52f144",
   "metadata": {},
   "outputs": [
    {
     "data": {
      "text/plain": [
       "'\"hello, world\"'"
      ]
     },
     "execution_count": 4,
     "metadata": {},
     "output_type": "execute_result"
    }
   ],
   "source": [
    "hello4 = '\"hello, world\"'\n",
    "hello4"
   ]
  },
  {
   "cell_type": "markdown",
   "id": "c23804dd",
   "metadata": {},
   "source": [
    "여러 줄로 된 문자열 사용하기 --> 3번 사용 <br>\n",
    "''' 내용 '''    <br>\n",
    "\"\"\" 내용 \"\"\""
   ]
  },
  {
   "cell_type": "code",
   "execution_count": 6,
   "id": "e8cd2c38",
   "metadata": {},
   "outputs": [
    {
     "name": "stdout",
     "output_type": "stream",
     "text": [
      "\n",
      "안녕하세요. \n",
      "python 수업 중입니다. \n"
     ]
    },
    {
     "data": {
      "text/plain": [
       "'\\n안녕하세요. \\npython 수업 중입니다. '"
      ]
     },
     "execution_count": 6,
     "metadata": {},
     "output_type": "execute_result"
    }
   ],
   "source": [
    "hello5 = '''\n",
    "안녕하세요. \n",
    "python 수업 중입니다. '''\n",
    "\n",
    "print(hello5)\n",
    "hello5"
   ]
  },
  {
   "cell_type": "code",
   "execution_count": 7,
   "id": "223f564d",
   "metadata": {},
   "outputs": [
    {
     "name": "stdout",
     "output_type": "stream",
     "text": [
      "\n",
      "안녕하세요. \n",
      "python 수업 중입니다. \n"
     ]
    },
    {
     "data": {
      "text/plain": [
       "'\\n안녕하세요. \\npython 수업 중입니다. '"
      ]
     },
     "execution_count": 7,
     "metadata": {},
     "output_type": "execute_result"
    }
   ],
   "source": [
    "hello6 = \"\"\"\n",
    "안녕하세요. \n",
    "python 수업 중입니다. \"\"\"\n",
    "\n",
    "print(hello6)\n",
    "hello6"
   ]
  },
  {
   "cell_type": "markdown",
   "id": "ab220056",
   "metadata": {},
   "source": [
    "문자열에서 이스케이프문자(\\n, \\t, \\r) <br> \n",
    "\\n : 줄바꿈 new line  <br> \n",
    "\\t : 탭 tab 4 ~ 8 칸 공백  <br> \n",
    "\\r : carriage return  현재 줄의 제일 왼쪽 끝으로 커서 이동 "
   ]
  },
  {
   "cell_type": "code",
   "execution_count": 10,
   "id": "7b728c9f",
   "metadata": {},
   "outputs": [
    {
     "name": "stdout",
     "output_type": "stream",
     "text": [
      "파이썬에서 줄바꿈은 \\n으로 합니다. \n",
      "\n",
      "\n",
      "3줄 줄바꿈 끝\n"
     ]
    }
   ],
   "source": [
    "h1 = \"파이썬에서 줄바꿈은 \\\\n으로 합니다. \\n\\n\\n3줄 줄바꿈 끝\"\n",
    "print(h1)"
   ]
  },
  {
   "cell_type": "code",
   "execution_count": 12,
   "id": "7e789420",
   "metadata": {},
   "outputs": [
    {
     "name": "stdout",
     "output_type": "stream",
     "text": [
      "탭으로 공간을 띄우는 것은 \\t \t로 합니다\n"
     ]
    }
   ],
   "source": [
    "h2 = \"탭으로 공간을 띄우는 것은 \\\\t \\t로 합니다\"\n",
    "print(h2)"
   ]
  },
  {
   "cell_type": "code",
   "execution_count": 16,
   "id": "98fc0d24",
   "metadata": {},
   "outputs": [
    {
     "name": "stdout",
     "output_type": "stream",
     "text": [
      "캐리지리턴은 \\r 입니다. \n",
      " 커서가 같은 줄 가장 앞으로 이동하기 때문에 \r",
      "글자가 겹쳐져서 지워졌습니다.\n"
     ]
    }
   ],
   "source": [
    "h3 = \"캐리지리턴은 \\\\r 입니다. \\n 커서가 같은 줄 가장 앞으로 이동하기 때문에 \\r글자가 겹쳐져서 지워졌습니다.\"\n",
    "print(h3)"
   ]
  },
  {
   "cell_type": "code",
   "execution_count": null,
   "id": "67e68821",
   "metadata": {},
   "outputs": [],
   "source": []
  },
  {
   "cell_type": "markdown",
   "id": "abb1fefb",
   "metadata": {},
   "source": [
    "# 인덱스와 문자열\n",
    "* 문자 : 글자 1개\n",
    "* 문자열 : 글자가 여러개, 순서가 있는 자료, 번호가 있음(인덱스) \n",
    "\n",
    "- 문자 하나하나마다 번호가 부여됨\n",
    "- 문자열은 왼쪽부터 번호를 매길 수 있으며 시작은 0번부터다."
   ]
  },
  {
   "cell_type": "code",
   "execution_count": 18,
   "id": "ddc4b67f",
   "metadata": {},
   "outputs": [
    {
     "name": "stdout",
     "output_type": "stream",
     "text": [
      "문자열은 왼쪽부터 번호를 매길 수 있으며 시작은 0번부터 입니다.\n"
     ]
    }
   ],
   "source": [
    "h4 = \"문자열은 왼쪽부터 번호를 매길 수 있으며 시작은 0번부터 입니다.\"\n",
    "print(h4)"
   ]
  },
  {
   "cell_type": "code",
   "execution_count": 19,
   "id": "40a2abaa",
   "metadata": {},
   "outputs": [
    {
     "data": {
      "text/plain": [
       "'문'"
      ]
     },
     "execution_count": 19,
     "metadata": {},
     "output_type": "execute_result"
    }
   ],
   "source": [
    "h4[0]"
   ]
  },
  {
   "cell_type": "code",
   "execution_count": 22,
   "id": "e94f4070",
   "metadata": {},
   "outputs": [
    {
     "data": {
      "text/plain": [
       "'자'"
      ]
     },
     "execution_count": 22,
     "metadata": {},
     "output_type": "execute_result"
    }
   ],
   "source": [
    "h4[1]"
   ]
  },
  {
   "cell_type": "code",
   "execution_count": 23,
   "id": "fd939e63",
   "metadata": {},
   "outputs": [
    {
     "data": {
      "text/plain": [
       "' '"
      ]
     },
     "execution_count": 23,
     "metadata": {},
     "output_type": "execute_result"
    }
   ],
   "source": [
    "h4[4]"
   ]
  },
  {
   "cell_type": "code",
   "execution_count": 25,
   "id": "f2a59977",
   "metadata": {},
   "outputs": [
    {
     "data": {
      "text/plain": [
       "'은'"
      ]
     },
     "execution_count": 25,
     "metadata": {},
     "output_type": "execute_result"
    }
   ],
   "source": [
    "h4[3]"
   ]
  },
  {
   "cell_type": "markdown",
   "id": "c392a265",
   "metadata": {},
   "source": [
    "위 내용은 공백을 의미함 "
   ]
  },
  {
   "cell_type": "code",
   "execution_count": 26,
   "id": "72c04150",
   "metadata": {},
   "outputs": [
    {
     "data": {
      "text/plain": [
       "'문자열'"
      ]
     },
     "execution_count": 26,
     "metadata": {},
     "output_type": "execute_result"
    }
   ],
   "source": [
    "h4[0:3]"
   ]
  },
  {
   "cell_type": "code",
   "execution_count": 28,
   "id": "cd703bc7",
   "metadata": {},
   "outputs": [
    {
     "data": {
      "text/plain": [
       "'왼쪽부터 번호를 '"
      ]
     },
     "execution_count": 28,
     "metadata": {},
     "output_type": "execute_result"
    }
   ],
   "source": [
    "h4[5:14]"
   ]
  },
  {
   "cell_type": "code",
   "execution_count": 30,
   "id": "9551be46",
   "metadata": {},
   "outputs": [
    {
     "data": {
      "text/plain": [
       "' 입니다.'"
      ]
     },
     "execution_count": 30,
     "metadata": {},
     "output_type": "execute_result"
    }
   ],
   "source": [
    "h4[-5:]"
   ]
  },
  {
   "cell_type": "code",
   "execution_count": 31,
   "id": "44da75c8",
   "metadata": {},
   "outputs": [
    {
     "data": {
      "text/plain": [
       "'다'"
      ]
     },
     "execution_count": 31,
     "metadata": {},
     "output_type": "execute_result"
    }
   ],
   "source": [
    "h4[-2]"
   ]
  },
  {
   "cell_type": "code",
   "execution_count": 32,
   "id": "eba76e55",
   "metadata": {},
   "outputs": [
    {
     "data": {
      "text/plain": [
       "'부터 번호를 매길 수 있으며 시작은 0번부터 입니다.'"
      ]
     },
     "execution_count": 32,
     "metadata": {},
     "output_type": "execute_result"
    }
   ],
   "source": [
    "h4[7:]"
   ]
  },
  {
   "cell_type": "markdown",
   "id": "e5108d07",
   "metadata": {},
   "source": [
    "7번부터 끝까지 -> 라는 뜻"
   ]
  },
  {
   "cell_type": "code",
   "execution_count": 33,
   "id": "8878c9ec",
   "metadata": {},
   "outputs": [
    {
     "data": {
      "text/plain": [
       "'문자열은 왼쪽부터 번호를 매길 수 있으며 시작은 0번부터 입니다.'"
      ]
     },
     "execution_count": 33,
     "metadata": {},
     "output_type": "execute_result"
    }
   ],
   "source": [
    "h4[:]"
   ]
  },
  {
   "cell_type": "code",
   "execution_count": 34,
   "id": "038556ec",
   "metadata": {},
   "outputs": [
    {
     "data": {
      "text/plain": [
       "'문열 쪽터번'"
      ]
     },
     "execution_count": 34,
     "metadata": {},
     "output_type": "execute_result"
    }
   ],
   "source": [
    "h4[0:11:2]"
   ]
  },
  {
   "cell_type": "markdown",
   "id": "19e081ef",
   "metadata": {},
   "source": [
    "# 문자열 함수\n",
    "- .replace()\n",
    "- .split()\n",
    "- .join()\n",
    "- .strip()\n",
    "\n",
    "1. 문자열 바꾸기"
   ]
  },
  {
   "cell_type": "code",
   "execution_count": 35,
   "id": "94dd466d",
   "metadata": {},
   "outputs": [
    {
     "data": {
      "text/plain": [
       "'hello, python'"
      ]
     },
     "execution_count": 35,
     "metadata": {},
     "output_type": "execute_result"
    }
   ],
   "source": [
    "h5 = \"hello, python\"\n",
    "h5"
   ]
  },
  {
   "cell_type": "code",
   "execution_count": 36,
   "id": "151125d3",
   "metadata": {},
   "outputs": [
    {
     "data": {
      "text/plain": [
       "'hello, world'"
      ]
     },
     "execution_count": 36,
     "metadata": {},
     "output_type": "execute_result"
    }
   ],
   "source": [
    "h5.replace('python', 'world')"
   ]
  },
  {
   "cell_type": "code",
   "execution_count": 37,
   "id": "025d2ad7",
   "metadata": {},
   "outputs": [
    {
     "data": {
      "text/plain": [
       "'hello, python'"
      ]
     },
     "execution_count": 37,
     "metadata": {},
     "output_type": "execute_result"
    }
   ],
   "source": [
    "h5"
   ]
  },
  {
   "cell_type": "markdown",
   "id": "29ff9015",
   "metadata": {},
   "source": [
    "1) 문자열 바꾸기 replace(찾을값, 바꿀값) \n",
    "- replace함수는 사용 후 결과를 재할당 해야 바뀜  <br>\n",
    "밑에 처럼..."
   ]
  },
  {
   "cell_type": "code",
   "execution_count": 38,
   "id": "e8c4063b",
   "metadata": {},
   "outputs": [
    {
     "data": {
      "text/plain": [
       "'hello, world'"
      ]
     },
     "execution_count": 38,
     "metadata": {},
     "output_type": "execute_result"
    }
   ],
   "source": [
    "h5 = h5.replace('python', 'world')\n",
    "h5"
   ]
  },
  {
   "cell_type": "markdown",
   "id": "bd2bc5dc",
   "metadata": {},
   "source": [
    "* str.maketrans('찾을문자', '바꿀문자', '추가로 없앨문자') 로 변환테이블 생성\n",
    "* translate 로 문자를 찾아서 바꿈"
   ]
  },
  {
   "cell_type": "code",
   "execution_count": 39,
   "id": "3980c0ac",
   "metadata": {},
   "outputs": [],
   "source": [
    "table = str.maketrans('abcdefg', '1234567')"
   ]
  },
  {
   "cell_type": "code",
   "execution_count": 40,
   "id": "8a0462d2",
   "metadata": {},
   "outputs": [
    {
     "data": {
      "text/plain": [
       "'h5llo, worl4'"
      ]
     },
     "execution_count": 40,
     "metadata": {},
     "output_type": "execute_result"
    }
   ],
   "source": [
    "h5.translate(table)"
   ]
  },
  {
   "cell_type": "code",
   "execution_count": 41,
   "id": "ececbce7",
   "metadata": {},
   "outputs": [],
   "source": [
    "table = str.maketrans('abcdefg', '1234567', 'lor')"
   ]
  },
  {
   "cell_type": "code",
   "execution_count": 42,
   "id": "eb7a2d9c",
   "metadata": {},
   "outputs": [
    {
     "data": {
      "text/plain": [
       "'h5, w4'"
      ]
     },
     "execution_count": 42,
     "metadata": {},
     "output_type": "execute_result"
    }
   ],
   "source": [
    "h5.translate(table)"
   ]
  },
  {
   "cell_type": "code",
   "execution_count": 43,
   "id": "dc53c78f",
   "metadata": {},
   "outputs": [
    {
     "data": {
      "text/plain": [
       "'hello, world'"
      ]
     },
     "execution_count": 43,
     "metadata": {},
     "output_type": "execute_result"
    }
   ],
   "source": [
    "h5"
   ]
  },
  {
   "cell_type": "code",
   "execution_count": 44,
   "id": "1b981fb7",
   "metadata": {},
   "outputs": [
    {
     "data": {
      "text/plain": [
       "'h5, w4'"
      ]
     },
     "execution_count": 44,
     "metadata": {},
     "output_type": "execute_result"
    }
   ],
   "source": [
    "h5.translate(str.maketrans('abcdefg', '1234567', 'lor'))"
   ]
  },
  {
   "cell_type": "code",
   "execution_count": 45,
   "id": "a47e5218",
   "metadata": {},
   "outputs": [
    {
     "data": {
      "text/plain": [
       "'hello, world'"
      ]
     },
     "execution_count": 45,
     "metadata": {},
     "output_type": "execute_result"
    }
   ],
   "source": [
    "h5"
   ]
  },
  {
   "cell_type": "code",
   "execution_count": 46,
   "id": "aff27c09",
   "metadata": {},
   "outputs": [
    {
     "data": {
      "text/plain": [
       "'ho, word'"
      ]
     },
     "execution_count": 46,
     "metadata": {},
     "output_type": "execute_result"
    }
   ],
   "source": [
    "h5.translate(str.maketrans('', '', 'ell'))"
   ]
  },
  {
   "cell_type": "code",
   "execution_count": 47,
   "id": "b5907ac3",
   "metadata": {},
   "outputs": [
    {
     "data": {
      "text/plain": [
       "'hello,world'"
      ]
     },
     "execution_count": 47,
     "metadata": {},
     "output_type": "execute_result"
    }
   ],
   "source": [
    "h5.translate(str.maketrans('', '', ' '))"
   ]
  },
  {
   "cell_type": "markdown",
   "id": "bfc1cea3",
   "metadata": {},
   "source": [
    "공백을 없애라!"
   ]
  },
  {
   "cell_type": "code",
   "execution_count": 48,
   "id": "b1d24c79",
   "metadata": {},
   "outputs": [
    {
     "data": {
      "text/plain": [
       "'hello, world'"
      ]
     },
     "execution_count": 48,
     "metadata": {},
     "output_type": "execute_result"
    }
   ],
   "source": [
    "h5"
   ]
  },
  {
   "cell_type": "markdown",
   "id": "ed58b3fe",
   "metadata": {},
   "source": [
    "2. 문자열 분리하기 .split()\n",
    "- 공백을 기준으로 문자열을 분리해 리스트로 만들어 줌."
   ]
  },
  {
   "cell_type": "code",
   "execution_count": 49,
   "id": "a5bb9536",
   "metadata": {},
   "outputs": [
    {
     "data": {
      "text/plain": [
       "'문자열은 왼쪽부터 번호를 매길 수 있으며 시작은 0번부터 입니다.'"
      ]
     },
     "execution_count": 49,
     "metadata": {},
     "output_type": "execute_result"
    }
   ],
   "source": [
    "h4"
   ]
  },
  {
   "cell_type": "code",
   "execution_count": 50,
   "id": "77a7d27c",
   "metadata": {},
   "outputs": [
    {
     "data": {
      "text/plain": [
       "['문자열은', '왼쪽부터', '번호를', '매길', '수', '있으며', '시작은', '0번부터', '입니다.']"
      ]
     },
     "execution_count": 50,
     "metadata": {},
     "output_type": "execute_result"
    }
   ],
   "source": [
    "h4.split()"
   ]
  },
  {
   "cell_type": "code",
   "execution_count": 51,
   "id": "026a8117",
   "metadata": {},
   "outputs": [],
   "source": [
    "h4_1 = h4.split()"
   ]
  },
  {
   "cell_type": "code",
   "execution_count": 52,
   "id": "75e7b482",
   "metadata": {},
   "outputs": [
    {
     "data": {
      "text/plain": [
       "['문자열은', '왼쪽부터', '번호를', '매길', '수', '있으며', '시작은', '0번부터', '입니다.']"
      ]
     },
     "execution_count": 52,
     "metadata": {},
     "output_type": "execute_result"
    }
   ],
   "source": [
    "h4_1"
   ]
  },
  {
   "cell_type": "code",
   "execution_count": 54,
   "id": "719b20fc",
   "metadata": {},
   "outputs": [
    {
     "name": "stdout",
     "output_type": "stream",
     "text": [
      "<class 'list'>\n"
     ]
    }
   ],
   "source": [
    "print(type(h4_1))"
   ]
  },
  {
   "cell_type": "code",
   "execution_count": 55,
   "id": "206b782d",
   "metadata": {},
   "outputs": [
    {
     "data": {
      "text/plain": [
       "['문자열은', '왼쪽부터', '번호를', '매길', '수', '있으며', '시작은', '0번부터', '입니다.']"
      ]
     },
     "execution_count": 55,
     "metadata": {},
     "output_type": "execute_result"
    }
   ],
   "source": [
    "h4.split()"
   ]
  },
  {
   "cell_type": "code",
   "execution_count": 57,
   "id": "f5ca96da",
   "metadata": {},
   "outputs": [
    {
     "name": "stdout",
     "output_type": "stream",
     "text": [
      "'문자열은', '왼쪽부터', '번호를', '매길', '수', '있으며', '시작은', '0번부터', '입니다.'\n"
     ]
    },
    {
     "data": {
      "text/plain": [
       "str"
      ]
     },
     "execution_count": 57,
     "metadata": {},
     "output_type": "execute_result"
    }
   ],
   "source": [
    "h6 =\"'문자열은', '왼쪽부터', '번호를', '매길', '수', '있으며', '시작은', '0번부터', '입니다.'\"\n",
    "print(h6)\n",
    "type(h6)"
   ]
  },
  {
   "cell_type": "code",
   "execution_count": 58,
   "id": "a084370d",
   "metadata": {},
   "outputs": [
    {
     "data": {
      "text/plain": [
       "[\"'문자열은',\",\n",
       " \"'왼쪽부터',\",\n",
       " \"'번호를',\",\n",
       " \"'매길',\",\n",
       " \"'수',\",\n",
       " \"'있으며',\",\n",
       " \"'시작은',\",\n",
       " \"'0번부터',\",\n",
       " \"'입니다.'\"]"
      ]
     },
     "execution_count": 58,
     "metadata": {},
     "output_type": "execute_result"
    }
   ],
   "source": [
    "h6.split()"
   ]
  },
  {
   "cell_type": "code",
   "execution_count": 64,
   "id": "6920e34a",
   "metadata": {},
   "outputs": [
    {
     "data": {
      "text/plain": [
       "[\"'문자열은'\",\n",
       " \"'왼쪽부터'\",\n",
       " \"'번호를'\",\n",
       " \"'매길'\",\n",
       " \"'수'\",\n",
       " \"'있으며'\",\n",
       " \"'시작은'\",\n",
       " \"'0번부터'\",\n",
       " \"'입니다.'\"]"
      ]
     },
     "execution_count": 64,
     "metadata": {},
     "output_type": "execute_result"
    }
   ],
   "source": [
    "h6.split(\", \")"
   ]
  },
  {
   "cell_type": "code",
   "execution_count": 62,
   "id": "6632c60f",
   "metadata": {},
   "outputs": [
    {
     "data": {
      "text/plain": [
       "\"'문자열은'\""
      ]
     },
     "execution_count": 62,
     "metadata": {},
     "output_type": "execute_result"
    }
   ],
   "source": [
    "h6.split(\",\")[0]"
   ]
  },
  {
   "cell_type": "code",
   "execution_count": 63,
   "id": "644c40d5",
   "metadata": {},
   "outputs": [
    {
     "data": {
      "text/plain": [
       "\" '매길'\""
      ]
     },
     "execution_count": 63,
     "metadata": {},
     "output_type": "execute_result"
    }
   ],
   "source": [
    "h6.split(\",\")[3]"
   ]
  },
  {
   "cell_type": "markdown",
   "id": "4afb5abc",
   "metadata": {},
   "source": [
    "* 리스트니깐 순번이 있음. "
   ]
  },
  {
   "cell_type": "code",
   "execution_count": 67,
   "id": "fa0d6ccf",
   "metadata": {},
   "outputs": [],
   "source": [
    "h7 = \"사과, 배, 포도, 파인애플, 망고, 오렌지\""
   ]
  },
  {
   "cell_type": "code",
   "execution_count": 72,
   "id": "803d4a46",
   "metadata": {},
   "outputs": [],
   "source": [
    "h7_1 = h7.split(\", \")"
   ]
  },
  {
   "cell_type": "code",
   "execution_count": 73,
   "id": "43ba35df",
   "metadata": {},
   "outputs": [
    {
     "data": {
      "text/plain": [
       "['사과', '배', '포도', '파인애플', '망고', '오렌지']"
      ]
     },
     "execution_count": 73,
     "metadata": {},
     "output_type": "execute_result"
    }
   ],
   "source": [
    "h7_1"
   ]
  },
  {
   "cell_type": "code",
   "execution_count": 74,
   "id": "71c30c42",
   "metadata": {},
   "outputs": [
    {
     "data": {
      "text/plain": [
       "'배'"
      ]
     },
     "execution_count": 74,
     "metadata": {},
     "output_type": "execute_result"
    }
   ],
   "source": [
    "h7_1[1]"
   ]
  },
  {
   "cell_type": "code",
   "execution_count": 75,
   "id": "0ef352cd",
   "metadata": {},
   "outputs": [
    {
     "data": {
      "text/plain": [
       "'망고'"
      ]
     },
     "execution_count": 75,
     "metadata": {},
     "output_type": "execute_result"
    }
   ],
   "source": [
    "h7_1[4]"
   ]
  },
  {
   "cell_type": "markdown",
   "id": "fdab8b78",
   "metadata": {},
   "source": [
    "3. 리스트를 1개의 문자열로 합치기 .join <br>\n",
    "합칠 기준 .join(list)"
   ]
  },
  {
   "cell_type": "code",
   "execution_count": 77,
   "id": "788d2498",
   "metadata": {},
   "outputs": [
    {
     "data": {
      "text/plain": [
       "'사과,배,포도,파인애플,망고,오렌지'"
      ]
     },
     "execution_count": 77,
     "metadata": {},
     "output_type": "execute_result"
    }
   ],
   "source": [
    "\",\".join(h7_1)"
   ]
  },
  {
   "cell_type": "code",
   "execution_count": 78,
   "id": "26c89983",
   "metadata": {},
   "outputs": [
    {
     "data": {
      "text/plain": [
       "['사과', '배', '포도', '파인애플', '망고', '오렌지']"
      ]
     },
     "execution_count": 78,
     "metadata": {},
     "output_type": "execute_result"
    }
   ],
   "source": [
    "h7_1"
   ]
  },
  {
   "cell_type": "code",
   "execution_count": 79,
   "id": "2cf44381",
   "metadata": {},
   "outputs": [
    {
     "data": {
      "text/plain": [
       "'사과, 배, 포도, 파인애플, 망고, 오렌지'"
      ]
     },
     "execution_count": 79,
     "metadata": {},
     "output_type": "execute_result"
    }
   ],
   "source": [
    "\", \".join(h7_1)"
   ]
  },
  {
   "cell_type": "markdown",
   "id": "304f5fd8",
   "metadata": {},
   "source": [
    "split   <=======>   join"
   ]
  },
  {
   "cell_type": "code",
   "execution_count": 81,
   "id": "29a7dc10",
   "metadata": {},
   "outputs": [],
   "source": [
    "h9 = ['Iron man', 'spider man', 'black panther', 'captin america']"
   ]
  },
  {
   "cell_type": "code",
   "execution_count": 82,
   "id": "780c8d6b",
   "metadata": {},
   "outputs": [],
   "source": [
    "h9_1 = \" vs. \".join(h9)"
   ]
  },
  {
   "cell_type": "code",
   "execution_count": 83,
   "id": "c0d7bd24",
   "metadata": {},
   "outputs": [
    {
     "data": {
      "text/plain": [
       "'Iron man vs. spider man vs. black panther vs. captin america'"
      ]
     },
     "execution_count": 83,
     "metadata": {},
     "output_type": "execute_result"
    }
   ],
   "source": [
    "h9_1"
   ]
  },
  {
   "cell_type": "markdown",
   "id": "f4d83111",
   "metadata": {},
   "source": [
    "4. 소문자를 대문자로, 대문자를 소문자로 바꾸는 함수\n",
    "* .upper(), .lower()"
   ]
  },
  {
   "cell_type": "code",
   "execution_count": 84,
   "id": "d0e3b42c",
   "metadata": {},
   "outputs": [
    {
     "data": {
      "text/plain": [
       "'IRON MAN VS. SPIDER MAN VS. BLACK PANTHER VS. CAPTIN AMERICA'"
      ]
     },
     "execution_count": 84,
     "metadata": {},
     "output_type": "execute_result"
    }
   ],
   "source": [
    "h10 = h9_1.upper()\n",
    "h10"
   ]
  },
  {
   "cell_type": "code",
   "execution_count": 85,
   "id": "50438213",
   "metadata": {},
   "outputs": [
    {
     "data": {
      "text/plain": [
       "'iron man vs. spider man vs. black panther vs. captin america'"
      ]
     },
     "execution_count": 85,
     "metadata": {},
     "output_type": "execute_result"
    }
   ],
   "source": [
    "h10_1 = h10.lower()\n",
    "h10_1"
   ]
  },
  {
   "cell_type": "markdown",
   "id": "4af9d4fd",
   "metadata": {},
   "source": [
    "5. 왼쪽, 오른쪽, 양쪽 공백/특정 문자 삭제하기 \n",
    "* .lstrip() : 왼쪽\n",
    "* .rstrip() : 오른쪽\n",
    "* .strip()  : 양쪽"
   ]
  },
  {
   "cell_type": "code",
   "execution_count": 86,
   "id": "1cb79927",
   "metadata": {},
   "outputs": [
    {
     "data": {
      "text/plain": [
       "'           공백이 있는 문자열        '"
      ]
     },
     "execution_count": 86,
     "metadata": {},
     "output_type": "execute_result"
    }
   ],
   "source": [
    "h11 = \"           공백이 있는 문자열        \"\n",
    "h11"
   ]
  },
  {
   "cell_type": "code",
   "execution_count": 87,
   "id": "9d705354",
   "metadata": {},
   "outputs": [
    {
     "data": {
      "text/plain": [
       "'공백이 있는 문자열        '"
      ]
     },
     "execution_count": 87,
     "metadata": {},
     "output_type": "execute_result"
    }
   ],
   "source": [
    "h11.lstrip()"
   ]
  },
  {
   "cell_type": "code",
   "execution_count": 88,
   "id": "e56904c4",
   "metadata": {},
   "outputs": [
    {
     "data": {
      "text/plain": [
       "'           공백이 있는 문자열'"
      ]
     },
     "execution_count": 88,
     "metadata": {},
     "output_type": "execute_result"
    }
   ],
   "source": [
    "h11.rstrip()"
   ]
  },
  {
   "cell_type": "code",
   "execution_count": 89,
   "id": "e51c7ed4",
   "metadata": {},
   "outputs": [
    {
     "data": {
      "text/plain": [
       "'공백이 있는 문자열'"
      ]
     },
     "execution_count": 89,
     "metadata": {},
     "output_type": "execute_result"
    }
   ],
   "source": [
    "h11.strip()"
   ]
  },
  {
   "cell_type": "code",
   "execution_count": 2,
   "id": "57cfcba2",
   "metadata": {},
   "outputs": [
    {
     "data": {
      "text/plain": [
       "'... ,   공백과 특수문자가 같이 있는 문자열 !! ^^ .....     '"
      ]
     },
     "execution_count": 2,
     "metadata": {},
     "output_type": "execute_result"
    }
   ],
   "source": [
    "h12 = \"... ,   공백과 특수문자가 같이 있는 문자열 !! ^^ .....     \"\n",
    "h12"
   ]
  },
  {
   "cell_type": "code",
   "execution_count": 92,
   "id": "6386fbe0",
   "metadata": {},
   "outputs": [
    {
     "data": {
      "text/plain": [
       "'... ,   공백과 특수문자가 같이 있는 문자열 !! ^^ .....     '"
      ]
     },
     "execution_count": 92,
     "metadata": {},
     "output_type": "execute_result"
    }
   ],
   "source": [
    "h12.lstrip()"
   ]
  },
  {
   "cell_type": "code",
   "execution_count": 93,
   "id": "2a49fc17",
   "metadata": {},
   "outputs": [
    {
     "data": {
      "text/plain": [
       "'... ,   공백과 특수문자가 같이 있는 문자열 !! ^^ .....'"
      ]
     },
     "execution_count": 93,
     "metadata": {},
     "output_type": "execute_result"
    }
   ],
   "source": [
    "h12.rstrip()"
   ]
  },
  {
   "cell_type": "code",
   "execution_count": 94,
   "id": "9e875018",
   "metadata": {},
   "outputs": [
    {
     "data": {
      "text/plain": [
       "'... ,   공백과 특수문자가 같이 있는 문자열 !! ^^ .....'"
      ]
     },
     "execution_count": 94,
     "metadata": {},
     "output_type": "execute_result"
    }
   ],
   "source": [
    "h12.strip()"
   ]
  },
  {
   "cell_type": "code",
   "execution_count": 4,
   "id": "101d9a0e",
   "metadata": {},
   "outputs": [
    {
     "data": {
      "text/plain": [
       "'공백과 특수문자가 같이 있는 문자열 !! ^^ .....     '"
      ]
     },
     "execution_count": 4,
     "metadata": {},
     "output_type": "execute_result"
    }
   ],
   "source": [
    "h12.lstrip(\"..., \")"
   ]
  },
  {
   "cell_type": "code",
   "execution_count": 98,
   "id": "27f38c8f",
   "metadata": {},
   "outputs": [
    {
     "data": {
      "text/plain": [
       "'... ,   공백과 특수문자가 같이 있는 문자열'"
      ]
     },
     "execution_count": 98,
     "metadata": {},
     "output_type": "execute_result"
    }
   ],
   "source": [
    "h12.rstrip(\"!! ^^ .....\")"
   ]
  },
  {
   "cell_type": "code",
   "execution_count": 118,
   "id": "74135d2c",
   "metadata": {},
   "outputs": [
    {
     "data": {
      "text/plain": [
       "'나는 페이커를 존경해 ^^ ^^ ^^ ;;;;;;;   \\n너도 아니?'"
      ]
     },
     "execution_count": 118,
     "metadata": {},
     "output_type": "execute_result"
    }
   ],
   "source": [
    "h13 = \"나는 페이커를 존경해 ^^ ^^ ^^ ;;;;;;;   \\n너도 아니?\"\n",
    "h13"
   ]
  },
  {
   "cell_type": "markdown",
   "id": "66db00e5",
   "metadata": {},
   "source": [
    "6. 메서드 체이닝(method(함수) chaining) 으로 여러 함수 동시에 사용하기  <br>\n",
    "내부 안에 있는 특수문자를 지우는 방법은 <br>\n",
    "replace"
   ]
  },
  {
   "cell_type": "code",
   "execution_count": 106,
   "id": "f2c9c524",
   "metadata": {},
   "outputs": [
    {
     "data": {
      "text/plain": [
       "'나는 페이커를 존경해    ;;;;;;; 너도 아니?'"
      ]
     },
     "execution_count": 106,
     "metadata": {},
     "output_type": "execute_result"
    }
   ],
   "source": [
    "h13.replace(\"^\",\"\")"
   ]
  },
  {
   "cell_type": "code",
   "execution_count": 108,
   "id": "a2156ded",
   "metadata": {},
   "outputs": [
    {
     "data": {
      "text/plain": [
       "'나는페이커를존경해너도아니?'"
      ]
     },
     "execution_count": 108,
     "metadata": {},
     "output_type": "execute_result"
    }
   ],
   "source": [
    "h13.replace(\"^\",\"\").replace(\";\",\"\").replace(\" \",\"\")"
   ]
  },
  {
   "cell_type": "code",
   "execution_count": 169,
   "id": "f3ad4445",
   "metadata": {},
   "outputs": [
    {
     "data": {
      "text/plain": [
       "'나는 페이커를 존경해       너도 아니?'"
      ]
     },
     "execution_count": 169,
     "metadata": {},
     "output_type": "execute_result"
    }
   ],
   "source": [
    "h13.replace(\"^\",\"\").replace(\";\",\"\").replace(\"\\n\",\"\")"
   ]
  },
  {
   "cell_type": "code",
   "execution_count": 111,
   "id": "707e9b52",
   "metadata": {
    "scrolled": false
   },
   "outputs": [
    {
     "data": {
      "text/plain": [
       "'나는 페이커를 존경해     너도 아니?'"
      ]
     },
     "execution_count": 111,
     "metadata": {},
     "output_type": "execute_result"
    }
   ],
   "source": [
    "h13.translate(str.maketrans('','', '^;'))"
   ]
  },
  {
   "cell_type": "code",
   "execution_count": null,
   "id": "f7fb6d6f",
   "metadata": {},
   "outputs": [],
   "source": []
  },
  {
   "cell_type": "code",
   "execution_count": null,
   "id": "cfc3d40f",
   "metadata": {},
   "outputs": [],
   "source": []
  },
  {
   "cell_type": "markdown",
   "id": "1bd546c8",
   "metadata": {},
   "source": [
    "* string.punctuation 을 이용해 특수문자 제거하기"
   ]
  },
  {
   "cell_type": "code",
   "execution_count": 112,
   "id": "ba663867",
   "metadata": {},
   "outputs": [],
   "source": [
    "import string"
   ]
  },
  {
   "cell_type": "code",
   "execution_count": 113,
   "id": "dfc3e15e",
   "metadata": {},
   "outputs": [
    {
     "data": {
      "text/plain": [
       "'!\"#$%&\\'()*+,-./:;<=>?@[\\\\]^_`{|}~'"
      ]
     },
     "execution_count": 113,
     "metadata": {},
     "output_type": "execute_result"
    }
   ],
   "source": [
    "string.punctuation"
   ]
  },
  {
   "cell_type": "code",
   "execution_count": 114,
   "id": "db6fea2e",
   "metadata": {},
   "outputs": [
    {
     "data": {
      "text/plain": [
       "'나는 페이커를 존경해 ^^ ^^ ^^ ;;;;;;; 너도 아니?'"
      ]
     },
     "execution_count": 114,
     "metadata": {},
     "output_type": "execute_result"
    }
   ],
   "source": [
    "h13"
   ]
  },
  {
   "cell_type": "code",
   "execution_count": 120,
   "id": "9747eb94",
   "metadata": {},
   "outputs": [
    {
     "data": {
      "text/plain": [
       "'나는 페이커를 존경해       \\n너도 아니'"
      ]
     },
     "execution_count": 120,
     "metadata": {},
     "output_type": "execute_result"
    }
   ],
   "source": [
    "h13.translate(str.maketrans('','', string.punctuation))"
   ]
  },
  {
   "cell_type": "code",
   "execution_count": 127,
   "id": "e7af753d",
   "metadata": {},
   "outputs": [
    {
     "data": {
      "text/plain": [
       "'나는 페이커를 존경해 너도 아니'"
      ]
     },
     "execution_count": 127,
     "metadata": {},
     "output_type": "execute_result"
    }
   ],
   "source": [
    "h13.translate(str.maketrans('','', string.punctuation)).replace(\"\\n\",\"\").replace(\"   \",\"\")"
   ]
  },
  {
   "cell_type": "markdown",
   "id": "95da1b10",
   "metadata": {},
   "source": []
  },
  {
   "cell_type": "markdown",
   "id": "acb7db59",
   "metadata": {},
   "source": [
    "아래의 문장들에서 특수문자와 2칸 이상의 공백 그리고 좌우 공백을 제거하시오.\n",
    "\n",
    "아래의 예제 데이터는 호텔스 닷컴의 사용자 리뷰를 크롤링 한 원본입니다. JSON 형태로 받은 원본 데이터에서 사용자 리뷰쪽 데이터만 따로 정리한 것인데 댓글 감성리뷰를 하기에는 특수문자와 구두점이 너무 많아 데이터의 정리가 필요합니다. 아래의 데이터를 문자만 나오도록 정리해 보세요. 위에서 배운 문자열 사용법과 함수는 이런 작업을 하는데 사용되고 데이터 전처리에서 반드시 필요합니다.\n"
   ]
  },
  {
   "cell_type": "markdown",
   "id": "c29bbd2b",
   "metadata": {},
   "source": [
    "문제1 <br>\n",
    "test1 = '''344,622642,더 호텔 수 (THE HOTEL SOO),family,1박 가족 여행,2018년 5월 21일,8.0,\n",
    "위치 : 이순신 광장과는 반대편이라 차량으로 이동해야 합니다. 루프탑에서의 경치는 좋습니다.\n",
    "시설 : 깔끔하고 좋습니다. 패밀리룸을 사용 했는데 저녁6시쯤 갔더니 마지막 방이라며 2층을 배정 받았습니다. 창문을 여니 약간 쓰레기 냄새가 났고 바다가 보이지 않습니다.        \n",
    "루프탑 : 바베큐 세트가 저렴 했던거 같고 경치가 좋습니다. 수영장도 있었는데 계절이 아닌지.... \n",
    "    하지만 여름이면 좋을것 같습니다. 주차장은 장소가 넓지 않았던거 같고, 저녁에 나갔다 왔더니 야외 공터에 차를 대라고 하였습니다.    \n",
    "주말 저녁이라 그런지 가격을 제법 비싸게 준거 같은데... 2층이라 마음에 들지 않았습니다. 옆에 조선소 같은게 있어 쫌 보기에 좋지 않았습니다......................................'''"
   ]
  },
  {
   "cell_type": "code",
   "execution_count": 174,
   "id": "d2a1da0a",
   "metadata": {},
   "outputs": [],
   "source": [
    "test1 = '''344,622642,더 호텔 수 (THE HOTEL SOO),family,1박 가족 여행,2018년 5월 21일,8.0, 위치 : 이순신 광장과는 반대편이라 차량으로 이동해야 합니다. 루프탑에서의 경치는 좋습니다. 시설 : 깔끔하고 좋습니다. 패밀리룸을 사용 했는데 저녁6시쯤 갔더니 마지막 방이라며 2층을 배정 받았습니다. 창문을 여니 약간 쓰레기 냄새가 났고 바다가 보이지 않습니다.\n",
    "루프탑 : 바베큐 세트가 저렴 했던거 같고 경치가 좋습니다. 수영장도 있었는데 계절이 아닌지.... 하지만 여름이면 좋을것 같습니다. 주차장은 장소가 넓지 않았던거 같고, 저녁에 나갔다 왔더니 야외 공터에 차를 대라고 하였습니다.\n",
    "주말 저녁이라 그런지 가격을 제법 비싸게 준거 같은데... 2층이라 마음에 들지 않았습니다. 옆에 조선소 같은게 있어 쫌 보기에 좋지 않았습니다......................................'''"
   ]
  },
  {
   "cell_type": "code",
   "execution_count": 157,
   "id": "d2143ff9",
   "metadata": {},
   "outputs": [],
   "source": [
    "hid = \"344,622642\"\n",
    "hotel_name_kor = \"더 호텔 수\"\n",
    "hotel_name_eng = \"THE HOTEL SOO\"\n",
    "trip_type = \"family\"\n",
    "trip_type2 = \"1박 가족 여행\"\n",
    "trip_date = \"2018년 5월 21일\"\n",
    "rating = 8.0"
   ]
  },
  {
   "cell_type": "code",
   "execution_count": 159,
   "id": "44138a17",
   "metadata": {},
   "outputs": [],
   "source": [
    "review = \"\"\"위치 : 이순신 광장과는 반대편이라 차량으로 이동해야 합니다. 루프탑에서의 경치는 좋습니다. 시설 : 깔끔하고 좋습니다. 패밀리룸을 사용 했는데 저녁6시쯤 갔더니 마지막 방이라며 2층을 배정 받았습니다. 창문을 여니 약간 쓰레기 냄새가 났고 바다가 보이지 않습니다.\n",
    "루프탑 : 바베큐 세트가 저렴 했던거 같고 경치가 좋습니다. 수영장도 있었는데 계절이 아닌지.... 하지만 여름이면 좋을것 같습니다. 주차장은 장소가 넓지 않았던거 같고, 저녁에 나갔다 왔더니 야외 공터에 차를 대라고 하였습니다.\n",
    "주말 저녁이라 그런지 가격을 제법 비싸게 준거 같은데... 2층이라 마음에 들지 않았습니다. 옆에 조선소 같은게 있어 쫌 보기에 좋지 않았습니다......................................\"\"\""
   ]
  },
  {
   "cell_type": "code",
   "execution_count": 176,
   "id": "e471dcff",
   "metadata": {},
   "outputs": [
    {
     "ename": "AttributeError",
     "evalue": "'list' object has no attribute 'split'",
     "output_type": "error",
     "traceback": [
      "\u001b[1;31m---------------------------------------------------------------------------\u001b[0m",
      "\u001b[1;31mAttributeError\u001b[0m                            Traceback (most recent call last)",
      "Cell \u001b[1;32mIn[176], line 1\u001b[0m\n\u001b[1;32m----> 1\u001b[0m test1 \u001b[38;5;241m=\u001b[39m \u001b[43mtest1\u001b[49m\u001b[38;5;241;43m.\u001b[39;49m\u001b[43msplit\u001b[49m()\n\u001b[0;32m      2\u001b[0m test1\n",
      "\u001b[1;31mAttributeError\u001b[0m: 'list' object has no attribute 'split'"
     ]
    }
   ],
   "source": [
    "test1 = test1.split()\n",
    "test1"
   ]
  },
  {
   "cell_type": "markdown",
   "id": "fbc0dd27",
   "metadata": {},
   "source": [
    "* 이렇게 했을 때의 문제점 : "
   ]
  },
  {
   "cell_type": "code",
   "execution_count": 163,
   "id": "7442b976",
   "metadata": {},
   "outputs": [
    {
     "data": {
      "text/plain": [
       "'위치 : 이순신 광장과는 반대편이라 차량으로 이동해야 합니다 루프탑에서의 경치는 좋습니다 시설 : 깔끔하고 좋습니다 패밀리룸을 사용 했는데 저녁6시쯤 갔더니 마지막 방이라며 2층을 배정 받았습니다 창문을 여니 약간 쓰레기 냄새가 났고 바다가 보이지 않습니다\\n루프탑 : 바베큐 세트가 저렴 했던거 같고 경치가 좋습니다 수영장도 있었는데 계절이 아닌지 하지만 여름이면 좋을것 같습니다 주차장은 장소가 넓지 않았던거 같고, 저녁에 나갔다 왔더니 야외 공터에 차를 대라고 하였습니다\\n주말 저녁이라 그런지 가격을 제법 비싸게 준거 같은데 2층이라 마음에 들지 않았습니다 옆에 조선소 같은게 있어 쫌 보기에 좋지 않았습니다'"
      ]
     },
     "execution_count": 163,
     "metadata": {},
     "output_type": "execute_result"
    }
   ],
   "source": [
    "review.translate(str.maketrans('','','.' ))"
   ]
  },
  {
   "cell_type": "code",
   "execution_count": 167,
   "id": "a7dd5ddf",
   "metadata": {
    "scrolled": true
   },
   "outputs": [
    {
     "data": {
      "text/plain": [
       "'위치 : 이순신 광장과는 반대편이라 차량으로 이동해야 합니다 루프탑에서의 경치는 좋습니다 시설 : 깔끔하고 좋습니다 패밀리룸을 사용 했는데 저녁6시쯤 갔더니 마지막 방이라며 2층을 배정 받았습니다 창문을 여니 약간 쓰레기 냄새가 났고 바다가 보이지 않습니다루프탑 : 바베큐 세트가 저렴 했던거 같고 경치가 좋습니다 수영장도 있었는데 계절이 아닌지 하지만 여름이면 좋을것 같습니다 주차장은 장소가 넓지 않았던거 같고, 저녁에 나갔다 왔더니 야외 공터에 차를 대라고 하였습니다주말 저녁이라 그런지 가격을 제법 비싸게 준거 같은데 2층이라 마음에 들지 않았습니다 옆에 조선소 같은게 있어 쫌 보기에 좋지 않았습니다'"
      ]
     },
     "execution_count": 167,
     "metadata": {},
     "output_type": "execute_result"
    }
   ],
   "source": [
    "review.translate(str.maketrans('','', '.')).replace(\"\\n\",\"\")"
   ]
  },
  {
   "cell_type": "code",
   "execution_count": null,
   "id": "9cf7573f",
   "metadata": {},
   "outputs": [],
   "source": []
  },
  {
   "cell_type": "code",
   "execution_count": null,
   "id": "1776de73",
   "metadata": {},
   "outputs": [],
   "source": []
  },
  {
   "cell_type": "code",
   "execution_count": null,
   "id": "b5a9929c",
   "metadata": {},
   "outputs": [],
   "source": []
  },
  {
   "cell_type": "code",
   "execution_count": null,
   "id": "12795e8c",
   "metadata": {},
   "outputs": [],
   "source": []
  },
  {
   "cell_type": "code",
   "execution_count": null,
   "id": "da01c604",
   "metadata": {},
   "outputs": [],
   "source": []
  },
  {
   "cell_type": "code",
   "execution_count": null,
   "id": "efc63ee4",
   "metadata": {},
   "outputs": [],
   "source": []
  },
  {
   "cell_type": "code",
   "execution_count": null,
   "id": "ce737454",
   "metadata": {},
   "outputs": [],
   "source": []
  },
  {
   "cell_type": "code",
   "execution_count": null,
   "id": "e400a61b",
   "metadata": {},
   "outputs": [],
   "source": []
  },
  {
   "cell_type": "code",
   "execution_count": null,
   "id": "03a0c479",
   "metadata": {},
   "outputs": [],
   "source": []
  },
  {
   "cell_type": "code",
   "execution_count": null,
   "id": "93d4a881",
   "metadata": {},
   "outputs": [],
   "source": []
  },
  {
   "cell_type": "code",
   "execution_count": null,
   "id": "f7c63cb9",
   "metadata": {},
   "outputs": [],
   "source": []
  },
  {
   "cell_type": "markdown",
   "id": "e3792922",
   "metadata": {},
   "source": [
    "문제2\n",
    "test2= \"18062,427535,파크 하얏트 부산 (Park Hyatt Busan),family,2박 가족 여행,2019년 12월 29일,10.0,결혼 1주년 기념으로 아이랑 신랑이랑 다녀왔어요~ 룸컨디션 너무 좋았고 뷰가 최고였습니다! 2박 머물렀는데 청소도 깔끔하게 해주시고 애기가 이불에 살짝 토했는데도 바로 갈아주시고 좋았습니다~ 대신 창가쪽 커튼 한쪽이 떨어져있어서 조금 거슬렸구요... 창가에 침실이 있다보니 암막커튼을 치지 않으면 조금 쌀쌀한 느낌은 있었어요! 아 그리고 아기때문에 침대에 가드를 부탁드렸는데 가드가 너무 별로였습니다... 가드 구실을 못하고 넘 허술하게 매트리스 아래 그냥 끼워진거라 아기가 밤새 두번이나 가드사이에 빠졌습니다... 이점 좀 아쉬워요 ! 그 외에는 다이닝룸 리빙룸, 바까지 모두 이용했는데 서비스 좋았습니다~~!\""
   ]
  },
  {
   "cell_type": "code",
   "execution_count": null,
   "id": "e7963dcf",
   "metadata": {},
   "outputs": [],
   "source": []
  },
  {
   "cell_type": "code",
   "execution_count": null,
   "id": "d39bb852",
   "metadata": {},
   "outputs": [],
   "source": []
  },
  {
   "cell_type": "code",
   "execution_count": null,
   "id": "c659438f",
   "metadata": {},
   "outputs": [],
   "source": []
  },
  {
   "cell_type": "markdown",
   "id": "050ca432",
   "metadata": {},
   "source": [
    "문제3\n",
    "test3 = \"\"\"112731,239840,서귀포 칼 호텔 (Seogwipo KAL Hotel),family,3박 가족 여행,2020년 11월 19일,8.0,넓디넓은 정원과 산책로 덕분에 코로나 시대 언택트 여행에 좋았구요. 조용하고 한적하게 잘 쉬었어요.\n",
    "아무래도 서귀포가 제주시쪽보단 사람도 적어서 오히려 편하면서, 주변에 식당이나 까페, 편의점 갈때도 걸어서도 다녀올 입지라 좋습니다.\n",
    "실내 수영장은 생각만큼? 작은 규모라 오히려 사람 없이 잘 놀았어요ㅎㅎ \n",
    "라운지바가 넓고 층고도 높아서 커피나 맥주 먹으며 쉬기에 좋고요.\n",
    "매일 주시는 1.5리터 생수ㅎㅎ별거 아닐수 있지만 매우 감사했구요.\n",
    "다만 층수가 낮은 방이어서 그런가 모기가 있었어요^^;; 그외에는 다 깨끗했구요. \n",
    "매트리스가 오래됐는지 묘하게 불편해서 허리가 아프긴 하더라고요;; 다행히? 세미온돌이라 바닥에서 자는게 오히려 나았고요\n",
    "조식은...최근 후기가 다 별로라길래 하루만 가봤는데 역시;;ㅎ 뭐 저렴하기도 하지만.. 저는 나가서 먹었습니다.\"\"\""
   ]
  },
  {
   "cell_type": "code",
   "execution_count": null,
   "id": "cd2257bc",
   "metadata": {},
   "outputs": [],
   "source": []
  },
  {
   "cell_type": "code",
   "execution_count": null,
   "id": "eddefdae",
   "metadata": {},
   "outputs": [],
   "source": []
  },
  {
   "cell_type": "code",
   "execution_count": null,
   "id": "97ab10c8",
   "metadata": {},
   "outputs": [],
   "source": []
  },
  {
   "cell_type": "code",
   "execution_count": null,
   "id": "d9831669",
   "metadata": {},
   "outputs": [],
   "source": []
  },
  {
   "cell_type": "code",
   "execution_count": null,
   "id": "c7b5e59c",
   "metadata": {},
   "outputs": [],
   "source": []
  },
  {
   "cell_type": "code",
   "execution_count": null,
   "id": "cfe0aeaf",
   "metadata": {},
   "outputs": [],
   "source": []
  },
  {
   "cell_type": "code",
   "execution_count": null,
   "id": "4a88b63c",
   "metadata": {},
   "outputs": [],
   "source": []
  },
  {
   "cell_type": "code",
   "execution_count": null,
   "id": "c21c32a3",
   "metadata": {},
   "outputs": [],
   "source": []
  },
  {
   "cell_type": "code",
   "execution_count": null,
   "id": "7ab3ae54",
   "metadata": {},
   "outputs": [],
   "source": []
  },
  {
   "cell_type": "code",
   "execution_count": null,
   "id": "91243505",
   "metadata": {},
   "outputs": [],
   "source": []
  },
  {
   "cell_type": "code",
   "execution_count": null,
   "id": "00aed6e9",
   "metadata": {},
   "outputs": [],
   "source": []
  },
  {
   "cell_type": "code",
   "execution_count": null,
   "id": "a1aec84e",
   "metadata": {},
   "outputs": [],
   "source": []
  },
  {
   "cell_type": "code",
   "execution_count": null,
   "id": "dd2442be",
   "metadata": {},
   "outputs": [],
   "source": []
  },
  {
   "cell_type": "code",
   "execution_count": null,
   "id": "2d4ed213",
   "metadata": {},
   "outputs": [],
   "source": []
  },
  {
   "cell_type": "code",
   "execution_count": null,
   "id": "9ad430c9",
   "metadata": {},
   "outputs": [],
   "source": []
  },
  {
   "cell_type": "code",
   "execution_count": null,
   "id": "babf8be8",
   "metadata": {},
   "outputs": [],
   "source": []
  },
  {
   "cell_type": "code",
   "execution_count": null,
   "id": "5f28c5f0",
   "metadata": {},
   "outputs": [],
   "source": []
  },
  {
   "cell_type": "code",
   "execution_count": null,
   "id": "16db902b",
   "metadata": {},
   "outputs": [],
   "source": []
  },
  {
   "cell_type": "code",
   "execution_count": null,
   "id": "dc0b05a9",
   "metadata": {},
   "outputs": [],
   "source": []
  },
  {
   "cell_type": "code",
   "execution_count": null,
   "id": "dbdedb5d",
   "metadata": {},
   "outputs": [],
   "source": []
  },
  {
   "cell_type": "code",
   "execution_count": null,
   "id": "3fb7af6c",
   "metadata": {},
   "outputs": [],
   "source": []
  },
  {
   "cell_type": "code",
   "execution_count": null,
   "id": "53e0ba27",
   "metadata": {},
   "outputs": [],
   "source": []
  },
  {
   "cell_type": "code",
   "execution_count": null,
   "id": "c648b2c6",
   "metadata": {},
   "outputs": [],
   "source": []
  },
  {
   "cell_type": "code",
   "execution_count": null,
   "id": "c41924ce",
   "metadata": {},
   "outputs": [],
   "source": []
  },
  {
   "cell_type": "code",
   "execution_count": null,
   "id": "1876c440",
   "metadata": {},
   "outputs": [],
   "source": []
  },
  {
   "cell_type": "code",
   "execution_count": null,
   "id": "e6c4f1a6",
   "metadata": {},
   "outputs": [],
   "source": []
  }
 ],
 "metadata": {
  "kernelspec": {
   "display_name": "Python 3 (ipykernel)",
   "language": "python",
   "name": "python3"
  },
  "language_info": {
   "codemirror_mode": {
    "name": "ipython",
    "version": 3
   },
   "file_extension": ".py",
   "mimetype": "text/x-python",
   "name": "python",
   "nbconvert_exporter": "python",
   "pygments_lexer": "ipython3",
   "version": "3.10.14"
  }
 },
 "nbformat": 4,
 "nbformat_minor": 5
}
