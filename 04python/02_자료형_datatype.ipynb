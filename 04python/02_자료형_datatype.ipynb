{
 "cells": [
  {
   "cell_type": "markdown",
   "id": "5c30ec43",
   "metadata": {},
   "source": [
    "\n",
    "# 파이썬은 변수에 담는 자료에 따라서 동적으로 자료형 정해짐"
   ]
  },
  {
   "cell_type": "markdown",
   "id": "efca9221",
   "metadata": {},
   "source": [
    "정수형 변수(int, integer)"
   ]
  },
  {
   "cell_type": "code",
   "execution_count": 1,
   "id": "72d9d811",
   "metadata": {},
   "outputs": [],
   "source": [
    "x = 10"
   ]
  },
  {
   "cell_type": "markdown",
   "id": "991cefb8",
   "metadata": {},
   "source": [
    "실수형 변수(float)"
   ]
  },
  {
   "cell_type": "code",
   "execution_count": 17,
   "id": "35783d8b",
   "metadata": {},
   "outputs": [],
   "source": [
    "y = 20\n",
    "z = 30"
   ]
  },
  {
   "cell_type": "markdown",
   "id": "13448043",
   "metadata": {},
   "source": [
    "문자형 변수(str)"
   ]
  },
  {
   "cell_type": "code",
   "execution_count": 13,
   "id": "e0f76227",
   "metadata": {},
   "outputs": [
    {
     "data": {
      "text/plain": [
       "'문'"
      ]
     },
     "execution_count": 13,
     "metadata": {},
     "output_type": "execute_result"
    }
   ],
   "source": [
    "s1 ='문'\n",
    "s1"
   ]
  },
  {
   "cell_type": "code",
   "execution_count": 14,
   "id": "f3701918",
   "metadata": {},
   "outputs": [
    {
     "data": {
      "text/plain": [
       "'문자열'"
      ]
     },
     "execution_count": 14,
     "metadata": {},
     "output_type": "execute_result"
    }
   ],
   "source": [
    "s2 = \"문자열\"\n",
    "s2"
   ]
  },
  {
   "cell_type": "code",
   "execution_count": 10,
   "id": "a72e1511",
   "metadata": {},
   "outputs": [
    {
     "data": {
      "text/plain": [
       "\"문자열 '문자'\""
      ]
     },
     "execution_count": 10,
     "metadata": {},
     "output_type": "execute_result"
    }
   ],
   "source": [
    "s3 = \"문자열 '문자'\"\n",
    "s3"
   ]
  },
  {
   "cell_type": "code",
   "execution_count": 15,
   "id": "d008bbd7",
   "metadata": {},
   "outputs": [
    {
     "data": {
      "text/plain": [
       "'문자열'"
      ]
     },
     "execution_count": 15,
     "metadata": {},
     "output_type": "execute_result"
    }
   ],
   "source": [
    "s4 = '문자열'\n",
    "s4"
   ]
  },
  {
   "cell_type": "markdown",
   "id": "c7307f9d",
   "metadata": {},
   "source": [
    "# 문단을 통채로 넣는 법 "
   ]
  },
  {
   "cell_type": "code",
   "execution_count": 5,
   "id": "846e4b7a",
   "metadata": {},
   "outputs": [
    {
     "name": "stdout",
     "output_type": "stream",
     "text": [
      "문자형 변수에는 단어 뿐만 아니라 \n",
      "문장도 넣을 수 있다. \n",
      "줄바꿈도 가능\n"
     ]
    }
   ],
   "source": [
    "s5 = '''문자형 변수에는 단어 뿐만 아니라 \n",
    "문장도 넣을 수 있다. \n",
    "줄바꿈도 가능'''\n",
    "print(s5)"
   ]
  },
  {
   "cell_type": "code",
   "execution_count": 7,
   "id": "dcacb2ec",
   "metadata": {},
   "outputs": [
    {
     "name": "stdout",
     "output_type": "stream",
     "text": [
      "문자형 변수에는 단어 뿐만 아니라 문장도 넣을 수 있다. 줄바꿈도 가능\n"
     ]
    }
   ],
   "source": [
    "s6 = \"문자형 변수에는 단어 뿐만 아니라 \\\n",
    "문장도 넣을 수 있다. \\\n",
    "줄바꿈도 가능\"\n",
    "print(s6)"
   ]
  },
  {
   "cell_type": "code",
   "execution_count": 11,
   "id": "77bc5fe6",
   "metadata": {},
   "outputs": [
    {
     "name": "stdout",
     "output_type": "stream",
     "text": [
      "문자형 변수에는 단어 뿐만 아니라 '문장도 넣을 수 있다.' 줄바꿈도 가능\n"
     ]
    }
   ],
   "source": [
    "s7 = \"\"\"문자형 변수에는 단어 뿐만 아니라 \\\n",
    "'문장도 넣을 수 있다.' \\\n",
    "줄바꿈도 가능\"\"\"\n",
    "print(s7)"
   ]
  },
  {
   "cell_type": "code",
   "execution_count": 12,
   "id": "685ba318",
   "metadata": {},
   "outputs": [
    {
     "data": {
      "text/plain": [
       "'문자형 변수에는 단어 뿐만 아니라 문장도 넣을 수 있다. 줄바꿈도 가능'"
      ]
     },
     "execution_count": 12,
     "metadata": {},
     "output_type": "execute_result"
    }
   ],
   "source": [
    "s6"
   ]
  },
  {
   "cell_type": "code",
   "execution_count": null,
   "id": "4137c498",
   "metadata": {},
   "outputs": [],
   "source": []
  },
  {
   "cell_type": "markdown",
   "id": "5e160fe0",
   "metadata": {},
   "source": [
    "# 변수의 데이터 타입을 출력하는 함수 type()"
   ]
  },
  {
   "cell_type": "code",
   "execution_count": 15,
   "id": "897f6020",
   "metadata": {},
   "outputs": [
    {
     "name": "stdout",
     "output_type": "stream",
     "text": [
      "10\n"
     ]
    },
    {
     "data": {
      "text/plain": [
       "int"
      ]
     },
     "execution_count": 15,
     "metadata": {},
     "output_type": "execute_result"
    }
   ],
   "source": [
    "print(x)\n",
    "type(x)"
   ]
  },
  {
   "cell_type": "code",
   "execution_count": 18,
   "id": "709997d1",
   "metadata": {},
   "outputs": [
    {
     "name": "stdout",
     "output_type": "stream",
     "text": [
      "20\n",
      "<class 'int'>\n"
     ]
    }
   ],
   "source": [
    "print(y)\n",
    "print(type(y))"
   ]
  },
  {
   "cell_type": "markdown",
   "id": "dcd9a5de",
   "metadata": {},
   "source": [
    "# 리스트(list), 튜플(tuple)\n",
    "* 순서가 있는 자료형\n",
    "* 여러개의 자료를 넣을 수 있다.\n",
    "* 여러 개의 데이터 타입의 자료를 넣을 수 있다. \n",
    "* 인덱스로 호출이 가능\n",
    "* 슬라이싱으로 부분 출력이 가능\n",
    "* 리스트는 [ ] 안에 자료를 넣어 만듦\n",
    "* 튜플을 ( ) 안에 자료를 넣어 만듦\n",
    "* [    ] 이 안에 자료를 꺼낼 때 순번으로 꺼낸다. \n",
    "* 0번 = 1, 1번 = 3.14 , 2번 = \"파이썬\", 3번 = [1,2,3,4] \n",
    "* javascript에서 배열(array)와 같음\n",
    "* 번호를 호출해서 꺼내는 것 : 인덱싱 \n",
    "* 인덱싱 : 리스트, 튜플에서 인덱스 번호를 이용해서 자료를 출력"
   ]
  },
  {
   "cell_type": "code",
   "execution_count": 19,
   "id": "e74270a9",
   "metadata": {},
   "outputs": [
    {
     "data": {
      "text/plain": [
       "[1, 3.14, '파이썬', [1, 2, 3, 4], (5, 6, 7, 8)]"
      ]
     },
     "execution_count": 19,
     "metadata": {},
     "output_type": "execute_result"
    }
   ],
   "source": [
    "L = [1, 3.14, \"파이썬\", [1,2,3,4], (5,6,7,8)]\n",
    "L"
   ]
  },
  {
   "cell_type": "markdown",
   "id": "41c573ed",
   "metadata": {},
   "source": [
    "* 원래 변수는 한개만 들어갈 수 있으나, \n",
    "* 대괄호 [   ] 로 포장해서 담았기 때문에 한개의 변수가 될 수 있다. 한개의 택배박스가 되는 것임.\n",
    "* a = 10   --> 원래 이렇게 하나만 담을 수 있다. \n",
    "* 이를 '객체 object'라고 한다.\n",
    "* object = 택배 박스"
   ]
  },
  {
   "cell_type": "code",
   "execution_count": 20,
   "id": "52f4647e",
   "metadata": {},
   "outputs": [],
   "source": [
    "a = 10"
   ]
  },
  {
   "cell_type": "code",
   "execution_count": 21,
   "id": "ab90406c",
   "metadata": {},
   "outputs": [
    {
     "data": {
      "text/plain": [
       "10"
      ]
     },
     "execution_count": 21,
     "metadata": {},
     "output_type": "execute_result"
    }
   ],
   "source": [
    "a"
   ]
  },
  {
   "cell_type": "code",
   "execution_count": 22,
   "id": "01fb2899",
   "metadata": {},
   "outputs": [],
   "source": [
    "a = 20"
   ]
  },
  {
   "cell_type": "code",
   "execution_count": 23,
   "id": "6b253e43",
   "metadata": {},
   "outputs": [
    {
     "data": {
      "text/plain": [
       "20"
      ]
     },
     "execution_count": 23,
     "metadata": {},
     "output_type": "execute_result"
    }
   ],
   "source": [
    "a"
   ]
  },
  {
   "cell_type": "markdown",
   "id": "133d8971",
   "metadata": {},
   "source": [
    "* 원래는 이렇게 한개만 담을 수 있음. 그리고 가장 나중에 담은걸로 변경됨"
   ]
  },
  {
   "cell_type": "code",
   "execution_count": 24,
   "id": "069875d5",
   "metadata": {},
   "outputs": [
    {
     "data": {
      "text/plain": [
       "4"
      ]
     },
     "execution_count": 24,
     "metadata": {},
     "output_type": "execute_result"
    }
   ],
   "source": [
    "L[3][3]"
   ]
  },
  {
   "cell_type": "code",
   "execution_count": 25,
   "id": "55781c11",
   "metadata": {},
   "outputs": [
    {
     "data": {
      "text/plain": [
       "'파이썬'"
      ]
     },
     "execution_count": 25,
     "metadata": {},
     "output_type": "execute_result"
    }
   ],
   "source": [
    "L[2]"
   ]
  },
  {
   "cell_type": "code",
   "execution_count": 26,
   "id": "f0dc520d",
   "metadata": {},
   "outputs": [
    {
     "data": {
      "text/plain": [
       "(5, 6, 7, 8)"
      ]
     },
     "execution_count": 26,
     "metadata": {},
     "output_type": "execute_result"
    }
   ],
   "source": [
    "L[4]"
   ]
  },
  {
   "cell_type": "markdown",
   "id": "7db2899d",
   "metadata": {},
   "source": [
    "# 인덱싱\n",
    "* 번호를 호출해서 꺼내는 것 : 인덱싱 \n",
    "* 인덱싱 : 리스트, 튜플에서 인덱스 번호를 이용해서 자료를 출력\n",
    "* 인덱스는 자료의 순번\n",
    "* javascript의 array 와 같은 개념"
   ]
  },
  {
   "cell_type": "markdown",
   "id": "6c8e1da8",
   "metadata": {},
   "source": [
    "# 슬라이싱 : 인덱스의 범위 지정해서 여러개의 자료를 가져오는 것\n",
    "* 변수명[시작인덱스:끝 인덱스+1]"
   ]
  },
  {
   "cell_type": "code",
   "execution_count": 27,
   "id": "8c466594",
   "metadata": {},
   "outputs": [
    {
     "data": {
      "text/plain": [
       "[1, 3.14]"
      ]
     },
     "execution_count": 27,
     "metadata": {},
     "output_type": "execute_result"
    }
   ],
   "source": [
    "L[0:2]"
   ]
  },
  {
   "cell_type": "code",
   "execution_count": 28,
   "id": "75430e46",
   "metadata": {},
   "outputs": [
    {
     "data": {
      "text/plain": [
       "[1, 3.14, '파이썬']"
      ]
     },
     "execution_count": 28,
     "metadata": {},
     "output_type": "execute_result"
    }
   ],
   "source": [
    "L[0:3]"
   ]
  },
  {
   "cell_type": "code",
   "execution_count": 29,
   "id": "3fcf2775",
   "metadata": {},
   "outputs": [
    {
     "data": {
      "text/plain": [
       "[(5, 6, 7, 8), [1, 2, 3, 4], '파이썬', 3.14, 1]"
      ]
     },
     "execution_count": 29,
     "metadata": {},
     "output_type": "execute_result"
    }
   ],
   "source": [
    "L[::-1]"
   ]
  },
  {
   "cell_type": "markdown",
   "id": "83005553",
   "metadata": {},
   "source": [
    "* L[::-1] 뜻 : 시작과 끝을 전부 가져오는데, -1 : 순서를 거꾸로 해서 가져와라"
   ]
  },
  {
   "cell_type": "markdown",
   "id": "74877226",
   "metadata": {},
   "source": [
    "# 튜플\n",
    "* 리스트처럼 순서가 있는 자료형 \n",
    "* 인덱스가 있어서 인덱스로 자료 출력 가능\n",
    "* 인덱스로 슬라이싱도 가능\n",
    "* 자료의 추가 삭제가 안됨 "
   ]
  },
  {
   "cell_type": "code",
   "execution_count": 30,
   "id": "9aff6fbd",
   "metadata": {},
   "outputs": [
    {
     "data": {
      "text/plain": [
       "[1, 3.14, '파이썬', [1, 2, 3, 4], (5, 6, 7, 8)]"
      ]
     },
     "execution_count": 30,
     "metadata": {},
     "output_type": "execute_result"
    }
   ],
   "source": [
    "L"
   ]
  },
  {
   "cell_type": "code",
   "execution_count": 31,
   "id": "ba24f072",
   "metadata": {},
   "outputs": [
    {
     "data": {
      "text/plain": [
       "[1, 3.14, '파이썬', [1, 2, 3, 4], (5, 6, 7, 8), 3]"
      ]
     },
     "execution_count": 31,
     "metadata": {},
     "output_type": "execute_result"
    }
   ],
   "source": [
    "L.append(3)\n",
    "L"
   ]
  },
  {
   "cell_type": "markdown",
   "id": "8d890e86",
   "metadata": {},
   "source": [
    "* 위 내용은 3을 추가하는 거"
   ]
  },
  {
   "cell_type": "code",
   "execution_count": 32,
   "id": "f044e7ad",
   "metadata": {},
   "outputs": [
    {
     "data": {
      "text/plain": [
       "(1, 2, '튜플', [3, 4, 5], (5, 6, 7))"
      ]
     },
     "execution_count": 32,
     "metadata": {},
     "output_type": "execute_result"
    }
   ],
   "source": [
    "T = (1,2,'튜플', [3,4,5], (5,6,7))\n",
    "T"
   ]
  },
  {
   "cell_type": "code",
   "execution_count": 33,
   "id": "22d05e43",
   "metadata": {},
   "outputs": [
    {
     "data": {
      "text/plain": [
       "[3, 4, 5]"
      ]
     },
     "execution_count": 33,
     "metadata": {},
     "output_type": "execute_result"
    }
   ],
   "source": [
    "T[3]"
   ]
  },
  {
   "cell_type": "code",
   "execution_count": 34,
   "id": "175d99c1",
   "metadata": {},
   "outputs": [
    {
     "data": {
      "text/plain": [
       "7"
      ]
     },
     "execution_count": 34,
     "metadata": {},
     "output_type": "execute_result"
    }
   ],
   "source": [
    "T[4][2]"
   ]
  },
  {
   "cell_type": "code",
   "execution_count": 35,
   "id": "d2bbd194",
   "metadata": {},
   "outputs": [
    {
     "data": {
      "text/plain": [
       "('튜플', [3, 4, 5])"
      ]
     },
     "execution_count": 35,
     "metadata": {},
     "output_type": "execute_result"
    }
   ],
   "source": [
    "T[2:4]"
   ]
  },
  {
   "cell_type": "code",
   "execution_count": 40,
   "id": "b3892268",
   "metadata": {},
   "outputs": [],
   "source": [
    "del L[0]"
   ]
  },
  {
   "cell_type": "code",
   "execution_count": 41,
   "id": "8aab7be7",
   "metadata": {},
   "outputs": [
    {
     "data": {
      "text/plain": [
       "[[1, 2, 3, 4], (5, 6, 7, 8)]"
      ]
     },
     "execution_count": 41,
     "metadata": {},
     "output_type": "execute_result"
    }
   ],
   "source": [
    "L"
   ]
  },
  {
   "cell_type": "markdown",
   "id": "5f272a09",
   "metadata": {},
   "source": [
    "* del L[x] : 해당 순번 내용 삭제할 수 있음\n",
    "* 파이썬의 단점 : 속도 매우 느림\n"
   ]
  },
  {
   "cell_type": "markdown",
   "id": "a03ed66c",
   "metadata": {},
   "source": [
    "# 딕셔너리형(dict) \n",
    "* {key : value} 형태의 자료형\n",
    "* 순서가 없는 자료형\n",
    "* 반복 불가 \n",
    "* key를 호출하면 value가 출력"
   ]
  },
  {
   "cell_type": "code",
   "execution_count": 44,
   "id": "6f9c98cb",
   "metadata": {},
   "outputs": [
    {
     "data": {
      "text/plain": [
       "{'년월': '202407', '국가': '미국', '방문자수': 1000}"
      ]
     },
     "execution_count": 44,
     "metadata": {},
     "output_type": "execute_result"
    }
   ],
   "source": [
    "D = {'년월' : '202407', '국가' : '미국', '방문자수' : 1000}\n",
    "D"
   ]
  },
  {
   "cell_type": "code",
   "execution_count": 45,
   "id": "8666597e",
   "metadata": {},
   "outputs": [
    {
     "data": {
      "text/plain": [
       "'202407'"
      ]
     },
     "execution_count": 45,
     "metadata": {},
     "output_type": "execute_result"
    }
   ],
   "source": [
    "D['년월']"
   ]
  },
  {
   "cell_type": "code",
   "execution_count": 46,
   "id": "99ee6c93",
   "metadata": {},
   "outputs": [
    {
     "data": {
      "text/plain": [
       "1000"
      ]
     },
     "execution_count": 46,
     "metadata": {},
     "output_type": "execute_result"
    }
   ],
   "source": [
    "D['방문자수']"
   ]
  },
  {
   "cell_type": "code",
   "execution_count": null,
   "id": "885de302",
   "metadata": {},
   "outputs": [],
   "source": []
  }
 ],
 "metadata": {
  "kernelspec": {
   "display_name": "Python 3 (ipykernel)",
   "language": "python",
   "name": "python3"
  },
  "language_info": {
   "codemirror_mode": {
    "name": "ipython",
    "version": 3
   },
   "file_extension": ".py",
   "mimetype": "text/x-python",
   "name": "python",
   "nbconvert_exporter": "python",
   "pygments_lexer": "ipython3",
   "version": "3.10.14"
  }
 },
 "nbformat": 4,
 "nbformat_minor": 5
}
