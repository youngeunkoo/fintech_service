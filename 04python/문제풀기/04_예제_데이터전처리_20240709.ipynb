{
 "cells": [
  {
   "cell_type": "markdown",
   "id": "07c6af1f",
   "metadata": {},
   "source": [
    "## 문자열 데이터 전처리 연습문제\n",
    "* 1. split()을 사용해서 ,를 기준으로 나누어 list로 만들기\n",
    "* 2. 각 항목별로 인덱싱해서 변수에 저장하기\n",
    "* 3. 필요한 부분은 join() 함수를 이용해 합치기\n",
    "* 4. 문자열 함수를 이용해 특수문자와 불필요한 공백 없애기"
   ]
  },
  {
   "cell_type": "markdown",
   "id": "a525294c",
   "metadata": {},
   "source": [
    "* 데이터 전처리?"
   ]
  },
  {
   "cell_type": "markdown",
   "id": "fde8465d",
   "metadata": {},
   "source": [
    "# 예제1"
   ]
  },
  {
   "cell_type": "code",
   "execution_count": null,
   "id": "7b944f3d",
   "metadata": {},
   "outputs": [],
   "source": [
    "test1 = '''344,622642,더 호텔 수 (THE HOTEL SOO),family,1박 가족 여행,2018년 5월 21일,8.0,\"위치 : 이순신 광장과는 반대편이라 차량으로 이동해야 합니다. 루프탑에서의\n",
    "바다 경치는 좋습니다.\n",
    "시설 : 깔끔하고 좋습니다. 패밀리룸을 사용 했는데 저녁6시쯤 갔더니 마지막 방이라며 2층을 배정 받았습니다. 창문을 여니 약간 쓰레기 냄새가 났고 바다가 보이지 않습니다.        \n",
    "루프탑 : 바베큐 세트가 저렴 했던거 같고 경치가 좋습니다. 수영장도 있었는데 계절이 아닌지.... \n",
    "    하지만 여름이면 좋을것 같습니다. 주차장은 장소가 넓지 않았던거 같고, 저녁에 나갔다 왔더니 야외 공터에 차를 대라고 하였습니다.    \n",
    "주말 저녁이라 그런지 가격을 제법 비싸게 준거 같은데... 2층이라 마음에 들지 않았습니다. 옆에 조선소 같은게 있어 쫌 보기에 좋지 않았습니다......................................'''"
   ]
  },
  {
   "cell_type": "code",
   "execution_count": null,
   "id": "3e637d27",
   "metadata": {},
   "outputs": [],
   "source": [
    "test1 = test1.split(\",\")\n",
    "test1"
   ]
  },
  {
   "cell_type": "code",
   "execution_count": null,
   "id": "b5bd6763",
   "metadata": {},
   "outputs": [],
   "source": []
  },
  {
   "cell_type": "code",
   "execution_count": null,
   "id": "962e438a",
   "metadata": {},
   "outputs": [],
   "source": [
    "review = \",\".join(test1[7:])\n"
   ]
  },
  {
   "cell_type": "markdown",
   "id": "cf8e920d",
   "metadata": {},
   "source": [
    "* [7:] 인덱스 7번부터 끝까지 "
   ]
  },
  {
   "cell_type": "code",
   "execution_count": null,
   "id": "bb00ac39",
   "metadata": {},
   "outputs": [],
   "source": [
    "hid = \",\".join(test1[:2])\n",
    "hotel_name_kor = test1[2].split(\"(\")[0].strip()\n",
    "hotel_name_eng = test1[2].split(\"(\")[1].strip(\") \")\n",
    "trip_type = test1[3]\n",
    "trip_type2 = test1[4]\n",
    "trip_date = test1[5]\n",
    "rating = test1[6]\n",
    "review = review.replace(\".\", \"\").replace(\":\", \"\").replace(\"\\n\", \"\").replace(\"   \", \" \").replace(\"  \", \" \").replace(\",\", \"\").replace(\"  \", \" \").replace('\"',\"\")"
   ]
  },
  {
   "cell_type": "code",
   "execution_count": null,
   "id": "ad9541f3",
   "metadata": {},
   "outputs": [],
   "source": [
    "print(\"hid:\", hid)\n",
    "print(\"hotel_name_kor:\", hotel_name_kor)\n",
    "print(\"hotel_name_eng:\", hotel_name_eng)\n",
    "print(\"trip_type:\", trip_type)\n",
    "print(\"trip_type2:\", trip_type2)\n",
    "print(\"trip_date:\", trip_date)\n",
    "print(\"rating:\", rating)\n",
    "print(\"review:\", review)"
   ]
  },
  {
   "cell_type": "code",
   "execution_count": null,
   "id": "b2f20adb",
   "metadata": {},
   "outputs": [],
   "source": []
  },
  {
   "cell_type": "code",
   "execution_count": null,
   "id": "cc0ac089",
   "metadata": {},
   "outputs": [],
   "source": []
  },
  {
   "cell_type": "markdown",
   "id": "a1d50ea0",
   "metadata": {},
   "source": [
    "# 예제2"
   ]
  },
  {
   "cell_type": "code",
   "execution_count": null,
   "id": "ea503e76",
   "metadata": {},
   "outputs": [],
   "source": [
    "test2= \"18062,427535,파크 하얏트 부산 (Park Hyatt Busan),family,2박 가족 여행,2019년 12월 29일,10.0,결혼 1주년 기념으로 아이랑 신랑이랑 다녀왔어요~ 룸컨디션 너무 좋았고 뷰가 최고였습니다! 2박 머물렀는데 청소도 깔끔하게 해주시고 애기가 이불에 살짝 토했는데도 바로 갈아주시고 좋았습니다~ 대신 창가쪽 커튼 한쪽이 떨어져있어서 조금 거슬렸구요... 창가에 침실이 있다보니 암막커튼을 치지 않으면 조금 쌀쌀한 느낌은 있었어요! 아 그리고 아기때문에 침대에 가드를 부탁드렸는데 가드가 너무 별로였습니다... 가드 구실을 못하고 넘 허술하게 매트리스 아래 그냥 끼워진거라 아기가 밤새 두번이나 가드사이에 빠졌습니다... 이점 좀 아쉬워요 ! 그 외에는 다이닝룸 리빙룸, 바까지 모두 이용했는데 서비스 좋았습니다~~!\""
   ]
  },
  {
   "cell_type": "code",
   "execution_count": null,
   "id": "b5c972cd",
   "metadata": {},
   "outputs": [],
   "source": [
    "test2 = test2.split(\",\")"
   ]
  },
  {
   "cell_type": "code",
   "execution_count": null,
   "id": "adf0b0b9",
   "metadata": {},
   "outputs": [],
   "source": [
    "test2"
   ]
  },
  {
   "cell_type": "code",
   "execution_count": null,
   "id": "6d11cd73",
   "metadata": {},
   "outputs": [],
   "source": [
    "test2_review = \" \".join(test2[7:])\n",
    "test2_review"
   ]
  },
  {
   "cell_type": "code",
   "execution_count": null,
   "id": "1eacad46",
   "metadata": {},
   "outputs": [],
   "source": [
    "test2_review.translate(str.maketrans('','', string.punctuation)).replace(\"  \", \" \")"
   ]
  },
  {
   "cell_type": "code",
   "execution_count": null,
   "id": "9d7b7923",
   "metadata": {},
   "outputs": [],
   "source": [
    "test2_hid = \",\".join(test2[:2])\n",
    "test2_hotel_name_kor = test2[2].split(\"(\")[0].strip()\n",
    "test2_hotel_name_eng = test2[2].split(\"(\")[1].strip(\") \")\n",
    "test2_trip_type = test2[3]\n",
    "test2_trip_type2 = test2[4]\n",
    "test2_trip_date = test2[5]\n",
    "test2_rating = test2[6]\n",
    "test2_review = test2_review.translate(str.maketrans('','', string.punctuation)).replace(\"  \", \" \")"
   ]
  },
  {
   "cell_type": "code",
   "execution_count": null,
   "id": "63b7792b",
   "metadata": {},
   "outputs": [],
   "source": []
  },
  {
   "cell_type": "markdown",
   "id": "0ccef653",
   "metadata": {},
   "source": [
    "# 예제3"
   ]
  },
  {
   "cell_type": "code",
   "execution_count": null,
   "id": "d602ac35",
   "metadata": {},
   "outputs": [],
   "source": [
    "test3 = \"\"\"112731,239840,서귀포 칼 호텔 (Seogwipo KAL Hotel),family,3박 가족 여행,2020년 11월 19일,8.0,넓디넓은 정원과 산책로 덕분에 코로나 시대 언택트 여행에 좋았구요. 조용하고 한적하게 잘 쉬었어요.\n",
    "아무래도 서귀포가 제주시쪽보단 사람도 적어서 오히려 편하면서, 주변에 식당이나 까페, 편의점 갈때도 걸어서도 다녀올 입지라 좋습니다.\n",
    "실내 수영장은 생각만큼? 작은 규모라 오히려 사람 없이 잘 놀았어요ㅎㅎ \n",
    "라운지바가 넓고 층고도 높아서 커피나 맥주 먹으며 쉬기에 좋고요.\n",
    "매일 주시는 1.5리터 생수ㅎㅎ별거 아닐수 있지만 매우 감사했구요.\n",
    "다만 층수가 낮은 방이어서 그런가 모기가 있었어요^^;; 그외에는 다 깨끗했구요. \n",
    "매트리스가 오래됐는지 묘하게 불편해서 허리가 아프긴 하더라고요;; 다행히? 세미온돌이라 바닥에서 자는게 오히려 나았고요\n",
    "조식은...최근 후기가 다 별로라길래 하루만 가봤는데 역시;;ㅎ 뭐 저렴하기도 하지만.. 저는 나가서 먹었습니다.\"\"\""
   ]
  },
  {
   "cell_type": "code",
   "execution_count": null,
   "id": "2452f313",
   "metadata": {},
   "outputs": [],
   "source": [
    "test3_review = test3.split(\",\")[7:]"
   ]
  },
  {
   "cell_type": "code",
   "execution_count": null,
   "id": "d3dcd8af",
   "metadata": {},
   "outputs": [],
   "source": [
    "test3_review = \" \".join(test3_review)"
   ]
  },
  {
   "cell_type": "code",
   "execution_count": null,
   "id": "4bd4a6e5",
   "metadata": {},
   "outputs": [],
   "source": [
    "test3_review = test3_review.replace(\"\\n\", \" \").replace(\"^\", \" \").replace(\";\", \" \").replace(\"...\", \" \").replace(\"..\", \" \").replace(\"?\", \" \").replace(\"ㅎ\", \" \").replace(\"   \", \" \").replace(\"  \", \" \").replace(\". \", \" \")"
   ]
  },
  {
   "cell_type": "code",
   "execution_count": null,
   "id": "2bba32d4",
   "metadata": {},
   "outputs": [],
   "source": [
    "test3_review"
   ]
  },
  {
   "cell_type": "code",
   "execution_count": null,
   "id": "97ddcb7a",
   "metadata": {},
   "outputs": [],
   "source": []
  },
  {
   "cell_type": "code",
   "execution_count": null,
   "id": "cd13d6a3",
   "metadata": {},
   "outputs": [],
   "source": []
  },
  {
   "cell_type": "code",
   "execution_count": null,
   "id": "e6388939",
   "metadata": {},
   "outputs": [],
   "source": []
  }
 ],
 "metadata": {
  "kernelspec": {
   "display_name": "Python 3 (ipykernel)",
   "language": "python",
   "name": "python3"
  },
  "language_info": {
   "codemirror_mode": {
    "name": "ipython",
    "version": 3
   },
   "file_extension": ".py",
   "mimetype": "text/x-python",
   "name": "python",
   "nbconvert_exporter": "python",
   "pygments_lexer": "ipython3",
   "version": "3.10.14"
  }
 },
 "nbformat": 4,
 "nbformat_minor": 5
}
