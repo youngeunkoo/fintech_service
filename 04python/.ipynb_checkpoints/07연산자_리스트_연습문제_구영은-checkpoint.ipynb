{
 "cells": [
  {
   "cell_type": "markdown",
   "metadata": {
    "id": "QOlOa15SqPLi"
   },
   "source": [
    "## 5. 30을 8로 나눈 몫과 나머지를 각각 변수 a와 b에 저장하고 다음과 같이 출력하는 코드를 작성하세요.\n",
    "\n",
    "실행결과\n",
    "```\n",
    "30을 8로 나눈 몫은 3\n",
    "30을 8로 나눈 나머지는 6\n",
    "30을 8로 나눈 결과는 3.75\n",
    "```"
   ]
  },
  {
   "cell_type": "code",
   "execution_count": null,
   "metadata": {
    "id": "wbkLBkuj9aYq"
   },
   "outputs": [],
   "source": [
    "a = 30 // 8"
   ]
  },
  {
   "cell_type": "code",
   "execution_count": null,
   "metadata": {
    "id": "l6j4_knH9aYu"
   },
   "outputs": [],
   "source": [
    "b = 30 % 8"
   ]
  },
  {
   "cell_type": "code",
   "execution_count": null,
   "metadata": {
    "id": "Xqk3RDPZ9aYv",
    "outputId": "43e9be8a-c92e-4e8a-d04e-58f42e6ffdf9"
   },
   "outputs": [
    {
     "data": {
      "text/plain": [
       "3.75"
      ]
     },
     "execution_count": 9,
     "metadata": {},
     "output_type": "execute_result"
    }
   ],
   "source": [
    "30 / 8"
   ]
  },
  {
   "cell_type": "code",
   "execution_count": 13,
   "metadata": {
    "colab": {
     "base_uri": "https://localhost:8080/"
    },
    "id": "M_pEIywH-DGm",
    "outputId": "e5ef842a-d1e3-4636-8fd5-37a5613100a2"
   },
   "outputs": [
    {
     "name": "stdout",
     "output_type": "stream",
     "text": [
      "30을 8로 나눈 몫은 3\n",
      "30을 8로 나눈 나머지는 6\n",
      "30을 8로 나눈 결과는 3.75\n"
     ]
    }
   ],
   "source": [
    "a = 30 // 8\n",
    "b = 30 % 8\n",
    "c = 30 / 8\n",
    "\n",
    "print(f\"30을 8로 나눈 몫은\", a)\n",
    "print(f\"30을 8로 나눈 나머지는\", b)\n",
    "print(f\"30을 8로 나눈 결과는\", c)"
   ]
  },
  {
   "cell_type": "markdown",
   "metadata": {
    "id": "xl8rhP88q7Sk"
   },
   "source": [
    "# 컴퓨터와 묻고 답하기 그리고 문자열 다루기"
   ]
  },
  {
   "cell_type": "markdown",
   "metadata": {
    "id": "YyuktcpPrLBm"
   },
   "source": [
    "## 7. 다음과 같이 코드 실행 결과가 나오도록 코드의 빈칸을 완성한 코드를 작성하세요.\n",
    "```\n",
    "a = '시은 우진'\n",
    "```\n",
    "실행결과<br>\n",
    "\n",
    "```\n",
    "시은 우진 화이팅!!\n",
    "________빈 줄_______\n",
    "시은 우진 화이팅!!\n",
    "```"
   ]
  },
  {
   "cell_type": "code",
   "execution_count": 4,
   "metadata": {
    "id": "oJRBTFSErh0b"
   },
   "outputs": [],
   "source": [
    "a = '시은 우진'"
   ]
  },
  {
   "cell_type": "code",
   "execution_count": 5,
   "metadata": {
    "colab": {
     "base_uri": "https://localhost:8080/"
    },
    "id": "qVZbu7RJ9aY5",
    "outputId": "dca9bdaa-1203-4e7b-adb2-42927a85d9ef"
   },
   "outputs": [
    {
     "name": "stdout",
     "output_type": "stream",
     "text": [
      "시은 우진 화이팅!!\n",
      " \n",
      "시은 우진 화이팅!!\n"
     ]
    }
   ],
   "source": [
    "print(a, '화이팅!!')\n",
    "print(\" \")\n",
    "print(a, '화이팅!!')"
   ]
  },
  {
   "cell_type": "markdown",
   "metadata": {
    "id": "f9F1xXAYsL2a"
   },
   "source": [
    "## 8. 이름과 나이를 키보드로 입력받은 값을 각각 변수 name과 age에 저장하고 다음과 같이 출력하는 코드를 작성하세요.\n",
    "\n",
    "```\n",
    "이름이 무엇인가요? 메이킷\n",
    "몇 살인가요? 17\n",
    "메이킷 님은 내년에는 18 살이 됩니다.\n",
    "```\n",
    "\n"
   ]
  },
  {
   "cell_type": "code",
   "execution_count": 5,
   "metadata": {
    "id": "zhD-rM8YvJoh",
    "scrolled": true
   },
   "outputs": [],
   "source": []
  },
  {
   "cell_type": "code",
   "execution_count": 6,
   "metadata": {
    "id": "TbNEp29U9aY9"
   },
   "outputs": [],
   "source": [
    "name = '메이킷'\n",
    "age = 17"
   ]
  },
  {
   "cell_type": "code",
   "execution_count": 7,
   "metadata": {
    "colab": {
     "base_uri": "https://localhost:8080/"
    },
    "id": "Q852Pt9o9aY-",
    "outputId": "99b5e798-b6f1-486d-a1be-b56536495a45"
   },
   "outputs": [
    {
     "name": "stdout",
     "output_type": "stream",
     "text": [
      "이름이 무엇인가요? 메이킷\n",
      "몇 살인가요? 17\n",
      "메이킷 님은 내년에는  18 살이 됩니다.\n"
     ]
    }
   ],
   "source": [
    "print(\"이름이 무엇인가요?\", name)\n",
    "print(\"몇 살인가요?\", age)\n",
    "print(name, \"님은 내년에는 \", age+1, \"살이 됩니다.\")"
   ]
  },
  {
   "cell_type": "code",
   "execution_count": 7,
   "metadata": {
    "id": "FfhLwBOC9aZA"
   },
   "outputs": [],
   "source": []
  },
  {
   "cell_type": "code",
   "execution_count": 7,
   "metadata": {
    "id": "8VHfwD3T9aZC"
   },
   "outputs": [],
   "source": []
  },
  {
   "cell_type": "markdown",
   "metadata": {
    "id": "YzRmL0o5u_Fo"
   },
   "source": [
    "## 9. 정수와 실수를 각각 변수 a, b에 입력받아 두 숫자의 합과 평균을 구하는 코드를 작성하세요.\n",
    "실행결과\n",
    "```\n",
    "3\n",
    "2.5\n",
    "a와 b의 합은 5.5\n",
    "a와 b의 평균값은 2.75\n",
    "```"
   ]
  },
  {
   "cell_type": "code",
   "execution_count": 7,
   "metadata": {
    "id": "2BsOqWlOE3l5"
   },
   "outputs": [],
   "source": []
  },
  {
   "cell_type": "markdown",
   "metadata": {
    "id": "aLA_T3AY9aZF"
   },
   "source": [
    "* 나의 답변"
   ]
  },
  {
   "cell_type": "code",
   "execution_count": 8,
   "metadata": {
    "colab": {
     "base_uri": "https://localhost:8080/"
    },
    "id": "RdEj8bg_9aZF",
    "outputId": "6881cf69-43f9-455a-a50c-af311553dd10"
   },
   "outputs": [
    {
     "name": "stdout",
     "output_type": "stream",
     "text": [
      "<class 'int'>\n",
      "<class 'float'>\n"
     ]
    }
   ],
   "source": [
    "a = 3\n",
    "b = 2.5\n",
    "print(type(a))\n",
    "print(type(b))"
   ]
  },
  {
   "cell_type": "code",
   "execution_count": 9,
   "metadata": {
    "colab": {
     "base_uri": "https://localhost:8080/"
    },
    "id": "HvGAopwT9aZH",
    "outputId": "9e92dcf8-e3da-4c23-8bd7-1207c1e720aa"
   },
   "outputs": [
    {
     "data": {
      "text/plain": [
       "5.5"
      ]
     },
     "execution_count": 9,
     "metadata": {},
     "output_type": "execute_result"
    }
   ],
   "source": [
    "a + b"
   ]
  },
  {
   "cell_type": "code",
   "execution_count": 10,
   "metadata": {
    "colab": {
     "base_uri": "https://localhost:8080/"
    },
    "id": "J2i3Sgha9aZJ",
    "outputId": "0e283ca5-c914-4f9f-8efa-d409af95acef"
   },
   "outputs": [
    {
     "name": "stdout",
     "output_type": "stream",
     "text": [
      "<class 'float'>\n"
     ]
    }
   ],
   "source": [
    "print(type(a+b))"
   ]
  },
  {
   "cell_type": "code",
   "execution_count": 11,
   "metadata": {
    "colab": {
     "base_uri": "https://localhost:8080/"
    },
    "id": "tNwu0LuO9aZK",
    "outputId": "c4e42525-586e-4fe4-e37a-f8e18b721367",
    "scrolled": true
   },
   "outputs": [
    {
     "data": {
      "text/plain": [
       "2.75"
      ]
     },
     "execution_count": 11,
     "metadata": {},
     "output_type": "execute_result"
    }
   ],
   "source": [
    "( a + b )/2"
   ]
  },
  {
   "cell_type": "markdown",
   "metadata": {
    "id": "ZlR785Cj9aZL"
   },
   "source": [
    "* 실제 답변"
   ]
  },
  {
   "cell_type": "code",
   "execution_count": 12,
   "metadata": {
    "colab": {
     "base_uri": "https://localhost:8080/",
     "height": 292
    },
    "id": "sYPCbNGx9aZL",
    "outputId": "0515f54c-2809-4047-f662-4c52587c204f"
   },
   "outputs": [
    {
     "ename": "KeyboardInterrupt",
     "evalue": "Interrupted by user",
     "output_type": "error",
     "traceback": [
      "\u001b[0;31m---------------------------------------------------------------------------\u001b[0m",
      "\u001b[0;31mKeyboardInterrupt\u001b[0m                         Traceback (most recent call last)",
      "\u001b[0;32m<ipython-input-12-46d5ea914a24>\u001b[0m in \u001b[0;36m<cell line: 1>\u001b[0;34m()\u001b[0m\n\u001b[0;32m----> 1\u001b[0;31m \u001b[0ma\u001b[0m \u001b[0;34m=\u001b[0m \u001b[0mint\u001b[0m\u001b[0;34m(\u001b[0m\u001b[0minput\u001b[0m\u001b[0;34m(\u001b[0m\u001b[0;34m\"정수 입력: \"\u001b[0m\u001b[0;34m)\u001b[0m\u001b[0;34m)\u001b[0m\u001b[0;34m\u001b[0m\u001b[0;34m\u001b[0m\u001b[0m\n\u001b[0m",
      "\u001b[0;32m/usr/local/lib/python3.10/dist-packages/ipykernel/kernelbase.py\u001b[0m in \u001b[0;36mraw_input\u001b[0;34m(self, prompt)\u001b[0m\n\u001b[1;32m    849\u001b[0m                 \u001b[0;34m\"raw_input was called, but this frontend does not support input requests.\"\u001b[0m\u001b[0;34m\u001b[0m\u001b[0;34m\u001b[0m\u001b[0m\n\u001b[1;32m    850\u001b[0m             )\n\u001b[0;32m--> 851\u001b[0;31m         return self._input_request(str(prompt),\n\u001b[0m\u001b[1;32m    852\u001b[0m             \u001b[0mself\u001b[0m\u001b[0;34m.\u001b[0m\u001b[0m_parent_ident\u001b[0m\u001b[0;34m,\u001b[0m\u001b[0;34m\u001b[0m\u001b[0;34m\u001b[0m\u001b[0m\n\u001b[1;32m    853\u001b[0m             \u001b[0mself\u001b[0m\u001b[0;34m.\u001b[0m\u001b[0m_parent_header\u001b[0m\u001b[0;34m,\u001b[0m\u001b[0;34m\u001b[0m\u001b[0;34m\u001b[0m\u001b[0m\n",
      "\u001b[0;32m/usr/local/lib/python3.10/dist-packages/ipykernel/kernelbase.py\u001b[0m in \u001b[0;36m_input_request\u001b[0;34m(self, prompt, ident, parent, password)\u001b[0m\n\u001b[1;32m    893\u001b[0m             \u001b[0;32mexcept\u001b[0m \u001b[0mKeyboardInterrupt\u001b[0m\u001b[0;34m:\u001b[0m\u001b[0;34m\u001b[0m\u001b[0;34m\u001b[0m\u001b[0m\n\u001b[1;32m    894\u001b[0m                 \u001b[0;31m# re-raise KeyboardInterrupt, to truncate traceback\u001b[0m\u001b[0;34m\u001b[0m\u001b[0;34m\u001b[0m\u001b[0m\n\u001b[0;32m--> 895\u001b[0;31m                 \u001b[0;32mraise\u001b[0m \u001b[0mKeyboardInterrupt\u001b[0m\u001b[0;34m(\u001b[0m\u001b[0;34m\"Interrupted by user\"\u001b[0m\u001b[0;34m)\u001b[0m \u001b[0;32mfrom\u001b[0m \u001b[0;32mNone\u001b[0m\u001b[0;34m\u001b[0m\u001b[0;34m\u001b[0m\u001b[0m\n\u001b[0m\u001b[1;32m    896\u001b[0m             \u001b[0;32mexcept\u001b[0m \u001b[0mException\u001b[0m \u001b[0;32mas\u001b[0m \u001b[0me\u001b[0m\u001b[0;34m:\u001b[0m\u001b[0;34m\u001b[0m\u001b[0;34m\u001b[0m\u001b[0m\n\u001b[1;32m    897\u001b[0m                 \u001b[0mself\u001b[0m\u001b[0;34m.\u001b[0m\u001b[0mlog\u001b[0m\u001b[0;34m.\u001b[0m\u001b[0mwarning\u001b[0m\u001b[0;34m(\u001b[0m\u001b[0;34m\"Invalid Message:\"\u001b[0m\u001b[0;34m,\u001b[0m \u001b[0mexc_info\u001b[0m\u001b[0;34m=\u001b[0m\u001b[0;32mTrue\u001b[0m\u001b[0;34m)\u001b[0m\u001b[0;34m\u001b[0m\u001b[0;34m\u001b[0m\u001b[0m\n",
      "\u001b[0;31mKeyboardInterrupt\u001b[0m: Interrupted by user"
     ]
    }
   ],
   "source": [
    "a = int(input(\"정수 입력: \"))"
   ]
  },
  {
   "cell_type": "code",
   "execution_count": null,
   "metadata": {
    "id": "noH8CcB29aZM"
   },
   "outputs": [],
   "source": [
    "b = float(input(\"실수 입력: \"))"
   ]
  },
  {
   "cell_type": "code",
   "execution_count": null,
   "metadata": {
    "id": "g0fwHipj9aZO"
   },
   "outputs": [],
   "source": [
    "print(\"a와 b의 합은\", a + b)"
   ]
  },
  {
   "cell_type": "code",
   "execution_count": null,
   "metadata": {
    "id": "ImSd6W-t9aZO"
   },
   "outputs": [],
   "source": [
    "avg = (a + b)/2\n",
    "avg"
   ]
  },
  {
   "cell_type": "code",
   "execution_count": null,
   "metadata": {
    "id": "tvSKCYs99aZP"
   },
   "outputs": [],
   "source": [
    "print(\"a와 b의 평균값은\", avg)"
   ]
  },
  {
   "cell_type": "code",
   "execution_count": 15,
   "metadata": {
    "colab": {
     "base_uri": "https://localhost:8080/"
    },
    "id": "P9RGI5-x9aZQ",
    "outputId": "a6eec491-c39e-484b-c4af-5c8970f24555"
   },
   "outputs": [
    {
     "name": "stdout",
     "output_type": "stream",
     "text": [
      "정수 입력: 3\n",
      "실수 입력: 2.5\n",
      "a와 b의 합은 5.5\n",
      "a와 b의 평균값은 2.75\n"
     ]
    }
   ],
   "source": [
    "a = int(input(\"정수 입력: \"))\n",
    "b = float(input(\"실수 입력: \"))\n",
    "avg = (a + b)/2\n",
    "print(\"a와 b의 합은\", a + b)\n",
    "print(\"a와 b의 평균값은\", avg)"
   ]
  },
  {
   "cell_type": "markdown",
   "metadata": {
    "id": "6xjLuumQvIAl"
   },
   "source": [
    "## 10. makit 문자열 변수를 활용해 아래와 같은 실행 결과가 나오도록 코드의 빈칸을 완성하세요.\n",
    "\n",
    "실행결과\n",
    "```\n",
    "result1 = S\n",
    "result2 = W\n",
    "result3 = !\n",
    "```"
   ]
  },
  {
   "cell_type": "code",
   "execution_count": null,
   "metadata": {
    "id": "OIPrdIzxvzkx"
   },
   "outputs": [],
   "source": [
    "makeit = 'Sieun Woojin!'\n"
   ]
  },
  {
   "cell_type": "markdown",
   "metadata": {
    "id": "Ri6eMtzr9aZS"
   },
   "source": [
    "* 나의 답변"
   ]
  },
  {
   "cell_type": "code",
   "execution_count": null,
   "metadata": {
    "id": "xTkzzeSA9aZT"
   },
   "outputs": [],
   "source": [
    "makeit = 'Sieun Woojin!'"
   ]
  },
  {
   "cell_type": "code",
   "execution_count": null,
   "metadata": {
    "id": "0IU3Ks4Z9aZV"
   },
   "outputs": [],
   "source": [
    "result = makeit.split()"
   ]
  },
  {
   "cell_type": "code",
   "execution_count": null,
   "metadata": {
    "id": "Ctd6ek7_9aZV"
   },
   "outputs": [],
   "source": [
    "result"
   ]
  },
  {
   "cell_type": "code",
   "execution_count": null,
   "metadata": {
    "id": "ZF_g6OWL9aZW"
   },
   "outputs": [],
   "source": [
    "result[0]"
   ]
  },
  {
   "cell_type": "code",
   "execution_count": null,
   "metadata": {
    "id": "OPKktRyc9aZX"
   },
   "outputs": [],
   "source": []
  },
  {
   "cell_type": "code",
   "execution_count": null,
   "metadata": {
    "id": "qYtBBzmE9aZY",
    "scrolled": true
   },
   "outputs": [],
   "source": [
    "result1 = makeit[:1]\n",
    "print(result1)"
   ]
  },
  {
   "cell_type": "code",
   "execution_count": null,
   "metadata": {
    "id": "jxIe46E99aZZ"
   },
   "outputs": [],
   "source": [
    "result2 = makeit[6:7]\n",
    "print(result2)"
   ]
  },
  {
   "cell_type": "code",
   "execution_count": null,
   "metadata": {
    "id": "lp_CpKUU9aZ8"
   },
   "outputs": [],
   "source": [
    "result3 = makeit[12:13]\n",
    "print(result3)"
   ]
  },
  {
   "cell_type": "code",
   "execution_count": null,
   "metadata": {
    "id": "q_NGP_4M9aZ9"
   },
   "outputs": [],
   "source": [
    "print(result1)\n",
    "print(result2)\n",
    "print(result3)"
   ]
  },
  {
   "cell_type": "markdown",
   "metadata": {
    "id": "vuRgFjWi9aZ-"
   },
   "source": [
    "* 실제 답변 : 인덱싱 문제"
   ]
  },
  {
   "cell_type": "code",
   "execution_count": 16,
   "metadata": {
    "id": "GWphtc319aZ_"
   },
   "outputs": [],
   "source": [
    "makeit = 'Sieun Woojin!'"
   ]
  },
  {
   "cell_type": "code",
   "execution_count": 17,
   "metadata": {
    "id": "i52PDjpc9aaA"
   },
   "outputs": [],
   "source": [
    "result1 = makeit[0]\n",
    "result2 = makeit[6]\n",
    "result3 = makeit[-1]"
   ]
  },
  {
   "cell_type": "code",
   "execution_count": 18,
   "metadata": {
    "colab": {
     "base_uri": "https://localhost:8080/"
    },
    "id": "efqttxoZ9aaB",
    "outputId": "fde0bcb0-3323-45bf-b353-8a16b1b4f336"
   },
   "outputs": [
    {
     "name": "stdout",
     "output_type": "stream",
     "text": [
      "S\n",
      "W\n",
      "!\n"
     ]
    }
   ],
   "source": [
    "print(result1)\n",
    "print(result2)\n",
    "print(result3)"
   ]
  },
  {
   "cell_type": "code",
   "execution_count": null,
   "metadata": {
    "id": "5weMinmk9aaB"
   },
   "outputs": [],
   "source": []
  },
  {
   "cell_type": "markdown",
   "metadata": {
    "id": "n-V2dHTXwqNS"
   },
   "source": [
    "## 11. makit 문자열 변수를 활용해 아래와 같은 실행 결과가 나오도록 코드의 빈칸을 완성해 보세요.\n",
    "실행결과\n",
    "```\n",
    "eun Woo\n",
    "Sieun\n",
    "Woojin!\n",
    "```\n"
   ]
  },
  {
   "cell_type": "code",
   "execution_count": null,
   "metadata": {
    "id": "J3mIM7rcxfw-",
    "scrolled": true
   },
   "outputs": [],
   "source": [
    "makit = 'Sieun Woojin!'\n"
   ]
  },
  {
   "cell_type": "code",
   "execution_count": null,
   "metadata": {
    "id": "jD8nMl_V9aaF"
   },
   "outputs": [],
   "source": []
  },
  {
   "cell_type": "code",
   "execution_count": null,
   "metadata": {
    "id": "9HWu_11Q9aaH"
   },
   "outputs": [],
   "source": []
  },
  {
   "cell_type": "markdown",
   "metadata": {
    "id": "1LOwC6rh9aaH"
   },
   "source": [
    "* 실제 답변 : 슬라이싱 문제"
   ]
  },
  {
   "cell_type": "code",
   "execution_count": 20,
   "metadata": {
    "id": "efAiGMLT9aaJ"
   },
   "outputs": [],
   "source": [
    "makit = 'Sieun Woojin!'"
   ]
  },
  {
   "cell_type": "code",
   "execution_count": 21,
   "metadata": {
    "colab": {
     "base_uri": "https://localhost:8080/",
     "height": 35
    },
    "id": "ix_v_Uv09aaK",
    "outputId": "9320ddb8-5946-4f0a-cd35-6acd66cd77a8"
   },
   "outputs": [
    {
     "data": {
      "application/vnd.google.colaboratory.intrinsic+json": {
       "type": "string"
      },
      "text/plain": [
       "'eun Woo'"
      ]
     },
     "execution_count": 21,
     "metadata": {},
     "output_type": "execute_result"
    }
   ],
   "source": [
    "makit[2:9]"
   ]
  },
  {
   "cell_type": "code",
   "execution_count": 22,
   "metadata": {
    "colab": {
     "base_uri": "https://localhost:8080/"
    },
    "id": "-Pg9ar_s9aaL",
    "outputId": "00c11d19-ffba-499a-d93e-cffaf03f685d"
   },
   "outputs": [
    {
     "name": "stdout",
     "output_type": "stream",
     "text": [
      "eun Woo\n"
     ]
    }
   ],
   "source": [
    "print(makit[2:9])"
   ]
  },
  {
   "cell_type": "code",
   "execution_count": 23,
   "metadata": {
    "colab": {
     "base_uri": "https://localhost:8080/",
     "height": 35
    },
    "id": "p-dol2ZI9aaM",
    "outputId": "fe98b82f-f98d-4ba2-9e22-cfc1b7a277ff"
   },
   "outputs": [
    {
     "data": {
      "application/vnd.google.colaboratory.intrinsic+json": {
       "type": "string"
      },
      "text/plain": [
       "'Sieun'"
      ]
     },
     "execution_count": 23,
     "metadata": {},
     "output_type": "execute_result"
    }
   ],
   "source": [
    "makit[:5]"
   ]
  },
  {
   "cell_type": "code",
   "execution_count": 24,
   "metadata": {
    "colab": {
     "base_uri": "https://localhost:8080/"
    },
    "id": "-sGhZF1b9aaN",
    "outputId": "4163dc88-ffcf-4108-ad96-edef21ca158f"
   },
   "outputs": [
    {
     "name": "stdout",
     "output_type": "stream",
     "text": [
      "Sieun\n"
     ]
    }
   ],
   "source": [
    "print(makit[:5])"
   ]
  },
  {
   "cell_type": "code",
   "execution_count": 25,
   "metadata": {
    "colab": {
     "base_uri": "https://localhost:8080/",
     "height": 35
    },
    "id": "6Rg4miqr9aaP",
    "outputId": "4f2689d1-ba92-4c96-ef5f-1eb00ce5c611"
   },
   "outputs": [
    {
     "data": {
      "application/vnd.google.colaboratory.intrinsic+json": {
       "type": "string"
      },
      "text/plain": [
       "'Woojin!'"
      ]
     },
     "execution_count": 25,
     "metadata": {},
     "output_type": "execute_result"
    }
   ],
   "source": [
    "makit[6:]"
   ]
  },
  {
   "cell_type": "code",
   "execution_count": 26,
   "metadata": {
    "colab": {
     "base_uri": "https://localhost:8080/"
    },
    "id": "vu25xVsT9aaQ",
    "outputId": "c015e6a6-b572-4899-b5f6-59366cccf8b8"
   },
   "outputs": [
    {
     "name": "stdout",
     "output_type": "stream",
     "text": [
      "Woojin!\n"
     ]
    }
   ],
   "source": [
    "print(makit[6:])"
   ]
  },
  {
   "cell_type": "code",
   "execution_count": 27,
   "metadata": {
    "colab": {
     "base_uri": "https://localhost:8080/"
    },
    "id": "eyQiwMaR9aaR",
    "outputId": "8d2dd4e2-aa46-489c-af25-706e88463bdf"
   },
   "outputs": [
    {
     "name": "stdout",
     "output_type": "stream",
     "text": [
      "eun Woo\n",
      "Sieun\n",
      "Woojin!\n"
     ]
    }
   ],
   "source": [
    "# 최종답변\n",
    "print(makit[2:9])\n",
    "print(makit[:5])\n",
    "print(makit[6:])"
   ]
  },
  {
   "cell_type": "markdown",
   "metadata": {
    "id": "8Mx09bjMxl0z"
   },
   "source": [
    "## 12. makit 문자열 변수에는 ‘동서남북동서남북동서남북’이 저장되어 있습니다. makit 문자열 변수에서 ‘동’만 출력하는 코드를 작성하세요.\n",
    "실행결과\n",
    "```\n",
    "동동동\n",
    "```"
   ]
  },
  {
   "cell_type": "code",
   "execution_count": null,
   "metadata": {
    "id": "EgyZ3lhrzBMe"
   },
   "outputs": [],
   "source": [
    "makit = '동서남북동서남북동서남북'\n"
   ]
  },
  {
   "cell_type": "code",
   "execution_count": 28,
   "metadata": {
    "id": "euxJO4oY9aaW"
   },
   "outputs": [],
   "source": [
    "makit = '동서남북동서남북동서남북'"
   ]
  },
  {
   "cell_type": "markdown",
   "metadata": {
    "id": "xMIiNAt09aaZ"
   },
   "source": [
    "* 나의 답변"
   ]
  },
  {
   "cell_type": "code",
   "execution_count": 29,
   "metadata": {
    "colab": {
     "base_uri": "https://localhost:8080/",
     "height": 35
    },
    "id": "UUqM3dc_9aaa",
    "outputId": "8b8a0e6d-4300-4b70-dca3-ba0078cc1d01"
   },
   "outputs": [
    {
     "data": {
      "application/vnd.google.colaboratory.intrinsic+json": {
       "type": "string"
      },
      "text/plain": [
       "'동동동'"
      ]
     },
     "execution_count": 29,
     "metadata": {},
     "output_type": "execute_result"
    }
   ],
   "source": [
    "makit.translate(str.maketrans('','', '서남북'))"
   ]
  },
  {
   "cell_type": "markdown",
   "metadata": {
    "id": "uHArjbS09aad"
   },
   "source": [
    "* 실제 답변"
   ]
  },
  {
   "cell_type": "code",
   "execution_count": 30,
   "metadata": {
    "colab": {
     "base_uri": "https://localhost:8080/"
    },
    "id": "v_FqNDG39aae",
    "outputId": "b9db5cf2-4abc-4b50-e0db-6a08707e0825"
   },
   "outputs": [
    {
     "name": "stdout",
     "output_type": "stream",
     "text": [
      "동동동\n"
     ]
    }
   ],
   "source": [
    "print(makit[0::4])"
   ]
  },
  {
   "cell_type": "markdown",
   "metadata": {
    "id": "V1dFglIHzZ4-"
   },
   "source": [
    "## 13. makit 문자열에 ‘동서남북’이라고 저장되어 있습니다. makit 문자열 변수를 뒤집어서 ‘북남서동’으로 출력하는 결과가 나오도록 코드의 빈칸을 완성하세요.\n",
    "실행결과\n",
    "```\n",
    "북남서동\n",
    "```"
   ]
  },
  {
   "cell_type": "code",
   "execution_count": 32,
   "metadata": {
    "id": "QzZq6nJSzj2O",
    "scrolled": false
   },
   "outputs": [],
   "source": [
    "makit = '동서남북'\n"
   ]
  },
  {
   "cell_type": "code",
   "execution_count": 34,
   "metadata": {
    "colab": {
     "base_uri": "https://localhost:8080/",
     "height": 35
    },
    "id": "ZSTSM_Cq9aai",
    "outputId": "9480e0cf-1e9f-4ade-be80-b023956330c7"
   },
   "outputs": [
    {
     "data": {
      "application/vnd.google.colaboratory.intrinsic+json": {
       "type": "string"
      },
      "text/plain": [
       "'북남서동'"
      ]
     },
     "execution_count": 34,
     "metadata": {},
     "output_type": "execute_result"
    }
   ],
   "source": [
    "makit_reverse = makit[::-1]\n",
    "makit_reverse"
   ]
  },
  {
   "cell_type": "markdown",
   "metadata": {
    "id": "auFM6GvEzmwI"
   },
   "source": [
    "## 14. makit 문자열에 핸드폰 번호가 다음과 같이 저장되어 있습니다. ‘.‘을 ‘-’으로 변경해 다음과 같이 실행 결과가 나오도록 코드의 빈칸을 완성한 코드를 작성하세요.\n",
    "실행결과\n",
    "```\n",
    "010-1234-5678\n",
    "```"
   ]
  },
  {
   "cell_type": "code",
   "execution_count": null,
   "metadata": {
    "id": "-hn6fDr5z5Tv"
   },
   "outputs": [],
   "source": [
    "phone = '010.1234.5678'\n"
   ]
  },
  {
   "cell_type": "code",
   "execution_count": 35,
   "metadata": {
    "id": "eeXi2kzA9aal"
   },
   "outputs": [],
   "source": [
    "phone = '010.1234.5678'"
   ]
  },
  {
   "cell_type": "markdown",
   "metadata": {
    "id": "UtWG1Qn09aan"
   },
   "source": [
    "str.maketrans('찾을문자', '바꿀문자', '추가로 없앨문자') 로 변환테이블 생성"
   ]
  },
  {
   "cell_type": "code",
   "execution_count": 36,
   "metadata": {
    "colab": {
     "base_uri": "https://localhost:8080/",
     "height": 35
    },
    "id": "SzlrKo1T9aao",
    "outputId": "146dcdd2-98b9-43c8-cd74-a8c8a5de936e"
   },
   "outputs": [
    {
     "data": {
      "application/vnd.google.colaboratory.intrinsic+json": {
       "type": "string"
      },
      "text/plain": [
       "'010-1234-5678'"
      ]
     },
     "execution_count": 36,
     "metadata": {},
     "output_type": "execute_result"
    }
   ],
   "source": [
    "phone.translate(str.maketrans('.','-'))"
   ]
  },
  {
   "cell_type": "markdown",
   "metadata": {
    "id": "jZOCNrY29aas"
   },
   "source": []
  },
  {
   "cell_type": "markdown",
   "metadata": {
    "id": "MAm9Y-xr1u26"
   },
   "source": [
    "## 17. 초를 입력하면 ‘몇 분 몇 초’로 환산해주는 코드를 다음과 같이 출력하도록 작성하세요.\n",
    "실행결과\n",
    "```\n",
    "초를 입력하세요:1234\n",
    "1234 초(sec)는 20 분(min) 34 초(sec)입니다\n",
    "```"
   ]
  },
  {
   "cell_type": "code",
   "execution_count": null,
   "metadata": {
    "id": "DEw-9r100w6t"
   },
   "outputs": [],
   "source": []
  },
  {
   "cell_type": "code",
   "execution_count": null,
   "metadata": {
    "id": "tNSqiD3c9aav"
   },
   "outputs": [],
   "source": [
    "sec = int(input(\"초를 입력하세요: \"))"
   ]
  },
  {
   "cell_type": "code",
   "execution_count": null,
   "metadata": {
    "id": "-CI1PIKY9aaw"
   },
   "outputs": [],
   "source": [
    "print(sec)"
   ]
  },
  {
   "cell_type": "code",
   "execution_count": null,
   "metadata": {
    "id": "j0y7YA2d9aaw"
   },
   "outputs": [],
   "source": [
    "min = sec//60\n",
    "min"
   ]
  },
  {
   "cell_type": "code",
   "execution_count": null,
   "metadata": {
    "id": "yGLOMPYQ9aax"
   },
   "outputs": [],
   "source": [
    "sec2 = sec%60\n",
    "sec2"
   ]
  },
  {
   "cell_type": "code",
   "execution_count": null,
   "metadata": {
    "id": "o3soj5w69aay"
   },
   "outputs": [],
   "source": [
    "print(sec, \"초(sec)는\", min ,\"분(min)\", sec2, \"초(sec2)입니다.\")"
   ]
  },
  {
   "cell_type": "code",
   "execution_count": null,
   "metadata": {
    "id": "8_YkerG89aa1"
   },
   "outputs": [],
   "source": []
  },
  {
   "cell_type": "markdown",
   "metadata": {
    "id": "mOHOs2pv2Fz8"
   },
   "source": [
    "## 18. 다음과 같이 시간을 분 단위로 입력하면 며칠, 몇 시간, 몇 분으로 환산해서 출력하는 코드를 작성하세요.\n",
    "실행결과\n",
    "```\n",
    "분을 입력하세요:7512\n",
    "7512 분은 5 일 5 시간 12 분입니다\n",
    "```"
   ]
  },
  {
   "cell_type": "code",
   "execution_count": 40,
   "metadata": {
    "colab": {
     "base_uri": "https://localhost:8080/"
    },
    "id": "FblZK5RjKfl9",
    "outputId": "8ad59f5c-1907-4085-c0b8-f9b8eb2b8843"
   },
   "outputs": [
    {
     "data": {
      "text/plain": [
       "1440"
      ]
     },
     "execution_count": 40,
     "metadata": {},
     "output_type": "execute_result"
    }
   ],
   "source": [
    "24 * 60"
   ]
  },
  {
   "cell_type": "code",
   "execution_count": 38,
   "metadata": {
    "colab": {
     "base_uri": "https://localhost:8080/"
    },
    "id": "VMx-byJoBwHt",
    "outputId": "6f88902e-7444-4fb7-92e4-52fc86c6982e"
   },
   "outputs": [
    {
     "name": "stdout",
     "output_type": "stream",
     "text": [
      "분을 입력하세요 : 7512\n"
     ]
    }
   ],
   "source": [
    "min = int(input(\"분을 입력하세요 : \"))"
   ]
  },
  {
   "cell_type": "code",
   "execution_count": 42,
   "metadata": {
    "id": "2NaAJ7sbB52B"
   },
   "outputs": [],
   "source": [
    "day = min // 1440\n",
    "hours = (min % 1440) // 60\n",
    "min2 = min % 60"
   ]
  },
  {
   "cell_type": "code",
   "execution_count": 43,
   "metadata": {
    "colab": {
     "base_uri": "https://localhost:8080/"
    },
    "id": "2KHAAIZ6BpmS",
    "outputId": "f06cbde8-e1c1-42a9-9bfc-25f47402fa68"
   },
   "outputs": [
    {
     "name": "stdout",
     "output_type": "stream",
     "text": [
      "7512 분은 5 일 5 시간 12 분입니다.\n"
     ]
    }
   ],
   "source": [
    "print(min, \"분은\", day, \"일\", hours, \"시간\", min2, \"분입니다.\")"
   ]
  },
  {
   "cell_type": "markdown",
   "metadata": {
    "id": "3TlG6Pu42OXh"
   },
   "source": [
    "# 리스트(list) 다루기"
   ]
  },
  {
   "cell_type": "markdown",
   "metadata": {
    "id": "5gk-6Rlr3E7n"
   },
   "source": [
    "## 19. 다음과 같이 코드 실행 결과가 나오도록 코드의 빈칸을 완성하세요.\n",
    "실행결과\n",
    "```\n",
    "['메이킷', '우진', '시은']\n",
    "메이킷\n",
    "우진\n",
    "시은\n",
    "```"
   ]
  },
  {
   "cell_type": "code",
   "execution_count": 45,
   "metadata": {
    "id": "3qMmKS733Zng"
   },
   "outputs": [],
   "source": [
    "L = ['메이킷', '우진', '시은']\n"
   ]
  },
  {
   "cell_type": "code",
   "execution_count": 49,
   "metadata": {
    "colab": {
     "base_uri": "https://localhost:8080/"
    },
    "id": "ZpV5i10YCyeD",
    "outputId": "7b32df6c-89cf-4646-93ba-85b2e69a4489"
   },
   "outputs": [
    {
     "name": "stdout",
     "output_type": "stream",
     "text": [
      "메이킷\n",
      "우진\n",
      "시은\n"
     ]
    }
   ],
   "source": [
    "print(L[0])\n",
    "print(L[1])\n",
    "print(L[2])"
   ]
  },
  {
   "cell_type": "markdown",
   "metadata": {
    "id": "LPHSjmwY3aLp"
   },
   "source": [
    "## 20.다음과 같이 코드 실행 결과가 나오도록 코드의 빈칸을 완성하세요.\n",
    "실행결과\n",
    "```\n",
    "['메이킷', '우진']\n",
    "['우진', '제임스', '시은']\n",
    "['제임스', '시은']\n",
    "['메이킷', '우진', '제임스', '시은']\n",
    "```"
   ]
  },
  {
   "cell_type": "code",
   "execution_count": null,
   "metadata": {
    "colab": {
     "base_uri": "https://localhost:8080/"
    },
    "id": "zn0dEbi13mpD",
    "outputId": "87693e74-6d85-4c49-954e-d55d190db2ff"
   },
   "outputs": [
    {
     "name": "stdout",
     "output_type": "stream",
     "text": [
      "['메이킷', '우진']\n",
      "['우진', '제임스', '시은']\n",
      "['제임스', '시은']\n",
      "['메이킷', '우진', '제임스', '시은']\n"
     ]
    }
   ],
   "source": [
    "a = ['메이킷','우진','제임스','시은']\n"
   ]
  },
  {
   "cell_type": "code",
   "execution_count": 50,
   "metadata": {
    "id": "VxfODUitDMI1"
   },
   "outputs": [],
   "source": [
    "a = ['메이킷','우진','제임스','시은']"
   ]
  },
  {
   "cell_type": "code",
   "execution_count": 51,
   "metadata": {
    "colab": {
     "base_uri": "https://localhost:8080/"
    },
    "id": "KDBYBGJcDLTA",
    "outputId": "be513e07-ecc5-416b-cfbf-40fbb0ea7808"
   },
   "outputs": [
    {
     "name": "stdout",
     "output_type": "stream",
     "text": [
      "['메이킷', '우진']\n",
      "['우진', '제임스', '시은']\n",
      "['제임스', '시은']\n",
      "['메이킷', '우진', '제임스', '시은']\n"
     ]
    }
   ],
   "source": [
    "print(a[:2])\n",
    "\n",
    "print(a[1:])\n",
    "\n",
    "print(a[2:])\n",
    "\n",
    "print(a[:])"
   ]
  },
  {
   "cell_type": "markdown",
   "metadata": {
    "id": "WjyW_lJ43qXh"
   },
   "source": [
    "## 21. 리스트 추가, 삭제하기\n",
    "다음과 같이 코드 실행 결과가 나오도록 코드의 빈칸을 완성하여 전체 코드를 입력하세요.<br>\n",
    "실행결과\n",
    "```\n",
    "['우진', '시은', '메이킷']\n",
    "['우진', '시은']\n",
    "```"
   ]
  },
  {
   "cell_type": "code",
   "execution_count": 53,
   "metadata": {
    "id": "4uTX16LE43rp"
   },
   "outputs": [],
   "source": [
    "a = ['우진','시은']\n"
   ]
  },
  {
   "cell_type": "code",
   "execution_count": 54,
   "metadata": {
    "colab": {
     "base_uri": "https://localhost:8080/"
    },
    "id": "hYOHYcdHDwbY",
    "outputId": "3efd164f-6a83-47f1-d51c-b30d43ad9c29"
   },
   "outputs": [
    {
     "data": {
      "text/plain": [
       "['우진', '시은', '메이킷']"
      ]
     },
     "execution_count": 54,
     "metadata": {},
     "output_type": "execute_result"
    }
   ],
   "source": [
    "a.append('메이킷')\n",
    "a"
   ]
  },
  {
   "cell_type": "code",
   "execution_count": 55,
   "metadata": {
    "colab": {
     "base_uri": "https://localhost:8080/"
    },
    "id": "OJKsgFJWDw6n",
    "outputId": "1b522430-1468-4ec5-cbac-57f19dc87d8e"
   },
   "outputs": [
    {
     "data": {
      "text/plain": [
       "['우진', '시은']"
      ]
     },
     "execution_count": 55,
     "metadata": {},
     "output_type": "execute_result"
    }
   ],
   "source": [
    "a.pop(2)\n",
    "a"
   ]
  },
  {
   "cell_type": "markdown",
   "metadata": {
    "id": "EXCiHbcm4rTI"
   },
   "source": [
    "## 22. 리스트 원하는 위치에 삽입하기\n",
    "다음과 같이 코드 실행 결과가 나오도록 코드의 빈칸을 완성하세요.<br>\n",
    "실행결과\n",
    "```\n",
    "['우진', '하워드', '시은', '메이킷']\n",
    "```"
   ]
  },
  {
   "cell_type": "code",
   "execution_count": 57,
   "metadata": {
    "id": "DRqh-Awr5e9U"
   },
   "outputs": [],
   "source": [
    "a = ['우진','시은','메이킷']\n"
   ]
  },
  {
   "cell_type": "code",
   "execution_count": 58,
   "metadata": {
    "colab": {
     "base_uri": "https://localhost:8080/"
    },
    "id": "1Cb6fw-ZE8TE",
    "outputId": "5bf2ae68-4784-46fe-9c8d-eda467bbe4cc"
   },
   "outputs": [
    {
     "data": {
      "text/plain": [
       "['우진', '하워드', '시은', '메이킷']"
      ]
     },
     "execution_count": 58,
     "metadata": {},
     "output_type": "execute_result"
    }
   ],
   "source": [
    "a.insert(1, '하워드')\n",
    "a"
   ]
  },
  {
   "cell_type": "code",
   "execution_count": 55,
   "metadata": {
    "id": "U7lN6wg9E625"
   },
   "outputs": [],
   "source": []
  },
  {
   "cell_type": "markdown",
   "metadata": {
    "id": "N_oeSVwj5Qx1"
   },
   "source": [
    "## 23. 리스트 합치기\n",
    "다음과 같이 코드 실행 결과가 나오도록 코드의 빈칸을 완성하세요.<br>\n",
    "실행결과\n",
    "```\n",
    "['우진', '시은', '메이킷', '소피아', '하워드']\n",
    "['메이킷', '소피아', '하워드']\n",
    "```"
   ]
  },
  {
   "cell_type": "code",
   "execution_count": null,
   "metadata": {
    "colab": {
     "base_uri": "https://localhost:8080/"
    },
    "id": "8PQ6xWMJ6A1-",
    "outputId": "b0404fc9-2a89-4418-84a4-171d66105dd8"
   },
   "outputs": [
    {
     "name": "stdout",
     "output_type": "stream",
     "text": [
      "['우진', '시은', '메이킷', '소피아', '하워드']\n",
      "['메이킷', '소피아', '하워드']\n"
     ]
    }
   ],
   "source": [
    "a = ['우진', '시은']\n",
    "b = ['메이킷', '소피아', '하워드']\n"
   ]
  },
  {
   "cell_type": "code",
   "execution_count": 60,
   "metadata": {
    "id": "KxawzsqDFtZc"
   },
   "outputs": [],
   "source": [
    "a = ['우진', '시은']\n",
    "b = ['메이킷', '소피아', '하워드']"
   ]
  },
  {
   "cell_type": "code",
   "execution_count": 61,
   "metadata": {
    "colab": {
     "base_uri": "https://localhost:8080/"
    },
    "id": "f3jZISZIFkXm",
    "outputId": "c20be4e8-df9f-4227-e759-04d2f7010c7e"
   },
   "outputs": [
    {
     "data": {
      "text/plain": [
       "['우진', '시은', '메이킷', '소피아', '하워드']"
      ]
     },
     "execution_count": 61,
     "metadata": {},
     "output_type": "execute_result"
    }
   ],
   "source": [
    "a.extend(b)\n",
    "a"
   ]
  },
  {
   "cell_type": "code",
   "execution_count": null,
   "metadata": {
    "id": "-jEloGABFk01"
   },
   "outputs": [],
   "source": []
  },
  {
   "cell_type": "markdown",
   "metadata": {
    "id": "RQ5mgcLQ6CRW"
   },
   "source": [
    "## 24. 공백 리스트와 합치기\n",
    "다음과 같이 코드 실행 결과가 나오도록 코드의 빈칸을 완성한 전체 코드를 작성하세요.<br>\n",
    "실행결과\n",
    "```\n",
    "['우진', '시은']\n",
    "['우진', '시은', '메이킷', '소피아', '하워드']\n",
    "```\n"
   ]
  },
  {
   "cell_type": "code",
   "execution_count": null,
   "metadata": {
    "colab": {
     "base_uri": "https://localhost:8080/"
    },
    "id": "Rp--sSR46nhg",
    "outputId": "18d5b4b1-4e53-4722-c1ca-2fadb6122a0c"
   },
   "outputs": [
    {
     "name": "stdout",
     "output_type": "stream",
     "text": [
      "['우진', '시은']\n",
      "['우진', '시은', '메이킷', '소피아', '하워드']\n"
     ]
    }
   ],
   "source": [
    "a = ['우진','시은']\n",
    "b = ['메이킷','소피아','하워드']\n"
   ]
  },
  {
   "cell_type": "code",
   "execution_count": 66,
   "metadata": {
    "id": "B5y1bU6aFztQ"
   },
   "outputs": [],
   "source": [
    "a = ['우진','시은']\n",
    "b = ['메이킷','소피아','하워드']"
   ]
  },
  {
   "cell_type": "code",
   "execution_count": 67,
   "metadata": {
    "colab": {
     "base_uri": "https://localhost:8080/"
    },
    "id": "MnZcuOyYF0Mw",
    "outputId": "d8356636-c9e8-4a34-a876-8aed3ce07295"
   },
   "outputs": [
    {
     "data": {
      "text/plain": [
       "['우진', '시은', '메이킷', '소피아', '하워드']"
      ]
     },
     "execution_count": 67,
     "metadata": {},
     "output_type": "execute_result"
    }
   ],
   "source": [
    "a.extend(b)\n",
    "a"
   ]
  },
  {
   "cell_type": "markdown",
   "metadata": {
    "id": "fv7pf4wi9CNx"
   },
   "source": [
    "## 25. 리스트의 개수인 길이 구하기\n",
    "다음과 같이 코드 실행 결과가 나오도록 코드의 빈칸을 완성하세요.<br>\n",
    "실행결과\n",
    "```\n",
    "리스트 a의 개수 즉 길이는 6\n",
    "리스트 a의 숫자들의 평균은 5.5\n",
    "```\n"
   ]
  },
  {
   "cell_type": "code",
   "execution_count": null,
   "metadata": {
    "colab": {
     "base_uri": "https://localhost:8080/"
    },
    "id": "ddjY_M506um4",
    "outputId": "c74a2dec-e68f-404c-bd43-3fb5165331f1"
   },
   "outputs": [
    {
     "name": "stdout",
     "output_type": "stream",
     "text": [
      "리스트 a의 개수 즉 길이는 6\n",
      "리스트 a의 숫자들의 평균은 5.5\n"
     ]
    }
   ],
   "source": [
    "a = [3, 7, 4, 5, 6, 8]\n"
   ]
  },
  {
   "cell_type": "code",
   "execution_count": 69,
   "metadata": {
    "id": "cA8f7ZqtGN-w"
   },
   "outputs": [],
   "source": [
    "a = [3, 7, 4, 5, 6, 8]"
   ]
  },
  {
   "cell_type": "code",
   "execution_count": 70,
   "metadata": {
    "colab": {
     "base_uri": "https://localhost:8080/"
    },
    "id": "nzlhOsJ8GZap",
    "outputId": "ed4e68f6-cf55-4d8e-a60e-5a97a2a94e67"
   },
   "outputs": [
    {
     "data": {
      "text/plain": [
       "6"
      ]
     },
     "execution_count": 70,
     "metadata": {},
     "output_type": "execute_result"
    }
   ],
   "source": [
    "len(a)"
   ]
  },
  {
   "cell_type": "code",
   "execution_count": 71,
   "metadata": {
    "colab": {
     "base_uri": "https://localhost:8080/"
    },
    "id": "UQ5BwNtPGhaI",
    "outputId": "22379c0e-8c20-4efd-e03b-24ef5e366bbd"
   },
   "outputs": [
    {
     "data": {
      "text/plain": [
       "33"
      ]
     },
     "execution_count": 71,
     "metadata": {},
     "output_type": "execute_result"
    }
   ],
   "source": [
    "sum(a)"
   ]
  },
  {
   "cell_type": "code",
   "execution_count": 73,
   "metadata": {
    "colab": {
     "base_uri": "https://localhost:8080/"
    },
    "id": "VYlacuVvGvR-",
    "outputId": "1fa41533-27a1-4891-f804-880c62fec721"
   },
   "outputs": [
    {
     "data": {
      "text/plain": [
       "5.5"
      ]
     },
     "execution_count": 73,
     "metadata": {},
     "output_type": "execute_result"
    }
   ],
   "source": [
    "avg = sum(a) / len(a)\n",
    "avg"
   ]
  },
  {
   "cell_type": "code",
   "execution_count": 74,
   "metadata": {
    "colab": {
     "base_uri": "https://localhost:8080/"
    },
    "id": "XRCmzZAOGZJF",
    "outputId": "042ffa30-25ac-4ae9-b7a7-b256ea16f05c"
   },
   "outputs": [
    {
     "name": "stdout",
     "output_type": "stream",
     "text": [
      "리스트 a의 개수 즉 길이는 6\n",
      "리스트 a의 숫자들의 평균은 5.5\n"
     ]
    }
   ],
   "source": [
    "print(\"리스트 a의 개수 즉 길이는\", len(a))\n",
    "print(\"리스트 a의 숫자들의 평균은\", avg)"
   ]
  },
  {
   "cell_type": "code",
   "execution_count": null,
   "metadata": {
    "id": "2EsR1XBJGNVO"
   },
   "outputs": [],
   "source": []
  },
  {
   "cell_type": "markdown",
   "metadata": {
    "id": "SLQrHJC59TnO"
   },
   "source": [
    "## 26. 리스트 잘라내기(슬라이싱)\n",
    "다음과 같이 코드 실행 결과가 나오도록 코드의 빈칸을 완성한 전체 코드를 작성하세요.<br>\n",
    "실행결과\n",
    "```\n",
    "b : [1, 2, 3, 4, 5]\n",
    "c : ['a', 'b', 'c', 'd', 'e']\n",
    "d : [5, 'a']\n",
    "e : [1, 3, 5, 'b', 'd']\n",
    "f : [2, 4, 'a', 'c', 'e']\n",
    "```"
   ]
  },
  {
   "cell_type": "code",
   "execution_count": 76,
   "metadata": {
    "id": "B-XoDqOH9hIW"
   },
   "outputs": [],
   "source": [
    "a = [1,2, 3, 4, 5, 'a', 'b', 'c', 'd', 'e']\n"
   ]
  },
  {
   "cell_type": "code",
   "execution_count": 78,
   "metadata": {
    "colab": {
     "base_uri": "https://localhost:8080/"
    },
    "id": "n5ivmcbF9abQ",
    "outputId": "4f0b5594-fc47-4521-e9f7-dca72f772a59"
   },
   "outputs": [
    {
     "data": {
      "text/plain": [
       "[1, 2, 3, 4, 5]"
      ]
     },
     "execution_count": 78,
     "metadata": {},
     "output_type": "execute_result"
    }
   ],
   "source": [
    "a[0:5]"
   ]
  },
  {
   "cell_type": "code",
   "execution_count": 80,
   "metadata": {
    "colab": {
     "base_uri": "https://localhost:8080/"
    },
    "id": "UOsa_Az09abQ",
    "outputId": "8cff9358-8966-479c-e0b7-f0209f66ce8e"
   },
   "outputs": [
    {
     "data": {
      "text/plain": [
       "['a', 'b', 'c', 'd', 'e']"
      ]
     },
     "execution_count": 80,
     "metadata": {},
     "output_type": "execute_result"
    }
   ],
   "source": [
    "a[5:10]"
   ]
  },
  {
   "cell_type": "code",
   "execution_count": 83,
   "metadata": {
    "colab": {
     "base_uri": "https://localhost:8080/"
    },
    "id": "42SaC5Ux9abR",
    "outputId": "6aa339c3-b466-4b18-bfd8-2e1cbc47ed6f"
   },
   "outputs": [
    {
     "data": {
      "text/plain": [
       "[5, 'a']"
      ]
     },
     "execution_count": 83,
     "metadata": {},
     "output_type": "execute_result"
    }
   ],
   "source": [
    "d = [a[4], a[5]]\n",
    "d"
   ]
  },
  {
   "cell_type": "code",
   "execution_count": 84,
   "metadata": {
    "colab": {
     "base_uri": "https://localhost:8080/"
    },
    "id": "FQ6ZN_9S9abS",
    "outputId": "3d662af3-8420-4b89-8f70-5dd6ed5d65cf"
   },
   "outputs": [
    {
     "data": {
      "text/plain": [
       "[1, 3, 5, 'b', 'd']"
      ]
     },
     "execution_count": 84,
     "metadata": {},
     "output_type": "execute_result"
    }
   ],
   "source": [
    "e = [a[0], a[2], a[4], a[6], a[8]]\n",
    "e"
   ]
  },
  {
   "cell_type": "code",
   "execution_count": 85,
   "metadata": {
    "colab": {
     "base_uri": "https://localhost:8080/"
    },
    "id": "_biN0mlp9abS",
    "outputId": "cbbdb9d4-6217-4206-a095-5d5bbf6bbf7f"
   },
   "outputs": [
    {
     "data": {
      "text/plain": [
       "[2, 4, 'a', 'c', 'e']"
      ]
     },
     "execution_count": 85,
     "metadata": {},
     "output_type": "execute_result"
    }
   ],
   "source": [
    "f = [a[1], a[3], a[5], a[7], a[9]]\n",
    "f"
   ]
  },
  {
   "cell_type": "code",
   "execution_count": null,
   "metadata": {
    "id": "mzG85Uua9abT"
   },
   "outputs": [],
   "source": []
  },
  {
   "cell_type": "markdown",
   "metadata": {
    "id": "dMJuqt6U9mh7"
   },
   "source": [
    "## 27. 리스트 거꾸로 잘라내기\n",
    "a = [‘형우’, ’윤진 ', '시은', '우진']과 같은 리스트가 있을 때 리스트 슬라이싱으로 리스트 순서가 거꾸로 바뀐 리스트를 생성해서 출력하세요. 아래 코드의 빈칸을 완성하세요.<br>\n",
    "실행결과\n",
    "```\n",
    "['우진', '시은', '윤진', '형우']\n",
    "```"
   ]
  },
  {
   "cell_type": "code",
   "execution_count": null,
   "metadata": {
    "colab": {
     "base_uri": "https://localhost:8080/"
    },
    "id": "zfR5Q9WU95Pg",
    "outputId": "cdf5fbf1-059d-4ede-c51b-4c49523193e3"
   },
   "outputs": [
    {
     "name": "stdout",
     "output_type": "stream",
     "text": [
      "['우진', '시은', '윤진', '형우']\n"
     ]
    }
   ],
   "source": [
    "a = ['형우', '윤진', '시은', '우진']\n"
   ]
  },
  {
   "cell_type": "code",
   "execution_count": 86,
   "metadata": {
    "id": "QJIAX4KRIGQv"
   },
   "outputs": [],
   "source": [
    "a = ['형우', '윤진', '시은', '우진']"
   ]
  },
  {
   "cell_type": "code",
   "execution_count": 87,
   "metadata": {
    "colab": {
     "base_uri": "https://localhost:8080/"
    },
    "id": "XIokuCjnIGsI",
    "outputId": "ffcb06c1-bef2-42c2-f766-f5349b19efb0"
   },
   "outputs": [
    {
     "name": "stdout",
     "output_type": "stream",
     "text": [
      "['우진', '시은', '윤진', '형우']\n"
     ]
    }
   ],
   "source": [
    "reverse_a = a[::-1]\n",
    "print(reverse_a)"
   ]
  },
  {
   "cell_type": "markdown",
   "metadata": {
    "id": "79_A-L0y99qj"
   },
   "source": [
    "## 28. 리스트 안에 리스트\n",
    "다음과 같이 코드 실행 결과가 나오도록 코드의 빈칸을 완성하세요.<br>\n",
    "```\n",
    "메이킷 학생의 시험 점수는 95\n",
    "우진 학생의 시험 점수는 100\n",
    "시은 학생의 시험 점수는 98\n",
    "```"
   ]
  },
  {
   "cell_type": "code",
   "execution_count": null,
   "metadata": {
    "colab": {
     "base_uri": "https://localhost:8080/"
    },
    "id": "ylsRYcq6-Ir-",
    "outputId": "d34101a2-82bd-4ce2-f183-0ef15e29bbd1"
   },
   "outputs": [
    {
     "name": "stdout",
     "output_type": "stream",
     "text": [
      "메이킷 학생의 시험 점수는 95\n",
      "우진 학생의 시험 점수는 100\n",
      "시은 학생의 시험 점수는 98\n"
     ]
    }
   ],
   "source": [
    "a = [['메이킷', 95], ['우진', 100], ['시은', 98]]\n"
   ]
  },
  {
   "cell_type": "code",
   "execution_count": null,
   "metadata": {
    "id": "lzfheTb39abX"
   },
   "outputs": [],
   "source": [
    "a = [['메이킷', 95], ['우진', 100], ['시은', 98]]"
   ]
  },
  {
   "cell_type": "code",
   "execution_count": null,
   "metadata": {
    "id": "1uU4M4nr9abY",
    "outputId": "fc38c3f0-b142-4215-e8c3-6edbed137686"
   },
   "outputs": [
    {
     "data": {
      "text/plain": [
       "95"
      ]
     },
     "execution_count": 152,
     "metadata": {},
     "output_type": "execute_result"
    }
   ],
   "source": [
    "a[0][1]"
   ]
  },
  {
   "cell_type": "code",
   "execution_count": null,
   "metadata": {
    "id": "Dikg__tN9aba",
    "outputId": "7f4308f8-dc5f-4813-8946-b96a040119c5"
   },
   "outputs": [
    {
     "name": "stdout",
     "output_type": "stream",
     "text": [
      "메이킷 학생의 시험 점수는 95\n",
      "우진 학생의 시험 점수는 100\n",
      "시은 학생의 시험 점수는 98\n"
     ]
    }
   ],
   "source": [
    "print(\"메이킷 학생의 시험 점수는\", a[0][1])\n",
    "print(\"우진 학생의 시험 점수는\", a[1][1])\n",
    "print(\"시은 학생의 시험 점수는\", a[2][1])"
   ]
  },
  {
   "cell_type": "code",
   "execution_count": null,
   "metadata": {
    "id": "5NM3GZWL9abb"
   },
   "outputs": [],
   "source": []
  },
  {
   "cell_type": "code",
   "execution_count": null,
   "metadata": {
    "id": "oPvpbz279abc"
   },
   "outputs": [],
   "source": []
  },
  {
   "cell_type": "markdown",
   "metadata": {
    "id": "G9CIDekV-S0d"
   },
   "source": [
    "## 29. 리스트 안에 있는 문자로 하나의 문자열 만들기(join)\n",
    "a = [‘시은’, ’우진’, ’지연’, ’지훈’]과 같이 우리 반 학생들 이름이 저장된 리스트가 있습니다. 이 리스트의 문자열들을 연결(join)해 하나의 문자열을 만들려고 합니다. 다음과 같이 코드 실행 결과가 나오도록 코드의 빈칸을 완성하세요.<br>\n",
    "실행결과\n",
    "```\n",
    "시은 우진 지훈 지연\n",
    "```"
   ]
  },
  {
   "cell_type": "code",
   "execution_count": null,
   "metadata": {
    "colab": {
     "base_uri": "https://localhost:8080/",
     "height": 36
    },
    "id": "bo3mlVEu-cOI",
    "outputId": "c1303d36-ca91-4957-e0ac-722c1858a5ab"
   },
   "outputs": [
    {
     "data": {
      "application/vnd.google.colaboratory.intrinsic+json": {
       "type": "string"
      },
      "text/plain": [
       "'시은 우진 지훈 지연'"
      ]
     },
     "execution_count": 30,
     "metadata": {},
     "output_type": "execute_result"
    }
   ],
   "source": [
    "a = ['시은', '우진', '지훈', '지연']\n"
   ]
  },
  {
   "cell_type": "code",
   "execution_count": null,
   "metadata": {
    "id": "ow9pm6S89abf"
   },
   "outputs": [],
   "source": [
    "a = ['시은', '우진', '지훈', '지연']"
   ]
  },
  {
   "cell_type": "code",
   "execution_count": null,
   "metadata": {
    "id": "yZ0eHXBK9abg",
    "outputId": "ee6a37a5-467b-45e8-8fd6-9f9ef030accf"
   },
   "outputs": [
    {
     "data": {
      "text/plain": [
       "'시은 우진 지훈 지연'"
      ]
     },
     "execution_count": 160,
     "metadata": {},
     "output_type": "execute_result"
    }
   ],
   "source": [
    "\" \".join(a)"
   ]
  },
  {
   "cell_type": "code",
   "execution_count": null,
   "metadata": {
    "id": "K-RHa2nI9abi"
   },
   "outputs": [],
   "source": []
  },
  {
   "cell_type": "code",
   "execution_count": null,
   "metadata": {
    "id": "2yfw67rT9abi"
   },
   "outputs": [],
   "source": []
  },
  {
   "cell_type": "markdown",
   "metadata": {
    "id": "-DaXcPMx-mo7"
   },
   "source": [
    "## 30. 문자열 분리해 리스트 만들기(split)\n",
    "a = '시은 우진 지훈 지연'과 같이 우리 반 학생들 이름이 저장된 문자열이 있습니다. 공백이 나올 때마다 문자열을 분리해(split) 하나의 리스트를 만들려고 합니다. 다음과 같이 코드 실행 결과가 나오도록 코드의 빈칸을 완성하세요.<br>\n",
    "실행결과\n",
    "```\n",
    "['시은', '우진', '지훈', '지연']\n",
    "```"
   ]
  },
  {
   "cell_type": "code",
   "execution_count": 89,
   "metadata": {
    "id": "60RSwPl4-zWl"
   },
   "outputs": [],
   "source": [
    "a = '시은 우진 지훈 지연'\n"
   ]
  },
  {
   "cell_type": "code",
   "execution_count": 90,
   "metadata": {
    "colab": {
     "base_uri": "https://localhost:8080/"
    },
    "id": "3MJGio5SImKM",
    "outputId": "2bb70889-5e7c-47bb-d1fd-85dbb32d5d28"
   },
   "outputs": [
    {
     "data": {
      "text/plain": [
       "['시은', '우진', '지훈', '지연']"
      ]
     },
     "execution_count": 90,
     "metadata": {},
     "output_type": "execute_result"
    }
   ],
   "source": [
    "a.split()"
   ]
  },
  {
   "cell_type": "code",
   "execution_count": null,
   "metadata": {
    "id": "8o8-VUGGImiu"
   },
   "outputs": [],
   "source": []
  },
  {
   "cell_type": "markdown",
   "metadata": {
    "id": "hDJGBKLF-6AN"
   },
   "source": [
    "## 31. 여러 개의 값 입력받기(input + split)\n",
    "세 개의 숫자를 입력받아 가장 작은 숫자를 출력하는 코드를 작성하세요.<br>\n",
    "입력\n",
    "```\n",
    "10 2 123\n",
    "```\n",
    "출력\n",
    "```\n",
    "2\n",
    "```"
   ]
  },
  {
   "cell_type": "code",
   "execution_count": 97,
   "metadata": {
    "id": "rPjjisG7KluN"
   },
   "outputs": [],
   "source": [
    "if 'min' in globals():\n",
    "    del min"
   ]
  },
  {
   "cell_type": "code",
   "execution_count": 98,
   "metadata": {
    "colab": {
     "base_uri": "https://localhost:8080/"
    },
    "id": "QluFasggJB_P",
    "outputId": "c20dfc56-60e3-40a4-fe25-e138a4c5a8d2"
   },
   "outputs": [
    {
     "name": "stdout",
     "output_type": "stream",
     "text": [
      "숫자를 입력하세요 1 :10\n",
      "숫자를 입력하세요 2 :2\n",
      "숫자를 입력하세요 3 :123\n",
      "가장 작은 숫자는 2 입니다\n"
     ]
    }
   ],
   "source": [
    "a = int(input(\"숫자를 입력하세요 1 :\"))\n",
    "b = int(input(\"숫자를 입력하세요 2 :\"))\n",
    "c = int(input(\"숫자를 입력하세요 3 :\"))\n",
    "small_num = min(a, b, c)\n",
    "print(\"가장 작은 숫자는\", small_num, \"입니다\")"
   ]
  },
  {
   "cell_type": "code",
   "execution_count": null,
   "metadata": {
    "colab": {
     "base_uri": "https://localhost:8080/",
     "height": 223
    },
    "id": "GtkXzx07XXu4",
    "outputId": "4a2c16bc-7915-4063-ed7d-18fbac396fb3"
   },
   "outputs": [
    {
     "name": "stdout",
     "output_type": "stream",
     "text": [
      "10 2 123\n"
     ]
    },
    {
     "ename": "TypeError",
     "evalue": "ignored",
     "output_type": "error",
     "traceback": [
      "\u001b[0;31m---------------------------------------------------------------------------\u001b[0m",
      "\u001b[0;31mTypeError\u001b[0m                                 Traceback (most recent call last)",
      "\u001b[0;32m<ipython-input-32-5c94f775ff80>\u001b[0m in \u001b[0;36m<cell line: 2>\u001b[0;34m()\u001b[0m\n\u001b[1;32m      1\u001b[0m \u001b[0mx1\u001b[0m\u001b[0;34m,\u001b[0m \u001b[0my1\u001b[0m\u001b[0;34m,\u001b[0m \u001b[0mz1\u001b[0m \u001b[0;34m=\u001b[0m \u001b[0mmap\u001b[0m\u001b[0;34m(\u001b[0m\u001b[0mint\u001b[0m\u001b[0;34m,\u001b[0m \u001b[0minput\u001b[0m\u001b[0;34m(\u001b[0m\u001b[0;34m)\u001b[0m\u001b[0;34m.\u001b[0m\u001b[0msplit\u001b[0m\u001b[0;34m(\u001b[0m\u001b[0;34m)\u001b[0m\u001b[0;34m)\u001b[0m\u001b[0;34m\u001b[0m\u001b[0;34m\u001b[0m\u001b[0m\n\u001b[0;32m----> 2\u001b[0;31m \u001b[0mprint\u001b[0m\u001b[0;34m(\u001b[0m\u001b[0mmin\u001b[0m\u001b[0;34m(\u001b[0m\u001b[0mx1\u001b[0m\u001b[0;34m,\u001b[0m \u001b[0my1\u001b[0m\u001b[0;34m,\u001b[0m \u001b[0mz1\u001b[0m\u001b[0;34m)\u001b[0m\u001b[0;34m)\u001b[0m\u001b[0;34m\u001b[0m\u001b[0;34m\u001b[0m\u001b[0m\n\u001b[0m",
      "\u001b[0;31mTypeError\u001b[0m: 'int' object is not callable"
     ]
    }
   ],
   "source": []
  }
 ],
 "metadata": {
  "colab": {
   "provenance": []
  },
  "kernelspec": {
   "display_name": "Python 3 (ipykernel)",
   "language": "python",
   "name": "python3"
  },
  "language_info": {
   "codemirror_mode": {
    "name": "ipython",
    "version": 3
   },
   "file_extension": ".py",
   "mimetype": "text/x-python",
   "name": "python",
   "nbconvert_exporter": "python",
   "pygments_lexer": "ipython3",
   "version": "3.10.14"
  }
 },
 "nbformat": 4,
 "nbformat_minor": 0
}
