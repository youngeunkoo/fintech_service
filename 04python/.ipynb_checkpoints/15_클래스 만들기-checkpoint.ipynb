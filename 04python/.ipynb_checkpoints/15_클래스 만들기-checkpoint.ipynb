{
 "cells": [
  {
   "cell_type": "markdown",
   "id": "957e475d",
   "metadata": {},
   "source": [
    "# 클래스 만들기 \n",
    "<br>\n",
    "* 클래스는 객체지향 프로그래밍의 핵심 <br>\n",
    "* 클래스는 하나에 여러개의 함수(메서드 method) 를 포함 <br>\n",
    "* 클래스 = 커피머신 공장  <br>\n",
    "* 메서드 = 커피머신의 기능 (에스프레소 , 아메리카노, 카페라떼, 카푸치노) "
   ]
  },
  {
   "cell_type": "markdown",
   "id": "78ff8c4b",
   "metadata": {},
   "source": [
    "< 더하기 함수 만들기 >"
   ]
  },
  {
   "cell_type": "code",
   "execution_count": 6,
   "id": "ac36f01b",
   "metadata": {},
   "outputs": [],
   "source": [
    "def add(num1, num2):\n",
    "    result = num1 + num2\n",
    "    return result\n"
   ]
  },
  {
   "cell_type": "code",
   "execution_count": 7,
   "id": "9e1d76f1",
   "metadata": {},
   "outputs": [
    {
     "data": {
      "text/plain": [
       "7"
      ]
     },
     "execution_count": 7,
     "metadata": {},
     "output_type": "execute_result"
    }
   ],
   "source": [
    "add(3,4)"
   ]
  },
  {
   "cell_type": "code",
   "execution_count": 8,
   "id": "b293fdfa",
   "metadata": {},
   "outputs": [
    {
     "data": {
      "text/plain": [
       "13"
      ]
     },
     "execution_count": 8,
     "metadata": {},
     "output_type": "execute_result"
    }
   ],
   "source": [
    "add(3,10)"
   ]
  },
  {
   "cell_type": "markdown",
   "id": "bb8924f6",
   "metadata": {},
   "source": []
  },
  {
   "cell_type": "markdown",
   "id": "71ebded5",
   "metadata": {},
   "source": [
    "### globals "
   ]
  },
  {
   "cell_type": "code",
   "execution_count": 13,
   "id": "4c631e30",
   "metadata": {},
   "outputs": [],
   "source": [
    "result = 0\n",
    "def add(num):\n",
    "    global result\n",
    "    result += num\n",
    "    return result \n"
   ]
  },
  {
   "cell_type": "code",
   "execution_count": 19,
   "id": "d18fcc4c",
   "metadata": {},
   "outputs": [
    {
     "data": {
      "text/plain": [
       "4"
      ]
     },
     "execution_count": 19,
     "metadata": {},
     "output_type": "execute_result"
    }
   ],
   "source": [
    "add(2)"
   ]
  },
  {
   "cell_type": "code",
   "execution_count": 20,
   "id": "8b5df1de",
   "metadata": {},
   "outputs": [
    {
     "data": {
      "text/plain": [
       "6"
      ]
     },
     "execution_count": 20,
     "metadata": {},
     "output_type": "execute_result"
    }
   ],
   "source": [
    "add(2)"
   ]
  },
  {
   "cell_type": "code",
   "execution_count": 14,
   "id": "a7e68178",
   "metadata": {
    "scrolled": true
   },
   "outputs": [
    {
     "data": {
      "text/plain": [
       "3"
      ]
     },
     "execution_count": 14,
     "metadata": {},
     "output_type": "execute_result"
    }
   ],
   "source": [
    "add(3)"
   ]
  },
  {
   "cell_type": "code",
   "execution_count": 15,
   "id": "7d9bb790",
   "metadata": {},
   "outputs": [
    {
     "data": {
      "text/plain": [
       "9"
      ]
     },
     "execution_count": 15,
     "metadata": {},
     "output_type": "execute_result"
    }
   ],
   "source": [
    "add(6)"
   ]
  },
  {
   "cell_type": "code",
   "execution_count": 16,
   "id": "06c4b568",
   "metadata": {},
   "outputs": [
    {
     "data": {
      "text/plain": [
       "21"
      ]
     },
     "execution_count": 16,
     "metadata": {},
     "output_type": "execute_result"
    }
   ],
   "source": [
    "add(12)"
   ]
  },
  {
   "cell_type": "code",
   "execution_count": 30,
   "id": "e3888b7e",
   "metadata": {},
   "outputs": [],
   "source": [
    "result_cal = 0\n",
    "def add(num):\n",
    "    global result_cal\n",
    "    result_cal += num\n",
    "    return result_cal \n",
    "\n",
    "\n",
    "# 계산기라고 생각하기  - 과거의 이력에 덧붙여져 계산됨"
   ]
  },
  {
   "cell_type": "code",
   "execution_count": 22,
   "id": "2f64cd56",
   "metadata": {},
   "outputs": [
    {
     "data": {
      "text/plain": [
       "2"
      ]
     },
     "execution_count": 22,
     "metadata": {},
     "output_type": "execute_result"
    }
   ],
   "source": [
    "add(2)"
   ]
  },
  {
   "cell_type": "code",
   "execution_count": 23,
   "id": "37db074b",
   "metadata": {},
   "outputs": [
    {
     "data": {
      "text/plain": [
       "4"
      ]
     },
     "execution_count": 23,
     "metadata": {},
     "output_type": "execute_result"
    }
   ],
   "source": [
    "add(2)"
   ]
  },
  {
   "cell_type": "code",
   "execution_count": 24,
   "id": "046ff997",
   "metadata": {},
   "outputs": [
    {
     "data": {
      "text/plain": [
       "6"
      ]
     },
     "execution_count": 24,
     "metadata": {},
     "output_type": "execute_result"
    }
   ],
   "source": [
    "add(2)"
   ]
  },
  {
   "cell_type": "code",
   "execution_count": 31,
   "id": "1bfe6344",
   "metadata": {},
   "outputs": [
    {
     "data": {
      "text/plain": [
       "2"
      ]
     },
     "execution_count": 31,
     "metadata": {},
     "output_type": "execute_result"
    }
   ],
   "source": [
    "add(2)"
   ]
  },
  {
   "cell_type": "code",
   "execution_count": 26,
   "id": "39628965",
   "metadata": {},
   "outputs": [],
   "source": [
    "result = 0\n",
    "def add2(num, result = 0):\n",
    "    result += num\n",
    "    return result\n",
    "\n",
    "# add2 ( ) 안에 초기화 했기 때문에 누적되지 않음. "
   ]
  },
  {
   "cell_type": "code",
   "execution_count": 27,
   "id": "19b534c6",
   "metadata": {},
   "outputs": [
    {
     "data": {
      "text/plain": [
       "3"
      ]
     },
     "execution_count": 27,
     "metadata": {},
     "output_type": "execute_result"
    }
   ],
   "source": [
    "add2(3)"
   ]
  },
  {
   "cell_type": "code",
   "execution_count": 28,
   "id": "8136d19e",
   "metadata": {},
   "outputs": [
    {
     "data": {
      "text/plain": [
       "3"
      ]
     },
     "execution_count": 28,
     "metadata": {},
     "output_type": "execute_result"
    }
   ],
   "source": [
    "add2(3)"
   ]
  },
  {
   "cell_type": "code",
   "execution_count": 29,
   "id": "b47885af",
   "metadata": {},
   "outputs": [
    {
     "data": {
      "text/plain": [
       "3"
      ]
     },
     "execution_count": 29,
     "metadata": {},
     "output_type": "execute_result"
    }
   ],
   "source": [
    "add2(3)"
   ]
  },
  {
   "cell_type": "markdown",
   "id": "024ca010",
   "metadata": {},
   "source": [
    "* 위의 방식으로 함수를 만들면 이전 데이터를 기억하게 할 수 있지만, 초기화를 하거나 여러사람이 사용하면서 각기 다른 사람이 계산을 할 수 없다. <br> 그리고 사용자가 늘어나면 변수와 함수를 따로 만들어야 한다. <br>  <br>\n",
    "\n",
    "* 그래서 여러 사람이 각자 다른 계산을 할 수 있고, 이전 값을 기억할 수 있도록 만들려면 클래스를 이용해서 만들어야 한다. "
   ]
  },
  {
   "cell_type": "markdown",
   "id": "606b9bd7",
   "metadata": {},
   "source": [
    "#### <클래스로 계산기 만들기>   <br>\n",
    "class 클래스명ClassName     # 클래스명을 만들때는 대문자로 시작하고 카멜 표기법을 사용함  <br>\n",
    "______def 메소드명( ) : <br>\n",
    "_________ 실행할 코드  <br>\n"
   ]
  },
  {
   "cell_type": "code",
   "execution_count": 47,
   "id": "ff5d8c3a",
   "metadata": {},
   "outputs": [],
   "source": [
    "class Calculator():\n",
    "    def __init__(self):    # self는 Calculator()\n",
    "        self.result = 0 \n",
    "    def add(self, num):   # self는 Calculator.add(num)\n",
    "        self.result += num\n",
    "        return self.result"
   ]
  },
  {
   "cell_type": "markdown",
   "id": "eb4c2507",
   "metadata": {},
   "source": [
    "< 클래스 사용방법 >\n",
    "* 변수에 클래스를 담아서 인스턴스 생성\n",
    "* 인스턴스 변수명 = 클래스명(   )으로 생성할 수 있다.\n",
    "* 인스턴스를 생성하고 나면 인스턴스.메소드 형식으로 클래스에 정의한 메소드를 사용할 수 있다. "
   ]
  },
  {
   "cell_type": "code",
   "execution_count": 48,
   "id": "3d6f79f7",
   "metadata": {},
   "outputs": [],
   "source": [
    "# cal1 변수에 Calculator() 클래스를 담아 인스턴스 생성\n",
    "\n",
    "cal1 = Calculator()\n"
   ]
  },
  {
   "cell_type": "code",
   "execution_count": 49,
   "id": "390bcbc5",
   "metadata": {},
   "outputs": [
    {
     "name": "stdout",
     "output_type": "stream",
     "text": [
      "<__main__.Calculator object at 0x0000027C87188E20>\n"
     ]
    }
   ],
   "source": [
    "print(cal1)"
   ]
  },
  {
   "cell_type": "code",
   "execution_count": 50,
   "id": "9c036d63",
   "metadata": {},
   "outputs": [
    {
     "name": "stdout",
     "output_type": "stream",
     "text": [
      "<class '__main__.Calculator'>\n"
     ]
    }
   ],
   "source": [
    "print(type(cal1))"
   ]
  },
  {
   "cell_type": "code",
   "execution_count": null,
   "id": "dbc5f6d9",
   "metadata": {},
   "outputs": [],
   "source": []
  },
  {
   "cell_type": "code",
   "execution_count": 51,
   "id": "494011c6",
   "metadata": {},
   "outputs": [],
   "source": [
    "cal2 = Calculator()"
   ]
  },
  {
   "cell_type": "code",
   "execution_count": 52,
   "id": "ed65c90f",
   "metadata": {},
   "outputs": [
    {
     "data": {
      "text/plain": [
       "2"
      ]
     },
     "execution_count": 52,
     "metadata": {},
     "output_type": "execute_result"
    }
   ],
   "source": [
    "cal2.add(2)"
   ]
  },
  {
   "cell_type": "code",
   "execution_count": 53,
   "id": "6edbac2b",
   "metadata": {},
   "outputs": [],
   "source": [
    "cal3 = Calculator()"
   ]
  },
  {
   "cell_type": "code",
   "execution_count": 54,
   "id": "687cb452",
   "metadata": {},
   "outputs": [
    {
     "data": {
      "text/plain": [
       "100"
      ]
     },
     "execution_count": 54,
     "metadata": {},
     "output_type": "execute_result"
    }
   ],
   "source": [
    "cal3.add(100)"
   ]
  },
  {
   "cell_type": "markdown",
   "id": "56f63afd",
   "metadata": {},
   "source": [
    "### 한번 만들면 계속 쓸 수 있다는 장점이 있다. "
   ]
  },
  {
   "cell_type": "markdown",
   "id": "55fd2215",
   "metadata": {},
   "source": [
    "* 객체지향 프로그래밍 --> 클래스 "
   ]
  },
  {
   "cell_type": "markdown",
   "id": "ce8e3d2f",
   "metadata": {},
   "source": [
    "* Calculator 클래스로 만들 별개의 계산기 cal1, cal2 를 파이썬에서는 인스턴스(instance) 혹은 객체(object)라고 부른다. \n",
    "* 각각의 인스턴스는 독립적으로 역할을 수행 \n",
    "* 계산기 cal1과 cal2의 결과값은 서로 독립적으로 유지한다. \n",
    "* 클래스 = 커피머신 공장에서 만든 커피머신이고\n",
    "* 인스턴스 = 커피머신을 산 고객\n",
    "* 같은 기계를 가지고 있기 때문에 동일한 기능을 가짐\n",
    "* 사용자에 따라서 각기 다르게 사용된다. "
   ]
  },
  {
   "cell_type": "code",
   "execution_count": 68,
   "id": "957e638c",
   "metadata": {},
   "outputs": [],
   "source": [
    "class Calculator():\n",
    "    def __init__(self):    # self는 Calculator()\n",
    "        self.result = 0 \n",
    "        \n",
    "    def add(self, num):   # self는 Calculator.add(num)\n",
    "        self.result += num\n",
    "        return self.result\n",
    "    \n",
    "    def sub(self, num):\n",
    "        self.result -= num \n",
    "        return self.result \n",
    "    \n",
    "    \n",
    "    # 반복해서 사용할 수 있음 ~ "
   ]
  },
  {
   "cell_type": "code",
   "execution_count": 56,
   "id": "069aaaec",
   "metadata": {},
   "outputs": [],
   "source": [
    "james = Calculator()"
   ]
  },
  {
   "cell_type": "code",
   "execution_count": 57,
   "id": "afed93c4",
   "metadata": {},
   "outputs": [
    {
     "data": {
      "text/plain": [
       "3"
      ]
     },
     "execution_count": 57,
     "metadata": {},
     "output_type": "execute_result"
    }
   ],
   "source": [
    "\n",
    "james.add(3)"
   ]
  },
  {
   "cell_type": "code",
   "execution_count": 58,
   "id": "b087fbe6",
   "metadata": {},
   "outputs": [
    {
     "data": {
      "text/plain": [
       "8"
      ]
     },
     "execution_count": 58,
     "metadata": {},
     "output_type": "execute_result"
    }
   ],
   "source": [
    "james.add(5)"
   ]
  },
  {
   "cell_type": "code",
   "execution_count": 59,
   "id": "1ee64c10",
   "metadata": {},
   "outputs": [
    {
     "data": {
      "text/plain": [
       "3"
      ]
     },
     "execution_count": 59,
     "metadata": {},
     "output_type": "execute_result"
    }
   ],
   "source": [
    "james.sub(5)"
   ]
  },
  {
   "cell_type": "code",
   "execution_count": 63,
   "id": "4dab614b",
   "metadata": {},
   "outputs": [
    {
     "data": {
      "text/plain": [
       "-11"
      ]
     },
     "execution_count": 63,
     "metadata": {},
     "output_type": "execute_result"
    }
   ],
   "source": [
    "james.sub(7)"
   ]
  },
  {
   "cell_type": "code",
   "execution_count": 65,
   "id": "f217a1cb",
   "metadata": {},
   "outputs": [],
   "source": [
    "susan = Calculator()"
   ]
  },
  {
   "cell_type": "code",
   "execution_count": 66,
   "id": "22863dfa",
   "metadata": {},
   "outputs": [
    {
     "data": {
      "text/plain": [
       "-2"
      ]
     },
     "execution_count": 66,
     "metadata": {},
     "output_type": "execute_result"
    }
   ],
   "source": [
    "susan.sub(2)"
   ]
  },
  {
   "cell_type": "code",
   "execution_count": 67,
   "id": "789698b9",
   "metadata": {
    "scrolled": true
   },
   "outputs": [
    {
     "data": {
      "text/plain": [
       "3"
      ]
     },
     "execution_count": 67,
     "metadata": {},
     "output_type": "execute_result"
    }
   ],
   "source": [
    "susan.add(5)"
   ]
  },
  {
   "cell_type": "markdown",
   "id": "474aa330",
   "metadata": {},
   "source": [
    "## 매소드(method) \n",
    "\n",
    "* class 안에 정의하는 함수\n",
    "* 클래스에 기능을 만들어 준다.\n",
    "<br><br>\n",
    "\n",
    "def 매소드명( self, 매개변수 , num2 ) : <br>\n",
    "____ self.매개변수 = 매개변수 <br>\n",
    "____ self.num2 = num2 "
   ]
  },
  {
   "cell_type": "markdown",
   "id": "f2eae983",
   "metadata": {},
   "source": []
  },
  {
   "cell_type": "markdown",
   "id": "0e521600",
   "metadata": {},
   "source": [
    "< 사칙연산이 가능한 FourCal 계산기 만들기 > "
   ]
  },
  {
   "cell_type": "code",
   "execution_count": 104,
   "id": "7071684f",
   "metadata": {},
   "outputs": [],
   "source": [
    "# FourCal 이라는 클래스를 만들고 숫자를 입력받는 setdata 매소드 만들기\n",
    "# add 기능 추가하기 \n",
    "\n",
    "\n",
    "class FourCal():\n",
    "    def setdata(self, num1, num2):\n",
    "        self.num1 = num1\n",
    "        self.num2 = num2\n",
    "        print(\"self.num1: \", self.num1)\n",
    "        print(\"self.num2: \", self.num2)\n",
    "        \n",
    "    def add(self):\n",
    "        result = self.num1 + self.num2\n",
    "        return result\n",
    "    \n",
    "    def sub(self):\n",
    "        result = self.num1 - self.num2\n",
    "        return result\n",
    "    \n",
    "    def mul(self):\n",
    "        result = self.num1 * self.num2\n",
    "        return result\n",
    "    \n",
    "    def div(self):\n",
    "        result = self.num1 / self.num2\n",
    "        return result"
   ]
  },
  {
   "cell_type": "code",
   "execution_count": 105,
   "id": "b8640646",
   "metadata": {},
   "outputs": [],
   "source": [
    "sam = FourCal()"
   ]
  },
  {
   "cell_type": "code",
   "execution_count": 106,
   "id": "294a60cd",
   "metadata": {},
   "outputs": [
    {
     "name": "stdout",
     "output_type": "stream",
     "text": [
      "self.num1:  4\n",
      "self.num2:  3\n"
     ]
    }
   ],
   "source": [
    "sam.setdata(4,3)"
   ]
  },
  {
   "cell_type": "code",
   "execution_count": 107,
   "id": "5b231cc0",
   "metadata": {},
   "outputs": [
    {
     "data": {
      "text/plain": [
       "7"
      ]
     },
     "execution_count": 107,
     "metadata": {},
     "output_type": "execute_result"
    }
   ],
   "source": [
    "# sam.setdata(4,3) 여기서 두 숫자로만 한 것.\n",
    "\n",
    "\n",
    "sam.add()"
   ]
  },
  {
   "cell_type": "code",
   "execution_count": 108,
   "id": "c095ad82",
   "metadata": {},
   "outputs": [
    {
     "data": {
      "text/plain": [
       "1"
      ]
     },
     "execution_count": 108,
     "metadata": {},
     "output_type": "execute_result"
    }
   ],
   "source": [
    "# sam.setdata(4,3) 여기서 두 숫자로만 한 것.\n",
    "\n",
    "sam.sub()"
   ]
  },
  {
   "cell_type": "code",
   "execution_count": 109,
   "id": "bcfc9498",
   "metadata": {},
   "outputs": [
    {
     "data": {
      "text/plain": [
       "12"
      ]
     },
     "execution_count": 109,
     "metadata": {},
     "output_type": "execute_result"
    }
   ],
   "source": [
    "# sam.setdata(4,3) 여기서 두 숫자로만 한 것.\n",
    "\n",
    "sam.mul()"
   ]
  },
  {
   "cell_type": "code",
   "execution_count": 110,
   "id": "1ba17f30",
   "metadata": {},
   "outputs": [
    {
     "data": {
      "text/plain": [
       "1.3333333333333333"
      ]
     },
     "execution_count": 110,
     "metadata": {},
     "output_type": "execute_result"
    }
   ],
   "source": [
    "# sam.setdata(4,3) 여기서 두 숫자로만 한 것.\n",
    "\n",
    "sam.div()"
   ]
  },
  {
   "cell_type": "markdown",
   "id": "5d771c10",
   "metadata": {},
   "source": [
    "## 생성자 \n",
    "* 객체에 num1, num2 와 같은 초기값을 설정해야 할 필요가 있을 때, setmethod와 같은 것을 호출해서 초기값을 설정하는 것보다 생성자를 만들어서 인스턴스를 생성할 때 값을 바로 받는 것이 더 좋다. \n",
    "* 생성자(constructor) 란, 객체가 생성될 때 자동으로 호출되는 매서드 \n",
    "* class 내에서 매서드명으로 \\_\\_init_\\_\\  를 사용하면 그것이 생성자가 된다. \n",
    "\n",
    "init : initionalize ? "
   ]
  },
  {
   "cell_type": "code",
   "execution_count": 60,
   "id": "a8ad990b",
   "metadata": {},
   "outputs": [],
   "source": [
    "class FourCal2():\n",
    "    def __init__(self, num1, num2): # 생성자\n",
    "        self.num1 = num1   # self.num1 인스턴스 변수 \n",
    "        self.num2 = num2   # self.num2 인스턴스 변수 \n",
    "        \n",
    "    def add(self):\n",
    "        result = self.num1 + self.num2 \n",
    "        return result \n",
    "    \n",
    "    def sub(self):\n",
    "        result = self.num1 - self.num2\n",
    "        return result\n",
    "    \n",
    "    def mul(self):\n",
    "        result = self.num1 * self.num2\n",
    "        return result\n",
    "    \n",
    "    def div(self):\n",
    "        result = self.num1 / self.num2\n",
    "        return result\n",
    "        "
   ]
  },
  {
   "cell_type": "code",
   "execution_count": 61,
   "id": "ddf2a6b7",
   "metadata": {},
   "outputs": [],
   "source": [
    "james = FourCal2(100, 25)\n",
    "\n",
    "# 초기값을 100과 25를 받음 "
   ]
  },
  {
   "cell_type": "code",
   "execution_count": 62,
   "id": "2fe7190a",
   "metadata": {},
   "outputs": [
    {
     "data": {
      "text/plain": [
       "125"
      ]
     },
     "execution_count": 62,
     "metadata": {},
     "output_type": "execute_result"
    }
   ],
   "source": [
    "james.add()"
   ]
  },
  {
   "cell_type": "code",
   "execution_count": 63,
   "id": "505347c8",
   "metadata": {},
   "outputs": [
    {
     "data": {
      "text/plain": [
       "75"
      ]
     },
     "execution_count": 63,
     "metadata": {},
     "output_type": "execute_result"
    }
   ],
   "source": [
    "james.sub()"
   ]
  },
  {
   "cell_type": "code",
   "execution_count": 64,
   "id": "4351e739",
   "metadata": {},
   "outputs": [
    {
     "data": {
      "text/plain": [
       "2500"
      ]
     },
     "execution_count": 64,
     "metadata": {},
     "output_type": "execute_result"
    }
   ],
   "source": [
    "james.mul()"
   ]
  },
  {
   "cell_type": "code",
   "execution_count": 65,
   "id": "dae0b9a9",
   "metadata": {},
   "outputs": [
    {
     "data": {
      "text/plain": [
       "4.0"
      ]
     },
     "execution_count": 65,
     "metadata": {},
     "output_type": "execute_result"
    }
   ],
   "source": [
    "james.div()"
   ]
  },
  {
   "cell_type": "markdown",
   "id": "e656a237",
   "metadata": {},
   "source": []
  },
  {
   "cell_type": "markdown",
   "id": "a9222097",
   "metadata": {},
   "source": [
    "## 클래스의 상속\n",
    "* 어떤 클래스를 만들 때, 다른 클래스의 기능을 물려받는 것 = 상속\n",
    "* 기존 클래스 + 기능을 추가할 때\n",
    "* 상속은 대부분 기능을 추가할 때, 사용하게 된다 \n",
    "* A 클래스를 상속받아 B 클래스를 생성한다고 할 때, B 클래스는 A 클래스의 모든 기능을 사용할 수 있다. \n"
   ]
  },
  {
   "cell_type": "markdown",
   "id": "f15f8e5e",
   "metadata": {},
   "source": [
    "FourCal 을 상속받아 제곱 기능을 추가한 MoreFourCal "
   ]
  },
  {
   "cell_type": "code",
   "execution_count": 66,
   "id": "1782c18b",
   "metadata": {},
   "outputs": [],
   "source": [
    "class MoreFourCal(FourCal2):  #  괄호 안에 부모클래스 'FourCal' 넣으면 상속 완료!\n",
    "    def pow(self):\n",
    "        result = self.num1 ** self.num2 \n",
    "        return result \n",
    "    \n"
   ]
  },
  {
   "cell_type": "code",
   "execution_count": 67,
   "id": "fabf6f08",
   "metadata": {},
   "outputs": [],
   "source": [
    "sally = MoreFourCal(100,4)"
   ]
  },
  {
   "cell_type": "code",
   "execution_count": 68,
   "id": "ecd3c662",
   "metadata": {},
   "outputs": [
    {
     "data": {
      "text/plain": [
       "100000000"
      ]
     },
     "execution_count": 68,
     "metadata": {},
     "output_type": "execute_result"
    }
   ],
   "source": [
    "sally.pow()"
   ]
  },
  {
   "cell_type": "code",
   "execution_count": 69,
   "id": "995d6d4c",
   "metadata": {},
   "outputs": [
    {
     "data": {
      "text/plain": [
       "104"
      ]
     },
     "execution_count": 69,
     "metadata": {},
     "output_type": "execute_result"
    }
   ],
   "source": [
    "sally.add()"
   ]
  },
  {
   "cell_type": "code",
   "execution_count": 70,
   "id": "c81c5547",
   "metadata": {},
   "outputs": [
    {
     "data": {
      "text/plain": [
       "25.0"
      ]
     },
     "execution_count": 70,
     "metadata": {},
     "output_type": "execute_result"
    }
   ],
   "source": [
    "sally.div()"
   ]
  },
  {
   "cell_type": "code",
   "execution_count": 71,
   "id": "698b4e8e",
   "metadata": {},
   "outputs": [
    {
     "data": {
      "text/plain": [
       "100000000"
      ]
     },
     "execution_count": 71,
     "metadata": {},
     "output_type": "execute_result"
    }
   ],
   "source": [
    "sally.pow()"
   ]
  },
  {
   "cell_type": "code",
   "execution_count": null,
   "id": "26cf9222",
   "metadata": {},
   "outputs": [],
   "source": []
  },
  {
   "cell_type": "markdown",
   "id": "e574d767",
   "metadata": {},
   "source": [
    "## 매서드 오버라이딩 method overriding \n",
    "\n",
    "* 무시하고 지나간다? \n",
    "* 부모클래스에서 상속한 매서드를 자식클래스에서 동일한 이름으로 다시 재정의하는 것."
   ]
  },
  {
   "cell_type": "code",
   "execution_count": 72,
   "id": "d606ba15",
   "metadata": {},
   "outputs": [],
   "source": [
    "john = FourCal2(4, 0)"
   ]
  },
  {
   "cell_type": "code",
   "execution_count": 73,
   "id": "cef7618c",
   "metadata": {},
   "outputs": [
    {
     "data": {
      "text/plain": [
       "4"
      ]
     },
     "execution_count": 73,
     "metadata": {},
     "output_type": "execute_result"
    }
   ],
   "source": [
    "john.add()"
   ]
  },
  {
   "cell_type": "code",
   "execution_count": 74,
   "id": "97d71bb4",
   "metadata": {},
   "outputs": [
    {
     "data": {
      "text/plain": [
       "4"
      ]
     },
     "execution_count": 74,
     "metadata": {},
     "output_type": "execute_result"
    }
   ],
   "source": [
    "john.sub()"
   ]
  },
  {
   "cell_type": "code",
   "execution_count": 75,
   "id": "bd16fba5",
   "metadata": {},
   "outputs": [
    {
     "ename": "ZeroDivisionError",
     "evalue": "division by zero",
     "output_type": "error",
     "traceback": [
      "\u001b[1;31m---------------------------------------------------------------------------\u001b[0m",
      "\u001b[1;31mZeroDivisionError\u001b[0m                         Traceback (most recent call last)",
      "Cell \u001b[1;32mIn[75], line 1\u001b[0m\n\u001b[1;32m----> 1\u001b[0m \u001b[43mjohn\u001b[49m\u001b[38;5;241;43m.\u001b[39;49m\u001b[43mdiv\u001b[49m\u001b[43m(\u001b[49m\u001b[43m)\u001b[49m\n\u001b[0;32m      4\u001b[0m \u001b[38;5;66;03m# 에러난 이유 : 0으로 나누려고 했기 때문에! division by zero\u001b[39;00m\n\u001b[0;32m      5\u001b[0m \u001b[38;5;66;03m# 이를 고치기 위해 ~ 매서드 오버라이딩을 사용\u001b[39;00m\n",
      "Cell \u001b[1;32mIn[60], line 19\u001b[0m, in \u001b[0;36mFourCal2.div\u001b[1;34m(self)\u001b[0m\n\u001b[0;32m     18\u001b[0m \u001b[38;5;28;01mdef\u001b[39;00m \u001b[38;5;21mdiv\u001b[39m(\u001b[38;5;28mself\u001b[39m):\n\u001b[1;32m---> 19\u001b[0m     result \u001b[38;5;241m=\u001b[39m \u001b[38;5;28;43mself\u001b[39;49m\u001b[38;5;241;43m.\u001b[39;49m\u001b[43mnum1\u001b[49m\u001b[43m \u001b[49m\u001b[38;5;241;43m/\u001b[39;49m\u001b[43m \u001b[49m\u001b[38;5;28;43mself\u001b[39;49m\u001b[38;5;241;43m.\u001b[39;49m\u001b[43mnum2\u001b[49m\n\u001b[0;32m     20\u001b[0m     \u001b[38;5;28;01mreturn\u001b[39;00m result\n",
      "\u001b[1;31mZeroDivisionError\u001b[0m: division by zero"
     ]
    }
   ],
   "source": [
    "john.div()\n",
    "\n",
    "\n",
    "# 에러난 이유 : 0으로 나누려고 했기 때문에! division by zero\n",
    "# 이를 고치기 위해 ~ 매서드 오버라이딩을 사용"
   ]
  },
  {
   "cell_type": "markdown",
   "id": "32bc0ec9",
   "metadata": {},
   "source": [
    "FourCal2 는 num2에 0이 입력될 경우 나눗셈시 0을 나누게 되기 때문에 에러발생  <br>\n",
    "SafeFourCal 를 만들고 FourCal2 를 상속받은 후 div 함수를 재정의하여 에러를 없앰 <br>\n",
    "\n",
    "* 즉, 에러 나는 것만 고치면 됨!"
   ]
  },
  {
   "cell_type": "code",
   "execution_count": 76,
   "id": "ad906c2e",
   "metadata": {},
   "outputs": [],
   "source": [
    "class SafeFourCal(FourCal2):\n",
    "    def div(self):\n",
    "        if self.num2 == 0:\n",
    "            return 0\n",
    "        else:\n",
    "            return self.num1 / self.num2 \n",
    "        "
   ]
  },
  {
   "cell_type": "code",
   "execution_count": 77,
   "id": "dff14401",
   "metadata": {},
   "outputs": [],
   "source": [
    "john = SafeFourCal(4, 0)"
   ]
  },
  {
   "cell_type": "code",
   "execution_count": 78,
   "id": "67041fa6",
   "metadata": {},
   "outputs": [
    {
     "data": {
      "text/plain": [
       "0"
      ]
     },
     "execution_count": 78,
     "metadata": {},
     "output_type": "execute_result"
    }
   ],
   "source": [
    "john.div()"
   ]
  },
  {
   "cell_type": "code",
   "execution_count": 79,
   "id": "92f1debb",
   "metadata": {},
   "outputs": [
    {
     "data": {
      "text/plain": [
       "4"
      ]
     },
     "execution_count": 79,
     "metadata": {},
     "output_type": "execute_result"
    }
   ],
   "source": [
    "john.add()"
   ]
  },
  {
   "cell_type": "code",
   "execution_count": 80,
   "id": "ffb557c8",
   "metadata": {},
   "outputs": [
    {
     "data": {
      "text/plain": [
       "4"
      ]
     },
     "execution_count": 80,
     "metadata": {},
     "output_type": "execute_result"
    }
   ],
   "source": [
    "john.sub()"
   ]
  },
  {
   "cell_type": "code",
   "execution_count": null,
   "id": "206b6a40",
   "metadata": {},
   "outputs": [],
   "source": []
  },
  {
   "cell_type": "markdown",
   "id": "aa32d92e",
   "metadata": {},
   "source": [
    "## 매서드 오버로딩 \n",
    "* 한 클래스 안에서 동일 매소드의 기능을 다르게 재정의\n",
    "* 동일한 이름의 매소드가 기능이 약간 변경된 채로 여러개 존재\n",
    "<br><br>\n",
    "* def add(num1, num2)\n",
    "* def add(num1, num2, num3)\n",
    "* def add(num1, num2, num3, num4)"
   ]
  },
  {
   "cell_type": "code",
   "execution_count": 81,
   "id": "97b10d0c",
   "metadata": {},
   "outputs": [],
   "source": [
    "from multipledispatch import dispatch "
   ]
  },
  {
   "cell_type": "code",
   "execution_count": 82,
   "id": "0bd37379",
   "metadata": {},
   "outputs": [],
   "source": [
    "class OverloadingEx2():\n",
    "    \n",
    "    @dispatch(int, int)\n",
    "    def add(self, x, y):\n",
    "        return x + y\n",
    "    \n",
    "    @dispatch(int, int, int)\n",
    "    def add(self, x, y, z):\n",
    "        return x + y + z\n",
    "    \n",
    "    @dispatch(float, float, float, float)\n",
    "    def add(self, x, y, z, a):\n",
    "        return x + y + z - a\n",
    "    \n",
    "    @dispatch(int, int, int, int)\n",
    "    def add(self, x, y, z, a):\n",
    "        return (x + y) - (z + a)"
   ]
  },
  {
   "cell_type": "code",
   "execution_count": 83,
   "id": "741f8c18",
   "metadata": {},
   "outputs": [],
   "source": [
    "sally = OverloadingEx2()"
   ]
  },
  {
   "cell_type": "code",
   "execution_count": 84,
   "id": "8e6e2581",
   "metadata": {},
   "outputs": [
    {
     "data": {
      "text/plain": [
       "25"
      ]
     },
     "execution_count": 84,
     "metadata": {},
     "output_type": "execute_result"
    }
   ],
   "source": [
    "sally.add(10, 15)"
   ]
  },
  {
   "cell_type": "code",
   "execution_count": 85,
   "id": "39ce98be",
   "metadata": {},
   "outputs": [
    {
     "data": {
      "text/plain": [
       "58"
      ]
     },
     "execution_count": 85,
     "metadata": {},
     "output_type": "execute_result"
    }
   ],
   "source": [
    "sally.add(10, 13, 35)"
   ]
  },
  {
   "cell_type": "code",
   "execution_count": 86,
   "id": "db313d68",
   "metadata": {},
   "outputs": [
    {
     "data": {
      "text/plain": [
       "7.800000000000001"
      ]
     },
     "execution_count": 86,
     "metadata": {},
     "output_type": "execute_result"
    }
   ],
   "source": [
    "sally.add(3.5, 5.6, 7.2, 8.5)"
   ]
  },
  {
   "cell_type": "code",
   "execution_count": 87,
   "id": "0b2989d1",
   "metadata": {},
   "outputs": [
    {
     "data": {
      "text/plain": [
       "21"
      ]
     },
     "execution_count": 87,
     "metadata": {},
     "output_type": "execute_result"
    }
   ],
   "source": [
    "sally.add(10, 20, 4, 5)"
   ]
  },
  {
   "cell_type": "code",
   "execution_count": 88,
   "id": "da56df2f",
   "metadata": {},
   "outputs": [],
   "source": [
    "# 파이썬에서는 기본적으로 매소드 오버로딩을 지원"
   ]
  },
  {
   "cell_type": "code",
   "execution_count": null,
   "id": "3cdfed4f",
   "metadata": {},
   "outputs": [],
   "source": []
  },
  {
   "cell_type": "code",
   "execution_count": null,
   "id": "a728c162",
   "metadata": {},
   "outputs": [],
   "source": []
  },
  {
   "cell_type": "markdown",
   "id": "da1cd429",
   "metadata": {},
   "source": [
    "## multipledispatch 패키지를 통한 매소드 오버로딩"
   ]
  },
  {
   "cell_type": "markdown",
   "id": "41f4a0ae",
   "metadata": {},
   "source": [
    "### 미니포지 프롬프트에 이렇게 입력하고 다운로드하기\n",
    "\n",
    "conda install multipledispatch"
   ]
  },
  {
   "cell_type": "code",
   "execution_count": null,
   "id": "378fcc53",
   "metadata": {},
   "outputs": [],
   "source": []
  },
  {
   "cell_type": "code",
   "execution_count": null,
   "id": "4ff04e12",
   "metadata": {},
   "outputs": [],
   "source": []
  },
  {
   "cell_type": "markdown",
   "id": "db5a61ff",
   "metadata": {},
   "source": [
    "## 클래스 속성과 인스턴스 속성\n",
    "* 클래스 속성 : 클래스 전체에서 공유하는 속성, 모든 인스턴스에서 공유\n",
    "* 인스턴스 속성 : 인스턴스에서만 사용하는 속성, 인스턴스 간 공유 안됨"
   ]
  },
  {
   "cell_type": "code",
   "execution_count": 89,
   "id": "97b1f0cf",
   "metadata": {},
   "outputs": [],
   "source": [
    "class Family():\n",
    "    lastname = \"김\"  # 클래스 속성"
   ]
  },
  {
   "cell_type": "code",
   "execution_count": 90,
   "id": "bbc95703",
   "metadata": {},
   "outputs": [
    {
     "data": {
      "text/plain": [
       "'김'"
      ]
     },
     "execution_count": 90,
     "metadata": {},
     "output_type": "execute_result"
    }
   ],
   "source": [
    "Family.lastname"
   ]
  },
  {
   "cell_type": "code",
   "execution_count": 91,
   "id": "b4b47f90",
   "metadata": {},
   "outputs": [
    {
     "data": {
      "text/plain": [
       "'김'"
      ]
     },
     "execution_count": 91,
     "metadata": {},
     "output_type": "execute_result"
    }
   ],
   "source": [
    "john = Family()\n",
    "john.lastname "
   ]
  },
  {
   "cell_type": "code",
   "execution_count": 92,
   "id": "25246015",
   "metadata": {},
   "outputs": [
    {
     "data": {
      "text/plain": [
       "'김'"
      ]
     },
     "execution_count": 92,
     "metadata": {},
     "output_type": "execute_result"
    }
   ],
   "source": [
    "# 인스턴스를 생성한 후 클래스 속성에 새로운 값을 할당하면 \n",
    "# 클래스 속성은 인스턴스 속성으로 변한다. \n",
    "\n",
    "sally = Family()\n",
    "sally.lastname"
   ]
  },
  {
   "cell_type": "code",
   "execution_count": 93,
   "id": "21b71582",
   "metadata": {},
   "outputs": [],
   "source": [
    "# 새로운 이름을 할당함 \n",
    "\n",
    "john.lastname = \"박\""
   ]
  },
  {
   "cell_type": "code",
   "execution_count": 94,
   "id": "e2bb2839",
   "metadata": {},
   "outputs": [
    {
     "data": {
      "text/plain": [
       "'김'"
      ]
     },
     "execution_count": 94,
     "metadata": {},
     "output_type": "execute_result"
    }
   ],
   "source": [
    "sally.lastname \n",
    "\n",
    "# 새로운 값을 할당한게 아님. 기존의 것을 가지고 있음. "
   ]
  },
  {
   "cell_type": "code",
   "execution_count": 95,
   "id": "a66e4f4f",
   "metadata": {},
   "outputs": [],
   "source": [
    "# 클래스 속성 Family.lastname 을 '최' 로 변경\n",
    "\n",
    "Family.lastname = '최'"
   ]
  },
  {
   "cell_type": "code",
   "execution_count": 96,
   "id": "3c11df1b",
   "metadata": {},
   "outputs": [
    {
     "name": "stdout",
     "output_type": "stream",
     "text": [
      "박\n",
      "최\n"
     ]
    }
   ],
   "source": [
    "print(john.lastname)   # 인스턴스 속성으로 변경 되었기 때문에 클래스 속성에 영향 X\n",
    "print(sally.lastname)  # 클래스 속성을 그대로 유지 "
   ]
  },
  {
   "cell_type": "markdown",
   "id": "e5279459",
   "metadata": {},
   "source": [
    "# 비공개 클래스 속성 __(언더바 2개) 시작하면 비공개 속성\n",
    "\n",
    "* __ 변수명\n",
    "* 보안이 필요해서 남들에게 정보를 노출하고 싶지 않을 때 사용"
   ]
  },
  {
   "cell_type": "code",
   "execution_count": 97,
   "id": "a1cf6f19",
   "metadata": {},
   "outputs": [],
   "source": [
    "class PInfo():\n",
    "    lastname = '홍'\n",
    "    __first_name = '길동'\n",
    "    __wallet = 10000\n",
    "    \n",
    "    def print_name(self):\n",
    "        print(PInfo.__first_name)\n",
    "    \n",
    "    def wallet(self):\n",
    "        print(PInfo.__wallet)"
   ]
  },
  {
   "cell_type": "code",
   "execution_count": 98,
   "id": "f2d303f5",
   "metadata": {},
   "outputs": [],
   "source": [
    "sam = PInfo()"
   ]
  },
  {
   "cell_type": "code",
   "execution_count": 99,
   "id": "19e2c74f",
   "metadata": {},
   "outputs": [
    {
     "data": {
      "text/plain": [
       "'홍'"
      ]
     },
     "execution_count": 99,
     "metadata": {},
     "output_type": "execute_result"
    }
   ],
   "source": [
    "sam.lastname "
   ]
  },
  {
   "cell_type": "code",
   "execution_count": 100,
   "id": "0314d7bc",
   "metadata": {},
   "outputs": [
    {
     "ename": "AttributeError",
     "evalue": "'PInfo' object has no attribute '__first_name'",
     "output_type": "error",
     "traceback": [
      "\u001b[1;31m---------------------------------------------------------------------------\u001b[0m",
      "\u001b[1;31mAttributeError\u001b[0m                            Traceback (most recent call last)",
      "Cell \u001b[1;32mIn[100], line 1\u001b[0m\n\u001b[1;32m----> 1\u001b[0m \u001b[43msam\u001b[49m\u001b[38;5;241;43m.\u001b[39;49m\u001b[43m__first_name\u001b[49m\n",
      "\u001b[1;31mAttributeError\u001b[0m: 'PInfo' object has no attribute '__first_name'"
     ]
    }
   ],
   "source": [
    "sam.__first_name"
   ]
  },
  {
   "cell_type": "markdown",
   "id": "7ed169e4",
   "metadata": {},
   "source": [
    "* 비공개 클래스 속성을 직접 출력하라고 하면 출력 x\n",
    "* 클래스 내에서 함수를 만들어 출력하면 출력 O"
   ]
  },
  {
   "cell_type": "code",
   "execution_count": 101,
   "id": "ee5e186a",
   "metadata": {},
   "outputs": [
    {
     "name": "stdout",
     "output_type": "stream",
     "text": [
      "길동\n"
     ]
    }
   ],
   "source": [
    "sam.print_name()"
   ]
  },
  {
   "cell_type": "code",
   "execution_count": 102,
   "id": "65e456b6",
   "metadata": {},
   "outputs": [
    {
     "name": "stdout",
     "output_type": "stream",
     "text": [
      "10000\n"
     ]
    }
   ],
   "source": [
    "sam.wallet()"
   ]
  },
  {
   "cell_type": "markdown",
   "id": "2fa9b779",
   "metadata": {},
   "source": [
    "## 정적 매서드 static method\n"
   ]
  },
  {
   "cell_type": "code",
   "execution_count": null,
   "id": "a17270b7",
   "metadata": {},
   "outputs": [],
   "source": [
    "class SafeFourCal(FourCal2):\n",
    "    def div(self):\n",
    "        if self.num2 == 0:\n",
    "            return 0\n",
    "        else:\n",
    "            return self.num1 / self.num2 "
   ]
  },
  {
   "cell_type": "markdown",
   "id": "cfc12b95",
   "metadata": {},
   "source": [
    "* 인스턴스를 만들지 않고도 클래스가 매서드를 바로 사용할 수 있는 매서드\n",
    "* @staticmethod 라는 데코레이터를 붙여서 만든다.\n",
    "* staticmethod 는 self 를 받지 않으므로 인스턴스 속성, 인스턴스 메서드가 필ㅇ하지 않을 때 사용"
   ]
  },
  {
   "cell_type": "code",
   "execution_count": 104,
   "id": "1a80437f",
   "metadata": {},
   "outputs": [],
   "source": [
    "class Cal():\n",
    "    @staticmethod \n",
    "    def add(a, b):\n",
    "        print(a + b)\n",
    "        \n",
    "    @staticmethod\n",
    "    def sub(a, b):\n",
    "        print(a - b)"
   ]
  },
  {
   "cell_type": "code",
   "execution_count": 105,
   "id": "094ffc7b",
   "metadata": {},
   "outputs": [
    {
     "name": "stdout",
     "output_type": "stream",
     "text": [
      "7\n"
     ]
    }
   ],
   "source": [
    "Cal.add(3, 4)"
   ]
  },
  {
   "cell_type": "code",
   "execution_count": 106,
   "id": "f701c848",
   "metadata": {},
   "outputs": [
    {
     "name": "stdout",
     "output_type": "stream",
     "text": [
      "-1\n"
     ]
    }
   ],
   "source": [
    "Cal.sub(3, 4)"
   ]
  },
  {
   "cell_type": "markdown",
   "id": "9eb9f94c",
   "metadata": {},
   "source": [
    "# 클래스 매서드 class method\n",
    "* 매서드 위에 @classmethod를 붙여서 만든다.\n",
    "* 클래스 매서드의 첫번째 매개변수에는 cls를 지정해야 한다.\n",
    "* 클래스 매서드도 정적 매서드처럼 인스턴스 생성 없이 호출이 가능하다.\n",
    "* 클래스 매서드는 매서드 안에서 클래스 속성, 클래스 매서드에 접근할 때 사용한다. "
   ]
  },
  {
   "cell_type": "code",
   "execution_count": 113,
   "id": "20fa8fe9",
   "metadata": {},
   "outputs": [],
   "source": [
    "class Factory():\n",
    "    n_coffee_machine = 0  # 클래스 속성\n",
    "    \n",
    "    def __init__(self):\n",
    "        Factory.n_coffee_machine += 1 # 인스턴스가 만들어질 때 클래스 속성에 1을 더함 \n",
    "        \n",
    "    @classmethod \n",
    "    def print_n_coffe_mahine(cls):\n",
    "        print(f'{cls.n_coffee_machine}가 제조되었습니다.')  # cls로 클래스 속성에 접근  \n",
    "        \n",
    "        "
   ]
  },
  {
   "cell_type": "code",
   "execution_count": 114,
   "id": "9202bde2",
   "metadata": {},
   "outputs": [],
   "source": [
    "a1 = Factory()"
   ]
  },
  {
   "cell_type": "code",
   "execution_count": 115,
   "id": "5dfd5dc0",
   "metadata": {},
   "outputs": [
    {
     "ename": "AttributeError",
     "evalue": "type object 'Factory' has no attribute 'print_n_coffee_machine'",
     "output_type": "error",
     "traceback": [
      "\u001b[1;31m---------------------------------------------------------------------------\u001b[0m",
      "\u001b[1;31mAttributeError\u001b[0m                            Traceback (most recent call last)",
      "Cell \u001b[1;32mIn[115], line 1\u001b[0m\n\u001b[1;32m----> 1\u001b[0m \u001b[43mFactory\u001b[49m\u001b[38;5;241;43m.\u001b[39;49m\u001b[43mprint_n_coffee_machine\u001b[49m()\n",
      "\u001b[1;31mAttributeError\u001b[0m: type object 'Factory' has no attribute 'print_n_coffee_machine'"
     ]
    }
   ],
   "source": [
    "Factory.print_n_coffee_machine()"
   ]
  },
  {
   "cell_type": "markdown",
   "id": "2cef2083",
   "metadata": {},
   "source": [
    "## 추상 클래스 abc(abstract base class) 모듈 필요 \n",
    "\n",
    "* 추상클래스는 추상클래스를 상속받아 클래스를 만들 때 반드시 만들어야 하는 메소드를 지정해 주는 클래스 \n",
    "* 규칙을 부여해서 그 규칙에 따라 클래스를 만들도록 함\n",
    "* 추상클래스를 상속받은 클래스는 반드시 추상클래스에서 정의한 매소드를 overriding으로 구현해야 한다. "
   ]
  },
  {
   "cell_type": "code",
   "execution_count": 116,
   "id": "10ad9781",
   "metadata": {},
   "outputs": [],
   "source": [
    "from abc import * "
   ]
  },
  {
   "cell_type": "code",
   "execution_count": 117,
   "id": "d9335acc",
   "metadata": {},
   "outputs": [],
   "source": [
    "# 추상 클래스 \n",
    "\n",
    "class CoffeeBase(metaclass=ABCMeta):\n",
    "    @abstractmethod \n",
    "    def bean_input(self):\n",
    "        pass \n",
    "    \n",
    "    @abstractmethod \n",
    "    def grind(self):\n",
    "        pass \n",
    "    \n",
    "class CoffeeMachine(CoffeeBase):\n",
    "    def bean_input(self):\n",
    "        print('커피 원두 넣기') "
   ]
  },
  {
   "cell_type": "code",
   "execution_count": 118,
   "id": "7dfbea3c",
   "metadata": {},
   "outputs": [
    {
     "ename": "TypeError",
     "evalue": "Can't instantiate abstract class CoffeeBase with abstract methods bean_input, grind",
     "output_type": "error",
     "traceback": [
      "\u001b[1;31m---------------------------------------------------------------------------\u001b[0m",
      "\u001b[1;31mTypeError\u001b[0m                                 Traceback (most recent call last)",
      "Cell \u001b[1;32mIn[118], line 1\u001b[0m\n\u001b[1;32m----> 1\u001b[0m sam \u001b[38;5;241m=\u001b[39m \u001b[43mCoffeeBase\u001b[49m\u001b[43m(\u001b[49m\u001b[43m)\u001b[49m\n",
      "\u001b[1;31mTypeError\u001b[0m: Can't instantiate abstract class CoffeeBase with abstract methods bean_input, grind"
     ]
    }
   ],
   "source": [
    "# 추상 클래스는 인스턴스 생성 불가 \n",
    "\n",
    "sam = CoffeeBase()"
   ]
  },
  {
   "cell_type": "code",
   "execution_count": 119,
   "id": "d34e3b59",
   "metadata": {},
   "outputs": [
    {
     "ename": "TypeError",
     "evalue": "Can't instantiate abstract class CoffeeMachine with abstract method grind",
     "output_type": "error",
     "traceback": [
      "\u001b[1;31m---------------------------------------------------------------------------\u001b[0m",
      "\u001b[1;31mTypeError\u001b[0m                                 Traceback (most recent call last)",
      "Cell \u001b[1;32mIn[119], line 1\u001b[0m\n\u001b[1;32m----> 1\u001b[0m sally \u001b[38;5;241m=\u001b[39m \u001b[43mCoffeeMachine\u001b[49m\u001b[43m(\u001b[49m\u001b[43m)\u001b[49m\n",
      "\u001b[1;31mTypeError\u001b[0m: Can't instantiate abstract class CoffeeMachine with abstract method grind"
     ]
    }
   ],
   "source": [
    "sally = CoffeeMachine()"
   ]
  },
  {
   "cell_type": "code",
   "execution_count": 121,
   "id": "31f08407",
   "metadata": {},
   "outputs": [],
   "source": [
    "# 추상 클래스 \n",
    "\n",
    "class CoffeeBase2(metaclass=ABCMeta):\n",
    "    @abstractmethod \n",
    "    def bean_input(self):\n",
    "        pass \n",
    "    \n",
    "    @abstractmethod \n",
    "    def grind(self):\n",
    "        pass \n",
    "    \n",
    "class CoffeeMachine2(CoffeeBase):\n",
    "    def bean_input(self):\n",
    "        print('커피 원두 넣기') \n",
    "    \n",
    "    def grind(self):\n",
    "        print('커피 원두 분쇄하기') "
   ]
  },
  {
   "cell_type": "code",
   "execution_count": 122,
   "id": "c4ab2703",
   "metadata": {},
   "outputs": [],
   "source": [
    "john = CoffeeMachine2()"
   ]
  },
  {
   "cell_type": "code",
   "execution_count": 123,
   "id": "e996aec2",
   "metadata": {},
   "outputs": [
    {
     "name": "stdout",
     "output_type": "stream",
     "text": [
      "커피 원두 넣기\n"
     ]
    }
   ],
   "source": [
    "john.bean_input()"
   ]
  },
  {
   "cell_type": "code",
   "execution_count": 124,
   "id": "7c3c2a31",
   "metadata": {},
   "outputs": [
    {
     "name": "stdout",
     "output_type": "stream",
     "text": [
      "커피 원두 분쇄하기\n"
     ]
    }
   ],
   "source": [
    "john.grind()"
   ]
  },
  {
   "cell_type": "code",
   "execution_count": null,
   "id": "38c018ce",
   "metadata": {},
   "outputs": [],
   "source": []
  },
  {
   "cell_type": "code",
   "execution_count": null,
   "id": "869cba08",
   "metadata": {},
   "outputs": [],
   "source": []
  },
  {
   "cell_type": "code",
   "execution_count": null,
   "id": "d203cd88",
   "metadata": {},
   "outputs": [],
   "source": []
  },
  {
   "cell_type": "code",
   "execution_count": null,
   "id": "37b1cd2f",
   "metadata": {},
   "outputs": [],
   "source": []
  },
  {
   "cell_type": "code",
   "execution_count": null,
   "id": "4ff6878d",
   "metadata": {},
   "outputs": [],
   "source": []
  }
 ],
 "metadata": {
  "kernelspec": {
   "display_name": "Python 3 (ipykernel)",
   "language": "python",
   "name": "python3"
  },
  "language_info": {
   "codemirror_mode": {
    "name": "ipython",
    "version": 3
   },
   "file_extension": ".py",
   "mimetype": "text/x-python",
   "name": "python",
   "nbconvert_exporter": "python",
   "pygments_lexer": "ipython3",
   "version": "3.10.14"
  }
 },
 "nbformat": 4,
 "nbformat_minor": 5
}
