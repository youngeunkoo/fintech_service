{
 "cells": [
  {
   "cell_type": "markdown",
   "metadata": {
    "id": "QOlOa15SqPLi"
   },
   "source": [
    "## 5. 30을 8로 나눈 몫과 나머지를 각각 변수 a와 b에 저장하고 다음과 같이 출력하는 코드를 작성하세요.\n",
    "\n",
    "실행결과\n",
    "```\n",
    "30을 8로 나눈 몫은 3\n",
    "30을 8로 나눈 나머지는 6\n",
    "30을 8로 나눈 결과는 3.75\n",
    "```"
   ]
  },
  {
   "cell_type": "code",
   "execution_count": 7,
   "metadata": {},
   "outputs": [],
   "source": [
    "a = 30 // 8 "
   ]
  },
  {
   "cell_type": "code",
   "execution_count": 8,
   "metadata": {},
   "outputs": [],
   "source": [
    "b = 30 % 8 "
   ]
  },
  {
   "cell_type": "code",
   "execution_count": 9,
   "metadata": {},
   "outputs": [
    {
     "data": {
      "text/plain": [
       "3.75"
      ]
     },
     "execution_count": 9,
     "metadata": {},
     "output_type": "execute_result"
    }
   ],
   "source": [
    "30 / 8"
   ]
  },
  {
   "cell_type": "code",
   "execution_count": 11,
   "metadata": {
    "colab": {
     "base_uri": "https://localhost:8080/"
    },
    "id": "CzjkpuiGDSmO",
    "outputId": "32bf47a5-6628-4f2d-ac75-1d553cb0efaa",
    "scrolled": true
   },
   "outputs": [
    {
     "name": "stdout",
     "output_type": "stream",
     "text": [
      "3\n",
      "6\n"
     ]
    }
   ],
   "source": [
    "print(a)\n",
    "print(b)"
   ]
  },
  {
   "cell_type": "markdown",
   "metadata": {
    "id": "xl8rhP88q7Sk"
   },
   "source": [
    "# 컴퓨터와 묻고 답하기 그리고 문자열 다루기"
   ]
  },
  {
   "cell_type": "markdown",
   "metadata": {
    "id": "YyuktcpPrLBm"
   },
   "source": [
    "## 7. 다음과 같이 코드 실행 결과가 나오도록 코드의 빈칸을 완성한 코드를 작성하세요.\n",
    "```\n",
    "a = '시은 우진'\n",
    "```\n",
    "실행결과<br>\n",
    "\n",
    "```\n",
    "시은 우진 화이팅!!\n",
    "________빈 줄_______\n",
    "시은 우진 화이팅!!\n",
    "```"
   ]
  },
  {
   "cell_type": "code",
   "execution_count": 14,
   "metadata": {
    "colab": {
     "base_uri": "https://localhost:8080/"
    },
    "id": "oJRBTFSErh0b",
    "outputId": "f449ea66-2678-47ac-a34e-fcdb9bcdbbf8"
   },
   "outputs": [],
   "source": [
    "a = '시은 우진'"
   ]
  },
  {
   "cell_type": "code",
   "execution_count": 19,
   "metadata": {},
   "outputs": [
    {
     "name": "stdout",
     "output_type": "stream",
     "text": [
      "시은 우진 화이팅!!\n",
      " \n",
      "시은 우진 화이팅!!\n"
     ]
    }
   ],
   "source": [
    "print(a, '화이팅!!')\n",
    "print(\" \")\n",
    "print(a, '화이팅!!')"
   ]
  },
  {
   "cell_type": "markdown",
   "metadata": {
    "id": "f9F1xXAYsL2a"
   },
   "source": [
    "## 8. 이름과 나이를 키보드로 입력받은 값을 각각 변수 name과 age에 저장하고 다음과 같이 출력하는 코드를 작성하세요.\n",
    "\n",
    "```\n",
    "이름이 무엇인가요? 메이킷\n",
    "몇 살인가요? 17\n",
    "메이킷 님은 내년에는 18 살이 됩니다.\n",
    "```\n",
    "\n"
   ]
  },
  {
   "cell_type": "code",
   "execution_count": null,
   "metadata": {
    "colab": {
     "base_uri": "https://localhost:8080/"
    },
    "id": "zhD-rM8YvJoh",
    "outputId": "ea889206-5bb1-4f8c-b618-4bf0c3de434f",
    "scrolled": true
   },
   "outputs": [
    {
     "name": "stdout",
     "output_type": "stream",
     "text": [
      "메이킷\n",
      "17\n",
      "이름이 무엇인가요? 메이킷\n",
      "몇 살인가요? 17\n",
      "메이킷 님은 내년에는 18 살이 됩니다.\n"
     ]
    }
   ],
   "source": []
  },
  {
   "cell_type": "code",
   "execution_count": 20,
   "metadata": {},
   "outputs": [],
   "source": [
    "name = '메이킷'\n",
    "age = 17"
   ]
  },
  {
   "cell_type": "code",
   "execution_count": 25,
   "metadata": {},
   "outputs": [
    {
     "name": "stdout",
     "output_type": "stream",
     "text": [
      "이름이 무엇인가요? 메이킷\n",
      "몇 살인가요? 17\n",
      "메이킷 님은 내년에는  18 살이 됩니다.\n"
     ]
    }
   ],
   "source": [
    "print(\"이름이 무엇인가요?\", name)\n",
    "print(\"몇 살인가요?\", age)\n",
    "print(name, \"님은 내년에는 \", age+1, \"살이 됩니다.\")"
   ]
  },
  {
   "cell_type": "code",
   "execution_count": null,
   "metadata": {},
   "outputs": [],
   "source": []
  },
  {
   "cell_type": "code",
   "execution_count": null,
   "metadata": {},
   "outputs": [],
   "source": []
  },
  {
   "cell_type": "markdown",
   "metadata": {
    "id": "YzRmL0o5u_Fo"
   },
   "source": [
    "## 9. 정수와 실수를 각각 변수 a, b에 입력받아 두 숫자의 합과 평균을 구하는 코드를 작성하세요.\n",
    "실행결과\n",
    "```\n",
    "3\n",
    "2.5\n",
    "a와 b의 합은 5.5\n",
    "a와 b의 평균값은 2.75\n",
    "```"
   ]
  },
  {
   "cell_type": "code",
   "execution_count": null,
   "metadata": {
    "colab": {
     "base_uri": "https://localhost:8080/"
    },
    "id": "2BsOqWlOE3l5",
    "outputId": "95f08c08-9874-4226-bd13-9e54e4a86e90"
   },
   "outputs": [
    {
     "name": "stdout",
     "output_type": "stream",
     "text": [
      "a와 b의 합은 5.5\n",
      "a와 b의 평균값은 2.75\n"
     ]
    }
   ],
   "source": []
  },
  {
   "cell_type": "markdown",
   "metadata": {},
   "source": [
    "* 나의 답변 "
   ]
  },
  {
   "cell_type": "code",
   "execution_count": 26,
   "metadata": {},
   "outputs": [
    {
     "name": "stdout",
     "output_type": "stream",
     "text": [
      "<class 'int'>\n",
      "<class 'float'>\n"
     ]
    }
   ],
   "source": [
    "a = 3\n",
    "b = 2.5\n",
    "print(type(a))\n",
    "print(type(b))"
   ]
  },
  {
   "cell_type": "code",
   "execution_count": 29,
   "metadata": {},
   "outputs": [
    {
     "data": {
      "text/plain": [
       "5.5"
      ]
     },
     "execution_count": 29,
     "metadata": {},
     "output_type": "execute_result"
    }
   ],
   "source": [
    "a + b "
   ]
  },
  {
   "cell_type": "code",
   "execution_count": 30,
   "metadata": {},
   "outputs": [
    {
     "name": "stdout",
     "output_type": "stream",
     "text": [
      "<class 'float'>\n"
     ]
    }
   ],
   "source": [
    "print(type(a+b))"
   ]
  },
  {
   "cell_type": "code",
   "execution_count": 32,
   "metadata": {
    "scrolled": true
   },
   "outputs": [
    {
     "data": {
      "text/plain": [
       "2.75"
      ]
     },
     "execution_count": 32,
     "metadata": {},
     "output_type": "execute_result"
    }
   ],
   "source": [
    "( a + b )/2"
   ]
  },
  {
   "cell_type": "markdown",
   "metadata": {},
   "source": [
    "* 실제 답변"
   ]
  },
  {
   "cell_type": "code",
   "execution_count": 128,
   "metadata": {},
   "outputs": [
    {
     "name": "stdout",
     "output_type": "stream",
     "text": [
      "정수 입력: 3\n"
     ]
    }
   ],
   "source": [
    "a = int(input(\"정수 입력: \"))"
   ]
  },
  {
   "cell_type": "code",
   "execution_count": 129,
   "metadata": {},
   "outputs": [
    {
     "name": "stdout",
     "output_type": "stream",
     "text": [
      "실수 입력: 2.5\n"
     ]
    }
   ],
   "source": [
    "b = float(input(\"실수 입력: \"))"
   ]
  },
  {
   "cell_type": "code",
   "execution_count": 130,
   "metadata": {},
   "outputs": [
    {
     "name": "stdout",
     "output_type": "stream",
     "text": [
      "a와 b의 합은 5.5\n"
     ]
    }
   ],
   "source": [
    "print(\"a와 b의 합은\", a + b)"
   ]
  },
  {
   "cell_type": "code",
   "execution_count": 132,
   "metadata": {},
   "outputs": [
    {
     "data": {
      "text/plain": [
       "2.75"
      ]
     },
     "execution_count": 132,
     "metadata": {},
     "output_type": "execute_result"
    }
   ],
   "source": [
    "avg = (a + b)/2\n",
    "avg"
   ]
  },
  {
   "cell_type": "code",
   "execution_count": 133,
   "metadata": {},
   "outputs": [
    {
     "name": "stdout",
     "output_type": "stream",
     "text": [
      "a와 b의 평균값은 2.75\n"
     ]
    }
   ],
   "source": [
    "print(\"a와 b의 평균값은\", avg)"
   ]
  },
  {
   "cell_type": "code",
   "execution_count": null,
   "metadata": {},
   "outputs": [],
   "source": []
  },
  {
   "cell_type": "markdown",
   "metadata": {
    "id": "6xjLuumQvIAl"
   },
   "source": [
    "## 10. makit 문자열 변수를 활용해 아래와 같은 실행 결과가 나오도록 코드의 빈칸을 완성하세요.\n",
    "\n",
    "실행결과\n",
    "```\n",
    "result1 = S\n",
    "result2 = W\n",
    "result3 = !\n",
    "```"
   ]
  },
  {
   "cell_type": "code",
   "execution_count": null,
   "metadata": {
    "colab": {
     "base_uri": "https://localhost:8080/"
    },
    "id": "OIPrdIzxvzkx",
    "outputId": "3371014a-decd-4e44-f5b3-1a8c0a3da403"
   },
   "outputs": [
    {
     "name": "stdout",
     "output_type": "stream",
     "text": [
      "result1 = S\n",
      "result2 = W\n",
      "result3 = !\n"
     ]
    }
   ],
   "source": [
    "makeit = 'Sieun Woojin!'\n"
   ]
  },
  {
   "cell_type": "markdown",
   "metadata": {},
   "source": [
    "* 나의 답변"
   ]
  },
  {
   "cell_type": "code",
   "execution_count": 33,
   "metadata": {},
   "outputs": [],
   "source": [
    "makeit = 'Sieun Woojin!'"
   ]
  },
  {
   "cell_type": "code",
   "execution_count": 42,
   "metadata": {},
   "outputs": [],
   "source": [
    "result = makeit.split()"
   ]
  },
  {
   "cell_type": "code",
   "execution_count": 43,
   "metadata": {},
   "outputs": [
    {
     "data": {
      "text/plain": [
       "['Sieun', 'Woojin!']"
      ]
     },
     "execution_count": 43,
     "metadata": {},
     "output_type": "execute_result"
    }
   ],
   "source": [
    "result"
   ]
  },
  {
   "cell_type": "code",
   "execution_count": 46,
   "metadata": {},
   "outputs": [
    {
     "data": {
      "text/plain": [
       "'Sieun'"
      ]
     },
     "execution_count": 46,
     "metadata": {},
     "output_type": "execute_result"
    }
   ],
   "source": [
    "result[0]"
   ]
  },
  {
   "cell_type": "code",
   "execution_count": null,
   "metadata": {},
   "outputs": [],
   "source": []
  },
  {
   "cell_type": "code",
   "execution_count": 64,
   "metadata": {
    "scrolled": true
   },
   "outputs": [
    {
     "name": "stdout",
     "output_type": "stream",
     "text": [
      "S\n"
     ]
    }
   ],
   "source": [
    "result1 = makeit[:1]\n",
    "print(result1)"
   ]
  },
  {
   "cell_type": "code",
   "execution_count": 61,
   "metadata": {},
   "outputs": [
    {
     "name": "stdout",
     "output_type": "stream",
     "text": [
      "W\n"
     ]
    }
   ],
   "source": [
    "result2 = makeit[6:7]\n",
    "print(result2)"
   ]
  },
  {
   "cell_type": "code",
   "execution_count": 60,
   "metadata": {},
   "outputs": [
    {
     "name": "stdout",
     "output_type": "stream",
     "text": [
      "!\n"
     ]
    }
   ],
   "source": [
    "result3 = makeit[12:13]\n",
    "print(result3)"
   ]
  },
  {
   "cell_type": "code",
   "execution_count": 65,
   "metadata": {},
   "outputs": [
    {
     "name": "stdout",
     "output_type": "stream",
     "text": [
      "S\n",
      "W\n",
      "!\n"
     ]
    }
   ],
   "source": [
    "print(result1)\n",
    "print(result2)\n",
    "print(result3)"
   ]
  },
  {
   "cell_type": "markdown",
   "metadata": {},
   "source": [
    "* 실제 답변 : 인덱싱 문제"
   ]
  },
  {
   "cell_type": "code",
   "execution_count": 134,
   "metadata": {},
   "outputs": [],
   "source": [
    "makeit = 'Sieun Woojin!'"
   ]
  },
  {
   "cell_type": "code",
   "execution_count": null,
   "metadata": {},
   "outputs": [],
   "source": [
    "print(\"result1 =\"\")"
   ]
  },
  {
   "cell_type": "code",
   "execution_count": null,
   "metadata": {},
   "outputs": [],
   "source": []
  },
  {
   "cell_type": "code",
   "execution_count": null,
   "metadata": {},
   "outputs": [],
   "source": []
  },
  {
   "cell_type": "code",
   "execution_count": null,
   "metadata": {},
   "outputs": [],
   "source": []
  },
  {
   "cell_type": "markdown",
   "metadata": {
    "id": "n-V2dHTXwqNS"
   },
   "source": [
    "## 11. makit 문자열 변수를 활용해 아래와 같은 실행 결과가 나오도록 코드의 빈칸을 완성해 보세요.\n",
    "실행결과\n",
    "```\n",
    "eun Woo\n",
    "Sieun\n",
    "Woojin!\n",
    "```\n"
   ]
  },
  {
   "cell_type": "code",
   "execution_count": null,
   "metadata": {
    "colab": {
     "base_uri": "https://localhost:8080/"
    },
    "id": "J3mIM7rcxfw-",
    "outputId": "121499c1-9f5c-4871-ad03-ffb688652102",
    "scrolled": true
   },
   "outputs": [
    {
     "name": "stdout",
     "output_type": "stream",
     "text": [
      "eun Wooji\n",
      "Sieun\n",
      "Woojin!\n"
     ]
    }
   ],
   "source": [
    "makit = 'Sieun Woojin!'\n"
   ]
  },
  {
   "cell_type": "code",
   "execution_count": 66,
   "metadata": {},
   "outputs": [],
   "source": [
    "makit = 'Sieun Woojin!'"
   ]
  },
  {
   "cell_type": "code",
   "execution_count": null,
   "metadata": {},
   "outputs": [],
   "source": []
  },
  {
   "cell_type": "code",
   "execution_count": null,
   "metadata": {},
   "outputs": [],
   "source": []
  },
  {
   "cell_type": "code",
   "execution_count": null,
   "metadata": {},
   "outputs": [],
   "source": []
  },
  {
   "cell_type": "markdown",
   "metadata": {},
   "source": [
    "* 실제 답변 : 슬라이싱 문제 "
   ]
  },
  {
   "cell_type": "code",
   "execution_count": 135,
   "metadata": {},
   "outputs": [],
   "source": [
    "makit = 'Sieun Woojin!'"
   ]
  },
  {
   "cell_type": "code",
   "execution_count": 136,
   "metadata": {},
   "outputs": [
    {
     "data": {
      "text/plain": [
       "'eun Woo'"
      ]
     },
     "execution_count": 136,
     "metadata": {},
     "output_type": "execute_result"
    }
   ],
   "source": [
    "makit[2:9]"
   ]
  },
  {
   "cell_type": "code",
   "execution_count": 137,
   "metadata": {},
   "outputs": [
    {
     "name": "stdout",
     "output_type": "stream",
     "text": [
      "eun Woo\n"
     ]
    }
   ],
   "source": [
    "print(makit[2:9])"
   ]
  },
  {
   "cell_type": "code",
   "execution_count": 138,
   "metadata": {},
   "outputs": [
    {
     "data": {
      "text/plain": [
       "'Sieun'"
      ]
     },
     "execution_count": 138,
     "metadata": {},
     "output_type": "execute_result"
    }
   ],
   "source": [
    "makit[:5]"
   ]
  },
  {
   "cell_type": "code",
   "execution_count": 140,
   "metadata": {},
   "outputs": [
    {
     "name": "stdout",
     "output_type": "stream",
     "text": [
      "Sieun\n"
     ]
    }
   ],
   "source": [
    "print(makit[:5])"
   ]
  },
  {
   "cell_type": "code",
   "execution_count": 141,
   "metadata": {},
   "outputs": [
    {
     "data": {
      "text/plain": [
       "'Woojin!'"
      ]
     },
     "execution_count": 141,
     "metadata": {},
     "output_type": "execute_result"
    }
   ],
   "source": [
    "makit[6:]"
   ]
  },
  {
   "cell_type": "code",
   "execution_count": 142,
   "metadata": {},
   "outputs": [
    {
     "name": "stdout",
     "output_type": "stream",
     "text": [
      "Woojin!\n"
     ]
    }
   ],
   "source": [
    "print(makit[6:])"
   ]
  },
  {
   "cell_type": "code",
   "execution_count": 145,
   "metadata": {},
   "outputs": [
    {
     "name": "stdout",
     "output_type": "stream",
     "text": [
      "eun Woo\n",
      "Sieun\n",
      "Woojin!\n"
     ]
    }
   ],
   "source": [
    "# 최종답변\n",
    "print(makit[2:9])\n",
    "print(makit[:5])\n",
    "print(makit[6:])"
   ]
  },
  {
   "cell_type": "markdown",
   "metadata": {
    "id": "8Mx09bjMxl0z"
   },
   "source": [
    "## 12. makit 문자열 변수에는 ‘동서남북동서남북동서남북’이 저장되어 있습니다. makit 문자열 변수에서 ‘동’만 출력하는 코드를 작성하세요.\n",
    "실행결과\n",
    "```\n",
    "동동동\n",
    "```"
   ]
  },
  {
   "cell_type": "code",
   "execution_count": null,
   "metadata": {
    "colab": {
     "base_uri": "https://localhost:8080/",
     "height": 36
    },
    "id": "EgyZ3lhrzBMe",
    "outputId": "bbaf5eb4-68e7-4660-da9c-4cdfb27c816d"
   },
   "outputs": [
    {
     "data": {
      "application/vnd.google.colaboratory.intrinsic+json": {
       "type": "string"
      },
      "text/plain": [
       "'동동동'"
      ]
     },
     "execution_count": 13,
     "metadata": {},
     "output_type": "execute_result"
    }
   ],
   "source": [
    "makit = '동서남북동서남북동서남북'\n"
   ]
  },
  {
   "cell_type": "code",
   "execution_count": 147,
   "metadata": {},
   "outputs": [],
   "source": [
    "makit = '동서남북동서남북동서남북'"
   ]
  },
  {
   "cell_type": "code",
   "execution_count": 71,
   "metadata": {},
   "outputs": [
    {
     "data": {
      "text/plain": [
       "'동서남북동서남북동서남북'"
      ]
     },
     "execution_count": 71,
     "metadata": {},
     "output_type": "execute_result"
    }
   ],
   "source": [
    "makit"
   ]
  },
  {
   "cell_type": "markdown",
   "metadata": {},
   "source": [
    "* 나의 답변"
   ]
  },
  {
   "cell_type": "code",
   "execution_count": 90,
   "metadata": {},
   "outputs": [
    {
     "data": {
      "text/plain": [
       "'동동동'"
      ]
     },
     "execution_count": 90,
     "metadata": {},
     "output_type": "execute_result"
    }
   ],
   "source": [
    "makit.translate(str.maketrans('','', '서남북'))"
   ]
  },
  {
   "cell_type": "markdown",
   "metadata": {},
   "source": [
    "* 실제 답변"
   ]
  },
  {
   "cell_type": "code",
   "execution_count": 148,
   "metadata": {},
   "outputs": [
    {
     "name": "stdout",
     "output_type": "stream",
     "text": [
      "동동동\n"
     ]
    }
   ],
   "source": [
    "print(makit[0::4])"
   ]
  },
  {
   "cell_type": "markdown",
   "metadata": {
    "id": "V1dFglIHzZ4-"
   },
   "source": [
    "## 13. makit 문자열에 ‘동서남북’이라고 저장되어 있습니다. makit 문자열 변수를 뒤집어서 ‘북남서동’으로 출력하는 결과가 나오도록 코드의 빈칸을 완성하세요.\n",
    "실행결과\n",
    "```\n",
    "북남서동\n",
    "```"
   ]
  },
  {
   "cell_type": "code",
   "execution_count": null,
   "metadata": {
    "colab": {
     "base_uri": "https://localhost:8080/",
     "height": 36
    },
    "id": "QzZq6nJSzj2O",
    "outputId": "238de7a8-38bf-486e-8c6c-56ed3ac7b8d3",
    "scrolled": false
   },
   "outputs": [
    {
     "data": {
      "application/vnd.google.colaboratory.intrinsic+json": {
       "type": "string"
      },
      "text/plain": [
       "'북남서동'"
      ]
     },
     "execution_count": 14,
     "metadata": {},
     "output_type": "execute_result"
    }
   ],
   "source": [
    "makit = '동서남북'\n"
   ]
  },
  {
   "cell_type": "code",
   "execution_count": 80,
   "metadata": {},
   "outputs": [],
   "source": [
    "makit = '동서남북'"
   ]
  },
  {
   "cell_type": "code",
   "execution_count": 88,
   "metadata": {},
   "outputs": [
    {
     "data": {
      "text/plain": [
       "'북남서동'"
      ]
     },
     "execution_count": 88,
     "metadata": {},
     "output_type": "execute_result"
    }
   ],
   "source": [
    "makit_reverse = makit[::-1]\n",
    "makit_reverse"
   ]
  },
  {
   "cell_type": "markdown",
   "metadata": {
    "id": "auFM6GvEzmwI"
   },
   "source": [
    "## 14. makit 문자열에 핸드폰 번호가 다음과 같이 저장되어 있습니다. ‘.‘을 ‘-’으로 변경해 다음과 같이 실행 결과가 나오도록 코드의 빈칸을 완성한 코드를 작성하세요.\n",
    "실행결과\n",
    "```\n",
    "010-1234-5678\n",
    "```"
   ]
  },
  {
   "cell_type": "code",
   "execution_count": null,
   "metadata": {
    "colab": {
     "base_uri": "https://localhost:8080/",
     "height": 36
    },
    "id": "-hn6fDr5z5Tv",
    "outputId": "94399d5c-3de0-471f-b115-380ff08040aa"
   },
   "outputs": [
    {
     "data": {
      "application/vnd.google.colaboratory.intrinsic+json": {
       "type": "string"
      },
      "text/plain": [
       "'010-1234-5678'"
      ]
     },
     "execution_count": 15,
     "metadata": {},
     "output_type": "execute_result"
    }
   ],
   "source": [
    "phone = '010.1234.5678'\n"
   ]
  },
  {
   "cell_type": "code",
   "execution_count": 91,
   "metadata": {},
   "outputs": [],
   "source": [
    "phone = '010.1234.5678'"
   ]
  },
  {
   "cell_type": "markdown",
   "metadata": {},
   "source": [
    "str.maketrans('찾을문자', '바꿀문자', '추가로 없앨문자') 로 변환테이블 생성"
   ]
  },
  {
   "cell_type": "code",
   "execution_count": 94,
   "metadata": {},
   "outputs": [
    {
     "data": {
      "text/plain": [
       "'010-1234-5678'"
      ]
     },
     "execution_count": 94,
     "metadata": {},
     "output_type": "execute_result"
    }
   ],
   "source": [
    "phone.translate(str.maketrans('.','-'))"
   ]
  },
  {
   "cell_type": "markdown",
   "metadata": {},
   "source": []
  },
  {
   "cell_type": "markdown",
   "metadata": {
    "id": "MAm9Y-xr1u26"
   },
   "source": [
    "## 17. 초를 입력하면 ‘몇 분 몇 초’로 환산해주는 코드를 다음과 같이 출력하도록 작성하세요.\n",
    "실행결과\n",
    "```\n",
    "초를 입력하세요:1234\n",
    "1234 초(sec)는 20 분(min) 34 초(sec)입니다\n",
    "```"
   ]
  },
  {
   "cell_type": "code",
   "execution_count": null,
   "metadata": {
    "colab": {
     "base_uri": "https://localhost:8080/"
    },
    "id": "DEw-9r100w6t",
    "outputId": "749682cd-348d-4c08-9856-22f4d1b23625"
   },
   "outputs": [
    {
     "name": "stdout",
     "output_type": "stream",
     "text": [
      "초를 입력하세요: 1234\n",
      "1234 초(sec)는 20 분(min) 34 초(sec2)입니다.\n"
     ]
    }
   ],
   "source": []
  },
  {
   "cell_type": "code",
   "execution_count": 98,
   "metadata": {},
   "outputs": [
    {
     "name": "stdout",
     "output_type": "stream",
     "text": [
      "초를 입력하세요: 1234\n"
     ]
    }
   ],
   "source": [
    "sec = int(input(\"초를 입력하세요: \"))"
   ]
  },
  {
   "cell_type": "code",
   "execution_count": 99,
   "metadata": {},
   "outputs": [
    {
     "name": "stdout",
     "output_type": "stream",
     "text": [
      "1234\n"
     ]
    }
   ],
   "source": [
    "print(sec)"
   ]
  },
  {
   "cell_type": "code",
   "execution_count": 107,
   "metadata": {},
   "outputs": [
    {
     "data": {
      "text/plain": [
       "20"
      ]
     },
     "execution_count": 107,
     "metadata": {},
     "output_type": "execute_result"
    }
   ],
   "source": [
    "min = sec//60\n",
    "min"
   ]
  },
  {
   "cell_type": "code",
   "execution_count": 108,
   "metadata": {},
   "outputs": [
    {
     "data": {
      "text/plain": [
       "34"
      ]
     },
     "execution_count": 108,
     "metadata": {},
     "output_type": "execute_result"
    }
   ],
   "source": [
    "sec2 = sec%60\n",
    "sec2"
   ]
  },
  {
   "cell_type": "code",
   "execution_count": 109,
   "metadata": {},
   "outputs": [
    {
     "name": "stdout",
     "output_type": "stream",
     "text": [
      "1234 초(sec)는 20 분(min) 34 초(sec2)입니다.\n"
     ]
    }
   ],
   "source": [
    "print(sec, \"초(sec)는\", min ,\"분(min)\", sec2, \"초(sec2)입니다.\")"
   ]
  },
  {
   "cell_type": "code",
   "execution_count": null,
   "metadata": {},
   "outputs": [],
   "source": []
  },
  {
   "cell_type": "code",
   "execution_count": null,
   "metadata": {},
   "outputs": [],
   "source": []
  },
  {
   "cell_type": "code",
   "execution_count": null,
   "metadata": {},
   "outputs": [],
   "source": []
  },
  {
   "cell_type": "markdown",
   "metadata": {
    "id": "mOHOs2pv2Fz8"
   },
   "source": [
    "## 18. 다음과 같이 시간을 분 단위로 입력하면 며칠, 몇 시간, 몇 분으로 환산해서 출력하는 코드를 작성하세요.\n",
    "실행결과\n",
    "```\n",
    "분을 입력하세요:7512\n",
    "7512 분은 5 일 5 시간 12 분입니다\n",
    "```"
   ]
  },
  {
   "cell_type": "code",
   "execution_count": null,
   "metadata": {
    "colab": {
     "base_uri": "https://localhost:8080/"
    },
    "id": "FblZK5RjKfl9",
    "outputId": "70159104-2b2a-412c-cd7c-b40c979030ae"
   },
   "outputs": [
    {
     "name": "stdout",
     "output_type": "stream",
     "text": [
      "분을 입력하세요: 7512\n",
      "7512 분은 5 일 5 시간 12 분입니다.\n"
     ]
    }
   ],
   "source": []
  },
  {
   "cell_type": "code",
   "execution_count": 111,
   "metadata": {},
   "outputs": [
    {
     "name": "stdout",
     "output_type": "stream",
     "text": [
      "분을 입력하세요: 7512\n"
     ]
    }
   ],
   "source": [
    "min = int(input(\"분을 입력하세요: \"))"
   ]
  },
  {
   "cell_type": "code",
   "execution_count": 112,
   "metadata": {},
   "outputs": [
    {
     "name": "stdout",
     "output_type": "stream",
     "text": [
      "7512\n"
     ]
    }
   ],
   "source": [
    "print(min)"
   ]
  },
  {
   "cell_type": "code",
   "execution_count": 123,
   "metadata": {},
   "outputs": [
    {
     "data": {
      "text/plain": [
       "125.2"
      ]
     },
     "execution_count": 123,
     "metadata": {},
     "output_type": "execute_result"
    }
   ],
   "source": [
    "hour = min / 60\n",
    "hour "
   ]
  },
  {
   "cell_type": "code",
   "execution_count": 117,
   "metadata": {},
   "outputs": [
    {
     "data": {
      "text/plain": [
       "5"
      ]
     },
     "execution_count": 117,
     "metadata": {},
     "output_type": "execute_result"
    }
   ],
   "source": [
    "day = int(hour // 24)\n",
    "day"
   ]
  },
  {
   "cell_type": "code",
   "execution_count": 127,
   "metadata": {},
   "outputs": [
    {
     "data": {
      "text/plain": [
       "5"
      ]
     },
     "execution_count": 127,
     "metadata": {},
     "output_type": "execute_result"
    }
   ],
   "source": [
    "day2 = int(hour % 24)\n",
    "day2"
   ]
  },
  {
   "cell_type": "code",
   "execution_count": 118,
   "metadata": {
    "scrolled": true
   },
   "outputs": [
    {
     "name": "stdout",
     "output_type": "stream",
     "text": [
      "7512 분은 5 일\n"
     ]
    }
   ],
   "source": [
    "print(min, \"분은\", day, \"일\", day2, \"시간\", )"
   ]
  },
  {
   "cell_type": "code",
   "execution_count": 119,
   "metadata": {},
   "outputs": [
    {
     "data": {
      "text/plain": [
       "120"
      ]
     },
     "execution_count": 119,
     "metadata": {},
     "output_type": "execute_result"
    }
   ],
   "source": [
    "5*24"
   ]
  },
  {
   "cell_type": "markdown",
   "metadata": {
    "id": "3TlG6Pu42OXh"
   },
   "source": [
    "# 리스트(list) 다루기"
   ]
  },
  {
   "cell_type": "markdown",
   "metadata": {
    "id": "5gk-6Rlr3E7n"
   },
   "source": [
    "## 19. 다음과 같이 코드 실행 결과가 나오도록 코드의 빈칸을 완성하세요.\n",
    "실행결과\n",
    "```\n",
    "['메이킷', '우진', '시은']\n",
    "메이킷\n",
    "우진\n",
    "시은\n",
    "```"
   ]
  },
  {
   "cell_type": "code",
   "execution_count": null,
   "metadata": {
    "colab": {
     "base_uri": "https://localhost:8080/"
    },
    "id": "3qMmKS733Zng",
    "outputId": "fbd571ce-8996-45da-e4d0-2aa56d6dce13"
   },
   "outputs": [
    {
     "name": "stdout",
     "output_type": "stream",
     "text": [
      "['메이킷', '우진', '시은']\n",
      "메이킷\n",
      "우진\n",
      "시은\n"
     ]
    }
   ],
   "source": [
    "L = ['메이킷', '우진', '시은']\n"
   ]
  },
  {
   "cell_type": "markdown",
   "metadata": {
    "id": "LPHSjmwY3aLp"
   },
   "source": [
    "## 20.다음과 같이 코드 실행 결과가 나오도록 코드의 빈칸을 완성하세요.\n",
    "실행결과\n",
    "```\n",
    "['메이킷', '우진']\n",
    "['우진', '제임스', '시은']\n",
    "['제임스', '시은']\n",
    "['메이킷', '우진', '제임스', '시은']\n",
    "```"
   ]
  },
  {
   "cell_type": "code",
   "execution_count": null,
   "metadata": {
    "colab": {
     "base_uri": "https://localhost:8080/"
    },
    "id": "zn0dEbi13mpD",
    "outputId": "87693e74-6d85-4c49-954e-d55d190db2ff"
   },
   "outputs": [
    {
     "name": "stdout",
     "output_type": "stream",
     "text": [
      "['메이킷', '우진']\n",
      "['우진', '제임스', '시은']\n",
      "['제임스', '시은']\n",
      "['메이킷', '우진', '제임스', '시은']\n"
     ]
    }
   ],
   "source": [
    "a = ['메이킷','우진','제임스','시은']\n"
   ]
  },
  {
   "cell_type": "markdown",
   "metadata": {
    "id": "WjyW_lJ43qXh"
   },
   "source": [
    "## 21. 리스트 추가, 삭제하기\n",
    "다음과 같이 코드 실행 결과가 나오도록 코드의 빈칸을 완성하여 전체 코드를 입력하세요.<br>\n",
    "실행결과\n",
    "```\n",
    "['우진', '시은', '메이킷']\n",
    "['우진', '시은']\n",
    "```"
   ]
  },
  {
   "cell_type": "code",
   "execution_count": null,
   "metadata": {
    "colab": {
     "base_uri": "https://localhost:8080/"
    },
    "id": "4uTX16LE43rp",
    "outputId": "cdf579ee-f3d0-4306-c240-5ece68f7a0a6"
   },
   "outputs": [
    {
     "name": "stdout",
     "output_type": "stream",
     "text": [
      "['우진', '시은', '메이킷']\n",
      "['우진', '시은']\n"
     ]
    }
   ],
   "source": [
    "a = ['우진','시은']\n"
   ]
  },
  {
   "cell_type": "markdown",
   "metadata": {
    "id": "EXCiHbcm4rTI"
   },
   "source": [
    "## 22. 리스트 원하는 위치에 삽입하기\n",
    "다음과 같이 코드 실행 결과가 나오도록 코드의 빈칸을 완성하세요.<br>\n",
    "실행결과\n",
    "```\n",
    "['우진', '하워드', '시은', '메이킷']\n",
    "```"
   ]
  },
  {
   "cell_type": "code",
   "execution_count": null,
   "metadata": {
    "colab": {
     "base_uri": "https://localhost:8080/"
    },
    "id": "DRqh-Awr5e9U",
    "outputId": "bf12dcd5-b2bb-4f4e-a6e1-71c7923a469f"
   },
   "outputs": [
    {
     "name": "stdout",
     "output_type": "stream",
     "text": [
      "['우진', '하워드', '시은', '메이킷']\n"
     ]
    }
   ],
   "source": [
    "a = ['우진','시은','메이킷']\n"
   ]
  },
  {
   "cell_type": "markdown",
   "metadata": {
    "id": "N_oeSVwj5Qx1"
   },
   "source": [
    "## 23. 리스트 합치기\n",
    "다음과 같이 코드 실행 결과가 나오도록 코드의 빈칸을 완성하세요.<br>\n",
    "실행결과\n",
    "```\n",
    "['우진', '시은', '메이킷', '소피아', '하워드']\n",
    "['메이킷', '소피아', '하워드']\n",
    "```"
   ]
  },
  {
   "cell_type": "code",
   "execution_count": null,
   "metadata": {
    "colab": {
     "base_uri": "https://localhost:8080/"
    },
    "id": "8PQ6xWMJ6A1-",
    "outputId": "b0404fc9-2a89-4418-84a4-171d66105dd8"
   },
   "outputs": [
    {
     "name": "stdout",
     "output_type": "stream",
     "text": [
      "['우진', '시은', '메이킷', '소피아', '하워드']\n",
      "['메이킷', '소피아', '하워드']\n"
     ]
    }
   ],
   "source": [
    "a = ['우진', '시은']\n",
    "b = ['메이킷', '소피아', '하워드']\n"
   ]
  },
  {
   "cell_type": "markdown",
   "metadata": {
    "id": "RQ5mgcLQ6CRW"
   },
   "source": [
    "## 24. 공백 리스트와 합치기\n",
    "다음과 같이 코드 실행 결과가 나오도록 코드의 빈칸을 완성한 전체 코드를 작성하세요.<br>\n",
    "실행결과\n",
    "```\n",
    "['우진', '시은']\n",
    "['우진', '시은', '메이킷', '소피아', '하워드']\n",
    "```\n"
   ]
  },
  {
   "cell_type": "code",
   "execution_count": null,
   "metadata": {
    "colab": {
     "base_uri": "https://localhost:8080/"
    },
    "id": "Rp--sSR46nhg",
    "outputId": "18d5b4b1-4e53-4722-c1ca-2fadb6122a0c"
   },
   "outputs": [
    {
     "name": "stdout",
     "output_type": "stream",
     "text": [
      "['우진', '시은']\n",
      "['우진', '시은', '메이킷', '소피아', '하워드']\n"
     ]
    }
   ],
   "source": [
    "a = ['우진','시은']\n",
    "b = ['메이킷','소피아','하워드']\n"
   ]
  },
  {
   "cell_type": "markdown",
   "metadata": {
    "id": "fv7pf4wi9CNx"
   },
   "source": [
    "## 25. 리스트의 개수인 길이 구하기\n",
    "다음과 같이 코드 실행 결과가 나오도록 코드의 빈칸을 완성하세요.<br>\n",
    "실행결과\n",
    "```\n",
    "리스트 a의 개수 즉 길이는 6\n",
    "리스트 a의 숫자들의 평균은 5.5\n",
    "```\n"
   ]
  },
  {
   "cell_type": "code",
   "execution_count": null,
   "metadata": {
    "colab": {
     "base_uri": "https://localhost:8080/"
    },
    "id": "ddjY_M506um4",
    "outputId": "c74a2dec-e68f-404c-bd43-3fb5165331f1"
   },
   "outputs": [
    {
     "name": "stdout",
     "output_type": "stream",
     "text": [
      "리스트 a의 개수 즉 길이는 6\n",
      "리스트 a의 숫자들의 평균은 5.5\n"
     ]
    }
   ],
   "source": [
    "a = [3, 7, 4, 5, 6, 8]\n"
   ]
  },
  {
   "cell_type": "markdown",
   "metadata": {
    "id": "SLQrHJC59TnO"
   },
   "source": [
    "## 26. 리스트 잘라내기(슬라이싱)\n",
    "다음과 같이 코드 실행 결과가 나오도록 코드의 빈칸을 완성한 전체 코드를 작성하세요.<br>\n",
    "실행결과\n",
    "```\n",
    "b : [1, 2, 3, 4, 5]\n",
    "c : ['a', 'b', 'c', 'd', 'e']\n",
    "d : [5, 'a']\n",
    "e : [1, 3, 5, 'b', 'd']\n",
    "f : [2, 4, 'a', 'c', 'e']\n",
    "```"
   ]
  },
  {
   "cell_type": "code",
   "execution_count": null,
   "metadata": {
    "colab": {
     "base_uri": "https://localhost:8080/"
    },
    "id": "B-XoDqOH9hIW",
    "outputId": "9fad46a0-98f7-45b0-808c-f30c651dbf33"
   },
   "outputs": [
    {
     "name": "stdout",
     "output_type": "stream",
     "text": [
      "b : [1, 2, 3, 4, 5]\n",
      "c : ['a', 'b', 'c', 'd', 'e']\n",
      "d : [5, 'a']\n",
      "e : [1, 3, 5, 'b', 'd']\n",
      "f : [2, 4, 'a', 'c', 'e']\n"
     ]
    }
   ],
   "source": [
    "a = [1,2, 3, 4, 5, 'a', 'b', 'c', 'd', 'e']\n"
   ]
  },
  {
   "cell_type": "code",
   "execution_count": null,
   "metadata": {},
   "outputs": [],
   "source": []
  },
  {
   "cell_type": "code",
   "execution_count": null,
   "metadata": {},
   "outputs": [],
   "source": []
  },
  {
   "cell_type": "code",
   "execution_count": null,
   "metadata": {},
   "outputs": [],
   "source": []
  },
  {
   "cell_type": "code",
   "execution_count": null,
   "metadata": {},
   "outputs": [],
   "source": []
  },
  {
   "cell_type": "code",
   "execution_count": null,
   "metadata": {},
   "outputs": [],
   "source": []
  },
  {
   "cell_type": "code",
   "execution_count": null,
   "metadata": {},
   "outputs": [],
   "source": []
  },
  {
   "cell_type": "markdown",
   "metadata": {
    "id": "dMJuqt6U9mh7"
   },
   "source": [
    "## 27. 리스트 거꾸로 잘라내기\n",
    "a = [‘형우’, ’윤진 ', '시은', '우진']과 같은 리스트가 있을 때 리스트 슬라이싱으로 리스트 순서가 거꾸로 바뀐 리스트를 생성해서 출력하세요. 아래 코드의 빈칸을 완성하세요.<br>\n",
    "실행결과\n",
    "```\n",
    "['우진', '시은', '윤진', '형우']\n",
    "```"
   ]
  },
  {
   "cell_type": "code",
   "execution_count": null,
   "metadata": {
    "colab": {
     "base_uri": "https://localhost:8080/"
    },
    "id": "zfR5Q9WU95Pg",
    "outputId": "cdf5fbf1-059d-4ede-c51b-4c49523193e3"
   },
   "outputs": [
    {
     "name": "stdout",
     "output_type": "stream",
     "text": [
      "['우진', '시은', '윤진', '형우']\n"
     ]
    }
   ],
   "source": [
    "a = ['형우', '윤진', '시은', '우진']\n"
   ]
  },
  {
   "cell_type": "markdown",
   "metadata": {
    "id": "79_A-L0y99qj"
   },
   "source": [
    "## 28. 리스트 안에 리스트\n",
    "다음과 같이 코드 실행 결과가 나오도록 코드의 빈칸을 완성하세요.<br>\n",
    "```\n",
    "메이킷 학생의 시험 점수는 95\n",
    "우진 학생의 시험 점수는 100\n",
    "시은 학생의 시험 점수는 98\n",
    "```"
   ]
  },
  {
   "cell_type": "code",
   "execution_count": null,
   "metadata": {
    "colab": {
     "base_uri": "https://localhost:8080/"
    },
    "id": "ylsRYcq6-Ir-",
    "outputId": "d34101a2-82bd-4ce2-f183-0ef15e29bbd1"
   },
   "outputs": [
    {
     "name": "stdout",
     "output_type": "stream",
     "text": [
      "메이킷 학생의 시험 점수는 95\n",
      "우진 학생의 시험 점수는 100\n",
      "시은 학생의 시험 점수는 98\n"
     ]
    }
   ],
   "source": [
    "a = [['메이킷', 95], ['우진', 100], ['시은', 98]]\n"
   ]
  },
  {
   "cell_type": "code",
   "execution_count": 150,
   "metadata": {},
   "outputs": [],
   "source": [
    "a = [['메이킷', 95], ['우진', 100], ['시은', 98]]"
   ]
  },
  {
   "cell_type": "code",
   "execution_count": 152,
   "metadata": {},
   "outputs": [
    {
     "data": {
      "text/plain": [
       "95"
      ]
     },
     "execution_count": 152,
     "metadata": {},
     "output_type": "execute_result"
    }
   ],
   "source": [
    "a[0][1]"
   ]
  },
  {
   "cell_type": "code",
   "execution_count": 154,
   "metadata": {},
   "outputs": [
    {
     "name": "stdout",
     "output_type": "stream",
     "text": [
      "메이킷 학생의 시험 점수는 95\n",
      "우진 학생의 시험 점수는 100\n",
      "시은 학생의 시험 점수는 98\n"
     ]
    }
   ],
   "source": [
    "print(\"메이킷 학생의 시험 점수는\", a[0][1])\n",
    "print(\"우진 학생의 시험 점수는\", a[1][1])\n",
    "print(\"시은 학생의 시험 점수는\", a[2][1])"
   ]
  },
  {
   "cell_type": "code",
   "execution_count": null,
   "metadata": {},
   "outputs": [],
   "source": []
  },
  {
   "cell_type": "code",
   "execution_count": null,
   "metadata": {},
   "outputs": [],
   "source": []
  },
  {
   "cell_type": "markdown",
   "metadata": {
    "id": "G9CIDekV-S0d"
   },
   "source": [
    "## 29. 리스트 안에 있는 문자로 하나의 문자열 만들기(join)\n",
    "a = [‘시은’, ’우진’, ’지연’, ’지훈’]과 같이 우리 반 학생들 이름이 저장된 리스트가 있습니다. 이 리스트의 문자열들을 연결(join)해 하나의 문자열을 만들려고 합니다. 다음과 같이 코드 실행 결과가 나오도록 코드의 빈칸을 완성하세요.<br>\n",
    "실행결과\n",
    "```\n",
    "시은 우진 지훈 지연\n",
    "```"
   ]
  },
  {
   "cell_type": "code",
   "execution_count": null,
   "metadata": {
    "colab": {
     "base_uri": "https://localhost:8080/",
     "height": 36
    },
    "id": "bo3mlVEu-cOI",
    "outputId": "c1303d36-ca91-4957-e0ac-722c1858a5ab"
   },
   "outputs": [
    {
     "data": {
      "application/vnd.google.colaboratory.intrinsic+json": {
       "type": "string"
      },
      "text/plain": [
       "'시은 우진 지훈 지연'"
      ]
     },
     "execution_count": 30,
     "metadata": {},
     "output_type": "execute_result"
    }
   ],
   "source": [
    "a = ['시은', '우진', '지훈', '지연']\n"
   ]
  },
  {
   "cell_type": "code",
   "execution_count": 155,
   "metadata": {},
   "outputs": [],
   "source": [
    "a = ['시은', '우진', '지훈', '지연']"
   ]
  },
  {
   "cell_type": "code",
   "execution_count": 160,
   "metadata": {},
   "outputs": [
    {
     "data": {
      "text/plain": [
       "'시은 우진 지훈 지연'"
      ]
     },
     "execution_count": 160,
     "metadata": {},
     "output_type": "execute_result"
    }
   ],
   "source": [
    "\" \".join(a)"
   ]
  },
  {
   "cell_type": "code",
   "execution_count": null,
   "metadata": {},
   "outputs": [],
   "source": []
  },
  {
   "cell_type": "code",
   "execution_count": null,
   "metadata": {},
   "outputs": [],
   "source": []
  },
  {
   "cell_type": "markdown",
   "metadata": {
    "id": "-DaXcPMx-mo7"
   },
   "source": [
    "## 30. 문자열 분리해 리스트 만들기(split)\n",
    "a = '시은 우진 지훈 지연'과 같이 우리 반 학생들 이름이 저장된 문자열이 있습니다. 공백이 나올 때마다 문자열을 분리해(split) 하나의 리스트를 만들려고 합니다. 다음과 같이 코드 실행 결과가 나오도록 코드의 빈칸을 완성하세요.<br>\n",
    "실행결과\n",
    "```\n",
    "['시은', '우진', '지훈', '지연']\n",
    "```"
   ]
  },
  {
   "cell_type": "code",
   "execution_count": null,
   "metadata": {
    "colab": {
     "base_uri": "https://localhost:8080/"
    },
    "id": "60RSwPl4-zWl",
    "outputId": "471bbb15-2c00-493d-b5af-62fed71aa7ae"
   },
   "outputs": [
    {
     "data": {
      "text/plain": [
       "['시은', '우진', '지훈', '지연']"
      ]
     },
     "execution_count": 31,
     "metadata": {},
     "output_type": "execute_result"
    }
   ],
   "source": [
    "a = '시은 우진 지훈 지연'\n"
   ]
  },
  {
   "cell_type": "markdown",
   "metadata": {
    "id": "hDJGBKLF-6AN"
   },
   "source": [
    "## 31. 여러 개의 값 입력받기(input + split)\n",
    "세 개의 숫자를 입력받아 가장 작은 숫자를 출력하는 코드를 작성하세요.<br>\n",
    "입력\n",
    "```\n",
    "10 2 123\n",
    "```\n",
    "출력\n",
    "```\n",
    "2\n",
    "```"
   ]
  },
  {
   "cell_type": "code",
   "execution_count": null,
   "metadata": {
    "colab": {
     "base_uri": "https://localhost:8080/",
     "height": 223
    },
    "id": "GtkXzx07XXu4",
    "outputId": "4a2c16bc-7915-4063-ed7d-18fbac396fb3"
   },
   "outputs": [
    {
     "name": "stdout",
     "output_type": "stream",
     "text": [
      "10 2 123\n"
     ]
    },
    {
     "ename": "TypeError",
     "evalue": "ignored",
     "output_type": "error",
     "traceback": [
      "\u001b[0;31m---------------------------------------------------------------------------\u001b[0m",
      "\u001b[0;31mTypeError\u001b[0m                                 Traceback (most recent call last)",
      "\u001b[0;32m<ipython-input-32-5c94f775ff80>\u001b[0m in \u001b[0;36m<cell line: 2>\u001b[0;34m()\u001b[0m\n\u001b[1;32m      1\u001b[0m \u001b[0mx1\u001b[0m\u001b[0;34m,\u001b[0m \u001b[0my1\u001b[0m\u001b[0;34m,\u001b[0m \u001b[0mz1\u001b[0m \u001b[0;34m=\u001b[0m \u001b[0mmap\u001b[0m\u001b[0;34m(\u001b[0m\u001b[0mint\u001b[0m\u001b[0;34m,\u001b[0m \u001b[0minput\u001b[0m\u001b[0;34m(\u001b[0m\u001b[0;34m)\u001b[0m\u001b[0;34m.\u001b[0m\u001b[0msplit\u001b[0m\u001b[0;34m(\u001b[0m\u001b[0;34m)\u001b[0m\u001b[0;34m)\u001b[0m\u001b[0;34m\u001b[0m\u001b[0;34m\u001b[0m\u001b[0m\n\u001b[0;32m----> 2\u001b[0;31m \u001b[0mprint\u001b[0m\u001b[0;34m(\u001b[0m\u001b[0mmin\u001b[0m\u001b[0;34m(\u001b[0m\u001b[0mx1\u001b[0m\u001b[0;34m,\u001b[0m \u001b[0my1\u001b[0m\u001b[0;34m,\u001b[0m \u001b[0mz1\u001b[0m\u001b[0;34m)\u001b[0m\u001b[0;34m)\u001b[0m\u001b[0;34m\u001b[0m\u001b[0;34m\u001b[0m\u001b[0m\n\u001b[0m",
      "\u001b[0;31mTypeError\u001b[0m: 'int' object is not callable"
     ]
    }
   ],
   "source": []
  }
 ],
 "metadata": {
  "colab": {
   "provenance": []
  },
  "kernelspec": {
   "display_name": "Python 3 (ipykernel)",
   "language": "python",
   "name": "python3"
  },
  "language_info": {
   "codemirror_mode": {
    "name": "ipython",
    "version": 3
   },
   "file_extension": ".py",
   "mimetype": "text/x-python",
   "name": "python",
   "nbconvert_exporter": "python",
   "pygments_lexer": "ipython3",
   "version": "3.10.14"
  }
 },
 "nbformat": 4,
 "nbformat_minor": 1
}
