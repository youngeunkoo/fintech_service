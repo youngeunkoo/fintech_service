{
 "cells": [
  {
   "cell_type": "markdown",
   "id": "b8061755",
   "metadata": {},
   "source": [
    "# 리스트함수와 리스트표현식, 파일읽기_저장하기"
   ]
  },
  {
   "cell_type": "markdown",
   "id": "7fcd35c9",
   "metadata": {},
   "source": [
    "## 리스트 함수\n",
    "* min( ) : 리스트 내에서 최소값 찾아주는 함수\n",
    "* max( ) : 리스트 내에서 최대값 찾아주는 함수\n",
    "* sum( ) : 리스트 내에서 합계를 구해주는 함수"
   ]
  },
  {
   "cell_type": "code",
   "execution_count": 13,
   "id": "014f21b1",
   "metadata": {},
   "outputs": [],
   "source": [
    "a = [38, 21, 53, 67, 2, 44, 29, 19, 10, 46, 50]\n",
    "b = [77, 3, 2, 75, 45, 52, 67, 100, 29, 99, 85]"
   ]
  },
  {
   "cell_type": "code",
   "execution_count": 6,
   "id": "89e6770e",
   "metadata": {},
   "outputs": [
    {
     "name": "stdout",
     "output_type": "stream",
     "text": [
      "[38, 21, 53, 67, 2, 44, 29, 19, 10, 46, 50]\n",
      "[77, 3, 2, 75, 45, 52, 67, 100, 29, 99, 85]\n"
     ]
    }
   ],
   "source": [
    "print(a)\n",
    "print(b)"
   ]
  },
  {
   "cell_type": "markdown",
   "id": "99a4e478",
   "metadata": {},
   "source": [
    "* 정렬해서 가장 앞에 있는 숫자 추출\n",
    "* 모든 요소를 꺼내서 비교"
   ]
  },
  {
   "cell_type": "code",
   "execution_count": 7,
   "id": "759c6f6d",
   "metadata": {},
   "outputs": [
    {
     "data": {
      "text/plain": [
       "[2, 10, 19, 21, 29, 38, 44, 46, 50, 53, 67]"
      ]
     },
     "execution_count": 7,
     "metadata": {},
     "output_type": "execute_result"
    }
   ],
   "source": [
    "# 오름차순 정렬\n",
    "\n",
    "sorted(a)"
   ]
  },
  {
   "cell_type": "code",
   "execution_count": 12,
   "id": "bfd3e719",
   "metadata": {
    "scrolled": true
   },
   "outputs": [
    {
     "data": {
      "text/plain": [
       "[67, 53, 50, 46, 44, 38, 29, 21, 19, 10, 2]"
      ]
     },
     "execution_count": 12,
     "metadata": {},
     "output_type": "execute_result"
    }
   ],
   "source": [
    "# 내림차순 정렬\n",
    "\n",
    "sorted(a, reverse = True)"
   ]
  },
  {
   "cell_type": "code",
   "execution_count": 9,
   "id": "1d4c3728",
   "metadata": {},
   "outputs": [
    {
     "data": {
      "text/plain": [
       "2"
      ]
     },
     "execution_count": 9,
     "metadata": {},
     "output_type": "execute_result"
    }
   ],
   "source": [
    "sorted(a)[0]"
   ]
  },
  {
   "cell_type": "code",
   "execution_count": 10,
   "id": "d9724d5b",
   "metadata": {},
   "outputs": [
    {
     "data": {
      "text/plain": [
       "10"
      ]
     },
     "execution_count": 10,
     "metadata": {},
     "output_type": "execute_result"
    }
   ],
   "source": [
    "sorted(a)[1]"
   ]
  },
  {
   "cell_type": "code",
   "execution_count": 11,
   "id": "1fd2f223",
   "metadata": {},
   "outputs": [
    {
     "data": {
      "text/plain": [
       "67"
      ]
     },
     "execution_count": 11,
     "metadata": {},
     "output_type": "execute_result"
    }
   ],
   "source": [
    "sorted(a, reverse = True)[0]"
   ]
  },
  {
   "cell_type": "code",
   "execution_count": 27,
   "id": "ccf0f57f",
   "metadata": {},
   "outputs": [],
   "source": [
    "a = [38, 21, 53, 67, 2, 44, 29, 19, 10, 46, 50]\n",
    "b = [77, 3, 2, 75, 45, 52, 67, 100, 29, 99, 85] "
   ]
  },
  {
   "cell_type": "code",
   "execution_count": 17,
   "id": "41bfdc77",
   "metadata": {},
   "outputs": [
    {
     "name": "stdout",
     "output_type": "stream",
     "text": [
      "최대값:  67\n"
     ]
    }
   ],
   "source": [
    "# 리스트 내에서 가장 큰 값을 찾는 코드\n",
    "\n",
    "temp = a[0]\n",
    "for i in a:\n",
    "    if temp <= i:\n",
    "        temp = i\n",
    "print(\"최대값: \", temp)"
   ]
  },
  {
   "cell_type": "markdown",
   "id": "11e977b5",
   "metadata": {},
   "source": [
    "hap += i\n",
    "hap = hap + i"
   ]
  },
  {
   "cell_type": "code",
   "execution_count": 18,
   "id": "5a7559f1",
   "metadata": {},
   "outputs": [
    {
     "name": "stdout",
     "output_type": "stream",
     "text": [
      "379\n"
     ]
    }
   ],
   "source": [
    "hap = 0\n",
    "for i in a:\n",
    "    hap += i\n",
    "print(hap)"
   ]
  },
  {
   "cell_type": "code",
   "execution_count": 19,
   "id": "b2bd45ed",
   "metadata": {},
   "outputs": [
    {
     "data": {
      "text/plain": [
       "379"
      ]
     },
     "execution_count": 19,
     "metadata": {},
     "output_type": "execute_result"
    }
   ],
   "source": [
    "sum(a)"
   ]
  },
  {
   "cell_type": "markdown",
   "id": "e0ed44ba",
   "metadata": {},
   "source": []
  },
  {
   "cell_type": "markdown",
   "id": "ed1255ea",
   "metadata": {},
   "source": [
    "## ========================================================"
   ]
  },
  {
   "cell_type": "markdown",
   "id": "4fe4b1be",
   "metadata": {},
   "source": [
    "## 리스트 표현식 list comprehension 사용하기 \n",
    "* 리스트 안에 for 반복문과 if else 조건문을 한번에 적는 방법\n",
    "* 여러 줄의 코드를 1줄로 줄일 수 있고\n",
    "* for, if else 문을 쓸 때 보다 처리속도가 빠르다. <br><br>\n",
    "[실행할 명령 for 변수 in list, tuple]"
   ]
  },
  {
   "cell_type": "code",
   "execution_count": 20,
   "id": "d5de6cfb",
   "metadata": {},
   "outputs": [
    {
     "data": {
      "text/plain": [
       "[1, 2, 3, 4, 5, 6, 7, 8, 9, 10]"
      ]
     },
     "execution_count": 20,
     "metadata": {},
     "output_type": "execute_result"
    }
   ],
   "source": [
    "list(range(1,11))"
   ]
  },
  {
   "cell_type": "code",
   "execution_count": 21,
   "id": "0f11b918",
   "metadata": {},
   "outputs": [
    {
     "data": {
      "text/plain": [
       "[1, 2, 3, 4, 5, 6, 7, 8, 9, 10]"
      ]
     },
     "execution_count": 21,
     "metadata": {},
     "output_type": "execute_result"
    }
   ],
   "source": [
    "a = []\n",
    "for i in range(1, 11):\n",
    "    a.append(i)\n",
    "a"
   ]
  },
  {
   "cell_type": "code",
   "execution_count": 23,
   "id": "a007ff55",
   "metadata": {},
   "outputs": [
    {
     "data": {
      "text/plain": [
       "[1, 2, 3, 4, 5, 6, 7, 8, 9, 10]"
      ]
     },
     "execution_count": 23,
     "metadata": {},
     "output_type": "execute_result"
    }
   ],
   "source": [
    "# 리스트 표현식\n",
    "\n",
    "[i for i in range(1,11)]"
   ]
  },
  {
   "cell_type": "markdown",
   "id": "3734aae9",
   "metadata": {},
   "source": [
    "a.append(i) for i in range(1, 11):\n",
    "    "
   ]
  },
  {
   "cell_type": "code",
   "execution_count": null,
   "id": "46e80cf4",
   "metadata": {},
   "outputs": [],
   "source": []
  },
  {
   "cell_type": "code",
   "execution_count": null,
   "id": "87b44ee2",
   "metadata": {},
   "outputs": [],
   "source": []
  },
  {
   "cell_type": "markdown",
   "id": "569dfd33",
   "metadata": {},
   "source": [
    "* import time을 선언하여 time 모듈을 사용하면   <br>\n",
    "프로그램에서 시간 관련 작업을 더 쉽게 처리할 수 있으며, <br>\n",
    "다양한 시간 관련 기능들을 활용할 수 있습니다.\n"
   ]
  },
  {
   "cell_type": "code",
   "execution_count": 3,
   "id": "eff6725b",
   "metadata": {},
   "outputs": [],
   "source": [
    "import time"
   ]
  },
  {
   "cell_type": "code",
   "execution_count": 4,
   "id": "fe5699b8",
   "metadata": {},
   "outputs": [
    {
     "name": "stdout",
     "output_type": "stream",
     "text": [
      "[6, 7, 8, 9, 10, 11, 12, 13, 14, 15]\n",
      "코드 실행 시간:  2.9136576652526855\n"
     ]
    }
   ],
   "source": [
    "start = time.time()\n",
    "\n",
    "a = []\n",
    "for i in range(1, 20000000):\n",
    "    a.append(i + 5)\n",
    "print(a[:10])\n",
    "\n",
    "print('코드 실행 시간: ', time.time() - start)"
   ]
  },
  {
   "cell_type": "code",
   "execution_count": 5,
   "id": "e8fa8556",
   "metadata": {},
   "outputs": [
    {
     "name": "stdout",
     "output_type": "stream",
     "text": [
      "[6, 7, 8, 9, 10, 11, 12, 13, 14, 15]\n",
      "코드 실행 시간:  1.3843107223510742\n"
     ]
    }
   ],
   "source": [
    "start = time.time()\n",
    "\n",
    "\n",
    "b = [ i + 5 for i in range(1, 20000000)]\n",
    "    \n",
    "print(b[:10])\n",
    "\n",
    "print('코드 실행 시간: ', time.time() - start)"
   ]
  },
  {
   "cell_type": "code",
   "execution_count": null,
   "id": "ba88e9d3",
   "metadata": {},
   "outputs": [],
   "source": []
  },
  {
   "cell_type": "markdown",
   "id": "e32fc503",
   "metadata": {},
   "source": [
    "* NumPy는 파이썬에서 수치 계산을 위한 핵심 라이브러리로   <br>\n",
    "다차원 배열(array) 데이터를 다루는 데 중점을 둔다. "
   ]
  },
  {
   "cell_type": "code",
   "execution_count": 6,
   "id": "a9454bd8",
   "metadata": {},
   "outputs": [],
   "source": [
    "import numpy as np"
   ]
  },
  {
   "cell_type": "code",
   "execution_count": 7,
   "id": "9468f333",
   "metadata": {},
   "outputs": [
    {
     "name": "stdout",
     "output_type": "stream",
     "text": [
      "[ 6  7  8  9 10 11 12 13 14 15]\n",
      "코드 실행 시간:  0.07401680946350098\n"
     ]
    }
   ],
   "source": [
    "start = time.time()\n",
    "\n",
    "c = np.arange(1, 20000000)\n",
    "c = c + 5\n",
    "print(c[:10])\n",
    "\n",
    "print('코드 실행 시간: ', time.time() - start)"
   ]
  },
  {
   "cell_type": "code",
   "execution_count": null,
   "id": "ec4be77a",
   "metadata": {},
   "outputs": [],
   "source": []
  },
  {
   "cell_type": "markdown",
   "id": "e9ee41af",
   "metadata": {},
   "source": [
    "# =============================================="
   ]
  },
  {
   "cell_type": "markdown",
   "id": "3d4fcb8d",
   "metadata": {},
   "source": [
    "# 파일 읽기, 쓰기 : open( ), with open( )\n",
    "### 1) 파일에 문자열을 쓸 때는 open 함수로 파일을 열어서 \n",
    "###  파일 객체(file object) 를 얻은 뒤에 write 메서드를 사용해 저장"
   ]
  },
  {
   "cell_type": "markdown",
   "id": "c30ca130",
   "metadata": {},
   "source": [
    "<br>\n",
    "변수명 = open( 파일이름, 파일모드 (w: 쓰기, r: 읽기)  <br>\n",
    "변수명.write('저장할 문자열')   <br>\n",
    "변수명.close() * close() 를 안하면 계속 열려있음."
   ]
  },
  {
   "cell_type": "code",
   "execution_count": 2,
   "id": "bd6d888a",
   "metadata": {},
   "outputs": [],
   "source": [
    "file = open('test.txt', 'w')  # test.txt로 파일을 생성\n",
    "file.write('파일 만들기 연습')  # test.txt에  .write('내용') 으로 내용쓰기  -->  내용입력 \n",
    "file.close()     # test.txt 파일 저장하고 닫기 "
   ]
  },
  {
   "cell_type": "markdown",
   "id": "7a0b7a52",
   "metadata": {},
   "source": [
    "### 2) 파일 읽기\n",
    "<br>\n",
    "변수명 = open(파일이름, 파일모드 ('r'읽기) <br>\n",
    "변수명2 = 변수명.read()  <br>\n",
    "변수명.close() "
   ]
  },
  {
   "cell_type": "code",
   "execution_count": 3,
   "id": "8b2199f7",
   "metadata": {},
   "outputs": [
    {
     "name": "stdout",
     "output_type": "stream",
     "text": [
      "파일 만들기 연습\n"
     ]
    }
   ],
   "source": [
    "file2 = open('test.txt', 'r')\n",
    "my_file = file2.read()\n",
    "file2.close()\n",
    "print(my_file)"
   ]
  },
  {
   "cell_type": "markdown",
   "id": "f9b02658",
   "metadata": {},
   "source": [
    "### 3) with 문으로 파일 자동으로 닫기\n",
    "* 파일을 만들려면,  파일 만들기 => 내용 적기 => 파일닫기(저장)  <br>\n",
    "* 이때 close() 를 안하면 오류 발생 <br>\n",
    "* 이런 실수를 줄이기 위해서는 파일을 자동으로 닫아주는 with 문을 사용하면 편리"
   ]
  },
  {
   "cell_type": "code",
   "execution_count": 5,
   "id": "c542e5ec",
   "metadata": {},
   "outputs": [],
   "source": [
    "with open('test_with.txt', 'w') as file3 :    # as 로 별칭 사용\n",
    "    file3.write('with open을 사용하면 파일을 자동으로 닫아주어 편리하다.')\n",
    "\n",
    "# close를 사용하지 않고, 파일을 자동으로 닫음"
   ]
  },
  {
   "cell_type": "code",
   "execution_count": 6,
   "id": "19c6dcad",
   "metadata": {},
   "outputs": [
    {
     "name": "stdout",
     "output_type": "stream",
     "text": [
      "with open을 사용하면 파일을 자동으로 닫아주어 편리하다.\n"
     ]
    }
   ],
   "source": [
    "with open('test_with.txt', 'r') as file4 :\n",
    "    text = file4.read()\n",
    "print(text)"
   ]
  },
  {
   "cell_type": "code",
   "execution_count": null,
   "id": "721ef57f",
   "metadata": {},
   "outputs": [],
   "source": []
  },
  {
   "cell_type": "markdown",
   "id": "d93ec308",
   "metadata": {},
   "source": [
    "## * encoding 에 따른 읽기 오류  \n",
    "<br>\n",
    "* 운영체제나 (windows, linux, macOS), 한글/영어 윈도우에 따라서 인코딩 되는 포멧이 달라짐  <br>\n",
    "* 인코딩에 따른 오류가 발생할 수 있음. <br>\n",
    "* web 표준은 utf-8 이므로 인코딩은 utf-8로 하는 것이 좋다.  <br>\n",
    "* windows의 경우, 인코딩은 보통 cp949로 되므로 주의!"
   ]
  },
  {
   "cell_type": "code",
   "execution_count": 7,
   "id": "9b4689d1",
   "metadata": {},
   "outputs": [],
   "source": [
    "with open('test_with2.txt', 'w', encoding = 'utf-8') as file5 : \n",
    "    file5.write(\"이것은 with open으로 만든 텍스트 파일이고, utf-8로 인코딩 함\")"
   ]
  },
  {
   "cell_type": "markdown",
   "id": "d70f5cdb",
   "metadata": {},
   "source": [
    "* 메모장 txt. 파일 클릭해서 오른쪽 하단에 보면, 인코딩 하기 전에는 ANSI 이나, UTR-8 로 인코딩 함. "
   ]
  },
  {
   "cell_type": "code",
   "execution_count": 9,
   "id": "1ff29d9d",
   "metadata": {
    "scrolled": true
   },
   "outputs": [
    {
     "ename": "UnicodeDecodeError",
     "evalue": "'cp949' codec can't decode byte 0xec in position 0: illegal multibyte sequence",
     "output_type": "error",
     "traceback": [
      "\u001b[1;31m---------------------------------------------------------------------------\u001b[0m",
      "\u001b[1;31mUnicodeDecodeError\u001b[0m                        Traceback (most recent call last)",
      "Cell \u001b[1;32mIn[9], line 2\u001b[0m\n\u001b[0;32m      1\u001b[0m \u001b[38;5;28;01mwith\u001b[39;00m \u001b[38;5;28mopen\u001b[39m(\u001b[38;5;124m'\u001b[39m\u001b[38;5;124mtest_with2.txt\u001b[39m\u001b[38;5;124m'\u001b[39m, \u001b[38;5;124m'\u001b[39m\u001b[38;5;124mr\u001b[39m\u001b[38;5;124m'\u001b[39m) \u001b[38;5;28;01mas\u001b[39;00m file6 :\n\u001b[1;32m----> 2\u001b[0m     file6_text \u001b[38;5;241m=\u001b[39m \u001b[43mfile6\u001b[49m\u001b[38;5;241;43m.\u001b[39;49m\u001b[43mread\u001b[49m\u001b[43m(\u001b[49m\u001b[43m)\u001b[49m\n\u001b[0;32m      3\u001b[0m \u001b[38;5;28mprint\u001b[39m(file6_text)\n",
      "\u001b[1;31mUnicodeDecodeError\u001b[0m: 'cp949' codec can't decode byte 0xec in position 0: illegal multibyte sequence"
     ]
    }
   ],
   "source": [
    "with open('test_with2.txt', 'r') as file6 :\n",
    "    file6_text = file6.read()\n",
    "    \n",
    "print(file6_text)"
   ]
  },
  {
   "cell_type": "markdown",
   "id": "a8c13bd8",
   "metadata": {},
   "source": [
    "* 위 내용, 에러나는 이유 : 윈도우에서 쓰면 나는 에러, 윈도우는 기본적으로 저장을 'cp949'로 하기 때문이다. 리눅스에서는 아마 에러나지 않을 것임. 그래서 인코딩을 꼭 추가해줘야 함! "
   ]
  },
  {
   "cell_type": "code",
   "execution_count": 16,
   "id": "2de1a366",
   "metadata": {},
   "outputs": [
    {
     "name": "stdout",
     "output_type": "stream",
     "text": [
      "이것은 with open으로 만든 텍스트 파일이고, utf-8로 인코딩 함mode = 'a'로 놓고 작성하면 내용이 추가된다!\n"
     ]
    }
   ],
   "source": [
    "with open('test_with2.txt', 'r', encoding = 'utf-8') as file6 :\n",
    "    file6_text = file6.read()\n",
    "    \n",
    "print(file6_text)"
   ]
  },
  {
   "cell_type": "code",
   "execution_count": 11,
   "id": "cb7987f4",
   "metadata": {},
   "outputs": [],
   "source": [
    "with open('test_with2.txt', 'a', encoding = 'utf-8') as file5 : \n",
    "    file5.write(\"mode = 'a'로 놓고 작성하면 내용이 추가된다!\")\n",
    "    \n",
    "# 중간에 'a' 로 두면 (append) 이기 때문에 내용 추가할 수 있다. \n",
    "\n"
   ]
  },
  {
   "cell_type": "code",
   "execution_count": 14,
   "id": "3fc49837",
   "metadata": {},
   "outputs": [
    {
     "name": "stdout",
     "output_type": "stream",
     "text": [
      "이것은 with open으로 만든 텍스트 파일이고, utf-8로 인코딩 함mode = 'a'로 놓고 작성하면 내용이 추가된다!\n"
     ]
    }
   ],
   "source": [
    "with open('test_with2.txt', 'r', encoding = 'utf-8') as file6 :\n",
    "    file6_text = file6.read()\n",
    "    \n",
    "print(file6_text)"
   ]
  },
  {
   "cell_type": "markdown",
   "id": "1c16802f",
   "metadata": {},
   "source": [
    "# =========================================="
   ]
  },
  {
   "cell_type": "markdown",
   "id": "bb1a73c3",
   "metadata": {},
   "source": [
    "## 예제 : 공공데이터 열기  <br>\n",
    "./ 누르고 tab 치기"
   ]
  },
  {
   "cell_type": "code",
   "execution_count": 17,
   "id": "a06e9507",
   "metadata": {},
   "outputs": [
    {
     "name": "stdout",
     "output_type": "stream",
     "text": [
      "[\n",
      "    {\n",
      "        \"ForNum\": 44722,\n",
      "        \"NatNum\": 75991,\n",
      "        \"addrCd\": 1111,\n",
      "        \"gungu\": \"종로구\",\n",
      "        \"resNm\": \"창덕궁\",\n",
      "        \"rnum\": 1,\n",
      "        \"sido\": \"서울특별시\",\n",
      "        \"yyyymm\": \"201112\"\n",
      "    },\n",
      "    {\n",
      "        \"ForNum\": 0,\n",
      "        \"NatNum\": 11017,\n",
      "        \"addrCd\": 1111,\n",
      "        \"gungu\": \"종로구\",\n",
      "        \"resNm\": \"운현궁\",\n",
      "        \"rnum\": 2,\n",
      "        \"sido\": \"서울특별시\",\n",
      "        \"yyyymm\": \"201112\"\n",
      "    },\n",
      "    {\n",
      "        \"ForNum\": 132399,\n",
      "        \"NatNum\": 237330,\n",
      "        \"addrCd\": 1111,\n",
      "        \"gungu\": \"종로구\",\n",
      "        \"resNm\": \"경복궁\",\n",
      "        \"rnum\": 3,\n",
      "        \"sido\": \"서울특별시\",\n",
      "        \"yyyymm\": \"201112\"\n",
      "    },\n",
      "    {\n",
      "        \"ForNum\": 3133,\n",
      "        \"NatNum\": 21267,\n",
      "        \"addrCd\": 1111,\n",
      "        \"gungu\": \"종로구\",\n",
      "        \"resNm\": \"창경궁\",\n",
      "        \"rnum\": 4,\n",
      "        \"sido\": \"서울특별시\",\n",
      "        \"yyyymm\": \"201112\"\n",
      "    },\n",
      "    {\n",
      "        \"ForNum\": 18226,\n",
      "        \"NatNum\": 24223,\n",
      "        \"addrCd\": 1111,\n",
      "        \"gungu\": \"종로구\",\n",
      "        \"resNm\": \"종묘\",\n",
      "        \"rnum\": 5,\n",
      "        \"sido\": \"서울특별시\",\n",
      "        \"yyyymm\": \"201112\"\n",
      "    },\n",
      "    {\n",
      "        \"ForNum\": 0,\n",
      "        \"NatNum\": 233828,\n",
      "        \"addrCd\": 1117,\n",
      "        \"gungu\": \"용산구\",\n",
      "        \"resNm\": \"국립중앙박물관\",\n",
      "        \"rnum\": 6,\n",
      "        \"sido\": \"서울특별시\",\n",
      "        \"yyyymm\": \"201112\"\n",
      "    },\n",
      "    {\n",
      "        \"ForNum\": 0,\n",
      "        \"NatNum\": 93554,\n",
      "        \"addrCd\": 1111,\n",
      "        \"gungu\": \"종로구\",\n",
      "        \"resNm\": \"서울역사박물관\",\n",
      "        \"rnum\": 7,\n",
      "        \"sido\": \"서울특별시\",\n",
      "        \"yyyymm\": \"201112\"\n",
      "    },\n",
      "    {\n",
      "        \"ForNum\": 13935,\n",
      "        \"NatNum\": 52140,\n",
      "        \"addrCd\": 1114,\n",
      "        \"gungu\": \"중구\",\n",
      "        \"resNm\": \"덕수궁\",\n",
      "        \"rnum\": 8,\n",
      "        \"sido\": \"서울특별시\",\n",
      "        \"yyyymm\": \"201112\"\n",
      "    },\n",
      "    {\n",
      "        \"ForNum\": 0,\n",
      "        \"NatNum\": 61115,\n",
      "        \"addrCd\": 1114,\n",
      "        \"gungu\": \"중구\",\n",
      "        \"resNm\": \"서울시립미술관 본관\",\n",
      "        \"rnum\": 9,\n",
      "        \"sido\": \"서울특별시\",\n",
      "        \"yyyymm\": \"201112\"\n",
      "    },\n",
      "    {\n",
      "        \"ForNum\": 10,\n",
      "        \"NatNum\": 1885,\n",
      "        \"addrCd\": 1135,\n",
      "        \"gungu\": \"노원구\",\n",
      "        \"resNm\": \"태릉 ·  강릉 · 조선왕릉전시관\",\n",
      "        \"rnum\": 10,\n",
      "        \"sido\": \"서울특별시\",\n",
      "        \"yyyymm\": \"201112\"\n",
      "    },\n",
      "    {\n",
      "        \"ForNum\": 0,\n",
      "        \"NatNum\": 32412,\n",
      "        \"addrCd\": 1141,\n",
      "        \"gungu\": \"서대문구\",\n",
      "        \"resNm\": \"서대문형무소역사관\",\n",
      "        \"rnum\": 11,\n",
      "        \"sido\": \"서울특별시\",\n",
      "        \"yyyymm\": \"201112\"\n",
      "    },\n",
      "    {\n",
      "        \"ForNum\": 0,\n",
      "        \"NatNum\": 19308,\n",
      "        \"addrCd\": 1141,\n",
      "        \"gungu\": \"서대문구\",\n",
      "        \"resNm\": \"서대문자연사박물관\",\n",
      "        \"rnum\": 12,\n",
      "        \"sido\": \"서울특별시\",\n",
      "        \"yyyymm\": \"201112\"\n",
      "    },\n",
      "    {\n",
      "        \"ForNum\": 5214,\n",
      "        \"NatNum\": 6956,\n",
      "        \"addrCd\": 1144,\n",
      "        \"gungu\": \"마포구\",\n",
      "        \"resNm\": \"트릭아이미술관\",\n",
      "        \"rnum\": 13,\n",
      "        \"sido\": \"서울특별시\",\n",
      "        \"yyyymm\": \"201112\"\n",
      "    },\n",
      "    {\n",
      "        \"ForNum\": 333,\n",
      "        \"NatNum\": 1823,\n",
      "        \"addrCd\": 1165,\n",
      "        \"gungu\": \"서초구\",\n",
      "        \"resNm\": \"헌릉ㆍ인릉\",\n",
      "        \"rnum\": 14,\n",
      "        \"sido\": \"서울특별시\",\n",
      "        \"yyyymm\": \"201112\"\n",
      "    },\n",
      "    {\n",
      "        \"ForNum\": 4704,\n",
      "        \"NatNum\": 16634,\n",
      "        \"addrCd\": 1168,\n",
      "        \"gungu\": \"강남구\",\n",
      "        \"resNm\": \"선릉·정릉\",\n",
      "        \"rnum\": 15,\n",
      "        \"sido\": \"서울특별시\",\n",
      "        \"yyyymm\": \"201112\"\n",
      "    },\n",
      "    {\n",
      "        \"ForNum\": 52484,\n",
      "        \"NatNum\": 642290,\n",
      "        \"addrCd\": 1171,\n",
      "        \"gungu\": \"송파구\",\n",
      "        \"resNm\": \"롯데월드\",\n",
      "        \"rnum\": 16,\n",
      "        \"sido\": \"서울특별시\",\n",
      "        \"yyyymm\": \"201112\"\n",
      "    },\n",
      "    {\n",
      "        \"ForNum\": 27814,\n",
      "        \"NatNum\": 28061,\n",
      "        \"addrCd\": 1111,\n",
      "        \"gungu\": \"종로구\",\n",
      "        \"resNm\": \"창덕궁\",\n",
      "        \"rnum\": 1,\n",
      "        \"sido\": \"서울특별시\",\n",
      "        \"yyyymm\": \"201212\"\n",
      "    },\n",
      "    {\n",
      "        \"ForNum\": 546,\n",
      "        \"NatNum\": 5978,\n",
      "        \"addrCd\": 1111,\n",
      "        \"gungu\": \"종로구\",\n",
      "        \"resNm\": \"운현궁\",\n",
      "        \"rnum\": 2,\n",
      "        \"sido\": \"서울특별시\",\n",
      "        \"yyyymm\": \"201212\"\n",
      "    },\n",
      "    {\n",
      "        \"ForNum\": 105370,\n",
      "        \"NatNum\": 133012,\n",
      "        \"addrCd\": 1111,\n",
      "        \"gungu\": \"종로구\",\n",
      "        \"resNm\": \"경복궁\",\n",
      "        \"rnum\": 3,\n",
      "        \"sido\": \"서울특별시\",\n",
      "        \"yyyymm\": \"201212\"\n",
      "    },\n",
      "    {\n",
      "        \"ForNum\": 1451,\n",
      "        \"NatNum\": 15722,\n",
      "        \"addrCd\": 1111,\n",
      "        \"gungu\": \"종로구\",\n",
      "        \"resNm\": \"창경궁\",\n",
      "        \"rnum\": 4,\n",
      "        \"sido\": \"서울특별시\",\n",
      "        \"yyyymm\": \"201212\"\n",
      "    },\n",
      "    {\n",
      "        \"ForNum\": 8817,\n",
      "        \"NatNum\": 8068,\n",
      "        \"addrCd\": 1111,\n",
      "        \"gungu\": \"종로구\",\n",
      "        \"resNm\": \"종묘\",\n",
      "        \"rnum\": 5,\n",
      "        \"sido\": \"서울특별시\",\n",
      "        \"yyyymm\": \"201212\"\n",
      "    },\n",
      "    {\n",
      "        \"ForNum\": 13033,\n",
      "        \"NatNum\": 227077,\n",
      "        \"addrCd\": 1117,\n",
      "        \"gungu\": \"용산구\",\n",
      "        \"resNm\": \"국립중앙박물관\",\n",
      "        \"rnum\": 6,\n",
      "        \"sido\": \"서울특별시\",\n",
      "        \"yyyymm\": \"201212\"\n",
      "    },\n",
      "    {\n",
      "        \"ForNum\": 1138,\n",
      "        \"NatNum\": 78179,\n",
      "        \"addrCd\": 1111,\n",
      "        \"gungu\": \"종로구\",\n",
      "        \"resNm\": \"서울역사박물관\",\n",
      "        \"rnum\": 7,\n",
      "        \"sido\": \"서울특별시\",\n",
      "        \"yyyymm\": \"201212\"\n",
      "    },\n",
      "    {\n",
      "        \"ForNum\": 11151,\n",
      "        \"NatNum\": 44855,\n",
      "        \"addrCd\": 1114,\n",
      "        \"gungu\": \"중구\",\n",
      "        \"resNm\": \"덕수궁\",\n",
      "        \"rnum\": 8,\n",
      "        \"sido\": \"서울특별시\",\n",
      "        \"yyyymm\": \"201212\"\n",
      "    },\n",
      "    {\n",
      "        \"ForNum\": 0,\n",
      "        \"NatNum\": 213467,\n",
      "        \"addrCd\": 1114,\n",
      "        \"gungu\": \"중구\",\n",
      "        \"resNm\": \"서울시립미술관 본관\",\n",
      "        \"rnum\": 9,\n",
      "        \"sido\": \"서울특별시\",\n",
      "        \"yyyymm\": \"201212\"\n",
      "    },\n",
      "    {\n",
      "        \"ForNum\": 15,\n",
      "        \"NatNum\": 1252,\n",
      "        \"addrCd\": 1135,\n",
      "        \"gungu\": \"노원구\",\n",
      "        \"resNm\": \"태릉 ·  강릉 · 조선왕릉전시관\",\n",
      "        \"rnum\": 10,\n",
      "        \"sido\": \"서울특별시\",\n",
      "        \"yyyymm\": \"201212\"\n",
      "    },\n",
      "    {\n",
      "        \"ForNum\": 6625,\n",
      "        \"NatNum\": 14090,\n",
      "        \"addrCd\": 1141,\n",
      "        \"gungu\": \"서대문구\",\n",
      "        \"resNm\": \"서대문형무소역사관\",\n",
      "        \"rnum\": 11,\n",
      "        \"sido\": \"서울특별시\",\n",
      "        \"yyyymm\": \"201212\"\n",
      "    },\n",
      "    {\n",
      "        \"ForNum\": 0,\n",
      "        \"NatNum\": 18881,\n",
      "        \"addrCd\": 1141,\n",
      "        \"gungu\": \"서대문구\",\n",
      "        \"resNm\": \"서대문자연사박물관\",\n",
      "        \"rnum\": 12,\n",
      "        \"sido\": \"서울특별시\",\n",
      "        \"yyyymm\": \"201212\"\n",
      "    },\n",
      "    {\n",
      "        \"ForNum\": 24492,\n",
      "        \"NatNum\": 9167,\n",
      "        \"addrCd\": 1144,\n",
      "        \"gungu\": \"마포구\",\n",
      "        \"resNm\": \"트릭아이미술관\",\n",
      "        \"rnum\": 13,\n",
      "        \"sido\": \"서울특별시\",\n",
      "        \"yyyymm\": \"201212\"\n",
      "    },\n",
      "    {\n",
      "        \"ForNum\": 62,\n",
      "        \"NatNum\": 860,\n",
      "        \"addrCd\": 1165,\n",
      "        \"gungu\": \"서초구\",\n",
      "        \"resNm\": \"헌릉ㆍ인릉\",\n",
      "        \"rnum\": 14,\n",
      "        \"sido\": \"서울특별시\",\n",
      "        \"yyyymm\": \"201212\"\n",
      "    },\n",
      "    {\n",
      "        \"ForNum\": 66868,\n",
      "        \"NatNum\": 670056,\n",
      "        \"addrCd\": 1171,\n",
      "        \"gungu\": \"송파구\",\n",
      "        \"resNm\": \"롯데월드\",\n",
      "        \"rnum\": 15,\n",
      "        \"sido\": \"서울특별시\",\n",
      "        \"yyyymm\": \"201212\"\n",
      "    },\n",
      "    {\n",
      "        \"ForNum\": 25550,\n",
      "        \"NatNum\": 38553,\n",
      "        \"addrCd\": 1111,\n",
      "        \"gungu\": \"종로구\",\n",
      "        \"resNm\": \"창덕궁\",\n",
      "        \"rnum\": 1,\n",
      "        \"sido\": \"서울특별시\",\n",
      "        \"yyyymm\": \"201312\"\n",
      "    },\n",
      "    {\n",
      "        \"ForNum\": 101942,\n",
      "        \"NatNum\": 145544,\n",
      "        \"addrCd\": 1111,\n",
      "        \"gungu\": \"종로구\",\n",
      "        \"resNm\": \"경복궁\",\n",
      "        \"rnum\": 2,\n",
      "        \"sido\": \"서울특별시\",\n",
      "        \"yyyymm\": \"201312\"\n",
      "    },\n",
      "    {\n",
      "        \"ForNum\": 1986,\n",
      "        \"NatNum\": 20035,\n",
      "        \"addrCd\": 1111,\n",
      "        \"gungu\": \"종로구\",\n",
      "        \"resNm\": \"창경궁\",\n",
      "        \"rnum\": 3,\n",
      "        \"sido\": \"서울특별시\",\n",
      "        \"yyyymm\": \"201312\"\n",
      "    },\n",
      "    {\n",
      "        \"ForNum\": 6048,\n",
      "        \"NatNum\": 13896,\n",
      "        \"addrCd\": 1111,\n",
      "        \"gungu\": \"종로구\",\n",
      "        \"resNm\": \"종묘\",\n",
      "        \"rnum\": 4,\n",
      "        \"sido\": \"서울특별시\",\n",
      "        \"yyyymm\": \"201312\"\n",
      "    },\n",
      "    {\n",
      "        \"ForNum\": 9083,\n",
      "        \"NatNum\": 286992,\n",
      "        \"addrCd\": 1117,\n",
      "        \"gungu\": \"용산구\",\n",
      "        \"resNm\": \"국립중앙박물관\",\n",
      "        \"rnum\": 5,\n",
      "        \"sido\": \"서울특별시\",\n",
      "        \"yyyymm\": \"201312\"\n",
      "    },\n",
      "    {\n",
      "        \"ForNum\": 13282,\n",
      "        \"NatNum\": 99301,\n",
      "        \"addrCd\": 1114,\n",
      "        \"gungu\": \"중구\",\n",
      "        \"resNm\": \"덕수궁\",\n",
      "        \"rnum\": 6,\n",
      "        \"sido\": \"서울특별시\",\n",
      "        \"yyyymm\": \"201312\"\n",
      "    },\n",
      "    {\n",
      "        \"ForNum\": 6,\n",
      "        \"NatNum\": 706,\n",
      "        \"addrCd\": 1135,\n",
      "        \"gungu\": \"노원구\",\n",
      "        \"resNm\": \"태릉 ·  강릉 · 조선왕릉전시관\",\n",
      "        \"rnum\": 7,\n",
      "        \"sido\": \"서울특별시\",\n",
      "        \"yyyymm\": \"201312\"\n",
      "    },\n",
      "    {\n",
      "        \"ForNum\": 6732,\n",
      "        \"NatNum\": 14607,\n",
      "        \"addrCd\": 1141,\n",
      "        \"gungu\": \"서대문구\",\n",
      "        \"resNm\": \"서대문형무소역사관\",\n",
      "        \"rnum\": 8,\n",
      "        \"sido\": \"서울특별시\",\n",
      "        \"yyyymm\": \"201312\"\n",
      "    },\n",
      "    {\n",
      "        \"ForNum\": 0,\n",
      "        \"NatNum\": 23245,\n",
      "        \"addrCd\": 1141,\n",
      "        \"gungu\": \"서대문구\",\n",
      "        \"resNm\": \"서대문자연사박물관\",\n",
      "        \"rnum\": 9,\n",
      "        \"sido\": \"서울특별시\",\n",
      "        \"yyyymm\": \"201312\"\n",
      "    },\n",
      "    {\n",
      "        \"ForNum\": 43129,\n",
      "        \"NatNum\": 11886,\n",
      "        \"addrCd\": 1144,\n",
      "        \"gungu\": \"마포구\",\n",
      "        \"resNm\": \"트릭아이미술관\",\n",
      "        \"rnum\": 10,\n",
      "        \"sido\": \"서울특별시\",\n",
      "        \"yyyymm\": \"201312\"\n",
      "    },\n",
      "    {\n",
      "        \"ForNum\": 16,\n",
      "        \"NatNum\": 1248,\n",
      "        \"addrCd\": 1165,\n",
      "        \"gungu\": \"서초구\",\n",
      "        \"resNm\": \"헌릉ㆍ인릉\",\n",
      "        \"rnum\": 11,\n",
      "        \"sido\": \"서울특별시\",\n",
      "        \"yyyymm\": \"201312\"\n",
      "    },\n",
      "    {\n",
      "        \"ForNum\": 1445,\n",
      "        \"NatNum\": 11890,\n",
      "        \"addrCd\": 1168,\n",
      "        \"gungu\": \"강남구\",\n",
      "        \"resNm\": \"선릉·정릉\",\n",
      "        \"rnum\": 12,\n",
      "        \"sido\": \"서울특별시\",\n",
      "        \"yyyymm\": \"201312\"\n",
      "    },\n",
      "    {\n",
      "        \"ForNum\": 29928,\n",
      "        \"NatNum\": 41561,\n",
      "        \"addrCd\": 1111,\n",
      "        \"gungu\": \"종로구\",\n",
      "        \"resNm\": \"창덕궁\",\n",
      "        \"rnum\": 1,\n",
      "        \"sido\": \"서울특별시\",\n",
      "        \"yyyymm\": \"201412\"\n",
      "    },\n",
      "    {\n",
      "        \"ForNum\": 129946,\n",
      "        \"NatNum\": 190501,\n",
      "        \"addrCd\": 1111,\n",
      "        \"gungu\": \"종로구\",\n",
      "        \"resNm\": \"경복궁\",\n",
      "        \"rnum\": 2,\n",
      "        \"sido\": \"서울특별시\",\n",
      "        \"yyyymm\": \"201412\"\n",
      "    },\n",
      "    {\n",
      "        \"ForNum\": 1693,\n",
      "        \"NatNum\": 19473,\n",
      "        \"addrCd\": 1111,\n",
      "        \"gungu\": \"종로구\",\n",
      "        \"resNm\": \"창경궁\",\n",
      "        \"rnum\": 3,\n",
      "        \"sido\": \"서울특별시\",\n",
      "        \"yyyymm\": \"201412\"\n",
      "    },\n",
      "    {\n",
      "        \"ForNum\": 3891,\n",
      "        \"NatNum\": 5951,\n",
      "        \"addrCd\": 1111,\n",
      "        \"gungu\": \"종로구\",\n",
      "        \"resNm\": \"종묘\",\n",
      "        \"rnum\": 4,\n",
      "        \"sido\": \"서울특별시\",\n",
      "        \"yyyymm\": \"201412\"\n",
      "    },\n",
      "    {\n",
      "        \"ForNum\": 7195,\n",
      "        \"NatNum\": 258781,\n",
      "        \"addrCd\": 1117,\n",
      "        \"gungu\": \"용산구\",\n",
      "        \"resNm\": \"국립중앙박물관\",\n",
      "        \"rnum\": 5,\n",
      "        \"sido\": \"서울특별시\",\n",
      "        \"yyyymm\": \"201412\"\n",
      "    },\n",
      "    {\n",
      "        \"ForNum\": 14723,\n",
      "        \"NatNum\": 44272,\n",
      "        \"addrCd\": 1114,\n",
      "        \"gungu\": \"중구\",\n",
      "        \"resNm\": \"덕수궁\",\n",
      "        \"rnum\": 6,\n",
      "        \"sido\": \"서울특별시\",\n",
      "        \"yyyymm\": \"201412\"\n",
      "    },\n",
      "    {\n",
      "        \"ForNum\": 12,\n",
      "        \"NatNum\": 486,\n",
      "        \"addrCd\": 1135,\n",
      "        \"gungu\": \"노원구\",\n",
      "        \"resNm\": \"태릉 ·  강릉 · 조선왕릉전시관\",\n",
      "        \"rnum\": 7,\n",
      "        \"sido\": \"서울특별시\",\n",
      "        \"yyyymm\": \"201412\"\n",
      "    },\n",
      "    {\n",
      "        \"ForNum\": 6263,\n",
      "        \"NatNum\": 27205,\n",
      "        \"addrCd\": 1141,\n",
      "        \"gungu\": \"서대문구\",\n",
      "        \"resNm\": \"서대문형무소역사관\",\n",
      "        \"rnum\": 8,\n",
      "        \"sido\": \"서울특별시\",\n",
      "        \"yyyymm\": \"201412\"\n",
      "    },\n",
      "    {\n",
      "        \"ForNum\": 0,\n",
      "        \"NatNum\": 24527,\n",
      "        \"addrCd\": 1141,\n",
      "        \"gungu\": \"서대문구\",\n",
      "        \"resNm\": \"서대문자연사박물관\",\n",
      "        \"rnum\": 9,\n",
      "        \"sido\": \"서울특별시\",\n",
      "        \"yyyymm\": \"201412\"\n",
      "    },\n",
      "    {\n",
      "        \"ForNum\": 42443,\n",
      "        \"NatNum\": 7478,\n",
      "        \"addrCd\": 1144,\n",
      "        \"gungu\": \"마포구\",\n",
      "        \"resNm\": \"트릭아이미술관\",\n",
      "        \"rnum\": 10,\n",
      "        \"sido\": \"서울특별시\",\n",
      "        \"yyyymm\": \"201412\"\n",
      "    },\n",
      "    {\n",
      "        \"ForNum\": 5,\n",
      "        \"NatNum\": 1036,\n",
      "        \"addrCd\": 1165,\n",
      "        \"gungu\": \"서초구\",\n",
      "        \"resNm\": \"헌릉ㆍ인릉\",\n",
      "        \"rnum\": 11,\n",
      "        \"sido\": \"서울특별시\",\n",
      "        \"yyyymm\": \"201412\"\n",
      "    },\n",
      "    {\n",
      "        \"ForNum\": 823,\n",
      "        \"NatNum\": 8869,\n",
      "        \"addrCd\": 1168,\n",
      "        \"gungu\": \"강남구\",\n",
      "        \"resNm\": \"선릉·정릉\",\n",
      "        \"rnum\": 12,\n",
      "        \"sido\": \"서울특별시\",\n",
      "        \"yyyymm\": \"201412\"\n",
      "    },\n",
      "    {\n",
      "        \"ForNum\": 33342,\n",
      "        \"NatNum\": 59738,\n",
      "        \"addrCd\": 1111,\n",
      "        \"gungu\": \"종로구\",\n",
      "        \"resNm\": \"창덕궁\",\n",
      "        \"rnum\": 1,\n",
      "        \"sido\": \"서울특별시\",\n",
      "        \"yyyymm\": \"201512\"\n",
      "    },\n",
      "    {\n",
      "        \"ForNum\": 170379,\n",
      "        \"NatNum\": 148961,\n",
      "        \"addrCd\": 1111,\n",
      "        \"gungu\": \"종로구\",\n",
      "        \"resNm\": \"경복궁\",\n",
      "        \"rnum\": 2,\n",
      "        \"sido\": \"서울특별시\",\n",
      "        \"yyyymm\": \"201512\"\n",
      "    },\n",
      "    {\n",
      "        \"ForNum\": 1783,\n",
      "        \"NatNum\": 27172,\n",
      "        \"addrCd\": 1111,\n",
      "        \"gungu\": \"종로구\",\n",
      "        \"resNm\": \"창경궁\",\n",
      "        \"rnum\": 3,\n",
      "        \"sido\": \"서울특별시\",\n",
      "        \"yyyymm\": \"201512\"\n",
      "    },\n",
      "    {\n",
      "        \"ForNum\": 3406,\n",
      "        \"NatNum\": 14936,\n",
      "        \"addrCd\": 1111,\n",
      "        \"gungu\": \"종로구\",\n",
      "        \"resNm\": \"종묘\",\n",
      "        \"rnum\": 4,\n",
      "        \"sido\": \"서울특별시\",\n",
      "        \"yyyymm\": \"201512\"\n",
      "    },\n",
      "    {\n",
      "        \"ForNum\": 13127,\n",
      "        \"NatNum\": 281457,\n",
      "        \"addrCd\": 1117,\n",
      "        \"gungu\": \"용산구\",\n",
      "        \"resNm\": \"국립중앙박물관\",\n",
      "        \"rnum\": 5,\n",
      "        \"sido\": \"서울특별시\",\n",
      "        \"yyyymm\": \"201512\"\n",
      "    },\n",
      "    {\n",
      "        \"ForNum\": 15197,\n",
      "        \"NatNum\": 68749,\n",
      "        \"addrCd\": 1114,\n",
      "        \"gungu\": \"중구\",\n",
      "        \"resNm\": \"덕수궁\",\n",
      "        \"rnum\": 6,\n",
      "        \"sido\": \"서울특별시\",\n",
      "        \"yyyymm\": \"201512\"\n",
      "    },\n",
      "    {\n",
      "        \"ForNum\": 16,\n",
      "        \"NatNum\": 2221,\n",
      "        \"addrCd\": 1135,\n",
      "        \"gungu\": \"노원구\",\n",
      "        \"resNm\": \"태릉 ·  강릉 · 조선왕릉전시관\",\n",
      "        \"rnum\": 7,\n",
      "        \"sido\": \"서울특별시\",\n",
      "        \"yyyymm\": \"201512\"\n",
      "    },\n",
      "    {\n",
      "        \"ForNum\": 5588,\n",
      "        \"NatNum\": 44232,\n",
      "        \"addrCd\": 1141,\n",
      "        \"gungu\": \"서대문구\",\n",
      "        \"resNm\": \"서대문형무소역사관\",\n",
      "        \"rnum\": 8,\n",
      "        \"sido\": \"서울특별시\",\n",
      "        \"yyyymm\": \"201512\"\n",
      "    },\n",
      "    {\n",
      "        \"ForNum\": 0,\n",
      "        \"NatNum\": 22587,\n",
      "        \"addrCd\": 1141,\n",
      "        \"gungu\": \"서대문구\",\n",
      "        \"resNm\": \"서대문자연사박물관\",\n",
      "        \"rnum\": 9,\n",
      "        \"sido\": \"서울특별시\",\n",
      "        \"yyyymm\": \"201512\"\n",
      "    },\n",
      "    {\n",
      "        \"ForNum\": 29520,\n",
      "        \"NatNum\": 8822,\n",
      "        \"addrCd\": 1144,\n",
      "        \"gungu\": \"마포구\",\n",
      "        \"resNm\": \"트릭아이미술관\",\n",
      "        \"rnum\": 10,\n",
      "        \"sido\": \"서울특별시\",\n",
      "        \"yyyymm\": \"201512\"\n",
      "    },\n",
      "    {\n",
      "        \"ForNum\": 3,\n",
      "        \"NatNum\": 1647,\n",
      "        \"addrCd\": 1165,\n",
      "        \"gungu\": \"서초구\",\n",
      "        \"resNm\": \"헌릉ㆍ인릉\",\n",
      "        \"rnum\": 11,\n",
      "        \"sido\": \"서울특별시\",\n",
      "        \"yyyymm\": \"201512\"\n",
      "    },\n",
      "    {\n",
      "        \"ForNum\": 492,\n",
      "        \"NatNum\": 14454,\n",
      "        \"addrCd\": 1168,\n",
      "        \"gungu\": \"강남구\",\n",
      "        \"resNm\": \"선릉·정릉\",\n",
      "        \"rnum\": 12,\n",
      "        \"sido\": \"서울특별시\",\n",
      "        \"yyyymm\": \"201512\"\n",
      "    }\n",
      "]\n"
     ]
    }
   ],
   "source": [
    "with open(\"./test/서울특별시_관광지입장정보_2011_2016.json\", 'r', encoding = 'utf-8') as f :\n",
    "    tour_data = f.read()\n",
    "print(tour_data)"
   ]
  },
  {
   "cell_type": "code",
   "execution_count": 26,
   "id": "a98f8237",
   "metadata": {},
   "outputs": [
    {
     "data": {
      "text/plain": [
       "'[\\n    {\\n        \"ForNum\": 44722,\\n        \"NatNum\": 75991,\\n        \"addrCd\": 1111,\\n        \"gungu\": \"종로구\",\\n        \"resNm\": \"창덕궁\",\\n        \"rnum\": 1,\\n        \"sido\": \"서울특별시\",\\n        \"yyyymm\": \"201112\"\\n    },\\n    {\\n        \"ForNum\": 0,\\n        \"NatNum\": 11017,\\n        \"addrCd\": 1111,\\n        \"gungu\": \"종로구\",\\n        \"resNm\": \"운현궁\",\\n        \"rnum\": 2,\\n        \"sido\": \"서울특별시\",\\n        \"yyyymm\": \"201112\"\\n    },\\n    {\\n        \"ForNum\": 132399,\\n        \"NatNum\": 237330,\\n        \"addrCd\": 1111,\\n        \"gungu\": \"종로구\",\\n        \"resNm\": \"경복궁\",\\n        \"rnum\": 3,\\n        \"sido\": \"서울특별시\",\\n        \"yyyymm\": \"201112\"\\n    },\\n    {\\n        \"ForNum\": 3133,\\n        \"NatNum\": 21267,\\n        \"addrCd\": 1111,\\n        \"gungu\": \"종로구\",\\n        \"resNm\": \"창경궁\",\\n        \"rnum\": 4,\\n        \"sido\": \"서울특별시\",\\n        \"yyyymm\": \"201112\"\\n    },\\n    {\\n        \"ForNum\": 18226,\\n        \"NatNum\": 24223,\\n        \"addrCd\": 1111,\\n        \"gungu\": \"종로구\",\\n        \"resNm\": \"종묘\",\\n        \"rnum\": 5,\\n        \"sido\": \"서울특별시\",\\n        \"yyyymm\": \"201112\"\\n    },\\n    {\\n        \"ForNum\": 0,\\n        \"NatNum\": 233828,\\n        \"addrCd\": 1117,\\n        \"gungu\": \"용산구\",\\n        \"resNm\": \"국립중앙박물관\",\\n        \"rnum\": 6,\\n        \"sido\": \"서울특별시\",\\n        \"yyyymm\": \"201112\"\\n    },\\n    {\\n        \"ForNum\": 0,\\n        \"NatNum\": 93554,\\n        \"addrCd\": 1111,\\n        \"gungu\": \"종로구\",\\n        \"resNm\": \"서울역사박물관\",\\n        \"rnum\": 7,\\n        \"sido\": \"서울특별시\",\\n        \"yyyymm\": \"201112\"\\n    },\\n    {\\n        \"ForNum\": 13935,\\n        \"NatNum\": 52140,\\n        \"addrCd\": 1114,\\n        \"gungu\": \"중구\",\\n        \"resNm\": \"덕수궁\",\\n        \"rnum\": 8,\\n        \"sido\": \"서울특별시\",\\n        \"yyyymm\": \"201112\"\\n    },\\n    {\\n        \"ForNum\": 0,\\n        \"NatNum\": 61115,\\n        \"addrCd\": 1114,\\n        \"gungu\": \"중구\",\\n        \"resNm\": \"서울시립미술관 본관\",\\n        \"rnum\": 9,\\n        \"sido\": \"서울특별시\",\\n        \"yyyymm\": \"201112\"\\n    },\\n    {\\n        \"ForNum\": 10,\\n        \"NatNum\": 1885,\\n        \"addrCd\": 1135,\\n        \"gungu\": \"노원구\",\\n        \"resNm\": \"태릉 ·  강릉 · 조선왕릉전시관\",\\n        \"rnum\": 10,\\n        \"sido\": \"서울특별시\",\\n        \"yyyymm\": \"201112\"\\n    },\\n    {\\n        \"ForNum\": 0,\\n        \"NatNum\": 32412,\\n        \"addrCd\": 1141,\\n        \"gungu\": \"서대문구\",\\n        \"resNm\": \"서대문형무소역사관\",\\n        \"rnum\": 11,\\n        \"sido\": \"서울특별시\",\\n        \"yyyymm\": \"201112\"\\n    },\\n    {\\n        \"ForNum\": 0,\\n        \"NatNum\": 19308,\\n        \"addrCd\": 1141,\\n        \"gungu\": \"서대문구\",\\n        \"resNm\": \"서대문자연사박물관\",\\n        \"rnum\": 12,\\n        \"sido\": \"서울특별시\",\\n        \"yyyymm\": \"201112\"\\n    },\\n    {\\n        \"ForNum\": 5214,\\n        \"NatNum\": 6956,\\n        \"addrCd\": 1144,\\n        \"gungu\": \"마포구\",\\n        \"resNm\": \"트릭아이미술관\",\\n        \"rnum\": 13,\\n        \"sido\": \"서울특별시\",\\n        \"yyyymm\": \"201112\"\\n    },\\n    {\\n        \"ForNum\": 333,\\n        \"NatNum\": 1823,\\n        \"addrCd\": 1165,\\n        \"gungu\": \"서초구\",\\n        \"resNm\": \"헌릉ㆍ인릉\",\\n        \"rnum\": 14,\\n        \"sido\": \"서울특별시\",\\n        \"yyyymm\": \"201112\"\\n    },\\n    {\\n        \"ForNum\": 4704,\\n        \"NatNum\": 16634,\\n        \"addrCd\": 1168,\\n        \"gungu\": \"강남구\",\\n        \"resNm\": \"선릉·정릉\",\\n        \"rnum\": 15,\\n        \"sido\": \"서울특별시\",\\n        \"yyyymm\": \"201112\"\\n    },\\n    {\\n        \"ForNum\": 52484,\\n        \"NatNum\": 642290,\\n        \"addrCd\": 1171,\\n        \"gungu\": \"송파구\",\\n        \"resNm\": \"롯데월드\",\\n        \"rnum\": 16,\\n        \"sido\": \"서울특별시\",\\n        \"yyyymm\": \"201112\"\\n    },\\n    {\\n        \"ForNum\": 27814,\\n        \"NatNum\": 28061,\\n        \"addrCd\": 1111,\\n        \"gungu\": \"종로구\",\\n        \"resNm\": \"창덕궁\",\\n        \"rnum\": 1,\\n        \"sido\": \"서울특별시\",\\n        \"yyyymm\": \"201212\"\\n    },\\n    {\\n        \"ForNum\": 546,\\n        \"NatNum\": 5978,\\n        \"addrCd\": 1111,\\n        \"gungu\": \"종로구\",\\n        \"resNm\": \"운현궁\",\\n        \"rnum\": 2,\\n        \"sido\": \"서울특별시\",\\n        \"yyyymm\": \"201212\"\\n    },\\n    {\\n        \"ForNum\": 105370,\\n        \"NatNum\": 133012,\\n        \"addrCd\": 1111,\\n        \"gungu\": \"종로구\",\\n        \"resNm\": \"경복궁\",\\n        \"rnum\": 3,\\n        \"sido\": \"서울특별시\",\\n        \"yyyymm\": \"201212\"\\n    },\\n    {\\n        \"ForNum\": 1451,\\n        \"NatNum\": 15722,\\n        \"addrCd\": 1111,\\n        \"gungu\": \"종로구\",\\n        \"resNm\": \"창경궁\",\\n        \"rnum\": 4,\\n        \"sido\": \"서울특별시\",\\n        \"yyyymm\": \"201212\"\\n    },\\n    {\\n        \"ForNum\": 8817,\\n        \"NatNum\": 8068,\\n        \"addrCd\": 1111,\\n        \"gungu\": \"종로구\",\\n        \"resNm\": \"종묘\",\\n        \"rnum\": 5,\\n        \"sido\": \"서울특별시\",\\n        \"yyyymm\": \"201212\"\\n    },\\n    {\\n        \"ForNum\": 13033,\\n        \"NatNum\": 227077,\\n        \"addrCd\": 1117,\\n        \"gungu\": \"용산구\",\\n        \"resNm\": \"국립중앙박물관\",\\n        \"rnum\": 6,\\n        \"sido\": \"서울특별시\",\\n        \"yyyymm\": \"201212\"\\n    },\\n    {\\n        \"ForNum\": 1138,\\n        \"NatNum\": 78179,\\n        \"addrCd\": 1111,\\n        \"gungu\": \"종로구\",\\n        \"resNm\": \"서울역사박물관\",\\n        \"rnum\": 7,\\n        \"sido\": \"서울특별시\",\\n        \"yyyymm\": \"201212\"\\n    },\\n    {\\n        \"ForNum\": 11151,\\n        \"NatNum\": 44855,\\n        \"addrCd\": 1114,\\n        \"gungu\": \"중구\",\\n        \"resNm\": \"덕수궁\",\\n        \"rnum\": 8,\\n        \"sido\": \"서울특별시\",\\n        \"yyyymm\": \"201212\"\\n    },\\n    {\\n        \"ForNum\": 0,\\n        \"NatNum\": 213467,\\n        \"addrCd\": 1114,\\n        \"gungu\": \"중구\",\\n        \"resNm\": \"서울시립미술관 본관\",\\n        \"rnum\": 9,\\n        \"sido\": \"서울특별시\",\\n        \"yyyymm\": \"201212\"\\n    },\\n    {\\n        \"ForNum\": 15,\\n        \"NatNum\": 1252,\\n        \"addrCd\": 1135,\\n        \"gungu\": \"노원구\",\\n        \"resNm\": \"태릉 ·  강릉 · 조선왕릉전시관\",\\n        \"rnum\": 10,\\n        \"sido\": \"서울특별시\",\\n        \"yyyymm\": \"201212\"\\n    },\\n    {\\n        \"ForNum\": 6625,\\n        \"NatNum\": 14090,\\n        \"addrCd\": 1141,\\n        \"gungu\": \"서대문구\",\\n        \"resNm\": \"서대문형무소역사관\",\\n        \"rnum\": 11,\\n        \"sido\": \"서울특별시\",\\n        \"yyyymm\": \"201212\"\\n    },\\n    {\\n        \"ForNum\": 0,\\n        \"NatNum\": 18881,\\n        \"addrCd\": 1141,\\n        \"gungu\": \"서대문구\",\\n        \"resNm\": \"서대문자연사박물관\",\\n        \"rnum\": 12,\\n        \"sido\": \"서울특별시\",\\n        \"yyyymm\": \"201212\"\\n    },\\n    {\\n        \"ForNum\": 24492,\\n        \"NatNum\": 9167,\\n        \"addrCd\": 1144,\\n        \"gungu\": \"마포구\",\\n        \"resNm\": \"트릭아이미술관\",\\n        \"rnum\": 13,\\n        \"sido\": \"서울특별시\",\\n        \"yyyymm\": \"201212\"\\n    },\\n    {\\n        \"ForNum\": 62,\\n        \"NatNum\": 860,\\n        \"addrCd\": 1165,\\n        \"gungu\": \"서초구\",\\n        \"resNm\": \"헌릉ㆍ인릉\",\\n        \"rnum\": 14,\\n        \"sido\": \"서울특별시\",\\n        \"yyyymm\": \"201212\"\\n    },\\n    {\\n        \"ForNum\": 66868,\\n        \"NatNum\": 670056,\\n        \"addrCd\": 1171,\\n        \"gungu\": \"송파구\",\\n        \"resNm\": \"롯데월드\",\\n        \"rnum\": 15,\\n        \"sido\": \"서울특별시\",\\n        \"yyyymm\": \"201212\"\\n    },\\n    {\\n        \"ForNum\": 25550,\\n        \"NatNum\": 38553,\\n        \"addrCd\": 1111,\\n        \"gungu\": \"종로구\",\\n        \"resNm\": \"창덕궁\",\\n        \"rnum\": 1,\\n        \"sido\": \"서울특별시\",\\n        \"yyyymm\": \"201312\"\\n    },\\n    {\\n        \"ForNum\": 101942,\\n        \"NatNum\": 145544,\\n        \"addrCd\": 1111,\\n        \"gungu\": \"종로구\",\\n        \"resNm\": \"경복궁\",\\n        \"rnum\": 2,\\n        \"sido\": \"서울특별시\",\\n        \"yyyymm\": \"201312\"\\n    },\\n    {\\n        \"ForNum\": 1986,\\n        \"NatNum\": 20035,\\n        \"addrCd\": 1111,\\n        \"gungu\": \"종로구\",\\n        \"resNm\": \"창경궁\",\\n        \"rnum\": 3,\\n        \"sido\": \"서울특별시\",\\n        \"yyyymm\": \"201312\"\\n    },\\n    {\\n        \"ForNum\": 6048,\\n        \"NatNum\": 13896,\\n        \"addrCd\": 1111,\\n        \"gungu\": \"종로구\",\\n        \"resNm\": \"종묘\",\\n        \"rnum\": 4,\\n        \"sido\": \"서울특별시\",\\n        \"yyyymm\": \"201312\"\\n    },\\n    {\\n        \"ForNum\": 9083,\\n        \"NatNum\": 286992,\\n        \"addrCd\": 1117,\\n        \"gungu\": \"용산구\",\\n        \"resNm\": \"국립중앙박물관\",\\n        \"rnum\": 5,\\n        \"sido\": \"서울특별시\",\\n        \"yyyymm\": \"201312\"\\n    },\\n    {\\n        \"ForNum\": 13282,\\n        \"NatNum\": 99301,\\n        \"addrCd\": 1114,\\n        \"gungu\": \"중구\",\\n        \"resNm\": \"덕수궁\",\\n        \"rnum\": 6,\\n        \"sido\": \"서울특별시\",\\n        \"yyyymm\": \"201312\"\\n    },\\n    {\\n        \"ForNum\": 6,\\n        \"NatNum\": 706,\\n        \"addrCd\": 1135,\\n        \"gungu\": \"노원구\",\\n        \"resNm\": \"태릉 ·  강릉 · 조선왕릉전시관\",\\n        \"rnum\": 7,\\n        \"sido\": \"서울특별시\",\\n        \"yyyymm\": \"201312\"\\n    },\\n    {\\n        \"ForNum\": 6732,\\n        \"NatNum\": 14607,\\n        \"addrCd\": 1141,\\n        \"gungu\": \"서대문구\",\\n        \"resNm\": \"서대문형무소역사관\",\\n        \"rnum\": 8,\\n        \"sido\": \"서울특별시\",\\n        \"yyyymm\": \"201312\"\\n    },\\n    {\\n        \"ForNum\": 0,\\n        \"NatNum\": 23245,\\n        \"addrCd\": 1141,\\n        \"gungu\": \"서대문구\",\\n        \"resNm\": \"서대문자연사박물관\",\\n        \"rnum\": 9,\\n        \"sido\": \"서울특별시\",\\n        \"yyyymm\": \"201312\"\\n    },\\n    {\\n        \"ForNum\": 43129,\\n        \"NatNum\": 11886,\\n        \"addrCd\": 1144,\\n        \"gungu\": \"마포구\",\\n        \"resNm\": \"트릭아이미술관\",\\n        \"rnum\": 10,\\n        \"sido\": \"서울특별시\",\\n        \"yyyymm\": \"201312\"\\n    },\\n    {\\n        \"ForNum\": 16,\\n        \"NatNum\": 1248,\\n        \"addrCd\": 1165,\\n        \"gungu\": \"서초구\",\\n        \"resNm\": \"헌릉ㆍ인릉\",\\n        \"rnum\": 11,\\n        \"sido\": \"서울특별시\",\\n        \"yyyymm\": \"201312\"\\n    },\\n    {\\n        \"ForNum\": 1445,\\n        \"NatNum\": 11890,\\n        \"addrCd\": 1168,\\n        \"gungu\": \"강남구\",\\n        \"resNm\": \"선릉·정릉\",\\n        \"rnum\": 12,\\n        \"sido\": \"서울특별시\",\\n        \"yyyymm\": \"201312\"\\n    },\\n    {\\n        \"ForNum\": 29928,\\n        \"NatNum\": 41561,\\n        \"addrCd\": 1111,\\n        \"gungu\": \"종로구\",\\n        \"resNm\": \"창덕궁\",\\n        \"rnum\": 1,\\n        \"sido\": \"서울특별시\",\\n        \"yyyymm\": \"201412\"\\n    },\\n    {\\n        \"ForNum\": 129946,\\n        \"NatNum\": 190501,\\n        \"addrCd\": 1111,\\n        \"gungu\": \"종로구\",\\n        \"resNm\": \"경복궁\",\\n        \"rnum\": 2,\\n        \"sido\": \"서울특별시\",\\n        \"yyyymm\": \"201412\"\\n    },\\n    {\\n        \"ForNum\": 1693,\\n        \"NatNum\": 19473,\\n        \"addrCd\": 1111,\\n        \"gungu\": \"종로구\",\\n        \"resNm\": \"창경궁\",\\n        \"rnum\": 3,\\n        \"sido\": \"서울특별시\",\\n        \"yyyymm\": \"201412\"\\n    },\\n    {\\n        \"ForNum\": 3891,\\n        \"NatNum\": 5951,\\n        \"addrCd\": 1111,\\n        \"gungu\": \"종로구\",\\n        \"resNm\": \"종묘\",\\n        \"rnum\": 4,\\n        \"sido\": \"서울특별시\",\\n        \"yyyymm\": \"201412\"\\n    },\\n    {\\n        \"ForNum\": 7195,\\n        \"NatNum\": 258781,\\n        \"addrCd\": 1117,\\n        \"gungu\": \"용산구\",\\n        \"resNm\": \"국립중앙박물관\",\\n        \"rnum\": 5,\\n        \"sido\": \"서울특별시\",\\n        \"yyyymm\": \"201412\"\\n    },\\n    {\\n        \"ForNum\": 14723,\\n        \"NatNum\": 44272,\\n        \"addrCd\": 1114,\\n        \"gungu\": \"중구\",\\n        \"resNm\": \"덕수궁\",\\n        \"rnum\": 6,\\n        \"sido\": \"서울특별시\",\\n        \"yyyymm\": \"201412\"\\n    },\\n    {\\n        \"ForNum\": 12,\\n        \"NatNum\": 486,\\n        \"addrCd\": 1135,\\n        \"gungu\": \"노원구\",\\n        \"resNm\": \"태릉 ·  강릉 · 조선왕릉전시관\",\\n        \"rnum\": 7,\\n        \"sido\": \"서울특별시\",\\n        \"yyyymm\": \"201412\"\\n    },\\n    {\\n        \"ForNum\": 6263,\\n        \"NatNum\": 27205,\\n        \"addrCd\": 1141,\\n        \"gungu\": \"서대문구\",\\n        \"resNm\": \"서대문형무소역사관\",\\n        \"rnum\": 8,\\n        \"sido\": \"서울특별시\",\\n        \"yyyymm\": \"201412\"\\n    },\\n    {\\n        \"ForNum\": 0,\\n        \"NatNum\": 24527,\\n        \"addrCd\": 1141,\\n        \"gungu\": \"서대문구\",\\n        \"resNm\": \"서대문자연사박물관\",\\n        \"rnum\": 9,\\n        \"sido\": \"서울특별시\",\\n        \"yyyymm\": \"201412\"\\n    },\\n    {\\n        \"ForNum\": 42443,\\n        \"NatNum\": 7478,\\n        \"addrCd\": 1144,\\n        \"gungu\": \"마포구\",\\n        \"resNm\": \"트릭아이미술관\",\\n        \"rnum\": 10,\\n        \"sido\": \"서울특별시\",\\n        \"yyyymm\": \"201412\"\\n    },\\n    {\\n        \"ForNum\": 5,\\n        \"NatNum\": 1036,\\n        \"addrCd\": 1165,\\n        \"gungu\": \"서초구\",\\n        \"resNm\": \"헌릉ㆍ인릉\",\\n        \"rnum\": 11,\\n        \"sido\": \"서울특별시\",\\n        \"yyyymm\": \"201412\"\\n    },\\n    {\\n        \"ForNum\": 823,\\n        \"NatNum\": 8869,\\n        \"addrCd\": 1168,\\n        \"gungu\": \"강남구\",\\n        \"resNm\": \"선릉·정릉\",\\n        \"rnum\": 12,\\n        \"sido\": \"서울특별시\",\\n        \"yyyymm\": \"201412\"\\n    },\\n    {\\n        \"ForNum\": 33342,\\n        \"NatNum\": 59738,\\n        \"addrCd\": 1111,\\n        \"gungu\": \"종로구\",\\n        \"resNm\": \"창덕궁\",\\n        \"rnum\": 1,\\n        \"sido\": \"서울특별시\",\\n        \"yyyymm\": \"201512\"\\n    },\\n    {\\n        \"ForNum\": 170379,\\n        \"NatNum\": 148961,\\n        \"addrCd\": 1111,\\n        \"gungu\": \"종로구\",\\n        \"resNm\": \"경복궁\",\\n        \"rnum\": 2,\\n        \"sido\": \"서울특별시\",\\n        \"yyyymm\": \"201512\"\\n    },\\n    {\\n        \"ForNum\": 1783,\\n        \"NatNum\": 27172,\\n        \"addrCd\": 1111,\\n        \"gungu\": \"종로구\",\\n        \"resNm\": \"창경궁\",\\n        \"rnum\": 3,\\n        \"sido\": \"서울특별시\",\\n        \"yyyymm\": \"201512\"\\n    },\\n    {\\n        \"ForNum\": 3406,\\n        \"NatNum\": 14936,\\n        \"addrCd\": 1111,\\n        \"gungu\": \"종로구\",\\n        \"resNm\": \"종묘\",\\n        \"rnum\": 4,\\n        \"sido\": \"서울특별시\",\\n        \"yyyymm\": \"201512\"\\n    },\\n    {\\n        \"ForNum\": 13127,\\n        \"NatNum\": 281457,\\n        \"addrCd\": 1117,\\n        \"gungu\": \"용산구\",\\n        \"resNm\": \"국립중앙박물관\",\\n        \"rnum\": 5,\\n        \"sido\": \"서울특별시\",\\n        \"yyyymm\": \"201512\"\\n    },\\n    {\\n        \"ForNum\": 15197,\\n        \"NatNum\": 68749,\\n        \"addrCd\": 1114,\\n        \"gungu\": \"중구\",\\n        \"resNm\": \"덕수궁\",\\n        \"rnum\": 6,\\n        \"sido\": \"서울특별시\",\\n        \"yyyymm\": \"201512\"\\n    },\\n    {\\n        \"ForNum\": 16,\\n        \"NatNum\": 2221,\\n        \"addrCd\": 1135,\\n        \"gungu\": \"노원구\",\\n        \"resNm\": \"태릉 ·  강릉 · 조선왕릉전시관\",\\n        \"rnum\": 7,\\n        \"sido\": \"서울특별시\",\\n        \"yyyymm\": \"201512\"\\n    },\\n    {\\n        \"ForNum\": 5588,\\n        \"NatNum\": 44232,\\n        \"addrCd\": 1141,\\n        \"gungu\": \"서대문구\",\\n        \"resNm\": \"서대문형무소역사관\",\\n        \"rnum\": 8,\\n        \"sido\": \"서울특별시\",\\n        \"yyyymm\": \"201512\"\\n    },\\n    {\\n        \"ForNum\": 0,\\n        \"NatNum\": 22587,\\n        \"addrCd\": 1141,\\n        \"gungu\": \"서대문구\",\\n        \"resNm\": \"서대문자연사박물관\",\\n        \"rnum\": 9,\\n        \"sido\": \"서울특별시\",\\n        \"yyyymm\": \"201512\"\\n    },\\n    {\\n        \"ForNum\": 29520,\\n        \"NatNum\": 8822,\\n        \"addrCd\": 1144,\\n        \"gungu\": \"마포구\",\\n        \"resNm\": \"트릭아이미술관\",\\n        \"rnum\": 10,\\n        \"sido\": \"서울특별시\",\\n        \"yyyymm\": \"201512\"\\n    },\\n    {\\n        \"ForNum\": 3,\\n        \"NatNum\": 1647,\\n        \"addrCd\": 1165,\\n        \"gungu\": \"서초구\",\\n        \"resNm\": \"헌릉ㆍ인릉\",\\n        \"rnum\": 11,\\n        \"sido\": \"서울특별시\",\\n        \"yyyymm\": \"201512\"\\n    },\\n    {\\n        \"ForNum\": 492,\\n        \"NatNum\": 14454,\\n        \"addrCd\": 1168,\\n        \"gungu\": \"강남구\",\\n        \"resNm\": \"선릉·정릉\",\\n        \"rnum\": 12,\\n        \"sido\": \"서울특별시\",\\n        \"yyyymm\": \"201512\"\\n    }\\n]'"
      ]
     },
     "execution_count": 26,
     "metadata": {},
     "output_type": "execute_result"
    }
   ],
   "source": [
    "tour_data"
   ]
  },
  {
   "cell_type": "code",
   "execution_count": 22,
   "id": "957e1c3b",
   "metadata": {},
   "outputs": [
    {
     "name": "stdout",
     "output_type": "stream",
     "text": [
      "[\n",
      "\n",
      "\n",
      " \n",
      " \n",
      " \n",
      " \n",
      "{\n",
      "\n",
      "\n",
      " \n",
      " \n"
     ]
    }
   ],
   "source": [
    "for item in tour_data[:10]: \n",
    "    print(item)"
   ]
  },
  {
   "cell_type": "code",
   "execution_count": 27,
   "id": "e3eae6b6",
   "metadata": {},
   "outputs": [
    {
     "name": "stdout",
     "output_type": "stream",
     "text": [
      "<class 'str'>\n"
     ]
    }
   ],
   "source": [
    "print(type(tour_data))\n",
    "\n",
    "# 위 내용은 txt 이기 때문에 str 문자다. 변환을 해서 사용해야 한다. "
   ]
  },
  {
   "cell_type": "markdown",
   "id": "3518f6b7",
   "metadata": {},
   "source": [
    "* with open 으로 파일을 읽어오면 data type 은 모두 str 이 된다. <br>\n",
    "* 그래서 리스트나 딕셔너리처럼 사용하려면 변환 필요함. <br>\n",
    "* 변환에는 JSON 라이브러리를 사용하면 된다. <br>\n",
    "import json <br>\n",
    "json.loads(변환할 자료가 담긴 변수)  <br>\n",
    "<br>\n",
    "\n",
    "* 이렇게 안하면 보이는 것은 딕셔너리지만, 실제로는 텍스트일뿐!"
   ]
  },
  {
   "cell_type": "code",
   "execution_count": 28,
   "id": "afc5700d",
   "metadata": {},
   "outputs": [],
   "source": [
    "import json"
   ]
  },
  {
   "cell_type": "code",
   "execution_count": 31,
   "id": "20ebc6a0",
   "metadata": {},
   "outputs": [
    {
     "data": {
      "text/plain": [
       "[{'ForNum': 44722,\n",
       "  'NatNum': 75991,\n",
       "  'addrCd': 1111,\n",
       "  'gungu': '종로구',\n",
       "  'resNm': '창덕궁',\n",
       "  'rnum': 1,\n",
       "  'sido': '서울특별시',\n",
       "  'yyyymm': '201112'},\n",
       " {'ForNum': 0,\n",
       "  'NatNum': 11017,\n",
       "  'addrCd': 1111,\n",
       "  'gungu': '종로구',\n",
       "  'resNm': '운현궁',\n",
       "  'rnum': 2,\n",
       "  'sido': '서울특별시',\n",
       "  'yyyymm': '201112'},\n",
       " {'ForNum': 132399,\n",
       "  'NatNum': 237330,\n",
       "  'addrCd': 1111,\n",
       "  'gungu': '종로구',\n",
       "  'resNm': '경복궁',\n",
       "  'rnum': 3,\n",
       "  'sido': '서울특별시',\n",
       "  'yyyymm': '201112'},\n",
       " {'ForNum': 3133,\n",
       "  'NatNum': 21267,\n",
       "  'addrCd': 1111,\n",
       "  'gungu': '종로구',\n",
       "  'resNm': '창경궁',\n",
       "  'rnum': 4,\n",
       "  'sido': '서울특별시',\n",
       "  'yyyymm': '201112'},\n",
       " {'ForNum': 18226,\n",
       "  'NatNum': 24223,\n",
       "  'addrCd': 1111,\n",
       "  'gungu': '종로구',\n",
       "  'resNm': '종묘',\n",
       "  'rnum': 5,\n",
       "  'sido': '서울특별시',\n",
       "  'yyyymm': '201112'},\n",
       " {'ForNum': 0,\n",
       "  'NatNum': 233828,\n",
       "  'addrCd': 1117,\n",
       "  'gungu': '용산구',\n",
       "  'resNm': '국립중앙박물관',\n",
       "  'rnum': 6,\n",
       "  'sido': '서울특별시',\n",
       "  'yyyymm': '201112'},\n",
       " {'ForNum': 0,\n",
       "  'NatNum': 93554,\n",
       "  'addrCd': 1111,\n",
       "  'gungu': '종로구',\n",
       "  'resNm': '서울역사박물관',\n",
       "  'rnum': 7,\n",
       "  'sido': '서울특별시',\n",
       "  'yyyymm': '201112'},\n",
       " {'ForNum': 13935,\n",
       "  'NatNum': 52140,\n",
       "  'addrCd': 1114,\n",
       "  'gungu': '중구',\n",
       "  'resNm': '덕수궁',\n",
       "  'rnum': 8,\n",
       "  'sido': '서울특별시',\n",
       "  'yyyymm': '201112'},\n",
       " {'ForNum': 0,\n",
       "  'NatNum': 61115,\n",
       "  'addrCd': 1114,\n",
       "  'gungu': '중구',\n",
       "  'resNm': '서울시립미술관 본관',\n",
       "  'rnum': 9,\n",
       "  'sido': '서울특별시',\n",
       "  'yyyymm': '201112'},\n",
       " {'ForNum': 10,\n",
       "  'NatNum': 1885,\n",
       "  'addrCd': 1135,\n",
       "  'gungu': '노원구',\n",
       "  'resNm': '태릉 ·  강릉 · 조선왕릉전시관',\n",
       "  'rnum': 10,\n",
       "  'sido': '서울특별시',\n",
       "  'yyyymm': '201112'},\n",
       " {'ForNum': 0,\n",
       "  'NatNum': 32412,\n",
       "  'addrCd': 1141,\n",
       "  'gungu': '서대문구',\n",
       "  'resNm': '서대문형무소역사관',\n",
       "  'rnum': 11,\n",
       "  'sido': '서울특별시',\n",
       "  'yyyymm': '201112'},\n",
       " {'ForNum': 0,\n",
       "  'NatNum': 19308,\n",
       "  'addrCd': 1141,\n",
       "  'gungu': '서대문구',\n",
       "  'resNm': '서대문자연사박물관',\n",
       "  'rnum': 12,\n",
       "  'sido': '서울특별시',\n",
       "  'yyyymm': '201112'},\n",
       " {'ForNum': 5214,\n",
       "  'NatNum': 6956,\n",
       "  'addrCd': 1144,\n",
       "  'gungu': '마포구',\n",
       "  'resNm': '트릭아이미술관',\n",
       "  'rnum': 13,\n",
       "  'sido': '서울특별시',\n",
       "  'yyyymm': '201112'},\n",
       " {'ForNum': 333,\n",
       "  'NatNum': 1823,\n",
       "  'addrCd': 1165,\n",
       "  'gungu': '서초구',\n",
       "  'resNm': '헌릉ㆍ인릉',\n",
       "  'rnum': 14,\n",
       "  'sido': '서울특별시',\n",
       "  'yyyymm': '201112'},\n",
       " {'ForNum': 4704,\n",
       "  'NatNum': 16634,\n",
       "  'addrCd': 1168,\n",
       "  'gungu': '강남구',\n",
       "  'resNm': '선릉·정릉',\n",
       "  'rnum': 15,\n",
       "  'sido': '서울특별시',\n",
       "  'yyyymm': '201112'},\n",
       " {'ForNum': 52484,\n",
       "  'NatNum': 642290,\n",
       "  'addrCd': 1171,\n",
       "  'gungu': '송파구',\n",
       "  'resNm': '롯데월드',\n",
       "  'rnum': 16,\n",
       "  'sido': '서울특별시',\n",
       "  'yyyymm': '201112'},\n",
       " {'ForNum': 27814,\n",
       "  'NatNum': 28061,\n",
       "  'addrCd': 1111,\n",
       "  'gungu': '종로구',\n",
       "  'resNm': '창덕궁',\n",
       "  'rnum': 1,\n",
       "  'sido': '서울특별시',\n",
       "  'yyyymm': '201212'},\n",
       " {'ForNum': 546,\n",
       "  'NatNum': 5978,\n",
       "  'addrCd': 1111,\n",
       "  'gungu': '종로구',\n",
       "  'resNm': '운현궁',\n",
       "  'rnum': 2,\n",
       "  'sido': '서울특별시',\n",
       "  'yyyymm': '201212'},\n",
       " {'ForNum': 105370,\n",
       "  'NatNum': 133012,\n",
       "  'addrCd': 1111,\n",
       "  'gungu': '종로구',\n",
       "  'resNm': '경복궁',\n",
       "  'rnum': 3,\n",
       "  'sido': '서울특별시',\n",
       "  'yyyymm': '201212'},\n",
       " {'ForNum': 1451,\n",
       "  'NatNum': 15722,\n",
       "  'addrCd': 1111,\n",
       "  'gungu': '종로구',\n",
       "  'resNm': '창경궁',\n",
       "  'rnum': 4,\n",
       "  'sido': '서울특별시',\n",
       "  'yyyymm': '201212'},\n",
       " {'ForNum': 8817,\n",
       "  'NatNum': 8068,\n",
       "  'addrCd': 1111,\n",
       "  'gungu': '종로구',\n",
       "  'resNm': '종묘',\n",
       "  'rnum': 5,\n",
       "  'sido': '서울특별시',\n",
       "  'yyyymm': '201212'},\n",
       " {'ForNum': 13033,\n",
       "  'NatNum': 227077,\n",
       "  'addrCd': 1117,\n",
       "  'gungu': '용산구',\n",
       "  'resNm': '국립중앙박물관',\n",
       "  'rnum': 6,\n",
       "  'sido': '서울특별시',\n",
       "  'yyyymm': '201212'},\n",
       " {'ForNum': 1138,\n",
       "  'NatNum': 78179,\n",
       "  'addrCd': 1111,\n",
       "  'gungu': '종로구',\n",
       "  'resNm': '서울역사박물관',\n",
       "  'rnum': 7,\n",
       "  'sido': '서울특별시',\n",
       "  'yyyymm': '201212'},\n",
       " {'ForNum': 11151,\n",
       "  'NatNum': 44855,\n",
       "  'addrCd': 1114,\n",
       "  'gungu': '중구',\n",
       "  'resNm': '덕수궁',\n",
       "  'rnum': 8,\n",
       "  'sido': '서울특별시',\n",
       "  'yyyymm': '201212'},\n",
       " {'ForNum': 0,\n",
       "  'NatNum': 213467,\n",
       "  'addrCd': 1114,\n",
       "  'gungu': '중구',\n",
       "  'resNm': '서울시립미술관 본관',\n",
       "  'rnum': 9,\n",
       "  'sido': '서울특별시',\n",
       "  'yyyymm': '201212'},\n",
       " {'ForNum': 15,\n",
       "  'NatNum': 1252,\n",
       "  'addrCd': 1135,\n",
       "  'gungu': '노원구',\n",
       "  'resNm': '태릉 ·  강릉 · 조선왕릉전시관',\n",
       "  'rnum': 10,\n",
       "  'sido': '서울특별시',\n",
       "  'yyyymm': '201212'},\n",
       " {'ForNum': 6625,\n",
       "  'NatNum': 14090,\n",
       "  'addrCd': 1141,\n",
       "  'gungu': '서대문구',\n",
       "  'resNm': '서대문형무소역사관',\n",
       "  'rnum': 11,\n",
       "  'sido': '서울특별시',\n",
       "  'yyyymm': '201212'},\n",
       " {'ForNum': 0,\n",
       "  'NatNum': 18881,\n",
       "  'addrCd': 1141,\n",
       "  'gungu': '서대문구',\n",
       "  'resNm': '서대문자연사박물관',\n",
       "  'rnum': 12,\n",
       "  'sido': '서울특별시',\n",
       "  'yyyymm': '201212'},\n",
       " {'ForNum': 24492,\n",
       "  'NatNum': 9167,\n",
       "  'addrCd': 1144,\n",
       "  'gungu': '마포구',\n",
       "  'resNm': '트릭아이미술관',\n",
       "  'rnum': 13,\n",
       "  'sido': '서울특별시',\n",
       "  'yyyymm': '201212'},\n",
       " {'ForNum': 62,\n",
       "  'NatNum': 860,\n",
       "  'addrCd': 1165,\n",
       "  'gungu': '서초구',\n",
       "  'resNm': '헌릉ㆍ인릉',\n",
       "  'rnum': 14,\n",
       "  'sido': '서울특별시',\n",
       "  'yyyymm': '201212'},\n",
       " {'ForNum': 66868,\n",
       "  'NatNum': 670056,\n",
       "  'addrCd': 1171,\n",
       "  'gungu': '송파구',\n",
       "  'resNm': '롯데월드',\n",
       "  'rnum': 15,\n",
       "  'sido': '서울특별시',\n",
       "  'yyyymm': '201212'},\n",
       " {'ForNum': 25550,\n",
       "  'NatNum': 38553,\n",
       "  'addrCd': 1111,\n",
       "  'gungu': '종로구',\n",
       "  'resNm': '창덕궁',\n",
       "  'rnum': 1,\n",
       "  'sido': '서울특별시',\n",
       "  'yyyymm': '201312'},\n",
       " {'ForNum': 101942,\n",
       "  'NatNum': 145544,\n",
       "  'addrCd': 1111,\n",
       "  'gungu': '종로구',\n",
       "  'resNm': '경복궁',\n",
       "  'rnum': 2,\n",
       "  'sido': '서울특별시',\n",
       "  'yyyymm': '201312'},\n",
       " {'ForNum': 1986,\n",
       "  'NatNum': 20035,\n",
       "  'addrCd': 1111,\n",
       "  'gungu': '종로구',\n",
       "  'resNm': '창경궁',\n",
       "  'rnum': 3,\n",
       "  'sido': '서울특별시',\n",
       "  'yyyymm': '201312'},\n",
       " {'ForNum': 6048,\n",
       "  'NatNum': 13896,\n",
       "  'addrCd': 1111,\n",
       "  'gungu': '종로구',\n",
       "  'resNm': '종묘',\n",
       "  'rnum': 4,\n",
       "  'sido': '서울특별시',\n",
       "  'yyyymm': '201312'},\n",
       " {'ForNum': 9083,\n",
       "  'NatNum': 286992,\n",
       "  'addrCd': 1117,\n",
       "  'gungu': '용산구',\n",
       "  'resNm': '국립중앙박물관',\n",
       "  'rnum': 5,\n",
       "  'sido': '서울특별시',\n",
       "  'yyyymm': '201312'},\n",
       " {'ForNum': 13282,\n",
       "  'NatNum': 99301,\n",
       "  'addrCd': 1114,\n",
       "  'gungu': '중구',\n",
       "  'resNm': '덕수궁',\n",
       "  'rnum': 6,\n",
       "  'sido': '서울특별시',\n",
       "  'yyyymm': '201312'},\n",
       " {'ForNum': 6,\n",
       "  'NatNum': 706,\n",
       "  'addrCd': 1135,\n",
       "  'gungu': '노원구',\n",
       "  'resNm': '태릉 ·  강릉 · 조선왕릉전시관',\n",
       "  'rnum': 7,\n",
       "  'sido': '서울특별시',\n",
       "  'yyyymm': '201312'},\n",
       " {'ForNum': 6732,\n",
       "  'NatNum': 14607,\n",
       "  'addrCd': 1141,\n",
       "  'gungu': '서대문구',\n",
       "  'resNm': '서대문형무소역사관',\n",
       "  'rnum': 8,\n",
       "  'sido': '서울특별시',\n",
       "  'yyyymm': '201312'},\n",
       " {'ForNum': 0,\n",
       "  'NatNum': 23245,\n",
       "  'addrCd': 1141,\n",
       "  'gungu': '서대문구',\n",
       "  'resNm': '서대문자연사박물관',\n",
       "  'rnum': 9,\n",
       "  'sido': '서울특별시',\n",
       "  'yyyymm': '201312'},\n",
       " {'ForNum': 43129,\n",
       "  'NatNum': 11886,\n",
       "  'addrCd': 1144,\n",
       "  'gungu': '마포구',\n",
       "  'resNm': '트릭아이미술관',\n",
       "  'rnum': 10,\n",
       "  'sido': '서울특별시',\n",
       "  'yyyymm': '201312'},\n",
       " {'ForNum': 16,\n",
       "  'NatNum': 1248,\n",
       "  'addrCd': 1165,\n",
       "  'gungu': '서초구',\n",
       "  'resNm': '헌릉ㆍ인릉',\n",
       "  'rnum': 11,\n",
       "  'sido': '서울특별시',\n",
       "  'yyyymm': '201312'},\n",
       " {'ForNum': 1445,\n",
       "  'NatNum': 11890,\n",
       "  'addrCd': 1168,\n",
       "  'gungu': '강남구',\n",
       "  'resNm': '선릉·정릉',\n",
       "  'rnum': 12,\n",
       "  'sido': '서울특별시',\n",
       "  'yyyymm': '201312'},\n",
       " {'ForNum': 29928,\n",
       "  'NatNum': 41561,\n",
       "  'addrCd': 1111,\n",
       "  'gungu': '종로구',\n",
       "  'resNm': '창덕궁',\n",
       "  'rnum': 1,\n",
       "  'sido': '서울특별시',\n",
       "  'yyyymm': '201412'},\n",
       " {'ForNum': 129946,\n",
       "  'NatNum': 190501,\n",
       "  'addrCd': 1111,\n",
       "  'gungu': '종로구',\n",
       "  'resNm': '경복궁',\n",
       "  'rnum': 2,\n",
       "  'sido': '서울특별시',\n",
       "  'yyyymm': '201412'},\n",
       " {'ForNum': 1693,\n",
       "  'NatNum': 19473,\n",
       "  'addrCd': 1111,\n",
       "  'gungu': '종로구',\n",
       "  'resNm': '창경궁',\n",
       "  'rnum': 3,\n",
       "  'sido': '서울특별시',\n",
       "  'yyyymm': '201412'},\n",
       " {'ForNum': 3891,\n",
       "  'NatNum': 5951,\n",
       "  'addrCd': 1111,\n",
       "  'gungu': '종로구',\n",
       "  'resNm': '종묘',\n",
       "  'rnum': 4,\n",
       "  'sido': '서울특별시',\n",
       "  'yyyymm': '201412'},\n",
       " {'ForNum': 7195,\n",
       "  'NatNum': 258781,\n",
       "  'addrCd': 1117,\n",
       "  'gungu': '용산구',\n",
       "  'resNm': '국립중앙박물관',\n",
       "  'rnum': 5,\n",
       "  'sido': '서울특별시',\n",
       "  'yyyymm': '201412'},\n",
       " {'ForNum': 14723,\n",
       "  'NatNum': 44272,\n",
       "  'addrCd': 1114,\n",
       "  'gungu': '중구',\n",
       "  'resNm': '덕수궁',\n",
       "  'rnum': 6,\n",
       "  'sido': '서울특별시',\n",
       "  'yyyymm': '201412'},\n",
       " {'ForNum': 12,\n",
       "  'NatNum': 486,\n",
       "  'addrCd': 1135,\n",
       "  'gungu': '노원구',\n",
       "  'resNm': '태릉 ·  강릉 · 조선왕릉전시관',\n",
       "  'rnum': 7,\n",
       "  'sido': '서울특별시',\n",
       "  'yyyymm': '201412'},\n",
       " {'ForNum': 6263,\n",
       "  'NatNum': 27205,\n",
       "  'addrCd': 1141,\n",
       "  'gungu': '서대문구',\n",
       "  'resNm': '서대문형무소역사관',\n",
       "  'rnum': 8,\n",
       "  'sido': '서울특별시',\n",
       "  'yyyymm': '201412'},\n",
       " {'ForNum': 0,\n",
       "  'NatNum': 24527,\n",
       "  'addrCd': 1141,\n",
       "  'gungu': '서대문구',\n",
       "  'resNm': '서대문자연사박물관',\n",
       "  'rnum': 9,\n",
       "  'sido': '서울특별시',\n",
       "  'yyyymm': '201412'},\n",
       " {'ForNum': 42443,\n",
       "  'NatNum': 7478,\n",
       "  'addrCd': 1144,\n",
       "  'gungu': '마포구',\n",
       "  'resNm': '트릭아이미술관',\n",
       "  'rnum': 10,\n",
       "  'sido': '서울특별시',\n",
       "  'yyyymm': '201412'},\n",
       " {'ForNum': 5,\n",
       "  'NatNum': 1036,\n",
       "  'addrCd': 1165,\n",
       "  'gungu': '서초구',\n",
       "  'resNm': '헌릉ㆍ인릉',\n",
       "  'rnum': 11,\n",
       "  'sido': '서울특별시',\n",
       "  'yyyymm': '201412'},\n",
       " {'ForNum': 823,\n",
       "  'NatNum': 8869,\n",
       "  'addrCd': 1168,\n",
       "  'gungu': '강남구',\n",
       "  'resNm': '선릉·정릉',\n",
       "  'rnum': 12,\n",
       "  'sido': '서울특별시',\n",
       "  'yyyymm': '201412'},\n",
       " {'ForNum': 33342,\n",
       "  'NatNum': 59738,\n",
       "  'addrCd': 1111,\n",
       "  'gungu': '종로구',\n",
       "  'resNm': '창덕궁',\n",
       "  'rnum': 1,\n",
       "  'sido': '서울특별시',\n",
       "  'yyyymm': '201512'},\n",
       " {'ForNum': 170379,\n",
       "  'NatNum': 148961,\n",
       "  'addrCd': 1111,\n",
       "  'gungu': '종로구',\n",
       "  'resNm': '경복궁',\n",
       "  'rnum': 2,\n",
       "  'sido': '서울특별시',\n",
       "  'yyyymm': '201512'},\n",
       " {'ForNum': 1783,\n",
       "  'NatNum': 27172,\n",
       "  'addrCd': 1111,\n",
       "  'gungu': '종로구',\n",
       "  'resNm': '창경궁',\n",
       "  'rnum': 3,\n",
       "  'sido': '서울특별시',\n",
       "  'yyyymm': '201512'},\n",
       " {'ForNum': 3406,\n",
       "  'NatNum': 14936,\n",
       "  'addrCd': 1111,\n",
       "  'gungu': '종로구',\n",
       "  'resNm': '종묘',\n",
       "  'rnum': 4,\n",
       "  'sido': '서울특별시',\n",
       "  'yyyymm': '201512'},\n",
       " {'ForNum': 13127,\n",
       "  'NatNum': 281457,\n",
       "  'addrCd': 1117,\n",
       "  'gungu': '용산구',\n",
       "  'resNm': '국립중앙박물관',\n",
       "  'rnum': 5,\n",
       "  'sido': '서울특별시',\n",
       "  'yyyymm': '201512'},\n",
       " {'ForNum': 15197,\n",
       "  'NatNum': 68749,\n",
       "  'addrCd': 1114,\n",
       "  'gungu': '중구',\n",
       "  'resNm': '덕수궁',\n",
       "  'rnum': 6,\n",
       "  'sido': '서울특별시',\n",
       "  'yyyymm': '201512'},\n",
       " {'ForNum': 16,\n",
       "  'NatNum': 2221,\n",
       "  'addrCd': 1135,\n",
       "  'gungu': '노원구',\n",
       "  'resNm': '태릉 ·  강릉 · 조선왕릉전시관',\n",
       "  'rnum': 7,\n",
       "  'sido': '서울특별시',\n",
       "  'yyyymm': '201512'},\n",
       " {'ForNum': 5588,\n",
       "  'NatNum': 44232,\n",
       "  'addrCd': 1141,\n",
       "  'gungu': '서대문구',\n",
       "  'resNm': '서대문형무소역사관',\n",
       "  'rnum': 8,\n",
       "  'sido': '서울특별시',\n",
       "  'yyyymm': '201512'},\n",
       " {'ForNum': 0,\n",
       "  'NatNum': 22587,\n",
       "  'addrCd': 1141,\n",
       "  'gungu': '서대문구',\n",
       "  'resNm': '서대문자연사박물관',\n",
       "  'rnum': 9,\n",
       "  'sido': '서울특별시',\n",
       "  'yyyymm': '201512'},\n",
       " {'ForNum': 29520,\n",
       "  'NatNum': 8822,\n",
       "  'addrCd': 1144,\n",
       "  'gungu': '마포구',\n",
       "  'resNm': '트릭아이미술관',\n",
       "  'rnum': 10,\n",
       "  'sido': '서울특별시',\n",
       "  'yyyymm': '201512'},\n",
       " {'ForNum': 3,\n",
       "  'NatNum': 1647,\n",
       "  'addrCd': 1165,\n",
       "  'gungu': '서초구',\n",
       "  'resNm': '헌릉ㆍ인릉',\n",
       "  'rnum': 11,\n",
       "  'sido': '서울특별시',\n",
       "  'yyyymm': '201512'},\n",
       " {'ForNum': 492,\n",
       "  'NatNum': 14454,\n",
       "  'addrCd': 1168,\n",
       "  'gungu': '강남구',\n",
       "  'resNm': '선릉·정릉',\n",
       "  'rnum': 12,\n",
       "  'sido': '서울특별시',\n",
       "  'yyyymm': '201512'}]"
      ]
     },
     "execution_count": 31,
     "metadata": {},
     "output_type": "execute_result"
    }
   ],
   "source": [
    "data = json.loads(tour_data)\n",
    "data\n",
    "\n",
    "# json을 통해 리스트로 변환함\n",
    "\n",
    "\n"
   ]
  },
  {
   "cell_type": "code",
   "execution_count": 30,
   "id": "506603f3",
   "metadata": {},
   "outputs": [
    {
     "name": "stdout",
     "output_type": "stream",
     "text": [
      "<class 'list'>\n"
     ]
    }
   ],
   "source": [
    "print(type(data))"
   ]
  },
  {
   "cell_type": "code",
   "execution_count": 32,
   "id": "b6f12fcc",
   "metadata": {},
   "outputs": [
    {
     "data": {
      "text/plain": [
       "{'ForNum': 44722,\n",
       " 'NatNum': 75991,\n",
       " 'addrCd': 1111,\n",
       " 'gungu': '종로구',\n",
       " 'resNm': '창덕궁',\n",
       " 'rnum': 1,\n",
       " 'sido': '서울특별시',\n",
       " 'yyyymm': '201112'}"
      ]
     },
     "execution_count": 32,
     "metadata": {},
     "output_type": "execute_result"
    }
   ],
   "source": [
    "data[0]"
   ]
  },
  {
   "cell_type": "code",
   "execution_count": 33,
   "id": "07c7ce92",
   "metadata": {},
   "outputs": [
    {
     "data": {
      "text/plain": [
       "67"
      ]
     },
     "execution_count": 33,
     "metadata": {},
     "output_type": "execute_result"
    }
   ],
   "source": [
    "len(data)"
   ]
  },
  {
   "cell_type": "code",
   "execution_count": 49,
   "id": "c1405c09",
   "metadata": {},
   "outputs": [
    {
     "name": "stdout",
     "output_type": "stream",
     "text": [
      "[('ForNum', 44722), ('NatNum', 75991), ('addrCd', 1111), ('gungu', '종로구'), ('resNm', '창덕궁'), ('rnum', 1), ('sido', '서울특별시'), ('yyyymm', '201112')]\n"
     ]
    }
   ],
   "source": [
    "# key와 value 둘다 나옴 : items\n",
    "\n",
    "for item in data[:1] :\n",
    "    print(list(item.items()))"
   ]
  },
  {
   "cell_type": "code",
   "execution_count": 51,
   "id": "ad78d6ca",
   "metadata": {},
   "outputs": [
    {
     "name": "stdout",
     "output_type": "stream",
     "text": [
      "['ForNum', 'NatNum', 'addrCd', 'gungu', 'resNm', 'rnum', 'sido', 'yyyymm']\n"
     ]
    }
   ],
   "source": [
    "# key 만 출력하도록!\n",
    "\n",
    "for item in data[:1] :\n",
    "    print(list(item.keys()))"
   ]
  },
  {
   "cell_type": "code",
   "execution_count": 52,
   "id": "6bc50b20",
   "metadata": {},
   "outputs": [
    {
     "name": "stdout",
     "output_type": "stream",
     "text": [
      "[44722, 75991, 1111, '종로구', '창덕궁', 1, '서울특별시', '201112']\n"
     ]
    }
   ],
   "source": [
    "# value 만 출력하도록!\n",
    "\n",
    "for item in data[:1] :\n",
    "    print(list(item.values()))"
   ]
  },
  {
   "cell_type": "code",
   "execution_count": 46,
   "id": "156376ba",
   "metadata": {},
   "outputs": [
    {
     "name": "stdout",
     "output_type": "stream",
     "text": [
      "44722\n",
      "75991\n",
      "1111\n",
      "종로구\n",
      "창덕궁\n",
      "1\n",
      "서울특별시\n",
      "201112\n"
     ]
    }
   ],
   "source": [
    "# value 만 출력하도록!\n",
    "\n",
    "for item in data[:1] :\n",
    "    for value in item.values():\n",
    "        print(value)"
   ]
  },
  {
   "cell_type": "code",
   "execution_count": null,
   "id": "97340d38",
   "metadata": {},
   "outputs": [],
   "source": [
    "for items in data[:2]:\n",
    "    for i in items:\n",
    "        print(i, items.get(i, 'none'))"
   ]
  },
  {
   "cell_type": "code",
   "execution_count": 59,
   "id": "c0065a20",
   "metadata": {
    "scrolled": true
   },
   "outputs": [
    {
     "name": "stdout",
     "output_type": "stream",
     "text": [
      "ForNum 44722\n",
      "NatNum 75991\n",
      "addrCd 1111\n",
      "gungu 종로구\n",
      "resNm 창덕궁\n",
      "rnum 1\n",
      "sido 서울특별시\n",
      "yyyymm 201112\n"
     ]
    }
   ],
   "source": []
  },
  {
   "cell_type": "code",
   "execution_count": 57,
   "id": "6f36140e",
   "metadata": {},
   "outputs": [
    {
     "name": "stdout",
     "output_type": "stream",
     "text": [
      "ForNum 44722\n",
      "NatNum 75991\n",
      "addrCd 1111\n",
      "gungu 종로구\n",
      "resNm 창덕궁\n",
      "rnum 1\n",
      "sido 서울특별시\n",
      "yyyymm 201112\n"
     ]
    }
   ],
   "source": [
    "for items in data[:1] :\n",
    "    for key, value in item.items() :\n",
    "        print(key, value)"
   ]
  },
  {
   "cell_type": "code",
   "execution_count": 58,
   "id": "f92031c5",
   "metadata": {},
   "outputs": [
    {
     "data": {
      "text/plain": [
       "[{'ForNum': 44722,\n",
       "  'NatNum': 75991,\n",
       "  'addrCd': 1111,\n",
       "  'gungu': '종로구',\n",
       "  'resNm': '창덕궁',\n",
       "  'rnum': 1,\n",
       "  'sido': '서울특별시',\n",
       "  'yyyymm': '201112'}]"
      ]
     },
     "execution_count": 58,
     "metadata": {},
     "output_type": "execute_result"
    }
   ],
   "source": [
    "data[:1]"
   ]
  },
  {
   "cell_type": "code",
   "execution_count": 61,
   "id": "54732ffb",
   "metadata": {},
   "outputs": [
    {
     "data": {
      "text/plain": [
       "dict_keys(['ForNum', 'NatNum', 'addrCd', 'gungu', 'resNm', 'rnum', 'sido', 'yyyymm'])"
      ]
     },
     "execution_count": 61,
     "metadata": {},
     "output_type": "execute_result"
    }
   ],
   "source": [
    "data[0].keys()"
   ]
  },
  {
   "cell_type": "code",
   "execution_count": 81,
   "id": "1f4bde51",
   "metadata": {},
   "outputs": [
    {
     "ename": "AttributeError",
     "evalue": "'dict_keys' object has no attribute 'split'",
     "output_type": "error",
     "traceback": [
      "\u001b[1;31m---------------------------------------------------------------------------\u001b[0m",
      "\u001b[1;31mAttributeError\u001b[0m                            Traceback (most recent call last)",
      "Cell \u001b[1;32mIn[81], line 1\u001b[0m\n\u001b[1;32m----> 1\u001b[0m \u001b[43mdata\u001b[49m\u001b[43m[\u001b[49m\u001b[38;5;241;43m0\u001b[39;49m\u001b[43m]\u001b[49m\u001b[38;5;241;43m.\u001b[39;49m\u001b[43mkeys\u001b[49m\u001b[43m(\u001b[49m\u001b[43m)\u001b[49m\u001b[38;5;241;43m.\u001b[39;49m\u001b[43msplit\u001b[49m()\n",
      "\u001b[1;31mAttributeError\u001b[0m: 'dict_keys' object has no attribute 'split'"
     ]
    }
   ],
   "source": [
    "data[0].keys()."
   ]
  },
  {
   "cell_type": "code",
   "execution_count": 64,
   "id": "25a1136e",
   "metadata": {},
   "outputs": [
    {
     "data": {
      "text/plain": [
       "dict_values([44722, 75991, 1111, '종로구', '창덕궁', 1, '서울특별시', '201112'])"
      ]
     },
     "execution_count": 64,
     "metadata": {},
     "output_type": "execute_result"
    }
   ],
   "source": [
    "data[0].values()"
   ]
  },
  {
   "cell_type": "code",
   "execution_count": null,
   "id": "c40b40d5",
   "metadata": {},
   "outputs": [],
   "source": []
  },
  {
   "cell_type": "markdown",
   "id": "c2764894",
   "metadata": {},
   "source": [
    "{'ForNum' : [44722, 0, 132399, 3133 ~ ],  <br>\n",
    " 'NatNum' : [75991,     }, } <br>\n",
    "\n",
    "key가 총 8개 \n",
    "key1 : value1, value2, value3 ... \n",
    "key2 : value1, value2, value3 ...\n",
    "key3 : value1, value2, value3 ..."
   ]
  },
  {
   "cell_type": "markdown",
   "id": "0f2804b2",
   "metadata": {},
   "source": [
    "* setdefault( key, value )\n",
    "- 딕셔너리에 key와 value 를 추가\n"
   ]
  },
  {
   "cell_type": "code",
   "execution_count": 103,
   "id": "4f3f1a82",
   "metadata": {},
   "outputs": [
    {
     "name": "stdout",
     "output_type": "stream",
     "text": [
      "{'ForNum': [44722, 0, 132399, 3133, 18226, 0, 0, 13935, 0, 10, 0, 0, 5214, 333, 4704, 52484, 27814, 546, 105370, 1451, 8817, 13033, 1138, 11151, 0, 15, 6625, 0, 24492, 62, 66868, 25550, 101942, 1986, 6048, 9083, 13282, 6, 6732, 0, 43129, 16, 1445, 29928, 129946, 1693, 3891, 7195, 14723, 12, 6263, 0, 42443, 5, 823, 33342, 170379, 1783, 3406, 13127, 15197, 16, 5588, 0, 29520, 3, 492], 'NatNum': [75991, 11017, 237330, 21267, 24223, 233828, 93554, 52140, 61115, 1885, 32412, 19308, 6956, 1823, 16634, 642290, 28061, 5978, 133012, 15722, 8068, 227077, 78179, 44855, 213467, 1252, 14090, 18881, 9167, 860, 670056, 38553, 145544, 20035, 13896, 286992, 99301, 706, 14607, 23245, 11886, 1248, 11890, 41561, 190501, 19473, 5951, 258781, 44272, 486, 27205, 24527, 7478, 1036, 8869, 59738, 148961, 27172, 14936, 281457, 68749, 2221, 44232, 22587, 8822, 1647, 14454], 'addrCd': [1111, 1111, 1111, 1111, 1111, 1117, 1111, 1114, 1114, 1135, 1141, 1141, 1144, 1165, 1168, 1171, 1111, 1111, 1111, 1111, 1111, 1117, 1111, 1114, 1114, 1135, 1141, 1141, 1144, 1165, 1171, 1111, 1111, 1111, 1111, 1117, 1114, 1135, 1141, 1141, 1144, 1165, 1168, 1111, 1111, 1111, 1111, 1117, 1114, 1135, 1141, 1141, 1144, 1165, 1168, 1111, 1111, 1111, 1111, 1117, 1114, 1135, 1141, 1141, 1144, 1165, 1168], 'gungu': ['종로구', '종로구', '종로구', '종로구', '종로구', '용산구', '종로구', '중구', '중구', '노원구', '서대문구', '서대문구', '마포구', '서초구', '강남구', '송파구', '종로구', '종로구', '종로구', '종로구', '종로구', '용산구', '종로구', '중구', '중구', '노원구', '서대문구', '서대문구', '마포구', '서초구', '송파구', '종로구', '종로구', '종로구', '종로구', '용산구', '중구', '노원구', '서대문구', '서대문구', '마포구', '서초구', '강남구', '종로구', '종로구', '종로구', '종로구', '용산구', '중구', '노원구', '서대문구', '서대문구', '마포구', '서초구', '강남구', '종로구', '종로구', '종로구', '종로구', '용산구', '중구', '노원구', '서대문구', '서대문구', '마포구', '서초구', '강남구'], 'resNm': ['창덕궁', '운현궁', '경복궁', '창경궁', '종묘', '국립중앙박물관', '서울역사박물관', '덕수궁', '서울시립미술관 본관', '태릉 ·  강릉 · 조선왕릉전시관', '서대문형무소역사관', '서대문자연사박물관', '트릭아이미술관', '헌릉ㆍ인릉', '선릉·정릉', '롯데월드', '창덕궁', '운현궁', '경복궁', '창경궁', '종묘', '국립중앙박물관', '서울역사박물관', '덕수궁', '서울시립미술관 본관', '태릉 ·  강릉 · 조선왕릉전시관', '서대문형무소역사관', '서대문자연사박물관', '트릭아이미술관', '헌릉ㆍ인릉', '롯데월드', '창덕궁', '경복궁', '창경궁', '종묘', '국립중앙박물관', '덕수궁', '태릉 ·  강릉 · 조선왕릉전시관', '서대문형무소역사관', '서대문자연사박물관', '트릭아이미술관', '헌릉ㆍ인릉', '선릉·정릉', '창덕궁', '경복궁', '창경궁', '종묘', '국립중앙박물관', '덕수궁', '태릉 ·  강릉 · 조선왕릉전시관', '서대문형무소역사관', '서대문자연사박물관', '트릭아이미술관', '헌릉ㆍ인릉', '선릉·정릉', '창덕궁', '경복궁', '창경궁', '종묘', '국립중앙박물관', '덕수궁', '태릉 ·  강릉 · 조선왕릉전시관', '서대문형무소역사관', '서대문자연사박물관', '트릭아이미술관', '헌릉ㆍ인릉', '선릉·정릉'], 'rnum': [1, 2, 3, 4, 5, 6, 7, 8, 9, 10, 11, 12, 13, 14, 15, 16, 1, 2, 3, 4, 5, 6, 7, 8, 9, 10, 11, 12, 13, 14, 15, 1, 2, 3, 4, 5, 6, 7, 8, 9, 10, 11, 12, 1, 2, 3, 4, 5, 6, 7, 8, 9, 10, 11, 12, 1, 2, 3, 4, 5, 6, 7, 8, 9, 10, 11, 12], 'sido': ['서울특별시', '서울특별시', '서울특별시', '서울특별시', '서울특별시', '서울특별시', '서울특별시', '서울특별시', '서울특별시', '서울특별시', '서울특별시', '서울특별시', '서울특별시', '서울특별시', '서울특별시', '서울특별시', '서울특별시', '서울특별시', '서울특별시', '서울특별시', '서울특별시', '서울특별시', '서울특별시', '서울특별시', '서울특별시', '서울특별시', '서울특별시', '서울특별시', '서울특별시', '서울특별시', '서울특별시', '서울특별시', '서울특별시', '서울특별시', '서울특별시', '서울특별시', '서울특별시', '서울특별시', '서울특별시', '서울특별시', '서울특별시', '서울특별시', '서울특별시', '서울특별시', '서울특별시', '서울특별시', '서울특별시', '서울특별시', '서울특별시', '서울특별시', '서울특별시', '서울특별시', '서울특별시', '서울특별시', '서울특별시', '서울특별시', '서울특별시', '서울특별시', '서울특별시', '서울특별시', '서울특별시', '서울특별시', '서울특별시', '서울특별시', '서울특별시', '서울특별시', '서울특별시'], 'yyyymm': ['201112', '201112', '201112', '201112', '201112', '201112', '201112', '201112', '201112', '201112', '201112', '201112', '201112', '201112', '201112', '201112', '201212', '201212', '201212', '201212', '201212', '201212', '201212', '201212', '201212', '201212', '201212', '201212', '201212', '201212', '201212', '201312', '201312', '201312', '201312', '201312', '201312', '201312', '201312', '201312', '201312', '201312', '201312', '201412', '201412', '201412', '201412', '201412', '201412', '201412', '201412', '201412', '201412', '201412', '201412', '201512', '201512', '201512', '201512', '201512', '201512', '201512', '201512', '201512', '201512', '201512', '201512']}\n"
     ]
    }
   ],
   "source": [
    "# 답안 1 \n",
    "\n",
    "dict = {}\n",
    "for d in data:\n",
    "    for k, v in d.items():\n",
    "        dict.setdefault(k, []).append(v)\n",
    "print(dict)"
   ]
  },
  {
   "cell_type": "code",
   "execution_count": 79,
   "id": "4965dfe5",
   "metadata": {},
   "outputs": [
    {
     "name": "stdout",
     "output_type": "stream",
     "text": [
      "ForNum\n",
      "NatNum\n",
      "addrCd\n",
      "gungu\n",
      "resNm\n",
      "rnum\n",
      "sido\n",
      "yyyymm\n",
      "201112\n"
     ]
    }
   ],
   "source": [
    "for items in data[:1] :\n",
    "    for key, value in item.items() :\n",
    "        print(key)\n",
    "print(value)"
   ]
  },
  {
   "cell_type": "code",
   "execution_count": 80,
   "id": "e274b933",
   "metadata": {},
   "outputs": [
    {
     "name": "stdout",
     "output_type": "stream",
     "text": [
      "['ForNum', 'NatNum', 'addrCd', 'gungu', 'resNm', 'rnum', 'sido', 'yyyymm']\n"
     ]
    }
   ],
   "source": [
    "for item in data[:1] :\n",
    "    print(list(item.keys()))"
   ]
  },
  {
   "cell_type": "markdown",
   "id": "6b01940f",
   "metadata": {},
   "source": [
    "* 강사님 답변 "
   ]
  },
  {
   "cell_type": "code",
   "execution_count": 87,
   "id": "eedb261f",
   "metadata": {},
   "outputs": [
    {
     "name": "stdout",
     "output_type": "stream",
     "text": [
      "44722\n",
      "0\n"
     ]
    }
   ],
   "source": [
    "for item in data[:2]:\n",
    "    print(item['ForNum'])"
   ]
  },
  {
   "cell_type": "code",
   "execution_count": 89,
   "id": "e5f03806",
   "metadata": {},
   "outputs": [
    {
     "name": "stdout",
     "output_type": "stream",
     "text": [
      "44722\n",
      "0\n",
      "132399\n",
      "3133\n",
      "18226\n",
      "0\n",
      "0\n",
      "13935\n",
      "0\n",
      "10\n",
      "0\n",
      "0\n",
      "5214\n",
      "333\n",
      "4704\n",
      "52484\n",
      "27814\n",
      "546\n",
      "105370\n",
      "1451\n",
      "8817\n",
      "13033\n",
      "1138\n",
      "11151\n",
      "0\n",
      "15\n",
      "6625\n",
      "0\n",
      "24492\n",
      "62\n",
      "66868\n",
      "25550\n",
      "101942\n",
      "1986\n",
      "6048\n",
      "9083\n",
      "13282\n",
      "6\n",
      "6732\n",
      "0\n",
      "43129\n",
      "16\n",
      "1445\n",
      "29928\n",
      "129946\n",
      "1693\n",
      "3891\n",
      "7195\n",
      "14723\n",
      "12\n",
      "6263\n",
      "0\n",
      "42443\n",
      "5\n",
      "823\n",
      "33342\n",
      "170379\n",
      "1783\n",
      "3406\n",
      "13127\n",
      "15197\n",
      "16\n",
      "5588\n",
      "0\n",
      "29520\n",
      "3\n",
      "492\n"
     ]
    }
   ],
   "source": [
    "# 'ForNum' 전체 값 출력 \n",
    "\n",
    "for item in data:\n",
    "    print(item['ForNum'])"
   ]
  },
  {
   "cell_type": "code",
   "execution_count": 84,
   "id": "e5c63bc1",
   "metadata": {},
   "outputs": [
    {
     "name": "stdout",
     "output_type": "stream",
     "text": [
      "44722\n",
      "75991\n",
      "1111\n",
      "종로구\n",
      "창덕궁\n",
      "1\n",
      "서울특별시\n",
      "201112\n",
      "0\n",
      "11017\n",
      "1111\n",
      "종로구\n",
      "운현궁\n",
      "2\n",
      "서울특별시\n",
      "201112\n"
     ]
    }
   ],
   "source": [
    "for item in data[:2]:\n",
    "    for key in item:\n",
    "        print(item[key])"
   ]
  },
  {
   "cell_type": "markdown",
   "id": "133f0041",
   "metadata": {},
   "source": [
    "dict_keys(['ForNum', 'NatNum', 'addrCd', 'gungu', 'resNm', 'rnum', 'sido', 'yyyymm'])"
   ]
  },
  {
   "cell_type": "code",
   "execution_count": 110,
   "id": "e3c3e55c",
   "metadata": {},
   "outputs": [
    {
     "name": "stdout",
     "output_type": "stream",
     "text": [
      "[44722, 0, 132399, 3133, 18226, 0, 0, 13935, 0, 10, 0, 0, 5214, 333, 4704, 52484, 27814, 546, 105370, 1451, 8817, 13033, 1138, 11151, 0, 15, 6625, 0, 24492, 62, 66868, 25550, 101942, 1986, 6048, 9083, 13282, 6, 6732, 0, 43129, 16, 1445, 29928, 129946, 1693, 3891, 7195, 14723, 12, 6263, 0, 42443, 5, 823, 33342, 170379, 1783, 3406, 13127, 15197, 16, 5588, 0, 29520, 3, 492]\n"
     ]
    }
   ],
   "source": [
    "# 답안 2\n",
    "\n",
    "ForNum = []\n",
    "NatNum = []\n",
    "addrCd = []\n",
    "gungu = []\n",
    "resNm = []\n",
    "rnum = []\n",
    "sido = []\n",
    "yyyymm = []\n",
    "\n",
    "for item in data[:]:\n",
    "    ForNum.append(item['ForNum'])\n",
    "    NatNum.append(item['NatNum'])\n",
    "    addrCd.append(item['addrCd'])\n",
    "    gungu.append(item['gungu'])\n",
    "    resNm.append(item['resNm'])\n",
    "    rnum.append(item['rnum'])    \n",
    "    sido.append(item['sido'])\n",
    "    yyyymm.append(item['yyyymm'])\n",
    "\n",
    "print(ForNum)\n",
    "# print(len(ForNum))\n",
    "# print(len(NatNum))\n",
    "# print(len(addrCd))\n",
    "# print(len(resNm))\n",
    "# print(len(rnum))\n",
    "# print(len(sido))\n",
    "# print(len(yyyymm))"
   ]
  },
  {
   "cell_type": "code",
   "execution_count": 113,
   "id": "a1b3dc3a",
   "metadata": {},
   "outputs": [
    {
     "ename": "TypeError",
     "evalue": "'dict' object is not callable",
     "output_type": "error",
     "traceback": [
      "\u001b[1;31m---------------------------------------------------------------------------\u001b[0m",
      "\u001b[1;31mTypeError\u001b[0m                                 Traceback (most recent call last)",
      "Cell \u001b[1;32mIn[113], line 2\u001b[0m\n\u001b[0;32m      1\u001b[0m \u001b[38;5;28mdict\u001b[39m \u001b[38;5;241m=\u001b[39m {}\n\u001b[1;32m----> 2\u001b[0m result \u001b[38;5;241m=\u001b[39m \u001b[38;5;28;43mdict\u001b[39;49m\u001b[43m(\u001b[49m\u001b[43mForNum\u001b[49m\u001b[38;5;241;43m=\u001b[39;49m\u001b[43mForNum\u001b[49m\u001b[43m,\u001b[49m\u001b[43m \u001b[49m\u001b[43mNatNum\u001b[49m\u001b[38;5;241;43m=\u001b[39;49m\u001b[43mNatNum\u001b[49m\u001b[43m,\u001b[49m\u001b[43m \u001b[49m\u001b[43maddrCd\u001b[49m\u001b[38;5;241;43m=\u001b[39;49m\u001b[43maddrCd\u001b[49m\u001b[43m \u001b[49m\u001b[43m,\u001b[49m\u001b[43m \u001b[49m\u001b[43mgungu\u001b[49m\u001b[38;5;241;43m=\u001b[39;49m\u001b[43mgungu\u001b[49m\u001b[43m \u001b[49m\u001b[43m,\u001b[49m\u001b[43m \u001b[49m\u001b[43mresNm\u001b[49m\u001b[38;5;241;43m=\u001b[39;49m\u001b[43mresNm\u001b[49m\u001b[43m,\u001b[49m\u001b[43m \u001b[49m\u001b[43mrnum\u001b[49m\u001b[38;5;241;43m=\u001b[39;49m\u001b[43mrnum\u001b[49m\u001b[43m,\u001b[49m\u001b[43m \u001b[49m\u001b[43msido\u001b[49m\u001b[38;5;241;43m=\u001b[39;49m\u001b[43msido\u001b[49m\u001b[43m \u001b[49m\u001b[43m,\u001b[49m\u001b[43m \u001b[49m\u001b[43myyyymm\u001b[49m\u001b[38;5;241;43m=\u001b[39;49m\u001b[43myyyymm\u001b[49m\u001b[43m)\u001b[49m\n\u001b[0;32m      4\u001b[0m \u001b[38;5;28mprint\u001b[39m(result)\n",
      "\u001b[1;31mTypeError\u001b[0m: 'dict' object is not callable"
     ]
    }
   ],
   "source": [
    "\n",
    "dict = {}\n",
    "result = dict(ForNum=ForNum, NatNum=NatNum, addrCd=addrCd , gungu=gungu , resNm=resNm, rnum=rnum, sido=sido , yyyymm=yyyymm)\n",
    "\n",
    "print(result)"
   ]
  },
  {
   "cell_type": "code",
   "execution_count": 115,
   "id": "7ad391c2",
   "metadata": {},
   "outputs": [
    {
     "name": "stdout",
     "output_type": "stream",
     "text": [
      "ForNum\n",
      "NatNum\n",
      "addrCd\n",
      "gungu\n",
      "resNm\n",
      "rnum\n",
      "sido\n",
      "yyyymm\n"
     ]
    }
   ],
   "source": [
    "for key in list(data[0].keys()):\n",
    "#     for item in data:\n",
    "        print(key)"
   ]
  },
  {
   "cell_type": "code",
   "execution_count": 135,
   "id": "44e591f0",
   "metadata": {},
   "outputs": [
    {
     "name": "stdout",
     "output_type": "stream",
     "text": [
      "{'ForNum': [44722, 0, 132399, 3133, 18226, 0, 0, 13935, 0, 10, 0, 0, 5214, 333, 4704, 52484, 27814, 546, 105370, 1451, 8817, 13033, 1138, 11151, 0, 15, 6625, 0, 24492, 62, 66868, 25550, 101942, 1986, 6048, 9083, 13282, 6, 6732, 0, 43129, 16, 1445, 29928, 129946, 1693, 3891, 7195, 14723, 12, 6263, 0, 42443, 5, 823, 33342, 170379, 1783, 3406, 13127, 15197, 16, 5588, 0, 29520, 3, 492], 'NatNum': [75991, 11017, 237330, 21267, 24223, 233828, 93554, 52140, 61115, 1885, 32412, 19308, 6956, 1823, 16634, 642290, 28061, 5978, 133012, 15722, 8068, 227077, 78179, 44855, 213467, 1252, 14090, 18881, 9167, 860, 670056, 38553, 145544, 20035, 13896, 286992, 99301, 706, 14607, 23245, 11886, 1248, 11890, 41561, 190501, 19473, 5951, 258781, 44272, 486, 27205, 24527, 7478, 1036, 8869, 59738, 148961, 27172, 14936, 281457, 68749, 2221, 44232, 22587, 8822, 1647, 14454], 'addrCd': [1111, 1111, 1111, 1111, 1111, 1117, 1111, 1114, 1114, 1135, 1141, 1141, 1144, 1165, 1168, 1171, 1111, 1111, 1111, 1111, 1111, 1117, 1111, 1114, 1114, 1135, 1141, 1141, 1144, 1165, 1171, 1111, 1111, 1111, 1111, 1117, 1114, 1135, 1141, 1141, 1144, 1165, 1168, 1111, 1111, 1111, 1111, 1117, 1114, 1135, 1141, 1141, 1144, 1165, 1168, 1111, 1111, 1111, 1111, 1117, 1114, 1135, 1141, 1141, 1144, 1165, 1168], 'gungu': ['종로구', '종로구', '종로구', '종로구', '종로구', '용산구', '종로구', '중구', '중구', '노원구', '서대문구', '서대문구', '마포구', '서초구', '강남구', '송파구', '종로구', '종로구', '종로구', '종로구', '종로구', '용산구', '종로구', '중구', '중구', '노원구', '서대문구', '서대문구', '마포구', '서초구', '송파구', '종로구', '종로구', '종로구', '종로구', '용산구', '중구', '노원구', '서대문구', '서대문구', '마포구', '서초구', '강남구', '종로구', '종로구', '종로구', '종로구', '용산구', '중구', '노원구', '서대문구', '서대문구', '마포구', '서초구', '강남구', '종로구', '종로구', '종로구', '종로구', '용산구', '중구', '노원구', '서대문구', '서대문구', '마포구', '서초구', '강남구'], 'resNm': ['창덕궁', '운현궁', '경복궁', '창경궁', '종묘', '국립중앙박물관', '서울역사박물관', '덕수궁', '서울시립미술관 본관', '태릉 ·  강릉 · 조선왕릉전시관', '서대문형무소역사관', '서대문자연사박물관', '트릭아이미술관', '헌릉ㆍ인릉', '선릉·정릉', '롯데월드', '창덕궁', '운현궁', '경복궁', '창경궁', '종묘', '국립중앙박물관', '서울역사박물관', '덕수궁', '서울시립미술관 본관', '태릉 ·  강릉 · 조선왕릉전시관', '서대문형무소역사관', '서대문자연사박물관', '트릭아이미술관', '헌릉ㆍ인릉', '롯데월드', '창덕궁', '경복궁', '창경궁', '종묘', '국립중앙박물관', '덕수궁', '태릉 ·  강릉 · 조선왕릉전시관', '서대문형무소역사관', '서대문자연사박물관', '트릭아이미술관', '헌릉ㆍ인릉', '선릉·정릉', '창덕궁', '경복궁', '창경궁', '종묘', '국립중앙박물관', '덕수궁', '태릉 ·  강릉 · 조선왕릉전시관', '서대문형무소역사관', '서대문자연사박물관', '트릭아이미술관', '헌릉ㆍ인릉', '선릉·정릉', '창덕궁', '경복궁', '창경궁', '종묘', '국립중앙박물관', '덕수궁', '태릉 ·  강릉 · 조선왕릉전시관', '서대문형무소역사관', '서대문자연사박물관', '트릭아이미술관', '헌릉ㆍ인릉', '선릉·정릉'], 'rnum': [1, 2, 3, 4, 5, 6, 7, 8, 9, 10, 11, 12, 13, 14, 15, 16, 1, 2, 3, 4, 5, 6, 7, 8, 9, 10, 11, 12, 13, 14, 15, 1, 2, 3, 4, 5, 6, 7, 8, 9, 10, 11, 12, 1, 2, 3, 4, 5, 6, 7, 8, 9, 10, 11, 12, 1, 2, 3, 4, 5, 6, 7, 8, 9, 10, 11, 12], 'sido': ['서울특별시', '서울특별시', '서울특별시', '서울특별시', '서울특별시', '서울특별시', '서울특별시', '서울특별시', '서울특별시', '서울특별시', '서울특별시', '서울특별시', '서울특별시', '서울특별시', '서울특별시', '서울특별시', '서울특별시', '서울특별시', '서울특별시', '서울특별시', '서울특별시', '서울특별시', '서울특별시', '서울특별시', '서울특별시', '서울특별시', '서울특별시', '서울특별시', '서울특별시', '서울특별시', '서울특별시', '서울특별시', '서울특별시', '서울특별시', '서울특별시', '서울특별시', '서울특별시', '서울특별시', '서울특별시', '서울특별시', '서울특별시', '서울특별시', '서울특별시', '서울특별시', '서울특별시', '서울특별시', '서울특별시', '서울특별시', '서울특별시', '서울특별시', '서울특별시', '서울특별시', '서울특별시', '서울특별시', '서울특별시', '서울특별시', '서울특별시', '서울특별시', '서울특별시', '서울특별시', '서울특별시', '서울특별시', '서울특별시', '서울특별시', '서울특별시', '서울특별시', '서울특별시'], 'yyyymm': ['201112', '201112', '201112', '201112', '201112', '201112', '201112', '201112', '201112', '201112', '201112', '201112', '201112', '201112', '201112', '201112', '201212', '201212', '201212', '201212', '201212', '201212', '201212', '201212', '201212', '201212', '201212', '201212', '201212', '201212', '201212', '201312', '201312', '201312', '201312', '201312', '201312', '201312', '201312', '201312', '201312', '201312', '201312', '201412', '201412', '201412', '201412', '201412', '201412', '201412', '201412', '201412', '201412', '201412', '201412', '201512', '201512', '201512', '201512', '201512', '201512', '201512', '201512', '201512', '201512', '201512', '201512']}\n"
     ]
    }
   ],
   "source": [
    "# 답안 4 : 리스트 표현식으로 만들 수 있다.\n",
    "\n",
    "result3 = {}\n",
    "\n",
    "for key in list(data[0].keys()):\n",
    "    result3[key] = [item[key] for item in data]\n",
    "print(result3) \n"
   ]
  },
  {
   "cell_type": "code",
   "execution_count": 114,
   "id": "427519d9",
   "metadata": {},
   "outputs": [
    {
     "data": {
      "text/plain": [
       "dict_keys(['ForNum', 'NatNum', 'addrCd', 'gungu', 'resNm', 'rnum', 'sido', 'yyyymm'])"
      ]
     },
     "execution_count": 114,
     "metadata": {},
     "output_type": "execute_result"
    }
   ],
   "source": [
    "data[0].keys()"
   ]
  },
  {
   "cell_type": "code",
   "execution_count": 131,
   "id": "67f8dab8",
   "metadata": {},
   "outputs": [
    {
     "data": {
      "text/plain": [
       "{'ForNum': [44722,\n",
       "  0,\n",
       "  132399,\n",
       "  3133,\n",
       "  18226,\n",
       "  0,\n",
       "  0,\n",
       "  13935,\n",
       "  0,\n",
       "  10,\n",
       "  0,\n",
       "  0,\n",
       "  5214,\n",
       "  333,\n",
       "  4704,\n",
       "  52484,\n",
       "  27814,\n",
       "  546,\n",
       "  105370,\n",
       "  1451,\n",
       "  8817,\n",
       "  13033,\n",
       "  1138,\n",
       "  11151,\n",
       "  0,\n",
       "  15,\n",
       "  6625,\n",
       "  0,\n",
       "  24492,\n",
       "  62,\n",
       "  66868,\n",
       "  25550,\n",
       "  101942,\n",
       "  1986,\n",
       "  6048,\n",
       "  9083,\n",
       "  13282,\n",
       "  6,\n",
       "  6732,\n",
       "  0,\n",
       "  43129,\n",
       "  16,\n",
       "  1445,\n",
       "  29928,\n",
       "  129946,\n",
       "  1693,\n",
       "  3891,\n",
       "  7195,\n",
       "  14723,\n",
       "  12,\n",
       "  6263,\n",
       "  0,\n",
       "  42443,\n",
       "  5,\n",
       "  823,\n",
       "  33342,\n",
       "  170379,\n",
       "  1783,\n",
       "  3406,\n",
       "  13127,\n",
       "  15197,\n",
       "  16,\n",
       "  5588,\n",
       "  0,\n",
       "  29520,\n",
       "  3,\n",
       "  492],\n",
       " 'NatNum': [75991,\n",
       "  11017,\n",
       "  237330,\n",
       "  21267,\n",
       "  24223,\n",
       "  233828,\n",
       "  93554,\n",
       "  52140,\n",
       "  61115,\n",
       "  1885,\n",
       "  32412,\n",
       "  19308,\n",
       "  6956,\n",
       "  1823,\n",
       "  16634,\n",
       "  642290,\n",
       "  28061,\n",
       "  5978,\n",
       "  133012,\n",
       "  15722,\n",
       "  8068,\n",
       "  227077,\n",
       "  78179,\n",
       "  44855,\n",
       "  213467,\n",
       "  1252,\n",
       "  14090,\n",
       "  18881,\n",
       "  9167,\n",
       "  860,\n",
       "  670056,\n",
       "  38553,\n",
       "  145544,\n",
       "  20035,\n",
       "  13896,\n",
       "  286992,\n",
       "  99301,\n",
       "  706,\n",
       "  14607,\n",
       "  23245,\n",
       "  11886,\n",
       "  1248,\n",
       "  11890,\n",
       "  41561,\n",
       "  190501,\n",
       "  19473,\n",
       "  5951,\n",
       "  258781,\n",
       "  44272,\n",
       "  486,\n",
       "  27205,\n",
       "  24527,\n",
       "  7478,\n",
       "  1036,\n",
       "  8869,\n",
       "  59738,\n",
       "  148961,\n",
       "  27172,\n",
       "  14936,\n",
       "  281457,\n",
       "  68749,\n",
       "  2221,\n",
       "  44232,\n",
       "  22587,\n",
       "  8822,\n",
       "  1647,\n",
       "  14454],\n",
       " 'addrCd': [1111,\n",
       "  1111,\n",
       "  1111,\n",
       "  1111,\n",
       "  1111,\n",
       "  1117,\n",
       "  1111,\n",
       "  1114,\n",
       "  1114,\n",
       "  1135,\n",
       "  1141,\n",
       "  1141,\n",
       "  1144,\n",
       "  1165,\n",
       "  1168,\n",
       "  1171,\n",
       "  1111,\n",
       "  1111,\n",
       "  1111,\n",
       "  1111,\n",
       "  1111,\n",
       "  1117,\n",
       "  1111,\n",
       "  1114,\n",
       "  1114,\n",
       "  1135,\n",
       "  1141,\n",
       "  1141,\n",
       "  1144,\n",
       "  1165,\n",
       "  1171,\n",
       "  1111,\n",
       "  1111,\n",
       "  1111,\n",
       "  1111,\n",
       "  1117,\n",
       "  1114,\n",
       "  1135,\n",
       "  1141,\n",
       "  1141,\n",
       "  1144,\n",
       "  1165,\n",
       "  1168,\n",
       "  1111,\n",
       "  1111,\n",
       "  1111,\n",
       "  1111,\n",
       "  1117,\n",
       "  1114,\n",
       "  1135,\n",
       "  1141,\n",
       "  1141,\n",
       "  1144,\n",
       "  1165,\n",
       "  1168,\n",
       "  1111,\n",
       "  1111,\n",
       "  1111,\n",
       "  1111,\n",
       "  1117,\n",
       "  1114,\n",
       "  1135,\n",
       "  1141,\n",
       "  1141,\n",
       "  1144,\n",
       "  1165,\n",
       "  1168],\n",
       " 'gungu': ['종로구',\n",
       "  '종로구',\n",
       "  '종로구',\n",
       "  '종로구',\n",
       "  '종로구',\n",
       "  '용산구',\n",
       "  '종로구',\n",
       "  '중구',\n",
       "  '중구',\n",
       "  '노원구',\n",
       "  '서대문구',\n",
       "  '서대문구',\n",
       "  '마포구',\n",
       "  '서초구',\n",
       "  '강남구',\n",
       "  '송파구',\n",
       "  '종로구',\n",
       "  '종로구',\n",
       "  '종로구',\n",
       "  '종로구',\n",
       "  '종로구',\n",
       "  '용산구',\n",
       "  '종로구',\n",
       "  '중구',\n",
       "  '중구',\n",
       "  '노원구',\n",
       "  '서대문구',\n",
       "  '서대문구',\n",
       "  '마포구',\n",
       "  '서초구',\n",
       "  '송파구',\n",
       "  '종로구',\n",
       "  '종로구',\n",
       "  '종로구',\n",
       "  '종로구',\n",
       "  '용산구',\n",
       "  '중구',\n",
       "  '노원구',\n",
       "  '서대문구',\n",
       "  '서대문구',\n",
       "  '마포구',\n",
       "  '서초구',\n",
       "  '강남구',\n",
       "  '종로구',\n",
       "  '종로구',\n",
       "  '종로구',\n",
       "  '종로구',\n",
       "  '용산구',\n",
       "  '중구',\n",
       "  '노원구',\n",
       "  '서대문구',\n",
       "  '서대문구',\n",
       "  '마포구',\n",
       "  '서초구',\n",
       "  '강남구',\n",
       "  '종로구',\n",
       "  '종로구',\n",
       "  '종로구',\n",
       "  '종로구',\n",
       "  '용산구',\n",
       "  '중구',\n",
       "  '노원구',\n",
       "  '서대문구',\n",
       "  '서대문구',\n",
       "  '마포구',\n",
       "  '서초구',\n",
       "  '강남구'],\n",
       " 'resNm': ['창덕궁',\n",
       "  '운현궁',\n",
       "  '경복궁',\n",
       "  '창경궁',\n",
       "  '종묘',\n",
       "  '국립중앙박물관',\n",
       "  '서울역사박물관',\n",
       "  '덕수궁',\n",
       "  '서울시립미술관 본관',\n",
       "  '태릉 ·  강릉 · 조선왕릉전시관',\n",
       "  '서대문형무소역사관',\n",
       "  '서대문자연사박물관',\n",
       "  '트릭아이미술관',\n",
       "  '헌릉ㆍ인릉',\n",
       "  '선릉·정릉',\n",
       "  '롯데월드',\n",
       "  '창덕궁',\n",
       "  '운현궁',\n",
       "  '경복궁',\n",
       "  '창경궁',\n",
       "  '종묘',\n",
       "  '국립중앙박물관',\n",
       "  '서울역사박물관',\n",
       "  '덕수궁',\n",
       "  '서울시립미술관 본관',\n",
       "  '태릉 ·  강릉 · 조선왕릉전시관',\n",
       "  '서대문형무소역사관',\n",
       "  '서대문자연사박물관',\n",
       "  '트릭아이미술관',\n",
       "  '헌릉ㆍ인릉',\n",
       "  '롯데월드',\n",
       "  '창덕궁',\n",
       "  '경복궁',\n",
       "  '창경궁',\n",
       "  '종묘',\n",
       "  '국립중앙박물관',\n",
       "  '덕수궁',\n",
       "  '태릉 ·  강릉 · 조선왕릉전시관',\n",
       "  '서대문형무소역사관',\n",
       "  '서대문자연사박물관',\n",
       "  '트릭아이미술관',\n",
       "  '헌릉ㆍ인릉',\n",
       "  '선릉·정릉',\n",
       "  '창덕궁',\n",
       "  '경복궁',\n",
       "  '창경궁',\n",
       "  '종묘',\n",
       "  '국립중앙박물관',\n",
       "  '덕수궁',\n",
       "  '태릉 ·  강릉 · 조선왕릉전시관',\n",
       "  '서대문형무소역사관',\n",
       "  '서대문자연사박물관',\n",
       "  '트릭아이미술관',\n",
       "  '헌릉ㆍ인릉',\n",
       "  '선릉·정릉',\n",
       "  '창덕궁',\n",
       "  '경복궁',\n",
       "  '창경궁',\n",
       "  '종묘',\n",
       "  '국립중앙박물관',\n",
       "  '덕수궁',\n",
       "  '태릉 ·  강릉 · 조선왕릉전시관',\n",
       "  '서대문형무소역사관',\n",
       "  '서대문자연사박물관',\n",
       "  '트릭아이미술관',\n",
       "  '헌릉ㆍ인릉',\n",
       "  '선릉·정릉'],\n",
       " 'rnum': [1,\n",
       "  2,\n",
       "  3,\n",
       "  4,\n",
       "  5,\n",
       "  6,\n",
       "  7,\n",
       "  8,\n",
       "  9,\n",
       "  10,\n",
       "  11,\n",
       "  12,\n",
       "  13,\n",
       "  14,\n",
       "  15,\n",
       "  16,\n",
       "  1,\n",
       "  2,\n",
       "  3,\n",
       "  4,\n",
       "  5,\n",
       "  6,\n",
       "  7,\n",
       "  8,\n",
       "  9,\n",
       "  10,\n",
       "  11,\n",
       "  12,\n",
       "  13,\n",
       "  14,\n",
       "  15,\n",
       "  1,\n",
       "  2,\n",
       "  3,\n",
       "  4,\n",
       "  5,\n",
       "  6,\n",
       "  7,\n",
       "  8,\n",
       "  9,\n",
       "  10,\n",
       "  11,\n",
       "  12,\n",
       "  1,\n",
       "  2,\n",
       "  3,\n",
       "  4,\n",
       "  5,\n",
       "  6,\n",
       "  7,\n",
       "  8,\n",
       "  9,\n",
       "  10,\n",
       "  11,\n",
       "  12,\n",
       "  1,\n",
       "  2,\n",
       "  3,\n",
       "  4,\n",
       "  5,\n",
       "  6,\n",
       "  7,\n",
       "  8,\n",
       "  9,\n",
       "  10,\n",
       "  11,\n",
       "  12],\n",
       " 'sido': ['서울특별시',\n",
       "  '서울특별시',\n",
       "  '서울특별시',\n",
       "  '서울특별시',\n",
       "  '서울특별시',\n",
       "  '서울특별시',\n",
       "  '서울특별시',\n",
       "  '서울특별시',\n",
       "  '서울특별시',\n",
       "  '서울특별시',\n",
       "  '서울특별시',\n",
       "  '서울특별시',\n",
       "  '서울특별시',\n",
       "  '서울특별시',\n",
       "  '서울특별시',\n",
       "  '서울특별시',\n",
       "  '서울특별시',\n",
       "  '서울특별시',\n",
       "  '서울특별시',\n",
       "  '서울특별시',\n",
       "  '서울특별시',\n",
       "  '서울특별시',\n",
       "  '서울특별시',\n",
       "  '서울특별시',\n",
       "  '서울특별시',\n",
       "  '서울특별시',\n",
       "  '서울특별시',\n",
       "  '서울특별시',\n",
       "  '서울특별시',\n",
       "  '서울특별시',\n",
       "  '서울특별시',\n",
       "  '서울특별시',\n",
       "  '서울특별시',\n",
       "  '서울특별시',\n",
       "  '서울특별시',\n",
       "  '서울특별시',\n",
       "  '서울특별시',\n",
       "  '서울특별시',\n",
       "  '서울특별시',\n",
       "  '서울특별시',\n",
       "  '서울특별시',\n",
       "  '서울특별시',\n",
       "  '서울특별시',\n",
       "  '서울특별시',\n",
       "  '서울특별시',\n",
       "  '서울특별시',\n",
       "  '서울특별시',\n",
       "  '서울특별시',\n",
       "  '서울특별시',\n",
       "  '서울특별시',\n",
       "  '서울특별시',\n",
       "  '서울특별시',\n",
       "  '서울특별시',\n",
       "  '서울특별시',\n",
       "  '서울특별시',\n",
       "  '서울특별시',\n",
       "  '서울특별시',\n",
       "  '서울특별시',\n",
       "  '서울특별시',\n",
       "  '서울특별시',\n",
       "  '서울특별시',\n",
       "  '서울특별시',\n",
       "  '서울특별시',\n",
       "  '서울특별시',\n",
       "  '서울특별시',\n",
       "  '서울특별시',\n",
       "  '서울특별시'],\n",
       " 'yyyymm': ['201112',\n",
       "  '201112',\n",
       "  '201112',\n",
       "  '201112',\n",
       "  '201112',\n",
       "  '201112',\n",
       "  '201112',\n",
       "  '201112',\n",
       "  '201112',\n",
       "  '201112',\n",
       "  '201112',\n",
       "  '201112',\n",
       "  '201112',\n",
       "  '201112',\n",
       "  '201112',\n",
       "  '201112',\n",
       "  '201212',\n",
       "  '201212',\n",
       "  '201212',\n",
       "  '201212',\n",
       "  '201212',\n",
       "  '201212',\n",
       "  '201212',\n",
       "  '201212',\n",
       "  '201212',\n",
       "  '201212',\n",
       "  '201212',\n",
       "  '201212',\n",
       "  '201212',\n",
       "  '201212',\n",
       "  '201212',\n",
       "  '201312',\n",
       "  '201312',\n",
       "  '201312',\n",
       "  '201312',\n",
       "  '201312',\n",
       "  '201312',\n",
       "  '201312',\n",
       "  '201312',\n",
       "  '201312',\n",
       "  '201312',\n",
       "  '201312',\n",
       "  '201312',\n",
       "  '201412',\n",
       "  '201412',\n",
       "  '201412',\n",
       "  '201412',\n",
       "  '201412',\n",
       "  '201412',\n",
       "  '201412',\n",
       "  '201412',\n",
       "  '201412',\n",
       "  '201412',\n",
       "  '201412',\n",
       "  '201412',\n",
       "  '201512',\n",
       "  '201512',\n",
       "  '201512',\n",
       "  '201512',\n",
       "  '201512',\n",
       "  '201512',\n",
       "  '201512',\n",
       "  '201512',\n",
       "  '201512',\n",
       "  '201512',\n",
       "  '201512',\n",
       "  '201512']}"
      ]
     },
     "execution_count": 131,
     "metadata": {},
     "output_type": "execute_result"
    }
   ],
   "source": [
    "# 답안 3\n",
    "\n",
    "result2 = {}\n",
    "\n",
    "for key in list(data[0].keys()):\n",
    "    item_list = []\n",
    "    for item in data: \n",
    "        item_list.append(item[key])\n",
    "    result2[key] = item_list \n",
    "    \n",
    "result2"
   ]
  },
  {
   "cell_type": "markdown",
   "id": "fc52e9f5",
   "metadata": {},
   "source": [
    "# [ i for i in range(1,11)]"
   ]
  },
  {
   "cell_type": "markdown",
   "id": "99582605",
   "metadata": {},
   "source": [
    "## 딕셔너리 표현식\n",
    "* { } 안에 반복문을 넣어서 딕셔너리를 만드는 방법\n",
    "* {key : value로 올 for문 key로 올 for문}\n",
    "* {key : value for value in data key for in keys}"
   ]
  },
  {
   "cell_type": "code",
   "execution_count": null,
   "id": "373a8ab2",
   "metadata": {},
   "outputs": [],
   "source": []
  },
  {
   "cell_type": "code",
   "execution_count": 137,
   "id": "2d4f9197",
   "metadata": {},
   "outputs": [
    {
     "name": "stdout",
     "output_type": "stream",
     "text": [
      "[0, 1, 2, 3, 4, 5, 6, 7, 8, 9, 10]\n"
     ]
    }
   ],
   "source": [
    "\n",
    "\n",
    "result = [i for i in range(11)]\n",
    "\n",
    "print(result)\n"
   ]
  },
  {
   "cell_type": "code",
   "execution_count": 144,
   "id": "dbc4217e",
   "metadata": {},
   "outputs": [
    {
     "name": "stdout",
     "output_type": "stream",
     "text": [
      "2 * 1 = 2\n",
      "2 * 2 = 4\n",
      "2 * 3 = 6\n",
      "2 * 4 = 8\n",
      "2 * 5 = 10\n",
      "2 * 6 = 12\n",
      "2 * 7 = 14\n",
      "2 * 8 = 16\n",
      "2 * 9 = 18\n",
      "3 * 1 = 3\n",
      "3 * 2 = 6\n",
      "3 * 3 = 9\n",
      "3 * 4 = 12\n",
      "3 * 5 = 15\n",
      "3 * 6 = 18\n",
      "3 * 7 = 21\n",
      "3 * 8 = 24\n",
      "3 * 9 = 27\n",
      "4 * 1 = 4\n",
      "4 * 2 = 8\n",
      "4 * 3 = 12\n",
      "4 * 4 = 16\n",
      "4 * 5 = 20\n",
      "4 * 6 = 24\n",
      "4 * 7 = 28\n",
      "4 * 8 = 32\n",
      "4 * 9 = 36\n",
      "5 * 1 = 5\n",
      "5 * 2 = 10\n",
      "5 * 3 = 15\n",
      "5 * 4 = 20\n",
      "5 * 5 = 25\n",
      "5 * 6 = 30\n",
      "5 * 7 = 35\n",
      "5 * 8 = 40\n",
      "5 * 9 = 45\n",
      "6 * 1 = 6\n",
      "6 * 2 = 12\n",
      "6 * 3 = 18\n",
      "6 * 4 = 24\n",
      "6 * 5 = 30\n",
      "6 * 6 = 36\n",
      "6 * 7 = 42\n",
      "6 * 8 = 48\n",
      "6 * 9 = 54\n",
      "7 * 1 = 7\n",
      "7 * 2 = 14\n",
      "7 * 3 = 21\n",
      "7 * 4 = 28\n",
      "7 * 5 = 35\n",
      "7 * 6 = 42\n",
      "7 * 7 = 49\n",
      "7 * 8 = 56\n",
      "7 * 9 = 63\n",
      "8 * 1 = 8\n",
      "8 * 2 = 16\n",
      "8 * 3 = 24\n",
      "8 * 4 = 32\n",
      "8 * 5 = 40\n",
      "8 * 6 = 48\n",
      "8 * 7 = 56\n",
      "8 * 8 = 64\n",
      "8 * 9 = 72\n",
      "9 * 1 = 9\n",
      "9 * 2 = 18\n",
      "9 * 3 = 27\n",
      "9 * 4 = 36\n",
      "9 * 5 = 45\n",
      "9 * 6 = 54\n",
      "9 * 7 = 63\n",
      "9 * 8 = 72\n",
      "9 * 9 = 81\n"
     ]
    }
   ],
   "source": [
    "for i in range(2,10):\n",
    "    for j in range(1,10):\n",
    "        print(i, \"*\", j, \"=\", i*j)"
   ]
  },
  {
   "cell_type": "code",
   "execution_count": 143,
   "id": "6e3fac4a",
   "metadata": {},
   "outputs": [
    {
     "data": {
      "text/plain": [
       "[2,\n",
       " 3,\n",
       " 4,\n",
       " 5,\n",
       " 6,\n",
       " 7,\n",
       " 8,\n",
       " 9,\n",
       " 4,\n",
       " 6,\n",
       " 8,\n",
       " 10,\n",
       " 12,\n",
       " 14,\n",
       " 16,\n",
       " 18,\n",
       " 6,\n",
       " 9,\n",
       " 12,\n",
       " 15,\n",
       " 18,\n",
       " 21,\n",
       " 24,\n",
       " 27,\n",
       " 8,\n",
       " 12,\n",
       " 16,\n",
       " 20,\n",
       " 24,\n",
       " 28,\n",
       " 32,\n",
       " 36,\n",
       " 10,\n",
       " 15,\n",
       " 20,\n",
       " 25,\n",
       " 30,\n",
       " 35,\n",
       " 40,\n",
       " 45,\n",
       " 12,\n",
       " 18,\n",
       " 24,\n",
       " 30,\n",
       " 36,\n",
       " 42,\n",
       " 48,\n",
       " 54,\n",
       " 14,\n",
       " 21,\n",
       " 28,\n",
       " 35,\n",
       " 42,\n",
       " 49,\n",
       " 56,\n",
       " 63,\n",
       " 16,\n",
       " 24,\n",
       " 32,\n",
       " 40,\n",
       " 48,\n",
       " 56,\n",
       " 64,\n",
       " 72,\n",
       " 18,\n",
       " 27,\n",
       " 36,\n",
       " 45,\n",
       " 54,\n",
       " 63,\n",
       " 72,\n",
       " 81]"
      ]
     },
     "execution_count": 143,
     "metadata": {},
     "output_type": "execute_result"
    }
   ],
   "source": [
    "gugudan = [i*j for j in range(1,10) for i in range(2,10)]\n",
    "\n",
    "  \n",
    "gugudan"
   ]
  },
  {
   "cell_type": "code",
   "execution_count": 161,
   "id": "b8e2388a",
   "metadata": {},
   "outputs": [
    {
     "name": "stdout",
     "output_type": "stream",
     "text": [
      "{'ForNum': [44722, 0, 132399, 3133, 18226, 0, 0, 13935, 0, 10, 0, 0, 5214, 333, 4704, 52484, 27814, 546, 105370, 1451, 8817, 13033, 1138, 11151, 0, 15, 6625, 0, 24492, 62, 66868, 25550, 101942, 1986, 6048, 9083, 13282, 6, 6732, 0, 43129, 16, 1445, 29928, 129946, 1693, 3891, 7195, 14723, 12, 6263, 0, 42443, 5, 823, 33342, 170379, 1783, 3406, 13127, 15197, 16, 5588, 0, 29520, 3, 492], 'NatNum': [75991, 11017, 237330, 21267, 24223, 233828, 93554, 52140, 61115, 1885, 32412, 19308, 6956, 1823, 16634, 642290, 28061, 5978, 133012, 15722, 8068, 227077, 78179, 44855, 213467, 1252, 14090, 18881, 9167, 860, 670056, 38553, 145544, 20035, 13896, 286992, 99301, 706, 14607, 23245, 11886, 1248, 11890, 41561, 190501, 19473, 5951, 258781, 44272, 486, 27205, 24527, 7478, 1036, 8869, 59738, 148961, 27172, 14936, 281457, 68749, 2221, 44232, 22587, 8822, 1647, 14454], 'addrCd': [1111, 1111, 1111, 1111, 1111, 1117, 1111, 1114, 1114, 1135, 1141, 1141, 1144, 1165, 1168, 1171, 1111, 1111, 1111, 1111, 1111, 1117, 1111, 1114, 1114, 1135, 1141, 1141, 1144, 1165, 1171, 1111, 1111, 1111, 1111, 1117, 1114, 1135, 1141, 1141, 1144, 1165, 1168, 1111, 1111, 1111, 1111, 1117, 1114, 1135, 1141, 1141, 1144, 1165, 1168, 1111, 1111, 1111, 1111, 1117, 1114, 1135, 1141, 1141, 1144, 1165, 1168], 'gungu': ['종로구', '종로구', '종로구', '종로구', '종로구', '용산구', '종로구', '중구', '중구', '노원구', '서대문구', '서대문구', '마포구', '서초구', '강남구', '송파구', '종로구', '종로구', '종로구', '종로구', '종로구', '용산구', '종로구', '중구', '중구', '노원구', '서대문구', '서대문구', '마포구', '서초구', '송파구', '종로구', '종로구', '종로구', '종로구', '용산구', '중구', '노원구', '서대문구', '서대문구', '마포구', '서초구', '강남구', '종로구', '종로구', '종로구', '종로구', '용산구', '중구', '노원구', '서대문구', '서대문구', '마포구', '서초구', '강남구', '종로구', '종로구', '종로구', '종로구', '용산구', '중구', '노원구', '서대문구', '서대문구', '마포구', '서초구', '강남구'], 'resNm': ['창덕궁', '운현궁', '경복궁', '창경궁', '종묘', '국립중앙박물관', '서울역사박물관', '덕수궁', '서울시립미술관 본관', '태릉 ·  강릉 · 조선왕릉전시관', '서대문형무소역사관', '서대문자연사박물관', '트릭아이미술관', '헌릉ㆍ인릉', '선릉·정릉', '롯데월드', '창덕궁', '운현궁', '경복궁', '창경궁', '종묘', '국립중앙박물관', '서울역사박물관', '덕수궁', '서울시립미술관 본관', '태릉 ·  강릉 · 조선왕릉전시관', '서대문형무소역사관', '서대문자연사박물관', '트릭아이미술관', '헌릉ㆍ인릉', '롯데월드', '창덕궁', '경복궁', '창경궁', '종묘', '국립중앙박물관', '덕수궁', '태릉 ·  강릉 · 조선왕릉전시관', '서대문형무소역사관', '서대문자연사박물관', '트릭아이미술관', '헌릉ㆍ인릉', '선릉·정릉', '창덕궁', '경복궁', '창경궁', '종묘', '국립중앙박물관', '덕수궁', '태릉 ·  강릉 · 조선왕릉전시관', '서대문형무소역사관', '서대문자연사박물관', '트릭아이미술관', '헌릉ㆍ인릉', '선릉·정릉', '창덕궁', '경복궁', '창경궁', '종묘', '국립중앙박물관', '덕수궁', '태릉 ·  강릉 · 조선왕릉전시관', '서대문형무소역사관', '서대문자연사박물관', '트릭아이미술관', '헌릉ㆍ인릉', '선릉·정릉'], 'rnum': [1, 2, 3, 4, 5, 6, 7, 8, 9, 10, 11, 12, 13, 14, 15, 16, 1, 2, 3, 4, 5, 6, 7, 8, 9, 10, 11, 12, 13, 14, 15, 1, 2, 3, 4, 5, 6, 7, 8, 9, 10, 11, 12, 1, 2, 3, 4, 5, 6, 7, 8, 9, 10, 11, 12, 1, 2, 3, 4, 5, 6, 7, 8, 9, 10, 11, 12], 'sido': ['서울특별시', '서울특별시', '서울특별시', '서울특별시', '서울특별시', '서울특별시', '서울특별시', '서울특별시', '서울특별시', '서울특별시', '서울특별시', '서울특별시', '서울특별시', '서울특별시', '서울특별시', '서울특별시', '서울특별시', '서울특별시', '서울특별시', '서울특별시', '서울특별시', '서울특별시', '서울특별시', '서울특별시', '서울특별시', '서울특별시', '서울특별시', '서울특별시', '서울특별시', '서울특별시', '서울특별시', '서울특별시', '서울특별시', '서울특별시', '서울특별시', '서울특별시', '서울특별시', '서울특별시', '서울특별시', '서울특별시', '서울특별시', '서울특별시', '서울특별시', '서울특별시', '서울특별시', '서울특별시', '서울특별시', '서울특별시', '서울특별시', '서울특별시', '서울특별시', '서울특별시', '서울특별시', '서울특별시', '서울특별시', '서울특별시', '서울특별시', '서울특별시', '서울특별시', '서울특별시', '서울특별시', '서울특별시', '서울특별시', '서울특별시', '서울특별시', '서울특별시', '서울특별시'], 'yyyymm': ['201112', '201112', '201112', '201112', '201112', '201112', '201112', '201112', '201112', '201112', '201112', '201112', '201112', '201112', '201112', '201112', '201212', '201212', '201212', '201212', '201212', '201212', '201212', '201212', '201212', '201212', '201212', '201212', '201212', '201212', '201212', '201312', '201312', '201312', '201312', '201312', '201312', '201312', '201312', '201312', '201312', '201312', '201312', '201412', '201412', '201412', '201412', '201412', '201412', '201412', '201412', '201412', '201412', '201412', '201412', '201512', '201512', '201512', '201512', '201512', '201512', '201512', '201512', '201512', '201512', '201512', '201512']}\n"
     ]
    }
   ],
   "source": [
    "# 답안 5 : 리스트 표현식 중, 더 간추린 것\n",
    "\n",
    "\n",
    "result4 = {key : [item[key] for item in data] for key in list(data[0].keys())}\n",
    "\n",
    "\n",
    "print(result4)"
   ]
  },
  {
   "cell_type": "code",
   "execution_count": null,
   "id": "473b2900",
   "metadata": {},
   "outputs": [],
   "source": []
  },
  {
   "cell_type": "markdown",
   "id": "316cce31",
   "metadata": {},
   "source": [
    "## * 예제"
   ]
  },
  {
   "cell_type": "code",
   "execution_count": 162,
   "id": "cfea5ba9",
   "metadata": {},
   "outputs": [
    {
     "name": "stdout",
     "output_type": "stream",
     "text": [
      "0\n",
      "2\n",
      "4\n",
      "6\n",
      "8\n"
     ]
    }
   ],
   "source": [
    "for i in range(10):\n",
    "    if i % 2 == 0 :\n",
    "        print(i)"
   ]
  },
  {
   "cell_type": "code",
   "execution_count": 164,
   "id": "f40da972",
   "metadata": {},
   "outputs": [
    {
     "data": {
      "text/plain": [
       "[0, 2, 4, 6, 8]"
      ]
     },
     "execution_count": 164,
     "metadata": {},
     "output_type": "execute_result"
    }
   ],
   "source": [
    "[ i for i in range(10)  if i % 2 == 0 ]\n",
    " \n"
   ]
  },
  {
   "cell_type": "code",
   "execution_count": 166,
   "id": "fcf5c4b3",
   "metadata": {},
   "outputs": [],
   "source": [
    "L = list(range(20))"
   ]
  },
  {
   "cell_type": "code",
   "execution_count": 168,
   "id": "edd6d2d9",
   "metadata": {},
   "outputs": [
    {
     "name": "stdout",
     "output_type": "stream",
     "text": [
      "even\n",
      "odd\n",
      "even\n",
      "odd\n",
      "even\n",
      "odd\n",
      "even\n",
      "odd\n",
      "even\n",
      "odd\n",
      "even\n",
      "odd\n",
      "even\n",
      "odd\n",
      "even\n",
      "odd\n",
      "even\n",
      "odd\n",
      "even\n",
      "odd\n"
     ]
    }
   ],
   "source": [
    "for i in L : \n",
    "    if i % 2 == 1:\n",
    "        print('odd')\n",
    "    else:\n",
    "        print('even')"
   ]
  },
  {
   "cell_type": "markdown",
   "id": "f4b1c6e7",
   "metadata": {},
   "source": [
    " ## if else 문 1줄로 표현하기\n",
    " * 참일 때 실행문 if 조건, else 거짓일때 실행문"
   ]
  },
  {
   "cell_type": "markdown",
   "id": "89970d11",
   "metadata": {},
   "source": []
  },
  {
   "cell_type": "code",
   "execution_count": 171,
   "id": "334ec344",
   "metadata": {},
   "outputs": [
    {
     "name": "stdout",
     "output_type": "stream",
     "text": [
      "even\n",
      "odd\n",
      "even\n",
      "odd\n",
      "even\n",
      "odd\n",
      "even\n",
      "odd\n",
      "even\n",
      "odd\n",
      "even\n",
      "odd\n",
      "even\n",
      "odd\n",
      "even\n",
      "odd\n",
      "even\n",
      "odd\n",
      "even\n",
      "odd\n"
     ]
    }
   ],
   "source": [
    "# 위 내용을 1줄로 압축시키기\n",
    "\n",
    "for i in L : \n",
    "    print('odd') if i % 2 == 1 else print('even')"
   ]
  },
  {
   "cell_type": "code",
   "execution_count": null,
   "id": "5267b453",
   "metadata": {},
   "outputs": [],
   "source": []
  }
 ],
 "metadata": {
  "kernelspec": {
   "display_name": "Python 3 (ipykernel)",
   "language": "python",
   "name": "python3"
  },
  "language_info": {
   "codemirror_mode": {
    "name": "ipython",
    "version": 3
   },
   "file_extension": ".py",
   "mimetype": "text/x-python",
   "name": "python",
   "nbconvert_exporter": "python",
   "pygments_lexer": "ipython3",
   "version": "3.10.14"
  }
 },
 "nbformat": 4,
 "nbformat_minor": 5
}
