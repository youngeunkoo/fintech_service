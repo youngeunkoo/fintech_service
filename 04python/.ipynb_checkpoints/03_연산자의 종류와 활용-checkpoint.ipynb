{
 "cells": [
  {
   "cell_type": "markdown",
   "id": "37b7deb4",
   "metadata": {},
   "source": [
    "# 3. 연산자의 종류와 활용"
   ]
  },
  {
   "cell_type": "markdown",
   "id": "684c0c08",
   "metadata": {},
   "source": [
    "## 1) 연산자의 종류\n",
    "* 산술연산자 : + , - , * , / , % , // , **\n",
    "* 할당연산자 : = , += , -= , *= , /= , %=\n",
    "* 비교연산자 : == , != , > , < , >= ,<=\n",
    "* 논리연산자 : and, or, not\n",
    "* 식별연산자 : is , is not\n",
    "* 멤버연산자 : in, not in"
   ]
  },
  {
   "cell_type": "markdown",
   "id": "2181b734",
   "metadata": {},
   "source": [
    "# 산술연산자 : + , - , * , / , % , // , **"
   ]
  },
  {
   "cell_type": "code",
   "execution_count": 1,
   "id": "d16c6cb0",
   "metadata": {},
   "outputs": [
    {
     "data": {
      "text/plain": [
       "2"
      ]
     },
     "execution_count": 1,
     "metadata": {},
     "output_type": "execute_result"
    }
   ],
   "source": [
    "1 + 1"
   ]
  },
  {
   "cell_type": "code",
   "execution_count": 2,
   "id": "e1874841",
   "metadata": {},
   "outputs": [
    {
     "data": {
      "text/plain": [
       "32"
      ]
     },
     "execution_count": 2,
     "metadata": {},
     "output_type": "execute_result"
    }
   ],
   "source": [
    "4 * 8"
   ]
  },
  {
   "cell_type": "code",
   "execution_count": 3,
   "id": "7b7ebf6c",
   "metadata": {},
   "outputs": [
    {
     "data": {
      "text/plain": [
       "199.33333333333334"
      ]
     },
     "execution_count": 3,
     "metadata": {},
     "output_type": "execute_result"
    }
   ],
   "source": [
    "598 / 3"
   ]
  },
  {
   "cell_type": "markdown",
   "id": "b99c40ff",
   "metadata": {},
   "source": [
    "* 파이썬은 데이터타입이 맘대로 바뀌기 때문에 계산 후 꼭 데이터타입 확인해야 함"
   ]
  },
  {
   "cell_type": "code",
   "execution_count": 4,
   "id": "d3f7bbf8",
   "metadata": {},
   "outputs": [
    {
     "data": {
      "text/plain": [
       "2.0"
      ]
     },
     "execution_count": 4,
     "metadata": {},
     "output_type": "execute_result"
    }
   ],
   "source": [
    "a = 4\n",
    "b = 2\n",
    "a / b"
   ]
  },
  {
   "cell_type": "markdown",
   "id": "0ad8f083",
   "metadata": {},
   "source": [
    "* 괄호를 사요해서 연산 우선순위 지정하기"
   ]
  },
  {
   "cell_type": "code",
   "execution_count": 10,
   "id": "9dbb9f66",
   "metadata": {},
   "outputs": [
    {
     "data": {
      "text/plain": [
       "35"
      ]
     },
     "execution_count": 10,
     "metadata": {},
     "output_type": "execute_result"
    }
   ],
   "source": [
    "(3 + 4) * 5 "
   ]
  },
  {
   "cell_type": "code",
   "execution_count": 6,
   "id": "bb4af096",
   "metadata": {},
   "outputs": [
    {
     "data": {
      "text/plain": [
       "23"
      ]
     },
     "execution_count": 6,
     "metadata": {},
     "output_type": "execute_result"
    }
   ],
   "source": [
    "3 + 4 * 5"
   ]
  },
  {
   "cell_type": "markdown",
   "id": "7a4ada34",
   "metadata": {},
   "source": [
    "예제 : 3의 4제곱에서 100을 뺀 값의 3제곱을 5로 나눈 몫에 1을 더한 값?"
   ]
  },
  {
   "cell_type": "code",
   "execution_count": 8,
   "id": "aa67b915",
   "metadata": {},
   "outputs": [
    {
     "data": {
      "text/plain": [
       "-1371"
      ]
     },
     "execution_count": 8,
     "metadata": {},
     "output_type": "execute_result"
    }
   ],
   "source": [
    "((((3 ** 4) - 100 ) ** 3 ) // 5) +1"
   ]
  },
  {
   "cell_type": "markdown",
   "id": "bd00623c",
   "metadata": {},
   "source": [
    "예제 : 초를 입력하면 '몇 분 몇 초'로 환산해주는 코드를 다음과 같이 출력하도록 작성.\n",
    "* input(\"초를 입력하세요: \")\n",
    "초를 입력하세요: 1234  1234 초(sec)는 20분(min) 34초(sec) 입니다.\n",
    "* input 함수는 다 문자열로 됨\n",
    "* 그래서 꼭 print와 type로 데이터타입을 찍어보는 습관 중요!!!\n",
    "* str : 문자열"
   ]
  },
  {
   "cell_type": "markdown",
   "id": "2680871d",
   "metadata": {},
   "source": [
    "* int( ) : 데이터 타입을 정수 int 로 형변환\n",
    "* float( ) : 데이터 타입을 float으로 형변환\n",
    "* str( ) : 데이터 타입을 str로 형변환\n",
    "* list( ) : 데이터 타입을 list로 형변환\n",
    "* tuple( ) : 데이터 타입을 tuple로 형변환\n",
    "* dict( ) : 데이터 타입을 dict로 형변환"
   ]
  },
  {
   "cell_type": "code",
   "execution_count": 23,
   "id": "80bd6130",
   "metadata": {},
   "outputs": [
    {
     "ename": "KeyboardInterrupt",
     "evalue": "Interrupted by user",
     "output_type": "error",
     "traceback": [
      "\u001b[1;31m---------------------------------------------------------------------------\u001b[0m",
      "\u001b[1;31mKeyboardInterrupt\u001b[0m                         Traceback (most recent call last)",
      "Cell \u001b[1;32mIn[23], line 1\u001b[0m\n\u001b[1;32m----> 1\u001b[0m sec \u001b[38;5;241m=\u001b[39m \u001b[38;5;28mint\u001b[39m(\u001b[38;5;28;43minput\u001b[39;49m\u001b[43m(\u001b[49m\u001b[38;5;124;43m\"\u001b[39;49m\u001b[38;5;124;43m초를 입력하세요: \u001b[39;49m\u001b[38;5;124;43m\"\u001b[39;49m\u001b[43m)\u001b[49m)\n\u001b[0;32m      2\u001b[0m \u001b[38;5;28mprint\u001b[39m(sec, \u001b[38;5;28mtype\u001b[39m(sec))\n\u001b[0;32m      3\u001b[0m minute \u001b[38;5;241m=\u001b[39m sec \u001b[38;5;241m/\u001b[39m\u001b[38;5;241m/\u001b[39m \u001b[38;5;241m60\u001b[39m\n",
      "File \u001b[1;32m~\\miniforge3\\envs\\fintech\\lib\\site-packages\\ipykernel\\kernelbase.py:1282\u001b[0m, in \u001b[0;36mKernel.raw_input\u001b[1;34m(self, prompt)\u001b[0m\n\u001b[0;32m   1280\u001b[0m     msg \u001b[38;5;241m=\u001b[39m \u001b[38;5;124m\"\u001b[39m\u001b[38;5;124mraw_input was called, but this frontend does not support input requests.\u001b[39m\u001b[38;5;124m\"\u001b[39m\n\u001b[0;32m   1281\u001b[0m     \u001b[38;5;28;01mraise\u001b[39;00m StdinNotImplementedError(msg)\n\u001b[1;32m-> 1282\u001b[0m \u001b[38;5;28;01mreturn\u001b[39;00m \u001b[38;5;28;43mself\u001b[39;49m\u001b[38;5;241;43m.\u001b[39;49m\u001b[43m_input_request\u001b[49m\u001b[43m(\u001b[49m\n\u001b[0;32m   1283\u001b[0m \u001b[43m    \u001b[49m\u001b[38;5;28;43mstr\u001b[39;49m\u001b[43m(\u001b[49m\u001b[43mprompt\u001b[49m\u001b[43m)\u001b[49m\u001b[43m,\u001b[49m\n\u001b[0;32m   1284\u001b[0m \u001b[43m    \u001b[49m\u001b[38;5;28;43mself\u001b[39;49m\u001b[38;5;241;43m.\u001b[39;49m\u001b[43m_parent_ident\u001b[49m\u001b[43m[\u001b[49m\u001b[38;5;124;43m\"\u001b[39;49m\u001b[38;5;124;43mshell\u001b[39;49m\u001b[38;5;124;43m\"\u001b[39;49m\u001b[43m]\u001b[49m\u001b[43m,\u001b[49m\n\u001b[0;32m   1285\u001b[0m \u001b[43m    \u001b[49m\u001b[38;5;28;43mself\u001b[39;49m\u001b[38;5;241;43m.\u001b[39;49m\u001b[43mget_parent\u001b[49m\u001b[43m(\u001b[49m\u001b[38;5;124;43m\"\u001b[39;49m\u001b[38;5;124;43mshell\u001b[39;49m\u001b[38;5;124;43m\"\u001b[39;49m\u001b[43m)\u001b[49m\u001b[43m,\u001b[49m\n\u001b[0;32m   1286\u001b[0m \u001b[43m    \u001b[49m\u001b[43mpassword\u001b[49m\u001b[38;5;241;43m=\u001b[39;49m\u001b[38;5;28;43;01mFalse\u001b[39;49;00m\u001b[43m,\u001b[49m\n\u001b[0;32m   1287\u001b[0m \u001b[43m\u001b[49m\u001b[43m)\u001b[49m\n",
      "File \u001b[1;32m~\\miniforge3\\envs\\fintech\\lib\\site-packages\\ipykernel\\kernelbase.py:1325\u001b[0m, in \u001b[0;36mKernel._input_request\u001b[1;34m(self, prompt, ident, parent, password)\u001b[0m\n\u001b[0;32m   1322\u001b[0m \u001b[38;5;28;01mexcept\u001b[39;00m \u001b[38;5;167;01mKeyboardInterrupt\u001b[39;00m:\n\u001b[0;32m   1323\u001b[0m     \u001b[38;5;66;03m# re-raise KeyboardInterrupt, to truncate traceback\u001b[39;00m\n\u001b[0;32m   1324\u001b[0m     msg \u001b[38;5;241m=\u001b[39m \u001b[38;5;124m\"\u001b[39m\u001b[38;5;124mInterrupted by user\u001b[39m\u001b[38;5;124m\"\u001b[39m\n\u001b[1;32m-> 1325\u001b[0m     \u001b[38;5;28;01mraise\u001b[39;00m \u001b[38;5;167;01mKeyboardInterrupt\u001b[39;00m(msg) \u001b[38;5;28;01mfrom\u001b[39;00m \u001b[38;5;28;01mNone\u001b[39;00m\n\u001b[0;32m   1326\u001b[0m \u001b[38;5;28;01mexcept\u001b[39;00m \u001b[38;5;167;01mException\u001b[39;00m:\n\u001b[0;32m   1327\u001b[0m     \u001b[38;5;28mself\u001b[39m\u001b[38;5;241m.\u001b[39mlog\u001b[38;5;241m.\u001b[39mwarning(\u001b[38;5;124m\"\u001b[39m\u001b[38;5;124mInvalid Message:\u001b[39m\u001b[38;5;124m\"\u001b[39m, exc_info\u001b[38;5;241m=\u001b[39m\u001b[38;5;28;01mTrue\u001b[39;00m)\n",
      "\u001b[1;31mKeyboardInterrupt\u001b[0m: Interrupted by user"
     ]
    }
   ],
   "source": [
    "sec = int(input(\"초를 입력하세요: \"))\n",
    "print(sec, type(sec))\n",
    "minute = sec // 60\n",
    "sec2 = sec % 60\n",
    "\n",
    "print(sec, \"초는\", minute, \"분\", sec2, \"초입니다.\")"
   ]
  },
  {
   "cell_type": "markdown",
   "id": "eab1c72d",
   "metadata": {},
   "source": [
    "# 할당연산자 : = , += , -= , *= , /= , %\n",
    "\n",
    "= 오른쪽의 자료를 왼쪽 변수에 할당"
   ]
  },
  {
   "cell_type": "code",
   "execution_count": 19,
   "id": "0d5dc004",
   "metadata": {},
   "outputs": [
    {
     "data": {
      "text/plain": [
       "2"
      ]
     },
     "execution_count": 19,
     "metadata": {},
     "output_type": "execute_result"
    }
   ],
   "source": [
    "a = 2\n",
    "a"
   ]
  },
  {
   "cell_type": "markdown",
   "id": "7f6e05a2",
   "metadata": {},
   "source": [
    "+= 왼쪽 변수 값에 오른쪽 값을 더해서 왼쪽 변수에 할당"
   ]
  },
  {
   "cell_type": "code",
   "execution_count": 20,
   "id": "cea83cb0",
   "metadata": {},
   "outputs": [
    {
     "data": {
      "text/plain": [
       "3"
      ]
     },
     "execution_count": 20,
     "metadata": {},
     "output_type": "execute_result"
    }
   ],
   "source": [
    "# a = a + 1\n",
    "a += 1\n",
    "a"
   ]
  },
  {
   "cell_type": "code",
   "execution_count": 21,
   "id": "1fd48ec9",
   "metadata": {},
   "outputs": [
    {
     "data": {
      "text/plain": [
       "6"
      ]
     },
     "execution_count": 21,
     "metadata": {},
     "output_type": "execute_result"
    }
   ],
   "source": [
    "# a = a * 2\n",
    "a *= 2 \n",
    "a"
   ]
  },
  {
   "cell_type": "code",
   "execution_count": 22,
   "id": "fcb6cb4a",
   "metadata": {},
   "outputs": [
    {
     "data": {
      "text/plain": [
       "3.0"
      ]
     },
     "execution_count": 22,
     "metadata": {},
     "output_type": "execute_result"
    }
   ],
   "source": [
    "# a = a / 2\n",
    "a /= 2\n",
    "a"
   ]
  },
  {
   "cell_type": "code",
   "execution_count": null,
   "id": "d4134e05",
   "metadata": {},
   "outputs": [],
   "source": []
  },
  {
   "cell_type": "markdown",
   "id": "62e3bca7",
   "metadata": {},
   "source": [
    "#  비교연산자 : == , != , > , < , >= ,<="
   ]
  },
  {
   "cell_type": "code",
   "execution_count": 27,
   "id": "d4ab44f2",
   "metadata": {},
   "outputs": [],
   "source": [
    "a = 3\n",
    "b = 3.0\n",
    "c = 5\n",
    "d = \"Python\"\n",
    "e = \"python\"\n",
    "f = True\n",
    "g = False"
   ]
  },
  {
   "cell_type": "markdown",
   "id": "124f812e",
   "metadata": {},
   "source": [
    "== 같으면 True, 다르면 False\n",
    "<br>\n",
    "!= 다르면 True, 같으면 False"
   ]
  },
  {
   "cell_type": "code",
   "execution_count": 28,
   "id": "295f9e11",
   "metadata": {},
   "outputs": [
    {
     "data": {
      "text/plain": [
       "True"
      ]
     },
     "execution_count": 28,
     "metadata": {},
     "output_type": "execute_result"
    }
   ],
   "source": [
    "a == b"
   ]
  },
  {
   "cell_type": "code",
   "execution_count": 29,
   "id": "587fb0cc",
   "metadata": {},
   "outputs": [
    {
     "data": {
      "text/plain": [
       "False"
      ]
     },
     "execution_count": 29,
     "metadata": {},
     "output_type": "execute_result"
    }
   ],
   "source": [
    "a == c"
   ]
  },
  {
   "cell_type": "code",
   "execution_count": 30,
   "id": "242a9ae2",
   "metadata": {},
   "outputs": [
    {
     "data": {
      "text/plain": [
       "False"
      ]
     },
     "execution_count": 30,
     "metadata": {},
     "output_type": "execute_result"
    }
   ],
   "source": [
    "a != b"
   ]
  },
  {
   "cell_type": "code",
   "execution_count": 31,
   "id": "86d0bec9",
   "metadata": {},
   "outputs": [
    {
     "data": {
      "text/plain": [
       "False"
      ]
     },
     "execution_count": 31,
     "metadata": {},
     "output_type": "execute_result"
    }
   ],
   "source": [
    "d == e"
   ]
  },
  {
   "cell_type": "markdown",
   "id": "781b573d",
   "metadata": {},
   "source": [
    "기준은 항상 왼쪽 <br>\n",
    "a > b   : a가 b를 초과하냐?  <br>\n",
    "a < b   : a가 b 미만이냐?  <br>\n",
    "a >= b  : a가 b 이상이냐?  <br>\n",
    "a <= b  : a가 b 이하냐?"
   ]
  },
  {
   "cell_type": "code",
   "execution_count": 32,
   "id": "1a29bb44",
   "metadata": {},
   "outputs": [
    {
     "name": "stdout",
     "output_type": "stream",
     "text": [
      "3\n",
      "3.0\n"
     ]
    },
    {
     "data": {
      "text/plain": [
       "False"
      ]
     },
     "execution_count": 32,
     "metadata": {},
     "output_type": "execute_result"
    }
   ],
   "source": [
    "print(a)\n",
    "print(b)\n",
    "a > b"
   ]
  },
  {
   "cell_type": "code",
   "execution_count": 33,
   "id": "10fb1cfd",
   "metadata": {},
   "outputs": [
    {
     "name": "stdout",
     "output_type": "stream",
     "text": [
      "Python\n",
      "python\n"
     ]
    },
    {
     "data": {
      "text/plain": [
       "False"
      ]
     },
     "execution_count": 33,
     "metadata": {},
     "output_type": "execute_result"
    }
   ],
   "source": [
    "print(d)\n",
    "print(e)\n",
    "a > b"
   ]
  },
  {
   "cell_type": "markdown",
   "id": "2cd03d2d",
   "metadata": {},
   "source": [
    "#  논리연산자 : and, or, not"
   ]
  },
  {
   "cell_type": "markdown",
   "id": "64072b4c",
   "metadata": {},
   "source": [
    "and : "
   ]
  },
  {
   "cell_type": "code",
   "execution_count": 34,
   "id": "c7080212",
   "metadata": {},
   "outputs": [
    {
     "data": {
      "text/plain": [
       "True"
      ]
     },
     "execution_count": 34,
     "metadata": {},
     "output_type": "execute_result"
    }
   ],
   "source": [
    "True and True"
   ]
  },
  {
   "cell_type": "code",
   "execution_count": 35,
   "id": "dc1f36be",
   "metadata": {},
   "outputs": [
    {
     "data": {
      "text/plain": [
       "False"
      ]
     },
     "execution_count": 35,
     "metadata": {},
     "output_type": "execute_result"
    }
   ],
   "source": [
    "True and False"
   ]
  },
  {
   "cell_type": "code",
   "execution_count": 36,
   "id": "5f31b80b",
   "metadata": {},
   "outputs": [
    {
     "data": {
      "text/plain": [
       "False"
      ]
     },
     "execution_count": 36,
     "metadata": {},
     "output_type": "execute_result"
    }
   ],
   "source": [
    "False and True"
   ]
  },
  {
   "cell_type": "code",
   "execution_count": 37,
   "id": "6a8f5ce3",
   "metadata": {},
   "outputs": [
    {
     "data": {
      "text/plain": [
       "False"
      ]
     },
     "execution_count": 37,
     "metadata": {},
     "output_type": "execute_result"
    }
   ],
   "source": [
    "False and False"
   ]
  },
  {
   "cell_type": "markdown",
   "id": "6caa9630",
   "metadata": {},
   "source": [
    "or : 두 값 중 하나라도 참이면 참, 두 값 모두가 거짓이어야 거짓"
   ]
  },
  {
   "cell_type": "code",
   "execution_count": 38,
   "id": "75d5e260",
   "metadata": {},
   "outputs": [
    {
     "data": {
      "text/plain": [
       "True"
      ]
     },
     "execution_count": 38,
     "metadata": {},
     "output_type": "execute_result"
    }
   ],
   "source": [
    "True and True"
   ]
  },
  {
   "cell_type": "code",
   "execution_count": 39,
   "id": "95cdb7cf",
   "metadata": {},
   "outputs": [
    {
     "data": {
      "text/plain": [
       "False"
      ]
     },
     "execution_count": 39,
     "metadata": {},
     "output_type": "execute_result"
    }
   ],
   "source": [
    "True and False"
   ]
  },
  {
   "cell_type": "code",
   "execution_count": 40,
   "id": "a30c8d31",
   "metadata": {},
   "outputs": [
    {
     "data": {
      "text/plain": [
       "False"
      ]
     },
     "execution_count": 40,
     "metadata": {},
     "output_type": "execute_result"
    }
   ],
   "source": [
    "False and True"
   ]
  },
  {
   "cell_type": "code",
   "execution_count": 41,
   "id": "6182eef7",
   "metadata": {},
   "outputs": [
    {
     "data": {
      "text/plain": [
       "False"
      ]
     },
     "execution_count": 41,
     "metadata": {},
     "output_type": "execute_result"
    }
   ],
   "source": [
    "False and False"
   ]
  },
  {
   "cell_type": "markdown",
   "id": "3e50f53c",
   "metadata": {},
   "source": [
    "not : 값을 반대로 뒤집음 <br>\n",
    "True = False  <br>\n",
    "False = True"
   ]
  },
  {
   "cell_type": "code",
   "execution_count": 42,
   "id": "c30cc570",
   "metadata": {},
   "outputs": [
    {
     "data": {
      "text/plain": [
       "False"
      ]
     },
     "execution_count": 42,
     "metadata": {},
     "output_type": "execute_result"
    }
   ],
   "source": [
    "not True"
   ]
  },
  {
   "cell_type": "code",
   "execution_count": 43,
   "id": "5fea95eb",
   "metadata": {},
   "outputs": [
    {
     "data": {
      "text/plain": [
       "True"
      ]
     },
     "execution_count": 43,
     "metadata": {},
     "output_type": "execute_result"
    }
   ],
   "source": [
    "not False"
   ]
  },
  {
   "cell_type": "markdown",
   "id": "f3958f9a",
   "metadata": {},
   "source": [
    "and , or , not 논리연산자가 식 하나에 들어 있으면 <br>\n",
    "not, and, or 순으로 판단"
   ]
  },
  {
   "cell_type": "code",
   "execution_count": 44,
   "id": "427e67b6",
   "metadata": {},
   "outputs": [
    {
     "data": {
      "text/plain": [
       "True"
      ]
     },
     "execution_count": 44,
     "metadata": {},
     "output_type": "execute_result"
    }
   ],
   "source": [
    "not True and False or not False"
   ]
  },
  {
   "cell_type": "markdown",
   "id": "bbb7fa6a",
   "metadata": {},
   "source": [
    "위의 값이 True가 나오는 이유  "
   ]
  },
  {
   "cell_type": "code",
   "execution_count": 45,
   "id": "b7fdcac5",
   "metadata": {},
   "outputs": [
    {
     "data": {
      "text/plain": [
       "False"
      ]
     },
     "execution_count": 45,
     "metadata": {},
     "output_type": "execute_result"
    }
   ],
   "source": [
    "not True and False"
   ]
  },
  {
   "cell_type": "code",
   "execution_count": 46,
   "id": "f12332a9",
   "metadata": {},
   "outputs": [
    {
     "data": {
      "text/plain": [
       "True"
      ]
     },
     "execution_count": 46,
     "metadata": {},
     "output_type": "execute_result"
    }
   ],
   "source": [
    "False or not False"
   ]
  },
  {
   "cell_type": "code",
   "execution_count": 47,
   "id": "102c8cab",
   "metadata": {},
   "outputs": [
    {
     "data": {
      "text/plain": [
       "True"
      ]
     },
     "execution_count": 47,
     "metadata": {},
     "output_type": "execute_result"
    }
   ],
   "source": [
    "10 == 10 and 10 !=5"
   ]
  },
  {
   "cell_type": "code",
   "execution_count": 48,
   "id": "2d3eede0",
   "metadata": {},
   "outputs": [
    {
     "data": {
      "text/plain": [
       "True"
      ]
     },
     "execution_count": 48,
     "metadata": {},
     "output_type": "execute_result"
    }
   ],
   "source": [
    "10 > 5 or 10 < 3"
   ]
  },
  {
   "cell_type": "markdown",
   "id": "882b5b65",
   "metadata": {},
   "source": [
    "# 식별연산자 : is , is not\n",
    "is, is not 객체(object)가 같은지 비교 <br>\n",
    "a is b : a 객체와 b 객체가 같은지 비교 <br>\n",
    "javascript 의 === 연산자와 동일"
   ]
  },
  {
   "cell_type": "code",
   "execution_count": 49,
   "id": "7f8bbeac",
   "metadata": {},
   "outputs": [
    {
     "name": "stdout",
     "output_type": "stream",
     "text": [
      "3\n",
      "3.0\n",
      "5\n"
     ]
    }
   ],
   "source": [
    "print(a)\n",
    "print(b)\n",
    "print(c)"
   ]
  },
  {
   "cell_type": "code",
   "execution_count": 50,
   "id": "1309d989",
   "metadata": {},
   "outputs": [
    {
     "name": "stdout",
     "output_type": "stream",
     "text": [
      "True\n",
      "False\n"
     ]
    }
   ],
   "source": [
    "print(a == b)\n",
    "print(a is b)"
   ]
  },
  {
   "cell_type": "markdown",
   "id": "813ee94f",
   "metadata": {},
   "source": [
    "위 결과에서 <br>\n",
    "a는 정수 3, b는 실수 3.0 이라 값이 같음  <br>\n",
    "a는 정수 3, b는 실수 3.0 이라 값은 같지만 데이터 타입이 달라서 fasle"
   ]
  },
  {
   "cell_type": "code",
   "execution_count": 54,
   "id": "661f6cff",
   "metadata": {},
   "outputs": [],
   "source": [
    "d = 3"
   ]
  },
  {
   "cell_type": "code",
   "execution_count": 55,
   "id": "c8258e54",
   "metadata": {},
   "outputs": [
    {
     "name": "stdout",
     "output_type": "stream",
     "text": [
      "3\n",
      "3\n",
      "True\n",
      "True\n"
     ]
    }
   ],
   "source": [
    "print(a)\n",
    "print(d)\n",
    "print(a == d)\n",
    "print(a is d)"
   ]
  },
  {
   "cell_type": "markdown",
   "id": "285cc69f",
   "metadata": {},
   "source": [
    "위 결과에서 <br>\n",
    "a는 정수 3, d도 정수 3이라 값이 같음  <br>\n",
    "a는 정수 3, d도 정수 3이라 데이터 타입이 같아서 true"
   ]
  },
  {
   "cell_type": "markdown",
   "id": "ae9719f7",
   "metadata": {},
   "source": [
    "# 멤버연산자 : in, not in\n",
    "리스트, 튜플 같은 객체 내에 해당 값이 있으면 True,  없으면 False"
   ]
  },
  {
   "cell_type": "code",
   "execution_count": 57,
   "id": "d136ba06",
   "metadata": {},
   "outputs": [],
   "source": [
    "member = [1,2,3,4,5]"
   ]
  },
  {
   "cell_type": "code",
   "execution_count": 58,
   "id": "4a7fea81",
   "metadata": {},
   "outputs": [
    {
     "data": {
      "text/plain": [
       "True"
      ]
     },
     "execution_count": 58,
     "metadata": {},
     "output_type": "execute_result"
    }
   ],
   "source": [
    "3 in member"
   ]
  },
  {
   "cell_type": "code",
   "execution_count": 59,
   "id": "ddaf60e2",
   "metadata": {},
   "outputs": [
    {
     "data": {
      "text/plain": [
       "False"
      ]
     },
     "execution_count": 59,
     "metadata": {},
     "output_type": "execute_result"
    }
   ],
   "source": [
    "7 in member"
   ]
  },
  {
   "cell_type": "code",
   "execution_count": 60,
   "id": "d8d2e5e7",
   "metadata": {},
   "outputs": [
    {
     "data": {
      "text/plain": [
       "False"
      ]
     },
     "execution_count": 60,
     "metadata": {},
     "output_type": "execute_result"
    }
   ],
   "source": [
    "2 not in member"
   ]
  },
  {
   "cell_type": "code",
   "execution_count": null,
   "id": "abbbb713",
   "metadata": {},
   "outputs": [],
   "source": []
  },
  {
   "cell_type": "code",
   "execution_count": null,
   "id": "0de3bf35",
   "metadata": {},
   "outputs": [],
   "source": []
  },
  {
   "cell_type": "code",
   "execution_count": null,
   "id": "00c3d039",
   "metadata": {},
   "outputs": [],
   "source": []
  },
  {
   "cell_type": "code",
   "execution_count": null,
   "id": "546cd87e",
   "metadata": {},
   "outputs": [],
   "source": []
  },
  {
   "cell_type": "code",
   "execution_count": null,
   "id": "0ab479f2",
   "metadata": {},
   "outputs": [],
   "source": []
  },
  {
   "cell_type": "code",
   "execution_count": null,
   "id": "0f995f90",
   "metadata": {},
   "outputs": [],
   "source": []
  },
  {
   "cell_type": "code",
   "execution_count": null,
   "id": "1cd487f2",
   "metadata": {},
   "outputs": [],
   "source": []
  }
 ],
 "metadata": {
  "kernelspec": {
   "display_name": "Python 3 (ipykernel)",
   "language": "python",
   "name": "python3"
  },
  "language_info": {
   "codemirror_mode": {
    "name": "ipython",
    "version": 3
   },
   "file_extension": ".py",
   "mimetype": "text/x-python",
   "name": "python",
   "nbconvert_exporter": "python",
   "pygments_lexer": "ipython3",
   "version": "3.10.14"
  }
 },
 "nbformat": 4,
 "nbformat_minor": 5
}
