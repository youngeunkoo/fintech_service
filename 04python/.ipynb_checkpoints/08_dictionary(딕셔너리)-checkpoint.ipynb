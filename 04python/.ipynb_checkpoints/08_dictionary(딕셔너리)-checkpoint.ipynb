{
 "cells": [
  {
   "cell_type": "markdown",
   "id": "fc38b0fe",
   "metadata": {},
   "source": [
    "# 딕셔너리 dict 사용하기 \n",
    "* 딕셔너리형(dictionary) 변수 JSON형이라고도 함\n",
    "* 웹상에서 가장 많이 사용되는 자료형\n",
    "* 딕셔너리를 잘 이해하면 pandas 도 쉽게 이해 가능\n",
    "* 딕셔너리는 Key : value로 이루어진 자료형\n",
    "* key를 호출하면 value가 나온다. "
   ]
  },
  {
   "cell_type": "markdown",
   "id": "3ee8efcb",
   "metadata": {},
   "source": [
    "## 딕셔너리 만들기 : {key : value, key : value}"
   ]
  },
  {
   "cell_type": "code",
   "execution_count": 2,
   "id": "c6162d15",
   "metadata": {},
   "outputs": [
    {
     "data": {
      "text/plain": [
       "{'년월': '20240710', '국가': '미국', '방문자수': 1000}"
      ]
     },
     "execution_count": 2,
     "metadata": {},
     "output_type": "execute_result"
    }
   ],
   "source": [
    "d = {'년월' : '20240710', '국가' : '미국', '방문자수' : 1000}\n",
    "d"
   ]
  },
  {
   "cell_type": "markdown",
   "id": "e2d39f55",
   "metadata": {},
   "source": [
    "* 안에 리스트, 튜플, 다른 딕셔너리 등 다 들어갈 수 있음"
   ]
  },
  {
   "cell_type": "code",
   "execution_count": 3,
   "id": "4b73c405",
   "metadata": {},
   "outputs": [
    {
     "data": {
      "text/plain": [
       "'20240710'"
      ]
     },
     "execution_count": 3,
     "metadata": {},
     "output_type": "execute_result"
    }
   ],
   "source": [
    "d['년월']"
   ]
  },
  {
   "cell_type": "code",
   "execution_count": 4,
   "id": "ef027737",
   "metadata": {},
   "outputs": [
    {
     "data": {
      "text/plain": [
       "1000"
      ]
     },
     "execution_count": 4,
     "metadata": {},
     "output_type": "execute_result"
    }
   ],
   "source": [
    "d['방문자수']"
   ]
  },
  {
   "cell_type": "markdown",
   "id": "011b271e",
   "metadata": {},
   "source": [
    "\n",
    "## 딕셔너리 key의 자료형\n",
    "* key 가능 : 문자열, 정수, 실수, 블린(True, False), tuple  \n",
    "* key 불가능 : list, dict "
   ]
  },
  {
   "cell_type": "code",
   "execution_count": 10,
   "id": "5137a960",
   "metadata": {},
   "outputs": [
    {
     "data": {
      "text/plain": [
       "{'백': 100, 100: '백', 3.5: [3.6, 3.7], False: 0, (0, '서울'): '종로구'}"
      ]
     },
     "execution_count": 10,
     "metadata": {},
     "output_type": "execute_result"
    }
   ],
   "source": [
    "e = {'백' : 100, 100 : '백', 3.5 : [3.6, 3.7], False : 0, (0,'서울') : '종로구'}\n",
    "e"
   ]
  },
  {
   "cell_type": "markdown",
   "id": "b52ca327",
   "metadata": {},
   "source": [
    "문자열, 정수, 실수, 블린(True, False), tuple  ==> key 가능하기 때문에 error 없이 잘 출력됨"
   ]
  },
  {
   "cell_type": "code",
   "execution_count": 11,
   "id": "603cb07b",
   "metadata": {},
   "outputs": [
    {
     "data": {
      "text/plain": [
       "100"
      ]
     },
     "execution_count": 11,
     "metadata": {},
     "output_type": "execute_result"
    }
   ],
   "source": [
    "e['백']"
   ]
  },
  {
   "cell_type": "code",
   "execution_count": 12,
   "id": "9b3dc289",
   "metadata": {},
   "outputs": [
    {
     "data": {
      "text/plain": [
       "[3.6, 3.7]"
      ]
     },
     "execution_count": 12,
     "metadata": {},
     "output_type": "execute_result"
    }
   ],
   "source": [
    "e[3.5]"
   ]
  },
  {
   "cell_type": "code",
   "execution_count": 13,
   "id": "229b2828",
   "metadata": {},
   "outputs": [
    {
     "data": {
      "text/plain": [
       "0"
      ]
     },
     "execution_count": 13,
     "metadata": {},
     "output_type": "execute_result"
    }
   ],
   "source": [
    "e[False]"
   ]
  },
  {
   "cell_type": "code",
   "execution_count": 14,
   "id": "8a58e756",
   "metadata": {},
   "outputs": [
    {
     "data": {
      "text/plain": [
       "'종로구'"
      ]
     },
     "execution_count": 14,
     "metadata": {},
     "output_type": "execute_result"
    }
   ],
   "source": [
    "e[(0,'서울')]"
   ]
  },
  {
   "cell_type": "code",
   "execution_count": null,
   "id": "7de83d6c",
   "metadata": {},
   "outputs": [],
   "source": []
  },
  {
   "cell_type": "markdown",
   "id": "512b56de",
   "metadata": {},
   "source": [
    "# 딕셔너리 value 의 자료형\n",
    "* value는 모든 자료형이 올 수 있다. \n"
   ]
  },
  {
   "cell_type": "code",
   "execution_count": 15,
   "id": "f1532468",
   "metadata": {},
   "outputs": [],
   "source": [
    "f = {'정수' : 100, '실수' : 13.5, '문자열':'딕셔너리의 값', '리스트':[1,2,3,4], '튜플':(1,2,3,4), '딕셔너리': {'key' : 'value'}, '블린':True}"
   ]
  },
  {
   "cell_type": "code",
   "execution_count": 16,
   "id": "e7ff1510",
   "metadata": {},
   "outputs": [
    {
     "data": {
      "text/plain": [
       "{'정수': 100,\n",
       " '실수': 13.5,\n",
       " '문자열': '딕셔너리의 값',\n",
       " '리스트': [1, 2, 3, 4],\n",
       " '튜플': (1, 2, 3, 4),\n",
       " '딕셔너리': {'key': 'value'},\n",
       " '블린': True}"
      ]
     },
     "execution_count": 16,
     "metadata": {},
     "output_type": "execute_result"
    }
   ],
   "source": [
    "f"
   ]
  },
  {
   "cell_type": "code",
   "execution_count": 17,
   "id": "1ef5fb08",
   "metadata": {},
   "outputs": [
    {
     "data": {
      "text/plain": [
       "100"
      ]
     },
     "execution_count": 17,
     "metadata": {},
     "output_type": "execute_result"
    }
   ],
   "source": [
    "f['정수']"
   ]
  },
  {
   "cell_type": "code",
   "execution_count": 18,
   "id": "dd0e03b2",
   "metadata": {},
   "outputs": [
    {
     "data": {
      "text/plain": [
       "[1, 2, 3, 4]"
      ]
     },
     "execution_count": 18,
     "metadata": {},
     "output_type": "execute_result"
    }
   ],
   "source": [
    "f['리스트']"
   ]
  },
  {
   "cell_type": "code",
   "execution_count": 22,
   "id": "ceda5332",
   "metadata": {},
   "outputs": [
    {
     "data": {
      "text/plain": [
       "3"
      ]
     },
     "execution_count": 22,
     "metadata": {},
     "output_type": "execute_result"
    }
   ],
   "source": [
    "f['리스트'][2]\n",
    "#  리스트는 인덱스를 뒤에 적어 꺼내주면 됨"
   ]
  },
  {
   "cell_type": "code",
   "execution_count": 20,
   "id": "d117fd2c",
   "metadata": {},
   "outputs": [
    {
     "data": {
      "text/plain": [
       "{'key': 'value'}"
      ]
     },
     "execution_count": 20,
     "metadata": {},
     "output_type": "execute_result"
    }
   ],
   "source": [
    "f['딕셔너리']"
   ]
  },
  {
   "cell_type": "code",
   "execution_count": 23,
   "id": "4c0c4d16",
   "metadata": {},
   "outputs": [
    {
     "data": {
      "text/plain": [
       "'value'"
      ]
     },
     "execution_count": 23,
     "metadata": {},
     "output_type": "execute_result"
    }
   ],
   "source": [
    "f['딕셔너리']['key']\n",
    "#  딕셔너리는 key 를 뒤에 적어 꺼내주면 됨"
   ]
  },
  {
   "cell_type": "markdown",
   "id": "0a51b5bd",
   "metadata": {},
   "source": []
  },
  {
   "cell_type": "markdown",
   "id": "a8ecd09c",
   "metadata": {},
   "source": [
    "## 빈 딕셔너리 만들기\n",
    "* {}\n",
    "* dict()"
   ]
  },
  {
   "cell_type": "code",
   "execution_count": 24,
   "id": "ee0bc1f3",
   "metadata": {},
   "outputs": [
    {
     "data": {
      "text/plain": [
       "{}"
      ]
     },
     "execution_count": 24,
     "metadata": {},
     "output_type": "execute_result"
    }
   ],
   "source": [
    "g = {}\n",
    "g"
   ]
  },
  {
   "cell_type": "code",
   "execution_count": 26,
   "id": "b41ef88d",
   "metadata": {},
   "outputs": [
    {
     "data": {
      "text/plain": [
       "{}"
      ]
     },
     "execution_count": 26,
     "metadata": {},
     "output_type": "execute_result"
    }
   ],
   "source": [
    "h = dict()\n",
    "h"
   ]
  },
  {
   "cell_type": "code",
   "execution_count": null,
   "id": "ace7d664",
   "metadata": {},
   "outputs": [],
   "source": []
  },
  {
   "cell_type": "markdown",
   "id": "1411e453",
   "metadata": {},
   "source": [
    "## 딕셔너리에 자료 추가하기\n",
    "* 빈 딕셔너리에 자료 추가해서 넣기 \n",
    "* 변수[ 'key' ] = value "
   ]
  },
  {
   "cell_type": "code",
   "execution_count": 27,
   "id": "dd7bea99",
   "metadata": {},
   "outputs": [
    {
     "data": {
      "text/plain": [
       "{}"
      ]
     },
     "execution_count": 27,
     "metadata": {},
     "output_type": "execute_result"
    }
   ],
   "source": [
    "g"
   ]
  },
  {
   "cell_type": "code",
   "execution_count": 28,
   "id": "22ad6b7d",
   "metadata": {},
   "outputs": [
    {
     "data": {
      "text/plain": [
       "{'번호': 0}"
      ]
     },
     "execution_count": 28,
     "metadata": {},
     "output_type": "execute_result"
    }
   ],
   "source": [
    "g['번호'] = 0\n",
    "g"
   ]
  },
  {
   "cell_type": "code",
   "execution_count": 29,
   "id": "ac696580",
   "metadata": {},
   "outputs": [
    {
     "data": {
      "text/plain": [
       "{'번호': 0, '이름': '손흥민'}"
      ]
     },
     "execution_count": 29,
     "metadata": {},
     "output_type": "execute_result"
    }
   ],
   "source": [
    "g['이름'] = '손흥민'\n",
    "g"
   ]
  },
  {
   "cell_type": "markdown",
   "id": "dc78f3ea",
   "metadata": {},
   "source": [
    "## 딕셔너리에 value 수정하기\n",
    "* g[ 'key' ] = 새 value \n",
    "* 새로 할당해서 넣는 것임"
   ]
  },
  {
   "cell_type": "code",
   "execution_count": 31,
   "id": "30a7e4c4",
   "metadata": {},
   "outputs": [
    {
     "data": {
      "text/plain": [
       "{'번호': 7, '이름': '손흥민'}"
      ]
     },
     "execution_count": 31,
     "metadata": {},
     "output_type": "execute_result"
    }
   ],
   "source": [
    "g['번호'] = 7\n",
    "g"
   ]
  },
  {
   "cell_type": "code",
   "execution_count": null,
   "id": "bbe28339",
   "metadata": {},
   "outputs": [],
   "source": []
  },
  {
   "cell_type": "markdown",
   "id": "eab7f2b0",
   "metadata": {},
   "source": [
    "* 리스트 : [ _ ]\n",
    "* 튜플 : ( _ )\n",
    "* 딕셔너리 : { _ }"
   ]
  },
  {
   "cell_type": "markdown",
   "id": "8bf71fd2",
   "metadata": {},
   "source": [
    "## dict()로 딕셔너리 만들기 --> 대부분 1, 3번 많이 사용함!\n",
    "### 1) dict(key1 = value1 , key2 = 'value2')\n",
    "* key에 ''. \"\"를 사용하지 않는다.\n",
    "* key는 모두 문자로 변환된다.\n",
    "* value가 문자형 자료라면 반드시 \"\",\" 가 필요하다. "
   ]
  },
  {
   "cell_type": "code",
   "execution_count": 32,
   "id": "f81a852e",
   "metadata": {},
   "outputs": [],
   "source": [
    "d = dict(정수 = 100, 실수 = 13.5, 문자 = '문자열', 리스트 = [1,2,3], 튜플 = (4,5,6,), 딕셔너리는 = {'key':'value'})"
   ]
  },
  {
   "cell_type": "code",
   "execution_count": 33,
   "id": "21c34860",
   "metadata": {},
   "outputs": [
    {
     "data": {
      "text/plain": [
       "{'정수': 100,\n",
       " '실수': 13.5,\n",
       " '문자': '문자열',\n",
       " '리스트': [1, 2, 3],\n",
       " '튜플': (4, 5, 6),\n",
       " '딕셔너리는': {'key': 'value'}}"
      ]
     },
     "execution_count": 33,
     "metadata": {},
     "output_type": "execute_result"
    }
   ],
   "source": [
    "d"
   ]
  },
  {
   "cell_type": "markdown",
   "id": "014737ce",
   "metadata": {},
   "source": [
    "### 2) dict([(key, value1), (key2,value2)]) 형식으로 만들기\n",
    "* 리스트 안에 튜플을 나열해서 만듦\n",
    "* 많이 사용하진 않음\n"
   ]
  },
  {
   "cell_type": "code",
   "execution_count": 34,
   "id": "d30b448a",
   "metadata": {},
   "outputs": [
    {
     "data": {
      "text/plain": [
       "{'key1': 100, '실수': 3.14, '리스트': [1, 2, 3]}"
      ]
     },
     "execution_count": 34,
     "metadata": {},
     "output_type": "execute_result"
    }
   ],
   "source": [
    "d2 = dict([('key1', 100), ('실수',3.14), ('리스트', [1,2,3,])])\n",
    "d2"
   ]
  },
  {
   "cell_type": "code",
   "execution_count": null,
   "id": "8ee00965",
   "metadata": {},
   "outputs": [],
   "source": []
  },
  {
   "cell_type": "markdown",
   "id": "2b779787",
   "metadata": {},
   "source": [
    "### 3) dict(zip([key1, key2, key3], [value1, value2, value3])) 형식으로 만들기\n",
    "* key 묶음 리스트와 value 묶음 리스트를 zip 함수로 합친 후 dict로 만듦\n",
    "* key 묶음과 value 묶음은 요소의 개수가 같아야 한다. \n",
    "* 많이 사용하는 방식"
   ]
  },
  {
   "cell_type": "code",
   "execution_count": 35,
   "id": "a5363bb9",
   "metadata": {},
   "outputs": [],
   "source": [
    "d3 = dict(zip(['문자열', '리스트', '튜플', '딕셔너리', '블린'], ['가나다라', [1,2,3,4], (5,6,7,8,), {'key':'value'}, True ]))"
   ]
  },
  {
   "cell_type": "code",
   "execution_count": 36,
   "id": "427df38b",
   "metadata": {},
   "outputs": [
    {
     "data": {
      "text/plain": [
       "{'문자열': '가나다라',\n",
       " '리스트': [1, 2, 3, 4],\n",
       " '튜플': (5, 6, 7, 8),\n",
       " '딕셔너리': {'key': 'value'},\n",
       " '블린': True}"
      ]
     },
     "execution_count": 36,
     "metadata": {},
     "output_type": "execute_result"
    }
   ],
   "source": [
    "d3"
   ]
  },
  {
   "cell_type": "markdown",
   "id": "effafda1",
   "metadata": {},
   "source": [
    "*** 일대일 매칭이 잘 되도록 넣기 ! "
   ]
  },
  {
   "cell_type": "markdown",
   "id": "2aecb80d",
   "metadata": {},
   "source": [
    "## 딕셔너리에서 값 삭제하기 "
   ]
  },
  {
   "cell_type": "code",
   "execution_count": 38,
   "id": "23541999",
   "metadata": {},
   "outputs": [
    {
     "data": {
      "text/plain": [
       "{'문자열': '가나다라',\n",
       " '리스트': [1, 2, 3, 4],\n",
       " '튜플': (5, 6, 7, 8),\n",
       " '딕셔너리': {'key': 'value'},\n",
       " '블린': True}"
      ]
     },
     "execution_count": 38,
     "metadata": {},
     "output_type": "execute_result"
    }
   ],
   "source": [
    "d3 "
   ]
  },
  {
   "cell_type": "code",
   "execution_count": 40,
   "id": "d9bf1e68",
   "metadata": {},
   "outputs": [],
   "source": [
    "d3['문자열']= '없는 값'"
   ]
  },
  {
   "cell_type": "code",
   "execution_count": 41,
   "id": "ecb46f46",
   "metadata": {},
   "outputs": [
    {
     "data": {
      "text/plain": [
       "{'문자열': '없는 값',\n",
       " '리스트': [1, 2, 3, 4],\n",
       " '튜플': (5, 6, 7, 8),\n",
       " '딕셔너리': {'key': 'value'},\n",
       " '블린': True}"
      ]
     },
     "execution_count": 41,
     "metadata": {},
     "output_type": "execute_result"
    }
   ],
   "source": [
    "d3"
   ]
  },
  {
   "cell_type": "code",
   "execution_count": 45,
   "id": "32449913",
   "metadata": {},
   "outputs": [
    {
     "ename": "KeyError",
     "evalue": "'문자열'",
     "output_type": "error",
     "traceback": [
      "\u001b[1;31m---------------------------------------------------------------------------\u001b[0m",
      "\u001b[1;31mKeyError\u001b[0m                                  Traceback (most recent call last)",
      "Cell \u001b[1;32mIn[45], line 1\u001b[0m\n\u001b[1;32m----> 1\u001b[0m \u001b[38;5;28;01mdel\u001b[39;00m d3[\u001b[38;5;124m'\u001b[39m\u001b[38;5;124m문자열\u001b[39m\u001b[38;5;124m'\u001b[39m]\n",
      "\u001b[1;31mKeyError\u001b[0m: '문자열'"
     ]
    }
   ],
   "source": [
    "del d3['문자열']"
   ]
  },
  {
   "cell_type": "code",
   "execution_count": 46,
   "id": "8ab968f8",
   "metadata": {},
   "outputs": [
    {
     "data": {
      "text/plain": [
       "{'리스트': [1, 2, 3, 4], '튜플': (5, 6, 7, 8), '딕셔너리': {'key': 'value'}, '블린': True}"
      ]
     },
     "execution_count": 46,
     "metadata": {},
     "output_type": "execute_result"
    }
   ],
   "source": [
    "d3"
   ]
  },
  {
   "cell_type": "code",
   "execution_count": 47,
   "id": "f6677c93",
   "metadata": {},
   "outputs": [
    {
     "data": {
      "text/plain": [
       "2"
      ]
     },
     "execution_count": 47,
     "metadata": {},
     "output_type": "execute_result"
    }
   ],
   "source": [
    "d3['리스트'][1]"
   ]
  },
  {
   "cell_type": "code",
   "execution_count": 48,
   "id": "6fca7e36",
   "metadata": {},
   "outputs": [],
   "source": [
    "del d3['리스트'][1]"
   ]
  },
  {
   "cell_type": "code",
   "execution_count": 49,
   "id": "7fa1f0a3",
   "metadata": {},
   "outputs": [
    {
     "data": {
      "text/plain": [
       "{'리스트': [1, 3, 4], '튜플': (5, 6, 7, 8), '딕셔너리': {'key': 'value'}, '블린': True}"
      ]
     },
     "execution_count": 49,
     "metadata": {},
     "output_type": "execute_result"
    }
   ],
   "source": [
    "d3"
   ]
  },
  {
   "cell_type": "code",
   "execution_count": 50,
   "id": "b4eb6eb4",
   "metadata": {},
   "outputs": [
    {
     "data": {
      "text/plain": [
       "4"
      ]
     },
     "execution_count": 50,
     "metadata": {},
     "output_type": "execute_result"
    }
   ],
   "source": [
    "d3['리스트'].pop()"
   ]
  },
  {
   "cell_type": "code",
   "execution_count": 51,
   "id": "74cb5c46",
   "metadata": {},
   "outputs": [
    {
     "data": {
      "text/plain": [
       "{'리스트': [1, 3], '튜플': (5, 6, 7, 8), '딕셔너리': {'key': 'value'}, '블린': True}"
      ]
     },
     "execution_count": 51,
     "metadata": {},
     "output_type": "execute_result"
    }
   ],
   "source": [
    "d3"
   ]
  },
  {
   "cell_type": "code",
   "execution_count": 52,
   "id": "c72a7d82",
   "metadata": {},
   "outputs": [
    {
     "data": {
      "text/plain": [
       "{'리스트': [1, 2, 3], '튜플': (5, 6, 7, 8), '딕셔너리': {'key': 'value'}, '블린': True}"
      ]
     },
     "execution_count": 52,
     "metadata": {},
     "output_type": "execute_result"
    }
   ],
   "source": [
    "d3['리스트'].insert(1, 2)\n",
    "d3"
   ]
  },
  {
   "cell_type": "code",
   "execution_count": null,
   "id": "bba2f6fc",
   "metadata": {},
   "outputs": [],
   "source": []
  },
  {
   "cell_type": "markdown",
   "id": "0c61fc06",
   "metadata": {},
   "source": [
    "## 딕셔너리 안에 특정 key가 있는지 확인하기\n",
    "* in, not in 연산자 사용"
   ]
  },
  {
   "cell_type": "code",
   "execution_count": 53,
   "id": "363022d2",
   "metadata": {},
   "outputs": [
    {
     "data": {
      "text/plain": [
       "True"
      ]
     },
     "execution_count": 53,
     "metadata": {},
     "output_type": "execute_result"
    }
   ],
   "source": [
    "'리스트' in d3"
   ]
  },
  {
   "cell_type": "code",
   "execution_count": 54,
   "id": "f3b31d5c",
   "metadata": {},
   "outputs": [
    {
     "data": {
      "text/plain": [
       "True"
      ]
     },
     "execution_count": 54,
     "metadata": {},
     "output_type": "execute_result"
    }
   ],
   "source": [
    "'리스트들' not in d3"
   ]
  },
  {
   "cell_type": "markdown",
   "id": "949cc68d",
   "metadata": {},
   "source": [
    "## len : 길이함수\n",
    "## len()으로 key 개수 구하기"
   ]
  },
  {
   "cell_type": "code",
   "execution_count": 62,
   "id": "3d5a1255",
   "metadata": {},
   "outputs": [
    {
     "data": {
      "text/plain": [
       "6"
      ]
     },
     "execution_count": 62,
     "metadata": {},
     "output_type": "execute_result"
    }
   ],
   "source": [
    "len(d3)"
   ]
  },
  {
   "cell_type": "code",
   "execution_count": null,
   "id": "e2b35a3b",
   "metadata": {},
   "outputs": [],
   "source": []
  },
  {
   "cell_type": "code",
   "execution_count": null,
   "id": "19110ad8",
   "metadata": {},
   "outputs": [],
   "source": []
  },
  {
   "cell_type": "markdown",
   "id": "f5120169",
   "metadata": {},
   "source": [
    "## 딕셔너리 함수 사용하기\n",
    "### 1) setdefault(key, value) \n",
    "* 딕셔너리에 key와 value 를 추가 \n",
    "* key만 지정하면 value는 'None'으로 입력됨"
   ]
  },
  {
   "cell_type": "code",
   "execution_count": 55,
   "id": "f2dd8b34",
   "metadata": {},
   "outputs": [
    {
     "data": {
      "text/plain": [
       "{'리스트': [1, 2, 3], '튜플': (5, 6, 7, 8), '딕셔너리': {'key': 'value'}, '블린': True}"
      ]
     },
     "execution_count": 55,
     "metadata": {},
     "output_type": "execute_result"
    }
   ],
   "source": [
    "d3"
   ]
  },
  {
   "cell_type": "code",
   "execution_count": 56,
   "id": "30105177",
   "metadata": {},
   "outputs": [
    {
     "data": {
      "text/plain": [
       "{'리스트': [1, 2, 3],\n",
       " '튜플': (5, 6, 7, 8),\n",
       " '딕셔너리': {'key': 'value'},\n",
       " '블린': True,\n",
       " 'd': None}"
      ]
     },
     "execution_count": 56,
     "metadata": {},
     "output_type": "execute_result"
    }
   ],
   "source": [
    "d3.setdefault('d')\n",
    "d3"
   ]
  },
  {
   "cell_type": "code",
   "execution_count": 57,
   "id": "5bff9ea9",
   "metadata": {},
   "outputs": [
    {
     "data": {
      "text/plain": [
       "{'리스트': [1, 2, 3],\n",
       " '튜플': (5, 6, 7, 8),\n",
       " '딕셔너리': {'key': 'value'},\n",
       " '블린': True,\n",
       " 'd': None,\n",
       " 'e': 123}"
      ]
     },
     "execution_count": 57,
     "metadata": {},
     "output_type": "execute_result"
    }
   ],
   "source": [
    "d3.setdefault('e', 123)\n",
    "d3"
   ]
  },
  {
   "cell_type": "code",
   "execution_count": 61,
   "id": "449b7caf",
   "metadata": {},
   "outputs": [
    {
     "data": {
      "text/plain": [
       "{'리스트': '리스트지',\n",
       " '튜플': (5, 6, 7, 8),\n",
       " '딕셔너리': {'key': 'value'},\n",
       " '블린': True,\n",
       " 'd': None,\n",
       " 'e': 123}"
      ]
     },
     "execution_count": 61,
     "metadata": {},
     "output_type": "execute_result"
    }
   ],
   "source": [
    "d4 = {'리스트': [1, 2, 3],\n",
    " '튜플': (5, 6, 7, 8),\n",
    " '딕셔너리': {'key': 'value'},\n",
    " '블린': True,\n",
    " 'd': None,\n",
    " 'e': 123,\n",
    " '리스트':'리스트지'}\n",
    "\n",
    "d4"
   ]
  },
  {
   "cell_type": "markdown",
   "id": "b1a4d269",
   "metadata": {},
   "source": [
    "* 앞에있던 중복된 '리스트'는 사라짐\n",
    "* 딕셔너리 안에서는 key가 중복되면, 뒤에 들어오는 얘가 앞에 것을 덮어버림\n",
    "* 딕셔너리는 key 값 중복 불가 !!!!!!\n",
    "* d4['블린'] = 'False'  이렇게 새롭게 할당하는 것과 같은 느낌 (업데이트됨) "
   ]
  },
  {
   "cell_type": "code",
   "execution_count": 63,
   "id": "5dd4e49f",
   "metadata": {},
   "outputs": [
    {
     "data": {
      "text/plain": [
       "{'리스트': '리스트지',\n",
       " '튜플': (5, 6, 7, 8),\n",
       " '딕셔너리': {'key': 'value'},\n",
       " '블린': 'False',\n",
       " 'd': None,\n",
       " 'e': 123}"
      ]
     },
     "execution_count": 63,
     "metadata": {},
     "output_type": "execute_result"
    }
   ],
   "source": [
    "d4['블린'] = 'False'\n",
    "d4"
   ]
  },
  {
   "cell_type": "markdown",
   "id": "cb83be72",
   "metadata": {},
   "source": [
    "## setdefault 는 기존에 key 가 있는 경우, value를 업데이트 하지 않음"
   ]
  },
  {
   "cell_type": "code",
   "execution_count": 64,
   "id": "8f71bf81",
   "metadata": {},
   "outputs": [
    {
     "data": {
      "text/plain": [
       "{'리스트': '리스트지',\n",
       " '튜플': (5, 6, 7, 8),\n",
       " '딕셔너리': {'key': 'value'},\n",
       " '블린': 'False',\n",
       " 'd': None,\n",
       " 'e': 123}"
      ]
     },
     "execution_count": 64,
     "metadata": {},
     "output_type": "execute_result"
    }
   ],
   "source": [
    "d4"
   ]
  },
  {
   "cell_type": "code",
   "execution_count": 66,
   "id": "20c1e256",
   "metadata": {},
   "outputs": [
    {
     "data": {
      "text/plain": [
       "{'리스트': '리스트지',\n",
       " '튜플': (5, 6, 7, 8),\n",
       " '딕셔너리': {'key': 'value'},\n",
       " '블린': 'False',\n",
       " 'd': None,\n",
       " 'e': 123}"
      ]
     },
     "execution_count": 66,
     "metadata": {},
     "output_type": "execute_result"
    }
   ],
   "source": [
    "d4.setdefault('e', 456)\n",
    "d4\n",
    "# key 'e'를 456으로 바꾸려고 하나, 이미 기존에 ' e'가 있기 때문에 업데이트 안됨!"
   ]
  },
  {
   "cell_type": "code",
   "execution_count": null,
   "id": "07a185f2",
   "metadata": {},
   "outputs": [],
   "source": []
  },
  {
   "cell_type": "markdown",
   "id": "3e952952",
   "metadata": {},
   "source": [
    "### 2) update(key =  value) \n",
    "* key는 문자형 key라도 \", \"\" 를 사용하지 x\n",
    "* key를 문자형이 아니라 정수, 실수, 튜플로 넣을 경우에는 {key : value} 형식으로 넣는다."
   ]
  },
  {
   "cell_type": "code",
   "execution_count": 67,
   "id": "c263eb91",
   "metadata": {},
   "outputs": [
    {
     "data": {
      "text/plain": [
       "{'리스트': '리스트지',\n",
       " '튜플': (5, 6, 7, 8),\n",
       " '딕셔너리': {'key': 'value'},\n",
       " '블린': 'False',\n",
       " 'd': None,\n",
       " 'e': 123}"
      ]
     },
     "execution_count": 67,
     "metadata": {},
     "output_type": "execute_result"
    }
   ],
   "source": [
    "d4"
   ]
  },
  {
   "cell_type": "code",
   "execution_count": 68,
   "id": "60f72b51",
   "metadata": {},
   "outputs": [
    {
     "data": {
      "text/plain": [
       "{'리스트': '리스트지',\n",
       " '튜플': (5, 6, 7, 8),\n",
       " '딕셔너리': {'key': 'value'},\n",
       " '블린': 'False',\n",
       " 'd': None,\n",
       " 'e': 45678}"
      ]
     },
     "execution_count": 68,
     "metadata": {},
     "output_type": "execute_result"
    }
   ],
   "source": [
    "d4.update(e = 45678)\n",
    "d4"
   ]
  },
  {
   "cell_type": "code",
   "execution_count": 69,
   "id": "d5c85406",
   "metadata": {},
   "outputs": [
    {
     "data": {
      "text/plain": [
       "{'리스트': '리스트지',\n",
       " '튜플': (5, 6, 7, 8),\n",
       " '딕셔너리': {'key': 'value'},\n",
       " '블린': 'False',\n",
       " 'd': None,\n",
       " 'e': 45678,\n",
       " 13: '십삼'}"
      ]
     },
     "execution_count": 69,
     "metadata": {},
     "output_type": "execute_result"
    }
   ],
   "source": [
    "d4.update({13 : '십삼'})\n",
    "d4"
   ]
  },
  {
   "cell_type": "code",
   "execution_count": 70,
   "id": "7b5e247f",
   "metadata": {},
   "outputs": [
    {
     "data": {
      "text/plain": [
       "{'리스트': '리스트지',\n",
       " '튜플': (5, 6, 7, 8),\n",
       " '딕셔너리': {'key': 'value'},\n",
       " '블린': 'False',\n",
       " 'd': None,\n",
       " 'e': 45678,\n",
       " 13: '십삼',\n",
       " (0, '도시'): '서울시'}"
      ]
     },
     "execution_count": 70,
     "metadata": {},
     "output_type": "execute_result"
    }
   ],
   "source": [
    "d4.update({(0, '도시'): '서울시'})\n",
    "d4"
   ]
  },
  {
   "cell_type": "code",
   "execution_count": 71,
   "id": "4e52b555",
   "metadata": {},
   "outputs": [
    {
     "data": {
      "text/plain": [
       "{'리스트': '리스트지',\n",
       " '튜플': (5, 6, 7, 8),\n",
       " '딕셔너리': {'key': 'value'},\n",
       " '블린': 'False',\n",
       " 'd': None,\n",
       " 'e': 45678,\n",
       " 13: '십삼',\n",
       " (0, '도시'): '서울시'}"
      ]
     },
     "execution_count": 71,
     "metadata": {},
     "output_type": "execute_result"
    }
   ],
   "source": [
    "d4"
   ]
  },
  {
   "cell_type": "code",
   "execution_count": 72,
   "id": "80ed6583",
   "metadata": {},
   "outputs": [
    {
     "data": {
      "text/plain": [
       "{'리스트': '리스트지',\n",
       " '튜플': (5, 6, 7, 8),\n",
       " '딕셔너리': {'key': 'value'},\n",
       " '블린': 'False',\n",
       " 'd': None,\n",
       " 'e': 45678,\n",
       " 13: '십삼',\n",
       " (0, '도시'): '서울시',\n",
       " 'a': '십',\n",
       " 'b': '이십',\n",
       " 'c': '삼십'}"
      ]
     },
     "execution_count": 72,
     "metadata": {},
     "output_type": "execute_result"
    }
   ],
   "source": [
    "d4.update([['a', '십'],['b', '이십'],['c', '삼십']])\n",
    "d4"
   ]
  },
  {
   "cell_type": "code",
   "execution_count": null,
   "id": "0b3bccc3",
   "metadata": {},
   "outputs": [],
   "source": []
  },
  {
   "cell_type": "code",
   "execution_count": null,
   "id": "ca7c7d29",
   "metadata": {},
   "outputs": [],
   "source": []
  },
  {
   "cell_type": "markdown",
   "id": "7f6e187a",
   "metadata": {},
   "source": [
    "## 딕셔너리에서 value 가져오는 함수 .get()\n",
    "* .get(key, key가 없을 때 기본 값) "
   ]
  },
  {
   "cell_type": "code",
   "execution_count": 73,
   "id": "beb324ba",
   "metadata": {},
   "outputs": [
    {
     "data": {
      "text/plain": [
       "{'리스트': '리스트지',\n",
       " '튜플': (5, 6, 7, 8),\n",
       " '딕셔너리': {'key': 'value'},\n",
       " '블린': 'False',\n",
       " 'd': None,\n",
       " 'e': 45678,\n",
       " 13: '십삼',\n",
       " (0, '도시'): '서울시',\n",
       " 'a': '십',\n",
       " 'b': '이십',\n",
       " 'c': '삼십'}"
      ]
     },
     "execution_count": 73,
     "metadata": {},
     "output_type": "execute_result"
    }
   ],
   "source": [
    "d4"
   ]
  },
  {
   "cell_type": "code",
   "execution_count": 77,
   "id": "5874c52f",
   "metadata": {},
   "outputs": [
    {
     "data": {
      "text/plain": [
       "'없음'"
      ]
     },
     "execution_count": 77,
     "metadata": {},
     "output_type": "execute_result"
    }
   ],
   "source": [
    "d4.get('f', '없음')\n",
    "# 'f' 가 없을 경우 '없음' 으로 출력됨!"
   ]
  },
  {
   "cell_type": "code",
   "execution_count": null,
   "id": "4afd9cd2",
   "metadata": {},
   "outputs": [],
   "source": []
  },
  {
   "cell_type": "code",
   "execution_count": null,
   "id": "933e9345",
   "metadata": {},
   "outputs": [],
   "source": []
  },
  {
   "cell_type": "code",
   "execution_count": null,
   "id": "3e9e4881",
   "metadata": {},
   "outputs": [],
   "source": []
  },
  {
   "cell_type": "markdown",
   "id": "a8142f10",
   "metadata": {},
   "source": [
    "## 딕셔너리에서 key와 value, key, value 를 가져오는 함수 : 매우중요!\n",
    "* items() : dict_items([(key, value),(key, value),(key, value)])\n",
    "* keys() : dict_keys([key1, key2, key3])\n",
    "* values() : dict_values([value1, value2, value3]) "
   ]
  },
  {
   "cell_type": "code",
   "execution_count": null,
   "id": "fa9df4e1",
   "metadata": {},
   "outputs": [],
   "source": []
  },
  {
   "cell_type": "markdown",
   "id": "5498fd64",
   "metadata": {},
   "source": [
    "# 1) items()"
   ]
  },
  {
   "cell_type": "code",
   "execution_count": 79,
   "id": "b34e6be8",
   "metadata": {},
   "outputs": [
    {
     "data": {
      "text/plain": [
       "dict_items([('리스트', '리스트지'), ('튜플', (5, 6, 7, 8)), ('딕셔너리', {'key': 'value'}), ('블린', 'False'), ('d', None), ('e', 45678), (13, '십삼'), ((0, '도시'), '서울시'), ('a', '십'), ('b', '이십'), ('c', '삼십')])"
      ]
     },
     "execution_count": 79,
     "metadata": {},
     "output_type": "execute_result"
    }
   ],
   "source": [
    "d4.items()\n",
    "# 튜플 --> 리스트 "
   ]
  },
  {
   "cell_type": "code",
   "execution_count": 88,
   "id": "2efda4f5",
   "metadata": {},
   "outputs": [
    {
     "name": "stdout",
     "output_type": "stream",
     "text": [
      "<class 'dict_items'>\n"
     ]
    }
   ],
   "source": [
    "print(type(d4.items()))\n",
    "# 데이터타입 : dict_items"
   ]
  },
  {
   "cell_type": "code",
   "execution_count": 83,
   "id": "e5dc14af",
   "metadata": {},
   "outputs": [],
   "source": [
    "d4_items = d4.items()"
   ]
  },
  {
   "cell_type": "code",
   "execution_count": 84,
   "id": "c1c5e954",
   "metadata": {},
   "outputs": [
    {
     "name": "stdout",
     "output_type": "stream",
     "text": [
      "dict_items([('리스트', '리스트지'), ('튜플', (5, 6, 7, 8)), ('딕셔너리', {'key': 'value'}), ('블린', 'False'), ('d', None), ('e', 45678), (13, '십삼'), ((0, '도시'), '서울시'), ('a', '십'), ('b', '이십'), ('c', '삼십')])\n"
     ]
    }
   ],
   "source": [
    "print(d4_items)"
   ]
  },
  {
   "cell_type": "code",
   "execution_count": 87,
   "id": "5cf784a0",
   "metadata": {},
   "outputs": [
    {
     "name": "stdout",
     "output_type": "stream",
     "text": [
      "('리스트', '리스트지')\n",
      "('튜플', (5, 6, 7, 8))\n",
      "('딕셔너리', {'key': 'value'})\n",
      "('블린', 'False')\n",
      "('d', None)\n",
      "('e', 45678)\n",
      "(13, '십삼')\n",
      "((0, '도시'), '서울시')\n",
      "('a', '십')\n",
      "('b', '이십')\n",
      "('c', '삼십')\n"
     ]
    }
   ],
   "source": [
    "for i in d4_items:\n",
    "    print(i)"
   ]
  },
  {
   "cell_type": "markdown",
   "id": "34c69449",
   "metadata": {},
   "source": [
    "## d4_items_list = list(d4_items)      \n",
    "### dict_items  --> list    로 형변환하기"
   ]
  },
  {
   "cell_type": "code",
   "execution_count": 93,
   "id": "5a87e724",
   "metadata": {},
   "outputs": [
    {
     "data": {
      "text/plain": [
       "[('리스트', '리스트지'),\n",
       " ('튜플', (5, 6, 7, 8)),\n",
       " ('딕셔너리', {'key': 'value'}),\n",
       " ('블린', 'False'),\n",
       " ('d', None),\n",
       " ('e', 45678),\n",
       " (13, '십삼'),\n",
       " ((0, '도시'), '서울시'),\n",
       " ('a', '십'),\n",
       " ('b', '이십'),\n",
       " ('c', '삼십')]"
      ]
     },
     "execution_count": 93,
     "metadata": {},
     "output_type": "execute_result"
    }
   ],
   "source": [
    "d4_items_list = list(d4_items)\n",
    "# list 로 형변환 시키기\n",
    "d4_items_list"
   ]
  },
  {
   "cell_type": "code",
   "execution_count": 94,
   "id": "266070b7",
   "metadata": {},
   "outputs": [
    {
     "name": "stdout",
     "output_type": "stream",
     "text": [
      "<class 'list'>\n"
     ]
    }
   ],
   "source": [
    "print(type(d4_items_list))"
   ]
  },
  {
   "cell_type": "code",
   "execution_count": 95,
   "id": "428be39f",
   "metadata": {},
   "outputs": [
    {
     "data": {
      "text/plain": [
       "[('리스트', '리스트지'),\n",
       " ('튜플', (5, 6, 7, 8)),\n",
       " ('딕셔너리', {'key': 'value'}),\n",
       " ('블린', 'False'),\n",
       " ('d', None)]"
      ]
     },
     "execution_count": 95,
     "metadata": {},
     "output_type": "execute_result"
    }
   ],
   "source": [
    "d4_items_list[:5]"
   ]
  },
  {
   "cell_type": "markdown",
   "id": "f3118057",
   "metadata": {},
   "source": [
    "# 파이썬은 마음대로 데이터타입이 변하기 때문에 \n",
    "# 항상 데이터 형 확인하는게 중요"
   ]
  },
  {
   "cell_type": "code",
   "execution_count": 96,
   "id": "b6ab41da",
   "metadata": {},
   "outputs": [
    {
     "data": {
      "text/plain": [
       "{'리스트': '리스트지',\n",
       " '튜플': (5, 6, 7, 8),\n",
       " '딕셔너리': {'key': 'value'},\n",
       " '블린': 'False',\n",
       " 'd': None,\n",
       " 'e': 45678,\n",
       " 13: '십삼',\n",
       " (0, '도시'): '서울시',\n",
       " 'a': '십',\n",
       " 'b': '이십',\n",
       " 'c': '삼십'}"
      ]
     },
     "execution_count": 96,
     "metadata": {},
     "output_type": "execute_result"
    }
   ],
   "source": [
    "d4"
   ]
  },
  {
   "cell_type": "code",
   "execution_count": 97,
   "id": "d1b2fd7c",
   "metadata": {},
   "outputs": [
    {
     "name": "stdout",
     "output_type": "stream",
     "text": [
      "리스트\n",
      "튜플\n",
      "딕셔너리\n",
      "블린\n",
      "d\n",
      "e\n",
      "13\n",
      "(0, '도시')\n",
      "a\n",
      "b\n",
      "c\n"
     ]
    }
   ],
   "source": [
    "#  반복문에 집어넣으면 key만 출력됨\n",
    "for i in d4:  \n",
    "    print(i)"
   ]
  },
  {
   "cell_type": "code",
   "execution_count": null,
   "id": "8118dbab",
   "metadata": {},
   "outputs": [],
   "source": []
  },
  {
   "cell_type": "markdown",
   "id": "fc8e1586",
   "metadata": {},
   "source": [
    "# 2) keys()  : key만 출력"
   ]
  },
  {
   "cell_type": "code",
   "execution_count": 98,
   "id": "7d44f5c9",
   "metadata": {},
   "outputs": [
    {
     "data": {
      "text/plain": [
       "{'리스트': '리스트지',\n",
       " '튜플': (5, 6, 7, 8),\n",
       " '딕셔너리': {'key': 'value'},\n",
       " '블린': 'False',\n",
       " 'd': None,\n",
       " 'e': 45678,\n",
       " 13: '십삼',\n",
       " (0, '도시'): '서울시',\n",
       " 'a': '십',\n",
       " 'b': '이십',\n",
       " 'c': '삼십'}"
      ]
     },
     "execution_count": 98,
     "metadata": {},
     "output_type": "execute_result"
    }
   ],
   "source": [
    "d4"
   ]
  },
  {
   "cell_type": "code",
   "execution_count": 100,
   "id": "efea6b47",
   "metadata": {},
   "outputs": [
    {
     "data": {
      "text/plain": [
       "dict_keys(['리스트', '튜플', '딕셔너리', '블린', 'd', 'e', 13, (0, '도시'), 'a', 'b', 'c'])"
      ]
     },
     "execution_count": 100,
     "metadata": {},
     "output_type": "execute_result"
    }
   ],
   "source": [
    "d4.keys()"
   ]
  },
  {
   "cell_type": "code",
   "execution_count": 101,
   "id": "023acc0e",
   "metadata": {},
   "outputs": [
    {
     "name": "stdout",
     "output_type": "stream",
     "text": [
      "<class 'dict_keys'>\n"
     ]
    }
   ],
   "source": [
    "print(type(d4.keys()))"
   ]
  },
  {
   "cell_type": "code",
   "execution_count": 102,
   "id": "31ca1c47",
   "metadata": {},
   "outputs": [
    {
     "data": {
      "text/plain": [
       "['리스트', '튜플', '딕셔너리', '블린', 'd', 'e', 13, (0, '도시'), 'a', 'b', 'c']"
      ]
     },
     "execution_count": 102,
     "metadata": {},
     "output_type": "execute_result"
    }
   ],
   "source": [
    "d4_keys = list(d4.keys())\n",
    "d4_keys"
   ]
  },
  {
   "cell_type": "code",
   "execution_count": 103,
   "id": "15becfac",
   "metadata": {},
   "outputs": [
    {
     "data": {
      "text/plain": [
       "'튜플'"
      ]
     },
     "execution_count": 103,
     "metadata": {},
     "output_type": "execute_result"
    }
   ],
   "source": [
    "d4_keys[1]"
   ]
  },
  {
   "cell_type": "code",
   "execution_count": null,
   "id": "a4e76af5",
   "metadata": {},
   "outputs": [],
   "source": []
  },
  {
   "cell_type": "markdown",
   "id": "f9cdbe0a",
   "metadata": {},
   "source": [
    "# 3) values()  : value만 출력"
   ]
  },
  {
   "cell_type": "code",
   "execution_count": 104,
   "id": "4b7b967e",
   "metadata": {},
   "outputs": [
    {
     "data": {
      "text/plain": [
       "{'리스트': '리스트지',\n",
       " '튜플': (5, 6, 7, 8),\n",
       " '딕셔너리': {'key': 'value'},\n",
       " '블린': 'False',\n",
       " 'd': None,\n",
       " 'e': 45678,\n",
       " 13: '십삼',\n",
       " (0, '도시'): '서울시',\n",
       " 'a': '십',\n",
       " 'b': '이십',\n",
       " 'c': '삼십'}"
      ]
     },
     "execution_count": 104,
     "metadata": {},
     "output_type": "execute_result"
    }
   ],
   "source": [
    "d4"
   ]
  },
  {
   "cell_type": "code",
   "execution_count": 105,
   "id": "a20aae05",
   "metadata": {},
   "outputs": [
    {
     "data": {
      "text/plain": [
       "dict_values(['리스트지', (5, 6, 7, 8), {'key': 'value'}, 'False', None, 45678, '십삼', '서울시', '십', '이십', '삼십'])"
      ]
     },
     "execution_count": 105,
     "metadata": {},
     "output_type": "execute_result"
    }
   ],
   "source": [
    "d4.values()"
   ]
  },
  {
   "cell_type": "code",
   "execution_count": 107,
   "id": "f6f710fa",
   "metadata": {},
   "outputs": [
    {
     "name": "stdout",
     "output_type": "stream",
     "text": [
      "<class 'dict_values'>\n"
     ]
    }
   ],
   "source": [
    "print(type(d4.values()))"
   ]
  },
  {
   "cell_type": "code",
   "execution_count": 109,
   "id": "3b2326cb",
   "metadata": {},
   "outputs": [
    {
     "data": {
      "text/plain": [
       "['리스트지',\n",
       " (5, 6, 7, 8),\n",
       " {'key': 'value'},\n",
       " 'False',\n",
       " None,\n",
       " 45678,\n",
       " '십삼',\n",
       " '서울시',\n",
       " '십',\n",
       " '이십',\n",
       " '삼십']"
      ]
     },
     "execution_count": 109,
     "metadata": {},
     "output_type": "execute_result"
    }
   ],
   "source": [
    "d4_values = list(d4.values())\n",
    "d4_values"
   ]
  },
  {
   "cell_type": "code",
   "execution_count": 110,
   "id": "ad3211e7",
   "metadata": {},
   "outputs": [
    {
     "data": {
      "text/plain": [
       "{'key': 'value'}"
      ]
     },
     "execution_count": 110,
     "metadata": {},
     "output_type": "execute_result"
    }
   ],
   "source": [
    "d4_values[2]"
   ]
  },
  {
   "cell_type": "code",
   "execution_count": 111,
   "id": "8affd0cb",
   "metadata": {},
   "outputs": [
    {
     "data": {
      "text/plain": [
       "'리스트지'"
      ]
     },
     "execution_count": 111,
     "metadata": {},
     "output_type": "execute_result"
    }
   ],
   "source": [
    "d4_values[0]"
   ]
  },
  {
   "cell_type": "code",
   "execution_count": null,
   "id": "54cc11d6",
   "metadata": {},
   "outputs": [],
   "source": []
  },
  {
   "cell_type": "code",
   "execution_count": null,
   "id": "a59a1c11",
   "metadata": {},
   "outputs": [],
   "source": []
  },
  {
   "cell_type": "code",
   "execution_count": null,
   "id": "f4626ae0",
   "metadata": {},
   "outputs": [],
   "source": []
  },
  {
   "cell_type": "code",
   "execution_count": null,
   "id": "d2e79804",
   "metadata": {},
   "outputs": [],
   "source": []
  },
  {
   "cell_type": "code",
   "execution_count": null,
   "id": "85888326",
   "metadata": {},
   "outputs": [],
   "source": []
  }
 ],
 "metadata": {
  "kernelspec": {
   "display_name": "Python 3 (ipykernel)",
   "language": "python",
   "name": "python3"
  },
  "language_info": {
   "codemirror_mode": {
    "name": "ipython",
    "version": 3
   },
   "file_extension": ".py",
   "mimetype": "text/x-python",
   "name": "python",
   "nbconvert_exporter": "python",
   "pygments_lexer": "ipython3",
   "version": "3.10.14"
  }
 },
 "nbformat": 4,
 "nbformat_minor": 5
}
