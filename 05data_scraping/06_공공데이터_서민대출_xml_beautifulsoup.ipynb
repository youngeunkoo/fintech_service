{
 "cells": [
  {
   "cell_type": "markdown",
   "id": "972842a5",
   "metadata": {},
   "source": [
    "### * beautifulsoup : https://www.crummy.com/software/BeautifulSoup/bs4/doc/"
   ]
  },
  {
   "cell_type": "markdown",
   "id": "5b5c5071",
   "metadata": {},
   "source": [
    "conda activate fintech <br>\n",
    "\n",
    "pip install beautifulsoup4   <br>\n",
    " \n",
    "conda install beautifulsoup4   <br>\n",
    "\n",
    "conda install lxml  <br>\n"
   ]
  },
  {
   "cell_type": "code",
   "execution_count": 1,
   "id": "f4c4a952",
   "metadata": {},
   "outputs": [
    {
     "data": {
      "text/plain": [
       "True"
      ]
     },
     "execution_count": 1,
     "metadata": {},
     "output_type": "execute_result"
    }
   ],
   "source": [
    "import requests\n",
    "import os\n",
    "from dotenv import load_dotenv\n",
    "import pandas as pd\n",
    "import time\n",
    "load_dotenv()"
   ]
  },
  {
   "cell_type": "markdown",
   "id": "f7515ddb",
   "metadata": {},
   "source": [
    "https://hi-guten-tag.tistory.com/8\n",
    "\n",
    "참고하기 "
   ]
  },
  {
   "cell_type": "markdown",
   "id": "27eaa175",
   "metadata": {},
   "source": [
    "## 예제1 : 공공데이터 - 금융위원회 서민금융상품기본정보"
   ]
  },
  {
   "cell_type": "code",
   "execution_count": 4,
   "id": "7bcce9f9",
   "metadata": {},
   "outputs": [
    {
     "name": "stdout",
     "output_type": "stream",
     "text": [
      "200\n"
     ]
    }
   ],
   "source": [
    "# requests 모듈로 간단하게 만들기\n",
    "\n",
    "\n",
    "# 오픈 API 활용자 가이드 pdf 에서 call back URL 을 첨부해야 함. \n",
    "url = \"http://apis.data.go.kr/1160100/service/GetSmallLoanFinanceInstituteInfoService/getOrdinaryFinanceInfo\"\n",
    "\n",
    "\n",
    "payload = dict(serviceKey=os.getenv('servicekey'), pageNo=1, numOfRows=10)\n",
    "\n",
    "r = requests.get(url, params=payload)\n",
    "\n",
    "print(r.status_code)\n",
    "data = r.text\n",
    "\n"
   ]
  },
  {
   "cell_type": "code",
   "execution_count": 7,
   "id": "3e0d71f7",
   "metadata": {},
   "outputs": [
    {
     "data": {
      "text/plain": [
       "'<?xml version=\"1.0\" encoding=\"UTF-8\" standalone=\"yes\"?>\\n<response>\\n    <header>\\n        <resultCode>00</resultCode>\\n        <resultMsg>NORMAL SERVICE.</resultMsg>\\n    </header>\\n    <body>\\n        <numOfRows>10</numOfRows>\\n        <pageNo>1</pageNo>\\n        <totalCount>3696</totalCount>\\n        <items>\\n            <item>\\n                <basYm>202202</basYm>\\n                <snq>1</snq>\\n                <finPrdNm>미소금융 창업자금_임차보증금대출</finPrdNm>\\n                <lnLmt>7000만원</lnLmt>\\n                <irtCtg>변동금리</irtCtg>\\n                <irt>4.5%</irt>\\n                <maxTotLnTrm>6년</maxTotLnTrm>\\n                <maxDfrmTrm>1년</maxDfrmTrm>\\n                <maxRdptTrm>5년</maxRdptTrm>\\n                <rdptMthd>원(리)금균등분할상환</rdptMthd>\\n                <usge>창업</usge>\\n                <trgt>사업자, 금융취약계층</trgt>\\n                <instCtg>공공·정부기관</instCtg>\\n                <ofrInstNm>서민금융진흥원</ofrInstNm>\\n                <rsdAreaPamtEqltIstm>전국</rsdAreaPamtEqltIstm>\\n                <suprTgtDtlCond>개인신용평점 하위 20% 또는 차상위계층 이하 또는 근로장려금 신청 대상(수급자)인 창업(예정)자 중, 사업소요자금 총액 중 자기자금 비율이 50% 이상인 자</suprTgtDtlCond>\\n                <age>미성년자 제외</age>\\n                <incm>상환능력 심사를 위한 소득증빙 필요</incm>\\n                <rsdArea xsi:nil=\"true\" xmlns:xsi=\"http://www.w3.org/2001/XMLSchema-instance\"/>\\n                <crdtSc>개인신용평점 하위 20%</crdtSc>\\n                <anin xsi:nil=\"true\" xmlns:xsi=\"http://www.w3.org/2001/XMLSchema-instance\"/>\\n                <housHoldCnt xsi:nil=\"true\" xmlns:xsi=\"http://www.w3.org/2001/XMLSchema-instance\"/>\\n                <housAr xsi:nil=\"true\" xmlns:xsi=\"http://www.w3.org/2001/XMLSchema-instance\"/>\\n                <lnTgtHous xsi:nil=\"true\" xmlns:xsi=\"http://www.w3.org/2001/XMLSchema-instance\"/>\\n                <rfrcCnpl xsi:nil=\"true\" xmlns:xsi=\"http://www.w3.org/2001/XMLSchema-instance\"/>\\n                <grnInst xsi:nil=\"true\" xmlns:xsi=\"http://www.w3.org/2001/XMLSchema-instance\"/>\\n                <jnMthd>미소금융 전국 지점 방문</jnMthd>\\n                <rpymdCfe>없음</rpymdCfe>\\n                <lnIcdcst>없음</lnIcdcst>\\n                <ovItrYr>9% (지연배상금률)</ovItrYr>\\n                <prftAddIrtCond>우대금리: 성실상환 여부에 따라 약정금리에서 1.0%p 인하, 가산금리: 연체 31일 이상 시 약정금리에서 1.0%p 인상</prftAddIrtCond>\\n                <etcRefSbjc>거치금리: 1천만원 이하 대출 시 2%, 1천만원 초과 대출 시 4.5% (사업장임차보증금 이내에서 지원)</etcRefSbjc>\\n                <hdlInst>미소금융 전국 지점</hdlInst>\\n                <cnpl>· 서민금융콜센터 (국번없이)1397&lt;br/&gt;· &lt;a href=https://www.kinfa.or.kr/customerService/centerSearch.do target=_blank&gt;&lt;font style=color:blue;&gt;www.kinfa.or.kr/customerService/centerSearch.do &lt;/a&gt;&lt;/font&gt;&lt;span style=font-size: 12px;&gt;(서금원 홈페이지 &gt; 서민금융통합지원센터 &gt; 전국센터찾기 &gt; 미소지점)&lt;/span&gt;</cnpl>\\n                <rltSite>&lt;a href=https://www.kinfa.or.kr target=_blank&gt;&lt;font style=color:blue;&gt;www.kinfa.or.kr &lt;/a&gt;&lt;/font&gt;&lt;span style=font-size: 12px;&gt;(서금원 홈페이지 &gt; 서민금융한눈에 &gt; 창업·운영자금 &gt; 미소금융 창업·운영자금)&lt;/span&gt;</rltSite>\\n                <tgtFltr>사업자, 금융취약계층</tgtFltr>\\n                <hdlInstDtlVw>미소금융 전국 지점</hdlInstDtlVw>\\n                <prdExisYn>Y</prdExisYn>\\n                <cv19Rfrc xsi:nil=\"true\" xmlns:xsi=\"http://www.w3.org/2001/XMLSchema-instance\"/>\\n                <prdCtg>1</prdCtg>\\n                <prdNm>대출상품</prdNm>\\n                <cv19SuprCtg xsi:nil=\"true\" xmlns:xsi=\"http://www.w3.org/2001/XMLSchema-instance\"/>\\n                <cv19SuprCtn xsi:nil=\"true\" xmlns:xsi=\"http://www.w3.org/2001/XMLSchema-instance\"/>\\n                <cv19SuprTgtDtlCtn xsi:nil=\"true\" xmlns:xsi=\"http://www.w3.org/2001/XMLSchema-instance\"/>\\n                <mgmDln>상시</mgmDln>\\n                <prdCtg2>정책자금</prdCtg2>\\n                <fileWrtDt>202202080917</fileWrtDt>\\n            </item>\\n            <item>\\n                <basYm>202202</basYm>\\n                <snq>2</snq>\\n                <finPrdNm>미소금융 창업자금_생계형차량 구입자금</finPrdNm>\\n                <lnLmt>2000만원</lnLmt>\\n                <irtCtg>변동금리</irtCtg>\\n                <irt>4.5%</irt>\\n                <maxTotLnTrm>6년</maxTotLnTrm>\\n                <maxDfrmTrm>1년</maxDfrmTrm>\\n                <maxRdptTrm>5년</maxRdptTrm>\\n                <rdptMthd>원(리)금균등분할상환</rdptMthd>\\n                <usge>창업</usge>\\n                <trgt>사업자, 금융취약계층</trgt>\\n                <instCtg>공공·정부기관</instCtg>\\n                <ofrInstNm>서민금융진흥원</ofrInstNm>\\n                <rsdAreaPamtEqltIstm>전국</rsdAreaPamtEqltIstm>\\n                <suprTgtDtlCond>개인신용평점 하위 20% 또는 차상위계층 이하 또는 근로장려금 신청 대상(수급자)인 창업(예정)자 (1톤 이하의 트럭 또는 상용차)</suprTgtDtlCond>\\n                <age>미성년자 제외</age>\\n                <incm>상환능력 심사를 위한 소득증빙 필요</incm>\\n                <rsdArea xsi:nil=\"true\" xmlns:xsi=\"http://www.w3.org/2001/XMLSchema-instance\"/>\\n                <crdtSc>개인신용평점 하위 20%</crdtSc>\\n                <anin xsi:nil=\"true\" xmlns:xsi=\"http://www.w3.org/2001/XMLSchema-instance\"/>\\n                <housHoldCnt xsi:nil=\"true\" xmlns:xsi=\"http://www.w3.org/2001/XMLSchema-instance\"/>\\n                <housAr xsi:nil=\"true\" xmlns:xsi=\"http://www.w3.org/2001/XMLSchema-instance\"/>\\n                <lnTgtHous xsi:nil=\"true\" xmlns:xsi=\"http://www.w3.org/2001/XMLSchema-instance\"/>\\n                <rfrcCnpl xsi:nil=\"true\" xmlns:xsi=\"http://www.w3.org/2001/XMLSchema-instance\"/>\\n                <grnInst xsi:nil=\"true\" xmlns:xsi=\"http://www.w3.org/2001/XMLSchema-instance\"/>\\n                <jnMthd>미소금융 전국 지점 방문</jnMthd>\\n                <rpymdCfe>없음</rpymdCfe>\\n                <lnIcdcst>없음</lnIcdcst>\\n                <ovItrYr>9% (지연배상금률)</ovItrYr>\\n                <prftAddIrtCond>우대금리: 성실상환 여부에 따라 약정금리에서 1.0%p 인하, 가산금리: 연체 31일 이상 시 약정금리에서 1.0%p 인상</prftAddIrtCond>\\n                <etcRefSbjc>거치금리: 1천만원 이하 대출 시 2%, 1천만원 초과 대출 시 4.5%</etcRefSbjc>\\n                <hdlInst>미소금융 전국 지점</hdlInst>\\n                <cnpl>· 서민금융콜센터 (국번없이)1397&lt;br/&gt;· &lt;a href=https://www.kinfa.or.kr/customerService/centerSearch.do target=_blank&gt;&lt;font style=color:blue;&gt;www.kinfa.or.kr/customerService/centerSearch.do &lt;/a&gt;&lt;/font&gt;&lt;span style=font-size: 12px;&gt;(서금원 홈페이지 &gt; 서민금융통합지원센터 &gt; 전국센터찾기 &gt; 미소지점)&lt;/span&gt;</cnpl>\\n                <rltSite>&lt;a href=https://www.kinfa.or.kr target=_blank&gt;&lt;font style=color:blue;&gt;www.kinfa.or.kr &lt;/a&gt;&lt;/font&gt;&lt;span style=font-size: 12px;&gt;(서금원 홈페이지 &gt; 서민금융한눈에 &gt; 창업·운영자금 &gt; 미소금융 창업·운영자금)&lt;/span&gt;</rltSite>\\n                <tgtFltr>사업자, 금융취약계층</tgtFltr>\\n                <hdlInstDtlVw>미소금융 전국 지점</hdlInstDtlVw>\\n                <prdExisYn>Y</prdExisYn>\\n                <cv19Rfrc xsi:nil=\"true\" xmlns:xsi=\"http://www.w3.org/2001/XMLSchema-instance\"/>\\n                <prdCtg>1</prdCtg>\\n                <prdNm>대출상품</prdNm>\\n                <cv19SuprCtg xsi:nil=\"true\" xmlns:xsi=\"http://www.w3.org/2001/XMLSchema-instance\"/>\\n                <cv19SuprCtn xsi:nil=\"true\" xmlns:xsi=\"http://www.w3.org/2001/XMLSchema-instance\"/>\\n                <cv19SuprTgtDtlCtn xsi:nil=\"true\" xmlns:xsi=\"http://www.w3.org/2001/XMLSchema-instance\"/>\\n                <mgmDln>상시</mgmDln>\\n                <prdCtg2>정책자금</prdCtg2>\\n                <fileWrtDt>202202080917</fileWrtDt>\\n            </item>\\n            <item>\\n                <basYm>202202</basYm>\\n                <snq>3</snq>\\n                <finPrdNm>미소금융 창업자금_창업초기 운영자금</finPrdNm>\\n                <lnLmt>2000만원</lnLmt>\\n                <irtCtg>변동금리</irtCtg>\\n                <irt>4.5%</irt>\\n                <maxTotLnTrm>6년</maxTotLnTrm>\\n                <maxDfrmTrm>1년</maxDfrmTrm>\\n                <maxRdptTrm>5년</maxRdptTrm>\\n                <rdptMthd>원(리)금균등분할상환</rdptMthd>\\n                <usge>창업</usge>\\n                <trgt>사업자, 금융취약계층</trgt>\\n                <instCtg>공공·정부기관</instCtg>\\n                <ofrInstNm>서민금융진흥원</ofrInstNm>\\n                <rsdAreaPamtEqltIstm>전국</rsdAreaPamtEqltIstm>\\n                <suprTgtDtlCond>개인신용평점 하위 20% 또는 차상위계층 이하 또는 근로장려금 신청 대상(수급자)인 창업(예정)자 중 사업자 등록 후 6개월 미만인 자</suprTgtDtlCond>\\n                <age>미성년자 제외</age>\\n                <incm>상환능력 심사를 위한 소득증빙 필요</incm>\\n                <rsdArea xsi:nil=\"true\" xmlns:xsi=\"http://www.w3.org/2001/XMLSchema-instance\"/>\\n                <crdtSc>개인신용평점 하위 20%</crdtSc>\\n                <anin xsi:nil=\"true\" xmlns:xsi=\"http://www.w3.org/2001/XMLSchema-instance\"/>\\n                <housHoldCnt xsi:nil=\"true\" xmlns:xsi=\"http://www.w3.org/2001/XMLSchema-instance\"/>\\n                <housAr xsi:nil=\"true\" xmlns:xsi=\"http://www.w3.org/2001/XMLSchema-instance\"/>\\n                <lnTgtHous xsi:nil=\"true\" xmlns:xsi=\"http://www.w3.org/2001/XMLSchema-instance\"/>\\n                <rfrcCnpl xsi:nil=\"true\" xmlns:xsi=\"http://www.w3.org/2001/XMLSchema-instance\"/>\\n                <grnInst xsi:nil=\"true\" xmlns:xsi=\"http://www.w3.org/2001/XMLSchema-instance\"/>\\n                <jnMthd>미소금융 전국 지점 방문</jnMthd>\\n                <rpymdCfe>없음</rpymdCfe>\\n                <lnIcdcst>없음</lnIcdcst>\\n                <ovItrYr>9% (지연배상금률)</ovItrYr>\\n                <prftAddIrtCond>우대금리: 성실상환 여부에 따라 약정금리에서 1.0%p 인하, 가산금리: 연체 31일 이상 시 약정금리에서 1.0%p 인상</prftAddIrtCond>\\n                <etcRefSbjc>거치금리 : 1천만원 이하 대출 시 2%, 1천만원 초과 대출 시 4.5% (최초 대출 시 1천만원, 이후 성실상환 시 1천만원 추가지원 가능)</etcRefSbjc>\\n                <hdlInst>미소금융 전국 지점</hdlInst>\\n                <cnpl>· 서민금융콜센터 (국번없이)1397&lt;br/&gt;· &lt;a href=https://www.kinfa.or.kr/customerService/centerSearch.do target=_blank&gt;&lt;font style=color:blue;&gt;www.kinfa.or.kr/customerService/centerSearch.do &lt;/a&gt;&lt;/font&gt;&lt;span style=font-size: 12px;&gt;(서금원 홈페이지 &gt; 서민금융통합지원센터 &gt; 전국센터찾기 &gt; 미소지점)&lt;/span&gt;</cnpl>\\n                <rltSite>&lt;a href=https://www.kinfa.or.kr target=_blank&gt;&lt;font style=color:blue;&gt;www.kinfa.or.kr &lt;/a&gt;&lt;/font&gt;&lt;span style=font-size: 12px;&gt;(서금원 홈페이지 &gt; 서민금융한눈에 &gt; 창업·운영자금 &gt; 미소금융 창업·운영자금)&lt;/span&gt;</rltSite>\\n                <tgtFltr>사업자, 금융취약계층</tgtFltr>\\n                <hdlInstDtlVw>미소금융 전국 지점</hdlInstDtlVw>\\n                <prdExisYn>Y</prdExisYn>\\n                <cv19Rfrc xsi:nil=\"true\" xmlns:xsi=\"http://www.w3.org/2001/XMLSchema-instance\"/>\\n                <prdCtg>1</prdCtg>\\n                <prdNm>대출상품</prdNm>\\n                <cv19SuprCtg xsi:nil=\"true\" xmlns:xsi=\"http://www.w3.org/2001/XMLSchema-instance\"/>\\n                <cv19SuprCtn xsi:nil=\"true\" xmlns:xsi=\"http://www.w3.org/2001/XMLSchema-instance\"/>\\n                <cv19SuprTgtDtlCtn xsi:nil=\"true\" xmlns:xsi=\"http://www.w3.org/2001/XMLSchema-instance\"/>\\n                <mgmDln>상시</mgmDln>\\n                <prdCtg2>정책자금</prdCtg2>\\n                <fileWrtDt>202202080917</fileWrtDt>\\n            </item>\\n            <item>\\n                <basYm>202202</basYm>\\n                <snq>4</snq>\\n                <finPrdNm>미소금융 창업자금_창업초기 시설자금</finPrdNm>\\n                <lnLmt>2000만원</lnLmt>\\n                <irtCtg>변동금리</irtCtg>\\n                <irt>4.5%</irt>\\n                <maxTotLnTrm>6년</maxTotLnTrm>\\n                <maxDfrmTrm>1년</maxDfrmTrm>\\n                <maxRdptTrm>5년</maxRdptTrm>\\n                <rdptMthd>원(리)금균등분할상환</rdptMthd>\\n                <usge>창업</usge>\\n                <trgt>사업자, 금융취약계층</trgt>\\n                <instCtg>공공·정부기관</instCtg>\\n                <ofrInstNm>서민금융진흥원</ofrInstNm>\\n                <rsdAreaPamtEqltIstm>전국</rsdAreaPamtEqltIstm>\\n                <suprTgtDtlCond>개인신용평점 하위 20% 또는 차상위계층 이하 또는 근로장려금 신청 대상(수급자)인 창업(예정)자 중 사업자 등록 후 6개월 미만인 자</suprTgtDtlCond>\\n                <age>미성년자 제외</age>\\n                <incm>상환능력 심사를 위한 소득증빙 필요</incm>\\n                <rsdArea xsi:nil=\"true\" xmlns:xsi=\"http://www.w3.org/2001/XMLSchema-instance\"/>\\n                <crdtSc>개인신용평점 하위 20%</crdtSc>\\n                <anin xsi:nil=\"true\" xmlns:xsi=\"http://www.w3.org/2001/XMLSchema-instance\"/>\\n                <housHoldCnt xsi:nil=\"true\" xmlns:xsi=\"http://www.w3.org/2001/XMLSchema-instance\"/>\\n                <housAr xsi:nil=\"true\" xmlns:xsi=\"http://www.w3.org/2001/XMLSchema-instance\"/>\\n                <lnTgtHous xsi:nil=\"true\" xmlns:xsi=\"http://www.w3.org/2001/XMLSchema-instance\"/>\\n                <rfrcCnpl xsi:nil=\"true\" xmlns:xsi=\"http://www.w3.org/2001/XMLSchema-instance\"/>\\n                <grnInst xsi:nil=\"true\" xmlns:xsi=\"http://www.w3.org/2001/XMLSchema-instance\"/>\\n                <jnMthd>미소금융 전국 지점 방문</jnMthd>\\n                <rpymdCfe>없음</rpymdCfe>\\n                <lnIcdcst>없음</lnIcdcst>\\n                <ovItrYr>9% (지연배상금률)</ovItrYr>\\n                <prftAddIrtCond>우대금리: 성실상환 여부에 따라 약정금리에서 1.0%p 인하, 가산금리: 연체 31일 이상 시 약정금리에서 1.0%p 인상</prftAddIrtCond>\\n                <etcRefSbjc>거치금리: 1천만원 이하 대출 시 2%, 1천만원 초과 대출 시 4.5%</etcRefSbjc>\\n                <hdlInst>미소금융 전국 지점</hdlInst>\\n                <cnpl>· 서민금융콜센터 (국번없이)1397&lt;br/&gt;· &lt;a href=https://www.kinfa.or.kr/customerService/centerSearch.do target=_blank&gt;&lt;font style=color:blue;&gt;www.kinfa.or.kr/customerService/centerSearch.do &lt;/a&gt;&lt;/font&gt;&lt;span style=font-size: 12px;&gt;(서금원 홈페이지 &gt; 서민금융통합지원센터 &gt; 전국센터찾기 &gt; 미소지점)&lt;/span&gt;</cnpl>\\n                <rltSite>&lt;a href=https://www.kinfa.or.kr target=_blank&gt;&lt;font style=color:blue;&gt;www.kinfa.or.kr &lt;/a&gt;&lt;/font&gt;&lt;span style=font-size: 12px;&gt;(서금원 홈페이지 &gt; 서민금융한눈에 &gt; 창업·운영자금 &gt; 미소금융 창업·운영자금)&lt;/span&gt;</rltSite>\\n                <tgtFltr>사업자, 금융취약계층</tgtFltr>\\n                <hdlInstDtlVw>미소금융 전국 지점</hdlInstDtlVw>\\n                <prdExisYn>Y</prdExisYn>\\n                <cv19Rfrc xsi:nil=\"true\" xmlns:xsi=\"http://www.w3.org/2001/XMLSchema-instance\"/>\\n                <prdCtg>1</prdCtg>\\n                <prdNm>대출상품</prdNm>\\n                <cv19SuprCtg xsi:nil=\"true\" xmlns:xsi=\"http://www.w3.org/2001/XMLSchema-instance\"/>\\n                <cv19SuprCtn xsi:nil=\"true\" xmlns:xsi=\"http://www.w3.org/2001/XMLSchema-instance\"/>\\n                <cv19SuprTgtDtlCtn xsi:nil=\"true\" xmlns:xsi=\"http://www.w3.org/2001/XMLSchema-instance\"/>\\n                <mgmDln>상시</mgmDln>\\n                <prdCtg2>정책자금</prdCtg2>\\n                <fileWrtDt>202202080917</fileWrtDt>\\n            </item>\\n            <item>\\n                <basYm>202202</basYm>\\n                <snq>5</snq>\\n                <finPrdNm>미소금융 운영자금</finPrdNm>\\n                <lnLmt>2000만원</lnLmt>\\n                <irtCtg>변동금리</irtCtg>\\n                <irt>4.5%</irt>\\n                <maxTotLnTrm>5.5</maxTotLnTrm>\\n                <maxDfrmTrm>0.5</maxDfrmTrm>\\n                <maxRdptTrm>5년</maxRdptTrm>\\n                <rdptMthd>원(리)금균등분할상환</rdptMthd>\\n                <usge>운영·시설</usge>\\n                <trgt>사업자, 금융취약계층</trgt>\\n                <instCtg>공공·정부기관</instCtg>\\n                <ofrInstNm>서민금융진흥원</ofrInstNm>\\n                <rsdAreaPamtEqltIstm>전국</rsdAreaPamtEqltIstm>\\n                <suprTgtDtlCond>개인신용평점 하위 20% 또는 차상위계층 이하 또는 근로장려금 신청 대상(수급자)인 자영업자 중 사업자 등록 후 6개월 이상 운영 중인 자(프리랜서의 경우 1년 이상 동일 사업을 연속하여 운영 중인 자)</suprTgtDtlCond>\\n                <age>미성년자 제외</age>\\n                <incm>상환능력 심사를 위한 소득증빙 필요</incm>\\n                <rsdArea xsi:nil=\"true\" xmlns:xsi=\"http://www.w3.org/2001/XMLSchema-instance\"/>\\n                <crdtSc>개인신용평점 하위 20%</crdtSc>\\n                <anin xsi:nil=\"true\" xmlns:xsi=\"http://www.w3.org/2001/XMLSchema-instance\"/>\\n                <housHoldCnt xsi:nil=\"true\" xmlns:xsi=\"http://www.w3.org/2001/XMLSchema-instance\"/>\\n                <housAr xsi:nil=\"true\" xmlns:xsi=\"http://www.w3.org/2001/XMLSchema-instance\"/>\\n                <lnTgtHous xsi:nil=\"true\" xmlns:xsi=\"http://www.w3.org/2001/XMLSchema-instance\"/>\\n                <rfrcCnpl xsi:nil=\"true\" xmlns:xsi=\"http://www.w3.org/2001/XMLSchema-instance\"/>\\n                <grnInst xsi:nil=\"true\" xmlns:xsi=\"http://www.w3.org/2001/XMLSchema-instance\"/>\\n                <jnMthd>미소금융 전국 지점 방문</jnMthd>\\n                <rpymdCfe>없음</rpymdCfe>\\n                <lnIcdcst>없음</lnIcdcst>\\n                <ovItrYr>9% (지연배상금률)</ovItrYr>\\n                <prftAddIrtCond>우대금리: 성실상환 여부에 따라 약정금리에서 1.0%p 인하, 가산금리: 연체 31일 이상 시 약정금리에서 1.0%p 인상</prftAddIrtCond>\\n                <etcRefSbjc>거치금리 2.0% (신용카드영세가맹점주의 경우 최초 약정금리 대비 1.0%p의 이자액을 캐시백 지원)</etcRefSbjc>\\n                <hdlInst>미소금융 전국 지점</hdlInst>\\n                <cnpl>· 서민금융콜센터 (국번없이)1397&lt;br/&gt;· &lt;a href=https://www.kinfa.or.kr/customerService/centerSearch.do target=_blank&gt;&lt;font style=color:blue;&gt;www.kinfa.or.kr/customerService/centerSearch.do &lt;/a&gt;&lt;/font&gt;&lt;span style=font-size: 12px;&gt;(서금원 홈페이지 &gt; 서민금융통합지원센터 &gt; 전국센터찾기 &gt; 미소지점)&lt;/span&gt;</cnpl>\\n                <rltSite>&lt;a href=https://www.kinfa.or.kr target=_blank&gt;&lt;font style=color:blue;&gt;www.kinfa.or.kr &lt;/a&gt;&lt;/font&gt;&lt;span style=font-size: 12px;&gt;(서금원 홈페이지 &gt; 서민금융한눈에 &gt; 창업·운영자금 &gt; 미소금융 창업·운영자금)&lt;/span&gt;</rltSite>\\n                <tgtFltr>사업자, 금융취약계층</tgtFltr>\\n                <hdlInstDtlVw>미소금융 전국 지점</hdlInstDtlVw>\\n                <prdExisYn>Y</prdExisYn>\\n                <cv19Rfrc xsi:nil=\"true\" xmlns:xsi=\"http://www.w3.org/2001/XMLSchema-instance\"/>\\n                <prdCtg>1</prdCtg>\\n                <prdNm>대출상품</prdNm>\\n                <cv19SuprCtg xsi:nil=\"true\" xmlns:xsi=\"http://www.w3.org/2001/XMLSchema-instance\"/>\\n                <cv19SuprCtn xsi:nil=\"true\" xmlns:xsi=\"http://www.w3.org/2001/XMLSchema-instance\"/>\\n                <cv19SuprTgtDtlCtn xsi:nil=\"true\" xmlns:xsi=\"http://www.w3.org/2001/XMLSchema-instance\"/>\\n                <mgmDln>상시</mgmDln>\\n                <prdCtg2>정책자금</prdCtg2>\\n                <fileWrtDt>202202080917</fileWrtDt>\\n            </item>\\n            <item>\\n                <basYm>202202</basYm>\\n                <snq>6</snq>\\n                <finPrdNm>미소금융 시설개선자금</finPrdNm>\\n                <lnLmt>2000만원</lnLmt>\\n                <irtCtg>변동금리</irtCtg>\\n                <irt>4.5%</irt>\\n                <maxTotLnTrm>5.5</maxTotLnTrm>\\n                <maxDfrmTrm>0.5</maxDfrmTrm>\\n                <maxRdptTrm>5년</maxRdptTrm>\\n                <rdptMthd>원(리)금균등분할상환</rdptMthd>\\n                <usge>운영·시설</usge>\\n                <trgt>사업자, 금융취약계층</trgt>\\n                <instCtg>공공·정부기관</instCtg>\\n                <ofrInstNm>서민금융진흥원</ofrInstNm>\\n                <rsdAreaPamtEqltIstm>전국</rsdAreaPamtEqltIstm>\\n                <suprTgtDtlCond>개인신용평점 하위 20% 또는 차상위계층 이하 또는 근로장려금 신청 대상(수급자)인 자영업자 중 사업자 등록 후 6개월 이상 운영 중인 자</suprTgtDtlCond>\\n                <age>미성년자 제외</age>\\n                <incm>상환능력 심사를 위한 소득증빙 필요</incm>\\n                <rsdArea xsi:nil=\"true\" xmlns:xsi=\"http://www.w3.org/2001/XMLSchema-instance\"/>\\n                <crdtSc>개인신용평점 하위 20%</crdtSc>\\n                <anin xsi:nil=\"true\" xmlns:xsi=\"http://www.w3.org/2001/XMLSchema-instance\"/>\\n                <housHoldCnt xsi:nil=\"true\" xmlns:xsi=\"http://www.w3.org/2001/XMLSchema-instance\"/>\\n                <housAr xsi:nil=\"true\" xmlns:xsi=\"http://www.w3.org/2001/XMLSchema-instance\"/>\\n                <lnTgtHous xsi:nil=\"true\" xmlns:xsi=\"http://www.w3.org/2001/XMLSchema-instance\"/>\\n                <rfrcCnpl xsi:nil=\"true\" xmlns:xsi=\"http://www.w3.org/2001/XMLSchema-instance\"/>\\n                <grnInst xsi:nil=\"true\" xmlns:xsi=\"http://www.w3.org/2001/XMLSchema-instance\"/>\\n                <jnMthd>미소금융 전국 지점 방문</jnMthd>\\n                <rpymdCfe>없음</rpymdCfe>\\n                <lnIcdcst>없음</lnIcdcst>\\n                <ovItrYr>9% (지연배상금률)</ovItrYr>\\n                <prftAddIrtCond>우대금리: 성실상환 여부에 따라 약정금리에서 1.0%p 인하, 가산금리: 연체 31일 이상 시 약정금리에서 1.0%p 인상</prftAddIrtCond>\\n                <etcRefSbjc>거치금리 2.0%, 실소요액 범위 내 대출 (신용카드영세가맹점주의 경우 최초 약정금리 대비 1.0%p의 이자액을 캐시백 지원)</etcRefSbjc>\\n                <hdlInst>미소금융 전국 지점</hdlInst>\\n                <cnpl>· 서민금융콜센터 (국번없이)1397&lt;br/&gt;· &lt;a href=https://www.kinfa.or.kr/customerService/centerSearch.do target=_blank&gt;&lt;font style=color:blue;&gt;www.kinfa.or.kr/customerService/centerSearch.do &lt;/a&gt;&lt;/font&gt;&lt;span style=font-size: 12px;&gt;(서금원 홈페이지 &gt; 서민금융통합지원센터 &gt; 전국센터찾기 &gt; 미소지점)&lt;/span&gt;</cnpl>\\n                <rltSite>&lt;a href=https://www.kinfa.or.kr target=_blank&gt;&lt;font style=color:blue;&gt;www.kinfa.or.kr &lt;/a&gt;&lt;/font&gt;&lt;span style=font-size: 12px;&gt;(서금원 홈페이지 &gt; 서민금융한눈에 &gt; 창업·운영자금 &gt; 미소금융 창업·운영자금)&lt;/span&gt;</rltSite>\\n                <tgtFltr>사업자, 금융취약계층</tgtFltr>\\n                <hdlInstDtlVw>미소금융 전국 지점</hdlInstDtlVw>\\n                <prdExisYn>Y</prdExisYn>\\n                <cv19Rfrc xsi:nil=\"true\" xmlns:xsi=\"http://www.w3.org/2001/XMLSchema-instance\"/>\\n                <prdCtg>1</prdCtg>\\n                <prdNm>대출상품</prdNm>\\n                <cv19SuprCtg xsi:nil=\"true\" xmlns:xsi=\"http://www.w3.org/2001/XMLSchema-instance\"/>\\n                <cv19SuprCtn xsi:nil=\"true\" xmlns:xsi=\"http://www.w3.org/2001/XMLSchema-instance\"/>\\n                <cv19SuprTgtDtlCtn xsi:nil=\"true\" xmlns:xsi=\"http://www.w3.org/2001/XMLSchema-instance\"/>\\n                <mgmDln>상시</mgmDln>\\n                <prdCtg2>정책자금</prdCtg2>\\n                <fileWrtDt>202202080917</fileWrtDt>\\n            </item>\\n            <item>\\n                <basYm>202202</basYm>\\n                <snq>7</snq>\\n                <finPrdNm>미소금융 긴급생계자금</finPrdNm>\\n                <lnLmt>1000만원</lnLmt>\\n                <irtCtg>변동금리</irtCtg>\\n                <irt>4.5%</irt>\\n                <maxTotLnTrm>5년</maxTotLnTrm>\\n                <maxDfrmTrm>1년</maxDfrmTrm>\\n                <maxRdptTrm>4년</maxRdptTrm>\\n                <rdptMthd>원(리)금균등분할상환</rdptMthd>\\n                <usge>생계</usge>\\n                <trgt>사업자, 금융취약계층</trgt>\\n                <instCtg>공공·정부기관</instCtg>\\n                <ofrInstNm>서민금융진흥원</ofrInstNm>\\n                <rsdAreaPamtEqltIstm>전국</rsdAreaPamtEqltIstm>\\n                <suprTgtDtlCond>미소금융 사업자금(창업, 운영, 시설) 대출 12회차 이상 이용자 중 신청일 현재 연체없이 정상이용 중인자(한건의 대출이라도 연체일수가 1일 이상인 경우 이용불가)</suprTgtDtlCond>\\n                <age>미성년자 제외</age>\\n                <incm>상환능력 심사를 위한 소득증빙 필요</incm>\\n                <rsdArea xsi:nil=\"true\" xmlns:xsi=\"http://www.w3.org/2001/XMLSchema-instance\"/>\\n                <crdtSc>개인신용평점 하위 20%</crdtSc>\\n                <anin xsi:nil=\"true\" xmlns:xsi=\"http://www.w3.org/2001/XMLSchema-instance\"/>\\n                <housHoldCnt xsi:nil=\"true\" xmlns:xsi=\"http://www.w3.org/2001/XMLSchema-instance\"/>\\n                <housAr xsi:nil=\"true\" xmlns:xsi=\"http://www.w3.org/2001/XMLSchema-instance\"/>\\n                <lnTgtHous xsi:nil=\"true\" xmlns:xsi=\"http://www.w3.org/2001/XMLSchema-instance\"/>\\n                <rfrcCnpl xsi:nil=\"true\" xmlns:xsi=\"http://www.w3.org/2001/XMLSchema-instance\"/>\\n                <grnInst xsi:nil=\"true\" xmlns:xsi=\"http://www.w3.org/2001/XMLSchema-instance\"/>\\n                <jnMthd>미소금융 전국 지점 방문</jnMthd>\\n                <rpymdCfe>없음</rpymdCfe>\\n                <lnIcdcst>없음</lnIcdcst>\\n                <ovItrYr>9% (지연배상금률)</ovItrYr>\\n                <prftAddIrtCond>우대금리: 성실상환 여부에 따라 약정금리에서 1.0%p 인하, 가산금리: 연체 31일 이상 시 약정금리에서 1.0%p 인상</prftAddIrtCond>\\n                <etcRefSbjc>거치금리 4.5% (5백만원 초과 대출 시, 본인·배우자·직계존비속에 발생한 사고, 질병, 재난의 긴급목적을 증빙하는 서류 제출 필요)</etcRefSbjc>\\n                <hdlInst>미소금융 전국 지점</hdlInst>\\n                <cnpl>· 서민금융콜센터 (국번없이)1397&lt;br/&gt;· &lt;a href=https://www.kinfa.or.kr/customerService/centerSearch.do target=_blank&gt;&lt;font style=color:blue;&gt;www.kinfa.or.kr/customerService/centerSearch.do &lt;/a&gt;&lt;/font&gt;&lt;span style=font-size: 12px;&gt;(서금원 홈페이지 &gt; 서민금융통합지원센터 &gt; 전국센터찾기 &gt; 미소지점)&lt;/span&gt;</cnpl>\\n                <rltSite>&lt;a href=https://www.kinfa.or.kr target=_blank&gt;&lt;font style=color:blue;&gt;www.kinfa.or.kr &lt;/a&gt;&lt;/font&gt;&lt;span style=font-size: 12px;&gt;(서금원 홈페이지 &gt; 서민금융한눈에 &gt; 창업·운영자금 &gt; 미소금융 창업·운영자금)&lt;/span&gt;</rltSite>\\n                <tgtFltr>사업자, 금융취약계층</tgtFltr>\\n                <hdlInstDtlVw>미소금융 전국 지점</hdlInstDtlVw>\\n                <prdExisYn>Y</prdExisYn>\\n                <cv19Rfrc xsi:nil=\"true\" xmlns:xsi=\"http://www.w3.org/2001/XMLSchema-instance\"/>\\n                <prdCtg>1</prdCtg>\\n                <prdNm>대출상품</prdNm>\\n                <cv19SuprCtg xsi:nil=\"true\" xmlns:xsi=\"http://www.w3.org/2001/XMLSchema-instance\"/>\\n                <cv19SuprCtn xsi:nil=\"true\" xmlns:xsi=\"http://www.w3.org/2001/XMLSchema-instance\"/>\\n                <cv19SuprTgtDtlCtn xsi:nil=\"true\" xmlns:xsi=\"http://www.w3.org/2001/XMLSchema-instance\"/>\\n                <mgmDln>상시</mgmDln>\\n                <prdCtg2>정책자금</prdCtg2>\\n                <fileWrtDt>202202080917</fileWrtDt>\\n            </item>\\n            <item>\\n                <basYm>202202</basYm>\\n                <snq>8</snq>\\n                <finPrdNm>미소금융 취업성공대출</finPrdNm>\\n                <lnLmt>300만원</lnLmt>\\n                <irtCtg>변동금리</irtCtg>\\n                <irt>4.5%</irt>\\n                <maxTotLnTrm>3년</maxTotLnTrm>\\n                <maxDfrmTrm>0년</maxDfrmTrm>\\n                <maxRdptTrm>3년</maxRdptTrm>\\n                <rdptMthd>원(리)금균등분할상환</rdptMthd>\\n                <usge>생계</usge>\\n                <trgt>금융취약계층</trgt>\\n                <instCtg>공공·정부기관</instCtg>\\n                <ofrInstNm>서민금융진흥원</ofrInstNm>\\n                <rsdAreaPamtEqltIstm>전국</rsdAreaPamtEqltIstm>\\n                <suprTgtDtlCond>취업지원 프로그램(고용노동부의 취업성공패키지(국민취업지원제도 취업지원프로그램), 서금원 취업프로그램, 소상공인시장진흥공단의 희망리턴패키지 재기교육, 한국법무보호복지공단의 허그일자리지원 프로그램) 이수 후 3개월 이내 취업자 중 개인신용평점 하위 20% 또는 차상위계층 이하 또는 근로장려금 신청 대상자(수급자)&lt;br&gt;※ 단, 6개월 이상 근속 중인 자는 지원대상에서 제외</suprTgtDtlCond>\\n                <age>미성년자 제외</age>\\n                <incm>상환능력 심사를 위한 소득증빙 필요</incm>\\n                <rsdArea xsi:nil=\"true\" xmlns:xsi=\"http://www.w3.org/2001/XMLSchema-instance\"/>\\n                <crdtSc>개인신용평점 하위 20%</crdtSc>\\n                <anin xsi:nil=\"true\" xmlns:xsi=\"http://www.w3.org/2001/XMLSchema-instance\"/>\\n                <housHoldCnt xsi:nil=\"true\" xmlns:xsi=\"http://www.w3.org/2001/XMLSchema-instance\"/>\\n                <housAr xsi:nil=\"true\" xmlns:xsi=\"http://www.w3.org/2001/XMLSchema-instance\"/>\\n                <lnTgtHous xsi:nil=\"true\" xmlns:xsi=\"http://www.w3.org/2001/XMLSchema-instance\"/>\\n                <rfrcCnpl xsi:nil=\"true\" xmlns:xsi=\"http://www.w3.org/2001/XMLSchema-instance\"/>\\n                <grnInst xsi:nil=\"true\" xmlns:xsi=\"http://www.w3.org/2001/XMLSchema-instance\"/>\\n                <jnMthd>미소금융 전국 지점 방문</jnMthd>\\n                <rpymdCfe>없음</rpymdCfe>\\n                <lnIcdcst>없음</lnIcdcst>\\n                <ovItrYr>9% (지연배상금률)</ovItrYr>\\n                <prftAddIrtCond>우대금리: 성실상환 여부에 따라 약정금리에서 1.0%p 인하, 가산금리: 연체 31일 이상 시 약정금리에서 1.0%p 인상</prftAddIrtCond>\\n                <etcRefSbjc>근속기간 6개월 이상인 자는 대출 불가</etcRefSbjc>\\n                <hdlInst>미소금융 전국 지점</hdlInst>\\n                <cnpl>· 서민금융콜센터 (국번없이)1397&lt;br/&gt;· &lt;a href=https://www.kinfa.or.kr/customerService/centerSearch.do target=_blank&gt;&lt;font style=color:blue;&gt;www.kinfa.or.kr/customerService/centerSearch.do &lt;/a&gt;&lt;/font&gt;&lt;span style=font-size: 12px;&gt;(서금원 홈페이지 &gt; 서민금융통합지원센터 &gt; 전국센터찾기 &gt; 미소지점)&lt;/span&gt;</cnpl>\\n                <rltSite>&lt;a href=https://www.kinfa.or.kr target=_blank&gt;&lt;font style=color:blue;&gt;www.kinfa.or.kr &lt;/a&gt;&lt;/font&gt;&lt;span style=font-size: 12px;&gt;(서금원 홈페이지 &gt; 서민금융한눈에 &gt; 생계·주거자금 &gt; 생계자금)&lt;/span&gt;</rltSite>\\n                <tgtFltr>금융취약계층</tgtFltr>\\n                <hdlInstDtlVw>미소금융 전국 지점</hdlInstDtlVw>\\n                <prdExisYn>Y</prdExisYn>\\n                <cv19Rfrc xsi:nil=\"true\" xmlns:xsi=\"http://www.w3.org/2001/XMLSchema-instance\"/>\\n                <prdCtg>1</prdCtg>\\n                <prdNm>대출상품</prdNm>\\n                <cv19SuprCtg xsi:nil=\"true\" xmlns:xsi=\"http://www.w3.org/2001/XMLSchema-instance\"/>\\n                <cv19SuprCtn xsi:nil=\"true\" xmlns:xsi=\"http://www.w3.org/2001/XMLSchema-instance\"/>\\n                <cv19SuprTgtDtlCtn xsi:nil=\"true\" xmlns:xsi=\"http://www.w3.org/2001/XMLSchema-instance\"/>\\n                <mgmDln>상시</mgmDln>\\n                <prdCtg2>정책자금</prdCtg2>\\n                <fileWrtDt>202202080917</fileWrtDt>\\n            </item>\\n            <item>\\n                <basYm>202202</basYm>\\n                <snq>9</snq>\\n                <finPrdNm>미소금융 교육비지원대출</finPrdNm>\\n                <lnLmt>500만원</lnLmt>\\n                <irtCtg>변동금리</irtCtg>\\n                <irt>4.5%</irt>\\n                <maxTotLnTrm>6년</maxTotLnTrm>\\n                <maxDfrmTrm>1년</maxDfrmTrm>\\n                <maxRdptTrm>5년</maxRdptTrm>\\n                <rdptMthd>원(리)금균등분할상환</rdptMthd>\\n                <usge>생계</usge>\\n                <trgt>금융취약계층</trgt>\\n                <instCtg>공공·정부기관</instCtg>\\n                <ofrInstNm>서민금융진흥원</ofrInstNm>\\n                <rsdAreaPamtEqltIstm>전국</rsdAreaPamtEqltIstm>\\n                <suprTgtDtlCond>자녀가 초/중/고에 재학중인 자 중 개인신용평점 하위 20% 또는 차상위계층 이하 또는 근로장려금 신청 대상자(수급자)</suprTgtDtlCond>\\n                <age>미성년자 제외</age>\\n                <incm>상환능력 심사를 위한 소득증빙 필요</incm>\\n                <rsdArea xsi:nil=\"true\" xmlns:xsi=\"http://www.w3.org/2001/XMLSchema-instance\"/>\\n                <crdtSc>개인신용평점 하위 20%</crdtSc>\\n                <anin xsi:nil=\"true\" xmlns:xsi=\"http://www.w3.org/2001/XMLSchema-instance\"/>\\n                <housHoldCnt xsi:nil=\"true\" xmlns:xsi=\"http://www.w3.org/2001/XMLSchema-instance\"/>\\n                <housAr xsi:nil=\"true\" xmlns:xsi=\"http://www.w3.org/2001/XMLSchema-instance\"/>\\n                <lnTgtHous xsi:nil=\"true\" xmlns:xsi=\"http://www.w3.org/2001/XMLSchema-instance\"/>\\n                <rfrcCnpl xsi:nil=\"true\" xmlns:xsi=\"http://www.w3.org/2001/XMLSchema-instance\"/>\\n                <grnInst xsi:nil=\"true\" xmlns:xsi=\"http://www.w3.org/2001/XMLSchema-instance\"/>\\n                <jnMthd>미소금융 전국 지점 방문</jnMthd>\\n                <rpymdCfe>없음</rpymdCfe>\\n                <lnIcdcst>없음</lnIcdcst>\\n                <ovItrYr>9% (지연배상금률)</ovItrYr>\\n                <prftAddIrtCond>우대금리: 성실상환 여부에 따라 약정금리에서 1.0%p 인하, 가산금리: 연체 31일 이상 시 약정금리에서 1.0%p 인상</prftAddIrtCond>\\n                <etcRefSbjc>거치금리 4.5%, 공교육비(방과 후 학교활동 및 학교수업료 등) 및 일반 사교육비(학원비 등) 대출</etcRefSbjc>\\n                <hdlInst>미소금융 전국 지점</hdlInst>\\n                <cnpl>· 서민금융콜센터 (국번없이)1397&lt;br/&gt;· &lt;a href=https://www.kinfa.or.kr/customerService/centerSearch.do target=_blank&gt;&lt;font style=color:blue;&gt;www.kinfa.or.kr/customerService/centerSearch.do &lt;/a&gt;&lt;/font&gt;&lt;span style=font-size: 12px;&gt;(서금원 홈페이지 &gt; 서민금융통합지원센터 &gt; 전국센터찾기 &gt; 미소지점)&lt;/span&gt;</cnpl>\\n                <rltSite>&lt;a href=https://www.kinfa.or.kr target=_blank&gt;&lt;font style=color:blue;&gt;www.kinfa.or.kr &lt;/a&gt;&lt;/font&gt;&lt;span style=font-size: 12px;&gt;(서금원 홈페이지 &gt; 서민금융한눈에 &gt; 생계·주거자금 &gt; 생계자금)&lt;/span&gt;</rltSite>\\n                <tgtFltr>금융취약계층</tgtFltr>\\n                <hdlInstDtlVw>미소금융 전국 지점</hdlInstDtlVw>\\n                <prdExisYn>Y</prdExisYn>\\n                <cv19Rfrc xsi:nil=\"true\" xmlns:xsi=\"http://www.w3.org/2001/XMLSchema-instance\"/>\\n                <prdCtg>1</prdCtg>\\n                <prdNm>대출상품</prdNm>\\n                <cv19SuprCtg xsi:nil=\"true\" xmlns:xsi=\"http://www.w3.org/2001/XMLSchema-instance\"/>\\n                <cv19SuprCtn xsi:nil=\"true\" xmlns:xsi=\"http://www.w3.org/2001/XMLSchema-instance\"/>\\n                <cv19SuprTgtDtlCtn xsi:nil=\"true\" xmlns:xsi=\"http://www.w3.org/2001/XMLSchema-instance\"/>\\n                <mgmDln>상시</mgmDln>\\n                <prdCtg2>정책자금</prdCtg2>\\n                <fileWrtDt>202202080917</fileWrtDt>\\n            </item>\\n            <item>\\n                <basYm>202202</basYm>\\n                <snq>10</snq>\\n                <finPrdNm>미소금융 취약계층자립자금</finPrdNm>\\n                <lnLmt>1200만원</lnLmt>\\n                <irtCtg>고정금리</irtCtg>\\n                <irt>3%</irt>\\n                <maxTotLnTrm>6년</maxTotLnTrm>\\n                <maxDfrmTrm>1년</maxDfrmTrm>\\n                <maxRdptTrm>5년</maxRdptTrm>\\n                <rdptMthd>원(리)금균등분할상환</rdptMthd>\\n                <usge>생계</usge>\\n                <trgt>금융취약계층</trgt>\\n                <instCtg>공공·정부기관</instCtg>\\n                <ofrInstNm>서민금융진흥원</ofrInstNm>\\n                <rsdAreaPamtEqltIstm>전국</rsdAreaPamtEqltIstm>\\n                <suprTgtDtlCond>한부모/조손/다문화가족, 북한이탈주민/등록장애인, 특별재난지역/고용위기·재난지역/산업위기대응특별지역 거주자 중 개인신용평점 하위 20% 또는 차상위계층 이하 또는 근로장려금 신청 대상자(수급자)</suprTgtDtlCond>\\n                <age>미성년자 제외</age>\\n                <incm>상환능력 심사를 위한 소득증빙 필요</incm>\\n                <rsdArea xsi:nil=\"true\" xmlns:xsi=\"http://www.w3.org/2001/XMLSchema-instance\"/>\\n                <crdtSc>개인신용평점 하위 20%</crdtSc>\\n                <anin xsi:nil=\"true\" xmlns:xsi=\"http://www.w3.org/2001/XMLSchema-instance\"/>\\n                <housHoldCnt xsi:nil=\"true\" xmlns:xsi=\"http://www.w3.org/2001/XMLSchema-instance\"/>\\n                <housAr xsi:nil=\"true\" xmlns:xsi=\"http://www.w3.org/2001/XMLSchema-instance\"/>\\n                <lnTgtHous xsi:nil=\"true\" xmlns:xsi=\"http://www.w3.org/2001/XMLSchema-instance\"/>\\n                <rfrcCnpl xsi:nil=\"true\" xmlns:xsi=\"http://www.w3.org/2001/XMLSchema-instance\"/>\\n                <grnInst xsi:nil=\"true\" xmlns:xsi=\"http://www.w3.org/2001/XMLSchema-instance\"/>\\n                <jnMthd>미소금융 전국 지점 방문</jnMthd>\\n                <rpymdCfe>없음</rpymdCfe>\\n                <lnIcdcst>없음</lnIcdcst>\\n                <ovItrYr>6% (지연배상금률)</ovItrYr>\\n                <prftAddIrtCond>우대/가산금리 없음</prftAddIrtCond>\\n                <etcRefSbjc>거치금리 3.0%</etcRefSbjc>\\n                <hdlInst>미소금융 전국 지점</hdlInst>\\n                <cnpl>· 서민금융콜센터 (국번없이)1397&lt;br/&gt;· &lt;a href=https://www.kinfa.or.kr/customerService/centerSearch.do target=_blank&gt;&lt;font style=color:blue;&gt;www.kinfa.or.kr/customerService/centerSearch.do &lt;/a&gt;&lt;/font&gt;&lt;span style=font-size: 12px;&gt;(서금원 홈페이지 &gt; 서민금융통합지원센터 &gt; 전국센터찾기 &gt; 미소지점)&lt;/span&gt;</cnpl>\\n                <rltSite>&lt;a href=https://www.kinfa.or.kr target=_blank&gt;&lt;font style=color:blue;&gt;www.kinfa.or.kr &lt;/a&gt;&lt;/font&gt;&lt;span style=font-size: 12px;&gt;(서금원 홈페이지 &gt; 서민금융한눈에 &gt; 생계·주거자금 &gt; 생계자금)&lt;/span&gt;</rltSite>\\n                <tgtFltr>금융취약계층</tgtFltr>\\n                <hdlInstDtlVw>미소금융 전국 지점</hdlInstDtlVw>\\n                <prdExisYn>Y</prdExisYn>\\n                <cv19Rfrc xsi:nil=\"true\" xmlns:xsi=\"http://www.w3.org/2001/XMLSchema-instance\"/>\\n                <prdCtg>1</prdCtg>\\n                <prdNm>대출상품</prdNm>\\n                <cv19SuprCtg xsi:nil=\"true\" xmlns:xsi=\"http://www.w3.org/2001/XMLSchema-instance\"/>\\n                <cv19SuprCtn xsi:nil=\"true\" xmlns:xsi=\"http://www.w3.org/2001/XMLSchema-instance\"/>\\n                <cv19SuprTgtDtlCtn xsi:nil=\"true\" xmlns:xsi=\"http://www.w3.org/2001/XMLSchema-instance\"/>\\n                <mgmDln>상시</mgmDln>\\n                <prdCtg2>정책자금</prdCtg2>\\n                <fileWrtDt>202202080917</fileWrtDt>\\n            </item>\\n        </items>\\n    </body>\\n</response>\\n'"
      ]
     },
     "execution_count": 7,
     "metadata": {},
     "output_type": "execute_result"
    }
   ],
   "source": [
    "data[:]"
   ]
  },
  {
   "cell_type": "code",
   "execution_count": 11,
   "id": "f2d5825a",
   "metadata": {},
   "outputs": [
    {
     "data": {
      "text/plain": [
       "'<?xml version=\"1.0\" encoding=\"UTF-8\" standalone=\"yes\"?>\\n<response>\\n    <header>\\n        <resultCode>00</resultCode>\\n        <resultMsg>NORMAL SERVICE.</resultMsg>\\n    </header>\\n    <body>\\n        <numOfRows>10</numOfRows>\\n        <pageNo>1</pageNo>\\n        <totalCount>3696</totalCount>\\n        <items>\\n            <item>\\n                <basYm>202202</basYm>\\n                <snq>1</snq>\\n                <finPrdNm>미소금융 창업자금_임차보증금대출</finPrdNm>\\n                <lnLmt>7000만원</lnLmt>\\n                <irtCtg>변동금리</irtCtg>\\n                <irt>4.5%</irt>\\n                <maxTotLnTrm>6년</maxTotLnTrm>\\n                <maxDfrmTrm>1년</maxDfrmTrm>\\n                <maxRdptTrm>5년</maxRdptTrm>\\n                <rdptMthd>원(리)금균등분할상환</rdptMthd>\\n                <usge>창업</usge>\\n                <trgt>사업자, 금융취약계층</trgt>\\n                <instCtg>공공·정부기관</instCtg>\\n                <ofrInstNm>서민금융진흥원</ofrInstNm>\\n                <rsdAreaPamtEqltIstm>전국</rsdAreaPamtEqltIstm>\\n                <suprTgtDtlCond>개인신용평점 하'"
      ]
     },
     "execution_count": 11,
     "metadata": {},
     "output_type": "execute_result"
    }
   ],
   "source": [
    "data[:1000]"
   ]
  },
  {
   "cell_type": "code",
   "execution_count": 3,
   "id": "f544a2c0",
   "metadata": {
    "scrolled": false
   },
   "outputs": [
    {
     "data": {
      "text/plain": [
       "'<?xml version=\"1.0\" encoding=\"UTF-8\" standalone=\"yes\"?>\\n<response>\\n    <header>\\n        <resultCode>00</resultCode>\\n        <resultMsg>NORMAL SERVICE.</resultMsg>\\n    </header>\\n    <body>\\n        <numOfRows>10</numOfRows>\\n        <pageNo>1</pageNo>\\n        <totalCount>3696</totalCount>\\n        <items>\\n            <item>\\n                <basYm>202202</basYm>\\n                <snq>1</snq>\\n                <finPrdNm>미소금융 창업자금_임차보증금대출</finPrdNm>\\n                <lnLmt>7000만원</lnLmt>\\n                <i'"
      ]
     },
     "execution_count": 3,
     "metadata": {},
     "output_type": "execute_result"
    }
   ],
   "source": [
    "data[:500]"
   ]
  },
  {
   "cell_type": "code",
   "execution_count": 13,
   "id": "bdda34b2",
   "metadata": {},
   "outputs": [
    {
     "name": "stdout",
     "output_type": "stream",
     "text": [
      "<class 'str'>\n"
     ]
    }
   ],
   "source": [
    "print(type(data[:]))"
   ]
  },
  {
   "cell_type": "code",
   "execution_count": 12,
   "id": "4d187333",
   "metadata": {
    "scrolled": true
   },
   "outputs": [
    {
     "data": {
      "text/plain": [
       "[<basYm>202202</basYm>,\n",
       " <basYm>202202</basYm>,\n",
       " <basYm>202202</basYm>,\n",
       " <basYm>202202</basYm>,\n",
       " <basYm>202202</basYm>,\n",
       " <basYm>202202</basYm>,\n",
       " <basYm>202202</basYm>,\n",
       " <basYm>202202</basYm>,\n",
       " <basYm>202202</basYm>,\n",
       " <basYm>202202</basYm>]"
      ]
     },
     "execution_count": 12,
     "metadata": {},
     "output_type": "execute_result"
    }
   ],
   "source": [
    "soup.find_all('basYm')"
   ]
  },
  {
   "cell_type": "code",
   "execution_count": 6,
   "id": "d500d8d8",
   "metadata": {
    "scrolled": true
   },
   "outputs": [
    {
     "data": {
      "text/plain": [
       "[<finPrdNm>미소금융 창업자금_임차보증금대출</finPrdNm>,\n",
       " <finPrdNm>미소금융 창업자금_생계형차량 구입자금</finPrdNm>,\n",
       " <finPrdNm>미소금융 창업자금_창업초기 운영자금</finPrdNm>,\n",
       " <finPrdNm>미소금융 창업자금_창업초기 시설자금</finPrdNm>,\n",
       " <finPrdNm>미소금융 운영자금</finPrdNm>,\n",
       " <finPrdNm>미소금융 시설개선자금</finPrdNm>,\n",
       " <finPrdNm>미소금융 긴급생계자금</finPrdNm>,\n",
       " <finPrdNm>미소금융 취업성공대출</finPrdNm>,\n",
       " <finPrdNm>미소금융 교육비지원대출</finPrdNm>,\n",
       " <finPrdNm>미소금융 취약계층자립자금</finPrdNm>]"
      ]
     },
     "execution_count": 6,
     "metadata": {},
     "output_type": "execute_result"
    }
   ],
   "source": [
    "soup.find_all('finPrdNm')"
   ]
  },
  {
   "cell_type": "code",
   "execution_count": null,
   "id": "51f308b4",
   "metadata": {},
   "outputs": [],
   "source": []
  },
  {
   "cell_type": "code",
   "execution_count": null,
   "id": "e9c6662a",
   "metadata": {},
   "outputs": [],
   "source": [
    "# soup.find_all('a')\n",
    "\n",
    "soup.find_all('basYm')\n",
    "snq\n",
    "finPrdNm\n",
    "lnLmt\n",
    "irtCtg\n",
    "irt\n",
    "maxTotLnTrm\n",
    "maxDfrmTrm\n",
    "maxRdptTrm\n",
    "rdptMthd\n",
    "usge\n",
    "trgt\n",
    "instCtg\n",
    "ofrInstNm\n",
    "rsdAreaPamtEqltIstm\n",
    "suprTgtDtlCond\n",
    "age\n",
    "incm\n",
    "rsdArea\n",
    "crdtSc\n",
    "anin\n",
    "housHoldCnt\n",
    "housAr\n",
    "lnTgtHous\n",
    "rfrcCnpl\n",
    "grnInst\n",
    "jnMthd\n",
    "rpymdCfe\n",
    "lnIcdcst\n",
    "ovItrYr\n",
    "prftAddIrtCond\n",
    "etcRefSbjc\n",
    "hdlInst\n",
    "cnpl\n",
    "rltSite\n",
    "tgtFltr\n",
    "hdlInstDtlVw\n",
    "prdExisYn\n",
    "cv19Rfrc\n",
    "prdCtg\n",
    "prdNm\n",
    "cv19SuprCtg\n",
    "cv19SuprCtn\n",
    "cv19SuprTgtDtlCtn\n",
    "mgmDln\n",
    "prdCtg2\n",
    "fileWrtDt\n",
    "\n",
    "\n",
    "\n",
    "\n",
    "\n",
    "\n"
   ]
  },
  {
   "cell_type": "code",
   "execution_count": 14,
   "id": "19d9ab56",
   "metadata": {},
   "outputs": [],
   "source": [
    "from bs4 import BeautifulSoup\n",
    "\n",
    "soup = BeautifulSoup(data, 'xml')\n",
    "\n",
    "\n",
    "basYm = soup.find_all('basYm')\n",
    "snq = soup.find_all('snq')\n",
    "finPrdNm = soup.find_all('finPrdNm')\n",
    "lnLmt = soup.find_all('lnLmt')"
   ]
  },
  {
   "cell_type": "code",
   "execution_count": 15,
   "id": "c5c42e3f",
   "metadata": {},
   "outputs": [
    {
     "data": {
      "text/plain": [
       "[<basYm>202202</basYm>,\n",
       " <basYm>202202</basYm>,\n",
       " <basYm>202202</basYm>,\n",
       " <basYm>202202</basYm>,\n",
       " <basYm>202202</basYm>,\n",
       " <basYm>202202</basYm>,\n",
       " <basYm>202202</basYm>,\n",
       " <basYm>202202</basYm>,\n",
       " <basYm>202202</basYm>,\n",
       " <basYm>202202</basYm>]"
      ]
     },
     "execution_count": 15,
     "metadata": {},
     "output_type": "execute_result"
    }
   ],
   "source": [
    "basYm"
   ]
  },
  {
   "cell_type": "code",
   "execution_count": 19,
   "id": "65ac36e0",
   "metadata": {},
   "outputs": [
    {
     "data": {
      "text/plain": [
       "[<finPrdNm>미소금융 창업자금_임차보증금대출</finPrdNm>,\n",
       " <finPrdNm>미소금융 창업자금_생계형차량 구입자금</finPrdNm>,\n",
       " <finPrdNm>미소금융 창업자금_창업초기 운영자금</finPrdNm>,\n",
       " <finPrdNm>미소금융 창업자금_창업초기 시설자금</finPrdNm>,\n",
       " <finPrdNm>미소금융 운영자금</finPrdNm>,\n",
       " <finPrdNm>미소금융 시설개선자금</finPrdNm>,\n",
       " <finPrdNm>미소금융 긴급생계자금</finPrdNm>,\n",
       " <finPrdNm>미소금융 취업성공대출</finPrdNm>,\n",
       " <finPrdNm>미소금융 교육비지원대출</finPrdNm>,\n",
       " <finPrdNm>미소금융 취약계층자립자금</finPrdNm>]"
      ]
     },
     "execution_count": 19,
     "metadata": {},
     "output_type": "execute_result"
    }
   ],
   "source": [
    "finPrdNm"
   ]
  },
  {
   "cell_type": "code",
   "execution_count": 20,
   "id": "096bc35d",
   "metadata": {},
   "outputs": [
    {
     "name": "stdout",
     "output_type": "stream",
     "text": [
      "['202202', '202202', '202202', '202202', '202202', '202202', '202202', '202202', '202202', '202202']\n",
      "['1', '2', '3', '4', '5', '6', '7', '8', '9', '10']\n",
      "['미소금융 창업자금_임차보증금대출', '미소금융 창업자금_생계형차량 구입자금', '미소금융 창업자금_창업초기 운영자금', '미소금융 창업자금_창업초기 시설자금', '미소금융 운영자금', '미소금융 시설개선자금', '미소금융 긴급생계자금', '미소금융 취업성공대출', '미소금융 교육비지원대출', '미소금융 취약계층자립자금']\n"
     ]
    }
   ],
   "source": [
    "basYm2 = []\n",
    "snq2 = []\n",
    "finPrdNm2 = []\n",
    "\n",
    "for item1, item2, item3 in zip(basYm, snq, finPrdNm):\n",
    "    basYm2.append(item1.string)\n",
    "    snq2.append(item2.string)\n",
    "    finPrdNm2.append(item3.string)\n",
    "print(basYm2)\n",
    "print(snq2)\n",
    "print(finPrdNm2)"
   ]
  },
  {
   "cell_type": "code",
   "execution_count": null,
   "id": "210d499f",
   "metadata": {},
   "outputs": [],
   "source": []
  },
  {
   "cell_type": "code",
   "execution_count": 29,
   "id": "d5f5b828",
   "metadata": {},
   "outputs": [],
   "source": [
    "import json"
   ]
  },
  {
   "cell_type": "code",
   "execution_count": 31,
   "id": "c2d56ec0",
   "metadata": {},
   "outputs": [
    {
     "ename": "JSONDecodeError",
     "evalue": "Expecting value: line 1 column 1 (char 0)",
     "output_type": "error",
     "traceback": [
      "\u001b[1;31m---------------------------------------------------------------------------\u001b[0m",
      "\u001b[1;31mJSONDecodeError\u001b[0m                           Traceback (most recent call last)",
      "Cell \u001b[1;32mIn[31], line 1\u001b[0m\n\u001b[1;32m----> 1\u001b[0m data \u001b[38;5;241m=\u001b[39m \u001b[43mjson\u001b[49m\u001b[38;5;241;43m.\u001b[39;49m\u001b[43mloads\u001b[49m\u001b[43m(\u001b[49m\u001b[43mdata\u001b[49m\u001b[43m)\u001b[49m\n\u001b[0;32m      2\u001b[0m data\n",
      "File \u001b[1;32m~\\miniforge3\\envs\\fintech\\lib\\json\\__init__.py:346\u001b[0m, in \u001b[0;36mloads\u001b[1;34m(s, cls, object_hook, parse_float, parse_int, parse_constant, object_pairs_hook, **kw)\u001b[0m\n\u001b[0;32m    341\u001b[0m     s \u001b[38;5;241m=\u001b[39m s\u001b[38;5;241m.\u001b[39mdecode(detect_encoding(s), \u001b[38;5;124m'\u001b[39m\u001b[38;5;124msurrogatepass\u001b[39m\u001b[38;5;124m'\u001b[39m)\n\u001b[0;32m    343\u001b[0m \u001b[38;5;28;01mif\u001b[39;00m (\u001b[38;5;28mcls\u001b[39m \u001b[38;5;129;01mis\u001b[39;00m \u001b[38;5;28;01mNone\u001b[39;00m \u001b[38;5;129;01mand\u001b[39;00m object_hook \u001b[38;5;129;01mis\u001b[39;00m \u001b[38;5;28;01mNone\u001b[39;00m \u001b[38;5;129;01mand\u001b[39;00m\n\u001b[0;32m    344\u001b[0m         parse_int \u001b[38;5;129;01mis\u001b[39;00m \u001b[38;5;28;01mNone\u001b[39;00m \u001b[38;5;129;01mand\u001b[39;00m parse_float \u001b[38;5;129;01mis\u001b[39;00m \u001b[38;5;28;01mNone\u001b[39;00m \u001b[38;5;129;01mand\u001b[39;00m\n\u001b[0;32m    345\u001b[0m         parse_constant \u001b[38;5;129;01mis\u001b[39;00m \u001b[38;5;28;01mNone\u001b[39;00m \u001b[38;5;129;01mand\u001b[39;00m object_pairs_hook \u001b[38;5;129;01mis\u001b[39;00m \u001b[38;5;28;01mNone\u001b[39;00m \u001b[38;5;129;01mand\u001b[39;00m \u001b[38;5;129;01mnot\u001b[39;00m kw):\n\u001b[1;32m--> 346\u001b[0m     \u001b[38;5;28;01mreturn\u001b[39;00m \u001b[43m_default_decoder\u001b[49m\u001b[38;5;241;43m.\u001b[39;49m\u001b[43mdecode\u001b[49m\u001b[43m(\u001b[49m\u001b[43ms\u001b[49m\u001b[43m)\u001b[49m\n\u001b[0;32m    347\u001b[0m \u001b[38;5;28;01mif\u001b[39;00m \u001b[38;5;28mcls\u001b[39m \u001b[38;5;129;01mis\u001b[39;00m \u001b[38;5;28;01mNone\u001b[39;00m:\n\u001b[0;32m    348\u001b[0m     \u001b[38;5;28mcls\u001b[39m \u001b[38;5;241m=\u001b[39m JSONDecoder\n",
      "File \u001b[1;32m~\\miniforge3\\envs\\fintech\\lib\\json\\decoder.py:337\u001b[0m, in \u001b[0;36mJSONDecoder.decode\u001b[1;34m(self, s, _w)\u001b[0m\n\u001b[0;32m    332\u001b[0m \u001b[38;5;28;01mdef\u001b[39;00m \u001b[38;5;21mdecode\u001b[39m(\u001b[38;5;28mself\u001b[39m, s, _w\u001b[38;5;241m=\u001b[39mWHITESPACE\u001b[38;5;241m.\u001b[39mmatch):\n\u001b[0;32m    333\u001b[0m \u001b[38;5;250m    \u001b[39m\u001b[38;5;124;03m\"\"\"Return the Python representation of ``s`` (a ``str`` instance\u001b[39;00m\n\u001b[0;32m    334\u001b[0m \u001b[38;5;124;03m    containing a JSON document).\u001b[39;00m\n\u001b[0;32m    335\u001b[0m \n\u001b[0;32m    336\u001b[0m \u001b[38;5;124;03m    \"\"\"\u001b[39;00m\n\u001b[1;32m--> 337\u001b[0m     obj, end \u001b[38;5;241m=\u001b[39m \u001b[38;5;28;43mself\u001b[39;49m\u001b[38;5;241;43m.\u001b[39;49m\u001b[43mraw_decode\u001b[49m\u001b[43m(\u001b[49m\u001b[43ms\u001b[49m\u001b[43m,\u001b[49m\u001b[43m \u001b[49m\u001b[43midx\u001b[49m\u001b[38;5;241;43m=\u001b[39;49m\u001b[43m_w\u001b[49m\u001b[43m(\u001b[49m\u001b[43ms\u001b[49m\u001b[43m,\u001b[49m\u001b[43m \u001b[49m\u001b[38;5;241;43m0\u001b[39;49m\u001b[43m)\u001b[49m\u001b[38;5;241;43m.\u001b[39;49m\u001b[43mend\u001b[49m\u001b[43m(\u001b[49m\u001b[43m)\u001b[49m\u001b[43m)\u001b[49m\n\u001b[0;32m    338\u001b[0m     end \u001b[38;5;241m=\u001b[39m _w(s, end)\u001b[38;5;241m.\u001b[39mend()\n\u001b[0;32m    339\u001b[0m     \u001b[38;5;28;01mif\u001b[39;00m end \u001b[38;5;241m!=\u001b[39m \u001b[38;5;28mlen\u001b[39m(s):\n",
      "File \u001b[1;32m~\\miniforge3\\envs\\fintech\\lib\\json\\decoder.py:355\u001b[0m, in \u001b[0;36mJSONDecoder.raw_decode\u001b[1;34m(self, s, idx)\u001b[0m\n\u001b[0;32m    353\u001b[0m     obj, end \u001b[38;5;241m=\u001b[39m \u001b[38;5;28mself\u001b[39m\u001b[38;5;241m.\u001b[39mscan_once(s, idx)\n\u001b[0;32m    354\u001b[0m \u001b[38;5;28;01mexcept\u001b[39;00m \u001b[38;5;167;01mStopIteration\u001b[39;00m \u001b[38;5;28;01mas\u001b[39;00m err:\n\u001b[1;32m--> 355\u001b[0m     \u001b[38;5;28;01mraise\u001b[39;00m JSONDecodeError(\u001b[38;5;124m\"\u001b[39m\u001b[38;5;124mExpecting value\u001b[39m\u001b[38;5;124m\"\u001b[39m, s, err\u001b[38;5;241m.\u001b[39mvalue) \u001b[38;5;28;01mfrom\u001b[39;00m \u001b[38;5;28;01mNone\u001b[39;00m\n\u001b[0;32m    356\u001b[0m \u001b[38;5;28;01mreturn\u001b[39;00m obj, end\n",
      "\u001b[1;31mJSONDecodeError\u001b[0m: Expecting value: line 1 column 1 (char 0)"
     ]
    }
   ],
   "source": [
    "data = json.loads(data)\n",
    "data"
   ]
  },
  {
   "cell_type": "code",
   "execution_count": 32,
   "id": "dac86efa",
   "metadata": {},
   "outputs": [
    {
     "ename": "AttributeError",
     "evalue": "'str' object has no attribute 'append'",
     "output_type": "error",
     "traceback": [
      "\u001b[1;31m---------------------------------------------------------------------------\u001b[0m",
      "\u001b[1;31mAttributeError\u001b[0m                            Traceback (most recent call last)",
      "Cell \u001b[1;32mIn[32], line 6\u001b[0m\n\u001b[0;32m      4\u001b[0m \u001b[38;5;28;01mfor\u001b[39;00m loan_list \u001b[38;5;129;01min\u001b[39;00m loan_lists: \n\u001b[0;32m      5\u001b[0m     \u001b[38;5;28;01mfor\u001b[39;00m item \u001b[38;5;129;01min\u001b[39;00m loan_lists:\n\u001b[1;32m----> 6\u001b[0m         \u001b[43mloan_lists\u001b[49m\u001b[38;5;241;43m.\u001b[39;49m\u001b[43mappend\u001b[49m(item[load_list])\n\u001b[0;32m      7\u001b[0m \u001b[38;5;28mprint\u001b[39m(loan_lists)\n",
      "\u001b[1;31mAttributeError\u001b[0m: 'str' object has no attribute 'append'"
     ]
    }
   ],
   "source": [
    "loan = []\n",
    "loan_lists = data[:]\n",
    " \n",
    "for loan_list in loan_lists: \n",
    "    for item in loan_lists:\n",
    "        loan_lists.append(item[load_list])\n",
    "print(loan_lists)"
   ]
  },
  {
   "cell_type": "code",
   "execution_count": null,
   "id": "adeadd2e",
   "metadata": {},
   "outputs": [],
   "source": []
  },
  {
   "cell_type": "code",
   "execution_count": null,
   "id": "c345b1d7",
   "metadata": {},
   "outputs": [],
   "source": []
  },
  {
   "cell_type": "code",
   "execution_count": null,
   "id": "15d16441",
   "metadata": {},
   "outputs": [],
   "source": []
  },
  {
   "cell_type": "code",
   "execution_count": null,
   "id": "09eea476",
   "metadata": {},
   "outputs": [],
   "source": []
  },
  {
   "cell_type": "code",
   "execution_count": null,
   "id": "6b434b45",
   "metadata": {},
   "outputs": [],
   "source": []
  },
  {
   "cell_type": "markdown",
   "id": "6cd26391",
   "metadata": {},
   "source": [
    "# beautifulSoup 으로 html, xml 파싱하기"
   ]
  },
  {
   "cell_type": "code",
   "execution_count": 22,
   "id": "fbbbbbd2",
   "metadata": {},
   "outputs": [],
   "source": [
    "html_doc = \"\"\"<html><head><title>The Dormouse's story</title></head>\n",
    "<body>\n",
    "<p class=\"title\"><b>The Dormouse's story</b></p>\n",
    "\n",
    "<p class=\"story\">Once upon a time there were three little sisters; and their names were\n",
    "<a href=\"http://example.com/elsie\" class=\"sister\" id=\"link1\">Elsie</a>,\n",
    "<a href=\"http://example.com/lacie\" class=\"sister\" id=\"link2\">Lacie</a> and\n",
    "<a href=\"http://example.com/tillie\" class=\"sister\" id=\"link3\">Tillie</a>;\n",
    "and they lived at the bottom of a well.</p>\n",
    "\n",
    "<p class=\"story\">...</p>\n",
    "\"\"\""
   ]
  },
  {
   "cell_type": "code",
   "execution_count": 23,
   "id": "061f57db",
   "metadata": {},
   "outputs": [
    {
     "name": "stdout",
     "output_type": "stream",
     "text": [
      "<html>\n",
      " <head>\n",
      "  <title>\n",
      "   The Dormouse's story\n",
      "  </title>\n",
      " </head>\n",
      " <body>\n",
      "  <p class=\"title\">\n",
      "   <b>\n",
      "    The Dormouse's story\n",
      "   </b>\n",
      "  </p>\n",
      "  <p class=\"story\">\n",
      "   Once upon a time there were three little sisters; and their names were\n",
      "   <a class=\"sister\" href=\"http://example.com/elsie\" id=\"link1\">\n",
      "    Elsie\n",
      "   </a>\n",
      "   ,\n",
      "   <a class=\"sister\" href=\"http://example.com/lacie\" id=\"link2\">\n",
      "    Lacie\n",
      "   </a>\n",
      "   and\n",
      "   <a class=\"sister\" href=\"http://example.com/tillie\" id=\"link3\">\n",
      "    Tillie\n",
      "   </a>\n",
      "   ;\n",
      "and they lived at the bottom of a well.\n",
      "  </p>\n",
      "  <p class=\"story\">\n",
      "   ...\n",
      "  </p>\n",
      " </body>\n",
      "</html>\n",
      "\n"
     ]
    }
   ],
   "source": [
    "from bs4 import BeautifulSoup\n",
    "soup = BeautifulSoup(html_doc, 'html.parser')\n",
    "\n",
    "print(soup.prettify())"
   ]
  },
  {
   "cell_type": "code",
   "execution_count": 25,
   "id": "41809d06",
   "metadata": {},
   "outputs": [
    {
     "data": {
      "text/plain": [
       "<title>The Dormouse's story</title>"
      ]
     },
     "execution_count": 25,
     "metadata": {},
     "output_type": "execute_result"
    }
   ],
   "source": [
    "soup.title"
   ]
  },
  {
   "cell_type": "code",
   "execution_count": 26,
   "id": "c61f3d62",
   "metadata": {},
   "outputs": [
    {
     "data": {
      "text/plain": [
       "\"The Dormouse's story\""
      ]
     },
     "execution_count": 26,
     "metadata": {},
     "output_type": "execute_result"
    }
   ],
   "source": [
    "soup.title.string"
   ]
  },
  {
   "cell_type": "code",
   "execution_count": 27,
   "id": "1ee88a16",
   "metadata": {},
   "outputs": [
    {
     "data": {
      "text/plain": [
       "<p class=\"title\"><b>The Dormouse's story</b></p>"
      ]
     },
     "execution_count": 27,
     "metadata": {},
     "output_type": "execute_result"
    }
   ],
   "source": [
    "soup.p"
   ]
  },
  {
   "cell_type": "code",
   "execution_count": null,
   "id": "811d63b6",
   "metadata": {},
   "outputs": [],
   "source": []
  },
  {
   "cell_type": "code",
   "execution_count": null,
   "id": "e7b085cf",
   "metadata": {},
   "outputs": [],
   "source": []
  },
  {
   "cell_type": "code",
   "execution_count": null,
   "id": "e8b0d399",
   "metadata": {},
   "outputs": [],
   "source": []
  },
  {
   "cell_type": "code",
   "execution_count": null,
   "id": "4e606d49",
   "metadata": {},
   "outputs": [],
   "source": []
  },
  {
   "cell_type": "code",
   "execution_count": null,
   "id": "4034348a",
   "metadata": {},
   "outputs": [],
   "source": []
  },
  {
   "cell_type": "code",
   "execution_count": null,
   "id": "19e83912",
   "metadata": {},
   "outputs": [],
   "source": []
  }
 ],
 "metadata": {
  "kernelspec": {
   "display_name": "Python 3 (ipykernel)",
   "language": "python",
   "name": "python3"
  },
  "language_info": {
   "codemirror_mode": {
    "name": "ipython",
    "version": 3
   },
   "file_extension": ".py",
   "mimetype": "text/x-python",
   "name": "python",
   "nbconvert_exporter": "python",
   "pygments_lexer": "ipython3",
   "version": "3.10.14"
  }
 },
 "nbformat": 4,
 "nbformat_minor": 5
}
