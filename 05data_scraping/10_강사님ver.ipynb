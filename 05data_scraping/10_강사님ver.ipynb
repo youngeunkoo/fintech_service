{
 "cells": [
  {
   "cell_type": "markdown",
   "id": "e418fb93",
   "metadata": {},
   "source": [
    "# DB에서 상장 기업 정보를 받아 네이버 증권에서 주가 수집하기"
   ]
  },
  {
   "cell_type": "markdown",
   "id": "74261d75",
   "metadata": {},
   "source": [
    "강사님 ver."
   ]
  },
  {
   "cell_type": "code",
   "execution_count": 3,
   "id": "f25e2744",
   "metadata": {},
   "outputs": [],
   "source": [
    "import os\n",
    "import pandas as pd\n",
    "import requests\n",
    "from bs4 import BeautifulSoup as bs\n",
    "from datetime import date\n",
    "from dotenv import load_dotenv\n",
    "from sqlalchemy import create_engine, text\n",
    "import pymysql\n",
    "import time"
   ]
  },
  {
   "cell_type": "code",
   "execution_count": 4,
   "id": "cac8f9db",
   "metadata": {},
   "outputs": [
    {
     "data": {
      "text/plain": [
       "True"
      ]
     },
     "execution_count": 4,
     "metadata": {},
     "output_type": "execute_result"
    }
   ],
   "source": [
    "pymysql.install_as_MySQLdb()\n",
    "load_dotenv(dotenv_path=\".env_db\")"
   ]
  },
  {
   "cell_type": "code",
   "execution_count": 5,
   "id": "4ab19591",
   "metadata": {},
   "outputs": [],
   "source": [
    "# mysql에서 테이블 불러오기\n",
    "engine = create_engine(f\"{os.getenv('db')}+{os.getenv('dbtype')}://{os.getenv('id')}:{os.getenv('pw')}@{os.getenv('host')}/{os.getenv('database')}\")\n",
    "conn = engine.connect()\n",
    "\n",
    "data = pd.read_sql('2024_07_29_stock_company_info', con=conn)\n",
    "conn.close()"
   ]
  },
  {
   "cell_type": "code",
   "execution_count": 6,
   "id": "ee7bea0c",
   "metadata": {},
   "outputs": [],
   "source": [
    "def str2int(x):\n",
    "    x = int(x.replace(\",\", \"\"))\n",
    "    return x"
   ]
  },
  {
   "cell_type": "code",
   "execution_count": 7,
   "id": "e6a28845",
   "metadata": {},
   "outputs": [
    {
     "name": "stdout",
     "output_type": "stream",
     "text": [
      "200 39/13525 수집중\r"
     ]
    },
    {
     "ename": "KeyboardInterrupt",
     "evalue": "",
     "output_type": "error",
     "traceback": [
      "\u001b[1;31m---------------------------------------------------------------------------\u001b[0m",
      "\u001b[1;31mKeyboardInterrupt\u001b[0m                         Traceback (most recent call last)",
      "Cell \u001b[1;32mIn[7], line 28\u001b[0m\n\u001b[0;32m     26\u001b[0m         \u001b[38;5;28;01mfor\u001b[39;00m td \u001b[38;5;129;01min\u001b[39;00m tr\u001b[38;5;241m.\u001b[39mselect(\u001b[38;5;124m'\u001b[39m\u001b[38;5;124mtd\u001b[39m\u001b[38;5;124m'\u001b[39m):\n\u001b[0;32m     27\u001b[0m             stock_price_detail\u001b[38;5;241m.\u001b[39msetdefault(td\u001b[38;5;241m.\u001b[39mselect_one(\u001b[38;5;124m'\u001b[39m\u001b[38;5;124mspan\u001b[39m\u001b[38;5;124m'\u001b[39m)\u001b[38;5;241m.\u001b[39mtext, [])\u001b[38;5;241m.\u001b[39mappend(str2int(td\u001b[38;5;241m.\u001b[39mselect_one(\u001b[38;5;124m\"\u001b[39m\u001b[38;5;124mspan.blind\u001b[39m\u001b[38;5;124m\"\u001b[39m)\u001b[38;5;241m.\u001b[39mtext))\n\u001b[1;32m---> 28\u001b[0m     \u001b[43mtime\u001b[49m\u001b[38;5;241;43m.\u001b[39;49m\u001b[43msleep\u001b[49m\u001b[43m(\u001b[49m\u001b[38;5;241;43m5\u001b[39;49m\u001b[43m)\u001b[49m\n\u001b[0;32m     32\u001b[0m stock_price_detail\n",
      "\u001b[1;31mKeyboardInterrupt\u001b[0m: "
     ]
    }
   ],
   "source": [
    "stock_price_detail = {}\n",
    "\n",
    "\n",
    "for idx, code in enumerate(data['종목코드']):\n",
    "    \n",
    "    url = f\"https://finance.naver.com/item/main.naver?code={code}\" \n",
    "    r = requests.get(url)\n",
    "    print(r.status_code, f\"{idx+1}/{len(data['종목코드'])} 수집중\", end=\"\\r\")\n",
    "    soup = bs(r.text, 'lxml')\n",
    "    \n",
    "    \n",
    "    # 가격\n",
    "    price = int((soup.select_one(\".today\").text).strip(\"\\n\").split(\"\\n\")[1].replace(\",\", \"\"))\n",
    "    # 변동금액\n",
    "    price_chage = int((soup.select_one(\".today\").text).strip(\"\\n\").split(\"\\n\")[9].replace(\",\", \"\"))\n",
    "    # 변화율\n",
    "    rate_of_chage = float(((soup.select_one(\".today\").text).strip(\"\\n\").split(\"\\n\")[13]+(soup.select_one(\".today\").text).strip(\"\\n\").split(\"\\n\")[15]).replace(\"%\",\"\"))\n",
    "    stock_price_detail.setdefault('현재가', []).append(price)\n",
    "    stock_price_detail.setdefault('변동금액', []).append(price_chage)\n",
    "    stock_price_detail.setdefault('변화율', []).append(rate_of_chage)\n",
    "    \n",
    "    \n",
    "    table = soup.select_one(\".no_info\")\n",
    "    \n",
    "    for tr in table.select(\"tr\"):\n",
    "        for td in tr.select('td'):\n",
    "            stock_price_detail.setdefault(td.select_one('span').text, []).append(str2int(td.select_one(\"span.blind\").text))\n",
    "    time.sleep(5)\n",
    "    \n",
    "    \n",
    "    \n",
    "stock_price_detail\n",
    "\n"
   ]
  },
  {
   "cell_type": "code",
   "execution_count": null,
   "id": "9ff0ea3b",
   "metadata": {},
   "outputs": [],
   "source": [
    "data"
   ]
  },
  {
   "cell_type": "markdown",
   "id": "7ada8e0c",
   "metadata": {},
   "source": [
    "# 수집과 동시에 DB에 저장하기 + 예외처리 하기"
   ]
  },
  {
   "cell_type": "code",
   "execution_count": null,
   "id": "84dd69e6",
   "metadata": {},
   "outputs": [],
   "source": [
    "\n",
    "print(today)"
   ]
  },
  {
   "cell_type": "code",
   "execution_count": null,
   "id": "629d5fab",
   "metadata": {},
   "outputs": [],
   "source": [
    "today = str(date.today()).replace(\"-\", \"_\")\n",
    "print(today[:7])"
   ]
  },
  {
   "cell_type": "code",
   "execution_count": null,
   "id": "148455df",
   "metadata": {},
   "outputs": [],
   "source": [
    "# DB에 접속해서 저장하는 함수\n",
    "\n",
    "\n",
    "def stock_info_to_db(idx, code, df):\n",
    "    from sqlalchemy import create_engine\n",
    "    import pymysql\n",
    "    from dotenv import load_dotenv\n",
    "    from datetime import date\n",
    "    pymysql.install_as_MySQLdb()\n",
    "    load_dotenv(dotenv_path=\".env_db\")\n",
    "    today = str(date.today()).replace(\"-\",\"_\")\n",
    "    \n",
    "    engine = create_engine(f\"{os.getenv('db')}+{os.getenv('dbtype')}://{os.getenv('id')}:{os.getenv('pw')}@{os.getenv('host')}/{os.getenv('database')}\")\n",
    "    conn = engine.connect()\n",
    "    df.to_sql(f\"{today[:7]}_stock_price_info\", con=conn, if_exists='append', index=False)\n",
    "    conn.close()\n",
    "    \n",
    "    \n",
    "    return print(f\"{today}, {idx}, {code}, {'저장완료':<30s}\", end=\"\\r\")\n",
    "    \n",
    "    \n",
    "    "
   ]
  },
  {
   "cell_type": "code",
   "execution_count": null,
   "id": "e5d14979",
   "metadata": {},
   "outputs": [],
   "source": [
    "errors = {}\n",
    "\n",
    "\n",
    "for idx, (company, code) in enumerate(zip(data['회사명'], data['종목코드'])):\n",
    "    stock_price_detail = {}\n",
    "    # 반복문이 돌때마다 딕셔너리 만들어짐\n",
    "    url = f\"https://finance.naver.com/item/main.naver?code={code}\" \n",
    "    \n",
    "    try:\n",
    "        r = requests.get(url)\n",
    "        print(r.status_code, f\"{idx+1}/{len(data['종목코드'])} 수집중                    \", end=\"\\r\")\n",
    "        soup = bs(r.text, 'lxml')\n",
    "        \n",
    "        \n",
    "        # 가격\n",
    "        price = int((soup.select_one(\".today\").text).strip(\"\\n\").split(\"\\n\")[1].replace(\",\", \"\"))\n",
    "        # 변동금액\n",
    "        price_chage = int((soup.select_one(\".today\").text).strip(\"\\n\").split(\"\\n\")[9].replace(\",\", \"\"))\n",
    "        # 변화율\n",
    "        rate_of_chage = float(((soup.select_one(\".today\").text).strip(\"\\n\").split(\"\\n\")[13]+(soup.select_one(\".today\").text).strip(\"\\n\").split(\"\\n\")[15]).replace(\"%\",\"\"))\n",
    "        \n",
    "        \n",
    "        stock_price_detail.setdefault('수집일', []).append(str(date.today()))\n",
    "        stock_price_detail.setdefault('회사명', []).append(company)\n",
    "        stock_price_detail.setdefault('종목코드', []).append(code)\n",
    "        stock_price_detail.setdefault('현재가', []).append(price)\n",
    "        stock_price_detail.setdefault('변동금액', []).append(price_chage)\n",
    "        stock_price_detail.setdefault('변화율', []).append(rate_of_chage)\n",
    "        \n",
    "        \n",
    "        table = soup.select_one(\".no_info\")\n",
    "        \n",
    "        \n",
    "        \n",
    "        for tr in table.select(\"tr\"):\n",
    "            for td in tr.select('td'):\n",
    "                stock_price_detail.setdefault(td.select_one('span').text, []).append(str2int(td.select_one(\"span.blind\").text))\n",
    "        \n",
    "        df = pd.DataFrame(stock_price_detail)\n",
    "        # 바로 데이터프레임으로 만듦\n",
    "        stock_info_to_db(idx, code, df)\n",
    "        # db 함수 호출\n",
    "        \n",
    "        time.sleep(5)\n",
    "        \n",
    "    except Exception as e:\n",
    "        print(e)\n",
    "        print(r.status_code, f\"{idx+1}/{len(data['종목코드'])} 수집중 에러\", end=\"\\r\")\n",
    "        errors.setdefault(\"에러\", []).append(code)  # 에러난 코드들 모음\n",
    "        \n",
    "        \n",
    "stock_price_detail\n",
    "\n",
    "\n",
    "# try 로 데이터 수집하다가 에러가 뜨면 except 로 넘어감! \n"
   ]
  },
  {
   "cell_type": "code",
   "execution_count": null,
   "id": "973763ab",
   "metadata": {},
   "outputs": [],
   "source": []
  },
  {
   "cell_type": "code",
   "execution_count": null,
   "id": "c9760d3b",
   "metadata": {},
   "outputs": [],
   "source": []
  },
  {
   "cell_type": "code",
   "execution_count": null,
   "id": "57d771fc",
   "metadata": {},
   "outputs": [],
   "source": []
  },
  {
   "cell_type": "code",
   "execution_count": null,
   "id": "d4c36613",
   "metadata": {},
   "outputs": [],
   "source": []
  },
  {
   "cell_type": "code",
   "execution_count": null,
   "id": "d4bc29e4",
   "metadata": {},
   "outputs": [],
   "source": []
  },
  {
   "cell_type": "code",
   "execution_count": null,
   "id": "df4b2256",
   "metadata": {},
   "outputs": [],
   "source": []
  },
  {
   "cell_type": "code",
   "execution_count": null,
   "id": "3901c2aa",
   "metadata": {},
   "outputs": [],
   "source": []
  },
  {
   "cell_type": "code",
   "execution_count": null,
   "id": "2f33ec6b",
   "metadata": {},
   "outputs": [],
   "source": []
  },
  {
   "cell_type": "code",
   "execution_count": null,
   "id": "352ff585",
   "metadata": {},
   "outputs": [],
   "source": []
  },
  {
   "cell_type": "code",
   "execution_count": null,
   "id": "eb0c7b5a",
   "metadata": {},
   "outputs": [],
   "source": []
  },
  {
   "cell_type": "code",
   "execution_count": null,
   "id": "2bc4b3ea",
   "metadata": {},
   "outputs": [],
   "source": []
  },
  {
   "cell_type": "code",
   "execution_count": null,
   "id": "1f5f213a",
   "metadata": {},
   "outputs": [],
   "source": []
  },
  {
   "cell_type": "code",
   "execution_count": null,
   "id": "e74d7bf2",
   "metadata": {},
   "outputs": [],
   "source": []
  },
  {
   "cell_type": "code",
   "execution_count": null,
   "id": "4a7e1e99",
   "metadata": {},
   "outputs": [],
   "source": []
  },
  {
   "cell_type": "code",
   "execution_count": null,
   "id": "60c3df63",
   "metadata": {},
   "outputs": [],
   "source": []
  }
 ],
 "metadata": {
  "kernelspec": {
   "display_name": "Python 3 (ipykernel)",
   "language": "python",
   "name": "python3"
  },
  "language_info": {
   "codemirror_mode": {
    "name": "ipython",
    "version": 3
   },
   "file_extension": ".py",
   "mimetype": "text/x-python",
   "name": "python",
   "nbconvert_exporter": "python",
   "pygments_lexer": "ipython3",
   "version": "3.10.14"
  }
 },
 "nbformat": 4,
 "nbformat_minor": 5
}
