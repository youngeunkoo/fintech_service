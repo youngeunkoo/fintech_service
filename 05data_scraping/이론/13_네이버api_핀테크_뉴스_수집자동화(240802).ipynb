{
 "cells": [
  {
   "cell_type": "markdown",
   "id": "ebf50698",
   "metadata": {},
   "source": [
    "네이버 검색 뉴스, 핀테크 관련 "
   ]
  },
  {
   "cell_type": "code",
   "execution_count": null,
   "id": "6c73656c",
   "metadata": {},
   "outputs": [],
   "source": []
  },
  {
   "cell_type": "code",
   "execution_count": null,
   "id": "797273c8",
   "metadata": {},
   "outputs": [],
   "source": [
    "# 네이버개발자센터에서 예제 코드 \n",
    "# 네이버 검색 API 예제 - 블로그 검색\n",
    "\n",
    "import os\n",
    "import sys\n",
    "import urllib.request\n",
    "client_id = \"YOUR_CLIENT_ID\"\n",
    "client_secret = \"YOUR_CLIENT_SECRET\"\n",
    "encText = urllib.parse.quote(\"검색할 단어\")\n",
    "url = \"https://openapi.naver.com/v1/search/blog?query=\" + encText # JSON 결과\n",
    "# url = \"https://openapi.naver.com/v1/search/blog.xml?query=\" + encText # XML 결과\n",
    "request = urllib.request.Request(url)\n",
    "request.add_header(\"X-Naver-Client-Id\",client_id)\n",
    "request.add_header(\"X-Naver-Client-Secret\",client_secret)\n",
    "response = urllib.request.urlopen(request)\n",
    "rescode = response.getcode()\n",
    "if(rescode==200):\n",
    "    response_body = response.read()\n",
    "    print(response_body.decode('utf-8'))\n",
    "else:\n",
    "    print(\"Error Code:\" + rescode)"
   ]
  },
  {
   "cell_type": "code",
   "execution_count": null,
   "id": "f99688e6",
   "metadata": {},
   "outputs": [],
   "source": []
  },
  {
   "cell_type": "code",
   "execution_count": 11,
   "id": "ab2039bf",
   "metadata": {},
   "outputs": [
    {
     "ename": "ImportError",
     "evalue": "cannot import name 'news_database' from 'exdbinfo' (C:\\fintech_service\\05data_scraping\\이론\\exdbinfo.py)",
     "output_type": "error",
     "traceback": [
      "\u001b[1;31m---------------------------------------------------------------------------\u001b[0m",
      "\u001b[1;31mImportError\u001b[0m                               Traceback (most recent call last)",
      "Cell \u001b[1;32mIn[11], line 23\u001b[0m\n\u001b[0;32m     21\u001b[0m \u001b[38;5;28;01mfrom\u001b[39;00m \u001b[38;5;21;01mnaver_api_info\u001b[39;00m \u001b[38;5;28;01mimport\u001b[39;00m client_id, client_secret\n\u001b[0;32m     22\u001b[0m \u001b[38;5;66;03m# vs 에서 불러오기 \u001b[39;00m\n\u001b[1;32m---> 23\u001b[0m \u001b[38;5;28;01mimport\u001b[39;00m \u001b[38;5;21;01mdbio\u001b[39;00m\n",
      "File \u001b[1;32mC:\\fintech_service\\05data_scraping\\이론\\dbio.py:4\u001b[0m\n\u001b[0;32m      2\u001b[0m \u001b[38;5;28;01mfrom\u001b[39;00m \u001b[38;5;21;01mexdbinfo\u001b[39;00m \u001b[38;5;28;01mimport\u001b[39;00m db, dbtype, \u001b[38;5;28mid\u001b[39m, pw, host, database   \n\u001b[0;32m      3\u001b[0m \u001b[38;5;66;03m# MySQL 의 database=\"hanabank_info\" 에 테이블 저장됨 \u001b[39;00m\n\u001b[1;32m----> 4\u001b[0m \u001b[38;5;28;01mfrom\u001b[39;00m \u001b[38;5;21;01mexdbinfo\u001b[39;00m \u001b[38;5;28;01mimport\u001b[39;00m db, dbtype, \u001b[38;5;28mid\u001b[39m, pw, host, news_database  \n\u001b[0;32m      5\u001b[0m \u001b[38;5;28;01mfrom\u001b[39;00m \u001b[38;5;21;01mnaver_api_info\u001b[39;00m \u001b[38;5;28;01mimport\u001b[39;00m news_database\n\u001b[0;32m      6\u001b[0m \u001b[38;5;28;01mimport\u001b[39;00m \u001b[38;5;21;01mpymysql\u001b[39;00m\n",
      "\u001b[1;31mImportError\u001b[0m: cannot import name 'news_database' from 'exdbinfo' (C:\\fintech_service\\05data_scraping\\이론\\exdbinfo.py)"
     ]
    }
   ],
   "source": [
    "# 기본 setting\n",
    "\n",
    "from selenium import webdriver\n",
    "from selenium.webdriver.chrome.service import Service as ChromeService\n",
    "from webdriver_manager.chrome import ChromeDriverManager\n",
    "from selenium.webdriver.common.keys import Keys\n",
    "from selenium.webdriver.common.by import By\n",
    "from bs4 import BeautifulSoup as bs\n",
    "import time\n",
    "import pandas as pd\n",
    "\n",
    "\n",
    "import os\n",
    "import sys\n",
    "import json\n",
    "import requests\n",
    "from dotenv import load_dotenv\n",
    "from datetime import date\n",
    "\n",
    "load_dotenv()\n",
    "from naver_api_info import client_id, client_secret\n",
    "# vs 에서 불러오기 \n",
    "import dbio"
   ]
  },
  {
   "cell_type": "code",
   "execution_count": 8,
   "id": "91035bb9",
   "metadata": {},
   "outputs": [
    {
     "ename": "NameError",
     "evalue": "name 'client_id' is not defined",
     "output_type": "error",
     "traceback": [
      "\u001b[1;31m---------------------------------------------------------------------------\u001b[0m",
      "\u001b[1;31mNameError\u001b[0m                                 Traceback (most recent call last)",
      "Cell \u001b[1;32mIn[8], line 6\u001b[0m\n\u001b[0;32m      1\u001b[0m \u001b[38;5;66;03m# requests 사용하기\u001b[39;00m\n\u001b[0;32m      3\u001b[0m url \u001b[38;5;241m=\u001b[39m \u001b[38;5;124m\"\u001b[39m\u001b[38;5;124mhttps://openapi.naver.com/v1/search/news.json\u001b[39m\u001b[38;5;124m\"\u001b[39m\n\u001b[1;32m----> 6\u001b[0m client_id \u001b[38;5;241m=\u001b[39m \u001b[43mclient_id\u001b[49m \u001b[38;5;66;03m# 네이버 api에 접속 가능한 id\u001b[39;00m\n\u001b[0;32m      7\u001b[0m client_secret \u001b[38;5;241m=\u001b[39m client_secret   \u001b[38;5;66;03m# 네이버 api에 접속 가능한 pw\u001b[39;00m\n\u001b[0;32m      9\u001b[0m payload \u001b[38;5;241m=\u001b[39m {\u001b[38;5;124m'\u001b[39m\u001b[38;5;124mquery\u001b[39m\u001b[38;5;124m'\u001b[39m: \u001b[38;5;124m'\u001b[39m\u001b[38;5;124m핀테크\u001b[39m\u001b[38;5;124m'\u001b[39m, \u001b[38;5;124m'\u001b[39m\u001b[38;5;124mdisplay\u001b[39m\u001b[38;5;124m'\u001b[39m : \u001b[38;5;241m100\u001b[39m, \u001b[38;5;124m'\u001b[39m\u001b[38;5;124mstart\u001b[39m\u001b[38;5;124m'\u001b[39m : \u001b[38;5;241m1\u001b[39m, \u001b[38;5;124m'\u001b[39m\u001b[38;5;124msort\u001b[39m\u001b[38;5;124m'\u001b[39m: \u001b[38;5;124m'\u001b[39m\u001b[38;5;124mdate\u001b[39m\u001b[38;5;124m'\u001b[39m}\n",
      "\u001b[1;31mNameError\u001b[0m: name 'client_id' is not defined"
     ]
    }
   ],
   "source": [
    "# requests 사용하기\n",
    "\n",
    "url = \"https://openapi.naver.com/v1/search/news.json\"\n",
    "\n",
    "\n",
    "client_id = client_id            # 네이버 api에 접속 가능한 id\n",
    "client_secret = client_secret   # 네이버 api에 접속 가능한 pw\n",
    "\n",
    "payload = {'query': '핀테크', 'display' : 100, 'start' : 1, 'sort': 'date'}\n",
    "headers = {\"X-Naver-Client-Id\" : client_id, \"X-Naver-Client-Secret\" : client_secret}\n",
    "\n",
    "r = requests.get(url, params = payload, headers = headers)\n",
    "print(r.url)\n",
    "\n",
    "if(r.status_code == 200):\n",
    "    data = r.json() \n",
    "    print(type(data))\n",
    "else:\n",
    "    print(\"Error Code:\", r.status_code)"
   ]
  },
  {
   "cell_type": "code",
   "execution_count": 19,
   "id": "3061b2cd",
   "metadata": {},
   "outputs": [
    {
     "data": {
      "text/plain": [
       "{'lastBuildDate': 'Fri, 02 Aug 2024 12:14:14 +0900',\n",
       " 'total': 475653,\n",
       " 'start': 1,\n",
       " 'display': 10,\n",
       " 'items': [{'title': '티몬·위메프 사태 파장 직격탄에 <b>핀테크</b>업계 ‘울상’',\n",
       "   'originallink': 'https://www.dailian.co.kr/news/view/1391156/?sc=Naver',\n",
       "   'link': 'https://n.news.naver.com/mnews/article/119/0002857846?sid=101',\n",
       "   'description': '위메프·티몬(티메프) 판매대금 정산 지연 사태로 인해 <b>핀테크</b> 업계에도 긴장감이 맴돌고 있다. 이커머스와 연계된 카드사 등 금융권은 물론 물론 결제대행업체(PG사), 간편결제 업체, 초기 스타트업(신생벤처) <b>핀테크</b>... ',\n",
       "   'pubDate': 'Fri, 02 Aug 2024 06:00:00 +0900'},\n",
       "  {'title': '[마켓인]코스닥 상장 뱅크웨어글로벌…한투파 &quot;<b>핀테크</b> 육성 결실&quot;',\n",
       "   'originallink': 'http://www.edaily.co.kr/news/newspath.asp?newsid=01403846638983384',\n",
       "   'link': 'https://n.news.naver.com/mnews/article/018/0005803193?sid=101',\n",
       "   'description': '한국투자파트너스(한투파)가 운용 중인 <b>핀테크</b>혁신펀드에서 첫 코스닥 상장 사례가 나올 전망이다.... 캐피탈사, <b>핀테크</b>사 등 100여 개 금융 고객사에 서비스하고 있다. 중국 알리바바의 인터넷 은행인 마이뱅크와 한국... ',\n",
       "   'pubDate': 'Fri, 02 Aug 2024 08:21:00 +0900'},\n",
       "  {'title': '아르고스, 코리아 <b>핀테크</b> 위크 2024 참가',\n",
       "   'originallink': 'https://www.etnews.com/20240801000339',\n",
       "   'link': 'https://n.news.naver.com/mnews/article/030/0003228587?sid=101',\n",
       "   'description': '코리아 <b>핀테크</b> 위크 2024에 참가한다. 아르고스는 비대면 환경에서 AI와 데이터를 기반으로 신분증 및... 특히 해외 진출을 목표하고 있는 <b>핀테크</b> 스타트업은 글로벌 서비스까지 커버가 가능한 아이덴티티 플랫폼... ',\n",
       "   'pubDate': 'Thu, 01 Aug 2024 16:48:00 +0900'},\n",
       "  {'title': \"한투파트너스, '<b>핀테크</b>혁신펀드' 1호 상장 일궜다\",\n",
       "   'originallink': 'https://www.newstof.com/news/articleView.html?idxno=23455',\n",
       "   'link': 'https://www.newstof.com/news/articleView.html?idxno=23455',\n",
       "   'description': '한국투자금융지주 계열 벤처캐피탈인 한국투자파트너스가 <b>핀테크</b>혁신펀드 위탁운용사(GP) 가운데 처음으로 <b>핀테크</b> 기업을 상장시키는 성과를 거둘 전망이다. 3년 전 투자한 뱅크웨어글로벌이 오는 12일 기술특례... ',\n",
       "   'pubDate': 'Fri, 02 Aug 2024 11:00:00 +0900'},\n",
       "  {'title': '<b>핀테크</b> 업체들, 티몬·위메프 결제액 선환불 신청 접수 개시',\n",
       "   'originallink': 'https://www.yna.co.kr/view/AKR20240728021200017?input=1195m',\n",
       "   'link': 'https://n.news.naver.com/mnews/article/001/0014835156?sid=105',\n",
       "   'description': '네이버페이는 48시간 이내 처리 약속 네이버페이 등 <b>핀테크</b> 업체들이 28일 정산 지연 사태를 빚고 있는... 선환불 시한을 못 박은 <b>핀테크</b> 업체는 네이버페이가 유일하다. 네이버페이 포인트 및 머니로 결제된 건은 즉시... ',\n",
       "   'pubDate': 'Sun, 28 Jul 2024 10:52:00 +0900'},\n",
       "  {'title': '아르고스 아이덴티티, ‘코리아 <b>핀테크</b> 위크 2024’ 참가',\n",
       "   'originallink': 'https://www.venturesquare.net/934733',\n",
       "   'link': 'https://www.venturesquare.net/934733',\n",
       "   'description': 'AI 기반의 아이덴티티 플랫폼 기업 아르고스 아이덴티티(ARGOS Identity)가 다가오는 8월 27일부터 29일까지 서울 동대문 디지털 플라자(DDP)에서 열리는 코리아 <b>핀테크</b> 위크 2024에 참가해 <b>핀테크</b> 기업을 위한 솔루션을... ',\n",
       "   'pubDate': 'Thu, 01 Aug 2024 14:29:00 +0900'},\n",
       "  {'title': \"티메프 사태 '<b>핀테크</b> 스타트업'도 불똥…정부 지원도 '사각지대'\",\n",
       "   'originallink': 'http://news.mt.co.kr/mtview.php?no=2024073114460214594',\n",
       "   'link': 'https://n.news.naver.com/mnews/article/008/0005071503?sid=101',\n",
       "   'description': \"'티메프(티몬·위메프)' 사태가 '셀러(판매자) 선정산' 서비스를 제공하는 <b>핀테크</b> 기업들에도 영향을 미치고... 국내 대표적인 선정산 스타트업은 올라<b>핀테크</b>, 에스씨엠솔루션(셀러라인), 데일리페이, 디에스솔루션즈... \",\n",
       "   'pubDate': 'Thu, 01 Aug 2024 07:00:00 +0900'},\n",
       "  {'title': '<b>핀테크</b> 업체들, 티메프 결제액 선환불 신청 접수 개시',\n",
       "   'originallink': 'https://biz.chosun.com/stock/finance/2024/07/28/B5S6DBQZYBAU3HLWN7S3CDRJMA/?utm_source=naver&utm_medium=original&utm_campaign=biz',\n",
       "   'link': 'https://n.news.naver.com/mnews/article/366/0001008072?sid=101',\n",
       "   'description': '네이버페이 등 <b>핀테크</b> 업체들이 28일 정산 지연 사태를 빚고 있는 티몬과 위메프 이용자들을 대상으로... 선환불 시한을 못 박은 <b>핀테크</b> 업체는 네이버페이가 유일하다. 네이버페이 포인트 및 머니로 결제된 건은 즉시... ',\n",
       "   'pubDate': 'Sun, 28 Jul 2024 11:21:00 +0900'},\n",
       "  {'title': '<b>핀테크</b> 업체들 ‘티메프 사태’ 소방수로…“환불 규모 가늠 못 해”',\n",
       "   'originallink': 'https://www.hani.co.kr/arti/economy/economy_general/1151093.html',\n",
       "   'link': 'https://n.news.naver.com/mnews/article/028/0002700119?sid=101',\n",
       "   'description': '있는 <b>핀테크</b>업체들이 우선 떠안는 모양새다. 28일 간편결제사인 네이버페이·카카오페이·토스페이... 선환불 시한을 못박은 <b>핀테크</b>업체는 네이버페이가 유일하다. 네이버페이 포인트 및 머니로 결제된 건은 즉시 환불되고... ',\n",
       "   'pubDate': 'Sun, 28 Jul 2024 19:08:00 +0900'},\n",
       "  {'title': '<b>핀테크</b> 업체들, 티몬·위메프 결제액 선환불 신청 접수 개시',\n",
       "   'originallink': 'http://mbn.mk.co.kr/pages/news/newsView.php?category=mbn00003&news_seq_no=5045315',\n",
       "   'link': 'https://n.news.naver.com/mnews/article/057/0001832396?sid=101',\n",
       "   'description': '네이버페이 등 <b>핀테크</b> 업체들이 오늘(28일) 정산 지연 사태를 빚고 있는 티몬과 위메프 이용자들을 대상으로... 선환불 시한을 못 박은 <b>핀테크</b> 업체는 네이버페이가 유일합니다. 네이버페이 포인트 및 머니로 결제된 건은... ',\n",
       "   'pubDate': 'Sun, 28 Jul 2024 11:41:00 +0900'}]}"
      ]
     },
     "execution_count": 19,
     "metadata": {},
     "output_type": "execute_result"
    }
   ],
   "source": [
    "data"
   ]
  },
  {
   "cell_type": "code",
   "execution_count": 21,
   "id": "ac567c80",
   "metadata": {},
   "outputs": [
    {
     "data": {
      "text/plain": [
       "[{'title': '티몬·위메프 사태 파장 직격탄에 <b>핀테크</b>업계 ‘울상’',\n",
       "  'originallink': 'https://www.dailian.co.kr/news/view/1391156/?sc=Naver',\n",
       "  'link': 'https://n.news.naver.com/mnews/article/119/0002857846?sid=101',\n",
       "  'description': '위메프·티몬(티메프) 판매대금 정산 지연 사태로 인해 <b>핀테크</b> 업계에도 긴장감이 맴돌고 있다. 이커머스와 연계된 카드사 등 금융권은 물론 물론 결제대행업체(PG사), 간편결제 업체, 초기 스타트업(신생벤처) <b>핀테크</b>... ',\n",
       "  'pubDate': 'Fri, 02 Aug 2024 06:00:00 +0900'},\n",
       " {'title': '[마켓인]코스닥 상장 뱅크웨어글로벌…한투파 &quot;<b>핀테크</b> 육성 결실&quot;',\n",
       "  'originallink': 'http://www.edaily.co.kr/news/newspath.asp?newsid=01403846638983384',\n",
       "  'link': 'https://n.news.naver.com/mnews/article/018/0005803193?sid=101',\n",
       "  'description': '한국투자파트너스(한투파)가 운용 중인 <b>핀테크</b>혁신펀드에서 첫 코스닥 상장 사례가 나올 전망이다.... 캐피탈사, <b>핀테크</b>사 등 100여 개 금융 고객사에 서비스하고 있다. 중국 알리바바의 인터넷 은행인 마이뱅크와 한국... ',\n",
       "  'pubDate': 'Fri, 02 Aug 2024 08:21:00 +0900'},\n",
       " {'title': '아르고스, 코리아 <b>핀테크</b> 위크 2024 참가',\n",
       "  'originallink': 'https://www.etnews.com/20240801000339',\n",
       "  'link': 'https://n.news.naver.com/mnews/article/030/0003228587?sid=101',\n",
       "  'description': '코리아 <b>핀테크</b> 위크 2024에 참가한다. 아르고스는 비대면 환경에서 AI와 데이터를 기반으로 신분증 및... 특히 해외 진출을 목표하고 있는 <b>핀테크</b> 스타트업은 글로벌 서비스까지 커버가 가능한 아이덴티티 플랫폼... ',\n",
       "  'pubDate': 'Thu, 01 Aug 2024 16:48:00 +0900'},\n",
       " {'title': \"한투파트너스, '<b>핀테크</b>혁신펀드' 1호 상장 일궜다\",\n",
       "  'originallink': 'https://www.newstof.com/news/articleView.html?idxno=23455',\n",
       "  'link': 'https://www.newstof.com/news/articleView.html?idxno=23455',\n",
       "  'description': '한국투자금융지주 계열 벤처캐피탈인 한국투자파트너스가 <b>핀테크</b>혁신펀드 위탁운용사(GP) 가운데 처음으로 <b>핀테크</b> 기업을 상장시키는 성과를 거둘 전망이다. 3년 전 투자한 뱅크웨어글로벌이 오는 12일 기술특례... ',\n",
       "  'pubDate': 'Fri, 02 Aug 2024 11:00:00 +0900'},\n",
       " {'title': '<b>핀테크</b> 업체들, 티몬·위메프 결제액 선환불 신청 접수 개시',\n",
       "  'originallink': 'https://www.yna.co.kr/view/AKR20240728021200017?input=1195m',\n",
       "  'link': 'https://n.news.naver.com/mnews/article/001/0014835156?sid=105',\n",
       "  'description': '네이버페이는 48시간 이내 처리 약속 네이버페이 등 <b>핀테크</b> 업체들이 28일 정산 지연 사태를 빚고 있는... 선환불 시한을 못 박은 <b>핀테크</b> 업체는 네이버페이가 유일하다. 네이버페이 포인트 및 머니로 결제된 건은 즉시... ',\n",
       "  'pubDate': 'Sun, 28 Jul 2024 10:52:00 +0900'},\n",
       " {'title': '아르고스 아이덴티티, ‘코리아 <b>핀테크</b> 위크 2024’ 참가',\n",
       "  'originallink': 'https://www.venturesquare.net/934733',\n",
       "  'link': 'https://www.venturesquare.net/934733',\n",
       "  'description': 'AI 기반의 아이덴티티 플랫폼 기업 아르고스 아이덴티티(ARGOS Identity)가 다가오는 8월 27일부터 29일까지 서울 동대문 디지털 플라자(DDP)에서 열리는 코리아 <b>핀테크</b> 위크 2024에 참가해 <b>핀테크</b> 기업을 위한 솔루션을... ',\n",
       "  'pubDate': 'Thu, 01 Aug 2024 14:29:00 +0900'},\n",
       " {'title': \"티메프 사태 '<b>핀테크</b> 스타트업'도 불똥…정부 지원도 '사각지대'\",\n",
       "  'originallink': 'http://news.mt.co.kr/mtview.php?no=2024073114460214594',\n",
       "  'link': 'https://n.news.naver.com/mnews/article/008/0005071503?sid=101',\n",
       "  'description': \"'티메프(티몬·위메프)' 사태가 '셀러(판매자) 선정산' 서비스를 제공하는 <b>핀테크</b> 기업들에도 영향을 미치고... 국내 대표적인 선정산 스타트업은 올라<b>핀테크</b>, 에스씨엠솔루션(셀러라인), 데일리페이, 디에스솔루션즈... \",\n",
       "  'pubDate': 'Thu, 01 Aug 2024 07:00:00 +0900'},\n",
       " {'title': '<b>핀테크</b> 업체들, 티메프 결제액 선환불 신청 접수 개시',\n",
       "  'originallink': 'https://biz.chosun.com/stock/finance/2024/07/28/B5S6DBQZYBAU3HLWN7S3CDRJMA/?utm_source=naver&utm_medium=original&utm_campaign=biz',\n",
       "  'link': 'https://n.news.naver.com/mnews/article/366/0001008072?sid=101',\n",
       "  'description': '네이버페이 등 <b>핀테크</b> 업체들이 28일 정산 지연 사태를 빚고 있는 티몬과 위메프 이용자들을 대상으로... 선환불 시한을 못 박은 <b>핀테크</b> 업체는 네이버페이가 유일하다. 네이버페이 포인트 및 머니로 결제된 건은 즉시... ',\n",
       "  'pubDate': 'Sun, 28 Jul 2024 11:21:00 +0900'},\n",
       " {'title': '<b>핀테크</b> 업체들 ‘티메프 사태’ 소방수로…“환불 규모 가늠 못 해”',\n",
       "  'originallink': 'https://www.hani.co.kr/arti/economy/economy_general/1151093.html',\n",
       "  'link': 'https://n.news.naver.com/mnews/article/028/0002700119?sid=101',\n",
       "  'description': '있는 <b>핀테크</b>업체들이 우선 떠안는 모양새다. 28일 간편결제사인 네이버페이·카카오페이·토스페이... 선환불 시한을 못박은 <b>핀테크</b>업체는 네이버페이가 유일하다. 네이버페이 포인트 및 머니로 결제된 건은 즉시 환불되고... ',\n",
       "  'pubDate': 'Sun, 28 Jul 2024 19:08:00 +0900'},\n",
       " {'title': '<b>핀테크</b> 업체들, 티몬·위메프 결제액 선환불 신청 접수 개시',\n",
       "  'originallink': 'http://mbn.mk.co.kr/pages/news/newsView.php?category=mbn00003&news_seq_no=5045315',\n",
       "  'link': 'https://n.news.naver.com/mnews/article/057/0001832396?sid=101',\n",
       "  'description': '네이버페이 등 <b>핀테크</b> 업체들이 오늘(28일) 정산 지연 사태를 빚고 있는 티몬과 위메프 이용자들을 대상으로... 선환불 시한을 못 박은 <b>핀테크</b> 업체는 네이버페이가 유일합니다. 네이버페이 포인트 및 머니로 결제된 건은... ',\n",
       "  'pubDate': 'Sun, 28 Jul 2024 11:41:00 +0900'}]"
      ]
     },
     "execution_count": 21,
     "metadata": {},
     "output_type": "execute_result"
    }
   ],
   "source": [
    "data['items']"
   ]
  },
  {
   "cell_type": "code",
   "execution_count": 22,
   "id": "abdc93f1",
   "metadata": {},
   "outputs": [
    {
     "data": {
      "text/plain": [
       "{'title': '티몬·위메프 사태 파장 직격탄에 <b>핀테크</b>업계 ‘울상’',\n",
       " 'originallink': 'https://www.dailian.co.kr/news/view/1391156/?sc=Naver',\n",
       " 'link': 'https://n.news.naver.com/mnews/article/119/0002857846?sid=101',\n",
       " 'description': '위메프·티몬(티메프) 판매대금 정산 지연 사태로 인해 <b>핀테크</b> 업계에도 긴장감이 맴돌고 있다. 이커머스와 연계된 카드사 등 금융권은 물론 물론 결제대행업체(PG사), 간편결제 업체, 초기 스타트업(신생벤처) <b>핀테크</b>... ',\n",
       " 'pubDate': 'Fri, 02 Aug 2024 06:00:00 +0900'}"
      ]
     },
     "execution_count": 22,
     "metadata": {},
     "output_type": "execute_result"
    }
   ],
   "source": [
    "data['items'][0]"
   ]
  },
  {
   "cell_type": "code",
   "execution_count": null,
   "id": "d3c28526",
   "metadata": {},
   "outputs": [],
   "source": [
    "df = pd.json_normalize(data['items'])\n",
    "df\n",
    "\n",
    "# 위에 'items' 안에 뉴스 리스트들이 있다."
   ]
  },
  {
   "cell_type": "markdown",
   "id": "900eca92",
   "metadata": {},
   "source": [
    "## 날짜 로직"
   ]
  },
  {
   "cell_type": "code",
   "execution_count": 23,
   "id": "b357ded4",
   "metadata": {},
   "outputs": [
    {
     "data": {
      "text/plain": [
       "'Fri, 02 Aug 2024 06:00:00 +0900'"
      ]
     },
     "execution_count": 23,
     "metadata": {},
     "output_type": "execute_result"
    }
   ],
   "source": [
    "# step1 \n",
    "\n",
    "data['items'][0]['pubDate']"
   ]
  },
  {
   "cell_type": "code",
   "execution_count": 26,
   "id": "e484702c",
   "metadata": {},
   "outputs": [
    {
     "name": "stdout",
     "output_type": "stream",
     "text": [
      "02 Aug 2024\n"
     ]
    }
   ],
   "source": [
    "# step2\n",
    "\n",
    "today = date.today()\n",
    "formatted_date = today.strftime(\"%d %b %Y\")\n",
    "print(formatted_date)"
   ]
  },
  {
   "cell_type": "code",
   "execution_count": 27,
   "id": "cefd2c12",
   "metadata": {},
   "outputs": [
    {
     "data": {
      "text/plain": [
       "True"
      ]
     },
     "execution_count": 27,
     "metadata": {},
     "output_type": "execute_result"
    }
   ],
   "source": [
    "# step1 과 step2 가 같은가?\n",
    "\n",
    "formatted_date in data['items'][0]['pubDate']"
   ]
  },
  {
   "cell_type": "code",
   "execution_count": null,
   "id": "0ba88f28",
   "metadata": {},
   "outputs": [],
   "source": []
  },
  {
   "cell_type": "code",
   "execution_count": 38,
   "id": "01b498fe",
   "metadata": {},
   "outputs": [
    {
     "name": "stdout",
     "output_type": "stream",
     "text": [
      "title 티몬·위메프 사태 파장 직격탄에 <b>핀테크</b>업계 ‘울상’\n",
      "originallink https://www.dailian.co.kr/news/view/1391156/?sc=Naver\n",
      "link https://n.news.naver.com/mnews/article/119/0002857846?sid=101\n",
      "description 위메프·티몬(티메프) 판매대금 정산 지연 사태로 인해 <b>핀테크</b> 업계에도 긴장감이 맴돌고 있다. 이커머스와 연계된 카드사 등 금융권은 물론 물론 결제대행업체(PG사), 간편결제 업체, 초기 스타트업(신생벤처) <b>핀테크</b>... \n",
      "pubDate Fri, 02 Aug 2024 06:00:00 +0900\n",
      "title [마켓인]코스닥 상장 뱅크웨어글로벌…한투파 &quot;<b>핀테크</b> 육성 결실&quot;\n",
      "originallink http://www.edaily.co.kr/news/newspath.asp?newsid=01403846638983384\n",
      "link https://n.news.naver.com/mnews/article/018/0005803193?sid=101\n",
      "description 한국투자파트너스(한투파)가 운용 중인 <b>핀테크</b>혁신펀드에서 첫 코스닥 상장 사례가 나올 전망이다.... 캐피탈사, <b>핀테크</b>사 등 100여 개 금융 고객사에 서비스하고 있다. 중국 알리바바의 인터넷 은행인 마이뱅크와 한국... \n",
      "pubDate Fri, 02 Aug 2024 08:21:00 +0900\n"
     ]
    }
   ],
   "source": [
    "for item in data['items'][:2]:\n",
    "    if formatted_date in item['pubDate']:\n",
    "        for key in item.keys():\n",
    "            print(key, item[key])\n",
    "    else:\n",
    "        break"
   ]
  },
  {
   "cell_type": "code",
   "execution_count": 9,
   "id": "dfe386e1",
   "metadata": {},
   "outputs": [],
   "source": [
    "def text_clean(x):\n",
    "    x = x.replace(\"&quot:\", \"\").replace(\"<b>\", \"\").replace(\"</b>\", \"\")\n",
    "    return x"
   ]
  },
  {
   "cell_type": "code",
   "execution_count": 46,
   "id": "ce5e5e52",
   "metadata": {},
   "outputs": [
    {
     "data": {
      "text/plain": [
       "{'title': ['티몬·위메프 사태 파장 직격탄에 핀테크업계 ‘울상’',\n",
       "  '[마켓인]코스닥 상장 뱅크웨어글로벌…한투파 &quot;핀테크 육성 결실&quot;'],\n",
       " 'originallink': ['https://www.dailian.co.kr/news/view/1391156/?sc=Naver',\n",
       "  'http://www.edaily.co.kr/news/newspath.asp?newsid=01403846638983384'],\n",
       " 'link': ['https://n.news.naver.com/mnews/article/119/0002857846?sid=101',\n",
       "  'https://n.news.naver.com/mnews/article/018/0005803193?sid=101'],\n",
       " 'description': ['위메프·티몬(티메프) 판매대금 정산 지연 사태로 인해 핀테크 업계에도 긴장감이 맴돌고 있다. 이커머스와 연계된 카드사 등 금융권은 물론 물론 결제대행업체(PG사), 간편결제 업체, 초기 스타트업(신생벤처) 핀테크... ',\n",
       "  '한국투자파트너스(한투파)가 운용 중인 핀테크혁신펀드에서 첫 코스닥 상장 사례가 나올 전망이다.... 캐피탈사, 핀테크사 등 100여 개 금융 고객사에 서비스하고 있다. 중국 알리바바의 인터넷 은행인 마이뱅크와 한국... '],\n",
       " 'pubDate': ['Fri, 02 Aug 2024 06:00:00 +0900',\n",
       "  'Fri, 02 Aug 2024 08:21:00 +0900']}"
      ]
     },
     "execution_count": 46,
     "metadata": {},
     "output_type": "execute_result"
    }
   ],
   "source": [
    "result = {}\n",
    "\n",
    "for item in data['items']:\n",
    "    if formatted_date in item['pubDate']:\n",
    "        for key in item.keys():\n",
    "            result.setdefault(key, []).append(text_clean(item[key]))\n",
    "    else:\n",
    "        break\n",
    "result"
   ]
  },
  {
   "cell_type": "code",
   "execution_count": null,
   "id": "2bb1e6e2",
   "metadata": {},
   "outputs": [],
   "source": []
  },
  {
   "cell_type": "code",
   "execution_count": null,
   "id": "05c26d61",
   "metadata": {},
   "outputs": [],
   "source": []
  },
  {
   "cell_type": "code",
   "execution_count": null,
   "id": "1d917382",
   "metadata": {},
   "outputs": [],
   "source": []
  },
  {
   "cell_type": "code",
   "execution_count": null,
   "id": "2aaa3c6c",
   "metadata": {},
   "outputs": [],
   "source": [
    "dbio.news_to_db(\"fintech_news_test\", str(today), df)"
   ]
  },
  {
   "cell_type": "code",
   "execution_count": null,
   "id": "2d090091",
   "metadata": {},
   "outputs": [],
   "source": []
  },
  {
   "cell_type": "code",
   "execution_count": null,
   "id": "0fd8b181",
   "metadata": {},
   "outputs": [],
   "source": []
  },
  {
   "cell_type": "code",
   "execution_count": null,
   "id": "cd0e0afd",
   "metadata": {},
   "outputs": [],
   "source": []
  },
  {
   "cell_type": "code",
   "execution_count": null,
   "id": "f485a15d",
   "metadata": {},
   "outputs": [],
   "source": []
  },
  {
   "cell_type": "code",
   "execution_count": null,
   "id": "191e47a0",
   "metadata": {},
   "outputs": [],
   "source": []
  },
  {
   "cell_type": "code",
   "execution_count": null,
   "id": "3860a3b1",
   "metadata": {},
   "outputs": [],
   "source": []
  },
  {
   "cell_type": "code",
   "execution_count": null,
   "id": "9236fa6e",
   "metadata": {},
   "outputs": [],
   "source": []
  },
  {
   "cell_type": "code",
   "execution_count": null,
   "id": "f02161af",
   "metadata": {},
   "outputs": [],
   "source": []
  },
  {
   "cell_type": "code",
   "execution_count": null,
   "id": "42f00501",
   "metadata": {},
   "outputs": [],
   "source": []
  },
  {
   "cell_type": "code",
   "execution_count": null,
   "id": "74e21057",
   "metadata": {},
   "outputs": [],
   "source": []
  },
  {
   "cell_type": "code",
   "execution_count": null,
   "id": "3e45bd76",
   "metadata": {},
   "outputs": [],
   "source": []
  },
  {
   "cell_type": "code",
   "execution_count": null,
   "id": "74f31717",
   "metadata": {},
   "outputs": [],
   "source": []
  },
  {
   "cell_type": "code",
   "execution_count": null,
   "id": "cb6867df",
   "metadata": {},
   "outputs": [],
   "source": []
  },
  {
   "cell_type": "code",
   "execution_count": null,
   "id": "ec7e647f",
   "metadata": {},
   "outputs": [],
   "source": []
  },
  {
   "cell_type": "code",
   "execution_count": null,
   "id": "a485a15f",
   "metadata": {},
   "outputs": [],
   "source": []
  },
  {
   "cell_type": "code",
   "execution_count": null,
   "id": "fc5a209b",
   "metadata": {},
   "outputs": [],
   "source": []
  },
  {
   "cell_type": "code",
   "execution_count": null,
   "id": "5e87ed59",
   "metadata": {},
   "outputs": [],
   "source": []
  },
  {
   "cell_type": "code",
   "execution_count": null,
   "id": "01fe6d9a",
   "metadata": {},
   "outputs": [],
   "source": []
  },
  {
   "cell_type": "code",
   "execution_count": null,
   "id": "e151cbdf",
   "metadata": {},
   "outputs": [],
   "source": []
  },
  {
   "cell_type": "code",
   "execution_count": null,
   "id": "11696084",
   "metadata": {},
   "outputs": [],
   "source": []
  },
  {
   "cell_type": "code",
   "execution_count": null,
   "id": "246d898e",
   "metadata": {},
   "outputs": [],
   "source": []
  },
  {
   "cell_type": "code",
   "execution_count": null,
   "id": "24f5c647",
   "metadata": {},
   "outputs": [],
   "source": []
  },
  {
   "cell_type": "code",
   "execution_count": null,
   "id": "10f92a74",
   "metadata": {},
   "outputs": [],
   "source": []
  }
 ],
 "metadata": {
  "kernelspec": {
   "display_name": "Python 3 (ipykernel)",
   "language": "python",
   "name": "python3"
  },
  "language_info": {
   "codemirror_mode": {
    "name": "ipython",
    "version": 3
   },
   "file_extension": ".py",
   "mimetype": "text/x-python",
   "name": "python",
   "nbconvert_exporter": "python",
   "pygments_lexer": "ipython3",
   "version": "3.10.14"
  }
 },
 "nbformat": 4,
 "nbformat_minor": 5
}
