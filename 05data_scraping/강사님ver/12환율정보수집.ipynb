{
 "cells": [
  {
   "cell_type": "markdown",
   "id": "e30f67ae",
   "metadata": {},
   "source": [
    "# 하나은행 환율정보를 수집"
   ]
  },
  {
   "cell_type": "code",
   "execution_count": 1,
   "id": "fe3a76c6",
   "metadata": {},
   "outputs": [],
   "source": [
    "# from selenium import webdriver\n",
    "# from selenium.webdriver.chrome.service import Service as ChromeService\n",
    "# from webdriver_manager.chrome import ChromeDriverManager\n",
    "# from selenium.webdriver.common.keys import Keys\n",
    "# from selenium.webdriver.common.by import By\n",
    "# from selenium.webdriver.support.ui import WebDriverWait\n",
    "# from selenium.webdriver.support import expected_conditions as EC\n",
    "# from bs4 import BeautifulSoup as bs\n",
    "# from datetime import date\n",
    "# import time\n",
    "# import pandas as pd\n",
    "# import dbio\n",
    "# import warnings\n",
    "# warnings.simplefilter(action='ignore', category=FutureWarning)"
   ]
  },
  {
   "cell_type": "code",
   "execution_count": 2,
   "id": "539d0dba",
   "metadata": {},
   "outputs": [],
   "source": [
    "# cols = ('통화', '현찰_살때_환율', '현찰_살때_Spread', '현찰_팔때_환율', '현찰_팔때_Spread', \n",
    "#        '송금_보낼때', '송금_받을때', 'T/C_살때', '외화_수표_팔때', '매매기준율', '환가_료율',\n",
    "#        '미화 환산율', 'date')\n",
    "# sorted_cols = ('date', '통화', '현찰_살때_환율', '현찰_살때_Spread', '현찰_팔때_환율', '현찰_팔때_Spread', \n",
    "#        '송금_보낼때', '송금_받을때', 'T/C_살때', '외화_수표_팔때', '매매기준율', '환가_료율',\n",
    "#        '미화 환산율')"
   ]
  },
  {
   "cell_type": "code",
   "execution_count": 3,
   "id": "708d0aa7",
   "metadata": {},
   "outputs": [],
   "source": [
    "# today = str(date.today())\n",
    "\n",
    "# # 크롬 옵션즈에 정보를 담아 사람인 것 처럼 만들기\n",
    "# options = webdriver.ChromeOptions()\n",
    "# options.add_argument(\"--headless\") # Headless모드\n",
    "# options.add_argument(\"--no-sandbox\")\n",
    "# options.add_argument(\"--disable-dev-shm-usage\")\n",
    "\n",
    "# # 크롬 웹브라우저 드라이버 자동 다운로드\n",
    "# driver = webdriver.Chrome(service=ChromeService(ChromeDriverManager().install()), options=options)\n",
    "# driver.set_window_size(1920, 1080) #웹브라우저 해상도 조절\n",
    "# driver.get(\"https://www.kebhana.com/cms/rate/index.do?contentUrl=/cms/rate/wpfxd651_01i.do#//HanaBank\")\n",
    "\n",
    "# wait = WebDriverWait(driver, 10)  # 웹 요소가 나타날 때까지 최대 10초 기다림.\n",
    "\n",
    "\n",
    "# # 날짜 입력창\n",
    "# serch_box = wait.until(EC.presence_of_element_located((By.CSS_SELECTOR, \"#tmpInqStrDt\")))\n",
    "# serch_box.clear()\n",
    "# serch_box.send_keys(today+Keys.ENTER)\n",
    "\n",
    "# # 조회 버튼\n",
    "# search_button = wait.until(EC.presence_of_element_located((By.CSS_SELECTOR, \"#HANA_CONTENTS_DIV > div.btnBoxCenter > a\")))\n",
    "# search_button.click()\n",
    "\n",
    "# # 환율 정보 테이블이 뜰 때까지 기다림\n",
    "# exchage_rate_table = wait.until(EC.presence_of_element_located((By.CSS_SELECTOR, \"#searchContentDiv > div.printdiv > table\")))\n",
    "\n",
    "# # HTML 소스를 읽어서 데이터프레임으로 만들고 DB저장                                \n",
    "# page_html = driver.page_source\n",
    "# df = pd.read_html(page_html)\n",
    "# df = df[1]\n",
    "# df['date'] = today # 날짜 컬럼 추가\n",
    "# df.columns = cols # cols에 정의한 컬럼명으로 변경하기\n",
    "# df = df[[*sorted_cols]] # date 컬럼을 가장 앞으로 보내기\n",
    "# # DB에 저장\n",
    "# dbio.exi_to_db(\"exchange_rate_test3\", today, df)  "
   ]
  },
  {
   "cell_type": "markdown",
   "id": "55f066a1",
   "metadata": {},
   "source": [
    "# 1995년1월3일부터 2024년7월31일까지 평일 환율 정보 수집"
   ]
  },
  {
   "cell_type": "code",
   "execution_count": 4,
   "id": "d6379149",
   "metadata": {},
   "outputs": [],
   "source": [
    "from selenium import webdriver\n",
    "from selenium.webdriver.chrome.service import Service as ChromeService\n",
    "from webdriver_manager.chrome import ChromeDriverManager\n",
    "from selenium.webdriver.common.keys import Keys\n",
    "from selenium.webdriver.common.by import By\n",
    "from selenium.webdriver.support.ui import WebDriverWait\n",
    "from selenium.webdriver.support import expected_conditions as EC\n",
    "from bs4 import BeautifulSoup as bs\n",
    "from datetime import date\n",
    "import time\n",
    "import pandas as pd\n",
    "import dbio\n",
    "import warnings\n",
    "warnings.simplefilter(action='ignore', category=FutureWarning)"
   ]
  },
  {
   "cell_type": "code",
   "execution_count": 5,
   "id": "e69eb946",
   "metadata": {},
   "outputs": [],
   "source": [
    "cols = ('통화', '현찰_살때_환율', '현찰_살때_Spread', '현찰_팔때_환율', '현찰_팔때_Spread', \n",
    "       '송금_보낼때', '송금_받을때', 'T/C_살때', '외화_수표_팔때', '매매기준율', '환가_료율',\n",
    "       '미화 환산율', 'date')\n",
    "sorted_cols = ('date', '통화', '현찰_살때_환율', '현찰_살때_Spread', '현찰_팔때_환율', '현찰_팔때_Spread', \n",
    "       '송금_보낼때', '송금_받을때', 'T/C_살때', '외화_수표_팔때', '매매기준율', '환가_료율',\n",
    "       '미화 환산율')"
   ]
  },
  {
   "cell_type": "markdown",
   "id": "82493cd8",
   "metadata": {},
   "source": [
    "# 날짜 리스트 생성하기"
   ]
  },
  {
   "cell_type": "code",
   "execution_count": 12,
   "id": "4585840b",
   "metadata": {},
   "outputs": [],
   "source": [
    "import datetime\n",
    "\n",
    "start_date = datetime.date(2024, 8, 1)\n",
    "end_date = datetime.date(2024, 8, 7)\n",
    "\n",
    "# 월-금요일에 해당하는 날짜 리스트 생성\n",
    "weekdays = [0, 1, 2, 3, 4]  # 월요일=0, 화요일=1, ..., 금요일=4\n",
    "date_list = []\n",
    "\n",
    "current_date = start_date\n",
    "while current_date <= end_date:\n",
    "    if current_date.weekday() in weekdays:\n",
    "        date_list.append(current_date)\n",
    "    current_date += datetime.timedelta(days=1)"
   ]
  },
  {
   "cell_type": "code",
   "execution_count": null,
   "id": "641688e7",
   "metadata": {},
   "outputs": [],
   "source": []
  },
  {
   "cell_type": "code",
   "execution_count": 13,
   "id": "9a7bc3a4",
   "metadata": {},
   "outputs": [
    {
     "name": "stdout",
     "output_type": "stream",
     "text": [
      "exchange_rate_2024-08-07, 저장완료                          \r"
     ]
    }
   ],
   "source": [
    "# 크롬 옵션즈에 정보를 담아 사람인 것 처럼 만들기\n",
    "options = webdriver.ChromeOptions()\n",
    "options.add_argument(\"--headless\") # Headless모드\n",
    "options.add_argument(\"--no-sandbox\")\n",
    "options.add_argument(\"--disable-dev-shm-usage\")\n",
    "\n",
    "\n",
    "\n",
    "# 크롬 웹브라우저 드라이버 자동 다운로드\n",
    "driver = webdriver.Chrome(service=ChromeService(ChromeDriverManager().install()), options=options)\n",
    "driver.set_window_size(1920, 1080) #웹브라우저 해상도 조절\n",
    "driver.get(\"https://www.kebhana.com/cms/rate/index.do?contentUrl=/cms/rate/wpfxd651_01i.do#//HanaBank\")\n",
    "wait = WebDriverWait(driver, 60)  # 웹 요소가 나타날 때까지 최대 10초 기다림.\n",
    "time.sleep(10)\n",
    "\n",
    "for weekday in date_list:\n",
    "    \n",
    "    today = str(weekday)\n",
    "    \n",
    "    # 날짜 입력창\n",
    "    serch_box = wait.until(EC.presence_of_element_located((By.CSS_SELECTOR, \"#tmpInqStrDt\")))\n",
    "    serch_box.clear()\n",
    "    serch_box.send_keys(today+Keys.ENTER)\n",
    "    time.sleep(2)\n",
    "\n",
    "    # 조회 버튼\n",
    "    search_button = wait.until(EC.presence_of_element_located((By.CSS_SELECTOR, \"#HANA_CONTENTS_DIV > div.btnBoxCenter > a\")))\n",
    "    search_button.click()\n",
    "    time.sleep(5)\n",
    "\n",
    "    # 환율 정보 테이블이 뜰 때까지 기다림\n",
    "    exchage_rate_table = wait.until(EC.presence_of_element_located((By.CSS_SELECTOR, \"#searchContentDiv > div.printdiv > table\")))\n",
    "\n",
    "    # HTML 소스를 읽어서 데이터프레임으로 만들고 DB저장                                \n",
    "    page_html = driver.page_source\n",
    "    df = pd.read_html(page_html)\n",
    "    df = df[1]\n",
    "    df['date'] = today # 날짜 컬럼 추가\n",
    "    df.columns = cols # cols에 정의한 컬럼명으로 변경하기\n",
    "    df = df[[*sorted_cols]] # date 컬럼을 가장 앞으로 보내기\n",
    "    # DB에 저장\n",
    "    dbio.exi_to_db(\"exchange_rate\", today, df)  \n",
    "driver.close()"
   ]
  },
  {
   "cell_type": "code",
   "execution_count": null,
   "id": "2d51d290",
   "metadata": {},
   "outputs": [],
   "source": []
  }
 ],
 "metadata": {
  "kernelspec": {
   "display_name": "Python 3 (ipykernel)",
   "language": "python",
   "name": "python3"
  },
  "language_info": {
   "codemirror_mode": {
    "name": "ipython",
    "version": 3
   },
   "file_extension": ".py",
   "mimetype": "text/x-python",
   "name": "python",
   "nbconvert_exporter": "python",
   "pygments_lexer": "ipython3",
   "version": "3.10.14"
  }
 },
 "nbformat": 4,
 "nbformat_minor": 5
}
