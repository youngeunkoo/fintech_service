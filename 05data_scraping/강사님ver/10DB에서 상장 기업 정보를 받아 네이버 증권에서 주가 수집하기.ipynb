{
 "cells": [
  {
   "cell_type": "markdown",
   "id": "e418fb93",
   "metadata": {},
   "source": [
    "# DB에서 상장 기업 정보를 받아 네이버 증권에서 주가 수집하기"
   ]
  },
  {
   "cell_type": "code",
   "execution_count": 1,
   "id": "f25e2744",
   "metadata": {},
   "outputs": [],
   "source": [
    "import os\n",
    "import pandas as pd\n",
    "import requests\n",
    "from bs4 import BeautifulSoup as bs\n",
    "from datetime import date\n",
    "from dotenv import load_dotenv\n",
    "from sqlalchemy import create_engine\n",
    "import pymysql\n",
    "import time"
   ]
  },
  {
   "cell_type": "code",
   "execution_count": 2,
   "id": "cac8f9db",
   "metadata": {},
   "outputs": [
    {
     "data": {
      "text/plain": [
       "True"
      ]
     },
     "execution_count": 2,
     "metadata": {},
     "output_type": "execute_result"
    }
   ],
   "source": [
    "pymysql.install_as_MySQLdb()\n",
    "load_dotenv(dotenv_path=\".env_db\")"
   ]
  },
  {
   "cell_type": "code",
   "execution_count": 3,
   "id": "4ab19591",
   "metadata": {},
   "outputs": [],
   "source": [
    "# mysql에서 테이블 불러오기\n",
    "engine = create_engine(f\"{os.getenv('db')}+{os.getenv('dbtype')}://{os.getenv('id')}:{os.getenv('pw')}@{os.getenv('host')}/{os.getenv('database')}\")\n",
    "conn = engine.connect()\n",
    "data = pd.read_sql('2024_07_29_stock_company_info', con=conn)\n",
    "conn.close()"
   ]
  },
  {
   "cell_type": "code",
   "execution_count": 4,
   "id": "a9d9ee82",
   "metadata": {},
   "outputs": [
    {
     "data": {
      "text/html": [
       "<div>\n",
       "<style scoped>\n",
       "    .dataframe tbody tr th:only-of-type {\n",
       "        vertical-align: middle;\n",
       "    }\n",
       "\n",
       "    .dataframe tbody tr th {\n",
       "        vertical-align: top;\n",
       "    }\n",
       "\n",
       "    .dataframe thead th {\n",
       "        text-align: right;\n",
       "    }\n",
       "</style>\n",
       "<table border=\"1\" class=\"dataframe\">\n",
       "  <thead>\n",
       "    <tr style=\"text-align: right;\">\n",
       "      <th></th>\n",
       "      <th>증권종류</th>\n",
       "      <th>회사명</th>\n",
       "      <th>종목코드</th>\n",
       "      <th>업종</th>\n",
       "      <th>주요제품</th>\n",
       "      <th>상장일</th>\n",
       "      <th>결산월</th>\n",
       "      <th>대표자명</th>\n",
       "      <th>홈페이지</th>\n",
       "      <th>지역</th>\n",
       "    </tr>\n",
       "  </thead>\n",
       "  <tbody>\n",
       "    <tr>\n",
       "      <th>0</th>\n",
       "      <td>유가증권</td>\n",
       "      <td>산일전기</td>\n",
       "      <td>062040</td>\n",
       "      <td>전동기, 발전기 및 전기 변환 · 공급 · 제어 장치 제조업</td>\n",
       "      <td>유입, 몰드, 주상, 건식 변압기 등</td>\n",
       "      <td>2024-07-29</td>\n",
       "      <td>12월</td>\n",
       "      <td>박동석</td>\n",
       "      <td>http://www.sanil.co.kr</td>\n",
       "      <td>경기도</td>\n",
       "    </tr>\n",
       "    <tr>\n",
       "      <th>1</th>\n",
       "      <td>유가증권</td>\n",
       "      <td>에이치에스효성</td>\n",
       "      <td>487570</td>\n",
       "      <td>기타 금융업</td>\n",
       "      <td>지주사업</td>\n",
       "      <td>2024-07-29</td>\n",
       "      <td>12월</td>\n",
       "      <td>조현상..</td>\n",
       "      <td>http://www.hshyosung.com</td>\n",
       "      <td>서울특별시</td>\n",
       "    </tr>\n",
       "    <tr>\n",
       "      <th>2</th>\n",
       "      <td>코스닥, 투자주의종목</td>\n",
       "      <td>엔에이치스팩31호</td>\n",
       "      <td>481890</td>\n",
       "      <td>금융 지원 서비스업</td>\n",
       "      <td>금융지원서비스업</td>\n",
       "      <td>2024-07-26</td>\n",
       "      <td>12월</td>\n",
       "      <td>이시형</td>\n",
       "      <td></td>\n",
       "      <td>서울특별시</td>\n",
       "    </tr>\n",
       "    <tr>\n",
       "      <th>3</th>\n",
       "      <td>코스닥</td>\n",
       "      <td>SK증권제13호스팩</td>\n",
       "      <td>473950</td>\n",
       "      <td>금융 지원 서비스업</td>\n",
       "      <td>기업인수목적 주식회사</td>\n",
       "      <td>2024-07-25</td>\n",
       "      <td>12월</td>\n",
       "      <td>임율표</td>\n",
       "      <td></td>\n",
       "      <td>서울특별시</td>\n",
       "    </tr>\n",
       "    <tr>\n",
       "      <th>4</th>\n",
       "      <td>코스닥</td>\n",
       "      <td>엑셀세라퓨틱스</td>\n",
       "      <td>373110</td>\n",
       "      <td>기초 의약물질 제조업</td>\n",
       "      <td>CellCor SFD/CD(세포배양배지)</td>\n",
       "      <td>2024-07-15</td>\n",
       "      <td>12월</td>\n",
       "      <td>이의일</td>\n",
       "      <td></td>\n",
       "      <td>서울특별시</td>\n",
       "    </tr>\n",
       "    <tr>\n",
       "      <th>...</th>\n",
       "      <td>...</td>\n",
       "      <td>...</td>\n",
       "      <td>...</td>\n",
       "      <td>...</td>\n",
       "      <td>...</td>\n",
       "      <td>...</td>\n",
       "      <td>...</td>\n",
       "      <td>...</td>\n",
       "      <td>...</td>\n",
       "      <td>...</td>\n",
       "    </tr>\n",
       "    <tr>\n",
       "      <th>2700</th>\n",
       "      <td>유가증권, KTOP30, KOSPI200, KRX300</td>\n",
       "      <td>유한양행</td>\n",
       "      <td>000100</td>\n",
       "      <td>의약품 제조업</td>\n",
       "      <td>의약품(삐콤씨, 안티푸라민, 렉라자, 로수바미브, 코푸시럽 등), 생활용품(유한락스...</td>\n",
       "      <td>1962-11-01</td>\n",
       "      <td>12월</td>\n",
       "      <td>대표이..</td>\n",
       "      <td>http://www.yuhan.co.kr</td>\n",
       "      <td>서울특별시</td>\n",
       "    </tr>\n",
       "    <tr>\n",
       "      <th>2701</th>\n",
       "      <td>유가증권, KOSPI200, KRX300</td>\n",
       "      <td>CJ대한통운</td>\n",
       "      <td>000120</td>\n",
       "      <td>도로 화물 운송업</td>\n",
       "      <td>Contract Logistics, 포워딩, 항만하역, 해운, 택배국제특송, SCM...</td>\n",
       "      <td>1956-07-02</td>\n",
       "      <td>12월</td>\n",
       "      <td>신영수..</td>\n",
       "      <td>http://www.cjlogistics.com</td>\n",
       "      <td>서울특별시</td>\n",
       "    </tr>\n",
       "    <tr>\n",
       "      <th>2702</th>\n",
       "      <td>유가증권</td>\n",
       "      <td>경방</td>\n",
       "      <td>000050</td>\n",
       "      <td>종합 소매업</td>\n",
       "      <td>섬유류(면사,면혼방사,면직물,면혼방직물,화섬사,화섬직물) 제조,도매,수출입</td>\n",
       "      <td>1956-03-03</td>\n",
       "      <td>12월</td>\n",
       "      <td>김준,..</td>\n",
       "      <td>http://www.kyungbang.co.kr</td>\n",
       "      <td>서울특별시</td>\n",
       "    </tr>\n",
       "    <tr>\n",
       "      <th>2703</th>\n",
       "      <td>유가증권</td>\n",
       "      <td>유수홀딩스</td>\n",
       "      <td>000700</td>\n",
       "      <td>회사 본부 및 경영 컨설팅 서비스업</td>\n",
       "      <td>지주사업</td>\n",
       "      <td>1956-03-03</td>\n",
       "      <td>12월</td>\n",
       "      <td>송영규</td>\n",
       "      <td>http://www.eusu-holdings.com</td>\n",
       "      <td>서울특별시</td>\n",
       "    </tr>\n",
       "    <tr>\n",
       "      <th>2704</th>\n",
       "      <td>유가증권</td>\n",
       "      <td>한진중공업홀딩스</td>\n",
       "      <td>003480</td>\n",
       "      <td>연료용 가스 제조 및 배관공급업</td>\n",
       "      <td>지주회사</td>\n",
       "      <td>1956-03-03</td>\n",
       "      <td>12월</td>\n",
       "      <td>조남호..</td>\n",
       "      <td>http://www.hhic-holdings.com</td>\n",
       "      <td>경기도</td>\n",
       "    </tr>\n",
       "  </tbody>\n",
       "</table>\n",
       "<p>2705 rows × 10 columns</p>\n",
       "</div>"
      ],
      "text/plain": [
       "                                증권종류            회사명    종목코드  \\\n",
       "0                               유가증권          산일전기   062040   \n",
       "1                               유가증권       에이치에스효성   487570   \n",
       "2                        코스닥, 투자주의종목    엔에이치스팩31호    481890   \n",
       "3                                코스닥    SK증권제13호스팩   473950   \n",
       "4                                코스닥       엑셀세라퓨틱스   373110   \n",
       "...                              ...            ...     ...   \n",
       "2700  유가증권, KTOP30, KOSPI200, KRX300       유한양행      000100   \n",
       "2701          유가증권, KOSPI200, KRX300      CJ대한통운     000120   \n",
       "2702                            유가증권            경방   000050   \n",
       "2703                            유가증권         유수홀딩스   000700   \n",
       "2704                            유가증권      한진중공업홀딩스   003480   \n",
       "\n",
       "                                     업종  \\\n",
       "0     전동기, 발전기 및 전기 변환 · 공급 · 제어 장치 제조업   \n",
       "1                                기타 금융업   \n",
       "2                            금융 지원 서비스업   \n",
       "3                            금융 지원 서비스업   \n",
       "4                           기초 의약물질 제조업   \n",
       "...                                 ...   \n",
       "2700                            의약품 제조업   \n",
       "2701                          도로 화물 운송업   \n",
       "2702                             종합 소매업   \n",
       "2703                회사 본부 및 경영 컨설팅 서비스업   \n",
       "2704                  연료용 가스 제조 및 배관공급업   \n",
       "\n",
       "                                                   주요제품         상장일  결산월  \\\n",
       "0                                  유입, 몰드, 주상, 건식 변압기 등  2024-07-29  12월   \n",
       "1                                                  지주사업  2024-07-29  12월   \n",
       "2                                              금융지원서비스업  2024-07-26  12월   \n",
       "3                                           기업인수목적 주식회사  2024-07-25  12월   \n",
       "4                                CellCor SFD/CD(세포배양배지)  2024-07-15  12월   \n",
       "...                                                 ...         ...  ...   \n",
       "2700  의약품(삐콤씨, 안티푸라민, 렉라자, 로수바미브, 코푸시럽 등), 생활용품(유한락스...  1962-11-01  12월   \n",
       "2701  Contract Logistics, 포워딩, 항만하역, 해운, 택배국제특송, SCM...  1956-07-02  12월   \n",
       "2702          섬유류(면사,면혼방사,면직물,면혼방직물,화섬사,화섬직물) 제조,도매,수출입  1956-03-03  12월   \n",
       "2703                                               지주사업  1956-03-03  12월   \n",
       "2704                                               지주회사  1956-03-03  12월   \n",
       "\n",
       "       대표자명                          홈페이지     지역  \n",
       "0       박동석        http://www.sanil.co.kr    경기도  \n",
       "1     조현상..      http://www.hshyosung.com  서울특별시  \n",
       "2       이시형                                서울특별시  \n",
       "3       임율표                                서울특별시  \n",
       "4       이의일                                서울특별시  \n",
       "...     ...                           ...    ...  \n",
       "2700  대표이..        http://www.yuhan.co.kr  서울특별시  \n",
       "2701  신영수..    http://www.cjlogistics.com  서울특별시  \n",
       "2702  김준,..    http://www.kyungbang.co.kr  서울특별시  \n",
       "2703    송영규  http://www.eusu-holdings.com  서울특별시  \n",
       "2704  조남호..  http://www.hhic-holdings.com    경기도  \n",
       "\n",
       "[2705 rows x 10 columns]"
      ]
     },
     "execution_count": 4,
     "metadata": {},
     "output_type": "execute_result"
    }
   ],
   "source": [
    "data"
   ]
  },
  {
   "cell_type": "code",
   "execution_count": 5,
   "id": "ee7bea0c",
   "metadata": {},
   "outputs": [],
   "source": [
    "def str2int(x):\n",
    "    x = int(x.replace(\",\", \"\"))\n",
    "    return x"
   ]
  },
  {
   "cell_type": "code",
   "execution_count": 79,
   "id": "e6a28845",
   "metadata": {},
   "outputs": [
    {
     "name": "stdout",
     "output_type": "stream",
     "text": [
      "200 372/2705 수집중\r"
     ]
    },
    {
     "ename": "KeyboardInterrupt",
     "evalue": "",
     "output_type": "error",
     "traceback": [
      "\u001b[1;31m---------------------------------------------------------------------------\u001b[0m",
      "\u001b[1;31mKeyboardInterrupt\u001b[0m                         Traceback (most recent call last)",
      "Cell \u001b[1;32mIn[79], line 20\u001b[0m\n\u001b[0;32m     18\u001b[0m         \u001b[38;5;28;01mfor\u001b[39;00m td \u001b[38;5;129;01min\u001b[39;00m tr\u001b[38;5;241m.\u001b[39mselect(\u001b[38;5;124m'\u001b[39m\u001b[38;5;124mtd\u001b[39m\u001b[38;5;124m'\u001b[39m):\n\u001b[0;32m     19\u001b[0m             stock_price_detail\u001b[38;5;241m.\u001b[39msetdefault(td\u001b[38;5;241m.\u001b[39mselect_one(\u001b[38;5;124m'\u001b[39m\u001b[38;5;124mspan\u001b[39m\u001b[38;5;124m'\u001b[39m)\u001b[38;5;241m.\u001b[39mtext, [])\u001b[38;5;241m.\u001b[39mappend(str2int(td\u001b[38;5;241m.\u001b[39mselect_one(\u001b[38;5;124m\"\u001b[39m\u001b[38;5;124mspan.blind\u001b[39m\u001b[38;5;124m\"\u001b[39m)\u001b[38;5;241m.\u001b[39mtext))\n\u001b[1;32m---> 20\u001b[0m     \u001b[43mtime\u001b[49m\u001b[38;5;241;43m.\u001b[39;49m\u001b[43msleep\u001b[49m\u001b[43m(\u001b[49m\u001b[38;5;241;43m5\u001b[39;49m\u001b[43m)\u001b[49m\n\u001b[0;32m     21\u001b[0m stock_price_detail\n",
      "\u001b[1;31mKeyboardInterrupt\u001b[0m: "
     ]
    }
   ],
   "source": [
    "stock_price_detail = {}\n",
    "for idx, code in enumerate(data['종목코드']):\n",
    "    url = f\"https://finance.naver.com/item/main.naver?code={code}\" \n",
    "    r = requests.get(url)\n",
    "    print(r.status_code, f\"{idx+1}/{len(data['종목코드'])} 수집중\", end=\"\\r\")\n",
    "    soup = bs(r.text, 'lxml')\n",
    "    # 가격\n",
    "    price = int((soup.select_one(\".today\").text).strip(\"\\n\").split(\"\\n\")[1].replace(\",\", \"\"))\n",
    "    # 변동금액\n",
    "    price_chage = int((soup.select_one(\".today\").text).strip(\"\\n\").split(\"\\n\")[9].replace(\",\", \"\"))\n",
    "    # 변화율\n",
    "    rate_of_chage = float(((soup.select_one(\".today\").text).strip(\"\\n\").split(\"\\n\")[13]+(soup.select_one(\".today\").text).strip(\"\\n\").split(\"\\n\")[15]).replace(\"%\",\"\"))\n",
    "    stock_price_detail.setdefault('현재가', []).append(price)\n",
    "    stock_price_detail.setdefault('변동금액', []).append(price_chage)\n",
    "    stock_price_detail.setdefault('변화율', []).append(rate_of_chage)\n",
    "    table = soup.select_one(\".no_info\")\n",
    "    for tr in table.select(\"tr\"):\n",
    "        for td in tr.select('td'):\n",
    "            stock_price_detail.setdefault(td.select_one('span').text, []).append(str2int(td.select_one(\"span.blind\").text))\n",
    "    time.sleep(5)\n",
    "stock_price_detail"
   ]
  },
  {
   "cell_type": "markdown",
   "id": "7ada8e0c",
   "metadata": {},
   "source": [
    "# 수집과 동시에 DB에 저장하기 + 예외처리 하기"
   ]
  },
  {
   "cell_type": "code",
   "execution_count": 7,
   "id": "84dd69e6",
   "metadata": {},
   "outputs": [
    {
     "name": "stdout",
     "output_type": "stream",
     "text": [
      "2024_07\n"
     ]
    }
   ],
   "source": [
    "today = str(date.today()).replace(\"-\",\"_\")\n",
    "print(today[:7])"
   ]
  },
  {
   "cell_type": "code",
   "execution_count": 9,
   "id": "2a9a762e",
   "metadata": {},
   "outputs": [
    {
     "data": {
      "text/plain": [
       "'2024-07-30'"
      ]
     },
     "execution_count": 9,
     "metadata": {},
     "output_type": "execute_result"
    }
   ],
   "source": [
    "str(date.today())"
   ]
  },
  {
   "cell_type": "code",
   "execution_count": 10,
   "id": "148455df",
   "metadata": {},
   "outputs": [],
   "source": [
    "# DB에 접속해서 저장하는 함수\n",
    "def stock_info_to_db(idx, code, df):\n",
    "    from sqlalchemy import create_engine\n",
    "    import pymysql\n",
    "    from dotenv import load_dotenv\n",
    "    from datetime import date\n",
    "    pymysql.install_as_MySQLdb()\n",
    "    load_dotenv(dotenv_path=\".env_db\")\n",
    "    today = str(date.today()).replace(\"-\",\"_\")\n",
    "    \n",
    "    engine = create_engine(f\"{os.getenv('db')}+{os.getenv('dbtype')}://{os.getenv('id')}:{os.getenv('pw')}@{os.getenv('host')}/{os.getenv('database')}\")\n",
    "    conn = engine.connect()\n",
    "    df.to_sql(f\"{today[:7]}_stock_price_info\", con=conn, if_exists='append', index=False)\n",
    "    conn.close()\n",
    "    \n",
    "    return print(f\"{today}, {idx}, {code}, {'저장완료':<30s}\", end=\"\\r\")\n",
    "    "
   ]
  },
  {
   "cell_type": "code",
   "execution_count": 11,
   "id": "e5d14979",
   "metadata": {},
   "outputs": [
    {
     "name": "stdout",
     "output_type": "stream",
     "text": [
      "2024_07_30, 9, 481850, 저장완료                          \r"
     ]
    },
    {
     "data": {
      "text/plain": [
       "{'수집일': ['2024-07-30'],\n",
       " '회사명': ['  신한글로벌액티브리츠 '],\n",
       " '종목코드': ['481850'],\n",
       " '현재가': [2840],\n",
       " '변동금액': [25],\n",
       " '변화율': [-0.87],\n",
       " '전일': [2865],\n",
       " '고가': [2855],\n",
       " '거래량': [28607],\n",
       " '시가': [2855],\n",
       " '저가': [2835],\n",
       " '거래대금': [81]}"
      ]
     },
     "execution_count": 11,
     "metadata": {},
     "output_type": "execute_result"
    }
   ],
   "source": [
    "errors = {}\n",
    "for idx, (company, code) in enumerate(zip(data['회사명'][:10], data['종목코드'][:10])):\n",
    "    stock_price_detail = {}\n",
    "    url = f\"https://finance.naver.com/item/main.naver?code={code}\" \n",
    "    try:\n",
    "        r = requests.get(url)\n",
    "        print(r.status_code, f\"{idx+1}/{len(data['종목코드'])} 수집중                    \", end=\"\\r\")\n",
    "        soup = bs(r.text, 'lxml')\n",
    "        # 가격\n",
    "        price = int((soup.select_one(\".today\").text).strip(\"\\n\").split(\"\\n\")[1].replace(\",\", \"\"))\n",
    "        # 변동금액\n",
    "        price_chage = int((soup.select_one(\".today\").text).strip(\"\\n\").split(\"\\n\")[9].replace(\",\", \"\"))\n",
    "        # 변화율\n",
    "        rate_of_chage = float(((soup.select_one(\".today\").text).strip(\"\\n\").split(\"\\n\")[13]+(soup.select_one(\".today\").text).strip(\"\\n\").split(\"\\n\")[15]).replace(\"%\",\"\"))\n",
    "        stock_price_detail.setdefault('수집일',[]).append(str(date.today()))\n",
    "        stock_price_detail.setdefault('회사명', []).append(company)\n",
    "        stock_price_detail.setdefault('종목코드', []).append(code)\n",
    "        stock_price_detail.setdefault('현재가', []).append(price)\n",
    "        stock_price_detail.setdefault('변동금액', []).append(price_chage)\n",
    "        stock_price_detail.setdefault('변화율', []).append(rate_of_chage)\n",
    "        table = soup.select_one(\".no_info\")\n",
    "        for tr in table.select(\"tr\"):\n",
    "            for td in tr.select('td'):\n",
    "                stock_price_detail.setdefault(td.select_one('span').text, []).append(str2int(td.select_one(\"span.blind\").text))\n",
    "        df = pd.DataFrame(stock_price_detail)\n",
    "        stock_info_to_db(idx, code, df)\n",
    "        time.sleep(5)\n",
    "    except Exception as e:\n",
    "        print(e)\n",
    "        print(r.status_code, f\"{idx+1}/{len(data['종목코드'])} 수집중 에러\", end=\"\\r\")\n",
    "        errors.setdefault(\"에러\", []).append(code)  # 에러난 코드들 모음\n",
    "        \n",
    "stock_price_detail"
   ]
  },
  {
   "cell_type": "code",
   "execution_count": null,
   "id": "e74d7bf2",
   "metadata": {},
   "outputs": [],
   "source": []
  },
  {
   "cell_type": "code",
   "execution_count": null,
   "id": "4a7e1e99",
   "metadata": {},
   "outputs": [],
   "source": []
  },
  {
   "cell_type": "code",
   "execution_count": null,
   "id": "60c3df63",
   "metadata": {},
   "outputs": [],
   "source": []
  }
 ],
 "metadata": {
  "kernelspec": {
   "display_name": "Python 3 (ipykernel)",
   "language": "python",
   "name": "python3"
  },
  "language_info": {
   "codemirror_mode": {
    "name": "ipython",
    "version": 3
   },
   "file_extension": ".py",
   "mimetype": "text/x-python",
   "name": "python",
   "nbconvert_exporter": "python",
   "pygments_lexer": "ipython3",
   "version": "3.10.14"
  }
 },
 "nbformat": 4,
 "nbformat_minor": 5
}
