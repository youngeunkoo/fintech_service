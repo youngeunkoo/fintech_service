{
 "cells": [
  {
   "cell_type": "markdown",
   "id": "39216c76",
   "metadata": {},
   "source": [
    "# 1.requests 모듈: HTTP프로토콜을 사요할 수 있게 해주는 라이브러리\n",
    "## requests모듈 사용 설명서: <br>https://requests.readthedocs.io/en/latest/user/quickstart/#make-a-request"
   ]
  },
  {
   "cell_type": "markdown",
   "id": "5ab544fb",
   "metadata": {},
   "source": [
    "# 2. requests 모듈 설치\n",
    "## conda install requsests\n",
    "## pip install requests"
   ]
  },
  {
   "cell_type": "markdown",
   "id": "74f9490b",
   "metadata": {},
   "source": [
    "# 3. requests모듈 사용법"
   ]
  },
  {
   "cell_type": "markdown",
   "id": "7ee5399c",
   "metadata": {},
   "source": [
    "## 1) 모듈 불러오기: import requests"
   ]
  },
  {
   "cell_type": "code",
   "execution_count": 1,
   "id": "d10f7b4b",
   "metadata": {},
   "outputs": [],
   "source": [
    "import requests"
   ]
  },
  {
   "cell_type": "markdown",
   "id": "f4567ba0",
   "metadata": {},
   "source": [
    "## 2) HTTP 접근 요청 get, post\n",
    "### r = requests.get(URL, parameters)\n",
    "### r = requests.post(URL, data={key:value}"
   ]
  },
  {
   "cell_type": "markdown",
   "id": "8e3c81de",
   "metadata": {},
   "source": [
    "## 3) URL 파라미터 \n",
    "### params = {파라미터1 : value, 파라미터2 : value, 파라미터3 : value}\n",
    "### payload = {'key1' : 'value1','key2': 'value2'}\n",
    "### r = requests.get(URL, params=payload)"
   ]
  },
  {
   "cell_type": "markdown",
   "id": "b2297470",
   "metadata": {},
   "source": [
    "## 4) 만들어진 URL 확인 : print(r.url)"
   ]
  },
  {
   "cell_type": "markdown",
   "id": "87fc5ed5",
   "metadata": {},
   "source": [
    "## 5) header 값 넣기: \n",
    "### r = requests.head(user-agent값)\n",
    "### headers = {'key1': 'value1', 'key2': 'value2'}\n",
    "### r = requests.get(URL, params=payload, headers=headers)"
   ]
  },
  {
   "cell_type": "markdown",
   "id": "718d54e2",
   "metadata": {},
   "source": [
    "## 6) 응답요소 response content: r.text, r.json()\n",
    "## response = r.text\n",
    "## response = r.json()"
   ]
  },
  {
   "cell_type": "markdown",
   "id": "168dedd0",
   "metadata": {},
   "source": [
    "## 7) 응답코드 r.status_code\n"
   ]
  },
  {
   "cell_type": "markdown",
   "id": "56402d22",
   "metadata": {},
   "source": [
    "# 네이버 검색 API 코드를 urllib 에서 requsts로 변경하기"
   ]
  },
  {
   "cell_type": "code",
   "execution_count": 2,
   "id": "6541852e",
   "metadata": {},
   "outputs": [
    {
     "ename": "HTTPError",
     "evalue": "HTTP Error 401: Unauthorized",
     "output_type": "error",
     "traceback": [
      "\u001b[1;31m---------------------------------------------------------------------------\u001b[0m",
      "\u001b[1;31mHTTPError\u001b[0m                                 Traceback (most recent call last)",
      "Cell \u001b[1;32mIn[2], line 13\u001b[0m\n\u001b[0;32m     11\u001b[0m request\u001b[38;5;241m.\u001b[39madd_header(\u001b[38;5;124m\"\u001b[39m\u001b[38;5;124mX-Naver-Client-Id\u001b[39m\u001b[38;5;124m\"\u001b[39m,client_id)\n\u001b[0;32m     12\u001b[0m request\u001b[38;5;241m.\u001b[39madd_header(\u001b[38;5;124m\"\u001b[39m\u001b[38;5;124mX-Naver-Client-Secret\u001b[39m\u001b[38;5;124m\"\u001b[39m,client_secret)\n\u001b[1;32m---> 13\u001b[0m response \u001b[38;5;241m=\u001b[39m \u001b[43murllib\u001b[49m\u001b[38;5;241;43m.\u001b[39;49m\u001b[43mrequest\u001b[49m\u001b[38;5;241;43m.\u001b[39;49m\u001b[43murlopen\u001b[49m\u001b[43m(\u001b[49m\u001b[43mrequest\u001b[49m\u001b[43m)\u001b[49m\n\u001b[0;32m     14\u001b[0m rescode \u001b[38;5;241m=\u001b[39m response\u001b[38;5;241m.\u001b[39mgetcode()\n\u001b[0;32m     15\u001b[0m \u001b[38;5;28;01mif\u001b[39;00m(rescode\u001b[38;5;241m==\u001b[39m\u001b[38;5;241m200\u001b[39m):\n",
      "File \u001b[1;32m~\\miniforge3\\envs\\fintech\\lib\\urllib\\request.py:216\u001b[0m, in \u001b[0;36murlopen\u001b[1;34m(url, data, timeout, cafile, capath, cadefault, context)\u001b[0m\n\u001b[0;32m    214\u001b[0m \u001b[38;5;28;01melse\u001b[39;00m:\n\u001b[0;32m    215\u001b[0m     opener \u001b[38;5;241m=\u001b[39m _opener\n\u001b[1;32m--> 216\u001b[0m \u001b[38;5;28;01mreturn\u001b[39;00m \u001b[43mopener\u001b[49m\u001b[38;5;241;43m.\u001b[39;49m\u001b[43mopen\u001b[49m\u001b[43m(\u001b[49m\u001b[43murl\u001b[49m\u001b[43m,\u001b[49m\u001b[43m \u001b[49m\u001b[43mdata\u001b[49m\u001b[43m,\u001b[49m\u001b[43m \u001b[49m\u001b[43mtimeout\u001b[49m\u001b[43m)\u001b[49m\n",
      "File \u001b[1;32m~\\miniforge3\\envs\\fintech\\lib\\urllib\\request.py:525\u001b[0m, in \u001b[0;36mOpenerDirector.open\u001b[1;34m(self, fullurl, data, timeout)\u001b[0m\n\u001b[0;32m    523\u001b[0m \u001b[38;5;28;01mfor\u001b[39;00m processor \u001b[38;5;129;01min\u001b[39;00m \u001b[38;5;28mself\u001b[39m\u001b[38;5;241m.\u001b[39mprocess_response\u001b[38;5;241m.\u001b[39mget(protocol, []):\n\u001b[0;32m    524\u001b[0m     meth \u001b[38;5;241m=\u001b[39m \u001b[38;5;28mgetattr\u001b[39m(processor, meth_name)\n\u001b[1;32m--> 525\u001b[0m     response \u001b[38;5;241m=\u001b[39m \u001b[43mmeth\u001b[49m\u001b[43m(\u001b[49m\u001b[43mreq\u001b[49m\u001b[43m,\u001b[49m\u001b[43m \u001b[49m\u001b[43mresponse\u001b[49m\u001b[43m)\u001b[49m\n\u001b[0;32m    527\u001b[0m \u001b[38;5;28;01mreturn\u001b[39;00m response\n",
      "File \u001b[1;32m~\\miniforge3\\envs\\fintech\\lib\\urllib\\request.py:634\u001b[0m, in \u001b[0;36mHTTPErrorProcessor.http_response\u001b[1;34m(self, request, response)\u001b[0m\n\u001b[0;32m    631\u001b[0m \u001b[38;5;66;03m# According to RFC 2616, \"2xx\" code indicates that the client's\u001b[39;00m\n\u001b[0;32m    632\u001b[0m \u001b[38;5;66;03m# request was successfully received, understood, and accepted.\u001b[39;00m\n\u001b[0;32m    633\u001b[0m \u001b[38;5;28;01mif\u001b[39;00m \u001b[38;5;129;01mnot\u001b[39;00m (\u001b[38;5;241m200\u001b[39m \u001b[38;5;241m<\u001b[39m\u001b[38;5;241m=\u001b[39m code \u001b[38;5;241m<\u001b[39m \u001b[38;5;241m300\u001b[39m):\n\u001b[1;32m--> 634\u001b[0m     response \u001b[38;5;241m=\u001b[39m \u001b[38;5;28;43mself\u001b[39;49m\u001b[38;5;241;43m.\u001b[39;49m\u001b[43mparent\u001b[49m\u001b[38;5;241;43m.\u001b[39;49m\u001b[43merror\u001b[49m\u001b[43m(\u001b[49m\n\u001b[0;32m    635\u001b[0m \u001b[43m        \u001b[49m\u001b[38;5;124;43m'\u001b[39;49m\u001b[38;5;124;43mhttp\u001b[39;49m\u001b[38;5;124;43m'\u001b[39;49m\u001b[43m,\u001b[49m\u001b[43m \u001b[49m\u001b[43mrequest\u001b[49m\u001b[43m,\u001b[49m\u001b[43m \u001b[49m\u001b[43mresponse\u001b[49m\u001b[43m,\u001b[49m\u001b[43m \u001b[49m\u001b[43mcode\u001b[49m\u001b[43m,\u001b[49m\u001b[43m \u001b[49m\u001b[43mmsg\u001b[49m\u001b[43m,\u001b[49m\u001b[43m \u001b[49m\u001b[43mhdrs\u001b[49m\u001b[43m)\u001b[49m\n\u001b[0;32m    637\u001b[0m \u001b[38;5;28;01mreturn\u001b[39;00m response\n",
      "File \u001b[1;32m~\\miniforge3\\envs\\fintech\\lib\\urllib\\request.py:563\u001b[0m, in \u001b[0;36mOpenerDirector.error\u001b[1;34m(self, proto, *args)\u001b[0m\n\u001b[0;32m    561\u001b[0m \u001b[38;5;28;01mif\u001b[39;00m http_err:\n\u001b[0;32m    562\u001b[0m     args \u001b[38;5;241m=\u001b[39m (\u001b[38;5;28mdict\u001b[39m, \u001b[38;5;124m'\u001b[39m\u001b[38;5;124mdefault\u001b[39m\u001b[38;5;124m'\u001b[39m, \u001b[38;5;124m'\u001b[39m\u001b[38;5;124mhttp_error_default\u001b[39m\u001b[38;5;124m'\u001b[39m) \u001b[38;5;241m+\u001b[39m orig_args\n\u001b[1;32m--> 563\u001b[0m     \u001b[38;5;28;01mreturn\u001b[39;00m \u001b[38;5;28;43mself\u001b[39;49m\u001b[38;5;241;43m.\u001b[39;49m\u001b[43m_call_chain\u001b[49m\u001b[43m(\u001b[49m\u001b[38;5;241;43m*\u001b[39;49m\u001b[43margs\u001b[49m\u001b[43m)\u001b[49m\n",
      "File \u001b[1;32m~\\miniforge3\\envs\\fintech\\lib\\urllib\\request.py:496\u001b[0m, in \u001b[0;36mOpenerDirector._call_chain\u001b[1;34m(self, chain, kind, meth_name, *args)\u001b[0m\n\u001b[0;32m    494\u001b[0m \u001b[38;5;28;01mfor\u001b[39;00m handler \u001b[38;5;129;01min\u001b[39;00m handlers:\n\u001b[0;32m    495\u001b[0m     func \u001b[38;5;241m=\u001b[39m \u001b[38;5;28mgetattr\u001b[39m(handler, meth_name)\n\u001b[1;32m--> 496\u001b[0m     result \u001b[38;5;241m=\u001b[39m \u001b[43mfunc\u001b[49m\u001b[43m(\u001b[49m\u001b[38;5;241;43m*\u001b[39;49m\u001b[43margs\u001b[49m\u001b[43m)\u001b[49m\n\u001b[0;32m    497\u001b[0m     \u001b[38;5;28;01mif\u001b[39;00m result \u001b[38;5;129;01mis\u001b[39;00m \u001b[38;5;129;01mnot\u001b[39;00m \u001b[38;5;28;01mNone\u001b[39;00m:\n\u001b[0;32m    498\u001b[0m         \u001b[38;5;28;01mreturn\u001b[39;00m result\n",
      "File \u001b[1;32m~\\miniforge3\\envs\\fintech\\lib\\urllib\\request.py:643\u001b[0m, in \u001b[0;36mHTTPDefaultErrorHandler.http_error_default\u001b[1;34m(self, req, fp, code, msg, hdrs)\u001b[0m\n\u001b[0;32m    642\u001b[0m \u001b[38;5;28;01mdef\u001b[39;00m \u001b[38;5;21mhttp_error_default\u001b[39m(\u001b[38;5;28mself\u001b[39m, req, fp, code, msg, hdrs):\n\u001b[1;32m--> 643\u001b[0m     \u001b[38;5;28;01mraise\u001b[39;00m HTTPError(req\u001b[38;5;241m.\u001b[39mfull_url, code, msg, hdrs, fp)\n",
      "\u001b[1;31mHTTPError\u001b[0m: HTTP Error 401: Unauthorized"
     ]
    }
   ],
   "source": [
    "# 네이버 검색 API 예제 - 블로그 검색\n",
    "import os\n",
    "import sys\n",
    "import urllib.request\n",
    "client_id = \"YOUR_CLIENT_ID\"\n",
    "client_secret = \"YOUR_CLIENT_SECRET\"\n",
    "encText = urllib.parse.quote(\"검색할 단어\")\n",
    "url = \"https://openapi.naver.com/v1/search/blog?query=\" + encText # JSON 결과\n",
    "# url = \"https://openapi.naver.com/v1/search/blog.xml?query=\" + encText # XML 결과\n",
    "request = urllib.request.Request(url)\n",
    "request.add_header(\"X-Naver-Client-Id\",client_id)\n",
    "request.add_header(\"X-Naver-Client-Secret\",client_secret)\n",
    "response = urllib.request.urlopen(request)\n",
    "rescode = response.getcode()\n",
    "if(rescode==200):\n",
    "    response_body = response.read()\n",
    "    print(response_body.decode('utf-8'))\n",
    "else:\n",
    "    print(\"Error Code:\" + rescode)"
   ]
  },
  {
   "cell_type": "code",
   "execution_count": 1,
   "id": "2e4982b8",
   "metadata": {},
   "outputs": [],
   "source": [
    "import requests\n",
    "import pandas as pd\n",
    "import naver_api_info"
   ]
  },
  {
   "cell_type": "code",
   "execution_count": 4,
   "id": "cf4b15a3",
   "metadata": {},
   "outputs": [
    {
     "ename": "NameError",
     "evalue": "name 'load_dotenv' is not defined",
     "output_type": "error",
     "traceback": [
      "\u001b[1;31m---------------------------------------------------------------------------\u001b[0m",
      "\u001b[1;31mNameError\u001b[0m                                 Traceback (most recent call last)",
      "Cell \u001b[1;32mIn[4], line 1\u001b[0m\n\u001b[1;32m----> 1\u001b[0m \u001b[43mload_dotenv\u001b[49m()\n\u001b[0;32m      2\u001b[0m client_id \u001b[38;5;241m=\u001b[39m os\u001b[38;5;241m.\u001b[39mgetenv(\u001b[38;5;124m'\u001b[39m\u001b[38;5;124mclient_id\u001b[39m\u001b[38;5;124m'\u001b[39m) \u001b[38;5;66;03m# 네이버 api에 접속 가능한 id \u001b[39;00m\n\u001b[0;32m      3\u001b[0m client_secret \u001b[38;5;241m=\u001b[39m os\u001b[38;5;241m.\u001b[39mgetenv(\u001b[38;5;124m'\u001b[39m\u001b[38;5;124mclient_secret\u001b[39m\u001b[38;5;124m'\u001b[39m) \u001b[38;5;66;03m# 네이버 api에 접속 가능한 pw \u001b[39;00m\n",
      "\u001b[1;31mNameError\u001b[0m: name 'load_dotenv' is not defined"
     ]
    }
   ],
   "source": [
    "load_dotenv()\n",
    "client_id = os.getenv('client_id') # 네이버 api에 접속 가능한 id \n",
    "client_secret = os.getenv('client_secret') # 네이버 api에 접속 가능한 pw \n",
    "url = \"https://openapi.naver.com/v1/search/blog.json\"\n",
    "payload = {'query': '핀테크', 'display' : 10, 'start' : 1, 'sort': 'sim'}\n",
    "headers = {\"X-Naver-Client-Id\" : client_id, \"X-Naver-Client-Secret\" : client_secret}\n",
    "r = requests.get(url, params=payload, headers=headers)\n",
    "print(r.url)\n",
    "if(r.status_code == 200):\n",
    "    data = r.json()\n",
    "    print(type(data))\n",
    "else:\n",
    "    print(\"Error Code:\", r.status_code)\n"
   ]
  },
  {
   "cell_type": "code",
   "execution_count": 5,
   "id": "d29aff3e",
   "metadata": {},
   "outputs": [
    {
     "ename": "NameError",
     "evalue": "name 'data' is not defined",
     "output_type": "error",
     "traceback": [
      "\u001b[1;31m---------------------------------------------------------------------------\u001b[0m",
      "\u001b[1;31mNameError\u001b[0m                                 Traceback (most recent call last)",
      "Cell \u001b[1;32mIn[5], line 1\u001b[0m\n\u001b[1;32m----> 1\u001b[0m df \u001b[38;5;241m=\u001b[39m pd\u001b[38;5;241m.\u001b[39mjson_normalize(\u001b[43mdata\u001b[49m[\u001b[38;5;124m'\u001b[39m\u001b[38;5;124mitems\u001b[39m\u001b[38;5;124m'\u001b[39m])\n\u001b[0;32m      2\u001b[0m df\n",
      "\u001b[1;31mNameError\u001b[0m: name 'data' is not defined"
     ]
    }
   ],
   "source": [
    "df = pd.json_normalize(data['items'])\n",
    "df"
   ]
  },
  {
   "cell_type": "code",
   "execution_count": 14,
   "id": "60faff61",
   "metadata": {},
   "outputs": [],
   "source": [
    "import requests\n",
    "import pandas as pd\n",
    "import time\n",
    "import os\n",
    "from dotenv import load_dotenv"
   ]
  },
  {
   "cell_type": "code",
   "execution_count": 15,
   "id": "5c2872cb",
   "metadata": {},
   "outputs": [
    {
     "name": "stdout",
     "output_type": "stream",
     "text": [
      "C:\\fintech_service\\05data_scraping\n"
     ]
    }
   ],
   "source": [
    "print(os.getcwd())"
   ]
  },
  {
   "cell_type": "code",
   "execution_count": 19,
   "id": "ec30ed53",
   "metadata": {},
   "outputs": [],
   "source": [
    "def naver_search():\n",
    "    \n",
    "    service = input('''검색 서비스 번호를 입력하세요:\n",
    "    1 블로그\n",
    "    2 책\n",
    "    3 뉴스\n",
    "    4 전문자료\n",
    "    ''')\n",
    "    query = input(\"검색어를 입력하세요: \")\n",
    "    \n",
    "    if service == '1':\n",
    "        service = 'blog'\n",
    "        sort='sim'\n",
    "    elif service =='2':\n",
    "        service = 'book'\n",
    "        sort='sim'\n",
    "    elif service =='3':\n",
    "        service = 'news'\n",
    "        sort='sim'\n",
    "    elif service =='4':\n",
    "        service = 'doc'\n",
    "        \n",
    "    \n",
    "    \n",
    "    book_lists = []\n",
    "    page = 1\n",
    "    start = 1\n",
    "    load_dotenv()\n",
    "    \n",
    "    while True:\n",
    "        client_id = os.getenv('client_id') # 네이버 api에 접속 가능한 id \n",
    "        client_secret = os.getenv('client_secret') # 네이버 api에 접속 가능한 pw \n",
    "        url = f\"https://openapi.naver.com/v1/search/{service}.json\"\n",
    "        payload = dict(query=query, display=10, start=start, sort=sort)\n",
    "        headers = {\"X-Naver-Client-Id\" : client_id, \"X-Naver-Client-Secret\" : client_secret}\n",
    "\n",
    "        try:\n",
    "            r = requests.get(url, params=payload, headers=headers)\n",
    "            if(r.status_code==200):\n",
    "                data = r.json()\n",
    "                book_lists.append(data)\n",
    "                total_page = data['total'] // 10 + 1\n",
    "                if total_page > 100:\n",
    "                    total_page = 100\n",
    "            else:\n",
    "                print(\"Error Code:\" + rescode)\n",
    "                break\n",
    "\n",
    "            if page < total_page:\n",
    "                page += 1\n",
    "                if start != 991:\n",
    "                    start += 10\n",
    "                elif start == 991:\n",
    "                    start += 9\n",
    "                print(f\"{page:03d}/{total_page:03d}, start: {start} 추출중\", end=\"\\r\")\n",
    "            else:\n",
    "                break\n",
    "            time.sleep(0.5)\n",
    "        except Exception as e:\n",
    "            print(e)\n",
    "            break\n",
    "\n",
    "\n",
    "    print(len(book_lists))\n",
    "    result = pd.DataFrame()\n",
    "    for book_list in book_lists:\n",
    "        temp = pd.json_normalize(book_list['items'])\n",
    "        result = pd.concat([result, temp])\n",
    "    return result\n",
    "#     result.to_csv(f\"naver_{service}_api_fintech_{query}_result.csv\", encoding=\"utf-8\")"
   ]
  },
  {
   "cell_type": "code",
   "execution_count": 20,
   "id": "d731292e",
   "metadata": {},
   "outputs": [
    {
     "name": "stdout",
     "output_type": "stream",
     "text": [
      "검색 서비스 번호를 입력하세요:\n",
      "    1 블로그\n",
      "    2 책\n",
      "    3 뉴스\n",
      "    4 전문자료\n",
      "    3\n",
      "검색어를 입력하세요: 핀테크\n",
      "100/100, start: 991 추출중\n"
     ]
    }
   ],
   "source": [
    "result = naver_search()"
   ]
  },
  {
   "cell_type": "code",
   "execution_count": 21,
   "id": "c269871e",
   "metadata": {},
   "outputs": [
    {
     "data": {
      "text/html": [
       "<div>\n",
       "<style scoped>\n",
       "    .dataframe tbody tr th:only-of-type {\n",
       "        vertical-align: middle;\n",
       "    }\n",
       "\n",
       "    .dataframe tbody tr th {\n",
       "        vertical-align: top;\n",
       "    }\n",
       "\n",
       "    .dataframe thead th {\n",
       "        text-align: right;\n",
       "    }\n",
       "</style>\n",
       "<table border=\"1\" class=\"dataframe\">\n",
       "  <thead>\n",
       "    <tr style=\"text-align: right;\">\n",
       "      <th></th>\n",
       "      <th>title</th>\n",
       "      <th>originallink</th>\n",
       "      <th>link</th>\n",
       "      <th>description</th>\n",
       "      <th>pubDate</th>\n",
       "    </tr>\n",
       "  </thead>\n",
       "  <tbody>\n",
       "    <tr>\n",
       "      <th>0</th>\n",
       "      <td>&lt;b&gt;핀테크&lt;/b&gt;산업협회, 전자금융업자 협의회 출범</td>\n",
       "      <td>https://biz.chosun.com/stock/finance/2024/07/2...</td>\n",
       "      <td>https://n.news.naver.com/mnews/article/366/000...</td>\n",
       "      <td>한국&lt;b&gt;핀테크&lt;/b&gt;산업협회(핀산협)는 오는 8월 6일, 전자금융업 관련 정책과 ...</td>\n",
       "      <td>Wed, 24 Jul 2024 15:11:00 +0900</td>\n",
       "    </tr>\n",
       "    <tr>\n",
       "      <th>1</th>\n",
       "      <td>한국&lt;b&gt;핀테크&lt;/b&gt;산업협회, '전자금융업자 협의회' 출범</td>\n",
       "      <td>http://www.edaily.co.kr/news/newspath.asp?news...</td>\n",
       "      <td>https://n.news.naver.com/mnews/article/018/000...</td>\n",
       "      <td>한국&lt;b&gt;핀테크&lt;/b&gt;산업협회는 내달 6일 전자금융업 관련 정책, 제도 및 입법 등...</td>\n",
       "      <td>Wed, 24 Jul 2024 10:32:00 +0900</td>\n",
       "    </tr>\n",
       "    <tr>\n",
       "      <th>2</th>\n",
       "      <td>신한은행, 서울시 손잡고 혁신 &lt;b&gt;핀테크&lt;/b&gt; 스타트업 6곳 육성</td>\n",
       "      <td>https://isplus.com/article/view/isp202407230170</td>\n",
       "      <td>https://n.news.naver.com/mnews/article/241/000...</td>\n",
       "      <td>신한은행은 신한카드, 신한투자증권, 서울시와 공동으로 &lt;b&gt;핀테크&lt;/b&gt; 혁신 스타...</td>\n",
       "      <td>Tue, 23 Jul 2024 15:58:00 +0900</td>\n",
       "    </tr>\n",
       "    <tr>\n",
       "      <th>3</th>\n",
       "      <td>광동제약, &lt;b&gt;핀테크&lt;/b&gt; 기업과 손잡고 전자증권 발행 공동사업 진행</td>\n",
       "      <td>http://news.tf.co.kr/read/economy/2118706.htm</td>\n",
       "      <td>https://n.news.naver.com/mnews/article/629/000...</td>\n",
       "      <td>광동제약은 금융IT·&lt;b&gt;핀테크&lt;/b&gt; 기업 핑거와 자사 제품에 투자할 수 있는 전...</td>\n",
       "      <td>Wed, 24 Jul 2024 14:08:00 +0900</td>\n",
       "    </tr>\n",
       "    <tr>\n",
       "      <th>4</th>\n",
       "      <td>신한금융, 서울시와 혁신 &lt;b&gt;핀테크&lt;/b&gt; 스타트업 발굴</td>\n",
       "      <td>https://www.news1.kr/finance/bank/5488024</td>\n",
       "      <td>https://n.news.naver.com/mnews/article/421/000...</td>\n",
       "      <td>신한은행과 신한카드, 신한투자증권은 서울시와 공동으로 &lt;b&gt;핀테크&lt;/b&gt; 혁신 스타...</td>\n",
       "      <td>Tue, 23 Jul 2024 10:26:00 +0900</td>\n",
       "    </tr>\n",
       "    <tr>\n",
       "      <th>...</th>\n",
       "      <td>...</td>\n",
       "      <td>...</td>\n",
       "      <td>...</td>\n",
       "      <td>...</td>\n",
       "      <td>...</td>\n",
       "    </tr>\n",
       "    <tr>\n",
       "      <th>5</th>\n",
       "      <td>핀산협, JB인베스트·DEFI &lt;b&gt;핀테크&lt;/b&gt; 성장 지원 맞손</td>\n",
       "      <td>http://www.wowtv.co.kr/NewsCenter/News/Read?ar...</td>\n",
       "      <td>https://n.news.naver.com/mnews/article/215/000...</td>\n",
       "      <td>한국&lt;b&gt;핀테크&lt;/b&gt;산업협회는 4일 &lt;b&gt;핀테크&lt;/b&gt;스타트업 투자·육성을 위해 ...</td>\n",
       "      <td>Tue, 04 Jun 2024 17:00:00 +0900</td>\n",
       "    </tr>\n",
       "    <tr>\n",
       "      <th>6</th>\n",
       "      <td>&amp;quot;&lt;b&gt;핀테크&lt;/b&gt; 투자·육성&amp;quot;...핀산협, JB인베스트먼트·디...</td>\n",
       "      <td>http://www.fnnews.com/news/202406041355211404</td>\n",
       "      <td>https://n.news.naver.com/mnews/article/014/000...</td>\n",
       "      <td>한국&lt;b&gt;핀테크&lt;/b&gt;산업협회가 &lt;b&gt;핀테크&lt;/b&gt;스타트업 투자·육성을 위해 JB인...</td>\n",
       "      <td>Tue, 04 Jun 2024 16:01:00 +0900</td>\n",
       "    </tr>\n",
       "    <tr>\n",
       "      <th>7</th>\n",
       "      <td>&lt;b&gt;핀테크&lt;/b&gt;산업협회·JB인베스트먼트·DEFI, 유망 &lt;b&gt;핀테크&lt;/b&gt; 발굴...</td>\n",
       "      <td>https://www.epnc.co.kr/news/articleView.html?i...</td>\n",
       "      <td>https://www.epnc.co.kr/news/articleView.html?i...</td>\n",
       "      <td>한국&lt;b&gt;핀테크&lt;/b&gt;산업협회가 4일 &lt;b&gt;핀테크&lt;/b&gt;스타트업 투자·육성을 위해 ...</td>\n",
       "      <td>Tue, 04 Jun 2024 15:46:00 +0900</td>\n",
       "    </tr>\n",
       "    <tr>\n",
       "      <th>8</th>\n",
       "      <td>핀산협, JB인베스트먼트·DEFI와 &lt;b&gt;핀테크&lt;/b&gt;스타트업 투자·육성 MOU</td>\n",
       "      <td>https://www.etnews.com/20240604000330</td>\n",
       "      <td>https://n.news.naver.com/mnews/article/030/000...</td>\n",
       "      <td>한국&lt;b&gt;핀테크&lt;/b&gt;산업협회(회장·이근주 한패스 대표)는JB인베스트먼트, 디지털경...</td>\n",
       "      <td>Tue, 04 Jun 2024 15:40:00 +0900</td>\n",
       "    </tr>\n",
       "    <tr>\n",
       "      <th>9</th>\n",
       "      <td>한국&lt;b&gt;핀테크&lt;/b&gt;지원센터-카카오뱅크-전북창조경제혁신센터, '&lt;b&gt;핀테크&lt;/b&gt;...</td>\n",
       "      <td>https://www.dailysecu.com/news/articleView.htm...</td>\n",
       "      <td>https://www.dailysecu.com/news/articleView.htm...</td>\n",
       "      <td>한국&lt;b&gt;핀테크&lt;/b&gt;지원센터와 카카오뱅크는 전북창조경제혁신센터와 함께 '&lt;b&gt;핀테...</td>\n",
       "      <td>Tue, 04 Jun 2024 11:22:00 +0900</td>\n",
       "    </tr>\n",
       "  </tbody>\n",
       "</table>\n",
       "<p>1000 rows × 5 columns</p>\n",
       "</div>"
      ],
      "text/plain": [
       "                                                title  \\\n",
       "0                       <b>핀테크</b>산업협회, 전자금융업자 협의회 출범   \n",
       "1                   한국<b>핀테크</b>산업협회, '전자금융업자 협의회' 출범   \n",
       "2              신한은행, 서울시 손잡고 혁신 <b>핀테크</b> 스타트업 6곳 육성   \n",
       "3            광동제약, <b>핀테크</b> 기업과 손잡고 전자증권 발행 공동사업 진행   \n",
       "4                    신한금융, 서울시와 혁신 <b>핀테크</b> 스타트업 발굴   \n",
       "..                                                ...   \n",
       "5                핀산협, JB인베스트·DEFI <b>핀테크</b> 성장 지원 맞손   \n",
       "6   &quot;<b>핀테크</b> 투자·육성&quot;...핀산협, JB인베스트먼트·디...   \n",
       "7   <b>핀테크</b>산업협회·JB인베스트먼트·DEFI, 유망 <b>핀테크</b> 발굴...   \n",
       "8        핀산협, JB인베스트먼트·DEFI와 <b>핀테크</b>스타트업 투자·육성 MOU   \n",
       "9   한국<b>핀테크</b>지원센터-카카오뱅크-전북창조경제혁신센터, '<b>핀테크</b>...   \n",
       "\n",
       "                                         originallink  \\\n",
       "0   https://biz.chosun.com/stock/finance/2024/07/2...   \n",
       "1   http://www.edaily.co.kr/news/newspath.asp?news...   \n",
       "2     https://isplus.com/article/view/isp202407230170   \n",
       "3       http://news.tf.co.kr/read/economy/2118706.htm   \n",
       "4           https://www.news1.kr/finance/bank/5488024   \n",
       "..                                                ...   \n",
       "5   http://www.wowtv.co.kr/NewsCenter/News/Read?ar...   \n",
       "6       http://www.fnnews.com/news/202406041355211404   \n",
       "7   https://www.epnc.co.kr/news/articleView.html?i...   \n",
       "8               https://www.etnews.com/20240604000330   \n",
       "9   https://www.dailysecu.com/news/articleView.htm...   \n",
       "\n",
       "                                                 link  \\\n",
       "0   https://n.news.naver.com/mnews/article/366/000...   \n",
       "1   https://n.news.naver.com/mnews/article/018/000...   \n",
       "2   https://n.news.naver.com/mnews/article/241/000...   \n",
       "3   https://n.news.naver.com/mnews/article/629/000...   \n",
       "4   https://n.news.naver.com/mnews/article/421/000...   \n",
       "..                                                ...   \n",
       "5   https://n.news.naver.com/mnews/article/215/000...   \n",
       "6   https://n.news.naver.com/mnews/article/014/000...   \n",
       "7   https://www.epnc.co.kr/news/articleView.html?i...   \n",
       "8   https://n.news.naver.com/mnews/article/030/000...   \n",
       "9   https://www.dailysecu.com/news/articleView.htm...   \n",
       "\n",
       "                                          description  \\\n",
       "0   한국<b>핀테크</b>산업협회(핀산협)는 오는 8월 6일, 전자금융업 관련 정책과 ...   \n",
       "1   한국<b>핀테크</b>산업협회는 내달 6일 전자금융업 관련 정책, 제도 및 입법 등...   \n",
       "2   신한은행은 신한카드, 신한투자증권, 서울시와 공동으로 <b>핀테크</b> 혁신 스타...   \n",
       "3   광동제약은 금융IT·<b>핀테크</b> 기업 핑거와 자사 제품에 투자할 수 있는 전...   \n",
       "4   신한은행과 신한카드, 신한투자증권은 서울시와 공동으로 <b>핀테크</b> 혁신 스타...   \n",
       "..                                                ...   \n",
       "5   한국<b>핀테크</b>산업협회는 4일 <b>핀테크</b>스타트업 투자·육성을 위해 ...   \n",
       "6   한국<b>핀테크</b>산업협회가 <b>핀테크</b>스타트업 투자·육성을 위해 JB인...   \n",
       "7   한국<b>핀테크</b>산업협회가 4일 <b>핀테크</b>스타트업 투자·육성을 위해 ...   \n",
       "8   한국<b>핀테크</b>산업협회(회장·이근주 한패스 대표)는JB인베스트먼트, 디지털경...   \n",
       "9   한국<b>핀테크</b>지원센터와 카카오뱅크는 전북창조경제혁신센터와 함께 '<b>핀테...   \n",
       "\n",
       "                            pubDate  \n",
       "0   Wed, 24 Jul 2024 15:11:00 +0900  \n",
       "1   Wed, 24 Jul 2024 10:32:00 +0900  \n",
       "2   Tue, 23 Jul 2024 15:58:00 +0900  \n",
       "3   Wed, 24 Jul 2024 14:08:00 +0900  \n",
       "4   Tue, 23 Jul 2024 10:26:00 +0900  \n",
       "..                              ...  \n",
       "5   Tue, 04 Jun 2024 17:00:00 +0900  \n",
       "6   Tue, 04 Jun 2024 16:01:00 +0900  \n",
       "7   Tue, 04 Jun 2024 15:46:00 +0900  \n",
       "8   Tue, 04 Jun 2024 15:40:00 +0900  \n",
       "9   Tue, 04 Jun 2024 11:22:00 +0900  \n",
       "\n",
       "[1000 rows x 5 columns]"
      ]
     },
     "execution_count": 21,
     "metadata": {},
     "output_type": "execute_result"
    }
   ],
   "source": [
    "result"
   ]
  },
  {
   "cell_type": "code",
   "execution_count": 24,
   "id": "bc7a2447",
   "metadata": {},
   "outputs": [],
   "source": [
    "result['pubDate'] = pd.to_datetime(result['pubDate'])"
   ]
  },
  {
   "cell_type": "code",
   "execution_count": 29,
   "id": "a4d0e818",
   "metadata": {},
   "outputs": [],
   "source": [
    "result = result.reset_index(drop=True)"
   ]
  },
  {
   "cell_type": "code",
   "execution_count": 32,
   "id": "fcb60fc7",
   "metadata": {},
   "outputs": [
    {
     "data": {
      "text/plain": [
       "datetime.date(2024, 7, 24)"
      ]
     },
     "execution_count": 32,
     "metadata": {},
     "output_type": "execute_result"
    }
   ],
   "source": [
    "result['pubDate'][0].date()"
   ]
  }
 ],
 "metadata": {
  "kernelspec": {
   "display_name": "Python 3 (ipykernel)",
   "language": "python",
   "name": "python3"
  },
  "language_info": {
   "codemirror_mode": {
    "name": "ipython",
    "version": 3
   },
   "file_extension": ".py",
   "mimetype": "text/x-python",
   "name": "python",
   "nbconvert_exporter": "python",
   "pygments_lexer": "ipython3",
   "version": "3.10.14"
  }
 },
 "nbformat": 4,
 "nbformat_minor": 5
}
