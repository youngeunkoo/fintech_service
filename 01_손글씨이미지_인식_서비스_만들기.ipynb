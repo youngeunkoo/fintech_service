{
 "cells": [
  {
   "cell_type": "markdown",
   "id": "b1b70e98",
   "metadata": {},
   "source": [
    "# 손글씨 인식 application\n",
    "* 영문 손글씨 이미지 파일을 업로드\n",
    "* 사용자가 캔버스에 손글씨를 쓸 수 있다.\n",
    "* 업로드한 이미지와 직접 쓴 글씨를 텍스트로 변환해 받을 수 있다."
   ]
  },
  {
   "cell_type": "code",
   "execution_count": 1,
   "id": "eebed918",
   "metadata": {},
   "outputs": [],
   "source": [
    "# !mkdir examples\n",
    "# !cd examples && wget https://github.com/mrsyee/dl_apps/raw/main/ocr/examples/Hello.png\n",
    "# !cd examples && wget https://github.com/mrsyee/dl_apps/raw/main/ocr/examples/Hello_cursive.png\n",
    "# !cd examples && wget https://github.com/mrsyee/dl_apps/raw/main/ocr/examples/Red.png\n",
    "# !cd examples && wget https://github.com/mrsyee/dl_apps/raw/main/ocr/examples/sentence.png\n",
    "# !cd examples && wget https://github.com/mrsyee/dl_apps/raw/main/ocr/examples/i_love_you.png\n",
    "# !cd examples && wget https://github.com/mrsyee/dl_apps/raw/main/ocr/examples/merrychristmas.png\n",
    "# !cd examples && wget https://github.com/mrsyee/dl_apps/raw/main/ocr/examples/Rock.png\n",
    "# !cd examples && wget https://github.com/mrsyee/dl_apps/raw/main/ocr/examples/Bob.png"
   ]
  },
  {
   "cell_type": "code",
   "execution_count": 2,
   "id": "65956ff3",
   "metadata": {},
   "outputs": [
    {
     "name": "stderr",
     "output_type": "stream",
     "text": [
      "/home/user/miniforge3/envs/torch/lib/python3.11/site-packages/tqdm/auto.py:21: TqdmWarning: IProgress not found. Please update jupyter and ipywidgets. See https://ipywidgets.readthedocs.io/en/stable/user_install.html\n",
      "  from .autonotebook import tqdm as notebook_tqdm\n",
      "/home/user/miniforge3/envs/torch/lib/python3.11/site-packages/gradio_client/documentation.py:106: UserWarning: Could not get documentation group for <class 'gradio.mix.Parallel'>: No known documentation group for module 'gradio.mix'\n",
      "  warnings.warn(f\"Could not get documentation group for {cls}: {exc}\")\n",
      "/home/user/miniforge3/envs/torch/lib/python3.11/site-packages/gradio_client/documentation.py:106: UserWarning: Could not get documentation group for <class 'gradio.mix.Series'>: No known documentation group for module 'gradio.mix'\n",
      "  warnings.warn(f\"Could not get documentation group for {cls}: {exc}\")\n"
     ]
    }
   ],
   "source": [
    "import os\n",
    "import numpy as np\n",
    "import gradio as gr\n",
    "from PIL import Image\n",
    "from transformers import TrOCRProcessor, VisionEncoderDecoderModel"
   ]
  },
  {
   "cell_type": "code",
   "execution_count": 3,
   "id": "8ace214b",
   "metadata": {},
   "outputs": [
    {
     "name": "stdout",
     "output_type": "stream",
     "text": [
      "False\n"
     ]
    }
   ],
   "source": [
    "import torch\n",
    "print(torch.cuda.is_available())"
   ]
  },
  {
   "cell_type": "markdown",
   "id": "f5308947",
   "metadata": {},
   "source": [
    "##  이미지 파일 업로드 UI 구현하기"
   ]
  },
  {
   "cell_type": "code",
   "execution_count": 4,
   "id": "e4ce312c",
   "metadata": {},
   "outputs": [
    {
     "name": "stdout",
     "output_type": "stream",
     "text": [
      "IMPORTANT: You are using gradio version 3.40.0, however version 4.29.0 is available, please upgrade.\n",
      "--------\n"
     ]
    }
   ],
   "source": [
    "with gr.Blocks() as app:\n",
    "    gr.Markdown(\"# Handwritten Image OCR\")\n",
    "    image = gr.Image(label=\"Handritten image file\")\n",
    "    output = gr.Textbox(label=\"Output Box\")\n",
    "    convert_btn = gr.Button(\"Convert\")"
   ]
  },
  {
   "cell_type": "code",
   "execution_count": 5,
   "id": "eb35acd1",
   "metadata": {},
   "outputs": [
    {
     "name": "stdout",
     "output_type": "stream",
     "text": [
      "Running on local URL:  http://127.0.0.1:7868\n",
      "Running on public URL: https://52f77a79b857f3a292.gradio.live\n",
      "\n",
      "This share link expires in 72 hours. For free permanent hosting and GPU upgrades, run `gradio deploy` from Terminal to deploy to Spaces (https://huggingface.co/spaces)\n"
     ]
    },
    {
     "data": {
      "text/plain": []
     },
     "execution_count": 5,
     "metadata": {},
     "output_type": "execute_result"
    }
   ],
   "source": [
    "app.launch(inline=False, share=True)"
   ]
  },
  {
   "cell_type": "code",
   "execution_count": 6,
   "id": "28472253",
   "metadata": {},
   "outputs": [
    {
     "name": "stdout",
     "output_type": "stream",
     "text": [
      "Closing server running on port: 7868\n"
     ]
    }
   ],
   "source": [
    "app.close()"
   ]
  },
  {
   "cell_type": "markdown",
   "id": "0b40b304",
   "metadata": {},
   "source": [
    "# TrOCR 모델을 사용한 손글씨 인식기 구현하기"
   ]
  },
  {
   "cell_type": "code",
   "execution_count": 7,
   "id": "26c99752",
   "metadata": {},
   "outputs": [],
   "source": [
    "class TrOCRInferencer:\n",
    "    def __init__(self):\n",
    "        print(\"[info] init TrOCR Inferencer\")\n",
    "        self.processor = TrOCRProcessor.from_pretrained(\"microsoft/trocr-large-handwritten\")\n",
    "        self.model = VisionEncoderDecoderModel.from_pretrained(\"microsoft/trocr-large-handwritten\")\n",
    "        \n",
    "    def inference(self, image):\n",
    "        pixel_values = self.processor(images=image, return_tensors='pt').pixel_values\n",
    "        generated_ids = self.model.generate(pixel_values)\n",
    "        generated_text = self.processor.batch_decode(generated_ids, skip_special_tokens=True)[0]\n",
    "        \n",
    "        return generated_text"
   ]
  },
  {
   "cell_type": "code",
   "execution_count": 8,
   "id": "801c2006",
   "metadata": {},
   "outputs": [
    {
     "name": "stdout",
     "output_type": "stream",
     "text": [
      "[info] init TrOCR Inferencer\n"
     ]
    },
    {
     "name": "stderr",
     "output_type": "stream",
     "text": [
      "/home/user/miniforge3/envs/torch/lib/python3.11/site-packages/transformers/tokenization_utils_base.py:1601: FutureWarning: `clean_up_tokenization_spaces` was not set. It will be set to `True` by default. This behavior will be depracted in transformers v4.45, and will be then set to `False` by default. For more details check this issue: https://github.com/huggingface/transformers/issues/31884\n",
      "  warnings.warn(\n",
      "Some weights of VisionEncoderDecoderModel were not initialized from the model checkpoint at microsoft/trocr-large-handwritten and are newly initialized: ['encoder.pooler.dense.bias', 'encoder.pooler.dense.weight']\n",
      "You should probably TRAIN this model on a down-stream task to be able to use it for predictions and inference.\n"
     ]
    }
   ],
   "source": [
    "inferencer = TrOCRInferencer()"
   ]
  },
  {
   "cell_type": "markdown",
   "id": "9819173b",
   "metadata": {},
   "source": [
    "# 추론 기능 구현하기"
   ]
  },
  {
   "cell_type": "code",
   "execution_count": 9,
   "id": "d5f07e85",
   "metadata": {},
   "outputs": [],
   "source": [
    "def image_to_text(image):\n",
    "    image = Image.fromarray(image).convert('RGB')\n",
    "    text = inferencer.inference(image)\n",
    "    return text"
   ]
  },
  {
   "cell_type": "code",
   "execution_count": 10,
   "id": "323e0833",
   "metadata": {},
   "outputs": [
    {
     "name": "stdout",
     "output_type": "stream",
     "text": [
      "Running on local URL:  http://127.0.0.1:7868\n",
      "IMPORTANT: You are using gradio version 3.40.0, however version 4.29.0 is available, please upgrade.\n",
      "--------\n",
      "Running on public URL: https://2c041393433b6a146f.gradio.live\n",
      "\n",
      "This share link expires in 72 hours. For free permanent hosting and GPU upgrades, run `gradio deploy` from Terminal to deploy to Spaces (https://huggingface.co/spaces)\n"
     ]
    },
    {
     "data": {
      "text/plain": []
     },
     "execution_count": 10,
     "metadata": {},
     "output_type": "execute_result"
    }
   ],
   "source": [
    "with gr.Blocks() as app:\n",
    "    gr.Markdown(\"# Handwritten Image OCR\")\n",
    "    image = gr.Image(label=\"Handritten image file\")\n",
    "    output = gr.Textbox(label=\"Output Box\")\n",
    "    convert_btn = gr.Button(\"Convert\")\n",
    "    convert_btn.click(\n",
    "        fn=image_to_text, inputs=image, outputs=output\n",
    "    )\n",
    "app.launch(inline=False, share=True)"
   ]
  },
  {
   "cell_type": "markdown",
   "id": "e1b06177",
   "metadata": {},
   "source": [
    "# 캔버스 UI만들고 손글씨 인식하기"
   ]
  },
  {
   "cell_type": "code",
   "execution_count": 11,
   "id": "031e4dcb",
   "metadata": {},
   "outputs": [
    {
     "name": "stdout",
     "output_type": "stream",
     "text": [
      "Running on local URL:  http://127.0.0.1:7869\n",
      "IMPORTANT: You are using gradio version 3.40.0, however version 4.29.0 is available, please upgrade.\n",
      "--------\n",
      "Running on public URL: https://8c5ebf597aa7f489c9.gradio.live\n",
      "\n",
      "This share link expires in 72 hours. For free permanent hosting and GPU upgrades, run `gradio deploy` from Terminal to deploy to Spaces (https://huggingface.co/spaces)\n"
     ]
    },
    {
     "data": {
      "text/plain": []
     },
     "execution_count": 11,
     "metadata": {},
     "output_type": "execute_result"
    }
   ],
   "source": [
    "with gr.Blocks() as app:\n",
    "    gr.Markdown(\"# Handwritten Image OCR\")\n",
    "    sketchpad = gr.Sketchpad(\n",
    "        label = \"Handwritten Sektchpad\",\n",
    "        shape=(600, 300),\n",
    "        brush_radius=3,\n",
    "        invert_colors=False,\n",
    "        )\n",
    "    output = gr.Textbox(label=\"Output Box\")\n",
    "    convert_btn = gr.Button(\"Convert\")\n",
    "    convert_btn.click(\n",
    "        fn=image_to_text, inputs=sketchpad, outputs=output\n",
    "        )\n",
    "app.launch(inline=False, share=True)"
   ]
  },
  {
   "cell_type": "code",
   "execution_count": 12,
   "id": "a50b0efe",
   "metadata": {},
   "outputs": [
    {
     "name": "stdout",
     "output_type": "stream",
     "text": [
      "Closing server running on port: 7869\n"
     ]
    }
   ],
   "source": [
    "app.close()"
   ]
  },
  {
   "cell_type": "markdown",
   "id": "5b7fef70",
   "metadata": {},
   "source": [
    "# 최종 app 구현하기"
   ]
  },
  {
   "cell_type": "code",
   "execution_count": 15,
   "id": "6f26a476",
   "metadata": {},
   "outputs": [
    {
     "name": "stdout",
     "output_type": "stream",
     "text": [
      "[info] init TrOCR Inferencer\n"
     ]
    },
    {
     "name": "stderr",
     "output_type": "stream",
     "text": [
      "/home/user/miniforge3/envs/torch/lib/python3.11/site-packages/transformers/tokenization_utils_base.py:1601: FutureWarning: `clean_up_tokenization_spaces` was not set. It will be set to `True` by default. This behavior will be depracted in transformers v4.45, and will be then set to `False` by default. For more details check this issue: https://github.com/huggingface/transformers/issues/31884\n",
      "  warnings.warn(\n",
      "Some weights of VisionEncoderDecoderModel were not initialized from the model checkpoint at microsoft/trocr-large-handwritten and are newly initialized: ['encoder.pooler.dense.bias', 'encoder.pooler.dense.weight']\n",
      "You should probably TRAIN this model on a down-stream task to be able to use it for predictions and inference.\n"
     ]
    },
    {
     "name": "stdout",
     "output_type": "stream",
     "text": [
      "Running on local URL:  http://127.0.0.1:7869\n",
      "IMPORTANT: You are using gradio version 3.40.0, however version 4.29.0 is available, please upgrade.\n",
      "--------\n",
      "Running on public URL: https://7076ca6d5a7344ee18.gradio.live\n",
      "\n",
      "This share link expires in 72 hours. For free permanent hosting and GPU upgrades, run `gradio deploy` from Terminal to deploy to Spaces (https://huggingface.co/spaces)\n"
     ]
    },
    {
     "data": {
      "text/plain": []
     },
     "execution_count": 15,
     "metadata": {},
     "output_type": "execute_result"
    }
   ],
   "source": [
    "class TrOCRInferencer:\n",
    "    def __init__(self):\n",
    "        print(\"[info] init TrOCR Inferencer\")\n",
    "        self.processor = TrOCRProcessor.from_pretrained(\"microsoft/trocr-large-handwritten\")\n",
    "        self.model = VisionEncoderDecoderModel.from_pretrained(\"microsoft/trocr-large-handwritten\")\n",
    "        \n",
    "    def inference(self, image):\n",
    "        pixel_values = self.processor(images=image, return_tensors='pt').pixel_values\n",
    "        generated_ids = self.model.generate(pixel_values)\n",
    "        generated_text = self.processor.batch_decode(generated_ids, skip_special_tokens=True)[0]\n",
    "        \n",
    "        return generated_text\n",
    "\n",
    "inferencer = TrOCRInferencer()\n",
    "\n",
    "def image_to_text(image):\n",
    "    image = Image.fromarray(image).convert('RGB')\n",
    "    text = inferencer.inference(image)\n",
    "    return text\n",
    "\n",
    "with gr.Blocks() as app:\n",
    "    gr.Markdown(\"# Handwritten Image OCR\")\n",
    "    with gr.Tab(\"Image upload\"):\n",
    "        image = gr.Image(label=\"Handritten image file\")\n",
    "        output = gr.Textbox(label=\"Output Box\")\n",
    "        convert_btn = gr.Button(\"Convert\")\n",
    "        convert_btn.click(\n",
    "            fn=image_to_text, inputs=image, outputs=output\n",
    "        )\n",
    "        gr.Markdown(\"## Image Examples\")\n",
    "        gr.Examples(\n",
    "            examples=[\n",
    "                os.path.join(os.getcwd(), \"examples/Hello.png\"),\n",
    "                os.path.join(os.getcwd(), \"examples/Hello_cursive.png\"),\n",
    "                os.path.join(os.getcwd(), \"examples/Red.png\"),\n",
    "                os.path.join(os.getcwd(), \"examples/sentence.png\"),\n",
    "                os.path.join(os.getcwd(), \"examples/i_love_you.png\"),\n",
    "                os.path.join(os.getcwd(), \"examples/merrychristmas.png\"),\n",
    "                os.path.join(os.getcwd(), \"examples/Rock.png\"),\n",
    "                os.path.join(os.getcwd(), \"examples/Bob.png\"),\n",
    "                ],\n",
    "            inputs=image,\n",
    "            outputs=output,\n",
    "            fn=image_to_text\n",
    "            )\n",
    "    with gr.Tab(\"Drawing\"):\n",
    "        gr.Markdown(\"# Handwritten Image OCR\")\n",
    "        sketchpad = gr.Sketchpad(\n",
    "            label = \"Handwritten Sektchpad\",\n",
    "            shape=(600, 300),\n",
    "            brush_radius=3,\n",
    "            invert_colors=False,\n",
    "            )\n",
    "        output = gr.Textbox(label=\"Output Box\")\n",
    "        convert_btn = gr.Button(\"Convert\")\n",
    "        convert_btn.click(\n",
    "            fn=image_to_text, inputs=sketchpad, outputs=output\n",
    "            )\n",
    "app.launch(inline=False, share=True)"
   ]
  },
  {
   "cell_type": "code",
   "execution_count": null,
   "id": "0e88580d",
   "metadata": {},
   "outputs": [],
   "source": [
    "app.close()"
   ]
  }
 ],
 "metadata": {
  "kernelspec": {
   "display_name": "Python 3 (ipykernel)",
   "language": "python",
   "name": "python3"
  },
  "language_info": {
   "codemirror_mode": {
    "name": "ipython",
    "version": 3
   },
   "file_extension": ".py",
   "mimetype": "text/x-python",
   "name": "python",
   "nbconvert_exporter": "python",
   "pygments_lexer": "ipython3",
   "version": "3.11.10"
  }
 },
 "nbformat": 4,
 "nbformat_minor": 5
}
