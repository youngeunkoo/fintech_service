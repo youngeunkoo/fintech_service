{
 "cells": [
  {
   "cell_type": "code",
   "execution_count": 1,
   "id": "74e0e39c",
   "metadata": {},
   "outputs": [],
   "source": [
    "import warnings\n",
    "warnings.filterwarnings(action='ignore')\n",
    "\n",
    "# 밑에 실행하면서 뜨는 빨간 경고 팝업 뜨지 않게 하기 "
   ]
  },
  {
   "cell_type": "code",
   "execution_count": 2,
   "id": "731ab3a9",
   "metadata": {},
   "outputs": [],
   "source": [
    "import pandas as pd\n",
    "import numpy as np\n",
    "import matplotlib.pyplot as plt\n",
    "import seaborn as sns"
   ]
  },
  {
   "cell_type": "code",
   "execution_count": 3,
   "id": "ca81c049",
   "metadata": {},
   "outputs": [
    {
     "data": {
      "text/html": [
       "<div>\n",
       "<style scoped>\n",
       "    .dataframe tbody tr th:only-of-type {\n",
       "        vertical-align: middle;\n",
       "    }\n",
       "\n",
       "    .dataframe tbody tr th {\n",
       "        vertical-align: top;\n",
       "    }\n",
       "\n",
       "    .dataframe thead th {\n",
       "        text-align: right;\n",
       "    }\n",
       "</style>\n",
       "<table border=\"1\" class=\"dataframe\">\n",
       "  <thead>\n",
       "    <tr style=\"text-align: right;\">\n",
       "      <th></th>\n",
       "      <th>0</th>\n",
       "      <th>1</th>\n",
       "      <th>2</th>\n",
       "      <th>3</th>\n",
       "      <th>4</th>\n",
       "      <th>5</th>\n",
       "      <th>6</th>\n",
       "      <th>7</th>\n",
       "      <th>8</th>\n",
       "      <th>9</th>\n",
       "      <th>10</th>\n",
       "      <th>11</th>\n",
       "      <th>12</th>\n",
       "    </tr>\n",
       "  </thead>\n",
       "  <tbody>\n",
       "    <tr>\n",
       "      <th>0</th>\n",
       "      <td>7.4</td>\n",
       "      <td>0.70</td>\n",
       "      <td>0.00</td>\n",
       "      <td>1.9</td>\n",
       "      <td>0.076</td>\n",
       "      <td>11.0</td>\n",
       "      <td>34.0</td>\n",
       "      <td>0.99780</td>\n",
       "      <td>3.51</td>\n",
       "      <td>0.56</td>\n",
       "      <td>9.4</td>\n",
       "      <td>5</td>\n",
       "      <td>1</td>\n",
       "    </tr>\n",
       "    <tr>\n",
       "      <th>1</th>\n",
       "      <td>7.8</td>\n",
       "      <td>0.88</td>\n",
       "      <td>0.00</td>\n",
       "      <td>2.6</td>\n",
       "      <td>0.098</td>\n",
       "      <td>25.0</td>\n",
       "      <td>67.0</td>\n",
       "      <td>0.99680</td>\n",
       "      <td>3.20</td>\n",
       "      <td>0.68</td>\n",
       "      <td>9.8</td>\n",
       "      <td>5</td>\n",
       "      <td>1</td>\n",
       "    </tr>\n",
       "    <tr>\n",
       "      <th>2</th>\n",
       "      <td>7.8</td>\n",
       "      <td>0.76</td>\n",
       "      <td>0.04</td>\n",
       "      <td>2.3</td>\n",
       "      <td>0.092</td>\n",
       "      <td>15.0</td>\n",
       "      <td>54.0</td>\n",
       "      <td>0.99700</td>\n",
       "      <td>3.26</td>\n",
       "      <td>0.65</td>\n",
       "      <td>9.8</td>\n",
       "      <td>5</td>\n",
       "      <td>1</td>\n",
       "    </tr>\n",
       "    <tr>\n",
       "      <th>3</th>\n",
       "      <td>11.2</td>\n",
       "      <td>0.28</td>\n",
       "      <td>0.56</td>\n",
       "      <td>1.9</td>\n",
       "      <td>0.075</td>\n",
       "      <td>17.0</td>\n",
       "      <td>60.0</td>\n",
       "      <td>0.99800</td>\n",
       "      <td>3.16</td>\n",
       "      <td>0.58</td>\n",
       "      <td>9.8</td>\n",
       "      <td>6</td>\n",
       "      <td>1</td>\n",
       "    </tr>\n",
       "    <tr>\n",
       "      <th>4</th>\n",
       "      <td>7.4</td>\n",
       "      <td>0.70</td>\n",
       "      <td>0.00</td>\n",
       "      <td>1.9</td>\n",
       "      <td>0.076</td>\n",
       "      <td>11.0</td>\n",
       "      <td>34.0</td>\n",
       "      <td>0.99780</td>\n",
       "      <td>3.51</td>\n",
       "      <td>0.56</td>\n",
       "      <td>9.4</td>\n",
       "      <td>5</td>\n",
       "      <td>1</td>\n",
       "    </tr>\n",
       "    <tr>\n",
       "      <th>...</th>\n",
       "      <td>...</td>\n",
       "      <td>...</td>\n",
       "      <td>...</td>\n",
       "      <td>...</td>\n",
       "      <td>...</td>\n",
       "      <td>...</td>\n",
       "      <td>...</td>\n",
       "      <td>...</td>\n",
       "      <td>...</td>\n",
       "      <td>...</td>\n",
       "      <td>...</td>\n",
       "      <td>...</td>\n",
       "      <td>...</td>\n",
       "    </tr>\n",
       "    <tr>\n",
       "      <th>6492</th>\n",
       "      <td>6.2</td>\n",
       "      <td>0.21</td>\n",
       "      <td>0.29</td>\n",
       "      <td>1.6</td>\n",
       "      <td>0.039</td>\n",
       "      <td>24.0</td>\n",
       "      <td>92.0</td>\n",
       "      <td>0.99114</td>\n",
       "      <td>3.27</td>\n",
       "      <td>0.50</td>\n",
       "      <td>11.2</td>\n",
       "      <td>6</td>\n",
       "      <td>0</td>\n",
       "    </tr>\n",
       "    <tr>\n",
       "      <th>6493</th>\n",
       "      <td>6.6</td>\n",
       "      <td>0.32</td>\n",
       "      <td>0.36</td>\n",
       "      <td>8.0</td>\n",
       "      <td>0.047</td>\n",
       "      <td>57.0</td>\n",
       "      <td>168.0</td>\n",
       "      <td>0.99490</td>\n",
       "      <td>3.15</td>\n",
       "      <td>0.46</td>\n",
       "      <td>9.6</td>\n",
       "      <td>5</td>\n",
       "      <td>0</td>\n",
       "    </tr>\n",
       "    <tr>\n",
       "      <th>6494</th>\n",
       "      <td>6.5</td>\n",
       "      <td>0.24</td>\n",
       "      <td>0.19</td>\n",
       "      <td>1.2</td>\n",
       "      <td>0.041</td>\n",
       "      <td>30.0</td>\n",
       "      <td>111.0</td>\n",
       "      <td>0.99254</td>\n",
       "      <td>2.99</td>\n",
       "      <td>0.46</td>\n",
       "      <td>9.4</td>\n",
       "      <td>6</td>\n",
       "      <td>0</td>\n",
       "    </tr>\n",
       "    <tr>\n",
       "      <th>6495</th>\n",
       "      <td>5.5</td>\n",
       "      <td>0.29</td>\n",
       "      <td>0.30</td>\n",
       "      <td>1.1</td>\n",
       "      <td>0.022</td>\n",
       "      <td>20.0</td>\n",
       "      <td>110.0</td>\n",
       "      <td>0.98869</td>\n",
       "      <td>3.34</td>\n",
       "      <td>0.38</td>\n",
       "      <td>12.8</td>\n",
       "      <td>7</td>\n",
       "      <td>0</td>\n",
       "    </tr>\n",
       "    <tr>\n",
       "      <th>6496</th>\n",
       "      <td>6.0</td>\n",
       "      <td>0.21</td>\n",
       "      <td>0.38</td>\n",
       "      <td>0.8</td>\n",
       "      <td>0.020</td>\n",
       "      <td>22.0</td>\n",
       "      <td>98.0</td>\n",
       "      <td>0.98941</td>\n",
       "      <td>3.26</td>\n",
       "      <td>0.32</td>\n",
       "      <td>11.8</td>\n",
       "      <td>6</td>\n",
       "      <td>0</td>\n",
       "    </tr>\n",
       "  </tbody>\n",
       "</table>\n",
       "<p>6497 rows × 13 columns</p>\n",
       "</div>"
      ],
      "text/plain": [
       "        0     1     2    3      4     5      6        7     8     9     10  \\\n",
       "0      7.4  0.70  0.00  1.9  0.076  11.0   34.0  0.99780  3.51  0.56   9.4   \n",
       "1      7.8  0.88  0.00  2.6  0.098  25.0   67.0  0.99680  3.20  0.68   9.8   \n",
       "2      7.8  0.76  0.04  2.3  0.092  15.0   54.0  0.99700  3.26  0.65   9.8   \n",
       "3     11.2  0.28  0.56  1.9  0.075  17.0   60.0  0.99800  3.16  0.58   9.8   \n",
       "4      7.4  0.70  0.00  1.9  0.076  11.0   34.0  0.99780  3.51  0.56   9.4   \n",
       "...    ...   ...   ...  ...    ...   ...    ...      ...   ...   ...   ...   \n",
       "6492   6.2  0.21  0.29  1.6  0.039  24.0   92.0  0.99114  3.27  0.50  11.2   \n",
       "6493   6.6  0.32  0.36  8.0  0.047  57.0  168.0  0.99490  3.15  0.46   9.6   \n",
       "6494   6.5  0.24  0.19  1.2  0.041  30.0  111.0  0.99254  2.99  0.46   9.4   \n",
       "6495   5.5  0.29  0.30  1.1  0.022  20.0  110.0  0.98869  3.34  0.38  12.8   \n",
       "6496   6.0  0.21  0.38  0.8  0.020  22.0   98.0  0.98941  3.26  0.32  11.8   \n",
       "\n",
       "      11  12  \n",
       "0      5   1  \n",
       "1      5   1  \n",
       "2      5   1  \n",
       "3      6   1  \n",
       "4      5   1  \n",
       "...   ..  ..  \n",
       "6492   6   0  \n",
       "6493   5   0  \n",
       "6494   6   0  \n",
       "6495   7   0  \n",
       "6496   6   0  \n",
       "\n",
       "[6497 rows x 13 columns]"
      ]
     },
     "execution_count": 3,
     "metadata": {},
     "output_type": "execute_result"
    }
   ],
   "source": [
    "data = pd.read_csv(\"https://raw.githubusercontent.com/haram4th/ADsP/main/wine.csv\", header=None)\n",
    "data"
   ]
  },
  {
   "cell_type": "markdown",
   "id": "838c7104",
   "metadata": {},
   "source": [
    "1) Alcohol\n",
    "2) Malic acid\n",
    "3) Ash\n",
    "4) Alcalinity of ash\n",
    "5) Magnesium\n",
    "6) Total phenols\n",
    "7) Flavanoids\n",
    "8) Nonflavanoid phenols\n",
    "9) Proanthocyanins\n",
    "10) Color intensity\n",
    "11) Hue\n",
    "12) OD280/OD315 of diluted wines\n",
    "13) Proline"
   ]
  },
  {
   "cell_type": "code",
   "execution_count": 4,
   "id": "8891a0ac",
   "metadata": {},
   "outputs": [
    {
     "name": "stdout",
     "output_type": "stream",
     "text": [
      "<class 'pandas.core.frame.DataFrame'>\n",
      "RangeIndex: 6497 entries, 0 to 6496\n",
      "Data columns (total 13 columns):\n",
      " #   Column  Non-Null Count  Dtype  \n",
      "---  ------  --------------  -----  \n",
      " 0   0       6497 non-null   float64\n",
      " 1   1       6497 non-null   float64\n",
      " 2   2       6497 non-null   float64\n",
      " 3   3       6497 non-null   float64\n",
      " 4   4       6497 non-null   float64\n",
      " 5   5       6497 non-null   float64\n",
      " 6   6       6497 non-null   float64\n",
      " 7   7       6497 non-null   float64\n",
      " 8   8       6497 non-null   float64\n",
      " 9   9       6497 non-null   float64\n",
      " 10  10      6497 non-null   float64\n",
      " 11  11      6497 non-null   int64  \n",
      " 12  12      6497 non-null   int64  \n",
      "dtypes: float64(11), int64(2)\n",
      "memory usage: 660.0 KB\n"
     ]
    }
   ],
   "source": [
    "data.info()"
   ]
  },
  {
   "cell_type": "code",
   "execution_count": 5,
   "id": "aaa4f10d",
   "metadata": {},
   "outputs": [
    {
     "data": {
      "text/plain": [
       "<Axes: >"
      ]
     },
     "execution_count": 5,
     "metadata": {},
     "output_type": "execute_result"
    },
    {
     "data": {
      "image/png": "[encoded data removed]",
      "text/plain": [
       "<Figure size 640x480 with 1 Axes>"
      ]
     },
     "metadata": {},
     "output_type": "display_data"
    }
   ],
   "source": [
    "sns.boxplot(data)"
   ]
  },
  {
   "cell_type": "code",
   "execution_count": 6,
   "id": "4b90c065",
   "metadata": {},
   "outputs": [
    {
     "data": {
      "text/plain": [
       "<Axes: >"
      ]
     },
     "execution_count": 6,
     "metadata": {},
     "output_type": "execute_result"
    },
    {
     "data": {
      "image/png": "[encoded data removed]",
      "text/plain": [
       "<Figure size 640x480 with 1 Axes>"
      ]
     },
     "metadata": {},
     "output_type": "display_data"
    }
   ],
   "source": [
    "sns.boxplot(data.iloc[:,0:4])\n",
    "\n",
    "# 이상값이 상당히 많음 "
   ]
  },
  {
   "cell_type": "code",
   "execution_count": 7,
   "id": "4377e582",
   "metadata": {},
   "outputs": [
    {
     "data": {
      "text/plain": [
       "12\n",
       "0    4898\n",
       "1    1599\n",
       "Name: count, dtype: int64"
      ]
     },
     "execution_count": 7,
     "metadata": {},
     "output_type": "execute_result"
    }
   ],
   "source": [
    "data[12].value_counts()"
   ]
  },
  {
   "cell_type": "code",
   "execution_count": 8,
   "id": "b3b0570e",
   "metadata": {},
   "outputs": [],
   "source": [
    "X = data.drop(12, axis=1)\n",
    "y = data[12]\n",
    "\n",
    "# 칼럼 12 가 target column"
   ]
  },
  {
   "cell_type": "code",
   "execution_count": 9,
   "id": "af56a8a0",
   "metadata": {},
   "outputs": [],
   "source": [
    "# 스케일링하기 \n",
    "\n",
    "from sklearn.preprocessing import RobustScaler"
   ]
  },
  {
   "cell_type": "code",
   "execution_count": 10,
   "id": "323a9541",
   "metadata": {},
   "outputs": [
    {
     "data": {
      "text/plain": [
       "array([[ 0.30769231,  2.41176471, -2.21428571, ...,  0.29411765,\n",
       "        -0.5       , -1.        ],\n",
       "       [ 0.61538462,  3.47058824, -2.21428571, ...,  1.        ,\n",
       "        -0.27777778, -1.        ],\n",
       "       [ 0.61538462,  2.76470588, -1.92857143, ...,  0.82352941,\n",
       "        -0.27777778, -1.        ],\n",
       "       ...,\n",
       "       [-0.38461538, -0.29411765, -0.85714286, ..., -0.29411765,\n",
       "        -0.5       ,  0.        ],\n",
       "       [-1.15384615,  0.        , -0.07142857, ..., -0.76470588,\n",
       "         1.38888889,  1.        ],\n",
       "       [-0.76923077, -0.47058824,  0.5       , ..., -1.11764706,\n",
       "         0.83333333,  0.        ]])"
      ]
     },
     "execution_count": 10,
     "metadata": {},
     "output_type": "execute_result"
    }
   ],
   "source": [
    "rs = RobustScaler()\n",
    "X_scaled = rs.fit_transform(X)\n",
    "X_scaled "
   ]
  },
  {
   "cell_type": "code",
   "execution_count": 11,
   "id": "10d52916",
   "metadata": {},
   "outputs": [
    {
     "data": {
      "text/plain": [
       "0       1\n",
       "1       1\n",
       "2       1\n",
       "3       1\n",
       "4       1\n",
       "       ..\n",
       "6492    0\n",
       "6493    0\n",
       "6494    0\n",
       "6495    0\n",
       "6496    0\n",
       "Name: 12, Length: 6497, dtype: int64"
      ]
     },
     "execution_count": 11,
     "metadata": {},
     "output_type": "execute_result"
    }
   ],
   "source": [
    "y"
   ]
  },
  {
   "cell_type": "code",
   "execution_count": 12,
   "id": "8cc620d2",
   "metadata": {},
   "outputs": [],
   "source": [
    "# 데이터셋을 홀드아웃으로 나눠서 분석하기 \n",
    "\n",
    "from sklearn.model_selection import train_test_split"
   ]
  },
  {
   "cell_type": "code",
   "execution_count": 13,
   "id": "5d9f0268",
   "metadata": {},
   "outputs": [],
   "source": [
    "# 데이터 6000개이니 valid 로 하기 \n",
    "\n",
    "X_train, X_valid, y_train, y_valid = train_test_split(X_scaled, y, test_size=0.4, random_state=10)\n",
    "X_valid, X_test, y_valid, y_test = train_test_split(X_valid, y_valid, test_size=0.5, stratify=y_valid, random_state=10)"
   ]
  },
  {
   "cell_type": "markdown",
   "id": "852e6942",
   "metadata": {},
   "source": [
    "# Sequential 로 해보기 (함수형/클래스형 아무거나 상관없음) "
   ]
  },
  {
   "cell_type": "code",
   "execution_count": 14,
   "id": "ce8c6249",
   "metadata": {},
   "outputs": [
    {
     "name": "stderr",
     "output_type": "stream",
     "text": [
      "2024-09-10 14:25:27.184941: I tensorflow/core/platform/cpu_feature_guard.cc:193] This TensorFlow binary is optimized with oneAPI Deep Neural Network Library (oneDNN) to use the following CPU instructions in performance-critical operations:  AVX2 FMA\n",
      "To enable them in other operations, rebuild TensorFlow with the appropriate compiler flags.\n",
      "2024-09-10 14:25:28.174213: I tensorflow/c/logging.cc:34] Successfully opened dynamic library libdirectml.d6f03b303ac3c4f2eeb8ca631688c9757b361310.so\n",
      "2024-09-10 14:25:28.174387: I tensorflow/c/logging.cc:34] Successfully opened dynamic library libdxcore.so\n",
      "2024-09-10 14:25:28.179774: I tensorflow/c/logging.cc:34] Successfully opened dynamic library libd3d12.so\n",
      "2024-09-10 14:25:28.388407: I tensorflow/c/logging.cc:34] DirectML device enumeration: found 1 compatible adapters.\n"
     ]
    }
   ],
   "source": [
    "# 1) Sequential\n",
    "\n",
    "import tensorflow as tf\n",
    "from tensorflow.keras.models import Sequential, Model\n",
    "from tensorflow.keras.layers import Dense, Input\n",
    "from sklearn.metrics import classification_report"
   ]
  },
  {
   "cell_type": "code",
   "execution_count": 15,
   "id": "25e004aa",
   "metadata": {},
   "outputs": [
    {
     "data": {
      "text/plain": [
       "(3898, 12)"
      ]
     },
     "execution_count": 15,
     "metadata": {},
     "output_type": "execute_result"
    }
   ],
   "source": [
    "X_train.shape"
   ]
  },
  {
   "cell_type": "code",
   "execution_count": 16,
   "id": "cd48deb2",
   "metadata": {},
   "outputs": [
    {
     "data": {
      "text/plain": [
       "12"
      ]
     },
     "execution_count": 16,
     "metadata": {},
     "output_type": "execute_result"
    }
   ],
   "source": [
    "X_train.shape[1]"
   ]
  },
  {
   "cell_type": "code",
   "execution_count": 17,
   "id": "c8557c7f",
   "metadata": {},
   "outputs": [
    {
     "name": "stdout",
     "output_type": "stream",
     "text": [
      "Model: \"sequential\"\n",
      "_________________________________________________________________\n",
      " Layer (type)                Output Shape              Param #   \n",
      "=================================================================\n",
      " dense (Dense)               (None, 32)                416       \n",
      "                                                                 \n",
      " dense_1 (Dense)             (None, 16)                528       \n",
      "                                                                 \n",
      " dense_2 (Dense)             (None, 8)                 136       \n",
      "                                                                 \n",
      " dense_3 (Dense)             (None, 1)                 9         \n",
      "                                                                 \n",
      "=================================================================\n",
      "Total params: 1,089\n",
      "Trainable params: 1,089\n",
      "Non-trainable params: 0\n",
      "_________________________________________________________________\n"
     ]
    },
    {
     "name": "stderr",
     "output_type": "stream",
     "text": [
      "2024-09-10 14:25:28.545937: I tensorflow/core/platform/cpu_feature_guard.cc:193] This TensorFlow binary is optimized with oneAPI Deep Neural Network Library (oneDNN) to use the following CPU instructions in performance-critical operations:  AVX2 FMA\n",
      "To enable them in other operations, rebuild TensorFlow with the appropriate compiler flags.\n",
      "2024-09-10 14:25:28.548423: I tensorflow/c/logging.cc:34] DirectML: creating device on adapter 0 (AMD Radeon(TM) Graphics)\n",
      "2024-09-10 14:25:28.633013: I tensorflow/core/common_runtime/pluggable_device/pluggable_device_factory.cc:306] Could not identify NUMA node of platform GPU ID 0, defaulting to 0. Your kernel may not have been built with NUMA support.\n",
      "2024-09-10 14:25:28.633058: W tensorflow/core/common_runtime/pluggable_device/pluggable_device_bfc_allocator.cc:28] Overriding allow_growth setting because force_memory_growth was requested by the device.\n",
      "2024-09-10 14:25:28.633081: I tensorflow/core/common_runtime/pluggable_device/pluggable_device_factory.cc:272] Created TensorFlow device (/job:localhost/replica:0/task:0/device:GPU:0 with 14845 MB memory) -> physical PluggableDevice (device: 0, name: DML, pci bus id: <undefined>)\n"
     ]
    }
   ],
   "source": [
    "model = Sequential()\n",
    "model.add(Dense(32, input_dim=X_train.shape[1], activation='relu'))   # 입력층\n",
    "model.add(Dense(16, activation='relu'))                 # 은닉층 1\n",
    "model.add(Dense(8, activation='relu'))                  # 은닉층 2\n",
    "model.add(Dense(1, activation='sigmoid'))               # 출력층, y가 이진법 (0,1) 이기 때문에 sigmoid\n",
    "model.summary()\n",
    "\n",
    "# y가 이진법 (0,1) 이기 때문에 sigmoid"
   ]
  },
  {
   "cell_type": "code",
   "execution_count": 18,
   "id": "3b50d4d7",
   "metadata": {},
   "outputs": [
    {
     "name": "stdout",
     "output_type": "stream",
     "text": [
      "Epoch 1/100\n",
      "7/8 [=========================>....] - ETA: 0s - loss: 0.6904 - accuracy: 0.5980"
     ]
    },
    {
     "name": "stderr",
     "output_type": "stream",
     "text": [
      "2024-09-10 14:25:29.273120: I tensorflow/core/grappler/optimizers/custom_graph_optimizer_registry.cc:114] Plugin optimizer for device_type GPU is enabled.\n",
      "2024-09-10 14:25:29.337910: I tensorflow/core/common_runtime/pluggable_device/pluggable_device_factory.cc:306] Could not identify NUMA node of platform GPU ID 0, defaulting to 0. Your kernel may not have been built with NUMA support.\n",
      "2024-09-10 14:25:29.337970: I tensorflow/core/common_runtime/pluggable_device/pluggable_device_factory.cc:272] Created TensorFlow device (/job:localhost/replica:0/task:0/device:GPU:0 with 14845 MB memory) -> physical PluggableDevice (device: 0, name: DML, pci bus id: <undefined>)\n"
     ]
    },
    {
     "name": "stdout",
     "output_type": "stream",
     "text": [
      "8/8 [==============================] - 1s 35ms/step - loss: 0.6877 - accuracy: 0.6065 - val_loss: 0.6708 - val_accuracy: 0.6913\n",
      "Epoch 2/100\n",
      "8/8 [==============================] - 0s 16ms/step - loss: 0.6425 - accuracy: 0.7306 - val_loss: 0.6298 - val_accuracy: 0.7498\n",
      "Epoch 3/100\n",
      "1/8 [==>...........................] - ETA: 0s - loss: 0.6063 - accuracy: 0.7740"
     ]
    },
    {
     "name": "stderr",
     "output_type": "stream",
     "text": [
      "2024-09-10 14:25:29.571120: I tensorflow/core/grappler/optimizers/custom_graph_optimizer_registry.cc:114] Plugin optimizer for device_type GPU is enabled.\n",
      "2024-09-10 14:25:29.598023: I tensorflow/core/common_runtime/pluggable_device/pluggable_device_factory.cc:306] Could not identify NUMA node of platform GPU ID 0, defaulting to 0. Your kernel may not have been built with NUMA support.\n",
      "2024-09-10 14:25:29.598084: I tensorflow/core/common_runtime/pluggable_device/pluggable_device_factory.cc:272] Created TensorFlow device (/job:localhost/replica:0/task:0/device:GPU:0 with 14845 MB memory) -> physical PluggableDevice (device: 0, name: DML, pci bus id: <undefined>)\n"
     ]
    },
    {
     "name": "stdout",
     "output_type": "stream",
     "text": [
      "8/8 [==============================] - 0s 17ms/step - loss: 0.6023 - accuracy: 0.7578 - val_loss: 0.5893 - val_accuracy: 0.7660\n",
      "Epoch 4/100\n",
      "8/8 [==============================] - 0s 18ms/step - loss: 0.5605 - accuracy: 0.7776 - val_loss: 0.5444 - val_accuracy: 0.7929\n",
      "Epoch 5/100\n",
      "8/8 [==============================] - 0s 15ms/step - loss: 0.5140 - accuracy: 0.8153 - val_loss: 0.4938 - val_accuracy: 0.8229\n",
      "Epoch 6/100\n",
      "8/8 [==============================] - 0s 15ms/step - loss: 0.4626 - accuracy: 0.8404 - val_loss: 0.4364 - val_accuracy: 0.8522\n",
      "Epoch 7/100\n",
      "8/8 [==============================] - 0s 15ms/step - loss: 0.4034 - accuracy: 0.8756 - val_loss: 0.3707 - val_accuracy: 0.9022\n",
      "Epoch 8/100\n",
      "8/8 [==============================] - 0s 15ms/step - loss: 0.3389 - accuracy: 0.9253 - val_loss: 0.3040 - val_accuracy: 0.9461\n",
      "Epoch 9/100\n",
      "8/8 [==============================] - 0s 14ms/step - loss: 0.2765 - accuracy: 0.9613 - val_loss: 0.2435 - val_accuracy: 0.9661\n",
      "Epoch 10/100\n",
      "8/8 [==============================] - 0s 14ms/step - loss: 0.2221 - accuracy: 0.9723 - val_loss: 0.1915 - val_accuracy: 0.9784\n",
      "Epoch 11/100\n",
      "8/8 [==============================] - 0s 15ms/step - loss: 0.1761 - accuracy: 0.9800 - val_loss: 0.1490 - val_accuracy: 0.9838\n",
      "Epoch 12/100\n",
      "8/8 [==============================] - 0s 16ms/step - loss: 0.1393 - accuracy: 0.9828 - val_loss: 0.1159 - val_accuracy: 0.9892\n",
      "Epoch 13/100\n",
      "8/8 [==============================] - 0s 19ms/step - loss: 0.1108 - accuracy: 0.9864 - val_loss: 0.0913 - val_accuracy: 0.9900\n",
      "Epoch 14/100\n",
      "8/8 [==============================] - 0s 15ms/step - loss: 0.0905 - accuracy: 0.9882 - val_loss: 0.0734 - val_accuracy: 0.9931\n",
      "Epoch 15/100\n",
      "8/8 [==============================] - 0s 17ms/step - loss: 0.0753 - accuracy: 0.9895 - val_loss: 0.0609 - val_accuracy: 0.9923\n",
      "Epoch 16/100\n",
      "8/8 [==============================] - 0s 15ms/step - loss: 0.0648 - accuracy: 0.9887 - val_loss: 0.0520 - val_accuracy: 0.9931\n",
      "Epoch 17/100\n",
      "8/8 [==============================] - 0s 17ms/step - loss: 0.0570 - accuracy: 0.9892 - val_loss: 0.0455 - val_accuracy: 0.9931\n",
      "Epoch 18/100\n",
      "8/8 [==============================] - 0s 15ms/step - loss: 0.0512 - accuracy: 0.9903 - val_loss: 0.0407 - val_accuracy: 0.9938\n",
      "Epoch 19/100\n",
      "8/8 [==============================] - 0s 15ms/step - loss: 0.0468 - accuracy: 0.9905 - val_loss: 0.0369 - val_accuracy: 0.9938\n",
      "Epoch 20/100\n",
      "8/8 [==============================] - 0s 15ms/step - loss: 0.0430 - accuracy: 0.9910 - val_loss: 0.0339 - val_accuracy: 0.9938\n",
      "Epoch 21/100\n",
      "8/8 [==============================] - 0s 19ms/step - loss: 0.0400 - accuracy: 0.9908 - val_loss: 0.0314 - val_accuracy: 0.9938\n",
      "Epoch 22/100\n",
      "8/8 [==============================] - 0s 14ms/step - loss: 0.0374 - accuracy: 0.9913 - val_loss: 0.0295 - val_accuracy: 0.9946\n",
      "Epoch 23/100\n",
      "8/8 [==============================] - 0s 15ms/step - loss: 0.0354 - accuracy: 0.9920 - val_loss: 0.0280 - val_accuracy: 0.9946\n",
      "Epoch 24/100\n",
      "8/8 [==============================] - 0s 14ms/step - loss: 0.0337 - accuracy: 0.9931 - val_loss: 0.0266 - val_accuracy: 0.9946\n",
      "Epoch 25/100\n",
      "8/8 [==============================] - 0s 15ms/step - loss: 0.0323 - accuracy: 0.9933 - val_loss: 0.0253 - val_accuracy: 0.9946\n",
      "Epoch 26/100\n",
      "8/8 [==============================] - 0s 17ms/step - loss: 0.0310 - accuracy: 0.9944 - val_loss: 0.0243 - val_accuracy: 0.9946\n",
      "Epoch 27/100\n",
      "8/8 [==============================] - 0s 15ms/step - loss: 0.0300 - accuracy: 0.9944 - val_loss: 0.0234 - val_accuracy: 0.9962\n",
      "Epoch 28/100\n",
      "8/8 [==============================] - 0s 16ms/step - loss: 0.0291 - accuracy: 0.9946 - val_loss: 0.0225 - val_accuracy: 0.9962\n",
      "Epoch 29/100\n",
      "8/8 [==============================] - 0s 16ms/step - loss: 0.0283 - accuracy: 0.9946 - val_loss: 0.0218 - val_accuracy: 0.9962\n",
      "Epoch 30/100\n",
      "8/8 [==============================] - 0s 15ms/step - loss: 0.0276 - accuracy: 0.9949 - val_loss: 0.0214 - val_accuracy: 0.9954\n",
      "Epoch 31/100\n",
      "8/8 [==============================] - 0s 15ms/step - loss: 0.0269 - accuracy: 0.9949 - val_loss: 0.0209 - val_accuracy: 0.9954\n",
      "Epoch 32/100\n",
      "8/8 [==============================] - 0s 15ms/step - loss: 0.0263 - accuracy: 0.9949 - val_loss: 0.0203 - val_accuracy: 0.9962\n",
      "Epoch 33/100\n",
      "8/8 [==============================] - 0s 15ms/step - loss: 0.0257 - accuracy: 0.9949 - val_loss: 0.0197 - val_accuracy: 0.9969\n",
      "Epoch 34/100\n",
      "8/8 [==============================] - 0s 15ms/step - loss: 0.0252 - accuracy: 0.9951 - val_loss: 0.0193 - val_accuracy: 0.9969\n",
      "Epoch 35/100\n",
      "8/8 [==============================] - 0s 18ms/step - loss: 0.0247 - accuracy: 0.9954 - val_loss: 0.0190 - val_accuracy: 0.9954\n",
      "Epoch 36/100\n",
      "8/8 [==============================] - 0s 19ms/step - loss: 0.0243 - accuracy: 0.9954 - val_loss: 0.0187 - val_accuracy: 0.9954\n",
      "Epoch 37/100\n",
      "8/8 [==============================] - 0s 15ms/step - loss: 0.0238 - accuracy: 0.9956 - val_loss: 0.0181 - val_accuracy: 0.9962\n",
      "Epoch 38/100\n",
      "8/8 [==============================] - 0s 15ms/step - loss: 0.0234 - accuracy: 0.9956 - val_loss: 0.0178 - val_accuracy: 0.9969\n",
      "Epoch 39/100\n",
      "8/8 [==============================] - 0s 14ms/step - loss: 0.0230 - accuracy: 0.9962 - val_loss: 0.0174 - val_accuracy: 0.9962\n",
      "Epoch 40/100\n",
      "8/8 [==============================] - 0s 16ms/step - loss: 0.0225 - accuracy: 0.9962 - val_loss: 0.0172 - val_accuracy: 0.9969\n",
      "Epoch 41/100\n",
      "8/8 [==============================] - 0s 18ms/step - loss: 0.0222 - accuracy: 0.9962 - val_loss: 0.0169 - val_accuracy: 0.9962\n",
      "Epoch 42/100\n",
      "8/8 [==============================] - 0s 15ms/step - loss: 0.0218 - accuracy: 0.9962 - val_loss: 0.0167 - val_accuracy: 0.9962\n",
      "Epoch 43/100\n",
      "8/8 [==============================] - 0s 14ms/step - loss: 0.0215 - accuracy: 0.9962 - val_loss: 0.0164 - val_accuracy: 0.9962\n",
      "Epoch 44/100\n",
      "8/8 [==============================] - 0s 18ms/step - loss: 0.0212 - accuracy: 0.9962 - val_loss: 0.0162 - val_accuracy: 0.9962\n",
      "Epoch 45/100\n",
      "8/8 [==============================] - 0s 20ms/step - loss: 0.0209 - accuracy: 0.9962 - val_loss: 0.0159 - val_accuracy: 0.9962\n",
      "Epoch 46/100\n",
      "8/8 [==============================] - 0s 15ms/step - loss: 0.0206 - accuracy: 0.9962 - val_loss: 0.0156 - val_accuracy: 0.9969\n",
      "Epoch 47/100\n",
      "8/8 [==============================] - 0s 14ms/step - loss: 0.0204 - accuracy: 0.9964 - val_loss: 0.0155 - val_accuracy: 0.9962\n",
      "Epoch 48/100\n",
      "8/8 [==============================] - 0s 14ms/step - loss: 0.0201 - accuracy: 0.9964 - val_loss: 0.0154 - val_accuracy: 0.9962\n",
      "Epoch 49/100\n",
      "8/8 [==============================] - 0s 15ms/step - loss: 0.0198 - accuracy: 0.9964 - val_loss: 0.0152 - val_accuracy: 0.9962\n",
      "Epoch 50/100\n",
      "8/8 [==============================] - 0s 15ms/step - loss: 0.0196 - accuracy: 0.9964 - val_loss: 0.0150 - val_accuracy: 0.9969\n",
      "Epoch 51/100\n",
      "8/8 [==============================] - 0s 15ms/step - loss: 0.0194 - accuracy: 0.9964 - val_loss: 0.0148 - val_accuracy: 0.9969\n",
      "Epoch 52/100\n",
      "8/8 [==============================] - 0s 16ms/step - loss: 0.0191 - accuracy: 0.9967 - val_loss: 0.0148 - val_accuracy: 0.9962\n",
      "Epoch 53/100\n",
      "8/8 [==============================] - 0s 18ms/step - loss: 0.0189 - accuracy: 0.9967 - val_loss: 0.0146 - val_accuracy: 0.9962\n",
      "Epoch 54/100\n",
      "8/8 [==============================] - 0s 15ms/step - loss: 0.0187 - accuracy: 0.9967 - val_loss: 0.0144 - val_accuracy: 0.9969\n",
      "Epoch 55/100\n",
      "8/8 [==============================] - 0s 16ms/step - loss: 0.0185 - accuracy: 0.9967 - val_loss: 0.0145 - val_accuracy: 0.9962\n",
      "Epoch 56/100\n",
      "8/8 [==============================] - 0s 17ms/step - loss: 0.0182 - accuracy: 0.9967 - val_loss: 0.0145 - val_accuracy: 0.9962\n",
      "Epoch 57/100\n",
      "8/8 [==============================] - 0s 14ms/step - loss: 0.0180 - accuracy: 0.9967 - val_loss: 0.0143 - val_accuracy: 0.9962\n",
      "Epoch 58/100\n",
      "8/8 [==============================] - 0s 15ms/step - loss: 0.0178 - accuracy: 0.9967 - val_loss: 0.0141 - val_accuracy: 0.9962\n",
      "Epoch 59/100\n",
      "8/8 [==============================] - 0s 15ms/step - loss: 0.0177 - accuracy: 0.9967 - val_loss: 0.0140 - val_accuracy: 0.9969\n",
      "Epoch 60/100\n",
      "8/8 [==============================] - 0s 18ms/step - loss: 0.0174 - accuracy: 0.9967 - val_loss: 0.0140 - val_accuracy: 0.9969\n",
      "Epoch 61/100\n"
     ]
    },
    {
     "name": "stdout",
     "output_type": "stream",
     "text": [
      "8/8 [==============================] - 0s 15ms/step - loss: 0.0173 - accuracy: 0.9967 - val_loss: 0.0141 - val_accuracy: 0.9969\n",
      "Epoch 62/100\n",
      "8/8 [==============================] - 0s 15ms/step - loss: 0.0170 - accuracy: 0.9967 - val_loss: 0.0138 - val_accuracy: 0.9969\n",
      "Epoch 63/100\n",
      "8/8 [==============================] - 0s 15ms/step - loss: 0.0169 - accuracy: 0.9967 - val_loss: 0.0137 - val_accuracy: 0.9969\n",
      "Epoch 64/100\n",
      "8/8 [==============================] - 0s 14ms/step - loss: 0.0167 - accuracy: 0.9969 - val_loss: 0.0136 - val_accuracy: 0.9969\n",
      "Epoch 65/100\n",
      "8/8 [==============================] - 0s 14ms/step - loss: 0.0165 - accuracy: 0.9969 - val_loss: 0.0135 - val_accuracy: 0.9977\n",
      "Epoch 66/100\n",
      "8/8 [==============================] - 0s 15ms/step - loss: 0.0163 - accuracy: 0.9969 - val_loss: 0.0136 - val_accuracy: 0.9969\n",
      "Epoch 67/100\n",
      "8/8 [==============================] - 0s 15ms/step - loss: 0.0162 - accuracy: 0.9969 - val_loss: 0.0135 - val_accuracy: 0.9969\n",
      "Epoch 68/100\n",
      "8/8 [==============================] - 0s 20ms/step - loss: 0.0160 - accuracy: 0.9972 - val_loss: 0.0134 - val_accuracy: 0.9969\n",
      "Epoch 69/100\n",
      "8/8 [==============================] - 0s 14ms/step - loss: 0.0159 - accuracy: 0.9972 - val_loss: 0.0134 - val_accuracy: 0.9977\n",
      "Epoch 70/100\n",
      "8/8 [==============================] - 0s 14ms/step - loss: 0.0157 - accuracy: 0.9972 - val_loss: 0.0135 - val_accuracy: 0.9969\n",
      "Epoch 71/100\n",
      "8/8 [==============================] - 0s 15ms/step - loss: 0.0155 - accuracy: 0.9972 - val_loss: 0.0133 - val_accuracy: 0.9977\n",
      "Epoch 72/100\n",
      "8/8 [==============================] - 0s 14ms/step - loss: 0.0154 - accuracy: 0.9972 - val_loss: 0.0132 - val_accuracy: 0.9977\n",
      "Epoch 73/100\n",
      "8/8 [==============================] - 0s 18ms/step - loss: 0.0153 - accuracy: 0.9972 - val_loss: 0.0132 - val_accuracy: 0.9969\n",
      "Epoch 74/100\n",
      "8/8 [==============================] - 0s 14ms/step - loss: 0.0152 - accuracy: 0.9972 - val_loss: 0.0131 - val_accuracy: 0.9977\n",
      "Epoch 75/100\n",
      "8/8 [==============================] - 0s 15ms/step - loss: 0.0150 - accuracy: 0.9972 - val_loss: 0.0132 - val_accuracy: 0.9977\n",
      "Epoch 76/100\n",
      "8/8 [==============================] - 0s 15ms/step - loss: 0.0149 - accuracy: 0.9972 - val_loss: 0.0130 - val_accuracy: 0.9969\n",
      "Epoch 77/100\n",
      "8/8 [==============================] - 0s 20ms/step - loss: 0.0147 - accuracy: 0.9972 - val_loss: 0.0129 - val_accuracy: 0.9969\n",
      "Epoch 78/100\n",
      "8/8 [==============================] - 0s 14ms/step - loss: 0.0146 - accuracy: 0.9972 - val_loss: 0.0129 - val_accuracy: 0.9969\n",
      "Epoch 79/100\n",
      "8/8 [==============================] - 0s 14ms/step - loss: 0.0145 - accuracy: 0.9972 - val_loss: 0.0130 - val_accuracy: 0.9969\n",
      "Epoch 80/100\n",
      "8/8 [==============================] - 0s 15ms/step - loss: 0.0144 - accuracy: 0.9972 - val_loss: 0.0130 - val_accuracy: 0.9969\n",
      "Epoch 81/100\n",
      "8/8 [==============================] - 0s 14ms/step - loss: 0.0142 - accuracy: 0.9972 - val_loss: 0.0129 - val_accuracy: 0.9969\n",
      "Epoch 82/100\n",
      "8/8 [==============================] - 0s 14ms/step - loss: 0.0142 - accuracy: 0.9972 - val_loss: 0.0129 - val_accuracy: 0.9969\n",
      "Epoch 83/100\n",
      "8/8 [==============================] - 0s 15ms/step - loss: 0.0140 - accuracy: 0.9972 - val_loss: 0.0129 - val_accuracy: 0.9969\n",
      "Epoch 84/100\n",
      "8/8 [==============================] - 0s 14ms/step - loss: 0.0139 - accuracy: 0.9972 - val_loss: 0.0129 - val_accuracy: 0.9969\n",
      "Epoch 85/100\n",
      "8/8 [==============================] - 0s 15ms/step - loss: 0.0138 - accuracy: 0.9972 - val_loss: 0.0128 - val_accuracy: 0.9969\n",
      "Epoch 86/100\n",
      "8/8 [==============================] - 0s 16ms/step - loss: 0.0137 - accuracy: 0.9972 - val_loss: 0.0128 - val_accuracy: 0.9969\n",
      "Epoch 87/100\n",
      "8/8 [==============================] - 0s 17ms/step - loss: 0.0136 - accuracy: 0.9972 - val_loss: 0.0127 - val_accuracy: 0.9969\n",
      "Epoch 88/100\n",
      "8/8 [==============================] - 0s 14ms/step - loss: 0.0135 - accuracy: 0.9972 - val_loss: 0.0127 - val_accuracy: 0.9969\n",
      "Epoch 89/100\n",
      "8/8 [==============================] - 0s 15ms/step - loss: 0.0133 - accuracy: 0.9972 - val_loss: 0.0127 - val_accuracy: 0.9969\n",
      "Epoch 90/100\n",
      "8/8 [==============================] - 0s 16ms/step - loss: 0.0133 - accuracy: 0.9972 - val_loss: 0.0126 - val_accuracy: 0.9969\n",
      "Epoch 91/100\n",
      "8/8 [==============================] - 0s 16ms/step - loss: 0.0131 - accuracy: 0.9972 - val_loss: 0.0127 - val_accuracy: 0.9969\n",
      "Epoch 92/100\n",
      "8/8 [==============================] - 0s 14ms/step - loss: 0.0130 - accuracy: 0.9972 - val_loss: 0.0126 - val_accuracy: 0.9969\n",
      "Epoch 93/100\n",
      "8/8 [==============================] - 0s 15ms/step - loss: 0.0129 - accuracy: 0.9972 - val_loss: 0.0127 - val_accuracy: 0.9969\n",
      "Epoch 94/100\n",
      "8/8 [==============================] - 0s 15ms/step - loss: 0.0128 - accuracy: 0.9972 - val_loss: 0.0126 - val_accuracy: 0.9969\n",
      "Epoch 95/100\n",
      "8/8 [==============================] - 0s 19ms/step - loss: 0.0127 - accuracy: 0.9972 - val_loss: 0.0126 - val_accuracy: 0.9969\n",
      "Epoch 96/100\n",
      "8/8 [==============================] - 0s 14ms/step - loss: 0.0126 - accuracy: 0.9972 - val_loss: 0.0125 - val_accuracy: 0.9969\n",
      "Epoch 97/100\n",
      "8/8 [==============================] - 0s 14ms/step - loss: 0.0125 - accuracy: 0.9974 - val_loss: 0.0125 - val_accuracy: 0.9969\n",
      "Epoch 98/100\n",
      "8/8 [==============================] - 0s 14ms/step - loss: 0.0124 - accuracy: 0.9972 - val_loss: 0.0125 - val_accuracy: 0.9969\n",
      "Epoch 99/100\n",
      "8/8 [==============================] - 0s 15ms/step - loss: 0.0124 - accuracy: 0.9974 - val_loss: 0.0124 - val_accuracy: 0.9969\n",
      "Epoch 100/100\n",
      "8/8 [==============================] - 0s 14ms/step - loss: 0.0122 - accuracy: 0.9974 - val_loss: 0.0124 - val_accuracy: 0.9969\n"
     ]
    }
   ],
   "source": [
    "model.compile(loss='binary_crossentropy', optimizer='adam', metrics=['accuracy'])\n",
    "history = model.fit(X_train, y_train, epochs = 100, batch_size = 500, validation_data = (X_valid, y_valid)) \n",
    "\n",
    "\n",
    "# y가 이진법 (0,1) 이기 때문에 sigmoid\n",
    "# 그래서 loss 부분도 binary_crossentropy"
   ]
  },
  {
   "cell_type": "code",
   "execution_count": 19,
   "id": "cbeddaf0",
   "metadata": {},
   "outputs": [
    {
     "name": "stdout",
     "output_type": "stream",
     "text": [
      "41/41 [==============================] - 0s 3ms/step\n",
      "              precision    recall  f1-score   support\n",
      "\n",
      "           0       1.00      1.00      1.00       976\n",
      "           1       0.99      0.99      0.99       324\n",
      "\n",
      "    accuracy                           1.00      1300\n",
      "   macro avg       0.99      0.99      0.99      1300\n",
      "weighted avg       1.00      1.00      1.00      1300\n",
      "\n"
     ]
    },
    {
     "name": "stderr",
     "output_type": "stream",
     "text": [
      "2024-09-10 14:25:41.944002: I tensorflow/core/grappler/optimizers/custom_graph_optimizer_registry.cc:114] Plugin optimizer for device_type GPU is enabled.\n",
      "2024-09-10 14:25:42.100190: I tensorflow/core/common_runtime/pluggable_device/pluggable_device_factory.cc:306] Could not identify NUMA node of platform GPU ID 0, defaulting to 0. Your kernel may not have been built with NUMA support.\n",
      "2024-09-10 14:25:42.100259: I tensorflow/core/common_runtime/pluggable_device/pluggable_device_factory.cc:272] Created TensorFlow device (/job:localhost/replica:0/task:0/device:GPU:0 with 14845 MB memory) -> physical PluggableDevice (device: 0, name: DML, pci bus id: <undefined>)\n",
      "2024-09-10 14:25:42.116537: I tensorflow/core/common_runtime/pluggable_device/pluggable_device_factory.cc:306] Could not identify NUMA node of platform GPU ID 0, defaulting to 0. Your kernel may not have been built with NUMA support.\n",
      "2024-09-10 14:25:42.116611: I tensorflow/core/common_runtime/pluggable_device/pluggable_device_factory.cc:272] Created TensorFlow device (/job:localhost/replica:0/task:0/device:GPU:0 with 14845 MB memory) -> physical PluggableDevice (device: 0, name: DML, pci bus id: <undefined>)\n",
      "2024-09-10 14:25:42.121550: I tensorflow/core/common_runtime/pluggable_device/pluggable_device_factory.cc:306] Could not identify NUMA node of platform GPU ID 0, defaulting to 0. Your kernel may not have been built with NUMA support.\n",
      "2024-09-10 14:25:42.121611: I tensorflow/core/common_runtime/pluggable_device/pluggable_device_factory.cc:272] Created TensorFlow device (/job:localhost/replica:0/task:0/device:GPU:0 with 14845 MB memory) -> physical PluggableDevice (device: 0, name: DML, pci bus id: <undefined>)\n"
     ]
    }
   ],
   "source": [
    "pred = model.predict(X_test)\n",
    "pred = pd.DataFrame(pred)\n",
    "pred = pred[0].apply(lambda x : 1 if x > 0.5 else 0)\n",
    "print(classification_report(y_test, pred))"
   ]
  },
  {
   "cell_type": "code",
   "execution_count": 20,
   "id": "6bd8b7c1",
   "metadata": {},
   "outputs": [
    {
     "data": {
      "text/plain": [
       "dict_keys(['loss', 'accuracy', 'val_loss', 'val_accuracy'])"
      ]
     },
     "execution_count": 20,
     "metadata": {},
     "output_type": "execute_result"
    }
   ],
   "source": [
    "history.history.keys()"
   ]
  },
  {
   "cell_type": "code",
   "execution_count": 21,
   "id": "a0c87108",
   "metadata": {},
   "outputs": [
    {
     "data": {
      "image/png": "[encoded data removed]",
      "text/plain": [
       "<Figure size 800x400 with 1 Axes>"
      ]
     },
     "metadata": {},
     "output_type": "display_data"
    }
   ],
   "source": [
    "plt.figure(figsize=(8,4))\n",
    "plt.plot(history.history['loss'])\n",
    "plt.plot(history.history['val_loss'])\n",
    "plt.xlabel('epoch')\n",
    "plt.ylabel('loss')\n",
    "plt.legend(['train', 'valid'])\n",
    "plt.show()"
   ]
  },
  {
   "cell_type": "code",
   "execution_count": null,
   "id": "5d647b36",
   "metadata": {},
   "outputs": [],
   "source": []
  },
  {
   "cell_type": "markdown",
   "id": "966da484",
   "metadata": {},
   "source": [
    "# EarlyStopping 으로 학습 조기 중단 및 저장하기 "
   ]
  },
  {
   "cell_type": "markdown",
   "id": "ca56f377",
   "metadata": {},
   "source": [
    "* EarlyStopping : 성능 개선이 멈추면 학습을 조기에 중단하는 콜백 \n",
    "* ModelCheckpoint : 학습 중 가장 성능이 좋은 모델을 자동으로 저장하는 콜백 "
   ]
  },
  {
   "cell_type": "code",
   "execution_count": 22,
   "id": "f98cfd41",
   "metadata": {},
   "outputs": [],
   "source": [
    "from tensorflow.keras.callbacks import EarlyStopping, ModelCheckpoint"
   ]
  },
  {
   "cell_type": "code",
   "execution_count": 23,
   "id": "b395b0ab",
   "metadata": {},
   "outputs": [],
   "source": [
    "early_stopping_callback = EarlyStopping(monitor = 'val_loss', patience=30)\n",
    "\n",
    "# patience=30 이 부분의 수치를 바꾸면 새로 실행되고 파일에 저장됨\n",
    "# patience=50 이렇게 바꿈"
   ]
  },
  {
   "cell_type": "markdown",
   "id": "49c89d40",
   "metadata": {},
   "source": [
    "# ModelCheckpoint \n",
    "* 모델을 중간에 저장하는 옵션"
   ]
  },
  {
   "cell_type": "code",
   "execution_count": 24,
   "id": "ee4763dc",
   "metadata": {},
   "outputs": [
    {
     "name": "stdout",
     "output_type": "stream",
     "text": [
      "Directory /model already exists.\n"
     ]
    }
   ],
   "source": [
    "import os\n",
    "if not os.path.exists(\"./model\"):\n",
    "        os.makedirs(\"./model\")\n",
    "        print(f\"Directory /model created.\")\n",
    "else:\n",
    "        print(f\"Directory /model already exists.\")"
   ]
  },
  {
   "cell_type": "code",
   "execution_count": 25,
   "id": "83ad4d81",
   "metadata": {},
   "outputs": [],
   "source": [
    "modelpath = \"./model/{epoch:03d}--{val_loss:.4f}.keras\"\n",
    "checkpointer = ModelCheckpoint(filepath=modelpath, monitor='val_loss', verbose=0, save_best_only=True)"
   ]
  },
  {
   "cell_type": "code",
   "execution_count": 26,
   "id": "a0e6fec7",
   "metadata": {},
   "outputs": [
    {
     "name": "stdout",
     "output_type": "stream",
     "text": [
      "Epoch 1/1000\n",
      "8/8 [==============================] - 0s 26ms/step - loss: 0.0122 - accuracy: 0.9974 - val_loss: 0.0125 - val_accuracy: 0.9969\n",
      "Epoch 2/1000\n",
      "8/8 [==============================] - 0s 15ms/step - loss: 0.0121 - accuracy: 0.9974 - val_loss: 0.0125 - val_accuracy: 0.9969\n",
      "Epoch 3/1000\n",
      "8/8 [==============================] - 0s 23ms/step - loss: 0.0120 - accuracy: 0.9977 - val_loss: 0.0124 - val_accuracy: 0.9969\n",
      "Epoch 4/1000\n",
      "8/8 [==============================] - 0s 21ms/step - loss: 0.0119 - accuracy: 0.9974 - val_loss: 0.0123 - val_accuracy: 0.9969\n",
      "Epoch 5/1000\n",
      "8/8 [==============================] - 0s 16ms/step - loss: 0.0118 - accuracy: 0.9977 - val_loss: 0.0124 - val_accuracy: 0.9969\n",
      "Epoch 6/1000\n",
      "8/8 [==============================] - 0s 17ms/step - loss: 0.0117 - accuracy: 0.9977 - val_loss: 0.0125 - val_accuracy: 0.9969\n",
      "Epoch 7/1000\n",
      "8/8 [==============================] - 0s 17ms/step - loss: 0.0116 - accuracy: 0.9977 - val_loss: 0.0124 - val_accuracy: 0.9969\n",
      "Epoch 8/1000\n",
      "8/8 [==============================] - 0s 23ms/step - loss: 0.0116 - accuracy: 0.9977 - val_loss: 0.0123 - val_accuracy: 0.9969\n",
      "Epoch 9/1000\n",
      "8/8 [==============================] - 0s 15ms/step - loss: 0.0114 - accuracy: 0.9977 - val_loss: 0.0124 - val_accuracy: 0.9969\n",
      "Epoch 10/1000\n",
      "8/8 [==============================] - 0s 15ms/step - loss: 0.0114 - accuracy: 0.9979 - val_loss: 0.0124 - val_accuracy: 0.9969\n",
      "Epoch 11/1000\n",
      "8/8 [==============================] - 0s 23ms/step - loss: 0.0113 - accuracy: 0.9979 - val_loss: 0.0123 - val_accuracy: 0.9969\n",
      "Epoch 12/1000\n",
      "8/8 [==============================] - 0s 14ms/step - loss: 0.0112 - accuracy: 0.9977 - val_loss: 0.0123 - val_accuracy: 0.9969\n",
      "Epoch 13/1000\n",
      "8/8 [==============================] - 0s 22ms/step - loss: 0.0111 - accuracy: 0.9979 - val_loss: 0.0123 - val_accuracy: 0.9969\n",
      "Epoch 14/1000\n",
      "8/8 [==============================] - 0s 16ms/step - loss: 0.0111 - accuracy: 0.9977 - val_loss: 0.0123 - val_accuracy: 0.9969\n",
      "Epoch 15/1000\n",
      "8/8 [==============================] - 0s 14ms/step - loss: 0.0110 - accuracy: 0.9979 - val_loss: 0.0124 - val_accuracy: 0.9969\n",
      "Epoch 16/1000\n",
      "8/8 [==============================] - 0s 14ms/step - loss: 0.0109 - accuracy: 0.9979 - val_loss: 0.0123 - val_accuracy: 0.9969\n",
      "Epoch 17/1000\n",
      "8/8 [==============================] - 0s 26ms/step - loss: 0.0108 - accuracy: 0.9979 - val_loss: 0.0123 - val_accuracy: 0.9969\n",
      "Epoch 18/1000\n",
      "8/8 [==============================] - 0s 15ms/step - loss: 0.0107 - accuracy: 0.9979 - val_loss: 0.0123 - val_accuracy: 0.9969\n",
      "Epoch 19/1000\n",
      "8/8 [==============================] - 0s 15ms/step - loss: 0.0106 - accuracy: 0.9979 - val_loss: 0.0124 - val_accuracy: 0.9969\n",
      "Epoch 20/1000\n",
      "8/8 [==============================] - 0s 14ms/step - loss: 0.0105 - accuracy: 0.9979 - val_loss: 0.0125 - val_accuracy: 0.9969\n",
      "Epoch 21/1000\n",
      "8/8 [==============================] - 0s 17ms/step - loss: 0.0104 - accuracy: 0.9979 - val_loss: 0.0124 - val_accuracy: 0.9969\n",
      "Epoch 22/1000\n",
      "8/8 [==============================] - 0s 14ms/step - loss: 0.0103 - accuracy: 0.9979 - val_loss: 0.0123 - val_accuracy: 0.9969\n",
      "Epoch 23/1000\n",
      "8/8 [==============================] - 0s 14ms/step - loss: 0.0103 - accuracy: 0.9979 - val_loss: 0.0123 - val_accuracy: 0.9969\n",
      "Epoch 24/1000\n",
      "8/8 [==============================] - 0s 15ms/step - loss: 0.0102 - accuracy: 0.9979 - val_loss: 0.0124 - val_accuracy: 0.9969\n",
      "Epoch 25/1000\n",
      "8/8 [==============================] - 0s 15ms/step - loss: 0.0101 - accuracy: 0.9979 - val_loss: 0.0124 - val_accuracy: 0.9969\n",
      "Epoch 26/1000\n",
      "8/8 [==============================] - 0s 18ms/step - loss: 0.0100 - accuracy: 0.9979 - val_loss: 0.0124 - val_accuracy: 0.9969\n",
      "Epoch 27/1000\n",
      "8/8 [==============================] - 0s 15ms/step - loss: 0.0099 - accuracy: 0.9979 - val_loss: 0.0123 - val_accuracy: 0.9969\n",
      "Epoch 28/1000\n",
      "8/8 [==============================] - 0s 15ms/step - loss: 0.0098 - accuracy: 0.9979 - val_loss: 0.0124 - val_accuracy: 0.9969\n",
      "Epoch 29/1000\n",
      "8/8 [==============================] - 0s 15ms/step - loss: 0.0097 - accuracy: 0.9979 - val_loss: 0.0124 - val_accuracy: 0.9969\n",
      "Epoch 30/1000\n",
      "8/8 [==============================] - 0s 18ms/step - loss: 0.0096 - accuracy: 0.9979 - val_loss: 0.0123 - val_accuracy: 0.9969\n",
      "Epoch 31/1000\n",
      "8/8 [==============================] - 0s 15ms/step - loss: 0.0096 - accuracy: 0.9979 - val_loss: 0.0123 - val_accuracy: 0.9969\n",
      "Epoch 32/1000\n",
      "8/8 [==============================] - 0s 15ms/step - loss: 0.0095 - accuracy: 0.9979 - val_loss: 0.0123 - val_accuracy: 0.9969\n",
      "Epoch 33/1000\n",
      "8/8 [==============================] - 0s 14ms/step - loss: 0.0094 - accuracy: 0.9979 - val_loss: 0.0123 - val_accuracy: 0.9969\n",
      "Epoch 34/1000\n",
      "8/8 [==============================] - 0s 23ms/step - loss: 0.0093 - accuracy: 0.9979 - val_loss: 0.0122 - val_accuracy: 0.9969\n",
      "Epoch 35/1000\n",
      "8/8 [==============================] - 0s 21ms/step - loss: 0.0093 - accuracy: 0.9979 - val_loss: 0.0122 - val_accuracy: 0.9969\n",
      "Epoch 36/1000\n",
      "8/8 [==============================] - 0s 21ms/step - loss: 0.0092 - accuracy: 0.9979 - val_loss: 0.0122 - val_accuracy: 0.9969\n",
      "Epoch 37/1000\n",
      "8/8 [==============================] - 0s 17ms/step - loss: 0.0091 - accuracy: 0.9979 - val_loss: 0.0122 - val_accuracy: 0.9969\n",
      "Epoch 38/1000\n",
      "8/8 [==============================] - 0s 25ms/step - loss: 0.0090 - accuracy: 0.9979 - val_loss: 0.0122 - val_accuracy: 0.9969\n",
      "Epoch 39/1000\n",
      "8/8 [==============================] - 0s 15ms/step - loss: 0.0090 - accuracy: 0.9979 - val_loss: 0.0122 - val_accuracy: 0.9969\n",
      "Epoch 40/1000\n",
      "8/8 [==============================] - 0s 15ms/step - loss: 0.0089 - accuracy: 0.9979 - val_loss: 0.0123 - val_accuracy: 0.9969\n",
      "Epoch 41/1000\n",
      "8/8 [==============================] - 0s 22ms/step - loss: 0.0088 - accuracy: 0.9979 - val_loss: 0.0122 - val_accuracy: 0.9969\n",
      "Epoch 42/1000\n",
      "8/8 [==============================] - 0s 15ms/step - loss: 0.0087 - accuracy: 0.9979 - val_loss: 0.0122 - val_accuracy: 0.9969\n",
      "Epoch 43/1000\n",
      "8/8 [==============================] - 0s 19ms/step - loss: 0.0087 - accuracy: 0.9979 - val_loss: 0.0122 - val_accuracy: 0.9969\n",
      "Epoch 44/1000\n",
      "8/8 [==============================] - 0s 22ms/step - loss: 0.0086 - accuracy: 0.9979 - val_loss: 0.0121 - val_accuracy: 0.9969\n",
      "Epoch 45/1000\n",
      "8/8 [==============================] - 0s 14ms/step - loss: 0.0085 - accuracy: 0.9979 - val_loss: 0.0122 - val_accuracy: 0.9969\n",
      "Epoch 46/1000\n",
      "8/8 [==============================] - 0s 14ms/step - loss: 0.0085 - accuracy: 0.9979 - val_loss: 0.0122 - val_accuracy: 0.9969\n",
      "Epoch 47/1000\n",
      "8/8 [==============================] - 0s 21ms/step - loss: 0.0083 - accuracy: 0.9979 - val_loss: 0.0121 - val_accuracy: 0.9969\n",
      "Epoch 48/1000\n",
      "8/8 [==============================] - 0s 24ms/step - loss: 0.0083 - accuracy: 0.9979 - val_loss: 0.0121 - val_accuracy: 0.9969\n",
      "Epoch 49/1000\n",
      "8/8 [==============================] - 0s 17ms/step - loss: 0.0082 - accuracy: 0.9979 - val_loss: 0.0121 - val_accuracy: 0.9969\n",
      "Epoch 50/1000\n",
      "8/8 [==============================] - 0s 18ms/step - loss: 0.0081 - accuracy: 0.9979 - val_loss: 0.0121 - val_accuracy: 0.9969\n",
      "Epoch 51/1000\n",
      "8/8 [==============================] - 0s 16ms/step - loss: 0.0080 - accuracy: 0.9979 - val_loss: 0.0122 - val_accuracy: 0.9969\n",
      "Epoch 52/1000\n",
      "8/8 [==============================] - 0s 17ms/step - loss: 0.0079 - accuracy: 0.9979 - val_loss: 0.0121 - val_accuracy: 0.9969\n",
      "Epoch 53/1000\n",
      "8/8 [==============================] - 0s 16ms/step - loss: 0.0079 - accuracy: 0.9979 - val_loss: 0.0122 - val_accuracy: 0.9969\n",
      "Epoch 54/1000\n",
      "8/8 [==============================] - 0s 15ms/step - loss: 0.0078 - accuracy: 0.9979 - val_loss: 0.0122 - val_accuracy: 0.9969\n",
      "Epoch 55/1000\n",
      "8/8 [==============================] - 0s 16ms/step - loss: 0.0077 - accuracy: 0.9979 - val_loss: 0.0122 - val_accuracy: 0.9969\n",
      "Epoch 56/1000\n",
      "8/8 [==============================] - 0s 21ms/step - loss: 0.0076 - accuracy: 0.9979 - val_loss: 0.0121 - val_accuracy: 0.9969\n",
      "Epoch 57/1000\n",
      "8/8 [==============================] - 0s 17ms/step - loss: 0.0075 - accuracy: 0.9979 - val_loss: 0.0122 - val_accuracy: 0.9969\n",
      "Epoch 58/1000\n",
      "8/8 [==============================] - 0s 14ms/step - loss: 0.0075 - accuracy: 0.9979 - val_loss: 0.0121 - val_accuracy: 0.9977\n"
     ]
    },
    {
     "name": "stdout",
     "output_type": "stream",
     "text": [
      "Epoch 59/1000\n",
      "8/8 [==============================] - 0s 18ms/step - loss: 0.0074 - accuracy: 0.9979 - val_loss: 0.0122 - val_accuracy: 0.9977\n",
      "Epoch 60/1000\n",
      "8/8 [==============================] - 0s 14ms/step - loss: 0.0073 - accuracy: 0.9982 - val_loss: 0.0121 - val_accuracy: 0.9977\n",
      "Epoch 61/1000\n",
      "8/8 [==============================] - 0s 15ms/step - loss: 0.0072 - accuracy: 0.9982 - val_loss: 0.0121 - val_accuracy: 0.9969\n",
      "Epoch 62/1000\n",
      "8/8 [==============================] - 0s 17ms/step - loss: 0.0072 - accuracy: 0.9982 - val_loss: 0.0121 - val_accuracy: 0.9977\n",
      "Epoch 63/1000\n",
      "8/8 [==============================] - 0s 17ms/step - loss: 0.0071 - accuracy: 0.9982 - val_loss: 0.0121 - val_accuracy: 0.9977\n",
      "Epoch 64/1000\n",
      "8/8 [==============================] - 0s 16ms/step - loss: 0.0070 - accuracy: 0.9982 - val_loss: 0.0121 - val_accuracy: 0.9977\n",
      "Epoch 65/1000\n",
      "8/8 [==============================] - 0s 14ms/step - loss: 0.0070 - accuracy: 0.9982 - val_loss: 0.0121 - val_accuracy: 0.9977\n",
      "Epoch 66/1000\n",
      "8/8 [==============================] - 0s 17ms/step - loss: 0.0069 - accuracy: 0.9982 - val_loss: 0.0121 - val_accuracy: 0.9977\n",
      "Epoch 67/1000\n",
      "8/8 [==============================] - 0s 22ms/step - loss: 0.0068 - accuracy: 0.9982 - val_loss: 0.0120 - val_accuracy: 0.9977\n",
      "Epoch 68/1000\n",
      "8/8 [==============================] - 0s 21ms/step - loss: 0.0068 - accuracy: 0.9982 - val_loss: 0.0120 - val_accuracy: 0.9977\n",
      "Epoch 69/1000\n",
      "8/8 [==============================] - 0s 15ms/step - loss: 0.0067 - accuracy: 0.9982 - val_loss: 0.0120 - val_accuracy: 0.9977\n",
      "Epoch 70/1000\n",
      "8/8 [==============================] - 0s 15ms/step - loss: 0.0066 - accuracy: 0.9982 - val_loss: 0.0121 - val_accuracy: 0.9977\n",
      "Epoch 71/1000\n",
      "8/8 [==============================] - 0s 22ms/step - loss: 0.0066 - accuracy: 0.9982 - val_loss: 0.0120 - val_accuracy: 0.9977\n",
      "Epoch 72/1000\n",
      "8/8 [==============================] - 0s 15ms/step - loss: 0.0065 - accuracy: 0.9982 - val_loss: 0.0121 - val_accuracy: 0.9977\n",
      "Epoch 73/1000\n",
      "8/8 [==============================] - 0s 22ms/step - loss: 0.0065 - accuracy: 0.9982 - val_loss: 0.0119 - val_accuracy: 0.9977\n",
      "Epoch 74/1000\n",
      "8/8 [==============================] - 0s 22ms/step - loss: 0.0064 - accuracy: 0.9982 - val_loss: 0.0119 - val_accuracy: 0.9977\n",
      "Epoch 75/1000\n",
      "8/8 [==============================] - 0s 15ms/step - loss: 0.0063 - accuracy: 0.9982 - val_loss: 0.0119 - val_accuracy: 0.9977\n",
      "Epoch 76/1000\n",
      "8/8 [==============================] - 0s 14ms/step - loss: 0.0063 - accuracy: 0.9982 - val_loss: 0.0119 - val_accuracy: 0.9977\n",
      "Epoch 77/1000\n",
      "8/8 [==============================] - 0s 16ms/step - loss: 0.0062 - accuracy: 0.9982 - val_loss: 0.0120 - val_accuracy: 0.9977\n",
      "Epoch 78/1000\n",
      "8/8 [==============================] - 0s 15ms/step - loss: 0.0061 - accuracy: 0.9982 - val_loss: 0.0119 - val_accuracy: 0.9977\n",
      "Epoch 79/1000\n",
      "8/8 [==============================] - 0s 21ms/step - loss: 0.0061 - accuracy: 0.9982 - val_loss: 0.0119 - val_accuracy: 0.9977\n",
      "Epoch 80/1000\n",
      "8/8 [==============================] - 0s 22ms/step - loss: 0.0060 - accuracy: 0.9982 - val_loss: 0.0118 - val_accuracy: 0.9977\n",
      "Epoch 81/1000\n",
      "8/8 [==============================] - 0s 22ms/step - loss: 0.0059 - accuracy: 0.9982 - val_loss: 0.0118 - val_accuracy: 0.9977\n",
      "Epoch 82/1000\n",
      "8/8 [==============================] - 0s 22ms/step - loss: 0.0059 - accuracy: 0.9982 - val_loss: 0.0118 - val_accuracy: 0.9977\n",
      "Epoch 83/1000\n",
      "8/8 [==============================] - 0s 14ms/step - loss: 0.0058 - accuracy: 0.9982 - val_loss: 0.0118 - val_accuracy: 0.9977\n",
      "Epoch 84/1000\n",
      "8/8 [==============================] - 0s 20ms/step - loss: 0.0058 - accuracy: 0.9982 - val_loss: 0.0117 - val_accuracy: 0.9977\n",
      "Epoch 85/1000\n",
      "8/8 [==============================] - 0s 21ms/step - loss: 0.0057 - accuracy: 0.9982 - val_loss: 0.0117 - val_accuracy: 0.9977\n",
      "Epoch 86/1000\n",
      "8/8 [==============================] - 0s 21ms/step - loss: 0.0057 - accuracy: 0.9982 - val_loss: 0.0117 - val_accuracy: 0.9977\n",
      "Epoch 87/1000\n",
      "8/8 [==============================] - 0s 20ms/step - loss: 0.0056 - accuracy: 0.9982 - val_loss: 0.0116 - val_accuracy: 0.9977\n",
      "Epoch 88/1000\n",
      "8/8 [==============================] - 0s 14ms/step - loss: 0.0055 - accuracy: 0.9982 - val_loss: 0.0117 - val_accuracy: 0.9977\n",
      "Epoch 89/1000\n",
      "8/8 [==============================] - 0s 14ms/step - loss: 0.0055 - accuracy: 0.9982 - val_loss: 0.0117 - val_accuracy: 0.9977\n",
      "Epoch 90/1000\n",
      "8/8 [==============================] - 0s 23ms/step - loss: 0.0054 - accuracy: 0.9982 - val_loss: 0.0116 - val_accuracy: 0.9977\n",
      "Epoch 91/1000\n",
      "8/8 [==============================] - 0s 14ms/step - loss: 0.0054 - accuracy: 0.9982 - val_loss: 0.0117 - val_accuracy: 0.9977\n",
      "Epoch 92/1000\n",
      "8/8 [==============================] - 0s 14ms/step - loss: 0.0053 - accuracy: 0.9982 - val_loss: 0.0116 - val_accuracy: 0.9977\n",
      "Epoch 93/1000\n",
      "8/8 [==============================] - 0s 14ms/step - loss: 0.0052 - accuracy: 0.9982 - val_loss: 0.0116 - val_accuracy: 0.9977\n",
      "Epoch 94/1000\n",
      "8/8 [==============================] - 0s 22ms/step - loss: 0.0052 - accuracy: 0.9982 - val_loss: 0.0115 - val_accuracy: 0.9977\n",
      "Epoch 95/1000\n",
      "8/8 [==============================] - 0s 19ms/step - loss: 0.0051 - accuracy: 0.9982 - val_loss: 0.0116 - val_accuracy: 0.9977\n",
      "Epoch 96/1000\n",
      "8/8 [==============================] - 0s 14ms/step - loss: 0.0051 - accuracy: 0.9982 - val_loss: 0.0116 - val_accuracy: 0.9977\n",
      "Epoch 97/1000\n",
      "8/8 [==============================] - 0s 14ms/step - loss: 0.0050 - accuracy: 0.9982 - val_loss: 0.0117 - val_accuracy: 0.9977\n",
      "Epoch 98/1000\n",
      "8/8 [==============================] - 0s 14ms/step - loss: 0.0049 - accuracy: 0.9982 - val_loss: 0.0116 - val_accuracy: 0.9977\n",
      "Epoch 99/1000\n",
      "8/8 [==============================] - 0s 14ms/step - loss: 0.0049 - accuracy: 0.9982 - val_loss: 0.0116 - val_accuracy: 0.9977\n",
      "Epoch 100/1000\n",
      "8/8 [==============================] - 0s 15ms/step - loss: 0.0048 - accuracy: 0.9982 - val_loss: 0.0115 - val_accuracy: 0.9977\n",
      "Epoch 101/1000\n",
      "8/8 [==============================] - 0s 22ms/step - loss: 0.0048 - accuracy: 0.9982 - val_loss: 0.0115 - val_accuracy: 0.9977\n",
      "Epoch 102/1000\n",
      "8/8 [==============================] - 0s 20ms/step - loss: 0.0047 - accuracy: 0.9982 - val_loss: 0.0115 - val_accuracy: 0.9977\n",
      "Epoch 103/1000\n",
      "8/8 [==============================] - 0s 20ms/step - loss: 0.0046 - accuracy: 0.9982 - val_loss: 0.0114 - val_accuracy: 0.9977\n",
      "Epoch 104/1000\n",
      "8/8 [==============================] - 0s 20ms/step - loss: 0.0046 - accuracy: 0.9982 - val_loss: 0.0114 - val_accuracy: 0.9977\n",
      "Epoch 105/1000\n",
      "8/8 [==============================] - 0s 15ms/step - loss: 0.0045 - accuracy: 0.9982 - val_loss: 0.0114 - val_accuracy: 0.9977\n",
      "Epoch 106/1000\n",
      "8/8 [==============================] - 0s 17ms/step - loss: 0.0045 - accuracy: 0.9982 - val_loss: 0.0115 - val_accuracy: 0.9977\n",
      "Epoch 107/1000\n",
      "8/8 [==============================] - 0s 15ms/step - loss: 0.0044 - accuracy: 0.9982 - val_loss: 0.0115 - val_accuracy: 0.9977\n",
      "Epoch 108/1000\n",
      "8/8 [==============================] - 0s 14ms/step - loss: 0.0043 - accuracy: 0.9982 - val_loss: 0.0116 - val_accuracy: 0.9977\n",
      "Epoch 109/1000\n",
      "8/8 [==============================] - 0s 14ms/step - loss: 0.0043 - accuracy: 0.9982 - val_loss: 0.0115 - val_accuracy: 0.9977\n",
      "Epoch 110/1000\n",
      "8/8 [==============================] - 0s 15ms/step - loss: 0.0043 - accuracy: 0.9982 - val_loss: 0.0115 - val_accuracy: 0.9977\n",
      "Epoch 111/1000\n",
      "8/8 [==============================] - 0s 15ms/step - loss: 0.0042 - accuracy: 0.9985 - val_loss: 0.0115 - val_accuracy: 0.9977\n",
      "Epoch 112/1000\n",
      "8/8 [==============================] - 0s 16ms/step - loss: 0.0041 - accuracy: 0.9985 - val_loss: 0.0115 - val_accuracy: 0.9977\n",
      "Epoch 113/1000\n",
      "8/8 [==============================] - 0s 18ms/step - loss: 0.0041 - accuracy: 0.9982 - val_loss: 0.0114 - val_accuracy: 0.9977\n",
      "Epoch 114/1000\n",
      "8/8 [==============================] - 0s 17ms/step - loss: 0.0040 - accuracy: 0.9985 - val_loss: 0.0115 - val_accuracy: 0.9977\n",
      "Epoch 115/1000\n",
      "8/8 [==============================] - 0s 17ms/step - loss: 0.0040 - accuracy: 0.9985 - val_loss: 0.0115 - val_accuracy: 0.9977\n",
      "Epoch 116/1000\n"
     ]
    },
    {
     "name": "stdout",
     "output_type": "stream",
     "text": [
      "8/8 [==============================] - 0s 15ms/step - loss: 0.0039 - accuracy: 0.9985 - val_loss: 0.0115 - val_accuracy: 0.9977\n",
      "Epoch 117/1000\n",
      "8/8 [==============================] - 0s 14ms/step - loss: 0.0039 - accuracy: 0.9985 - val_loss: 0.0115 - val_accuracy: 0.9977\n",
      "Epoch 118/1000\n",
      "8/8 [==============================] - 0s 15ms/step - loss: 0.0038 - accuracy: 0.9985 - val_loss: 0.0115 - val_accuracy: 0.9977\n",
      "Epoch 119/1000\n",
      "8/8 [==============================] - 0s 19ms/step - loss: 0.0037 - accuracy: 0.9985 - val_loss: 0.0115 - val_accuracy: 0.9977\n",
      "Epoch 120/1000\n",
      "8/8 [==============================] - 0s 14ms/step - loss: 0.0037 - accuracy: 0.9985 - val_loss: 0.0115 - val_accuracy: 0.9977\n",
      "Epoch 121/1000\n",
      "8/8 [==============================] - 0s 13ms/step - loss: 0.0036 - accuracy: 0.9985 - val_loss: 0.0116 - val_accuracy: 0.9977\n",
      "Epoch 122/1000\n",
      "8/8 [==============================] - 0s 14ms/step - loss: 0.0036 - accuracy: 0.9985 - val_loss: 0.0115 - val_accuracy: 0.9977\n",
      "Epoch 123/1000\n",
      "8/8 [==============================] - 0s 14ms/step - loss: 0.0035 - accuracy: 0.9985 - val_loss: 0.0116 - val_accuracy: 0.9977\n",
      "Epoch 124/1000\n",
      "8/8 [==============================] - 0s 14ms/step - loss: 0.0035 - accuracy: 0.9985 - val_loss: 0.0116 - val_accuracy: 0.9977\n",
      "Epoch 125/1000\n",
      "8/8 [==============================] - 0s 14ms/step - loss: 0.0034 - accuracy: 0.9985 - val_loss: 0.0116 - val_accuracy: 0.9977\n",
      "Epoch 126/1000\n",
      "8/8 [==============================] - 0s 14ms/step - loss: 0.0034 - accuracy: 0.9985 - val_loss: 0.0116 - val_accuracy: 0.9977\n",
      "Epoch 127/1000\n",
      "8/8 [==============================] - 0s 14ms/step - loss: 0.0033 - accuracy: 0.9985 - val_loss: 0.0117 - val_accuracy: 0.9977\n",
      "Epoch 128/1000\n",
      "8/8 [==============================] - 0s 14ms/step - loss: 0.0033 - accuracy: 0.9985 - val_loss: 0.0117 - val_accuracy: 0.9977\n",
      "Epoch 129/1000\n",
      "8/8 [==============================] - 0s 14ms/step - loss: 0.0032 - accuracy: 0.9985 - val_loss: 0.0117 - val_accuracy: 0.9977\n",
      "Epoch 130/1000\n",
      "8/8 [==============================] - 0s 14ms/step - loss: 0.0032 - accuracy: 0.9985 - val_loss: 0.0118 - val_accuracy: 0.9977\n",
      "Epoch 131/1000\n",
      "8/8 [==============================] - 0s 14ms/step - loss: 0.0031 - accuracy: 0.9985 - val_loss: 0.0118 - val_accuracy: 0.9977\n",
      "Epoch 132/1000\n",
      "8/8 [==============================] - 0s 14ms/step - loss: 0.0031 - accuracy: 0.9985 - val_loss: 0.0118 - val_accuracy: 0.9977\n",
      "Epoch 133/1000\n",
      "8/8 [==============================] - 0s 14ms/step - loss: 0.0030 - accuracy: 0.9985 - val_loss: 0.0118 - val_accuracy: 0.9977\n",
      "Epoch 134/1000\n",
      "8/8 [==============================] - 0s 14ms/step - loss: 0.0030 - accuracy: 0.9985 - val_loss: 0.0119 - val_accuracy: 0.9977\n"
     ]
    }
   ],
   "source": [
    "history = model.fit(X_train, y_train, epochs = 1000, batch_size = 500, validation_data = (X_valid, y_valid), \n",
    "                    callbacks=[early_stopping_callback, checkpointer])"
   ]
  },
  {
   "cell_type": "code",
   "execution_count": null,
   "id": "beaff01a",
   "metadata": {},
   "outputs": [],
   "source": []
  },
  {
   "cell_type": "markdown",
   "id": "ea08e3aa",
   "metadata": {},
   "source": [
    "# 저장된 베스트 모델을 불러와서 테스트 하기 "
   ]
  },
  {
   "cell_type": "code",
   "execution_count": 27,
   "id": "49114e4e",
   "metadata": {},
   "outputs": [],
   "source": [
    "from tensorflow.keras.models import load_model"
   ]
  },
  {
   "cell_type": "code",
   "execution_count": 28,
   "id": "ae7203db",
   "metadata": {},
   "outputs": [],
   "source": [
    "best_model = load_model(\"./model/001--0.0097.keras\")"
   ]
  },
  {
   "cell_type": "code",
   "execution_count": 29,
   "id": "ea8028c6",
   "metadata": {},
   "outputs": [
    {
     "name": "stdout",
     "output_type": "stream",
     "text": [
      "41/41 [==============================] - 0s 3ms/step\n",
      "              precision    recall  f1-score   support\n",
      "\n",
      "           0       1.00      1.00      1.00       976\n",
      "           1       0.99      0.99      0.99       324\n",
      "\n",
      "    accuracy                           1.00      1300\n",
      "   macro avg       1.00      0.99      0.99      1300\n",
      "weighted avg       1.00      1.00      1.00      1300\n",
      "\n"
     ]
    },
    {
     "name": "stderr",
     "output_type": "stream",
     "text": [
      "2024-09-10 14:26:00.545458: I tensorflow/core/grappler/optimizers/custom_graph_optimizer_registry.cc:114] Plugin optimizer for device_type GPU is enabled.\n"
     ]
    }
   ],
   "source": [
    "best_pred = best_model.predict(X_test)\n",
    "best_pred = pd.DataFrame(best_pred)\n",
    "best_pred = best_pred[0].apply(lambda x:1 if x > 0.5 else 0)\n",
    "print(classification_report(y_test,best_pred))"
   ]
  },
  {
   "cell_type": "code",
   "execution_count": null,
   "id": "0be75ad9",
   "metadata": {},
   "outputs": [],
   "source": []
  },
  {
   "cell_type": "code",
   "execution_count": null,
   "id": "deeb61df",
   "metadata": {},
   "outputs": [],
   "source": []
  },
  {
   "cell_type": "markdown",
   "id": "6f05a061",
   "metadata": {},
   "source": [
    "# ---------------------------------------------------------------------------------------------------"
   ]
  },
  {
   "cell_type": "markdown",
   "id": "16a9437f",
   "metadata": {},
   "source": [
    "## 다른 데이터로 실행하기"
   ]
  },
  {
   "cell_type": "code",
   "execution_count": 30,
   "id": "171e2569",
   "metadata": {},
   "outputs": [
    {
     "data": {
      "text/html": [
       "<div>\n",
       "<style scoped>\n",
       "    .dataframe tbody tr th:only-of-type {\n",
       "        vertical-align: middle;\n",
       "    }\n",
       "\n",
       "    .dataframe tbody tr th {\n",
       "        vertical-align: top;\n",
       "    }\n",
       "\n",
       "    .dataframe thead th {\n",
       "        text-align: right;\n",
       "    }\n",
       "</style>\n",
       "<table border=\"1\" class=\"dataframe\">\n",
       "  <thead>\n",
       "    <tr style=\"text-align: right;\">\n",
       "      <th></th>\n",
       "      <th>fixed acidity</th>\n",
       "      <th>volatile acidity</th>\n",
       "      <th>citric acid</th>\n",
       "      <th>residual sugar</th>\n",
       "      <th>chlorides</th>\n",
       "      <th>free sulfur dioxide</th>\n",
       "      <th>total sulfur dioxide</th>\n",
       "      <th>density</th>\n",
       "      <th>pH</th>\n",
       "      <th>sulphates</th>\n",
       "      <th>alcohol</th>\n",
       "      <th>quality</th>\n",
       "    </tr>\n",
       "  </thead>\n",
       "  <tbody>\n",
       "    <tr>\n",
       "      <th>0</th>\n",
       "      <td>7.0</td>\n",
       "      <td>0.27</td>\n",
       "      <td>0.36</td>\n",
       "      <td>20.7</td>\n",
       "      <td>0.045</td>\n",
       "      <td>45.0</td>\n",
       "      <td>170.0</td>\n",
       "      <td>1.0010</td>\n",
       "      <td>3.00</td>\n",
       "      <td>0.45</td>\n",
       "      <td>8.8</td>\n",
       "      <td>6</td>\n",
       "    </tr>\n",
       "    <tr>\n",
       "      <th>1</th>\n",
       "      <td>6.3</td>\n",
       "      <td>0.30</td>\n",
       "      <td>0.34</td>\n",
       "      <td>1.6</td>\n",
       "      <td>0.049</td>\n",
       "      <td>14.0</td>\n",
       "      <td>132.0</td>\n",
       "      <td>0.9940</td>\n",
       "      <td>3.30</td>\n",
       "      <td>0.49</td>\n",
       "      <td>9.5</td>\n",
       "      <td>6</td>\n",
       "    </tr>\n",
       "    <tr>\n",
       "      <th>2</th>\n",
       "      <td>8.1</td>\n",
       "      <td>0.28</td>\n",
       "      <td>0.40</td>\n",
       "      <td>6.9</td>\n",
       "      <td>0.050</td>\n",
       "      <td>30.0</td>\n",
       "      <td>97.0</td>\n",
       "      <td>0.9951</td>\n",
       "      <td>3.26</td>\n",
       "      <td>0.44</td>\n",
       "      <td>10.1</td>\n",
       "      <td>6</td>\n",
       "    </tr>\n",
       "    <tr>\n",
       "      <th>3</th>\n",
       "      <td>7.2</td>\n",
       "      <td>0.23</td>\n",
       "      <td>0.32</td>\n",
       "      <td>8.5</td>\n",
       "      <td>0.058</td>\n",
       "      <td>47.0</td>\n",
       "      <td>186.0</td>\n",
       "      <td>0.9956</td>\n",
       "      <td>3.19</td>\n",
       "      <td>0.40</td>\n",
       "      <td>9.9</td>\n",
       "      <td>6</td>\n",
       "    </tr>\n",
       "    <tr>\n",
       "      <th>4</th>\n",
       "      <td>7.2</td>\n",
       "      <td>0.23</td>\n",
       "      <td>0.32</td>\n",
       "      <td>8.5</td>\n",
       "      <td>0.058</td>\n",
       "      <td>47.0</td>\n",
       "      <td>186.0</td>\n",
       "      <td>0.9956</td>\n",
       "      <td>3.19</td>\n",
       "      <td>0.40</td>\n",
       "      <td>9.9</td>\n",
       "      <td>6</td>\n",
       "    </tr>\n",
       "  </tbody>\n",
       "</table>\n",
       "</div>"
      ],
      "text/plain": [
       "   fixed acidity  volatile acidity  citric acid  residual sugar  chlorides  \\\n",
       "0            7.0              0.27         0.36            20.7      0.045   \n",
       "1            6.3              0.30         0.34             1.6      0.049   \n",
       "2            8.1              0.28         0.40             6.9      0.050   \n",
       "3            7.2              0.23         0.32             8.5      0.058   \n",
       "4            7.2              0.23         0.32             8.5      0.058   \n",
       "\n",
       "   free sulfur dioxide  total sulfur dioxide  density    pH  sulphates  \\\n",
       "0                 45.0                 170.0   1.0010  3.00       0.45   \n",
       "1                 14.0                 132.0   0.9940  3.30       0.49   \n",
       "2                 30.0                  97.0   0.9951  3.26       0.44   \n",
       "3                 47.0                 186.0   0.9956  3.19       0.40   \n",
       "4                 47.0                 186.0   0.9956  3.19       0.40   \n",
       "\n",
       "   alcohol  quality  \n",
       "0      8.8        6  \n",
       "1      9.5        6  \n",
       "2     10.1        6  \n",
       "3      9.9        6  \n",
       "4      9.9        6  "
      ]
     },
     "execution_count": 30,
     "metadata": {},
     "output_type": "execute_result"
    }
   ],
   "source": [
    "wine = pd.read_csv(\"../07deep_learning/data/winequality-white.csv\", sep = \";\")\n",
    "wine.head()"
   ]
  },
  {
   "cell_type": "code",
   "execution_count": 31,
   "id": "e3c56500",
   "metadata": {},
   "outputs": [
    {
     "name": "stdout",
     "output_type": "stream",
     "text": [
      "<class 'pandas.core.frame.DataFrame'>\n",
      "RangeIndex: 4898 entries, 0 to 4897\n",
      "Data columns (total 12 columns):\n",
      " #   Column                Non-Null Count  Dtype  \n",
      "---  ------                --------------  -----  \n",
      " 0   fixed acidity         4898 non-null   float64\n",
      " 1   volatile acidity      4898 non-null   float64\n",
      " 2   citric acid           4898 non-null   float64\n",
      " 3   residual sugar        4898 non-null   float64\n",
      " 4   chlorides             4898 non-null   float64\n",
      " 5   free sulfur dioxide   4898 non-null   float64\n",
      " 6   total sulfur dioxide  4898 non-null   float64\n",
      " 7   density               4898 non-null   float64\n",
      " 8   pH                    4898 non-null   float64\n",
      " 9   sulphates             4898 non-null   float64\n",
      " 10  alcohol               4898 non-null   float64\n",
      " 11  quality               4898 non-null   int64  \n",
      "dtypes: float64(11), int64(1)\n",
      "memory usage: 459.3 KB\n"
     ]
    }
   ],
   "source": [
    "wine.info()\n",
    "\n",
    "# 결측치없다"
   ]
  },
  {
   "cell_type": "code",
   "execution_count": 32,
   "id": "f4876122",
   "metadata": {},
   "outputs": [
    {
     "data": {
      "text/plain": [
       "<Axes: >"
      ]
     },
     "execution_count": 32,
     "metadata": {},
     "output_type": "execute_result"
    },
    {
     "data": {
      "image/png": "[encoded data removed]",
      "text/plain": [
       "<Figure size 640x480 with 1 Axes>"
      ]
     },
     "metadata": {},
     "output_type": "display_data"
    }
   ],
   "source": [
    "sns.boxplot(wine)"
   ]
  },
  {
   "cell_type": "code",
   "execution_count": 33,
   "id": "c36e09d0",
   "metadata": {},
   "outputs": [
    {
     "data": {
      "text/plain": [
       "quality\n",
       "6    2198\n",
       "5    1457\n",
       "7     880\n",
       "8     175\n",
       "4     163\n",
       "3      20\n",
       "9       5\n",
       "Name: count, dtype: int64"
      ]
     },
     "execution_count": 33,
     "metadata": {},
     "output_type": "execute_result"
    }
   ],
   "source": [
    "wine['quality'].value_counts()"
   ]
  },
  {
   "cell_type": "code",
   "execution_count": 34,
   "id": "976c8ebb",
   "metadata": {},
   "outputs": [],
   "source": [
    "X = wine.drop('quality', axis=1).copy()\n",
    "y = wine['quality'].copy()\n",
    "y2 = wine['quality'].copy()\n",
    "\n",
    "# wine['quality'] 가 target column"
   ]
  },
  {
   "cell_type": "code",
   "execution_count": 35,
   "id": "d3a5bcc2",
   "metadata": {},
   "outputs": [],
   "source": [
    "# 스케일링하기 \n",
    "\n",
    "from sklearn.preprocessing import RobustScaler\n",
    "\n",
    "\n",
    "# 이상치가 많기 때문에 RobustScaler 로 사용한다. "
   ]
  },
  {
   "cell_type": "code",
   "execution_count": 36,
   "id": "7f577d75",
   "metadata": {},
   "outputs": [
    {
     "data": {
      "text/plain": [
       "array([[ 0.2       ,  0.09090909,  0.33333333, ..., -0.94736842,\n",
       "        -0.14285714, -0.84210526],\n",
       "       [-0.5       ,  0.36363636,  0.16666667, ...,  0.63157895,\n",
       "         0.14285714, -0.47368421],\n",
       "       [ 1.3       ,  0.18181818,  0.66666667, ...,  0.42105263,\n",
       "        -0.21428571, -0.15789474],\n",
       "       ...,\n",
       "       [-0.3       , -0.18181818, -1.08333333, ..., -1.        ,\n",
       "        -0.07142857, -0.52631579],\n",
       "       [-1.3       ,  0.27272727, -0.16666667, ...,  0.84210526,\n",
       "        -0.64285714,  1.26315789],\n",
       "       [-0.8       , -0.45454545,  0.5       , ...,  0.42105263,\n",
       "        -1.07142857,  0.73684211]])"
      ]
     },
     "execution_count": 36,
     "metadata": {},
     "output_type": "execute_result"
    }
   ],
   "source": [
    "rs2 =  RobustScaler() # 중앙값과 IQR 을 사용한 스케일링\n",
    "\n",
    "X_scaled = rs2.fit_transform(X)\n",
    "X_scaled\n",
    "\n",
    "# 중앙값을 기준으로 스케일링하고, 사분위 범위를 사용하여 이상치의 영향을 줄인다. \n",
    "# 이상치에 강한 스케일링 방법"
   ]
  },
  {
   "cell_type": "markdown",
   "id": "fd7ddb93",
   "metadata": {},
   "source": [
    "* StandardScaler : 데이터가 정규분포를 따르는 경우 가장 적합\n",
    "* MinMaxScaler : 피처 값이 다양한 범위에 분포되어 있고, 이상치가 많으면 적합함\n",
    "* RobustScaler : 이상치가 많은 경우에 유리 "
   ]
  },
  {
   "cell_type": "code",
   "execution_count": 37,
   "id": "ec4b6b8e",
   "metadata": {},
   "outputs": [
    {
     "data": {
      "text/html": [
       "<div>\n",
       "<style scoped>\n",
       "    .dataframe tbody tr th:only-of-type {\n",
       "        vertical-align: middle;\n",
       "    }\n",
       "\n",
       "    .dataframe tbody tr th {\n",
       "        vertical-align: top;\n",
       "    }\n",
       "\n",
       "    .dataframe thead th {\n",
       "        text-align: right;\n",
       "    }\n",
       "</style>\n",
       "<table border=\"1\" class=\"dataframe\">\n",
       "  <thead>\n",
       "    <tr style=\"text-align: right;\">\n",
       "      <th></th>\n",
       "      <th>3</th>\n",
       "      <th>4</th>\n",
       "      <th>5</th>\n",
       "      <th>6</th>\n",
       "      <th>7</th>\n",
       "      <th>8</th>\n",
       "      <th>9</th>\n",
       "    </tr>\n",
       "  </thead>\n",
       "  <tbody>\n",
       "    <tr>\n",
       "      <th>0</th>\n",
       "      <td>False</td>\n",
       "      <td>False</td>\n",
       "      <td>False</td>\n",
       "      <td>True</td>\n",
       "      <td>False</td>\n",
       "      <td>False</td>\n",
       "      <td>False</td>\n",
       "    </tr>\n",
       "    <tr>\n",
       "      <th>1</th>\n",
       "      <td>False</td>\n",
       "      <td>False</td>\n",
       "      <td>False</td>\n",
       "      <td>True</td>\n",
       "      <td>False</td>\n",
       "      <td>False</td>\n",
       "      <td>False</td>\n",
       "    </tr>\n",
       "    <tr>\n",
       "      <th>2</th>\n",
       "      <td>False</td>\n",
       "      <td>False</td>\n",
       "      <td>False</td>\n",
       "      <td>True</td>\n",
       "      <td>False</td>\n",
       "      <td>False</td>\n",
       "      <td>False</td>\n",
       "    </tr>\n",
       "    <tr>\n",
       "      <th>3</th>\n",
       "      <td>False</td>\n",
       "      <td>False</td>\n",
       "      <td>False</td>\n",
       "      <td>True</td>\n",
       "      <td>False</td>\n",
       "      <td>False</td>\n",
       "      <td>False</td>\n",
       "    </tr>\n",
       "    <tr>\n",
       "      <th>4</th>\n",
       "      <td>False</td>\n",
       "      <td>False</td>\n",
       "      <td>False</td>\n",
       "      <td>True</td>\n",
       "      <td>False</td>\n",
       "      <td>False</td>\n",
       "      <td>False</td>\n",
       "    </tr>\n",
       "    <tr>\n",
       "      <th>...</th>\n",
       "      <td>...</td>\n",
       "      <td>...</td>\n",
       "      <td>...</td>\n",
       "      <td>...</td>\n",
       "      <td>...</td>\n",
       "      <td>...</td>\n",
       "      <td>...</td>\n",
       "    </tr>\n",
       "    <tr>\n",
       "      <th>4893</th>\n",
       "      <td>False</td>\n",
       "      <td>False</td>\n",
       "      <td>False</td>\n",
       "      <td>True</td>\n",
       "      <td>False</td>\n",
       "      <td>False</td>\n",
       "      <td>False</td>\n",
       "    </tr>\n",
       "    <tr>\n",
       "      <th>4894</th>\n",
       "      <td>False</td>\n",
       "      <td>False</td>\n",
       "      <td>True</td>\n",
       "      <td>False</td>\n",
       "      <td>False</td>\n",
       "      <td>False</td>\n",
       "      <td>False</td>\n",
       "    </tr>\n",
       "    <tr>\n",
       "      <th>4895</th>\n",
       "      <td>False</td>\n",
       "      <td>False</td>\n",
       "      <td>False</td>\n",
       "      <td>True</td>\n",
       "      <td>False</td>\n",
       "      <td>False</td>\n",
       "      <td>False</td>\n",
       "    </tr>\n",
       "    <tr>\n",
       "      <th>4896</th>\n",
       "      <td>False</td>\n",
       "      <td>False</td>\n",
       "      <td>False</td>\n",
       "      <td>False</td>\n",
       "      <td>True</td>\n",
       "      <td>False</td>\n",
       "      <td>False</td>\n",
       "    </tr>\n",
       "    <tr>\n",
       "      <th>4897</th>\n",
       "      <td>False</td>\n",
       "      <td>False</td>\n",
       "      <td>False</td>\n",
       "      <td>True</td>\n",
       "      <td>False</td>\n",
       "      <td>False</td>\n",
       "      <td>False</td>\n",
       "    </tr>\n",
       "  </tbody>\n",
       "</table>\n",
       "<p>4898 rows × 7 columns</p>\n",
       "</div>"
      ],
      "text/plain": [
       "          3      4      5      6      7      8      9\n",
       "0     False  False  False   True  False  False  False\n",
       "1     False  False  False   True  False  False  False\n",
       "2     False  False  False   True  False  False  False\n",
       "3     False  False  False   True  False  False  False\n",
       "4     False  False  False   True  False  False  False\n",
       "...     ...    ...    ...    ...    ...    ...    ...\n",
       "4893  False  False  False   True  False  False  False\n",
       "4894  False  False   True  False  False  False  False\n",
       "4895  False  False  False   True  False  False  False\n",
       "4896  False  False  False  False   True  False  False\n",
       "4897  False  False  False   True  False  False  False\n",
       "\n",
       "[4898 rows x 7 columns]"
      ]
     },
     "execution_count": 37,
     "metadata": {},
     "output_type": "execute_result"
    }
   ],
   "source": [
    "y = pd.get_dummies(y)\n",
    "y"
   ]
  },
  {
   "cell_type": "code",
   "execution_count": 38,
   "id": "6230d222",
   "metadata": {},
   "outputs": [],
   "source": [
    "# 데이터셋을 홀드아웃으로 나눠서 분석하기 \n",
    "\n",
    "from sklearn.model_selection import train_test_split"
   ]
  },
  {
   "cell_type": "code",
   "execution_count": 39,
   "id": "8c74f63b",
   "metadata": {},
   "outputs": [],
   "source": [
    "# 데이터 4000개이니 valid 로 하기 \n",
    "\n",
    "X_train, X_valid, y_train, y_valid = train_test_split(X_scaled, y, test_size=0.4, stratify=y, random_state=10)\n",
    "X_valid, X_test, y_valid, y_test = train_test_split(X_valid, y_valid, test_size=0.5, stratify=y_valid, random_state=10)"
   ]
  },
  {
   "cell_type": "markdown",
   "id": "921226b6",
   "metadata": {},
   "source": [
    "# Sequential 로 해보기"
   ]
  },
  {
   "cell_type": "code",
   "execution_count": 40,
   "id": "7f32a9b1",
   "metadata": {},
   "outputs": [],
   "source": [
    "# 1) Sequential\n",
    "\n",
    "import tensorflow as tf\n",
    "from tensorflow.keras.models import Sequential, Model\n",
    "from tensorflow.keras.layers import Dense, Input\n",
    "from tensorflow.keras.callbacks import EarlyStopping, ModelCheckpoint\n",
    "from sklearn.metrics import classification_report"
   ]
  },
  {
   "cell_type": "code",
   "execution_count": 41,
   "id": "4bf2c0bd",
   "metadata": {},
   "outputs": [
    {
     "data": {
      "text/plain": [
       "11"
      ]
     },
     "execution_count": 41,
     "metadata": {},
     "output_type": "execute_result"
    }
   ],
   "source": [
    "X_train.shape[1]"
   ]
  },
  {
   "cell_type": "code",
   "execution_count": 42,
   "id": "8d57363d",
   "metadata": {
    "scrolled": true
   },
   "outputs": [
    {
     "name": "stdout",
     "output_type": "stream",
     "text": [
      "Model: \"sequential_1\"\n",
      "_________________________________________________________________\n",
      " Layer (type)                Output Shape              Param #   \n",
      "=================================================================\n",
      " dense_4 (Dense)             (None, 64)                768       \n",
      "                                                                 \n",
      " dense_5 (Dense)             (None, 32)                2080      \n",
      "                                                                 \n",
      " dense_6 (Dense)             (None, 64)                2112      \n",
      "                                                                 \n",
      " dense_7 (Dense)             (None, 32)                2080      \n",
      "                                                                 \n",
      " dense_8 (Dense)             (None, 16)                528       \n",
      "                                                                 \n",
      " dense_9 (Dense)             (None, 7)                 119       \n",
      "                                                                 \n",
      "=================================================================\n",
      "Total params: 7,687\n",
      "Trainable params: 7,687\n",
      "Non-trainable params: 0\n",
      "_________________________________________________________________\n"
     ]
    }
   ],
   "source": [
    "model2 = Sequential()\n",
    "model2.add(Dense(64, input_dim=X_train.shape[1], activation='relu'))   # 입력층\n",
    "model2.add(Dense(32, activation='relu'))                  # 은닉층 1\n",
    "model2.add(Dense(64, activation='relu'))                  # 은닉층 2\n",
    "model2.add(Dense(32, activation='relu'))                  # 은닉층 3\n",
    "model2.add(Dense(16, activation='relu'))                  # 은닉층 4\n",
    "model2.add(Dense(7, activation='softmax'))                # 출력층, 다중분류\n",
    "# 클래스가 7개이기 때문에 7을 준다.\n",
    "model2.summary()\n",
    "\n",
    "# 다중분류"
   ]
  },
  {
   "cell_type": "code",
   "execution_count": null,
   "id": "0484e47a",
   "metadata": {},
   "outputs": [],
   "source": []
  },
  {
   "cell_type": "code",
   "execution_count": 43,
   "id": "11179d29",
   "metadata": {
    "scrolled": false
   },
   "outputs": [
    {
     "name": "stdout",
     "output_type": "stream",
     "text": [
      "Epoch 1/10000\n",
      "6/6 [==============================] - ETA: 0s - loss: 1.9353 - accuracy: 0.2335"
     ]
    },
    {
     "name": "stderr",
     "output_type": "stream",
     "text": [
      "2024-09-10 14:26:01.782887: I tensorflow/core/grappler/optimizers/custom_graph_optimizer_registry.cc:114] Plugin optimizer for device_type GPU is enabled.\n",
      "2024-09-10 14:26:01.841528: I tensorflow/core/common_runtime/pluggable_device/pluggable_device_factory.cc:306] Could not identify NUMA node of platform GPU ID 0, defaulting to 0. Your kernel may not have been built with NUMA support.\n",
      "2024-09-10 14:26:01.841586: I tensorflow/core/common_runtime/pluggable_device/pluggable_device_factory.cc:272] Created TensorFlow device (/job:localhost/replica:0/task:0/device:GPU:0 with 14845 MB memory) -> physical PluggableDevice (device: 0, name: DML, pci bus id: <undefined>)\n"
     ]
    },
    {
     "name": "stdout",
     "output_type": "stream",
     "text": [
      "6/6 [==============================] - 1s 70ms/step - loss: 1.9353 - accuracy: 0.2335 - val_loss: 1.8904 - val_accuracy: 0.3367\n",
      "Epoch 2/10000\n",
      "1/6 [====>.........................] - ETA: 0s - loss: 1.8930 - accuracy: 0.3720"
     ]
    },
    {
     "name": "stderr",
     "output_type": "stream",
     "text": [
      "2024-09-10 14:26:02.076208: I tensorflow/core/grappler/optimizers/custom_graph_optimizer_registry.cc:114] Plugin optimizer for device_type GPU is enabled.\n",
      "2024-09-10 14:26:02.109475: I tensorflow/core/common_runtime/pluggable_device/pluggable_device_factory.cc:306] Could not identify NUMA node of platform GPU ID 0, defaulting to 0. Your kernel may not have been built with NUMA support.\n",
      "2024-09-10 14:26:02.109534: I tensorflow/core/common_runtime/pluggable_device/pluggable_device_factory.cc:272] Created TensorFlow device (/job:localhost/replica:0/task:0/device:GPU:0 with 14845 MB memory) -> physical PluggableDevice (device: 0, name: DML, pci bus id: <undefined>)\n"
     ]
    },
    {
     "name": "stdout",
     "output_type": "stream",
     "text": [
      "6/6 [==============================] - 0s 34ms/step - loss: 1.8585 - accuracy: 0.4204 - val_loss: 1.8129 - val_accuracy: 0.4571\n",
      "Epoch 3/10000\n",
      "6/6 [==============================] - 0s 32ms/step - loss: 1.7677 - accuracy: 0.4704 - val_loss: 1.7038 - val_accuracy: 0.4592\n",
      "Epoch 4/10000\n",
      "6/6 [==============================] - 0s 30ms/step - loss: 1.6392 - accuracy: 0.4840 - val_loss: 1.5557 - val_accuracy: 0.4724\n",
      "Epoch 5/10000\n",
      "6/6 [==============================] - 0s 39ms/step - loss: 1.4836 - accuracy: 0.4871 - val_loss: 1.3991 - val_accuracy: 0.4827\n",
      "Epoch 6/10000\n",
      "6/6 [==============================] - 0s 38ms/step - loss: 1.3489 - accuracy: 0.4935 - val_loss: 1.3068 - val_accuracy: 0.4908\n",
      "Epoch 7/10000\n",
      "6/6 [==============================] - 0s 38ms/step - loss: 1.2790 - accuracy: 0.5031 - val_loss: 1.2745 - val_accuracy: 0.4867\n",
      "Epoch 8/10000\n",
      "6/6 [==============================] - 0s 30ms/step - loss: 1.2528 - accuracy: 0.5157 - val_loss: 1.2552 - val_accuracy: 0.5153\n",
      "Epoch 9/10000\n",
      "6/6 [==============================] - 0s 32ms/step - loss: 1.2268 - accuracy: 0.5129 - val_loss: 1.2285 - val_accuracy: 0.5224\n",
      "Epoch 10/10000\n",
      "6/6 [==============================] - 0s 28ms/step - loss: 1.1973 - accuracy: 0.5293 - val_loss: 1.2090 - val_accuracy: 0.5347\n",
      "Epoch 11/10000\n",
      "6/6 [==============================] - 0s 27ms/step - loss: 1.1775 - accuracy: 0.5340 - val_loss: 1.1953 - val_accuracy: 0.5286\n",
      "Epoch 12/10000\n",
      "6/6 [==============================] - 0s 30ms/step - loss: 1.1594 - accuracy: 0.5381 - val_loss: 1.1816 - val_accuracy: 0.5337\n",
      "Epoch 13/10000\n",
      "6/6 [==============================] - 0s 28ms/step - loss: 1.1427 - accuracy: 0.5453 - val_loss: 1.1699 - val_accuracy: 0.5357\n",
      "Epoch 14/10000\n",
      "6/6 [==============================] - 0s 32ms/step - loss: 1.1301 - accuracy: 0.5490 - val_loss: 1.1579 - val_accuracy: 0.5480\n",
      "Epoch 15/10000\n",
      "6/6 [==============================] - 0s 38ms/step - loss: 1.1190 - accuracy: 0.5528 - val_loss: 1.1479 - val_accuracy: 0.5429\n",
      "Epoch 16/10000\n",
      "6/6 [==============================] - 0s 29ms/step - loss: 1.1091 - accuracy: 0.5558 - val_loss: 1.1393 - val_accuracy: 0.5510\n",
      "Epoch 17/10000\n",
      "6/6 [==============================] - 0s 28ms/step - loss: 1.0990 - accuracy: 0.5681 - val_loss: 1.1310 - val_accuracy: 0.5469\n",
      "Epoch 18/10000\n",
      "6/6 [==============================] - 0s 31ms/step - loss: 1.0912 - accuracy: 0.5623 - val_loss: 1.1224 - val_accuracy: 0.5459\n",
      "Epoch 19/10000\n",
      "6/6 [==============================] - 0s 28ms/step - loss: 1.0794 - accuracy: 0.5677 - val_loss: 1.1162 - val_accuracy: 0.5592\n",
      "Epoch 20/10000\n",
      "6/6 [==============================] - 0s 27ms/step - loss: 1.0706 - accuracy: 0.5762 - val_loss: 1.1088 - val_accuracy: 0.5480\n",
      "Epoch 21/10000\n",
      "6/6 [==============================] - 0s 30ms/step - loss: 1.0613 - accuracy: 0.5745 - val_loss: 1.1011 - val_accuracy: 0.5602\n",
      "Epoch 22/10000\n",
      "6/6 [==============================] - 0s 28ms/step - loss: 1.0519 - accuracy: 0.5759 - val_loss: 1.0932 - val_accuracy: 0.5500\n",
      "Epoch 23/10000\n",
      "6/6 [==============================] - 0s 30ms/step - loss: 1.0443 - accuracy: 0.5728 - val_loss: 1.0856 - val_accuracy: 0.5541\n",
      "Epoch 24/10000\n",
      "6/6 [==============================] - 0s 29ms/step - loss: 1.0348 - accuracy: 0.5766 - val_loss: 1.0825 - val_accuracy: 0.5571\n",
      "Epoch 25/10000\n",
      "6/6 [==============================] - 0s 27ms/step - loss: 1.0266 - accuracy: 0.5786 - val_loss: 1.0769 - val_accuracy: 0.5592\n",
      "Epoch 26/10000\n",
      "6/6 [==============================] - 0s 30ms/step - loss: 1.0203 - accuracy: 0.5749 - val_loss: 1.0739 - val_accuracy: 0.5592\n",
      "Epoch 27/10000\n",
      "6/6 [==============================] - 0s 30ms/step - loss: 1.0163 - accuracy: 0.5776 - val_loss: 1.0699 - val_accuracy: 0.5510\n",
      "Epoch 28/10000\n",
      "6/6 [==============================] - 0s 32ms/step - loss: 1.0087 - accuracy: 0.5810 - val_loss: 1.0689 - val_accuracy: 0.5622\n",
      "Epoch 29/10000\n",
      "6/6 [==============================] - 0s 30ms/step - loss: 1.0030 - accuracy: 0.5824 - val_loss: 1.0675 - val_accuracy: 0.5643\n",
      "Epoch 30/10000\n",
      "6/6 [==============================] - 0s 27ms/step - loss: 0.9949 - accuracy: 0.5895 - val_loss: 1.0617 - val_accuracy: 0.5612\n",
      "Epoch 31/10000\n",
      "6/6 [==============================] - 0s 28ms/step - loss: 0.9892 - accuracy: 0.5970 - val_loss: 1.0606 - val_accuracy: 0.5582\n",
      "Epoch 32/10000\n",
      "6/6 [==============================] - 0s 28ms/step - loss: 0.9831 - accuracy: 0.5936 - val_loss: 1.0575 - val_accuracy: 0.5643\n",
      "Epoch 33/10000\n",
      "6/6 [==============================] - 0s 15ms/step - loss: 0.9799 - accuracy: 0.6001 - val_loss: 1.0614 - val_accuracy: 0.5633\n",
      "Epoch 34/10000\n",
      "6/6 [==============================] - 0s 18ms/step - loss: 0.9785 - accuracy: 0.5909 - val_loss: 1.0614 - val_accuracy: 0.5633\n",
      "Epoch 35/10000\n",
      "6/6 [==============================] - 0s 28ms/step - loss: 0.9678 - accuracy: 0.6086 - val_loss: 1.0566 - val_accuracy: 0.5592\n",
      "Epoch 36/10000\n",
      "6/6 [==============================] - 0s 16ms/step - loss: 0.9618 - accuracy: 0.6048 - val_loss: 1.0580 - val_accuracy: 0.5622\n",
      "Epoch 37/10000\n",
      "6/6 [==============================] - 0s 29ms/step - loss: 0.9588 - accuracy: 0.6035 - val_loss: 1.0523 - val_accuracy: 0.5653\n",
      "Epoch 38/10000\n",
      "6/6 [==============================] - 0s 31ms/step - loss: 0.9527 - accuracy: 0.6099 - val_loss: 1.0515 - val_accuracy: 0.5622\n",
      "Epoch 39/10000\n",
      "6/6 [==============================] - 0s 36ms/step - loss: 0.9474 - accuracy: 0.6099 - val_loss: 1.0511 - val_accuracy: 0.5622\n",
      "Epoch 40/10000\n",
      "6/6 [==============================] - 0s 17ms/step - loss: 0.9426 - accuracy: 0.6093 - val_loss: 1.0527 - val_accuracy: 0.5571\n",
      "Epoch 41/10000\n",
      "6/6 [==============================] - 0s 28ms/step - loss: 0.9392 - accuracy: 0.6174 - val_loss: 1.0497 - val_accuracy: 0.5694\n",
      "Epoch 42/10000\n",
      "6/6 [==============================] - 0s 15ms/step - loss: 0.9338 - accuracy: 0.6154 - val_loss: 1.0524 - val_accuracy: 0.5592\n",
      "Epoch 43/10000\n",
      "6/6 [==============================] - 0s 29ms/step - loss: 0.9287 - accuracy: 0.6171 - val_loss: 1.0478 - val_accuracy: 0.5663\n",
      "Epoch 44/10000\n",
      "6/6 [==============================] - 0s 18ms/step - loss: 0.9250 - accuracy: 0.6157 - val_loss: 1.0491 - val_accuracy: 0.5612\n",
      "Epoch 45/10000\n",
      "6/6 [==============================] - 0s 16ms/step - loss: 0.9201 - accuracy: 0.6208 - val_loss: 1.0507 - val_accuracy: 0.5622\n",
      "Epoch 46/10000\n",
      "6/6 [==============================] - 0s 16ms/step - loss: 0.9188 - accuracy: 0.6229 - val_loss: 1.0519 - val_accuracy: 0.5612\n",
      "Epoch 47/10000\n",
      "6/6 [==============================] - 0s 29ms/step - loss: 0.9130 - accuracy: 0.6222 - val_loss: 1.0471 - val_accuracy: 0.5663\n",
      "Epoch 48/10000\n",
      "6/6 [==============================] - 0s 17ms/step - loss: 0.9086 - accuracy: 0.6280 - val_loss: 1.0505 - val_accuracy: 0.5541\n",
      "Epoch 49/10000\n",
      "6/6 [==============================] - 0s 17ms/step - loss: 0.9032 - accuracy: 0.6293 - val_loss: 1.0519 - val_accuracy: 0.5551\n",
      "Epoch 50/10000\n",
      "6/6 [==============================] - 0s 17ms/step - loss: 0.9008 - accuracy: 0.6314 - val_loss: 1.0578 - val_accuracy: 0.5541\n",
      "Epoch 51/10000\n",
      "6/6 [==============================] - 0s 16ms/step - loss: 0.9006 - accuracy: 0.6266 - val_loss: 1.0535 - val_accuracy: 0.5612\n",
      "Epoch 52/10000\n",
      "6/6 [==============================] - 0s 19ms/step - loss: 0.8927 - accuracy: 0.6365 - val_loss: 1.0481 - val_accuracy: 0.5520\n",
      "Epoch 53/10000\n",
      "6/6 [==============================] - 0s 20ms/step - loss: 0.8894 - accuracy: 0.6283 - val_loss: 1.0487 - val_accuracy: 0.5561\n",
      "Epoch 54/10000\n",
      "6/6 [==============================] - 0s 15ms/step - loss: 0.8840 - accuracy: 0.6341 - val_loss: 1.0493 - val_accuracy: 0.5633\n",
      "Epoch 55/10000\n",
      "6/6 [==============================] - 0s 16ms/step - loss: 0.8791 - accuracy: 0.6351 - val_loss: 1.0528 - val_accuracy: 0.5571\n",
      "Epoch 56/10000\n",
      "6/6 [==============================] - 0s 16ms/step - loss: 0.8757 - accuracy: 0.6341 - val_loss: 1.0522 - val_accuracy: 0.5439\n",
      "Epoch 57/10000\n",
      "6/6 [==============================] - 0s 15ms/step - loss: 0.8735 - accuracy: 0.6355 - val_loss: 1.0560 - val_accuracy: 0.5561\n",
      "Epoch 58/10000\n",
      "6/6 [==============================] - 0s 19ms/step - loss: 0.8674 - accuracy: 0.6389 - val_loss: 1.0592 - val_accuracy: 0.5551\n",
      "Epoch 59/10000\n"
     ]
    },
    {
     "name": "stdout",
     "output_type": "stream",
     "text": [
      "6/6 [==============================] - 0s 16ms/step - loss: 0.8704 - accuracy: 0.6423 - val_loss: 1.0551 - val_accuracy: 0.5500\n",
      "Epoch 60/10000\n",
      "6/6 [==============================] - 0s 16ms/step - loss: 0.8666 - accuracy: 0.6426 - val_loss: 1.0595 - val_accuracy: 0.5408\n",
      "Epoch 61/10000\n",
      "6/6 [==============================] - 0s 17ms/step - loss: 0.8585 - accuracy: 0.6460 - val_loss: 1.0588 - val_accuracy: 0.5633\n",
      "Epoch 62/10000\n",
      "6/6 [==============================] - 0s 15ms/step - loss: 0.8560 - accuracy: 0.6491 - val_loss: 1.0667 - val_accuracy: 0.5582\n",
      "Epoch 63/10000\n",
      "6/6 [==============================] - 0s 23ms/step - loss: 0.8561 - accuracy: 0.6443 - val_loss: 1.0554 - val_accuracy: 0.5643\n",
      "Epoch 64/10000\n",
      "6/6 [==============================] - 0s 17ms/step - loss: 0.8490 - accuracy: 0.6528 - val_loss: 1.0603 - val_accuracy: 0.5469\n",
      "Epoch 65/10000\n",
      "6/6 [==============================] - 0s 15ms/step - loss: 0.8428 - accuracy: 0.6481 - val_loss: 1.0588 - val_accuracy: 0.5510\n",
      "Epoch 66/10000\n",
      "6/6 [==============================] - 0s 17ms/step - loss: 0.8411 - accuracy: 0.6566 - val_loss: 1.0570 - val_accuracy: 0.5622\n",
      "Epoch 67/10000\n",
      "6/6 [==============================] - 0s 17ms/step - loss: 0.8347 - accuracy: 0.6552 - val_loss: 1.0636 - val_accuracy: 0.5571\n",
      "Epoch 68/10000\n",
      "6/6 [==============================] - 0s 17ms/step - loss: 0.8302 - accuracy: 0.6617 - val_loss: 1.0617 - val_accuracy: 0.5490\n",
      "Epoch 69/10000\n",
      "6/6 [==============================] - 0s 15ms/step - loss: 0.8275 - accuracy: 0.6620 - val_loss: 1.0658 - val_accuracy: 0.5612\n",
      "Epoch 70/10000\n",
      "6/6 [==============================] - 0s 15ms/step - loss: 0.8251 - accuracy: 0.6624 - val_loss: 1.0709 - val_accuracy: 0.5561\n",
      "Epoch 71/10000\n",
      "6/6 [==============================] - 0s 15ms/step - loss: 0.8221 - accuracy: 0.6685 - val_loss: 1.0854 - val_accuracy: 0.5500\n",
      "Epoch 72/10000\n",
      "6/6 [==============================] - 0s 17ms/step - loss: 0.8199 - accuracy: 0.6607 - val_loss: 1.0683 - val_accuracy: 0.5541\n",
      "Epoch 73/10000\n",
      "6/6 [==============================] - 0s 14ms/step - loss: 0.8143 - accuracy: 0.6709 - val_loss: 1.0666 - val_accuracy: 0.5480\n",
      "Epoch 74/10000\n",
      "6/6 [==============================] - 0s 17ms/step - loss: 0.8107 - accuracy: 0.6709 - val_loss: 1.0740 - val_accuracy: 0.5500\n",
      "Epoch 75/10000\n",
      "6/6 [==============================] - 0s 15ms/step - loss: 0.8089 - accuracy: 0.6719 - val_loss: 1.0703 - val_accuracy: 0.5571\n",
      "Epoch 76/10000\n",
      "6/6 [==============================] - 0s 16ms/step - loss: 0.8034 - accuracy: 0.6685 - val_loss: 1.0700 - val_accuracy: 0.5541\n",
      "Epoch 77/10000\n",
      "6/6 [==============================] - 0s 15ms/step - loss: 0.8004 - accuracy: 0.6780 - val_loss: 1.0724 - val_accuracy: 0.5551\n",
      "Epoch 78/10000\n",
      "6/6 [==============================] - 0s 15ms/step - loss: 0.7946 - accuracy: 0.6760 - val_loss: 1.0797 - val_accuracy: 0.5276\n",
      "Epoch 79/10000\n",
      "6/6 [==============================] - 0s 15ms/step - loss: 0.7941 - accuracy: 0.6818 - val_loss: 1.0769 - val_accuracy: 0.5408\n",
      "Epoch 80/10000\n",
      "6/6 [==============================] - 0s 15ms/step - loss: 0.7918 - accuracy: 0.6838 - val_loss: 1.0895 - val_accuracy: 0.5429\n",
      "Epoch 81/10000\n",
      "6/6 [==============================] - 0s 15ms/step - loss: 0.7889 - accuracy: 0.6760 - val_loss: 1.0817 - val_accuracy: 0.5531\n",
      "Epoch 82/10000\n",
      "6/6 [==============================] - 0s 16ms/step - loss: 0.7797 - accuracy: 0.6920 - val_loss: 1.0857 - val_accuracy: 0.5449\n",
      "Epoch 83/10000\n",
      "6/6 [==============================] - 0s 16ms/step - loss: 0.7799 - accuracy: 0.6886 - val_loss: 1.0854 - val_accuracy: 0.5531\n",
      "Epoch 84/10000\n",
      "6/6 [==============================] - 0s 15ms/step - loss: 0.7716 - accuracy: 0.6923 - val_loss: 1.0840 - val_accuracy: 0.5541\n",
      "Epoch 85/10000\n",
      "6/6 [==============================] - 0s 17ms/step - loss: 0.7675 - accuracy: 0.6978 - val_loss: 1.0848 - val_accuracy: 0.5449\n",
      "Epoch 86/10000\n",
      "6/6 [==============================] - 0s 16ms/step - loss: 0.7650 - accuracy: 0.6967 - val_loss: 1.0863 - val_accuracy: 0.5571\n",
      "Epoch 87/10000\n",
      "6/6 [==============================] - 0s 15ms/step - loss: 0.7616 - accuracy: 0.6981 - val_loss: 1.0905 - val_accuracy: 0.5531\n",
      "Epoch 88/10000\n",
      "6/6 [==============================] - 0s 16ms/step - loss: 0.7556 - accuracy: 0.6998 - val_loss: 1.0926 - val_accuracy: 0.5520\n",
      "Epoch 89/10000\n",
      "6/6 [==============================] - 0s 16ms/step - loss: 0.7522 - accuracy: 0.7042 - val_loss: 1.0955 - val_accuracy: 0.5439\n",
      "Epoch 90/10000\n",
      "6/6 [==============================] - 0s 17ms/step - loss: 0.7574 - accuracy: 0.6988 - val_loss: 1.0958 - val_accuracy: 0.5408\n",
      "Epoch 91/10000\n",
      "6/6 [==============================] - 0s 18ms/step - loss: 0.7500 - accuracy: 0.6988 - val_loss: 1.0944 - val_accuracy: 0.5418\n",
      "Epoch 92/10000\n",
      "6/6 [==============================] - 0s 20ms/step - loss: 0.7394 - accuracy: 0.7069 - val_loss: 1.0998 - val_accuracy: 0.5633\n",
      "Epoch 93/10000\n",
      "6/6 [==============================] - 0s 17ms/step - loss: 0.7408 - accuracy: 0.7063 - val_loss: 1.1079 - val_accuracy: 0.5622\n",
      "Epoch 94/10000\n",
      "6/6 [==============================] - 0s 18ms/step - loss: 0.7388 - accuracy: 0.7029 - val_loss: 1.1147 - val_accuracy: 0.5633\n",
      "Epoch 95/10000\n",
      "6/6 [==============================] - 0s 15ms/step - loss: 0.7383 - accuracy: 0.7073 - val_loss: 1.1141 - val_accuracy: 0.5561\n",
      "Epoch 96/10000\n",
      "6/6 [==============================] - 0s 19ms/step - loss: 0.7345 - accuracy: 0.7144 - val_loss: 1.1059 - val_accuracy: 0.5531\n",
      "Epoch 97/10000\n",
      "6/6 [==============================] - 0s 16ms/step - loss: 0.7300 - accuracy: 0.7114 - val_loss: 1.1115 - val_accuracy: 0.5459\n",
      "Epoch 98/10000\n",
      "6/6 [==============================] - 0s 16ms/step - loss: 0.7248 - accuracy: 0.7120 - val_loss: 1.1127 - val_accuracy: 0.5520\n",
      "Epoch 99/10000\n",
      "6/6 [==============================] - 0s 18ms/step - loss: 0.7255 - accuracy: 0.7161 - val_loss: 1.1162 - val_accuracy: 0.5510\n",
      "Epoch 100/10000\n",
      "6/6 [==============================] - 0s 18ms/step - loss: 0.7216 - accuracy: 0.7124 - val_loss: 1.1263 - val_accuracy: 0.5633\n",
      "Epoch 101/10000\n",
      "6/6 [==============================] - 0s 19ms/step - loss: 0.7146 - accuracy: 0.7192 - val_loss: 1.1163 - val_accuracy: 0.5500\n",
      "Epoch 102/10000\n",
      "6/6 [==============================] - 0s 17ms/step - loss: 0.7108 - accuracy: 0.7236 - val_loss: 1.1315 - val_accuracy: 0.5582\n",
      "Epoch 103/10000\n",
      "6/6 [==============================] - 0s 15ms/step - loss: 0.7092 - accuracy: 0.7236 - val_loss: 1.1194 - val_accuracy: 0.5571\n",
      "Epoch 104/10000\n",
      "6/6 [==============================] - 0s 16ms/step - loss: 0.7064 - accuracy: 0.7250 - val_loss: 1.1449 - val_accuracy: 0.5684\n",
      "Epoch 105/10000\n",
      "6/6 [==============================] - 0s 19ms/step - loss: 0.7010 - accuracy: 0.7277 - val_loss: 1.1312 - val_accuracy: 0.5592\n",
      "Epoch 106/10000\n",
      "6/6 [==============================] - 0s 20ms/step - loss: 0.7013 - accuracy: 0.7260 - val_loss: 1.1366 - val_accuracy: 0.5571\n",
      "Epoch 107/10000\n",
      "6/6 [==============================] - 0s 19ms/step - loss: 0.6936 - accuracy: 0.7321 - val_loss: 1.1278 - val_accuracy: 0.5459\n",
      "Epoch 108/10000\n",
      "6/6 [==============================] - 0s 22ms/step - loss: 0.6891 - accuracy: 0.7369 - val_loss: 1.1332 - val_accuracy: 0.5592\n",
      "Epoch 109/10000\n",
      "6/6 [==============================] - 0s 19ms/step - loss: 0.6886 - accuracy: 0.7338 - val_loss: 1.1381 - val_accuracy: 0.5500\n",
      "Epoch 110/10000\n",
      "6/6 [==============================] - 0s 22ms/step - loss: 0.6835 - accuracy: 0.7372 - val_loss: 1.1400 - val_accuracy: 0.5531\n",
      "Epoch 111/10000\n",
      "6/6 [==============================] - 0s 15ms/step - loss: 0.6823 - accuracy: 0.7355 - val_loss: 1.1410 - val_accuracy: 0.5531\n",
      "Epoch 112/10000\n",
      "6/6 [==============================] - 0s 20ms/step - loss: 0.6870 - accuracy: 0.7308 - val_loss: 1.1493 - val_accuracy: 0.5500\n",
      "Epoch 113/10000\n",
      "6/6 [==============================] - 0s 16ms/step - loss: 0.6834 - accuracy: 0.7304 - val_loss: 1.1474 - val_accuracy: 0.5541\n",
      "Epoch 114/10000\n",
      "6/6 [==============================] - 0s 22ms/step - loss: 0.6780 - accuracy: 0.7355 - val_loss: 1.1489 - val_accuracy: 0.5612\n",
      "Epoch 115/10000\n",
      "6/6 [==============================] - 0s 17ms/step - loss: 0.6726 - accuracy: 0.7403 - val_loss: 1.1483 - val_accuracy: 0.5633\n",
      "Epoch 116/10000\n"
     ]
    },
    {
     "name": "stdout",
     "output_type": "stream",
     "text": [
      "6/6 [==============================] - 0s 21ms/step - loss: 0.6708 - accuracy: 0.7417 - val_loss: 1.1529 - val_accuracy: 0.5582\n",
      "Epoch 117/10000\n",
      "6/6 [==============================] - 0s 19ms/step - loss: 0.6654 - accuracy: 0.7423 - val_loss: 1.1587 - val_accuracy: 0.5612\n",
      "Epoch 118/10000\n",
      "6/6 [==============================] - 0s 23ms/step - loss: 0.6626 - accuracy: 0.7434 - val_loss: 1.1574 - val_accuracy: 0.5602\n",
      "Epoch 119/10000\n",
      "6/6 [==============================] - 0s 15ms/step - loss: 0.6556 - accuracy: 0.7471 - val_loss: 1.1615 - val_accuracy: 0.5643\n",
      "Epoch 120/10000\n",
      "6/6 [==============================] - 0s 17ms/step - loss: 0.6562 - accuracy: 0.7434 - val_loss: 1.1689 - val_accuracy: 0.5653\n",
      "Epoch 121/10000\n",
      "6/6 [==============================] - 0s 15ms/step - loss: 0.6571 - accuracy: 0.7451 - val_loss: 1.1676 - val_accuracy: 0.5602\n",
      "Epoch 122/10000\n",
      "6/6 [==============================] - 0s 17ms/step - loss: 0.6517 - accuracy: 0.7512 - val_loss: 1.1748 - val_accuracy: 0.5694\n",
      "Epoch 123/10000\n",
      "6/6 [==============================] - 0s 18ms/step - loss: 0.6484 - accuracy: 0.7532 - val_loss: 1.1661 - val_accuracy: 0.5694\n",
      "Epoch 124/10000\n",
      "6/6 [==============================] - 0s 17ms/step - loss: 0.6450 - accuracy: 0.7457 - val_loss: 1.1852 - val_accuracy: 0.5592\n",
      "Epoch 125/10000\n",
      "6/6 [==============================] - 0s 17ms/step - loss: 0.6441 - accuracy: 0.7505 - val_loss: 1.1737 - val_accuracy: 0.5571\n",
      "Epoch 126/10000\n",
      "6/6 [==============================] - 0s 17ms/step - loss: 0.6546 - accuracy: 0.7430 - val_loss: 1.1833 - val_accuracy: 0.5673\n",
      "Epoch 127/10000\n",
      "6/6 [==============================] - 0s 17ms/step - loss: 0.6482 - accuracy: 0.7451 - val_loss: 1.1807 - val_accuracy: 0.5612\n",
      "Epoch 128/10000\n",
      "6/6 [==============================] - 0s 18ms/step - loss: 0.6330 - accuracy: 0.7553 - val_loss: 1.1821 - val_accuracy: 0.5704\n",
      "Epoch 129/10000\n",
      "6/6 [==============================] - 0s 22ms/step - loss: 0.6340 - accuracy: 0.7495 - val_loss: 1.1863 - val_accuracy: 0.5776\n",
      "Epoch 130/10000\n",
      "6/6 [==============================] - 0s 17ms/step - loss: 0.6401 - accuracy: 0.7461 - val_loss: 1.1900 - val_accuracy: 0.5765\n",
      "Epoch 131/10000\n",
      "6/6 [==============================] - 0s 19ms/step - loss: 0.6405 - accuracy: 0.7461 - val_loss: 1.1919 - val_accuracy: 0.5694\n",
      "Epoch 132/10000\n",
      "6/6 [==============================] - 0s 19ms/step - loss: 0.6348 - accuracy: 0.7532 - val_loss: 1.2079 - val_accuracy: 0.5398\n",
      "Epoch 133/10000\n",
      "6/6 [==============================] - 0s 18ms/step - loss: 0.6298 - accuracy: 0.7529 - val_loss: 1.1944 - val_accuracy: 0.5735\n",
      "Epoch 134/10000\n",
      "6/6 [==============================] - 0s 17ms/step - loss: 0.6143 - accuracy: 0.7668 - val_loss: 1.1996 - val_accuracy: 0.5633\n",
      "Epoch 135/10000\n",
      "6/6 [==============================] - 0s 16ms/step - loss: 0.6133 - accuracy: 0.7621 - val_loss: 1.2011 - val_accuracy: 0.5653\n",
      "Epoch 136/10000\n",
      "6/6 [==============================] - 0s 16ms/step - loss: 0.6089 - accuracy: 0.7665 - val_loss: 1.2015 - val_accuracy: 0.5704\n",
      "Epoch 137/10000\n",
      "6/6 [==============================] - 0s 15ms/step - loss: 0.6120 - accuracy: 0.7668 - val_loss: 1.2012 - val_accuracy: 0.5755\n",
      "Epoch 138/10000\n",
      "6/6 [==============================] - 0s 17ms/step - loss: 0.6027 - accuracy: 0.7668 - val_loss: 1.2224 - val_accuracy: 0.5663\n",
      "Epoch 139/10000\n",
      "6/6 [==============================] - 0s 17ms/step - loss: 0.6110 - accuracy: 0.7621 - val_loss: 1.2230 - val_accuracy: 0.5796\n",
      "Epoch 140/10000\n",
      "6/6 [==============================] - 0s 17ms/step - loss: 0.6061 - accuracy: 0.7624 - val_loss: 1.2223 - val_accuracy: 0.5745\n",
      "Epoch 141/10000\n",
      "6/6 [==============================] - 0s 17ms/step - loss: 0.6024 - accuracy: 0.7665 - val_loss: 1.2179 - val_accuracy: 0.5745\n",
      "Epoch 142/10000\n",
      "6/6 [==============================] - 0s 17ms/step - loss: 0.5950 - accuracy: 0.7703 - val_loss: 1.2163 - val_accuracy: 0.5786\n",
      "Epoch 143/10000\n",
      "6/6 [==============================] - 0s 17ms/step - loss: 0.5933 - accuracy: 0.7750 - val_loss: 1.2279 - val_accuracy: 0.5806\n",
      "Epoch 144/10000\n",
      "6/6 [==============================] - 0s 16ms/step - loss: 0.5883 - accuracy: 0.7685 - val_loss: 1.2378 - val_accuracy: 0.5633\n",
      "Epoch 145/10000\n",
      "6/6 [==============================] - 0s 28ms/step - loss: 0.5930 - accuracy: 0.7720 - val_loss: 1.2272 - val_accuracy: 0.5735\n",
      "Epoch 146/10000\n",
      "6/6 [==============================] - 0s 24ms/step - loss: 0.5839 - accuracy: 0.7784 - val_loss: 1.2367 - val_accuracy: 0.5694\n",
      "Epoch 147/10000\n",
      "6/6 [==============================] - 0s 18ms/step - loss: 0.5872 - accuracy: 0.7760 - val_loss: 1.2481 - val_accuracy: 0.5551\n"
     ]
    }
   ],
   "source": [
    "model2.compile(loss='categorical_crossentropy', optimizer='adam', metrics=['accuracy'])\n",
    "early_stop = EarlyStopping(patience = 100)\n",
    "filepath = \"./model/white_wine{epoch:04d}__{val_loss:.4f}.keras\"\n",
    "model_save = ModelCheckpoint(filepath = filepath, save_best_only=True)\n",
    "history2 = model2.fit(X_train, y_train, epochs = 10000, batch_size = 500, validation_data = (X_valid, y_valid), callbacks = [early_stop, model_save]) \n"
   ]
  },
  {
   "cell_type": "code",
   "execution_count": 52,
   "id": "c31dfd93",
   "metadata": {},
   "outputs": [
    {
     "name": "stdout",
     "output_type": "stream",
     "text": [
      "31/31 [==============================] - 0s 3ms/step\n"
     ]
    },
    {
     "name": "stderr",
     "output_type": "stream",
     "text": [
      "2024-09-10 14:33:37.554668: I tensorflow/core/grappler/optimizers/custom_graph_optimizer_registry.cc:114] Plugin optimizer for device_type GPU is enabled.\n"
     ]
    }
   ],
   "source": [
    "wine_best_model = load_model(\"./model/white_wine0001__1.8904.keras\")\n",
    "wine_pred = wine_best_model.predict(X_test)\n",
    "wine_pred = pd.DataFrame(wine_pred, columns = y.columns)"
   ]
  },
  {
   "cell_type": "code",
   "execution_count": 53,
   "id": "96e2f87d",
   "metadata": {},
   "outputs": [
    {
     "data": {
      "text/html": [
       "<div>\n",
       "<style scoped>\n",
       "    .dataframe tbody tr th:only-of-type {\n",
       "        vertical-align: middle;\n",
       "    }\n",
       "\n",
       "    .dataframe tbody tr th {\n",
       "        vertical-align: top;\n",
       "    }\n",
       "\n",
       "    .dataframe thead th {\n",
       "        text-align: right;\n",
       "    }\n",
       "</style>\n",
       "<table border=\"1\" class=\"dataframe\">\n",
       "  <thead>\n",
       "    <tr style=\"text-align: right;\">\n",
       "      <th></th>\n",
       "      <th>3</th>\n",
       "      <th>4</th>\n",
       "      <th>5</th>\n",
       "      <th>6</th>\n",
       "      <th>7</th>\n",
       "      <th>8</th>\n",
       "      <th>9</th>\n",
       "    </tr>\n",
       "  </thead>\n",
       "  <tbody>\n",
       "    <tr>\n",
       "      <th>0</th>\n",
       "      <td>0.139927</td>\n",
       "      <td>0.142714</td>\n",
       "      <td>0.142892</td>\n",
       "      <td>0.147985</td>\n",
       "      <td>0.145178</td>\n",
       "      <td>0.143190</td>\n",
       "      <td>0.138113</td>\n",
       "    </tr>\n",
       "    <tr>\n",
       "      <th>1</th>\n",
       "      <td>0.140001</td>\n",
       "      <td>0.141627</td>\n",
       "      <td>0.147060</td>\n",
       "      <td>0.146107</td>\n",
       "      <td>0.144495</td>\n",
       "      <td>0.141354</td>\n",
       "      <td>0.139356</td>\n",
       "    </tr>\n",
       "    <tr>\n",
       "      <th>2</th>\n",
       "      <td>0.132888</td>\n",
       "      <td>0.137718</td>\n",
       "      <td>0.144653</td>\n",
       "      <td>0.146849</td>\n",
       "      <td>0.156503</td>\n",
       "      <td>0.145591</td>\n",
       "      <td>0.135797</td>\n",
       "    </tr>\n",
       "    <tr>\n",
       "      <th>3</th>\n",
       "      <td>0.130727</td>\n",
       "      <td>0.142734</td>\n",
       "      <td>0.138916</td>\n",
       "      <td>0.153043</td>\n",
       "      <td>0.157908</td>\n",
       "      <td>0.147233</td>\n",
       "      <td>0.129440</td>\n",
       "    </tr>\n",
       "    <tr>\n",
       "      <th>4</th>\n",
       "      <td>0.136807</td>\n",
       "      <td>0.141923</td>\n",
       "      <td>0.142586</td>\n",
       "      <td>0.150979</td>\n",
       "      <td>0.148929</td>\n",
       "      <td>0.144072</td>\n",
       "      <td>0.134705</td>\n",
       "    </tr>\n",
       "    <tr>\n",
       "      <th>...</th>\n",
       "      <td>...</td>\n",
       "      <td>...</td>\n",
       "      <td>...</td>\n",
       "      <td>...</td>\n",
       "      <td>...</td>\n",
       "      <td>...</td>\n",
       "      <td>...</td>\n",
       "    </tr>\n",
       "    <tr>\n",
       "      <th>975</th>\n",
       "      <td>0.127228</td>\n",
       "      <td>0.143253</td>\n",
       "      <td>0.158703</td>\n",
       "      <td>0.142769</td>\n",
       "      <td>0.150106</td>\n",
       "      <td>0.139710</td>\n",
       "      <td>0.138231</td>\n",
       "    </tr>\n",
       "    <tr>\n",
       "      <th>976</th>\n",
       "      <td>0.121102</td>\n",
       "      <td>0.131622</td>\n",
       "      <td>0.143368</td>\n",
       "      <td>0.150179</td>\n",
       "      <td>0.176346</td>\n",
       "      <td>0.149305</td>\n",
       "      <td>0.128077</td>\n",
       "    </tr>\n",
       "    <tr>\n",
       "      <th>977</th>\n",
       "      <td>0.130852</td>\n",
       "      <td>0.134992</td>\n",
       "      <td>0.153660</td>\n",
       "      <td>0.158598</td>\n",
       "      <td>0.145547</td>\n",
       "      <td>0.147337</td>\n",
       "      <td>0.129014</td>\n",
       "    </tr>\n",
       "    <tr>\n",
       "      <th>978</th>\n",
       "      <td>0.120754</td>\n",
       "      <td>0.146305</td>\n",
       "      <td>0.138285</td>\n",
       "      <td>0.153421</td>\n",
       "      <td>0.161909</td>\n",
       "      <td>0.153170</td>\n",
       "      <td>0.126156</td>\n",
       "    </tr>\n",
       "    <tr>\n",
       "      <th>979</th>\n",
       "      <td>0.130285</td>\n",
       "      <td>0.135692</td>\n",
       "      <td>0.158764</td>\n",
       "      <td>0.148274</td>\n",
       "      <td>0.145903</td>\n",
       "      <td>0.145227</td>\n",
       "      <td>0.135856</td>\n",
       "    </tr>\n",
       "  </tbody>\n",
       "</table>\n",
       "<p>980 rows × 7 columns</p>\n",
       "</div>"
      ],
      "text/plain": [
       "            3         4         5         6         7         8         9\n",
       "0    0.139927  0.142714  0.142892  0.147985  0.145178  0.143190  0.138113\n",
       "1    0.140001  0.141627  0.147060  0.146107  0.144495  0.141354  0.139356\n",
       "2    0.132888  0.137718  0.144653  0.146849  0.156503  0.145591  0.135797\n",
       "3    0.130727  0.142734  0.138916  0.153043  0.157908  0.147233  0.129440\n",
       "4    0.136807  0.141923  0.142586  0.150979  0.148929  0.144072  0.134705\n",
       "..        ...       ...       ...       ...       ...       ...       ...\n",
       "975  0.127228  0.143253  0.158703  0.142769  0.150106  0.139710  0.138231\n",
       "976  0.121102  0.131622  0.143368  0.150179  0.176346  0.149305  0.128077\n",
       "977  0.130852  0.134992  0.153660  0.158598  0.145547  0.147337  0.129014\n",
       "978  0.120754  0.146305  0.138285  0.153421  0.161909  0.153170  0.126156\n",
       "979  0.130285  0.135692  0.158764  0.148274  0.145903  0.145227  0.135856\n",
       "\n",
       "[980 rows x 7 columns]"
      ]
     },
     "execution_count": 53,
     "metadata": {},
     "output_type": "execute_result"
    }
   ],
   "source": [
    "wine_pred "
   ]
  },
  {
   "cell_type": "code",
   "execution_count": 55,
   "id": "771b174a",
   "metadata": {},
   "outputs": [
    {
     "data": {
      "text/plain": [
       "0      6\n",
       "1      6\n",
       "2      7\n",
       "3      7\n",
       "4      5\n",
       "      ..\n",
       "975    6\n",
       "976    4\n",
       "977    5\n",
       "978    6\n",
       "979    6\n",
       "Length: 980, dtype: int64"
      ]
     },
     "execution_count": 55,
     "metadata": {},
     "output_type": "execute_result"
    }
   ],
   "source": [
    "y_test_class = y_test.idxmax(axis = 1)\n",
    "y_test_class = y_test_class.reset_index(drop=True)\n",
    "y_test_class"
   ]
  },
  {
   "cell_type": "code",
   "execution_count": 56,
   "id": "8f7fffb1",
   "metadata": {},
   "outputs": [
    {
     "data": {
      "text/plain": [
       "0      6\n",
       "1      5\n",
       "2      7\n",
       "3      7\n",
       "4      6\n",
       "      ..\n",
       "975    5\n",
       "976    7\n",
       "977    6\n",
       "978    7\n",
       "979    5\n",
       "Length: 980, dtype: int64"
      ]
     },
     "execution_count": 56,
     "metadata": {},
     "output_type": "execute_result"
    }
   ],
   "source": [
    "wine_pred_class = wine_pred.idxmax(axis=1)\n",
    "wine_pred_class "
   ]
  },
  {
   "cell_type": "code",
   "execution_count": 57,
   "id": "148a7aa0",
   "metadata": {},
   "outputs": [
    {
     "name": "stdout",
     "output_type": "stream",
     "text": [
      "              precision    recall  f1-score   support\n",
      "\n",
      "           3       0.00      0.00      0.00         4\n",
      "           4       0.00      0.00      0.00        33\n",
      "           5       0.41      0.39      0.40       291\n",
      "           6       0.42      0.22      0.29       440\n",
      "           7       0.22      0.60      0.32       176\n",
      "           8       0.00      0.00      0.00        35\n",
      "           9       0.00      0.00      0.00         1\n",
      "\n",
      "    accuracy                           0.32       980\n",
      "   macro avg       0.15      0.17      0.14       980\n",
      "weighted avg       0.35      0.32      0.31       980\n",
      "\n"
     ]
    }
   ],
   "source": [
    "print(classification_report(y_test_class, wine_pred_class ))"
   ]
  },
  {
   "cell_type": "code",
   "execution_count": null,
   "id": "63c4dcf3",
   "metadata": {},
   "outputs": [],
   "source": []
  },
  {
   "cell_type": "markdown",
   "id": "b18f1f35",
   "metadata": {},
   "source": [
    "plt.figure(figsize=(8,4))\n",
    "plt.plot(history.history['loss'])\n",
    "plt.plot(history.history['val_loss'])\n",
    "plt.xlabel('epoch')\n",
    "plt.ylabel('loss')\n",
    "plt.legend(['train', 'valid'])\n",
    "plt.show()"
   ]
  },
  {
   "cell_type": "code",
   "execution_count": null,
   "id": "a7706917",
   "metadata": {},
   "outputs": [],
   "source": []
  },
  {
   "cell_type": "markdown",
   "id": "f2e196e3",
   "metadata": {},
   "source": [
    "### XGB로 비교 분석\n",
    "* Gradient Boosting 기반으로 함 \n",
    "* 부스팅 기법은 여러 약한 모델을 순차적으로 학습하고, 이전 모델이 만든 오차를 줄이는 방식으로 새로운 모델을 추가함. \n",
    "* 즉, 각 새로운 모델은 이전 모델들이 예측하지 못한 부분을 더 잘 예측하려고 시도함."
   ]
  },
  {
   "cell_type": "code",
   "execution_count": 66,
   "id": "2dcde76a",
   "metadata": {},
   "outputs": [],
   "source": [
    "#!pip install xgboost"
   ]
  },
  {
   "cell_type": "code",
   "execution_count": 67,
   "id": "bfe8a398",
   "metadata": {},
   "outputs": [
    {
     "data": {
      "text/plain": [
       "0       6\n",
       "1       6\n",
       "2       6\n",
       "3       6\n",
       "4       6\n",
       "       ..\n",
       "4893    6\n",
       "4894    5\n",
       "4895    6\n",
       "4896    7\n",
       "4897    6\n",
       "Name: quality, Length: 4898, dtype: int64"
      ]
     },
     "execution_count": 67,
     "metadata": {},
     "output_type": "execute_result"
    }
   ],
   "source": [
    "y2"
   ]
  },
  {
   "cell_type": "code",
   "execution_count": 68,
   "id": "4ec522d9",
   "metadata": {},
   "outputs": [],
   "source": [
    "from sklearn.preprocessing import LabelEncoder"
   ]
  },
  {
   "cell_type": "code",
   "execution_count": 69,
   "id": "b1cc7218",
   "metadata": {},
   "outputs": [
    {
     "data": {
      "text/plain": [
       "array([3, 3, 3, ..., 3, 4, 3])"
      ]
     },
     "execution_count": 69,
     "metadata": {},
     "output_type": "execute_result"
    }
   ],
   "source": [
    "le = LabelEncoder()\n",
    "y2_labeled = le.fit_transform(y2)\n",
    "y2_labeled"
   ]
  },
  {
   "cell_type": "code",
   "execution_count": 70,
   "id": "ff009c66",
   "metadata": {},
   "outputs": [],
   "source": [
    "from xgboost import XGBClassifier"
   ]
  },
  {
   "cell_type": "code",
   "execution_count": 71,
   "id": "833fbb04",
   "metadata": {},
   "outputs": [
    {
     "ename": "NameError",
     "evalue": "name 'labeled' is not defined",
     "output_type": "error",
     "traceback": [
      "\u001b[0;31m---------------------------------------------------------------------------\u001b[0m",
      "\u001b[0;31mNameError\u001b[0m                                 Traceback (most recent call last)",
      "Cell \u001b[0;32mIn[71], line 1\u001b[0m\n\u001b[0;32m----> 1\u001b[0m X_train2, X_valid2, y_train2, y_valid2 \u001b[38;5;241m=\u001b[39m train_test_split(X_scaled, y2, test_size\u001b[38;5;241m=\u001b[39m\u001b[38;5;241m0.4\u001b[39m, stratify\u001b[38;5;241m=\u001b[39my2\u001b[38;5;241m-\u001b[39m\u001b[43mlabeled\u001b[49m, random_state\u001b[38;5;241m=\u001b[39m\u001b[38;5;241m10\u001b[39m)\n\u001b[1;32m      2\u001b[0m X_valid2, X_test2, y_valid2, y_test2 \u001b[38;5;241m=\u001b[39m train_test_split(X_valid2, y_valid2, test_size\u001b[38;5;241m=\u001b[39m\u001b[38;5;241m0.5\u001b[39m, stratify\u001b[38;5;241m=\u001b[39my_valid2, random_state\u001b[38;5;241m=\u001b[39m\u001b[38;5;241m10\u001b[39m)\n",
      "\u001b[0;31mNameError\u001b[0m: name 'labeled' is not defined"
     ]
    }
   ],
   "source": [
    "X_train2, X_valid2, y_train2, y_valid2 = train_test_split(X_scaled, y2, test_size=0.4, stratify=y2-labeled, random_state=10)\n",
    "X_valid2, X_test2, y_valid2, y_test2 = train_test_split(X_valid2, y_valid2, test_size=0.5, stratify=y_valid2, random_state=10)"
   ]
  },
  {
   "cell_type": "code",
   "execution_count": 72,
   "id": "1d0cfc9b",
   "metadata": {},
   "outputs": [
    {
     "ename": "ValueError",
     "evalue": "Invalid classes inferred from unique values of `y`.  Expected: [0 1 2 3 4 5 6], got [3 4 5 6 7 8 9]",
     "output_type": "error",
     "traceback": [
      "\u001b[0;31m---------------------------------------------------------------------------\u001b[0m",
      "\u001b[0;31mValueError\u001b[0m                                Traceback (most recent call last)",
      "Cell \u001b[0;32mIn[72], line 2\u001b[0m\n\u001b[1;32m      1\u001b[0m xgb \u001b[38;5;241m=\u001b[39m XGBClassifier(max_depth\u001b[38;5;241m=\u001b[39m\u001b[38;5;241m5\u001b[39m, n_estimator\u001b[38;5;241m=\u001b[39m\u001b[38;5;241m1000\u001b[39m, random_state\u001b[38;5;241m=\u001b[39m\u001b[38;5;241m10\u001b[39m, n_jobs \u001b[38;5;241m=\u001b[39m \u001b[38;5;241m-\u001b[39m\u001b[38;5;241m1\u001b[39m)\n\u001b[0;32m----> 2\u001b[0m \u001b[43mxgb\u001b[49m\u001b[38;5;241;43m.\u001b[39;49m\u001b[43mfit\u001b[49m\u001b[43m(\u001b[49m\u001b[43mX_train2\u001b[49m\u001b[43m,\u001b[49m\u001b[43m \u001b[49m\u001b[43my_train2\u001b[49m\u001b[43m)\u001b[49m\n\u001b[1;32m      3\u001b[0m xgb_pred \u001b[38;5;241m=\u001b[39m xgb\u001b[38;5;241m.\u001b[39mpredict(X_valid2)\n\u001b[1;32m      4\u001b[0m \u001b[38;5;28mprint\u001b[39m(classification_report(le\u001b[38;5;241m.\u001b[39minverse_transform(y_valid2), le\u001b[38;5;241m.\u001b[39minverse_transform(xgb_pred)))\n",
      "File \u001b[0;32m~/miniforge3/envs/dml/lib/python3.9/site-packages/xgboost/core.py:726\u001b[0m, in \u001b[0;36mrequire_keyword_args.<locals>.throw_if.<locals>.inner_f\u001b[0;34m(*args, **kwargs)\u001b[0m\n\u001b[1;32m    724\u001b[0m \u001b[38;5;28;01mfor\u001b[39;00m k, arg \u001b[38;5;129;01min\u001b[39;00m \u001b[38;5;28mzip\u001b[39m(sig\u001b[38;5;241m.\u001b[39mparameters, args):\n\u001b[1;32m    725\u001b[0m     kwargs[k] \u001b[38;5;241m=\u001b[39m arg\n\u001b[0;32m--> 726\u001b[0m \u001b[38;5;28;01mreturn\u001b[39;00m \u001b[43mfunc\u001b[49m\u001b[43m(\u001b[49m\u001b[38;5;241;43m*\u001b[39;49m\u001b[38;5;241;43m*\u001b[39;49m\u001b[43mkwargs\u001b[49m\u001b[43m)\u001b[49m\n",
      "File \u001b[0;32m~/miniforge3/envs/dml/lib/python3.9/site-packages/xgboost/sklearn.py:1491\u001b[0m, in \u001b[0;36mXGBClassifier.fit\u001b[0;34m(self, X, y, sample_weight, base_margin, eval_set, verbose, xgb_model, sample_weight_eval_set, base_margin_eval_set, feature_weights)\u001b[0m\n\u001b[1;32m   1486\u001b[0m     expected_classes \u001b[38;5;241m=\u001b[39m \u001b[38;5;28mself\u001b[39m\u001b[38;5;241m.\u001b[39mclasses_\n\u001b[1;32m   1487\u001b[0m \u001b[38;5;28;01mif\u001b[39;00m (\n\u001b[1;32m   1488\u001b[0m     classes\u001b[38;5;241m.\u001b[39mshape \u001b[38;5;241m!=\u001b[39m expected_classes\u001b[38;5;241m.\u001b[39mshape\n\u001b[1;32m   1489\u001b[0m     \u001b[38;5;129;01mor\u001b[39;00m \u001b[38;5;129;01mnot\u001b[39;00m (classes \u001b[38;5;241m==\u001b[39m expected_classes)\u001b[38;5;241m.\u001b[39mall()\n\u001b[1;32m   1490\u001b[0m ):\n\u001b[0;32m-> 1491\u001b[0m     \u001b[38;5;28;01mraise\u001b[39;00m \u001b[38;5;167;01mValueError\u001b[39;00m(\n\u001b[1;32m   1492\u001b[0m         \u001b[38;5;124mf\u001b[39m\u001b[38;5;124m\"\u001b[39m\u001b[38;5;124mInvalid classes inferred from unique values of `y`.  \u001b[39m\u001b[38;5;124m\"\u001b[39m\n\u001b[1;32m   1493\u001b[0m         \u001b[38;5;124mf\u001b[39m\u001b[38;5;124m\"\u001b[39m\u001b[38;5;124mExpected: \u001b[39m\u001b[38;5;132;01m{\u001b[39;00mexpected_classes\u001b[38;5;132;01m}\u001b[39;00m\u001b[38;5;124m, got \u001b[39m\u001b[38;5;132;01m{\u001b[39;00mclasses\u001b[38;5;132;01m}\u001b[39;00m\u001b[38;5;124m\"\u001b[39m\n\u001b[1;32m   1494\u001b[0m     )\n\u001b[1;32m   1496\u001b[0m params \u001b[38;5;241m=\u001b[39m \u001b[38;5;28mself\u001b[39m\u001b[38;5;241m.\u001b[39mget_xgb_params()\n\u001b[1;32m   1498\u001b[0m \u001b[38;5;28;01mif\u001b[39;00m \u001b[38;5;28mcallable\u001b[39m(\u001b[38;5;28mself\u001b[39m\u001b[38;5;241m.\u001b[39mobjective):\n",
      "\u001b[0;31mValueError\u001b[0m: Invalid classes inferred from unique values of `y`.  Expected: [0 1 2 3 4 5 6], got [3 4 5 6 7 8 9]"
     ]
    }
   ],
   "source": [
    "xgb = XGBClassifier(max_depth=5, n_estimator=1000, random_state=10, n_jobs = -1)\n",
    "xgb.fit(X_train2, y_train2)\n",
    "xgb_pred = xgb.predict(X_valid2)\n",
    "print(classification_report(le.inverse_transform(y_valid2), le.inverse_transform(xgb_pred)))"
   ]
  },
  {
   "cell_type": "code",
   "execution_count": null,
   "id": "acea69ea",
   "metadata": {},
   "outputs": [],
   "source": []
  },
  {
   "cell_type": "code",
   "execution_count": null,
   "id": "b9f007e1",
   "metadata": {},
   "outputs": [],
   "source": []
  },
  {
   "cell_type": "code",
   "execution_count": null,
   "id": "42116849",
   "metadata": {},
   "outputs": [],
   "source": []
  },
  {
   "cell_type": "code",
   "execution_count": null,
   "id": "6b603e7b",
   "metadata": {},
   "outputs": [],
   "source": []
  },
  {
   "cell_type": "code",
   "execution_count": null,
   "id": "1c63a6c2",
   "metadata": {},
   "outputs": [],
   "source": []
  },
  {
   "cell_type": "markdown",
   "id": "342a6063",
   "metadata": {},
   "source": [
    "## ADASYN\n",
    "* Adaptive Synthetic Sampling Approach for Imbalanced Learning \n",
    "* 불균형 데이터 문제를 해결하기 위한 오버샘플링 기법 중 하나 \n",
    "* 불균형 데이터 : 클래스 간 데이터 수가 크게 차이 나는 상황을 말함 \n",
    "* ADASYN 은 소수 클래스의 데이터를 증가시켜 불균형 문제를 완화함  \n"
   ]
  },
  {
   "cell_type": "code",
   "execution_count": null,
   "id": "7175527e",
   "metadata": {},
   "outputs": [],
   "source": [
    "x_train_adasyn"
   ]
  },
  {
   "cell_type": "code",
   "execution_count": null,
   "id": "c9fbcb8f",
   "metadata": {},
   "outputs": [],
   "source": [
    "y_train_adasyn.value_counts()"
   ]
  },
  {
   "cell_type": "code",
   "execution_count": null,
   "id": "bd21c7ac",
   "metadata": {},
   "outputs": [],
   "source": [
    "y_train_adasyn = pd.get_dummies(y_train_adasyn)"
   ]
  },
  {
   "cell_type": "code",
   "execution_count": null,
   "id": "4697f6b9",
   "metadata": {},
   "outputs": [],
   "source": []
  },
  {
   "cell_type": "code",
   "execution_count": null,
   "id": "b6d584c0",
   "metadata": {},
   "outputs": [],
   "source": [
    "y_valid = pd.get_dummies(y_valid)\n",
    "y_valid "
   ]
  },
  {
   "cell_type": "code",
   "execution_count": null,
   "id": "5fd938d5",
   "metadata": {},
   "outputs": [],
   "source": [
    "y_test = pd.get_dummies(y_test)\n",
    "y_test"
   ]
  },
  {
   "cell_type": "code",
   "execution_count": null,
   "id": "e8d12d8e",
   "metadata": {},
   "outputs": [],
   "source": []
  },
  {
   "cell_type": "code",
   "execution_count": null,
   "id": "3ed028d1",
   "metadata": {},
   "outputs": [],
   "source": []
  },
  {
   "cell_type": "code",
   "execution_count": null,
   "id": "ca6dfa62",
   "metadata": {},
   "outputs": [],
   "source": []
  },
  {
   "cell_type": "code",
   "execution_count": null,
   "id": "a6bb3d08",
   "metadata": {},
   "outputs": [],
   "source": []
  },
  {
   "cell_type": "code",
   "execution_count": null,
   "id": "e090c161",
   "metadata": {},
   "outputs": [],
   "source": []
  },
  {
   "cell_type": "code",
   "execution_count": null,
   "id": "a5da6f31",
   "metadata": {},
   "outputs": [],
   "source": []
  },
  {
   "cell_type": "code",
   "execution_count": null,
   "id": "a0e817d7",
   "metadata": {},
   "outputs": [],
   "source": []
  },
  {
   "cell_type": "code",
   "execution_count": null,
   "id": "04f1e7ab",
   "metadata": {},
   "outputs": [],
   "source": []
  },
  {
   "cell_type": "code",
   "execution_count": null,
   "id": "7e7bf02d",
   "metadata": {},
   "outputs": [],
   "source": []
  },
  {
   "cell_type": "code",
   "execution_count": null,
   "id": "8c2929e1",
   "metadata": {},
   "outputs": [],
   "source": []
  },
  {
   "cell_type": "code",
   "execution_count": null,
   "id": "e46ed0c1",
   "metadata": {},
   "outputs": [],
   "source": []
  }
 ],
 "metadata": {
  "kernelspec": {
   "display_name": "Python 3 (ipykernel)",
   "language": "python",
   "name": "python3"
  },
  "language_info": {
   "codemirror_mode": {
    "name": "ipython",
    "version": 3
   },
   "file_extension": ".py",
   "mimetype": "text/x-python",
   "name": "python",
   "nbconvert_exporter": "python",
   "pygments_lexer": "ipython3",
   "version": "3.9.19"
  }
 },
 "nbformat": 4,
 "nbformat_minor": 5
}
