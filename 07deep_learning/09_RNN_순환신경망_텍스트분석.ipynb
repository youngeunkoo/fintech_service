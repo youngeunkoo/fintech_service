{
 "cells": [
  {
   "cell_type": "markdown",
   "id": "1e4b112b",
   "metadata": {},
   "source": [
    "# RNN_순환신경망_텍스트분석\n",
    "* 언어, 시계열 데이터 분석에 주로 사용\n",
    "* 길이가 길어지면 기울기 소실문제 발생\n",
    "* LSTM, GRU 등으로 문제를 보완"
   ]
  },
  {
   "cell_type": "code",
   "execution_count": 2,
   "id": "809edd5d",
   "metadata": {},
   "outputs": [],
   "source": [
    "from tensorflow.keras.preprocessing.text import Tokenizer, text_to_word_sequence\n",
    "from tensorflow.keras.preprocessing.sequence import pad_sequences\n",
    "from tensorflow.keras.models import Sequential\n",
    "from tensorflow.keras.layers import Dense, Flatten, Embedding\n",
    "from tensorflow.keras.utils import to_categorical \n",
    "\n",
    "import pandas as pd\n",
    "import numpy as np"
   ]
  },
  {
   "cell_type": "code",
   "execution_count": null,
   "id": "d4a10ca6",
   "metadata": {},
   "outputs": [],
   "source": []
  },
  {
   "cell_type": "markdown",
   "id": "01bbac8a",
   "metadata": {},
   "source": [
    "## 텐서플로에서 텍스트 전처리하기 \n",
    "* 토큰화 : 문장을 단어 혹은 형태소로 쪼개는 것\n",
    "* 원핫인코딩 : 문자를 벡터화\n",
    "* 임베딩(embedding) : 벡터화 (원핫인코딩이랑은 조금 다름) --> 원핫인코딩을 더 축소 "
   ]
  },
  {
   "cell_type": "markdown",
   "id": "b863bd30",
   "metadata": {},
   "source": [
    "- 원핫인코딩: 범주 수만큼 차원이 늘어나며 각 벡터는 이진 값으로 표현됨.\n",
    "- 임베딩: 저차원의 실수 벡터로 표현하며, 학습 과정을 통해 벡터 간의 유사성을 학습함.\n",
    "\n",
    "<br><br>\n",
    "\n",
    "1. 원핫인코딩 (One-Hot Encoding)\n",
    "- 개념: 범주형 데이터를 이진 벡터로 변환하는 방법입니다.\n",
    "- 방법: 각 범주를 0과 1로만 이루어진 벡터로 변환합니다. 예를 들어, 세 가지 범주가 있다면 각 범주는 [1, 0, 0], [0, 1, 0], [0, 0, 1]로 표현됩니다.\n",
    "\n",
    "- 특징:\n",
    "    - 벡터의 길이는 범주의 수와 동일합니다.\n",
    "    - 벡터 사이의 유사성을 표현하지 않기 때문에 범주 간의 관계나 순서 정보를 반영하지 못합니다.\n",
    "    - 차원의 저주(Dimension Curse) 문제가 발생할 수 있습니다. 즉, 범주가 많아질수록 벡터의 길이가 매우 길어집니다.\n",
    "- 장점: 간단하고 빠르게 구현 가능.\n",
    "- 단점: 차원이 매우 커질 수 있고, 메모리 비효율적.\n",
    "\n",
    "<br>\n",
    "2. 임베딩 (Embedding)  <br>\n",
    "- 개념: 범주형 데이터를 고차원의 실수 벡터로 매핑하는 방법으로, 주로 딥러닝에서 사용됩니다.\n",
    "- 방법: 각 범주를 고정된 크기의 실수 벡터로 표현하며, 이 벡터들은 학습을 통해 최적화됩니다. 벡터 간의 거리는 범주 간의 유사성을 나타낼 수 있습니다.\n",
    "\n",
    "- 특징:\n",
    "    - 저차원 벡터로 범주형 데이터를 표현할 수 있어 메모리와 계산 효율성이 높습니다.\n",
    "    - 벡터 간의 관계가 학습되므로 범주 간의 유사성이나 의미적인 관계를 학습할 수 있습니다.\n",
    "    - 주로 딥러닝 모델의 초기 레이어에서 사용되며, 텍스트 데이터를 처리할 때 많이 사용됩니다.\n",
    "- 장점: 범주 간의 관계를 반영할 수 있고, 원핫인코딩보다 효율적입니다.\n",
    "- 단점: 학습이 필요하며, 구현이 상대적으로 복잡합니다."
   ]
  },
  {
   "cell_type": "code",
   "execution_count": 4,
   "id": "a8b93893",
   "metadata": {},
   "outputs": [],
   "source": [
    "text = \"해보지 않으면 해낼 수 없다\""
   ]
  },
  {
   "cell_type": "code",
   "execution_count": 5,
   "id": "6a737a93",
   "metadata": {},
   "outputs": [
    {
     "data": {
      "text/plain": [
       "['해보지', '않으면', '해낼', '수', '없다']"
      ]
     },
     "execution_count": 5,
     "metadata": {},
     "output_type": "execute_result"
    }
   ],
   "source": [
    "result = text_to_word_sequence(text)\n",
    "result"
   ]
  },
  {
   "cell_type": "markdown",
   "id": "1fcc7ce5",
   "metadata": {},
   "source": [
    "### 단어 빈도수 세기 "
   ]
  },
  {
   "cell_type": "code",
   "execution_count": 15,
   "id": "0d823fbe",
   "metadata": {},
   "outputs": [],
   "source": [
    "docs = ['먼저 텍스트의 각 단어를 나누어 토큰화합니다', \n",
    "        '텍스트의 단어로 토큰화해야 딥러닝에서 인식됩니다', \n",
    "        '토큰화한 결과는 딥러닝에서 사용할 수 있습니다',\n",
    "        '텍스트 전처리에는 벡터화 원핫인코딩 패딩으로 길이 맞추기 등이 필요합니다',\n",
    "        '딥러닝 쉽지 않네요']"
   ]
  },
  {
   "cell_type": "code",
   "execution_count": 16,
   "id": "72fb7abf",
   "metadata": {},
   "outputs": [
    {
     "data": {
      "text/plain": [
       "'토큰화한 결과는 딥러닝에서 사용할 수 있습니다'"
      ]
     },
     "execution_count": 16,
     "metadata": {},
     "output_type": "execute_result"
    }
   ],
   "source": [
    "docs[2]"
   ]
  },
  {
   "cell_type": "code",
   "execution_count": 17,
   "id": "71cc4ffd",
   "metadata": {},
   "outputs": [
    {
     "name": "stdout",
     "output_type": "stream",
     "text": [
      "단어 카운트:\n",
      "  OrderedDict([('먼저', 1), ('텍스트의', 2), ('각', 1), ('단어를', 1), ('나누어', 1), ('토큰화합니다', 1), ('단어로', 1), ('토큰화해야', 1), ('딥러닝에서', 2), ('인식됩니다', 1), ('토큰화한', 1), ('결과는', 1), ('사용할', 1), ('수', 1), ('있습니다', 1), ('텍스트', 1), ('전처리에는', 1), ('벡터화', 1), ('원핫인코딩', 1), ('패딩으로', 1), ('길이', 1), ('맞추기', 1), ('등이', 1), ('필요합니다', 1), ('딥러닝', 1), ('쉽지', 1), ('않네요', 1)])\n",
      "\n",
      "문장 카운트:\n",
      "  5\n",
      "\n",
      "각 단어가 몇 개의 문장에 포함되어 있는지 계산:\n",
      "  defaultdict(<class 'int'>, {'나누어': 1, '토큰화합니다': 1, '먼저': 1, '각': 1, '단어를': 1, '텍스트의': 2, '토큰화해야': 1, '단어로': 1, '인식됩니다': 1, '딥러닝에서': 2, '사용할': 1, '결과는': 1, '토큰화한': 1, '있습니다': 1, '수': 1, '길이': 1, '원핫인코딩': 1, '전처리에는': 1, '필요합니다': 1, '등이': 1, '텍스트': 1, '벡터화': 1, '맞추기': 1, '패딩으로': 1, '쉽지': 1, '않네요': 1, '딥러닝': 1})\n",
      "\n",
      "각 단어에 매겨진 인덱스 값:\n",
      "  {'텍스트의': 1, '딥러닝에서': 2, '먼저': 3, '각': 4, '단어를': 5, '나누어': 6, '토큰화합니다': 7, '단어로': 8, '토큰화해야': 9, '인식됩니다': 10, '토큰화한': 11, '결과는': 12, '사용할': 13, '수': 14, '있습니다': 15, '텍스트': 16, '전처리에는': 17, '벡터화': 18, '원핫인코딩': 19, '패딩으로': 20, '길이': 21, '맞추기': 22, '등이': 23, '필요합니다': 24, '딥러닝': 25, '쉽지': 26, '않네요': 27}\n"
     ]
    }
   ],
   "source": [
    "token = Tokenizer()\n",
    "token.fit_on_texts(docs)\n",
    "print(\"단어 카운트:\\n \", token.word_counts)\n",
    "print()\n",
    "print(\"문장 카운트:\\n \", token.document_count)\n",
    "print()\n",
    "print(\"각 단어가 몇 개의 문장에 포함되어 있는지 계산:\\n \", token.word_docs)\n",
    "print()\n",
    "print(\"각 단어에 매겨진 인덱스 값:\\n \", token.word_index)"
   ]
  },
  {
   "cell_type": "code",
   "execution_count": null,
   "id": "2851a2c8",
   "metadata": {},
   "outputs": [],
   "source": []
  },
  {
   "cell_type": "markdown",
   "id": "6c90c8d6",
   "metadata": {},
   "source": [
    "ex) \" 텍스트의 단어로 토큰화해야 딥러닝에서 인식됩니다 \""
   ]
  },
  {
   "cell_type": "markdown",
   "id": "d54acf26",
   "metadata": {},
   "source": [
    "\n",
    "텍스트의 / 단어로 / 토큰화해야 / 딥러닝에서 / 인식됩니다\n",
    "#### 1 8 9 2 10\n",
    "\n",
    "- 1번에 1\n",
    "- 2번에 1\n",
    "- 8번에 1\n",
    "- 9번에 1\n",
    "- 10번에 1\n",
    "\n",
    "\n",
    "110000011100000\n",
    "\n",
    "#### 1번부터 15번까지 벡터화했을 때"
   ]
  },
  {
   "cell_type": "code",
   "execution_count": 19,
   "id": "60682375",
   "metadata": {},
   "outputs": [
    {
     "name": "stdout",
     "output_type": "stream",
     "text": [
      "[[3, 1, 4, 5, 6, 7], [1, 8, 9, 2, 10], [11, 12, 2, 13, 14, 15], [16, 17, 18, 19, 20, 21, 22, 23, 24], [25, 26, 27]]\n"
     ]
    }
   ],
   "source": [
    "x = token.texts_to_sequences(docs)\n",
    "print(x)\n",
    "\n",
    "# 문장의 벡터화 "
   ]
  },
  {
   "cell_type": "code",
   "execution_count": 24,
   "id": "62cc2891",
   "metadata": {},
   "outputs": [
    {
     "data": {
      "text/plain": [
       "array([[ 3,  1,  4,  5,  6,  7],\n",
       "       [ 0,  1,  8,  9,  2, 10],\n",
       "       [11, 12,  2, 13, 14, 15],\n",
       "       [19, 20, 21, 22, 23, 24],\n",
       "       [ 0,  0,  0, 25, 26, 27]], dtype=int32)"
      ]
     },
     "execution_count": 24,
     "metadata": {},
     "output_type": "execute_result"
    }
   ],
   "source": [
    "# 문장의 길이를 맞추기 위한 패딩\n",
    "padded_x = pad_sequences(x, 6)\n",
    "padded_x \n",
    "\n",
    "\n",
    "# truncating: String, \"pre\" or \"post\" (optional, defaults to `\"pre\"`)\n",
    "# remove values from sequences larger than `maxlen`, either at the beginning or at the end of the sequences.\n",
    "# 네번째 문장의 인덱스가 짤린 이유 : 기본 디폴트 값이 pre로 되어있기 때문이다. "
   ]
  },
  {
   "cell_type": "code",
   "execution_count": 26,
   "id": "22203ac9",
   "metadata": {},
   "outputs": [
    {
     "data": {
      "text/plain": [
       "9"
      ]
     },
     "execution_count": 26,
     "metadata": {},
     "output_type": "execute_result"
    }
   ],
   "source": [
    "lenofsent = []\n",
    "\n",
    "for i in x:\n",
    "    #print(len(i))\n",
    "    lenofsent.append(len(i))\n",
    "max(lenofsent)"
   ]
  },
  {
   "cell_type": "code",
   "execution_count": 27,
   "id": "4b303468",
   "metadata": {},
   "outputs": [
    {
     "data": {
      "text/plain": [
       "array([[ 0,  0,  0,  0,  3,  1,  4,  5,  6,  7],\n",
       "       [ 0,  0,  0,  0,  0,  1,  8,  9,  2, 10],\n",
       "       [ 0,  0,  0,  0, 11, 12,  2, 13, 14, 15],\n",
       "       [ 0, 16, 17, 18, 19, 20, 21, 22, 23, 24],\n",
       "       [ 0,  0,  0,  0,  0,  0,  0, 25, 26, 27]], dtype=int32)"
      ]
     },
     "execution_count": 27,
     "metadata": {},
     "output_type": "execute_result"
    }
   ],
   "source": [
    "# 문장의 길이를 맞추기 위한 패딩\n",
    "# 가장 긴 문장 길이 + 1 의 길이로 패딩\n",
    "# 문장 시작에는 0이 있어야 함\n",
    "\n",
    "padded_x = pad_sequences(x, max([len(i) for i in x]) + 1)\n",
    "padded_x \n"
   ]
  },
  {
   "cell_type": "code",
   "execution_count": null,
   "id": "9d3f1c15",
   "metadata": {},
   "outputs": [],
   "source": []
  },
  {
   "cell_type": "markdown",
   "id": "12d3a3d7",
   "metadata": {},
   "source": [
    "## 텍스트를 읽고 긍정 / 부정 예측하기 "
   ]
  },
  {
   "cell_type": "code",
   "execution_count": 28,
   "id": "487dfb3c",
   "metadata": {},
   "outputs": [],
   "source": [
    "docs2 = [\"너무 재밌네요\",\n",
    "         \"최고예요\", \n",
    "         \"참 신기한 딥러닝이네요\", \n",
    "         \"인공지능 칭찬합니다\",\n",
    "         \"더 자세히 배우고 싶어요\",\n",
    "         \"변화가 너무 빨라요\",\n",
    "         \"GPT성능이 생각보다 별로네요\", \n",
    "         \"Gemini보다는 낫죠\",\n",
    "         \"나는 차라리 라마를 쓴다\",\n",
    "         \"유료 결재 싫어요\"]"
   ]
  },
  {
   "cell_type": "code",
   "execution_count": 29,
   "id": "e7b2e992",
   "metadata": {},
   "outputs": [],
   "source": [
    "classes = np.array([1,1,1,1,1,0,0,1,0,0])"
   ]
  },
  {
   "cell_type": "code",
   "execution_count": 30,
   "id": "86be07d8",
   "metadata": {},
   "outputs": [
    {
     "name": "stdout",
     "output_type": "stream",
     "text": [
      "{'너무': 1, '재밌네요': 2, '최고예요': 3, '참': 4, '신기한': 5, '딥러닝이네요': 6, '인공지능': 7, '칭찬합니다': 8, '더': 9, '자세히': 10, '배우고': 11, '싶어요': 12, '변화가': 13, '빨라요': 14, 'gpt성능이': 15, '생각보다': 16, '별로네요': 17, 'gemini보다는': 18, '낫죠': 19, '나는': 20, '차라리': 21, '라마를': 22, '쓴다': 23, '유료': 24, '결재': 25, '싫어요': 26}\n"
     ]
    }
   ],
   "source": [
    "token = Tokenizer()\n",
    "token.fit_on_texts(docs2)\n",
    "print(token.word_index)\n",
    "\n",
    "# 인덱스 출력"
   ]
  },
  {
   "cell_type": "code",
   "execution_count": 32,
   "id": "f4288821",
   "metadata": {},
   "outputs": [
    {
     "name": "stdout",
     "output_type": "stream",
     "text": [
      "토큰화 결과:\n",
      " [[1, 2], [3], [4, 5, 6], [7, 8], [9, 10, 11, 12], [13, 1, 14], [15, 16, 17], [18, 19], [20, 21, 22, 23], [24, 25, 26]]\n"
     ]
    }
   ],
   "source": [
    "x = token.texts_to_sequences(docs2)\n",
    "print(\"토큰화 결과:\\n\", x)"
   ]
  },
  {
   "cell_type": "code",
   "execution_count": 33,
   "id": "7bdf6006",
   "metadata": {},
   "outputs": [
    {
     "data": {
      "text/plain": [
       "array([[ 0,  0,  1,  2],\n",
       "       [ 0,  0,  0,  3],\n",
       "       [ 0,  4,  5,  6],\n",
       "       [ 0,  0,  7,  8],\n",
       "       [ 9, 10, 11, 12],\n",
       "       [ 0, 13,  1, 14],\n",
       "       [ 0, 15, 16, 17],\n",
       "       [ 0,  0, 18, 19],\n",
       "       [20, 21, 22, 23],\n",
       "       [ 0, 24, 25, 26]], dtype=int32)"
      ]
     },
     "execution_count": 33,
     "metadata": {},
     "output_type": "execute_result"
    }
   ],
   "source": [
    "# 문장의 길이를 맞추기 위한 패딩\n",
    "# 가장 긴 문장 길이 + 1 의 길이로 패딩\n",
    "# 문장 시작에는 0이 있어야 함\n",
    "\n",
    "padding_x = pad_sequences(x, max([len(i) for i in x]))   # 4개가 제일 길다 \n",
    "padding_x \n"
   ]
  },
  {
   "cell_type": "markdown",
   "id": "d6c6c956",
   "metadata": {},
   "source": [
    "## 임베딩"
   ]
  },
  {
   "cell_type": "code",
   "execution_count": 34,
   "id": "5e538008",
   "metadata": {},
   "outputs": [
    {
     "data": {
      "text/plain": [
       "27"
      ]
     },
     "execution_count": 34,
     "metadata": {},
     "output_type": "execute_result"
    }
   ],
   "source": [
    "# 임베딩 \n",
    "word_size = len(token.word_index) + 1  \n",
    "word_size"
   ]
  },
  {
   "cell_type": "code",
   "execution_count": 35,
   "id": "204f5f31",
   "metadata": {},
   "outputs": [
    {
     "name": "stderr",
     "output_type": "stream",
     "text": [
      "2024-09-13 15:03:33.458158: I tensorflow/core/platform/cpu_feature_guard.cc:193] This TensorFlow binary is optimized with oneAPI Deep Neural Network Library (oneDNN) to use the following CPU instructions in performance-critical operations:  AVX2 FMA\n",
      "To enable them in other operations, rebuild TensorFlow with the appropriate compiler flags.\n",
      "2024-09-13 15:03:33.459958: I tensorflow/c/logging.cc:34] DirectML: creating device on adapter 0 (AMD Radeon(TM) Graphics)\n",
      "2024-09-13 15:03:33.851638: I tensorflow/core/common_runtime/pluggable_device/pluggable_device_factory.cc:306] Could not identify NUMA node of platform GPU ID 0, defaulting to 0. Your kernel may not have been built with NUMA support.\n",
      "2024-09-13 15:03:33.851689: W tensorflow/core/common_runtime/pluggable_device/pluggable_device_bfc_allocator.cc:28] Overriding allow_growth setting because force_memory_growth was requested by the device.\n",
      "2024-09-13 15:03:33.851715: I tensorflow/core/common_runtime/pluggable_device/pluggable_device_factory.cc:272] Created TensorFlow device (/job:localhost/replica:0/task:0/device:GPU:0 with 14845 MB memory) -> physical PluggableDevice (device: 0, name: DML, pci bus id: <undefined>)\n"
     ]
    },
    {
     "name": "stdout",
     "output_type": "stream",
     "text": [
      "Model: \"sequential\"\n",
      "_________________________________________________________________\n",
      " Layer (type)                Output Shape              Param #   \n",
      "=================================================================\n",
      " embedding (Embedding)       (None, 4, 8)              216       \n",
      "                                                                 \n",
      " flatten (Flatten)           (None, 32)                0         \n",
      "                                                                 \n",
      " dense (Dense)               (None, 1)                 33        \n",
      "                                                                 \n",
      "=================================================================\n",
      "Total params: 249\n",
      "Trainable params: 249\n",
      "Non-trainable params: 0\n",
      "_________________________________________________________________\n"
     ]
    }
   ],
   "source": [
    "model = Sequential()\n",
    "model.add(Embedding(word_size, 8, input_length=4))\n",
    "model.add(Flatten())\n",
    "model.add(Dense(1, activation='sigmoid'))\n",
    "model.summary()"
   ]
  },
  {
   "cell_type": "code",
   "execution_count": 36,
   "id": "abc8dcdc",
   "metadata": {},
   "outputs": [
    {
     "name": "stdout",
     "output_type": "stream",
     "text": [
      "Epoch 1/20\n"
     ]
    },
    {
     "name": "stderr",
     "output_type": "stream",
     "text": [
      "2024-09-13 15:07:20.581349: I tensorflow/core/grappler/optimizers/custom_graph_optimizer_registry.cc:114] Plugin optimizer for device_type GPU is enabled.\n",
      "2024-09-13 15:07:20.656875: I tensorflow/core/common_runtime/pluggable_device/pluggable_device_factory.cc:306] Could not identify NUMA node of platform GPU ID 0, defaulting to 0. Your kernel may not have been built with NUMA support.\n",
      "2024-09-13 15:07:20.656944: I tensorflow/core/common_runtime/pluggable_device/pluggable_device_factory.cc:272] Created TensorFlow device (/job:localhost/replica:0/task:0/device:GPU:0 with 14845 MB memory) -> physical PluggableDevice (device: 0, name: DML, pci bus id: <undefined>)\n",
      "2024-09-13 15:07:20.661307: I tensorflow/core/common_runtime/pluggable_device/pluggable_device_factory.cc:306] Could not identify NUMA node of platform GPU ID 0, defaulting to 0. Your kernel may not have been built with NUMA support.\n",
      "2024-09-13 15:07:20.661372: I tensorflow/core/common_runtime/pluggable_device/pluggable_device_factory.cc:272] Created TensorFlow device (/job:localhost/replica:0/task:0/device:GPU:0 with 14845 MB memory) -> physical PluggableDevice (device: 0, name: DML, pci bus id: <undefined>)\n",
      "2024-09-13 15:07:20.667034: I tensorflow/core/common_runtime/pluggable_device/pluggable_device_factory.cc:306] Could not identify NUMA node of platform GPU ID 0, defaulting to 0. Your kernel may not have been built with NUMA support.\n",
      "2024-09-13 15:07:20.667097: I tensorflow/core/common_runtime/pluggable_device/pluggable_device_factory.cc:272] Created TensorFlow device (/job:localhost/replica:0/task:0/device:GPU:0 with 14845 MB memory) -> physical PluggableDevice (device: 0, name: DML, pci bus id: <undefined>)\n"
     ]
    },
    {
     "name": "stdout",
     "output_type": "stream",
     "text": [
      "1/1 [==============================] - 1s 571ms/step - loss: 0.6936 - accuracy: 0.5000\n",
      "Epoch 2/20\n",
      "1/1 [==============================] - 0s 13ms/step - loss: 0.6908 - accuracy: 0.5000\n",
      "Epoch 3/20\n",
      "1/1 [==============================] - 0s 15ms/step - loss: 0.6882 - accuracy: 0.6000\n",
      "Epoch 4/20\n",
      "1/1 [==============================] - 0s 15ms/step - loss: 0.6855 - accuracy: 0.6000\n",
      "Epoch 5/20\n",
      "1/1 [==============================] - 0s 15ms/step - loss: 0.6828 - accuracy: 0.7000\n",
      "Epoch 6/20\n",
      "1/1 [==============================] - 0s 12ms/step - loss: 0.6801 - accuracy: 0.7000\n",
      "Epoch 7/20\n",
      "1/1 [==============================] - 0s 15ms/step - loss: 0.6774 - accuracy: 0.7000\n",
      "Epoch 8/20\n",
      "1/1 [==============================] - 0s 15ms/step - loss: 0.6747 - accuracy: 0.8000\n",
      "Epoch 9/20\n",
      "1/1 [==============================] - 0s 15ms/step - loss: 0.6721 - accuracy: 0.8000\n",
      "Epoch 10/20\n",
      "1/1 [==============================] - 0s 15ms/step - loss: 0.6694 - accuracy: 0.9000\n",
      "Epoch 11/20\n",
      "1/1 [==============================] - 0s 14ms/step - loss: 0.6667 - accuracy: 0.9000\n",
      "Epoch 12/20\n",
      "1/1 [==============================] - 0s 14ms/step - loss: 0.6641 - accuracy: 0.9000\n",
      "Epoch 13/20\n",
      "1/1 [==============================] - 0s 25ms/step - loss: 0.6614 - accuracy: 0.9000\n",
      "Epoch 14/20\n",
      "1/1 [==============================] - 0s 14ms/step - loss: 0.6587 - accuracy: 0.9000\n",
      "Epoch 15/20\n",
      "1/1 [==============================] - 0s 14ms/step - loss: 0.6561 - accuracy: 0.9000\n",
      "Epoch 16/20\n",
      "1/1 [==============================] - 0s 14ms/step - loss: 0.6534 - accuracy: 1.0000\n",
      "Epoch 17/20\n",
      "1/1 [==============================] - 0s 15ms/step - loss: 0.6507 - accuracy: 1.0000\n",
      "Epoch 18/20\n",
      "1/1 [==============================] - 0s 26ms/step - loss: 0.6480 - accuracy: 1.0000\n",
      "Epoch 19/20\n",
      "1/1 [==============================] - 0s 14ms/step - loss: 0.6453 - accuracy: 1.0000\n",
      "Epoch 20/20\n",
      "1/1 [==============================] - 0s 13ms/step - loss: 0.6426 - accuracy: 1.0000\n",
      "1/1 [==============================] - 0s 119ms/step - loss: 0.6399 - accuracy: 1.0000\n",
      "1.0\n"
     ]
    },
    {
     "name": "stderr",
     "output_type": "stream",
     "text": [
      "2024-09-13 15:07:21.349130: I tensorflow/core/grappler/optimizers/custom_graph_optimizer_registry.cc:114] Plugin optimizer for device_type GPU is enabled.\n",
      "2024-09-13 15:07:21.375190: I tensorflow/core/common_runtime/pluggable_device/pluggable_device_factory.cc:306] Could not identify NUMA node of platform GPU ID 0, defaulting to 0. Your kernel may not have been built with NUMA support.\n",
      "2024-09-13 15:07:21.375249: I tensorflow/core/common_runtime/pluggable_device/pluggable_device_factory.cc:272] Created TensorFlow device (/job:localhost/replica:0/task:0/device:GPU:0 with 14845 MB memory) -> physical PluggableDevice (device: 0, name: DML, pci bus id: <undefined>)\n"
     ]
    }
   ],
   "source": [
    "model.compile(loss='binary_crossentropy', optimizer='adam', metrics = ['accuracy'])\n",
    "model.fit(padding_x, classes, epochs=20)\n",
    "print(model.evaluate(padding_x, classes)[1])"
   ]
  },
  {
   "cell_type": "code",
   "execution_count": null,
   "id": "65e70d06",
   "metadata": {},
   "outputs": [],
   "source": []
  },
  {
   "cell_type": "code",
   "execution_count": null,
   "id": "df4f7b7d",
   "metadata": {},
   "outputs": [],
   "source": []
  }
 ],
 "metadata": {
  "kernelspec": {
   "display_name": "Python 3 (ipykernel)",
   "language": "python",
   "name": "python3"
  },
  "language_info": {
   "codemirror_mode": {
    "name": "ipython",
    "version": 3
   },
   "file_extension": ".py",
   "mimetype": "text/x-python",
   "name": "python",
   "nbconvert_exporter": "python",
   "pygments_lexer": "ipython3",
   "version": "3.9.19"
  }
 },
 "nbformat": 4,
 "nbformat_minor": 5
}
