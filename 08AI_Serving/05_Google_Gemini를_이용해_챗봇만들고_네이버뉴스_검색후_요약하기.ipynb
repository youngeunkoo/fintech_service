{
 "cells": [
  {
   "cell_type": "markdown",
   "id": "79c6f0fa",
   "metadata": {},
   "source": [
    "## Google Gemini를 이용해 챗봇 만들고 네이버뉴스 검색후 요약하기"
   ]
  },
  {
   "cell_type": "code",
   "execution_count": 6,
   "id": "799b2c14",
   "metadata": {},
   "outputs": [],
   "source": [
    "!pip install -q -U google-generativeai"
   ]
  },
  {
   "cell_type": "code",
   "execution_count": 7,
   "id": "e2915ead",
   "metadata": {},
   "outputs": [
    {
     "name": "stdout",
     "output_type": "stream",
     "text": [
      "Requirement already satisfied: python-dotenv in /home/user/miniforge3/envs/torch/lib/python3.11/site-packages (1.0.1)\r\n"
     ]
    }
   ],
   "source": [
    "!pip install python-dotenv"
   ]
  },
  {
   "cell_type": "code",
   "execution_count": 10,
   "id": "cdd1f821",
   "metadata": {},
   "outputs": [
    {
     "name": "stdout",
     "output_type": "stream",
     "text": [
      "Requirement already satisfied: pip in /home/user/miniforge3/envs/torch/lib/python3.11/site-packages (24.2)\r\n"
     ]
    }
   ],
   "source": [
    "!pip install --upgrade pip"
   ]
  },
  {
   "cell_type": "markdown",
   "id": "5755267b",
   "metadata": {},
   "source": [
    "* .chatenv.txt 파일 : 나의 구글 gemini api key 들어있는 파일\n",
    "* .chatenv 뒤에 .txt 지우기\n",
    "* .chatenv 파일이 같은 08_AI_Serving 위치에 저장했는지 확인"
   ]
  },
  {
   "cell_type": "code",
   "execution_count": 19,
   "id": "d355b22d",
   "metadata": {},
   "outputs": [
    {
     "data": {
      "text/plain": [
       "True"
      ]
     },
     "execution_count": 19,
     "metadata": {},
     "output_type": "execute_result"
    }
   ],
   "source": [
    "import google.generativeai as genai\n",
    "from dotenv import load_dotenv\n",
    "import os\n",
    "load_dotenv(\".chatenv\")"
   ]
  },
  {
   "cell_type": "code",
   "execution_count": 20,
   "id": "ce9b52d0",
   "metadata": {},
   "outputs": [],
   "source": [
    "GOOGLE_API_KEY=os.getenv('GOOGLE_API_KEY')\n",
    "genai.configure(api_key=GOOGLE_API_KEY)"
   ]
  },
  {
   "cell_type": "code",
   "execution_count": 21,
   "id": "74dfc86c",
   "metadata": {},
   "outputs": [],
   "source": [
    "model = genai.GenerativeModel('gemini-1.5-flash')"
   ]
  },
  {
   "cell_type": "code",
   "execution_count": 22,
   "id": "24f55f95",
   "metadata": {
    "scrolled": true
   },
   "outputs": [
    {
     "name": "stdout",
     "output_type": "stream",
     "text": [
      "The rain hammered against the attic window, echoing the drumbeat of Lila’s frustration. She was supposed to be packing for camp, but everything felt wrong. Her usual bright-colored clothes seemed dull, her favorite book too heavy, and her trusty flashlight just...ordinary. \n",
      "\n",
      "Suddenly, a gust of wind rattled the window, revealing a dusty corner she'd never noticed before. Behind a cobweb-draped trunk, a faded, leather backpack lay forgotten. Curiosity piqued, Lila brushed away the dust. The leather felt strangely warm, and an intricate silver clasp gleamed in the dim light.\n",
      "\n",
      "Hesitantly, she opened the backpack. Inside, nestled on a bed of velvet, was a single, shimmering feather. It pulsated with an ethereal light, and as Lila touched it, a whisper of wind swirled around her, carrying a faint, sweet scent.\n",
      "\n",
      "With a jolt, she realized she was no longer in the attic. She stood on a grassy hill, overlooking a shimmering turquoise lake. Birds chirped in a symphony of colors, and the air hummed with an unseen energy.\n",
      "\n",
      "\"This is amazing,\" she breathed, her heart pounding with excitement. \"Did the feather...take me here?\"\n",
      "\n",
      "As she explored the breathtaking landscape, Lila discovered that the backpack held more than just a magical feather. It was a portal to different worlds, each one more wondrous than the last. She explored a moonlit forest where trees spoke in rustling whispers, a bustling marketplace filled with talking animals, and a castle that floated among the clouds.\n",
      "\n",
      "Each new place was filled with magic, adventure, and wonder. But as Lila began to get lost in the endless possibilities, a sense of unease settled upon her. The feather, once vibrant, now seemed dull, its glow fading. The magical landscapes, once so vivid, were becoming blurry, fading into a hazy mist.\n",
      "\n",
      "Lila realized that the magic wasn't endless. It relied on her own wonder, her own curiosity. It wasn't enough just to explore; she had to truly engage, to learn, to experience.\n",
      "\n",
      "She returned to the attic, the backpack heavier now, its magical weight a reminder of her extraordinary journey. The feather, though dimmed, still held a spark of its former brilliance. Lila understood: the magic wasn't gone, it was waiting to be rekindled, waiting for her to open her mind and embrace the wonder that lay within her own heart.\n",
      "\n",
      "From that day on, Lila saw the world differently. The mundane became extraordinary, filled with unseen possibilities. And though she never returned to the magical worlds, the backpack became her greatest treasure, a reminder that the most incredible adventures were not in distant lands, but in the world around her, waiting to be discovered. All it took was a little curiosity, a touch of magic, and an open mind. \n",
      "\n"
     ]
    }
   ],
   "source": [
    "response = model.generate_content(\"Write a story about a magic backpack.\")\n",
    "print(response.text)"
   ]
  },
  {
   "cell_type": "code",
   "execution_count": null,
   "id": "f6cc7ea1",
   "metadata": {},
   "outputs": [],
   "source": []
  },
  {
   "cell_type": "code",
   "execution_count": null,
   "id": "9d72b015",
   "metadata": {},
   "outputs": [],
   "source": []
  },
  {
   "cell_type": "code",
   "execution_count": 32,
   "id": "913faa9d",
   "metadata": {},
   "outputs": [
    {
     "name": "stdout",
     "output_type": "stream",
     "text": [
      "Running on local URL:  http://127.0.0.1:7868\n",
      "IMPORTANT: You are using gradio version 3.40.0, however version 4.29.0 is available, please upgrade.\n",
      "--------\n",
      "Running on public URL: https://f05aa6329c267b17aa.gradio.live\n",
      "\n",
      "This share link expires in 72 hours. For free permanent hosting and GPU upgrades, run `gradio deploy` from Terminal to deploy to Spaces (https://huggingface.co/spaces)\n"
     ]
    },
    {
     "data": {
      "text/plain": []
     },
     "execution_count": 32,
     "metadata": {},
     "output_type": "execute_result"
    }
   ],
   "source": [
    "# 최종 코드 \n",
    "\n",
    "import os\n",
    "import requests\n",
    "import gradio as gr\n",
    "from dotenv import load_dotenv\n",
    "\n",
    "# .chatenv 파일에서 API 키 불러오기\n",
    "load_dotenv(\".chatenv\")  # .chatenv 파일을 불러옵니다.\n",
    "NAVER_CLIENT_ID = os.getenv('NAVER_CLIENT_ID')  # 네이버 클라이언트 ID\n",
    "NAVER_CLIENT_SECRET = os.getenv('NAVER_CLIENT_SECRET')  # 네이버 클라이언트 시크릿 키\n",
    "\n",
    "# 네이버 뉴스 검색 API 함수\n",
    "def search_naver_news(query):\n",
    "    api_url = \"https://openapi.naver.com/v1/search/news.json\"\n",
    "    headers = {\n",
    "        \"X-Naver-Client-Id\": NAVER_CLIENT_ID,\n",
    "        \"X-Naver-Client-Secret\": NAVER_CLIENT_SECRET,\n",
    "    }\n",
    "    params = {\n",
    "        \"query\": query,\n",
    "        \"display\": 5,  # 검색 결과 개수\n",
    "        \"sort\": \"date\"  # 최신 뉴스 정렬\n",
    "    }\n",
    "    \n",
    "    response = requests.get(api_url, headers=headers, params=params)\n",
    "    \n",
    "    if response.status_code == 200:\n",
    "        news_items = response.json().get('items', [])\n",
    "        if not news_items:\n",
    "            return \"No news found.\"\n",
    "\n",
    "        news_summary = []\n",
    "        for item in news_items:\n",
    "            title = item['title'].replace(\"<b>\", \"\").replace(\"</b>\", \"\")  # HTML 태그 제거\n",
    "            link = item['link']\n",
    "            news_summary.append(f\"{title} - {link}\")\n",
    "        \n",
    "        return \"\\n\\n\".join(news_summary)\n",
    "    else:\n",
    "        return f\"Error {response.status_code}: {response.text}\"\n",
    "\n",
    "# Gradio 인터페이스 구성\n",
    "with gr.Blocks() as app:\n",
    "    gr.Markdown(\"# AI Chatbot with Naver News Summary\")\n",
    "\n",
    "    # 질문과 답변 챗봇\n",
    "    with gr.Row():\n",
    "        with gr.Column():\n",
    "            question = gr.Textbox(label=\"Ask a question\")\n",
    "            answer = gr.Textbox(label=\"Answer\")\n",
    "            ask_btn = gr.Button(\"Ask\")\n",
    "            ask_btn.click(fn=generate_answer, inputs=question, outputs=answer)\n",
    "\n",
    "        with gr.Column():\n",
    "            news_query = gr.Textbox(label=\"Search Naver News\")\n",
    "            news_output = gr.Textbox(label=\"Naver News Results\")\n",
    "            news_btn = gr.Button(\"Search News\")\n",
    "            news_btn.click(fn=search_naver_news, inputs=news_query, outputs=news_output)\n",
    "\n",
    "# Gradio 앱 실행\n",
    "app.launch(inline=False, share=True)\n"
   ]
  },
  {
   "cell_type": "code",
   "execution_count": null,
   "id": "1e150b64",
   "metadata": {},
   "outputs": [],
   "source": []
  }
 ],
 "metadata": {
  "kernelspec": {
   "display_name": "Python 3 (ipykernel)",
   "language": "python",
   "name": "python3"
  },
  "language_info": {
   "codemirror_mode": {
    "name": "ipython",
    "version": 3
   },
   "file_extension": ".py",
   "mimetype": "text/x-python",
   "name": "python",
   "nbconvert_exporter": "python",
   "pygments_lexer": "ipython3",
   "version": "3.11.10"
  }
 },
 "nbformat": 4,
 "nbformat_minor": 5
}
