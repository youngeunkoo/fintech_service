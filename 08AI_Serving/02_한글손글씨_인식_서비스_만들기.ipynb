{
 "cells": [
  {
   "cell_type": "markdown",
   "id": "162e7dfc",
   "metadata": {},
   "source": [
    "# 한글 손글씨 인식 서비스 만들기 "
   ]
  },
  {
   "cell_type": "code",
   "execution_count": 2,
   "id": "c20b7b6a",
   "metadata": {},
   "outputs": [],
   "source": [
    "import torch\n",
    "from transformers import VisionEncoderDecoderModel"
   ]
  },
  {
   "cell_type": "code",
   "execution_count": 5,
   "id": "5db60e6c",
   "metadata": {},
   "outputs": [
    {
     "name": "stdout",
     "output_type": "stream",
     "text": [
      "[info] init TrOCR Inferencer\n",
      "Running on local URL:  http://127.0.0.1:7870\n",
      "\n",
      "Thanks for being a Gradio user! If you have questions or feedback, please join our Discord server and chat with us: https://discord.gg/feTf9x3ZSB\n",
      "IMPORTANT: You are using gradio version 3.40.0, however version 4.29.0 is available, please upgrade.\n",
      "--------\n",
      "Running on public URL: https://8da38f0c6ddc38105f.gradio.live\n",
      "\n",
      "This share link expires in 72 hours. For free permanent hosting and GPU upgrades, run `gradio deploy` from Terminal to deploy to Spaces (https://huggingface.co/spaces)\n"
     ]
    },
    {
     "data": {
      "text/plain": []
     },
     "execution_count": 5,
     "metadata": {},
     "output_type": "execute_result"
    },
    {
     "name": "stderr",
     "output_type": "stream",
     "text": [
      "/home/user/miniforge3/envs/torch/lib/python3.11/site-packages/transformers/generation/utils.py:1258: UserWarning: Using the model-agnostic default `max_length` (=20) to control the generation length. We recommend setting `max_new_tokens` to control the maximum length of the generation.\n",
      "  warnings.warn(\n",
      "/home/user/miniforge3/envs/torch/lib/python3.11/site-packages/transformers/generation/utils.py:1258: UserWarning: Using the model-agnostic default `max_length` (=20) to control the generation length. We recommend setting `max_new_tokens` to control the maximum length of the generation.\n",
      "  warnings.warn(\n",
      "/home/user/miniforge3/envs/torch/lib/python3.11/site-packages/transformers/generation/utils.py:1258: UserWarning: Using the model-agnostic default `max_length` (=20) to control the generation length. We recommend setting `max_new_tokens` to control the maximum length of the generation.\n",
      "  warnings.warn(\n"
     ]
    }
   ],
   "source": [
    "# ver 1\n",
    "\n",
    "import os\n",
    "import gradio as gr\n",
    "from PIL import Image\n",
    "import torch\n",
    "from transformers import TrOCRProcessor, VisionEncoderDecoderModel\n",
    "\n",
    "class TrOCRInferencer:\n",
    "    def __init__(self):\n",
    "        print(\"[info] init TrOCR Inferencer\")\n",
    "        # 한글 손글씨 인식용 모델 및 프로세서 로드\n",
    "        self.processor = TrOCRProcessor.from_pretrained(\"team-lucid/trocr-small-korean\")\n",
    "        self.model = VisionEncoderDecoderModel.from_pretrained(\"team-lucid/trocr-small-korean\")\n",
    "        \n",
    "    def inference(self, image):\n",
    "        # 이미지를 모델에 맞게 전처리\n",
    "        pixel_values = self.processor(images=image, return_tensors='pt').pixel_values\n",
    "        generated_ids = self.model.generate(pixel_values)\n",
    "        generated_text = self.processor.batch_decode(generated_ids, skip_special_tokens=True)[0]\n",
    "        \n",
    "        return generated_text\n",
    "\n",
    "inferencer = TrOCRInferencer()\n",
    "\n",
    "def image_to_text(image):\n",
    "    image = Image.fromarray(image).convert('RGB')  # 이미지를 RGB로 변환\n",
    "    text = inferencer.inference(image)  # 텍스트 인식\n",
    "    return text\n",
    "\n",
    "# Gradio 앱 구성\n",
    "with gr.Blocks() as app:\n",
    "    gr.Markdown(\"# Handwritten Image OCR\")\n",
    "\n",
    "    with gr.Tab(\"Image upload\"):\n",
    "        image = gr.Image(label=\"Handwritten image file\")\n",
    "        output = gr.Textbox(label=\"Output Box\")\n",
    "        convert_btn = gr.Button(\"Convert\")\n",
    "        convert_btn.click(fn=image_to_text, inputs=image, outputs=output)\n",
    "\n",
    "    with gr.Tab(\"Drawing\"):\n",
    "        gr.Markdown(\"# Handwritten Image OCR\")\n",
    "        sketchpad = gr.Sketchpad(\n",
    "            label=\"Handwritten Sketchpad\",\n",
    "            shape=(600, 300),\n",
    "            brush_radius=3,\n",
    "            invert_colors=False,\n",
    "        )\n",
    "        output = gr.Textbox(label=\"Output Box\")\n",
    "        convert_btn = gr.Button(\"Convert\")\n",
    "        convert_btn.click(fn=image_to_text, inputs=sketchpad, outputs=output)\n",
    "\n",
    "# Gradio 앱 실행\n",
    "app.launch(inline=False, share=True)\n"
   ]
  },
  {
   "cell_type": "code",
   "execution_count": 6,
   "id": "56f272dd",
   "metadata": {},
   "outputs": [
    {
     "name": "stdout",
     "output_type": "stream",
     "text": [
      "Closing server running on port: 7870\n"
     ]
    }
   ],
   "source": [
    "app.close()"
   ]
  },
  {
   "cell_type": "markdown",
   "id": "f005bfd4",
   "metadata": {},
   "source": [
    "### ver 1 결과 \n",
    "small 은 너무 작아서 한글 인식을 못한다. "
   ]
  },
  {
   "cell_type": "code",
   "execution_count": null,
   "id": "f9f52c1e",
   "metadata": {},
   "outputs": [],
   "source": []
  },
  {
   "cell_type": "code",
   "execution_count": 7,
   "id": "720cabdf",
   "metadata": {},
   "outputs": [
    {
     "name": "stdout",
     "output_type": "stream",
     "text": [
      "[info] init TrOCR Inferencer\n"
     ]
    },
    {
     "name": "stderr",
     "output_type": "stream",
     "text": [
      "/home/user/miniforge3/envs/torch/lib/python3.11/site-packages/transformers/tokenization_utils_base.py:1601: FutureWarning: `clean_up_tokenization_spaces` was not set. It will be set to `True` by default. This behavior will be depracted in transformers v4.45, and will be then set to `False` by default. For more details check this issue: https://github.com/huggingface/transformers/issues/31884\n",
      "  warnings.warn(\n"
     ]
    },
    {
     "name": "stdout",
     "output_type": "stream",
     "text": [
      "Running on local URL:  http://127.0.0.1:7870\n",
      "IMPORTANT: You are using gradio version 3.40.0, however version 4.29.0 is available, please upgrade.\n",
      "--------\n",
      "Running on public URL: https://31d371264755938028.gradio.live\n",
      "\n",
      "This share link expires in 72 hours. For free permanent hosting and GPU upgrades, run `gradio deploy` from Terminal to deploy to Spaces (https://huggingface.co/spaces)\n"
     ]
    },
    {
     "data": {
      "text/plain": []
     },
     "execution_count": 7,
     "metadata": {},
     "output_type": "execute_result"
    }
   ],
   "source": [
    "# ver 2\n",
    "\n",
    "import gradio as gr\n",
    "from transformers import TrOCRProcessor, VisionEncoderDecoderModel, AutoTokenizer\n",
    "import unicodedata\n",
    "from PIL import Image\n",
    "\n",
    "class TrOCRInferencer:\n",
    "    def __init__(self):\n",
    "        print(\"[info] init TrOCR Inferencer\")\n",
    "        # 한글 손글씨 인식용 모델, 프로세서, 토크나이저 로드\n",
    "        self.processor = TrOCRProcessor.from_pretrained(\"ddobokki/ko-trocr\")\n",
    "        self.model = VisionEncoderDecoderModel.from_pretrained(\"ddobokki/ko-trocr\")\n",
    "        self.tokenizer = AutoTokenizer.from_pretrained(\"ddobokki/ko-trocr\")\n",
    "        \n",
    "    def inference(self, image):\n",
    "        # 이미지를 모델에 맞게 전처리\n",
    "        pixel_values = self.processor(image, return_tensors=\"pt\").pixel_values\n",
    "        generated_ids = self.model.generate(pixel_values, max_length=64)\n",
    "        generated_text = self.tokenizer.batch_decode(generated_ids, skip_special_tokens=True)[0]\n",
    "        generated_text = unicodedata.normalize(\"NFC\", generated_text)  # 한글 정규화 처리\n",
    "        return generated_text\n",
    "\n",
    "# TrOCR Inferencer 인스턴스 생성\n",
    "inferencer = TrOCRInferencer()\n",
    "\n",
    "# 이미지에서 텍스트를 추출하는 함수\n",
    "def image_to_text(image):\n",
    "    image = Image.fromarray(image).convert('RGB')  # 이미지를 RGB로 변환\n",
    "    text = inferencer.inference(image)  # 텍스트 인식\n",
    "    return text\n",
    "\n",
    "# Gradio 앱 구성\n",
    "with gr.Blocks() as app:\n",
    "    gr.Markdown(\"# Handwritten Korean OCR\")\n",
    "\n",
    "    with gr.Tab(\"Image upload\"):\n",
    "        image = gr.Image(label=\"Handwritten image file\")\n",
    "        output = gr.Textbox(label=\"Output Box\")\n",
    "        convert_btn = gr.Button(\"Convert\")\n",
    "        convert_btn.click(fn=image_to_text, inputs=image, outputs=output)\n",
    "\n",
    "    with gr.Tab(\"Drawing\"):\n",
    "        gr.Markdown(\"# Handwritten Image OCR\")\n",
    "        sketchpad = gr.Sketchpad(\n",
    "            label=\"Handwritten Sketchpad\",\n",
    "            shape=(600, 300),\n",
    "            brush_radius=3,\n",
    "            invert_colors=False,\n",
    "        )\n",
    "        output = gr.Textbox(label=\"Output Box\")\n",
    "        convert_btn = gr.Button(\"Convert\")\n",
    "        convert_btn.click(fn=image_to_text, inputs=sketchpad, outputs=output)\n",
    "\n",
    "# Gradio 앱 실행\n",
    "app.launch(inline=False, share=True)\n"
   ]
  },
  {
   "cell_type": "code",
   "execution_count": null,
   "id": "1aec59cf",
   "metadata": {},
   "outputs": [],
   "source": [
    "app.close()"
   ]
  },
  {
   "cell_type": "markdown",
   "id": "01400f47",
   "metadata": {},
   "source": [
    "### ver 2 결과 \n",
    "오히려 large 로 하니깐 한글 인식이 잘된다. "
   ]
  },
  {
   "cell_type": "code",
   "execution_count": null,
   "id": "5a5802fc",
   "metadata": {},
   "outputs": [],
   "source": []
  }
 ],
 "metadata": {
  "kernelspec": {
   "display_name": "Python 3 (ipykernel)",
   "language": "python",
   "name": "python3"
  },
  "language_info": {
   "codemirror_mode": {
    "name": "ipython",
    "version": 3
   },
   "file_extension": ".py",
   "mimetype": "text/x-python",
   "name": "python",
   "nbconvert_exporter": "python",
   "pygments_lexer": "ipython3",
   "version": "3.11.10"
  }
 },
 "nbformat": 4,
 "nbformat_minor": 5
}
